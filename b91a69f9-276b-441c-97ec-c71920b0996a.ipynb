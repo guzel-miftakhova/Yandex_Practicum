{
 "cells": [
  {
   "cell_type": "markdown",
   "metadata": {},
   "source": [
    "### Инструкция по выполнению проекта:\n",
    "\n",
    "Вы - маркетинговый аналитик развлекательного приложения Procrastinate Pro+. Несколько прошлых месяцев ваш бизнес постоянно нес убытки - в привлечение пользователей была вложена куча денег, а толку никакого. Вам нужно разобраться в причинах этой ситуации.\n",
    "\n",
    "У вас в распоряжении есть лог сервера с данными о посещениях приложения новыми пользователями, зарегистрировавшимися в период с 2019-05-01 по 2019-10-27, выгрузка их покупок за этот период, а также статистика рекламных расходов. Вам предстоит изучить, как люди пользуются продуктом, когда они начинают покупать, сколько денег приносит каждый клиент, когда он окупается и какие факторы отрицательно влияют на привлечение пользователей.\n",
    "\n",
    "#### Шаг 1. Загрузите данные и подготовьте их к анализу\n",
    "Загрузите данные о визитах, заказах и расходах в переменные. Оптимизируйте данные для анализа. Убедитесь, что тип данных в каждой колонке — правильный. Путь к файлам:\n",
    "\n",
    " -   /datasets/visits_info_short.csv. Скачать датасет\n",
    " -   /datasets/orders_info_short.csv. Скачать датасет\n",
    " -   /datasets/costs_info_short.csv. Скачать датасет\n",
    " \n",
    "#### Шаг 2. Задайте функции для расчета и анализа LTV, ROI, удержания и конверсии\n",
    "\n",
    "Разрешается использовать функции, с которыми вы познакомились в теоретических уроках.\n",
    "\n",
    "#### Шаг 3. Проведите исследовательский анализ данных\n",
    "\n",
    "Постройте профили пользователей. Определите минимальную и максимальную дату привлечения пользователей.\n",
    "\n",
    "Выясните:\n",
    "- Из каких стран приходят посетители? Какие страны дают больше всего платящих пользователей?\n",
    "- Какими устройствами они пользуются? С каких устройств чаще всего заходят платящие пользователи?\n",
    "- По каким рекламным каналам шло привлечение пользователей? Какие каналы приносят больше всего платящих пользователей?.\n",
    "\n",
    "#### Шаг 4. Маркетинг\n",
    "Выясните:\n",
    "\n",
    "- Сколько денег потратили? Всего / на каждый источник / по времени\n",
    "- Сколько в среднем стоило привлечение одного покупателя из каждого источника?\n",
    "\n",
    "#### Шаг 5. Оцените окупаемость рекламы для привлечения пользователей\n",
    "\n",
    "С помощью LTV и ROI:\n",
    "- Проанализируйте общую окупаемость рекламы;\n",
    "- Проанализируйте окупаемость рекламы с разбивкой по устройствам;\n",
    "- Проанализируйте окупаемость рекламы с разбивкой по странам;\n",
    "- Проанализируйте окупаемость рекламы с разбивкой по рекламным каналам.\n",
    "\n",
    "Опишите проблемы, которые вы обнаружили. Ответьте на вопросы:\n",
    "- Окупается ли реклама, направленная на привлечение пользователей в целом? \n",
    "- Какие устройства, страны и рекламные каналы могут оказывать негативное влияние на окупаемость рекламы?\n",
    "- Чем могут быть вызваны проблемы окупаемости? Изучите конверсию и удержание с разбивкой по устройствам, странам, рекламным каналам.\n",
    "\n",
    "Опишите возможные причины обнаруженных проблем и сформируйте рекомендации для рекламного отдела. При решении этого шага считайте, что вы смотрите данные 1-го ноября 2019 года и что в вашей организации принято считать, что окупаемость должна наступать не позднее, чем через 2 недели после привлечения пользователей.\n",
    "\n",
    "Подумайте, нужно ли включать в анализ органических пользователей?\n",
    "\n",
    "#### Шаг 6. Напишите выводы\n",
    "- Выделите причины неэффективности привлечения пользователей;\n",
    "- Сформируйте рекомендации для отдела маркетинга для повышения эффективности.\n",
    "\n",
    "#### Оформление: \n",
    "Задание выполните в Jupyter Notebook. Программный код заполните в ячейках типа code, текстовые пояснения — в ячейках типа markdown. Примените форматирование и заголовки.\n",
    "\n",
    "\n",
    "#### Описание данных\n",
    "Таблица visits_log_short (лог сервера с информацией о посещениях сайта):\n",
    "\n",
    "    User Id — уникальный идентификатор пользователя\n",
    "    Device — категория устройства пользователя\n",
    "    Session start — дата и время начала сессии\n",
    "    Session End — дата и время окончания сессии\n",
    "    Channel — идентификатор рекламного источника, из которого пришел пользователь\n",
    "    Region - страна пользователя\n",
    "\n",
    "Таблица orders_log_short (информация о заказах):\n",
    "\n",
    "    User Id — уникальный id пользователя, который сделал заказ\n",
    "    Event Dt — дата и время покупки\n",
    "    Revenue — выручка\n",
    "\n",
    "Таблица costs_short (информация о затратах на маркетинг):\n",
    "\n",
    "    Channel — идентификатор рекламного источника\n",
    "    Dt — дата\n",
    "    Costs — затраты на этот рекламный источник в этот день"
   ]
  },
  {
   "cell_type": "markdown",
   "metadata": {},
   "source": [
    "<div class=\"alert alert-block alert-info\"; style=\"border-left: 7px solid blue\">\n",
    "<b> Привет! 👋</b>\n",
    "\n",
    "</div>"
   ]
  },
  {
   "cell_type": "markdown",
   "metadata": {},
   "source": [
    "# Шаг 1. Загрузите данные и подготовьте их к анализу\n",
    "Загрузите данные о визитах, заказах и расходах в переменные. Оптимизируйте данные для анализа. Убедитесь, что тип данных в каждой колонке — правильный. Путь к файлам:\n",
    "\n",
    " -   /datasets/visits_info_short.csv. \n",
    " -   /datasets/orders_info_short.csv. \n",
    " -   /datasets/costs_info_short.csv."
   ]
  },
  {
   "cell_type": "code",
   "execution_count": 338,
   "metadata": {},
   "outputs": [],
   "source": [
    "# импорт библиотек для работы\n",
    "import pandas as pd\n",
    "import matplotlib.pyplot as plt\n",
    "import seaborn as sns\n",
    "import numpy as np\n",
    "from IPython.display import display_html \n",
    "from datetime import datetime, timedelta"
   ]
  },
  {
   "cell_type": "code",
   "execution_count": 339,
   "metadata": {},
   "outputs": [],
   "source": [
    "# загрузка данных с переменные\n",
    "visits, orders, costs = (\n",
    "    pd.read_csv('/datasets/visits_info_short.csv'),\n",
    "    pd.read_csv('/datasets/orders_info_short.csv'),\n",
    "    pd.read_csv('/datasets/costs_info_short.csv')\n",
    ")"
   ]
  },
  {
   "cell_type": "code",
   "execution_count": 340,
   "metadata": {},
   "outputs": [
    {
     "data": {
      "text/html": [
       "<div>\n",
       "<style scoped>\n",
       "    .dataframe tbody tr th:only-of-type {\n",
       "        vertical-align: middle;\n",
       "    }\n",
       "\n",
       "    .dataframe tbody tr th {\n",
       "        vertical-align: top;\n",
       "    }\n",
       "\n",
       "    .dataframe thead th {\n",
       "        text-align: right;\n",
       "    }\n",
       "</style>\n",
       "<table border=\"1\" class=\"dataframe\">\n",
       "  <thead>\n",
       "    <tr style=\"text-align: right;\">\n",
       "      <th></th>\n",
       "      <th>User Id</th>\n",
       "      <th>Region</th>\n",
       "      <th>Device</th>\n",
       "      <th>Channel</th>\n",
       "      <th>Session Start</th>\n",
       "      <th>Session End</th>\n",
       "    </tr>\n",
       "  </thead>\n",
       "  <tbody>\n",
       "    <tr>\n",
       "      <th>0</th>\n",
       "      <td>981449118918</td>\n",
       "      <td>United States</td>\n",
       "      <td>iPhone</td>\n",
       "      <td>organic</td>\n",
       "      <td>2019-05-01 02:36:01</td>\n",
       "      <td>2019-05-01 02:45:01</td>\n",
       "    </tr>\n",
       "    <tr>\n",
       "      <th>1</th>\n",
       "      <td>278965908054</td>\n",
       "      <td>United States</td>\n",
       "      <td>iPhone</td>\n",
       "      <td>organic</td>\n",
       "      <td>2019-05-01 04:46:31</td>\n",
       "      <td>2019-05-01 04:47:35</td>\n",
       "    </tr>\n",
       "    <tr>\n",
       "      <th>2</th>\n",
       "      <td>590706206550</td>\n",
       "      <td>United States</td>\n",
       "      <td>Mac</td>\n",
       "      <td>organic</td>\n",
       "      <td>2019-05-01 14:09:25</td>\n",
       "      <td>2019-05-01 15:32:08</td>\n",
       "    </tr>\n",
       "    <tr>\n",
       "      <th>3</th>\n",
       "      <td>326433527971</td>\n",
       "      <td>United States</td>\n",
       "      <td>Android</td>\n",
       "      <td>TipTop</td>\n",
       "      <td>2019-05-01 00:29:59</td>\n",
       "      <td>2019-05-01 00:54:25</td>\n",
       "    </tr>\n",
       "    <tr>\n",
       "      <th>4</th>\n",
       "      <td>349773784594</td>\n",
       "      <td>United States</td>\n",
       "      <td>Mac</td>\n",
       "      <td>organic</td>\n",
       "      <td>2019-05-01 03:33:35</td>\n",
       "      <td>2019-05-01 03:57:40</td>\n",
       "    </tr>\n",
       "  </tbody>\n",
       "</table>\n",
       "</div>"
      ],
      "text/plain": [
       "        User Id         Region   Device  Channel        Session Start  \\\n",
       "0  981449118918  United States   iPhone  organic  2019-05-01 02:36:01   \n",
       "1  278965908054  United States   iPhone  organic  2019-05-01 04:46:31   \n",
       "2  590706206550  United States      Mac  organic  2019-05-01 14:09:25   \n",
       "3  326433527971  United States  Android   TipTop  2019-05-01 00:29:59   \n",
       "4  349773784594  United States      Mac  organic  2019-05-01 03:33:35   \n",
       "\n",
       "           Session End  \n",
       "0  2019-05-01 02:45:01  \n",
       "1  2019-05-01 04:47:35  \n",
       "2  2019-05-01 15:32:08  \n",
       "3  2019-05-01 00:54:25  \n",
       "4  2019-05-01 03:57:40  "
      ]
     },
     "metadata": {},
     "output_type": "display_data"
    },
    {
     "data": {
      "text/html": [
       "<div>\n",
       "<style scoped>\n",
       "    .dataframe tbody tr th:only-of-type {\n",
       "        vertical-align: middle;\n",
       "    }\n",
       "\n",
       "    .dataframe tbody tr th {\n",
       "        vertical-align: top;\n",
       "    }\n",
       "\n",
       "    .dataframe thead th {\n",
       "        text-align: right;\n",
       "    }\n",
       "</style>\n",
       "<table border=\"1\" class=\"dataframe\">\n",
       "  <thead>\n",
       "    <tr style=\"text-align: right;\">\n",
       "      <th></th>\n",
       "      <th>User Id</th>\n",
       "      <th>Event Dt</th>\n",
       "      <th>Revenue</th>\n",
       "    </tr>\n",
       "  </thead>\n",
       "  <tbody>\n",
       "    <tr>\n",
       "      <th>0</th>\n",
       "      <td>188246423999</td>\n",
       "      <td>2019-05-01 23:09:52</td>\n",
       "      <td>4.99</td>\n",
       "    </tr>\n",
       "    <tr>\n",
       "      <th>1</th>\n",
       "      <td>174361394180</td>\n",
       "      <td>2019-05-01 12:24:04</td>\n",
       "      <td>4.99</td>\n",
       "    </tr>\n",
       "    <tr>\n",
       "      <th>2</th>\n",
       "      <td>529610067795</td>\n",
       "      <td>2019-05-01 11:34:04</td>\n",
       "      <td>4.99</td>\n",
       "    </tr>\n",
       "    <tr>\n",
       "      <th>3</th>\n",
       "      <td>319939546352</td>\n",
       "      <td>2019-05-01 15:34:40</td>\n",
       "      <td>4.99</td>\n",
       "    </tr>\n",
       "    <tr>\n",
       "      <th>4</th>\n",
       "      <td>366000285810</td>\n",
       "      <td>2019-05-01 13:59:51</td>\n",
       "      <td>4.99</td>\n",
       "    </tr>\n",
       "  </tbody>\n",
       "</table>\n",
       "</div>"
      ],
      "text/plain": [
       "        User Id             Event Dt  Revenue\n",
       "0  188246423999  2019-05-01 23:09:52     4.99\n",
       "1  174361394180  2019-05-01 12:24:04     4.99\n",
       "2  529610067795  2019-05-01 11:34:04     4.99\n",
       "3  319939546352  2019-05-01 15:34:40     4.99\n",
       "4  366000285810  2019-05-01 13:59:51     4.99"
      ]
     },
     "metadata": {},
     "output_type": "display_data"
    },
    {
     "data": {
      "text/html": [
       "<div>\n",
       "<style scoped>\n",
       "    .dataframe tbody tr th:only-of-type {\n",
       "        vertical-align: middle;\n",
       "    }\n",
       "\n",
       "    .dataframe tbody tr th {\n",
       "        vertical-align: top;\n",
       "    }\n",
       "\n",
       "    .dataframe thead th {\n",
       "        text-align: right;\n",
       "    }\n",
       "</style>\n",
       "<table border=\"1\" class=\"dataframe\">\n",
       "  <thead>\n",
       "    <tr style=\"text-align: right;\">\n",
       "      <th></th>\n",
       "      <th>dt</th>\n",
       "      <th>Channel</th>\n",
       "      <th>costs</th>\n",
       "    </tr>\n",
       "  </thead>\n",
       "  <tbody>\n",
       "    <tr>\n",
       "      <th>0</th>\n",
       "      <td>2019-05-01</td>\n",
       "      <td>FaceBoom</td>\n",
       "      <td>113.3</td>\n",
       "    </tr>\n",
       "    <tr>\n",
       "      <th>1</th>\n",
       "      <td>2019-05-02</td>\n",
       "      <td>FaceBoom</td>\n",
       "      <td>78.1</td>\n",
       "    </tr>\n",
       "    <tr>\n",
       "      <th>2</th>\n",
       "      <td>2019-05-03</td>\n",
       "      <td>FaceBoom</td>\n",
       "      <td>85.8</td>\n",
       "    </tr>\n",
       "    <tr>\n",
       "      <th>3</th>\n",
       "      <td>2019-05-04</td>\n",
       "      <td>FaceBoom</td>\n",
       "      <td>136.4</td>\n",
       "    </tr>\n",
       "    <tr>\n",
       "      <th>4</th>\n",
       "      <td>2019-05-05</td>\n",
       "      <td>FaceBoom</td>\n",
       "      <td>122.1</td>\n",
       "    </tr>\n",
       "  </tbody>\n",
       "</table>\n",
       "</div>"
      ],
      "text/plain": [
       "           dt   Channel  costs\n",
       "0  2019-05-01  FaceBoom  113.3\n",
       "1  2019-05-02  FaceBoom   78.1\n",
       "2  2019-05-03  FaceBoom   85.8\n",
       "3  2019-05-04  FaceBoom  136.4\n",
       "4  2019-05-05  FaceBoom  122.1"
      ]
     },
     "execution_count": 340,
     "metadata": {},
     "output_type": "execute_result"
    }
   ],
   "source": [
    "# знакомство с данными\n",
    "display(visits.head())\n",
    "display(orders.head())\n",
    "costs.head()"
   ]
  },
  {
   "cell_type": "markdown",
   "metadata": {},
   "source": [
    "**Описание данных**\n",
    "\n",
    "В нашем распоряжении три датасета.\n"
   ]
  },
  {
   "cell_type": "code",
   "execution_count": 341,
   "metadata": {},
   "outputs": [
    {
     "name": "stdout",
     "output_type": "stream",
     "text": [
      "<class 'pandas.core.frame.DataFrame'>\n",
      "RangeIndex: 309901 entries, 0 to 309900\n",
      "Data columns (total 6 columns):\n",
      " #   Column         Non-Null Count   Dtype \n",
      "---  ------         --------------   ----- \n",
      " 0   User Id        309901 non-null  int64 \n",
      " 1   Region         309901 non-null  object\n",
      " 2   Device         309901 non-null  object\n",
      " 3   Channel        309901 non-null  object\n",
      " 4   Session Start  309901 non-null  object\n",
      " 5   Session End    309901 non-null  object\n",
      "dtypes: int64(1), object(5)\n",
      "memory usage: 14.2+ MB\n"
     ]
    }
   ],
   "source": [
    "visits.info()"
   ]
  },
  {
   "cell_type": "markdown",
   "metadata": {},
   "source": [
    "**1.** Таблица `visits` хранит лог сервера с информацией о посещениях сайта (6 столбцов и 309901 строка, типы данных по столбцам: int64(1), object(5)):\n",
    "* `User Id` — уникальный идентификатор пользователя,\n",
    "* `Region` — страна пользователя,\n",
    "* `Device` — тип устройства пользователя,\n",
    "* `Channel` — идентификатор источника перехода,\n",
    "* `Session Start` — дата и время начала сессии,\n",
    "* `Session End` — дата и время окончания сессии."
   ]
  },
  {
   "cell_type": "code",
   "execution_count": 342,
   "metadata": {},
   "outputs": [
    {
     "name": "stdout",
     "output_type": "stream",
     "text": [
      "<class 'pandas.core.frame.DataFrame'>\n",
      "RangeIndex: 40212 entries, 0 to 40211\n",
      "Data columns (total 3 columns):\n",
      " #   Column    Non-Null Count  Dtype  \n",
      "---  ------    --------------  -----  \n",
      " 0   User Id   40212 non-null  int64  \n",
      " 1   Event Dt  40212 non-null  object \n",
      " 2   Revenue   40212 non-null  float64\n",
      "dtypes: float64(1), int64(1), object(1)\n",
      "memory usage: 942.6+ KB\n"
     ]
    }
   ],
   "source": [
    "orders.info()"
   ]
  },
  {
   "cell_type": "markdown",
   "metadata": {},
   "source": [
    "**2.**  Таблица `orders` — информацию о покупках (3 столбца и 40212 строк, типы данных по столбцам: float64(1), int64(1), object(1)):\n",
    "* `User Id` — уникальный идентификатор пользователя,\n",
    "* `Event Dt` — дата и время покупки,\n",
    "* `Revenue` — сумма заказа."
   ]
  },
  {
   "cell_type": "code",
   "execution_count": 343,
   "metadata": {},
   "outputs": [
    {
     "name": "stdout",
     "output_type": "stream",
     "text": [
      "<class 'pandas.core.frame.DataFrame'>\n",
      "RangeIndex: 1800 entries, 0 to 1799\n",
      "Data columns (total 3 columns):\n",
      " #   Column   Non-Null Count  Dtype  \n",
      "---  ------   --------------  -----  \n",
      " 0   dt       1800 non-null   object \n",
      " 1   Channel  1800 non-null   object \n",
      " 2   costs    1800 non-null   float64\n",
      "dtypes: float64(1), object(2)\n",
      "memory usage: 42.3+ KB\n"
     ]
    }
   ],
   "source": [
    "costs.info()"
   ]
  },
  {
   "cell_type": "markdown",
   "metadata": {},
   "source": [
    "**3.** Таблица `costs` — информацию о расходах на рекламу (30 столбца и 1800 строк, типы данных по столбцам:  float64(1), object(2)):\n",
    "* `Channel` — идентификатор рекламного источника,\n",
    "* `Dt` — дата проведения рекламной кампании,\n",
    "* `Costs` — расходы на эту кампанию."
   ]
  },
  {
   "cell_type": "markdown",
   "metadata": {},
   "source": [
    "Пропущенных значений в таблицах нет.\n",
    "\n",
    "Все названия столбцов нужно привести к одному регистру и общему стилю.\n",
    "\n",
    "Также в таблицах есть столбцы, содержащие данные о датах и времени покупки, проведения рекламной компании, начала/окончаниея сессии, но тип данных `object`, заменим его на `datetime`."
   ]
  },
  {
   "cell_type": "code",
   "execution_count": 344,
   "metadata": {},
   "outputs": [],
   "source": [
    "# приведение столбцов к нижнему регистру\n",
    "visits.columns = visits.columns.str.lower()\n",
    "orders.columns = orders.columns.str.lower()\n",
    "costs.columns = costs.columns.str.lower()"
   ]
  },
  {
   "cell_type": "code",
   "execution_count": 345,
   "metadata": {},
   "outputs": [],
   "source": [
    "# переименование столбцов\n",
    "visits = visits.rename(\n",
    "    columns={\n",
    "        'user id': 'user_id',\n",
    "        'session start': 'session_start',\n",
    "        'session end': 'session_end'\n",
    "    }\n",
    ")\n",
    "orders = orders.rename(\n",
    "    columns={\n",
    "        'user id': 'user_id',\n",
    "        'event dt': 'event_dt'\n",
    "    }\n",
    ")"
   ]
  },
  {
   "cell_type": "code",
   "execution_count": 346,
   "metadata": {},
   "outputs": [],
   "source": [
    "# преобразование данных о времени\n",
    "costs['dt'] = pd.to_datetime(costs['dt'])\n",
    "visits['session_end'] = pd.to_datetime(visits['session_end'])\n",
    "visits['session_start'] = pd.to_datetime(visits['session_start'])\n",
    "orders['event_dt'] = pd.to_datetime(orders['event_dt'])"
   ]
  },
  {
   "cell_type": "code",
   "execution_count": 347,
   "metadata": {},
   "outputs": [],
   "source": [
    "#приведение значений в котегориальных столбцах к общему регистру для проверки на дубликаты\n",
    "list = ['region', 'device', 'channel']\n",
    "for col in visits:\n",
    "    if col in list:\n",
    "        visits[col] = visits[col].str.lower()\n",
    "\n",
    "costs['channel'] = costs['channel'].str.lower()"
   ]
  },
  {
   "cell_type": "code",
   "execution_count": 348,
   "metadata": {},
   "outputs": [
    {
     "name": "stdout",
     "output_type": "stream",
     "text": [
      "0\n",
      "0\n"
     ]
    },
    {
     "data": {
      "text/plain": [
       "0"
      ]
     },
     "execution_count": 348,
     "metadata": {},
     "output_type": "execute_result"
    }
   ],
   "source": [
    "#проверка на дубликаты\n",
    "print(visits.duplicated().sum())\n",
    "print(costs.duplicated().sum())\n",
    "orders.duplicated().sum()"
   ]
  },
  {
   "cell_type": "markdown",
   "metadata": {},
   "source": [
    "# Шаг 2. Задайте функции для расчета и анализа LTV, ROI, удержания и конверсии\n",
    "\n",
    "Разрешается использовать функции, с которыми вы познакомились в теоретических уроках."
   ]
  },
  {
   "cell_type": "markdown",
   "metadata": {},
   "source": [
    "**2.1. Пользовательский профиль**"
   ]
  },
  {
   "cell_type": "code",
   "execution_count": 349,
   "metadata": {
    "scrolled": true
   },
   "outputs": [],
   "source": [
    "# функция для создания пользовательских профилей\n",
    "def get_profiles(visits, orders, costs):\n",
    "\n",
    "    # сортируем сессии по ID пользователя и дате привлечения\n",
    "    # группируем по ID и находим параметры первых посещений\n",
    "    profiles = (\n",
    "        visits.sort_values(by=['user_id', 'session_start'])\n",
    "        .groupby('user_id')\n",
    "        .agg(\n",
    "            {\n",
    "                'session_start': 'first',\n",
    "                'channel': 'first',\n",
    "                'device': 'first',\n",
    "                'region': 'first',\n",
    "            }\n",
    "        )\n",
    "         # время первого посещения назовём first_ts\n",
    "        .rename(columns={'session_start': 'first_ts'})\n",
    "        .reset_index()  # возвращаем user_id из индекса\n",
    "    )\n",
    "    # для когортного анализа определяем дату первого посещения\n",
    "    # и первый день месяца, в который это посещение произошло\n",
    "    profiles['dt'] = profiles['first_ts'].dt.date\n",
    "    profiles['dt']  = pd.to_datetime(profiles['dt'])\n",
    "    profiles['month'] = profiles['first_ts'].astype('datetime64[M]')\n",
    "\n",
    "    # добавляем признак платящих пользователей (проверка, есть ли id пользователей из profiles в orders)\n",
    "    profiles['payer'] = profiles['user_id'].isin(orders['user_id'].unique())\n",
    "\n",
    "    # считаем количество уникальных пользователей с одинаковыми источником и датой привлечения\n",
    "    new_users = (\n",
    "        profiles.groupby(['dt', 'channel'])\n",
    "        .agg({'user_id': 'nunique'})\n",
    "         # столбец с числом пользователей назовём unique_users\n",
    "        .rename(columns={'user_id': 'unique_users'})\n",
    "        .reset_index()  # возвращаем dt и channel из индексов\n",
    "    )\n",
    "    # объединяем траты на рекламу и число привлечённых пользователей по дате и каналу привлечения\n",
    "    costs = costs.merge(new_users, on=['dt', 'channel'], how='left')\n",
    "\n",
    "    # делим рекламные расходы на число привлечённых пользователей результаты сохраним в столбец acq_cost (CAC)\n",
    "    costs['acq_cost'] = costs['costs'] / costs['unique_users']\n",
    "\n",
    "    # добавим стоимость привлечения в профили\n",
    "    profiles = profiles.merge(\n",
    "        costs[['dt', 'channel', 'acq_cost']],\n",
    "        on=['dt', 'channel'],\n",
    "        how='left',\n",
    "    )\n",
    "    # органические пользователи не связаны с данными о рекламе, поэтому в столбце acq_cost\n",
    "    # у них значения NaN заменим их на ноль, ведь стоимость привлечения равна нулю\n",
    "    \n",
    "    profiles['acq_cost'] = profiles['acq_cost'].fillna(0)\n",
    "    \n",
    "    # возвращаем профили с CAC\n",
    "    return profiles"
   ]
  },
  {
   "cell_type": "markdown",
   "metadata": {},
   "source": [
    "**2.2. Retention Rate**"
   ]
  },
  {
   "cell_type": "code",
   "execution_count": 350,
   "metadata": {},
   "outputs": [],
   "source": [
    "# функция для расчета удержания\n",
    "def get_retention(profiles, sessions, observ_date, horizon_days, ignore_horizon=False):\n",
    "\n",
    "    # исключаем пользователей, не «доживших» до горизонта анализа\n",
    "    last_suitable_acquisition_date = observ_date\n",
    "    if not ignore_horizon:\n",
    "        last_suitable_acquisition_date = observ_date - timedelta(\n",
    "            days=horizon_days - 1\n",
    "        )\n",
    "    result_raw = profiles.query('dt <= @last_suitable_acquisition_date')\n",
    "\n",
    "    # собираем «сырые» данные для расчёта удержания\n",
    "    result_raw = profiles.merge(\n",
    "    visits[['user_id', 'session_start']], on='user_id', how='left'\n",
    "    )\n",
    "    result_raw['lifetime'] = (\n",
    "    result_raw['session_start'] - result_raw['first_ts']\n",
    "    ).dt.days\n",
    "\n",
    "    # рассчитываем удержание\n",
    "    result_grouped = result_raw.pivot_table(\n",
    "        index=['dt'], columns='lifetime', values='user_id', aggfunc='nunique'\n",
    "    )\n",
    "    cohort_sizes = (\n",
    "        result_raw.groupby('dt')\n",
    "        .agg({'user_id': 'nunique'})\n",
    "        .rename(columns={'user_id': 'cohort_size'})\n",
    "    )\n",
    "    result_grouped = cohort_sizes.merge(\n",
    "        result_grouped, on='dt', how='left'\n",
    "    ).fillna(0)\n",
    "    result_grouped = result_grouped.div(result_grouped['cohort_size'], axis=0)\n",
    "\n",
    "    # исключаем все лайфтаймы, превышающие горизонт анализа\n",
    "    result_grouped = result_grouped[\n",
    "        ['cohort_size'] + list(range(horizon_days))\n",
    "    ]\n",
    "    # восстанавливаем столбец с размерами когорт\n",
    "    result_grouped['cohort_size'] = cohort_sizes\n",
    "\n",
    "    # возвращаем таблицу удержания и сырые данные\n",
    "    # сырые данные пригодятся, если нужно будет отыскать ошибку в расчётах\n",
    "    return result_raw, result_grouped"
   ]
  },
  {
   "cell_type": "markdown",
   "metadata": {},
   "source": [
    "**2.3. Conversion Rate**"
   ]
  },
  {
   "cell_type": "code",
   "execution_count": 351,
   "metadata": {},
   "outputs": [],
   "source": [
    "# функция для расчета конверсии\n",
    "def get_conversion(profiles, orders, observ_date, horizon_days, dimensions=[], ignore_horizon=False):\n",
    "\n",
    "    # исключаем пользователей, не «доживших» до горизонта анализа\n",
    "    last_suitable_acquisition_date = observ_date\n",
    "    if not ignore_horizon:\n",
    "        last_suitable_acquisition_date = observn_date - timedelta(\n",
    "            days=horizon_days - 1\n",
    "        )\n",
    "    result_raw = profiles.query('dt <= @last_suitable_acquisition_date')\n",
    "\n",
    "    # находим дату и время первой покупки для каждого пользователя\n",
    "    first_orders = (\n",
    "        orders.sort_values(by=['user_id', 'event_dt'])\n",
    "        .groupby('user_id')\n",
    "        .agg({'event_dt': 'first'})\n",
    "        .reset_index()\n",
    "    )\n",
    "    # добавляем данные о покупках в профили\n",
    "    result_raw = result_raw.merge(\n",
    "        first_orders[['user_id', 'event_dt']], on='user_id', how='left'\n",
    "    )\n",
    "    # рассчитываем лайфтайм для каждой покупки\n",
    "    result_raw['lifetime'] = (\n",
    "        result_raw['event_dt'] - result_raw['first_ts']\n",
    "    ).dt.days\n",
    "\n",
    "    # функция для группировки таблицы по желаемым признакам\n",
    "    def group_by_dimensions(df, dims, horizon_days):\n",
    "\n",
    "        # строим таблицу конверсии\n",
    "        result = df.pivot_table(\n",
    "            index=dims, columns='lifetime', values='user_id', aggfunc='nunique'\n",
    "        )\n",
    "        # считаем сумму с накоплением для каждой строки\n",
    "        result = result.fillna(0).cumsum(axis = 1)\n",
    "\n",
    "        # вычисляем размеры когорт\n",
    "        cohort_sizes = (\n",
    "            df.groupby(dims)\n",
    "            .agg({'user_id': 'nunique'})\n",
    "            .rename(columns={'user_id': 'cohort_size'})\n",
    "        )\n",
    "        # объединяем таблицы размеров когорт и конверсии\n",
    "        result = cohort_sizes.merge(result, on=dims, how='left').fillna(0)\n",
    "\n",
    "        # разделим каждую «ячейку» в строке на размер когорты\n",
    "        result = result.div(result['cohort_size'], axis=0)\n",
    "\n",
    "        # исключаем все лайфтаймы, превышающие горизонт анализа\n",
    "        result = result[['cohort_size'] + list(range(horizon_days))]\n",
    "        # восстанавливаем размеры когорт\n",
    "        result['cohort_size'] = cohort_sizes\n",
    "        return result\n",
    "\n",
    "    # получаем таблицу конверсии\n",
    "    result_grouped = group_by_dimensions(result_raw, dimensions, horizon_days)\n",
    "\n",
    "    # получаем таблицу динамики конверсии\n",
    "    result_in_time = group_by_dimensions(\n",
    "        result_raw, dimensions + ['dt'], horizon_days\n",
    "    )\n",
    "    # возвращаем обе таблицы и сырые данные\n",
    "    return result_raw, result_grouped, result_in_time  "
   ]
  },
  {
   "cell_type": "markdown",
   "metadata": {},
   "source": [
    "**2.4. LTV, CAC, ROI**"
   ]
  },
  {
   "cell_type": "code",
   "execution_count": 366,
   "metadata": {},
   "outputs": [],
   "source": [
    "def get_ltv_roi(profiles, orders, observ_date, horizon_days, dimensions=[], ignore_horizon=False):\n",
    "\n",
    "    # исключаем пользователей, не «доживших» до горизонта анализа\n",
    "    last_suitable_acquisition_date = observ_date\n",
    "    if not ignore_horizon:\n",
    "        last_suitable_acquisition_date = observ_date - timedelta(\n",
    "            days=horizon_days - 1\n",
    "        )\n",
    "    result_raw = profiles.query('dt <= @last_suitable_acquisition_date')\n",
    "    \n",
    "    # добавляем данные о покупках в профили\n",
    "    result_raw = result_raw.merge(\n",
    "        orders[['user_id', 'event_dt', 'revenue']], on='user_id', how='left'\n",
    "    )\n",
    "    # рассчитываем лайфтайм пользователя для каждой покупки\n",
    "    result_raw['lifetime'] = (\n",
    "        result_raw['event_dt'] - result_raw['first_ts']\n",
    "    ).dt.days\n",
    "    \n",
    "    # группируем по cohort, если в dimensions ничего нет\n",
    "    if len(dimensions) == 0:\n",
    "        result_raw['cohort'] = 'All users'\n",
    "        dimensions = dimensions + ['cohort']\n",
    "\n",
    "    # функция группировки по желаемым признакам\n",
    "    def group_by_dimensions(df, dims, horizon_days):\n",
    "        \n",
    "        # строим «треугольную» таблицу выручки\n",
    "        result = df.pivot_table(\n",
    "            index=dims, columns='lifetime', values='revenue', aggfunc='sum'\n",
    "        )\n",
    "        # находим сумму выручки с накоплением\n",
    "        result = result.fillna(0).cumsum(axis=1)\n",
    "        \n",
    "        # вычисляем размеры когорт\n",
    "        cohort_sizes = (\n",
    "            df.groupby(dims)\n",
    "            .agg({'user_id': 'nunique'})\n",
    "            .rename(columns={'user_id': 'cohort_size'})\n",
    "        )\n",
    "        # объединяем размеры когорт и таблицу выручки\n",
    "        result = cohort_sizes.merge(result, on=dims, how='left').fillna(0)\n",
    "        \n",
    "        # считаем LTV: делим каждую «ячейку» в строке на размер когорты\n",
    "        result = result.div(result['cohort_size'], axis=0)\n",
    "        \n",
    "        # исключаем все лайфтаймы, превышающие горизонт анализа\n",
    "        result = result[['cohort_size'] + list(range(horizon_days))]\n",
    "        \n",
    "        # восстанавливаем размеры когорт\n",
    "        result['cohort_size'] = cohort_sizes\n",
    "\n",
    "        # сохраняем в датафрейм данные пользователей и значения CAC, добавив параметры из dimensions\n",
    "        cac = df[['user_id', 'acq_cost'] + dims].drop_duplicates()\n",
    "\n",
    "        # считаем средний CAC по параметрам из dimensions\n",
    "        cac = (\n",
    "            cac.groupby(dims)\n",
    "            .agg({'acq_cost': 'mean'})\n",
    "            .rename(columns={'acq_cost': 'cac'})\n",
    "        )\n",
    "        # считаем ROI: делим LTV на CAC\n",
    "        roi = result.div(cac['cac'], axis=0)\n",
    "\n",
    "        # удаляем строки с бесконечным ROI\n",
    "        roi = roi[~roi['cohort_size'].isin([np.inf])]\n",
    "\n",
    "        # восстанавливаем размеры когорт в таблице ROI\n",
    "        roi['cohort_size'] = cohort_sizes\n",
    "\n",
    "        # добавляем CAC в таблицу ROI\n",
    "        roi['cac'] = cac['cac']\n",
    "\n",
    "        # в финальной таблице оставляем размеры когорт, CAC и ROI в лайфтаймы, не превышающие горизонт анализа\n",
    "        roi = roi[['cohort_size', 'cac'] + list(range(horizon_days))]\n",
    "\n",
    "        # возвращаем таблицы LTV и ROI\n",
    "        return result, roi\n",
    "\n",
    "    # получаем таблицы LTV и ROI\n",
    "    result_grouped, roi_grouped = group_by_dimensions(result_raw, dimensions, horizon_days)\n",
    "\n",
    "    # для таблиц динамики убираем 'cohort' из dimensions\n",
    "    if 'cohort' in dimensions:\n",
    "        dimensions = []\n",
    "\n",
    "    # получаем таблицы динамики LTV и ROI\n",
    "    result_in_time, roi_in_time = group_by_dimensions(\n",
    "        result_raw, dimensions + ['dt'], horizon_days\n",
    "    )\n",
    "    return (result_raw, result_grouped, result_in_time, roi_grouped, roi_in_time)"
   ]
  },
  {
   "cell_type": "markdown",
   "metadata": {},
   "source": [
    "# Шаг 3. Проведите исследовательский анализ данных\n",
    "\n",
    "Постройте профили пользователей. Определите минимальную и максимальную дату привлечения пользователей.\n",
    "\n",
    "Выясните:\n",
    "1. Из каких стран приходят посетители? Какие страны дают больше всего платящих пользователей?\n",
    "2. Какими устройствами они пользуются? С каких устройств чаще всего заходят платящие пользователи?\n",
    "3. По каким рекламным каналам шло привлечение пользователей? Какие каналы приносят больше всего платящих пользователей?"
   ]
  },
  {
   "cell_type": "code",
   "execution_count": 353,
   "metadata": {},
   "outputs": [
    {
     "data": {
      "text/html": [
       "<div>\n",
       "<style scoped>\n",
       "    .dataframe tbody tr th:only-of-type {\n",
       "        vertical-align: middle;\n",
       "    }\n",
       "\n",
       "    .dataframe tbody tr th {\n",
       "        vertical-align: top;\n",
       "    }\n",
       "\n",
       "    .dataframe thead th {\n",
       "        text-align: right;\n",
       "    }\n",
       "</style>\n",
       "<table border=\"1\" class=\"dataframe\">\n",
       "  <thead>\n",
       "    <tr style=\"text-align: right;\">\n",
       "      <th></th>\n",
       "      <th>user_id</th>\n",
       "      <th>first_ts</th>\n",
       "      <th>channel</th>\n",
       "      <th>device</th>\n",
       "      <th>region</th>\n",
       "      <th>dt</th>\n",
       "      <th>month</th>\n",
       "      <th>payer</th>\n",
       "      <th>acq_cost</th>\n",
       "    </tr>\n",
       "  </thead>\n",
       "  <tbody>\n",
       "    <tr>\n",
       "      <th>0</th>\n",
       "      <td>599326</td>\n",
       "      <td>2019-05-07 20:58:57</td>\n",
       "      <td>faceboom</td>\n",
       "      <td>mac</td>\n",
       "      <td>united states</td>\n",
       "      <td>2019-05-07</td>\n",
       "      <td>2019-05-01</td>\n",
       "      <td>True</td>\n",
       "      <td>1.088172</td>\n",
       "    </tr>\n",
       "    <tr>\n",
       "      <th>1</th>\n",
       "      <td>4919697</td>\n",
       "      <td>2019-07-09 12:46:07</td>\n",
       "      <td>faceboom</td>\n",
       "      <td>iphone</td>\n",
       "      <td>united states</td>\n",
       "      <td>2019-07-09</td>\n",
       "      <td>2019-07-01</td>\n",
       "      <td>False</td>\n",
       "      <td>1.107237</td>\n",
       "    </tr>\n",
       "    <tr>\n",
       "      <th>2</th>\n",
       "      <td>6085896</td>\n",
       "      <td>2019-10-01 09:58:33</td>\n",
       "      <td>organic</td>\n",
       "      <td>iphone</td>\n",
       "      <td>france</td>\n",
       "      <td>2019-10-01</td>\n",
       "      <td>2019-10-01</td>\n",
       "      <td>False</td>\n",
       "      <td>0.000000</td>\n",
       "    </tr>\n",
       "    <tr>\n",
       "      <th>3</th>\n",
       "      <td>22593348</td>\n",
       "      <td>2019-08-22 21:35:48</td>\n",
       "      <td>adnonsense</td>\n",
       "      <td>pc</td>\n",
       "      <td>germany</td>\n",
       "      <td>2019-08-22</td>\n",
       "      <td>2019-08-01</td>\n",
       "      <td>False</td>\n",
       "      <td>0.988235</td>\n",
       "    </tr>\n",
       "    <tr>\n",
       "      <th>4</th>\n",
       "      <td>31989216</td>\n",
       "      <td>2019-10-02 00:07:44</td>\n",
       "      <td>yrabbit</td>\n",
       "      <td>iphone</td>\n",
       "      <td>united states</td>\n",
       "      <td>2019-10-02</td>\n",
       "      <td>2019-10-01</td>\n",
       "      <td>False</td>\n",
       "      <td>0.230769</td>\n",
       "    </tr>\n",
       "  </tbody>\n",
       "</table>\n",
       "</div>"
      ],
      "text/plain": [
       "    user_id            first_ts     channel  device         region         dt  \\\n",
       "0    599326 2019-05-07 20:58:57    faceboom     mac  united states 2019-05-07   \n",
       "1   4919697 2019-07-09 12:46:07    faceboom  iphone  united states 2019-07-09   \n",
       "2   6085896 2019-10-01 09:58:33     organic  iphone         france 2019-10-01   \n",
       "3  22593348 2019-08-22 21:35:48  adnonsense      pc        germany 2019-08-22   \n",
       "4  31989216 2019-10-02 00:07:44     yrabbit  iphone  united states 2019-10-02   \n",
       "\n",
       "       month  payer  acq_cost  \n",
       "0 2019-05-01   True  1.088172  \n",
       "1 2019-07-01  False  1.107237  \n",
       "2 2019-10-01  False  0.000000  \n",
       "3 2019-08-01  False  0.988235  \n",
       "4 2019-10-01  False  0.230769  "
      ]
     },
     "execution_count": 353,
     "metadata": {},
     "output_type": "execute_result"
    }
   ],
   "source": [
    "# строим профили\n",
    "profiles = get_profiles(visits, orders, costs)\n",
    "profiles.head()"
   ]
  },
  {
   "cell_type": "code",
   "execution_count": 354,
   "metadata": {},
   "outputs": [
    {
     "data": {
      "text/plain": [
       "(Timestamp('2019-05-01 00:00:00'), Timestamp('2019-10-27 00:00:00'))"
      ]
     },
     "execution_count": 354,
     "metadata": {},
     "output_type": "execute_result"
    }
   ],
   "source": [
    "# определяем минимальную и максимальную дату привлечения пользователей\n",
    "max_dt = profiles['dt'].max()\n",
    "min_dt = profiles['dt'].min()\n",
    "min_dt, max_dt"
   ]
  },
  {
   "cell_type": "code",
   "execution_count": 355,
   "metadata": {},
   "outputs": [
    {
     "data": {
      "text/html": [
       "<style  type=\"text/css\" >\n",
       "</style><table id=\"T_c1e2e_\" style='display:inline'><caption>Пользователи по странам</caption><thead>    <tr>        <th class=\"blank level0\" ></th>        <th class=\"col_heading level0 col0\" >region</th>        <th class=\"col_heading level0 col1\" >paying_users</th>        <th class=\"col_heading level0 col2\" >all_users</th>    </tr></thead><tbody>\n",
       "                <tr>\n",
       "                        <th id=\"T_c1e2e_level0_row0\" class=\"row_heading level0 row0\" >0</th>\n",
       "                        <td id=\"T_c1e2e_row0_col0\" class=\"data row0 col0\" >united states</td>\n",
       "                        <td id=\"T_c1e2e_row0_col1\" class=\"data row0 col1\" >6902</td>\n",
       "                        <td id=\"T_c1e2e_row0_col2\" class=\"data row0 col2\" >100002</td>\n",
       "            </tr>\n",
       "            <tr>\n",
       "                        <th id=\"T_c1e2e_level0_row1\" class=\"row_heading level0 row1\" >1</th>\n",
       "                        <td id=\"T_c1e2e_row1_col0\" class=\"data row1 col0\" >uk</td>\n",
       "                        <td id=\"T_c1e2e_row1_col1\" class=\"data row1 col1\" >700</td>\n",
       "                        <td id=\"T_c1e2e_row1_col2\" class=\"data row1 col2\" >17575</td>\n",
       "            </tr>\n",
       "            <tr>\n",
       "                        <th id=\"T_c1e2e_level0_row2\" class=\"row_heading level0 row2\" >2</th>\n",
       "                        <td id=\"T_c1e2e_row2_col0\" class=\"data row2 col0\" >france</td>\n",
       "                        <td id=\"T_c1e2e_row2_col1\" class=\"data row2 col1\" >663</td>\n",
       "                        <td id=\"T_c1e2e_row2_col2\" class=\"data row2 col2\" >17450</td>\n",
       "            </tr>\n",
       "            <tr>\n",
       "                        <th id=\"T_c1e2e_level0_row3\" class=\"row_heading level0 row3\" >3</th>\n",
       "                        <td id=\"T_c1e2e_row3_col0\" class=\"data row3 col0\" >germany</td>\n",
       "                        <td id=\"T_c1e2e_row3_col1\" class=\"data row3 col1\" >616</td>\n",
       "                        <td id=\"T_c1e2e_row3_col2\" class=\"data row3 col2\" >14981</td>\n",
       "            </tr>\n",
       "    </tbody></table><style  type=\"text/css\" >\n",
       "</style><table id=\"T_036a3_\" style='display:inline'><caption>Пользователи по устройствам</caption><thead>    <tr>        <th class=\"blank level0\" ></th>        <th class=\"col_heading level0 col0\" >device</th>        <th class=\"col_heading level0 col1\" >paying_users</th>        <th class=\"col_heading level0 col2\" >all_users</th>    </tr></thead><tbody>\n",
       "                <tr>\n",
       "                        <th id=\"T_036a3_level0_row0\" class=\"row_heading level0 row0\" >0</th>\n",
       "                        <td id=\"T_036a3_row0_col0\" class=\"data row0 col0\" >iphone</td>\n",
       "                        <td id=\"T_036a3_row0_col1\" class=\"data row0 col1\" >3382</td>\n",
       "                        <td id=\"T_036a3_row0_col2\" class=\"data row0 col2\" >54479</td>\n",
       "            </tr>\n",
       "            <tr>\n",
       "                        <th id=\"T_036a3_level0_row1\" class=\"row_heading level0 row1\" >1</th>\n",
       "                        <td id=\"T_036a3_row1_col0\" class=\"data row1 col0\" >android</td>\n",
       "                        <td id=\"T_036a3_row1_col1\" class=\"data row1 col1\" >2050</td>\n",
       "                        <td id=\"T_036a3_row1_col2\" class=\"data row1 col2\" >35032</td>\n",
       "            </tr>\n",
       "            <tr>\n",
       "                        <th id=\"T_036a3_level0_row2\" class=\"row_heading level0 row2\" >2</th>\n",
       "                        <td id=\"T_036a3_row2_col0\" class=\"data row2 col0\" >mac</td>\n",
       "                        <td id=\"T_036a3_row2_col1\" class=\"data row2 col1\" >1912</td>\n",
       "                        <td id=\"T_036a3_row2_col2\" class=\"data row2 col2\" >30042</td>\n",
       "            </tr>\n",
       "            <tr>\n",
       "                        <th id=\"T_036a3_level0_row3\" class=\"row_heading level0 row3\" >3</th>\n",
       "                        <td id=\"T_036a3_row3_col0\" class=\"data row3 col0\" >pc</td>\n",
       "                        <td id=\"T_036a3_row3_col1\" class=\"data row3 col1\" >1537</td>\n",
       "                        <td id=\"T_036a3_row3_col2\" class=\"data row3 col2\" >30455</td>\n",
       "            </tr>\n",
       "    </tbody></table><style  type=\"text/css\" >\n",
       "</style><table id=\"T_e2def_\" style='display:inline'><caption>Пользователи по каналам</caption><thead>    <tr>        <th class=\"blank level0\" ></th>        <th class=\"col_heading level0 col0\" >channel</th>        <th class=\"col_heading level0 col1\" >paying_users</th>        <th class=\"col_heading level0 col2\" >all_users</th>    </tr></thead><tbody>\n",
       "                <tr>\n",
       "                        <th id=\"T_e2def_level0_row0\" class=\"row_heading level0 row0\" >0</th>\n",
       "                        <td id=\"T_e2def_row0_col0\" class=\"data row0 col0\" >faceboom</td>\n",
       "                        <td id=\"T_e2def_row0_col1\" class=\"data row0 col1\" >3557</td>\n",
       "                        <td id=\"T_e2def_row0_col2\" class=\"data row0 col2\" >29144</td>\n",
       "            </tr>\n",
       "            <tr>\n",
       "                        <th id=\"T_e2def_level0_row1\" class=\"row_heading level0 row1\" >1</th>\n",
       "                        <td id=\"T_e2def_row1_col0\" class=\"data row1 col0\" >tiptop</td>\n",
       "                        <td id=\"T_e2def_row1_col1\" class=\"data row1 col1\" >1878</td>\n",
       "                        <td id=\"T_e2def_row1_col2\" class=\"data row1 col2\" >19561</td>\n",
       "            </tr>\n",
       "            <tr>\n",
       "                        <th id=\"T_e2def_level0_row2\" class=\"row_heading level0 row2\" >2</th>\n",
       "                        <td id=\"T_e2def_row2_col0\" class=\"data row2 col0\" >organic</td>\n",
       "                        <td id=\"T_e2def_row2_col1\" class=\"data row2 col1\" >1160</td>\n",
       "                        <td id=\"T_e2def_row2_col2\" class=\"data row2 col2\" >56439</td>\n",
       "            </tr>\n",
       "            <tr>\n",
       "                        <th id=\"T_e2def_level0_row3\" class=\"row_heading level0 row3\" >3</th>\n",
       "                        <td id=\"T_e2def_row3_col0\" class=\"data row3 col0\" >wahoonetbanner</td>\n",
       "                        <td id=\"T_e2def_row3_col1\" class=\"data row3 col1\" >453</td>\n",
       "                        <td id=\"T_e2def_row3_col2\" class=\"data row3 col2\" >8553</td>\n",
       "            </tr>\n",
       "            <tr>\n",
       "                        <th id=\"T_e2def_level0_row4\" class=\"row_heading level0 row4\" >4</th>\n",
       "                        <td id=\"T_e2def_row4_col0\" class=\"data row4 col0\" >adnonsense</td>\n",
       "                        <td id=\"T_e2def_row4_col1\" class=\"data row4 col1\" >440</td>\n",
       "                        <td id=\"T_e2def_row4_col2\" class=\"data row4 col2\" >3880</td>\n",
       "            </tr>\n",
       "            <tr>\n",
       "                        <th id=\"T_e2def_level0_row5\" class=\"row_heading level0 row5\" >5</th>\n",
       "                        <td id=\"T_e2def_row5_col0\" class=\"data row5 col0\" >rocketsuperads</td>\n",
       "                        <td id=\"T_e2def_row5_col1\" class=\"data row5 col1\" >352</td>\n",
       "                        <td id=\"T_e2def_row5_col2\" class=\"data row5 col2\" >4448</td>\n",
       "            </tr>\n",
       "            <tr>\n",
       "                        <th id=\"T_e2def_level0_row6\" class=\"row_heading level0 row6\" >6</th>\n",
       "                        <td id=\"T_e2def_row6_col0\" class=\"data row6 col0\" >leapbob</td>\n",
       "                        <td id=\"T_e2def_row6_col1\" class=\"data row6 col1\" >262</td>\n",
       "                        <td id=\"T_e2def_row6_col2\" class=\"data row6 col2\" >8553</td>\n",
       "            </tr>\n",
       "            <tr>\n",
       "                        <th id=\"T_e2def_level0_row7\" class=\"row_heading level0 row7\" >7</th>\n",
       "                        <td id=\"T_e2def_row7_col0\" class=\"data row7 col0\" >opplecreativemedia</td>\n",
       "                        <td id=\"T_e2def_row7_col1\" class=\"data row7 col1\" >233</td>\n",
       "                        <td id=\"T_e2def_row7_col2\" class=\"data row7 col2\" >8605</td>\n",
       "            </tr>\n",
       "            <tr>\n",
       "                        <th id=\"T_e2def_level0_row8\" class=\"row_heading level0 row8\" >8</th>\n",
       "                        <td id=\"T_e2def_row8_col0\" class=\"data row8 col0\" >lambdamediaads</td>\n",
       "                        <td id=\"T_e2def_row8_col1\" class=\"data row8 col1\" >225</td>\n",
       "                        <td id=\"T_e2def_row8_col2\" class=\"data row8 col2\" >2149</td>\n",
       "            </tr>\n",
       "            <tr>\n",
       "                        <th id=\"T_e2def_level0_row9\" class=\"row_heading level0 row9\" >9</th>\n",
       "                        <td id=\"T_e2def_row9_col0\" class=\"data row9 col0\" >yrabbit</td>\n",
       "                        <td id=\"T_e2def_row9_col1\" class=\"data row9 col1\" >165</td>\n",
       "                        <td id=\"T_e2def_row9_col2\" class=\"data row9 col2\" >4312</td>\n",
       "            </tr>\n",
       "            <tr>\n",
       "                        <th id=\"T_e2def_level0_row10\" class=\"row_heading level0 row10\" >10</th>\n",
       "                        <td id=\"T_e2def_row10_col0\" class=\"data row10 col0\" >mediatornado</td>\n",
       "                        <td id=\"T_e2def_row10_col1\" class=\"data row10 col1\" >156</td>\n",
       "                        <td id=\"T_e2def_row10_col2\" class=\"data row10 col2\" >4364</td>\n",
       "            </tr>\n",
       "    </tbody></table>"
      ]
     },
     "metadata": {},
     "output_type": "display_data"
    }
   ],
   "source": [
    "# какие страны дают больше всего платящих пользователей\n",
    "group_by_region = (\n",
    "    profiles.query('payer == True').groupby('region').agg({'user_id': 'nunique'})\n",
    "    .merge(profiles.groupby('region').agg({'user_id': 'nunique'}), on='region')\n",
    "    .rename(columns={'user_id_x': 'paying_users',\n",
    "                    'user_id_y': 'all_users'})\n",
    "    .sort_values(by='paying_users', ascending=False)\n",
    "    .reset_index()\n",
    ")\n",
    "group_by_region_styler = (group_by_region.style\n",
    "                          .set_table_attributes(\"style='display:inline'\").set_caption('Пользователи по странам'))\n",
    "# c каких устройств чаще всего заходят платящие пользователи\n",
    "group_by_device = (\n",
    "    profiles.query('payer == True').groupby('device').agg({'user_id': 'nunique'})\n",
    "    .merge(profiles.groupby('device').agg({'user_id': 'nunique'}), on='device')\n",
    "    .rename(columns={'user_id_x': 'paying_users',\n",
    "                    'user_id_y': 'all_users'})\n",
    "    .sort_values(by='paying_users', ascending=False)\n",
    "    .reset_index()\n",
    ")\n",
    "group_by_device_styler = (group_by_device.style\n",
    "                          .set_table_attributes(\"style='display:inline'\").set_caption('Пользователи по устройствам'))\n",
    "# какие каналы приносят больше всего платящих пользователей\n",
    "group_by_channel = (\n",
    "    profiles.query('payer == True').groupby('channel').agg({'user_id': 'nunique'})\n",
    "    .merge(profiles.groupby('channel').agg({'user_id': 'nunique'}), on='channel')\n",
    "    .rename(columns={'user_id_x': 'paying_users',\n",
    "                    'user_id_y': 'all_users'})\n",
    "    .sort_values(by='paying_users', ascending=False)\n",
    "    .reset_index()\n",
    ")\n",
    "\n",
    "group_by_channel_styler = (group_by_channel.style\n",
    "                           .set_table_attributes(\"style='display:inline'\").set_caption('Пользователи по каналам'))\n",
    "\n",
    "display_html(group_by_region_styler._repr_html_()+group_by_device_styler._repr_html_()\n",
    "             +group_by_channel_styler._repr_html_(), raw=True)"
   ]
  },
  {
   "cell_type": "markdown",
   "metadata": {},
   "source": [
    "<div style=\"border:solid green 1px; padding: 10px\">\n",
    "    \n",
    "1. Посететители приходят к нам из:\n",
    "* США\n",
    "* Франции\n",
    "* Германии\n",
    "* Великобритании.\n",
    "\n",
    "Больше всего платящих пользователей из `США` (6902 человека), а меньше всего из `Германии` (616 человек).\n",
    "\n",
    "2. Наши пользователи используют следующие устройства:\n",
    "* Mac\n",
    "* IPhone\n",
    "* PC\n",
    "* Android\n",
    "\n",
    "Больше всего платящих пользователей заходят с `IPhone` (3382 человека), а меньше всего c `PC` (1537 человек).\n",
    "\n",
    "3. Каналы привлечения пользователей:\n",
    "\n",
    "* Faceboom\n",
    "* Organic\n",
    "* Adnonsense\n",
    "* Yrabbit\n",
    "* Mediatornado\n",
    "* Rocketsuperads\n",
    "* Leapbob\n",
    "* Tiptop\n",
    "* Wahoonetbanner\n",
    "* Opplecreativemedia\n",
    "* Lambdamediaads\n",
    "\n",
    "Больше всего платящих пользователей пришло по каналу `Faceboom` (3557 человек), а меньше всего по `Mediatornado` (156 человек)."
   ]
  },
  {
   "cell_type": "markdown",
   "metadata": {},
   "source": [
    "# Шаг 4. Маркетинг\n",
    "\n",
    "Выясните:\n",
    "1. Сколько денег потратили? Всего / на каждый источник / по времени.\n",
    "2. Сколько в среднем стоило привлечение одного покупателя из каждого источника?"
   ]
  },
  {
   "cell_type": "code",
   "execution_count": 356,
   "metadata": {
    "scrolled": false
   },
   "outputs": [
    {
     "name": "stdout",
     "output_type": "stream",
     "text": [
      "Общая сумма расходов: 105497.3\n"
     ]
    },
    {
     "data": {
      "text/html": [
       "<style  type=\"text/css\" >\n",
       "</style><table id=\"T_c1ecc_\" style='display:inline'><caption>Траты по каналам</caption><thead>    <tr>        <th class=\"blank level0\" ></th>        <th class=\"col_heading level0 col0\" >channel</th>        <th class=\"col_heading level0 col1\" >costs</th>    </tr></thead><tbody>\n",
       "                <tr>\n",
       "                        <th id=\"T_c1ecc_level0_row0\" class=\"row_heading level0 row0\" >0</th>\n",
       "                        <td id=\"T_c1ecc_row0_col0\" class=\"data row0 col0\" >tiptop</td>\n",
       "                        <td id=\"T_c1ecc_row0_col1\" class=\"data row0 col1\" >54751.300000</td>\n",
       "            </tr>\n",
       "            <tr>\n",
       "                        <th id=\"T_c1ecc_level0_row1\" class=\"row_heading level0 row1\" >1</th>\n",
       "                        <td id=\"T_c1ecc_row1_col0\" class=\"data row1 col0\" >faceboom</td>\n",
       "                        <td id=\"T_c1ecc_row1_col1\" class=\"data row1 col1\" >32445.600000</td>\n",
       "            </tr>\n",
       "            <tr>\n",
       "                        <th id=\"T_c1ecc_level0_row2\" class=\"row_heading level0 row2\" >2</th>\n",
       "                        <td id=\"T_c1ecc_row2_col0\" class=\"data row2 col0\" >wahoonetbanner</td>\n",
       "                        <td id=\"T_c1ecc_row2_col1\" class=\"data row2 col1\" >5151.000000</td>\n",
       "            </tr>\n",
       "            <tr>\n",
       "                        <th id=\"T_c1ecc_level0_row3\" class=\"row_heading level0 row3\" >3</th>\n",
       "                        <td id=\"T_c1ecc_row3_col0\" class=\"data row3 col0\" >adnonsense</td>\n",
       "                        <td id=\"T_c1ecc_row3_col1\" class=\"data row3 col1\" >3911.250000</td>\n",
       "            </tr>\n",
       "            <tr>\n",
       "                        <th id=\"T_c1ecc_level0_row4\" class=\"row_heading level0 row4\" >4</th>\n",
       "                        <td id=\"T_c1ecc_row4_col0\" class=\"data row4 col0\" >opplecreativemedia</td>\n",
       "                        <td id=\"T_c1ecc_row4_col1\" class=\"data row4 col1\" >2151.250000</td>\n",
       "            </tr>\n",
       "            <tr>\n",
       "                        <th id=\"T_c1ecc_level0_row5\" class=\"row_heading level0 row5\" >5</th>\n",
       "                        <td id=\"T_c1ecc_row5_col0\" class=\"data row5 col0\" >rocketsuperads</td>\n",
       "                        <td id=\"T_c1ecc_row5_col1\" class=\"data row5 col1\" >1833.000000</td>\n",
       "            </tr>\n",
       "            <tr>\n",
       "                        <th id=\"T_c1ecc_level0_row6\" class=\"row_heading level0 row6\" >6</th>\n",
       "                        <td id=\"T_c1ecc_row6_col0\" class=\"data row6 col0\" >leapbob</td>\n",
       "                        <td id=\"T_c1ecc_row6_col1\" class=\"data row6 col1\" >1797.600000</td>\n",
       "            </tr>\n",
       "            <tr>\n",
       "                        <th id=\"T_c1ecc_level0_row7\" class=\"row_heading level0 row7\" >7</th>\n",
       "                        <td id=\"T_c1ecc_row7_col0\" class=\"data row7 col0\" >lambdamediaads</td>\n",
       "                        <td id=\"T_c1ecc_row7_col1\" class=\"data row7 col1\" >1557.600000</td>\n",
       "            </tr>\n",
       "            <tr>\n",
       "                        <th id=\"T_c1ecc_level0_row8\" class=\"row_heading level0 row8\" >8</th>\n",
       "                        <td id=\"T_c1ecc_row8_col0\" class=\"data row8 col0\" >mediatornado</td>\n",
       "                        <td id=\"T_c1ecc_row8_col1\" class=\"data row8 col1\" >954.480000</td>\n",
       "            </tr>\n",
       "            <tr>\n",
       "                        <th id=\"T_c1ecc_level0_row9\" class=\"row_heading level0 row9\" >9</th>\n",
       "                        <td id=\"T_c1ecc_row9_col0\" class=\"data row9 col0\" >yrabbit</td>\n",
       "                        <td id=\"T_c1ecc_row9_col1\" class=\"data row9 col1\" >944.220000</td>\n",
       "            </tr>\n",
       "    </tbody></table><style  type=\"text/css\" >\n",
       "</style><table id=\"T_47dda_\" style='display:inline'><caption>Траты по месяцам</caption><thead>    <tr>        <th class=\"blank level0\" ></th>        <th class=\"col_heading level0 col0\" >month</th>        <th class=\"col_heading level0 col1\" >costs</th>    </tr></thead><tbody>\n",
       "                <tr>\n",
       "                        <th id=\"T_47dda_level0_row0\" class=\"row_heading level0 row0\" >0</th>\n",
       "                        <td id=\"T_47dda_row0_col0\" class=\"data row0 col0\" >5</td>\n",
       "                        <td id=\"T_47dda_row0_col1\" class=\"data row0 col1\" >9978.570000</td>\n",
       "            </tr>\n",
       "            <tr>\n",
       "                        <th id=\"T_47dda_level0_row1\" class=\"row_heading level0 row1\" >1</th>\n",
       "                        <td id=\"T_47dda_row1_col0\" class=\"data row1 col0\" >6</td>\n",
       "                        <td id=\"T_47dda_row1_col1\" class=\"data row1 col1\" >15090.045000</td>\n",
       "            </tr>\n",
       "            <tr>\n",
       "                        <th id=\"T_47dda_level0_row2\" class=\"row_heading level0 row2\" >2</th>\n",
       "                        <td id=\"T_47dda_row2_col0\" class=\"data row2 col0\" >7</td>\n",
       "                        <td id=\"T_47dda_row2_col1\" class=\"data row2 col1\" >16447.060000</td>\n",
       "            </tr>\n",
       "            <tr>\n",
       "                        <th id=\"T_47dda_level0_row3\" class=\"row_heading level0 row3\" >3</th>\n",
       "                        <td id=\"T_47dda_row3_col0\" class=\"data row3 col0\" >8</td>\n",
       "                        <td id=\"T_47dda_row3_col1\" class=\"data row3 col1\" >20657.870000</td>\n",
       "            </tr>\n",
       "            <tr>\n",
       "                        <th id=\"T_47dda_level0_row4\" class=\"row_heading level0 row4\" >4</th>\n",
       "                        <td id=\"T_47dda_row4_col0\" class=\"data row4 col0\" >9</td>\n",
       "                        <td id=\"T_47dda_row4_col1\" class=\"data row4 col1\" >22441.340000</td>\n",
       "            </tr>\n",
       "            <tr>\n",
       "                        <th id=\"T_47dda_level0_row5\" class=\"row_heading level0 row5\" >5</th>\n",
       "                        <td id=\"T_47dda_row5_col0\" class=\"data row5 col0\" >10</td>\n",
       "                        <td id=\"T_47dda_row5_col1\" class=\"data row5 col1\" >20882.415000</td>\n",
       "            </tr>\n",
       "    </tbody></table>"
      ]
     },
     "metadata": {},
     "output_type": "display_data"
    },
    {
     "data": {
      "image/png": "[encoded data removed]",
      "text/plain": [
       "<Figure size 432x288 with 1 Axes>"
      ]
     },
     "metadata": {
      "needs_background": "light"
     },
     "output_type": "display_data"
    }
   ],
   "source": [
    "#общая сумма расходов на маркетинг\n",
    "print('Общая сумма расходов:', round(costs['costs'].sum(), 2))\n",
    "\n",
    "# как траты распределены по источникам\n",
    "costs_by_channel = costs.groupby('channel').agg({'costs': 'sum'}).sort_values(by='costs', ascending=False).reset_index()\n",
    "\n",
    "costs_by_channel_styler = (costs_by_channel.style\n",
    "                           .set_table_attributes(\"style='display:inline'\").set_caption('Траты по каналам'))\n",
    "# как траты распределены по времени (месяцам)\n",
    "costs['month'] = costs['dt'].dt.month\n",
    "costs_by_month = costs.groupby('month').agg({'costs': 'sum'}).reset_index()\n",
    "\n",
    "costs_by_month_styler = (costs_by_month.style\n",
    "                           .set_table_attributes(\"style='display:inline'\").set_caption('Траты по месяцам'))\n",
    "\n",
    "display_html(costs_by_channel_styler._repr_html_()+costs_by_month_styler._repr_html_(), raw=True)\n",
    "\n",
    "# построим график изменений трат по времени\n",
    "costs.groupby('month').agg({'costs': 'sum'}).plot(grid=True)\n",
    "plt.xlabel('Месяц')\n",
    "plt.title('Траты по месяцам')\n",
    "plt.show() "
   ]
  },
  {
   "cell_type": "markdown",
   "metadata": {},
   "source": [
    "<div style=\"border:solid green 1px; padding: 10px\">\n",
    "    \n",
    "1. Всего потратили 105 497,30. Из них больше всего на канал `TipTop` - 54 751,30, а меньше всего на канал `Yrabbit` - 944,22. Самым затратным вышел сентябрь, почти 22,5 тысячи и меньше всего потратили в мае - около 10 тысяч. Распределение затрат по месяцам наглядно видно на графике `Траты по месяцам`."
   ]
  },
  {
   "cell_type": "markdown",
   "metadata": {},
   "source": [
    "2. Выясним, как меняется стоимость привлечения для каждого источника трафика используя профили пользователей. В профилях есть столбец `acq_cost` со стоимостью привлечения каждого посетителя по дате и источнику привлечения. Построим сводную таблицу, в которой названиями строк будут даты привлечения пользователей, названиями столбцов — каналы привлечения, а значениями — средний CAC, и построим по ней график истории изменений."
   ]
  },
  {
   "cell_type": "code",
   "execution_count": 357,
   "metadata": {
    "scrolled": false
   },
   "outputs": [
    {
     "data": {
      "image/png": "[encoded data removed]",
      "text/plain": [
       "<Figure size 1080x504 with 1 Axes>"
      ]
     },
     "metadata": {
      "needs_background": "light"
     },
     "output_type": "display_data"
    }
   ],
   "source": [
    "# строим график истории изменений CAC по каналам привлечения c окном сглаживания в 6 дней\n",
    "def filter_data(df, window):\n",
    "    # для каждого столбца применяем скользящее среднее\n",
    "    for column in df.columns.values:\n",
    "        df[column] = df[column].rolling(window).mean() \n",
    "    return df\n",
    "\n",
    "report = profiles.pivot_table(index='dt', columns='channel', values='acq_cost', aggfunc='mean')\n",
    "window = 7\n",
    "filter_data(report, window).plot(grid = True, figsize=(15, 7))\n",
    "plt.title('CAC по каналам привлечения, сглаживание: {} дней'.format(window))\n",
    "plt.ylabel('Траты')\n",
    "plt.xlabel('Дата привлечения')\n",
    "plt.show()"
   ]
  },
  {
   "cell_type": "code",
   "execution_count": 358,
   "metadata": {
    "scrolled": false
   },
   "outputs": [
    {
     "data": {
      "text/html": [
       "<style  type=\"text/css\" >\n",
       "</style><table id=\"T_b7a16_\" style='display:inline'><caption>Траты по каналам, без ТipТop</caption><thead>    <tr>        <th class=\"blank level0\" ></th>        <th class=\"col_heading level0 col0\" >channel</th>        <th class=\"col_heading level0 col1\" >acq_cost</th>    </tr></thead><tbody>\n",
       "                <tr>\n",
       "                        <th id=\"T_b7a16_level0_row0\" class=\"row_heading level0 row0\" >0</th>\n",
       "                        <td id=\"T_b7a16_row0_col0\" class=\"data row0 col0\" >faceboom</td>\n",
       "                        <td id=\"T_b7a16_row0_col1\" class=\"data row0 col1\" >1.113286</td>\n",
       "            </tr>\n",
       "            <tr>\n",
       "                        <th id=\"T_b7a16_level0_row1\" class=\"row_heading level0 row1\" >1</th>\n",
       "                        <td id=\"T_b7a16_row1_col0\" class=\"data row1 col0\" >adnonsense</td>\n",
       "                        <td id=\"T_b7a16_row1_col1\" class=\"data row1 col1\" >1.008054</td>\n",
       "            </tr>\n",
       "            <tr>\n",
       "                        <th id=\"T_b7a16_level0_row2\" class=\"row_heading level0 row2\" >2</th>\n",
       "                        <td id=\"T_b7a16_row2_col0\" class=\"data row2 col0\" >lambdamediaads</td>\n",
       "                        <td id=\"T_b7a16_row2_col1\" class=\"data row2 col1\" >0.724802</td>\n",
       "            </tr>\n",
       "            <tr>\n",
       "                        <th id=\"T_b7a16_level0_row3\" class=\"row_heading level0 row3\" >3</th>\n",
       "                        <td id=\"T_b7a16_row3_col0\" class=\"data row3 col0\" >wahoonetbanner</td>\n",
       "                        <td id=\"T_b7a16_row3_col1\" class=\"data row3 col1\" >0.602245</td>\n",
       "            </tr>\n",
       "            <tr>\n",
       "                        <th id=\"T_b7a16_level0_row4\" class=\"row_heading level0 row4\" >4</th>\n",
       "                        <td id=\"T_b7a16_row4_col0\" class=\"data row4 col0\" >rocketsuperads</td>\n",
       "                        <td id=\"T_b7a16_row4_col1\" class=\"data row4 col1\" >0.412095</td>\n",
       "            </tr>\n",
       "            <tr>\n",
       "                        <th id=\"T_b7a16_level0_row5\" class=\"row_heading level0 row5\" >5</th>\n",
       "                        <td id=\"T_b7a16_row5_col0\" class=\"data row5 col0\" >opplecreativemedia</td>\n",
       "                        <td id=\"T_b7a16_row5_col1\" class=\"data row5 col1\" >0.250000</td>\n",
       "            </tr>\n",
       "            <tr>\n",
       "                        <th id=\"T_b7a16_level0_row6\" class=\"row_heading level0 row6\" >6</th>\n",
       "                        <td id=\"T_b7a16_row6_col0\" class=\"data row6 col0\" >yrabbit</td>\n",
       "                        <td id=\"T_b7a16_row6_col1\" class=\"data row6 col1\" >0.218975</td>\n",
       "            </tr>\n",
       "            <tr>\n",
       "                        <th id=\"T_b7a16_level0_row7\" class=\"row_heading level0 row7\" >7</th>\n",
       "                        <td id=\"T_b7a16_row7_col0\" class=\"data row7 col0\" >mediatornado</td>\n",
       "                        <td id=\"T_b7a16_row7_col1\" class=\"data row7 col1\" >0.218717</td>\n",
       "            </tr>\n",
       "            <tr>\n",
       "                        <th id=\"T_b7a16_level0_row8\" class=\"row_heading level0 row8\" >8</th>\n",
       "                        <td id=\"T_b7a16_row8_col0\" class=\"data row8 col0\" >leapbob</td>\n",
       "                        <td id=\"T_b7a16_row8_col1\" class=\"data row8 col1\" >0.210172</td>\n",
       "            </tr>\n",
       "            <tr>\n",
       "                        <th id=\"T_b7a16_level0_row9\" class=\"row_heading level0 row9\" >9</th>\n",
       "                        <td id=\"T_b7a16_row9_col0\" class=\"data row9 col0\" >organic</td>\n",
       "                        <td id=\"T_b7a16_row9_col1\" class=\"data row9 col1\" >0.000000</td>\n",
       "            </tr>\n",
       "    </tbody></table><style  type=\"text/css\" >\n",
       "</style><table id=\"T_1bb48_\" style='display:inline'><caption>Траты на TipTop по месяцам</caption><thead>    <tr>        <th class=\"blank level0\" ></th>        <th class=\"col_heading level0 col0\" >month</th>        <th class=\"col_heading level0 col1\" >acq_cost</th>    </tr></thead><tbody>\n",
       "                <tr>\n",
       "                        <th id=\"T_1bb48_level0_row0\" class=\"row_heading level0 row0\" >0</th>\n",
       "                        <td id=\"T_1bb48_row0_col0\" class=\"data row0 col0\" >2019-10-01 00:00:00</td>\n",
       "                        <td id=\"T_1bb48_row0_col1\" class=\"data row0 col1\" >3.543535</td>\n",
       "            </tr>\n",
       "            <tr>\n",
       "                        <th id=\"T_1bb48_level0_row1\" class=\"row_heading level0 row1\" >1</th>\n",
       "                        <td id=\"T_1bb48_row1_col0\" class=\"data row1 col0\" >2019-09-01 00:00:00</td>\n",
       "                        <td id=\"T_1bb48_row1_col1\" class=\"data row1 col1\" >3.480405</td>\n",
       "            </tr>\n",
       "            <tr>\n",
       "                        <th id=\"T_1bb48_level0_row2\" class=\"row_heading level0 row2\" >2</th>\n",
       "                        <td id=\"T_1bb48_row2_col0\" class=\"data row2 col0\" >2019-08-01 00:00:00</td>\n",
       "                        <td id=\"T_1bb48_row2_col1\" class=\"data row2 col1\" >3.011290</td>\n",
       "            </tr>\n",
       "            <tr>\n",
       "                        <th id=\"T_1bb48_level0_row3\" class=\"row_heading level0 row3\" >3</th>\n",
       "                        <td id=\"T_1bb48_row3_col0\" class=\"data row3 col0\" >2019-07-01 00:00:00</td>\n",
       "                        <td id=\"T_1bb48_row3_col1\" class=\"data row3 col1\" >2.650552</td>\n",
       "            </tr>\n",
       "            <tr>\n",
       "                        <th id=\"T_1bb48_level0_row4\" class=\"row_heading level0 row4\" >4</th>\n",
       "                        <td id=\"T_1bb48_row4_col0\" class=\"data row4 col0\" >2019-06-01 00:00:00</td>\n",
       "                        <td id=\"T_1bb48_row4_col1\" class=\"data row4 col1\" >2.077684</td>\n",
       "            </tr>\n",
       "            <tr>\n",
       "                        <th id=\"T_1bb48_level0_row5\" class=\"row_heading level0 row5\" >5</th>\n",
       "                        <td id=\"T_1bb48_row5_col0\" class=\"data row5 col0\" >2019-05-01 00:00:00</td>\n",
       "                        <td id=\"T_1bb48_row5_col1\" class=\"data row5 col1\" >1.357468</td>\n",
       "            </tr>\n",
       "    </tbody></table>"
      ]
     },
     "metadata": {},
     "output_type": "display_data"
    }
   ],
   "source": [
    "# группируем траты по каналам без tiptop\n",
    "csts_by_chnl_styler = ((\n",
    "    profiles.query('channel != \"tiptop\"').groupby(['channel']).agg({'acq_cost': 'mean'})\n",
    "    .sort_values(by='acq_cost', ascending=False).reset_index())\n",
    "    .style.set_table_attributes(\"style='display:inline'\").set_caption('Траты по каналам, без ТipТop'))\n",
    "\n",
    "# группируем траты по каналу tiptop помесячно\n",
    "csts_tiptop_styler = ((\n",
    "    profiles.query('channel == \"tiptop\"').groupby(['month'])\n",
    "    .agg({'acq_cost': 'mean'}).sort_values(by='acq_cost', ascending=False).reset_index())\n",
    "    .style.set_table_attributes(\"style='display:inline'\").set_caption('Траты на TipTop по месяцам'))\n",
    "\n",
    "display_html(csts_by_chnl_styler._repr_html_()+csts_tiptop_styler._repr_html_(), raw=True)"
   ]
  },
  {
   "cell_type": "markdown",
   "metadata": {},
   "source": [
    "<div style=\"border:solid green 1px; padding: 10px\">\n",
    "    \n",
    "Стоимость привлечения «органических» пользователей равна нулю, потому что они \"пришли\" к нам самостоятельно, а не благодаря рекламе. Траты на привлечение одного пользователя по всем каналам стабильны, кроме `TipTop`, затраты на который \"скачут\" от месяца к месяцу довольно резко на увеличение (от ≈ 1.35 в мае до ≈ 3.55 в октябре), также нужно обратить внимание, `TipTop` на втором месте по количеству пришедших польхователей в целом и платящих в т.ч. Самое дешовое привлечение обходится компании в среднем в ≈ 0.21 (канал `Leapbob`), а самое дорогое, не считая `TipTop`, в ≈ 1.11 (из `Faceboom`, который, как раз, лидер по приходу пользователей, в т.ч. платящих). "
   ]
  },
  {
   "cell_type": "markdown",
   "metadata": {},
   "source": [
    "# Шаг 5. Оцените окупаемость рекламы для привлечения пользователей\n",
    "\n",
    "Используя графики LTV, ROI и CAC, проанализируйте окупаемость рекламы. Считайте, что на календаре 1 ноября 2019 года, а в бизнес-плане заложено, что пользователи должны окупаться не позднее чем через две недели после привлечения. Необходимость включения в анализ органических пользователей определите самостоятельно.\n",
    "\n",
    "С помощью LTV и ROI:\n",
    "\n",
    "1. Проанализируйте общую окупаемость рекламы.\n",
    "2. Проанализируйте окупаемость рекламы с разбивкой по рекламным каналам.\n",
    "3. Проанализируйте окупаемость рекламы с разбивкой по странам. \n",
    "4. Проанализируйте окупаемость рекламы с разбивкой по устройствам.\n",
    "\n",
    "Постройте графики LTV и ROI, а также графики динамики LTV, CAC и ROI для всех пунктов выше.\n",
    "\n",
    "Опишите проблемы, которые вы обнаружили. Ответьте на вопросы:\n",
    "- Окупается ли реклама, направленная на привлечение пользователей в целом? \n",
    "- Какие устройства, страны и рекламные каналы могут оказывать негативное влияние на окупаемость рекламы?\n",
    "- Чем могут быть вызваны проблемы окупаемости? Изучите конверсию и удержание с разбивкой по устройствам, странам, рекламным каналам.\n"
   ]
  },
  {
   "cell_type": "markdown",
   "metadata": {},
   "source": [
    "**5.1. Проанализируйте общую окупаемость рекламы**"
   ]
  },
  {
   "cell_type": "code",
   "execution_count": 362,
   "metadata": {},
   "outputs": [
    {
     "ename": "TypeError",
     "evalue": "'list' object is not callable",
     "output_type": "error",
     "traceback": [
      "\u001b[0;31m---------------------------------------------------------------------------\u001b[0m",
      "\u001b[0;31mTypeError\u001b[0m                                 Traceback (most recent call last)",
      "\u001b[0;32m/tmp/ipykernel_31/2629578038.py\u001b[0m in \u001b[0;36m<module>\u001b[0;34m\u001b[0m\n\u001b[1;32m      3\u001b[0m \u001b[0mhorizon_days\u001b[0m \u001b[0;34m=\u001b[0m \u001b[0;36m14\u001b[0m  \u001b[0;31m# горизонт анализа\u001b[0m\u001b[0;34m\u001b[0m\u001b[0;34m\u001b[0m\u001b[0m\n\u001b[1;32m      4\u001b[0m \u001b[0;34m\u001b[0m\u001b[0m\n\u001b[0;32m----> 5\u001b[0;31m \u001b[0mget_ltv_roi\u001b[0m\u001b[0;34m(\u001b[0m\u001b[0mprofiles\u001b[0m\u001b[0;34m,\u001b[0m \u001b[0morders\u001b[0m\u001b[0;34m,\u001b[0m \u001b[0mobserv_date\u001b[0m\u001b[0;34m,\u001b[0m \u001b[0mhorizon_days\u001b[0m\u001b[0;34m)\u001b[0m\u001b[0;34m\u001b[0m\u001b[0;34m\u001b[0m\u001b[0m\n\u001b[0m",
      "\u001b[0;32m/tmp/ipykernel_31/430362713.py\u001b[0m in \u001b[0;36mget_ltv_roi\u001b[0;34m(profiles, orders, observ_date, horizon_days, dimensions, ignore_horizon)\u001b[0m\n\u001b[1;32m     79\u001b[0m \u001b[0;34m\u001b[0m\u001b[0m\n\u001b[1;32m     80\u001b[0m     \u001b[0;31m# получаем таблицы LTV и ROI\u001b[0m\u001b[0;34m\u001b[0m\u001b[0;34m\u001b[0m\u001b[0;34m\u001b[0m\u001b[0m\n\u001b[0;32m---> 81\u001b[0;31m     \u001b[0mresult_grouped\u001b[0m\u001b[0;34m,\u001b[0m \u001b[0mroi_grouped\u001b[0m \u001b[0;34m=\u001b[0m \u001b[0mgroup_by_dimensions\u001b[0m\u001b[0;34m(\u001b[0m\u001b[0mresult_raw\u001b[0m\u001b[0;34m,\u001b[0m \u001b[0mdimensions\u001b[0m\u001b[0;34m,\u001b[0m \u001b[0mhorizon_days\u001b[0m\u001b[0;34m)\u001b[0m\u001b[0;34m\u001b[0m\u001b[0;34m\u001b[0m\u001b[0m\n\u001b[0m\u001b[1;32m     82\u001b[0m \u001b[0;34m\u001b[0m\u001b[0m\n\u001b[1;32m     83\u001b[0m     \u001b[0;31m# для таблиц динамики убираем 'cohort' из dimensions\u001b[0m\u001b[0;34m\u001b[0m\u001b[0;34m\u001b[0m\u001b[0;34m\u001b[0m\u001b[0m\n",
      "\u001b[0;32m/tmp/ipykernel_31/430362713.py\u001b[0m in \u001b[0;36mgroup_by_dimensions\u001b[0;34m(df, dims, horizon_days)\u001b[0m\n\u001b[1;32m     46\u001b[0m \u001b[0;34m\u001b[0m\u001b[0m\n\u001b[1;32m     47\u001b[0m         \u001b[0;31m# исключаем все лайфтаймы, превышающие горизонт анализа\u001b[0m\u001b[0;34m\u001b[0m\u001b[0;34m\u001b[0m\u001b[0;34m\u001b[0m\u001b[0m\n\u001b[0;32m---> 48\u001b[0;31m         \u001b[0mresult\u001b[0m \u001b[0;34m=\u001b[0m \u001b[0mresult\u001b[0m\u001b[0;34m[\u001b[0m\u001b[0;34m[\u001b[0m\u001b[0;34m'cohort_size'\u001b[0m\u001b[0;34m]\u001b[0m \u001b[0;34m+\u001b[0m \u001b[0mlist\u001b[0m\u001b[0;34m(\u001b[0m\u001b[0mrange\u001b[0m\u001b[0;34m(\u001b[0m\u001b[0mhorizon_days\u001b[0m\u001b[0;34m)\u001b[0m\u001b[0;34m)\u001b[0m\u001b[0;34m]\u001b[0m\u001b[0;34m\u001b[0m\u001b[0;34m\u001b[0m\u001b[0m\n\u001b[0m\u001b[1;32m     49\u001b[0m \u001b[0;34m\u001b[0m\u001b[0m\n\u001b[1;32m     50\u001b[0m         \u001b[0;31m# восстанавливаем размеры когорт\u001b[0m\u001b[0;34m\u001b[0m\u001b[0;34m\u001b[0m\u001b[0;34m\u001b[0m\u001b[0m\n",
      "\u001b[0;31mTypeError\u001b[0m: 'list' object is not callable"
     ]
    }
   ],
   "source": [
    "# считаем LTV и ROI LTV и ROI, CAC\n",
    "observ_date = datetime(2019, 11, 1).date()  # момент анализа\n",
    "horizon_days = 14  # горизонт анализа \n",
    "\n",
    "get_ltv_roi(profiles, orders, observ_date, horizon_days)"
   ]
  },
  {
   "cell_type": "markdown",
   "metadata": {},
   "source": [
    "### Проанализируйте окупаемость рекламы с разбивкой по устройствам"
   ]
  },
  {
   "cell_type": "markdown",
   "metadata": {},
   "source": [
    "### Проанализируйте окупаемость рекламы с разбивкой по странам"
   ]
  },
  {
   "cell_type": "markdown",
   "metadata": {},
   "source": [
    "### Проанализируйте окупаемость рекламы с разбивкой по рекламным каналам"
   ]
  },
  {
   "cell_type": "markdown",
   "metadata": {},
   "source": [
    "# Шаг 6. Напишите выводы\n",
    "- Выделите причины неэффективности привлечения пользователей;\n",
    "- Сформируйте рекомендации для отдела маркетинга для повышения эффективности."
   ]
  }
 ],
 "metadata": {
  "ExecuteTimeLog": [
   {
    "duration": 1441,
    "start_time": "2022-07-29T06:42:39.592Z"
   },
   {
    "duration": 2039,
    "start_time": "2022-07-29T06:44:29.619Z"
   },
   {
    "duration": 51,
    "start_time": "2022-07-29T06:44:47.886Z"
   },
   {
    "duration": 870,
    "start_time": "2022-07-29T06:49:00.303Z"
   },
   {
    "duration": 691,
    "start_time": "2022-07-29T06:49:07.795Z"
   },
   {
    "duration": 25,
    "start_time": "2022-07-29T06:49:57.467Z"
   },
   {
    "duration": 29,
    "start_time": "2022-07-29T06:51:13.624Z"
   },
   {
    "duration": 131,
    "start_time": "2022-07-29T06:58:08.367Z"
   },
   {
    "duration": 99,
    "start_time": "2022-07-29T06:58:44.044Z"
   },
   {
    "duration": 18,
    "start_time": "2022-07-29T07:02:22.409Z"
   },
   {
    "duration": 12,
    "start_time": "2022-07-29T07:03:34.080Z"
   },
   {
    "duration": 5,
    "start_time": "2022-07-29T07:10:33.235Z"
   },
   {
    "duration": 30,
    "start_time": "2022-07-29T07:11:17.397Z"
   },
   {
    "duration": 70,
    "start_time": "2022-07-29T07:11:39.605Z"
   },
   {
    "duration": 38,
    "start_time": "2022-07-29T07:14:44.386Z"
   },
   {
    "duration": 11,
    "start_time": "2022-07-29T07:14:53.948Z"
   },
   {
    "duration": 69,
    "start_time": "2022-07-29T07:15:07.038Z"
   },
   {
    "duration": 20,
    "start_time": "2022-07-29T07:15:11.650Z"
   },
   {
    "duration": 39,
    "start_time": "2022-07-29T07:17:23.084Z"
   },
   {
    "duration": 70,
    "start_time": "2022-07-29T07:17:26.608Z"
   },
   {
    "duration": 14,
    "start_time": "2022-07-29T07:17:30.929Z"
   },
   {
    "duration": 20,
    "start_time": "2022-07-29T07:19:00.737Z"
   },
   {
    "duration": 167,
    "start_time": "2022-07-29T07:21:34.279Z"
   },
   {
    "duration": 65,
    "start_time": "2022-07-29T07:21:41.929Z"
   },
   {
    "duration": 12,
    "start_time": "2022-07-29T07:21:51.970Z"
   },
   {
    "duration": 12,
    "start_time": "2022-07-29T07:22:00.219Z"
   },
   {
    "duration": 15,
    "start_time": "2022-07-29T07:22:04.086Z"
   },
   {
    "duration": 5,
    "start_time": "2022-07-29T07:22:29.657Z"
   },
   {
    "duration": 14,
    "start_time": "2022-07-29T07:22:36.224Z"
   },
   {
    "duration": 6,
    "start_time": "2022-07-29T07:23:09.898Z"
   },
   {
    "duration": 15,
    "start_time": "2022-07-29T07:23:15.953Z"
   },
   {
    "duration": 98,
    "start_time": "2022-07-29T07:23:29.587Z"
   },
   {
    "duration": 5,
    "start_time": "2022-07-29T07:23:35.916Z"
   },
   {
    "duration": 15,
    "start_time": "2022-07-29T07:23:43.685Z"
   },
   {
    "duration": 29,
    "start_time": "2022-07-29T07:23:57.316Z"
   },
   {
    "duration": 12,
    "start_time": "2022-07-29T07:24:02.179Z"
   },
   {
    "duration": 18,
    "start_time": "2022-07-29T07:24:33.057Z"
   },
   {
    "duration": 36,
    "start_time": "2022-07-29T07:24:53.674Z"
   },
   {
    "duration": 15,
    "start_time": "2022-07-29T07:25:01.838Z"
   },
   {
    "duration": 5,
    "start_time": "2022-07-29T07:25:09.514Z"
   },
   {
    "duration": 11,
    "start_time": "2022-07-29T07:25:14.561Z"
   },
   {
    "duration": 4,
    "start_time": "2022-07-29T07:25:46.731Z"
   },
   {
    "duration": 11,
    "start_time": "2022-07-29T07:25:51.063Z"
   },
   {
    "duration": 4,
    "start_time": "2022-07-29T07:32:46.897Z"
   },
   {
    "duration": 6,
    "start_time": "2022-07-29T07:32:59.570Z"
   },
   {
    "duration": 16,
    "start_time": "2022-07-29T07:33:05.105Z"
   },
   {
    "duration": 5,
    "start_time": "2022-07-29T07:33:09.977Z"
   },
   {
    "duration": 16,
    "start_time": "2022-07-29T07:33:13.025Z"
   },
   {
    "duration": 22,
    "start_time": "2022-07-29T07:33:19.572Z"
   },
   {
    "duration": 47,
    "start_time": "2022-07-29T07:33:35.736Z"
   },
   {
    "duration": 16,
    "start_time": "2022-07-29T07:33:38.778Z"
   },
   {
    "duration": 27,
    "start_time": "2022-07-29T07:33:42.577Z"
   },
   {
    "duration": 142,
    "start_time": "2022-07-29T07:34:23.090Z"
   },
   {
    "duration": 10,
    "start_time": "2022-07-29T07:34:27.679Z"
   },
   {
    "duration": 6,
    "start_time": "2022-07-29T07:34:31.595Z"
   },
   {
    "duration": 85,
    "start_time": "2022-07-29T07:38:59.533Z"
   },
   {
    "duration": 11,
    "start_time": "2022-07-29T07:39:57.100Z"
   },
   {
    "duration": 288,
    "start_time": "2022-07-29T07:40:10.605Z"
   },
   {
    "duration": 22,
    "start_time": "2022-07-29T07:40:19.466Z"
   },
   {
    "duration": 321,
    "start_time": "2022-07-29T07:41:01.010Z"
   },
   {
    "duration": 21,
    "start_time": "2022-07-29T07:41:04.893Z"
   },
   {
    "duration": 7,
    "start_time": "2022-07-29T07:41:18.164Z"
   },
   {
    "duration": 141,
    "start_time": "2022-07-29T07:41:23.744Z"
   },
   {
    "duration": 180,
    "start_time": "2022-07-29T07:41:39.176Z"
   },
   {
    "duration": 164,
    "start_time": "2022-07-29T07:41:53.754Z"
   },
   {
    "duration": 732,
    "start_time": "2022-07-29T07:53:58.943Z"
   },
   {
    "duration": 800,
    "start_time": "2022-07-29T07:54:08.741Z"
   },
   {
    "duration": 777,
    "start_time": "2022-07-29T07:54:48.068Z"
   },
   {
    "duration": 787,
    "start_time": "2022-07-29T07:55:20.358Z"
   },
   {
    "duration": 118,
    "start_time": "2022-07-29T07:55:42.014Z"
   },
   {
    "duration": 165,
    "start_time": "2022-07-29T08:02:16.554Z"
   },
   {
    "duration": 178,
    "start_time": "2022-07-29T08:02:21.974Z"
   },
   {
    "duration": 164,
    "start_time": "2022-07-29T08:04:07.870Z"
   },
   {
    "duration": 114,
    "start_time": "2022-07-29T08:04:25.962Z"
   },
   {
    "duration": 874,
    "start_time": "2022-07-29T08:05:06.142Z"
   },
   {
    "duration": 976,
    "start_time": "2022-07-29T08:07:13.844Z"
   },
   {
    "duration": 827,
    "start_time": "2022-07-29T08:07:25.875Z"
   },
   {
    "duration": 773,
    "start_time": "2022-07-29T08:07:58.697Z"
   },
   {
    "duration": 841,
    "start_time": "2022-07-29T08:08:02.513Z"
   },
   {
    "duration": 170,
    "start_time": "2022-07-29T08:08:18.170Z"
   },
   {
    "duration": 106,
    "start_time": "2022-07-29T08:08:23.344Z"
   },
   {
    "duration": 161,
    "start_time": "2022-07-29T08:10:46.938Z"
   },
   {
    "duration": 97,
    "start_time": "2022-07-29T08:10:57.639Z"
   },
   {
    "duration": 7,
    "start_time": "2022-07-29T08:16:42.503Z"
   },
   {
    "duration": 799,
    "start_time": "2022-07-29T08:17:16.939Z"
   },
   {
    "duration": 5,
    "start_time": "2022-07-29T08:18:02.535Z"
   },
   {
    "duration": 8,
    "start_time": "2022-07-29T08:29:05.646Z"
   },
   {
    "duration": 8,
    "start_time": "2022-07-29T08:44:30.927Z"
   },
   {
    "duration": 10,
    "start_time": "2022-07-29T08:44:57.061Z"
   },
   {
    "duration": 964,
    "start_time": "2022-07-29T08:45:06.410Z"
   },
   {
    "duration": 50,
    "start_time": "2022-07-29T08:46:32.108Z"
   },
   {
    "duration": 2,
    "start_time": "2022-07-29T08:46:40.470Z"
   },
   {
    "duration": 667,
    "start_time": "2022-07-29T08:46:40.474Z"
   },
   {
    "duration": 21,
    "start_time": "2022-07-29T08:46:41.143Z"
   },
   {
    "duration": 80,
    "start_time": "2022-07-29T08:46:41.166Z"
   },
   {
    "duration": 13,
    "start_time": "2022-07-29T08:46:41.248Z"
   },
   {
    "duration": 13,
    "start_time": "2022-07-29T08:46:41.263Z"
   },
   {
    "duration": 7,
    "start_time": "2022-07-29T08:46:41.279Z"
   },
   {
    "duration": 46,
    "start_time": "2022-07-29T08:46:41.288Z"
   },
   {
    "duration": 155,
    "start_time": "2022-07-29T08:46:41.335Z"
   },
   {
    "duration": 256,
    "start_time": "2022-07-29T08:46:41.492Z"
   },
   {
    "duration": 203,
    "start_time": "2022-07-29T08:46:41.750Z"
   },
   {
    "duration": 51,
    "start_time": "2022-07-29T08:46:45.830Z"
   },
   {
    "duration": 28,
    "start_time": "2022-07-29T08:47:11.142Z"
   },
   {
    "duration": 24,
    "start_time": "2022-07-29T08:47:21.550Z"
   },
   {
    "duration": 25,
    "start_time": "2022-07-29T08:47:29.193Z"
   },
   {
    "duration": 10,
    "start_time": "2022-07-29T08:48:02.757Z"
   },
   {
    "duration": 11,
    "start_time": "2022-07-29T08:48:11.297Z"
   },
   {
    "duration": 25,
    "start_time": "2022-07-29T08:48:17.384Z"
   },
   {
    "duration": 4,
    "start_time": "2022-07-29T08:48:22.666Z"
   },
   {
    "duration": 8,
    "start_time": "2022-07-29T08:48:42.789Z"
   },
   {
    "duration": 8,
    "start_time": "2022-07-29T08:48:46.333Z"
   },
   {
    "duration": 9,
    "start_time": "2022-07-29T08:48:49.145Z"
   },
   {
    "duration": 18,
    "start_time": "2022-07-29T08:54:09.337Z"
   },
   {
    "duration": 975,
    "start_time": "2022-07-29T09:00:15.000Z"
   },
   {
    "duration": 7,
    "start_time": "2022-07-29T09:02:05.576Z"
   },
   {
    "duration": 76,
    "start_time": "2022-07-29T09:04:40.015Z"
   },
   {
    "duration": 123,
    "start_time": "2022-07-29T09:08:47.506Z"
   },
   {
    "duration": 117,
    "start_time": "2022-07-29T09:09:26.365Z"
   },
   {
    "duration": 129,
    "start_time": "2022-07-29T09:09:46.781Z"
   },
   {
    "duration": 127,
    "start_time": "2022-07-29T09:10:55.744Z"
   },
   {
    "duration": 154,
    "start_time": "2022-07-29T09:14:48.926Z"
   },
   {
    "duration": 108,
    "start_time": "2022-07-29T09:16:05.253Z"
   },
   {
    "duration": 119,
    "start_time": "2022-07-29T09:16:19.642Z"
   },
   {
    "duration": 120,
    "start_time": "2022-07-29T09:17:28.229Z"
   },
   {
    "duration": 203,
    "start_time": "2022-07-29T09:20:37.697Z"
   },
   {
    "duration": 55,
    "start_time": "2022-07-29T09:34:21.267Z"
   },
   {
    "duration": 272,
    "start_time": "2022-07-29T09:34:41.866Z"
   },
   {
    "duration": 129,
    "start_time": "2022-07-29T09:35:15.011Z"
   },
   {
    "duration": 213,
    "start_time": "2022-07-29T09:35:49.532Z"
   },
   {
    "duration": 241,
    "start_time": "2022-07-29T09:36:49.976Z"
   },
   {
    "duration": 196,
    "start_time": "2022-07-29T09:37:02.658Z"
   },
   {
    "duration": 192,
    "start_time": "2022-07-29T09:39:00.845Z"
   },
   {
    "duration": 75,
    "start_time": "2022-07-29T09:39:25.633Z"
   },
   {
    "duration": 5,
    "start_time": "2022-07-29T09:39:33.108Z"
   },
   {
    "duration": 179,
    "start_time": "2022-07-29T09:39:38.049Z"
   },
   {
    "duration": 274,
    "start_time": "2022-07-29T09:40:11.614Z"
   },
   {
    "duration": 218,
    "start_time": "2022-07-29T09:40:55.518Z"
   },
   {
    "duration": 211,
    "start_time": "2022-07-29T09:42:09.538Z"
   },
   {
    "duration": 224,
    "start_time": "2022-07-29T09:42:18.392Z"
   },
   {
    "duration": 16,
    "start_time": "2022-07-29T09:52:37.445Z"
   },
   {
    "duration": 10,
    "start_time": "2022-07-29T09:54:26.654Z"
   },
   {
    "duration": 14,
    "start_time": "2022-07-29T09:55:13.274Z"
   },
   {
    "duration": 19,
    "start_time": "2022-07-29T09:56:57.355Z"
   },
   {
    "duration": 14,
    "start_time": "2022-07-29T09:57:20.180Z"
   },
   {
    "duration": 18,
    "start_time": "2022-07-29T09:57:43.840Z"
   },
   {
    "duration": 18,
    "start_time": "2022-07-29T09:58:17.619Z"
   },
   {
    "duration": 18,
    "start_time": "2022-07-29T09:58:24.987Z"
   },
   {
    "duration": 3,
    "start_time": "2022-07-29T09:58:46.446Z"
   },
   {
    "duration": 727,
    "start_time": "2022-07-29T09:58:46.452Z"
   },
   {
    "duration": 20,
    "start_time": "2022-07-29T09:58:47.182Z"
   },
   {
    "duration": 68,
    "start_time": "2022-07-29T09:58:47.204Z"
   },
   {
    "duration": 12,
    "start_time": "2022-07-29T09:58:47.274Z"
   },
   {
    "duration": 23,
    "start_time": "2022-07-29T09:58:47.288Z"
   },
   {
    "duration": 4,
    "start_time": "2022-07-29T09:58:47.313Z"
   },
   {
    "duration": 26,
    "start_time": "2022-07-29T09:58:47.319Z"
   },
   {
    "duration": 163,
    "start_time": "2022-07-29T09:58:47.347Z"
   },
   {
    "duration": 259,
    "start_time": "2022-07-29T09:58:47.513Z"
   },
   {
    "duration": 180,
    "start_time": "2022-07-29T09:58:47.775Z"
   },
   {
    "duration": 7,
    "start_time": "2022-07-29T09:58:47.957Z"
   },
   {
    "duration": 17,
    "start_time": "2022-07-29T09:58:47.966Z"
   },
   {
    "duration": 12,
    "start_time": "2022-07-29T09:58:47.985Z"
   },
   {
    "duration": 15,
    "start_time": "2022-07-29T09:58:47.999Z"
   },
   {
    "duration": 955,
    "start_time": "2022-07-29T09:58:48.015Z"
   },
   {
    "duration": 5,
    "start_time": "2022-07-29T09:58:48.972Z"
   },
   {
    "duration": 264,
    "start_time": "2022-07-29T09:58:48.979Z"
   },
   {
    "duration": 20,
    "start_time": "2022-07-29T09:58:49.246Z"
   },
   {
    "duration": 18,
    "start_time": "2022-07-29T09:58:58.765Z"
   },
   {
    "duration": 14,
    "start_time": "2022-07-29T09:59:30.520Z"
   },
   {
    "duration": 90,
    "start_time": "2022-07-29T10:00:10.778Z"
   },
   {
    "duration": 15,
    "start_time": "2022-07-29T10:00:23.855Z"
   },
   {
    "duration": 17,
    "start_time": "2022-07-29T10:00:41.508Z"
   },
   {
    "duration": 17,
    "start_time": "2022-07-29T10:00:43.333Z"
   },
   {
    "duration": 16,
    "start_time": "2022-07-29T10:00:57.009Z"
   },
   {
    "duration": 20,
    "start_time": "2022-07-29T10:01:39.133Z"
   },
   {
    "duration": 15,
    "start_time": "2022-07-29T10:01:56.078Z"
   },
   {
    "duration": 11,
    "start_time": "2022-07-29T10:02:13.028Z"
   },
   {
    "duration": 20,
    "start_time": "2022-07-29T10:02:45.075Z"
   },
   {
    "duration": 17,
    "start_time": "2022-07-29T10:04:36.480Z"
   },
   {
    "duration": 19,
    "start_time": "2022-07-29T10:04:45.848Z"
   },
   {
    "duration": 23,
    "start_time": "2022-07-29T10:05:00.113Z"
   },
   {
    "duration": 25,
    "start_time": "2022-07-29T10:06:18.445Z"
   },
   {
    "duration": 26,
    "start_time": "2022-07-29T10:06:49.074Z"
   },
   {
    "duration": 18,
    "start_time": "2022-07-29T10:06:58.044Z"
   },
   {
    "duration": 191,
    "start_time": "2022-07-29T10:34:07.877Z"
   },
   {
    "duration": 170,
    "start_time": "2022-07-29T10:34:39.529Z"
   },
   {
    "duration": 200,
    "start_time": "2022-07-29T10:35:17.203Z"
   },
   {
    "duration": 16,
    "start_time": "2022-07-29T10:35:41.587Z"
   },
   {
    "duration": 211,
    "start_time": "2022-07-29T10:35:56.809Z"
   },
   {
    "duration": 198,
    "start_time": "2022-07-29T10:36:07.905Z"
   },
   {
    "duration": 202,
    "start_time": "2022-07-29T10:36:17.827Z"
   },
   {
    "duration": 292,
    "start_time": "2022-07-29T10:43:35.853Z"
   },
   {
    "duration": 191,
    "start_time": "2022-07-29T10:43:42.879Z"
   },
   {
    "duration": 107,
    "start_time": "2022-07-29T10:43:58.095Z"
   },
   {
    "duration": 305,
    "start_time": "2022-07-29T10:50:29.830Z"
   },
   {
    "duration": 288,
    "start_time": "2022-07-29T10:50:38.604Z"
   },
   {
    "duration": 314,
    "start_time": "2022-07-29T10:50:44.925Z"
   },
   {
    "duration": 305,
    "start_time": "2022-07-29T10:51:39.329Z"
   },
   {
    "duration": 279,
    "start_time": "2022-07-29T10:51:45.951Z"
   },
   {
    "duration": 238,
    "start_time": "2022-07-29T10:52:03.998Z"
   },
   {
    "duration": 336,
    "start_time": "2022-07-29T10:55:02.947Z"
   },
   {
    "duration": 271,
    "start_time": "2022-07-29T10:55:21.272Z"
   },
   {
    "duration": 226,
    "start_time": "2022-07-29T10:56:05.751Z"
   },
   {
    "duration": 249,
    "start_time": "2022-07-29T10:57:02.785Z"
   },
   {
    "duration": 243,
    "start_time": "2022-07-29T10:58:01.293Z"
   },
   {
    "duration": 3,
    "start_time": "2022-07-29T10:58:31.505Z"
   },
   {
    "duration": 818,
    "start_time": "2022-07-29T10:58:31.533Z"
   },
   {
    "duration": 20,
    "start_time": "2022-07-29T10:58:32.354Z"
   },
   {
    "duration": 84,
    "start_time": "2022-07-29T10:58:32.376Z"
   },
   {
    "duration": 13,
    "start_time": "2022-07-29T10:58:32.462Z"
   },
   {
    "duration": 11,
    "start_time": "2022-07-29T10:58:32.477Z"
   },
   {
    "duration": 13,
    "start_time": "2022-07-29T10:58:32.512Z"
   },
   {
    "duration": 33,
    "start_time": "2022-07-29T10:58:32.527Z"
   },
   {
    "duration": 162,
    "start_time": "2022-07-29T10:58:32.563Z"
   },
   {
    "duration": 283,
    "start_time": "2022-07-29T10:58:32.727Z"
   },
   {
    "duration": 157,
    "start_time": "2022-07-29T10:58:33.016Z"
   },
   {
    "duration": 7,
    "start_time": "2022-07-29T10:58:33.175Z"
   },
   {
    "duration": 10,
    "start_time": "2022-07-29T10:58:33.183Z"
   },
   {
    "duration": 27,
    "start_time": "2022-07-29T10:58:33.195Z"
   },
   {
    "duration": 11,
    "start_time": "2022-07-29T10:58:33.227Z"
   },
   {
    "duration": 979,
    "start_time": "2022-07-29T10:58:33.239Z"
   },
   {
    "duration": 12,
    "start_time": "2022-07-29T10:58:34.220Z"
   },
   {
    "duration": 267,
    "start_time": "2022-07-29T10:58:34.234Z"
   },
   {
    "duration": 197,
    "start_time": "2022-07-29T10:58:34.503Z"
   },
   {
    "duration": 225,
    "start_time": "2022-07-29T10:59:35.761Z"
   },
   {
    "duration": 248,
    "start_time": "2022-07-29T10:59:50.254Z"
   },
   {
    "duration": 11,
    "start_time": "2022-07-29T11:02:03.405Z"
   },
   {
    "duration": 6,
    "start_time": "2022-07-29T11:02:26.454Z"
   },
   {
    "duration": 182,
    "start_time": "2022-07-29T11:02:45.960Z"
   },
   {
    "duration": 179,
    "start_time": "2022-07-29T11:03:49.950Z"
   },
   {
    "duration": 86,
    "start_time": "2022-07-29T11:04:32.085Z"
   },
   {
    "duration": 98,
    "start_time": "2022-07-29T11:04:37.581Z"
   },
   {
    "duration": 25,
    "start_time": "2022-07-29T11:04:46.578Z"
   },
   {
    "duration": 19,
    "start_time": "2022-07-29T11:05:03.353Z"
   },
   {
    "duration": 27,
    "start_time": "2022-07-29T11:05:12.170Z"
   },
   {
    "duration": 181,
    "start_time": "2022-07-29T11:05:17.477Z"
   },
   {
    "duration": 179,
    "start_time": "2022-07-29T11:06:25.531Z"
   },
   {
    "duration": 20,
    "start_time": "2022-07-29T11:06:38.358Z"
   },
   {
    "duration": 234,
    "start_time": "2022-07-29T11:06:51.701Z"
   },
   {
    "duration": 13,
    "start_time": "2022-07-29T11:07:04.795Z"
   },
   {
    "duration": 15,
    "start_time": "2022-07-29T11:07:24.819Z"
   },
   {
    "duration": 12,
    "start_time": "2022-07-29T11:07:51.755Z"
   },
   {
    "duration": 176,
    "start_time": "2022-07-29T11:07:57.173Z"
   },
   {
    "duration": 181,
    "start_time": "2022-07-29T11:08:15.057Z"
   },
   {
    "duration": 82,
    "start_time": "2022-07-29T11:15:44.856Z"
   },
   {
    "duration": 522,
    "start_time": "2022-07-29T11:16:07.956Z"
   },
   {
    "duration": 109,
    "start_time": "2022-07-29T11:16:41.589Z"
   },
   {
    "duration": 587,
    "start_time": "2022-07-29T11:17:00.856Z"
   },
   {
    "duration": 145,
    "start_time": "2022-07-29T11:18:29.093Z"
   },
   {
    "duration": 477,
    "start_time": "2022-07-29T11:19:26.875Z"
   },
   {
    "duration": 677,
    "start_time": "2022-07-29T11:21:00.606Z"
   },
   {
    "duration": 719,
    "start_time": "2022-07-29T11:21:12.260Z"
   },
   {
    "duration": 457,
    "start_time": "2022-07-29T11:21:25.288Z"
   },
   {
    "duration": 707,
    "start_time": "2022-07-29T11:21:33.669Z"
   },
   {
    "duration": 192,
    "start_time": "2022-07-29T11:29:39.095Z"
   },
   {
    "duration": 373,
    "start_time": "2022-07-29T11:29:52.971Z"
   },
   {
    "duration": 199,
    "start_time": "2022-07-29T11:30:04.692Z"
   },
   {
    "duration": 186,
    "start_time": "2022-07-29T11:30:41.084Z"
   },
   {
    "duration": 20,
    "start_time": "2022-07-29T11:30:50.256Z"
   },
   {
    "duration": 187,
    "start_time": "2022-07-29T11:31:00.928Z"
   },
   {
    "duration": 225,
    "start_time": "2022-07-29T11:31:15.119Z"
   },
   {
    "duration": 29,
    "start_time": "2022-07-29T11:31:26.866Z"
   },
   {
    "duration": 203,
    "start_time": "2022-07-29T11:31:32.265Z"
   },
   {
    "duration": 424,
    "start_time": "2022-07-29T11:35:50.453Z"
   },
   {
    "duration": 583,
    "start_time": "2022-07-29T11:37:23.823Z"
   },
   {
    "duration": 372,
    "start_time": "2022-07-29T11:37:50.361Z"
   },
   {
    "duration": 175,
    "start_time": "2022-07-29T11:37:56.825Z"
   },
   {
    "duration": 13,
    "start_time": "2022-07-29T11:40:14.727Z"
   },
   {
    "duration": 669,
    "start_time": "2022-07-29T11:45:28.421Z"
   },
   {
    "duration": 113,
    "start_time": "2022-07-29T11:50:16.332Z"
   },
   {
    "duration": 98,
    "start_time": "2022-07-29T11:51:01.733Z"
   },
   {
    "duration": 97,
    "start_time": "2022-07-29T11:51:18.273Z"
   },
   {
    "duration": 94,
    "start_time": "2022-07-29T11:51:22.986Z"
   },
   {
    "duration": 1368,
    "start_time": "2022-07-29T11:51:45.793Z"
   },
   {
    "duration": 1472,
    "start_time": "2022-07-29T11:52:20.569Z"
   },
   {
    "duration": 1475,
    "start_time": "2022-07-29T11:52:36.989Z"
   },
   {
    "duration": 1363,
    "start_time": "2022-07-29T11:52:55.906Z"
   },
   {
    "duration": 519,
    "start_time": "2022-07-29T11:53:56.733Z"
   },
   {
    "duration": 576,
    "start_time": "2022-07-29T11:54:27.874Z"
   },
   {
    "duration": 643,
    "start_time": "2022-07-29T11:54:32.598Z"
   },
   {
    "duration": 540,
    "start_time": "2022-07-29T11:54:40.392Z"
   },
   {
    "duration": 528,
    "start_time": "2022-07-29T11:56:17.388Z"
   },
   {
    "duration": 506,
    "start_time": "2022-07-29T11:56:23.673Z"
   },
   {
    "duration": 538,
    "start_time": "2022-07-29T11:57:27.070Z"
   },
   {
    "duration": 513,
    "start_time": "2022-07-29T11:59:06.360Z"
   },
   {
    "duration": 16,
    "start_time": "2022-07-29T12:05:46.925Z"
   },
   {
    "duration": 631,
    "start_time": "2022-07-29T12:05:58.800Z"
   },
   {
    "duration": 580,
    "start_time": "2022-07-29T12:06:55.085Z"
   },
   {
    "duration": 492,
    "start_time": "2022-07-29T12:07:25.571Z"
   },
   {
    "duration": 48,
    "start_time": "2022-07-29T12:12:15.505Z"
   },
   {
    "duration": 68,
    "start_time": "2022-07-29T12:12:27.579Z"
   },
   {
    "duration": 88,
    "start_time": "2022-07-29T12:12:40.261Z"
   },
   {
    "duration": 52,
    "start_time": "2022-07-29T12:12:44.273Z"
   },
   {
    "duration": 60,
    "start_time": "2022-07-29T12:13:12.118Z"
   },
   {
    "duration": 75,
    "start_time": "2022-07-29T12:13:45.864Z"
   },
   {
    "duration": 396,
    "start_time": "2022-07-29T12:13:56.599Z"
   },
   {
    "duration": 560,
    "start_time": "2022-07-29T12:14:05.052Z"
   },
   {
    "duration": 59,
    "start_time": "2022-07-29T12:14:37.184Z"
   },
   {
    "duration": 46,
    "start_time": "2022-07-29T12:16:28.287Z"
   },
   {
    "duration": 67,
    "start_time": "2022-07-29T12:16:36.152Z"
   },
   {
    "duration": 541,
    "start_time": "2022-07-29T12:18:46.857Z"
   },
   {
    "duration": 926,
    "start_time": "2022-07-29T12:19:40.250Z"
   },
   {
    "duration": 1216,
    "start_time": "2022-07-29T12:20:01.318Z"
   },
   {
    "duration": 947,
    "start_time": "2022-07-29T12:20:15.472Z"
   },
   {
    "duration": 974,
    "start_time": "2022-07-29T12:20:37.351Z"
   },
   {
    "duration": 1154,
    "start_time": "2022-07-29T12:20:48.046Z"
   },
   {
    "duration": 1225,
    "start_time": "2022-07-29T12:20:57.152Z"
   },
   {
    "duration": 896,
    "start_time": "2022-07-29T12:21:06.152Z"
   },
   {
    "duration": 64,
    "start_time": "2022-07-29T12:21:29.023Z"
   },
   {
    "duration": 58,
    "start_time": "2022-07-29T12:22:27.058Z"
   },
   {
    "duration": 85,
    "start_time": "2022-07-29T12:28:11.314Z"
   },
   {
    "duration": 71,
    "start_time": "2022-07-29T12:28:32.270Z"
   },
   {
    "duration": 74,
    "start_time": "2022-07-29T12:31:29.757Z"
   },
   {
    "duration": 53,
    "start_time": "2022-07-29T12:32:05.499Z"
   },
   {
    "duration": 78,
    "start_time": "2022-07-29T12:32:16.651Z"
   },
   {
    "duration": 88,
    "start_time": "2022-07-29T12:32:29.513Z"
   },
   {
    "duration": 74,
    "start_time": "2022-07-29T12:32:32.784Z"
   },
   {
    "duration": 72,
    "start_time": "2022-07-29T12:32:56.059Z"
   },
   {
    "duration": 82,
    "start_time": "2022-07-29T12:33:00.464Z"
   },
   {
    "duration": 96,
    "start_time": "2022-07-29T12:33:09.566Z"
   },
   {
    "duration": 77,
    "start_time": "2022-07-29T12:33:19.214Z"
   },
   {
    "duration": 92,
    "start_time": "2022-07-29T12:33:26.114Z"
   },
   {
    "duration": 101,
    "start_time": "2022-07-29T12:33:36.750Z"
   },
   {
    "duration": 124,
    "start_time": "2022-07-29T12:34:22.812Z"
   },
   {
    "duration": 75,
    "start_time": "2022-07-29T12:34:29.256Z"
   },
   {
    "duration": 75,
    "start_time": "2022-07-29T12:34:48.019Z"
   },
   {
    "duration": 77,
    "start_time": "2022-07-29T12:35:08.363Z"
   },
   {
    "duration": 78,
    "start_time": "2022-07-29T12:35:40.723Z"
   },
   {
    "duration": 494,
    "start_time": "2022-07-29T12:36:56.034Z"
   },
   {
    "duration": 107,
    "start_time": "2022-07-29T12:43:07.581Z"
   },
   {
    "duration": 118,
    "start_time": "2022-07-29T12:43:20.172Z"
   },
   {
    "duration": 110,
    "start_time": "2022-07-29T12:43:36.516Z"
   },
   {
    "duration": 106,
    "start_time": "2022-07-29T12:44:27.156Z"
   },
   {
    "duration": 73,
    "start_time": "2022-07-29T12:56:03.233Z"
   },
   {
    "duration": 10,
    "start_time": "2022-07-29T13:14:56.351Z"
   },
   {
    "duration": 17,
    "start_time": "2022-07-29T13:16:04.897Z"
   },
   {
    "duration": 5,
    "start_time": "2022-07-29T13:16:10.862Z"
   },
   {
    "duration": 786,
    "start_time": "2022-07-29T13:16:10.903Z"
   },
   {
    "duration": 765,
    "start_time": "2022-07-29T13:16:11.692Z"
   },
   {
    "duration": 247,
    "start_time": "2022-07-29T13:16:12.459Z"
   },
   {
    "duration": 121,
    "start_time": "2022-07-29T13:16:12.712Z"
   },
   {
    "duration": 12,
    "start_time": "2022-07-29T13:16:12.837Z"
   },
   {
    "duration": 10,
    "start_time": "2022-07-29T13:16:12.852Z"
   },
   {
    "duration": 33,
    "start_time": "2022-07-29T13:16:12.864Z"
   },
   {
    "duration": 187,
    "start_time": "2022-07-29T13:16:12.899Z"
   },
   {
    "duration": 340,
    "start_time": "2022-07-29T13:16:13.088Z"
   },
   {
    "duration": 173,
    "start_time": "2022-07-29T13:16:13.431Z"
   },
   {
    "duration": 11,
    "start_time": "2022-07-29T13:16:13.610Z"
   },
   {
    "duration": 27,
    "start_time": "2022-07-29T13:16:13.623Z"
   },
   {
    "duration": 13,
    "start_time": "2022-07-29T13:16:13.653Z"
   },
   {
    "duration": 18,
    "start_time": "2022-07-29T13:16:13.669Z"
   },
   {
    "duration": 1049,
    "start_time": "2022-07-29T13:16:13.688Z"
   },
   {
    "duration": 8,
    "start_time": "2022-07-29T13:16:14.740Z"
   },
   {
    "duration": 335,
    "start_time": "2022-07-29T13:16:14.750Z"
   },
   {
    "duration": 258,
    "start_time": "2022-07-29T13:16:15.087Z"
   },
   {
    "duration": 632,
    "start_time": "2022-07-29T13:16:15.348Z"
   },
   {
    "duration": 149,
    "start_time": "2022-07-29T13:16:15.982Z"
   },
   {
    "duration": 11,
    "start_time": "2022-07-29T13:16:16.134Z"
   },
   {
    "duration": 262,
    "start_time": "2022-07-29T13:16:23.704Z"
   },
   {
    "duration": 17,
    "start_time": "2022-07-29T13:18:07.764Z"
   },
   {
    "duration": 250,
    "start_time": "2022-07-29T13:20:16.940Z"
   },
   {
    "duration": 295,
    "start_time": "2022-07-29T13:20:46.589Z"
   },
   {
    "duration": 32,
    "start_time": "2022-07-29T13:21:06.604Z"
   },
   {
    "duration": 238,
    "start_time": "2022-07-29T13:21:08.878Z"
   },
   {
    "duration": 16,
    "start_time": "2022-07-29T13:21:49.873Z"
   },
   {
    "duration": 229,
    "start_time": "2022-07-29T13:21:52.640Z"
   },
   {
    "duration": 302,
    "start_time": "2022-07-29T13:25:19.254Z"
   },
   {
    "duration": 75,
    "start_time": "2022-07-29T13:30:59.026Z"
   },
   {
    "duration": 11,
    "start_time": "2022-07-29T13:31:17.684Z"
   },
   {
    "duration": 10,
    "start_time": "2022-07-29T13:31:20.694Z"
   },
   {
    "duration": 38,
    "start_time": "2022-07-29T13:31:47.761Z"
   },
   {
    "duration": 19,
    "start_time": "2022-07-29T13:32:03.149Z"
   },
   {
    "duration": 19,
    "start_time": "2022-07-29T13:32:24.659Z"
   },
   {
    "duration": 5,
    "start_time": "2022-07-29T13:32:29.594Z"
   },
   {
    "duration": 81,
    "start_time": "2022-07-29T13:33:55.136Z"
   },
   {
    "duration": 89,
    "start_time": "2022-07-29T13:34:13.444Z"
   },
   {
    "duration": 27,
    "start_time": "2022-07-29T13:34:16.122Z"
   },
   {
    "duration": 232,
    "start_time": "2022-07-29T13:35:33.185Z"
   },
   {
    "duration": 162,
    "start_time": "2022-07-29T13:35:43.365Z"
   },
   {
    "duration": 11,
    "start_time": "2022-07-29T13:36:00.129Z"
   },
   {
    "duration": 2284,
    "start_time": "2022-07-29T13:36:14.694Z"
   },
   {
    "duration": 773,
    "start_time": "2022-07-29T13:36:33.294Z"
   },
   {
    "duration": 88,
    "start_time": "2022-07-29T13:36:47.557Z"
   },
   {
    "duration": 81,
    "start_time": "2022-07-29T13:37:31.798Z"
   },
   {
    "duration": 84,
    "start_time": "2022-07-29T13:37:44.757Z"
   },
   {
    "duration": 26,
    "start_time": "2022-07-29T13:37:49.023Z"
   },
   {
    "duration": 107,
    "start_time": "2022-07-29T13:38:27.791Z"
   },
   {
    "duration": 10,
    "start_time": "2022-07-29T13:40:21.833Z"
   },
   {
    "duration": 121,
    "start_time": "2022-07-29T13:40:55.431Z"
   },
   {
    "duration": 12,
    "start_time": "2022-07-29T13:41:36.917Z"
   },
   {
    "duration": 10,
    "start_time": "2022-07-29T13:41:44.577Z"
   },
   {
    "duration": 10,
    "start_time": "2022-07-29T13:42:02.296Z"
   },
   {
    "duration": 39,
    "start_time": "2022-07-29T13:42:17.775Z"
   },
   {
    "duration": 33,
    "start_time": "2022-07-29T13:42:24.829Z"
   },
   {
    "duration": 14,
    "start_time": "2022-07-29T13:53:07.724Z"
   },
   {
    "duration": 15,
    "start_time": "2022-07-29T13:53:53.449Z"
   },
   {
    "duration": 13,
    "start_time": "2022-07-29T13:54:00.535Z"
   },
   {
    "duration": 12,
    "start_time": "2022-07-29T13:54:04.337Z"
   },
   {
    "duration": 60,
    "start_time": "2022-07-29T13:54:15.989Z"
   },
   {
    "duration": 34,
    "start_time": "2022-07-29T13:54:21.525Z"
   },
   {
    "duration": 10,
    "start_time": "2022-07-29T13:54:54.736Z"
   },
   {
    "duration": 5,
    "start_time": "2022-07-29T13:55:08.145Z"
   },
   {
    "duration": 22,
    "start_time": "2022-07-29T13:55:10.960Z"
   },
   {
    "duration": 4,
    "start_time": "2022-07-29T14:03:17.026Z"
   },
   {
    "duration": 27,
    "start_time": "2022-07-29T14:03:47.918Z"
   },
   {
    "duration": 5,
    "start_time": "2022-07-29T14:03:51.785Z"
   },
   {
    "duration": 83,
    "start_time": "2022-07-29T14:03:58.956Z"
   },
   {
    "duration": 119,
    "start_time": "2022-07-29T14:04:00.625Z"
   },
   {
    "duration": 29,
    "start_time": "2022-07-29T14:04:08.965Z"
   },
   {
    "duration": 32,
    "start_time": "2022-07-29T14:04:09.753Z"
   },
   {
    "duration": 12,
    "start_time": "2022-07-29T14:04:11.358Z"
   },
   {
    "duration": 229,
    "start_time": "2022-07-29T14:06:02.636Z"
   }
  ],
  "kernelspec": {
   "display_name": "Python 3 (ipykernel)",
   "language": "python",
   "name": "python3"
  },
  "language_info": {
   "codemirror_mode": {
    "name": "ipython",
    "version": 3
   },
   "file_extension": ".py",
   "mimetype": "text/x-python",
   "name": "python",
   "nbconvert_exporter": "python",
   "pygments_lexer": "ipython3",
   "version": "3.9.5"
  },
  "toc": {
   "base_numbering": 1,
   "nav_menu": {},
   "number_sections": true,
   "sideBar": true,
   "skip_h1_title": true,
   "title_cell": "Table of Contents",
   "title_sidebar": "Contents",
   "toc_cell": false,
   "toc_position": {
    "height": "calc(100% - 180px)",
    "left": "10px",
    "top": "150px",
    "width": "294.391px"
   },
   "toc_section_display": true,
   "toc_window_display": true
  }
 },
 "nbformat": 4,
 "nbformat_minor": 4
}
