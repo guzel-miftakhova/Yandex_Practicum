{
 "cells": [
  {
   "cell_type": "markdown",
   "metadata": {
    "toc": true
   },
   "source": [
    "<h1>Содержание<span class=\"tocSkip\"></span></h1>\n",
    "<div class=\"toc\"><ul class=\"toc-item\"><li><span><a href=\"#Обзор-данных\" data-toc-modified-id=\"Обзор-данных-1\"><span class=\"toc-item-num\">1&nbsp;&nbsp;</span>Обзор данных</a></span></li><li><span><a href=\"#Предобработка-данных\" data-toc-modified-id=\"Предобработка-данных-2\"><span class=\"toc-item-num\">2&nbsp;&nbsp;</span>Предобработка данных</a></span><ul class=\"toc-item\"><li><span><a href=\"#Стиль-столбцов\" data-toc-modified-id=\"Стиль-столбцов-2.1\"><span class=\"toc-item-num\">2.1&nbsp;&nbsp;</span>Стиль столбцов</a></span></li><li><span><a href=\"#Обработка-пропусков\" data-toc-modified-id=\"Обработка-пропусков-2.2\"><span class=\"toc-item-num\">2.2&nbsp;&nbsp;</span>Обработка пропусков</a></span></li><li><span><a href=\"#Проверка-данных-на-аномалии,-исправления,-дубликаты\" data-toc-modified-id=\"Проверка-данных-на-аномалии,-исправления,-дубликаты-2.3\"><span class=\"toc-item-num\">2.3&nbsp;&nbsp;</span>Проверка данных на аномалии, исправления, дубликаты</a></span></li></ul></li><li><span><a href=\"#Расчёты-и-добавление-результатов-в-таблицу\" data-toc-modified-id=\"Расчёты-и-добавление-результатов-в-таблицу-3\"><span class=\"toc-item-num\">3&nbsp;&nbsp;</span>Расчёты и добавление результатов в таблицу</a></span></li><li><span><a href=\"#Исследовательский-анализ-данных\" data-toc-modified-id=\"Исследовательский-анализ-данных-4\"><span class=\"toc-item-num\">4&nbsp;&nbsp;</span>Исследовательский анализ данных</a></span><ul class=\"toc-item\"><li><span><a href=\"#Площадь,-цена,-комнаты-и-потолки\" data-toc-modified-id=\"Площадь,-цена,-комнаты-и-потолки-4.1\"><span class=\"toc-item-num\">4.1&nbsp;&nbsp;</span>Площадь, цена, комнаты и потолки</a></span></li><li><span><a href=\"#Время-продажи\" data-toc-modified-id=\"Время-продажи-4.2\"><span class=\"toc-item-num\">4.2&nbsp;&nbsp;</span>Время продажи</a></span></li><li><span><a href=\"#Срез-данных\" data-toc-modified-id=\"Срез-данных-4.3\"><span class=\"toc-item-num\">4.3&nbsp;&nbsp;</span>Срез данных</a></span></li><li><span><a href=\"#Факторы,-больше-всего-влияющие-на-стоимость-квартиры\" data-toc-modified-id=\"Факторы,-больше-всего-влияющие-на-стоимость-квартиры-4.4\"><span class=\"toc-item-num\">4.4&nbsp;&nbsp;</span>Факторы, больше всего влияющие на стоимость квартиры</a></span><ul class=\"toc-item\"><li><span><a href=\"#Посмотрим-зависит-ли-цена-от-площади,-числа-комнат,-удалённости-от-центра\" data-toc-modified-id=\"Посмотрим-зависит-ли-цена-от-площади,-числа-комнат,-удалённости-от-центра-4.4.1\"><span class=\"toc-item-num\">4.4.1&nbsp;&nbsp;</span>Посмотрим зависит ли цена от площади, числа комнат, удалённости от центра</a></span></li><li><span><a href=\"#Проверим-есть-ли-зависимость-цены-от-того,-на-каком-этаже-расположена-квартира:-первом,-последнем-или-другом.\" data-toc-modified-id=\"Проверим-есть-ли-зависимость-цены-от-того,-на-каком-этаже-расположена-квартира:-первом,-последнем-или-другом.-4.4.2\"><span class=\"toc-item-num\">4.4.2&nbsp;&nbsp;</span>Проверим есть ли зависимость цены от того, на каком этаже расположена квартира: первом, последнем или другом.</a></span></li><li><span><a href=\"#Также-проверим-зависимость-от-даты-размещения:-дня-недели,-месяца-и-года\" data-toc-modified-id=\"Также-проверим-зависимость-от-даты-размещения:-дня-недели,-месяца-и-года-4.4.3\"><span class=\"toc-item-num\">4.4.3&nbsp;&nbsp;</span>Также проверим зависимость от даты размещения: дня недели, месяца и года</a></span></li><li><span><a href=\"#Посмотрим-на-наличие-парков-и-водоемов-рядом-и-важно-ли-то,-что-объект-недвижимости-является-аппартаментами\" data-toc-modified-id=\"Посмотрим-на-наличие-парков-и-водоемов-рядом-и-важно-ли-то,-что-объект-недвижимости-является-аппартаментами-4.4.4\"><span class=\"toc-item-num\">4.4.4&nbsp;&nbsp;</span>Посмотрим на наличие парков и водоемов рядом и важно ли то, что объект недвижимости является аппартаментами</a></span></li><li><span><a href=\"#Посмотрим-среднюю-цену-за-метр-в-самых-популярных-для-продажи-квартир-населенных-пунктах\" data-toc-modified-id=\"Посмотрим-среднюю-цену-за-метр-в-самых-популярных-для-продажи-квартир-населенных-пунктах-4.4.5\"><span class=\"toc-item-num\">4.4.5&nbsp;&nbsp;</span>Посмотрим среднюю цену за метр в самых популярных для продажи квартир населенных пунктах</a></span></li><li><span><a href=\"#Посмотрим-на-параметры,-влияющие-на-цену-в-центральном-рацоне-Санкт-Петербурга\" data-toc-modified-id=\"Посмотрим-на-параметры,-влияющие-на-цену-в-центральном-рацоне-Санкт-Петербурга-4.4.6\"><span class=\"toc-item-num\">4.4.6&nbsp;&nbsp;</span>Посмотрим на параметры, влияющие на цену в центральном рацоне Санкт-Петербурга</a></span></li></ul></li></ul></li><li><span><a href=\"#Общий-вывод\" data-toc-modified-id=\"Общий-вывод-5\"><span class=\"toc-item-num\">5&nbsp;&nbsp;</span>Общий вывод</a></span></li></ul></div>"
   ]
  },
  {
   "cell_type": "markdown",
   "metadata": {},
   "source": [
    "## Обзор данных "
   ]
  },
  {
   "cell_type": "code",
   "execution_count": 1,
   "metadata": {},
   "outputs": [
    {
     "data": {
      "text/html": [
       "<div>\n",
       "<style scoped>\n",
       "    .dataframe tbody tr th:only-of-type {\n",
       "        vertical-align: middle;\n",
       "    }\n",
       "\n",
       "    .dataframe tbody tr th {\n",
       "        vertical-align: top;\n",
       "    }\n",
       "\n",
       "    .dataframe thead th {\n",
       "        text-align: right;\n",
       "    }\n",
       "</style>\n",
       "<table border=\"1\" class=\"dataframe\">\n",
       "  <thead>\n",
       "    <tr style=\"text-align: right;\">\n",
       "      <th></th>\n",
       "      <th>total_images</th>\n",
       "      <th>last_price</th>\n",
       "      <th>total_area</th>\n",
       "      <th>first_day_exposition</th>\n",
       "      <th>rooms</th>\n",
       "      <th>ceiling_height</th>\n",
       "      <th>floors_total</th>\n",
       "      <th>living_area</th>\n",
       "      <th>floor</th>\n",
       "      <th>is_apartment</th>\n",
       "      <th>...</th>\n",
       "      <th>kitchen_area</th>\n",
       "      <th>balcony</th>\n",
       "      <th>locality_name</th>\n",
       "      <th>airports_nearest</th>\n",
       "      <th>cityCenters_nearest</th>\n",
       "      <th>parks_around3000</th>\n",
       "      <th>parks_nearest</th>\n",
       "      <th>ponds_around3000</th>\n",
       "      <th>ponds_nearest</th>\n",
       "      <th>days_exposition</th>\n",
       "    </tr>\n",
       "  </thead>\n",
       "  <tbody>\n",
       "    <tr>\n",
       "      <th>0</th>\n",
       "      <td>20</td>\n",
       "      <td>13000000.0</td>\n",
       "      <td>108.0</td>\n",
       "      <td>2019-03-07T00:00:00</td>\n",
       "      <td>3</td>\n",
       "      <td>2.70</td>\n",
       "      <td>16.0</td>\n",
       "      <td>51.0</td>\n",
       "      <td>8</td>\n",
       "      <td>NaN</td>\n",
       "      <td>...</td>\n",
       "      <td>25.0</td>\n",
       "      <td>NaN</td>\n",
       "      <td>Санкт-Петербург</td>\n",
       "      <td>18863.0</td>\n",
       "      <td>16028.0</td>\n",
       "      <td>1.0</td>\n",
       "      <td>482.0</td>\n",
       "      <td>2.0</td>\n",
       "      <td>755.0</td>\n",
       "      <td>NaN</td>\n",
       "    </tr>\n",
       "    <tr>\n",
       "      <th>1</th>\n",
       "      <td>7</td>\n",
       "      <td>3350000.0</td>\n",
       "      <td>40.4</td>\n",
       "      <td>2018-12-04T00:00:00</td>\n",
       "      <td>1</td>\n",
       "      <td>NaN</td>\n",
       "      <td>11.0</td>\n",
       "      <td>18.6</td>\n",
       "      <td>1</td>\n",
       "      <td>NaN</td>\n",
       "      <td>...</td>\n",
       "      <td>11.0</td>\n",
       "      <td>2.0</td>\n",
       "      <td>посёлок Шушары</td>\n",
       "      <td>12817.0</td>\n",
       "      <td>18603.0</td>\n",
       "      <td>0.0</td>\n",
       "      <td>NaN</td>\n",
       "      <td>0.0</td>\n",
       "      <td>NaN</td>\n",
       "      <td>81.0</td>\n",
       "    </tr>\n",
       "    <tr>\n",
       "      <th>2</th>\n",
       "      <td>10</td>\n",
       "      <td>5196000.0</td>\n",
       "      <td>56.0</td>\n",
       "      <td>2015-08-20T00:00:00</td>\n",
       "      <td>2</td>\n",
       "      <td>NaN</td>\n",
       "      <td>5.0</td>\n",
       "      <td>34.3</td>\n",
       "      <td>4</td>\n",
       "      <td>NaN</td>\n",
       "      <td>...</td>\n",
       "      <td>8.3</td>\n",
       "      <td>0.0</td>\n",
       "      <td>Санкт-Петербург</td>\n",
       "      <td>21741.0</td>\n",
       "      <td>13933.0</td>\n",
       "      <td>1.0</td>\n",
       "      <td>90.0</td>\n",
       "      <td>2.0</td>\n",
       "      <td>574.0</td>\n",
       "      <td>558.0</td>\n",
       "    </tr>\n",
       "    <tr>\n",
       "      <th>3</th>\n",
       "      <td>0</td>\n",
       "      <td>64900000.0</td>\n",
       "      <td>159.0</td>\n",
       "      <td>2015-07-24T00:00:00</td>\n",
       "      <td>3</td>\n",
       "      <td>NaN</td>\n",
       "      <td>14.0</td>\n",
       "      <td>NaN</td>\n",
       "      <td>9</td>\n",
       "      <td>NaN</td>\n",
       "      <td>...</td>\n",
       "      <td>NaN</td>\n",
       "      <td>0.0</td>\n",
       "      <td>Санкт-Петербург</td>\n",
       "      <td>28098.0</td>\n",
       "      <td>6800.0</td>\n",
       "      <td>2.0</td>\n",
       "      <td>84.0</td>\n",
       "      <td>3.0</td>\n",
       "      <td>234.0</td>\n",
       "      <td>424.0</td>\n",
       "    </tr>\n",
       "    <tr>\n",
       "      <th>4</th>\n",
       "      <td>2</td>\n",
       "      <td>10000000.0</td>\n",
       "      <td>100.0</td>\n",
       "      <td>2018-06-19T00:00:00</td>\n",
       "      <td>2</td>\n",
       "      <td>3.03</td>\n",
       "      <td>14.0</td>\n",
       "      <td>32.0</td>\n",
       "      <td>13</td>\n",
       "      <td>NaN</td>\n",
       "      <td>...</td>\n",
       "      <td>41.0</td>\n",
       "      <td>NaN</td>\n",
       "      <td>Санкт-Петербург</td>\n",
       "      <td>31856.0</td>\n",
       "      <td>8098.0</td>\n",
       "      <td>2.0</td>\n",
       "      <td>112.0</td>\n",
       "      <td>1.0</td>\n",
       "      <td>48.0</td>\n",
       "      <td>121.0</td>\n",
       "    </tr>\n",
       "  </tbody>\n",
       "</table>\n",
       "<p>5 rows × 22 columns</p>\n",
       "</div>"
      ],
      "text/plain": [
       "   total_images  last_price  total_area first_day_exposition  rooms  \\\n",
       "0            20  13000000.0       108.0  2019-03-07T00:00:00      3   \n",
       "1             7   3350000.0        40.4  2018-12-04T00:00:00      1   \n",
       "2            10   5196000.0        56.0  2015-08-20T00:00:00      2   \n",
       "3             0  64900000.0       159.0  2015-07-24T00:00:00      3   \n",
       "4             2  10000000.0       100.0  2018-06-19T00:00:00      2   \n",
       "\n",
       "   ceiling_height  floors_total  living_area  floor is_apartment  ...  \\\n",
       "0            2.70          16.0         51.0      8          NaN  ...   \n",
       "1             NaN          11.0         18.6      1          NaN  ...   \n",
       "2             NaN           5.0         34.3      4          NaN  ...   \n",
       "3             NaN          14.0          NaN      9          NaN  ...   \n",
       "4            3.03          14.0         32.0     13          NaN  ...   \n",
       "\n",
       "   kitchen_area  balcony    locality_name  airports_nearest  \\\n",
       "0          25.0      NaN  Санкт-Петербург           18863.0   \n",
       "1          11.0      2.0   посёлок Шушары           12817.0   \n",
       "2           8.3      0.0  Санкт-Петербург           21741.0   \n",
       "3           NaN      0.0  Санкт-Петербург           28098.0   \n",
       "4          41.0      NaN  Санкт-Петербург           31856.0   \n",
       "\n",
       "  cityCenters_nearest  parks_around3000  parks_nearest  ponds_around3000  \\\n",
       "0             16028.0               1.0          482.0               2.0   \n",
       "1             18603.0               0.0            NaN               0.0   \n",
       "2             13933.0               1.0           90.0               2.0   \n",
       "3              6800.0               2.0           84.0               3.0   \n",
       "4              8098.0               2.0          112.0               1.0   \n",
       "\n",
       "   ponds_nearest  days_exposition  \n",
       "0          755.0              NaN  \n",
       "1            NaN             81.0  \n",
       "2          574.0            558.0  \n",
       "3          234.0            424.0  \n",
       "4           48.0            121.0  \n",
       "\n",
       "[5 rows x 22 columns]"
      ]
     },
     "execution_count": 1,
     "metadata": {},
     "output_type": "execute_result"
    }
   ],
   "source": [
    "import pandas as pd\n",
    "import matplotlib.pyplot as plt\n",
    "#открываем файл с данными\n",
    "df = pd.read_csv('..../real_estate_data.csv', sep='\\t')\n",
    "#вывод первых 5 строк таблицы\n",
    "df.head()"
   ]
  },
  {
   "cell_type": "code",
   "execution_count": 2,
   "metadata": {},
   "outputs": [
    {
     "name": "stdout",
     "output_type": "stream",
     "text": [
      "<class 'pandas.core.frame.DataFrame'>\n",
      "RangeIndex: 23699 entries, 0 to 23698\n",
      "Data columns (total 22 columns):\n",
      " #   Column                Non-Null Count  Dtype  \n",
      "---  ------                --------------  -----  \n",
      " 0   total_images          23699 non-null  int64  \n",
      " 1   last_price            23699 non-null  float64\n",
      " 2   total_area            23699 non-null  float64\n",
      " 3   first_day_exposition  23699 non-null  object \n",
      " 4   rooms                 23699 non-null  int64  \n",
      " 5   ceiling_height        14504 non-null  float64\n",
      " 6   floors_total          23613 non-null  float64\n",
      " 7   living_area           21796 non-null  float64\n",
      " 8   floor                 23699 non-null  int64  \n",
      " 9   is_apartment          2775 non-null   object \n",
      " 10  studio                23699 non-null  bool   \n",
      " 11  open_plan             23699 non-null  bool   \n",
      " 12  kitchen_area          21421 non-null  float64\n",
      " 13  balcony               12180 non-null  float64\n",
      " 14  locality_name         23650 non-null  object \n",
      " 15  airports_nearest      18157 non-null  float64\n",
      " 16  cityCenters_nearest   18180 non-null  float64\n",
      " 17  parks_around3000      18181 non-null  float64\n",
      " 18  parks_nearest         8079 non-null   float64\n",
      " 19  ponds_around3000      18181 non-null  float64\n",
      " 20  ponds_nearest         9110 non-null   float64\n",
      " 21  days_exposition       20518 non-null  float64\n",
      "dtypes: bool(2), float64(14), int64(3), object(3)\n",
      "memory usage: 3.7+ MB\n"
     ]
    }
   ],
   "source": [
    "#вывод общей информации по таблице\n",
    "df.info()"
   ]
  },
  {
   "cell_type": "markdown",
   "metadata": {},
   "source": [
    "В таблице 22 столбца и 23699 строк типы данных (по столбцам): `bool(2)`, `float64(14)`, `int64(3)`, `object(3)`.\n",
    "\n",
    "Описание столбцов:\n",
    "\n",
    "* `airports_nearest` — расстояние до ближайшего аэропорта в метрах (м);\n",
    "* `balcony` — число балконов;\n",
    "* `ceiling_height` — высота потолков (м);\n",
    "* `cityCenters_nearest` — расстояние до центра города (м);\n",
    "* `days_exposition` — сколько дней было размещено объявление (от публикации до снятия);\n",
    "* `first_day_exposition` — дата публикации;\n",
    "* `floor` — этаж;\n",
    "* `floors_total` — всего этажей в доме;\n",
    "* `is_apartment` — апартаменты (булев тип);\n",
    "* `kitchen_area` — площадь кухни в квадратных метрах (м²);\n",
    "* `last_price` — цена на момент снятия с публикации;\n",
    "* `living_area` — жилая площадь в квадратных метрах (м²);\n",
    "* `locality_name` — название населённого пункта;\n",
    "* `open_plan` — свободная планировка (булев тип);\n",
    "* `parks_around3000` — число парков в радиусе 3 км;\n",
    "* `parks_nearest` — расстояние до ближайшего парка (м);\n",
    "* `ponds_around3000` — число водоёмов в радиусе 3 км;\n",
    "* `ponds_nearest` — расстояние до ближайшего водоёма (м);\n",
    "* `rooms` — число комнат;\n",
    "* `studio` — квартира-студия (булев тип);\n",
    "* `total_area` — площадь квартиры в квадратных метрах (м²);\n",
    "* `total_images` — число фотографий квартиры в объявлении.\n",
    "\n",
    "\n",
    "Количество значений в 14  из 22 столбцов различается. Значит, в данных есть пропущенные значения.\n",
    "  \n",
    "Есть несоотвествия типа данных в таблице с типом данных, указанном в описании столбцов:\n",
    "* `is_apartment` предполагает булев тип (по описанию), а содержит тип `object` (по факту);\n",
    "* значение `parks_around_3000`, `parks_nearest`, `ponds_around_3000`, `ponds_nearest`, `floors_total` и `balcony` может быть только целым числом, не бывает третьего с половиной этажа или двух с половиной балконов, поэтому тип `float64` изменим на `int64`;\n",
    "* `first_day_exposition` содержит тип `object`, но логичнее дату хранить в формате, подходящим для даты (`datetime`).\n",
    "  \n",
    "Также в столбцах `cityCenters_nearest`, `parks_around3000`  и `ponds_around3000` хотелось бы добавить \"_\" и привести все к одному регистру."
   ]
  },
  {
   "cell_type": "markdown",
   "metadata": {},
   "source": [
    "<div style=\"border:solid green 1px; padding: 10px\">\n",
    "\n",
    "В каждой строке таблицы — данные о конкретной квартире и окружающей ее местности. Часть колонок содержит информацию о\n",
    "самой квартире (число комнат, высота потолков, число балконов и т.д.). Остальные данные рассказывают об окружении (сколько всего этажей в доме, далеко ли до аэропорта, сколько парков и водоемов рядом и т.д.).\n",
    "Предварительно можно утверждать, что, данных достаточно для установления параметров определения рыночной стоимости объектов недвижимости.\n",
    "\n",
    "Чтобы двигаться дальше, нужно устранить проблемы в данных."
   ]
  },
  {
   "cell_type": "markdown",
   "metadata": {},
   "source": [
    "## Предобработка данных"
   ]
  },
  {
   "cell_type": "markdown",
   "metadata": {},
   "source": [
    "Приведем названия столбцов в соответствие с хорошим стилем:\n",
    "\n",
    "* `cityCenters_nearest` →  `city_centers_nearest`;\n",
    "* `parks_around3000` → `parks_around_3000`;\n",
    "* `ponds_around3000` → `ponds_around_3000`.\n",
    "\n",
    "Изменим типы данных в столбцах на подходящие. \n",
    "\n",
    "Устраним пропуски в данных и проверим таблицу на дубликаты."
   ]
  },
  {
   "cell_type": "markdown",
   "metadata": {},
   "source": [
    "### Стиль столбцов"
   ]
  },
  {
   "cell_type": "code",
   "execution_count": 3,
   "metadata": {},
   "outputs": [
    {
     "name": "stdout",
     "output_type": "stream",
     "text": [
      "<class 'pandas.core.frame.DataFrame'>\n",
      "RangeIndex: 23699 entries, 0 to 23698\n",
      "Data columns (total 22 columns):\n",
      " #   Column                Non-Null Count  Dtype         \n",
      "---  ------                --------------  -----         \n",
      " 0   total_images          23699 non-null  int64         \n",
      " 1   last_price            23699 non-null  float64       \n",
      " 2   total_area            23699 non-null  float64       \n",
      " 3   first_day_exposition  23699 non-null  datetime64[ns]\n",
      " 4   rooms                 23699 non-null  int64         \n",
      " 5   ceiling_height        14504 non-null  float64       \n",
      " 6   floors_total          23613 non-null  float64       \n",
      " 7   living_area           21796 non-null  float64       \n",
      " 8   floor                 23699 non-null  int64         \n",
      " 9   is_apartment          23699 non-null  bool          \n",
      " 10  studio                23699 non-null  bool          \n",
      " 11  open_plan             23699 non-null  bool          \n",
      " 12  kitchen_area          21421 non-null  float64       \n",
      " 13  balcony               12180 non-null  float64       \n",
      " 14  locality_name         23650 non-null  object        \n",
      " 15  airports_nearest      18157 non-null  float64       \n",
      " 16  city_centers_nearest  18180 non-null  float64       \n",
      " 17  parks_around_3000     18181 non-null  float64       \n",
      " 18  parks_nearest         8079 non-null   float64       \n",
      " 19  ponds_around_3000     18181 non-null  float64       \n",
      " 20  ponds_nearest         9110 non-null   float64       \n",
      " 21  days_exposition       20518 non-null  float64       \n",
      "dtypes: bool(3), datetime64[ns](1), float64(14), int64(3), object(1)\n",
      "memory usage: 3.5+ MB\n"
     ]
    }
   ],
   "source": [
    "# переименование столбцов\n",
    "df = df.rename(\n",
    "    columns={\n",
    "        'cityCenters_nearest': 'city_centers_nearest',\n",
    "        'parks_around3000': 'parks_around_3000',\n",
    "        'ponds_around3000': 'ponds_around_3000'\n",
    "    }\n",
    ")\n",
    "# изменения типа данных\n",
    "df['is_apartment'] = df['is_apartment'].astype('bool')\n",
    "df['first_day_exposition'] = pd.to_datetime(df['first_day_exposition'], format='%Y-%m-%dT%H:%M:%S')\n",
    "# проверка внесенных изменений\n",
    "df.info()"
   ]
  },
  {
   "cell_type": "markdown",
   "metadata": {},
   "source": [
    "### Обработка пропусков"
   ]
  },
  {
   "cell_type": "code",
   "execution_count": 4,
   "metadata": {},
   "outputs": [
    {
     "data": {
      "text/plain": [
       "total_images                0\n",
       "last_price                  0\n",
       "total_area                  0\n",
       "first_day_exposition        0\n",
       "rooms                       0\n",
       "ceiling_height           9195\n",
       "floors_total               86\n",
       "living_area              1903\n",
       "floor                       0\n",
       "is_apartment                0\n",
       "studio                      0\n",
       "open_plan                   0\n",
       "kitchen_area             2278\n",
       "balcony                 11519\n",
       "locality_name              49\n",
       "airports_nearest         5542\n",
       "city_centers_nearest     5519\n",
       "parks_around_3000        5518\n",
       "parks_nearest           15620\n",
       "ponds_around_3000        5518\n",
       "ponds_nearest           14589\n",
       "days_exposition          3181\n",
       "dtype: int64"
      ]
     },
     "execution_count": 4,
     "metadata": {},
     "output_type": "execute_result"
    }
   ],
   "source": [
    "# поиск и подсчет пропусков в столбцах\n",
    "df.isna().sum()"
   ]
  },
  {
   "cell_type": "markdown",
   "metadata": {},
   "source": [
    "Столбцов с пропущенными значениями достаточно много. Для некоторых пропущенных значений можно предположить логичную замену. Например, если человек не указал число балконов — скорее всего, их нет. Такие пропуски можем заменить на 0. Для других типов данных нет подходящего значения на замену. В этом случае можем оставить эти значения пустыми. Отсутствие значения — тоже важный сигнал, который не нужно прятать.\n",
    "\n",
    "  Уместно заменить пропуски на 0 в столбцах:\n",
    "* `balcony` — число балконов (скорее всего их нет);\n",
    "* `parks_around_3000` — число парков (скорее всего их нет);\n",
    "* `parks_nearest` — расстояние до ближайшего парка (если их нет в радиусе 3 км, то и расстояние до ближайшего не указали);\n",
    "* `ponds_around_3000` — число водоёмов (скорее всего их нет);\n",
    "* `ponds_nearest` — расстояние до ближайшего водоёма (тоже, что и с парками)."
   ]
  },
  {
   "cell_type": "code",
   "execution_count": 5,
   "metadata": {},
   "outputs": [],
   "source": [
    "# перебор названий столбцов в цикле и замена пропущенных значений на 0\n",
    "columns_to_replace = ['balcony', 'parks_around_3000', 'parks_nearest', 'ponds_around_3000', 'ponds_nearest']\n",
    "for col in columns_to_replace:\n",
    "    df[col] = df[col].fillna(0)"
   ]
  },
  {
   "cell_type": "code",
   "execution_count": 6,
   "metadata": {},
   "outputs": [
    {
     "data": {
      "text/plain": [
       "(0.36288450989493226, 0.20675977889362418, 13.422507278788135)"
      ]
     },
     "execution_count": 6,
     "metadata": {},
     "output_type": "execute_result"
    }
   ],
   "source": [
    "# доля пропущенных значений в нескольких оставшихся столбцах с пропусками\n",
    "isna_floors_total = df['floors_total'].isna().sum() / df.shape[0] * 100\n",
    "isna_locality_name = df['locality_name'].isna().sum() / df.shape[0] * 100\n",
    "isna_days_exposition = df['days_exposition'].isna().sum() / df.shape[0] * 100\n",
    "isna_floors_total, isna_locality_name, isna_days_exposition"
   ]
  },
  {
   "cell_type": "markdown",
   "metadata": {},
   "source": [
    "Мы можем удалить не больше 5-7% датафрейма без существенных последствий для результатов исследования.\n",
    "Столбцы\n",
    "\n",
    "`floors_total` — всего этажей в доме\n",
    "\n",
    "`locality_name` — название населённого пункта\n",
    "\n",
    "составляют меньше 1% от общего числа записей, удалим их.\n",
    "\n",
    "Пропуски в столбце `days_exposition` — сколько дней было размещено объявление, составляют больше 13% от общего датафрейма\n",
    " удалить пустые значения не сможем. \n",
    "\n",
    "В остальных случаях оставим пропуски в данных, т.к. нет подходящих значений на замену."
   ]
  },
  {
   "cell_type": "code",
   "execution_count": 7,
   "metadata": {},
   "outputs": [
    {
     "data": {
      "text/plain": [
       "total_images               0\n",
       "last_price                 0\n",
       "total_area                 0\n",
       "first_day_exposition       0\n",
       "rooms                      0\n",
       "ceiling_height          9084\n",
       "floors_total               0\n",
       "living_area             1865\n",
       "floor                      0\n",
       "is_apartment               0\n",
       "studio                     0\n",
       "open_plan                  0\n",
       "kitchen_area            2222\n",
       "balcony                    0\n",
       "locality_name              0\n",
       "airports_nearest        5524\n",
       "city_centers_nearest    5501\n",
       "parks_around_3000          0\n",
       "parks_nearest              0\n",
       "ponds_around_3000          0\n",
       "ponds_nearest              0\n",
       "days_exposition         3171\n",
       "dtype: int64"
      ]
     },
     "execution_count": 7,
     "metadata": {},
     "output_type": "execute_result"
    }
   ],
   "source": [
    "#удаление пропусков\n",
    "df = df.dropna(subset=['floors_total','locality_name'])\n",
    "# изменения типа данных после удаления пропусков\n",
    "columns_to_change_type = ['balcony', 'floors_total','parks_around_3000',\n",
    "                          'parks_nearest', 'ponds_around_3000', 'ponds_nearest']\n",
    "for col in columns_to_change_type:\n",
    "    df[col] = df[col].astype('int')\n",
    "#проверка после обработки пропусков и изменения типов\n",
    "df.isna().sum()"
   ]
  },
  {
   "cell_type": "code",
   "execution_count": 8,
   "metadata": {},
   "outputs": [
    {
     "name": "stdout",
     "output_type": "stream",
     "text": [
      "<class 'pandas.core.frame.DataFrame'>\n",
      "Int64Index: 23565 entries, 0 to 23698\n",
      "Data columns (total 22 columns):\n",
      " #   Column                Non-Null Count  Dtype         \n",
      "---  ------                --------------  -----         \n",
      " 0   total_images          23565 non-null  int64         \n",
      " 1   last_price            23565 non-null  float64       \n",
      " 2   total_area            23565 non-null  float64       \n",
      " 3   first_day_exposition  23565 non-null  datetime64[ns]\n",
      " 4   rooms                 23565 non-null  int64         \n",
      " 5   ceiling_height        14481 non-null  float64       \n",
      " 6   floors_total          23565 non-null  int64         \n",
      " 7   living_area           21700 non-null  float64       \n",
      " 8   floor                 23565 non-null  int64         \n",
      " 9   is_apartment          23565 non-null  bool          \n",
      " 10  studio                23565 non-null  bool          \n",
      " 11  open_plan             23565 non-null  bool          \n",
      " 12  kitchen_area          21343 non-null  float64       \n",
      " 13  balcony               23565 non-null  int64         \n",
      " 14  locality_name         23565 non-null  object        \n",
      " 15  airports_nearest      18041 non-null  float64       \n",
      " 16  city_centers_nearest  18064 non-null  float64       \n",
      " 17  parks_around_3000     23565 non-null  int64         \n",
      " 18  parks_nearest         23565 non-null  int64         \n",
      " 19  ponds_around_3000     23565 non-null  int64         \n",
      " 20  ponds_nearest         23565 non-null  int64         \n",
      " 21  days_exposition       20394 non-null  float64       \n",
      "dtypes: bool(3), datetime64[ns](1), float64(8), int64(9), object(1)\n",
      "memory usage: 3.7+ MB\n"
     ]
    }
   ],
   "source": [
    "df.info()"
   ]
  },
  {
   "cell_type": "markdown",
   "metadata": {},
   "source": [
    "### Проверка данных на аномалии, исправления, дубликаты"
   ]
  },
  {
   "cell_type": "code",
   "execution_count": 9,
   "metadata": {},
   "outputs": [
    {
     "data": {
      "text/plain": [
       "array([ 0,  1,  2,  3,  4,  5,  6,  7,  8,  9, 10, 11, 12, 14, 15, 16, 19])"
      ]
     },
     "execution_count": 9,
     "metadata": {},
     "output_type": "execute_result"
    }
   ],
   "source": [
    "df['rooms'].sort_values().unique() #0 и от 7 и выше комнат странно"
   ]
  },
  {
   "cell_type": "markdown",
   "metadata": {},
   "source": [
    "Выглядит странным для квартиры наличие семи и более комнат, а также ноль комнат, хотя здесь, возможно имелась ввиду студия, которая и комната и кухня, и коридор сразу."
   ]
  },
  {
   "cell_type": "markdown",
   "metadata": {},
   "source": [
    "Стандартная высота потолков.\n",
    "\n",
    "Для многоэтажек типовой постройки минимальная высота потолка определяется типом здания, а также временем его возведения. Квартиры, находящиеся в разных частях страны идентичны друг другу не только по планировке, но и стандартной высоте потолков, которая может незначительно расходиться на несколько сантиметров. Сталинки это, пожалуй, единственный вариант зданий, которые отличает большой масштаб. Независимо от года постройки и от типа здания, высота от пола до потолка должна быть в пределах 2,5-4 метров."
   ]
  },
  {
   "cell_type": "code",
   "execution_count": 10,
   "metadata": {},
   "outputs": [
    {
     "data": {
      "text/plain": [
       "array([  1.  ,   1.2 ,   1.75,   2.  ,   2.2 ,   2.25,   2.3 ,   2.34,\n",
       "         2.4 ,   2.45,   2.46,   2.47,   2.48,   2.49,   2.5 ,   2.51,\n",
       "         2.52,   2.53,   2.54,   2.55,   2.56,   2.57,   2.58,   2.59,\n",
       "         2.6 ,   2.61,   2.62,   2.63,   2.64,   2.65,   2.66,   2.67,\n",
       "         2.68,   2.69,   2.7 ,   2.71,   2.72,   2.73,   2.74,   2.75,\n",
       "         2.76,   2.77,   2.78,   2.79,   2.8 ,   2.81,   2.82,   2.83,\n",
       "         2.84,   2.85,   2.86,   2.87,   2.88,   2.89,   2.9 ,   2.91,\n",
       "         2.92,   2.93,   2.94,   2.95,   2.96,   2.97,   2.98,   2.99,\n",
       "         3.  ,   3.01,   3.02,   3.03,   3.04,   3.05,   3.06,   3.07,\n",
       "         3.08,   3.09,   3.1 ,   3.11,   3.12,   3.13,   3.14,   3.15,\n",
       "         3.16,   3.17,   3.18,   3.2 ,   3.21,   3.22,   3.23,   3.24,\n",
       "         3.25,   3.26,   3.27,   3.28,   3.29,   3.3 ,   3.31,   3.32,\n",
       "         3.33,   3.34,   3.35,   3.36,   3.37,   3.38,   3.39,   3.4 ,\n",
       "         3.42,   3.43,   3.44,   3.45,   3.46,   3.47,   3.48,   3.49,\n",
       "         3.5 ,   3.51,   3.52,   3.53,   3.54,   3.55,   3.56,   3.57,\n",
       "         3.58,   3.59,   3.6 ,   3.62,   3.63,   3.65,   3.66,   3.67,\n",
       "         3.68,   3.69,   3.7 ,   3.75,   3.76,   3.78,   3.8 ,   3.82,\n",
       "         3.83,   3.84,   3.85,   3.86,   3.87,   3.88,   3.9 ,   3.93,\n",
       "         3.95,   3.98,   4.  ,   4.06,   4.1 ,   4.14,   4.15,   4.19,\n",
       "         4.2 ,   4.25,   4.3 ,   4.37,   4.4 ,   4.45,   4.5 ,   4.65,\n",
       "         4.7 ,   4.8 ,   4.9 ,   5.  ,   5.2 ,   5.3 ,   5.5 ,   5.6 ,\n",
       "         5.8 ,   6.  ,   8.  ,   8.3 ,  10.3 ,  14.  ,  20.  ,  22.6 ,\n",
       "        24.  ,  25.  ,  26.  ,  27.  ,  27.5 ,  32.  , 100.  ,    nan])"
      ]
     },
     "execution_count": 10,
     "metadata": {},
     "output_type": "execute_result"
    }
   ],
   "source": [
    "df['ceiling_height'].sort_values().unique() #высота больше 4 м странная"
   ]
  },
  {
   "cell_type": "markdown",
   "metadata": {},
   "source": [
    "В наших данных есть как значения меньше минимальных, т.е. меньше 2,5 местров так и значительно выше максимальных, т.е. больше 4 метров."
   ]
  },
  {
   "cell_type": "markdown",
   "metadata": {},
   "source": [
    "В настоящее время для жилых помещений, предназначенных для постоянного проживания, минимальный размер жилой площади, приходящийся на одного человека (так называемая санитарная норма), не установлен. Однако установлена **минимально** рекомендуемая площадь квартир (без учета площадей открытых помещений, холодных кладовых и приквартирных тамбуров) исходя из количества комнат в них. Так, например, однокомнатная квартира должна быть от 28 кв. м, двухкомнатная - 38 кв. м, трехкомнатная - 56 кв. м, четырехкомнатная - 59 кв.м и т.д. Минимальная площадь квартиры со статусом планировки \"студия\" – 18 кв. м.\n",
    "\n",
    "В наших данных минимальное значение это 12 кв. метров, что значительно меньше положенного минимума в 18(28) кв. м.\n",
    "\n",
    "**Максимальная** площадь однокомнатных квартир составляют  примерно 40 кв. м, двухкомнатных квартир около 56 кв.м, трешки достигают 80 кв.м, четырехкомнатные около 85 кв.м, а верхняя «граница» студии, как правило, не превышает 40 кв. м.\n",
    "\n",
    "В 16 регионах России на продажу выставляются квартиры площадью более 500 кв. метров, сообщает ЦИАН. Этот формат называется сверхкрупным, тем не менее, такие квартиры рано или поздно находят своих покупателей.\n",
    "Так, самой большой квартирой в стране по праву может считаться пентхаус в Сочи площадью 2000 кв. метров. На втором месте находится пентхаус в Петербурге площадью 903,5 кв. метра. В Подмосковье самая большая квартира расположена в Одинцово, ее площадь 880 кв. метров.\n",
    "\n",
    "Таким образом можно считать, что максимальное значение в наших данных вполне возможно, хотя и скорее исключение, чем правило."
   ]
  },
  {
   "cell_type": "code",
   "execution_count": 11,
   "metadata": {},
   "outputs": [
    {
     "data": {
      "text/plain": [
       "19904     12.0\n",
       "17961     13.0\n",
       "19546     13.0\n",
       "19807     13.0\n",
       "19558     13.2\n",
       "         ...  \n",
       "5358     590.0\n",
       "15651    618.0\n",
       "3117     631.0\n",
       "12859    631.2\n",
       "19540    900.0\n",
       "Name: total_area, Length: 23565, dtype: float64"
      ]
     },
     "execution_count": 11,
     "metadata": {},
     "output_type": "execute_result"
    }
   ],
   "source": [
    "df['total_area'].sort_values() # средняя кв это 70+ метров, но не больше 115, однако возможны и сверхкрупные помещения"
   ]
  },
  {
   "cell_type": "markdown",
   "metadata": {},
   "source": [
    "Для кухни минимум это 5 кв. метров. \n",
    "А оптимальным считается вариант 12 кв.метров и более.\n",
    "Если семья большая и на кухне установлен большой обеденный стол, то 20 квадратов, а то и больше.\n",
    "\n",
    "В наших данных есть супер маленькие кухни с размером 1,3 кв. места и супер большие, в 112 кв. метров."
   ]
  },
  {
   "cell_type": "code",
   "execution_count": 12,
   "metadata": {},
   "outputs": [
    {
     "name": "stdout",
     "output_type": "stream",
     "text": [
      "1.3\n"
     ]
    },
    {
     "data": {
      "text/plain": [
       "112.0"
      ]
     },
     "execution_count": 12,
     "metadata": {},
     "output_type": "execute_result"
    }
   ],
   "source": [
    "print(df['kitchen_area'].min())\n",
    "df['kitchen_area'].max()"
   ]
  },
  {
   "cell_type": "code",
   "execution_count": 13,
   "metadata": {},
   "outputs": [
    {
     "data": {
      "text/plain": [
       "364"
      ]
     },
     "execution_count": 13,
     "metadata": {},
     "output_type": "execute_result"
    }
   ],
   "source": [
    "len(df['locality_name'].sort_values().unique())"
   ]
  },
  {
   "cell_type": "code",
   "execution_count": 14,
   "metadata": {},
   "outputs": [
    {
     "data": {
      "text/plain": [
       "array(['Бокситогорск', 'Волосово', 'Волхов', 'Всеволожск', 'Выборг',\n",
       "       'Высоцк', 'Гатчина', 'Зеленогорск', 'Ивангород', 'Каменногорск',\n",
       "       'Кингисепп', 'Кириши', 'Кировск', 'Колпино', 'Коммунар',\n",
       "       'Красное Село', 'Кронштадт', 'Кудрово', 'Лодейное Поле',\n",
       "       'Ломоносов', 'Луга', 'Любань', 'Мурино', 'Никольское',\n",
       "       'Новая Ладога', 'Отрадное', 'Павловск', 'Петергоф', 'Пикалёво',\n",
       "       'Подпорожье', 'Приморск', 'Приозерск', 'Пушкин', 'Санкт-Петербург',\n",
       "       'Светогорск', 'Сертолово', 'Сестрорецк', 'Сланцы', 'Сосновый Бор',\n",
       "       'Сясьстрой', 'Тихвин', 'Тосно', 'Шлиссельбург',\n",
       "       'городской поселок Большая Ижора', 'городской поселок Янино-1',\n",
       "       'городской посёлок Будогощь', 'городской посёлок Виллози',\n",
       "       'городской посёлок Лесогорский', 'городской посёлок Мга',\n",
       "       'городской посёлок Назия', 'городской посёлок Новоселье',\n",
       "       'городской посёлок Павлово', 'городской посёлок Рощино',\n",
       "       'городской посёлок Свирьстрой', 'городской посёлок Советский',\n",
       "       'городской посёлок Фёдоровское', 'городской посёлок Янино-1',\n",
       "       'деревня Агалатово', 'деревня Аро', 'деревня Батово',\n",
       "       'деревня Бегуницы', 'деревня Белогорка', 'деревня Большая Вруда',\n",
       "       'деревня Большая Пустомержа', 'деревня Большие Колпаны',\n",
       "       'деревня Большое Рейзино', 'деревня Большой Сабск', 'деревня Бор',\n",
       "       'деревня Борисова Грива', 'деревня Ваганово', 'деревня Вартемяги',\n",
       "       'деревня Вахнова Кара', 'деревня Выскатка', 'деревня Гарболово',\n",
       "       'деревня Глинка', 'деревня Горбунки', 'деревня Гостилицы',\n",
       "       'деревня Заклинье', 'деревня Заневка', 'деревня Зимитицы',\n",
       "       'деревня Извара', 'деревня Иссад', 'деревня Калитино',\n",
       "       'деревня Кальтино', 'деревня Камышовка', 'деревня Каськово',\n",
       "       'деревня Келози', 'деревня Кипень', 'деревня Кисельня',\n",
       "       'деревня Колтуши', 'деревня Коркино', 'деревня Котлы',\n",
       "       'деревня Кривко', 'деревня Кудрово', 'деревня Кузьмолово',\n",
       "       'деревня Курковицы', 'деревня Куровицы', 'деревня Куттузи',\n",
       "       'деревня Лаврики', 'деревня Лаголово', 'деревня Лампово',\n",
       "       'деревня Лесколово', 'деревня Лопухинка', 'деревня Лупполово',\n",
       "       'деревня Малая Романовка', 'деревня Малое Верево',\n",
       "       'деревня Малое Карлино', 'деревня Малые Колпаны',\n",
       "       'деревня Мануйлово', 'деревня Меньково', 'деревня Мины',\n",
       "       'деревня Мистолово', 'деревня Ненимяки', 'деревня Нижние Осельки',\n",
       "       'деревня Нижняя', 'деревня Низино', 'деревня Новое Девяткино',\n",
       "       'деревня Новолисино', 'деревня Нурма', 'деревня Оржицы',\n",
       "       'деревня Парицы', 'деревня Пельгора', 'деревня Пеники',\n",
       "       'деревня Пижма', 'деревня Пикколово', 'деревня Пудомяги',\n",
       "       'деревня Пустынка', 'деревня Пчева', 'деревня Рабитицы',\n",
       "       'деревня Разбегаево', 'деревня Раздолье', 'деревня Разметелево',\n",
       "       'деревня Рапполово', 'деревня Реброво', 'деревня Русско',\n",
       "       'деревня Сижно', 'деревня Снегирёвка', 'деревня Старая',\n",
       "       'деревня Старая Пустошь', 'деревня Старое Хинколово',\n",
       "       'деревня Старополье', 'деревня Старосиверская',\n",
       "       'деревня Старые Бегуницы', 'деревня Суоранда',\n",
       "       'деревня Сяськелево', 'деревня Тарасово', 'деревня Терпилицы',\n",
       "       'деревня Тихковицы', 'деревня Тойворово', 'деревня Торосово',\n",
       "       'деревня Торошковичи', 'деревня Трубников Бор',\n",
       "       'деревня Фалилеево', 'деревня Фёдоровское', 'деревня Хапо-Ое',\n",
       "       'деревня Хязельки', 'деревня Чудской Бор', 'деревня Шпаньково',\n",
       "       'деревня Щеглово', 'деревня Юкки', 'деревня Ялгино',\n",
       "       'деревня Яльгелево', 'деревня Ям-Тесово',\n",
       "       'коттеджный поселок Кивеннапа Север', 'коттеджный поселок Счастье',\n",
       "       'коттеджный посёлок Лесное', 'поселок Аннино', 'поселок Барышево',\n",
       "       'поселок Бугры', 'поселок Возрождение', 'поселок Войсковицы',\n",
       "       'поселок Володарское', 'поселок Гаврилово', 'поселок Гарболово',\n",
       "       'поселок Гладкое', 'поселок Глажево', 'поселок Глебычево',\n",
       "       'поселок Гончарово', 'поселок Громово', 'поселок Дружноселье',\n",
       "       'поселок Елизаветино', 'поселок Жилгородок', 'поселок Жилпосёлок',\n",
       "       'поселок Житково', 'поселок Заводской', 'поселок Запорожское',\n",
       "       'поселок Зимитицы', 'поселок Ильичёво', 'поселок Калитино',\n",
       "       'поселок Каложицы', 'поселок Кингисеппский', 'поселок Кирпичное',\n",
       "       'поселок Кобралово', 'поселок Кобринское', 'поселок Коммунары',\n",
       "       'поселок Коробицыно', 'поселок Котельский',\n",
       "       'поселок Красная Долина', 'поселок Красносельское',\n",
       "       'поселок Лесное', 'поселок Лисий Нос', 'поселок Лукаши',\n",
       "       'поселок Любань', 'поселок Мельниково', 'поселок Мичуринское',\n",
       "       'поселок Молодцово', 'поселок Мурино', 'поселок Новый Свет',\n",
       "       'поселок Новый Учхоз', 'поселок Оредеж',\n",
       "       'поселок Пансионат Зелёный Бор', 'поселок Первомайское',\n",
       "       'поселок Перово', 'поселок Петровское', 'поселок Победа',\n",
       "       'поселок Поляны', 'поселок Почап', 'поселок Починок',\n",
       "       'поселок Пушное', 'поселок Пчевжа', 'поселок Рабитицы',\n",
       "       'поселок Романовка', 'поселок Ромашки', 'поселок Рябово',\n",
       "       'поселок Севастьяново', 'поселок Селезнёво', 'поселок Сельцо',\n",
       "       'поселок Семиозерье', 'поселок Семрино', 'поселок Серебрянский',\n",
       "       'поселок Совхозный', 'поселок Старая Малукса',\n",
       "       'поселок Стеклянный', 'поселок Сумино', 'поселок Суходолье',\n",
       "       'поселок Тельмана', 'поселок Терволово', 'поселок Торковичи',\n",
       "       'поселок Тёсово-4', 'поселок Углово', 'поселок Усть-Луга',\n",
       "       'поселок Ушаки', 'поселок Цвелодубово', 'поселок Цвылёво',\n",
       "       'поселок городского типа Большая Ижора',\n",
       "       'поселок городского типа Вырица',\n",
       "       'поселок городского типа Дружная Горка',\n",
       "       'поселок городского типа Дубровка',\n",
       "       'поселок городского типа Ефимовский',\n",
       "       'поселок городского типа Кондратьево',\n",
       "       'поселок городского типа Красный Бор',\n",
       "       'поселок городского типа Кузьмоловский',\n",
       "       'поселок городского типа Лебяжье',\n",
       "       'поселок городского типа Лесогорский',\n",
       "       'поселок городского типа Назия',\n",
       "       'поселок городского типа Никольский',\n",
       "       'поселок городского типа Приладожский',\n",
       "       'поселок городского типа Рахья', 'поселок городского типа Рощино',\n",
       "       'поселок городского типа Рябово',\n",
       "       'поселок городского типа Синявино',\n",
       "       'поселок городского типа Советский',\n",
       "       'поселок городского типа Токсово',\n",
       "       'поселок городского типа Форносово',\n",
       "       'поселок городского типа имени Свердлова',\n",
       "       'поселок станции Вещево', 'поселок станции Корнево',\n",
       "       'поселок станции Лужайка', 'поселок станции Приветнинское',\n",
       "       'посёлок Александровская', 'посёлок Алексеевка', 'посёлок Аннино',\n",
       "       'посёлок Белоостров', 'посёлок Бугры', 'посёлок Возрождение',\n",
       "       'посёлок Войскорово', 'посёлок Высокоключевой',\n",
       "       'посёлок Гаврилово', 'посёлок Дзержинского', 'посёлок Жилгородок',\n",
       "       'посёлок Ильичёво', 'посёлок Кикерино', 'посёлок Кобралово',\n",
       "       'посёлок Коробицыно', 'посёлок Левашово', 'посёлок Ленинское',\n",
       "       'посёлок Лисий Нос', 'посёлок Мельниково', 'посёлок Металлострой',\n",
       "       'посёлок Мичуринское', 'посёлок Молодёжное', 'посёлок Мурино',\n",
       "       'посёлок Мыза-Ивановка', 'посёлок Новогорелово',\n",
       "       'посёлок Новый Свет', 'посёлок Пансионат Зелёный Бор',\n",
       "       'посёлок Парголово', 'посёлок Перово', 'посёлок Песочный',\n",
       "       'посёлок Петро-Славянка', 'посёлок Петровское',\n",
       "       'посёлок Платформа 69-й километр', 'посёлок Плодовое',\n",
       "       'посёлок Плоское', 'посёлок Победа', 'посёлок Поляны',\n",
       "       'посёлок Понтонный', 'посёлок Пригородный', 'посёлок Пудость',\n",
       "       'посёлок Репино', 'посёлок Ропша', 'посёлок Сапёрное',\n",
       "       'посёлок Сапёрный', 'посёлок Сосново', 'посёлок Старая Малукса',\n",
       "       'посёлок Стеклянный', 'посёлок Стрельна', 'посёлок Суйда',\n",
       "       'посёлок Сумино', 'посёлок Тельмана', 'посёлок Терволово',\n",
       "       'посёлок Торфяное', 'посёлок Усть-Ижора', 'посёлок Усть-Луга',\n",
       "       'посёлок Форт Красная Горка', 'посёлок Шугозеро', 'посёлок Шушары',\n",
       "       'посёлок Щеглово', 'посёлок городского типа Важины',\n",
       "       'посёлок городского типа Вознесенье',\n",
       "       'посёлок городского типа Вырица',\n",
       "       'посёлок городского типа Красный Бор',\n",
       "       'посёлок городского типа Кузнечное',\n",
       "       'посёлок городского типа Кузьмоловский',\n",
       "       'посёлок городского типа Лебяжье', 'посёлок городского типа Мга',\n",
       "       'посёлок городского типа Павлово',\n",
       "       'посёлок городского типа Рощино', 'посёлок городского типа Рябово',\n",
       "       'посёлок городского типа Сиверский',\n",
       "       'посёлок городского типа Тайцы', 'посёлок городского типа Токсово',\n",
       "       'посёлок городского типа Ульяновка',\n",
       "       'посёлок городского типа Форносово',\n",
       "       'посёлок городского типа имени Морозова',\n",
       "       'посёлок городского типа имени Свердлова',\n",
       "       'посёлок при железнодорожной станции Вещево',\n",
       "       'посёлок при железнодорожной станции Приветнинское',\n",
       "       'посёлок станции Громово', 'посёлок станции Свирь',\n",
       "       'садоводческое некоммерческое товарищество Лесная Поляна',\n",
       "       'садовое товарищество Новая Ропша',\n",
       "       'садовое товарищество Приладожский', 'садовое товарищество Рахья',\n",
       "       'садовое товарищество Садко', 'село Копорье', 'село Никольское',\n",
       "       'село Павлово', 'село Паша', 'село Путилово', 'село Рождествено',\n",
       "       'село Русско-Высоцкое', 'село Старая Ладога', 'село Шум'],\n",
       "      dtype=object)"
      ]
     },
     "execution_count": 14,
     "metadata": {},
     "output_type": "execute_result"
    }
   ],
   "source": [
    "df['locality_name'].sort_values().unique()"
   ]
  },
  {
   "cell_type": "markdown",
   "metadata": {},
   "source": [
    "В списке выше есть неявные дубликаты в названиях, т.е. названия с ошибками или выраженные разными словами.\n",
    "Так `городской поселок` и `поселок городского типа` это одно и тоже, есть  чередование `е`/`ё` в одних и тех же словах. Заменим эти значения."
   ]
  },
  {
   "cell_type": "code",
   "execution_count": 15,
   "metadata": {},
   "outputs": [],
   "source": [
    "df['locality_name'] = df['locality_name'].replace('ё', 'е', regex=True)\n",
    "df['locality_name'] = df['locality_name'].replace('городской поселок', 'поселок городского типа', regex=True)"
   ]
  },
  {
   "cell_type": "code",
   "execution_count": 16,
   "metadata": {},
   "outputs": [
    {
     "data": {
      "text/plain": [
       "323"
      ]
     },
     "execution_count": 16,
     "metadata": {},
     "output_type": "execute_result"
    }
   ],
   "source": [
    "df['locality_name'].sort_values().nunique()"
   ]
  },
  {
   "cell_type": "code",
   "execution_count": 17,
   "metadata": {},
   "outputs": [
    {
     "data": {
      "text/html": [
       "<div>\n",
       "<style scoped>\n",
       "    .dataframe tbody tr th:only-of-type {\n",
       "        vertical-align: middle;\n",
       "    }\n",
       "\n",
       "    .dataframe tbody tr th {\n",
       "        vertical-align: top;\n",
       "    }\n",
       "\n",
       "    .dataframe thead th {\n",
       "        text-align: right;\n",
       "    }\n",
       "</style>\n",
       "<table border=\"1\" class=\"dataframe\">\n",
       "  <thead>\n",
       "    <tr style=\"text-align: right;\">\n",
       "      <th></th>\n",
       "      <th>total_images</th>\n",
       "      <th>last_price</th>\n",
       "      <th>total_area</th>\n",
       "      <th>first_day_exposition</th>\n",
       "      <th>rooms</th>\n",
       "      <th>ceiling_height</th>\n",
       "      <th>floors_total</th>\n",
       "      <th>living_area</th>\n",
       "      <th>floor</th>\n",
       "      <th>is_apartment</th>\n",
       "      <th>...</th>\n",
       "      <th>kitchen_area</th>\n",
       "      <th>balcony</th>\n",
       "      <th>locality_name</th>\n",
       "      <th>airports_nearest</th>\n",
       "      <th>city_centers_nearest</th>\n",
       "      <th>parks_around_3000</th>\n",
       "      <th>parks_nearest</th>\n",
       "      <th>ponds_around_3000</th>\n",
       "      <th>ponds_nearest</th>\n",
       "      <th>days_exposition</th>\n",
       "    </tr>\n",
       "  </thead>\n",
       "  <tbody>\n",
       "    <tr>\n",
       "      <th>8793</th>\n",
       "      <td>7</td>\n",
       "      <td>12190.0</td>\n",
       "      <td>109.0</td>\n",
       "      <td>2019-03-20</td>\n",
       "      <td>2</td>\n",
       "      <td>2.75</td>\n",
       "      <td>25</td>\n",
       "      <td>32.0</td>\n",
       "      <td>25</td>\n",
       "      <td>True</td>\n",
       "      <td>...</td>\n",
       "      <td>40.5</td>\n",
       "      <td>0</td>\n",
       "      <td>Санкт-Петербург</td>\n",
       "      <td>36421.0</td>\n",
       "      <td>9176.0</td>\n",
       "      <td>1</td>\n",
       "      <td>805</td>\n",
       "      <td>0</td>\n",
       "      <td>0</td>\n",
       "      <td>8.0</td>\n",
       "    </tr>\n",
       "  </tbody>\n",
       "</table>\n",
       "<p>1 rows × 22 columns</p>\n",
       "</div>"
      ],
      "text/plain": [
       "      total_images  last_price  total_area first_day_exposition  rooms  \\\n",
       "8793             7     12190.0       109.0           2019-03-20      2   \n",
       "\n",
       "      ceiling_height  floors_total  living_area  floor  is_apartment  ...  \\\n",
       "8793            2.75            25         32.0     25          True  ...   \n",
       "\n",
       "      kitchen_area  balcony    locality_name  airports_nearest  \\\n",
       "8793          40.5        0  Санкт-Петербург           36421.0   \n",
       "\n",
       "     city_centers_nearest  parks_around_3000  parks_nearest  \\\n",
       "8793               9176.0                  1            805   \n",
       "\n",
       "      ponds_around_3000  ponds_nearest  days_exposition  \n",
       "8793                  0              0              8.0  \n",
       "\n",
       "[1 rows x 22 columns]"
      ]
     },
     "metadata": {},
     "output_type": "display_data"
    },
    {
     "data": {
      "text/html": [
       "<div>\n",
       "<style scoped>\n",
       "    .dataframe tbody tr th:only-of-type {\n",
       "        vertical-align: middle;\n",
       "    }\n",
       "\n",
       "    .dataframe tbody tr th {\n",
       "        vertical-align: top;\n",
       "    }\n",
       "\n",
       "    .dataframe thead th {\n",
       "        text-align: right;\n",
       "    }\n",
       "</style>\n",
       "<table border=\"1\" class=\"dataframe\">\n",
       "  <thead>\n",
       "    <tr style=\"text-align: right;\">\n",
       "      <th></th>\n",
       "      <th>total_images</th>\n",
       "      <th>last_price</th>\n",
       "      <th>total_area</th>\n",
       "      <th>first_day_exposition</th>\n",
       "      <th>rooms</th>\n",
       "      <th>ceiling_height</th>\n",
       "      <th>floors_total</th>\n",
       "      <th>living_area</th>\n",
       "      <th>floor</th>\n",
       "      <th>is_apartment</th>\n",
       "      <th>...</th>\n",
       "      <th>kitchen_area</th>\n",
       "      <th>balcony</th>\n",
       "      <th>locality_name</th>\n",
       "      <th>airports_nearest</th>\n",
       "      <th>city_centers_nearest</th>\n",
       "      <th>parks_around_3000</th>\n",
       "      <th>parks_nearest</th>\n",
       "      <th>ponds_around_3000</th>\n",
       "      <th>ponds_nearest</th>\n",
       "      <th>days_exposition</th>\n",
       "    </tr>\n",
       "  </thead>\n",
       "  <tbody>\n",
       "    <tr>\n",
       "      <th>12971</th>\n",
       "      <td>19</td>\n",
       "      <td>763000000.0</td>\n",
       "      <td>400.0</td>\n",
       "      <td>2017-09-30</td>\n",
       "      <td>7</td>\n",
       "      <td>NaN</td>\n",
       "      <td>10</td>\n",
       "      <td>250.0</td>\n",
       "      <td>10</td>\n",
       "      <td>True</td>\n",
       "      <td>...</td>\n",
       "      <td>NaN</td>\n",
       "      <td>2</td>\n",
       "      <td>Санкт-Петербург</td>\n",
       "      <td>25108.0</td>\n",
       "      <td>3956.0</td>\n",
       "      <td>1</td>\n",
       "      <td>530</td>\n",
       "      <td>3</td>\n",
       "      <td>756</td>\n",
       "      <td>33.0</td>\n",
       "    </tr>\n",
       "  </tbody>\n",
       "</table>\n",
       "<p>1 rows × 22 columns</p>\n",
       "</div>"
      ],
      "text/plain": [
       "       total_images   last_price  total_area first_day_exposition  rooms  \\\n",
       "12971            19  763000000.0       400.0           2017-09-30      7   \n",
       "\n",
       "       ceiling_height  floors_total  living_area  floor  is_apartment  ...  \\\n",
       "12971             NaN            10        250.0     10          True  ...   \n",
       "\n",
       "       kitchen_area  balcony    locality_name  airports_nearest  \\\n",
       "12971           NaN        2  Санкт-Петербург           25108.0   \n",
       "\n",
       "      city_centers_nearest  parks_around_3000  parks_nearest  \\\n",
       "12971               3956.0                  1            530   \n",
       "\n",
       "       ponds_around_3000  ponds_nearest  days_exposition  \n",
       "12971                  3            756             33.0  \n",
       "\n",
       "[1 rows x 22 columns]"
      ]
     },
     "execution_count": 17,
     "metadata": {},
     "output_type": "execute_result"
    }
   ],
   "source": [
    "display(df.sort_values('last_price').head(1))\n",
    "df.sort_values('last_price').tail(1)"
   ]
  },
  {
   "cell_type": "markdown",
   "metadata": {},
   "source": [
    "В описании к данным нет указания в чем записана цена квартиры, если предположить, что в миллионах, то минимальное значение в 12190,00 за 109 кв. метров площади кажется записанным в тысячах. Да и цены за квартиру меньше миллиона также выглядят не правдоподобно."
   ]
  },
  {
   "cell_type": "code",
   "execution_count": 18,
   "metadata": {},
   "outputs": [
    {
     "data": {
      "text/plain": [
       "0"
      ]
     },
     "execution_count": 18,
     "metadata": {},
     "output_type": "execute_result"
    }
   ],
   "source": [
    "df.duplicated().sum()"
   ]
  },
  {
   "cell_type": "markdown",
   "metadata": {},
   "source": [
    "Явных дубликатов в данных нет."
   ]
  },
  {
   "cell_type": "markdown",
   "metadata": {},
   "source": [
    "## Расчёты и добавление результатов в таблицу"
   ]
  },
  {
   "cell_type": "markdown",
   "metadata": {},
   "source": [
    "Посчитаем и добавим в таблицу:\n",
    "\n",
    "* цену квадратного метра;\n",
    "* день недели, месяц и год публикации объявления;\n",
    "* этаж квартиры (варианты — первый, последний, другой);\n",
    "* соотношение жилой и общей площади, а также отношение площади кухни к общей."
   ]
  },
  {
   "cell_type": "code",
   "execution_count": 19,
   "metadata": {},
   "outputs": [],
   "source": [
    "# цена за кв. метр\n",
    "df['price_for_meter'] = df['last_price'] / df['total_area']\n",
    "df['price_for_meter'] = df['price_for_meter'].round(2)"
   ]
  },
  {
   "cell_type": "code",
   "execution_count": 20,
   "metadata": {},
   "outputs": [],
   "source": [
    "# получение части даты\n",
    "df['weekday_exposition'] = df['first_day_exposition'].dt.weekday\n",
    "df['month_exposition'] = pd.DatetimeIndex(df['first_day_exposition']).month\n",
    "df['year_exposition'] = pd.DatetimeIndex(df['first_day_exposition']).year"
   ]
  },
  {
   "cell_type": "code",
   "execution_count": 21,
   "metadata": {},
   "outputs": [],
   "source": [
    "# этаж квартиры\n",
    "def floor_category(row):\n",
    "    floor = row['floor']\n",
    "    floors_total = row['floors_total']\n",
    "    if floor == 1:\n",
    "        return 'первый'\n",
    "    if floor == floors_total:\n",
    "        return 'последний'\n",
    "    return 'другой'\n",
    "\n",
    "df['floor_category'] = df.apply(floor_category, axis=1) "
   ]
  },
  {
   "cell_type": "code",
   "execution_count": 22,
   "metadata": {},
   "outputs": [],
   "source": [
    "# соотношение площадей соотношение жилой и общей площади, а также отношение площади кухни к общей\n",
    "df['living_of_total'] = df['living_area'] / df['total_area'] * 100\n",
    "df['kitchen_of_total'] = df['kitchen_area'] / df['total_area'] * 100\n",
    "df['living_of_total'] = df['living_of_total'].round(2)\n",
    "df['kitchen_of_total'] = df['kitchen_of_total'].round(2)"
   ]
  },
  {
   "cell_type": "code",
   "execution_count": 23,
   "metadata": {},
   "outputs": [
    {
     "data": {
      "text/html": [
       "<div>\n",
       "<style scoped>\n",
       "    .dataframe tbody tr th:only-of-type {\n",
       "        vertical-align: middle;\n",
       "    }\n",
       "\n",
       "    .dataframe tbody tr th {\n",
       "        vertical-align: top;\n",
       "    }\n",
       "\n",
       "    .dataframe thead th {\n",
       "        text-align: right;\n",
       "    }\n",
       "</style>\n",
       "<table border=\"1\" class=\"dataframe\">\n",
       "  <thead>\n",
       "    <tr style=\"text-align: right;\">\n",
       "      <th></th>\n",
       "      <th>total_images</th>\n",
       "      <th>last_price</th>\n",
       "      <th>total_area</th>\n",
       "      <th>first_day_exposition</th>\n",
       "      <th>rooms</th>\n",
       "      <th>ceiling_height</th>\n",
       "      <th>floors_total</th>\n",
       "      <th>living_area</th>\n",
       "      <th>floor</th>\n",
       "      <th>is_apartment</th>\n",
       "      <th>...</th>\n",
       "      <th>ponds_around_3000</th>\n",
       "      <th>ponds_nearest</th>\n",
       "      <th>days_exposition</th>\n",
       "      <th>price_for_meter</th>\n",
       "      <th>weekday_exposition</th>\n",
       "      <th>month_exposition</th>\n",
       "      <th>year_exposition</th>\n",
       "      <th>floor_category</th>\n",
       "      <th>living_of_total</th>\n",
       "      <th>kitchen_of_total</th>\n",
       "    </tr>\n",
       "  </thead>\n",
       "  <tbody>\n",
       "    <tr>\n",
       "      <th>0</th>\n",
       "      <td>20</td>\n",
       "      <td>13000000.0</td>\n",
       "      <td>108.00</td>\n",
       "      <td>2019-03-07</td>\n",
       "      <td>3</td>\n",
       "      <td>2.70</td>\n",
       "      <td>16</td>\n",
       "      <td>51.00</td>\n",
       "      <td>8</td>\n",
       "      <td>True</td>\n",
       "      <td>...</td>\n",
       "      <td>2</td>\n",
       "      <td>755</td>\n",
       "      <td>NaN</td>\n",
       "      <td>120370.37</td>\n",
       "      <td>3</td>\n",
       "      <td>3</td>\n",
       "      <td>2019</td>\n",
       "      <td>другой</td>\n",
       "      <td>47.22</td>\n",
       "      <td>23.15</td>\n",
       "    </tr>\n",
       "    <tr>\n",
       "      <th>1</th>\n",
       "      <td>7</td>\n",
       "      <td>3350000.0</td>\n",
       "      <td>40.40</td>\n",
       "      <td>2018-12-04</td>\n",
       "      <td>1</td>\n",
       "      <td>NaN</td>\n",
       "      <td>11</td>\n",
       "      <td>18.60</td>\n",
       "      <td>1</td>\n",
       "      <td>True</td>\n",
       "      <td>...</td>\n",
       "      <td>0</td>\n",
       "      <td>0</td>\n",
       "      <td>81.0</td>\n",
       "      <td>82920.79</td>\n",
       "      <td>1</td>\n",
       "      <td>12</td>\n",
       "      <td>2018</td>\n",
       "      <td>первый</td>\n",
       "      <td>46.04</td>\n",
       "      <td>27.23</td>\n",
       "    </tr>\n",
       "    <tr>\n",
       "      <th>2</th>\n",
       "      <td>10</td>\n",
       "      <td>5196000.0</td>\n",
       "      <td>56.00</td>\n",
       "      <td>2015-08-20</td>\n",
       "      <td>2</td>\n",
       "      <td>NaN</td>\n",
       "      <td>5</td>\n",
       "      <td>34.30</td>\n",
       "      <td>4</td>\n",
       "      <td>True</td>\n",
       "      <td>...</td>\n",
       "      <td>2</td>\n",
       "      <td>574</td>\n",
       "      <td>558.0</td>\n",
       "      <td>92785.71</td>\n",
       "      <td>3</td>\n",
       "      <td>8</td>\n",
       "      <td>2015</td>\n",
       "      <td>другой</td>\n",
       "      <td>61.25</td>\n",
       "      <td>14.82</td>\n",
       "    </tr>\n",
       "    <tr>\n",
       "      <th>3</th>\n",
       "      <td>0</td>\n",
       "      <td>64900000.0</td>\n",
       "      <td>159.00</td>\n",
       "      <td>2015-07-24</td>\n",
       "      <td>3</td>\n",
       "      <td>NaN</td>\n",
       "      <td>14</td>\n",
       "      <td>NaN</td>\n",
       "      <td>9</td>\n",
       "      <td>True</td>\n",
       "      <td>...</td>\n",
       "      <td>3</td>\n",
       "      <td>234</td>\n",
       "      <td>424.0</td>\n",
       "      <td>408176.10</td>\n",
       "      <td>4</td>\n",
       "      <td>7</td>\n",
       "      <td>2015</td>\n",
       "      <td>другой</td>\n",
       "      <td>NaN</td>\n",
       "      <td>NaN</td>\n",
       "    </tr>\n",
       "    <tr>\n",
       "      <th>4</th>\n",
       "      <td>2</td>\n",
       "      <td>10000000.0</td>\n",
       "      <td>100.00</td>\n",
       "      <td>2018-06-19</td>\n",
       "      <td>2</td>\n",
       "      <td>3.03</td>\n",
       "      <td>14</td>\n",
       "      <td>32.00</td>\n",
       "      <td>13</td>\n",
       "      <td>True</td>\n",
       "      <td>...</td>\n",
       "      <td>1</td>\n",
       "      <td>48</td>\n",
       "      <td>121.0</td>\n",
       "      <td>100000.00</td>\n",
       "      <td>1</td>\n",
       "      <td>6</td>\n",
       "      <td>2018</td>\n",
       "      <td>другой</td>\n",
       "      <td>32.00</td>\n",
       "      <td>41.00</td>\n",
       "    </tr>\n",
       "    <tr>\n",
       "      <th>5</th>\n",
       "      <td>10</td>\n",
       "      <td>2890000.0</td>\n",
       "      <td>30.40</td>\n",
       "      <td>2018-09-10</td>\n",
       "      <td>1</td>\n",
       "      <td>NaN</td>\n",
       "      <td>12</td>\n",
       "      <td>14.40</td>\n",
       "      <td>5</td>\n",
       "      <td>True</td>\n",
       "      <td>...</td>\n",
       "      <td>0</td>\n",
       "      <td>0</td>\n",
       "      <td>55.0</td>\n",
       "      <td>95065.79</td>\n",
       "      <td>0</td>\n",
       "      <td>9</td>\n",
       "      <td>2018</td>\n",
       "      <td>другой</td>\n",
       "      <td>47.37</td>\n",
       "      <td>29.93</td>\n",
       "    </tr>\n",
       "    <tr>\n",
       "      <th>6</th>\n",
       "      <td>6</td>\n",
       "      <td>3700000.0</td>\n",
       "      <td>37.30</td>\n",
       "      <td>2017-11-02</td>\n",
       "      <td>1</td>\n",
       "      <td>NaN</td>\n",
       "      <td>26</td>\n",
       "      <td>10.60</td>\n",
       "      <td>6</td>\n",
       "      <td>True</td>\n",
       "      <td>...</td>\n",
       "      <td>0</td>\n",
       "      <td>0</td>\n",
       "      <td>155.0</td>\n",
       "      <td>99195.71</td>\n",
       "      <td>3</td>\n",
       "      <td>11</td>\n",
       "      <td>2017</td>\n",
       "      <td>другой</td>\n",
       "      <td>28.42</td>\n",
       "      <td>38.61</td>\n",
       "    </tr>\n",
       "    <tr>\n",
       "      <th>7</th>\n",
       "      <td>5</td>\n",
       "      <td>7915000.0</td>\n",
       "      <td>71.60</td>\n",
       "      <td>2019-04-18</td>\n",
       "      <td>2</td>\n",
       "      <td>NaN</td>\n",
       "      <td>24</td>\n",
       "      <td>NaN</td>\n",
       "      <td>22</td>\n",
       "      <td>True</td>\n",
       "      <td>...</td>\n",
       "      <td>0</td>\n",
       "      <td>0</td>\n",
       "      <td>NaN</td>\n",
       "      <td>110544.69</td>\n",
       "      <td>3</td>\n",
       "      <td>4</td>\n",
       "      <td>2019</td>\n",
       "      <td>другой</td>\n",
       "      <td>NaN</td>\n",
       "      <td>26.40</td>\n",
       "    </tr>\n",
       "    <tr>\n",
       "      <th>8</th>\n",
       "      <td>20</td>\n",
       "      <td>2900000.0</td>\n",
       "      <td>33.16</td>\n",
       "      <td>2018-05-23</td>\n",
       "      <td>1</td>\n",
       "      <td>NaN</td>\n",
       "      <td>27</td>\n",
       "      <td>15.43</td>\n",
       "      <td>26</td>\n",
       "      <td>True</td>\n",
       "      <td>...</td>\n",
       "      <td>0</td>\n",
       "      <td>0</td>\n",
       "      <td>189.0</td>\n",
       "      <td>87454.76</td>\n",
       "      <td>2</td>\n",
       "      <td>5</td>\n",
       "      <td>2018</td>\n",
       "      <td>другой</td>\n",
       "      <td>46.53</td>\n",
       "      <td>26.57</td>\n",
       "    </tr>\n",
       "    <tr>\n",
       "      <th>9</th>\n",
       "      <td>18</td>\n",
       "      <td>5400000.0</td>\n",
       "      <td>61.00</td>\n",
       "      <td>2017-02-26</td>\n",
       "      <td>3</td>\n",
       "      <td>2.50</td>\n",
       "      <td>9</td>\n",
       "      <td>43.60</td>\n",
       "      <td>7</td>\n",
       "      <td>True</td>\n",
       "      <td>...</td>\n",
       "      <td>0</td>\n",
       "      <td>0</td>\n",
       "      <td>289.0</td>\n",
       "      <td>88524.59</td>\n",
       "      <td>6</td>\n",
       "      <td>2</td>\n",
       "      <td>2017</td>\n",
       "      <td>другой</td>\n",
       "      <td>71.48</td>\n",
       "      <td>10.66</td>\n",
       "    </tr>\n",
       "    <tr>\n",
       "      <th>10</th>\n",
       "      <td>5</td>\n",
       "      <td>5050000.0</td>\n",
       "      <td>39.60</td>\n",
       "      <td>2017-11-16</td>\n",
       "      <td>1</td>\n",
       "      <td>2.67</td>\n",
       "      <td>12</td>\n",
       "      <td>20.30</td>\n",
       "      <td>3</td>\n",
       "      <td>True</td>\n",
       "      <td>...</td>\n",
       "      <td>2</td>\n",
       "      <td>553</td>\n",
       "      <td>137.0</td>\n",
       "      <td>127525.25</td>\n",
       "      <td>3</td>\n",
       "      <td>11</td>\n",
       "      <td>2017</td>\n",
       "      <td>другой</td>\n",
       "      <td>51.26</td>\n",
       "      <td>21.46</td>\n",
       "    </tr>\n",
       "    <tr>\n",
       "      <th>11</th>\n",
       "      <td>9</td>\n",
       "      <td>3300000.0</td>\n",
       "      <td>44.00</td>\n",
       "      <td>2018-08-27</td>\n",
       "      <td>2</td>\n",
       "      <td>NaN</td>\n",
       "      <td>5</td>\n",
       "      <td>31.00</td>\n",
       "      <td>4</td>\n",
       "      <td>False</td>\n",
       "      <td>...</td>\n",
       "      <td>0</td>\n",
       "      <td>0</td>\n",
       "      <td>7.0</td>\n",
       "      <td>75000.00</td>\n",
       "      <td>0</td>\n",
       "      <td>8</td>\n",
       "      <td>2018</td>\n",
       "      <td>другой</td>\n",
       "      <td>70.45</td>\n",
       "      <td>13.64</td>\n",
       "    </tr>\n",
       "    <tr>\n",
       "      <th>12</th>\n",
       "      <td>10</td>\n",
       "      <td>3890000.0</td>\n",
       "      <td>54.00</td>\n",
       "      <td>2016-06-30</td>\n",
       "      <td>2</td>\n",
       "      <td>NaN</td>\n",
       "      <td>5</td>\n",
       "      <td>30.00</td>\n",
       "      <td>5</td>\n",
       "      <td>True</td>\n",
       "      <td>...</td>\n",
       "      <td>0</td>\n",
       "      <td>0</td>\n",
       "      <td>90.0</td>\n",
       "      <td>72037.04</td>\n",
       "      <td>3</td>\n",
       "      <td>6</td>\n",
       "      <td>2016</td>\n",
       "      <td>последний</td>\n",
       "      <td>55.56</td>\n",
       "      <td>16.67</td>\n",
       "    </tr>\n",
       "    <tr>\n",
       "      <th>13</th>\n",
       "      <td>20</td>\n",
       "      <td>3550000.0</td>\n",
       "      <td>42.80</td>\n",
       "      <td>2017-07-01</td>\n",
       "      <td>2</td>\n",
       "      <td>2.56</td>\n",
       "      <td>5</td>\n",
       "      <td>27.00</td>\n",
       "      <td>5</td>\n",
       "      <td>True</td>\n",
       "      <td>...</td>\n",
       "      <td>3</td>\n",
       "      <td>298</td>\n",
       "      <td>366.0</td>\n",
       "      <td>82943.93</td>\n",
       "      <td>5</td>\n",
       "      <td>7</td>\n",
       "      <td>2017</td>\n",
       "      <td>последний</td>\n",
       "      <td>63.08</td>\n",
       "      <td>12.15</td>\n",
       "    </tr>\n",
       "  </tbody>\n",
       "</table>\n",
       "<p>14 rows × 29 columns</p>\n",
       "</div>"
      ],
      "text/plain": [
       "    total_images  last_price  total_area first_day_exposition  rooms  \\\n",
       "0             20  13000000.0      108.00           2019-03-07      3   \n",
       "1              7   3350000.0       40.40           2018-12-04      1   \n",
       "2             10   5196000.0       56.00           2015-08-20      2   \n",
       "3              0  64900000.0      159.00           2015-07-24      3   \n",
       "4              2  10000000.0      100.00           2018-06-19      2   \n",
       "5             10   2890000.0       30.40           2018-09-10      1   \n",
       "6              6   3700000.0       37.30           2017-11-02      1   \n",
       "7              5   7915000.0       71.60           2019-04-18      2   \n",
       "8             20   2900000.0       33.16           2018-05-23      1   \n",
       "9             18   5400000.0       61.00           2017-02-26      3   \n",
       "10             5   5050000.0       39.60           2017-11-16      1   \n",
       "11             9   3300000.0       44.00           2018-08-27      2   \n",
       "12            10   3890000.0       54.00           2016-06-30      2   \n",
       "13            20   3550000.0       42.80           2017-07-01      2   \n",
       "\n",
       "    ceiling_height  floors_total  living_area  floor  is_apartment  ...  \\\n",
       "0             2.70            16        51.00      8          True  ...   \n",
       "1              NaN            11        18.60      1          True  ...   \n",
       "2              NaN             5        34.30      4          True  ...   \n",
       "3              NaN            14          NaN      9          True  ...   \n",
       "4             3.03            14        32.00     13          True  ...   \n",
       "5              NaN            12        14.40      5          True  ...   \n",
       "6              NaN            26        10.60      6          True  ...   \n",
       "7              NaN            24          NaN     22          True  ...   \n",
       "8              NaN            27        15.43     26          True  ...   \n",
       "9             2.50             9        43.60      7          True  ...   \n",
       "10            2.67            12        20.30      3          True  ...   \n",
       "11             NaN             5        31.00      4         False  ...   \n",
       "12             NaN             5        30.00      5          True  ...   \n",
       "13            2.56             5        27.00      5          True  ...   \n",
       "\n",
       "    ponds_around_3000  ponds_nearest  days_exposition  price_for_meter  \\\n",
       "0                   2            755              NaN        120370.37   \n",
       "1                   0              0             81.0         82920.79   \n",
       "2                   2            574            558.0         92785.71   \n",
       "3                   3            234            424.0        408176.10   \n",
       "4                   1             48            121.0        100000.00   \n",
       "5                   0              0             55.0         95065.79   \n",
       "6                   0              0            155.0         99195.71   \n",
       "7                   0              0              NaN        110544.69   \n",
       "8                   0              0            189.0         87454.76   \n",
       "9                   0              0            289.0         88524.59   \n",
       "10                  2            553            137.0        127525.25   \n",
       "11                  0              0              7.0         75000.00   \n",
       "12                  0              0             90.0         72037.04   \n",
       "13                  3            298            366.0         82943.93   \n",
       "\n",
       "   weekday_exposition  month_exposition  year_exposition  floor_category  \\\n",
       "0                   3                 3             2019          другой   \n",
       "1                   1                12             2018          первый   \n",
       "2                   3                 8             2015          другой   \n",
       "3                   4                 7             2015          другой   \n",
       "4                   1                 6             2018          другой   \n",
       "5                   0                 9             2018          другой   \n",
       "6                   3                11             2017          другой   \n",
       "7                   3                 4             2019          другой   \n",
       "8                   2                 5             2018          другой   \n",
       "9                   6                 2             2017          другой   \n",
       "10                  3                11             2017          другой   \n",
       "11                  0                 8             2018          другой   \n",
       "12                  3                 6             2016       последний   \n",
       "13                  5                 7             2017       последний   \n",
       "\n",
       "    living_of_total  kitchen_of_total  \n",
       "0             47.22             23.15  \n",
       "1             46.04             27.23  \n",
       "2             61.25             14.82  \n",
       "3               NaN               NaN  \n",
       "4             32.00             41.00  \n",
       "5             47.37             29.93  \n",
       "6             28.42             38.61  \n",
       "7               NaN             26.40  \n",
       "8             46.53             26.57  \n",
       "9             71.48             10.66  \n",
       "10            51.26             21.46  \n",
       "11            70.45             13.64  \n",
       "12            55.56             16.67  \n",
       "13            63.08             12.15  \n",
       "\n",
       "[14 rows x 29 columns]"
      ]
     },
     "execution_count": 23,
     "metadata": {},
     "output_type": "execute_result"
    }
   ],
   "source": [
    "# проверка после добавления столбцов\n",
    "df.head(14)"
   ]
  },
  {
   "cell_type": "markdown",
   "metadata": {},
   "source": [
    "## Исследовательский анализ данных"
   ]
  },
  {
   "cell_type": "markdown",
   "metadata": {},
   "source": [
    "### Площадь, цена, комнаты и потолки"
   ]
  },
  {
   "cell_type": "markdown",
   "metadata": {},
   "source": [
    "Изучим следующие параметры:\n",
    "* площадь;\n",
    "* цену;\n",
    "* число комнат;\n",
    "* высота потолков.\n",
    "\n",
    "Постром гистограммы для каждого параметра."
   ]
  },
  {
   "cell_type": "code",
   "execution_count": 24,
   "metadata": {},
   "outputs": [
    {
     "data": {
      "text/plain": [
       "count    23565.000000\n",
       "mean        60.322824\n",
       "std         35.657060\n",
       "min         12.000000\n",
       "25%         40.000000\n",
       "50%         52.000000\n",
       "75%         69.700000\n",
       "max        900.000000\n",
       "Name: total_area, dtype: float64"
      ]
     },
     "execution_count": 24,
     "metadata": {},
     "output_type": "execute_result"
    },
    {
     "data": {
      "image/png": "[encoded data removed]",
      "text/plain": [
       "<Figure size 432x288 with 1 Axes>"
      ]
     },
     "metadata": {
      "needs_background": "light"
     },
     "output_type": "display_data"
    }
   ],
   "source": [
    "df['total_area'].hist()\n",
    "df['total_area'].describe()"
   ]
  },
  {
   "cell_type": "markdown",
   "metadata": {},
   "source": [
    "Из-за наличия в данных квартир с большой площадью стандартное отклонение высокое и медиана значительно отличается от среднего значения по столбцу."
   ]
  },
  {
   "cell_type": "code",
   "execution_count": 25,
   "metadata": {},
   "outputs": [
    {
     "data": {
      "text/plain": [
       "count     23565.000000\n",
       "mean       6540.058260\n",
       "std       10910.934722\n",
       "min          12.190000\n",
       "25%        3400.000000\n",
       "50%        4646.000000\n",
       "75%        6790.000000\n",
       "max      763000.000000\n",
       "Name: last_price, dtype: float64"
      ]
     },
     "execution_count": 25,
     "metadata": {},
     "output_type": "execute_result"
    },
    {
     "data": {
      "image/png": "[encoded data removed]",
      "text/plain": [
       "<Figure size 432x288 with 1 Axes>"
      ]
     },
     "metadata": {
      "needs_background": "light"
     },
     "output_type": "display_data"
    }
   ],
   "source": [
    "#переведем цену в тысячи для удобства просмотри описания к гистограмме\n",
    "price = df['last_price']/1000\n",
    "price.hist()\n",
    "price.describe()"
   ]
  },
  {
   "cell_type": "markdown",
   "metadata": {},
   "source": [
    "<div style=\"border:solid green 1px; padding: 10px\">\n",
    "Не информативная визуализация из-за наличия большой разницы в значениях. Стандартное отклонение очень сильное, как и различие среднего и медианы."
   ]
  },
  {
   "cell_type": "code",
   "execution_count": 26,
   "metadata": {},
   "outputs": [
    {
     "data": {
      "text/plain": [
       "count    23565.000000\n",
       "mean         2.070656\n",
       "std          1.078591\n",
       "min          0.000000\n",
       "25%          1.000000\n",
       "50%          2.000000\n",
       "75%          3.000000\n",
       "max         19.000000\n",
       "Name: rooms, dtype: float64"
      ]
     },
     "execution_count": 26,
     "metadata": {},
     "output_type": "execute_result"
    },
    {
     "data": {
      "image/png": "[encoded data removed]",
      "text/plain": [
       "<Figure size 432x288 with 1 Axes>"
      ]
     },
     "metadata": {
      "needs_background": "light"
     },
     "output_type": "display_data"
    }
   ],
   "source": [
    "df['rooms'].hist()\n",
    "df['rooms'].describe()"
   ]
  },
  {
   "cell_type": "markdown",
   "metadata": {},
   "source": [
    "<div style=\"border:solid green 1px; padding: 10px\">\n",
    "Больше всего квартир в диапазоне от 1 до 4 комнат. Есть квартиры с отсутствием комнат (значение 0), предположительно речь о студиях и есть сильно многокомнатные квартиры."
   ]
  },
  {
   "cell_type": "code",
   "execution_count": 27,
   "metadata": {},
   "outputs": [
    {
     "data": {
      "text/plain": [
       "count    14481.000000\n",
       "mean         2.771283\n",
       "std          1.261983\n",
       "min          1.000000\n",
       "25%          2.510000\n",
       "50%          2.650000\n",
       "75%          2.800000\n",
       "max        100.000000\n",
       "Name: ceiling_height, dtype: float64"
      ]
     },
     "execution_count": 27,
     "metadata": {},
     "output_type": "execute_result"
    },
    {
     "data": {
      "image/png": "[encoded data removed]",
      "text/plain": [
       "<Figure size 432x288 with 1 Axes>"
      ]
     },
     "metadata": {
      "needs_background": "light"
     },
     "output_type": "display_data"
    }
   ],
   "source": [
    "df['ceiling_height'].hist(bins=200)\n",
    "df['ceiling_height'].describe()"
   ]
  },
  {
   "cell_type": "markdown",
   "metadata": {},
   "source": [
    "<div style=\"border:solid green 1px; padding: 10px\">\n",
    "    Сложно понять какая высота встречается чаще. Точно можно сказать, что высота потолка в один метр - это не нормально, как и в 100 метров."
   ]
  },
  {
   "cell_type": "markdown",
   "metadata": {},
   "source": [
    "### Время продажи"
   ]
  },
  {
   "cell_type": "code",
   "execution_count": 28,
   "metadata": {},
   "outputs": [
    {
     "data": {
      "text/plain": [
       "count    20394.000000\n",
       "mean       180.741395\n",
       "std        219.732782\n",
       "min          1.000000\n",
       "25%         45.000000\n",
       "50%         95.000000\n",
       "75%        231.000000\n",
       "max       1580.000000\n",
       "Name: days_exposition, dtype: float64"
      ]
     },
     "execution_count": 28,
     "metadata": {},
     "output_type": "execute_result"
    },
    {
     "data": {
      "image/png": "[encoded data removed]",
      "text/plain": [
       "<Figure size 432x288 with 1 Axes>"
      ]
     },
     "metadata": {
      "needs_background": "light"
     },
     "output_type": "display_data"
    }
   ],
   "source": [
    "df['days_exposition'].hist()\n",
    "df['days_exposition'].describe()"
   ]
  },
  {
   "cell_type": "markdown",
   "metadata": {},
   "source": [
    "<div style=\"border:solid green 1px; padding: 10px\">\n",
    "В среднем продажа занимает около 181 дня, но медиана на 95 днях, что вызвано наличием позиций, которые стояли на продаже очень долгое время (максимальное значение 1580 дней), а также теми, которые простояли мало (к примеру, 1 день). Об этом же говорит сильное стандартное отклонение."
   ]
  },
  {
   "cell_type": "markdown",
   "metadata": {},
   "source": [
    "### Срез данных"
   ]
  },
  {
   "cell_type": "markdown",
   "metadata": {},
   "source": [
    "Уберем редкие и выбивающиеся значения из столбцов:\n",
    "\n",
    "* число комнат;\n",
    "* площадь;\n",
    "* высота потолков;\n",
    "* время в продаже;\n",
    "* цена."
   ]
  },
  {
   "cell_type": "code",
   "execution_count": 29,
   "metadata": {},
   "outputs": [
    {
     "data": {
      "text/plain": [
       "0    135\n",
       "1     11\n",
       "Name: rooms, dtype: int64"
      ]
     },
     "execution_count": 29,
     "metadata": {},
     "output_type": "execute_result"
    }
   ],
   "source": [
    "df.query('studio == True')['rooms'].value_counts()"
   ]
  },
  {
   "cell_type": "code",
   "execution_count": 30,
   "metadata": {},
   "outputs": [
    {
     "data": {
      "text/plain": [
       "1     8004\n",
       "2     7897\n",
       "3     5779\n",
       "4     1172\n",
       "5      325\n",
       "0      194\n",
       "6      104\n",
       "7       59\n",
       "8       12\n",
       "9        8\n",
       "10       3\n",
       "11       2\n",
       "14       2\n",
       "19       1\n",
       "16       1\n",
       "12       1\n",
       "15       1\n",
       "Name: rooms, dtype: int64"
      ]
     },
     "execution_count": 30,
     "metadata": {},
     "output_type": "execute_result"
    }
   ],
   "source": [
    "df['rooms'].value_counts()"
   ]
  },
  {
   "cell_type": "markdown",
   "metadata": {},
   "source": [
    "В основном преобладают квартиры с количеством комнат от 1 до 4. Есть 194 нолькомнатных квартир, 135 из которых \"помечены\" как студии. Ограничим наши данные этим выбором количества комнат, т.е. от 0 до 4."
   ]
  },
  {
   "cell_type": "code",
   "execution_count": 31,
   "metadata": {},
   "outputs": [
    {
     "name": "stdout",
     "output_type": "stream",
     "text": [
      "0    194\n",
      "1     11\n",
      "Name: rooms, dtype: int64\n"
     ]
    }
   ],
   "source": [
    "#во всех нулекомнатных квартирах проставляем признак того, что это студия\n",
    "df['studio'] = df['studio'].where(df['rooms'] > 0, True)\n",
    "print(df.query('studio == True')['rooms'].value_counts())"
   ]
  },
  {
   "cell_type": "markdown",
   "metadata": {},
   "source": [
    "Типичная площадь квартир: однокомнатная квартира - 28-40 кв. м, двухкомнатная - 38-56 кв. м, трехкомнатная - 56-80 кв. м, четырехкомнатная - 59-85 кв.м, квартиры со статусом планировки \"студия\" – 18-40 кв. м.\n",
    "Ограничимся этими данными, исключив все квартиры меньшей и большей площадь."
   ]
  },
  {
   "cell_type": "code",
   "execution_count": 32,
   "metadata": {},
   "outputs": [],
   "source": [
    "#разобъем от метража квартиры\n",
    "def flat_category(row):\n",
    "    rooms = row['rooms']\n",
    "    total_area = row['total_area']\n",
    "    studio = row['studio']\n",
    "    if rooms <= 1 and studio == True and 18 <= total_area <= 40:\n",
    "        return 'Студия. Соответствует.'\n",
    "    if rooms == 1 and studio == False and 28 <= total_area <= 40:\n",
    "        return '1-ая. Соответствует.'\n",
    "    if rooms == 2 and 38 <= total_area <= 56:\n",
    "        return '2-ая. Соответствует.'\n",
    "    if rooms == 3 and 56 <= total_area <= 80:\n",
    "        return '3-ая. Соответствует.'\n",
    "    if rooms == 4 and 59 <= total_area <= 85:\n",
    "        return '4-ая. Соответствует.'\n",
    "    return 'Не соответствует.'\n",
    "\n",
    "df['good_area'] = df.apply(flat_category, axis=1)"
   ]
  },
  {
   "cell_type": "code",
   "execution_count": 33,
   "metadata": {},
   "outputs": [
    {
     "name": "stdout",
     "output_type": "stream",
     "text": [
      "1    5432\n",
      "2    4751\n",
      "3    3406\n",
      "4     296\n",
      "0     182\n",
      "Name: rooms, dtype: int64\n"
     ]
    },
    {
     "data": {
      "text/plain": [
       "1-ая. Соответствует.      5421\n",
       "2-ая. Соответствует.      4751\n",
       "3-ая. Соответствует.      3406\n",
       "4-ая. Соответствует.       296\n",
       "Студия. Соответствует.     193\n",
       "Name: good_area, dtype: int64"
      ]
     },
     "execution_count": 33,
     "metadata": {},
     "output_type": "execute_result"
    }
   ],
   "source": [
    "#ограничиваем комнаты и выборку в зависимости от метража\n",
    "sorted_df = df.query('0 <= rooms <= 4 and good_area != \"Не соответствует.\"')\n",
    "print(sorted_df['rooms'].value_counts())\n",
    "sorted_df['good_area'].value_counts()"
   ]
  },
  {
   "cell_type": "markdown",
   "metadata": {},
   "source": [
    "Высота потолков, по стандартам, не должна быть ниже 2,5 метров, а также, для максимальной высоты характерно значение 4 метра. Возьмем в выборку эти значения."
   ]
  },
  {
   "cell_type": "code",
   "execution_count": 34,
   "metadata": {},
   "outputs": [],
   "source": [
    "#ограничиваем потолки по высоте\n",
    "sorted_df = sorted_df.query('2.5 <= ceiling_height <= 4')"
   ]
  },
  {
   "cell_type": "code",
   "execution_count": 35,
   "metadata": {},
   "outputs": [
    {
     "data": {
      "text/plain": [
       "days_exposition  days_exposition\n",
       "1.0              1.0                 1\n",
       "2.0              2.0                 1\n",
       "3.0              3.0                65\n",
       "4.0              4.0                58\n",
       "5.0              5.0                62\n",
       "                                    ..\n",
       "1430.0           1430.0              1\n",
       "1452.0           1452.0              1\n",
       "1477.0           1477.0              1\n",
       "1553.0           1553.0              1\n",
       "1580.0           1580.0              1\n",
       "Name: days_exposition, Length: 847, dtype: int64"
      ]
     },
     "execution_count": 35,
     "metadata": {},
     "output_type": "execute_result"
    }
   ],
   "source": [
    "sorted_df.groupby('days_exposition')['days_exposition'].value_counts()"
   ]
  },
  {
   "cell_type": "markdown",
   "metadata": {},
   "source": [
    "Много единичных случаев данных с большим числом дней размещения, также есть по одному случаю размещения в один и два дня.\n",
    "Возьмем отрезок больше двух дней и верхнюю границу в 300 дней, т.к. там уже больше 5 случаев присутсвует."
   ]
  },
  {
   "cell_type": "code",
   "execution_count": 36,
   "metadata": {},
   "outputs": [],
   "source": [
    "# ограничиваем дни размещения\n",
    "sorted_df = sorted_df.query('2 < days_exposition <= 300')"
   ]
  },
  {
   "cell_type": "code",
   "execution_count": 37,
   "metadata": {},
   "outputs": [
    {
     "data": {
      "text/plain": [
       "count    5901.000000\n",
       "mean       90.934418\n",
       "std        74.507312\n",
       "min         3.000000\n",
       "25%        32.000000\n",
       "50%        66.000000\n",
       "75%       135.000000\n",
       "max       300.000000\n",
       "Name: days_exposition, dtype: float64"
      ]
     },
     "execution_count": 37,
     "metadata": {},
     "output_type": "execute_result"
    },
    {
     "data": {
      "image/png": "[encoded data removed]",
      "text/plain": [
       "<Figure size 432x288 with 1 Axes>"
      ]
     },
     "metadata": {
      "needs_background": "light"
     },
     "output_type": "display_data"
    }
   ],
   "source": [
    "sorted_df['days_exposition'].hist()\n",
    "sorted_df['days_exposition'].describe()"
   ]
  },
  {
   "cell_type": "code",
   "execution_count": 38,
   "metadata": {},
   "outputs": [],
   "source": [
    "# замена пропусков на медиану\n",
    "days_median = sorted_df['days_exposition'].median()\n",
    "sorted_df['days_exposition'] = sorted_df['days_exposition'].fillna(value=days_median)"
   ]
  },
  {
   "cell_type": "code",
   "execution_count": 39,
   "metadata": {},
   "outputs": [],
   "source": [
    "# приведем тип данных к int\n",
    "sorted_df['days_exposition'] = sorted_df['days_exposition'].astype('int')"
   ]
  },
  {
   "cell_type": "code",
   "execution_count": 40,
   "metadata": {},
   "outputs": [
    {
     "data": {
      "text/plain": [
       "count     5901.000000\n",
       "mean      4286.576420\n",
       "std       1736.025038\n",
       "min        450.000000\n",
       "25%       3200.000000\n",
       "50%       4000.000000\n",
       "75%       5150.000000\n",
       "max      22000.000000\n",
       "Name: last_price, dtype: float64"
      ]
     },
     "execution_count": 40,
     "metadata": {},
     "output_type": "execute_result"
    },
    {
     "data": {
      "image/png": "[encoded data removed]",
      "text/plain": [
       "<Figure size 432x288 with 1 Axes>"
      ]
     },
     "metadata": {
      "needs_background": "light"
     },
     "output_type": "display_data"
    }
   ],
   "source": [
    "#sorted_df['last_price'].sort_values().unique()\n",
    "#приведем значения к тысячас из миллионов\n",
    "sorted_df['last_price'] = sorted_df['last_price']/1000\n",
    "sorted_df['last_price'].hist(bins=30)\n",
    "sorted_df['last_price'].describe()"
   ]
  },
  {
   "cell_type": "markdown",
   "metadata": {},
   "source": [
    "У гистограммы есть \"хвост\" вправо, много единичных крупных значений."
   ]
  },
  {
   "cell_type": "code",
   "execution_count": 41,
   "metadata": {},
   "outputs": [],
   "source": [
    "# ограничиваем цену\n",
    "sorted_df = sorted_df.query('last_price <= 10000')"
   ]
  },
  {
   "cell_type": "code",
   "execution_count": 42,
   "metadata": {},
   "outputs": [
    {
     "data": {
      "text/plain": [
       "count     5857.000000\n",
       "mean      4224.319012\n",
       "std       1570.838802\n",
       "min        450.000000\n",
       "25%       3200.000000\n",
       "50%       4000.000000\n",
       "75%       5100.000000\n",
       "max      10000.000000\n",
       "Name: last_price, dtype: float64"
      ]
     },
     "execution_count": 42,
     "metadata": {},
     "output_type": "execute_result"
    },
    {
     "data": {
      "image/png": "[encoded data removed]",
      "text/plain": [
       "<Figure size 432x288 with 1 Axes>"
      ]
     },
     "metadata": {
      "needs_background": "light"
     },
     "output_type": "display_data"
    }
   ],
   "source": [
    "sorted_df['last_price'].hist(bins=30)\n",
    "sorted_df['last_price'].describe()"
   ]
  },
  {
   "cell_type": "markdown",
   "metadata": {},
   "source": [
    "###  Факторы, больше всего влияющие на стоимость квартиры"
   ]
  },
  {
   "cell_type": "markdown",
   "metadata": {},
   "source": [
    "#### Посмотрим зависит ли цена от площади, числа комнат, удалённости от центра"
   ]
  },
  {
   "cell_type": "code",
   "execution_count": 43,
   "metadata": {},
   "outputs": [
    {
     "name": "stdout",
     "output_type": "stream",
     "text": [
      "цена от площади: 0.6208315774314346\n",
      "цена от комнат: 0.5227679234824424\n",
      "цена от удаленности от центра: -0.33046972173773587\n"
     ]
    }
   ],
   "source": [
    "# расчитываем корреляцию показателей\n",
    "print('цена от площади:', sorted_df['last_price'].corr(sorted_df['total_area']))\n",
    "print('цена от комнат:', sorted_df['last_price'].corr(sorted_df['rooms']))\n",
    "print('цена от удаленности от центра:', sorted_df['last_price'].corr(sorted_df['city_centers_nearest']))"
   ]
  },
  {
   "cell_type": "markdown",
   "metadata": {},
   "source": [
    "<div style=\"border:solid green 1px; padding: 10px\">\n",
    "\n",
    "Можно утверждать, что закономерность есть:\n",
    "\n",
    "* чем больше общая площадь квартиры или чем больше в ней комнат, тем выше стоимость такой квартиры;\n",
    "* чем ближе квартира расположена к центру тем она дороже, однако не сильно."
   ]
  },
  {
   "cell_type": "markdown",
   "metadata": {},
   "source": [
    "#### Проверим есть ли зависимость цены от того, на каком этаже расположена квартира: первом, последнем или другом. "
   ]
  },
  {
   "cell_type": "code",
   "execution_count": 44,
   "metadata": {},
   "outputs": [
    {
     "data": {
      "text/html": [
       "<div>\n",
       "<style scoped>\n",
       "    .dataframe tbody tr th:only-of-type {\n",
       "        vertical-align: middle;\n",
       "    }\n",
       "\n",
       "    .dataframe tbody tr th {\n",
       "        vertical-align: top;\n",
       "    }\n",
       "\n",
       "    .dataframe thead th {\n",
       "        text-align: right;\n",
       "    }\n",
       "</style>\n",
       "<table border=\"1\" class=\"dataframe\">\n",
       "  <thead>\n",
       "    <tr style=\"text-align: right;\">\n",
       "      <th></th>\n",
       "      <th>count</th>\n",
       "      <th>total_price</th>\n",
       "      <th>price_for_meter</th>\n",
       "    </tr>\n",
       "    <tr>\n",
       "      <th>floor_category</th>\n",
       "      <th></th>\n",
       "      <th></th>\n",
       "      <th></th>\n",
       "    </tr>\n",
       "  </thead>\n",
       "  <tbody>\n",
       "    <tr>\n",
       "      <th>другой</th>\n",
       "      <td>4274</td>\n",
       "      <td>1.866059e+07</td>\n",
       "      <td>4.043398e+08</td>\n",
       "    </tr>\n",
       "    <tr>\n",
       "      <th>первый</th>\n",
       "      <td>791</td>\n",
       "      <td>2.995935e+06</td>\n",
       "      <td>6.274015e+07</td>\n",
       "    </tr>\n",
       "    <tr>\n",
       "      <th>последний</th>\n",
       "      <td>792</td>\n",
       "      <td>3.085312e+06</td>\n",
       "      <td>6.578350e+07</td>\n",
       "    </tr>\n",
       "  </tbody>\n",
       "</table>\n",
       "</div>"
      ],
      "text/plain": [
       "                count   total_price  price_for_meter\n",
       "floor_category                                      \n",
       "другой           4274  1.866059e+07     4.043398e+08\n",
       "первый            791  2.995935e+06     6.274015e+07\n",
       "последний         792  3.085312e+06     6.578350e+07"
      ]
     },
     "execution_count": 44,
     "metadata": {},
     "output_type": "execute_result"
    }
   ],
   "source": [
    "# расчитываем соотношение показателей (цена за метр от этажа)\n",
    "price_floors = sorted_df.pivot_table(index='floor_category', values=['last_price'], aggfunc=['count', 'sum'])\n",
    "price_floors.columns = ['count', 'total_price'] \n",
    "price_for_meter_floors = sorted_df.pivot_table(index='floor_category', values=['price_for_meter'], aggfunc='sum')\n",
    "total_price_floors = price_floors.merge(price_for_meter_floors, on='floor_category')\n",
    "total_price_floors"
   ]
  },
  {
   "cell_type": "markdown",
   "metadata": {},
   "source": [
    "<div style=\"border:solid green 1px; padding: 10px\">\n",
    "Самая высокая сумма по продажам была в категории \"последний этаж\", второе место у категории \"первый этаж\" и третье - \"другой этаж\", хотя относительно самих случаев продажи квартиры тут, безусловно, первое место. Цена за метр у квартир на первом и последнем этажах, при этом, примерно равна как и число случаев продажи квартир, квартиры на средних этажах за метр стоят дешевле.\n",
    "\n",
    "Можно предположить, что:\n",
    "* на цену метра квартир на последнем этаже , возможно, влияет то, что верхние этажи – это красивый обзор, хотя он есть не в каждом многоквартирном доме, большее количество света, поскольку потоки не загораживают другие дома, зрительное расширение пространства, поскольку перспективный вид из окна дает дополнительное ощущение простора, регулярные кардиотренировки (для тех, кто предпочитает лестницу лифту), меньше соседей (для самого верхнего этажа), более чистый воздух.\n",
    "* на цену метра квартир на первом этаже может влиять то, что не нужно бояться поломки лифта (удобно тем, кому сложно подниматься по лестнице), быстрая эвакуация при чрезвычайной ситуации, отсутствие соседей снизу (меньше шума, и самим можно не бояться претензий в отношении топота над головой), возможность перевести квартиру в нежилой фонд, детская площадка, парковка, спортплощадка – все близко, видно из окна;\n",
    "\n",
    "    Более низкое количество покупок квартир первого или последнего этажа может быть связано с тем, что с последних этажей труднее происходит эвакуация в чрезвычайных ситуациях, подъем пешком в случае нерабочего лифта тяжел, для тех кто не фанат кардио нагрузок, психологический дискомфорт для тех, кто боится высоты, а на первых этажах выше риск краж и хулиганских действий (для первого этажа – приходится ставить решетки, которые в чрезвычайных ситуациях могут сыграть против самих жильцов), шумные компании под окнами и вообще высокий уровень шума, недостаток света из-за близко расположенных деревьев, комары в летнее время, посторонние и часто неприятные запахи (к примеру, если неподалеку контейнерная площадка).\n",
    "    \n",
    "    \n",
    "* средние этажи одинаково удалены и от кровли, и от подвала (снижает риск проблем с протеканием крыши и затоплением технических помещений), расположены не так высоко от земли, имеют хороший вид, не имеют проблем с освещенностью, уровнем кислорода, влажности и атмосферного давления, однако цена за метр у них ниже, что, возможно, связано с тем, что в домах их больше, чем квартир на первом и последнем этажах поэтому и случаев продаж также больше.\n",
    "\n",
    "Мы попытались разобраться, какие этажи считаются лучшими для проживания. Можно сказать, что те, которые устраивают конкретного покупателя. Если для него не проблема подняться по лестнице, если отключен лифт, и важен вид из окна, то легко можете выбирать верхние этажи. Тем, кому нравится быть «ближе к земле», лучше подойдут нижние этажи. Оптимальными для проживания и самыми востребованными при продаже выступают средние этажи."
   ]
  },
  {
   "cell_type": "markdown",
   "metadata": {},
   "source": [
    "#### Также проверим зависимость от даты размещения: дня недели, месяца и года"
   ]
  },
  {
   "cell_type": "code",
   "execution_count": 45,
   "metadata": {},
   "outputs": [
    {
     "data": {
      "image/png": "[encoded data removed]",
      "text/plain": [
       "<Figure size 432x288 with 1 Axes>"
      ]
     },
     "metadata": {
      "needs_background": "light"
     },
     "output_type": "display_data"
    },
    {
     "data": {
      "image/png": "[encoded data removed]",
      "text/plain": [
       "<Figure size 432x288 with 1 Axes>"
      ]
     },
     "metadata": {
      "needs_background": "light"
     },
     "output_type": "display_data"
    },
    {
     "data": {
      "image/png": "[encoded data removed]",
      "text/plain": [
       "<Figure size 432x288 with 1 Axes>"
      ]
     },
     "metadata": {
      "needs_background": "light"
     },
     "output_type": "display_data"
    }
   ],
   "source": [
    "#размещения по дням недели\n",
    "sorted_df['weekday_exposition'].hist()\n",
    "plt.show()\n",
    "#размещения по месяцам\n",
    "sorted_df['month_exposition'].hist()\n",
    "plt.show()\n",
    "#размещения по годам\n",
    "sorted_df['year_exposition'].hist()\n",
    "plt.show()"
   ]
  },
  {
   "cell_type": "markdown",
   "metadata": {},
   "source": [
    "<div style=\"border:solid green 1px; padding: 10px\">\n",
    "    По гистограммам видно, что размещали объявления чаще в будни, больше в начале и конце года, самое большое количество объявлений выставлено в 2017-2018 годах."
   ]
  },
  {
   "cell_type": "markdown",
   "metadata": {},
   "source": [
    "#### Посмотрим на наличие парков и водоемов рядом и важно ли то, что объект недвижимости является аппартаментами"
   ]
  },
  {
   "cell_type": "code",
   "execution_count": 46,
   "metadata": {},
   "outputs": [
    {
     "data": {
      "image/png": "[encoded data removed]",
      "text/plain": [
       "<Figure size 432x288 with 1 Axes>"
      ]
     },
     "metadata": {
      "needs_background": "light"
     },
     "output_type": "display_data"
    },
    {
     "name": "stdout",
     "output_type": "stream",
     "text": [
      "count     1889.000000\n",
      "mean      4773.394664\n",
      "std       1487.267515\n",
      "min       1900.000000\n",
      "25%       3690.000000\n",
      "50%       4500.000000\n",
      "75%       5600.000000\n",
      "max      10000.000000\n",
      "Name: last_price, dtype: float64\n"
     ]
    },
    {
     "data": {
      "image/png": "[encoded data removed]",
      "text/plain": [
       "<Figure size 432x288 with 1 Axes>"
      ]
     },
     "metadata": {
      "needs_background": "light"
     },
     "output_type": "display_data"
    },
    {
     "data": {
      "text/plain": [
       "count    3968.000000\n",
       "mean     3962.926899\n",
       "std      1542.039469\n",
       "min       450.000000\n",
       "25%      2980.000000\n",
       "50%      3800.000000\n",
       "75%      4836.250000\n",
       "max      9950.000000\n",
       "Name: last_price, dtype: float64"
      ]
     },
     "execution_count": 46,
     "metadata": {},
     "output_type": "execute_result"
    }
   ],
   "source": [
    "#выборка по данным с парками на расстоянии 3 км\n",
    "sorted_df.query('parks_around_3000!=0')['last_price'].hist()\n",
    "plt.show()\n",
    "print(sorted_df.query('parks_around_3000!=0')['last_price'].describe())\n",
    "#выборка по данным без парков на расстоянии 3 км\n",
    "sorted_df.query('parks_around_3000==0')['last_price'].hist()\n",
    "plt.show()\n",
    "sorted_df.query('parks_around_3000==0')['last_price'].describe()"
   ]
  },
  {
   "cell_type": "code",
   "execution_count": 47,
   "metadata": {},
   "outputs": [
    {
     "data": {
      "image/png": "[encoded data removed]",
      "text/plain": [
       "<Figure size 432x288 with 1 Axes>"
      ]
     },
     "metadata": {
      "needs_background": "light"
     },
     "output_type": "display_data"
    },
    {
     "name": "stdout",
     "output_type": "stream",
     "text": [
      "count     1997.000000\n",
      "mean      4708.655911\n",
      "std       1498.859382\n",
      "min       1350.000000\n",
      "25%       3600.000000\n",
      "50%       4400.000000\n",
      "75%       5500.000000\n",
      "max      10000.000000\n",
      "Name: last_price, dtype: float64\n"
     ]
    },
    {
     "data": {
      "image/png": "[encoded data removed]",
      "text/plain": [
       "<Figure size 432x288 with 1 Axes>"
      ]
     },
     "metadata": {
      "needs_background": "light"
     },
     "output_type": "display_data"
    },
    {
     "data": {
      "text/plain": [
       "count    3860.000000\n",
       "mean     3973.743679\n",
       "std      1548.631820\n",
       "min       450.000000\n",
       "25%      2950.000000\n",
       "50%      3807.500000\n",
       "75%      4850.000000\n",
       "max      9980.000000\n",
       "Name: last_price, dtype: float64"
      ]
     },
     "execution_count": 47,
     "metadata": {},
     "output_type": "execute_result"
    }
   ],
   "source": [
    "#выборка по данным с водоемами на расстоянии 3 км\n",
    "sorted_df.query('ponds_around_3000!=0')['last_price'].hist()\n",
    "plt.show()\n",
    "print(sorted_df.query('ponds_around_3000!=0')['last_price'].describe())\n",
    "#выборка по данным без водоемов на расстоянии 3 км\n",
    "sorted_df.query('ponds_around_3000==0')['last_price'].hist()\n",
    "plt.show()\n",
    "sorted_df.query('ponds_around_3000==0')['last_price'].describe()"
   ]
  },
  {
   "cell_type": "code",
   "execution_count": 48,
   "metadata": {},
   "outputs": [
    {
     "name": "stdout",
     "output_type": "stream",
     "text": [
      "цена от наличия парка: 0.21295399105340143\n",
      "цена от наличия парка: 0.22514887636208877\n"
     ]
    }
   ],
   "source": [
    "#зависимость цены от наличия парка\n",
    "print('цена от наличия парка:', sorted_df['last_price'].corr(sorted_df['parks_around_3000']))\n",
    "#зависимость цены от наличия водоема\n",
    "print('цена от наличия парка:', sorted_df['last_price'].corr(sorted_df['ponds_around_3000']))"
   ]
  },
  {
   "cell_type": "markdown",
   "metadata": {},
   "source": [
    "<div style=\"border:solid green 1px; padding: 10px\">\n",
    "    Можно сказать, что зависимость невелика, минимальная и максимальная цена квартир, соседствующих с парками или водоемами, чуть выше, чем у тех, которые от них далеко."
   ]
  },
  {
   "cell_type": "code",
   "execution_count": 49,
   "metadata": {},
   "outputs": [
    {
     "name": "stdout",
     "output_type": "stream",
     "text": [
      "count     5216.000000\n",
      "mean      4221.119072\n",
      "std       1570.747776\n",
      "min        450.000000\n",
      "25%       3200.000000\n",
      "50%       4000.000000\n",
      "75%       5100.000000\n",
      "max      10000.000000\n",
      "Name: last_price, dtype: float64\n"
     ]
    },
    {
     "data": {
      "text/plain": [
       "count     641.000000\n",
       "mean     4250.357838\n",
       "std      1572.564059\n",
       "min       630.000000\n",
       "25%      3200.000000\n",
       "50%      4000.000000\n",
       "75%      5150.000000\n",
       "max      9950.000000\n",
       "Name: last_price, dtype: float64"
      ]
     },
     "execution_count": 49,
     "metadata": {},
     "output_type": "execute_result"
    }
   ],
   "source": [
    "print(sorted_df.query('is_apartment==True')['last_price'].describe())\n",
    "sorted_df.query('is_apartment==False')['last_price'].describe()"
   ]
  },
  {
   "cell_type": "markdown",
   "metadata": {},
   "source": [
    "<div style=\"border:solid green 1px; padding: 10px\">\n",
    "    Преобладают объекты недвижимости, являющиеся аппартаментами, однако средняя цена и медиана практически одинаковые по значениям."
   ]
  },
  {
   "cell_type": "markdown",
   "metadata": {},
   "source": [
    "#### Посмотрим среднюю цену за метр в самых популярных для продажи квартир населенных пунктах\n",
    "\n",
    "Выберем 10 населённых пунктов с наибольшим числом объявлений и посчитаем среднюю цену квадратного метра в этих населённых пунктах."
   ]
  },
  {
   "cell_type": "code",
   "execution_count": 50,
   "metadata": {},
   "outputs": [
    {
     "data": {
      "text/html": [
       "<div>\n",
       "<style scoped>\n",
       "    .dataframe tbody tr th:only-of-type {\n",
       "        vertical-align: middle;\n",
       "    }\n",
       "\n",
       "    .dataframe tbody tr th {\n",
       "        vertical-align: top;\n",
       "    }\n",
       "\n",
       "    .dataframe thead th {\n",
       "        text-align: right;\n",
       "    }\n",
       "</style>\n",
       "<table border=\"1\" class=\"dataframe\">\n",
       "  <thead>\n",
       "    <tr style=\"text-align: right;\">\n",
       "      <th></th>\n",
       "      <th>price_for_meter</th>\n",
       "    </tr>\n",
       "    <tr>\n",
       "      <th>locality_name</th>\n",
       "      <th></th>\n",
       "    </tr>\n",
       "  </thead>\n",
       "  <tbody>\n",
       "    <tr>\n",
       "      <th>Санкт-Петербург</th>\n",
       "      <td>102359.54</td>\n",
       "    </tr>\n",
       "    <tr>\n",
       "      <th>Пушкин</th>\n",
       "      <td>98605.31</td>\n",
       "    </tr>\n",
       "    <tr>\n",
       "      <th>поселок Парголово</th>\n",
       "      <td>94628.48</td>\n",
       "    </tr>\n",
       "    <tr>\n",
       "      <th>поселок Мурино</th>\n",
       "      <td>89913.56</td>\n",
       "    </tr>\n",
       "    <tr>\n",
       "      <th>Петергоф</th>\n",
       "      <td>83466.54</td>\n",
       "    </tr>\n",
       "    <tr>\n",
       "      <th>поселок Шушары</th>\n",
       "      <td>82465.12</td>\n",
       "    </tr>\n",
       "    <tr>\n",
       "      <th>Колпино</th>\n",
       "      <td>75428.36</td>\n",
       "    </tr>\n",
       "    <tr>\n",
       "      <th>Красное Село</th>\n",
       "      <td>73406.37</td>\n",
       "    </tr>\n",
       "    <tr>\n",
       "      <th>Гатчина</th>\n",
       "      <td>69804.11</td>\n",
       "    </tr>\n",
       "    <tr>\n",
       "      <th>Всеволожск</th>\n",
       "      <td>66507.64</td>\n",
       "    </tr>\n",
       "  </tbody>\n",
       "</table>\n",
       "</div>"
      ],
      "text/plain": [
       "                   price_for_meter\n",
       "locality_name                     \n",
       "Санкт-Петербург          102359.54\n",
       "Пушкин                    98605.31\n",
       "поселок Парголово         94628.48\n",
       "поселок Мурино            89913.56\n",
       "Петергоф                  83466.54\n",
       "поселок Шушары            82465.12\n",
       "Колпино                   75428.36\n",
       "Красное Село              73406.37\n",
       "Гатчина                   69804.11\n",
       "Всеволожск                66507.64"
      ]
     },
     "execution_count": 50,
     "metadata": {},
     "output_type": "execute_result"
    }
   ],
   "source": [
    "#отбор 10 населенных пунктов с наибольшим количеством объявлений\n",
    "top_10_locality = sorted_df['locality_name'].value_counts().head(10)\n",
    "#срез по выбранным населенным пунктам\n",
    "locality_df = sorted_df.query('locality_name in @top_10_locality.index')\n",
    "#расчет среднего по цене за метр для этих населенных пунктов\n",
    "locality_df = (\n",
    "    locality_df.pivot_table(index='locality_name', values='price_for_meter', aggfunc='mean')\n",
    "    .sort_values(by='price_for_meter', ascending=False)\n",
    "    .round(2)\n",
    ")\n",
    "locality_df"
   ]
  },
  {
   "cell_type": "markdown",
   "metadata": {},
   "source": [
    "<div style=\"border:solid green 1px; padding: 10px\">\n",
    "    Самый дорогой квадратный метр жилья в г. Санкт-Петербурге, что вполне ожидаем, все же северная столица страны. А самый дешевый квадратный метр в нашем топ-10 в г. Всеволожске."
   ]
  },
  {
   "cell_type": "markdown",
   "metadata": {},
   "source": [
    "#### Посмотрим на параметры, влияющие на цену в центральном рацоне Санкт-Петербурга\n",
    "\n",
    "Для каждой квартиры есть информация о расстоянии до центра. Выделим квартиры в г. Санкт-Петербурге."
   ]
  },
  {
   "cell_type": "code",
   "execution_count": 51,
   "metadata": {},
   "outputs": [
    {
     "data": {
      "text/plain": [
       "<AxesSubplot:xlabel='to_centr_in_km'>"
      ]
     },
     "execution_count": 51,
     "metadata": {},
     "output_type": "execute_result"
    },
    {
     "data": {
      "image/png": "[encoded data removed]",
      "text/plain": [
       "<Figure size 864x360 with 1 Axes>"
      ]
     },
     "metadata": {
      "needs_background": "light"
     },
     "output_type": "display_data"
    }
   ],
   "source": [
    "#создаем столбец с расстоянием до центра в километрах с округлением до целых\n",
    "sorted_df['to_centr_in_km'] = sorted_df['city_centers_nearest']/1000\n",
    "sorted_df['to_centr_in_km']=sorted_df['to_centr_in_km'].round()\n",
    "#строим график зависимости цены за метр от удалённости от центра Санкт-Петербурга\n",
    "(sorted_df\n",
    "    .query('locality_name==\"Санкт-Петербург\"')\n",
    "    .pivot_table(index='to_centr_in_km', values='price_for_meter', aggfunc='mean')\n",
    "    .plot(grid=True, figsize=(12, 5))\n",
    ")"
   ]
  },
  {
   "cell_type": "markdown",
   "metadata": {},
   "source": [
    "<div style=\"border:solid green 1px; padding: 10px\">\n",
    "    Площадь центрального района составляет примерно 17 кв. км. Он расположен в центральной исторической части г. Санкт-Петербурга. С севера и востока границей района является река Нева, южная граница проходит по Обводному каналу. Западная граница проходит от Дворцового моста, включает Дворцовую площадь, часть Адмиралтейского проспекта, всю Гороховую улицу, участок Загородного проспекта, Звенигородскую улицу и по ул. Константина Заслонова выходит на набережную Обводного канала."
   ]
  },
  {
   "cell_type": "code",
   "execution_count": 52,
   "metadata": {},
   "outputs": [],
   "source": [
    "spb_df = sorted_df.query('locality_name==\"Санкт-Петербург\" and to_centr_in_km<=17')"
   ]
  },
  {
   "cell_type": "code",
   "execution_count": 53,
   "metadata": {},
   "outputs": [
    {
     "data": {
      "text/plain": [
       "count    3633.000000\n",
       "mean       47.860936\n",
       "std        13.897507\n",
       "min        18.000000\n",
       "25%        36.000000\n",
       "50%        45.700000\n",
       "75%        57.200000\n",
       "max        85.000000\n",
       "Name: total_area, dtype: float64"
      ]
     },
     "execution_count": 53,
     "metadata": {},
     "output_type": "execute_result"
    },
    {
     "data": {
      "image/png": "[encoded data removed]",
      "text/plain": [
       "<Figure size 432x288 with 1 Axes>"
      ]
     },
     "metadata": {
      "needs_background": "light"
     },
     "output_type": "display_data"
    }
   ],
   "source": [
    "spb_df['total_area'].hist()\n",
    "spb_df['total_area'].describe()"
   ]
  },
  {
   "cell_type": "markdown",
   "metadata": {},
   "source": [
    "<div style=\"border:solid green 1px; padding: 10px\">\n",
    "    Преобладают квартиры с площадью от 30 кв. м до 40 кв. м. Также достаточно много квартитр с площадью 45 - 50 кв.м. Значений до 30 кв. м и после 60 кв. м довольно мало."
   ]
  },
  {
   "cell_type": "code",
   "execution_count": 54,
   "metadata": {},
   "outputs": [
    {
     "data": {
      "text/plain": [
       "count     3633.000000\n",
       "mean      4827.165488\n",
       "std       1394.811071\n",
       "min       1350.000000\n",
       "25%       3800.000000\n",
       "50%       4570.000000\n",
       "75%       5600.000000\n",
       "max      10000.000000\n",
       "Name: last_price, dtype: float64"
      ]
     },
     "execution_count": 54,
     "metadata": {},
     "output_type": "execute_result"
    },
    {
     "data": {
      "image/png": "[encoded data removed]",
      "text/plain": [
       "<Figure size 432x288 with 1 Axes>"
      ]
     },
     "metadata": {
      "needs_background": "light"
     },
     "output_type": "display_data"
    }
   ],
   "source": [
    "spb_df['last_price'].hist()\n",
    "spb_df['last_price'].describe()"
   ]
  },
  {
   "cell_type": "markdown",
   "metadata": {},
   "source": [
    "<div style=\"border:solid green 1px; padding: 10px\">\n",
    "    Преобладают цены в диопазоне 3 - 5 млн. Есть несколько вариантов до 2 млн. и немного от 8 млн. до 10 млн."
   ]
  },
  {
   "cell_type": "code",
   "execution_count": 55,
   "metadata": {},
   "outputs": [
    {
     "data": {
      "text/plain": [
       "count    3633.000000\n",
       "mean        1.894302\n",
       "std         0.854086\n",
       "min         0.000000\n",
       "25%         1.000000\n",
       "50%         2.000000\n",
       "75%         3.000000\n",
       "max         4.000000\n",
       "Name: rooms, dtype: float64"
      ]
     },
     "execution_count": 55,
     "metadata": {},
     "output_type": "execute_result"
    },
    {
     "data": {
      "image/png": "[encoded data removed]",
      "text/plain": [
       "<Figure size 432x288 with 1 Axes>"
      ]
     },
     "metadata": {
      "needs_background": "light"
     },
     "output_type": "display_data"
    }
   ],
   "source": [
    "spb_df['rooms'].hist()\n",
    "spb_df['rooms'].describe()"
   ]
  },
  {
   "cell_type": "markdown",
   "metadata": {},
   "source": [
    "<div style=\"border:solid green 1px; padding: 10px\">\n",
    "    Одно- и двухкомнатных квартир больше всего в данных, трешек чуть меньше."
   ]
  },
  {
   "cell_type": "code",
   "execution_count": 56,
   "metadata": {},
   "outputs": [
    {
     "data": {
      "text/plain": [
       "count    3633.000000\n",
       "mean        2.643031\n",
       "std         0.194990\n",
       "min         2.500000\n",
       "25%         2.500000\n",
       "50%         2.600000\n",
       "75%         2.700000\n",
       "max         4.000000\n",
       "Name: ceiling_height, dtype: float64"
      ]
     },
     "execution_count": 56,
     "metadata": {},
     "output_type": "execute_result"
    },
    {
     "data": {
      "image/png": "[encoded data removed]",
      "text/plain": [
       "<Figure size 432x288 with 1 Axes>"
      ]
     },
     "metadata": {
      "needs_background": "light"
     },
     "output_type": "display_data"
    }
   ],
   "source": [
    "spb_df['ceiling_height'].hist()\n",
    "spb_df['ceiling_height'].describe()"
   ]
  },
  {
   "cell_type": "markdown",
   "metadata": {},
   "source": [
    "<div style=\"border:solid green 1px; padding: 10px\">\n",
    "    2.5 - 2.8 метра высота потолка, более высокие потолки почти отсутствуют в выборке."
   ]
  },
  {
   "cell_type": "code",
   "execution_count": 57,
   "metadata": {},
   "outputs": [
    {
     "name": "stdout",
     "output_type": "stream",
     "text": [
      "цена от площади: 0.7791957742775113\n",
      "цена от комнат: 0.6621182194045481\n",
      "цена от удаленности от центра: -0.3091130380782466\n"
     ]
    },
    {
     "data": {
      "text/html": [
       "<div>\n",
       "<style scoped>\n",
       "    .dataframe tbody tr th:only-of-type {\n",
       "        vertical-align: middle;\n",
       "    }\n",
       "\n",
       "    .dataframe tbody tr th {\n",
       "        vertical-align: top;\n",
       "    }\n",
       "\n",
       "    .dataframe thead th {\n",
       "        text-align: right;\n",
       "    }\n",
       "</style>\n",
       "<table border=\"1\" class=\"dataframe\">\n",
       "  <thead>\n",
       "    <tr style=\"text-align: right;\">\n",
       "      <th></th>\n",
       "      <th>count</th>\n",
       "      <th>total_price</th>\n",
       "      <th>price_for_meter</th>\n",
       "    </tr>\n",
       "    <tr>\n",
       "      <th>floor_category</th>\n",
       "      <th></th>\n",
       "      <th></th>\n",
       "      <th></th>\n",
       "    </tr>\n",
       "  </thead>\n",
       "  <tbody>\n",
       "    <tr>\n",
       "      <th>другой</th>\n",
       "      <td>2788</td>\n",
       "      <td>1.357412e+07</td>\n",
       "      <td>2.909253e+08</td>\n",
       "    </tr>\n",
       "    <tr>\n",
       "      <th>первый</th>\n",
       "      <td>437</td>\n",
       "      <td>2.013682e+06</td>\n",
       "      <td>4.140767e+07</td>\n",
       "    </tr>\n",
       "    <tr>\n",
       "      <th>последний</th>\n",
       "      <td>408</td>\n",
       "      <td>1.949289e+06</td>\n",
       "      <td>4.122464e+07</td>\n",
       "    </tr>\n",
       "  </tbody>\n",
       "</table>\n",
       "</div>"
      ],
      "text/plain": [
       "                count   total_price  price_for_meter\n",
       "floor_category                                      \n",
       "другой           2788  1.357412e+07     2.909253e+08\n",
       "первый            437  2.013682e+06     4.140767e+07\n",
       "последний         408  1.949289e+06     4.122464e+07"
      ]
     },
     "execution_count": 57,
     "metadata": {},
     "output_type": "execute_result"
    }
   ],
   "source": [
    "# расчитываем корреляцию показателей\n",
    "print('цена от площади:', spb_df['last_price'].corr(spb_df['total_area']))\n",
    "print('цена от комнат:', spb_df['last_price'].corr(spb_df['rooms']))\n",
    "print('цена от удаленности от центра:', spb_df['last_price'].corr(spb_df['to_centr_in_km']))\n",
    "# расчитываем соотношение показателей (цена за метр от этажа)\n",
    "price_floors = spb_df.pivot_table(index='floor_category', values=['last_price'], aggfunc=['count', 'sum'])\n",
    "price_floors.columns = ['count', 'total_price'] \n",
    "price_for_meter_floors = spb_df.pivot_table(index='floor_category', values=['price_for_meter'], aggfunc='sum')\n",
    "total_price_floors = price_floors.merge(price_for_meter_floors, on='floor_category')\n",
    "total_price_floors"
   ]
  },
  {
   "cell_type": "code",
   "execution_count": 58,
   "metadata": {},
   "outputs": [
    {
     "data": {
      "image/png": "[encoded data removed]",
      "text/plain": [
       "<Figure size 432x288 with 1 Axes>"
      ]
     },
     "metadata": {
      "needs_background": "light"
     },
     "output_type": "display_data"
    },
    {
     "data": {
      "image/png": "[encoded data removed]",
      "text/plain": [
       "<Figure size 432x288 with 1 Axes>"
      ]
     },
     "metadata": {
      "needs_background": "light"
     },
     "output_type": "display_data"
    },
    {
     "data": {
      "image/png": "[encoded data removed]",
      "text/plain": [
       "<Figure size 432x288 with 1 Axes>"
      ]
     },
     "metadata": {
      "needs_background": "light"
     },
     "output_type": "display_data"
    }
   ],
   "source": [
    "\n",
    "#размещения по дням недели\n",
    "sorted_df['weekday_exposition'].hist()\n",
    "plt.show()\n",
    "#размещения по месяцам\n",
    "sorted_df['month_exposition'].hist()\n",
    "plt.show()\n",
    "#размещения по годам\n",
    "sorted_df['year_exposition'].hist()\n",
    "plt.show()"
   ]
  },
  {
   "cell_type": "markdown",
   "metadata": {},
   "source": [
    "<div style=\"border:solid green 1px; padding: 10px\">\n",
    "Выделим факторы, которые влияют на стоимость квартиры:\n",
    "\n",
    "* число комнат и площадь довольно сильно влияют на стоимость;\n",
    "* также не сильно зависит она и от удаленности от центра внутри центрального района;\n",
    "* Самая высокая сумма по продажам была в категории \"первый этаж\", второе место у категории \"последний этаж\" и третье - \"другой этаж\", хотя относительно самих случаев продажи квартиры тут, безусловно, первое место. Цена за метр у квартир на первом и последнем этажах, при этом, примерно равна как и число случаев продажи квартир, квартиры на средних этажах за метр стоят дешевле;\n",
    "* дата размещения объявления - больше размещают в будни, в начале и конце года, спад весной, период 2017-2018 гг. самый насыщенный.\n",
    "\n",
    "\n",
    "От общих показателей по всей базе данные по центральному району г. Санкт-Петербурга не отличаются, люди также размещают объявления по будням, в конце и начале года и предпочитают квартиры с большей площадью, количеством комнат, поближе к центру, тлько здесь больше предопочтение отдают последнему этажу перед первым."
   ]
  },
  {
   "cell_type": "markdown",
   "metadata": {},
   "source": [
    "## Общий вывод"
   ]
  },
  {
   "cell_type": "markdown",
   "metadata": {},
   "source": [
    "<div style=\"border:solid green 2px; padding: 20px\"> \n",
    "\n",
    "Мы изучили базу Яндекс.Недвижимость, содержащую данные о продаже квартир в Санкт-Петербурге и соседних населённых пунктах за несколько лет (2014-2019гг.), для того, чтобы выявить параметры, определяющие рыночную стоимость недвижимости.\n",
    "\n",
    "    \n",
    "По каждой квартире на продажу доступны два вида данных. Первые вписаны пользователем, вторые получены автоматически на основе картографических данных. Например, расстояние до центра, аэропорта, ближайшего парка и водоёма.\n",
    "  \n",
    "    \n",
    "Был проверен ряд параметров и выявлено, что:\n",
    "    \n",
    "* база содержит куда больше данных по количеству объявлений за 2017-2018гг. чем за другие года;\n",
    "* размещали объявлению преимущественно в начале и конце года;\n",
    "* сильный спад приходился на весну;\n",
    "* активнее размещают объявления в будни.\n",
    "    \n",
    "    \n",
    "На стоимость объекта недвижимости, как в Санкт-Петербурге так и в соседних населённых пунктах, значительно влияет его площадь, количество комнат, есть обратная зависимость с удаленностью от центра, т.е. чем ближе к центру, тем дороже. В центральном районе Санкт-Петербурга больше предпочитают последние этажи, чем первые, однако не зависимо от района большинство представленных квартир расположены на промежуточных этажах, а их стоимость примерно в 2 раза ниже, чем у квартир первых и последних этажей.\n",
    "    \n",
    "    \n",
    "Итак, при построении автоматизированной системы для отслеживания аномалии и мошеннической деятельности стоит обратить внимание на площадь, количество комнат, удаленность от центра, высоту потолков. </div>"
   ]
  }
 ],
 "metadata": {
  "ExecuteTimeLog": [
   {
    "duration": 1049,
    "start_time": "2022-05-31T11:50:42.368Z"
   },
   {
    "duration": 92,
    "start_time": "2022-05-31T11:50:54.143Z"
   },
   {
    "duration": 4,
    "start_time": "2022-05-31T11:51:19.561Z"
   },
   {
    "duration": 123,
    "start_time": "2022-05-31T11:51:26.577Z"
   },
   {
    "duration": 116,
    "start_time": "2022-05-31T11:51:39.116Z"
   },
   {
    "duration": 94,
    "start_time": "2022-05-31T11:52:18.448Z"
   },
   {
    "duration": 117,
    "start_time": "2022-05-31T11:52:27.784Z"
   },
   {
    "duration": 112,
    "start_time": "2022-05-31T11:59:44.633Z"
   },
   {
    "duration": 13,
    "start_time": "2022-05-31T11:59:52.758Z"
   },
   {
    "duration": 44,
    "start_time": "2022-05-31T12:35:21.491Z"
   },
   {
    "duration": 9,
    "start_time": "2022-05-31T12:35:28.584Z"
   },
   {
    "duration": 16,
    "start_time": "2022-05-31T12:36:04.357Z"
   },
   {
    "duration": 7,
    "start_time": "2022-05-31T12:39:31.720Z"
   },
   {
    "duration": 7,
    "start_time": "2022-05-31T13:16:11.328Z"
   },
   {
    "duration": 7,
    "start_time": "2022-05-31T13:16:57.723Z"
   },
   {
    "duration": 7,
    "start_time": "2022-05-31T13:19:51.238Z"
   },
   {
    "duration": 48,
    "start_time": "2022-05-31T13:20:10.144Z"
   },
   {
    "duration": 11,
    "start_time": "2022-05-31T13:20:17.362Z"
   },
   {
    "duration": 5,
    "start_time": "2022-05-31T13:21:04.871Z"
   },
   {
    "duration": 7,
    "start_time": "2022-05-31T13:21:56.820Z"
   },
   {
    "duration": 6,
    "start_time": "2022-05-31T13:28:00.661Z"
   },
   {
    "duration": 326,
    "start_time": "2022-05-31T13:33:01.770Z"
   },
   {
    "duration": 18,
    "start_time": "2022-05-31T13:41:49.807Z"
   },
   {
    "duration": 298,
    "start_time": "2022-05-31T13:45:25.560Z"
   },
   {
    "duration": 108,
    "start_time": "2022-05-31T13:49:10.715Z"
   },
   {
    "duration": 13,
    "start_time": "2022-05-31T13:49:10.825Z"
   },
   {
    "duration": 17,
    "start_time": "2022-05-31T13:49:10.839Z"
   },
   {
    "duration": 0,
    "start_time": "2022-05-31T13:49:10.857Z"
   },
   {
    "duration": 0,
    "start_time": "2022-05-31T13:49:10.858Z"
   },
   {
    "duration": 0,
    "start_time": "2022-05-31T13:49:10.859Z"
   },
   {
    "duration": 0,
    "start_time": "2022-05-31T13:49:10.861Z"
   },
   {
    "duration": 15,
    "start_time": "2022-05-31T13:50:06.924Z"
   },
   {
    "duration": 15,
    "start_time": "2022-05-31T13:55:19.720Z"
   },
   {
    "duration": 13,
    "start_time": "2022-05-31T13:55:35.624Z"
   },
   {
    "duration": 104,
    "start_time": "2022-05-31T13:56:57.456Z"
   },
   {
    "duration": 11,
    "start_time": "2022-05-31T13:56:57.562Z"
   },
   {
    "duration": 22,
    "start_time": "2022-05-31T13:56:57.575Z"
   },
   {
    "duration": 0,
    "start_time": "2022-05-31T13:56:57.598Z"
   },
   {
    "duration": 0,
    "start_time": "2022-05-31T13:56:57.599Z"
   },
   {
    "duration": 0,
    "start_time": "2022-05-31T13:56:57.600Z"
   },
   {
    "duration": 0,
    "start_time": "2022-05-31T13:56:57.601Z"
   },
   {
    "duration": 18,
    "start_time": "2022-05-31T13:57:36.527Z"
   },
   {
    "duration": 106,
    "start_time": "2022-05-31T13:57:59.148Z"
   },
   {
    "duration": 11,
    "start_time": "2022-05-31T13:57:59.256Z"
   },
   {
    "duration": 26,
    "start_time": "2022-05-31T13:57:59.269Z"
   },
   {
    "duration": 7,
    "start_time": "2022-05-31T13:57:59.296Z"
   },
   {
    "duration": 6,
    "start_time": "2022-05-31T13:57:59.304Z"
   },
   {
    "duration": 6,
    "start_time": "2022-05-31T13:57:59.312Z"
   },
   {
    "duration": 19,
    "start_time": "2022-05-31T13:57:59.319Z"
   },
   {
    "duration": 17,
    "start_time": "2022-05-31T13:59:19.541Z"
   },
   {
    "duration": 23,
    "start_time": "2022-05-31T13:59:40.715Z"
   },
   {
    "duration": 17,
    "start_time": "2022-05-31T13:59:53.660Z"
   },
   {
    "duration": 13,
    "start_time": "2022-05-31T13:59:56.368Z"
   },
   {
    "duration": 4,
    "start_time": "2022-05-31T14:07:33.325Z"
   },
   {
    "duration": 4,
    "start_time": "2022-05-31T14:08:08.799Z"
   },
   {
    "duration": 8,
    "start_time": "2022-05-31T14:08:40.730Z"
   },
   {
    "duration": 4,
    "start_time": "2022-05-31T14:09:47.621Z"
   },
   {
    "duration": 7,
    "start_time": "2022-05-31T14:10:13.948Z"
   },
   {
    "duration": 7,
    "start_time": "2022-05-31T14:10:31.065Z"
   },
   {
    "duration": 5,
    "start_time": "2022-05-31T14:10:40.696Z"
   },
   {
    "duration": 4,
    "start_time": "2022-05-31T14:10:53.649Z"
   },
   {
    "duration": 6,
    "start_time": "2022-05-31T14:11:40.094Z"
   },
   {
    "duration": 900,
    "start_time": "2022-05-31T14:14:01.455Z"
   },
   {
    "duration": 223,
    "start_time": "2022-05-31T14:14:18.287Z"
   },
   {
    "duration": 159,
    "start_time": "2022-05-31T14:14:33.475Z"
   },
   {
    "duration": 150,
    "start_time": "2022-05-31T14:14:45.039Z"
   },
   {
    "duration": 4,
    "start_time": "2022-05-31T14:15:27.922Z"
   },
   {
    "duration": 7,
    "start_time": "2022-05-31T14:15:37.245Z"
   },
   {
    "duration": 4,
    "start_time": "2022-05-31T14:22:02.696Z"
   },
   {
    "duration": 172,
    "start_time": "2022-05-31T14:23:00.875Z"
   },
   {
    "duration": 7,
    "start_time": "2022-05-31T14:23:17.107Z"
   },
   {
    "duration": 5,
    "start_time": "2022-05-31T14:23:25.140Z"
   },
   {
    "duration": 135,
    "start_time": "2022-05-31T14:23:47.140Z"
   },
   {
    "duration": 184,
    "start_time": "2022-05-31T14:24:09.650Z"
   },
   {
    "duration": 139,
    "start_time": "2022-05-31T14:24:14.075Z"
   },
   {
    "duration": 138,
    "start_time": "2022-05-31T14:25:12.428Z"
   },
   {
    "duration": 132,
    "start_time": "2022-05-31T14:25:35.376Z"
   },
   {
    "duration": 4,
    "start_time": "2022-05-31T14:26:11.323Z"
   },
   {
    "duration": 4,
    "start_time": "2022-05-31T14:26:33.551Z"
   },
   {
    "duration": 3,
    "start_time": "2022-05-31T14:26:45.458Z"
   },
   {
    "duration": 4,
    "start_time": "2022-05-31T14:26:58.921Z"
   },
   {
    "duration": 120,
    "start_time": "2022-05-31T14:27:07.707Z"
   },
   {
    "duration": 126,
    "start_time": "2022-05-31T14:28:13.158Z"
   },
   {
    "duration": 4,
    "start_time": "2022-05-31T14:28:33.442Z"
   },
   {
    "duration": 6,
    "start_time": "2022-05-31T14:29:27.853Z"
   },
   {
    "duration": 16,
    "start_time": "2022-05-31T14:29:45.647Z"
   },
   {
    "duration": 6,
    "start_time": "2022-05-31T14:29:54.170Z"
   },
   {
    "duration": 21,
    "start_time": "2022-05-31T14:30:11.252Z"
   },
   {
    "duration": 5,
    "start_time": "2022-05-31T14:40:23.817Z"
   },
   {
    "duration": 8,
    "start_time": "2022-05-31T14:40:47.965Z"
   },
   {
    "duration": 7,
    "start_time": "2022-05-31T14:41:19.257Z"
   },
   {
    "duration": 10,
    "start_time": "2022-05-31T14:41:32.499Z"
   },
   {
    "duration": 23,
    "start_time": "2022-05-31T14:46:52.216Z"
   },
   {
    "duration": 110,
    "start_time": "2022-05-31T14:47:06.094Z"
   },
   {
    "duration": 12,
    "start_time": "2022-05-31T14:47:06.206Z"
   },
   {
    "duration": 18,
    "start_time": "2022-05-31T14:47:06.220Z"
   },
   {
    "duration": 6,
    "start_time": "2022-05-31T14:47:06.240Z"
   },
   {
    "duration": 9,
    "start_time": "2022-05-31T14:47:06.247Z"
   },
   {
    "duration": 9,
    "start_time": "2022-05-31T14:47:06.258Z"
   },
   {
    "duration": 42,
    "start_time": "2022-05-31T14:47:06.268Z"
   },
   {
    "duration": 12,
    "start_time": "2022-05-31T14:47:06.311Z"
   },
   {
    "duration": 138,
    "start_time": "2022-05-31T14:47:06.324Z"
   },
   {
    "duration": 5,
    "start_time": "2022-05-31T14:47:06.464Z"
   },
   {
    "duration": 5,
    "start_time": "2022-05-31T14:47:06.471Z"
   },
   {
    "duration": 19,
    "start_time": "2022-05-31T14:47:06.478Z"
   },
   {
    "duration": 7,
    "start_time": "2022-05-31T14:47:06.498Z"
   },
   {
    "duration": 5,
    "start_time": "2022-05-31T14:47:06.507Z"
   },
   {
    "duration": 162,
    "start_time": "2022-05-31T14:47:06.513Z"
   },
   {
    "duration": 128,
    "start_time": "2022-05-31T14:47:06.676Z"
   },
   {
    "duration": 15,
    "start_time": "2022-05-31T14:47:06.805Z"
   },
   {
    "duration": 5,
    "start_time": "2022-05-31T14:48:12.875Z"
   },
   {
    "duration": 7,
    "start_time": "2022-05-31T14:48:21.945Z"
   },
   {
    "duration": 6,
    "start_time": "2022-05-31T14:48:54.064Z"
   },
   {
    "duration": 8,
    "start_time": "2022-05-31T14:49:00.358Z"
   },
   {
    "duration": 32,
    "start_time": "2022-05-31T14:49:37.815Z"
   },
   {
    "duration": 17,
    "start_time": "2022-05-31T14:49:42.590Z"
   },
   {
    "duration": 12,
    "start_time": "2022-05-31T14:49:46.755Z"
   },
   {
    "duration": 6,
    "start_time": "2022-05-31T14:50:09.186Z"
   },
   {
    "duration": 13,
    "start_time": "2022-05-31T14:50:50.687Z"
   },
   {
    "duration": 5,
    "start_time": "2022-05-31T14:51:05.421Z"
   },
   {
    "duration": 709,
    "start_time": "2022-06-01T06:58:18.535Z"
   },
   {
    "duration": 14,
    "start_time": "2022-06-01T06:58:19.245Z"
   },
   {
    "duration": 18,
    "start_time": "2022-06-01T06:58:19.261Z"
   },
   {
    "duration": 13,
    "start_time": "2022-06-01T06:58:19.281Z"
   },
   {
    "duration": 8,
    "start_time": "2022-06-01T06:58:19.296Z"
   },
   {
    "duration": 7,
    "start_time": "2022-06-01T06:58:19.305Z"
   },
   {
    "duration": 27,
    "start_time": "2022-06-01T06:58:19.313Z"
   },
   {
    "duration": 14,
    "start_time": "2022-06-01T06:58:19.350Z"
   },
   {
    "duration": 4,
    "start_time": "2022-06-01T06:58:19.366Z"
   },
   {
    "duration": 9,
    "start_time": "2022-06-01T06:58:19.393Z"
   },
   {
    "duration": 8,
    "start_time": "2022-06-01T06:58:19.404Z"
   },
   {
    "duration": 3,
    "start_time": "2022-06-01T06:58:19.414Z"
   },
   {
    "duration": 583,
    "start_time": "2022-06-01T06:58:19.419Z"
   },
   {
    "duration": 154,
    "start_time": "2022-06-01T06:58:20.004Z"
   },
   {
    "duration": 17,
    "start_time": "2022-06-01T06:58:20.160Z"
   },
   {
    "duration": 6,
    "start_time": "2022-06-01T07:07:04.061Z"
   },
   {
    "duration": 5,
    "start_time": "2022-06-01T07:17:22.981Z"
   },
   {
    "duration": 7,
    "start_time": "2022-06-01T07:17:33.807Z"
   },
   {
    "duration": 7,
    "start_time": "2022-06-01T07:53:48.739Z"
   },
   {
    "duration": 9,
    "start_time": "2022-06-01T07:59:19.925Z"
   },
   {
    "duration": 5,
    "start_time": "2022-06-01T07:59:46.719Z"
   },
   {
    "duration": 7,
    "start_time": "2022-06-01T07:59:51.966Z"
   },
   {
    "duration": 7,
    "start_time": "2022-06-01T08:00:06.785Z"
   },
   {
    "duration": 9,
    "start_time": "2022-06-01T08:03:03.948Z"
   },
   {
    "duration": 8,
    "start_time": "2022-06-01T08:07:06.668Z"
   },
   {
    "duration": 27,
    "start_time": "2022-06-01T08:07:30.964Z"
   },
   {
    "duration": 25,
    "start_time": "2022-06-01T08:07:38.842Z"
   },
   {
    "duration": 33,
    "start_time": "2022-06-01T08:07:48.956Z"
   },
   {
    "duration": 31,
    "start_time": "2022-06-01T08:07:54.386Z"
   },
   {
    "duration": 20,
    "start_time": "2022-06-01T08:08:13.339Z"
   },
   {
    "duration": 24,
    "start_time": "2022-06-01T08:08:23.140Z"
   },
   {
    "duration": 20,
    "start_time": "2022-06-01T08:08:29.540Z"
   },
   {
    "duration": 19,
    "start_time": "2022-06-01T08:09:26.809Z"
   },
   {
    "duration": 30,
    "start_time": "2022-06-01T08:14:48.921Z"
   },
   {
    "duration": 27,
    "start_time": "2022-06-01T08:19:55.202Z"
   },
   {
    "duration": 25,
    "start_time": "2022-06-01T08:19:58.297Z"
   },
   {
    "duration": 436,
    "start_time": "2022-06-01T10:50:43.460Z"
   },
   {
    "duration": 411,
    "start_time": "2022-06-01T10:50:49.767Z"
   },
   {
    "duration": 425,
    "start_time": "2022-06-01T10:52:00.361Z"
   },
   {
    "duration": 8,
    "start_time": "2022-06-01T10:52:25.989Z"
   },
   {
    "duration": 8,
    "start_time": "2022-06-01T10:52:27.886Z"
   },
   {
    "duration": 470,
    "start_time": "2022-06-01T10:52:45.278Z"
   },
   {
    "duration": 44,
    "start_time": "2022-06-01T10:54:38.011Z"
   },
   {
    "duration": 534,
    "start_time": "2022-06-01T10:54:54.435Z"
   },
   {
    "duration": 473,
    "start_time": "2022-06-01T10:55:10.876Z"
   },
   {
    "duration": 321,
    "start_time": "2022-06-01T10:55:39.725Z"
   },
   {
    "duration": 1407,
    "start_time": "2022-06-01T10:56:55.891Z"
   },
   {
    "duration": 388,
    "start_time": "2022-06-01T10:57:06.377Z"
   },
   {
    "duration": 302,
    "start_time": "2022-06-01T10:57:30.884Z"
   },
   {
    "duration": 1897,
    "start_time": "2022-06-01T10:57:47.101Z"
   },
   {
    "duration": 19,
    "start_time": "2022-06-01T10:58:24.574Z"
   },
   {
    "duration": 20,
    "start_time": "2022-06-01T10:58:57.405Z"
   },
   {
    "duration": 21,
    "start_time": "2022-06-01T10:59:07.737Z"
   },
   {
    "duration": 33,
    "start_time": "2022-06-01T11:00:59.785Z"
   },
   {
    "duration": 8,
    "start_time": "2022-06-01T11:01:05.767Z"
   },
   {
    "duration": 106,
    "start_time": "2022-06-01T11:01:17.644Z"
   },
   {
    "duration": 20,
    "start_time": "2022-06-01T11:01:21.524Z"
   },
   {
    "duration": 10,
    "start_time": "2022-06-01T11:01:27.286Z"
   },
   {
    "duration": 9,
    "start_time": "2022-06-01T11:04:36.782Z"
   },
   {
    "duration": 14,
    "start_time": "2022-06-01T11:04:40.538Z"
   },
   {
    "duration": 13242,
    "start_time": "2022-06-01T11:05:42.798Z"
   },
   {
    "duration": 13242,
    "start_time": "2022-06-01T11:06:54.925Z"
   },
   {
    "duration": 23,
    "start_time": "2022-06-01T11:07:08.169Z"
   },
   {
    "duration": 9,
    "start_time": "2022-06-01T11:09:58.378Z"
   },
   {
    "duration": 7,
    "start_time": "2022-06-01T11:11:13.459Z"
   },
   {
    "duration": 103,
    "start_time": "2022-06-01T11:36:23.413Z"
   },
   {
    "duration": 14,
    "start_time": "2022-06-01T11:36:23.527Z"
   },
   {
    "duration": 0,
    "start_time": "2022-06-01T11:36:24.043Z"
   },
   {
    "duration": 114,
    "start_time": "2022-06-01T11:37:00.905Z"
   },
   {
    "duration": 13,
    "start_time": "2022-06-01T11:37:01.022Z"
   },
   {
    "duration": 23,
    "start_time": "2022-06-01T11:37:01.036Z"
   },
   {
    "duration": 7,
    "start_time": "2022-06-01T11:37:01.062Z"
   },
   {
    "duration": 5,
    "start_time": "2022-06-01T11:37:01.091Z"
   },
   {
    "duration": 12,
    "start_time": "2022-06-01T11:37:01.097Z"
   },
   {
    "duration": 50,
    "start_time": "2022-06-01T11:37:01.111Z"
   },
   {
    "duration": 16,
    "start_time": "2022-06-01T11:37:01.162Z"
   },
   {
    "duration": 6,
    "start_time": "2022-06-01T11:37:01.180Z"
   },
   {
    "duration": 11,
    "start_time": "2022-06-01T11:37:01.193Z"
   },
   {
    "duration": 13,
    "start_time": "2022-06-01T11:37:01.206Z"
   },
   {
    "duration": 5,
    "start_time": "2022-06-01T11:37:01.221Z"
   },
   {
    "duration": 21,
    "start_time": "2022-06-01T11:37:01.228Z"
   },
   {
    "duration": 9,
    "start_time": "2022-06-01T11:37:01.251Z"
   },
   {
    "duration": 658,
    "start_time": "2022-06-01T12:15:16.349Z"
   },
   {
    "duration": 16,
    "start_time": "2022-06-01T12:15:17.009Z"
   },
   {
    "duration": 18,
    "start_time": "2022-06-01T12:15:17.026Z"
   },
   {
    "duration": 6,
    "start_time": "2022-06-01T12:15:17.046Z"
   },
   {
    "duration": 8,
    "start_time": "2022-06-01T12:15:17.054Z"
   },
   {
    "duration": 29,
    "start_time": "2022-06-01T12:15:17.064Z"
   },
   {
    "duration": 28,
    "start_time": "2022-06-01T12:15:17.094Z"
   },
   {
    "duration": 12,
    "start_time": "2022-06-01T12:15:17.124Z"
   },
   {
    "duration": 7,
    "start_time": "2022-06-01T12:15:17.137Z"
   },
   {
    "duration": 10,
    "start_time": "2022-06-01T12:15:17.145Z"
   },
   {
    "duration": 36,
    "start_time": "2022-06-01T12:15:17.157Z"
   },
   {
    "duration": 5,
    "start_time": "2022-06-01T12:15:17.195Z"
   },
   {
    "duration": 15,
    "start_time": "2022-06-01T12:15:17.202Z"
   },
   {
    "duration": 20,
    "start_time": "2022-06-01T12:19:10.291Z"
   },
   {
    "duration": 8,
    "start_time": "2022-06-01T12:36:31.618Z"
   },
   {
    "duration": 7,
    "start_time": "2022-06-01T12:36:36.358Z"
   },
   {
    "duration": 4,
    "start_time": "2022-06-01T12:36:43.081Z"
   },
   {
    "duration": 3,
    "start_time": "2022-06-01T12:36:48.263Z"
   },
   {
    "duration": 67,
    "start_time": "2022-06-01T13:00:54.299Z"
   },
   {
    "duration": 8,
    "start_time": "2022-06-01T13:01:30.617Z"
   },
   {
    "duration": 3,
    "start_time": "2022-06-01T13:01:57.213Z"
   },
   {
    "duration": 7,
    "start_time": "2022-06-01T13:02:03.297Z"
   },
   {
    "duration": 7,
    "start_time": "2022-06-01T13:02:47.260Z"
   },
   {
    "duration": 7,
    "start_time": "2022-06-01T13:03:05.894Z"
   },
   {
    "duration": 7,
    "start_time": "2022-06-01T13:03:15.234Z"
   },
   {
    "duration": 7,
    "start_time": "2022-06-01T13:30:53.068Z"
   },
   {
    "duration": 67,
    "start_time": "2022-06-01T13:31:07.137Z"
   },
   {
    "duration": 16,
    "start_time": "2022-06-01T13:31:18.728Z"
   },
   {
    "duration": 110,
    "start_time": "2022-06-01T14:04:02.246Z"
   },
   {
    "duration": 11,
    "start_time": "2022-06-01T14:04:02.358Z"
   },
   {
    "duration": 21,
    "start_time": "2022-06-01T14:04:02.371Z"
   },
   {
    "duration": 6,
    "start_time": "2022-06-01T14:04:02.394Z"
   },
   {
    "duration": 7,
    "start_time": "2022-06-01T14:04:02.402Z"
   },
   {
    "duration": 9,
    "start_time": "2022-06-01T14:04:02.410Z"
   },
   {
    "duration": 23,
    "start_time": "2022-06-01T14:04:02.421Z"
   },
   {
    "duration": 12,
    "start_time": "2022-06-01T14:04:02.445Z"
   },
   {
    "duration": 34,
    "start_time": "2022-06-01T14:04:02.459Z"
   },
   {
    "duration": 6,
    "start_time": "2022-06-01T14:04:02.495Z"
   },
   {
    "duration": 6,
    "start_time": "2022-06-01T14:04:02.502Z"
   },
   {
    "duration": 5,
    "start_time": "2022-06-01T14:04:02.509Z"
   },
   {
    "duration": 20,
    "start_time": "2022-06-01T14:04:02.516Z"
   },
   {
    "duration": 17,
    "start_time": "2022-06-01T14:04:02.538Z"
   },
   {
    "duration": 67,
    "start_time": "2022-06-01T14:04:02.556Z"
   },
   {
    "duration": 17,
    "start_time": "2022-06-01T14:04:02.625Z"
   },
   {
    "duration": 19,
    "start_time": "2022-06-01T14:05:28.983Z"
   },
   {
    "duration": 30,
    "start_time": "2022-06-01T14:06:10.750Z"
   },
   {
    "duration": 35,
    "start_time": "2022-06-01T14:06:23.123Z"
   },
   {
    "duration": 17,
    "start_time": "2022-06-01T14:06:30.144Z"
   },
   {
    "duration": 16,
    "start_time": "2022-06-01T14:07:03.399Z"
   },
   {
    "duration": 109,
    "start_time": "2022-06-01T14:07:33.777Z"
   },
   {
    "duration": 11,
    "start_time": "2022-06-01T14:07:33.888Z"
   },
   {
    "duration": 17,
    "start_time": "2022-06-01T14:07:33.901Z"
   },
   {
    "duration": 9,
    "start_time": "2022-06-01T14:07:33.920Z"
   },
   {
    "duration": 8,
    "start_time": "2022-06-01T14:07:33.931Z"
   },
   {
    "duration": 10,
    "start_time": "2022-06-01T14:07:33.940Z"
   },
   {
    "duration": 23,
    "start_time": "2022-06-01T14:07:33.951Z"
   },
   {
    "duration": 14,
    "start_time": "2022-06-01T14:07:33.992Z"
   },
   {
    "duration": 6,
    "start_time": "2022-06-01T14:07:34.007Z"
   },
   {
    "duration": 7,
    "start_time": "2022-06-01T14:07:34.015Z"
   },
   {
    "duration": 7,
    "start_time": "2022-06-01T14:07:34.023Z"
   },
   {
    "duration": 5,
    "start_time": "2022-06-01T14:07:34.031Z"
   },
   {
    "duration": 15,
    "start_time": "2022-06-01T14:07:34.037Z"
   },
   {
    "duration": 18,
    "start_time": "2022-06-01T14:07:34.091Z"
   },
   {
    "duration": 41,
    "start_time": "2022-06-01T14:07:34.111Z"
   },
   {
    "duration": 18,
    "start_time": "2022-06-01T14:07:34.154Z"
   },
   {
    "duration": 35,
    "start_time": "2022-06-01T14:07:34.173Z"
   },
   {
    "duration": 21,
    "start_time": "2022-06-01T14:15:02.216Z"
   },
   {
    "duration": 19,
    "start_time": "2022-06-01T14:15:06.130Z"
   },
   {
    "duration": 75,
    "start_time": "2022-06-01T14:23:39.080Z"
   },
   {
    "duration": 57,
    "start_time": "2022-06-02T06:51:15.850Z"
   },
   {
    "duration": 845,
    "start_time": "2022-06-02T06:52:25.410Z"
   },
   {
    "duration": 13,
    "start_time": "2022-06-02T06:52:26.257Z"
   },
   {
    "duration": 21,
    "start_time": "2022-06-02T06:52:26.272Z"
   },
   {
    "duration": 30,
    "start_time": "2022-06-02T06:52:26.296Z"
   },
   {
    "duration": 5,
    "start_time": "2022-06-02T06:52:26.328Z"
   },
   {
    "duration": 13,
    "start_time": "2022-06-02T06:52:26.335Z"
   },
   {
    "duration": 28,
    "start_time": "2022-06-02T06:52:26.349Z"
   },
   {
    "duration": 14,
    "start_time": "2022-06-02T06:52:26.379Z"
   },
   {
    "duration": 33,
    "start_time": "2022-06-02T06:52:26.395Z"
   },
   {
    "duration": 7,
    "start_time": "2022-06-02T06:52:26.431Z"
   },
   {
    "duration": 7,
    "start_time": "2022-06-02T06:52:26.440Z"
   },
   {
    "duration": 11,
    "start_time": "2022-06-02T06:52:26.449Z"
   },
   {
    "duration": 20,
    "start_time": "2022-06-02T06:52:26.461Z"
   },
   {
    "duration": 16,
    "start_time": "2022-06-02T06:52:26.483Z"
   },
   {
    "duration": 44,
    "start_time": "2022-06-02T06:52:26.526Z"
   },
   {
    "duration": 17,
    "start_time": "2022-06-02T06:52:26.572Z"
   },
   {
    "duration": 44,
    "start_time": "2022-06-02T06:52:26.591Z"
   },
   {
    "duration": 10,
    "start_time": "2022-06-02T06:52:45.067Z"
   },
   {
    "duration": 114,
    "start_time": "2022-06-02T06:53:44.211Z"
   },
   {
    "duration": 14,
    "start_time": "2022-06-02T06:53:44.327Z"
   },
   {
    "duration": 20,
    "start_time": "2022-06-02T06:53:44.342Z"
   },
   {
    "duration": 8,
    "start_time": "2022-06-02T06:53:44.364Z"
   },
   {
    "duration": 13,
    "start_time": "2022-06-02T06:53:44.374Z"
   },
   {
    "duration": 11,
    "start_time": "2022-06-02T06:53:44.388Z"
   },
   {
    "duration": 28,
    "start_time": "2022-06-02T06:53:44.426Z"
   },
   {
    "duration": 15,
    "start_time": "2022-06-02T06:53:44.456Z"
   },
   {
    "duration": 5,
    "start_time": "2022-06-02T06:53:44.473Z"
   },
   {
    "duration": 7,
    "start_time": "2022-06-02T06:53:44.481Z"
   },
   {
    "duration": 40,
    "start_time": "2022-06-02T06:53:44.490Z"
   },
   {
    "duration": 7,
    "start_time": "2022-06-02T06:53:44.532Z"
   },
   {
    "duration": 16,
    "start_time": "2022-06-02T06:53:44.540Z"
   },
   {
    "duration": 14,
    "start_time": "2022-06-02T06:53:44.558Z"
   },
   {
    "duration": 75,
    "start_time": "2022-06-02T06:53:44.574Z"
   },
   {
    "duration": 23,
    "start_time": "2022-06-02T06:53:44.650Z"
   },
   {
    "duration": 24,
    "start_time": "2022-06-02T06:53:44.675Z"
   },
   {
    "duration": 3,
    "start_time": "2022-06-02T06:57:46.166Z"
   },
   {
    "duration": 6,
    "start_time": "2022-06-02T06:58:02.413Z"
   },
   {
    "duration": 4,
    "start_time": "2022-06-02T06:58:26.718Z"
   },
   {
    "duration": 36,
    "start_time": "2022-06-02T06:58:41.556Z"
   },
   {
    "duration": 12,
    "start_time": "2022-06-02T07:05:54.843Z"
   },
   {
    "duration": 6,
    "start_time": "2022-06-02T07:18:09.440Z"
   },
   {
    "duration": 8,
    "start_time": "2022-06-02T07:18:35.355Z"
   },
   {
    "duration": 8,
    "start_time": "2022-06-02T07:18:50.359Z"
   },
   {
    "duration": 6,
    "start_time": "2022-06-02T07:19:22.198Z"
   },
   {
    "duration": 84,
    "start_time": "2022-06-02T07:21:16.960Z"
   },
   {
    "duration": 2436,
    "start_time": "2022-06-02T07:21:26.703Z"
   },
   {
    "duration": 28,
    "start_time": "2022-06-02T07:21:31.226Z"
   },
   {
    "duration": 33,
    "start_time": "2022-06-02T07:22:23.480Z"
   },
   {
    "duration": 47,
    "start_time": "2022-06-02T07:22:36.358Z"
   },
   {
    "duration": 232,
    "start_time": "2022-06-02T07:24:53.478Z"
   },
   {
    "duration": 2621,
    "start_time": "2022-06-02T07:25:20.305Z"
   },
   {
    "duration": 29,
    "start_time": "2022-06-02T07:25:24.069Z"
   },
   {
    "duration": 104,
    "start_time": "2022-06-02T07:28:21.365Z"
   },
   {
    "duration": 198,
    "start_time": "2022-06-02T07:29:10.273Z"
   },
   {
    "duration": 131,
    "start_time": "2022-06-02T07:29:28.695Z"
   },
   {
    "duration": 355,
    "start_time": "2022-06-02T07:29:47.287Z"
   },
   {
    "duration": 2513,
    "start_time": "2022-06-02T07:30:10.017Z"
   },
   {
    "duration": 29,
    "start_time": "2022-06-02T07:30:17.225Z"
   },
   {
    "duration": 122,
    "start_time": "2022-06-02T07:30:29.126Z"
   },
   {
    "duration": 1527,
    "start_time": "2022-06-02T07:30:36.732Z"
   },
   {
    "duration": 32,
    "start_time": "2022-06-02T07:30:39.973Z"
   },
   {
    "duration": 136,
    "start_time": "2022-06-02T07:31:33.581Z"
   },
   {
    "duration": 2255,
    "start_time": "2022-06-02T07:32:01.170Z"
   },
   {
    "duration": 1019,
    "start_time": "2022-06-02T07:32:09.061Z"
   },
   {
    "duration": 153,
    "start_time": "2022-06-02T07:32:12.156Z"
   },
   {
    "duration": 1744,
    "start_time": "2022-06-02T07:33:24.165Z"
   },
   {
    "duration": 30,
    "start_time": "2022-06-02T07:33:27.138Z"
   },
   {
    "duration": 95,
    "start_time": "2022-06-02T07:33:47.916Z"
   },
   {
    "duration": 131,
    "start_time": "2022-06-02T07:33:56.887Z"
   },
   {
    "duration": 228,
    "start_time": "2022-06-02T07:34:31.076Z"
   },
   {
    "duration": 1906,
    "start_time": "2022-06-02T07:34:45.258Z"
   },
   {
    "duration": 32,
    "start_time": "2022-06-02T07:34:51.354Z"
   },
   {
    "duration": 24,
    "start_time": "2022-06-02T07:35:20.234Z"
   },
   {
    "duration": 1593,
    "start_time": "2022-06-02T07:35:27.904Z"
   },
   {
    "duration": 30,
    "start_time": "2022-06-02T07:35:37.043Z"
   },
   {
    "duration": 106,
    "start_time": "2022-06-02T07:37:23.224Z"
   },
   {
    "duration": 100,
    "start_time": "2022-06-02T07:37:54.764Z"
   },
   {
    "duration": 29,
    "start_time": "2022-06-02T07:38:02.270Z"
   },
   {
    "duration": 116,
    "start_time": "2022-06-02T07:40:06.526Z"
   },
   {
    "duration": 118,
    "start_time": "2022-06-02T07:42:37.406Z"
   },
   {
    "duration": 4,
    "start_time": "2022-06-02T07:44:02.148Z"
   },
   {
    "duration": 4,
    "start_time": "2022-06-02T07:44:13.225Z"
   },
   {
    "duration": 142,
    "start_time": "2022-06-02T07:45:16.038Z"
   },
   {
    "duration": 193,
    "start_time": "2022-06-02T07:46:46.246Z"
   },
   {
    "duration": 295,
    "start_time": "2022-06-02T07:47:12.013Z"
   },
   {
    "duration": 36,
    "start_time": "2022-06-02T07:47:17.732Z"
   },
   {
    "duration": 29,
    "start_time": "2022-06-02T07:47:45.513Z"
   },
   {
    "duration": 88,
    "start_time": "2022-06-02T07:50:02.965Z"
   },
   {
    "duration": 352,
    "start_time": "2022-06-02T07:50:17.028Z"
   },
   {
    "duration": 26,
    "start_time": "2022-06-02T07:50:21.352Z"
   },
   {
    "duration": 14,
    "start_time": "2022-06-02T07:56:18.922Z"
   },
   {
    "duration": 5,
    "start_time": "2022-06-02T07:56:24.747Z"
   },
   {
    "duration": 28,
    "start_time": "2022-06-02T07:56:27.136Z"
   },
   {
    "duration": 6,
    "start_time": "2022-06-02T07:57:00.855Z"
   },
   {
    "duration": 42,
    "start_time": "2022-06-02T07:57:03.220Z"
   },
   {
    "duration": 28,
    "start_time": "2022-06-02T07:57:45.585Z"
   },
   {
    "duration": 12,
    "start_time": "2022-06-02T08:29:39.213Z"
   },
   {
    "duration": 12,
    "start_time": "2022-06-02T08:30:05.244Z"
   },
   {
    "duration": 117,
    "start_time": "2022-06-02T08:30:52.212Z"
   },
   {
    "duration": 9,
    "start_time": "2022-06-02T08:30:56.450Z"
   },
   {
    "duration": 3,
    "start_time": "2022-06-02T08:31:03.478Z"
   },
   {
    "duration": 13,
    "start_time": "2022-06-02T08:31:49.543Z"
   },
   {
    "duration": 7,
    "start_time": "2022-06-02T08:32:13.638Z"
   },
   {
    "duration": 49,
    "start_time": "2022-06-02T08:38:27.619Z"
   },
   {
    "duration": 656,
    "start_time": "2022-06-02T08:39:52.376Z"
   },
   {
    "duration": 28,
    "start_time": "2022-06-02T08:40:35.274Z"
   },
   {
    "duration": 30,
    "start_time": "2022-06-02T08:40:38.414Z"
   },
   {
    "duration": 463,
    "start_time": "2022-06-02T08:40:45.034Z"
   },
   {
    "duration": 27,
    "start_time": "2022-06-02T08:41:07.918Z"
   },
   {
    "duration": 8,
    "start_time": "2022-06-02T08:41:22.666Z"
   },
   {
    "duration": 13,
    "start_time": "2022-06-02T08:44:46.341Z"
   },
   {
    "duration": 36,
    "start_time": "2022-06-02T08:44:56.720Z"
   },
   {
    "duration": 11,
    "start_time": "2022-06-02T08:45:19.881Z"
   },
   {
    "duration": 8,
    "start_time": "2022-06-02T08:49:32.306Z"
   },
   {
    "duration": 13,
    "start_time": "2022-06-02T08:49:38.190Z"
   },
   {
    "duration": 17,
    "start_time": "2022-06-02T08:49:51.360Z"
   },
   {
    "duration": 16,
    "start_time": "2022-06-02T08:50:07.824Z"
   },
   {
    "duration": 413,
    "start_time": "2022-06-02T08:51:22.274Z"
   },
   {
    "duration": 312,
    "start_time": "2022-06-02T08:51:53.562Z"
   },
   {
    "duration": 5,
    "start_time": "2022-06-02T08:55:42.880Z"
   },
   {
    "duration": 18,
    "start_time": "2022-06-02T08:55:47.561Z"
   },
   {
    "duration": 2571,
    "start_time": "2022-06-02T08:58:46.955Z"
   },
   {
    "duration": 131,
    "start_time": "2022-06-02T08:59:55.122Z"
   },
   {
    "duration": 3,
    "start_time": "2022-06-02T09:00:09.663Z"
   },
   {
    "duration": 185,
    "start_time": "2022-06-02T09:02:29.705Z"
   },
   {
    "duration": 473,
    "start_time": "2022-06-02T09:02:35.463Z"
   },
   {
    "duration": 279,
    "start_time": "2022-06-02T09:02:40.349Z"
   },
   {
    "duration": 136,
    "start_time": "2022-06-02T09:02:45.969Z"
   },
   {
    "duration": 212,
    "start_time": "2022-06-02T09:06:00.955Z"
   },
   {
    "duration": 11,
    "start_time": "2022-06-02T09:06:07.725Z"
   },
   {
    "duration": 140,
    "start_time": "2022-06-02T09:06:24.402Z"
   },
   {
    "duration": 192,
    "start_time": "2022-06-02T09:10:20.221Z"
   },
   {
    "duration": 149,
    "start_time": "2022-06-02T09:12:37.539Z"
   },
   {
    "duration": 158,
    "start_time": "2022-06-02T09:13:09.408Z"
   },
   {
    "duration": 9,
    "start_time": "2022-06-02T09:13:38.572Z"
   },
   {
    "duration": 148,
    "start_time": "2022-06-02T09:13:46.596Z"
   },
   {
    "duration": 15,
    "start_time": "2022-06-02T09:13:46.746Z"
   },
   {
    "duration": 50,
    "start_time": "2022-06-02T09:13:46.763Z"
   },
   {
    "duration": 12,
    "start_time": "2022-06-02T09:13:46.815Z"
   },
   {
    "duration": 11,
    "start_time": "2022-06-02T09:13:46.829Z"
   },
   {
    "duration": 13,
    "start_time": "2022-06-02T09:13:46.842Z"
   },
   {
    "duration": 29,
    "start_time": "2022-06-02T09:13:46.858Z"
   },
   {
    "duration": 13,
    "start_time": "2022-06-02T09:13:46.888Z"
   },
   {
    "duration": 26,
    "start_time": "2022-06-02T09:13:46.903Z"
   },
   {
    "duration": 13,
    "start_time": "2022-06-02T09:13:46.932Z"
   },
   {
    "duration": 8,
    "start_time": "2022-06-02T09:13:46.947Z"
   },
   {
    "duration": 10,
    "start_time": "2022-06-02T09:13:46.957Z"
   },
   {
    "duration": 21,
    "start_time": "2022-06-02T09:13:46.969Z"
   },
   {
    "duration": 41,
    "start_time": "2022-06-02T09:13:46.992Z"
   },
   {
    "duration": 50,
    "start_time": "2022-06-02T09:13:47.035Z"
   },
   {
    "duration": 39,
    "start_time": "2022-06-02T09:13:47.087Z"
   },
   {
    "duration": 26,
    "start_time": "2022-06-02T09:13:47.128Z"
   },
   {
    "duration": 4,
    "start_time": "2022-06-02T09:13:47.156Z"
   },
   {
    "duration": 18,
    "start_time": "2022-06-02T09:13:47.162Z"
   },
   {
    "duration": 329,
    "start_time": "2022-06-02T09:13:47.182Z"
   },
   {
    "duration": 12,
    "start_time": "2022-06-02T09:13:47.513Z"
   },
   {
    "duration": 29,
    "start_time": "2022-06-02T09:13:47.527Z"
   },
   {
    "duration": 143,
    "start_time": "2022-06-02T09:13:47.559Z"
   },
   {
    "duration": 25,
    "start_time": "2022-06-02T09:13:47.703Z"
   },
   {
    "duration": 282,
    "start_time": "2022-06-02T09:13:47.730Z"
   },
   {
    "duration": 3,
    "start_time": "2022-06-02T09:13:48.014Z"
   },
   {
    "duration": 122,
    "start_time": "2022-06-02T09:14:40.391Z"
   },
   {
    "duration": 31,
    "start_time": "2022-06-02T09:14:40.515Z"
   },
   {
    "duration": 30,
    "start_time": "2022-06-02T09:14:40.548Z"
   },
   {
    "duration": 8,
    "start_time": "2022-06-02T09:14:40.580Z"
   },
   {
    "duration": 41,
    "start_time": "2022-06-02T09:14:40.590Z"
   },
   {
    "duration": 13,
    "start_time": "2022-06-02T09:14:40.633Z"
   },
   {
    "duration": 26,
    "start_time": "2022-06-02T09:14:40.647Z"
   },
   {
    "duration": 15,
    "start_time": "2022-06-02T09:14:40.675Z"
   },
   {
    "duration": 38,
    "start_time": "2022-06-02T09:14:40.692Z"
   },
   {
    "duration": 10,
    "start_time": "2022-06-02T09:14:40.733Z"
   },
   {
    "duration": 9,
    "start_time": "2022-06-02T09:14:40.745Z"
   },
   {
    "duration": 6,
    "start_time": "2022-06-02T09:14:40.756Z"
   },
   {
    "duration": 63,
    "start_time": "2022-06-02T09:14:40.764Z"
   },
   {
    "duration": 26,
    "start_time": "2022-06-02T09:14:40.829Z"
   },
   {
    "duration": 69,
    "start_time": "2022-06-02T09:14:40.857Z"
   },
   {
    "duration": 20,
    "start_time": "2022-06-02T09:14:40.928Z"
   },
   {
    "duration": 30,
    "start_time": "2022-06-02T09:14:40.951Z"
   },
   {
    "duration": 4,
    "start_time": "2022-06-02T09:14:40.983Z"
   },
   {
    "duration": 48,
    "start_time": "2022-06-02T09:14:40.988Z"
   },
   {
    "duration": 312,
    "start_time": "2022-06-02T09:14:41.039Z"
   },
   {
    "duration": 8,
    "start_time": "2022-06-02T09:14:41.353Z"
   },
   {
    "duration": 39,
    "start_time": "2022-06-02T09:14:41.363Z"
   },
   {
    "duration": 157,
    "start_time": "2022-06-02T09:14:41.403Z"
   },
   {
    "duration": 10,
    "start_time": "2022-06-02T09:14:41.561Z"
   },
   {
    "duration": 198,
    "start_time": "2022-06-02T09:14:41.573Z"
   },
   {
    "duration": 2,
    "start_time": "2022-06-02T09:14:41.774Z"
   },
   {
    "duration": 12,
    "start_time": "2022-06-02T09:15:06.657Z"
   },
   {
    "duration": 128,
    "start_time": "2022-06-02T09:15:14.746Z"
   },
   {
    "duration": 16,
    "start_time": "2022-06-02T09:15:14.877Z"
   },
   {
    "duration": 40,
    "start_time": "2022-06-02T09:15:14.895Z"
   },
   {
    "duration": 10,
    "start_time": "2022-06-02T09:15:14.938Z"
   },
   {
    "duration": 9,
    "start_time": "2022-06-02T09:15:14.950Z"
   },
   {
    "duration": 11,
    "start_time": "2022-06-02T09:15:14.961Z"
   },
   {
    "duration": 53,
    "start_time": "2022-06-02T09:15:14.974Z"
   },
   {
    "duration": 21,
    "start_time": "2022-06-02T09:15:15.030Z"
   },
   {
    "duration": 6,
    "start_time": "2022-06-02T09:15:15.053Z"
   },
   {
    "duration": 23,
    "start_time": "2022-06-02T09:15:15.062Z"
   },
   {
    "duration": 15,
    "start_time": "2022-06-02T09:15:15.086Z"
   },
   {
    "duration": 28,
    "start_time": "2022-06-02T09:15:15.102Z"
   },
   {
    "duration": 19,
    "start_time": "2022-06-02T09:15:15.132Z"
   },
   {
    "duration": 18,
    "start_time": "2022-06-02T09:15:15.153Z"
   },
   {
    "duration": 77,
    "start_time": "2022-06-02T09:15:15.173Z"
   },
   {
    "duration": 18,
    "start_time": "2022-06-02T09:15:15.252Z"
   },
   {
    "duration": 23,
    "start_time": "2022-06-02T09:15:15.272Z"
   },
   {
    "duration": 3,
    "start_time": "2022-06-02T09:15:15.297Z"
   },
   {
    "duration": 14,
    "start_time": "2022-06-02T09:15:15.326Z"
   },
   {
    "duration": 308,
    "start_time": "2022-06-02T09:15:15.342Z"
   },
   {
    "duration": 6,
    "start_time": "2022-06-02T09:15:15.651Z"
   },
   {
    "duration": 32,
    "start_time": "2022-06-02T09:15:15.659Z"
   },
   {
    "duration": 190,
    "start_time": "2022-06-02T09:15:15.692Z"
   },
   {
    "duration": 10,
    "start_time": "2022-06-02T09:15:15.884Z"
   },
   {
    "duration": 211,
    "start_time": "2022-06-02T09:15:15.896Z"
   },
   {
    "duration": 2,
    "start_time": "2022-06-02T09:15:16.109Z"
   },
   {
    "duration": 134,
    "start_time": "2022-06-02T09:15:50.808Z"
   },
   {
    "duration": 20,
    "start_time": "2022-06-02T09:15:50.945Z"
   },
   {
    "duration": 28,
    "start_time": "2022-06-02T09:15:50.968Z"
   },
   {
    "duration": 34,
    "start_time": "2022-06-02T09:15:50.998Z"
   },
   {
    "duration": 7,
    "start_time": "2022-06-02T09:15:51.035Z"
   },
   {
    "duration": 11,
    "start_time": "2022-06-02T09:15:51.043Z"
   },
   {
    "duration": 27,
    "start_time": "2022-06-02T09:15:51.056Z"
   },
   {
    "duration": 149,
    "start_time": "2022-06-02T09:15:51.085Z"
   },
   {
    "duration": 9,
    "start_time": "2022-06-02T09:15:51.236Z"
   },
   {
    "duration": 9,
    "start_time": "2022-06-02T09:15:51.249Z"
   },
   {
    "duration": 9,
    "start_time": "2022-06-02T09:15:51.260Z"
   },
   {
    "duration": 6,
    "start_time": "2022-06-02T09:15:51.272Z"
   },
   {
    "duration": 56,
    "start_time": "2022-06-02T09:15:51.280Z"
   },
   {
    "duration": 23,
    "start_time": "2022-06-02T09:15:51.338Z"
   },
   {
    "duration": 63,
    "start_time": "2022-06-02T09:15:51.363Z"
   },
   {
    "duration": 27,
    "start_time": "2022-06-02T09:15:51.428Z"
   },
   {
    "duration": 23,
    "start_time": "2022-06-02T09:15:51.457Z"
   },
   {
    "duration": 4,
    "start_time": "2022-06-02T09:15:51.482Z"
   },
   {
    "duration": 14,
    "start_time": "2022-06-02T09:15:51.487Z"
   },
   {
    "duration": 286,
    "start_time": "2022-06-02T09:15:51.531Z"
   },
   {
    "duration": 9,
    "start_time": "2022-06-02T09:15:51.819Z"
   },
   {
    "duration": 34,
    "start_time": "2022-06-02T09:15:51.830Z"
   },
   {
    "duration": 141,
    "start_time": "2022-06-02T09:15:51.866Z"
   },
   {
    "duration": 48,
    "start_time": "2022-06-02T09:15:52.009Z"
   },
   {
    "duration": 173,
    "start_time": "2022-06-02T09:15:52.059Z"
   },
   {
    "duration": 3,
    "start_time": "2022-06-02T09:15:52.234Z"
   },
   {
    "duration": 29,
    "start_time": "2022-06-02T09:19:15.209Z"
   },
   {
    "duration": 38,
    "start_time": "2022-06-02T09:19:43.159Z"
   },
   {
    "duration": 37,
    "start_time": "2022-06-02T09:20:02.164Z"
   },
   {
    "duration": 53,
    "start_time": "2022-06-02T09:20:16.156Z"
   },
   {
    "duration": 54,
    "start_time": "2022-06-02T10:40:07.373Z"
   },
   {
    "duration": 52,
    "start_time": "2022-06-02T10:40:21.798Z"
   },
   {
    "duration": 37,
    "start_time": "2022-06-02T10:44:20.383Z"
   },
   {
    "duration": 28,
    "start_time": "2022-06-02T10:44:57.127Z"
   },
   {
    "duration": 18,
    "start_time": "2022-06-02T10:49:54.676Z"
   },
   {
    "duration": 79,
    "start_time": "2022-06-02T10:52:12.936Z"
   },
   {
    "duration": 177,
    "start_time": "2022-06-02T10:52:30.280Z"
   },
   {
    "duration": 22,
    "start_time": "2022-06-02T10:52:30.461Z"
   },
   {
    "duration": 65,
    "start_time": "2022-06-02T10:52:30.488Z"
   },
   {
    "duration": 15,
    "start_time": "2022-06-02T10:52:30.557Z"
   },
   {
    "duration": 31,
    "start_time": "2022-06-02T10:52:30.574Z"
   },
   {
    "duration": 15,
    "start_time": "2022-06-02T10:52:30.607Z"
   },
   {
    "duration": 65,
    "start_time": "2022-06-02T10:52:30.629Z"
   },
   {
    "duration": 20,
    "start_time": "2022-06-02T10:52:30.697Z"
   },
   {
    "duration": 24,
    "start_time": "2022-06-02T10:52:30.720Z"
   },
   {
    "duration": 35,
    "start_time": "2022-06-02T10:52:30.755Z"
   },
   {
    "duration": 27,
    "start_time": "2022-06-02T10:52:30.793Z"
   },
   {
    "duration": 17,
    "start_time": "2022-06-02T10:52:30.824Z"
   },
   {
    "duration": 57,
    "start_time": "2022-06-02T10:52:30.854Z"
   },
   {
    "duration": 68,
    "start_time": "2022-06-02T10:52:30.914Z"
   },
   {
    "duration": 108,
    "start_time": "2022-06-02T10:52:30.987Z"
   },
   {
    "duration": 47,
    "start_time": "2022-06-02T10:52:31.099Z"
   },
   {
    "duration": 116,
    "start_time": "2022-06-02T10:52:31.150Z"
   },
   {
    "duration": 33,
    "start_time": "2022-06-02T10:52:31.269Z"
   },
   {
    "duration": 41,
    "start_time": "2022-06-02T10:52:31.304Z"
   },
   {
    "duration": 21,
    "start_time": "2022-06-02T10:52:31.359Z"
   },
   {
    "duration": 420,
    "start_time": "2022-06-02T10:52:31.383Z"
   },
   {
    "duration": 26,
    "start_time": "2022-06-02T10:52:31.805Z"
   },
   {
    "duration": 50,
    "start_time": "2022-06-02T10:52:31.835Z"
   },
   {
    "duration": 208,
    "start_time": "2022-06-02T10:52:31.888Z"
   },
   {
    "duration": 124,
    "start_time": "2022-06-02T10:52:32.099Z"
   },
   {
    "duration": 16,
    "start_time": "2022-06-02T10:52:32.229Z"
   },
   {
    "duration": 9,
    "start_time": "2022-06-02T10:52:32.263Z"
   },
   {
    "duration": 85,
    "start_time": "2022-06-02T10:55:21.319Z"
   },
   {
    "duration": 65,
    "start_time": "2022-06-02T10:55:32.453Z"
   },
   {
    "duration": 81,
    "start_time": "2022-06-02T10:55:36.509Z"
   },
   {
    "duration": 106,
    "start_time": "2022-06-02T10:55:47.673Z"
   },
   {
    "duration": 105,
    "start_time": "2022-06-02T10:56:16.006Z"
   },
   {
    "duration": 78,
    "start_time": "2022-06-02T10:57:40.572Z"
   },
   {
    "duration": 160,
    "start_time": "2022-06-02T10:59:04.206Z"
   },
   {
    "duration": 16,
    "start_time": "2022-06-02T10:59:04.368Z"
   },
   {
    "duration": 42,
    "start_time": "2022-06-02T10:59:04.387Z"
   },
   {
    "duration": 18,
    "start_time": "2022-06-02T10:59:04.433Z"
   },
   {
    "duration": 12,
    "start_time": "2022-06-02T10:59:04.455Z"
   },
   {
    "duration": 16,
    "start_time": "2022-06-02T10:59:04.469Z"
   },
   {
    "duration": 55,
    "start_time": "2022-06-02T10:59:04.487Z"
   },
   {
    "duration": 20,
    "start_time": "2022-06-02T10:59:04.544Z"
   },
   {
    "duration": 17,
    "start_time": "2022-06-02T10:59:04.566Z"
   },
   {
    "duration": 12,
    "start_time": "2022-06-02T10:59:04.587Z"
   },
   {
    "duration": 34,
    "start_time": "2022-06-02T10:59:04.602Z"
   },
   {
    "duration": 9,
    "start_time": "2022-06-02T10:59:04.639Z"
   },
   {
    "duration": 24,
    "start_time": "2022-06-02T10:59:04.651Z"
   },
   {
    "duration": 56,
    "start_time": "2022-06-02T10:59:04.677Z"
   },
   {
    "duration": 60,
    "start_time": "2022-06-02T10:59:04.735Z"
   },
   {
    "duration": 40,
    "start_time": "2022-06-02T10:59:04.797Z"
   },
   {
    "duration": 91,
    "start_time": "2022-06-02T10:59:04.839Z"
   },
   {
    "duration": 36,
    "start_time": "2022-06-02T10:59:04.933Z"
   },
   {
    "duration": 4,
    "start_time": "2022-06-02T10:59:04.971Z"
   },
   {
    "duration": 19,
    "start_time": "2022-06-02T10:59:04.977Z"
   },
   {
    "duration": 510,
    "start_time": "2022-06-02T10:59:04.998Z"
   },
   {
    "duration": 6,
    "start_time": "2022-06-02T10:59:05.510Z"
   },
   {
    "duration": 57,
    "start_time": "2022-06-02T10:59:05.525Z"
   },
   {
    "duration": 211,
    "start_time": "2022-06-02T10:59:05.584Z"
   },
   {
    "duration": 86,
    "start_time": "2022-06-02T10:59:05.797Z"
   },
   {
    "duration": 4,
    "start_time": "2022-06-02T10:59:05.886Z"
   },
   {
    "duration": 35,
    "start_time": "2022-06-02T10:59:05.892Z"
   },
   {
    "duration": 6,
    "start_time": "2022-06-02T11:00:29.071Z"
   },
   {
    "duration": 174,
    "start_time": "2022-06-02T11:01:07.939Z"
   },
   {
    "duration": 207,
    "start_time": "2022-06-02T11:01:40.385Z"
   },
   {
    "duration": 18,
    "start_time": "2022-06-02T11:02:27.643Z"
   },
   {
    "duration": 16,
    "start_time": "2022-06-02T11:02:33.774Z"
   },
   {
    "duration": 191,
    "start_time": "2022-06-02T11:03:52.217Z"
   },
   {
    "duration": 174,
    "start_time": "2022-06-02T11:03:59.404Z"
   },
   {
    "duration": 172,
    "start_time": "2022-06-02T11:04:29.863Z"
   },
   {
    "duration": 160,
    "start_time": "2022-06-02T11:04:52.439Z"
   },
   {
    "duration": 183,
    "start_time": "2022-06-02T11:05:42.712Z"
   },
   {
    "duration": 146,
    "start_time": "2022-06-02T11:05:58.666Z"
   },
   {
    "duration": 22,
    "start_time": "2022-06-02T11:05:58.814Z"
   },
   {
    "duration": 24,
    "start_time": "2022-06-02T11:05:58.838Z"
   },
   {
    "duration": 9,
    "start_time": "2022-06-02T11:05:58.864Z"
   },
   {
    "duration": 5,
    "start_time": "2022-06-02T11:05:58.875Z"
   },
   {
    "duration": 9,
    "start_time": "2022-06-02T11:05:58.882Z"
   },
   {
    "duration": 37,
    "start_time": "2022-06-02T11:05:58.926Z"
   },
   {
    "duration": 17,
    "start_time": "2022-06-02T11:05:58.964Z"
   },
   {
    "duration": 7,
    "start_time": "2022-06-02T11:05:58.983Z"
   },
   {
    "duration": 36,
    "start_time": "2022-06-02T11:05:58.993Z"
   },
   {
    "duration": 21,
    "start_time": "2022-06-02T11:05:59.031Z"
   },
   {
    "duration": 7,
    "start_time": "2022-06-02T11:05:59.055Z"
   },
   {
    "duration": 30,
    "start_time": "2022-06-02T11:05:59.064Z"
   },
   {
    "duration": 50,
    "start_time": "2022-06-02T11:05:59.096Z"
   },
   {
    "duration": 55,
    "start_time": "2022-06-02T11:05:59.149Z"
   },
   {
    "duration": 40,
    "start_time": "2022-06-02T11:05:59.206Z"
   },
   {
    "duration": 84,
    "start_time": "2022-06-02T11:05:59.249Z"
   },
   {
    "duration": 33,
    "start_time": "2022-06-02T11:05:59.336Z"
   },
   {
    "duration": 250,
    "start_time": "2022-06-02T11:05:59.371Z"
   },
   {
    "duration": 25,
    "start_time": "2022-06-02T11:05:59.623Z"
   },
   {
    "duration": 331,
    "start_time": "2022-06-02T11:05:59.651Z"
   },
   {
    "duration": 8,
    "start_time": "2022-06-02T11:05:59.984Z"
   },
   {
    "duration": 61,
    "start_time": "2022-06-02T11:05:59.994Z"
   },
   {
    "duration": 315,
    "start_time": "2022-06-02T11:06:00.058Z"
   },
   {
    "duration": 211,
    "start_time": "2022-06-02T11:06:00.376Z"
   },
   {
    "duration": 3,
    "start_time": "2022-06-02T11:06:00.589Z"
   },
   {
    "duration": 29,
    "start_time": "2022-06-02T11:06:00.594Z"
   },
   {
    "duration": 509,
    "start_time": "2022-06-02T11:06:31.917Z"
   },
   {
    "duration": 379,
    "start_time": "2022-06-02T11:07:50.047Z"
   },
   {
    "duration": 191,
    "start_time": "2022-06-02T11:08:09.990Z"
   },
   {
    "duration": 66,
    "start_time": "2022-06-02T11:09:24.937Z"
   },
   {
    "duration": 190,
    "start_time": "2022-06-02T11:09:34.496Z"
   },
   {
    "duration": 223,
    "start_time": "2022-06-02T11:10:30.921Z"
   },
   {
    "duration": 187,
    "start_time": "2022-06-02T11:12:49.873Z"
   },
   {
    "duration": 236,
    "start_time": "2022-06-02T11:15:44.340Z"
   },
   {
    "duration": 519,
    "start_time": "2022-06-02T11:18:29.678Z"
   },
   {
    "duration": 278,
    "start_time": "2022-06-02T11:18:39.998Z"
   },
   {
    "duration": 2574,
    "start_time": "2022-06-02T11:19:05.408Z"
   },
   {
    "duration": 957,
    "start_time": "2022-06-02T11:19:17.401Z"
   },
   {
    "duration": 471,
    "start_time": "2022-06-02T11:19:29.483Z"
   },
   {
    "duration": 7,
    "start_time": "2022-06-02T11:22:44.944Z"
   },
   {
    "duration": 9,
    "start_time": "2022-06-02T11:23:01.641Z"
   },
   {
    "duration": 8,
    "start_time": "2022-06-02T11:23:49.080Z"
   },
   {
    "duration": 23,
    "start_time": "2022-06-02T11:24:21.179Z"
   },
   {
    "duration": 2125,
    "start_time": "2022-06-02T11:24:33.980Z"
   },
   {
    "duration": 358,
    "start_time": "2022-06-02T11:27:20.581Z"
   },
   {
    "duration": 34,
    "start_time": "2022-06-02T11:30:36.973Z"
   },
   {
    "duration": 163,
    "start_time": "2022-06-02T11:31:06.746Z"
   },
   {
    "duration": 37,
    "start_time": "2022-06-02T11:31:06.912Z"
   },
   {
    "duration": 38,
    "start_time": "2022-06-02T11:31:06.952Z"
   },
   {
    "duration": 14,
    "start_time": "2022-06-02T11:31:06.993Z"
   },
   {
    "duration": 17,
    "start_time": "2022-06-02T11:31:07.010Z"
   },
   {
    "duration": 13,
    "start_time": "2022-06-02T11:31:07.035Z"
   },
   {
    "duration": 29,
    "start_time": "2022-06-02T11:31:07.051Z"
   },
   {
    "duration": 47,
    "start_time": "2022-06-02T11:31:07.083Z"
   },
   {
    "duration": 22,
    "start_time": "2022-06-02T11:31:07.133Z"
   },
   {
    "duration": 13,
    "start_time": "2022-06-02T11:31:07.157Z"
   },
   {
    "duration": 12,
    "start_time": "2022-06-02T11:31:07.172Z"
   },
   {
    "duration": 41,
    "start_time": "2022-06-02T11:31:07.186Z"
   },
   {
    "duration": 30,
    "start_time": "2022-06-02T11:31:07.240Z"
   },
   {
    "duration": 27,
    "start_time": "2022-06-02T11:31:07.274Z"
   },
   {
    "duration": 78,
    "start_time": "2022-06-02T11:31:07.304Z"
   },
   {
    "duration": 27,
    "start_time": "2022-06-02T11:31:07.385Z"
   },
   {
    "duration": 103,
    "start_time": "2022-06-02T11:31:07.426Z"
   },
   {
    "duration": 47,
    "start_time": "2022-06-02T11:31:07.534Z"
   },
   {
    "duration": 6,
    "start_time": "2022-06-02T11:31:07.583Z"
   },
   {
    "duration": 24,
    "start_time": "2022-06-02T11:31:07.592Z"
   },
   {
    "duration": 376,
    "start_time": "2022-06-02T11:31:07.618Z"
   },
   {
    "duration": 8,
    "start_time": "2022-06-02T11:31:07.997Z"
   },
   {
    "duration": 53,
    "start_time": "2022-06-02T11:31:08.007Z"
   },
   {
    "duration": 190,
    "start_time": "2022-06-02T11:31:08.062Z"
   },
   {
    "duration": 200,
    "start_time": "2022-06-02T11:31:08.254Z"
   },
   {
    "duration": 219,
    "start_time": "2022-06-02T11:31:08.456Z"
   },
   {
    "duration": 443,
    "start_time": "2022-06-02T11:31:08.677Z"
   },
   {
    "duration": 29,
    "start_time": "2022-06-02T11:31:09.126Z"
   },
   {
    "duration": 2106,
    "start_time": "2022-06-02T11:31:09.158Z"
   },
   {
    "duration": 269,
    "start_time": "2022-06-02T11:31:11.267Z"
   },
   {
    "duration": 38,
    "start_time": "2022-06-02T11:33:05.578Z"
   },
   {
    "duration": 32,
    "start_time": "2022-06-02T11:33:59.019Z"
   },
   {
    "duration": 8,
    "start_time": "2022-06-02T11:34:14.096Z"
   },
   {
    "duration": 8,
    "start_time": "2022-06-02T11:34:25.477Z"
   },
   {
    "duration": 8,
    "start_time": "2022-06-02T12:10:37.177Z"
   },
   {
    "duration": 9,
    "start_time": "2022-06-02T12:11:28.705Z"
   },
   {
    "duration": 15,
    "start_time": "2022-06-02T12:11:43.830Z"
   },
   {
    "duration": 6,
    "start_time": "2022-06-02T12:11:50.791Z"
   },
   {
    "duration": 39,
    "start_time": "2022-06-02T12:13:50.284Z"
   },
   {
    "duration": 39,
    "start_time": "2022-06-02T12:14:28.783Z"
   },
   {
    "duration": 63,
    "start_time": "2022-06-02T12:15:04.395Z"
   },
   {
    "duration": 97,
    "start_time": "2022-06-02T12:17:04.335Z"
   },
   {
    "duration": 11,
    "start_time": "2022-06-02T12:17:20.209Z"
   },
   {
    "duration": 12,
    "start_time": "2022-06-02T12:18:01.871Z"
   },
   {
    "duration": 6,
    "start_time": "2022-06-02T12:26:26.358Z"
   },
   {
    "duration": 14,
    "start_time": "2022-06-02T12:26:37.746Z"
   },
   {
    "duration": 57,
    "start_time": "2022-06-02T12:28:54.046Z"
   },
   {
    "duration": 18,
    "start_time": "2022-06-02T12:29:06.622Z"
   },
   {
    "duration": 10,
    "start_time": "2022-06-02T12:29:53.599Z"
   },
   {
    "duration": 17,
    "start_time": "2022-06-02T12:30:01.622Z"
   },
   {
    "duration": 59,
    "start_time": "2022-06-02T12:30:14.193Z"
   },
   {
    "duration": 20,
    "start_time": "2022-06-02T12:31:25.753Z"
   },
   {
    "duration": 49,
    "start_time": "2022-06-02T12:31:35.288Z"
   },
   {
    "duration": 16,
    "start_time": "2022-06-02T12:31:38.498Z"
   },
   {
    "duration": 51,
    "start_time": "2022-06-02T12:31:40.046Z"
   },
   {
    "duration": 228,
    "start_time": "2022-06-02T12:46:59.490Z"
   },
   {
    "duration": 22,
    "start_time": "2022-06-02T12:46:59.720Z"
   },
   {
    "duration": 35,
    "start_time": "2022-06-02T12:46:59.745Z"
   },
   {
    "duration": 8,
    "start_time": "2022-06-02T12:46:59.782Z"
   },
   {
    "duration": 6,
    "start_time": "2022-06-02T12:46:59.792Z"
   },
   {
    "duration": 40,
    "start_time": "2022-06-02T12:46:59.800Z"
   },
   {
    "duration": 26,
    "start_time": "2022-06-02T12:46:59.842Z"
   },
   {
    "duration": 17,
    "start_time": "2022-06-02T12:46:59.870Z"
   },
   {
    "duration": 6,
    "start_time": "2022-06-02T12:46:59.889Z"
   },
   {
    "duration": 36,
    "start_time": "2022-06-02T12:46:59.898Z"
   },
   {
    "duration": 12,
    "start_time": "2022-06-02T12:46:59.936Z"
   },
   {
    "duration": 15,
    "start_time": "2022-06-02T12:46:59.951Z"
   },
   {
    "duration": 18,
    "start_time": "2022-06-02T12:46:59.968Z"
   },
   {
    "duration": 47,
    "start_time": "2022-06-02T12:46:59.988Z"
   },
   {
    "duration": 55,
    "start_time": "2022-06-02T12:47:00.040Z"
   },
   {
    "duration": 42,
    "start_time": "2022-06-02T12:47:00.101Z"
   },
   {
    "duration": 57,
    "start_time": "2022-06-02T12:47:00.145Z"
   },
   {
    "duration": 42,
    "start_time": "2022-06-02T12:47:00.203Z"
   },
   {
    "duration": 5,
    "start_time": "2022-06-02T12:47:00.247Z"
   },
   {
    "duration": 47,
    "start_time": "2022-06-02T12:47:00.253Z"
   },
   {
    "duration": 393,
    "start_time": "2022-06-02T12:47:00.302Z"
   },
   {
    "duration": 7,
    "start_time": "2022-06-02T12:47:00.696Z"
   },
   {
    "duration": 43,
    "start_time": "2022-06-02T12:47:00.705Z"
   },
   {
    "duration": 158,
    "start_time": "2022-06-02T12:47:00.750Z"
   },
   {
    "duration": 191,
    "start_time": "2022-06-02T12:47:00.910Z"
   },
   {
    "duration": 337,
    "start_time": "2022-06-02T12:47:01.103Z"
   },
   {
    "duration": 410,
    "start_time": "2022-06-02T12:47:01.442Z"
   },
   {
    "duration": 210,
    "start_time": "2022-06-02T12:47:01.856Z"
   },
   {
    "duration": 17,
    "start_time": "2022-06-02T12:47:02.068Z"
   },
   {
    "duration": 20,
    "start_time": "2022-06-02T12:47:02.087Z"
   },
   {
    "duration": 34,
    "start_time": "2022-06-02T12:47:02.109Z"
   },
   {
    "duration": 49,
    "start_time": "2022-06-02T12:47:02.146Z"
   },
   {
    "duration": 71,
    "start_time": "2022-06-02T13:21:59.207Z"
   },
   {
    "duration": 467,
    "start_time": "2022-06-02T13:22:06.249Z"
   },
   {
    "duration": 171,
    "start_time": "2022-06-02T13:22:32.782Z"
   },
   {
    "duration": 23,
    "start_time": "2022-06-02T13:22:32.955Z"
   },
   {
    "duration": 57,
    "start_time": "2022-06-02T13:22:32.980Z"
   },
   {
    "duration": 11,
    "start_time": "2022-06-02T13:22:33.039Z"
   },
   {
    "duration": 18,
    "start_time": "2022-06-02T13:22:33.052Z"
   },
   {
    "duration": 12,
    "start_time": "2022-06-02T13:22:33.072Z"
   },
   {
    "duration": 61,
    "start_time": "2022-06-02T13:22:33.086Z"
   },
   {
    "duration": 24,
    "start_time": "2022-06-02T13:22:33.150Z"
   },
   {
    "duration": 10,
    "start_time": "2022-06-02T13:22:33.176Z"
   },
   {
    "duration": 58,
    "start_time": "2022-06-02T13:22:33.191Z"
   },
   {
    "duration": 11,
    "start_time": "2022-06-02T13:22:33.252Z"
   },
   {
    "duration": 9,
    "start_time": "2022-06-02T13:22:33.266Z"
   },
   {
    "duration": 23,
    "start_time": "2022-06-02T13:22:33.278Z"
   },
   {
    "duration": 45,
    "start_time": "2022-06-02T13:22:33.305Z"
   },
   {
    "duration": 92,
    "start_time": "2022-06-02T13:22:33.352Z"
   },
   {
    "duration": 30,
    "start_time": "2022-06-02T13:22:33.446Z"
   },
   {
    "duration": 107,
    "start_time": "2022-06-02T13:22:33.479Z"
   },
   {
    "duration": 47,
    "start_time": "2022-06-02T13:22:33.589Z"
   },
   {
    "duration": 11,
    "start_time": "2022-06-02T13:22:33.638Z"
   },
   {
    "duration": 35,
    "start_time": "2022-06-02T13:22:33.652Z"
   },
   {
    "duration": 377,
    "start_time": "2022-06-02T13:22:33.690Z"
   },
   {
    "duration": 7,
    "start_time": "2022-06-02T13:22:34.070Z"
   },
   {
    "duration": 58,
    "start_time": "2022-06-02T13:22:34.079Z"
   },
   {
    "duration": 165,
    "start_time": "2022-06-02T13:22:34.140Z"
   },
   {
    "duration": 190,
    "start_time": "2022-06-02T13:22:34.309Z"
   },
   {
    "duration": 381,
    "start_time": "2022-06-02T13:22:34.501Z"
   },
   {
    "duration": 467,
    "start_time": "2022-06-02T13:22:34.885Z"
   },
   {
    "duration": 212,
    "start_time": "2022-06-02T13:22:35.357Z"
   },
   {
    "duration": 13,
    "start_time": "2022-06-02T13:22:35.571Z"
   },
   {
    "duration": 77,
    "start_time": "2022-06-02T13:22:35.586Z"
   },
   {
    "duration": 33,
    "start_time": "2022-06-02T13:22:35.665Z"
   },
   {
    "duration": 7,
    "start_time": "2022-06-02T13:22:35.700Z"
   },
   {
    "duration": 583,
    "start_time": "2022-06-02T13:22:59.559Z"
   },
   {
    "duration": 418,
    "start_time": "2022-06-02T13:23:28.926Z"
   },
   {
    "duration": 569,
    "start_time": "2022-06-02T13:23:34.665Z"
   },
   {
    "duration": 445,
    "start_time": "2022-06-02T13:23:51.593Z"
   },
   {
    "duration": 14,
    "start_time": "2022-06-02T13:25:35.271Z"
   },
   {
    "duration": 441,
    "start_time": "2022-06-02T13:25:37.010Z"
   },
   {
    "duration": 12,
    "start_time": "2022-06-02T13:26:48.915Z"
   },
   {
    "duration": 48,
    "start_time": "2022-06-02T13:26:55.202Z"
   },
   {
    "duration": 14,
    "start_time": "2022-06-02T13:27:17.788Z"
   },
   {
    "duration": 18,
    "start_time": "2022-06-02T13:27:33.317Z"
   },
   {
    "duration": 18,
    "start_time": "2022-06-02T13:27:44.275Z"
   },
   {
    "duration": 453,
    "start_time": "2022-06-02T13:28:55.493Z"
   },
   {
    "duration": 758,
    "start_time": "2022-06-02T13:29:01.972Z"
   },
   {
    "duration": 359,
    "start_time": "2022-06-02T13:31:48.559Z"
   },
   {
    "duration": 365,
    "start_time": "2022-06-02T13:32:04.847Z"
   },
   {
    "duration": 426,
    "start_time": "2022-06-02T13:32:15.637Z"
   },
   {
    "duration": 550,
    "start_time": "2022-06-02T13:32:42.244Z"
   },
   {
    "duration": 377,
    "start_time": "2022-06-02T13:32:47.763Z"
   },
   {
    "duration": 361,
    "start_time": "2022-06-02T13:32:51.361Z"
   },
   {
    "duration": 396,
    "start_time": "2022-06-02T13:32:58.299Z"
   },
   {
    "duration": 507,
    "start_time": "2022-06-02T13:33:29.578Z"
   },
   {
    "duration": 392,
    "start_time": "2022-06-02T13:33:36.780Z"
   },
   {
    "duration": 358,
    "start_time": "2022-06-02T13:33:52.542Z"
   },
   {
    "duration": 18,
    "start_time": "2022-06-02T13:33:54.877Z"
   },
   {
    "duration": 14,
    "start_time": "2022-06-02T13:37:57.543Z"
   },
   {
    "duration": 43,
    "start_time": "2022-06-02T13:38:41.257Z"
   },
   {
    "duration": 8,
    "start_time": "2022-06-02T13:39:05.179Z"
   },
   {
    "duration": 46,
    "start_time": "2022-06-02T13:39:08.900Z"
   },
   {
    "duration": 10,
    "start_time": "2022-06-02T13:39:47.402Z"
   },
   {
    "duration": 8,
    "start_time": "2022-06-02T13:41:51.651Z"
   },
   {
    "duration": 8,
    "start_time": "2022-06-02T13:42:10.793Z"
   },
   {
    "duration": 13,
    "start_time": "2022-06-02T13:42:19.556Z"
   },
   {
    "duration": 9,
    "start_time": "2022-06-02T13:42:38.892Z"
   },
   {
    "duration": 8,
    "start_time": "2022-06-02T13:42:52.684Z"
   },
   {
    "duration": 7,
    "start_time": "2022-06-02T13:43:30.896Z"
   },
   {
    "duration": 8,
    "start_time": "2022-06-02T13:47:02.861Z"
   },
   {
    "duration": 13,
    "start_time": "2022-06-02T13:47:39.415Z"
   },
   {
    "duration": 13,
    "start_time": "2022-06-02T13:47:48.236Z"
   },
   {
    "duration": 778,
    "start_time": "2022-06-02T13:48:17.100Z"
   },
   {
    "duration": 12,
    "start_time": "2022-06-02T13:48:35.933Z"
   },
   {
    "duration": 10,
    "start_time": "2022-06-02T13:49:09.716Z"
   },
   {
    "duration": 11,
    "start_time": "2022-06-02T13:49:21.522Z"
   },
   {
    "duration": 23,
    "start_time": "2022-06-02T13:49:32.076Z"
   },
   {
    "duration": 10,
    "start_time": "2022-06-02T13:49:35.093Z"
   },
   {
    "duration": 11,
    "start_time": "2022-06-02T13:51:24.170Z"
   },
   {
    "duration": 7,
    "start_time": "2022-06-02T14:04:56.802Z"
   },
   {
    "duration": 35,
    "start_time": "2022-06-02T14:05:14.833Z"
   },
   {
    "duration": 8,
    "start_time": "2022-06-02T14:05:29.688Z"
   },
   {
    "duration": 8,
    "start_time": "2022-06-02T14:05:35.956Z"
   },
   {
    "duration": 5,
    "start_time": "2022-06-02T14:07:41.762Z"
   },
   {
    "duration": 13,
    "start_time": "2022-06-02T14:08:00.622Z"
   },
   {
    "duration": 38,
    "start_time": "2022-06-02T14:08:27.898Z"
   },
   {
    "duration": 28,
    "start_time": "2022-06-02T14:08:31.866Z"
   },
   {
    "duration": 10,
    "start_time": "2022-06-02T14:08:33.835Z"
   },
   {
    "duration": 10,
    "start_time": "2022-06-02T14:09:39.495Z"
   },
   {
    "duration": 27,
    "start_time": "2022-06-02T14:09:46.964Z"
   },
   {
    "duration": 39,
    "start_time": "2022-06-02T14:10:07.065Z"
   },
   {
    "duration": 26,
    "start_time": "2022-06-02T14:10:10.490Z"
   },
   {
    "duration": 10,
    "start_time": "2022-06-02T14:11:12.383Z"
   },
   {
    "duration": 11,
    "start_time": "2022-06-02T14:11:17.860Z"
   },
   {
    "duration": 45,
    "start_time": "2022-06-02T14:11:47.561Z"
   },
   {
    "duration": 48,
    "start_time": "2022-06-02T14:12:01.544Z"
   },
   {
    "duration": 10,
    "start_time": "2022-06-02T14:12:30.419Z"
   },
   {
    "duration": 16,
    "start_time": "2022-06-02T14:12:36.979Z"
   },
   {
    "duration": 9,
    "start_time": "2022-06-02T14:12:43.118Z"
   },
   {
    "duration": 11,
    "start_time": "2022-06-02T14:12:46.487Z"
   },
   {
    "duration": 9,
    "start_time": "2022-06-02T14:12:53.971Z"
   },
   {
    "duration": 12,
    "start_time": "2022-06-02T14:12:56.670Z"
   },
   {
    "duration": 9,
    "start_time": "2022-06-02T14:13:03.179Z"
   },
   {
    "duration": 11,
    "start_time": "2022-06-02T14:13:05.132Z"
   },
   {
    "duration": 9,
    "start_time": "2022-06-02T14:13:19.140Z"
   },
   {
    "duration": 9,
    "start_time": "2022-06-02T14:13:21.866Z"
   },
   {
    "duration": 9,
    "start_time": "2022-06-02T14:13:24.486Z"
   },
   {
    "duration": 9,
    "start_time": "2022-06-02T14:13:27.892Z"
   },
   {
    "duration": 12,
    "start_time": "2022-06-02T14:13:35.675Z"
   },
   {
    "duration": 12,
    "start_time": "2022-06-02T14:13:36.611Z"
   },
   {
    "duration": 12,
    "start_time": "2022-06-02T14:13:40.804Z"
   },
   {
    "duration": 13,
    "start_time": "2022-06-02T14:13:42.280Z"
   },
   {
    "duration": 9,
    "start_time": "2022-06-02T14:13:45.460Z"
   },
   {
    "duration": 11,
    "start_time": "2022-06-02T14:13:47.635Z"
   },
   {
    "duration": 8,
    "start_time": "2022-06-02T14:13:54.570Z"
   },
   {
    "duration": 12,
    "start_time": "2022-06-02T14:13:55.919Z"
   },
   {
    "duration": 9,
    "start_time": "2022-06-02T14:14:03.702Z"
   },
   {
    "duration": 12,
    "start_time": "2022-06-02T14:14:06.899Z"
   },
   {
    "duration": 8,
    "start_time": "2022-06-02T14:14:12.556Z"
   },
   {
    "duration": 11,
    "start_time": "2022-06-02T14:14:14.588Z"
   },
   {
    "duration": 8,
    "start_time": "2022-06-02T14:14:24.061Z"
   },
   {
    "duration": 11,
    "start_time": "2022-06-02T14:14:26.067Z"
   },
   {
    "duration": 10,
    "start_time": "2022-06-02T14:14:40.555Z"
   },
   {
    "duration": 12,
    "start_time": "2022-06-02T14:14:42.364Z"
   },
   {
    "duration": 14,
    "start_time": "2022-06-02T14:14:55.706Z"
   },
   {
    "duration": 123,
    "start_time": "2022-06-02T14:15:20.571Z"
   },
   {
    "duration": 33,
    "start_time": "2022-06-02T14:15:20.696Z"
   },
   {
    "duration": 23,
    "start_time": "2022-06-02T14:15:20.731Z"
   },
   {
    "duration": 9,
    "start_time": "2022-06-02T14:15:20.756Z"
   },
   {
    "duration": 7,
    "start_time": "2022-06-02T14:15:20.769Z"
   },
   {
    "duration": 12,
    "start_time": "2022-06-02T14:15:20.779Z"
   },
   {
    "duration": 26,
    "start_time": "2022-06-02T14:15:20.827Z"
   },
   {
    "duration": 16,
    "start_time": "2022-06-02T14:15:20.855Z"
   },
   {
    "duration": 8,
    "start_time": "2022-06-02T14:15:20.873Z"
   },
   {
    "duration": 46,
    "start_time": "2022-06-02T14:15:20.883Z"
   },
   {
    "duration": 9,
    "start_time": "2022-06-02T14:15:20.931Z"
   },
   {
    "duration": 7,
    "start_time": "2022-06-02T14:15:20.942Z"
   },
   {
    "duration": 32,
    "start_time": "2022-06-02T14:15:20.951Z"
   },
   {
    "duration": 51,
    "start_time": "2022-06-02T14:15:20.987Z"
   },
   {
    "duration": 63,
    "start_time": "2022-06-02T14:15:21.040Z"
   },
   {
    "duration": 29,
    "start_time": "2022-06-02T14:15:21.105Z"
   },
   {
    "duration": 56,
    "start_time": "2022-06-02T14:15:21.136Z"
   },
   {
    "duration": 45,
    "start_time": "2022-06-02T14:15:21.195Z"
   },
   {
    "duration": 4,
    "start_time": "2022-06-02T14:15:21.242Z"
   },
   {
    "duration": 20,
    "start_time": "2022-06-02T14:15:21.248Z"
   },
   {
    "duration": 312,
    "start_time": "2022-06-02T14:15:21.270Z"
   },
   {
    "duration": 7,
    "start_time": "2022-06-02T14:15:21.584Z"
   },
   {
    "duration": 45,
    "start_time": "2022-06-02T14:15:21.593Z"
   },
   {
    "duration": 192,
    "start_time": "2022-06-02T14:15:21.639Z"
   },
   {
    "duration": 160,
    "start_time": "2022-06-02T14:15:21.833Z"
   },
   {
    "duration": 335,
    "start_time": "2022-06-02T14:15:21.995Z"
   },
   {
    "duration": 441,
    "start_time": "2022-06-02T14:15:22.332Z"
   },
   {
    "duration": 174,
    "start_time": "2022-06-02T14:15:22.775Z"
   },
   {
    "duration": 11,
    "start_time": "2022-06-02T14:15:22.951Z"
   },
   {
    "duration": 6,
    "start_time": "2022-06-02T14:15:22.963Z"
   },
   {
    "duration": 15,
    "start_time": "2022-06-02T14:15:22.970Z"
   },
   {
    "duration": 374,
    "start_time": "2022-06-02T14:15:22.987Z"
   },
   {
    "duration": 18,
    "start_time": "2022-06-02T14:15:23.363Z"
   },
   {
    "duration": 10,
    "start_time": "2022-06-02T14:15:23.384Z"
   },
   {
    "duration": 40,
    "start_time": "2022-06-02T14:15:23.396Z"
   },
   {
    "duration": 10,
    "start_time": "2022-06-02T14:15:27.316Z"
   },
   {
    "duration": 14,
    "start_time": "2022-06-02T14:15:32.060Z"
   },
   {
    "duration": 9,
    "start_time": "2022-06-02T14:15:48.615Z"
   },
   {
    "duration": 12,
    "start_time": "2022-06-02T14:15:51.411Z"
   },
   {
    "duration": 12,
    "start_time": "2022-06-02T14:15:59.535Z"
   },
   {
    "duration": 15,
    "start_time": "2022-06-02T14:16:01.325Z"
   },
   {
    "duration": 12,
    "start_time": "2022-06-02T14:16:05.668Z"
   },
   {
    "duration": 11,
    "start_time": "2022-06-02T14:16:07.788Z"
   },
   {
    "duration": 9,
    "start_time": "2022-06-02T14:16:12.660Z"
   },
   {
    "duration": 11,
    "start_time": "2022-06-02T14:16:14.802Z"
   },
   {
    "duration": 38,
    "start_time": "2022-06-02T14:19:34.506Z"
   },
   {
    "duration": 10,
    "start_time": "2022-06-02T14:20:12.974Z"
   },
   {
    "duration": 10,
    "start_time": "2022-06-02T14:20:21.492Z"
   },
   {
    "duration": 208,
    "start_time": "2022-06-02T14:20:39.768Z"
   },
   {
    "duration": 173,
    "start_time": "2022-06-02T14:21:17.762Z"
   },
   {
    "duration": 7,
    "start_time": "2022-06-02T14:22:51.474Z"
   },
   {
    "duration": 210,
    "start_time": "2022-06-02T14:23:01.268Z"
   },
   {
    "duration": 4,
    "start_time": "2022-06-02T14:23:48.772Z"
   },
   {
    "duration": 8,
    "start_time": "2022-06-02T14:24:23.328Z"
   },
   {
    "duration": 10,
    "start_time": "2022-06-02T14:24:39.512Z"
   },
   {
    "duration": 8,
    "start_time": "2022-06-02T14:25:12.564Z"
   },
   {
    "duration": 15,
    "start_time": "2022-06-02T14:27:21.362Z"
   },
   {
    "duration": 146,
    "start_time": "2022-06-02T14:28:29.853Z"
   },
   {
    "duration": 72,
    "start_time": "2022-06-02T14:30:23.987Z"
   },
   {
    "duration": 171,
    "start_time": "2022-06-02T14:30:29.269Z"
   },
   {
    "duration": 15,
    "start_time": "2022-06-02T14:31:44.958Z"
   },
   {
    "duration": 157,
    "start_time": "2022-06-02T14:31:55.891Z"
   },
   {
    "duration": 11,
    "start_time": "2022-06-02T14:33:37.666Z"
   },
   {
    "duration": 9,
    "start_time": "2022-06-02T14:35:44.260Z"
   },
   {
    "duration": 12,
    "start_time": "2022-06-02T14:35:46.635Z"
   },
   {
    "duration": 12,
    "start_time": "2022-06-02T14:35:56.711Z"
   },
   {
    "duration": 16,
    "start_time": "2022-06-02T14:35:58.558Z"
   },
   {
    "duration": 11,
    "start_time": "2022-06-02T14:36:04.556Z"
   },
   {
    "duration": 17,
    "start_time": "2022-06-02T14:36:05.756Z"
   },
   {
    "duration": 161,
    "start_time": "2022-06-02T14:36:20.390Z"
   },
   {
    "duration": 24,
    "start_time": "2022-06-02T14:36:20.554Z"
   },
   {
    "duration": 226,
    "start_time": "2022-06-02T14:36:20.580Z"
   },
   {
    "duration": 25,
    "start_time": "2022-06-02T14:36:20.809Z"
   },
   {
    "duration": 9,
    "start_time": "2022-06-02T14:36:20.836Z"
   },
   {
    "duration": 14,
    "start_time": "2022-06-02T14:36:20.846Z"
   },
   {
    "duration": 39,
    "start_time": "2022-06-02T14:36:20.863Z"
   },
   {
    "duration": 22,
    "start_time": "2022-06-02T14:36:20.926Z"
   },
   {
    "duration": 10,
    "start_time": "2022-06-02T14:36:20.950Z"
   },
   {
    "duration": 11,
    "start_time": "2022-06-02T14:36:20.966Z"
   },
   {
    "duration": 10,
    "start_time": "2022-06-02T14:36:20.979Z"
   },
   {
    "duration": 41,
    "start_time": "2022-06-02T14:36:20.992Z"
   },
   {
    "duration": 36,
    "start_time": "2022-06-02T14:36:21.035Z"
   },
   {
    "duration": 20,
    "start_time": "2022-06-02T14:36:21.074Z"
   },
   {
    "duration": 80,
    "start_time": "2022-06-02T14:36:21.096Z"
   },
   {
    "duration": 20,
    "start_time": "2022-06-02T14:36:21.178Z"
   },
   {
    "duration": 78,
    "start_time": "2022-06-02T14:36:21.200Z"
   },
   {
    "duration": 49,
    "start_time": "2022-06-02T14:36:21.280Z"
   },
   {
    "duration": 5,
    "start_time": "2022-06-02T14:36:21.331Z"
   },
   {
    "duration": 31,
    "start_time": "2022-06-02T14:36:21.338Z"
   },
   {
    "duration": 383,
    "start_time": "2022-06-02T14:36:21.371Z"
   },
   {
    "duration": 8,
    "start_time": "2022-06-02T14:36:21.756Z"
   },
   {
    "duration": 38,
    "start_time": "2022-06-02T14:36:21.767Z"
   },
   {
    "duration": 145,
    "start_time": "2022-06-02T14:36:21.825Z"
   },
   {
    "duration": 177,
    "start_time": "2022-06-02T14:36:21.973Z"
   },
   {
    "duration": 228,
    "start_time": "2022-06-02T14:36:22.152Z"
   },
   {
    "duration": 474,
    "start_time": "2022-06-02T14:36:22.383Z"
   },
   {
    "duration": 215,
    "start_time": "2022-06-02T14:36:22.862Z"
   },
   {
    "duration": 13,
    "start_time": "2022-06-02T14:36:23.079Z"
   },
   {
    "duration": 6,
    "start_time": "2022-06-02T14:36:23.094Z"
   },
   {
    "duration": 33,
    "start_time": "2022-06-02T14:36:23.102Z"
   },
   {
    "duration": 384,
    "start_time": "2022-06-02T14:36:23.137Z"
   },
   {
    "duration": 19,
    "start_time": "2022-06-02T14:36:23.525Z"
   },
   {
    "duration": 15,
    "start_time": "2022-06-02T14:36:23.546Z"
   },
   {
    "duration": 13,
    "start_time": "2022-06-02T14:36:23.563Z"
   },
   {
    "duration": 11,
    "start_time": "2022-06-02T14:36:23.579Z"
   },
   {
    "duration": 396,
    "start_time": "2022-06-02T14:36:23.592Z"
   },
   {
    "duration": 6,
    "start_time": "2022-06-02T14:36:23.990Z"
   },
   {
    "duration": 12,
    "start_time": "2022-06-02T14:36:23.998Z"
   },
   {
    "duration": 194,
    "start_time": "2022-06-02T14:36:24.012Z"
   },
   {
    "duration": 24,
    "start_time": "2022-06-02T14:36:24.208Z"
   },
   {
    "duration": 12,
    "start_time": "2022-06-02T14:36:27.166Z"
   },
   {
    "duration": 19,
    "start_time": "2022-06-02T14:36:28.468Z"
   },
   {
    "duration": 188,
    "start_time": "2022-06-02T14:36:51.690Z"
   },
   {
    "duration": 9,
    "start_time": "2022-06-02T14:37:04.179Z"
   },
   {
    "duration": 166,
    "start_time": "2022-06-02T14:37:06.038Z"
   },
   {
    "duration": 13,
    "start_time": "2022-06-02T14:37:16.270Z"
   },
   {
    "duration": 265,
    "start_time": "2022-06-02T14:37:18.249Z"
   },
   {
    "duration": 12,
    "start_time": "2022-06-02T14:37:29.760Z"
   },
   {
    "duration": 200,
    "start_time": "2022-06-02T14:37:29.775Z"
   },
   {
    "duration": 163,
    "start_time": "2022-06-02T14:37:46.019Z"
   },
   {
    "duration": 42,
    "start_time": "2022-06-02T14:37:46.185Z"
   },
   {
    "duration": 38,
    "start_time": "2022-06-02T14:37:46.230Z"
   },
   {
    "duration": 15,
    "start_time": "2022-06-02T14:37:46.274Z"
   },
   {
    "duration": 35,
    "start_time": "2022-06-02T14:37:46.291Z"
   },
   {
    "duration": 13,
    "start_time": "2022-06-02T14:37:46.328Z"
   },
   {
    "duration": 44,
    "start_time": "2022-06-02T14:37:46.343Z"
   },
   {
    "duration": 38,
    "start_time": "2022-06-02T14:37:46.390Z"
   },
   {
    "duration": 10,
    "start_time": "2022-06-02T14:37:46.430Z"
   },
   {
    "duration": 28,
    "start_time": "2022-06-02T14:37:46.446Z"
   },
   {
    "duration": 24,
    "start_time": "2022-06-02T14:37:46.476Z"
   },
   {
    "duration": 15,
    "start_time": "2022-06-02T14:37:46.502Z"
   },
   {
    "duration": 33,
    "start_time": "2022-06-02T14:37:46.520Z"
   },
   {
    "duration": 29,
    "start_time": "2022-06-02T14:37:46.556Z"
   },
   {
    "duration": 107,
    "start_time": "2022-06-02T14:37:46.587Z"
   },
   {
    "duration": 44,
    "start_time": "2022-06-02T14:37:46.696Z"
   },
   {
    "duration": 90,
    "start_time": "2022-06-02T14:37:46.742Z"
   },
   {
    "duration": 35,
    "start_time": "2022-06-02T14:37:46.834Z"
   },
   {
    "duration": 6,
    "start_time": "2022-06-02T14:37:46.871Z"
   },
   {
    "duration": 48,
    "start_time": "2022-06-02T14:37:46.878Z"
   },
   {
    "duration": 511,
    "start_time": "2022-06-02T14:37:46.930Z"
   },
   {
    "duration": 9,
    "start_time": "2022-06-02T14:37:47.443Z"
   },
   {
    "duration": 46,
    "start_time": "2022-06-02T14:37:47.456Z"
   },
   {
    "duration": 233,
    "start_time": "2022-06-02T14:37:47.504Z"
   },
   {
    "duration": 246,
    "start_time": "2022-06-02T14:37:47.739Z"
   },
   {
    "duration": 251,
    "start_time": "2022-06-02T14:37:47.987Z"
   },
   {
    "duration": 779,
    "start_time": "2022-06-02T14:37:48.241Z"
   },
   {
    "duration": 277,
    "start_time": "2022-06-02T14:37:49.028Z"
   },
   {
    "duration": 28,
    "start_time": "2022-06-02T14:37:49.308Z"
   },
   {
    "duration": 9,
    "start_time": "2022-06-02T14:37:49.339Z"
   },
   {
    "duration": 28,
    "start_time": "2022-06-02T14:37:49.350Z"
   },
   {
    "duration": 604,
    "start_time": "2022-06-02T14:37:49.380Z"
   },
   {
    "duration": 24,
    "start_time": "2022-06-02T14:37:49.987Z"
   },
   {
    "duration": 13,
    "start_time": "2022-06-02T14:37:50.026Z"
   },
   {
    "duration": 20,
    "start_time": "2022-06-02T14:37:50.042Z"
   },
   {
    "duration": 11,
    "start_time": "2022-06-02T14:37:50.065Z"
   },
   {
    "duration": 289,
    "start_time": "2022-06-02T14:37:50.078Z"
   },
   {
    "duration": 8,
    "start_time": "2022-06-02T14:37:50.370Z"
   },
   {
    "duration": 31,
    "start_time": "2022-06-02T14:37:50.380Z"
   },
   {
    "duration": 267,
    "start_time": "2022-06-02T14:37:50.414Z"
   },
   {
    "duration": 14,
    "start_time": "2022-06-02T14:37:50.684Z"
   },
   {
    "duration": 14,
    "start_time": "2022-06-02T14:38:02.152Z"
   },
   {
    "duration": 291,
    "start_time": "2022-06-02T14:38:04.271Z"
   },
   {
    "duration": 131,
    "start_time": "2022-06-02T14:44:27.778Z"
   },
   {
    "duration": 21,
    "start_time": "2022-06-02T14:44:27.926Z"
   },
   {
    "duration": 23,
    "start_time": "2022-06-02T14:44:27.950Z"
   },
   {
    "duration": 9,
    "start_time": "2022-06-02T14:44:27.976Z"
   },
   {
    "duration": 39,
    "start_time": "2022-06-02T14:44:27.987Z"
   },
   {
    "duration": 11,
    "start_time": "2022-06-02T14:44:28.029Z"
   },
   {
    "duration": 24,
    "start_time": "2022-06-02T14:44:28.041Z"
   },
   {
    "duration": 14,
    "start_time": "2022-06-02T14:44:28.069Z"
   },
   {
    "duration": 7,
    "start_time": "2022-06-02T14:44:28.085Z"
   },
   {
    "duration": 10,
    "start_time": "2022-06-02T14:44:28.125Z"
   },
   {
    "duration": 8,
    "start_time": "2022-06-02T14:44:28.137Z"
   },
   {
    "duration": 9,
    "start_time": "2022-06-02T14:44:28.147Z"
   },
   {
    "duration": 18,
    "start_time": "2022-06-02T14:44:28.157Z"
   },
   {
    "duration": 57,
    "start_time": "2022-06-02T14:44:28.176Z"
   },
   {
    "duration": 49,
    "start_time": "2022-06-02T14:44:28.234Z"
   },
   {
    "duration": 20,
    "start_time": "2022-06-02T14:44:28.285Z"
   },
   {
    "duration": 76,
    "start_time": "2022-06-02T14:44:28.327Z"
   },
   {
    "duration": 50,
    "start_time": "2022-06-02T14:44:28.405Z"
   },
   {
    "duration": 5,
    "start_time": "2022-06-02T14:44:28.457Z"
   },
   {
    "duration": 19,
    "start_time": "2022-06-02T14:44:28.464Z"
   },
   {
    "duration": 329,
    "start_time": "2022-06-02T14:44:28.486Z"
   },
   {
    "duration": 12,
    "start_time": "2022-06-02T14:44:28.817Z"
   },
   {
    "duration": 34,
    "start_time": "2022-06-02T14:44:28.831Z"
   },
   {
    "duration": 147,
    "start_time": "2022-06-02T14:44:28.867Z"
   },
   {
    "duration": 184,
    "start_time": "2022-06-02T14:44:29.017Z"
   },
   {
    "duration": 183,
    "start_time": "2022-06-02T14:44:29.204Z"
   },
   {
    "duration": 581,
    "start_time": "2022-06-02T14:44:29.389Z"
   },
   {
    "duration": 186,
    "start_time": "2022-06-02T14:44:29.974Z"
   },
   {
    "duration": 14,
    "start_time": "2022-06-02T14:44:30.162Z"
   },
   {
    "duration": 11,
    "start_time": "2022-06-02T14:44:30.178Z"
   },
   {
    "duration": 35,
    "start_time": "2022-06-02T14:44:30.191Z"
   },
   {
    "duration": 416,
    "start_time": "2022-06-02T14:44:30.228Z"
   },
   {
    "duration": 18,
    "start_time": "2022-06-02T14:44:30.646Z"
   },
   {
    "duration": 11,
    "start_time": "2022-06-02T14:44:39.079Z"
   },
   {
    "duration": 12,
    "start_time": "2022-06-02T14:46:16.269Z"
   },
   {
    "duration": 19,
    "start_time": "2022-06-02T14:46:22.218Z"
   },
   {
    "duration": 16,
    "start_time": "2022-06-02T14:46:25.748Z"
   },
   {
    "duration": 178,
    "start_time": "2022-06-02T14:46:29.812Z"
   },
   {
    "duration": 5,
    "start_time": "2022-06-02T14:46:34.467Z"
   },
   {
    "duration": 5,
    "start_time": "2022-06-02T14:46:36.592Z"
   },
   {
    "duration": 194,
    "start_time": "2022-06-02T14:46:39.159Z"
   },
   {
    "duration": 10,
    "start_time": "2022-06-02T14:46:42.275Z"
   },
   {
    "duration": 170,
    "start_time": "2022-06-02T14:46:43.661Z"
   },
   {
    "duration": 113,
    "start_time": "2022-06-02T14:50:58.650Z"
   },
   {
    "duration": 3,
    "start_time": "2022-06-02T14:52:49.096Z"
   },
   {
    "duration": 175,
    "start_time": "2022-06-02T14:54:58.962Z"
   },
   {
    "duration": 163,
    "start_time": "2022-06-02T14:55:14.542Z"
   },
   {
    "duration": 9,
    "start_time": "2022-06-02T15:00:32.643Z"
   },
   {
    "duration": 5,
    "start_time": "2022-06-02T15:00:37.021Z"
   },
   {
    "duration": 5,
    "start_time": "2022-06-02T15:00:53.556Z"
   },
   {
    "duration": 5,
    "start_time": "2022-06-02T15:00:59.364Z"
   },
   {
    "duration": 15,
    "start_time": "2022-06-02T15:04:24.866Z"
   },
   {
    "duration": 7,
    "start_time": "2022-06-02T15:06:02.886Z"
   },
   {
    "duration": 8,
    "start_time": "2022-06-02T15:06:11.664Z"
   },
   {
    "duration": 7,
    "start_time": "2022-06-02T15:06:47.796Z"
   },
   {
    "duration": 858,
    "start_time": "2022-06-03T06:51:27.159Z"
   },
   {
    "duration": 20,
    "start_time": "2022-06-03T06:51:28.019Z"
   },
   {
    "duration": 22,
    "start_time": "2022-06-03T06:51:28.040Z"
   },
   {
    "duration": 14,
    "start_time": "2022-06-03T06:51:28.067Z"
   },
   {
    "duration": 17,
    "start_time": "2022-06-03T06:51:28.083Z"
   },
   {
    "duration": 37,
    "start_time": "2022-06-03T06:51:28.102Z"
   },
   {
    "duration": 32,
    "start_time": "2022-06-03T06:51:28.140Z"
   },
   {
    "duration": 21,
    "start_time": "2022-06-03T06:51:28.174Z"
   },
   {
    "duration": 6,
    "start_time": "2022-06-03T06:51:28.197Z"
   },
   {
    "duration": 16,
    "start_time": "2022-06-03T06:51:28.205Z"
   },
   {
    "duration": 18,
    "start_time": "2022-06-03T06:51:28.223Z"
   },
   {
    "duration": 5,
    "start_time": "2022-06-03T06:51:28.243Z"
   },
   {
    "duration": 33,
    "start_time": "2022-06-03T06:51:28.250Z"
   },
   {
    "duration": 18,
    "start_time": "2022-06-03T06:51:28.285Z"
   },
   {
    "duration": 61,
    "start_time": "2022-06-03T06:51:28.306Z"
   },
   {
    "duration": 20,
    "start_time": "2022-06-03T06:51:28.377Z"
   },
   {
    "duration": 48,
    "start_time": "2022-06-03T06:51:28.399Z"
   },
   {
    "duration": 43,
    "start_time": "2022-06-03T06:51:28.449Z"
   },
   {
    "duration": 6,
    "start_time": "2022-06-03T06:51:28.494Z"
   },
   {
    "duration": 31,
    "start_time": "2022-06-03T06:51:28.501Z"
   },
   {
    "duration": 315,
    "start_time": "2022-06-03T06:51:28.534Z"
   },
   {
    "duration": 15,
    "start_time": "2022-06-03T06:51:28.851Z"
   },
   {
    "duration": 68,
    "start_time": "2022-06-03T06:51:28.868Z"
   },
   {
    "duration": 742,
    "start_time": "2022-06-03T06:51:28.938Z"
   },
   {
    "duration": 156,
    "start_time": "2022-06-03T06:51:29.683Z"
   },
   {
    "duration": 178,
    "start_time": "2022-06-03T06:51:29.840Z"
   },
   {
    "duration": 508,
    "start_time": "2022-06-03T06:51:30.020Z"
   },
   {
    "duration": 183,
    "start_time": "2022-06-03T06:51:30.533Z"
   },
   {
    "duration": 13,
    "start_time": "2022-06-03T06:51:30.718Z"
   },
   {
    "duration": 19,
    "start_time": "2022-06-03T06:51:30.732Z"
   },
   {
    "duration": 42,
    "start_time": "2022-06-03T06:51:30.752Z"
   },
   {
    "duration": 391,
    "start_time": "2022-06-03T06:51:30.795Z"
   },
   {
    "duration": 15,
    "start_time": "2022-06-03T06:51:31.188Z"
   },
   {
    "duration": 23,
    "start_time": "2022-06-03T06:51:31.204Z"
   },
   {
    "duration": 36,
    "start_time": "2022-06-03T06:51:31.228Z"
   },
   {
    "duration": 23,
    "start_time": "2022-06-03T06:51:31.268Z"
   },
   {
    "duration": 187,
    "start_time": "2022-06-03T06:51:31.292Z"
   },
   {
    "duration": 7,
    "start_time": "2022-06-03T06:51:31.482Z"
   },
   {
    "duration": 44,
    "start_time": "2022-06-03T06:51:31.491Z"
   },
   {
    "duration": 192,
    "start_time": "2022-06-03T06:51:31.536Z"
   },
   {
    "duration": 8,
    "start_time": "2022-06-03T06:51:31.730Z"
   },
   {
    "duration": 200,
    "start_time": "2022-06-03T06:51:31.739Z"
   },
   {
    "duration": 24,
    "start_time": "2022-06-03T06:51:31.941Z"
   },
   {
    "duration": 57,
    "start_time": "2022-06-03T06:51:31.968Z"
   },
   {
    "duration": 7,
    "start_time": "2022-06-03T06:57:32.755Z"
   },
   {
    "duration": 83,
    "start_time": "2022-06-03T06:57:57.862Z"
   },
   {
    "duration": 9,
    "start_time": "2022-06-03T06:58:17.995Z"
   },
   {
    "duration": 15,
    "start_time": "2022-06-03T06:58:40.122Z"
   },
   {
    "duration": 4,
    "start_time": "2022-06-03T07:00:26.680Z"
   },
   {
    "duration": 9,
    "start_time": "2022-06-03T07:00:34.402Z"
   },
   {
    "duration": 5,
    "start_time": "2022-06-03T07:00:50.023Z"
   },
   {
    "duration": 14,
    "start_time": "2022-06-03T07:01:17.912Z"
   },
   {
    "duration": 5,
    "start_time": "2022-06-03T07:01:56.577Z"
   },
   {
    "duration": 10,
    "start_time": "2022-06-03T07:02:22.839Z"
   },
   {
    "duration": 39,
    "start_time": "2022-06-03T07:03:37.516Z"
   },
   {
    "duration": 11,
    "start_time": "2022-06-03T07:03:43.817Z"
   },
   {
    "duration": 9,
    "start_time": "2022-06-03T07:04:40.100Z"
   },
   {
    "duration": 9,
    "start_time": "2022-06-03T07:05:02.282Z"
   },
   {
    "duration": 18,
    "start_time": "2022-06-03T07:05:15.500Z"
   },
   {
    "duration": 39,
    "start_time": "2022-06-03T07:05:33.717Z"
   },
   {
    "duration": 90,
    "start_time": "2022-06-03T07:05:54.859Z"
   },
   {
    "duration": 14,
    "start_time": "2022-06-03T07:06:01.759Z"
   },
   {
    "duration": 13,
    "start_time": "2022-06-03T07:06:35.387Z"
   },
   {
    "duration": 8,
    "start_time": "2022-06-03T07:06:46.852Z"
   },
   {
    "duration": 37,
    "start_time": "2022-06-03T07:07:03.787Z"
   },
   {
    "duration": 30,
    "start_time": "2022-06-03T07:07:16.333Z"
   },
   {
    "duration": 148,
    "start_time": "2022-06-03T07:07:57.295Z"
   },
   {
    "duration": 12,
    "start_time": "2022-06-03T07:08:12.031Z"
   },
   {
    "duration": 13,
    "start_time": "2022-06-03T07:13:19.929Z"
   },
   {
    "duration": 21,
    "start_time": "2022-06-03T07:14:35.861Z"
   },
   {
    "duration": 14,
    "start_time": "2022-06-03T07:15:38.055Z"
   },
   {
    "duration": 10,
    "start_time": "2022-06-03T07:15:49.884Z"
   },
   {
    "duration": 11,
    "start_time": "2022-06-03T07:16:15.380Z"
   },
   {
    "duration": 12,
    "start_time": "2022-06-03T07:16:27.332Z"
   },
   {
    "duration": 8,
    "start_time": "2022-06-03T07:16:41.236Z"
   },
   {
    "duration": 12,
    "start_time": "2022-06-03T07:17:19.411Z"
   },
   {
    "duration": 13,
    "start_time": "2022-06-03T07:17:36.280Z"
   },
   {
    "duration": 12,
    "start_time": "2022-06-03T07:17:40.512Z"
   },
   {
    "duration": 13,
    "start_time": "2022-06-03T07:17:47.130Z"
   },
   {
    "duration": 139,
    "start_time": "2022-06-03T07:19:36.010Z"
   },
   {
    "duration": 18,
    "start_time": "2022-06-03T07:20:07.683Z"
   },
   {
    "duration": 1187,
    "start_time": "2022-06-03T07:20:34.068Z"
   },
   {
    "duration": 1121,
    "start_time": "2022-06-03T07:20:51.681Z"
   },
   {
    "duration": 179,
    "start_time": "2022-06-03T07:21:13.517Z"
   },
   {
    "duration": 215,
    "start_time": "2022-06-03T07:21:28.350Z"
   },
   {
    "duration": 184,
    "start_time": "2022-06-03T07:21:55.484Z"
   },
   {
    "duration": 13,
    "start_time": "2022-06-03T07:22:27.213Z"
   },
   {
    "duration": 128,
    "start_time": "2022-06-03T07:24:24.624Z"
   },
   {
    "duration": 4,
    "start_time": "2022-06-03T07:26:13.093Z"
   },
   {
    "duration": 15,
    "start_time": "2022-06-03T07:26:18.034Z"
   },
   {
    "duration": 13,
    "start_time": "2022-06-03T07:26:36.772Z"
   },
   {
    "duration": 15,
    "start_time": "2022-06-03T07:28:23.568Z"
   },
   {
    "duration": 168,
    "start_time": "2022-06-03T07:28:50.961Z"
   },
   {
    "duration": 362,
    "start_time": "2022-06-03T07:29:40.047Z"
   },
   {
    "duration": 369,
    "start_time": "2022-06-03T07:29:54.667Z"
   },
   {
    "duration": 498,
    "start_time": "2022-06-03T07:30:23.565Z"
   },
   {
    "duration": 774,
    "start_time": "2022-06-03T07:30:46.661Z"
   },
   {
    "duration": 14,
    "start_time": "2022-06-03T07:30:57.401Z"
   },
   {
    "duration": 14,
    "start_time": "2022-06-03T07:31:51.084Z"
   },
   {
    "duration": 362,
    "start_time": "2022-06-03T07:32:27.363Z"
   },
   {
    "duration": 8,
    "start_time": "2022-06-03T07:32:35.645Z"
   },
   {
    "duration": 13,
    "start_time": "2022-06-03T07:32:39.364Z"
   },
   {
    "duration": 16,
    "start_time": "2022-06-03T07:33:30.783Z"
   },
   {
    "duration": 293,
    "start_time": "2022-06-03T07:34:20.026Z"
   },
   {
    "duration": 17,
    "start_time": "2022-06-03T07:34:31.446Z"
   },
   {
    "duration": 325,
    "start_time": "2022-06-03T07:34:46.314Z"
   },
   {
    "duration": 21,
    "start_time": "2022-06-03T07:34:53.239Z"
   },
   {
    "duration": 16,
    "start_time": "2022-06-03T07:35:26.059Z"
   },
   {
    "duration": 20,
    "start_time": "2022-06-03T07:35:46.741Z"
   },
   {
    "duration": 29,
    "start_time": "2022-06-03T07:35:58.126Z"
   },
   {
    "duration": 28,
    "start_time": "2022-06-03T07:36:09.782Z"
   },
   {
    "duration": 19,
    "start_time": "2022-06-03T07:43:08.057Z"
   },
   {
    "duration": 18,
    "start_time": "2022-06-03T07:43:27.695Z"
   },
   {
    "duration": 18,
    "start_time": "2022-06-03T07:50:42.447Z"
   },
   {
    "duration": 19,
    "start_time": "2022-06-03T07:50:56.531Z"
   },
   {
    "duration": 24,
    "start_time": "2022-06-03T07:51:56.609Z"
   },
   {
    "duration": 26,
    "start_time": "2022-06-03T07:52:34.797Z"
   },
   {
    "duration": 24,
    "start_time": "2022-06-03T07:52:42.316Z"
   },
   {
    "duration": 30,
    "start_time": "2022-06-03T07:53:31.440Z"
   },
   {
    "duration": 14,
    "start_time": "2022-06-03T07:53:44.249Z"
   },
   {
    "duration": 19,
    "start_time": "2022-06-03T07:53:47.952Z"
   },
   {
    "duration": 19,
    "start_time": "2022-06-03T08:14:57.386Z"
   },
   {
    "duration": 23,
    "start_time": "2022-06-03T08:18:23.761Z"
   },
   {
    "duration": 27,
    "start_time": "2022-06-03T08:19:07.502Z"
   },
   {
    "duration": 29,
    "start_time": "2022-06-03T08:19:33.244Z"
   },
   {
    "duration": 27,
    "start_time": "2022-06-03T08:19:56.750Z"
   },
   {
    "duration": 8,
    "start_time": "2022-06-03T08:49:30.568Z"
   },
   {
    "duration": 7,
    "start_time": "2022-06-03T08:49:37.188Z"
   },
   {
    "duration": 23,
    "start_time": "2022-06-03T08:49:40.798Z"
   },
   {
    "duration": 151,
    "start_time": "2022-06-03T08:52:03.372Z"
   },
   {
    "duration": 0,
    "start_time": "2022-06-03T08:52:54.330Z"
   },
   {
    "duration": 671,
    "start_time": "2022-06-03T08:54:59.388Z"
   },
   {
    "duration": 150,
    "start_time": "2022-06-03T08:56:05.438Z"
   },
   {
    "duration": 170,
    "start_time": "2022-06-03T08:56:48.952Z"
   },
   {
    "duration": 210,
    "start_time": "2022-06-03T08:58:41.444Z"
   },
   {
    "duration": 783,
    "start_time": "2022-06-03T09:00:45.324Z"
   },
   {
    "duration": 482,
    "start_time": "2022-06-03T09:01:13.746Z"
   },
   {
    "duration": 5,
    "start_time": "2022-06-03T09:03:22.603Z"
   },
   {
    "duration": 16,
    "start_time": "2022-06-03T09:03:28.949Z"
   },
   {
    "duration": 1060,
    "start_time": "2022-06-03T09:04:13.507Z"
   },
   {
    "duration": 55,
    "start_time": "2022-06-03T09:10:50.588Z"
   },
   {
    "duration": 117,
    "start_time": "2022-06-03T09:10:55.377Z"
   },
   {
    "duration": 118,
    "start_time": "2022-06-03T09:12:04.596Z"
   },
   {
    "duration": 141,
    "start_time": "2022-06-03T09:12:36.156Z"
   },
   {
    "duration": 25,
    "start_time": "2022-06-03T09:20:04.483Z"
   },
   {
    "duration": 9,
    "start_time": "2022-06-03T09:20:32.691Z"
   },
   {
    "duration": 8,
    "start_time": "2022-06-03T09:21:21.920Z"
   },
   {
    "duration": 7,
    "start_time": "2022-06-03T09:21:30.646Z"
   },
   {
    "duration": 8,
    "start_time": "2022-06-03T09:21:37.313Z"
   },
   {
    "duration": 11,
    "start_time": "2022-06-03T09:21:48.427Z"
   },
   {
    "duration": 29,
    "start_time": "2022-06-03T09:21:51.497Z"
   },
   {
    "duration": 13,
    "start_time": "2022-06-03T09:22:14.022Z"
   },
   {
    "duration": 14,
    "start_time": "2022-06-03T09:22:41.319Z"
   },
   {
    "duration": 11,
    "start_time": "2022-06-03T09:23:02.811Z"
   },
   {
    "duration": 12,
    "start_time": "2022-06-03T09:23:22.209Z"
   },
   {
    "duration": 17,
    "start_time": "2022-06-03T09:23:27.267Z"
   },
   {
    "duration": 13,
    "start_time": "2022-06-03T09:24:02.181Z"
   },
   {
    "duration": 13,
    "start_time": "2022-06-03T09:24:36.287Z"
   },
   {
    "duration": 15,
    "start_time": "2022-06-03T09:24:49.850Z"
   },
   {
    "duration": 20,
    "start_time": "2022-06-03T09:25:59.812Z"
   },
   {
    "duration": 18,
    "start_time": "2022-06-03T09:26:24.790Z"
   },
   {
    "duration": 18,
    "start_time": "2022-06-03T09:28:13.131Z"
   },
   {
    "duration": 18,
    "start_time": "2022-06-03T09:28:34.726Z"
   },
   {
    "duration": 24,
    "start_time": "2022-06-03T09:28:51.830Z"
   },
   {
    "duration": 63,
    "start_time": "2022-06-03T09:30:31.437Z"
   },
   {
    "duration": 22,
    "start_time": "2022-06-03T09:30:37.600Z"
   },
   {
    "duration": 54,
    "start_time": "2022-06-03T11:27:35.905Z"
   },
   {
    "duration": 122,
    "start_time": "2022-06-03T11:28:09.693Z"
   },
   {
    "duration": 13,
    "start_time": "2022-06-03T11:28:09.818Z"
   },
   {
    "duration": 44,
    "start_time": "2022-06-03T11:28:09.833Z"
   },
   {
    "duration": 8,
    "start_time": "2022-06-03T11:28:09.879Z"
   },
   {
    "duration": 6,
    "start_time": "2022-06-03T11:28:09.888Z"
   },
   {
    "duration": 7,
    "start_time": "2022-06-03T11:28:09.895Z"
   },
   {
    "duration": 21,
    "start_time": "2022-06-03T11:28:09.904Z"
   },
   {
    "duration": 45,
    "start_time": "2022-06-03T11:28:09.926Z"
   },
   {
    "duration": 6,
    "start_time": "2022-06-03T11:28:09.972Z"
   },
   {
    "duration": 8,
    "start_time": "2022-06-03T11:28:09.981Z"
   },
   {
    "duration": 7,
    "start_time": "2022-06-03T11:28:09.991Z"
   },
   {
    "duration": 6,
    "start_time": "2022-06-03T11:28:10.000Z"
   },
   {
    "duration": 21,
    "start_time": "2022-06-03T11:28:10.007Z"
   },
   {
    "duration": 50,
    "start_time": "2022-06-03T11:28:10.030Z"
   },
   {
    "duration": 45,
    "start_time": "2022-06-03T11:28:10.082Z"
   },
   {
    "duration": 39,
    "start_time": "2022-06-03T11:28:10.128Z"
   },
   {
    "duration": 46,
    "start_time": "2022-06-03T11:28:10.169Z"
   },
   {
    "duration": 23,
    "start_time": "2022-06-03T11:28:10.216Z"
   },
   {
    "duration": 26,
    "start_time": "2022-06-03T11:28:10.240Z"
   },
   {
    "duration": 15,
    "start_time": "2022-06-03T11:28:10.268Z"
   },
   {
    "duration": 273,
    "start_time": "2022-06-03T11:28:10.285Z"
   },
   {
    "duration": 7,
    "start_time": "2022-06-03T11:28:10.560Z"
   },
   {
    "duration": 42,
    "start_time": "2022-06-03T11:28:10.568Z"
   },
   {
    "duration": 134,
    "start_time": "2022-06-03T11:28:10.612Z"
   },
   {
    "duration": 142,
    "start_time": "2022-06-03T11:28:10.748Z"
   },
   {
    "duration": 156,
    "start_time": "2022-06-03T11:28:10.892Z"
   },
   {
    "duration": 378,
    "start_time": "2022-06-03T11:28:11.051Z"
   },
   {
    "duration": 155,
    "start_time": "2022-06-03T11:28:11.432Z"
   },
   {
    "duration": 10,
    "start_time": "2022-06-03T11:28:11.589Z"
   },
   {
    "duration": 6,
    "start_time": "2022-06-03T11:28:11.600Z"
   },
   {
    "duration": 14,
    "start_time": "2022-06-03T11:28:11.608Z"
   },
   {
    "duration": 329,
    "start_time": "2022-06-03T11:28:11.624Z"
   },
   {
    "duration": 19,
    "start_time": "2022-06-03T11:28:11.955Z"
   },
   {
    "duration": 7,
    "start_time": "2022-06-03T11:28:11.975Z"
   },
   {
    "duration": 10,
    "start_time": "2022-06-03T11:28:11.984Z"
   },
   {
    "duration": 7,
    "start_time": "2022-06-03T11:28:11.995Z"
   },
   {
    "duration": 150,
    "start_time": "2022-06-03T11:28:12.003Z"
   },
   {
    "duration": 11,
    "start_time": "2022-06-03T11:28:12.155Z"
   },
   {
    "duration": 12,
    "start_time": "2022-06-03T11:28:12.168Z"
   },
   {
    "duration": 153,
    "start_time": "2022-06-03T11:28:12.181Z"
   },
   {
    "duration": 7,
    "start_time": "2022-06-03T11:28:12.336Z"
   },
   {
    "duration": 164,
    "start_time": "2022-06-03T11:28:12.345Z"
   },
   {
    "duration": 12,
    "start_time": "2022-06-03T11:28:12.510Z"
   },
   {
    "duration": 6,
    "start_time": "2022-06-03T11:28:12.523Z"
   },
   {
    "duration": 45,
    "start_time": "2022-06-03T11:28:12.530Z"
   },
   {
    "duration": 134,
    "start_time": "2022-06-03T11:28:12.577Z"
   },
   {
    "duration": 126,
    "start_time": "2022-06-03T11:28:12.712Z"
   },
   {
    "duration": 159,
    "start_time": "2022-06-03T11:28:12.840Z"
   },
   {
    "duration": 51,
    "start_time": "2022-06-03T11:28:13.000Z"
   },
   {
    "duration": 24,
    "start_time": "2022-06-03T11:28:56.923Z"
   },
   {
    "duration": 18,
    "start_time": "2022-06-03T11:29:21.935Z"
   },
   {
    "duration": 15,
    "start_time": "2022-06-03T11:30:58.535Z"
   },
   {
    "duration": 15,
    "start_time": "2022-06-03T11:31:19.411Z"
   },
   {
    "duration": 16,
    "start_time": "2022-06-03T11:31:59.757Z"
   },
   {
    "duration": 49,
    "start_time": "2022-06-03T11:33:13.621Z"
   },
   {
    "duration": 15,
    "start_time": "2022-06-03T11:33:54.750Z"
   },
   {
    "duration": 14,
    "start_time": "2022-06-03T11:35:25.940Z"
   },
   {
    "duration": 26,
    "start_time": "2022-06-03T11:35:31.617Z"
   },
   {
    "duration": 17,
    "start_time": "2022-06-03T11:36:30.396Z"
   },
   {
    "duration": 17,
    "start_time": "2022-06-03T11:36:43.891Z"
   },
   {
    "duration": 452,
    "start_time": "2022-06-03T11:37:11.013Z"
   },
   {
    "duration": 26,
    "start_time": "2022-06-03T11:37:22.894Z"
   },
   {
    "duration": 445,
    "start_time": "2022-06-03T11:37:27.976Z"
   },
   {
    "duration": 18,
    "start_time": "2022-06-03T11:38:14.532Z"
   },
   {
    "duration": 14,
    "start_time": "2022-06-03T11:38:21.943Z"
   },
   {
    "duration": 16,
    "start_time": "2022-06-03T11:38:39.091Z"
   },
   {
    "duration": 13,
    "start_time": "2022-06-03T11:39:16.315Z"
   },
   {
    "duration": 10,
    "start_time": "2022-06-03T11:40:37.221Z"
   },
   {
    "duration": 19,
    "start_time": "2022-06-03T11:41:21.688Z"
   },
   {
    "duration": 25,
    "start_time": "2022-06-03T11:41:56.886Z"
   },
   {
    "duration": 24,
    "start_time": "2022-06-03T11:42:53.754Z"
   },
   {
    "duration": 23,
    "start_time": "2022-06-03T11:43:21.800Z"
   },
   {
    "duration": 21,
    "start_time": "2022-06-03T11:43:25.139Z"
   },
   {
    "duration": 24,
    "start_time": "2022-06-03T11:43:49.856Z"
   },
   {
    "duration": 23,
    "start_time": "2022-06-03T11:43:56.796Z"
   },
   {
    "duration": 26,
    "start_time": "2022-06-03T11:44:29.004Z"
   },
   {
    "duration": 23,
    "start_time": "2022-06-03T11:44:31.771Z"
   },
   {
    "duration": 9,
    "start_time": "2022-06-03T11:47:20.056Z"
   },
   {
    "duration": 18,
    "start_time": "2022-06-03T11:48:10.978Z"
   },
   {
    "duration": 29,
    "start_time": "2022-06-03T11:48:26.874Z"
   },
   {
    "duration": 39,
    "start_time": "2022-06-03T11:50:56.008Z"
   },
   {
    "duration": 6,
    "start_time": "2022-06-03T11:51:00.794Z"
   },
   {
    "duration": 28,
    "start_time": "2022-06-03T11:51:02.615Z"
   },
   {
    "duration": 9,
    "start_time": "2022-06-03T11:51:57.913Z"
   },
   {
    "duration": 5,
    "start_time": "2022-06-03T11:53:09.988Z"
   },
   {
    "duration": 124,
    "start_time": "2022-06-03T11:53:15.912Z"
   },
   {
    "duration": 34,
    "start_time": "2022-06-03T11:53:16.039Z"
   },
   {
    "duration": 22,
    "start_time": "2022-06-03T11:53:16.075Z"
   },
   {
    "duration": 8,
    "start_time": "2022-06-03T11:53:16.099Z"
   },
   {
    "duration": 8,
    "start_time": "2022-06-03T11:53:16.109Z"
   },
   {
    "duration": 7,
    "start_time": "2022-06-03T11:53:16.119Z"
   },
   {
    "duration": 55,
    "start_time": "2022-06-03T11:53:16.128Z"
   },
   {
    "duration": 14,
    "start_time": "2022-06-03T11:53:16.185Z"
   },
   {
    "duration": 5,
    "start_time": "2022-06-03T11:53:16.201Z"
   },
   {
    "duration": 8,
    "start_time": "2022-06-03T11:53:16.209Z"
   },
   {
    "duration": 8,
    "start_time": "2022-06-03T11:53:16.218Z"
   },
   {
    "duration": 41,
    "start_time": "2022-06-03T11:53:16.228Z"
   },
   {
    "duration": 25,
    "start_time": "2022-06-03T11:53:16.270Z"
   },
   {
    "duration": 28,
    "start_time": "2022-06-03T11:53:16.298Z"
   },
   {
    "duration": 76,
    "start_time": "2022-06-03T11:53:16.328Z"
   },
   {
    "duration": 21,
    "start_time": "2022-06-03T11:53:16.405Z"
   },
   {
    "duration": 90,
    "start_time": "2022-06-03T11:53:16.428Z"
   },
   {
    "duration": 22,
    "start_time": "2022-06-03T11:53:16.519Z"
   },
   {
    "duration": 22,
    "start_time": "2022-06-03T11:53:16.543Z"
   },
   {
    "duration": 14,
    "start_time": "2022-06-03T11:53:16.567Z"
   },
   {
    "duration": 318,
    "start_time": "2022-06-03T11:53:16.582Z"
   },
   {
    "duration": 7,
    "start_time": "2022-06-03T11:53:16.902Z"
   },
   {
    "duration": 28,
    "start_time": "2022-06-03T11:53:16.910Z"
   },
   {
    "duration": 144,
    "start_time": "2022-06-03T11:53:16.939Z"
   },
   {
    "duration": 151,
    "start_time": "2022-06-03T11:53:17.085Z"
   },
   {
    "duration": 151,
    "start_time": "2022-06-03T11:53:17.238Z"
   },
   {
    "duration": 370,
    "start_time": "2022-06-03T11:53:17.391Z"
   },
   {
    "duration": 151,
    "start_time": "2022-06-03T11:53:17.765Z"
   },
   {
    "duration": 10,
    "start_time": "2022-06-03T11:53:17.918Z"
   },
   {
    "duration": 5,
    "start_time": "2022-06-03T11:53:17.929Z"
   },
   {
    "duration": 29,
    "start_time": "2022-06-03T11:53:17.936Z"
   },
   {
    "duration": 327,
    "start_time": "2022-06-03T11:53:17.966Z"
   },
   {
    "duration": 15,
    "start_time": "2022-06-03T11:53:18.295Z"
   },
   {
    "duration": 7,
    "start_time": "2022-06-03T11:53:18.312Z"
   },
   {
    "duration": 12,
    "start_time": "2022-06-03T11:53:18.321Z"
   },
   {
    "duration": 7,
    "start_time": "2022-06-03T11:53:18.334Z"
   },
   {
    "duration": 141,
    "start_time": "2022-06-03T11:53:18.364Z"
   },
   {
    "duration": 4,
    "start_time": "2022-06-03T11:53:18.507Z"
   },
   {
    "duration": 7,
    "start_time": "2022-06-03T11:53:18.512Z"
   },
   {
    "duration": 166,
    "start_time": "2022-06-03T11:53:18.520Z"
   },
   {
    "duration": 7,
    "start_time": "2022-06-03T11:53:18.688Z"
   },
   {
    "duration": 169,
    "start_time": "2022-06-03T11:53:18.697Z"
   },
   {
    "duration": 14,
    "start_time": "2022-06-03T11:53:18.868Z"
   },
   {
    "duration": 8,
    "start_time": "2022-06-03T11:53:18.884Z"
   },
   {
    "duration": 27,
    "start_time": "2022-06-03T11:53:18.893Z"
   },
   {
    "duration": 205,
    "start_time": "2022-06-03T11:53:18.921Z"
   },
   {
    "duration": 161,
    "start_time": "2022-06-03T11:53:19.128Z"
   },
   {
    "duration": 173,
    "start_time": "2022-06-03T11:53:19.291Z"
   },
   {
    "duration": 22,
    "start_time": "2022-06-03T11:53:19.466Z"
   },
   {
    "duration": 18,
    "start_time": "2022-06-03T11:55:03.819Z"
   },
   {
    "duration": 25,
    "start_time": "2022-06-03T11:55:36.395Z"
   },
   {
    "duration": 27,
    "start_time": "2022-06-03T11:55:52.018Z"
   },
   {
    "duration": 23,
    "start_time": "2022-06-03T11:56:16.516Z"
   },
   {
    "duration": 22,
    "start_time": "2022-06-03T11:56:29.092Z"
   },
   {
    "duration": 5,
    "start_time": "2022-06-03T11:58:37.177Z"
   },
   {
    "duration": 6,
    "start_time": "2022-06-03T11:58:43.456Z"
   },
   {
    "duration": 76,
    "start_time": "2022-06-03T11:59:28.982Z"
   },
   {
    "duration": 18,
    "start_time": "2022-06-03T11:59:37.879Z"
   },
   {
    "duration": 896,
    "start_time": "2022-06-03T12:00:08.397Z"
   },
   {
    "duration": 737,
    "start_time": "2022-06-03T12:00:49.306Z"
   },
   {
    "duration": 9,
    "start_time": "2022-06-03T12:01:09.021Z"
   },
   {
    "duration": 7,
    "start_time": "2022-06-03T12:02:53.975Z"
   },
   {
    "duration": 63,
    "start_time": "2022-06-03T12:03:00.567Z"
   },
   {
    "duration": 7,
    "start_time": "2022-06-03T12:03:06.386Z"
   },
   {
    "duration": 49,
    "start_time": "2022-06-03T12:10:05.152Z"
   },
   {
    "duration": 42,
    "start_time": "2022-06-03T12:10:48.512Z"
   },
   {
    "duration": 17,
    "start_time": "2022-06-03T12:11:01.961Z"
   },
   {
    "duration": 39,
    "start_time": "2022-06-03T12:19:52.879Z"
   },
   {
    "duration": 46,
    "start_time": "2022-06-03T12:20:58.149Z"
   },
   {
    "duration": 25,
    "start_time": "2022-06-03T12:21:04.760Z"
   },
   {
    "duration": 19,
    "start_time": "2022-06-03T12:21:42.849Z"
   },
   {
    "duration": 13,
    "start_time": "2022-06-03T12:22:32.687Z"
   },
   {
    "duration": 19,
    "start_time": "2022-06-03T12:22:36.778Z"
   },
   {
    "duration": 20,
    "start_time": "2022-06-03T12:23:00.403Z"
   },
   {
    "duration": 18,
    "start_time": "2022-06-03T12:24:28.624Z"
   },
   {
    "duration": 7,
    "start_time": "2022-06-03T12:40:07.970Z"
   },
   {
    "duration": 6,
    "start_time": "2022-06-03T12:40:11.212Z"
   },
   {
    "duration": 38,
    "start_time": "2022-06-03T12:43:03.527Z"
   },
   {
    "duration": 18,
    "start_time": "2022-06-03T12:45:06.466Z"
   },
   {
    "duration": 10,
    "start_time": "2022-06-03T12:45:13.628Z"
   },
   {
    "duration": 362,
    "start_time": "2022-06-03T12:46:09.804Z"
   },
   {
    "duration": 486,
    "start_time": "2022-06-03T12:46:22.071Z"
   },
   {
    "duration": 8,
    "start_time": "2022-06-03T12:46:25.890Z"
   },
   {
    "duration": 10,
    "start_time": "2022-06-03T12:46:38.833Z"
   },
   {
    "duration": 11,
    "start_time": "2022-06-03T12:47:05.263Z"
   },
   {
    "duration": 14,
    "start_time": "2022-06-03T12:47:13.598Z"
   },
   {
    "duration": 20,
    "start_time": "2022-06-03T12:47:36.350Z"
   },
   {
    "duration": 11,
    "start_time": "2022-06-03T12:47:55.482Z"
   },
   {
    "duration": 15,
    "start_time": "2022-06-03T12:48:15.274Z"
   },
   {
    "duration": 16,
    "start_time": "2022-06-03T12:48:18.718Z"
   },
   {
    "duration": 15,
    "start_time": "2022-06-03T12:53:34.251Z"
   },
   {
    "duration": 14,
    "start_time": "2022-06-03T12:53:38.371Z"
   },
   {
    "duration": 12,
    "start_time": "2022-06-03T12:54:36.874Z"
   },
   {
    "duration": 23,
    "start_time": "2022-06-03T12:56:42.471Z"
   },
   {
    "duration": 5,
    "start_time": "2022-06-03T12:57:17.804Z"
   },
   {
    "duration": 484,
    "start_time": "2022-06-03T12:58:34.986Z"
   },
   {
    "duration": 520,
    "start_time": "2022-06-03T12:58:57.690Z"
   },
   {
    "duration": 460,
    "start_time": "2022-06-03T12:59:03.025Z"
   },
   {
    "duration": 25,
    "start_time": "2022-06-03T12:59:11.835Z"
   },
   {
    "duration": 535,
    "start_time": "2022-06-03T13:01:48.380Z"
   },
   {
    "duration": 1103,
    "start_time": "2022-06-03T13:02:03.615Z"
   },
   {
    "duration": 23,
    "start_time": "2022-06-03T13:03:00.194Z"
   },
   {
    "duration": 23,
    "start_time": "2022-06-03T13:04:01.490Z"
   },
   {
    "duration": 149,
    "start_time": "2022-06-03T13:04:25.281Z"
   },
   {
    "duration": 174,
    "start_time": "2022-06-03T13:06:29.537Z"
   },
   {
    "duration": 268,
    "start_time": "2022-06-03T13:06:57.485Z"
   },
   {
    "duration": 20,
    "start_time": "2022-06-03T13:09:14.780Z"
   },
   {
    "duration": 32,
    "start_time": "2022-06-03T13:09:21.079Z"
   },
   {
    "duration": 18,
    "start_time": "2022-06-03T13:11:35.177Z"
   },
   {
    "duration": 25,
    "start_time": "2022-06-03T13:12:49.760Z"
   },
   {
    "duration": 14,
    "start_time": "2022-06-03T13:13:42.480Z"
   },
   {
    "duration": 51,
    "start_time": "2022-06-03T13:13:49.993Z"
   },
   {
    "duration": 133,
    "start_time": "2022-06-03T13:14:05.104Z"
   },
   {
    "duration": 40,
    "start_time": "2022-06-03T13:14:05.239Z"
   },
   {
    "duration": 42,
    "start_time": "2022-06-03T13:14:05.284Z"
   },
   {
    "duration": 10,
    "start_time": "2022-06-03T13:14:05.328Z"
   },
   {
    "duration": 7,
    "start_time": "2022-06-03T13:14:05.341Z"
   },
   {
    "duration": 34,
    "start_time": "2022-06-03T13:14:05.350Z"
   },
   {
    "duration": 22,
    "start_time": "2022-06-03T13:14:05.386Z"
   },
   {
    "duration": 15,
    "start_time": "2022-06-03T13:14:05.410Z"
   },
   {
    "duration": 8,
    "start_time": "2022-06-03T13:14:05.427Z"
   },
   {
    "duration": 42,
    "start_time": "2022-06-03T13:14:05.437Z"
   },
   {
    "duration": 8,
    "start_time": "2022-06-03T13:14:05.481Z"
   },
   {
    "duration": 5,
    "start_time": "2022-06-03T13:14:05.491Z"
   },
   {
    "duration": 19,
    "start_time": "2022-06-03T13:14:05.498Z"
   },
   {
    "duration": 19,
    "start_time": "2022-06-03T13:14:05.520Z"
   },
   {
    "duration": 80,
    "start_time": "2022-06-03T13:14:05.541Z"
   },
   {
    "duration": 21,
    "start_time": "2022-06-03T13:14:05.623Z"
   },
   {
    "duration": 70,
    "start_time": "2022-06-03T13:14:05.646Z"
   },
   {
    "duration": 23,
    "start_time": "2022-06-03T13:14:05.718Z"
   },
   {
    "duration": 29,
    "start_time": "2022-06-03T13:14:05.743Z"
   },
   {
    "duration": 14,
    "start_time": "2022-06-03T13:14:05.773Z"
   },
   {
    "duration": 338,
    "start_time": "2022-06-03T13:14:05.790Z"
   },
   {
    "duration": 8,
    "start_time": "2022-06-03T13:14:06.130Z"
   },
   {
    "duration": 49,
    "start_time": "2022-06-03T13:14:06.140Z"
   },
   {
    "duration": 141,
    "start_time": "2022-06-03T13:14:06.191Z"
   },
   {
    "duration": 168,
    "start_time": "2022-06-03T13:14:06.334Z"
   },
   {
    "duration": 187,
    "start_time": "2022-06-03T13:14:06.504Z"
   },
   {
    "duration": 1115,
    "start_time": "2022-06-03T13:14:06.693Z"
   },
   {
    "duration": 168,
    "start_time": "2022-06-03T13:14:07.810Z"
   },
   {
    "duration": 11,
    "start_time": "2022-06-03T13:14:07.982Z"
   },
   {
    "duration": 5,
    "start_time": "2022-06-03T13:14:07.995Z"
   },
   {
    "duration": 13,
    "start_time": "2022-06-03T13:14:08.002Z"
   },
   {
    "duration": 384,
    "start_time": "2022-06-03T13:14:08.017Z"
   },
   {
    "duration": 15,
    "start_time": "2022-06-03T13:14:08.403Z"
   },
   {
    "duration": 8,
    "start_time": "2022-06-03T13:14:08.420Z"
   },
   {
    "duration": 16,
    "start_time": "2022-06-03T13:14:08.429Z"
   },
   {
    "duration": 8,
    "start_time": "2022-06-03T13:14:08.468Z"
   },
   {
    "duration": 166,
    "start_time": "2022-06-03T13:14:08.481Z"
   },
   {
    "duration": 5,
    "start_time": "2022-06-03T13:14:08.649Z"
   },
   {
    "duration": 15,
    "start_time": "2022-06-03T13:14:08.655Z"
   },
   {
    "duration": 170,
    "start_time": "2022-06-03T13:14:08.673Z"
   },
   {
    "duration": 22,
    "start_time": "2022-06-03T13:14:08.847Z"
   },
   {
    "duration": 221,
    "start_time": "2022-06-03T13:14:08.874Z"
   },
   {
    "duration": 19,
    "start_time": "2022-06-03T13:14:09.097Z"
   },
   {
    "duration": 8,
    "start_time": "2022-06-03T13:14:09.118Z"
   },
   {
    "duration": 64,
    "start_time": "2022-06-03T13:14:09.128Z"
   },
   {
    "duration": 199,
    "start_time": "2022-06-03T13:14:09.194Z"
   },
   {
    "duration": 145,
    "start_time": "2022-06-03T13:14:09.395Z"
   },
   {
    "duration": 191,
    "start_time": "2022-06-03T13:14:09.542Z"
   },
   {
    "duration": 35,
    "start_time": "2022-06-03T13:14:09.734Z"
   },
   {
    "duration": 663,
    "start_time": "2022-06-03T13:14:09.772Z"
   },
   {
    "duration": 749,
    "start_time": "2022-06-03T13:14:34.787Z"
   },
   {
    "duration": 45,
    "start_time": "2022-06-03T13:14:59.705Z"
   },
   {
    "duration": 23,
    "start_time": "2022-06-03T13:15:39.263Z"
   },
   {
    "duration": 17,
    "start_time": "2022-06-03T13:15:49.389Z"
   },
   {
    "duration": 21,
    "start_time": "2022-06-03T13:16:05.245Z"
   },
   {
    "duration": 172,
    "start_time": "2022-06-03T13:16:19.650Z"
   },
   {
    "duration": 20,
    "start_time": "2022-06-03T13:17:57.259Z"
   },
   {
    "duration": 50,
    "start_time": "2022-06-03T13:18:01.948Z"
   },
   {
    "duration": 18,
    "start_time": "2022-06-03T13:18:34.424Z"
   },
   {
    "duration": 26,
    "start_time": "2022-06-03T13:22:20.090Z"
   },
   {
    "duration": 32,
    "start_time": "2022-06-03T13:23:10.559Z"
   },
   {
    "duration": 228,
    "start_time": "2022-06-03T13:46:01.981Z"
   },
   {
    "duration": 182,
    "start_time": "2022-06-03T13:46:12.839Z"
   },
   {
    "duration": 214,
    "start_time": "2022-06-03T13:46:25.915Z"
   },
   {
    "duration": 214,
    "start_time": "2022-06-03T13:46:36.303Z"
   },
   {
    "duration": 206,
    "start_time": "2022-06-03T13:46:49.578Z"
   },
   {
    "duration": 267,
    "start_time": "2022-06-03T13:48:40.451Z"
   },
   {
    "duration": 210,
    "start_time": "2022-06-03T13:48:49.980Z"
   },
   {
    "duration": 258,
    "start_time": "2022-06-03T13:54:00.838Z"
   },
   {
    "duration": 216,
    "start_time": "2022-06-03T13:54:22.410Z"
   },
   {
    "duration": 205,
    "start_time": "2022-06-03T13:58:34.239Z"
   },
   {
    "duration": 49,
    "start_time": "2022-06-03T14:01:20.863Z"
   },
   {
    "duration": 171,
    "start_time": "2022-06-03T14:12:14.092Z"
   },
   {
    "duration": 165,
    "start_time": "2022-06-03T14:12:22.496Z"
   },
   {
    "duration": 609,
    "start_time": "2022-06-06T06:54:44.535Z"
   },
   {
    "duration": 15,
    "start_time": "2022-06-06T06:54:45.145Z"
   },
   {
    "duration": 21,
    "start_time": "2022-06-06T06:54:45.162Z"
   },
   {
    "duration": 7,
    "start_time": "2022-06-06T06:54:45.186Z"
   },
   {
    "duration": 34,
    "start_time": "2022-06-06T06:54:45.195Z"
   },
   {
    "duration": 14,
    "start_time": "2022-06-06T06:54:45.231Z"
   },
   {
    "duration": 35,
    "start_time": "2022-06-06T06:54:45.246Z"
   },
   {
    "duration": 14,
    "start_time": "2022-06-06T06:54:45.282Z"
   },
   {
    "duration": 6,
    "start_time": "2022-06-06T06:54:45.298Z"
   },
   {
    "duration": 28,
    "start_time": "2022-06-06T06:54:45.306Z"
   },
   {
    "duration": 8,
    "start_time": "2022-06-06T06:54:45.335Z"
   },
   {
    "duration": 9,
    "start_time": "2022-06-06T06:54:45.344Z"
   },
   {
    "duration": 19,
    "start_time": "2022-06-06T06:54:45.355Z"
   },
   {
    "duration": 22,
    "start_time": "2022-06-06T06:54:45.376Z"
   },
   {
    "duration": 66,
    "start_time": "2022-06-06T06:54:45.399Z"
   },
   {
    "duration": 18,
    "start_time": "2022-06-06T06:54:45.467Z"
   },
   {
    "duration": 63,
    "start_time": "2022-06-06T06:54:45.486Z"
   },
   {
    "duration": 23,
    "start_time": "2022-06-06T06:54:45.551Z"
   },
   {
    "duration": 5,
    "start_time": "2022-06-06T06:54:45.575Z"
   },
   {
    "duration": 15,
    "start_time": "2022-06-06T06:54:45.581Z"
   },
   {
    "duration": 281,
    "start_time": "2022-06-06T06:54:45.598Z"
   },
   {
    "duration": 7,
    "start_time": "2022-06-06T06:54:45.880Z"
   },
   {
    "duration": 32,
    "start_time": "2022-06-06T06:54:45.888Z"
   },
   {
    "duration": 529,
    "start_time": "2022-06-06T06:54:45.929Z"
   },
   {
    "duration": 155,
    "start_time": "2022-06-06T06:54:46.460Z"
   },
   {
    "duration": 161,
    "start_time": "2022-06-06T06:54:46.616Z"
   },
   {
    "duration": 412,
    "start_time": "2022-06-06T06:54:46.779Z"
   },
   {
    "duration": 149,
    "start_time": "2022-06-06T06:54:47.194Z"
   },
   {
    "duration": 13,
    "start_time": "2022-06-06T06:54:47.344Z"
   },
   {
    "duration": 5,
    "start_time": "2022-06-06T06:54:47.358Z"
   },
   {
    "duration": 13,
    "start_time": "2022-06-06T06:54:47.365Z"
   },
   {
    "duration": 359,
    "start_time": "2022-06-06T06:54:47.380Z"
   },
   {
    "duration": 16,
    "start_time": "2022-06-06T06:54:47.740Z"
   },
   {
    "duration": 13,
    "start_time": "2022-06-06T06:54:47.758Z"
   },
   {
    "duration": 15,
    "start_time": "2022-06-06T06:54:47.773Z"
   },
   {
    "duration": 12,
    "start_time": "2022-06-06T06:54:47.789Z"
   },
   {
    "duration": 153,
    "start_time": "2022-06-06T06:54:47.803Z"
   },
   {
    "duration": 5,
    "start_time": "2022-06-06T06:54:47.958Z"
   },
   {
    "duration": 10,
    "start_time": "2022-06-06T06:54:47.965Z"
   },
   {
    "duration": 168,
    "start_time": "2022-06-06T06:54:47.977Z"
   },
   {
    "duration": 9,
    "start_time": "2022-06-06T06:54:48.146Z"
   },
   {
    "duration": 166,
    "start_time": "2022-06-06T06:54:48.157Z"
   },
   {
    "duration": 14,
    "start_time": "2022-06-06T06:54:48.329Z"
   },
   {
    "duration": 9,
    "start_time": "2022-06-06T06:54:48.344Z"
   },
   {
    "duration": 28,
    "start_time": "2022-06-06T06:54:48.355Z"
   },
   {
    "duration": 158,
    "start_time": "2022-06-06T06:54:48.385Z"
   },
   {
    "duration": 127,
    "start_time": "2022-06-06T06:54:48.545Z"
   },
   {
    "duration": 146,
    "start_time": "2022-06-06T06:54:48.674Z"
   },
   {
    "duration": 19,
    "start_time": "2022-06-06T06:54:48.829Z"
   },
   {
    "duration": 236,
    "start_time": "2022-06-06T06:54:48.849Z"
   },
   {
    "duration": 8,
    "start_time": "2022-06-06T06:59:20.006Z"
   },
   {
    "duration": 40,
    "start_time": "2022-06-06T06:59:26.268Z"
   },
   {
    "duration": 12,
    "start_time": "2022-06-06T07:01:20.555Z"
   },
   {
    "duration": 140,
    "start_time": "2022-06-06T07:02:58.974Z"
   },
   {
    "duration": 151,
    "start_time": "2022-06-06T07:06:55.449Z"
   },
   {
    "duration": 173,
    "start_time": "2022-06-06T07:07:14.067Z"
   },
   {
    "duration": 140,
    "start_time": "2022-06-06T07:07:22.299Z"
   },
   {
    "duration": 128,
    "start_time": "2022-06-06T07:07:44.869Z"
   },
   {
    "duration": 124,
    "start_time": "2022-06-06T07:08:11.746Z"
   },
   {
    "duration": 166,
    "start_time": "2022-06-06T07:08:30.950Z"
   },
   {
    "duration": 190,
    "start_time": "2022-06-06T07:09:01.920Z"
   },
   {
    "duration": 179,
    "start_time": "2022-06-06T07:09:10.974Z"
   },
   {
    "duration": 158,
    "start_time": "2022-06-06T07:09:13.087Z"
   },
   {
    "duration": 24,
    "start_time": "2022-06-06T07:12:22.525Z"
   },
   {
    "duration": 248,
    "start_time": "2022-06-06T07:12:32.577Z"
   },
   {
    "duration": 147,
    "start_time": "2022-06-06T07:12:39.409Z"
   },
   {
    "duration": 85,
    "start_time": "2022-06-06T07:14:25.247Z"
   },
   {
    "duration": 8,
    "start_time": "2022-06-06T07:14:30.062Z"
   },
   {
    "duration": 36,
    "start_time": "2022-06-06T07:14:41.447Z"
   },
   {
    "duration": 181,
    "start_time": "2022-06-06T07:18:41.992Z"
   },
   {
    "duration": 64,
    "start_time": "2022-06-06T07:19:47.407Z"
   },
   {
    "duration": 248,
    "start_time": "2022-06-06T07:20:18.910Z"
   },
   {
    "duration": 211,
    "start_time": "2022-06-06T07:20:31.062Z"
   },
   {
    "duration": 9,
    "start_time": "2022-06-06T07:23:18.986Z"
   },
   {
    "duration": 9,
    "start_time": "2022-06-06T07:23:25.944Z"
   },
   {
    "duration": 7,
    "start_time": "2022-06-06T07:24:55.645Z"
   },
   {
    "duration": 7,
    "start_time": "2022-06-06T07:24:58.782Z"
   },
   {
    "duration": 203,
    "start_time": "2022-06-06T07:25:02.160Z"
   },
   {
    "duration": 48,
    "start_time": "2022-06-06T07:25:18.713Z"
   },
   {
    "duration": 7,
    "start_time": "2022-06-06T07:25:37.344Z"
   },
   {
    "duration": 156,
    "start_time": "2022-06-06T07:26:04.402Z"
   },
   {
    "duration": 178,
    "start_time": "2022-06-06T07:26:21.817Z"
   },
   {
    "duration": 167,
    "start_time": "2022-06-06T07:26:27.800Z"
   },
   {
    "duration": 9,
    "start_time": "2022-06-06T07:26:36.898Z"
   },
   {
    "duration": 31,
    "start_time": "2022-06-06T07:33:35.156Z"
   },
   {
    "duration": 35,
    "start_time": "2022-06-06T07:35:50.250Z"
   },
   {
    "duration": 196,
    "start_time": "2022-06-06T07:38:01.359Z"
   },
   {
    "duration": 155,
    "start_time": "2022-06-06T07:38:10.684Z"
   },
   {
    "duration": 253,
    "start_time": "2022-06-06T07:38:17.995Z"
   },
   {
    "duration": 442,
    "start_time": "2022-06-06T07:38:52.563Z"
   },
   {
    "duration": 153,
    "start_time": "2022-06-06T07:39:06.689Z"
   },
   {
    "duration": 28,
    "start_time": "2022-06-06T07:39:06.844Z"
   },
   {
    "duration": 20,
    "start_time": "2022-06-06T07:39:06.874Z"
   },
   {
    "duration": 7,
    "start_time": "2022-06-06T07:39:06.896Z"
   },
   {
    "duration": 27,
    "start_time": "2022-06-06T07:39:06.904Z"
   },
   {
    "duration": 15,
    "start_time": "2022-06-06T07:39:06.933Z"
   },
   {
    "duration": 44,
    "start_time": "2022-06-06T07:39:06.950Z"
   },
   {
    "duration": 12,
    "start_time": "2022-06-06T07:39:06.996Z"
   },
   {
    "duration": 5,
    "start_time": "2022-06-06T07:39:07.009Z"
   },
   {
    "duration": 17,
    "start_time": "2022-06-06T07:39:07.017Z"
   },
   {
    "duration": 46,
    "start_time": "2022-06-06T07:39:07.036Z"
   },
   {
    "duration": 8,
    "start_time": "2022-06-06T07:39:07.083Z"
   },
   {
    "duration": 27,
    "start_time": "2022-06-06T07:39:07.093Z"
   },
   {
    "duration": 61,
    "start_time": "2022-06-06T07:39:07.121Z"
   },
   {
    "duration": 43,
    "start_time": "2022-06-06T07:39:07.184Z"
   },
   {
    "duration": 36,
    "start_time": "2022-06-06T07:39:07.232Z"
   },
   {
    "duration": 60,
    "start_time": "2022-06-06T07:39:07.270Z"
   },
   {
    "duration": 32,
    "start_time": "2022-06-06T07:39:07.335Z"
   },
   {
    "duration": 17,
    "start_time": "2022-06-06T07:39:07.368Z"
   },
   {
    "duration": 14,
    "start_time": "2022-06-06T07:39:07.386Z"
   },
   {
    "duration": 350,
    "start_time": "2022-06-06T07:39:07.402Z"
   },
   {
    "duration": 11,
    "start_time": "2022-06-06T07:39:07.754Z"
   },
   {
    "duration": 39,
    "start_time": "2022-06-06T07:39:07.768Z"
   },
   {
    "duration": 147,
    "start_time": "2022-06-06T07:39:07.809Z"
   },
   {
    "duration": 170,
    "start_time": "2022-06-06T07:39:07.958Z"
   },
   {
    "duration": 180,
    "start_time": "2022-06-06T07:39:08.130Z"
   },
   {
    "duration": 526,
    "start_time": "2022-06-06T07:39:08.311Z"
   },
   {
    "duration": 173,
    "start_time": "2022-06-06T07:39:08.857Z"
   },
   {
    "duration": 14,
    "start_time": "2022-06-06T07:39:09.032Z"
   },
   {
    "duration": 28,
    "start_time": "2022-06-06T07:39:09.048Z"
   },
   {
    "duration": 11,
    "start_time": "2022-06-06T07:39:09.078Z"
   },
   {
    "duration": 415,
    "start_time": "2022-06-06T07:39:09.091Z"
   },
   {
    "duration": 28,
    "start_time": "2022-06-06T07:39:09.507Z"
   },
   {
    "duration": 12,
    "start_time": "2022-06-06T07:39:09.537Z"
   },
   {
    "duration": 31,
    "start_time": "2022-06-06T07:39:09.551Z"
   },
   {
    "duration": 9,
    "start_time": "2022-06-06T07:39:09.583Z"
   },
   {
    "duration": 180,
    "start_time": "2022-06-06T07:39:09.593Z"
   },
   {
    "duration": 4,
    "start_time": "2022-06-06T07:39:09.775Z"
   },
   {
    "duration": 10,
    "start_time": "2022-06-06T07:39:09.780Z"
   },
   {
    "duration": 185,
    "start_time": "2022-06-06T07:39:09.792Z"
   },
   {
    "duration": 7,
    "start_time": "2022-06-06T07:39:09.978Z"
   },
   {
    "duration": 195,
    "start_time": "2022-06-06T07:39:09.987Z"
   },
   {
    "duration": 13,
    "start_time": "2022-06-06T07:39:10.184Z"
   },
   {
    "duration": 7,
    "start_time": "2022-06-06T07:39:10.199Z"
   },
   {
    "duration": 68,
    "start_time": "2022-06-06T07:39:10.207Z"
   },
   {
    "duration": 146,
    "start_time": "2022-06-06T07:39:10.277Z"
   },
   {
    "duration": 175,
    "start_time": "2022-06-06T07:39:10.424Z"
   },
   {
    "duration": 277,
    "start_time": "2022-06-06T07:39:10.601Z"
   },
   {
    "duration": 18,
    "start_time": "2022-06-06T07:39:10.879Z"
   },
   {
    "duration": 191,
    "start_time": "2022-06-06T07:39:10.899Z"
   },
   {
    "duration": 7,
    "start_time": "2022-06-06T07:39:11.092Z"
   },
   {
    "duration": 201,
    "start_time": "2022-06-06T07:39:11.101Z"
   },
   {
    "duration": 143,
    "start_time": "2022-06-06T07:39:11.304Z"
   },
   {
    "duration": 198,
    "start_time": "2022-06-06T07:39:11.451Z"
   },
   {
    "duration": 172,
    "start_time": "2022-06-06T07:39:11.651Z"
   },
   {
    "duration": 46,
    "start_time": "2022-06-06T07:39:11.824Z"
   },
   {
    "duration": 432,
    "start_time": "2022-06-06T07:39:11.874Z"
   },
   {
    "duration": 456,
    "start_time": "2022-06-06T07:39:49.519Z"
   },
   {
    "duration": 160,
    "start_time": "2022-06-06T07:44:02.921Z"
   },
   {
    "duration": 47,
    "start_time": "2022-06-06T07:50:56.652Z"
   },
   {
    "duration": 5,
    "start_time": "2022-06-06T08:00:38.805Z"
   },
   {
    "duration": 20,
    "start_time": "2022-06-06T08:11:09.051Z"
   },
   {
    "duration": 38,
    "start_time": "2022-06-06T08:13:04.899Z"
   },
   {
    "duration": 18,
    "start_time": "2022-06-06T08:13:47.942Z"
   },
   {
    "duration": 16,
    "start_time": "2022-06-06T08:14:17.891Z"
   },
   {
    "duration": 181,
    "start_time": "2022-06-06T08:15:12.961Z"
   },
   {
    "duration": 191,
    "start_time": "2022-06-06T08:15:46.727Z"
   },
   {
    "duration": 31,
    "start_time": "2022-06-06T08:17:51.160Z"
   },
   {
    "duration": 204,
    "start_time": "2022-06-06T08:18:02.862Z"
   },
   {
    "duration": 217,
    "start_time": "2022-06-06T08:18:25.195Z"
   },
   {
    "duration": 217,
    "start_time": "2022-06-06T08:18:44.961Z"
   },
   {
    "duration": 2513,
    "start_time": "2022-06-06T08:19:58.978Z"
   },
   {
    "duration": 185,
    "start_time": "2022-06-06T08:20:22.854Z"
   },
   {
    "duration": 169,
    "start_time": "2022-06-06T08:20:42.959Z"
   },
   {
    "duration": 359,
    "start_time": "2022-06-06T08:21:05.246Z"
   },
   {
    "duration": 328,
    "start_time": "2022-06-06T08:22:56.106Z"
   },
   {
    "duration": 490,
    "start_time": "2022-06-06T08:23:12.780Z"
   },
   {
    "duration": 321,
    "start_time": "2022-06-06T08:23:22.082Z"
   },
   {
    "duration": 318,
    "start_time": "2022-06-06T08:23:35.310Z"
   },
   {
    "duration": 22,
    "start_time": "2022-06-06T08:25:54.617Z"
   },
   {
    "duration": 5,
    "start_time": "2022-06-06T08:26:42.114Z"
   },
   {
    "duration": 285,
    "start_time": "2022-06-06T08:33:39.426Z"
   },
   {
    "duration": 6,
    "start_time": "2022-06-06T08:34:38.839Z"
   },
   {
    "duration": 42,
    "start_time": "2022-06-06T08:36:35.590Z"
   },
   {
    "duration": 2187,
    "start_time": "2022-06-06T08:37:10.007Z"
   },
   {
    "duration": 147,
    "start_time": "2022-06-06T08:37:22.250Z"
   },
   {
    "duration": 12,
    "start_time": "2022-06-06T08:37:53.292Z"
   },
   {
    "duration": 23,
    "start_time": "2022-06-06T08:38:32.056Z"
   },
   {
    "duration": 24,
    "start_time": "2022-06-06T08:39:16.184Z"
   },
   {
    "duration": 126,
    "start_time": "2022-06-06T08:44:58.154Z"
   },
   {
    "duration": 12,
    "start_time": "2022-06-06T08:44:58.282Z"
   },
   {
    "duration": 39,
    "start_time": "2022-06-06T08:44:58.295Z"
   },
   {
    "duration": 13,
    "start_time": "2022-06-06T08:44:58.336Z"
   },
   {
    "duration": 15,
    "start_time": "2022-06-06T08:44:58.350Z"
   },
   {
    "duration": 7,
    "start_time": "2022-06-06T08:44:58.366Z"
   },
   {
    "duration": 23,
    "start_time": "2022-06-06T08:44:58.374Z"
   },
   {
    "duration": 43,
    "start_time": "2022-06-06T08:44:58.398Z"
   },
   {
    "duration": 9,
    "start_time": "2022-06-06T08:44:58.447Z"
   },
   {
    "duration": 23,
    "start_time": "2022-06-06T08:44:58.459Z"
   },
   {
    "duration": 15,
    "start_time": "2022-06-06T08:44:58.484Z"
   },
   {
    "duration": 10,
    "start_time": "2022-06-06T08:44:58.500Z"
   },
   {
    "duration": 23,
    "start_time": "2022-06-06T08:44:58.511Z"
   },
   {
    "duration": 27,
    "start_time": "2022-06-06T08:44:58.535Z"
   },
   {
    "duration": 65,
    "start_time": "2022-06-06T08:44:58.564Z"
   },
   {
    "duration": 31,
    "start_time": "2022-06-06T08:44:58.631Z"
   },
   {
    "duration": 46,
    "start_time": "2022-06-06T08:44:58.663Z"
   },
   {
    "duration": 51,
    "start_time": "2022-06-06T08:44:58.711Z"
   },
   {
    "duration": 4,
    "start_time": "2022-06-06T08:44:58.765Z"
   },
   {
    "duration": 15,
    "start_time": "2022-06-06T08:44:58.771Z"
   },
   {
    "duration": 304,
    "start_time": "2022-06-06T08:44:58.787Z"
   },
   {
    "duration": 7,
    "start_time": "2022-06-06T08:44:59.093Z"
   },
   {
    "duration": 65,
    "start_time": "2022-06-06T08:44:59.101Z"
   },
   {
    "duration": 121,
    "start_time": "2022-06-06T08:44:59.168Z"
   },
   {
    "duration": 161,
    "start_time": "2022-06-06T08:44:59.290Z"
   },
   {
    "duration": 307,
    "start_time": "2022-06-06T08:44:59.453Z"
   },
   {
    "duration": 376,
    "start_time": "2022-06-06T08:44:59.762Z"
   },
   {
    "duration": 168,
    "start_time": "2022-06-06T08:45:00.143Z"
   },
   {
    "duration": 19,
    "start_time": "2022-06-06T08:45:00.312Z"
   },
   {
    "duration": 60,
    "start_time": "2022-06-06T08:45:00.333Z"
   },
   {
    "duration": 64,
    "start_time": "2022-06-06T08:45:00.394Z"
   },
   {
    "duration": 408,
    "start_time": "2022-06-06T08:45:00.460Z"
   },
   {
    "duration": 16,
    "start_time": "2022-06-06T08:45:00.870Z"
   },
   {
    "duration": 12,
    "start_time": "2022-06-06T08:45:00.887Z"
   },
   {
    "duration": 19,
    "start_time": "2022-06-06T08:45:00.901Z"
   },
   {
    "duration": 25,
    "start_time": "2022-06-06T08:45:00.929Z"
   },
   {
    "duration": 156,
    "start_time": "2022-06-06T08:45:00.955Z"
   },
   {
    "duration": 5,
    "start_time": "2022-06-06T08:45:01.113Z"
   },
   {
    "duration": 154,
    "start_time": "2022-06-06T08:45:01.120Z"
   },
   {
    "duration": 166,
    "start_time": "2022-06-06T08:45:01.276Z"
   },
   {
    "duration": 10,
    "start_time": "2022-06-06T08:45:01.444Z"
   },
   {
    "duration": 171,
    "start_time": "2022-06-06T08:45:01.456Z"
   },
   {
    "duration": 14,
    "start_time": "2022-06-06T08:45:01.638Z"
   },
   {
    "duration": 34,
    "start_time": "2022-06-06T08:45:01.654Z"
   },
   {
    "duration": 433,
    "start_time": "2022-06-06T08:45:01.690Z"
   },
   {
    "duration": 346,
    "start_time": "2022-06-06T08:45:02.125Z"
   },
   {
    "duration": 514,
    "start_time": "2022-06-06T08:45:02.473Z"
   },
   {
    "duration": 5,
    "start_time": "2022-06-06T08:45:02.989Z"
   },
   {
    "duration": 58,
    "start_time": "2022-06-06T08:45:02.995Z"
   },
   {
    "duration": 50,
    "start_time": "2022-06-06T08:45:03.055Z"
   },
   {
    "duration": 196,
    "start_time": "2022-06-06T08:45:03.107Z"
   },
   {
    "duration": 8,
    "start_time": "2022-06-06T08:45:03.305Z"
   },
   {
    "duration": 204,
    "start_time": "2022-06-06T08:45:03.315Z"
   },
   {
    "duration": 150,
    "start_time": "2022-06-06T08:45:03.521Z"
   },
   {
    "duration": 208,
    "start_time": "2022-06-06T08:45:03.673Z"
   },
   {
    "duration": 157,
    "start_time": "2022-06-06T08:45:03.882Z"
   },
   {
    "duration": 36,
    "start_time": "2022-06-06T08:45:04.044Z"
   },
   {
    "duration": 502,
    "start_time": "2022-06-06T08:45:04.082Z"
   },
   {
    "duration": 1276,
    "start_time": "2022-06-06T10:39:40.112Z"
   },
   {
    "duration": 21,
    "start_time": "2022-06-06T10:39:41.391Z"
   },
   {
    "duration": 48,
    "start_time": "2022-06-06T10:39:41.414Z"
   },
   {
    "duration": 11,
    "start_time": "2022-06-06T10:39:41.465Z"
   },
   {
    "duration": 12,
    "start_time": "2022-06-06T10:39:41.478Z"
   },
   {
    "duration": 14,
    "start_time": "2022-06-06T10:39:41.492Z"
   },
   {
    "duration": 54,
    "start_time": "2022-06-06T10:39:41.508Z"
   },
   {
    "duration": 19,
    "start_time": "2022-06-06T10:39:41.564Z"
   },
   {
    "duration": 8,
    "start_time": "2022-06-06T10:39:41.585Z"
   },
   {
    "duration": 10,
    "start_time": "2022-06-06T10:39:41.596Z"
   },
   {
    "duration": 9,
    "start_time": "2022-06-06T10:39:41.608Z"
   },
   {
    "duration": 41,
    "start_time": "2022-06-06T10:39:41.619Z"
   },
   {
    "duration": 27,
    "start_time": "2022-06-06T10:39:41.662Z"
   },
   {
    "duration": 19,
    "start_time": "2022-06-06T10:39:41.691Z"
   },
   {
    "duration": 78,
    "start_time": "2022-06-06T10:39:41.712Z"
   },
   {
    "duration": 20,
    "start_time": "2022-06-06T10:39:41.791Z"
   },
   {
    "duration": 87,
    "start_time": "2022-06-06T10:39:41.813Z"
   },
   {
    "duration": 35,
    "start_time": "2022-06-06T10:39:41.902Z"
   },
   {
    "duration": 22,
    "start_time": "2022-06-06T10:39:41.939Z"
   },
   {
    "duration": 38,
    "start_time": "2022-06-06T10:39:41.963Z"
   },
   {
    "duration": 270,
    "start_time": "2022-06-06T10:39:42.003Z"
   },
   {
    "duration": 8,
    "start_time": "2022-06-06T10:39:42.274Z"
   },
   {
    "duration": 55,
    "start_time": "2022-06-06T10:39:42.283Z"
   },
   {
    "duration": 156,
    "start_time": "2022-06-06T10:39:42.340Z"
   },
   {
    "duration": 174,
    "start_time": "2022-06-06T10:39:42.498Z"
   },
   {
    "duration": 190,
    "start_time": "2022-06-06T10:39:42.674Z"
   },
   {
    "duration": 450,
    "start_time": "2022-06-06T10:39:42.865Z"
   },
   {
    "duration": 154,
    "start_time": "2022-06-06T10:39:43.319Z"
   },
   {
    "duration": 11,
    "start_time": "2022-06-06T10:39:43.475Z"
   },
   {
    "duration": 9,
    "start_time": "2022-06-06T10:39:43.488Z"
   },
   {
    "duration": 18,
    "start_time": "2022-06-06T10:39:43.499Z"
   },
   {
    "duration": 373,
    "start_time": "2022-06-06T10:39:43.519Z"
   },
   {
    "duration": 16,
    "start_time": "2022-06-06T10:39:43.894Z"
   },
   {
    "duration": 15,
    "start_time": "2022-06-06T10:39:43.912Z"
   },
   {
    "duration": 35,
    "start_time": "2022-06-06T10:39:43.929Z"
   },
   {
    "duration": 21,
    "start_time": "2022-06-06T10:39:43.966Z"
   },
   {
    "duration": 159,
    "start_time": "2022-06-06T10:39:43.989Z"
   },
   {
    "duration": 9,
    "start_time": "2022-06-06T10:39:44.150Z"
   },
   {
    "duration": 21,
    "start_time": "2022-06-06T10:39:44.160Z"
   },
   {
    "duration": 192,
    "start_time": "2022-06-06T10:39:44.183Z"
   },
   {
    "duration": 8,
    "start_time": "2022-06-06T10:39:44.377Z"
   },
   {
    "duration": 183,
    "start_time": "2022-06-06T10:39:44.387Z"
   },
   {
    "duration": 8,
    "start_time": "2022-06-06T10:39:44.572Z"
   },
   {
    "duration": 43,
    "start_time": "2022-06-06T10:39:44.581Z"
   },
   {
    "duration": 402,
    "start_time": "2022-06-06T10:39:44.626Z"
   },
   {
    "duration": 352,
    "start_time": "2022-06-06T10:39:45.030Z"
   },
   {
    "duration": 267,
    "start_time": "2022-06-06T10:39:45.383Z"
   },
   {
    "duration": 10,
    "start_time": "2022-06-06T10:39:45.652Z"
   },
   {
    "duration": 17,
    "start_time": "2022-06-06T10:39:45.664Z"
   },
   {
    "duration": 21,
    "start_time": "2022-06-06T10:39:45.683Z"
   },
   {
    "duration": 183,
    "start_time": "2022-06-06T10:39:45.706Z"
   },
   {
    "duration": 8,
    "start_time": "2022-06-06T10:39:45.891Z"
   },
   {
    "duration": 180,
    "start_time": "2022-06-06T10:39:45.901Z"
   },
   {
    "duration": 137,
    "start_time": "2022-06-06T10:39:46.082Z"
   },
   {
    "duration": 152,
    "start_time": "2022-06-06T10:39:46.220Z"
   },
   {
    "duration": 150,
    "start_time": "2022-06-06T10:39:46.374Z"
   },
   {
    "duration": 44,
    "start_time": "2022-06-06T10:39:46.526Z"
   },
   {
    "duration": 486,
    "start_time": "2022-06-06T10:39:46.573Z"
   },
   {
    "duration": 46,
    "start_time": "2022-06-06T13:04:10.874Z"
   },
   {
    "duration": 1028,
    "start_time": "2022-06-27T11:01:42.744Z"
   },
   {
    "duration": 19,
    "start_time": "2022-06-27T11:01:43.775Z"
   },
   {
    "duration": 32,
    "start_time": "2022-06-27T11:01:43.795Z"
   },
   {
    "duration": 17,
    "start_time": "2022-06-27T11:01:43.829Z"
   },
   {
    "duration": 17,
    "start_time": "2022-06-27T11:01:43.849Z"
   },
   {
    "duration": 21,
    "start_time": "2022-06-27T11:01:43.868Z"
   },
   {
    "duration": 35,
    "start_time": "2022-06-27T11:01:43.890Z"
   },
   {
    "duration": 19,
    "start_time": "2022-06-27T11:01:43.927Z"
   },
   {
    "duration": 39,
    "start_time": "2022-06-27T11:01:43.948Z"
   },
   {
    "duration": 17,
    "start_time": "2022-06-27T11:01:43.990Z"
   },
   {
    "duration": 11,
    "start_time": "2022-06-27T11:01:44.009Z"
   },
   {
    "duration": 28,
    "start_time": "2022-06-27T11:01:44.022Z"
   },
   {
    "duration": 16,
    "start_time": "2022-06-27T11:01:44.051Z"
   },
   {
    "duration": 21,
    "start_time": "2022-06-27T11:01:46.152Z"
   },
   {
    "duration": 16,
    "start_time": "2022-06-27T11:01:49.553Z"
   },
   {
    "duration": 1291,
    "start_time": "2022-09-19T08:59:04.592Z"
   },
   {
    "duration": 14,
    "start_time": "2022-09-19T08:59:05.885Z"
   },
   {
    "duration": 36,
    "start_time": "2022-09-19T08:59:05.902Z"
   },
   {
    "duration": 10,
    "start_time": "2022-09-19T08:59:05.940Z"
   },
   {
    "duration": 5,
    "start_time": "2022-09-19T08:59:05.951Z"
   },
   {
    "duration": 8,
    "start_time": "2022-09-19T08:59:05.958Z"
   },
   {
    "duration": 24,
    "start_time": "2022-09-19T08:59:05.967Z"
   },
   {
    "duration": 43,
    "start_time": "2022-09-19T08:59:05.992Z"
   },
   {
    "duration": 11,
    "start_time": "2022-09-19T08:59:06.036Z"
   },
   {
    "duration": 7,
    "start_time": "2022-09-19T08:59:06.049Z"
   },
   {
    "duration": 11,
    "start_time": "2022-09-19T08:59:06.058Z"
   },
   {
    "duration": 6,
    "start_time": "2022-09-19T08:59:06.070Z"
   },
   {
    "duration": 67,
    "start_time": "2022-09-19T08:59:06.077Z"
   },
   {
    "duration": 18,
    "start_time": "2022-09-19T08:59:06.145Z"
   },
   {
    "duration": 87,
    "start_time": "2022-09-19T08:59:06.164Z"
   },
   {
    "duration": 19,
    "start_time": "2022-09-19T08:59:06.253Z"
   },
   {
    "duration": 63,
    "start_time": "2022-09-19T08:59:06.274Z"
   },
   {
    "duration": 35,
    "start_time": "2022-09-19T08:59:06.340Z"
   },
   {
    "duration": 4,
    "start_time": "2022-09-19T08:59:06.376Z"
   },
   {
    "duration": 12,
    "start_time": "2022-09-19T08:59:06.382Z"
   },
   {
    "duration": 320,
    "start_time": "2022-09-19T08:59:06.395Z"
   },
   {
    "duration": 14,
    "start_time": "2022-09-19T08:59:06.719Z"
   },
   {
    "duration": 39,
    "start_time": "2022-09-19T08:59:06.734Z"
   },
   {
    "duration": 152,
    "start_time": "2022-09-19T08:59:06.775Z"
   },
   {
    "duration": 184,
    "start_time": "2022-09-19T08:59:06.940Z"
   },
   {
    "duration": 148,
    "start_time": "2022-09-19T08:59:07.126Z"
   },
   {
    "duration": 1252,
    "start_time": "2022-09-19T08:59:07.276Z"
   },
   {
    "duration": 394,
    "start_time": "2022-09-19T08:59:08.536Z"
   },
   {
    "duration": 16,
    "start_time": "2022-09-19T08:59:08.931Z"
   },
   {
    "duration": 5,
    "start_time": "2022-09-19T08:59:08.949Z"
   },
   {
    "duration": 66,
    "start_time": "2022-09-19T08:59:08.955Z"
   },
   {
    "duration": 644,
    "start_time": "2022-09-19T08:59:09.023Z"
   },
   {
    "duration": 19,
    "start_time": "2022-09-19T08:59:09.669Z"
   },
   {
    "duration": 49,
    "start_time": "2022-09-19T08:59:09.690Z"
   },
   {
    "duration": 25,
    "start_time": "2022-09-19T08:59:09.748Z"
   },
   {
    "duration": 8,
    "start_time": "2022-09-19T08:59:09.775Z"
   },
   {
    "duration": 169,
    "start_time": "2022-09-19T08:59:09.785Z"
   },
   {
    "duration": 5,
    "start_time": "2022-09-19T08:59:09.955Z"
   },
   {
    "duration": 7,
    "start_time": "2022-09-19T08:59:09.961Z"
   },
   {
    "duration": 187,
    "start_time": "2022-09-19T08:59:09.969Z"
   },
   {
    "duration": 7,
    "start_time": "2022-09-19T08:59:10.158Z"
   },
   {
    "duration": 220,
    "start_time": "2022-09-19T08:59:10.167Z"
   },
   {
    "duration": 7,
    "start_time": "2022-09-19T08:59:10.389Z"
   },
   {
    "duration": 77,
    "start_time": "2022-09-19T08:59:10.397Z"
   },
   {
    "duration": 372,
    "start_time": "2022-09-19T08:59:10.475Z"
   },
   {
    "duration": 262,
    "start_time": "2022-09-19T08:59:10.849Z"
   },
   {
    "duration": 249,
    "start_time": "2022-09-19T08:59:11.119Z"
   },
   {
    "duration": 5,
    "start_time": "2022-09-19T08:59:11.369Z"
   },
   {
    "duration": 21,
    "start_time": "2022-09-19T08:59:11.376Z"
   },
   {
    "duration": 65,
    "start_time": "2022-09-19T08:59:11.399Z"
   },
   {
    "duration": 205,
    "start_time": "2022-09-19T08:59:11.466Z"
   },
   {
    "duration": 10,
    "start_time": "2022-09-19T08:59:11.673Z"
   },
   {
    "duration": 189,
    "start_time": "2022-09-19T08:59:11.686Z"
   },
   {
    "duration": 118,
    "start_time": "2022-09-19T08:59:11.877Z"
   },
   {
    "duration": 203,
    "start_time": "2022-09-19T08:59:11.997Z"
   },
   {
    "duration": 150,
    "start_time": "2022-09-19T08:59:12.202Z"
   },
   {
    "duration": 28,
    "start_time": "2022-09-19T08:59:12.354Z"
   },
   {
    "duration": 401,
    "start_time": "2022-09-19T08:59:12.383Z"
   },
   {
    "duration": 139,
    "start_time": "2022-09-19T08:59:14.502Z"
   },
   {
    "duration": 101,
    "start_time": "2022-09-19T09:01:11.996Z"
   },
   {
    "duration": 28,
    "start_time": "2022-09-19T09:01:25.436Z"
   },
   {
    "duration": 774,
    "start_time": "2022-09-19T09:01:39.326Z"
   },
   {
    "duration": 22,
    "start_time": "2022-09-19T09:01:40.102Z"
   },
   {
    "duration": 35,
    "start_time": "2022-09-19T09:01:40.126Z"
   },
   {
    "duration": 9,
    "start_time": "2022-09-19T09:01:40.162Z"
   },
   {
    "duration": 8,
    "start_time": "2022-09-19T09:01:40.174Z"
   },
   {
    "duration": 7,
    "start_time": "2022-09-19T09:01:40.184Z"
   },
   {
    "duration": 51,
    "start_time": "2022-09-19T09:01:40.193Z"
   },
   {
    "duration": 16,
    "start_time": "2022-09-19T09:01:40.246Z"
   },
   {
    "duration": 6,
    "start_time": "2022-09-19T09:01:40.264Z"
   },
   {
    "duration": 23,
    "start_time": "2022-09-19T09:01:40.272Z"
   },
   {
    "duration": 30,
    "start_time": "2022-09-19T09:01:40.297Z"
   },
   {
    "duration": 9,
    "start_time": "2022-09-19T09:01:40.329Z"
   },
   {
    "duration": 19,
    "start_time": "2022-09-19T09:01:40.339Z"
   },
   {
    "duration": 17,
    "start_time": "2022-09-19T09:01:40.361Z"
   },
   {
    "duration": 80,
    "start_time": "2022-09-19T09:01:40.380Z"
   },
   {
    "duration": 18,
    "start_time": "2022-09-19T09:01:40.462Z"
   },
   {
    "duration": 64,
    "start_time": "2022-09-19T09:01:40.483Z"
   },
   {
    "duration": 23,
    "start_time": "2022-09-19T09:01:40.549Z"
   },
   {
    "duration": 4,
    "start_time": "2022-09-19T09:01:40.573Z"
   },
   {
    "duration": 47,
    "start_time": "2022-09-19T09:01:40.578Z"
   },
   {
    "duration": 342,
    "start_time": "2022-09-19T09:01:40.628Z"
   },
   {
    "duration": 7,
    "start_time": "2022-09-19T09:01:40.972Z"
   },
   {
    "duration": 41,
    "start_time": "2022-09-19T09:01:40.981Z"
   },
   {
    "duration": 129,
    "start_time": "2022-09-19T09:01:41.029Z"
   },
   {
    "duration": 179,
    "start_time": "2022-09-19T09:01:41.160Z"
   },
   {
    "duration": 173,
    "start_time": "2022-09-19T09:01:41.341Z"
   },
   {
    "duration": 416,
    "start_time": "2022-09-19T09:01:41.516Z"
   },
   {
    "duration": 158,
    "start_time": "2022-09-19T09:01:41.934Z"
   },
   {
    "duration": 34,
    "start_time": "2022-09-19T09:01:42.094Z"
   },
   {
    "duration": 6,
    "start_time": "2022-09-19T09:01:42.130Z"
   },
   {
    "duration": 15,
    "start_time": "2022-09-19T09:01:42.137Z"
   },
   {
    "duration": 437,
    "start_time": "2022-09-19T09:01:42.154Z"
   },
   {
    "duration": 33,
    "start_time": "2022-09-19T09:01:42.593Z"
   },
   {
    "duration": 18,
    "start_time": "2022-09-19T09:01:42.629Z"
   },
   {
    "duration": 31,
    "start_time": "2022-09-19T09:01:42.649Z"
   },
   {
    "duration": 45,
    "start_time": "2022-09-19T09:01:42.682Z"
   },
   {
    "duration": 172,
    "start_time": "2022-09-19T09:01:42.731Z"
   },
   {
    "duration": 5,
    "start_time": "2022-09-19T09:01:42.905Z"
   },
   {
    "duration": 30,
    "start_time": "2022-09-19T09:01:42.911Z"
   },
   {
    "duration": 175,
    "start_time": "2022-09-19T09:01:42.942Z"
   },
   {
    "duration": 9,
    "start_time": "2022-09-19T09:01:43.123Z"
   },
   {
    "duration": 215,
    "start_time": "2022-09-19T09:01:43.134Z"
   },
   {
    "duration": 7,
    "start_time": "2022-09-19T09:01:43.350Z"
   },
   {
    "duration": 50,
    "start_time": "2022-09-19T09:01:43.358Z"
   },
   {
    "duration": 687,
    "start_time": "2022-09-19T09:01:43.424Z"
   },
   {
    "duration": 528,
    "start_time": "2022-09-19T09:01:44.113Z"
   },
   {
    "duration": 673,
    "start_time": "2022-09-19T09:01:44.642Z"
   },
   {
    "duration": 7,
    "start_time": "2022-09-19T09:01:45.317Z"
   },
   {
    "duration": 28,
    "start_time": "2022-09-19T09:01:45.329Z"
   },
   {
    "duration": 85,
    "start_time": "2022-09-19T09:01:45.360Z"
   },
   {
    "duration": 268,
    "start_time": "2022-09-19T09:01:45.447Z"
   },
   {
    "duration": 10,
    "start_time": "2022-09-19T09:01:45.717Z"
   },
   {
    "duration": 144,
    "start_time": "2022-09-19T09:01:45.729Z"
   },
   {
    "duration": 128,
    "start_time": "2022-09-19T09:01:45.874Z"
   },
   {
    "duration": 245,
    "start_time": "2022-09-19T09:01:46.005Z"
   },
   {
    "duration": 137,
    "start_time": "2022-09-19T09:01:46.252Z"
   },
   {
    "duration": 44,
    "start_time": "2022-09-19T09:01:46.390Z"
   },
   {
    "duration": 364,
    "start_time": "2022-09-19T09:01:46.436Z"
   },
   {
    "duration": 781,
    "start_time": "2022-09-19T09:12:48.095Z"
   },
   {
    "duration": 43,
    "start_time": "2022-09-19T09:12:48.878Z"
   },
   {
    "duration": 32,
    "start_time": "2022-09-19T09:12:48.929Z"
   },
   {
    "duration": 56,
    "start_time": "2022-09-19T09:12:48.963Z"
   },
   {
    "duration": 10,
    "start_time": "2022-09-19T09:12:49.021Z"
   },
   {
    "duration": 15,
    "start_time": "2022-09-19T09:12:49.033Z"
   },
   {
    "duration": 74,
    "start_time": "2022-09-19T09:12:49.049Z"
   },
   {
    "duration": 19,
    "start_time": "2022-09-19T09:12:49.125Z"
   },
   {
    "duration": 5,
    "start_time": "2022-09-19T09:12:49.145Z"
   },
   {
    "duration": 7,
    "start_time": "2022-09-19T09:12:49.152Z"
   },
   {
    "duration": 7,
    "start_time": "2022-09-19T09:12:49.161Z"
   },
   {
    "duration": 23,
    "start_time": "2022-09-19T09:12:49.219Z"
   },
   {
    "duration": 18,
    "start_time": "2022-09-19T09:12:49.244Z"
   },
   {
    "duration": 73,
    "start_time": "2022-09-19T09:12:49.264Z"
   },
   {
    "duration": 102,
    "start_time": "2022-09-19T09:12:49.339Z"
   },
   {
    "duration": 91,
    "start_time": "2022-09-19T09:12:49.443Z"
   },
   {
    "duration": 118,
    "start_time": "2022-09-19T09:12:49.535Z"
   },
   {
    "duration": 87,
    "start_time": "2022-09-19T09:12:49.654Z"
   },
   {
    "duration": 5,
    "start_time": "2022-09-19T09:12:49.743Z"
   },
   {
    "duration": 11,
    "start_time": "2022-09-19T09:12:49.749Z"
   },
   {
    "duration": 722,
    "start_time": "2022-09-19T09:12:49.812Z"
   },
   {
    "duration": 7,
    "start_time": "2022-09-19T09:12:50.536Z"
   },
   {
    "duration": 90,
    "start_time": "2022-09-19T09:12:50.545Z"
   },
   {
    "duration": 274,
    "start_time": "2022-09-19T09:12:50.637Z"
   },
   {
    "duration": 187,
    "start_time": "2022-09-19T09:12:50.913Z"
   },
   {
    "duration": 145,
    "start_time": "2022-09-19T09:12:51.112Z"
   },
   {
    "duration": 342,
    "start_time": "2022-09-19T09:12:51.258Z"
   },
   {
    "duration": 151,
    "start_time": "2022-09-19T09:12:51.603Z"
   },
   {
    "duration": 10,
    "start_time": "2022-09-19T09:12:51.756Z"
   },
   {
    "duration": 8,
    "start_time": "2022-09-19T09:12:51.768Z"
   },
   {
    "duration": 13,
    "start_time": "2022-09-19T09:12:51.777Z"
   },
   {
    "duration": 395,
    "start_time": "2022-09-19T09:12:51.792Z"
   },
   {
    "duration": 13,
    "start_time": "2022-09-19T09:12:52.189Z"
   },
   {
    "duration": 35,
    "start_time": "2022-09-19T09:12:52.211Z"
   },
   {
    "duration": 31,
    "start_time": "2022-09-19T09:12:52.247Z"
   },
   {
    "duration": 26,
    "start_time": "2022-09-19T09:12:52.280Z"
   },
   {
    "duration": 163,
    "start_time": "2022-09-19T09:12:52.308Z"
   },
   {
    "duration": 5,
    "start_time": "2022-09-19T09:12:52.473Z"
   },
   {
    "duration": 65,
    "start_time": "2022-09-19T09:12:52.479Z"
   },
   {
    "duration": 187,
    "start_time": "2022-09-19T09:12:52.546Z"
   },
   {
    "duration": 9,
    "start_time": "2022-09-19T09:12:52.734Z"
   },
   {
    "duration": 251,
    "start_time": "2022-09-19T09:12:52.745Z"
   },
   {
    "duration": 6,
    "start_time": "2022-09-19T09:12:52.998Z"
   },
   {
    "duration": 64,
    "start_time": "2022-09-19T09:12:53.006Z"
   },
   {
    "duration": 380,
    "start_time": "2022-09-19T09:12:53.071Z"
   },
   {
    "duration": 252,
    "start_time": "2022-09-19T09:12:53.453Z"
   },
   {
    "duration": 265,
    "start_time": "2022-09-19T09:12:53.712Z"
   },
   {
    "duration": 5,
    "start_time": "2022-09-19T09:12:53.978Z"
   },
   {
    "duration": 39,
    "start_time": "2022-09-19T09:12:53.984Z"
   },
   {
    "duration": 21,
    "start_time": "2022-09-19T09:12:54.025Z"
   },
   {
    "duration": 196,
    "start_time": "2022-09-19T09:12:54.047Z"
   },
   {
    "duration": 8,
    "start_time": "2022-09-19T09:12:54.244Z"
   },
   {
    "duration": 171,
    "start_time": "2022-09-19T09:12:54.254Z"
   },
   {
    "duration": 135,
    "start_time": "2022-09-19T09:12:54.426Z"
   },
   {
    "duration": 210,
    "start_time": "2022-09-19T09:12:54.562Z"
   },
   {
    "duration": 123,
    "start_time": "2022-09-19T09:12:54.773Z"
   },
   {
    "duration": 57,
    "start_time": "2022-09-19T09:12:54.897Z"
   },
   {
    "duration": 340,
    "start_time": "2022-09-19T09:12:54.955Z"
   },
   {
    "duration": 1090,
    "start_time": "2022-09-20T09:44:16.883Z"
   },
   {
    "duration": 16,
    "start_time": "2022-09-20T09:44:17.976Z"
   },
   {
    "duration": 22,
    "start_time": "2022-09-20T09:44:17.994Z"
   },
   {
    "duration": 8,
    "start_time": "2022-09-20T09:44:18.018Z"
   },
   {
    "duration": 5,
    "start_time": "2022-09-20T09:44:18.028Z"
   },
   {
    "duration": 7,
    "start_time": "2022-09-20T09:44:18.035Z"
   },
   {
    "duration": 61,
    "start_time": "2022-09-20T09:44:18.043Z"
   },
   {
    "duration": 13,
    "start_time": "2022-09-20T09:44:18.106Z"
   },
   {
    "duration": 6,
    "start_time": "2022-09-20T09:44:18.120Z"
   },
   {
    "duration": 8,
    "start_time": "2022-09-20T09:44:18.129Z"
   },
   {
    "duration": 8,
    "start_time": "2022-09-20T09:44:18.138Z"
   },
   {
    "duration": 43,
    "start_time": "2022-09-20T09:44:18.147Z"
   },
   {
    "duration": 24,
    "start_time": "2022-09-20T09:44:18.191Z"
   },
   {
    "duration": 41,
    "start_time": "2022-09-20T09:44:18.217Z"
   },
   {
    "duration": 60,
    "start_time": "2022-09-20T09:44:18.260Z"
   },
   {
    "duration": 20,
    "start_time": "2022-09-20T09:44:18.322Z"
   },
   {
    "duration": 63,
    "start_time": "2022-09-20T09:44:18.343Z"
   },
   {
    "duration": 22,
    "start_time": "2022-09-20T09:44:18.408Z"
   },
   {
    "duration": 5,
    "start_time": "2022-09-20T09:44:18.432Z"
   },
   {
    "duration": 17,
    "start_time": "2022-09-20T09:44:18.438Z"
   },
   {
    "duration": 305,
    "start_time": "2022-09-20T09:44:18.457Z"
   },
   {
    "duration": 7,
    "start_time": "2022-09-20T09:44:18.764Z"
   },
   {
    "duration": 34,
    "start_time": "2022-09-20T09:44:18.772Z"
   },
   {
    "duration": 140,
    "start_time": "2022-09-20T09:44:18.807Z"
   },
   {
    "duration": 204,
    "start_time": "2022-09-20T09:44:18.949Z"
   },
   {
    "duration": 168,
    "start_time": "2022-09-20T09:44:19.155Z"
   },
   {
    "duration": 377,
    "start_time": "2022-09-20T09:44:19.324Z"
   },
   {
    "duration": 152,
    "start_time": "2022-09-20T09:44:19.704Z"
   },
   {
    "duration": 12,
    "start_time": "2022-09-20T09:44:19.858Z"
   },
   {
    "duration": 18,
    "start_time": "2022-09-20T09:44:19.872Z"
   },
   {
    "duration": 14,
    "start_time": "2022-09-20T09:44:19.892Z"
   },
   {
    "duration": 376,
    "start_time": "2022-09-20T09:44:19.908Z"
   },
   {
    "duration": 17,
    "start_time": "2022-09-20T09:44:20.285Z"
   },
   {
    "duration": 28,
    "start_time": "2022-09-20T09:44:20.304Z"
   },
   {
    "duration": 20,
    "start_time": "2022-09-20T09:44:20.333Z"
   },
   {
    "duration": 7,
    "start_time": "2022-09-20T09:44:20.355Z"
   },
   {
    "duration": 147,
    "start_time": "2022-09-20T09:44:20.363Z"
   },
   {
    "duration": 4,
    "start_time": "2022-09-20T09:44:20.512Z"
   },
   {
    "duration": 9,
    "start_time": "2022-09-20T09:44:20.517Z"
   },
   {
    "duration": 163,
    "start_time": "2022-09-20T09:44:20.528Z"
   },
   {
    "duration": 7,
    "start_time": "2022-09-20T09:44:20.692Z"
   },
   {
    "duration": 225,
    "start_time": "2022-09-20T09:44:20.701Z"
   },
   {
    "duration": 6,
    "start_time": "2022-09-20T09:44:20.928Z"
   },
   {
    "duration": 27,
    "start_time": "2022-09-20T09:44:20.936Z"
   },
   {
    "duration": 377,
    "start_time": "2022-09-20T09:44:20.965Z"
   },
   {
    "duration": 272,
    "start_time": "2022-09-20T09:44:21.344Z"
   },
   {
    "duration": 294,
    "start_time": "2022-09-20T09:44:21.618Z"
   },
   {
    "duration": 6,
    "start_time": "2022-09-20T09:44:21.914Z"
   },
   {
    "duration": 29,
    "start_time": "2022-09-20T09:44:21.922Z"
   },
   {
    "duration": 42,
    "start_time": "2022-09-20T09:44:21.954Z"
   },
   {
    "duration": 218,
    "start_time": "2022-09-20T09:44:21.998Z"
   },
   {
    "duration": 8,
    "start_time": "2022-09-20T09:44:22.218Z"
   },
   {
    "duration": 155,
    "start_time": "2022-09-20T09:44:22.228Z"
   },
   {
    "duration": 135,
    "start_time": "2022-09-20T09:44:22.388Z"
   },
   {
    "duration": 224,
    "start_time": "2022-09-20T09:44:22.524Z"
   },
   {
    "duration": 142,
    "start_time": "2022-09-20T09:44:22.750Z"
   },
   {
    "duration": 39,
    "start_time": "2022-09-20T09:44:22.894Z"
   },
   {
    "duration": 395,
    "start_time": "2022-09-20T09:44:22.935Z"
   }
  ],
  "kernelspec": {
   "display_name": "Python 3 (ipykernel)",
   "language": "python",
   "name": "python3"
  },
  "language_info": {
   "codemirror_mode": {
    "name": "ipython",
    "version": 3
   },
   "file_extension": ".py",
   "mimetype": "text/x-python",
   "name": "python",
   "nbconvert_exporter": "python",
   "pygments_lexer": "ipython3",
   "version": "3.9.5"
  },
  "toc": {
   "base_numbering": 1,
   "nav_menu": {},
   "number_sections": true,
   "sideBar": true,
   "skip_h1_title": true,
   "title_cell": "Содержание",
   "title_sidebar": "Contents",
   "toc_cell": true,
   "toc_position": {},
   "toc_section_display": true,
   "toc_window_display": true
  }
 },
 "nbformat": 4,
 "nbformat_minor": 4
}
