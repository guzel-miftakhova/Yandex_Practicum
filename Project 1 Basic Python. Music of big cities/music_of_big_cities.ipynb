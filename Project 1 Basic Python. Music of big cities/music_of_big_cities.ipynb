{
 "cells": [
  {
   "cell_type": "markdown",
   "metadata": {
    "id": "Ml1hmfXC_Zcs"
   },
   "source": [
    "## Обзор данных\n",
    "\n",
    "Составим первое представление о данных Яндекс.Музыки."
   ]
  },
  {
   "cell_type": "markdown",
   "metadata": {
    "id": "57eAOGIz_Zcs"
   },
   "source": [
    "Основной инструмент аналитика — `pandas`. Импортируем эту библиотеку."
   ]
  },
  {
   "cell_type": "code",
   "execution_count": 1,
   "metadata": {
    "id": "AXN7PHPN_Zcs"
   },
   "outputs": [],
   "source": [
    "# импорт библиотеки pandas\n",
    "import pandas as pd"
   ]
  },
  {
   "cell_type": "code",
   "execution_count": 2,
   "metadata": {
    "id": "fFVu7vqh_Zct"
   },
   "outputs": [],
   "source": [
    "# чтение файла с данными и сохранение в df\n",
    "df = pd.read_csv('.../yandex_music_project.csv')"
   ]
  },
  {
   "cell_type": "code",
   "execution_count": 3,
   "metadata": {
    "id": "oWTVX3gW_Zct"
   },
   "outputs": [
    {
     "data": {
      "text/html": [
       "<div>\n",
       "<style scoped>\n",
       "    .dataframe tbody tr th:only-of-type {\n",
       "        vertical-align: middle;\n",
       "    }\n",
       "\n",
       "    .dataframe tbody tr th {\n",
       "        vertical-align: top;\n",
       "    }\n",
       "\n",
       "    .dataframe thead th {\n",
       "        text-align: right;\n",
       "    }\n",
       "</style>\n",
       "<table border=\"1\" class=\"dataframe\">\n",
       "  <thead>\n",
       "    <tr style=\"text-align: right;\">\n",
       "      <th></th>\n",
       "      <th>userID</th>\n",
       "      <th>Track</th>\n",
       "      <th>artist</th>\n",
       "      <th>genre</th>\n",
       "      <th>City</th>\n",
       "      <th>time</th>\n",
       "      <th>Day</th>\n",
       "    </tr>\n",
       "  </thead>\n",
       "  <tbody>\n",
       "    <tr>\n",
       "      <th>0</th>\n",
       "      <td>FFB692EC</td>\n",
       "      <td>Kamigata To Boots</td>\n",
       "      <td>The Mass Missile</td>\n",
       "      <td>rock</td>\n",
       "      <td>Saint-Petersburg</td>\n",
       "      <td>20:28:33</td>\n",
       "      <td>Wednesday</td>\n",
       "    </tr>\n",
       "    <tr>\n",
       "      <th>1</th>\n",
       "      <td>55204538</td>\n",
       "      <td>Delayed Because of Accident</td>\n",
       "      <td>Andreas Rönnberg</td>\n",
       "      <td>rock</td>\n",
       "      <td>Moscow</td>\n",
       "      <td>14:07:09</td>\n",
       "      <td>Friday</td>\n",
       "    </tr>\n",
       "    <tr>\n",
       "      <th>2</th>\n",
       "      <td>20EC38</td>\n",
       "      <td>Funiculì funiculà</td>\n",
       "      <td>Mario Lanza</td>\n",
       "      <td>pop</td>\n",
       "      <td>Saint-Petersburg</td>\n",
       "      <td>20:58:07</td>\n",
       "      <td>Wednesday</td>\n",
       "    </tr>\n",
       "    <tr>\n",
       "      <th>3</th>\n",
       "      <td>A3DD03C9</td>\n",
       "      <td>Dragons in the Sunset</td>\n",
       "      <td>Fire + Ice</td>\n",
       "      <td>folk</td>\n",
       "      <td>Saint-Petersburg</td>\n",
       "      <td>08:37:09</td>\n",
       "      <td>Monday</td>\n",
       "    </tr>\n",
       "    <tr>\n",
       "      <th>4</th>\n",
       "      <td>E2DC1FAE</td>\n",
       "      <td>Soul People</td>\n",
       "      <td>Space Echo</td>\n",
       "      <td>dance</td>\n",
       "      <td>Moscow</td>\n",
       "      <td>08:34:34</td>\n",
       "      <td>Monday</td>\n",
       "    </tr>\n",
       "    <tr>\n",
       "      <th>5</th>\n",
       "      <td>842029A1</td>\n",
       "      <td>Преданная</td>\n",
       "      <td>IMPERVTOR</td>\n",
       "      <td>rusrap</td>\n",
       "      <td>Saint-Petersburg</td>\n",
       "      <td>13:09:41</td>\n",
       "      <td>Friday</td>\n",
       "    </tr>\n",
       "    <tr>\n",
       "      <th>6</th>\n",
       "      <td>4CB90AA5</td>\n",
       "      <td>True</td>\n",
       "      <td>Roman Messer</td>\n",
       "      <td>dance</td>\n",
       "      <td>Moscow</td>\n",
       "      <td>13:00:07</td>\n",
       "      <td>Wednesday</td>\n",
       "    </tr>\n",
       "    <tr>\n",
       "      <th>7</th>\n",
       "      <td>F03E1C1F</td>\n",
       "      <td>Feeling This Way</td>\n",
       "      <td>Polina Griffith</td>\n",
       "      <td>dance</td>\n",
       "      <td>Moscow</td>\n",
       "      <td>20:47:49</td>\n",
       "      <td>Wednesday</td>\n",
       "    </tr>\n",
       "    <tr>\n",
       "      <th>8</th>\n",
       "      <td>8FA1D3BE</td>\n",
       "      <td>И вновь продолжается бой</td>\n",
       "      <td>NaN</td>\n",
       "      <td>ruspop</td>\n",
       "      <td>Moscow</td>\n",
       "      <td>09:17:40</td>\n",
       "      <td>Friday</td>\n",
       "    </tr>\n",
       "    <tr>\n",
       "      <th>9</th>\n",
       "      <td>E772D5C0</td>\n",
       "      <td>Pessimist</td>\n",
       "      <td>NaN</td>\n",
       "      <td>dance</td>\n",
       "      <td>Saint-Petersburg</td>\n",
       "      <td>21:20:49</td>\n",
       "      <td>Wednesday</td>\n",
       "    </tr>\n",
       "  </tbody>\n",
       "</table>\n",
       "</div>"
      ],
      "text/plain": [
       "     userID                        Track            artist   genre  \\\n",
       "0  FFB692EC            Kamigata To Boots  The Mass Missile    rock   \n",
       "1  55204538  Delayed Because of Accident  Andreas Rönnberg    rock   \n",
       "2    20EC38            Funiculì funiculà       Mario Lanza     pop   \n",
       "3  A3DD03C9        Dragons in the Sunset        Fire + Ice    folk   \n",
       "4  E2DC1FAE                  Soul People        Space Echo   dance   \n",
       "5  842029A1                    Преданная         IMPERVTOR  rusrap   \n",
       "6  4CB90AA5                         True      Roman Messer   dance   \n",
       "7  F03E1C1F             Feeling This Way   Polina Griffith   dance   \n",
       "8  8FA1D3BE     И вновь продолжается бой               NaN  ruspop   \n",
       "9  E772D5C0                    Pessimist               NaN   dance   \n",
       "\n",
       "             City        time        Day  \n",
       "0  Saint-Petersburg  20:28:33  Wednesday  \n",
       "1            Moscow  14:07:09     Friday  \n",
       "2  Saint-Petersburg  20:58:07  Wednesday  \n",
       "3  Saint-Petersburg  08:37:09     Monday  \n",
       "4            Moscow  08:34:34     Monday  \n",
       "5  Saint-Petersburg  13:09:41     Friday  \n",
       "6            Moscow  13:00:07  Wednesday  \n",
       "7            Moscow  20:47:49  Wednesday  \n",
       "8            Moscow  09:17:40     Friday  \n",
       "9  Saint-Petersburg  21:20:49  Wednesday  "
      ]
     },
     "execution_count": 3,
     "metadata": {},
     "output_type": "execute_result"
    }
   ],
   "source": [
    "# получение первых 10 строк таблицы df\n",
    "df.head(10)"
   ]
  },
  {
   "cell_type": "code",
   "execution_count": 4,
   "metadata": {
    "id": "DSf2kIb-_Zct"
   },
   "outputs": [
    {
     "name": "stdout",
     "output_type": "stream",
     "text": [
      "<class 'pandas.core.frame.DataFrame'>\n",
      "RangeIndex: 65079 entries, 0 to 65078\n",
      "Data columns (total 7 columns):\n",
      " #   Column    Non-Null Count  Dtype \n",
      "---  ------    --------------  ----- \n",
      " 0     userID  65079 non-null  object\n",
      " 1   Track     63848 non-null  object\n",
      " 2   artist    57876 non-null  object\n",
      " 3   genre     63881 non-null  object\n",
      " 4     City    65079 non-null  object\n",
      " 5   time      65079 non-null  object\n",
      " 6   Day       65079 non-null  object\n",
      "dtypes: object(7)\n",
      "memory usage: 3.5+ MB\n"
     ]
    }
   ],
   "source": [
    "# получение общей информации о данных в таблице df\n",
    "df.info()"
   ]
  },
  {
   "cell_type": "markdown",
   "metadata": {
    "id": "TaQ2Iwbr_Zct"
   },
   "source": [
    "Итак, в таблице семь столбцов. Тип данных во всех столбцах — `object`.\n",
    "\n",
    "Согласно документации к данным:\n",
    "* `userID` — идентификатор пользователя;\n",
    "* `Track` — название трека;  \n",
    "* `artist` — имя исполнителя;\n",
    "* `genre` — название жанра;\n",
    "* `City` — город пользователя;\n",
    "* `time` — время начала прослушивания;\n",
    "* `Day` — день недели.\n",
    "\n",
    "В названиях колонок видны три нарушения стиля:\n",
    "1. Строчные буквы сочетаются с прописными.\n",
    "2. Встречаются пробелы.\n",
    "3. Проблема в написании слов слитно, когда лучше применить нижнее подчеркивание для разделения слов.  \n",
    "\n",
    "Количество значений в столбцах различается. Значит, в данных есть пропущенные значения."
   ]
  },
  {
   "cell_type": "markdown",
   "metadata": {
    "id": "MCB6-dXG_Zct"
   },
   "source": [
    "<div style=\"border:solid green 1px; padding: 10px\">\n",
    "\n",
    "В каждой строке таблицы — данные о прослушанном треке. Часть колонок описывает саму композицию: название, исполнителя и жанр. Остальные данные рассказывают о пользователе: из какого он города, когда он слушал музыку. \n",
    "\n",
    "Предварительно можно утверждать, что, данных достаточно для проверки гипотез. Но встречаются пропуски в данных, а в названиях колонок — расхождения с хорошим стилем.\n",
    "\n",
    "Чтобы двигаться дальше, нужно устранить проблемы в данных."
   ]
  },
  {
   "cell_type": "markdown",
   "metadata": {
    "id": "SjYF6Ub9_Zct"
   },
   "source": [
    "## Предобработка данных\n",
    "Исправим стиль в заголовках столбцов, исключим пропуски. Затем проверим данные на дубликаты."
   ]
  },
  {
   "cell_type": "markdown",
   "metadata": {
    "id": "dIaKXr29_Zct"
   },
   "source": [
    "### Стиль заголовков"
   ]
  },
  {
   "cell_type": "code",
   "execution_count": 5,
   "metadata": {
    "id": "oKOTdF_Q_Zct"
   },
   "outputs": [
    {
     "data": {
      "text/plain": [
       "Index(['  userID', 'Track', 'artist', 'genre', '  City  ', 'time', 'Day'], dtype='object')"
      ]
     },
     "execution_count": 5,
     "metadata": {},
     "output_type": "execute_result"
    }
   ],
   "source": [
    "# перечень названий столбцов таблицы df\n",
    "df.columns"
   ]
  },
  {
   "cell_type": "markdown",
   "metadata": {
    "id": "zj5534cv_Zct"
   },
   "source": [
    "Приведем названия в соответствие с хорошим стилем:\n",
    "* несколько слов в названии запишем в «змеином_регистре»,\n",
    "* все символы сделаем строчными,\n",
    "* устраним пробелы."
   ]
  },
  {
   "cell_type": "code",
   "execution_count": 6,
   "metadata": {
    "id": "ISlFqs5y_Zct"
   },
   "outputs": [],
   "source": [
    "# переименование столбцов\n",
    "df = df.rename(\n",
    "    columns={\n",
    "        '  userID': 'user_id',\n",
    "        'Track': 'track',\n",
    "        '  City  ': 'city',\n",
    "        'Day': 'day'\n",
    "    }\n",
    ")"
   ]
  },
  {
   "cell_type": "code",
   "execution_count": 7,
   "metadata": {
    "id": "d4NOAmTW_Zct"
   },
   "outputs": [
    {
     "data": {
      "text/plain": [
       "Index(['user_id', 'track', 'artist', 'genre', 'city', 'time', 'day'], dtype='object')"
      ]
     },
     "execution_count": 7,
     "metadata": {},
     "output_type": "execute_result"
    }
   ],
   "source": [
    "# проверка результатов - перечень названий столбцов\n",
    "df.columns"
   ]
  },
  {
   "cell_type": "markdown",
   "metadata": {
    "id": "5ISfbcfY_Zct"
   },
   "source": [
    "### Пропуски значений\n"
   ]
  },
  {
   "cell_type": "code",
   "execution_count": 8,
   "metadata": {
    "id": "RskX29qr_Zct"
   },
   "outputs": [
    {
     "data": {
      "text/plain": [
       "user_id       0\n",
       "track      1231\n",
       "artist     7203\n",
       "genre      1198\n",
       "city          0\n",
       "time          0\n",
       "day           0\n",
       "dtype: int64"
      ]
     },
     "execution_count": 8,
     "metadata": {},
     "output_type": "execute_result"
    }
   ],
   "source": [
    "# подсчёт пропусков\n",
    "df.isna().sum()"
   ]
  },
  {
   "cell_type": "markdown",
   "metadata": {
    "id": "qubhgnlO_Zct"
   },
   "source": [
    "Не все пропущенные значения влияют на исследование. Так в `track` и `artist` пропуски не важны для нашей работы. Достаточно заменить их явными обозначениями.\n",
    "\n",
    "Но пропуски в `genre` могут помешать сравнению музыкальных вкусов в Москве и Санкт-Петербурге. На практике было бы правильно установить причину пропусков и восстановить данные. Такой возможности нет в учебном проекте. Придётся:\n",
    "* заполнить и эти пропуски явными обозначениями,\n",
    "* оценить, насколько они повредят расчётам. "
   ]
  },
  {
   "cell_type": "markdown",
   "metadata": {
    "id": "fSv2laPA_Zct"
   },
   "source": [
    "Заменим пропущенные значения в столбцах `track`, `artist` и `genre` на строку `'unknown'`. Для этого создадим список `columns_to_replace`, переберем его элементы циклом `for` и для каждого столбца выполним замену пропущенных значений:"
   ]
  },
  {
   "cell_type": "code",
   "execution_count": 9,
   "metadata": {
    "id": "KplB5qWs_Zct"
   },
   "outputs": [],
   "source": [
    "# перебор названий столбцов в цикле и замена пропущенных значений на 'unknown'\n",
    "columns_to_replace = ['track', 'artist', 'genre']\n",
    "for col in columns_to_replace:\n",
    "    df[col] = df[col].fillna('unknown')"
   ]
  },
  {
   "cell_type": "markdown",
   "metadata": {
    "id": "Ilsm-MZo_Zct"
   },
   "source": [
    "Убедимся, что в таблице не осталось пропусков. Для этого ещё раз посчитаем пропущенные значения."
   ]
  },
  {
   "cell_type": "code",
   "execution_count": 10,
   "metadata": {
    "id": "Tq4nYRX4_Zct"
   },
   "outputs": [
    {
     "data": {
      "text/plain": [
       "user_id    0\n",
       "track      0\n",
       "artist     0\n",
       "genre      0\n",
       "city       0\n",
       "time       0\n",
       "day        0\n",
       "dtype: int64"
      ]
     },
     "execution_count": 10,
     "metadata": {},
     "output_type": "execute_result"
    }
   ],
   "source": [
    "# подсчёт пропусков\n",
    "df.isna().sum()"
   ]
  },
  {
   "cell_type": "markdown",
   "metadata": {
    "id": "BWKRtBJ3_Zct"
   },
   "source": [
    "### Дубликаты"
   ]
  },
  {
   "cell_type": "code",
   "execution_count": 11,
   "metadata": {
    "id": "36eES_S0_Zct"
   },
   "outputs": [
    {
     "data": {
      "text/plain": [
       "3826"
      ]
     },
     "execution_count": 11,
     "metadata": {},
     "output_type": "execute_result"
    }
   ],
   "source": [
    "# подсчёт явных дубликатов\n",
    "df.duplicated().sum()"
   ]
  },
  {
   "cell_type": "code",
   "execution_count": 12,
   "metadata": {
    "id": "exFHq6tt_Zct"
   },
   "outputs": [],
   "source": [
    "# удаление явных дубликатов (с удалением старых индексов и формированием новых)\n",
    "df = df.drop_duplicates().reset_index(drop=True)"
   ]
  },
  {
   "cell_type": "markdown",
   "metadata": {
    "id": "Im2YwBEG_Zct"
   },
   "source": [
    "Ещё раз посчитаем явные дубликаты в таблице чтобы убедиться, что полностью от них избавились:"
   ]
  },
  {
   "cell_type": "code",
   "execution_count": 13,
   "metadata": {
    "id": "-8PuNWQ0_Zct"
   },
   "outputs": [
    {
     "data": {
      "text/plain": [
       "0"
      ]
     },
     "execution_count": 13,
     "metadata": {},
     "output_type": "execute_result"
    }
   ],
   "source": [
    "# проверка на отсутствие дубликатов\n",
    "df.duplicated().sum()"
   ]
  },
  {
   "cell_type": "markdown",
   "metadata": {
    "id": "QlFBsxAr_Zct"
   },
   "source": [
    "Теперь избавимся от неявных дубликатов в колонке `genre`. Например, название одного и того же жанра может быть записано немного по-разному. Такие ошибки тоже повлияют на результат исследования."
   ]
  },
  {
   "cell_type": "markdown",
   "metadata": {
    "id": "eSjWwsOh_Zct"
   },
   "source": [
    "Выведем на экран список уникальных названий жанров, отсортированный в алфавитном порядке. Для этого необходимо:\n",
    "* извлечь нужный столбец датафрейма, \n",
    "* применить к нему метод сортировки,\n",
    "* для отсортированного столбца вызвать метод, который вернёт уникальные значения из столбца."
   ]
  },
  {
   "cell_type": "code",
   "execution_count": 14,
   "metadata": {
    "id": "JIUcqzZN_Zct",
    "scrolled": true
   },
   "outputs": [
    {
     "data": {
      "text/plain": [
       "array(['acid', 'acoustic', 'action', 'adult', 'africa', 'afrikaans',\n",
       "       'alternative', 'alternativepunk', 'ambient', 'americana',\n",
       "       'animated', 'anime', 'arabesk', 'arabic', 'arena',\n",
       "       'argentinetango', 'art', 'audiobook', 'author', 'avantgarde',\n",
       "       'axé', 'baile', 'balkan', 'beats', 'bigroom', 'black', 'bluegrass',\n",
       "       'blues', 'bollywood', 'bossa', 'brazilian', 'breakbeat', 'breaks',\n",
       "       'broadway', 'cantautori', 'cantopop', 'canzone', 'caribbean',\n",
       "       'caucasian', 'celtic', 'chamber', 'chanson', 'children', 'chill',\n",
       "       'chinese', 'choral', 'christian', 'christmas', 'classical',\n",
       "       'classicmetal', 'club', 'colombian', 'comedy', 'conjazz',\n",
       "       'contemporary', 'country', 'cuban', 'dance', 'dancehall',\n",
       "       'dancepop', 'dark', 'death', 'deep', 'deutschrock', 'deutschspr',\n",
       "       'dirty', 'disco', 'dnb', 'documentary', 'downbeat', 'downtempo',\n",
       "       'drum', 'dub', 'dubstep', 'eastern', 'easy', 'electronic',\n",
       "       'electropop', 'emo', 'entehno', 'epicmetal', 'estrada', 'ethnic',\n",
       "       'eurofolk', 'european', 'experimental', 'extrememetal', 'fado',\n",
       "       'fairytail', 'film', 'fitness', 'flamenco', 'folk', 'folklore',\n",
       "       'folkmetal', 'folkrock', 'folktronica', 'forró', 'frankreich',\n",
       "       'französisch', 'french', 'funk', 'future', 'gangsta', 'garage',\n",
       "       'german', 'ghazal', 'gitarre', 'glitch', 'gospel', 'gothic',\n",
       "       'grime', 'grunge', 'gypsy', 'handsup', \"hard'n'heavy\", 'hardcore',\n",
       "       'hardstyle', 'hardtechno', 'hip', 'hip-hop', 'hiphop',\n",
       "       'historisch', 'holiday', 'hop', 'horror', 'house', 'hymn', 'idm',\n",
       "       'independent', 'indian', 'indie', 'indipop', 'industrial',\n",
       "       'inspirational', 'instrumental', 'international', 'irish', 'jam',\n",
       "       'japanese', 'jazz', 'jewish', 'jpop', 'jungle', 'k-pop',\n",
       "       'karadeniz', 'karaoke', 'kayokyoku', 'korean', 'laiko', 'latin',\n",
       "       'latino', 'leftfield', 'local', 'lounge', 'loungeelectronic',\n",
       "       'lovers', 'malaysian', 'mandopop', 'marschmusik', 'meditative',\n",
       "       'mediterranean', 'melodic', 'metal', 'metalcore', 'mexican',\n",
       "       'middle', 'minimal', 'miscellaneous', 'modern', 'mood', 'mpb',\n",
       "       'muslim', 'native', 'neoklassik', 'neue', 'new', 'newage',\n",
       "       'newwave', 'nu', 'nujazz', 'numetal', 'oceania', 'old', 'opera',\n",
       "       'orchestral', 'other', 'piano', 'podcasts', 'pop', 'popdance',\n",
       "       'popelectronic', 'popeurodance', 'poprussian', 'post',\n",
       "       'posthardcore', 'postrock', 'power', 'progmetal', 'progressive',\n",
       "       'psychedelic', 'punjabi', 'punk', 'quebecois', 'ragga', 'ram',\n",
       "       'rancheras', 'rap', 'rave', 'reggae', 'reggaeton', 'regional',\n",
       "       'relax', 'religious', 'retro', 'rhythm', 'rnb', 'rnr', 'rock',\n",
       "       'rockabilly', 'rockalternative', 'rockindie', 'rockother',\n",
       "       'romance', 'roots', 'ruspop', 'rusrap', 'rusrock', 'russian',\n",
       "       'salsa', 'samba', 'scenic', 'schlager', 'self', 'sertanejo',\n",
       "       'shanson', 'shoegazing', 'showtunes', 'singer', 'ska', 'skarock',\n",
       "       'slow', 'smooth', 'soft', 'soul', 'soulful', 'sound', 'soundtrack',\n",
       "       'southern', 'specialty', 'speech', 'spiritual', 'sport',\n",
       "       'stonerrock', 'surf', 'swing', 'synthpop', 'synthrock',\n",
       "       'sängerportrait', 'tango', 'tanzorchester', 'taraftar', 'tatar',\n",
       "       'tech', 'techno', 'teen', 'thrash', 'top', 'traditional',\n",
       "       'tradjazz', 'trance', 'tribal', 'trip', 'triphop', 'tropical',\n",
       "       'türk', 'türkçe', 'ukrrock', 'unknown', 'urban', 'uzbek',\n",
       "       'variété', 'vi', 'videogame', 'vocal', 'western', 'world',\n",
       "       'worldbeat', 'ïîï', 'электроника'], dtype=object)"
      ]
     },
     "execution_count": 14,
     "metadata": {},
     "output_type": "execute_result"
    }
   ],
   "source": [
    "# Просмотр уникальных названий жанров\n",
    "df['genre'].sort_values().unique()"
   ]
  },
  {
   "cell_type": "markdown",
   "metadata": {
    "id": "qej-Qmuo_Zct"
   },
   "source": [
    "При просмотре списока выявлены неявные дубликаты названия `hiphop` и `electronic`. Это могут быть названия с ошибками или альтернативные названия того же жанра:\n",
    "\n",
    "* *hip*,\n",
    "* *hop*,\n",
    "* *hip-hop*,\n",
    "* *электроника*.\n",
    "\n",
    "Чтобы очистить от них таблицу, напишем функцию `replace_wrong_genres()` с двумя параметрами: \n",
    "* `wrong_genres` — список дубликатов,\n",
    "* `correct_genre` — строка с правильным значением.\n",
    "\n",
    "Функция должна исправить колонку `genre` в таблице `df`: заменить каждое значение из списка `wrong_genres` на значение из `correct_genre`."
   ]
  },
  {
   "cell_type": "code",
   "execution_count": 15,
   "metadata": {
    "id": "ErNDkmns_Zct"
   },
   "outputs": [],
   "source": [
    "# Функция для замены неявных дубликатов\n",
    "def replace_wrong_genres(wrong_genres, correct_genre):\n",
    "    for wrong_genre in wrong_genres:\n",
    "        df['genre'] = df['genre'].replace(wrong_genre, correct_genre)\n",
    "        \n",
    "duplicates = ['hip', 'hop', 'hip-hop']\n",
    "correct_name = 'hiphop'"
   ]
  },
  {
   "cell_type": "code",
   "execution_count": 40,
   "metadata": {
    "id": "YN5i2hpmSo09"
   },
   "outputs": [],
   "source": [
    "# Устранение неявных дубликатов\n",
    "replace_wrong_genres(duplicates, correct_name)\n",
    "\n",
    "df['genre'] = df['genre'].replace('электроника', 'electronic')"
   ]
  },
  {
   "cell_type": "markdown",
   "metadata": {
    "id": "zQKF16_RG15m"
   },
   "source": [
    "Проверим, что заменили неправильные названия:\n",
    "\n",
    "*   hip\n",
    "*   hop\n",
    "*   hip-hop\n",
    "* электроника\n",
    "\n",
    "Вывев отсортированный список уникальных значений столбца `genre`:"
   ]
  },
  {
   "cell_type": "code",
   "execution_count": 18,
   "metadata": {
    "id": "wvixALnFG15m",
    "scrolled": true
   },
   "outputs": [
    {
     "data": {
      "text/plain": [
       "array(['acid', 'acoustic', 'action', 'adult', 'africa', 'afrikaans',\n",
       "       'alternative', 'alternativepunk', 'ambient', 'americana',\n",
       "       'animated', 'anime', 'arabesk', 'arabic', 'arena',\n",
       "       'argentinetango', 'art', 'audiobook', 'author', 'avantgarde',\n",
       "       'axé', 'baile', 'balkan', 'beats', 'bigroom', 'black', 'bluegrass',\n",
       "       'blues', 'bollywood', 'bossa', 'brazilian', 'breakbeat', 'breaks',\n",
       "       'broadway', 'cantautori', 'cantopop', 'canzone', 'caribbean',\n",
       "       'caucasian', 'celtic', 'chamber', 'chanson', 'children', 'chill',\n",
       "       'chinese', 'choral', 'christian', 'christmas', 'classical',\n",
       "       'classicmetal', 'club', 'colombian', 'comedy', 'conjazz',\n",
       "       'contemporary', 'country', 'cuban', 'dance', 'dancehall',\n",
       "       'dancepop', 'dark', 'death', 'deep', 'deutschrock', 'deutschspr',\n",
       "       'dirty', 'disco', 'dnb', 'documentary', 'downbeat', 'downtempo',\n",
       "       'drum', 'dub', 'dubstep', 'eastern', 'easy', 'electronic',\n",
       "       'electropop', 'emo', 'entehno', 'epicmetal', 'estrada', 'ethnic',\n",
       "       'eurofolk', 'european', 'experimental', 'extrememetal', 'fado',\n",
       "       'fairytail', 'film', 'fitness', 'flamenco', 'folk', 'folklore',\n",
       "       'folkmetal', 'folkrock', 'folktronica', 'forró', 'frankreich',\n",
       "       'französisch', 'french', 'funk', 'future', 'gangsta', 'garage',\n",
       "       'german', 'ghazal', 'gitarre', 'glitch', 'gospel', 'gothic',\n",
       "       'grime', 'grunge', 'gypsy', 'handsup', \"hard'n'heavy\", 'hardcore',\n",
       "       'hardstyle', 'hardtechno', 'hiphop', 'historisch', 'holiday',\n",
       "       'horror', 'house', 'hymn', 'idm', 'independent', 'indian', 'indie',\n",
       "       'indipop', 'industrial', 'inspirational', 'instrumental',\n",
       "       'international', 'irish', 'jam', 'japanese', 'jazz', 'jewish',\n",
       "       'jpop', 'jungle', 'k-pop', 'karadeniz', 'karaoke', 'kayokyoku',\n",
       "       'korean', 'laiko', 'latin', 'latino', 'leftfield', 'local',\n",
       "       'lounge', 'loungeelectronic', 'lovers', 'malaysian', 'mandopop',\n",
       "       'marschmusik', 'meditative', 'mediterranean', 'melodic', 'metal',\n",
       "       'metalcore', 'mexican', 'middle', 'minimal', 'miscellaneous',\n",
       "       'modern', 'mood', 'mpb', 'muslim', 'native', 'neoklassik', 'neue',\n",
       "       'new', 'newage', 'newwave', 'nu', 'nujazz', 'numetal', 'oceania',\n",
       "       'old', 'opera', 'orchestral', 'other', 'piano', 'podcasts', 'pop',\n",
       "       'popdance', 'popelectronic', 'popeurodance', 'poprussian', 'post',\n",
       "       'posthardcore', 'postrock', 'power', 'progmetal', 'progressive',\n",
       "       'psychedelic', 'punjabi', 'punk', 'quebecois', 'ragga', 'ram',\n",
       "       'rancheras', 'rap', 'rave', 'reggae', 'reggaeton', 'regional',\n",
       "       'relax', 'religious', 'retro', 'rhythm', 'rnb', 'rnr', 'rock',\n",
       "       'rockabilly', 'rockalternative', 'rockindie', 'rockother',\n",
       "       'romance', 'roots', 'ruspop', 'rusrap', 'rusrock', 'russian',\n",
       "       'salsa', 'samba', 'scenic', 'schlager', 'self', 'sertanejo',\n",
       "       'shanson', 'shoegazing', 'showtunes', 'singer', 'ska', 'skarock',\n",
       "       'slow', 'smooth', 'soft', 'soul', 'soulful', 'sound', 'soundtrack',\n",
       "       'southern', 'specialty', 'speech', 'spiritual', 'sport',\n",
       "       'stonerrock', 'surf', 'swing', 'synthpop', 'synthrock',\n",
       "       'sängerportrait', 'tango', 'tanzorchester', 'taraftar', 'tatar',\n",
       "       'tech', 'techno', 'teen', 'thrash', 'top', 'traditional',\n",
       "       'tradjazz', 'trance', 'tribal', 'trip', 'triphop', 'tropical',\n",
       "       'türk', 'türkçe', 'ukrrock', 'unknown', 'urban', 'uzbek',\n",
       "       'variété', 'vi', 'videogame', 'vocal', 'western', 'world',\n",
       "       'worldbeat', 'ïîï'], dtype=object)"
      ]
     },
     "execution_count": 18,
     "metadata": {},
     "output_type": "execute_result"
    }
   ],
   "source": [
    "# Проверка на неявные дубликаты\n",
    "df['genre'].sort_values().unique()"
   ]
  },
  {
   "cell_type": "markdown",
   "metadata": {
    "id": "jz6a9-7HQUDd"
   },
   "source": [
    "<div style=\"border:solid green 1px; padding: 10px\">\n",
    "\n",
    "Предобработка обнаружила три проблемы в данных:\n",
    "\n",
    "- нарушения в стиле заголовков,\n",
    "- пропущенные значения,\n",
    "- дубликаты — явные и неявные.\n",
    "\n",
    "Мы исправили заголовки, чтобы упростить работу с таблицей. Без дубликатов исследование станет более точным.\n",
    "\n",
    "Пропущенные значения заменили на `'unknown'`. Ещё предстоит увидеть, не повредят ли исследованию пропуски в колонке `genre`.\n",
    "\n",
    "Теперь можно перейти к проверке гипотез. "
   ]
  },
  {
   "cell_type": "markdown",
   "metadata": {
    "id": "WttZHXH0SqKk"
   },
   "source": [
    "## Проверка гипотез"
   ]
  },
  {
   "cell_type": "markdown",
   "metadata": {
    "id": "Im936VVi_Zcu"
   },
   "source": [
    "### Сравнение поведения пользователей двух столиц"
   ]
  },
  {
   "cell_type": "markdown",
   "metadata": {
    "id": "nwt_MuaL_Zcu"
   },
   "source": [
    "Первая гипотеза утверждает, что пользователи по-разному слушают музыку в Москве и Санкт-Петербурге. Проверим это предположение по данным о трёх днях недели — понедельнике, среде и пятнице. Для этого:\n",
    "\n",
    "* Разделим пользователей Москвы и Санкт-Петербурга\n",
    "* Сравним, сколько треков послушала каждая группа пользователей в понедельник, среду и пятницу.\n"
   ]
  },
  {
   "cell_type": "markdown",
   "metadata": {
    "id": "8Dw_YMmT_Zcu"
   },
   "source": [
    "Оценим активность пользователей в каждом городе. Сгруппируем данные по городу и посчитаем прослушивания в каждой группе."
   ]
  },
  {
   "cell_type": "code",
   "execution_count": 19,
   "metadata": {
    "id": "0_Qs96oh_Zcu"
   },
   "outputs": [
    {
     "data": {
      "text/plain": [
       "city\n",
       "Moscow              42741\n",
       "Saint-Petersburg    18512\n",
       "Name: track, dtype: int64"
      ]
     },
     "execution_count": 19,
     "metadata": {},
     "output_type": "execute_result"
    }
   ],
   "source": [
    "# Подсчёт прослушиваний в каждом городе\n",
    "df.groupby('city')['track'].count()"
   ]
  },
  {
   "cell_type": "markdown",
   "metadata": {
    "id": "dzli3w8o_Zcu"
   },
   "source": [
    "В Москве прослушиваний больше, чем в Санкт-Петербурге. Из этого не следует, что московские пользователи чаще слушают музыку. Просто самих пользователей в Москве больше.\n",
    "\n",
    "Теперь сгруппирем данные по дню недели и подсчитаем прослушивания в понедельник, среду и пятницу(в данных есть информация о прослушиваниях только за эти дни)."
   ]
  },
  {
   "cell_type": "code",
   "execution_count": 20,
   "metadata": {
    "id": "uZMKjiJz_Zcu"
   },
   "outputs": [
    {
     "data": {
      "text/plain": [
       "day\n",
       "Friday       21840\n",
       "Monday       21354\n",
       "Wednesday    18059\n",
       "Name: track, dtype: int64"
      ]
     },
     "execution_count": 20,
     "metadata": {},
     "output_type": "execute_result"
    }
   ],
   "source": [
    "# Подсчёт прослушиваний в каждый из трёх дней\n",
    "df.groupby('day')['track'].count()"
   ]
  },
  {
   "cell_type": "markdown",
   "metadata": {
    "id": "cC2tNrlL_Zcu"
   },
   "source": [
    "В среднем пользователи из двух городов менее активны по средам. Но картина может измениться, если рассмотреть каждый город в отдельности."
   ]
  },
  {
   "cell_type": "markdown",
   "metadata": {
    "id": "POzs8bGa_Zcu"
   },
   "source": [
    "Напишем функцию `number_tracks()`, которая посчитает прослушивания для заданного дня и города. Ей понадобятся два параметра:\n",
    "* день недели,\n",
    "* название города.\n",
    "\n",
    "В функции сохраним в переменную строки исходной таблицы, у которых значение:\n",
    "  * в колонке `day` равно параметру `day`,\n",
    "  * в колонке `city` равно параметру `city`.\n",
    "\n",
    "Для этого применим последовательную фильтрацию с логической индексацией.\n",
    "\n",
    "Затем посчитаем значения в столбце `user_id` получившейся таблицы. Результат сохраним в новую переменную. Вернем эту переменную из функции."
   ]
  },
  {
   "cell_type": "code",
   "execution_count": 21,
   "metadata": {
    "id": "Nz3GdQB1_Zcu"
   },
   "outputs": [],
   "source": [
    "# Функция для подсчёта прослушиваний для конкретного города и дня\n",
    "def number_tracks(day, city):\n",
    "    track_list = df[df['day'] == day]\n",
    "    track_list = track_list[track_list['city'] == city]\n",
    "    track_list_count = track_list['user_id'].count()\n",
    "    return track_list_count"
   ]
  },
  {
   "cell_type": "markdown",
   "metadata": {
    "id": "ytf7xFrFJQ2r"
   },
   "source": [
    "Вызовем `number_tracks()` шесть раз, меняя значение параметров — так, чтобы получить данные для каждого города в каждый из трёх дней."
   ]
  },
  {
   "cell_type": "code",
   "execution_count": 22,
   "metadata": {
    "id": "rJcRATNQ_Zcu"
   },
   "outputs": [
    {
     "data": {
      "text/plain": [
       "15740"
      ]
     },
     "execution_count": 22,
     "metadata": {},
     "output_type": "execute_result"
    }
   ],
   "source": [
    "# количество прослушиваний в Москве по понедельникам\n",
    "number_tracks('Monday', 'Moscow')"
   ]
  },
  {
   "cell_type": "code",
   "execution_count": 23,
   "metadata": {
    "id": "hq_ncZ5T_Zcu"
   },
   "outputs": [
    {
     "data": {
      "text/plain": [
       "5614"
      ]
     },
     "execution_count": 23,
     "metadata": {},
     "output_type": "execute_result"
    }
   ],
   "source": [
    "# количество прослушиваний в Санкт-Петербурге по понедельникам\n",
    "number_tracks('Monday', 'Saint-Petersburg')"
   ]
  },
  {
   "cell_type": "code",
   "execution_count": 24,
   "metadata": {
    "id": "_NTy2VPU_Zcu"
   },
   "outputs": [
    {
     "data": {
      "text/plain": [
       "11056"
      ]
     },
     "execution_count": 24,
     "metadata": {},
     "output_type": "execute_result"
    }
   ],
   "source": [
    "# количество прослушиваний в Москве по средам\n",
    "number_tracks('Wednesday', 'Moscow')"
   ]
  },
  {
   "cell_type": "code",
   "execution_count": 25,
   "metadata": {
    "id": "j2y3TAwo_Zcu"
   },
   "outputs": [
    {
     "data": {
      "text/plain": [
       "7003"
      ]
     },
     "execution_count": 25,
     "metadata": {},
     "output_type": "execute_result"
    }
   ],
   "source": [
    "# количество прослушиваний в Санкт-Петербурге по средам\n",
    "number_tracks('Wednesday', 'Saint-Petersburg')"
   ]
  },
  {
   "cell_type": "code",
   "execution_count": 26,
   "metadata": {
    "id": "vYDw5u_K_Zcu"
   },
   "outputs": [
    {
     "data": {
      "text/plain": [
       "15945"
      ]
     },
     "execution_count": 26,
     "metadata": {},
     "output_type": "execute_result"
    }
   ],
   "source": [
    "# количество прослушиваний в Москве по пятницам\n",
    "number_tracks('Friday', 'Moscow')"
   ]
  },
  {
   "cell_type": "code",
   "execution_count": 27,
   "metadata": {
    "id": "8_yzFtW3_Zcu"
   },
   "outputs": [
    {
     "data": {
      "text/plain": [
       "5895"
      ]
     },
     "execution_count": 27,
     "metadata": {},
     "output_type": "execute_result"
    }
   ],
   "source": [
    "# количество прослушиваний в Санкт-Петербурге по пятницам\n",
    "number_tracks('Friday', 'Saint-Petersburg')"
   ]
  },
  {
   "cell_type": "markdown",
   "metadata": {
    "id": "7QXffbO-_Zcu"
   },
   "source": [
    "Создадим c помощью конструктора `pd.DataFrame` таблицу, где:\n",
    "* названия колонок — `['city', 'monday', 'wednesday', 'friday']`;\n",
    "* данные — результаты, которые вы получили с помощью `number_tracks`."
   ]
  },
  {
   "cell_type": "code",
   "execution_count": 28,
   "metadata": {
    "id": "APAcLpOr_Zcu"
   },
   "outputs": [
    {
     "data": {
      "text/html": [
       "<div>\n",
       "<style scoped>\n",
       "    .dataframe tbody tr th:only-of-type {\n",
       "        vertical-align: middle;\n",
       "    }\n",
       "\n",
       "    .dataframe tbody tr th {\n",
       "        vertical-align: top;\n",
       "    }\n",
       "\n",
       "    .dataframe thead th {\n",
       "        text-align: right;\n",
       "    }\n",
       "</style>\n",
       "<table border=\"1\" class=\"dataframe\">\n",
       "  <thead>\n",
       "    <tr style=\"text-align: right;\">\n",
       "      <th></th>\n",
       "      <th>city</th>\n",
       "      <th>monday</th>\n",
       "      <th>wednesday</th>\n",
       "      <th>friday</th>\n",
       "    </tr>\n",
       "  </thead>\n",
       "  <tbody>\n",
       "    <tr>\n",
       "      <th>0</th>\n",
       "      <td>Moscow</td>\n",
       "      <td>15740</td>\n",
       "      <td>11056</td>\n",
       "      <td>15945</td>\n",
       "    </tr>\n",
       "    <tr>\n",
       "      <th>1</th>\n",
       "      <td>Saint-Petersburg</td>\n",
       "      <td>5614</td>\n",
       "      <td>7003</td>\n",
       "      <td>5895</td>\n",
       "    </tr>\n",
       "  </tbody>\n",
       "</table>\n",
       "</div>"
      ],
      "text/plain": [
       "               city  monday  wednesday  friday\n",
       "0            Moscow   15740      11056   15945\n",
       "1  Saint-Petersburg    5614       7003    5895"
      ]
     },
     "execution_count": 28,
     "metadata": {},
     "output_type": "execute_result"
    }
   ],
   "source": [
    "# Таблица с результатами\n",
    "columns = ['city', 'monday', 'wednesday', 'friday']\n",
    "data = [\n",
    "    ['Moscow', 15740, 11056, 15945],\n",
    "    ['Saint-Petersburg', 5614, 7003, 5895]\n",
    "]\n",
    "\n",
    "pd.DataFrame(data=data, columns=columns)"
   ]
  },
  {
   "cell_type": "markdown",
   "metadata": {
    "id": "-EgPIHYu_Zcu"
   },
   "source": [
    "<div style=\"border:solid green 1px; padding: 10px\">\n",
    "\n",
    "Данные показывают разницу поведения пользователей:\n",
    "\n",
    "- В Москве пик прослушиваний приходится на понедельник и пятницу, а в среду заметен спад.\n",
    "- В Санкт-Петербурге, наоборот, больше слушают музыку по средам. Активность в понедельник и пятницу здесь, почти в равной мере, уступает среде.\n",
    "\n",
    "Значит, данные говорят в пользу первой гипотезы."
   ]
  },
  {
   "cell_type": "markdown",
   "metadata": {
    "id": "atZAxtq4_Zcu"
   },
   "source": [
    "### Музыка в начале и в конце недели"
   ]
  },
  {
   "cell_type": "markdown",
   "metadata": {
    "id": "eXrQqXFH_Zcu"
   },
   "source": [
    "Согласно второй гипотезе, утром в понедельник в Москве преобладают одни жанры, а в Санкт-Петербурге — другие. Так же и вечером пятницы преобладают разные жанры — в зависимости от города."
   ]
  },
  {
   "cell_type": "markdown",
   "metadata": {
    "id": "S8UcW6Hw_Zcu"
   },
   "source": [
    "Сохраним таблицы с данными в две переменные:\n",
    "* по Москве — в `moscow_general`;\n",
    "* по Санкт-Петербургу — в `spb_general`."
   ]
  },
  {
   "cell_type": "code",
   "execution_count": 29,
   "metadata": {
    "id": "qeaFfM_P_Zcu"
   },
   "outputs": [],
   "source": [
    "# получение таблицы moscow_general из тех строк таблицы df, \n",
    "# для которых значение в столбце 'city' равно 'Moscow'\n",
    "moscow_general = df[df['city'] == 'Moscow']"
   ]
  },
  {
   "cell_type": "code",
   "execution_count": 30,
   "metadata": {
    "id": "ORaVRKto_Zcu"
   },
   "outputs": [],
   "source": [
    "# получение таблицы spb_general из тех строк таблицы df,\n",
    "# для которых значение в столбце 'city' равно 'Saint-Petersburg'\n",
    "spb_general = df[df['city'] == 'Saint-Petersburg']"
   ]
  },
  {
   "cell_type": "markdown",
   "metadata": {
    "id": "MEJV-CX2_Zcu"
   },
   "source": [
    "Создадим функцию `genre_weekday()` с четырьмя параметрами:\n",
    "* таблица (датафрейм) с данными,\n",
    "* день недели,\n",
    "* начальная временная метка в формате 'hh:mm', \n",
    "* последняя временная метка в формате 'hh:mm'.\n",
    "\n",
    "Функция должна вернуть информацию о топ-10 жанров тех треков, которые прослушивали в указанный день, в промежутке между двумя отметками времени."
   ]
  },
  {
   "cell_type": "code",
   "execution_count": 31,
   "metadata": {
    "id": "laJT9BYl_Zcu"
   },
   "outputs": [],
   "source": [
    "# Объявление функции genre_weekday() с параметрами table, day, time1, time2,\n",
    "# которая возвращает информацию о самых популярных жанрах в указанный день в\n",
    "# заданное время\n",
    "def genre_weekday(table, day, time1, time2):\n",
    "    genre_df = table[table['day'] == day]\n",
    "    genre_df = genre_df[genre_df['time'] > time1]\n",
    "    genre_df = genre_df[genre_df['time'] < time2]\n",
    "    genre_df_count = genre_df.groupby('genre')['genre'].count()\n",
    "    genre_df_sorted = genre_df_count.sort_values(ascending=False)\n",
    "    return genre_df_sorted.head(10)"
   ]
  },
  {
   "cell_type": "markdown",
   "metadata": {
    "id": "la2s2_PF_Zcu"
   },
   "source": [
    "Cравним результаты функции `genre_weekday()` для Москвы и Санкт-Петербурга в понедельник утром (с 7:00 до 11:00) и в пятницу вечером (с 17:00 до 23:00):"
   ]
  },
  {
   "cell_type": "code",
   "execution_count": 32,
   "metadata": {
    "id": "yz7itPUQ_Zcu"
   },
   "outputs": [
    {
     "data": {
      "text/plain": [
       "genre\n",
       "pop            781\n",
       "dance          549\n",
       "electronic     480\n",
       "rock           474\n",
       "hiphop         286\n",
       "ruspop         186\n",
       "world          181\n",
       "rusrap         175\n",
       "alternative    164\n",
       "unknown        161\n",
       "Name: genre, dtype: int64"
      ]
     },
     "execution_count": 32,
     "metadata": {},
     "output_type": "execute_result"
    }
   ],
   "source": [
    "# вызов функции\n",
    "genre_weekday(moscow_general, 'Monday', '07:00', '11:00')"
   ]
  },
  {
   "cell_type": "code",
   "execution_count": 33,
   "metadata": {
    "id": "kwUcHPdy_Zcu"
   },
   "outputs": [
    {
     "data": {
      "text/plain": [
       "genre\n",
       "pop            218\n",
       "dance          182\n",
       "rock           162\n",
       "electronic     147\n",
       "hiphop          80\n",
       "ruspop          64\n",
       "alternative     58\n",
       "rusrap          55\n",
       "jazz            44\n",
       "classical       40\n",
       "Name: genre, dtype: int64"
      ]
     },
     "execution_count": 33,
     "metadata": {},
     "output_type": "execute_result"
    }
   ],
   "source": [
    "# вызов функции для утра понедельника в Петербурге (вместо df — таблица spb_general)\n",
    "genre_weekday(spb_general, 'Monday', '07:00', '11:00')"
   ]
  },
  {
   "cell_type": "code",
   "execution_count": 34,
   "metadata": {
    "id": "EzXVRE1o_Zcu"
   },
   "outputs": [
    {
     "data": {
      "text/plain": [
       "genre\n",
       "pop            713\n",
       "rock           517\n",
       "dance          495\n",
       "electronic     482\n",
       "hiphop         273\n",
       "world          208\n",
       "ruspop         170\n",
       "alternative    163\n",
       "classical      163\n",
       "rusrap         142\n",
       "Name: genre, dtype: int64"
      ]
     },
     "execution_count": 34,
     "metadata": {},
     "output_type": "execute_result"
    }
   ],
   "source": [
    "# вызов функции для вечера пятницы в Москве\n",
    "genre_weekday(moscow_general, 'Friday', '17:00', '23:00')"
   ]
  },
  {
   "cell_type": "code",
   "execution_count": 35,
   "metadata": {
    "id": "JZaEKu5v_Zcu"
   },
   "outputs": [
    {
     "data": {
      "text/plain": [
       "genre\n",
       "pop            256\n",
       "electronic     216\n",
       "rock           216\n",
       "dance          210\n",
       "hiphop          97\n",
       "alternative     63\n",
       "jazz            61\n",
       "classical       60\n",
       "rusrap          59\n",
       "world           54\n",
       "Name: genre, dtype: int64"
      ]
     },
     "execution_count": 35,
     "metadata": {},
     "output_type": "execute_result"
    }
   ],
   "source": [
    "# вызов функции для вечера пятницы в Петербурге\n",
    "genre_weekday(spb_general, 'Friday', '17:00', '23:00')"
   ]
  },
  {
   "cell_type": "markdown",
   "metadata": {
    "id": "wrCe4MNX_Zcu"
   },
   "source": [
    "<div style=\"border:solid green 1px; padding: 10px\">\n",
    "\n",
    "Если сравнить топ-10 жанров в понедельник утром, можно сделать такие выводы:\n",
    "\n",
    "1. В Москве и Санкт-етербурге слушают похожую музыку. Единственное отличие — в московский рейтинг вошёл жанр `world`, а в петербургский — `jazz` и `classical`.\n",
    "\n",
    "2. В Москве пропущенных значений оказалось так много, что значение `'unknown'` заняло десятое место среди самых популярных жанров. Значит, пропущенные значения занимают существенную долю в данных и угрожают достоверности исследования.\n",
    "\n",
    "Вечер пятницы не меняет эту картину. Некоторые жанры поднимаются немного выше, другие спускаются, но в целом топ-10 остаётся тем же самым.\n",
    "\n",
    "Таким образом, вторая гипотеза подтвердилась лишь частично:\n",
    "* Пользователи слушают похожую музыку в начале недели и в конце.\n",
    "* Разница между Москвой и Санкт-Петербургом не слишком выражена. В Москве чаще слушают русскую популярную музыку, в Санкт-Петербурге — джаз.\n",
    "\n",
    "Однако пропуски в данных ставят под сомнение этот результат. В Москве их так много, что рейтинг топ-10 мог бы выглядеть иначе, если бы не утерянные данные о жанрах."
   ]
  },
  {
   "cell_type": "markdown",
   "metadata": {
    "id": "JolODAqr_Zcu"
   },
   "source": [
    "### Жанровые предпочтения в Москве и Санкт-Петербурге\n",
    "\n",
    "Гипотеза:\n",
    "\n",
    "Санкт-Петербург — столица рэпа, музыку этого жанра там слушают чаще, чем в Москве. А Москва — город контрастов, в котором, тем не менее, преобладает поп-музыка."
   ]
  },
  {
   "cell_type": "markdown",
   "metadata": {
    "id": "DlegSvaT_Zcu"
   },
   "source": [
    "Сгруппирем таблицу `moscow_general` по жанру и посчитаем прослушивания треков каждого жанра методом `count()`. Затем отсортируем результат в порядке убывания и сохраним его в таблице `moscow_genres`."
   ]
  },
  {
   "cell_type": "code",
   "execution_count": 36,
   "metadata": {
    "id": "r19lIPke_Zcu"
   },
   "outputs": [],
   "source": [
    "moscow_genres = moscow_general.groupby('genre')['genre'].count().sort_values(ascending=False)"
   ]
  },
  {
   "cell_type": "code",
   "execution_count": 37,
   "metadata": {
    "id": "WhCSooF8_Zcv"
   },
   "outputs": [
    {
     "data": {
      "text/plain": [
       "genre\n",
       "pop            5892\n",
       "dance          4435\n",
       "rock           3965\n",
       "electronic     3786\n",
       "hiphop         2096\n",
       "classical      1616\n",
       "world          1432\n",
       "alternative    1379\n",
       "ruspop         1372\n",
       "rusrap         1161\n",
       "Name: genre, dtype: int64"
      ]
     },
     "execution_count": 37,
     "metadata": {},
     "output_type": "execute_result"
    }
   ],
   "source": [
    "# просмотр первых 10 строк moscow_genres\n",
    "moscow_genres.head(10)"
   ]
  },
  {
   "cell_type": "markdown",
   "metadata": {
    "id": "cnPG2vnN_Zcv"
   },
   "source": [
    "Теперь повторите то же и для Санкт-Петербурга.\n",
    "\n",
    "Сгруппирем таблицу `spb_general` по жанру. Посчитем прослушивания треков каждого жанра. Результат отсортирем в порядке убывания и сохраним в таблице `spb_genres`:"
   ]
  },
  {
   "cell_type": "code",
   "execution_count": 38,
   "metadata": {
    "id": "gluLIpE7_Zcv"
   },
   "outputs": [],
   "source": [
    "spb_genres = spb_general.groupby('genre')['genre'].count().sort_values(ascending=False)"
   ]
  },
  {
   "cell_type": "markdown",
   "metadata": {
    "id": "5Doha_ODgyQ8"
   },
   "source": [
    "Выведем на экран первые десять строк `spb_genres`:"
   ]
  },
  {
   "cell_type": "code",
   "execution_count": 39,
   "metadata": {
    "id": "uaGJHjVU_Zcv"
   },
   "outputs": [
    {
     "data": {
      "text/plain": [
       "genre\n",
       "pop            2431\n",
       "dance          1932\n",
       "rock           1879\n",
       "electronic     1737\n",
       "hiphop          960\n",
       "alternative     649\n",
       "classical       646\n",
       "rusrap          564\n",
       "ruspop          538\n",
       "world           515\n",
       "Name: genre, dtype: int64"
      ]
     },
     "execution_count": 39,
     "metadata": {},
     "output_type": "execute_result"
    }
   ],
   "source": [
    "# просмотр первых 10 строк spb_genres\n",
    "spb_genres.head(10)"
   ]
  },
  {
   "cell_type": "markdown",
   "metadata": {
    "id": "nVhnJEm__Zcv"
   },
   "source": [
    "<div style=\"border:solid green 1px; padding: 10px\">\n",
    "\n",
    "Гипотеза частично подтвердилась:\n",
    "* `Поп-музыка` — самый популярный жанр в Москве, как и предполагала гипотеза. Более того, в топ-10 жанров встречается близкий жанр — `русская популярная музыка`.\n",
    "* Вопреки ожиданиям, `рэп` одинаково популярен в Москве и Санкт-Петербурге. "
   ]
  },
  {
   "cell_type": "markdown",
   "metadata": {
    "id": "ykKQ0N65_Zcv"
   },
   "source": [
    "## Итоги исследования"
   ]
  },
  {
   "cell_type": "markdown",
   "metadata": {
    "id": "tjUwbHb3_Zcv"
   },
   "source": [
    "<div style=\"border:solid green 2px; padding: 20px\">\n",
    "\n",
    "Мы проверили три гипотезы и установили:\n",
    "\n",
    "1. День недели по-разному влияет на активность пользователей в Москве и Санкт-Петербурге. \n",
    "\n",
    "Первая гипотеза полностью подтвердилась.\n",
    "\n",
    "2. Музыкальные предпочтения не сильно меняются в течение недели — будь то Москва или Санкт-Петербург. Небольшие различия заметны в начале недели, по понедельникам:\n",
    "* в Москве слушают музыку жанра `world`,\n",
    "* в Петербурге — `джаз` и `классику`.\n",
    "\n",
    "Таким образом, вторая гипотеза подтвердилась лишь отчасти. Этот результат мог оказаться иным, если бы не пропуски в данных.\n",
    "\n",
    "3. Во вкусах пользователей Москвы и Санкт-Петербурга больше общего чем различий. Вопреки ожиданиям, предпочтения жанров в Санкт-Петербурге напоминают московские.\n",
    "\n",
    "Третья гипотеза не подтвердилась. Если различия в предпочтениях и существуют, на основной массе пользователей они незаметны."
   ]
  }
 ],
 "metadata": {
  "ExecuteTimeLog": [
   {
    "duration": 657,
    "start_time": "2022-05-06T11:22:30.815Z"
   },
   {
    "duration": 4,
    "start_time": "2022-05-06T11:22:32.445Z"
   },
   {
    "duration": 3,
    "start_time": "2022-05-06T11:22:35.374Z"
   },
   {
    "duration": 195,
    "start_time": "2022-05-06T11:23:24.388Z"
   },
   {
    "duration": 27,
    "start_time": "2022-05-06T11:23:51.851Z"
   },
   {
    "duration": 41,
    "start_time": "2022-05-06T11:24:21.980Z"
   },
   {
    "duration": 5,
    "start_time": "2022-05-06T11:30:18.591Z"
   },
   {
    "duration": 51,
    "start_time": "2022-05-06T11:32:50.604Z"
   },
   {
    "duration": 7,
    "start_time": "2022-05-06T11:33:14.426Z"
   },
   {
    "duration": 15,
    "start_time": "2022-05-06T11:33:43.332Z"
   },
   {
    "duration": 7,
    "start_time": "2022-05-06T11:33:45.809Z"
   },
   {
    "duration": 17,
    "start_time": "2022-05-06T11:34:20.682Z"
   },
   {
    "duration": 11,
    "start_time": "2022-05-06T11:34:34.300Z"
   },
   {
    "duration": 5,
    "start_time": "2022-05-06T11:34:37.018Z"
   },
   {
    "duration": 35,
    "start_time": "2022-05-06T11:35:21.345Z"
   },
   {
    "duration": 32,
    "start_time": "2022-05-06T11:35:33.664Z"
   },
   {
    "duration": 5,
    "start_time": "2022-05-06T11:35:41.392Z"
   },
   {
    "duration": 5,
    "start_time": "2022-05-06T11:35:49.205Z"
   },
   {
    "duration": 4,
    "start_time": "2022-05-06T11:36:02.570Z"
   },
   {
    "duration": 239,
    "start_time": "2022-05-06T11:36:02.580Z"
   },
   {
    "duration": 16,
    "start_time": "2022-05-06T11:36:02.822Z"
   },
   {
    "duration": 63,
    "start_time": "2022-05-06T11:36:02.853Z"
   },
   {
    "duration": 5,
    "start_time": "2022-05-06T11:36:13.631Z"
   },
   {
    "duration": 6,
    "start_time": "2022-05-06T11:36:38.550Z"
   },
   {
    "duration": 13,
    "start_time": "2022-05-06T11:36:41.021Z"
   },
   {
    "duration": 4,
    "start_time": "2022-05-06T11:36:43.444Z"
   },
   {
    "duration": 49,
    "start_time": "2022-05-06T11:36:48.590Z"
   },
   {
    "duration": 102,
    "start_time": "2022-05-06T11:41:06.296Z"
   },
   {
    "duration": 96,
    "start_time": "2022-05-06T11:41:13.636Z"
   },
   {
    "duration": 39,
    "start_time": "2022-05-06T11:41:45.804Z"
   },
   {
    "duration": 14,
    "start_time": "2022-05-06T11:43:16.633Z"
   },
   {
    "duration": 18,
    "start_time": "2022-05-06T11:43:48.411Z"
   },
   {
    "duration": 17,
    "start_time": "2022-05-06T11:43:55.810Z"
   },
   {
    "duration": 13,
    "start_time": "2022-05-06T11:48:09.509Z"
   },
   {
    "duration": 17,
    "start_time": "2022-05-06T11:48:12.916Z"
   },
   {
    "duration": 13,
    "start_time": "2022-05-06T11:49:48.129Z"
   },
   {
    "duration": 17,
    "start_time": "2022-05-06T11:49:58.099Z"
   },
   {
    "duration": 11,
    "start_time": "2022-05-06T11:50:17.523Z"
   },
   {
    "duration": 3,
    "start_time": "2022-05-06T11:50:29.287Z"
   },
   {
    "duration": 196,
    "start_time": "2022-05-06T11:50:29.293Z"
   },
   {
    "duration": 17,
    "start_time": "2022-05-06T11:50:29.492Z"
   },
   {
    "duration": 65,
    "start_time": "2022-05-06T11:50:29.511Z"
   },
   {
    "duration": 5,
    "start_time": "2022-05-06T11:50:29.579Z"
   },
   {
    "duration": 14,
    "start_time": "2022-05-06T11:50:29.586Z"
   },
   {
    "duration": 5,
    "start_time": "2022-05-06T11:50:29.602Z"
   },
   {
    "duration": 34,
    "start_time": "2022-05-06T11:50:31.373Z"
   },
   {
    "duration": 24,
    "start_time": "2022-05-06T11:50:40.799Z"
   },
   {
    "duration": 36,
    "start_time": "2022-05-06T11:51:09.758Z"
   },
   {
    "duration": 56,
    "start_time": "2022-05-06T11:51:20.688Z"
   },
   {
    "duration": 92,
    "start_time": "2022-05-06T11:51:58.014Z"
   },
   {
    "duration": 108,
    "start_time": "2022-05-06T11:54:29.917Z"
   },
   {
    "duration": 94,
    "start_time": "2022-05-06T11:54:49.958Z"
   },
   {
    "duration": 10,
    "start_time": "2022-05-06T12:01:23.124Z"
   },
   {
    "duration": 15,
    "start_time": "2022-05-06T12:01:28.742Z"
   },
   {
    "duration": 13,
    "start_time": "2022-05-06T12:01:32.028Z"
   },
   {
    "duration": 11,
    "start_time": "2022-05-06T12:01:36.761Z"
   },
   {
    "duration": 79,
    "start_time": "2022-05-06T12:03:00.185Z"
   },
   {
    "duration": 53,
    "start_time": "2022-05-06T12:03:17.694Z"
   },
   {
    "duration": 122,
    "start_time": "2022-05-06T12:08:50.173Z"
   },
   {
    "duration": 6,
    "start_time": "2022-05-06T12:09:04.431Z"
   },
   {
    "duration": 14,
    "start_time": "2022-05-06T12:09:52.220Z"
   },
   {
    "duration": 10,
    "start_time": "2022-05-06T12:10:26.489Z"
   },
   {
    "duration": 4,
    "start_time": "2022-05-06T12:12:53.554Z"
   },
   {
    "duration": 5,
    "start_time": "2022-05-06T12:13:21.674Z"
   },
   {
    "duration": 12,
    "start_time": "2022-05-06T12:13:24.328Z"
   },
   {
    "duration": 10,
    "start_time": "2022-05-06T12:13:27.213Z"
   },
   {
    "duration": 87,
    "start_time": "2022-05-06T12:13:57.435Z"
   },
   {
    "duration": 4,
    "start_time": "2022-05-06T12:14:11.125Z"
   },
   {
    "duration": 320,
    "start_time": "2022-05-06T12:14:11.131Z"
   },
   {
    "duration": 23,
    "start_time": "2022-05-06T12:14:11.455Z"
   },
   {
    "duration": 90,
    "start_time": "2022-05-06T12:14:11.481Z"
   },
   {
    "duration": 5,
    "start_time": "2022-05-06T12:14:11.575Z"
   },
   {
    "duration": 18,
    "start_time": "2022-05-06T12:14:11.582Z"
   },
   {
    "duration": 6,
    "start_time": "2022-05-06T12:14:11.603Z"
   },
   {
    "duration": 107,
    "start_time": "2022-05-06T12:14:11.611Z"
   },
   {
    "duration": 25,
    "start_time": "2022-05-06T12:14:11.721Z"
   },
   {
    "duration": 54,
    "start_time": "2022-05-06T12:14:11.748Z"
   },
   {
    "duration": 128,
    "start_time": "2022-05-06T12:14:11.806Z"
   },
   {
    "duration": 155,
    "start_time": "2022-05-06T12:14:11.936Z"
   },
   {
    "duration": 146,
    "start_time": "2022-05-06T12:14:12.095Z"
   },
   {
    "duration": 6,
    "start_time": "2022-05-06T12:14:16.233Z"
   },
   {
    "duration": 13,
    "start_time": "2022-05-06T12:14:18.786Z"
   },
   {
    "duration": 14,
    "start_time": "2022-05-06T12:14:22.397Z"
   },
   {
    "duration": 54,
    "start_time": "2022-05-06T12:14:39.617Z"
   },
   {
    "duration": 57,
    "start_time": "2022-05-06T12:14:45.602Z"
   },
   {
    "duration": 87,
    "start_time": "2022-05-06T12:14:48.875Z"
   },
   {
    "duration": 8,
    "start_time": "2022-05-06T12:20:34.518Z"
   },
   {
    "duration": 52,
    "start_time": "2022-05-06T12:20:38.087Z"
   },
   {
    "duration": 55,
    "start_time": "2022-05-06T12:21:04.604Z"
   },
   {
    "duration": 52,
    "start_time": "2022-05-06T12:21:08.694Z"
   },
   {
    "duration": 61,
    "start_time": "2022-05-06T12:32:53.623Z"
   },
   {
    "duration": 61,
    "start_time": "2022-05-06T12:33:16.177Z"
   },
   {
    "duration": 48,
    "start_time": "2022-05-06T12:33:24.107Z"
   },
   {
    "duration": 37,
    "start_time": "2022-05-06T12:33:35.464Z"
   },
   {
    "duration": 35,
    "start_time": "2022-05-06T12:34:35.735Z"
   },
   {
    "duration": 33,
    "start_time": "2022-05-06T12:35:44.763Z"
   },
   {
    "duration": 16,
    "start_time": "2022-05-06T12:37:52.534Z"
   },
   {
    "duration": 30,
    "start_time": "2022-05-06T12:38:44.890Z"
   },
   {
    "duration": 5,
    "start_time": "2022-05-06T12:40:34.705Z"
   },
   {
    "duration": 31,
    "start_time": "2022-05-06T12:43:02.395Z"
   },
   {
    "duration": 67,
    "start_time": "2022-05-06T12:46:37.994Z"
   },
   {
    "duration": 74,
    "start_time": "2022-05-06T12:46:56.997Z"
   },
   {
    "duration": 37,
    "start_time": "2022-05-06T12:47:14.306Z"
   },
   {
    "duration": 20,
    "start_time": "2022-05-06T12:47:55.824Z"
   },
   {
    "duration": 21,
    "start_time": "2022-05-06T12:48:11.153Z"
   },
   {
    "duration": 64,
    "start_time": "2022-05-06T12:50:19.923Z"
   },
   {
    "duration": 21,
    "start_time": "2022-05-06T12:50:48.557Z"
   },
   {
    "duration": 15,
    "start_time": "2022-05-06T12:53:03.381Z"
   },
   {
    "duration": 18,
    "start_time": "2022-05-06T12:53:13.915Z"
   },
   {
    "duration": 18,
    "start_time": "2022-05-06T12:53:41.479Z"
   },
   {
    "duration": 25,
    "start_time": "2022-05-06T12:54:20.730Z"
   },
   {
    "duration": 42,
    "start_time": "2022-05-06T12:55:39.391Z"
   },
   {
    "duration": 116,
    "start_time": "2022-05-06T12:55:56.562Z"
   },
   {
    "duration": 24,
    "start_time": "2022-05-06T12:55:59.968Z"
   },
   {
    "duration": 18,
    "start_time": "2022-05-06T12:56:09.878Z"
   },
   {
    "duration": 5,
    "start_time": "2022-05-06T13:03:43.071Z"
   },
   {
    "duration": 22,
    "start_time": "2022-05-06T13:05:16.803Z"
   },
   {
    "duration": 21,
    "start_time": "2022-05-06T13:06:47.064Z"
   },
   {
    "duration": 21,
    "start_time": "2022-05-06T13:06:50.468Z"
   },
   {
    "duration": 21,
    "start_time": "2022-05-06T13:06:52.884Z"
   },
   {
    "duration": 20,
    "start_time": "2022-05-06T13:06:55.622Z"
   },
   {
    "duration": 21,
    "start_time": "2022-05-06T13:06:58.004Z"
   },
   {
    "duration": 21,
    "start_time": "2022-05-06T13:07:00.179Z"
   },
   {
    "duration": 16,
    "start_time": "2022-05-06T13:14:04.545Z"
   },
   {
    "duration": 16,
    "start_time": "2022-05-06T13:19:53.290Z"
   },
   {
    "duration": 12,
    "start_time": "2022-05-06T13:19:55.324Z"
   },
   {
    "duration": 5,
    "start_time": "2022-05-06T13:23:25.314Z"
   },
   {
    "duration": 12,
    "start_time": "2022-05-06T13:26:38.213Z"
   },
   {
    "duration": 6,
    "start_time": "2022-05-06T13:28:50.646Z"
   },
   {
    "duration": 25,
    "start_time": "2022-05-06T13:29:49.318Z"
   },
   {
    "duration": 5,
    "start_time": "2022-05-06T13:30:59.102Z"
   },
   {
    "duration": 24,
    "start_time": "2022-05-06T13:31:04.144Z"
   },
   {
    "duration": 28,
    "start_time": "2022-05-06T13:31:58.820Z"
   },
   {
    "duration": 26,
    "start_time": "2022-05-06T13:32:00.511Z"
   },
   {
    "duration": 21,
    "start_time": "2022-05-06T13:32:03.075Z"
   },
   {
    "duration": 27,
    "start_time": "2022-05-06T13:32:18.517Z"
   },
   {
    "duration": 17,
    "start_time": "2022-05-06T13:32:29.495Z"
   },
   {
    "duration": 17,
    "start_time": "2022-05-06T13:33:00.867Z"
   },
   {
    "duration": 25,
    "start_time": "2022-05-06T13:33:17.637Z"
   },
   {
    "duration": 18,
    "start_time": "2022-05-06T13:33:22.294Z"
   },
   {
    "duration": 25,
    "start_time": "2022-05-06T13:33:27.893Z"
   },
   {
    "duration": 25,
    "start_time": "2022-05-06T13:33:35.349Z"
   },
   {
    "duration": 15,
    "start_time": "2022-05-06T13:33:45.296Z"
   },
   {
    "duration": 13,
    "start_time": "2022-05-06T13:38:23.800Z"
   },
   {
    "duration": 7,
    "start_time": "2022-05-06T13:38:29.028Z"
   },
   {
    "duration": 9,
    "start_time": "2022-05-06T13:39:23.486Z"
   },
   {
    "duration": 11,
    "start_time": "2022-05-06T13:39:31.049Z"
   },
   {
    "duration": 388,
    "start_time": "2022-05-08T10:29:43.711Z"
   },
   {
    "duration": 156,
    "start_time": "2022-05-08T10:29:44.101Z"
   },
   {
    "duration": 18,
    "start_time": "2022-05-08T10:29:44.259Z"
   },
   {
    "duration": 39,
    "start_time": "2022-05-08T10:29:44.279Z"
   },
   {
    "duration": 4,
    "start_time": "2022-05-08T10:29:44.320Z"
   },
   {
    "duration": 14,
    "start_time": "2022-05-08T10:29:44.326Z"
   },
   {
    "duration": 10,
    "start_time": "2022-05-08T10:29:44.342Z"
   },
   {
    "duration": 50,
    "start_time": "2022-05-08T10:29:44.354Z"
   },
   {
    "duration": 21,
    "start_time": "2022-05-08T10:29:44.406Z"
   },
   {
    "duration": 25,
    "start_time": "2022-05-08T10:29:44.431Z"
   },
   {
    "duration": 87,
    "start_time": "2022-05-08T10:29:44.458Z"
   },
   {
    "duration": 92,
    "start_time": "2022-05-08T10:29:44.547Z"
   },
   {
    "duration": 71,
    "start_time": "2022-05-08T10:29:44.642Z"
   },
   {
    "duration": 41,
    "start_time": "2022-05-08T10:29:44.716Z"
   },
   {
    "duration": 4,
    "start_time": "2022-05-08T10:29:44.758Z"
   },
   {
    "duration": 29,
    "start_time": "2022-05-08T10:29:44.764Z"
   },
   {
    "duration": 7,
    "start_time": "2022-05-08T10:29:44.795Z"
   },
   {
    "duration": 46,
    "start_time": "2022-05-08T10:29:44.803Z"
   },
   {
    "duration": 12,
    "start_time": "2022-05-08T10:29:44.851Z"
   },
   {
    "duration": 33,
    "start_time": "2022-05-08T10:29:44.864Z"
   },
   {
    "duration": 3,
    "start_time": "2022-05-08T10:29:44.899Z"
   },
   {
    "duration": 23,
    "start_time": "2022-05-08T10:29:44.903Z"
   },
   {
    "duration": 15,
    "start_time": "2022-05-08T10:29:44.928Z"
   },
   {
    "duration": 16,
    "start_time": "2022-05-08T10:29:44.945Z"
   },
   {
    "duration": 42,
    "start_time": "2022-05-08T10:29:44.963Z"
   },
   {
    "duration": 19,
    "start_time": "2022-05-08T10:29:45.007Z"
   },
   {
    "duration": 24,
    "start_time": "2022-05-08T10:29:45.029Z"
   },
   {
    "duration": 9,
    "start_time": "2022-05-08T10:29:45.057Z"
   },
   {
    "duration": 34,
    "start_time": "2022-05-08T10:29:45.068Z"
   },
   {
    "duration": 11,
    "start_time": "2022-05-08T10:29:45.104Z"
   },
   {
    "duration": 5,
    "start_time": "2022-05-08T10:29:45.116Z"
   },
   {
    "duration": 33,
    "start_time": "2022-05-08T10:29:45.123Z"
   },
   {
    "duration": 14,
    "start_time": "2022-05-08T10:29:45.158Z"
   },
   {
    "duration": 20,
    "start_time": "2022-05-08T10:29:45.193Z"
   },
   {
    "duration": 14,
    "start_time": "2022-05-08T10:29:45.215Z"
   },
   {
    "duration": 10,
    "start_time": "2022-05-08T10:29:45.231Z"
   },
   {
    "duration": 8,
    "start_time": "2022-05-08T10:29:45.243Z"
   },
   {
    "duration": 43,
    "start_time": "2022-05-08T10:29:45.253Z"
   },
   {
    "duration": 5,
    "start_time": "2022-05-08T10:29:45.298Z"
   },
   {
    "duration": 139,
    "start_time": "2022-05-08T10:32:57.014Z"
   },
   {
    "duration": 135,
    "start_time": "2022-05-08T10:37:35.229Z"
   },
   {
    "duration": 134,
    "start_time": "2022-05-08T10:52:51.844Z"
   },
   {
    "duration": 49,
    "start_time": "2022-05-08T11:13:35.707Z"
   },
   {
    "duration": 6,
    "start_time": "2022-05-08T11:13:50.040Z"
   },
   {
    "duration": 7,
    "start_time": "2022-05-08T11:14:02.668Z"
   },
   {
    "duration": 405,
    "start_time": "2022-05-08T11:14:05.444Z"
   },
   {
    "duration": 171,
    "start_time": "2022-05-08T11:14:06.678Z"
   },
   {
    "duration": 33,
    "start_time": "2022-05-08T11:14:16.332Z"
   },
   {
    "duration": 29,
    "start_time": "2022-05-08T11:16:20.991Z"
   },
   {
    "duration": 2,
    "start_time": "2022-05-08T11:16:28.380Z"
   },
   {
    "duration": 169,
    "start_time": "2022-05-08T11:16:29.618Z"
   },
   {
    "duration": 13,
    "start_time": "2022-05-08T11:16:30.652Z"
   },
   {
    "duration": 30,
    "start_time": "2022-05-08T11:16:32.987Z"
   },
   {
    "duration": 4,
    "start_time": "2022-05-08T11:16:36.923Z"
   },
   {
    "duration": 10,
    "start_time": "2022-05-08T11:16:39.827Z"
   },
   {
    "duration": 14,
    "start_time": "2022-05-08T11:16:41.740Z"
   },
   {
    "duration": 5,
    "start_time": "2022-05-08T11:16:43.755Z"
   },
   {
    "duration": 25,
    "start_time": "2022-05-08T11:16:45.491Z"
   },
   {
    "duration": 19,
    "start_time": "2022-05-08T11:16:47.475Z"
   },
   {
    "duration": 26,
    "start_time": "2022-05-08T11:16:48.547Z"
   },
   {
    "duration": 68,
    "start_time": "2022-05-08T11:16:50.513Z"
   },
   {
    "duration": 70,
    "start_time": "2022-05-08T11:16:52.770Z"
   },
   {
    "duration": 59,
    "start_time": "2022-05-08T11:16:53.731Z"
   },
   {
    "duration": 40,
    "start_time": "2022-05-08T11:16:56.059Z"
   },
   {
    "duration": 4,
    "start_time": "2022-05-08T11:16:58.925Z"
   },
   {
    "duration": 14,
    "start_time": "2022-05-08T11:17:00.044Z"
   },
   {
    "duration": 8,
    "start_time": "2022-05-08T11:17:00.984Z"
   },
   {
    "duration": 61,
    "start_time": "2022-05-08T11:17:02.915Z"
   },
   {
    "duration": 15,
    "start_time": "2022-05-08T11:17:06.019Z"
   },
   {
    "duration": 14,
    "start_time": "2022-05-08T11:17:07.963Z"
   },
   {
    "duration": 4,
    "start_time": "2022-05-08T11:17:10.179Z"
   },
   {
    "duration": 58,
    "start_time": "2022-09-16T13:08:34.422Z"
   },
   {
    "duration": 433,
    "start_time": "2022-09-16T13:08:41.570Z"
   },
   {
    "duration": 253,
    "start_time": "2022-09-16T13:08:42.005Z"
   },
   {
    "duration": 22,
    "start_time": "2022-09-16T13:08:42.261Z"
   },
   {
    "duration": 46,
    "start_time": "2022-09-16T13:08:42.285Z"
   },
   {
    "duration": 3,
    "start_time": "2022-09-16T13:08:42.334Z"
   },
   {
    "duration": 51,
    "start_time": "2022-09-16T13:08:42.339Z"
   },
   {
    "duration": 9,
    "start_time": "2022-09-16T13:08:42.392Z"
   },
   {
    "duration": 29,
    "start_time": "2022-09-16T13:08:42.403Z"
   },
   {
    "duration": 26,
    "start_time": "2022-09-16T13:08:42.434Z"
   },
   {
    "duration": 33,
    "start_time": "2022-09-16T13:08:42.463Z"
   },
   {
    "duration": 86,
    "start_time": "2022-09-16T13:08:42.498Z"
   },
   {
    "duration": 100,
    "start_time": "2022-09-16T13:08:42.587Z"
   },
   {
    "duration": 68,
    "start_time": "2022-09-16T13:08:42.688Z"
   },
   {
    "duration": 48,
    "start_time": "2022-09-16T13:08:42.766Z"
   },
   {
    "duration": 3,
    "start_time": "2022-09-16T13:08:42.816Z"
   },
   {
    "duration": 20,
    "start_time": "2022-09-16T13:08:42.820Z"
   },
   {
    "duration": 9,
    "start_time": "2022-09-16T13:08:42.842Z"
   },
   {
    "duration": 68,
    "start_time": "2022-09-16T13:08:42.852Z"
   },
   {
    "duration": 11,
    "start_time": "2022-09-16T13:08:42.922Z"
   },
   {
    "duration": 31,
    "start_time": "2022-09-16T13:08:42.935Z"
   },
   {
    "duration": 16,
    "start_time": "2022-09-16T13:08:42.968Z"
   },
   {
    "duration": 46,
    "start_time": "2022-09-16T13:08:42.986Z"
   },
   {
    "duration": 14,
    "start_time": "2022-09-16T13:08:43.033Z"
   },
   {
    "duration": 55,
    "start_time": "2022-09-16T13:08:43.049Z"
   },
   {
    "duration": 19,
    "start_time": "2022-09-16T13:08:43.105Z"
   },
   {
    "duration": 20,
    "start_time": "2022-09-16T13:08:43.125Z"
   },
   {
    "duration": 26,
    "start_time": "2022-09-16T13:08:43.153Z"
   },
   {
    "duration": 18,
    "start_time": "2022-09-16T13:08:43.181Z"
   },
   {
    "duration": 14,
    "start_time": "2022-09-16T13:08:43.201Z"
   },
   {
    "duration": 24,
    "start_time": "2022-09-16T13:08:43.217Z"
   },
   {
    "duration": 42,
    "start_time": "2022-09-16T13:08:43.242Z"
   },
   {
    "duration": 39,
    "start_time": "2022-09-16T13:08:43.286Z"
   },
   {
    "duration": 28,
    "start_time": "2022-09-16T13:08:43.327Z"
   },
   {
    "duration": 35,
    "start_time": "2022-09-16T13:08:43.358Z"
   },
   {
    "duration": 63,
    "start_time": "2022-09-16T13:08:43.395Z"
   },
   {
    "duration": 23,
    "start_time": "2022-09-16T13:08:43.463Z"
   },
   {
    "duration": 12,
    "start_time": "2022-09-16T13:08:43.489Z"
   },
   {
    "duration": 63,
    "start_time": "2022-09-16T13:08:43.503Z"
   },
   {
    "duration": 40,
    "start_time": "2022-09-16T13:08:43.569Z"
   },
   {
    "duration": 10,
    "start_time": "2022-09-16T13:18:12.904Z"
   }
  ],
  "colab": {
   "collapsed_sections": [
    "E0vqbgi9ay0H",
    "VUC88oWjTJw2"
   ],
   "name": "yandex_music_project.ipynb",
   "provenance": []
  },
  "kernelspec": {
   "display_name": "Python 3 (ipykernel)",
   "language": "python",
   "name": "python3"
  },
  "language_info": {
   "codemirror_mode": {
    "name": "ipython",
    "version": 3
   },
   "file_extension": ".py",
   "mimetype": "text/x-python",
   "name": "python",
   "nbconvert_exporter": "python",
   "pygments_lexer": "ipython3",
   "version": "3.9.5"
  },
  "toc": {
   "base_numbering": 1,
   "nav_menu": {},
   "number_sections": true,
   "sideBar": true,
   "skip_h1_title": true,
   "title_cell": "Table of Contents",
   "title_sidebar": "Contents",
   "toc_cell": false,
   "toc_position": {},
   "toc_section_display": true,
   "toc_window_display": true
  }
 },
 "nbformat": 4,
 "nbformat_minor": 1
}

