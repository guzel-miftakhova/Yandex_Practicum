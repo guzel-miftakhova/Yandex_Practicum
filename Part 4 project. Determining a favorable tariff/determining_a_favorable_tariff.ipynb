{
 "cells": [
  {
   "cell_type": "markdown",
   "metadata": {},
   "source": [
    "## Обзор данных"
   ]
  },
  {
   "cell_type": "code",
   "execution_count": 1,
   "metadata": {},
   "outputs": [],
   "source": [
    "import pandas as pd\n",
    "import matplotlib.pyplot as plt\n",
    "import matplotlib.ticker as ticker\n",
    "import numpy as np\n",
    "from scipy import stats as st"
   ]
  },
  {
   "cell_type": "markdown",
   "metadata": {},
   "source": [
    "Для исследования предоставлены несколько датасетов, рассмотрим каждый из них."
   ]
  },
  {
   "cell_type": "code",
   "execution_count": 2,
   "metadata": {},
   "outputs": [
    {
     "data": {
      "text/html": [
       "<div>\n",
       "<style scoped>\n",
       "    .dataframe tbody tr th:only-of-type {\n",
       "        vertical-align: middle;\n",
       "    }\n",
       "\n",
       "    .dataframe tbody tr th {\n",
       "        vertical-align: top;\n",
       "    }\n",
       "\n",
       "    .dataframe thead th {\n",
       "        text-align: right;\n",
       "    }\n",
       "</style>\n",
       "<table border=\"1\" class=\"dataframe\">\n",
       "  <thead>\n",
       "    <tr style=\"text-align: right;\">\n",
       "      <th></th>\n",
       "      <th>user_id</th>\n",
       "      <th>age</th>\n",
       "      <th>churn_date</th>\n",
       "      <th>city</th>\n",
       "      <th>first_name</th>\n",
       "      <th>last_name</th>\n",
       "      <th>reg_date</th>\n",
       "      <th>tariff</th>\n",
       "    </tr>\n",
       "  </thead>\n",
       "  <tbody>\n",
       "    <tr>\n",
       "      <th>0</th>\n",
       "      <td>1000</td>\n",
       "      <td>52</td>\n",
       "      <td>NaN</td>\n",
       "      <td>Краснодар</td>\n",
       "      <td>Рафаил</td>\n",
       "      <td>Верещагин</td>\n",
       "      <td>2018-05-25</td>\n",
       "      <td>ultra</td>\n",
       "    </tr>\n",
       "    <tr>\n",
       "      <th>1</th>\n",
       "      <td>1001</td>\n",
       "      <td>41</td>\n",
       "      <td>NaN</td>\n",
       "      <td>Москва</td>\n",
       "      <td>Иван</td>\n",
       "      <td>Ежов</td>\n",
       "      <td>2018-11-01</td>\n",
       "      <td>smart</td>\n",
       "    </tr>\n",
       "    <tr>\n",
       "      <th>2</th>\n",
       "      <td>1002</td>\n",
       "      <td>59</td>\n",
       "      <td>NaN</td>\n",
       "      <td>Стерлитамак</td>\n",
       "      <td>Евгений</td>\n",
       "      <td>Абрамович</td>\n",
       "      <td>2018-06-17</td>\n",
       "      <td>smart</td>\n",
       "    </tr>\n",
       "    <tr>\n",
       "      <th>3</th>\n",
       "      <td>1003</td>\n",
       "      <td>23</td>\n",
       "      <td>NaN</td>\n",
       "      <td>Москва</td>\n",
       "      <td>Белла</td>\n",
       "      <td>Белякова</td>\n",
       "      <td>2018-08-17</td>\n",
       "      <td>ultra</td>\n",
       "    </tr>\n",
       "    <tr>\n",
       "      <th>4</th>\n",
       "      <td>1004</td>\n",
       "      <td>68</td>\n",
       "      <td>NaN</td>\n",
       "      <td>Новокузнецк</td>\n",
       "      <td>Татьяна</td>\n",
       "      <td>Авдеенко</td>\n",
       "      <td>2018-05-14</td>\n",
       "      <td>ultra</td>\n",
       "    </tr>\n",
       "  </tbody>\n",
       "</table>\n",
       "</div>"
      ],
      "text/plain": [
       "   user_id  age churn_date         city first_name  last_name    reg_date  \\\n",
       "0     1000   52        NaN    Краснодар     Рафаил  Верещагин  2018-05-25   \n",
       "1     1001   41        NaN       Москва       Иван       Ежов  2018-11-01   \n",
       "2     1002   59        NaN  Стерлитамак    Евгений  Абрамович  2018-06-17   \n",
       "3     1003   23        NaN       Москва      Белла   Белякова  2018-08-17   \n",
       "4     1004   68        NaN  Новокузнецк    Татьяна   Авдеенко  2018-05-14   \n",
       "\n",
       "  tariff  \n",
       "0  ultra  \n",
       "1  smart  \n",
       "2  smart  \n",
       "3  ultra  \n",
       "4  ultra  "
      ]
     },
     "execution_count": 2,
     "metadata": {},
     "output_type": "execute_result"
    }
   ],
   "source": [
    "#открываем файл с данными\n",
    "users = pd.read_csv('..../users.csv')\n",
    "\n",
    "#вывод первых 5 строк таблицы\n",
    "users.head()"
   ]
  },
  {
   "cell_type": "code",
   "execution_count": 3,
   "metadata": {},
   "outputs": [
    {
     "name": "stdout",
     "output_type": "stream",
     "text": [
      "<class 'pandas.core.frame.DataFrame'>\n",
      "RangeIndex: 500 entries, 0 to 499\n",
      "Data columns (total 8 columns):\n",
      " #   Column      Non-Null Count  Dtype \n",
      "---  ------      --------------  ----- \n",
      " 0   user_id     500 non-null    int64 \n",
      " 1   age         500 non-null    int64 \n",
      " 2   churn_date  38 non-null     object\n",
      " 3   city        500 non-null    object\n",
      " 4   first_name  500 non-null    object\n",
      " 5   last_name   500 non-null    object\n",
      " 6   reg_date    500 non-null    object\n",
      " 7   tariff      500 non-null    object\n",
      "dtypes: int64(2), object(6)\n",
      "memory usage: 31.4+ KB\n"
     ]
    }
   ],
   "source": [
    "#вывод общей информации по таблице\n",
    "users.info()"
   ]
  },
  {
   "cell_type": "markdown",
   "metadata": {},
   "source": [
    "**Таблица `users`** состоит из 8 столбцов с типами данных `int64`(2), `object`(6) и содержит информацию о 500 пользователях:\n",
    "* `user_id` — уникальный идентификатор пользователя;\n",
    "* `first_name` — имя пользователя;\n",
    "* `last_name` — фамилия пользователя;\n",
    "* `age` — возраст пользователя (годы);\n",
    "* `reg_date` — дата подключения тарифа (день, месяц, год);\n",
    "* `churn_date` — дата прекращения пользования тарифом;\n",
    "* `city` — город проживания пользователя;\n",
    "* `tariff` — название тарифного плана.\n",
    "\n",
    "В столбце `churn_date` всего 38 строк заполнено (если значение пропущено, то тариф ещё действовал на момент выгрузки данных), т. е. наличие пропусков в этом столбце является нормальным, для удобства их можно заменить на `-`."
   ]
  },
  {
   "cell_type": "code",
   "execution_count": 4,
   "metadata": {},
   "outputs": [
    {
     "data": {
      "text/html": [
       "<div>\n",
       "<style scoped>\n",
       "    .dataframe tbody tr th:only-of-type {\n",
       "        vertical-align: middle;\n",
       "    }\n",
       "\n",
       "    .dataframe tbody tr th {\n",
       "        vertical-align: top;\n",
       "    }\n",
       "\n",
       "    .dataframe thead th {\n",
       "        text-align: right;\n",
       "    }\n",
       "</style>\n",
       "<table border=\"1\" class=\"dataframe\">\n",
       "  <thead>\n",
       "    <tr style=\"text-align: right;\">\n",
       "      <th></th>\n",
       "      <th>id</th>\n",
       "      <th>call_date</th>\n",
       "      <th>duration</th>\n",
       "      <th>user_id</th>\n",
       "    </tr>\n",
       "  </thead>\n",
       "  <tbody>\n",
       "    <tr>\n",
       "      <th>0</th>\n",
       "      <td>1000_0</td>\n",
       "      <td>2018-07-25</td>\n",
       "      <td>0.00</td>\n",
       "      <td>1000</td>\n",
       "    </tr>\n",
       "    <tr>\n",
       "      <th>1</th>\n",
       "      <td>1000_1</td>\n",
       "      <td>2018-08-17</td>\n",
       "      <td>0.00</td>\n",
       "      <td>1000</td>\n",
       "    </tr>\n",
       "    <tr>\n",
       "      <th>2</th>\n",
       "      <td>1000_2</td>\n",
       "      <td>2018-06-11</td>\n",
       "      <td>2.85</td>\n",
       "      <td>1000</td>\n",
       "    </tr>\n",
       "    <tr>\n",
       "      <th>3</th>\n",
       "      <td>1000_3</td>\n",
       "      <td>2018-09-21</td>\n",
       "      <td>13.80</td>\n",
       "      <td>1000</td>\n",
       "    </tr>\n",
       "    <tr>\n",
       "      <th>4</th>\n",
       "      <td>1000_4</td>\n",
       "      <td>2018-12-15</td>\n",
       "      <td>5.18</td>\n",
       "      <td>1000</td>\n",
       "    </tr>\n",
       "  </tbody>\n",
       "</table>\n",
       "</div>"
      ],
      "text/plain": [
       "       id   call_date  duration  user_id\n",
       "0  1000_0  2018-07-25      0.00     1000\n",
       "1  1000_1  2018-08-17      0.00     1000\n",
       "2  1000_2  2018-06-11      2.85     1000\n",
       "3  1000_3  2018-09-21     13.80     1000\n",
       "4  1000_4  2018-12-15      5.18     1000"
      ]
     },
     "execution_count": 4,
     "metadata": {},
     "output_type": "execute_result"
    }
   ],
   "source": [
    "#открываем файл с данными\n",
    "calls = pd.read_csv('/datasets/calls.csv')\n",
    "\n",
    "#вывод первых 5 строк таблицы\n",
    "calls.head()"
   ]
  },
  {
   "cell_type": "code",
   "execution_count": 5,
   "metadata": {},
   "outputs": [
    {
     "name": "stdout",
     "output_type": "stream",
     "text": [
      "<class 'pandas.core.frame.DataFrame'>\n",
      "RangeIndex: 202607 entries, 0 to 202606\n",
      "Data columns (total 4 columns):\n",
      " #   Column     Non-Null Count   Dtype  \n",
      "---  ------     --------------   -----  \n",
      " 0   id         202607 non-null  object \n",
      " 1   call_date  202607 non-null  object \n",
      " 2   duration   202607 non-null  float64\n",
      " 3   user_id    202607 non-null  int64  \n",
      "dtypes: float64(1), int64(1), object(2)\n",
      "memory usage: 6.2+ MB\n"
     ]
    }
   ],
   "source": [
    "calls.info()"
   ]
  },
  {
   "cell_type": "markdown",
   "metadata": {},
   "source": [
    "**Таблица `calls`** состоит из 4 столбцов с типами данных `float64`(1), `int64`(1), `object`(2) и содержит информацию о 202607 звонках:\n",
    "* `id` — уникальный номер звонка;\n",
    "* `call_date` — дата звонка (день, месяц, год);\n",
    "* `duration` — длительность звонка (в минутах);\n",
    "* `user_id` — идентификатор пользователя, сделавшего звонок."
   ]
  },
  {
   "cell_type": "code",
   "execution_count": 6,
   "metadata": {},
   "outputs": [
    {
     "data": {
      "text/html": [
       "<div>\n",
       "<style scoped>\n",
       "    .dataframe tbody tr th:only-of-type {\n",
       "        vertical-align: middle;\n",
       "    }\n",
       "\n",
       "    .dataframe tbody tr th {\n",
       "        vertical-align: top;\n",
       "    }\n",
       "\n",
       "    .dataframe thead th {\n",
       "        text-align: right;\n",
       "    }\n",
       "</style>\n",
       "<table border=\"1\" class=\"dataframe\">\n",
       "  <thead>\n",
       "    <tr style=\"text-align: right;\">\n",
       "      <th></th>\n",
       "      <th>id</th>\n",
       "      <th>message_date</th>\n",
       "      <th>user_id</th>\n",
       "    </tr>\n",
       "  </thead>\n",
       "  <tbody>\n",
       "    <tr>\n",
       "      <th>0</th>\n",
       "      <td>1000_0</td>\n",
       "      <td>2018-06-27</td>\n",
       "      <td>1000</td>\n",
       "    </tr>\n",
       "    <tr>\n",
       "      <th>1</th>\n",
       "      <td>1000_1</td>\n",
       "      <td>2018-10-08</td>\n",
       "      <td>1000</td>\n",
       "    </tr>\n",
       "    <tr>\n",
       "      <th>2</th>\n",
       "      <td>1000_2</td>\n",
       "      <td>2018-08-04</td>\n",
       "      <td>1000</td>\n",
       "    </tr>\n",
       "    <tr>\n",
       "      <th>3</th>\n",
       "      <td>1000_3</td>\n",
       "      <td>2018-06-16</td>\n",
       "      <td>1000</td>\n",
       "    </tr>\n",
       "    <tr>\n",
       "      <th>4</th>\n",
       "      <td>1000_4</td>\n",
       "      <td>2018-12-05</td>\n",
       "      <td>1000</td>\n",
       "    </tr>\n",
       "  </tbody>\n",
       "</table>\n",
       "</div>"
      ],
      "text/plain": [
       "       id message_date  user_id\n",
       "0  1000_0   2018-06-27     1000\n",
       "1  1000_1   2018-10-08     1000\n",
       "2  1000_2   2018-08-04     1000\n",
       "3  1000_3   2018-06-16     1000\n",
       "4  1000_4   2018-12-05     1000"
      ]
     },
     "execution_count": 6,
     "metadata": {},
     "output_type": "execute_result"
    }
   ],
   "source": [
    "#открываем файл с данными\n",
    "messages = pd.read_csv('/datasets/messages.csv')\n",
    "\n",
    "#вывод первых 5 строк таблицы\n",
    "messages.head()"
   ]
  },
  {
   "cell_type": "code",
   "execution_count": 7,
   "metadata": {},
   "outputs": [
    {
     "name": "stdout",
     "output_type": "stream",
     "text": [
      "<class 'pandas.core.frame.DataFrame'>\n",
      "RangeIndex: 123036 entries, 0 to 123035\n",
      "Data columns (total 3 columns):\n",
      " #   Column        Non-Null Count   Dtype \n",
      "---  ------        --------------   ----- \n",
      " 0   id            123036 non-null  object\n",
      " 1   message_date  123036 non-null  object\n",
      " 2   user_id       123036 non-null  int64 \n",
      "dtypes: int64(1), object(2)\n",
      "memory usage: 2.8+ MB\n"
     ]
    }
   ],
   "source": [
    "messages.info()"
   ]
  },
  {
   "cell_type": "markdown",
   "metadata": {},
   "source": [
    "**Таблица `messages`** состоит из 3 столбцов с типами данных `int64`(1), `object(2)` и содержит информацию о 123036 сообщениях:\n",
    "* `id` — уникальный номер сообщения;\n",
    "* `message_date` — дата сообщения (день, месяц, год);\n",
    "* `user_id` — идентификатор пользователя, отправившего сообщение."
   ]
  },
  {
   "cell_type": "code",
   "execution_count": 8,
   "metadata": {},
   "outputs": [
    {
     "data": {
      "text/html": [
       "<div>\n",
       "<style scoped>\n",
       "    .dataframe tbody tr th:only-of-type {\n",
       "        vertical-align: middle;\n",
       "    }\n",
       "\n",
       "    .dataframe tbody tr th {\n",
       "        vertical-align: top;\n",
       "    }\n",
       "\n",
       "    .dataframe thead th {\n",
       "        text-align: right;\n",
       "    }\n",
       "</style>\n",
       "<table border=\"1\" class=\"dataframe\">\n",
       "  <thead>\n",
       "    <tr style=\"text-align: right;\">\n",
       "      <th></th>\n",
       "      <th>id</th>\n",
       "      <th>mb_used</th>\n",
       "      <th>session_date</th>\n",
       "      <th>user_id</th>\n",
       "    </tr>\n",
       "  </thead>\n",
       "  <tbody>\n",
       "    <tr>\n",
       "      <th>0</th>\n",
       "      <td>1000_0</td>\n",
       "      <td>112.95</td>\n",
       "      <td>2018-11-25</td>\n",
       "      <td>1000</td>\n",
       "    </tr>\n",
       "    <tr>\n",
       "      <th>1</th>\n",
       "      <td>1000_1</td>\n",
       "      <td>1052.81</td>\n",
       "      <td>2018-09-07</td>\n",
       "      <td>1000</td>\n",
       "    </tr>\n",
       "    <tr>\n",
       "      <th>2</th>\n",
       "      <td>1000_2</td>\n",
       "      <td>1197.26</td>\n",
       "      <td>2018-06-25</td>\n",
       "      <td>1000</td>\n",
       "    </tr>\n",
       "    <tr>\n",
       "      <th>3</th>\n",
       "      <td>1000_3</td>\n",
       "      <td>550.27</td>\n",
       "      <td>2018-08-22</td>\n",
       "      <td>1000</td>\n",
       "    </tr>\n",
       "    <tr>\n",
       "      <th>4</th>\n",
       "      <td>1000_4</td>\n",
       "      <td>302.56</td>\n",
       "      <td>2018-09-24</td>\n",
       "      <td>1000</td>\n",
       "    </tr>\n",
       "  </tbody>\n",
       "</table>\n",
       "</div>"
      ],
      "text/plain": [
       "       id  mb_used session_date  user_id\n",
       "0  1000_0   112.95   2018-11-25     1000\n",
       "1  1000_1  1052.81   2018-09-07     1000\n",
       "2  1000_2  1197.26   2018-06-25     1000\n",
       "3  1000_3   550.27   2018-08-22     1000\n",
       "4  1000_4   302.56   2018-09-24     1000"
      ]
     },
     "execution_count": 8,
     "metadata": {},
     "output_type": "execute_result"
    }
   ],
   "source": [
    "#открываем файл с данными\n",
    "internet = pd.read_csv('/datasets/internet.csv', index_col=0)\n",
    "\n",
    "#вывод первых 5 строк таблицы\n",
    "internet.head()"
   ]
  },
  {
   "cell_type": "code",
   "execution_count": 9,
   "metadata": {},
   "outputs": [
    {
     "name": "stdout",
     "output_type": "stream",
     "text": [
      "<class 'pandas.core.frame.DataFrame'>\n",
      "Int64Index: 149396 entries, 0 to 149395\n",
      "Data columns (total 4 columns):\n",
      " #   Column        Non-Null Count   Dtype  \n",
      "---  ------        --------------   -----  \n",
      " 0   id            149396 non-null  object \n",
      " 1   mb_used       149396 non-null  float64\n",
      " 2   session_date  149396 non-null  object \n",
      " 3   user_id       149396 non-null  int64  \n",
      "dtypes: float64(1), int64(1), object(2)\n",
      "memory usage: 5.7+ MB\n"
     ]
    }
   ],
   "source": [
    "internet.info()"
   ]
  },
  {
   "cell_type": "markdown",
   "metadata": {},
   "source": [
    "**Таблица `internet`** состоит из 5 столбцов с типами данных `float64`(1), `int64`(2), `object`(2) и содержит информацию о 149396 интернет-сессиях:\n",
    "* `id` — уникальный номер сессии;\n",
    "* `mb_used` — объём потраченного за сессию интернет-трафика (в мегабайтах);\n",
    "* `session_date` — дата интернет-сессии (день, месяц, год);\n",
    "* `user_id` — идентификатор пользователя."
   ]
  },
  {
   "cell_type": "code",
   "execution_count": 10,
   "metadata": {},
   "outputs": [
    {
     "data": {
      "text/html": [
       "<div>\n",
       "<style scoped>\n",
       "    .dataframe tbody tr th:only-of-type {\n",
       "        vertical-align: middle;\n",
       "    }\n",
       "\n",
       "    .dataframe tbody tr th {\n",
       "        vertical-align: top;\n",
       "    }\n",
       "\n",
       "    .dataframe thead th {\n",
       "        text-align: right;\n",
       "    }\n",
       "</style>\n",
       "<table border=\"1\" class=\"dataframe\">\n",
       "  <thead>\n",
       "    <tr style=\"text-align: right;\">\n",
       "      <th></th>\n",
       "      <th>messages_included</th>\n",
       "      <th>mb_per_month_included</th>\n",
       "      <th>minutes_included</th>\n",
       "      <th>rub_monthly_fee</th>\n",
       "      <th>rub_per_gb</th>\n",
       "      <th>rub_per_message</th>\n",
       "      <th>rub_per_minute</th>\n",
       "      <th>tariff_name</th>\n",
       "    </tr>\n",
       "  </thead>\n",
       "  <tbody>\n",
       "    <tr>\n",
       "      <th>0</th>\n",
       "      <td>50</td>\n",
       "      <td>15360</td>\n",
       "      <td>500</td>\n",
       "      <td>550</td>\n",
       "      <td>200</td>\n",
       "      <td>3</td>\n",
       "      <td>3</td>\n",
       "      <td>smart</td>\n",
       "    </tr>\n",
       "    <tr>\n",
       "      <th>1</th>\n",
       "      <td>1000</td>\n",
       "      <td>30720</td>\n",
       "      <td>3000</td>\n",
       "      <td>1950</td>\n",
       "      <td>150</td>\n",
       "      <td>1</td>\n",
       "      <td>1</td>\n",
       "      <td>ultra</td>\n",
       "    </tr>\n",
       "  </tbody>\n",
       "</table>\n",
       "</div>"
      ],
      "text/plain": [
       "   messages_included  mb_per_month_included  minutes_included  \\\n",
       "0                 50                  15360               500   \n",
       "1               1000                  30720              3000   \n",
       "\n",
       "   rub_monthly_fee  rub_per_gb  rub_per_message  rub_per_minute tariff_name  \n",
       "0              550         200                3               3       smart  \n",
       "1             1950         150                1               1       ultra  "
      ]
     },
     "execution_count": 10,
     "metadata": {},
     "output_type": "execute_result"
    }
   ],
   "source": [
    "#открываем файл с данными\n",
    "tariffs = pd.read_csv('/datasets/tariffs.csv')\n",
    "\n",
    "#вывод первых 5 строк таблицы\n",
    "tariffs.head()"
   ]
  },
  {
   "cell_type": "code",
   "execution_count": 11,
   "metadata": {},
   "outputs": [
    {
     "name": "stdout",
     "output_type": "stream",
     "text": [
      "<class 'pandas.core.frame.DataFrame'>\n",
      "RangeIndex: 2 entries, 0 to 1\n",
      "Data columns (total 8 columns):\n",
      " #   Column                 Non-Null Count  Dtype \n",
      "---  ------                 --------------  ----- \n",
      " 0   messages_included      2 non-null      int64 \n",
      " 1   mb_per_month_included  2 non-null      int64 \n",
      " 2   minutes_included       2 non-null      int64 \n",
      " 3   rub_monthly_fee        2 non-null      int64 \n",
      " 4   rub_per_gb             2 non-null      int64 \n",
      " 5   rub_per_message        2 non-null      int64 \n",
      " 6   rub_per_minute         2 non-null      int64 \n",
      " 7   tariff_name            2 non-null      object\n",
      "dtypes: int64(7), object(1)\n",
      "memory usage: 256.0+ bytes\n"
     ]
    }
   ],
   "source": [
    "tariffs.info()"
   ]
  },
  {
   "cell_type": "markdown",
   "metadata": {},
   "source": [
    "**Таблица `tariffs`** состоит из 8 столбцов с типами данных `int64`(7), `object`(1) и содержит информацию о тарифах:\n",
    "* `tariff_name` — название тарифа;\n",
    "* `rub_monthly_fee` — ежемесячная абонентская плата (в рублях);\n",
    "* `minutes_included` — количество минут разговора в месяц, включённых в абонентскую плату;\n",
    "* `messages_included` — количество сообщений в месяц, включённых в абонентскую плату;\n",
    "* `mb_per_month_included` — объём интернет-трафика, включённого в абонентскую плату (в мегабайтах);\n",
    "* `rub_per_minute` — стоимость минуты разговора сверх тарифного пакета (например, если в тарифе 100 минут разговора в месяц, то со 101 минуты будет взиматься плата);\n",
    "* `rub_per_message`— стоимость отправки сообщения сверх тарифного пакета;\n",
    "* `rub_per_gb`— стоимость дополнительного гигабайта интернет-трафика сверх тарифного пакета (1 гигабайт = 1024 мегабайта)."
   ]
  },
  {
   "cell_type": "markdown",
   "metadata": {},
   "source": [
    "По описаниям столбцов таблиц выше, есть такие (`reg_date`, `call_date`, `message_date`, `session_date`), в которых тип данных по факту `object`, но логичнее исправить на формат `datetime`, т.к. они содержат дату."
   ]
  },
  {
   "cell_type": "markdown",
   "metadata": {},
   "source": [
    "<div style=\"border:solid green 1px; padding: 10px\">\n",
    "\n",
    "В каждой таблице содержатся данные о пользователях: кто они, откуда, каким тарифом пользуются, сколько мегабайт интернета потратили, сколько сделали звонков и сообщений отправили за 2018 год.\n",
    "\n",
    "Предварительно можно утверждать, что, данных достаточно для сравнения тарифов Компании.\n",
    "\n",
    "Чтобы двигаться дальше, нужно устранить проблемы в данных и, возможно, объеденить таблицы в общий датафрейм."
   ]
  },
  {
   "cell_type": "markdown",
   "metadata": {},
   "source": [
    "## Предобработка данных"
   ]
  },
  {
   "cell_type": "markdown",
   "metadata": {},
   "source": [
    "### Работа со столбцами и строками\n",
    "\n",
    "Проверим уникальность пересечения значений первичных ключей (user_id) между объединяемыми таблицами для того, чтобы убедиться, что при объединении таблиц в одну, данные будут по всем 500 пользователям."
   ]
  },
  {
   "cell_type": "code",
   "execution_count": 12,
   "metadata": {},
   "outputs": [
    {
     "name": "stdout",
     "output_type": "stream",
     "text": [
      "True     492\n",
      "False      8\n",
      "Name: user_id, dtype: int64\n"
     ]
    }
   ],
   "source": [
    "# проверка\n",
    "print(users['user_id'].isin(calls['user_id']).value_counts())\n",
    "calls_user_id = calls['user_id']\n",
    "ids_not_in_calls = users.query('user_id not in @calls_user_id')"
   ]
  },
  {
   "cell_type": "markdown",
   "metadata": {},
   "source": [
    "Данных по 8ми пользователям из 500 нет в таблице звонков. Добавим недостоющих пользователей:"
   ]
  },
  {
   "cell_type": "code",
   "execution_count": 13,
   "metadata": {},
   "outputs": [],
   "source": [
    "# добавление строк в таблицу звонков\n",
    "cntr = 0\n",
    "while cntr != 8:\n",
    "    for i in ids_not_in_calls['user_id']:\n",
    "        calls = calls.append({'id':str(i)+'_0', 'call_date': '', 'duration': 0.00, 'user_id': i}, ignore_index=True)\n",
    "    cntr += 1"
   ]
  },
  {
   "cell_type": "code",
   "execution_count": 14,
   "metadata": {},
   "outputs": [
    {
     "data": {
      "text/plain": [
       "True    500\n",
       "Name: user_id, dtype: int64"
      ]
     },
     "execution_count": 14,
     "metadata": {},
     "output_type": "execute_result"
    }
   ],
   "source": [
    "# проверка после обновления\n",
    "users['user_id'].isin(calls['user_id']).value_counts()"
   ]
  },
  {
   "cell_type": "code",
   "execution_count": 15,
   "metadata": {},
   "outputs": [
    {
     "name": "stdout",
     "output_type": "stream",
     "text": [
      "True     426\n",
      "False     74\n",
      "Name: user_id, dtype: int64\n"
     ]
    }
   ],
   "source": [
    "# проверка\n",
    "print(users['user_id'].isin(messages['user_id']).value_counts())\n",
    "messages_user_id = messages['user_id']\n",
    "ids_not_in_msgs = users.query('user_id not in @messages_user_id')"
   ]
  },
  {
   "cell_type": "markdown",
   "metadata": {},
   "source": [
    "Данных по 74м пользователям из 500 нет в таблице сообщений. Добавим недостоющих пользователей:"
   ]
  },
  {
   "cell_type": "code",
   "execution_count": 16,
   "metadata": {},
   "outputs": [],
   "source": [
    "# добавление строк в таблицу сообщений\n",
    "cntr = 0\n",
    "while cntr != 8:\n",
    "    for i in ids_not_in_msgs['user_id']:\n",
    "        messages = messages.append({'id':str(i)+'_0', 'message_date': '', 'user_id': i}, ignore_index=True)\n",
    "    cntr += 1"
   ]
  },
  {
   "cell_type": "code",
   "execution_count": 17,
   "metadata": {},
   "outputs": [
    {
     "data": {
      "text/plain": [
       "True    500\n",
       "Name: user_id, dtype: int64"
      ]
     },
     "execution_count": 17,
     "metadata": {},
     "output_type": "execute_result"
    }
   ],
   "source": [
    "# проверка после обновления\n",
    "users['user_id'].isin(messages['user_id']).value_counts()"
   ]
  },
  {
   "cell_type": "code",
   "execution_count": 18,
   "metadata": {},
   "outputs": [
    {
     "name": "stdout",
     "output_type": "stream",
     "text": [
      "True     497\n",
      "False      3\n",
      "Name: user_id, dtype: int64\n"
     ]
    }
   ],
   "source": [
    "# проверка\n",
    "print(users['user_id'].isin(internet['user_id']).value_counts())\n",
    "inrnt_user_id = internet['user_id']\n",
    "ids_not_in_inrnt = users.query('user_id not in @inrnt_user_id')"
   ]
  },
  {
   "cell_type": "markdown",
   "metadata": {},
   "source": [
    "Данных по 3м пользователям из 500 нет в таблице интернет-трафика. Добавим недостоющих пользователей:"
   ]
  },
  {
   "cell_type": "code",
   "execution_count": 19,
   "metadata": {},
   "outputs": [],
   "source": [
    "# добавление строк в таблицу интернет-трафика\n",
    "cntr = 0\n",
    "while cntr != 8:\n",
    "    for i in ids_not_in_inrnt['user_id']:\n",
    "        internet = internet.append({'id':str(i)+'_0', 'mb_used': 0, 'session_date': '', 'user_id': i}, ignore_index=True)\n",
    "    cntr += 1"
   ]
  },
  {
   "cell_type": "code",
   "execution_count": 20,
   "metadata": {},
   "outputs": [
    {
     "data": {
      "text/plain": [
       "True    500\n",
       "Name: user_id, dtype: int64"
      ]
     },
     "execution_count": 20,
     "metadata": {},
     "output_type": "execute_result"
    }
   ],
   "source": [
    "# проверка после обновления\n",
    "users['user_id'].isin(internet['user_id']).value_counts()"
   ]
  },
  {
   "cell_type": "code",
   "execution_count": 21,
   "metadata": {},
   "outputs": [],
   "source": [
    "# изменеение типа данных\n",
    "users['reg_date'] = pd.to_datetime(users['reg_date'], format='%Y.%m.%d')\n",
    "calls['call_date'] = pd.to_datetime(calls['call_date'], format='%Y.%m.%d')\n",
    "messages['message_date'] = pd.to_datetime(messages['message_date'], format='%Y.%m.%d')\n",
    "internet['session_date'] = pd.to_datetime(internet['session_date'], format='%Y.%m.%d')\n",
    "\n",
    "# заполнение пропусков\n",
    "users['churn_date'] = users['churn_date'].fillna('-')"
   ]
  },
  {
   "cell_type": "markdown",
   "metadata": {},
   "source": [
    "### Проверка на аномалии, исправления, дубликаты"
   ]
  },
  {
   "cell_type": "code",
   "execution_count": 22,
   "metadata": {},
   "outputs": [
    {
     "data": {
      "text/plain": [
       "array([0.000e+00, 1.000e-02, 2.000e-02, ..., 3.647e+01, 3.735e+01,\n",
       "       3.800e+01])"
      ]
     },
     "execution_count": 22,
     "metadata": {},
     "output_type": "execute_result"
    }
   ],
   "source": [
    "calls['duration'].sort_values().unique()"
   ]
  },
  {
   "cell_type": "markdown",
   "metadata": {},
   "source": [
    "Есть значения \"0,00\" - это звонки с нулевой продолжительностью. Это не ошибка: нулями обозначены пропущенные звонки, поэтому их не нужно удалять."
   ]
  },
  {
   "cell_type": "code",
   "execution_count": 23,
   "metadata": {},
   "outputs": [
    {
     "data": {
      "text/plain": [
       "array([0.00000e+00, 3.00000e-02, 4.00000e-02, ..., 1.65155e+03,\n",
       "       1.70275e+03, 1.72483e+03])"
      ]
     },
     "execution_count": 23,
     "metadata": {},
     "output_type": "execute_result"
    }
   ],
   "source": [
    "internet['mb_used'].sort_values().unique()"
   ]
  },
  {
   "cell_type": "code",
   "execution_count": 24,
   "metadata": {},
   "outputs": [
    {
     "data": {
      "image/png": "[encoded data removed]",
      "text/plain": [
       "<Figure size 432x288 with 1 Axes>"
      ]
     },
     "metadata": {
      "needs_background": "light"
     },
     "output_type": "display_data"
    }
   ],
   "source": [
    "internet['mb_used'].hist(bins=30);"
   ]
  },
  {
   "cell_type": "code",
   "execution_count": 25,
   "metadata": {},
   "outputs": [
    {
     "data": {
      "text/plain": [
       "13.13211082853701"
      ]
     },
     "execution_count": 25,
     "metadata": {},
     "output_type": "execute_result"
    }
   ],
   "source": [
    "internet.query('mb_used == 0.0')['mb_used'].count() / internet.shape[0] * 100"
   ]
  },
  {
   "cell_type": "markdown",
   "metadata": {},
   "source": [
    "Есть значения \"0,00\" и их доля в общем датафрейме чуть больше 13%. Если я все верно понимаю, при активной интернет-сессии трафик не может быть нулевым, строго говоря он идет даже если пользователь не входит в интернет от фоновой работы приложений телефона к примеру. Однако «Мегалайн» для веб-трафика отдельные сессии не считает. Вместо этого общая сумма за месяц округляется в бо́льшую сторону, а следовательно нулевые значения нам не помешают."
   ]
  },
  {
   "cell_type": "markdown",
   "metadata": {},
   "source": [
    "Дубликатов в данных из таблиц нет. Проверено методом `data.duplicated().sum()` по каждой таблице."
   ]
  },
  {
   "cell_type": "markdown",
   "metadata": {},
   "source": [
    "## Расчёты и добавление результатов в таблицу"
   ]
  },
  {
   "cell_type": "markdown",
   "metadata": {},
   "source": [
    "Посчитаем для каждого пользователя:\n",
    "* количество сделанных звонков и израсходованных минут разговора по месяцам;\n",
    "* количество отправленных сообщений по месяцам;\n",
    "* объем израсходованного интернет-трафика по месяцам;\n",
    "* помесячную выручку с каждого пользователя."
   ]
  },
  {
   "cell_type": "markdown",
   "metadata": {},
   "source": [
    "### Количество сделанных звонков и израсходованных минут разговора по месяцам"
   ]
  },
  {
   "cell_type": "code",
   "execution_count": 26,
   "metadata": {},
   "outputs": [
    {
     "data": {
      "text/html": [
       "<div>\n",
       "<style scoped>\n",
       "    .dataframe tbody tr th:only-of-type {\n",
       "        vertical-align: middle;\n",
       "    }\n",
       "\n",
       "    .dataframe tbody tr th {\n",
       "        vertical-align: top;\n",
       "    }\n",
       "\n",
       "    .dataframe thead th {\n",
       "        text-align: right;\n",
       "    }\n",
       "</style>\n",
       "<table border=\"1\" class=\"dataframe\">\n",
       "  <thead>\n",
       "    <tr style=\"text-align: right;\">\n",
       "      <th></th>\n",
       "      <th></th>\n",
       "      <th>count_calls</th>\n",
       "      <th>calls_duration</th>\n",
       "    </tr>\n",
       "    <tr>\n",
       "      <th>user_id</th>\n",
       "      <th>month</th>\n",
       "      <th></th>\n",
       "      <th></th>\n",
       "    </tr>\n",
       "  </thead>\n",
       "  <tbody>\n",
       "    <tr>\n",
       "      <th rowspan=\"3\" valign=\"top\">1000</th>\n",
       "      <th>5.0</th>\n",
       "      <td>22</td>\n",
       "      <td>159.0</td>\n",
       "    </tr>\n",
       "    <tr>\n",
       "      <th>6.0</th>\n",
       "      <td>43</td>\n",
       "      <td>172.0</td>\n",
       "    </tr>\n",
       "    <tr>\n",
       "      <th>7.0</th>\n",
       "      <td>47</td>\n",
       "      <td>340.0</td>\n",
       "    </tr>\n",
       "  </tbody>\n",
       "</table>\n",
       "</div>"
      ],
      "text/plain": [
       "               count_calls  calls_duration\n",
       "user_id month                             \n",
       "1000    5.0             22           159.0\n",
       "        6.0             43           172.0\n",
       "        7.0             47           340.0"
      ]
     },
     "execution_count": 26,
     "metadata": {},
     "output_type": "execute_result"
    }
   ],
   "source": [
    "# добавим столбец месяца в таблицу звонков\n",
    "calls['month'] = calls['call_date'].dt.month\n",
    "\n",
    "# округляем время звонка согласно политике компании (в большую сторону)\n",
    "calls['duration'] = np.ceil(calls['duration'])\n",
    "\n",
    "# количество сделанных звонков и израсходованных минут разговора по месяцам \n",
    "calls_duration_month = (\n",
    "    calls.pivot_table(index=['user_id', 'month'], values='duration', aggfunc=['count', 'sum'])\n",
    ")\n",
    "\n",
    "# переименование колонок\n",
    "calls_duration_month.columns = ['count_calls','calls_duration']\n",
    "calls_duration_month.head(3)"
   ]
  },
  {
   "cell_type": "markdown",
   "metadata": {},
   "source": [
    "### Количество отправленных сообщений по месяцам"
   ]
  },
  {
   "cell_type": "code",
   "execution_count": 27,
   "metadata": {},
   "outputs": [
    {
     "data": {
      "text/html": [
       "<div>\n",
       "<style scoped>\n",
       "    .dataframe tbody tr th:only-of-type {\n",
       "        vertical-align: middle;\n",
       "    }\n",
       "\n",
       "    .dataframe tbody tr th {\n",
       "        vertical-align: top;\n",
       "    }\n",
       "\n",
       "    .dataframe thead th {\n",
       "        text-align: right;\n",
       "    }\n",
       "</style>\n",
       "<table border=\"1\" class=\"dataframe\">\n",
       "  <thead>\n",
       "    <tr style=\"text-align: right;\">\n",
       "      <th></th>\n",
       "      <th></th>\n",
       "      <th>count_messages</th>\n",
       "    </tr>\n",
       "    <tr>\n",
       "      <th>user_id</th>\n",
       "      <th>month</th>\n",
       "      <th></th>\n",
       "    </tr>\n",
       "  </thead>\n",
       "  <tbody>\n",
       "    <tr>\n",
       "      <th rowspan=\"3\" valign=\"top\">1000</th>\n",
       "      <th>5.0</th>\n",
       "      <td>22</td>\n",
       "    </tr>\n",
       "    <tr>\n",
       "      <th>6.0</th>\n",
       "      <td>60</td>\n",
       "    </tr>\n",
       "    <tr>\n",
       "      <th>7.0</th>\n",
       "      <td>75</td>\n",
       "    </tr>\n",
       "  </tbody>\n",
       "</table>\n",
       "</div>"
      ],
      "text/plain": [
       "               count_messages\n",
       "user_id month                \n",
       "1000    5.0                22\n",
       "        6.0                60\n",
       "        7.0                75"
      ]
     },
     "execution_count": 27,
     "metadata": {},
     "output_type": "execute_result"
    }
   ],
   "source": [
    "# добавим столбец месяца в таблицу сообщений\n",
    "messages['month'] = messages['message_date'].dt.month\n",
    "\n",
    "# количество отправленных сообщений по месяцам \n",
    "messages_count_month = (\n",
    "    messages.pivot_table(index=['user_id', 'month'], values='id', aggfunc='count')\n",
    ")\n",
    "messages_count_month.columns = ['count_messages']\n",
    "messages_count_month.head(3)"
   ]
  },
  {
   "cell_type": "markdown",
   "metadata": {},
   "source": [
    "### Объем израсходованного интернет-трафика по месяцам"
   ]
  },
  {
   "cell_type": "code",
   "execution_count": 28,
   "metadata": {},
   "outputs": [
    {
     "data": {
      "text/html": [
       "<div>\n",
       "<style scoped>\n",
       "    .dataframe tbody tr th:only-of-type {\n",
       "        vertical-align: middle;\n",
       "    }\n",
       "\n",
       "    .dataframe tbody tr th {\n",
       "        vertical-align: top;\n",
       "    }\n",
       "\n",
       "    .dataframe thead th {\n",
       "        text-align: right;\n",
       "    }\n",
       "</style>\n",
       "<table border=\"1\" class=\"dataframe\">\n",
       "  <thead>\n",
       "    <tr style=\"text-align: right;\">\n",
       "      <th></th>\n",
       "      <th></th>\n",
       "      <th>sum_mb_used</th>\n",
       "    </tr>\n",
       "    <tr>\n",
       "      <th>user_id</th>\n",
       "      <th>month</th>\n",
       "      <th></th>\n",
       "    </tr>\n",
       "  </thead>\n",
       "  <tbody>\n",
       "    <tr>\n",
       "      <th rowspan=\"3\" valign=\"top\">1000</th>\n",
       "      <th>5.0</th>\n",
       "      <td>3072.0</td>\n",
       "    </tr>\n",
       "    <tr>\n",
       "      <th>6.0</th>\n",
       "      <td>23552.0</td>\n",
       "    </tr>\n",
       "    <tr>\n",
       "      <th>7.0</th>\n",
       "      <td>14336.0</td>\n",
       "    </tr>\n",
       "  </tbody>\n",
       "</table>\n",
       "</div>"
      ],
      "text/plain": [
       "               sum_mb_used\n",
       "user_id month             \n",
       "1000    5.0         3072.0\n",
       "        6.0        23552.0\n",
       "        7.0        14336.0"
      ]
     },
     "execution_count": 28,
     "metadata": {},
     "output_type": "execute_result"
    }
   ],
   "source": [
    "# добавим столбец месяца в таблицу интернет-трафикa\n",
    "internet['month'] = internet['session_date'].dt.month\n",
    "\n",
    "# объем израсходованного интернет-трафика по месяцам \n",
    "mb_used_month = (\n",
    "    internet.pivot_table(index=['user_id', 'month'], values='mb_used', aggfunc='sum')\n",
    ")\n",
    "mb_used_month.columns = ['sum_mb_used']\n",
    "\n",
    "# округляем трафик согласно политике компании (в большую сторону)\n",
    "mb_used_month['sum_mb_used'] = np.ceil(mb_used_month['sum_mb_used'] / 1024) * 1024\n",
    "mb_used_month.head(3)"
   ]
  },
  {
   "cell_type": "markdown",
   "metadata": {},
   "source": [
    "### Сбор сводных таблиц с расчетами выше в один датафрейм для удобства визуализации и дальнейшей работы"
   ]
  },
  {
   "cell_type": "code",
   "execution_count": 29,
   "metadata": {},
   "outputs": [
    {
     "data": {
      "text/html": [
       "<div>\n",
       "<style scoped>\n",
       "    .dataframe tbody tr th:only-of-type {\n",
       "        vertical-align: middle;\n",
       "    }\n",
       "\n",
       "    .dataframe tbody tr th {\n",
       "        vertical-align: top;\n",
       "    }\n",
       "\n",
       "    .dataframe thead th {\n",
       "        text-align: right;\n",
       "    }\n",
       "</style>\n",
       "<table border=\"1\" class=\"dataframe\">\n",
       "  <thead>\n",
       "    <tr style=\"text-align: right;\">\n",
       "      <th></th>\n",
       "      <th></th>\n",
       "      <th>count_calls</th>\n",
       "      <th>calls_duration</th>\n",
       "      <th>count_messages</th>\n",
       "      <th>sum_mb_used</th>\n",
       "    </tr>\n",
       "    <tr>\n",
       "      <th>user_id</th>\n",
       "      <th>month</th>\n",
       "      <th></th>\n",
       "      <th></th>\n",
       "      <th></th>\n",
       "      <th></th>\n",
       "    </tr>\n",
       "  </thead>\n",
       "  <tbody>\n",
       "    <tr>\n",
       "      <th rowspan=\"5\" valign=\"top\">1000</th>\n",
       "      <th>5.0</th>\n",
       "      <td>22.0</td>\n",
       "      <td>159.0</td>\n",
       "      <td>22.0</td>\n",
       "      <td>3072.0</td>\n",
       "    </tr>\n",
       "    <tr>\n",
       "      <th>6.0</th>\n",
       "      <td>43.0</td>\n",
       "      <td>172.0</td>\n",
       "      <td>60.0</td>\n",
       "      <td>23552.0</td>\n",
       "    </tr>\n",
       "    <tr>\n",
       "      <th>7.0</th>\n",
       "      <td>47.0</td>\n",
       "      <td>340.0</td>\n",
       "      <td>75.0</td>\n",
       "      <td>14336.0</td>\n",
       "    </tr>\n",
       "    <tr>\n",
       "      <th>8.0</th>\n",
       "      <td>52.0</td>\n",
       "      <td>408.0</td>\n",
       "      <td>81.0</td>\n",
       "      <td>14336.0</td>\n",
       "    </tr>\n",
       "    <tr>\n",
       "      <th>9.0</th>\n",
       "      <td>58.0</td>\n",
       "      <td>466.0</td>\n",
       "      <td>57.0</td>\n",
       "      <td>15360.0</td>\n",
       "    </tr>\n",
       "  </tbody>\n",
       "</table>\n",
       "</div>"
      ],
      "text/plain": [
       "               count_calls  calls_duration  count_messages  sum_mb_used\n",
       "user_id month                                                          \n",
       "1000    5.0           22.0           159.0            22.0       3072.0\n",
       "        6.0           43.0           172.0            60.0      23552.0\n",
       "        7.0           47.0           340.0            75.0      14336.0\n",
       "        8.0           52.0           408.0            81.0      14336.0\n",
       "        9.0           58.0           466.0            57.0      15360.0"
      ]
     },
     "execution_count": 29,
     "metadata": {},
     "output_type": "execute_result"
    }
   ],
   "source": [
    "users_df_by_month = calls_duration_month.join([messages_count_month, mb_used_month], how='outer')\n",
    "users_df_by_month.head()"
   ]
  },
  {
   "cell_type": "code",
   "execution_count": 30,
   "metadata": {},
   "outputs": [
    {
     "name": "stdout",
     "output_type": "stream",
     "text": [
      "<class 'pandas.core.frame.DataFrame'>\n",
      "MultiIndex: 3214 entries, (1000, 5.0) to (1499, 12.0)\n",
      "Data columns (total 4 columns):\n",
      " #   Column          Non-Null Count  Dtype  \n",
      "---  ------          --------------  -----  \n",
      " 0   count_calls     3174 non-null   float64\n",
      " 1   calls_duration  3174 non-null   float64\n",
      " 2   count_messages  2717 non-null   float64\n",
      " 3   sum_mb_used     3203 non-null   float64\n",
      "dtypes: float64(4)\n",
      "memory usage: 130.4 KB\n"
     ]
    }
   ],
   "source": [
    "users_df_by_month.info()"
   ]
  },
  {
   "cell_type": "code",
   "execution_count": 31,
   "metadata": {},
   "outputs": [],
   "source": [
    "# наводим \"красоту\"\n",
    "users_df_by_month = users_df_by_month.reset_index()"
   ]
  },
  {
   "cell_type": "code",
   "execution_count": 32,
   "metadata": {},
   "outputs": [
    {
     "data": {
      "text/html": [
       "<div>\n",
       "<style scoped>\n",
       "    .dataframe tbody tr th:only-of-type {\n",
       "        vertical-align: middle;\n",
       "    }\n",
       "\n",
       "    .dataframe tbody tr th {\n",
       "        vertical-align: top;\n",
       "    }\n",
       "\n",
       "    .dataframe thead th {\n",
       "        text-align: right;\n",
       "    }\n",
       "</style>\n",
       "<table border=\"1\" class=\"dataframe\">\n",
       "  <thead>\n",
       "    <tr style=\"text-align: right;\">\n",
       "      <th></th>\n",
       "      <th>user_id</th>\n",
       "      <th>month</th>\n",
       "      <th>count_calls</th>\n",
       "      <th>calls_duration</th>\n",
       "      <th>count_messages</th>\n",
       "      <th>sum_mb_used</th>\n",
       "    </tr>\n",
       "  </thead>\n",
       "  <tbody>\n",
       "    <tr>\n",
       "      <th>0</th>\n",
       "      <td>1000</td>\n",
       "      <td>5.0</td>\n",
       "      <td>22.0</td>\n",
       "      <td>159.0</td>\n",
       "      <td>22.0</td>\n",
       "      <td>3072.0</td>\n",
       "    </tr>\n",
       "    <tr>\n",
       "      <th>1</th>\n",
       "      <td>1000</td>\n",
       "      <td>6.0</td>\n",
       "      <td>43.0</td>\n",
       "      <td>172.0</td>\n",
       "      <td>60.0</td>\n",
       "      <td>23552.0</td>\n",
       "    </tr>\n",
       "    <tr>\n",
       "      <th>2</th>\n",
       "      <td>1000</td>\n",
       "      <td>7.0</td>\n",
       "      <td>47.0</td>\n",
       "      <td>340.0</td>\n",
       "      <td>75.0</td>\n",
       "      <td>14336.0</td>\n",
       "    </tr>\n",
       "    <tr>\n",
       "      <th>3</th>\n",
       "      <td>1000</td>\n",
       "      <td>8.0</td>\n",
       "      <td>52.0</td>\n",
       "      <td>408.0</td>\n",
       "      <td>81.0</td>\n",
       "      <td>14336.0</td>\n",
       "    </tr>\n",
       "    <tr>\n",
       "      <th>4</th>\n",
       "      <td>1000</td>\n",
       "      <td>9.0</td>\n",
       "      <td>58.0</td>\n",
       "      <td>466.0</td>\n",
       "      <td>57.0</td>\n",
       "      <td>15360.0</td>\n",
       "    </tr>\n",
       "  </tbody>\n",
       "</table>\n",
       "</div>"
      ],
      "text/plain": [
       "   user_id  month  count_calls  calls_duration  count_messages  sum_mb_used\n",
       "0     1000    5.0         22.0           159.0            22.0       3072.0\n",
       "1     1000    6.0         43.0           172.0            60.0      23552.0\n",
       "2     1000    7.0         47.0           340.0            75.0      14336.0\n",
       "3     1000    8.0         52.0           408.0            81.0      14336.0\n",
       "4     1000    9.0         58.0           466.0            57.0      15360.0"
      ]
     },
     "execution_count": 32,
     "metadata": {},
     "output_type": "execute_result"
    }
   ],
   "source": [
    "users_df_by_month.head()"
   ]
  },
  {
   "cell_type": "code",
   "execution_count": 33,
   "metadata": {},
   "outputs": [
    {
     "data": {
      "text/html": [
       "<div>\n",
       "<style scoped>\n",
       "    .dataframe tbody tr th:only-of-type {\n",
       "        vertical-align: middle;\n",
       "    }\n",
       "\n",
       "    .dataframe tbody tr th {\n",
       "        vertical-align: top;\n",
       "    }\n",
       "\n",
       "    .dataframe thead th {\n",
       "        text-align: right;\n",
       "    }\n",
       "</style>\n",
       "<table border=\"1\" class=\"dataframe\">\n",
       "  <thead>\n",
       "    <tr style=\"text-align: right;\">\n",
       "      <th></th>\n",
       "      <th>user_id</th>\n",
       "      <th>age</th>\n",
       "      <th>churn_date</th>\n",
       "      <th>city</th>\n",
       "      <th>first_name</th>\n",
       "      <th>last_name</th>\n",
       "      <th>reg_date</th>\n",
       "      <th>month</th>\n",
       "      <th>count_calls</th>\n",
       "      <th>calls_duration</th>\n",
       "      <th>count_messages</th>\n",
       "      <th>sum_mb_used</th>\n",
       "      <th>tariff_name</th>\n",
       "      <th>messages_included</th>\n",
       "      <th>mb_per_month_included</th>\n",
       "      <th>minutes_included</th>\n",
       "      <th>rub_monthly_fee</th>\n",
       "      <th>rub_per_gb</th>\n",
       "      <th>rub_per_message</th>\n",
       "      <th>rub_per_minute</th>\n",
       "    </tr>\n",
       "  </thead>\n",
       "  <tbody>\n",
       "    <tr>\n",
       "      <th>0</th>\n",
       "      <td>1000</td>\n",
       "      <td>52</td>\n",
       "      <td>-</td>\n",
       "      <td>Краснодар</td>\n",
       "      <td>Рафаил</td>\n",
       "      <td>Верещагин</td>\n",
       "      <td>2018-05-25</td>\n",
       "      <td>5.0</td>\n",
       "      <td>22.0</td>\n",
       "      <td>159.0</td>\n",
       "      <td>22.0</td>\n",
       "      <td>3072.0</td>\n",
       "      <td>ultra</td>\n",
       "      <td>1000</td>\n",
       "      <td>30720</td>\n",
       "      <td>3000</td>\n",
       "      <td>1950</td>\n",
       "      <td>150</td>\n",
       "      <td>1</td>\n",
       "      <td>1</td>\n",
       "    </tr>\n",
       "    <tr>\n",
       "      <th>1</th>\n",
       "      <td>1000</td>\n",
       "      <td>52</td>\n",
       "      <td>-</td>\n",
       "      <td>Краснодар</td>\n",
       "      <td>Рафаил</td>\n",
       "      <td>Верещагин</td>\n",
       "      <td>2018-05-25</td>\n",
       "      <td>6.0</td>\n",
       "      <td>43.0</td>\n",
       "      <td>172.0</td>\n",
       "      <td>60.0</td>\n",
       "      <td>23552.0</td>\n",
       "      <td>ultra</td>\n",
       "      <td>1000</td>\n",
       "      <td>30720</td>\n",
       "      <td>3000</td>\n",
       "      <td>1950</td>\n",
       "      <td>150</td>\n",
       "      <td>1</td>\n",
       "      <td>1</td>\n",
       "    </tr>\n",
       "    <tr>\n",
       "      <th>2</th>\n",
       "      <td>1000</td>\n",
       "      <td>52</td>\n",
       "      <td>-</td>\n",
       "      <td>Краснодар</td>\n",
       "      <td>Рафаил</td>\n",
       "      <td>Верещагин</td>\n",
       "      <td>2018-05-25</td>\n",
       "      <td>7.0</td>\n",
       "      <td>47.0</td>\n",
       "      <td>340.0</td>\n",
       "      <td>75.0</td>\n",
       "      <td>14336.0</td>\n",
       "      <td>ultra</td>\n",
       "      <td>1000</td>\n",
       "      <td>30720</td>\n",
       "      <td>3000</td>\n",
       "      <td>1950</td>\n",
       "      <td>150</td>\n",
       "      <td>1</td>\n",
       "      <td>1</td>\n",
       "    </tr>\n",
       "    <tr>\n",
       "      <th>3</th>\n",
       "      <td>1000</td>\n",
       "      <td>52</td>\n",
       "      <td>-</td>\n",
       "      <td>Краснодар</td>\n",
       "      <td>Рафаил</td>\n",
       "      <td>Верещагин</td>\n",
       "      <td>2018-05-25</td>\n",
       "      <td>8.0</td>\n",
       "      <td>52.0</td>\n",
       "      <td>408.0</td>\n",
       "      <td>81.0</td>\n",
       "      <td>14336.0</td>\n",
       "      <td>ultra</td>\n",
       "      <td>1000</td>\n",
       "      <td>30720</td>\n",
       "      <td>3000</td>\n",
       "      <td>1950</td>\n",
       "      <td>150</td>\n",
       "      <td>1</td>\n",
       "      <td>1</td>\n",
       "    </tr>\n",
       "    <tr>\n",
       "      <th>4</th>\n",
       "      <td>1000</td>\n",
       "      <td>52</td>\n",
       "      <td>-</td>\n",
       "      <td>Краснодар</td>\n",
       "      <td>Рафаил</td>\n",
       "      <td>Верещагин</td>\n",
       "      <td>2018-05-25</td>\n",
       "      <td>9.0</td>\n",
       "      <td>58.0</td>\n",
       "      <td>466.0</td>\n",
       "      <td>57.0</td>\n",
       "      <td>15360.0</td>\n",
       "      <td>ultra</td>\n",
       "      <td>1000</td>\n",
       "      <td>30720</td>\n",
       "      <td>3000</td>\n",
       "      <td>1950</td>\n",
       "      <td>150</td>\n",
       "      <td>1</td>\n",
       "      <td>1</td>\n",
       "    </tr>\n",
       "    <tr>\n",
       "      <th>5</th>\n",
       "      <td>1000</td>\n",
       "      <td>52</td>\n",
       "      <td>-</td>\n",
       "      <td>Краснодар</td>\n",
       "      <td>Рафаил</td>\n",
       "      <td>Верещагин</td>\n",
       "      <td>2018-05-25</td>\n",
       "      <td>10.0</td>\n",
       "      <td>57.0</td>\n",
       "      <td>350.0</td>\n",
       "      <td>73.0</td>\n",
       "      <td>15360.0</td>\n",
       "      <td>ultra</td>\n",
       "      <td>1000</td>\n",
       "      <td>30720</td>\n",
       "      <td>3000</td>\n",
       "      <td>1950</td>\n",
       "      <td>150</td>\n",
       "      <td>1</td>\n",
       "      <td>1</td>\n",
       "    </tr>\n",
       "    <tr>\n",
       "      <th>6</th>\n",
       "      <td>1000</td>\n",
       "      <td>52</td>\n",
       "      <td>-</td>\n",
       "      <td>Краснодар</td>\n",
       "      <td>Рафаил</td>\n",
       "      <td>Верещагин</td>\n",
       "      <td>2018-05-25</td>\n",
       "      <td>11.0</td>\n",
       "      <td>43.0</td>\n",
       "      <td>338.0</td>\n",
       "      <td>58.0</td>\n",
       "      <td>15360.0</td>\n",
       "      <td>ultra</td>\n",
       "      <td>1000</td>\n",
       "      <td>30720</td>\n",
       "      <td>3000</td>\n",
       "      <td>1950</td>\n",
       "      <td>150</td>\n",
       "      <td>1</td>\n",
       "      <td>1</td>\n",
       "    </tr>\n",
       "    <tr>\n",
       "      <th>7</th>\n",
       "      <td>1000</td>\n",
       "      <td>52</td>\n",
       "      <td>-</td>\n",
       "      <td>Краснодар</td>\n",
       "      <td>Рафаил</td>\n",
       "      <td>Верещагин</td>\n",
       "      <td>2018-05-25</td>\n",
       "      <td>12.0</td>\n",
       "      <td>46.0</td>\n",
       "      <td>333.0</td>\n",
       "      <td>70.0</td>\n",
       "      <td>10240.0</td>\n",
       "      <td>ultra</td>\n",
       "      <td>1000</td>\n",
       "      <td>30720</td>\n",
       "      <td>3000</td>\n",
       "      <td>1950</td>\n",
       "      <td>150</td>\n",
       "      <td>1</td>\n",
       "      <td>1</td>\n",
       "    </tr>\n",
       "    <tr>\n",
       "      <th>8</th>\n",
       "      <td>1003</td>\n",
       "      <td>23</td>\n",
       "      <td>-</td>\n",
       "      <td>Москва</td>\n",
       "      <td>Белла</td>\n",
       "      <td>Белякова</td>\n",
       "      <td>2018-08-17</td>\n",
       "      <td>8.0</td>\n",
       "      <td>55.0</td>\n",
       "      <td>380.0</td>\n",
       "      <td>37.0</td>\n",
       "      <td>9216.0</td>\n",
       "      <td>ultra</td>\n",
       "      <td>1000</td>\n",
       "      <td>30720</td>\n",
       "      <td>3000</td>\n",
       "      <td>1950</td>\n",
       "      <td>150</td>\n",
       "      <td>1</td>\n",
       "      <td>1</td>\n",
       "    </tr>\n",
       "    <tr>\n",
       "      <th>9</th>\n",
       "      <td>1003</td>\n",
       "      <td>23</td>\n",
       "      <td>-</td>\n",
       "      <td>Москва</td>\n",
       "      <td>Белла</td>\n",
       "      <td>Белякова</td>\n",
       "      <td>2018-08-17</td>\n",
       "      <td>9.0</td>\n",
       "      <td>134.0</td>\n",
       "      <td>961.0</td>\n",
       "      <td>91.0</td>\n",
       "      <td>13312.0</td>\n",
       "      <td>ultra</td>\n",
       "      <td>1000</td>\n",
       "      <td>30720</td>\n",
       "      <td>3000</td>\n",
       "      <td>1950</td>\n",
       "      <td>150</td>\n",
       "      <td>1</td>\n",
       "      <td>1</td>\n",
       "    </tr>\n",
       "  </tbody>\n",
       "</table>\n",
       "</div>"
      ],
      "text/plain": [
       "   user_id  age churn_date       city first_name  last_name   reg_date  month  \\\n",
       "0     1000   52          -  Краснодар     Рафаил  Верещагин 2018-05-25    5.0   \n",
       "1     1000   52          -  Краснодар     Рафаил  Верещагин 2018-05-25    6.0   \n",
       "2     1000   52          -  Краснодар     Рафаил  Верещагин 2018-05-25    7.0   \n",
       "3     1000   52          -  Краснодар     Рафаил  Верещагин 2018-05-25    8.0   \n",
       "4     1000   52          -  Краснодар     Рафаил  Верещагин 2018-05-25    9.0   \n",
       "5     1000   52          -  Краснодар     Рафаил  Верещагин 2018-05-25   10.0   \n",
       "6     1000   52          -  Краснодар     Рафаил  Верещагин 2018-05-25   11.0   \n",
       "7     1000   52          -  Краснодар     Рафаил  Верещагин 2018-05-25   12.0   \n",
       "8     1003   23          -     Москва      Белла   Белякова 2018-08-17    8.0   \n",
       "9     1003   23          -     Москва      Белла   Белякова 2018-08-17    9.0   \n",
       "\n",
       "   count_calls  calls_duration  count_messages  sum_mb_used tariff_name  \\\n",
       "0         22.0           159.0            22.0       3072.0       ultra   \n",
       "1         43.0           172.0            60.0      23552.0       ultra   \n",
       "2         47.0           340.0            75.0      14336.0       ultra   \n",
       "3         52.0           408.0            81.0      14336.0       ultra   \n",
       "4         58.0           466.0            57.0      15360.0       ultra   \n",
       "5         57.0           350.0            73.0      15360.0       ultra   \n",
       "6         43.0           338.0            58.0      15360.0       ultra   \n",
       "7         46.0           333.0            70.0      10240.0       ultra   \n",
       "8         55.0           380.0            37.0       9216.0       ultra   \n",
       "9        134.0           961.0            91.0      13312.0       ultra   \n",
       "\n",
       "   messages_included  mb_per_month_included  minutes_included  \\\n",
       "0               1000                  30720              3000   \n",
       "1               1000                  30720              3000   \n",
       "2               1000                  30720              3000   \n",
       "3               1000                  30720              3000   \n",
       "4               1000                  30720              3000   \n",
       "5               1000                  30720              3000   \n",
       "6               1000                  30720              3000   \n",
       "7               1000                  30720              3000   \n",
       "8               1000                  30720              3000   \n",
       "9               1000                  30720              3000   \n",
       "\n",
       "   rub_monthly_fee  rub_per_gb  rub_per_message  rub_per_minute  \n",
       "0             1950         150                1               1  \n",
       "1             1950         150                1               1  \n",
       "2             1950         150                1               1  \n",
       "3             1950         150                1               1  \n",
       "4             1950         150                1               1  \n",
       "5             1950         150                1               1  \n",
       "6             1950         150                1               1  \n",
       "7             1950         150                1               1  \n",
       "8             1950         150                1               1  \n",
       "9             1950         150                1               1  "
      ]
     },
     "execution_count": 33,
     "metadata": {},
     "output_type": "execute_result"
    }
   ],
   "source": [
    "# объединяем с таблицей по данным пользователей\n",
    "users_full_df = users.merge(users_df_by_month, on='user_id', how='outer')\n",
    "\n",
    "# объединяем с таблицей по данным о тaрифах\n",
    "users_full_df['tariff_name'] = users_full_df['tariff']\n",
    "del users_full_df['tariff']\n",
    "users_full_df = users_full_df.merge(tariffs, on='tariff_name')\n",
    "users_full_df.head(10)"
   ]
  },
  {
   "cell_type": "code",
   "execution_count": 34,
   "metadata": {},
   "outputs": [
    {
     "data": {
      "text/plain": [
       "user_id                    0\n",
       "age                        0\n",
       "churn_date                 0\n",
       "city                       0\n",
       "first_name                 0\n",
       "last_name                  0\n",
       "reg_date                   0\n",
       "month                      2\n",
       "count_calls               42\n",
       "calls_duration            42\n",
       "count_messages           499\n",
       "sum_mb_used               13\n",
       "tariff_name                0\n",
       "messages_included          0\n",
       "mb_per_month_included      0\n",
       "minutes_included           0\n",
       "rub_monthly_fee            0\n",
       "rub_per_gb                 0\n",
       "rub_per_message            0\n",
       "rub_per_minute             0\n",
       "dtype: int64"
      ]
     },
     "execution_count": 34,
     "metadata": {},
     "output_type": "execute_result"
    }
   ],
   "source": [
    "# проверяем пропуски\n",
    "users_full_df.isna().sum()"
   ]
  },
  {
   "cell_type": "code",
   "execution_count": 35,
   "metadata": {},
   "outputs": [],
   "source": [
    "# заполняем пропуски\n",
    "users_full_df['count_messages'] = users_full_df['count_messages'].fillna(0)\n",
    "users_full_df['calls_duration'] = users_full_df['calls_duration'].fillna(0)\n",
    "users_full_df['count_calls'] = users_full_df['count_calls'].fillna(0)\n",
    "users_full_df['sum_mb_used'] = users_full_df['sum_mb_used'].fillna(0)\n",
    "users_full_df.loc[243, 'month'] = users_full_df.loc[243, 'reg_date'].month\n",
    "users_full_df.loc[2619, 'month'] = users_full_df.loc[2619, 'reg_date'].month"
   ]
  },
  {
   "cell_type": "code",
   "execution_count": 36,
   "metadata": {},
   "outputs": [
    {
     "data": {
      "text/plain": [
       "user_id                  0\n",
       "age                      0\n",
       "churn_date               0\n",
       "city                     0\n",
       "first_name               0\n",
       "last_name                0\n",
       "reg_date                 0\n",
       "month                    0\n",
       "count_calls              0\n",
       "calls_duration           0\n",
       "count_messages           0\n",
       "sum_mb_used              0\n",
       "tariff_name              0\n",
       "messages_included        0\n",
       "mb_per_month_included    0\n",
       "minutes_included         0\n",
       "rub_monthly_fee          0\n",
       "rub_per_gb               0\n",
       "rub_per_message          0\n",
       "rub_per_minute           0\n",
       "dtype: int64"
      ]
     },
     "execution_count": 36,
     "metadata": {},
     "output_type": "execute_result"
    }
   ],
   "source": [
    "users_full_df.isna().sum()"
   ]
  },
  {
   "cell_type": "code",
   "execution_count": 37,
   "metadata": {},
   "outputs": [],
   "source": [
    "# изменим тип данных для столбцов\n",
    "columns_list = ['count_calls', 'calls_duration', 'count_messages', 'sum_mb_used', 'month']\n",
    "for column in columns_list:\n",
    "    users_full_df[column] =  users_full_df[column].astype('int')"
   ]
  },
  {
   "cell_type": "markdown",
   "metadata": {},
   "source": [
    "### Помесячная выручка с каждого пользователя"
   ]
  },
  {
   "cell_type": "code",
   "execution_count": 38,
   "metadata": {},
   "outputs": [],
   "source": [
    "# считаем \n",
    "def minuts(row):\n",
    "    tot_minuts = row['minutes_included'] - row['calls_duration']\n",
    "    if tot_minuts < 0:\n",
    "        tot_minuts = abs(tot_minuts) * row['rub_per_minute']\n",
    "        return tot_minuts\n",
    "    if tot_minuts >= 0:\n",
    "        return 0\n",
    "\n",
    "tot_minuts = users_full_df.apply(minuts, axis=1)\n",
    "\n",
    "def msgs(row):\n",
    "    tot_msgs = row['messages_included'] - row['count_messages']\n",
    "    if tot_msgs < 0:\n",
    "        tot_msgs = abs(tot_msgs) * row['rub_per_message']\n",
    "        return tot_msgs\n",
    "    if tot_msgs >= 0:\n",
    "        return 0\n",
    "\n",
    "tot_msgs = users_full_df.apply(msgs, axis=1)\n",
    "\n",
    "def intrnt(row):\n",
    "    tot_intrnt = row['mb_per_month_included'] - row['sum_mb_used']\n",
    "    if tot_intrnt < 0:\n",
    "        tot_intrnt = (abs(tot_intrnt) / 1024) * row['rub_per_gb'] + row['rub_monthly_fee']\n",
    "        return tot_intrnt\n",
    "    if tot_intrnt >= 0:\n",
    "        return row['rub_monthly_fee']\n",
    "\n",
    "tot_intrnt = users_full_df.apply(intrnt, axis=1)\n",
    "\n",
    "prof = tot_minuts + tot_msgs + tot_intrnt\n",
    "users_full_df['profit'] = prof"
   ]
  },
  {
   "cell_type": "code",
   "execution_count": 39,
   "metadata": {},
   "outputs": [
    {
     "data": {
      "text/html": [
       "<div>\n",
       "<style scoped>\n",
       "    .dataframe tbody tr th:only-of-type {\n",
       "        vertical-align: middle;\n",
       "    }\n",
       "\n",
       "    .dataframe tbody tr th {\n",
       "        vertical-align: top;\n",
       "    }\n",
       "\n",
       "    .dataframe thead th {\n",
       "        text-align: right;\n",
       "    }\n",
       "</style>\n",
       "<table border=\"1\" class=\"dataframe\">\n",
       "  <thead>\n",
       "    <tr style=\"text-align: right;\">\n",
       "      <th></th>\n",
       "      <th>messages_included</th>\n",
       "      <th>mb_per_month_included</th>\n",
       "      <th>minutes_included</th>\n",
       "      <th>rub_monthly_fee</th>\n",
       "      <th>rub_per_gb</th>\n",
       "      <th>rub_per_message</th>\n",
       "      <th>rub_per_minute</th>\n",
       "      <th>tariff_name</th>\n",
       "    </tr>\n",
       "  </thead>\n",
       "  <tbody>\n",
       "    <tr>\n",
       "      <th>1</th>\n",
       "      <td>1000</td>\n",
       "      <td>30720</td>\n",
       "      <td>3000</td>\n",
       "      <td>1950</td>\n",
       "      <td>150</td>\n",
       "      <td>1</td>\n",
       "      <td>1</td>\n",
       "      <td>ultra</td>\n",
       "    </tr>\n",
       "  </tbody>\n",
       "</table>\n",
       "</div>"
      ],
      "text/plain": [
       "   messages_included  mb_per_month_included  minutes_included  \\\n",
       "1               1000                  30720              3000   \n",
       "\n",
       "   rub_monthly_fee  rub_per_gb  rub_per_message  rub_per_minute tariff_name  \n",
       "1             1950         150                1               1       ultra  "
      ]
     },
     "metadata": {},
     "output_type": "display_data"
    },
    {
     "data": {
      "text/html": [
       "<div>\n",
       "<style scoped>\n",
       "    .dataframe tbody tr th:only-of-type {\n",
       "        vertical-align: middle;\n",
       "    }\n",
       "\n",
       "    .dataframe tbody tr th {\n",
       "        vertical-align: top;\n",
       "    }\n",
       "\n",
       "    .dataframe thead th {\n",
       "        text-align: right;\n",
       "    }\n",
       "</style>\n",
       "<table border=\"1\" class=\"dataframe\">\n",
       "  <thead>\n",
       "    <tr style=\"text-align: right;\">\n",
       "      <th></th>\n",
       "      <th>calls_duration</th>\n",
       "      <th>count_messages</th>\n",
       "      <th>sum_mb_used</th>\n",
       "      <th>profit</th>\n",
       "    </tr>\n",
       "  </thead>\n",
       "  <tbody>\n",
       "    <tr>\n",
       "      <th>981</th>\n",
       "      <td>92</td>\n",
       "      <td>13</td>\n",
       "      <td>3072</td>\n",
       "      <td>1950.0</td>\n",
       "    </tr>\n",
       "    <tr>\n",
       "      <th>982</th>\n",
       "      <td>813</td>\n",
       "      <td>82</td>\n",
       "      <td>33792</td>\n",
       "      <td>2400.0</td>\n",
       "    </tr>\n",
       "    <tr>\n",
       "      <th>983</th>\n",
       "      <td>1030</td>\n",
       "      <td>82</td>\n",
       "      <td>29696</td>\n",
       "      <td>1950.0</td>\n",
       "    </tr>\n",
       "    <tr>\n",
       "      <th>984</th>\n",
       "      <td>954</td>\n",
       "      <td>79</td>\n",
       "      <td>39936</td>\n",
       "      <td>3300.0</td>\n",
       "    </tr>\n",
       "    <tr>\n",
       "      <th>985</th>\n",
       "      <td>1031</td>\n",
       "      <td>84</td>\n",
       "      <td>23552</td>\n",
       "      <td>1950.0</td>\n",
       "    </tr>\n",
       "  </tbody>\n",
       "</table>\n",
       "</div>"
      ],
      "text/plain": [
       "     calls_duration  count_messages  sum_mb_used  profit\n",
       "981              92              13         3072  1950.0\n",
       "982             813              82        33792  2400.0\n",
       "983            1030              82        29696  1950.0\n",
       "984             954              79        39936  3300.0\n",
       "985            1031              84        23552  1950.0"
      ]
     },
     "execution_count": 39,
     "metadata": {},
     "output_type": "execute_result"
    }
   ],
   "source": [
    "# проверяем расчет по тарифу ultra\n",
    "display(tariffs.query('tariff_name == \"ultra\"'))\n",
    "users_full_df.query('tariff_name == \"ultra\"')[['calls_duration', 'count_messages', 'sum_mb_used', 'profit']].tail()"
   ]
  },
  {
   "cell_type": "markdown",
   "metadata": {},
   "source": [
    "Все верно. Там, где не превышен бесплатный лимит, в столбце `profit` отображена только сумма абонентской платы по тарифу (к примеру строка №981). А там, где лимит превышен, разница домножена на тариф сверх бесплатного лимита (к примеру строка № 982: звонки и сообщения укладываются в лимит, а интернет превышен). "
   ]
  },
  {
   "cell_type": "code",
   "execution_count": 40,
   "metadata": {},
   "outputs": [
    {
     "data": {
      "text/html": [
       "<div>\n",
       "<style scoped>\n",
       "    .dataframe tbody tr th:only-of-type {\n",
       "        vertical-align: middle;\n",
       "    }\n",
       "\n",
       "    .dataframe tbody tr th {\n",
       "        vertical-align: top;\n",
       "    }\n",
       "\n",
       "    .dataframe thead th {\n",
       "        text-align: right;\n",
       "    }\n",
       "</style>\n",
       "<table border=\"1\" class=\"dataframe\">\n",
       "  <thead>\n",
       "    <tr style=\"text-align: right;\">\n",
       "      <th></th>\n",
       "      <th>messages_included</th>\n",
       "      <th>mb_per_month_included</th>\n",
       "      <th>minutes_included</th>\n",
       "      <th>rub_monthly_fee</th>\n",
       "      <th>rub_per_gb</th>\n",
       "      <th>rub_per_message</th>\n",
       "      <th>rub_per_minute</th>\n",
       "      <th>tariff_name</th>\n",
       "    </tr>\n",
       "  </thead>\n",
       "  <tbody>\n",
       "    <tr>\n",
       "      <th>0</th>\n",
       "      <td>50</td>\n",
       "      <td>15360</td>\n",
       "      <td>500</td>\n",
       "      <td>550</td>\n",
       "      <td>200</td>\n",
       "      <td>3</td>\n",
       "      <td>3</td>\n",
       "      <td>smart</td>\n",
       "    </tr>\n",
       "  </tbody>\n",
       "</table>\n",
       "</div>"
      ],
      "text/plain": [
       "   messages_included  mb_per_month_included  minutes_included  \\\n",
       "0                 50                  15360               500   \n",
       "\n",
       "   rub_monthly_fee  rub_per_gb  rub_per_message  rub_per_minute tariff_name  \n",
       "0              550         200                3               3       smart  "
      ]
     },
     "metadata": {},
     "output_type": "display_data"
    },
    {
     "data": {
      "text/html": [
       "<div>\n",
       "<style scoped>\n",
       "    .dataframe tbody tr th:only-of-type {\n",
       "        vertical-align: middle;\n",
       "    }\n",
       "\n",
       "    .dataframe tbody tr th {\n",
       "        vertical-align: top;\n",
       "    }\n",
       "\n",
       "    .dataframe thead th {\n",
       "        text-align: right;\n",
       "    }\n",
       "</style>\n",
       "<table border=\"1\" class=\"dataframe\">\n",
       "  <thead>\n",
       "    <tr style=\"text-align: right;\">\n",
       "      <th></th>\n",
       "      <th>calls_duration</th>\n",
       "      <th>count_messages</th>\n",
       "      <th>sum_mb_used</th>\n",
       "      <th>profit</th>\n",
       "    </tr>\n",
       "  </thead>\n",
       "  <tbody>\n",
       "    <tr>\n",
       "      <th>3211</th>\n",
       "      <td>247</td>\n",
       "      <td>42</td>\n",
       "      <td>21504</td>\n",
       "      <td>1750.0</td>\n",
       "    </tr>\n",
       "    <tr>\n",
       "      <th>3212</th>\n",
       "      <td>70</td>\n",
       "      <td>11</td>\n",
       "      <td>2048</td>\n",
       "      <td>550.0</td>\n",
       "    </tr>\n",
       "    <tr>\n",
       "      <th>3213</th>\n",
       "      <td>449</td>\n",
       "      <td>48</td>\n",
       "      <td>18432</td>\n",
       "      <td>1150.0</td>\n",
       "    </tr>\n",
       "    <tr>\n",
       "      <th>3214</th>\n",
       "      <td>612</td>\n",
       "      <td>59</td>\n",
       "      <td>18432</td>\n",
       "      <td>1513.0</td>\n",
       "    </tr>\n",
       "    <tr>\n",
       "      <th>3215</th>\n",
       "      <td>492</td>\n",
       "      <td>66</td>\n",
       "      <td>13312</td>\n",
       "      <td>598.0</td>\n",
       "    </tr>\n",
       "  </tbody>\n",
       "</table>\n",
       "</div>"
      ],
      "text/plain": [
       "      calls_duration  count_messages  sum_mb_used  profit\n",
       "3211             247              42        21504  1750.0\n",
       "3212              70              11         2048   550.0\n",
       "3213             449              48        18432  1150.0\n",
       "3214             612              59        18432  1513.0\n",
       "3215             492              66        13312   598.0"
      ]
     },
     "execution_count": 40,
     "metadata": {},
     "output_type": "execute_result"
    }
   ],
   "source": [
    "# проверяем расчет по тарифу smart\n",
    "display(tariffs.query('tariff_name == \"smart\"'))\n",
    "users_full_df.query('tariff_name == \"smart\"')[['calls_duration', 'count_messages', 'sum_mb_used', 'profit']].tail()"
   ]
  },
  {
   "cell_type": "markdown",
   "metadata": {},
   "source": [
    "Все верно. Там, где не превышен бесплатный лимит в столбце `profit` отображена только сумма абонентской платы по тарифу (к примеру строка №3212). А там, где лимит превышен, разница домножена на тариф сверх бесплатного лимита (к примеру строка № 3214: превышены все три величины)."
   ]
  },
  {
   "cell_type": "code",
   "execution_count": 41,
   "metadata": {},
   "outputs": [
    {
     "data": {
      "text/html": [
       "<div>\n",
       "<style scoped>\n",
       "    .dataframe tbody tr th:only-of-type {\n",
       "        vertical-align: middle;\n",
       "    }\n",
       "\n",
       "    .dataframe tbody tr th {\n",
       "        vertical-align: top;\n",
       "    }\n",
       "\n",
       "    .dataframe thead th {\n",
       "        text-align: right;\n",
       "    }\n",
       "</style>\n",
       "<table border=\"1\" class=\"dataframe\">\n",
       "  <thead>\n",
       "    <tr style=\"text-align: right;\">\n",
       "      <th></th>\n",
       "      <th>user_id</th>\n",
       "      <th>age</th>\n",
       "      <th>churn_date</th>\n",
       "      <th>city</th>\n",
       "      <th>first_name</th>\n",
       "      <th>last_name</th>\n",
       "      <th>reg_date</th>\n",
       "      <th>month</th>\n",
       "      <th>count_calls</th>\n",
       "      <th>calls_duration</th>\n",
       "      <th>count_messages</th>\n",
       "      <th>sum_gb_used</th>\n",
       "      <th>tariff_name</th>\n",
       "      <th>profit</th>\n",
       "    </tr>\n",
       "  </thead>\n",
       "  <tbody>\n",
       "    <tr>\n",
       "      <th>0</th>\n",
       "      <td>1000</td>\n",
       "      <td>52</td>\n",
       "      <td>-</td>\n",
       "      <td>Краснодар</td>\n",
       "      <td>Рафаил</td>\n",
       "      <td>Верещагин</td>\n",
       "      <td>2018-05-25</td>\n",
       "      <td>5</td>\n",
       "      <td>22</td>\n",
       "      <td>159</td>\n",
       "      <td>22</td>\n",
       "      <td>3.0</td>\n",
       "      <td>ultra</td>\n",
       "      <td>1950.0</td>\n",
       "    </tr>\n",
       "    <tr>\n",
       "      <th>1</th>\n",
       "      <td>1000</td>\n",
       "      <td>52</td>\n",
       "      <td>-</td>\n",
       "      <td>Краснодар</td>\n",
       "      <td>Рафаил</td>\n",
       "      <td>Верещагин</td>\n",
       "      <td>2018-05-25</td>\n",
       "      <td>6</td>\n",
       "      <td>43</td>\n",
       "      <td>172</td>\n",
       "      <td>60</td>\n",
       "      <td>23.0</td>\n",
       "      <td>ultra</td>\n",
       "      <td>1950.0</td>\n",
       "    </tr>\n",
       "    <tr>\n",
       "      <th>2</th>\n",
       "      <td>1000</td>\n",
       "      <td>52</td>\n",
       "      <td>-</td>\n",
       "      <td>Краснодар</td>\n",
       "      <td>Рафаил</td>\n",
       "      <td>Верещагин</td>\n",
       "      <td>2018-05-25</td>\n",
       "      <td>7</td>\n",
       "      <td>47</td>\n",
       "      <td>340</td>\n",
       "      <td>75</td>\n",
       "      <td>14.0</td>\n",
       "      <td>ultra</td>\n",
       "      <td>1950.0</td>\n",
       "    </tr>\n",
       "    <tr>\n",
       "      <th>3</th>\n",
       "      <td>1000</td>\n",
       "      <td>52</td>\n",
       "      <td>-</td>\n",
       "      <td>Краснодар</td>\n",
       "      <td>Рафаил</td>\n",
       "      <td>Верещагин</td>\n",
       "      <td>2018-05-25</td>\n",
       "      <td>8</td>\n",
       "      <td>52</td>\n",
       "      <td>408</td>\n",
       "      <td>81</td>\n",
       "      <td>14.0</td>\n",
       "      <td>ultra</td>\n",
       "      <td>1950.0</td>\n",
       "    </tr>\n",
       "    <tr>\n",
       "      <th>4</th>\n",
       "      <td>1000</td>\n",
       "      <td>52</td>\n",
       "      <td>-</td>\n",
       "      <td>Краснодар</td>\n",
       "      <td>Рафаил</td>\n",
       "      <td>Верещагин</td>\n",
       "      <td>2018-05-25</td>\n",
       "      <td>9</td>\n",
       "      <td>58</td>\n",
       "      <td>466</td>\n",
       "      <td>57</td>\n",
       "      <td>15.0</td>\n",
       "      <td>ultra</td>\n",
       "      <td>1950.0</td>\n",
       "    </tr>\n",
       "  </tbody>\n",
       "</table>\n",
       "</div>"
      ],
      "text/plain": [
       "   user_id  age churn_date       city first_name  last_name   reg_date  month  \\\n",
       "0     1000   52          -  Краснодар     Рафаил  Верещагин 2018-05-25      5   \n",
       "1     1000   52          -  Краснодар     Рафаил  Верещагин 2018-05-25      6   \n",
       "2     1000   52          -  Краснодар     Рафаил  Верещагин 2018-05-25      7   \n",
       "3     1000   52          -  Краснодар     Рафаил  Верещагин 2018-05-25      8   \n",
       "4     1000   52          -  Краснодар     Рафаил  Верещагин 2018-05-25      9   \n",
       "\n",
       "   count_calls  calls_duration  count_messages  sum_gb_used tariff_name  \\\n",
       "0           22             159              22          3.0       ultra   \n",
       "1           43             172              60         23.0       ultra   \n",
       "2           47             340              75         14.0       ultra   \n",
       "3           52             408              81         14.0       ultra   \n",
       "4           58             466              57         15.0       ultra   \n",
       "\n",
       "   profit  \n",
       "0  1950.0  \n",
       "1  1950.0  \n",
       "2  1950.0  \n",
       "3  1950.0  \n",
       "4  1950.0  "
      ]
     },
     "execution_count": 41,
     "metadata": {},
     "output_type": "execute_result"
    }
   ],
   "source": [
    "# переведем интернет-трафик в ГБ\n",
    "users_full_df['sum_gb_used'] = users_full_df['sum_mb_used'] / 1024\n",
    "\n",
    "# соберем нужные столбцы\n",
    "full_df = users_full_df[['user_id', 'age', 'churn_date', 'city', 'first_name', 'last_name',\n",
    "       'reg_date', 'month', 'count_calls', 'calls_duration', 'count_messages',\n",
    "       'sum_gb_used', 'tariff_name', 'profit']]\n",
    "\n",
    "full_df.head()"
   ]
  },
  {
   "cell_type": "code",
   "execution_count": 42,
   "metadata": {},
   "outputs": [
    {
     "data": {
      "text/plain": [
       "smart    2230\n",
       "ultra     986\n",
       "Name: tariff_name, dtype: int64"
      ]
     },
     "execution_count": 42,
     "metadata": {},
     "output_type": "execute_result"
    }
   ],
   "source": [
    "full_df['tariff_name'].value_counts()"
   ]
  },
  {
   "cell_type": "markdown",
   "metadata": {},
   "source": [
    "В выборке из 500 пользователей, тариф `smart` у 2230 человек и тариф `ultra` у 986 человек."
   ]
  },
  {
   "cell_type": "markdown",
   "metadata": {},
   "source": [
    "## Анализ данных"
   ]
  },
  {
   "cell_type": "markdown",
   "metadata": {},
   "source": [
    "### Предварительный анализ тарифов\n",
    "\n",
    "Посмотрим сколько минут разговора, сколько сообщений и какой объём интернет-трафика требуется пользователям каждого тарифа в месяц. Посчитаем среднее количество, дисперсию и стандартное отклонение. Построим гистограммы."
   ]
  },
  {
   "cell_type": "code",
   "execution_count": 43,
   "metadata": {},
   "outputs": [],
   "source": [
    "# вывод средних значений по тарифам в разрезе месяца, округлим до 2х знаков после запятой\n",
    "mean_df = (\n",
    "    round(full_df.pivot_table(index='month', columns='tariff_name',\n",
    "                              values=['calls_duration', 'count_messages', 'sum_gb_used'],\n",
    "                              aggfunc='mean'), 2)\n",
    ")"
   ]
  },
  {
   "cell_type": "code",
   "execution_count": 44,
   "metadata": {},
   "outputs": [],
   "source": [
    "# выведем месяц в столбец\n",
    "mean_df = mean_df.reset_index()"
   ]
  },
  {
   "cell_type": "code",
   "execution_count": 45,
   "metadata": {},
   "outputs": [
    {
     "data": {
      "text/html": [
       "<div>\n",
       "<style scoped>\n",
       "    .dataframe tbody tr th:only-of-type {\n",
       "        vertical-align: middle;\n",
       "    }\n",
       "\n",
       "    .dataframe tbody tr th {\n",
       "        vertical-align: top;\n",
       "    }\n",
       "\n",
       "    .dataframe thead tr th {\n",
       "        text-align: left;\n",
       "    }\n",
       "</style>\n",
       "<table border=\"1\" class=\"dataframe\">\n",
       "  <thead>\n",
       "    <tr>\n",
       "      <th></th>\n",
       "      <th>month</th>\n",
       "      <th colspan=\"2\" halign=\"left\">calls_duration</th>\n",
       "      <th colspan=\"2\" halign=\"left\">count_messages</th>\n",
       "      <th colspan=\"2\" halign=\"left\">sum_gb_used</th>\n",
       "    </tr>\n",
       "    <tr>\n",
       "      <th>tariff_name</th>\n",
       "      <th></th>\n",
       "      <th>smart</th>\n",
       "      <th>ultra</th>\n",
       "      <th>smart</th>\n",
       "      <th>ultra</th>\n",
       "      <th>smart</th>\n",
       "      <th>ultra</th>\n",
       "    </tr>\n",
       "  </thead>\n",
       "  <tbody>\n",
       "    <tr>\n",
       "      <th>0</th>\n",
       "      <td>1</td>\n",
       "      <td>203.85</td>\n",
       "      <td>428.11</td>\n",
       "      <td>18.24</td>\n",
       "      <td>33.78</td>\n",
       "      <td>8.74</td>\n",
       "      <td>13.22</td>\n",
       "    </tr>\n",
       "    <tr>\n",
       "      <th>1</th>\n",
       "      <td>2</td>\n",
       "      <td>298.69</td>\n",
       "      <td>297.12</td>\n",
       "      <td>24.09</td>\n",
       "      <td>21.96</td>\n",
       "      <td>11.84</td>\n",
       "      <td>12.00</td>\n",
       "    </tr>\n",
       "    <tr>\n",
       "      <th>2</th>\n",
       "      <td>3</td>\n",
       "      <td>390.05</td>\n",
       "      <td>489.65</td>\n",
       "      <td>31.86</td>\n",
       "      <td>32.30</td>\n",
       "      <td>15.23</td>\n",
       "      <td>17.65</td>\n",
       "    </tr>\n",
       "    <tr>\n",
       "      <th>3</th>\n",
       "      <td>4</td>\n",
       "      <td>367.13</td>\n",
       "      <td>458.02</td>\n",
       "      <td>30.74</td>\n",
       "      <td>31.56</td>\n",
       "      <td>13.62</td>\n",
       "      <td>16.96</td>\n",
       "    </tr>\n",
       "    <tr>\n",
       "      <th>4</th>\n",
       "      <td>5</td>\n",
       "      <td>387.36</td>\n",
       "      <td>510.33</td>\n",
       "      <td>33.77</td>\n",
       "      <td>37.85</td>\n",
       "      <td>15.91</td>\n",
       "      <td>19.37</td>\n",
       "    </tr>\n",
       "    <tr>\n",
       "      <th>5</th>\n",
       "      <td>6</td>\n",
       "      <td>395.64</td>\n",
       "      <td>479.70</td>\n",
       "      <td>33.40</td>\n",
       "      <td>41.73</td>\n",
       "      <td>15.95</td>\n",
       "      <td>18.94</td>\n",
       "    </tr>\n",
       "    <tr>\n",
       "      <th>6</th>\n",
       "      <td>7</td>\n",
       "      <td>408.35</td>\n",
       "      <td>545.79</td>\n",
       "      <td>33.75</td>\n",
       "      <td>49.85</td>\n",
       "      <td>15.88</td>\n",
       "      <td>20.51</td>\n",
       "    </tr>\n",
       "    <tr>\n",
       "      <th>7</th>\n",
       "      <td>8</td>\n",
       "      <td>421.47</td>\n",
       "      <td>510.78</td>\n",
       "      <td>33.64</td>\n",
       "      <td>48.44</td>\n",
       "      <td>16.74</td>\n",
       "      <td>19.60</td>\n",
       "    </tr>\n",
       "    <tr>\n",
       "      <th>8</th>\n",
       "      <td>9</td>\n",
       "      <td>428.61</td>\n",
       "      <td>539.44</td>\n",
       "      <td>33.64</td>\n",
       "      <td>52.29</td>\n",
       "      <td>16.39</td>\n",
       "      <td>19.24</td>\n",
       "    </tr>\n",
       "    <tr>\n",
       "      <th>9</th>\n",
       "      <td>10</td>\n",
       "      <td>426.14</td>\n",
       "      <td>558.08</td>\n",
       "      <td>33.77</td>\n",
       "      <td>58.43</td>\n",
       "      <td>16.88</td>\n",
       "      <td>20.07</td>\n",
       "    </tr>\n",
       "    <tr>\n",
       "      <th>10</th>\n",
       "      <td>11</td>\n",
       "      <td>435.27</td>\n",
       "      <td>541.38</td>\n",
       "      <td>34.08</td>\n",
       "      <td>55.79</td>\n",
       "      <td>17.00</td>\n",
       "      <td>19.81</td>\n",
       "    </tr>\n",
       "    <tr>\n",
       "      <th>11</th>\n",
       "      <td>12</td>\n",
       "      <td>477.14</td>\n",
       "      <td>588.57</td>\n",
       "      <td>35.89</td>\n",
       "      <td>60.18</td>\n",
       "      <td>18.15</td>\n",
       "      <td>21.59</td>\n",
       "    </tr>\n",
       "  </tbody>\n",
       "</table>\n",
       "</div>"
      ],
      "text/plain": [
       "            month calls_duration         count_messages        sum_gb_used  \\\n",
       "tariff_name                smart   ultra          smart  ultra       smart   \n",
       "0               1         203.85  428.11          18.24  33.78        8.74   \n",
       "1               2         298.69  297.12          24.09  21.96       11.84   \n",
       "2               3         390.05  489.65          31.86  32.30       15.23   \n",
       "3               4         367.13  458.02          30.74  31.56       13.62   \n",
       "4               5         387.36  510.33          33.77  37.85       15.91   \n",
       "5               6         395.64  479.70          33.40  41.73       15.95   \n",
       "6               7         408.35  545.79          33.75  49.85       15.88   \n",
       "7               8         421.47  510.78          33.64  48.44       16.74   \n",
       "8               9         428.61  539.44          33.64  52.29       16.39   \n",
       "9              10         426.14  558.08          33.77  58.43       16.88   \n",
       "10             11         435.27  541.38          34.08  55.79       17.00   \n",
       "11             12         477.14  588.57          35.89  60.18       18.15   \n",
       "\n",
       "                    \n",
       "tariff_name  ultra  \n",
       "0            13.22  \n",
       "1            12.00  \n",
       "2            17.65  \n",
       "3            16.96  \n",
       "4            19.37  \n",
       "5            18.94  \n",
       "6            20.51  \n",
       "7            19.60  \n",
       "8            19.24  \n",
       "9            20.07  \n",
       "10           19.81  \n",
       "11           21.59  "
      ]
     },
     "execution_count": 45,
     "metadata": {},
     "output_type": "execute_result"
    }
   ],
   "source": [
    "mean_df"
   ]
  },
  {
   "cell_type": "code",
   "execution_count": 46,
   "metadata": {},
   "outputs": [
    {
     "data": {
      "text/plain": [
       "count_calls        1106.1\n",
       "calls_duration    58592.4\n",
       "sum_gb_used          54.9\n",
       "dtype: float64"
      ]
     },
     "execution_count": 46,
     "metadata": {},
     "output_type": "execute_result"
    }
   ],
   "source": [
    "std_var_df = full_df[['count_calls', 'calls_duration', 'sum_gb_used']]\n",
    "# дисперсия\n",
    "round(np.var(std_var_df), 2)"
   ]
  },
  {
   "cell_type": "code",
   "execution_count": 47,
   "metadata": {},
   "outputs": [
    {
     "data": {
      "text/plain": [
       "count_calls        33.26\n",
       "calls_duration    242.06\n",
       "sum_gb_used         7.41\n",
       "dtype: float64"
      ]
     },
     "execution_count": 47,
     "metadata": {},
     "output_type": "execute_result"
    }
   ],
   "source": [
    "# стандартное отклонение\n",
    "round(np.std(std_var_df), 2)"
   ]
  },
  {
   "cell_type": "code",
   "execution_count": 48,
   "metadata": {},
   "outputs": [
    {
     "data": {
      "image/png": "[encoded data removed]",
      "text/plain": [
       "<Figure size 864x576 with 1 Axes>"
      ]
     },
     "metadata": {
      "needs_background": "light"
     },
     "output_type": "display_data"
    }
   ],
   "source": [
    "fig, calls_duration = plt.subplots()\n",
    "calls_duration.hist(full_df.query('tariff_name == \"smart\"')['calls_duration'], alpha=0.5, label='smart')\n",
    "calls_duration.hist(full_df.query('tariff_name == \"ultra\"')['calls_duration'], alpha=0.5, label='ultra')\n",
    "calls_duration.set_title(\"Длительность звонков по тарифам\")\n",
    "calls_duration.set_xlabel('длительность звонков, мин')\n",
    "calls_duration.legend()\n",
    "calls_duration.grid()\n",
    "calls_duration.xaxis.set_major_locator(ticker.MultipleLocator(100))\n",
    "calls_duration.xaxis.set_minor_locator(ticker.MultipleLocator(50))\n",
    "fig.set_figwidth(12)\n",
    "fig.set_figheight(8)"
   ]
  },
  {
   "cell_type": "code",
   "execution_count": 49,
   "metadata": {},
   "outputs": [
    {
     "data": {
      "image/png": "[encoded data removed]",
      "text/plain": [
       "<Figure size 864x576 with 1 Axes>"
      ]
     },
     "metadata": {
      "needs_background": "light"
     },
     "output_type": "display_data"
    }
   ],
   "source": [
    "fig, count_messages = plt.subplots()\n",
    "count_messages.hist(full_df.query('tariff_name == \"smart\"')['count_messages'], alpha=0.5, label='smart')\n",
    "count_messages.hist(full_df.query('tariff_name == \"ultra\"')['count_messages'], alpha=0.5, label='ultra')\n",
    "count_messages.set_title(\"Количество сообщений по тарифам\")\n",
    "count_messages.set_xlabel('количество сообщений, шт')\n",
    "count_messages.legend()\n",
    "count_messages.grid()\n",
    "count_messages.xaxis.set_major_locator(ticker.MultipleLocator(20))\n",
    "count_messages.xaxis.set_minor_locator(ticker.MultipleLocator(10))\n",
    "fig.set_figwidth(12)\n",
    "fig.set_figheight(8)"
   ]
  },
  {
   "cell_type": "code",
   "execution_count": 50,
   "metadata": {},
   "outputs": [
    {
     "data": {
      "image/png": "[encoded data removed]",
      "text/plain": [
       "<Figure size 864x576 with 1 Axes>"
      ]
     },
     "metadata": {
      "needs_background": "light"
     },
     "output_type": "display_data"
    }
   ],
   "source": [
    "fig, sum_mb_used = plt.subplots()\n",
    "sum_mb_used.hist(full_df.query('tariff_name == \"smart\"')['sum_gb_used'], alpha=0.5, label='smart')\n",
    "sum_mb_used.hist(full_df.query('tariff_name == \"ultra\"')['sum_gb_used'], alpha=0.5, label='ultra')\n",
    "sum_mb_used.set_title(\"Интернет-трафик по тарифам\")\n",
    "sum_mb_used.set_xlabel('интернет-трафик, ГБ')\n",
    "sum_mb_used.legend()\n",
    "sum_mb_used.grid()\n",
    "sum_mb_used.xaxis.set_major_locator(ticker.MultipleLocator(5))\n",
    "sum_mb_used.xaxis.set_minor_locator(ticker.MultipleLocator(2))\n",
    "fig.set_figwidth(12)\n",
    "fig.set_figheight(8)"
   ]
  },
  {
   "cell_type": "code",
   "execution_count": 51,
   "metadata": {},
   "outputs": [
    {
     "data": {
      "text/html": [
       "<div>\n",
       "<style scoped>\n",
       "    .dataframe tbody tr th:only-of-type {\n",
       "        vertical-align: middle;\n",
       "    }\n",
       "\n",
       "    .dataframe tbody tr th {\n",
       "        vertical-align: top;\n",
       "    }\n",
       "\n",
       "    .dataframe thead tr th {\n",
       "        text-align: left;\n",
       "    }\n",
       "</style>\n",
       "<table border=\"1\" class=\"dataframe\">\n",
       "  <thead>\n",
       "    <tr>\n",
       "      <th></th>\n",
       "      <th>month</th>\n",
       "      <th colspan=\"2\" halign=\"left\">calls_duration</th>\n",
       "      <th colspan=\"2\" halign=\"left\">count_messages</th>\n",
       "      <th colspan=\"2\" halign=\"left\">sum_gb_used</th>\n",
       "    </tr>\n",
       "    <tr>\n",
       "      <th>tariff_name</th>\n",
       "      <th></th>\n",
       "      <th>smart</th>\n",
       "      <th>ultra</th>\n",
       "      <th>smart</th>\n",
       "      <th>ultra</th>\n",
       "      <th>smart</th>\n",
       "      <th>ultra</th>\n",
       "    </tr>\n",
       "  </thead>\n",
       "  <tbody>\n",
       "    <tr>\n",
       "      <th>count</th>\n",
       "      <td>12.000000</td>\n",
       "      <td>12.000000</td>\n",
       "      <td>12.000000</td>\n",
       "      <td>12.000000</td>\n",
       "      <td>12.000000</td>\n",
       "      <td>12.000000</td>\n",
       "      <td>12.000000</td>\n",
       "    </tr>\n",
       "    <tr>\n",
       "      <th>mean</th>\n",
       "      <td>6.500000</td>\n",
       "      <td>386.641667</td>\n",
       "      <td>495.580833</td>\n",
       "      <td>31.405833</td>\n",
       "      <td>43.680000</td>\n",
       "      <td>15.194167</td>\n",
       "      <td>18.246667</td>\n",
       "    </tr>\n",
       "    <tr>\n",
       "      <th>std</th>\n",
       "      <td>3.605551</td>\n",
       "      <td>72.099984</td>\n",
       "      <td>76.977589</td>\n",
       "      <td>5.093690</td>\n",
       "      <td>12.267036</td>\n",
       "      <td>2.621583</td>\n",
       "      <td>2.906570</td>\n",
       "    </tr>\n",
       "    <tr>\n",
       "      <th>min</th>\n",
       "      <td>1.000000</td>\n",
       "      <td>203.850000</td>\n",
       "      <td>297.120000</td>\n",
       "      <td>18.240000</td>\n",
       "      <td>21.960000</td>\n",
       "      <td>8.740000</td>\n",
       "      <td>12.000000</td>\n",
       "    </tr>\n",
       "    <tr>\n",
       "      <th>25%</th>\n",
       "      <td>3.750000</td>\n",
       "      <td>382.302500</td>\n",
       "      <td>474.280000</td>\n",
       "      <td>31.580000</td>\n",
       "      <td>33.410000</td>\n",
       "      <td>14.827500</td>\n",
       "      <td>17.477500</td>\n",
       "    </tr>\n",
       "    <tr>\n",
       "      <th>50%</th>\n",
       "      <td>6.500000</td>\n",
       "      <td>401.995000</td>\n",
       "      <td>510.555000</td>\n",
       "      <td>33.640000</td>\n",
       "      <td>45.085000</td>\n",
       "      <td>15.930000</td>\n",
       "      <td>19.305000</td>\n",
       "    </tr>\n",
       "    <tr>\n",
       "      <th>75%</th>\n",
       "      <td>9.250000</td>\n",
       "      <td>426.757500</td>\n",
       "      <td>542.482500</td>\n",
       "      <td>33.770000</td>\n",
       "      <td>53.165000</td>\n",
       "      <td>16.775000</td>\n",
       "      <td>19.875000</td>\n",
       "    </tr>\n",
       "    <tr>\n",
       "      <th>max</th>\n",
       "      <td>12.000000</td>\n",
       "      <td>477.140000</td>\n",
       "      <td>588.570000</td>\n",
       "      <td>35.890000</td>\n",
       "      <td>60.180000</td>\n",
       "      <td>18.150000</td>\n",
       "      <td>21.590000</td>\n",
       "    </tr>\n",
       "  </tbody>\n",
       "</table>\n",
       "</div>"
      ],
      "text/plain": [
       "                 month calls_duration             count_messages             \\\n",
       "tariff_name                     smart       ultra          smart      ultra   \n",
       "count        12.000000      12.000000   12.000000      12.000000  12.000000   \n",
       "mean          6.500000     386.641667  495.580833      31.405833  43.680000   \n",
       "std           3.605551      72.099984   76.977589       5.093690  12.267036   \n",
       "min           1.000000     203.850000  297.120000      18.240000  21.960000   \n",
       "25%           3.750000     382.302500  474.280000      31.580000  33.410000   \n",
       "50%           6.500000     401.995000  510.555000      33.640000  45.085000   \n",
       "75%           9.250000     426.757500  542.482500      33.770000  53.165000   \n",
       "max          12.000000     477.140000  588.570000      35.890000  60.180000   \n",
       "\n",
       "            sum_gb_used             \n",
       "tariff_name       smart      ultra  \n",
       "count         12.000000  12.000000  \n",
       "mean          15.194167  18.246667  \n",
       "std            2.621583   2.906570  \n",
       "min            8.740000  12.000000  \n",
       "25%           14.827500  17.477500  \n",
       "50%           15.930000  19.305000  \n",
       "75%           16.775000  19.875000  \n",
       "max           18.150000  21.590000  "
      ]
     },
     "execution_count": 51,
     "metadata": {},
     "output_type": "execute_result"
    }
   ],
   "source": [
    "mean_df.describe()"
   ]
  },
  {
   "cell_type": "markdown",
   "metadata": {},
   "source": [
    "<div style=\"border:solid green 1px; padding: 10px\">\n",
    "\n",
    "По тарифу `smart` минимальные значения по минутам разговора, сообщениям и интернет-трафику пришлись на январь 2018 года, а по тарифу `ultra` на февраль. Максимальные значения по двум тарифам совпали и пришлись на декабрь года.\n",
    "\n",
    "На графиках видно, что значения по тарифу `ultra` дальше \"сдвинуты\" вправо, чем по `smart` .\n",
    "\n",
    "Пик значений примерно приходится:\n",
    "\n",
    "1. по тарифу  `smart`:\n",
    "\n",
    "* звонки в промежутке  430-550 минут\n",
    "* сообщения в промежутке  0-10 шт\n",
    "* трафик в промежутке  12-15 ГБ\n",
    "\n",
    "2. по тарифу  `ultra`:\n",
    "\n",
    "* звонки в промежутке  550-650 минут\n",
    "* сообщения в промежутке  0-20 шт\n",
    "* трафик в промежутке  15-20 ГБ"
   ]
  },
  {
   "cell_type": "markdown",
   "metadata": {},
   "source": [
    "### Проверка гипотез\n",
    "\n",
    "#### Средняя выручка пользователей тарифов «Ультра» и «Смарт»\n",
    "\n",
    "Нужно провести сравнение выручки по тарифам и понять различается ли она. Определим формулировку для нулевой и альтернативной гипотезы:\n",
    "\n",
    "Нулевая гипотеза - средние выручки пользователей тарифов «Ультра» и «Смарт»  равны.\n",
    "\n",
    "Альтернативная гипотеза - средние выручки пользователей тарифов «Ультра» и «Смарт» не равны.\n",
    "\n",
    "Пороговое значение alpha - критический уровень статистической значимости , примем как 0,05 (5%). Если p-value окажется меньше него - отвергнем гипотезу. P-value — это вероятность ошибки при отклонении нулевой гипотезы.\n",
    "\n",
    "Для проверки гипотез используем столбец `prоfit`, т.к. в нем сохранены значения выручки по Клиентам."
   ]
  },
  {
   "cell_type": "code",
   "execution_count": 52,
   "metadata": {},
   "outputs": [
    {
     "name": "stdout",
     "output_type": "stream",
     "text": [
      "p-значение:  8.08190955548901e-161\n",
      "Отвергаем нулевую гипотезу\n"
     ]
    }
   ],
   "source": [
    "# проверка Но\n",
    "alpha = 0.05\n",
    "results = st.ttest_ind(\n",
    "    full_df.query('tariff_name == \"ultra\"')['profit'], \n",
    "    full_df.query('tariff_name == \"smart\"')['profit']\n",
    ")\n",
    "print('p-значение: ', results.pvalue)\n",
    "\n",
    "if (results.pvalue < alpha):\n",
    "    print(\"Отвергаем нулевую гипотезу\")\n",
    "else:\n",
    "\n",
    "    print(\"Не получилось отвергнуть нулевую гипотезу\")"
   ]
  },
  {
   "cell_type": "code",
   "execution_count": 53,
   "metadata": {},
   "outputs": [
    {
     "data": {
      "text/plain": [
       "834851.0"
      ]
     },
     "execution_count": 53,
     "metadata": {},
     "output_type": "execute_result"
    }
   ],
   "source": [
    "# посчитаем на сколько различается сумма выручки\n",
    "full_df.query('tariff_name == \"smart\"')['profit'].sum() - full_df.query('tariff_name == \"ultra\"')['profit'].sum()"
   ]
  },
  {
   "cell_type": "markdown",
   "metadata": {},
   "source": [
    "<div style=\"border:solid green 1px; padding: 10px\">\n",
    "\n",
    "Значение p-value 8.081909555489933e-161 - это практически 0, что говорит о том, что такое или большее различие практически не возможно получить случайно. Это дает возможность делать вывод о значимом различии в средней выручке пользователей по тарифам.\n",
    "\n",
    "Суммарная выручка за год по тарифу \"Смарт\" почти на 835 тысяч больше чем по тарифу \"Ультра\".\n",
    "\n",
    "Мы не использовали дополнительный параметр `equal_var = False`, потому что у нас достаточно большие и примерно одинаковые по размеру выборки, к тому же в обеих измерена одна и та же переменная — нет оснований полагать, что разброс будет сильно отличаться."
   ]
  },
  {
   "cell_type": "markdown",
   "metadata": {},
   "source": [
    "#### Средняя выручка пользователей из Москвы и других регионов\n",
    "\n",
    "Нужно провести сравнение выручки в разрезе локации пользователей и понять различается ли она. Определим формулировку для нулевой и альтернативной гипотезы:\n",
    "\n",
    "Нулевая гипотеза - средняя выручка пользователей из Москвы и пользователей из других регионов равны.\n",
    "\n",
    "Альтернативная гипотеза - средняя выручка пользователей из Москвы и пользователей из других регионов не равны.\n",
    "\n",
    "Пороговое значение alpha - критический уровень статистической значимости , примем как 0,05 (5%). Если p-value окажется меньше него - отвергнем гипотезу. P-value — это вероятность ошибки при отклонении нулевой гипотезы.\n",
    "\n",
    "Для проверки гипотез используем столбец `prоft`, т.к. в нем сохранены значения выручки по Клиентам."
   ]
  },
  {
   "cell_type": "code",
   "execution_count": 54,
   "metadata": {},
   "outputs": [],
   "source": [
    "full_df = full_df.reset_index(drop=True)"
   ]
  },
  {
   "cell_type": "code",
   "execution_count": 55,
   "metadata": {},
   "outputs": [],
   "source": [
    "# группировка по городу\n",
    "def city_group(city):\n",
    "    if city == 'Москва':\n",
    "        return 'Москва'\n",
    "    return 'Другой регион'\n",
    "\n",
    "full_df['city_group'] = full_df['city'].apply(city_group)"
   ]
  },
  {
   "cell_type": "code",
   "execution_count": 56,
   "metadata": {},
   "outputs": [
    {
     "name": "stdout",
     "output_type": "stream",
     "text": [
      "p-значение:  0.5400751614511182\n",
      "Не получилось отвергнуть нулевую гипотезу\n"
     ]
    }
   ],
   "source": [
    "# проверка Но\n",
    "results = st.ttest_ind(\n",
    "    full_df.query('city_group == \"Москва\"')['profit'], \n",
    "    full_df.query('city_group != \"Москва\"')['profit'])\n",
    "print('p-значение: ', results.pvalue)\n",
    "\n",
    "if (results.pvalue < alpha):\n",
    "    print(\"Отвергаем нулевую гипотезу\")\n",
    "else:\n",
    "\n",
    "    print(\"Не получилось отвергнуть нулевую гипотезу\")"
   ]
  },
  {
   "cell_type": "code",
   "execution_count": 57,
   "metadata": {},
   "outputs": [
    {
     "data": {
      "text/plain": [
       "3026867.0"
      ]
     },
     "execution_count": 57,
     "metadata": {},
     "output_type": "execute_result"
    }
   ],
   "source": [
    "# посчитаем на сколько различается сумма выручки\n",
    "full_df.query('city_group != \"Москва\"')['profit'].sum() - full_df.query('city_group == \"Москва\"')['profit'].sum()"
   ]
  },
  {
   "cell_type": "code",
   "execution_count": 58,
   "metadata": {},
   "outputs": [
    {
     "data": {
      "text/plain": [
       "11742.0"
      ]
     },
     "execution_count": 58,
     "metadata": {},
     "output_type": "execute_result"
    }
   ],
   "source": [
    "# посчитаем на сколько различается сумма выручки по тарифу smart/ultra москвичей\n",
    "(full_df.query('city_group == \"Москва\" and tariff_name == \"smart\"')['profit'].sum()\n",
    " - full_df.query('city_group == \"Москва\" and tariff_name == \"ultra\"')['profit'].sum())"
   ]
  },
  {
   "cell_type": "code",
   "execution_count": 59,
   "metadata": {},
   "outputs": [
    {
     "data": {
      "text/plain": [
       "823109.0"
      ]
     },
     "execution_count": 59,
     "metadata": {},
     "output_type": "execute_result"
    }
   ],
   "source": [
    "# посчитаем на сколько различается сумма выручки по тарифу smart/ultra не москвичей\n",
    "(full_df.query('city_group != \"Москва\" and tariff_name == \"smart\"')['profit'].sum()\n",
    " - full_df.query('city_group != \"Москва\" and tariff_name == \"ultra\"')['profit'].sum())"
   ]
  },
  {
   "cell_type": "markdown",
   "metadata": {},
   "source": [
    "<div style=\"border:solid green 1px; padding: 10px\">\n",
    "\n",
    "Полученное значение p-value говорит о том, что хотя средняя выручка пользователей из других регионов и из Москвы неодинакова, с вероятностью чуть больше 54% (что составляет больше половины случаев) такое или большее различие можно получить случайно.Такая вероятность случайно получить различие в значениях показателя, дает возможсть задуматься о возможном значимом различии в средней выручке пользователей из Москвы и из других регионов.\n",
    "\n",
    "Суммарная выручка за год пользователей из других регионов превышает выручку пользователей из Москвы на 3 026 867,00. При этом и у пользователей из других регионов, и у пользователей из Москвы, по тарифу \"Смарт\" выручка больше чем по тарифу \"Ультра\" (на 823 109,00 и 11 742,00 соотвественно). \n",
    "\n",
    "Мы не использовали дополнительный параметр `equal_var = False`, потому что у нас достаточно большие и примерно одинаковые по размеру выборки, к тому же в обеих измерена одна и та же переменная — нет оснований полагать, что разброс будет сильно отличаться."
   ]
  },
  {
   "cell_type": "markdown",
   "metadata": {},
   "source": [
    "## <font color='green'>Общий вывод</font>"
   ]
  },
  {
   "cell_type": "markdown",
   "metadata": {},
   "source": [
    "<div style=\"border:solid green 2px; padding: 20px\">\n",
    "\n",
    "    \n",
    "Мы изучили выборку за 2018 год из 500 пользователей Компании «Мегалайн» для того чтобы скорректировать рекламный бюджет. Нужно было понять какой тариф приносит больше денег. Клиентам предлагается два тарифных плана: «Смарт» и «Ультра», также выборка содержит количество использованных минут разговора, отправленных сообщений и потраченного интернет-трафика и данные самих пользователях, такие как возвраст, город, дата начала/окончания пользования тарифом и пр.\n",
    "\n",
    "    \n",
    "Был проверен ряд параметров и выявлено, что база содержит куда больше данных по количеству пользователей тарифа \"Смарт\" чем по тарифу \"Ультра\", самым \"не общительным\" месяцем в году по тарифу \"Смарт\" стал январь, а по тарифу \"Ультра\" - февраль, а больше всего говорили, писали и выходили в интернет по двум тарифам в декабре.\n",
    "    \n",
    "В целом значения у тарифа \"Ультра\" больше, чем у тарифа \"Смарт\", это может говорить о том, что этот тариф предпочитают те пользователи, которым не хватает предлагаемого количества услуг из тарифа \"Смарт\".    \n",
    "\n",
    "Пик значений приходится, примерно:\n",
    "\n",
    "1. по тарифу  `smart`:\n",
    "\n",
    "* звонки в промежутке  430-550 минут\n",
    "* сообщения в промежутке  0-10 шт\n",
    "* трафик в промежутке  12-15 ГБ\n",
    "    \n",
    "2. по тарифу  `ultra`:\n",
    "\n",
    "* звонки в промежутке  550-650 минут\n",
    "* сообщения в промежутке  0-20 шт\n",
    "* трафик в промежутке  15-20 ГБ    \n",
    "    \n",
    "Однако по тарифу \"Смарт\" общее число пользователей, согласно выборке, больше чем у тарифа \"Ультра\": 2230 человек и 986 человек.\n",
    "    \n",
    "Были проверены две гипотезы и установлено, что:\n",
    "    \n",
    "* Средняя выручка пользователей тарифов «Ультра» и «Смарт» различаются. Суммарная выручка за год по тарифу \"Смарт\" почти на 835 тысяч больше чем по тарифу \"Ультра\".\n",
    "* Средняя выручка пользователей из Москвы отличается от выручки пользователей из других регионов. Суммарная выручка за год пользователей из других регионов превышает выручку пользователей из Москвы на 3 026 867,00. При этом и у пользователей из других регионов, и у пользователей из Москвы, по тарифу \"Смарт\" выручка больше чем по тарифу \"Ультра\" (на 823 109,00 и 11 742,00 соотвественно). \n",
    "    \n",
    "Итак, чтобы скорректировать рекламный бюджет следует принять во внимание, что в среднем по тарифу \"Ультра\" пользователи тратят больше минут на разговоры, пишут больше сообщений и тратят больше интернет-трафика, но таких пользователей меньше, большей популярностью пользуется тариф \"Смарт\". Он приносит больше денег вне зависимости от региона. </div>"
   ]
  }
 ],
 "metadata": {
  "ExecuteTimeLog": [
   {
    "duration": 37,
    "start_time": "2022-06-16T08:55:08.485Z"
   },
   {
    "duration": 1270,
    "start_time": "2022-06-16T09:07:21.132Z"
   },
   {
    "duration": 77,
    "start_time": "2022-06-16T09:08:12.458Z"
   },
   {
    "duration": 51,
    "start_time": "2022-06-16T09:08:19.370Z"
   },
   {
    "duration": 92,
    "start_time": "2022-06-16T09:10:44.545Z"
   },
   {
    "duration": 13,
    "start_time": "2022-06-16T09:10:51.511Z"
   },
   {
    "duration": 22,
    "start_time": "2022-06-16T09:28:19.898Z"
   },
   {
    "duration": 7,
    "start_time": "2022-06-16T09:29:34.423Z"
   },
   {
    "duration": 4,
    "start_time": "2022-06-16T09:29:51.036Z"
   },
   {
    "duration": 10,
    "start_time": "2022-06-16T09:29:56.694Z"
   },
   {
    "duration": 14,
    "start_time": "2022-06-16T09:31:08.969Z"
   },
   {
    "duration": 11,
    "start_time": "2022-06-16T09:31:13.154Z"
   },
   {
    "duration": 13,
    "start_time": "2022-06-16T09:31:18.940Z"
   },
   {
    "duration": 230,
    "start_time": "2022-06-16T09:33:29.660Z"
   },
   {
    "duration": 174,
    "start_time": "2022-06-16T09:33:44.573Z"
   },
   {
    "duration": 3,
    "start_time": "2022-06-16T09:33:54.364Z"
   },
   {
    "duration": 47,
    "start_time": "2022-06-16T09:33:54.369Z"
   },
   {
    "duration": 11,
    "start_time": "2022-06-16T09:33:54.418Z"
   },
   {
    "duration": 8,
    "start_time": "2022-06-16T09:33:54.432Z"
   },
   {
    "duration": 12,
    "start_time": "2022-06-16T09:33:54.441Z"
   },
   {
    "duration": 160,
    "start_time": "2022-06-16T09:33:54.455Z"
   },
   {
    "duration": 27,
    "start_time": "2022-06-16T09:34:13.812Z"
   },
   {
    "duration": 165,
    "start_time": "2022-06-16T09:34:19.365Z"
   },
   {
    "duration": 42,
    "start_time": "2022-06-16T09:34:26.179Z"
   },
   {
    "duration": 178,
    "start_time": "2022-06-16T09:34:33.757Z"
   },
   {
    "duration": 32,
    "start_time": "2022-06-16T09:39:38.058Z"
   },
   {
    "duration": 18,
    "start_time": "2022-06-16T09:39:43.728Z"
   },
   {
    "duration": 289,
    "start_time": "2022-06-16T09:40:34.633Z"
   },
   {
    "duration": 17,
    "start_time": "2022-06-16T09:40:43.323Z"
   },
   {
    "duration": 45,
    "start_time": "2022-06-16T09:50:20.036Z"
   },
   {
    "duration": 15,
    "start_time": "2022-06-16T09:50:36.235Z"
   },
   {
    "duration": 330,
    "start_time": "2022-06-16T09:52:43.039Z"
   },
   {
    "duration": 20,
    "start_time": "2022-06-16T09:53:10.857Z"
   },
   {
    "duration": 49,
    "start_time": "2022-06-16T10:10:35.896Z"
   },
   {
    "duration": 16,
    "start_time": "2022-06-16T10:10:39.973Z"
   },
   {
    "duration": 70,
    "start_time": "2022-06-16T10:11:39.672Z"
   },
   {
    "duration": 10,
    "start_time": "2022-06-16T10:11:49.301Z"
   },
   {
    "duration": 3,
    "start_time": "2022-06-16T10:16:15.487Z"
   },
   {
    "duration": 45,
    "start_time": "2022-06-16T10:16:15.492Z"
   },
   {
    "duration": 10,
    "start_time": "2022-06-16T10:16:15.539Z"
   },
   {
    "duration": 169,
    "start_time": "2022-06-16T10:16:15.550Z"
   },
   {
    "duration": 24,
    "start_time": "2022-06-16T10:16:15.721Z"
   },
   {
    "duration": 92,
    "start_time": "2022-06-16T10:16:15.746Z"
   },
   {
    "duration": 18,
    "start_time": "2022-06-16T10:16:15.839Z"
   },
   {
    "duration": 136,
    "start_time": "2022-06-16T10:16:15.859Z"
   },
   {
    "duration": 22,
    "start_time": "2022-06-16T10:16:15.996Z"
   },
   {
    "duration": 21,
    "start_time": "2022-06-16T10:16:16.019Z"
   },
   {
    "duration": 11,
    "start_time": "2022-06-16T10:16:16.041Z"
   },
   {
    "duration": 88,
    "start_time": "2022-06-16T10:16:16.054Z"
   },
   {
    "duration": 7,
    "start_time": "2022-06-16T10:53:07.845Z"
   },
   {
    "duration": 5,
    "start_time": "2022-06-16T10:53:35.594Z"
   },
   {
    "duration": 5,
    "start_time": "2022-06-16T10:54:11.265Z"
   },
   {
    "duration": 10,
    "start_time": "2022-06-16T10:54:23.877Z"
   },
   {
    "duration": 5,
    "start_time": "2022-06-16T10:55:46.879Z"
   },
   {
    "duration": 10,
    "start_time": "2022-06-16T11:04:11.106Z"
   },
   {
    "duration": 8,
    "start_time": "2022-06-16T11:05:41.098Z"
   },
   {
    "duration": 6,
    "start_time": "2022-06-16T11:05:47.967Z"
   },
   {
    "duration": 4,
    "start_time": "2022-06-16T11:06:12.128Z"
   },
   {
    "duration": 6,
    "start_time": "2022-06-16T11:06:29.314Z"
   },
   {
    "duration": 314,
    "start_time": "2022-06-16T11:07:01.799Z"
   },
   {
    "duration": 16,
    "start_time": "2022-06-16T11:07:32.964Z"
   },
   {
    "duration": 18,
    "start_time": "2022-06-16T11:07:46.520Z"
   },
   {
    "duration": 5,
    "start_time": "2022-06-16T11:07:57.712Z"
   },
   {
    "duration": 5,
    "start_time": "2022-06-16T11:08:47.752Z"
   },
   {
    "duration": 5,
    "start_time": "2022-06-16T11:10:05.168Z"
   },
   {
    "duration": 8,
    "start_time": "2022-06-16T11:14:24.698Z"
   },
   {
    "duration": 11,
    "start_time": "2022-06-16T11:16:09.552Z"
   },
   {
    "duration": 6,
    "start_time": "2022-06-16T11:17:01.172Z"
   },
   {
    "duration": 31,
    "start_time": "2022-06-16T11:17:16.287Z"
   },
   {
    "duration": 239,
    "start_time": "2022-06-16T11:17:24.913Z"
   },
   {
    "duration": 71,
    "start_time": "2022-06-16T11:17:37.972Z"
   },
   {
    "duration": 35,
    "start_time": "2022-06-16T11:17:54.417Z"
   },
   {
    "duration": 11,
    "start_time": "2022-06-16T11:19:37.495Z"
   },
   {
    "duration": 45,
    "start_time": "2022-06-16T11:20:16.086Z"
   },
   {
    "duration": 13,
    "start_time": "2022-06-16T11:20:33.992Z"
   },
   {
    "duration": 71,
    "start_time": "2022-06-16T11:20:49.269Z"
   },
   {
    "duration": 64,
    "start_time": "2022-06-16T11:21:01.785Z"
   },
   {
    "duration": 38,
    "start_time": "2022-06-16T11:21:34.092Z"
   },
   {
    "duration": 19,
    "start_time": "2022-06-16T11:22:19.392Z"
   },
   {
    "duration": 19,
    "start_time": "2022-06-16T11:22:40.621Z"
   },
   {
    "duration": 105,
    "start_time": "2022-06-16T11:22:46.018Z"
   },
   {
    "duration": 30,
    "start_time": "2022-06-16T11:23:00.556Z"
   },
   {
    "duration": 15,
    "start_time": "2022-06-16T11:23:16.085Z"
   },
   {
    "duration": 16,
    "start_time": "2022-06-16T11:23:28.810Z"
   },
   {
    "duration": 119,
    "start_time": "2022-06-16T11:23:36.787Z"
   },
   {
    "duration": 26,
    "start_time": "2022-06-16T11:23:45.567Z"
   },
   {
    "duration": 246,
    "start_time": "2022-06-16T11:25:14.013Z"
   },
   {
    "duration": 53,
    "start_time": "2022-06-16T11:43:28.215Z"
   },
   {
    "duration": 40,
    "start_time": "2022-06-16T11:43:35.535Z"
   },
   {
    "duration": 153,
    "start_time": "2022-06-16T11:44:32.608Z"
   },
   {
    "duration": 36,
    "start_time": "2022-06-16T11:44:42.221Z"
   },
   {
    "duration": 35,
    "start_time": "2022-06-16T11:44:54.793Z"
   },
   {
    "duration": 31,
    "start_time": "2022-06-16T11:45:26.754Z"
   },
   {
    "duration": 43,
    "start_time": "2022-06-16T11:50:30.585Z"
   },
   {
    "duration": 11,
    "start_time": "2022-06-16T11:50:39.317Z"
   },
   {
    "duration": 11,
    "start_time": "2022-06-16T11:55:11.258Z"
   },
   {
    "duration": 10,
    "start_time": "2022-06-16T11:55:27.757Z"
   },
   {
    "duration": 5,
    "start_time": "2022-06-16T11:55:38.490Z"
   },
   {
    "duration": 6,
    "start_time": "2022-06-16T11:59:13.580Z"
   },
   {
    "duration": 78,
    "start_time": "2022-06-16T11:59:23.831Z"
   },
   {
    "duration": 66,
    "start_time": "2022-06-16T11:59:33.646Z"
   },
   {
    "duration": 109,
    "start_time": "2022-06-16T11:59:42.309Z"
   },
   {
    "duration": 8,
    "start_time": "2022-06-16T11:59:51.692Z"
   },
   {
    "duration": 37,
    "start_time": "2022-06-16T12:19:26.421Z"
   },
   {
    "duration": 11,
    "start_time": "2022-06-16T12:19:41.782Z"
   },
   {
    "duration": 37,
    "start_time": "2022-06-16T12:28:00.186Z"
   },
   {
    "duration": 29,
    "start_time": "2022-06-16T12:29:24.450Z"
   },
   {
    "duration": 23,
    "start_time": "2022-06-16T12:29:30.698Z"
   },
   {
    "duration": 14,
    "start_time": "2022-06-16T12:30:01.270Z"
   },
   {
    "duration": 25,
    "start_time": "2022-06-16T12:30:24.097Z"
   },
   {
    "duration": 386,
    "start_time": "2022-06-16T12:30:49.410Z"
   },
   {
    "duration": 348,
    "start_time": "2022-06-16T12:31:04.528Z"
   },
   {
    "duration": 7,
    "start_time": "2022-06-16T12:31:08.864Z"
   },
   {
    "duration": 13,
    "start_time": "2022-06-16T12:31:29.988Z"
   },
   {
    "duration": 372,
    "start_time": "2022-06-16T12:31:46.968Z"
   },
   {
    "duration": 5,
    "start_time": "2022-06-16T12:31:56.157Z"
   },
   {
    "duration": 23,
    "start_time": "2022-06-16T12:32:26.277Z"
   },
   {
    "duration": 14,
    "start_time": "2022-06-16T12:32:44.157Z"
   },
   {
    "duration": 24,
    "start_time": "2022-06-16T12:33:23.073Z"
   },
   {
    "duration": 55,
    "start_time": "2022-06-16T12:34:32.598Z"
   },
   {
    "duration": 23,
    "start_time": "2022-06-16T12:35:25.610Z"
   },
   {
    "duration": 20,
    "start_time": "2022-06-16T12:35:28.869Z"
   },
   {
    "duration": 27,
    "start_time": "2022-06-16T12:36:27.811Z"
   },
   {
    "duration": 15,
    "start_time": "2022-06-16T12:36:30.063Z"
   },
   {
    "duration": 26,
    "start_time": "2022-06-16T12:38:11.708Z"
   },
   {
    "duration": 14,
    "start_time": "2022-06-16T12:38:14.100Z"
   },
   {
    "duration": 37,
    "start_time": "2022-06-16T12:38:39.621Z"
   },
   {
    "duration": 25,
    "start_time": "2022-06-16T12:38:46.759Z"
   },
   {
    "duration": 31,
    "start_time": "2022-06-16T12:38:49.358Z"
   },
   {
    "duration": 12,
    "start_time": "2022-06-16T12:38:50.511Z"
   },
   {
    "duration": 19,
    "start_time": "2022-06-16T12:39:08.924Z"
   },
   {
    "duration": 57,
    "start_time": "2022-06-16T12:39:38.180Z"
   },
   {
    "duration": 33,
    "start_time": "2022-06-16T12:40:13.327Z"
   },
   {
    "duration": 4,
    "start_time": "2022-06-16T12:40:34.059Z"
   },
   {
    "duration": 81,
    "start_time": "2022-06-16T12:40:34.065Z"
   },
   {
    "duration": 22,
    "start_time": "2022-06-16T12:40:34.149Z"
   },
   {
    "duration": 214,
    "start_time": "2022-06-16T12:40:34.175Z"
   },
   {
    "duration": 41,
    "start_time": "2022-06-16T12:40:34.390Z"
   },
   {
    "duration": 121,
    "start_time": "2022-06-16T12:40:34.433Z"
   },
   {
    "duration": 46,
    "start_time": "2022-06-16T12:40:34.557Z"
   },
   {
    "duration": 178,
    "start_time": "2022-06-16T12:40:34.605Z"
   },
   {
    "duration": 40,
    "start_time": "2022-06-16T12:40:34.785Z"
   },
   {
    "duration": 20,
    "start_time": "2022-06-16T12:40:34.829Z"
   },
   {
    "duration": 13,
    "start_time": "2022-06-16T12:40:34.853Z"
   },
   {
    "duration": 98,
    "start_time": "2022-06-16T12:40:34.867Z"
   },
   {
    "duration": 53,
    "start_time": "2022-06-16T12:40:34.967Z"
   },
   {
    "duration": 28,
    "start_time": "2022-06-16T12:40:35.022Z"
   },
   {
    "duration": 12,
    "start_time": "2022-06-16T12:40:35.052Z"
   },
   {
    "duration": 70,
    "start_time": "2022-06-16T12:40:35.095Z"
   },
   {
    "duration": 48,
    "start_time": "2022-06-16T12:40:35.167Z"
   },
   {
    "duration": 19,
    "start_time": "2022-06-16T12:40:54.159Z"
   },
   {
    "duration": 45,
    "start_time": "2022-06-16T12:41:41.125Z"
   },
   {
    "duration": 27,
    "start_time": "2022-06-16T12:41:57.166Z"
   },
   {
    "duration": 18,
    "start_time": "2022-06-16T12:42:00.451Z"
   },
   {
    "duration": 32,
    "start_time": "2022-06-16T12:48:53.099Z"
   },
   {
    "duration": 29,
    "start_time": "2022-06-16T12:50:02.951Z"
   },
   {
    "duration": 28,
    "start_time": "2022-06-16T12:50:25.667Z"
   },
   {
    "duration": 26,
    "start_time": "2022-06-16T12:50:50.956Z"
   },
   {
    "duration": 19,
    "start_time": "2022-06-16T12:50:54.959Z"
   },
   {
    "duration": 11,
    "start_time": "2022-06-16T12:50:58.607Z"
   },
   {
    "duration": 14,
    "start_time": "2022-06-16T12:51:14.498Z"
   },
   {
    "duration": 24,
    "start_time": "2022-06-16T12:51:36.955Z"
   },
   {
    "duration": 370,
    "start_time": "2022-06-16T12:51:53.998Z"
   },
   {
    "duration": 20,
    "start_time": "2022-06-16T12:52:17.678Z"
   },
   {
    "duration": 5,
    "start_time": "2022-06-16T12:52:23.218Z"
   },
   {
    "duration": 57,
    "start_time": "2022-06-16T12:52:23.226Z"
   },
   {
    "duration": 12,
    "start_time": "2022-06-16T12:52:23.285Z"
   },
   {
    "duration": 181,
    "start_time": "2022-06-16T12:52:23.300Z"
   },
   {
    "duration": 30,
    "start_time": "2022-06-16T12:52:23.482Z"
   },
   {
    "duration": 128,
    "start_time": "2022-06-16T12:52:23.514Z"
   },
   {
    "duration": 25,
    "start_time": "2022-06-16T12:52:23.644Z"
   },
   {
    "duration": 151,
    "start_time": "2022-06-16T12:52:23.671Z"
   },
   {
    "duration": 25,
    "start_time": "2022-06-16T12:52:23.824Z"
   },
   {
    "duration": 21,
    "start_time": "2022-06-16T12:52:23.851Z"
   },
   {
    "duration": 27,
    "start_time": "2022-06-16T12:52:23.874Z"
   },
   {
    "duration": 95,
    "start_time": "2022-06-16T12:52:23.903Z"
   },
   {
    "duration": 33,
    "start_time": "2022-06-16T12:52:24.001Z"
   },
   {
    "duration": 32,
    "start_time": "2022-06-16T12:52:24.036Z"
   },
   {
    "duration": 11,
    "start_time": "2022-06-16T12:52:24.095Z"
   },
   {
    "duration": 34,
    "start_time": "2022-06-16T12:52:24.108Z"
   },
   {
    "duration": 22,
    "start_time": "2022-06-16T12:52:24.144Z"
   },
   {
    "duration": 42,
    "start_time": "2022-06-16T12:52:24.168Z"
   },
   {
    "duration": 4,
    "start_time": "2022-06-16T12:53:05.782Z"
   },
   {
    "duration": 45,
    "start_time": "2022-06-16T12:53:05.788Z"
   },
   {
    "duration": 13,
    "start_time": "2022-06-16T12:53:05.835Z"
   },
   {
    "duration": 182,
    "start_time": "2022-06-16T12:53:05.850Z"
   },
   {
    "duration": 31,
    "start_time": "2022-06-16T12:53:06.035Z"
   },
   {
    "duration": 137,
    "start_time": "2022-06-16T12:53:06.068Z"
   },
   {
    "duration": 31,
    "start_time": "2022-06-16T12:53:06.207Z"
   },
   {
    "duration": 165,
    "start_time": "2022-06-16T12:53:06.240Z"
   },
   {
    "duration": 23,
    "start_time": "2022-06-16T12:53:06.407Z"
   },
   {
    "duration": 20,
    "start_time": "2022-06-16T12:53:06.432Z"
   },
   {
    "duration": 11,
    "start_time": "2022-06-16T12:53:06.454Z"
   },
   {
    "duration": 97,
    "start_time": "2022-06-16T12:53:06.466Z"
   },
   {
    "duration": 47,
    "start_time": "2022-06-16T12:53:06.565Z"
   },
   {
    "duration": 31,
    "start_time": "2022-06-16T12:53:06.615Z"
   },
   {
    "duration": 11,
    "start_time": "2022-06-16T12:53:06.648Z"
   },
   {
    "duration": 3,
    "start_time": "2022-06-16T12:53:06.660Z"
   },
   {
    "duration": 28,
    "start_time": "2022-06-16T12:53:06.695Z"
   },
   {
    "duration": 2,
    "start_time": "2022-06-16T12:53:06.725Z"
   },
   {
    "duration": 12,
    "start_time": "2022-06-16T12:53:14.271Z"
   },
   {
    "duration": 10,
    "start_time": "2022-06-16T12:53:22.347Z"
   },
   {
    "duration": 306,
    "start_time": "2022-06-16T12:53:35.640Z"
   },
   {
    "duration": 3,
    "start_time": "2022-06-16T12:53:44.244Z"
   },
   {
    "duration": 48,
    "start_time": "2022-06-16T12:53:44.249Z"
   },
   {
    "duration": 13,
    "start_time": "2022-06-16T12:53:44.300Z"
   },
   {
    "duration": 198,
    "start_time": "2022-06-16T12:53:44.316Z"
   },
   {
    "duration": 33,
    "start_time": "2022-06-16T12:53:44.516Z"
   },
   {
    "duration": 114,
    "start_time": "2022-06-16T12:53:44.551Z"
   },
   {
    "duration": 31,
    "start_time": "2022-06-16T12:53:44.667Z"
   },
   {
    "duration": 150,
    "start_time": "2022-06-16T12:53:44.700Z"
   },
   {
    "duration": 23,
    "start_time": "2022-06-16T12:53:44.853Z"
   },
   {
    "duration": 23,
    "start_time": "2022-06-16T12:53:44.877Z"
   },
   {
    "duration": 14,
    "start_time": "2022-06-16T12:53:44.903Z"
   },
   {
    "duration": 98,
    "start_time": "2022-06-16T12:53:44.919Z"
   },
   {
    "duration": 30,
    "start_time": "2022-06-16T12:53:45.019Z"
   },
   {
    "duration": 54,
    "start_time": "2022-06-16T12:53:45.052Z"
   },
   {
    "duration": 14,
    "start_time": "2022-06-16T12:53:45.109Z"
   },
   {
    "duration": 4,
    "start_time": "2022-06-16T12:53:45.125Z"
   },
   {
    "duration": 33,
    "start_time": "2022-06-16T12:53:45.132Z"
   },
   {
    "duration": 3,
    "start_time": "2022-06-16T12:53:45.167Z"
   },
   {
    "duration": 26,
    "start_time": "2022-06-16T12:54:18.261Z"
   },
   {
    "duration": 3,
    "start_time": "2022-06-16T12:54:39.226Z"
   },
   {
    "duration": 46,
    "start_time": "2022-06-16T12:54:39.231Z"
   },
   {
    "duration": 10,
    "start_time": "2022-06-16T12:54:39.279Z"
   },
   {
    "duration": 182,
    "start_time": "2022-06-16T12:54:39.291Z"
   },
   {
    "duration": 31,
    "start_time": "2022-06-16T12:54:39.476Z"
   },
   {
    "duration": 102,
    "start_time": "2022-06-16T12:54:39.509Z"
   },
   {
    "duration": 31,
    "start_time": "2022-06-16T12:54:39.613Z"
   },
   {
    "duration": 175,
    "start_time": "2022-06-16T12:54:39.646Z"
   },
   {
    "duration": 31,
    "start_time": "2022-06-16T12:54:39.823Z"
   },
   {
    "duration": 22,
    "start_time": "2022-06-16T12:54:39.856Z"
   },
   {
    "duration": 26,
    "start_time": "2022-06-16T12:54:39.881Z"
   },
   {
    "duration": 87,
    "start_time": "2022-06-16T12:54:39.909Z"
   },
   {
    "duration": 30,
    "start_time": "2022-06-16T12:54:39.998Z"
   },
   {
    "duration": 36,
    "start_time": "2022-06-16T12:54:40.030Z"
   },
   {
    "duration": 58,
    "start_time": "2022-06-16T12:54:40.068Z"
   },
   {
    "duration": 15,
    "start_time": "2022-06-16T12:54:40.128Z"
   },
   {
    "duration": 3,
    "start_time": "2022-06-16T12:54:40.145Z"
   },
   {
    "duration": 9,
    "start_time": "2022-06-16T12:54:40.150Z"
   },
   {
    "duration": 6,
    "start_time": "2022-06-16T12:54:40.161Z"
   },
   {
    "duration": 12,
    "start_time": "2022-06-16T12:54:54.303Z"
   },
   {
    "duration": 17,
    "start_time": "2022-06-16T12:55:00.143Z"
   },
   {
    "duration": 18,
    "start_time": "2022-06-16T12:55:05.090Z"
   },
   {
    "duration": 36,
    "start_time": "2022-06-16T12:55:30.510Z"
   },
   {
    "duration": 23,
    "start_time": "2022-06-16T12:55:53.872Z"
   },
   {
    "duration": 25,
    "start_time": "2022-06-16T12:55:57.578Z"
   },
   {
    "duration": 17,
    "start_time": "2022-06-16T12:56:04.356Z"
   },
   {
    "duration": 75,
    "start_time": "2022-06-16T12:57:16.595Z"
   },
   {
    "duration": 86,
    "start_time": "2022-06-16T13:02:00.096Z"
   },
   {
    "duration": 91,
    "start_time": "2022-06-16T13:04:04.670Z"
   },
   {
    "duration": 75,
    "start_time": "2022-06-16T13:04:13.748Z"
   },
   {
    "duration": 78,
    "start_time": "2022-06-16T13:04:28.555Z"
   },
   {
    "duration": 100,
    "start_time": "2022-06-16T13:05:11.448Z"
   },
   {
    "duration": 90,
    "start_time": "2022-06-16T13:05:45.867Z"
   },
   {
    "duration": 378,
    "start_time": "2022-06-16T13:08:52.146Z"
   },
   {
    "duration": 50,
    "start_time": "2022-06-16T13:09:21.361Z"
   },
   {
    "duration": 48,
    "start_time": "2022-06-16T13:10:36.435Z"
   },
   {
    "duration": 51,
    "start_time": "2022-06-16T13:10:52.131Z"
   },
   {
    "duration": 53,
    "start_time": "2022-06-16T13:11:35.411Z"
   },
   {
    "duration": 54,
    "start_time": "2022-06-16T13:12:06.850Z"
   },
   {
    "duration": 60,
    "start_time": "2022-06-16T13:12:19.898Z"
   },
   {
    "duration": 84,
    "start_time": "2022-06-16T13:12:24.400Z"
   },
   {
    "duration": 3,
    "start_time": "2022-06-16T13:13:02.772Z"
   },
   {
    "duration": 391,
    "start_time": "2022-06-16T13:16:35.214Z"
   },
   {
    "duration": 62,
    "start_time": "2022-06-16T13:17:08.524Z"
   },
   {
    "duration": 17,
    "start_time": "2022-06-16T13:34:54.749Z"
   },
   {
    "duration": 16,
    "start_time": "2022-06-16T13:35:18.536Z"
   },
   {
    "duration": 11,
    "start_time": "2022-06-16T13:35:36.307Z"
   },
   {
    "duration": 94,
    "start_time": "2022-06-16T13:40:39.344Z"
   },
   {
    "duration": 76,
    "start_time": "2022-06-16T13:41:03.458Z"
   },
   {
    "duration": 42,
    "start_time": "2022-06-16T13:41:11.384Z"
   },
   {
    "duration": 44,
    "start_time": "2022-06-16T13:41:22.859Z"
   },
   {
    "duration": 28,
    "start_time": "2022-06-16T13:41:52.759Z"
   },
   {
    "duration": 33,
    "start_time": "2022-06-16T13:42:00.186Z"
   },
   {
    "duration": 11,
    "start_time": "2022-06-16T13:42:15.585Z"
   },
   {
    "duration": 3,
    "start_time": "2022-06-16T13:43:32.853Z"
   },
   {
    "duration": 46,
    "start_time": "2022-06-16T13:43:32.859Z"
   },
   {
    "duration": 9,
    "start_time": "2022-06-16T13:43:32.907Z"
   },
   {
    "duration": 154,
    "start_time": "2022-06-16T13:43:32.918Z"
   },
   {
    "duration": 32,
    "start_time": "2022-06-16T13:43:33.074Z"
   },
   {
    "duration": 97,
    "start_time": "2022-06-16T13:43:33.107Z"
   },
   {
    "duration": 29,
    "start_time": "2022-06-16T13:43:33.206Z"
   },
   {
    "duration": 135,
    "start_time": "2022-06-16T13:43:33.236Z"
   },
   {
    "duration": 31,
    "start_time": "2022-06-16T13:43:33.372Z"
   },
   {
    "duration": 19,
    "start_time": "2022-06-16T13:43:33.405Z"
   },
   {
    "duration": 10,
    "start_time": "2022-06-16T13:43:33.426Z"
   },
   {
    "duration": 83,
    "start_time": "2022-06-16T13:43:33.438Z"
   },
   {
    "duration": 26,
    "start_time": "2022-06-16T13:43:33.523Z"
   },
   {
    "duration": 42,
    "start_time": "2022-06-16T13:43:33.553Z"
   },
   {
    "duration": 12,
    "start_time": "2022-06-16T13:43:33.597Z"
   },
   {
    "duration": 4,
    "start_time": "2022-06-16T13:43:33.610Z"
   },
   {
    "duration": 98,
    "start_time": "2022-06-16T13:43:33.616Z"
   },
   {
    "duration": 44,
    "start_time": "2022-06-16T13:43:33.716Z"
   },
   {
    "duration": 58,
    "start_time": "2022-06-16T13:43:33.761Z"
   },
   {
    "duration": 9,
    "start_time": "2022-06-16T13:43:33.821Z"
   },
   {
    "duration": 12,
    "start_time": "2022-06-16T13:44:03.010Z"
   },
   {
    "duration": 13,
    "start_time": "2022-06-16T13:44:20.163Z"
   },
   {
    "duration": 15,
    "start_time": "2022-06-16T13:44:28.434Z"
   },
   {
    "duration": 95,
    "start_time": "2022-06-16T13:44:41.501Z"
   },
   {
    "duration": 4,
    "start_time": "2022-06-16T13:46:04.111Z"
   },
   {
    "duration": 66,
    "start_time": "2022-06-16T13:46:04.117Z"
   },
   {
    "duration": 12,
    "start_time": "2022-06-16T13:46:04.186Z"
   },
   {
    "duration": 190,
    "start_time": "2022-06-16T13:46:04.200Z"
   },
   {
    "duration": 27,
    "start_time": "2022-06-16T13:46:04.393Z"
   },
   {
    "duration": 115,
    "start_time": "2022-06-16T13:46:04.422Z"
   },
   {
    "duration": 23,
    "start_time": "2022-06-16T13:46:04.540Z"
   },
   {
    "duration": 152,
    "start_time": "2022-06-16T13:46:04.565Z"
   },
   {
    "duration": 24,
    "start_time": "2022-06-16T13:46:04.719Z"
   },
   {
    "duration": 24,
    "start_time": "2022-06-16T13:46:04.745Z"
   },
   {
    "duration": 32,
    "start_time": "2022-06-16T13:46:04.773Z"
   },
   {
    "duration": 133,
    "start_time": "2022-06-16T13:46:04.807Z"
   },
   {
    "duration": 37,
    "start_time": "2022-06-16T13:46:04.942Z"
   },
   {
    "duration": 38,
    "start_time": "2022-06-16T13:46:04.981Z"
   },
   {
    "duration": 28,
    "start_time": "2022-06-16T13:46:05.021Z"
   },
   {
    "duration": 9,
    "start_time": "2022-06-16T13:46:05.051Z"
   },
   {
    "duration": 74,
    "start_time": "2022-06-16T13:46:05.062Z"
   },
   {
    "duration": 42,
    "start_time": "2022-06-16T13:46:05.138Z"
   },
   {
    "duration": 51,
    "start_time": "2022-06-16T13:46:05.193Z"
   },
   {
    "duration": 66,
    "start_time": "2022-06-16T13:46:05.246Z"
   },
   {
    "duration": 20,
    "start_time": "2022-06-16T13:46:42.553Z"
   },
   {
    "duration": 21,
    "start_time": "2022-06-16T13:47:05.522Z"
   },
   {
    "duration": 6,
    "start_time": "2022-06-16T13:47:18.303Z"
   },
   {
    "duration": 12,
    "start_time": "2022-06-16T13:47:37.044Z"
   },
   {
    "duration": 14,
    "start_time": "2022-06-16T13:47:55.851Z"
   },
   {
    "duration": 11,
    "start_time": "2022-06-16T13:48:05.654Z"
   },
   {
    "duration": 24,
    "start_time": "2022-06-16T13:48:12.421Z"
   },
   {
    "duration": 17,
    "start_time": "2022-06-16T13:48:26.349Z"
   },
   {
    "duration": 13,
    "start_time": "2022-06-16T13:48:31.395Z"
   },
   {
    "duration": 12,
    "start_time": "2022-06-16T13:48:38.843Z"
   },
   {
    "duration": 12,
    "start_time": "2022-06-16T13:48:45.595Z"
   },
   {
    "duration": 10,
    "start_time": "2022-06-16T13:48:50.158Z"
   },
   {
    "duration": 11,
    "start_time": "2022-06-16T13:48:53.960Z"
   },
   {
    "duration": 3,
    "start_time": "2022-06-16T13:49:09.361Z"
   },
   {
    "duration": 45,
    "start_time": "2022-06-16T13:49:09.367Z"
   },
   {
    "duration": 13,
    "start_time": "2022-06-16T13:49:09.414Z"
   },
   {
    "duration": 186,
    "start_time": "2022-06-16T13:49:09.428Z"
   },
   {
    "duration": 26,
    "start_time": "2022-06-16T13:49:09.616Z"
   },
   {
    "duration": 103,
    "start_time": "2022-06-16T13:49:09.644Z"
   },
   {
    "duration": 20,
    "start_time": "2022-06-16T13:49:09.750Z"
   },
   {
    "duration": 155,
    "start_time": "2022-06-16T13:49:09.771Z"
   },
   {
    "duration": 36,
    "start_time": "2022-06-16T13:49:09.928Z"
   },
   {
    "duration": 29,
    "start_time": "2022-06-16T13:49:09.966Z"
   },
   {
    "duration": 11,
    "start_time": "2022-06-16T13:49:09.997Z"
   },
   {
    "duration": 141,
    "start_time": "2022-06-16T13:49:10.010Z"
   },
   {
    "duration": 41,
    "start_time": "2022-06-16T13:49:10.154Z"
   },
   {
    "duration": 37,
    "start_time": "2022-06-16T13:49:10.199Z"
   },
   {
    "duration": 13,
    "start_time": "2022-06-16T13:49:10.238Z"
   },
   {
    "duration": 3,
    "start_time": "2022-06-16T13:49:10.253Z"
   },
   {
    "duration": 103,
    "start_time": "2022-06-16T13:49:10.258Z"
   },
   {
    "duration": 50,
    "start_time": "2022-06-16T13:49:10.363Z"
   },
   {
    "duration": 35,
    "start_time": "2022-06-16T13:49:10.415Z"
   },
   {
    "duration": 45,
    "start_time": "2022-06-16T13:49:10.452Z"
   },
   {
    "duration": 17,
    "start_time": "2022-06-16T13:49:10.499Z"
   },
   {
    "duration": 11,
    "start_time": "2022-06-16T13:49:10.518Z"
   },
   {
    "duration": 14,
    "start_time": "2022-06-16T13:49:16.442Z"
   },
   {
    "duration": 86,
    "start_time": "2022-06-16T13:51:36.260Z"
   },
   {
    "duration": 15,
    "start_time": "2022-06-16T13:51:36.349Z"
   },
   {
    "duration": 10,
    "start_time": "2022-06-16T13:51:36.366Z"
   },
   {
    "duration": 19,
    "start_time": "2022-06-16T13:51:36.379Z"
   },
   {
    "duration": 4,
    "start_time": "2022-06-16T13:51:52.156Z"
   },
   {
    "duration": 23,
    "start_time": "2022-06-16T13:52:14.273Z"
   },
   {
    "duration": 17,
    "start_time": "2022-06-16T13:52:14.298Z"
   },
   {
    "duration": 20,
    "start_time": "2022-06-16T13:52:14.317Z"
   },
   {
    "duration": 7,
    "start_time": "2022-06-16T13:52:14.340Z"
   },
   {
    "duration": 10,
    "start_time": "2022-06-16T13:52:19.761Z"
   },
   {
    "duration": 30,
    "start_time": "2022-06-16T13:55:25.256Z"
   },
   {
    "duration": 16,
    "start_time": "2022-06-16T13:55:29.176Z"
   },
   {
    "duration": 8,
    "start_time": "2022-06-16T13:56:03.561Z"
   },
   {
    "duration": 18,
    "start_time": "2022-06-16T13:56:11.719Z"
   },
   {
    "duration": 7,
    "start_time": "2022-06-16T13:59:11.765Z"
   },
   {
    "duration": 18,
    "start_time": "2022-06-16T13:59:51.097Z"
   },
   {
    "duration": 7,
    "start_time": "2022-06-16T14:01:10.076Z"
   },
   {
    "duration": 10,
    "start_time": "2022-06-16T14:02:17.072Z"
   },
   {
    "duration": 5,
    "start_time": "2022-06-16T14:02:27.705Z"
   },
   {
    "duration": 15,
    "start_time": "2022-06-16T14:03:03.781Z"
   },
   {
    "duration": 14,
    "start_time": "2022-06-16T14:03:16.771Z"
   },
   {
    "duration": 7,
    "start_time": "2022-06-16T14:05:43.794Z"
   },
   {
    "duration": 15,
    "start_time": "2022-06-16T14:05:47.354Z"
   },
   {
    "duration": 20,
    "start_time": "2022-06-16T14:06:26.872Z"
   },
   {
    "duration": 21,
    "start_time": "2022-06-16T14:06:40.124Z"
   },
   {
    "duration": 499,
    "start_time": "2022-06-16T14:07:28.401Z"
   },
   {
    "duration": 21,
    "start_time": "2022-06-16T14:07:39.860Z"
   },
   {
    "duration": 20,
    "start_time": "2022-06-16T14:07:50.115Z"
   },
   {
    "duration": 20,
    "start_time": "2022-06-16T14:08:03.160Z"
   },
   {
    "duration": 8,
    "start_time": "2022-06-16T14:08:35.236Z"
   },
   {
    "duration": 4,
    "start_time": "2022-06-16T14:08:40.015Z"
   },
   {
    "duration": 5,
    "start_time": "2022-06-16T14:08:41.858Z"
   },
   {
    "duration": 8,
    "start_time": "2022-06-16T14:08:44.108Z"
   },
   {
    "duration": 16,
    "start_time": "2022-06-16T14:08:45.770Z"
   },
   {
    "duration": 13,
    "start_time": "2022-06-16T14:08:51.153Z"
   },
   {
    "duration": 16,
    "start_time": "2022-06-16T14:11:52.304Z"
   },
   {
    "duration": 21,
    "start_time": "2022-06-16T14:15:02.759Z"
   },
   {
    "duration": 14,
    "start_time": "2022-06-16T14:15:25.909Z"
   },
   {
    "duration": 2,
    "start_time": "2022-06-16T14:17:15.448Z"
   },
   {
    "duration": 70,
    "start_time": "2022-06-16T14:17:15.452Z"
   },
   {
    "duration": 10,
    "start_time": "2022-06-16T14:17:15.523Z"
   },
   {
    "duration": 179,
    "start_time": "2022-06-16T14:17:15.535Z"
   },
   {
    "duration": 24,
    "start_time": "2022-06-16T14:17:15.717Z"
   },
   {
    "duration": 105,
    "start_time": "2022-06-16T14:17:15.743Z"
   },
   {
    "duration": 18,
    "start_time": "2022-06-16T14:17:15.849Z"
   },
   {
    "duration": 164,
    "start_time": "2022-06-16T14:17:15.869Z"
   },
   {
    "duration": 22,
    "start_time": "2022-06-16T14:17:16.035Z"
   },
   {
    "duration": 19,
    "start_time": "2022-06-16T14:17:16.059Z"
   },
   {
    "duration": 23,
    "start_time": "2022-06-16T14:17:16.080Z"
   },
   {
    "duration": 74,
    "start_time": "2022-06-16T14:17:16.110Z"
   },
   {
    "duration": 38,
    "start_time": "2022-06-16T14:17:16.186Z"
   },
   {
    "duration": 26,
    "start_time": "2022-06-16T14:17:16.226Z"
   },
   {
    "duration": 9,
    "start_time": "2022-06-16T14:17:16.254Z"
   },
   {
    "duration": 2,
    "start_time": "2022-06-16T14:17:16.264Z"
   },
   {
    "duration": 104,
    "start_time": "2022-06-16T14:17:16.267Z"
   },
   {
    "duration": 61,
    "start_time": "2022-06-16T14:17:16.372Z"
   },
   {
    "duration": 39,
    "start_time": "2022-06-16T14:17:16.434Z"
   },
   {
    "duration": 43,
    "start_time": "2022-06-16T14:17:16.474Z"
   },
   {
    "duration": 13,
    "start_time": "2022-06-16T14:17:16.519Z"
   },
   {
    "duration": 7,
    "start_time": "2022-06-16T14:17:16.534Z"
   },
   {
    "duration": 3,
    "start_time": "2022-06-16T14:17:16.543Z"
   },
   {
    "duration": 6,
    "start_time": "2022-06-16T14:17:16.547Z"
   },
   {
    "duration": 10,
    "start_time": "2022-06-16T14:17:16.555Z"
   },
   {
    "duration": 47,
    "start_time": "2022-06-16T14:17:16.566Z"
   },
   {
    "duration": 15,
    "start_time": "2022-06-16T14:17:16.615Z"
   },
   {
    "duration": 33,
    "start_time": "2022-06-16T14:26:42.793Z"
   },
   {
    "duration": 26,
    "start_time": "2022-06-16T14:27:31.256Z"
   },
   {
    "duration": 11,
    "start_time": "2022-06-16T14:28:44.674Z"
   },
   {
    "duration": 20,
    "start_time": "2022-06-16T14:28:53.307Z"
   },
   {
    "duration": 18,
    "start_time": "2022-06-16T14:29:43.315Z"
   },
   {
    "duration": 21,
    "start_time": "2022-06-16T14:30:07.127Z"
   },
   {
    "duration": 7,
    "start_time": "2022-06-16T14:34:13.092Z"
   },
   {
    "duration": 16,
    "start_time": "2022-06-16T14:34:26.552Z"
   },
   {
    "duration": 23,
    "start_time": "2022-06-16T14:35:07.689Z"
   },
   {
    "duration": 23,
    "start_time": "2022-06-16T14:36:15.350Z"
   },
   {
    "duration": 23,
    "start_time": "2022-06-16T14:36:27.154Z"
   },
   {
    "duration": 23,
    "start_time": "2022-06-16T14:36:51.686Z"
   },
   {
    "duration": 13,
    "start_time": "2022-06-16T14:39:30.403Z"
   },
   {
    "duration": 4,
    "start_time": "2022-06-16T14:53:07.481Z"
   },
   {
    "duration": 12,
    "start_time": "2022-06-16T14:54:12.784Z"
   },
   {
    "duration": 6,
    "start_time": "2022-06-16T14:55:22.657Z"
   },
   {
    "duration": 7,
    "start_time": "2022-06-16T14:55:30.808Z"
   },
   {
    "duration": 15,
    "start_time": "2022-06-16T14:55:37.691Z"
   },
   {
    "duration": 43,
    "start_time": "2022-06-16T14:56:15.603Z"
   },
   {
    "duration": 65,
    "start_time": "2022-06-16T14:56:27.005Z"
   },
   {
    "duration": 30,
    "start_time": "2022-06-16T14:58:09.669Z"
   },
   {
    "duration": 28,
    "start_time": "2022-06-16T14:58:25.600Z"
   },
   {
    "duration": 29,
    "start_time": "2022-06-16T15:01:58.000Z"
   },
   {
    "duration": 10,
    "start_time": "2022-06-16T15:04:57.643Z"
   },
   {
    "duration": 7,
    "start_time": "2022-06-16T15:08:19.756Z"
   },
   {
    "duration": 57,
    "start_time": "2022-06-16T15:08:41.761Z"
   },
   {
    "duration": 60,
    "start_time": "2022-06-16T15:10:40.109Z"
   },
   {
    "duration": 6,
    "start_time": "2022-06-16T15:10:57.999Z"
   },
   {
    "duration": 42,
    "start_time": "2022-06-17T07:11:45.914Z"
   },
   {
    "duration": 1152,
    "start_time": "2022-06-17T07:12:11.254Z"
   },
   {
    "duration": 94,
    "start_time": "2022-06-17T07:12:12.408Z"
   },
   {
    "duration": 9,
    "start_time": "2022-06-17T07:12:12.504Z"
   },
   {
    "duration": 474,
    "start_time": "2022-06-17T07:12:12.515Z"
   },
   {
    "duration": 37,
    "start_time": "2022-06-17T07:12:12.991Z"
   },
   {
    "duration": 144,
    "start_time": "2022-06-17T07:12:13.031Z"
   },
   {
    "duration": 21,
    "start_time": "2022-06-17T07:12:13.177Z"
   },
   {
    "duration": 367,
    "start_time": "2022-06-17T07:12:13.200Z"
   },
   {
    "duration": 19,
    "start_time": "2022-06-17T07:12:13.568Z"
   },
   {
    "duration": 64,
    "start_time": "2022-06-17T07:12:13.589Z"
   },
   {
    "duration": 12,
    "start_time": "2022-06-17T07:12:13.655Z"
   },
   {
    "duration": 70,
    "start_time": "2022-06-17T07:12:13.669Z"
   },
   {
    "duration": 27,
    "start_time": "2022-06-17T07:12:13.741Z"
   },
   {
    "duration": 31,
    "start_time": "2022-06-17T07:12:13.769Z"
   },
   {
    "duration": 11,
    "start_time": "2022-06-17T07:12:13.802Z"
   },
   {
    "duration": 6,
    "start_time": "2022-06-17T07:12:13.814Z"
   },
   {
    "duration": 81,
    "start_time": "2022-06-17T07:12:19.652Z"
   },
   {
    "duration": 11,
    "start_time": "2022-06-17T07:15:57.035Z"
   },
   {
    "duration": 15,
    "start_time": "2022-06-17T07:16:48.090Z"
   },
   {
    "duration": 18,
    "start_time": "2022-06-17T07:17:01.898Z"
   },
   {
    "duration": 13,
    "start_time": "2022-06-17T07:17:05.973Z"
   },
   {
    "duration": 2,
    "start_time": "2022-06-17T07:17:17.973Z"
   },
   {
    "duration": 47,
    "start_time": "2022-06-17T07:17:17.977Z"
   },
   {
    "duration": 9,
    "start_time": "2022-06-17T07:17:18.025Z"
   },
   {
    "duration": 133,
    "start_time": "2022-06-17T07:17:18.035Z"
   },
   {
    "duration": 21,
    "start_time": "2022-06-17T07:17:18.170Z"
   },
   {
    "duration": 98,
    "start_time": "2022-06-17T07:17:18.193Z"
   },
   {
    "duration": 15,
    "start_time": "2022-06-17T07:17:18.292Z"
   },
   {
    "duration": 116,
    "start_time": "2022-06-17T07:17:18.308Z"
   },
   {
    "duration": 17,
    "start_time": "2022-06-17T07:17:18.425Z"
   },
   {
    "duration": 19,
    "start_time": "2022-06-17T07:17:18.443Z"
   },
   {
    "duration": 9,
    "start_time": "2022-06-17T07:17:18.463Z"
   },
   {
    "duration": 58,
    "start_time": "2022-06-17T07:17:18.478Z"
   },
   {
    "duration": 22,
    "start_time": "2022-06-17T07:17:18.538Z"
   },
   {
    "duration": 37,
    "start_time": "2022-06-17T07:17:18.562Z"
   },
   {
    "duration": 9,
    "start_time": "2022-06-17T07:17:18.600Z"
   },
   {
    "duration": 82,
    "start_time": "2022-06-17T07:17:20.794Z"
   },
   {
    "duration": 3,
    "start_time": "2022-06-17T07:17:42.136Z"
   },
   {
    "duration": 46,
    "start_time": "2022-06-17T07:17:42.141Z"
   },
   {
    "duration": 9,
    "start_time": "2022-06-17T07:17:42.189Z"
   },
   {
    "duration": 138,
    "start_time": "2022-06-17T07:17:42.200Z"
   },
   {
    "duration": 24,
    "start_time": "2022-06-17T07:17:42.340Z"
   },
   {
    "duration": 90,
    "start_time": "2022-06-17T07:17:42.366Z"
   },
   {
    "duration": 15,
    "start_time": "2022-06-17T07:17:42.458Z"
   },
   {
    "duration": 116,
    "start_time": "2022-06-17T07:17:42.474Z"
   },
   {
    "duration": 17,
    "start_time": "2022-06-17T07:17:42.592Z"
   },
   {
    "duration": 23,
    "start_time": "2022-06-17T07:17:42.611Z"
   },
   {
    "duration": 12,
    "start_time": "2022-06-17T07:17:42.636Z"
   },
   {
    "duration": 76,
    "start_time": "2022-06-17T07:17:42.649Z"
   },
   {
    "duration": 29,
    "start_time": "2022-06-17T07:17:42.727Z"
   },
   {
    "duration": 32,
    "start_time": "2022-06-17T07:17:42.757Z"
   },
   {
    "duration": 8,
    "start_time": "2022-06-17T07:17:42.790Z"
   },
   {
    "duration": 25,
    "start_time": "2022-06-17T07:17:42.800Z"
   },
   {
    "duration": 27,
    "start_time": "2022-06-17T07:17:44.959Z"
   },
   {
    "duration": 67,
    "start_time": "2022-06-17T07:17:58.577Z"
   },
   {
    "duration": 78,
    "start_time": "2022-06-17T07:18:07.283Z"
   },
   {
    "duration": 68,
    "start_time": "2022-06-17T07:18:18.996Z"
   },
   {
    "duration": 65,
    "start_time": "2022-06-17T07:19:08.755Z"
   },
   {
    "duration": 4,
    "start_time": "2022-06-17T07:19:36.607Z"
   },
   {
    "duration": 9,
    "start_time": "2022-06-17T07:19:43.137Z"
   },
   {
    "duration": 66,
    "start_time": "2022-06-17T07:20:03.881Z"
   },
   {
    "duration": 2,
    "start_time": "2022-06-17T07:20:38.757Z"
   },
   {
    "duration": 42,
    "start_time": "2022-06-17T07:20:38.774Z"
   },
   {
    "duration": 9,
    "start_time": "2022-06-17T07:20:38.817Z"
   },
   {
    "duration": 144,
    "start_time": "2022-06-17T07:20:38.827Z"
   },
   {
    "duration": 23,
    "start_time": "2022-06-17T07:20:38.973Z"
   },
   {
    "duration": 82,
    "start_time": "2022-06-17T07:20:38.998Z"
   },
   {
    "duration": 15,
    "start_time": "2022-06-17T07:20:39.081Z"
   },
   {
    "duration": 109,
    "start_time": "2022-06-17T07:20:39.097Z"
   },
   {
    "duration": 16,
    "start_time": "2022-06-17T07:20:39.208Z"
   },
   {
    "duration": 19,
    "start_time": "2022-06-17T07:20:39.225Z"
   },
   {
    "duration": 8,
    "start_time": "2022-06-17T07:20:39.246Z"
   },
   {
    "duration": 65,
    "start_time": "2022-06-17T07:20:39.256Z"
   },
   {
    "duration": 25,
    "start_time": "2022-06-17T07:20:39.323Z"
   },
   {
    "duration": 38,
    "start_time": "2022-06-17T07:20:39.350Z"
   },
   {
    "duration": 9,
    "start_time": "2022-06-17T07:20:39.391Z"
   },
   {
    "duration": 70,
    "start_time": "2022-06-17T07:20:42.046Z"
   },
   {
    "duration": 64,
    "start_time": "2022-06-17T07:21:50.790Z"
   },
   {
    "duration": 39,
    "start_time": "2022-06-17T07:23:45.583Z"
   },
   {
    "duration": 39,
    "start_time": "2022-06-17T07:24:48.743Z"
   },
   {
    "duration": 2,
    "start_time": "2022-06-17T07:26:00.589Z"
   },
   {
    "duration": 51,
    "start_time": "2022-06-17T07:26:00.593Z"
   },
   {
    "duration": 9,
    "start_time": "2022-06-17T07:26:00.645Z"
   },
   {
    "duration": 163,
    "start_time": "2022-06-17T07:26:00.655Z"
   },
   {
    "duration": 22,
    "start_time": "2022-06-17T07:26:00.820Z"
   },
   {
    "duration": 92,
    "start_time": "2022-06-17T07:26:00.843Z"
   },
   {
    "duration": 15,
    "start_time": "2022-06-17T07:26:00.936Z"
   },
   {
    "duration": 152,
    "start_time": "2022-06-17T07:26:00.952Z"
   },
   {
    "duration": 17,
    "start_time": "2022-06-17T07:26:01.106Z"
   },
   {
    "duration": 30,
    "start_time": "2022-06-17T07:26:01.124Z"
   },
   {
    "duration": 22,
    "start_time": "2022-06-17T07:26:01.155Z"
   },
   {
    "duration": 77,
    "start_time": "2022-06-17T07:26:01.179Z"
   },
   {
    "duration": 23,
    "start_time": "2022-06-17T07:26:01.258Z"
   },
   {
    "duration": 21,
    "start_time": "2022-06-17T07:26:01.283Z"
   },
   {
    "duration": 24,
    "start_time": "2022-06-17T07:26:01.306Z"
   },
   {
    "duration": 87,
    "start_time": "2022-06-17T07:26:01.332Z"
   },
   {
    "duration": 34,
    "start_time": "2022-06-17T07:26:01.421Z"
   },
   {
    "duration": 42,
    "start_time": "2022-06-17T07:26:10.325Z"
   },
   {
    "duration": 7,
    "start_time": "2022-06-17T07:29:15.574Z"
   },
   {
    "duration": 3,
    "start_time": "2022-06-17T07:29:26.619Z"
   },
   {
    "duration": 3,
    "start_time": "2022-06-17T07:29:39.655Z"
   },
   {
    "duration": 4,
    "start_time": "2022-06-17T07:29:46.551Z"
   },
   {
    "duration": 8,
    "start_time": "2022-06-17T07:29:52.732Z"
   },
   {
    "duration": 7,
    "start_time": "2022-06-17T07:29:59.119Z"
   },
   {
    "duration": 4,
    "start_time": "2022-06-17T07:30:08.233Z"
   },
   {
    "duration": 4,
    "start_time": "2022-06-17T07:38:55.190Z"
   },
   {
    "duration": 55,
    "start_time": "2022-06-17T07:39:48.742Z"
   },
   {
    "duration": 53,
    "start_time": "2022-06-17T07:40:24.895Z"
   },
   {
    "duration": 47,
    "start_time": "2022-06-17T07:40:44.492Z"
   },
   {
    "duration": 41,
    "start_time": "2022-06-17T07:41:24.892Z"
   },
   {
    "duration": 39,
    "start_time": "2022-06-17T07:42:01.292Z"
   },
   {
    "duration": 45,
    "start_time": "2022-06-17T07:42:06.290Z"
   },
   {
    "duration": 37,
    "start_time": "2022-06-17T07:42:19.479Z"
   },
   {
    "duration": 42,
    "start_time": "2022-06-17T07:42:24.084Z"
   },
   {
    "duration": 39,
    "start_time": "2022-06-17T07:43:08.184Z"
   },
   {
    "duration": 41,
    "start_time": "2022-06-17T07:43:15.917Z"
   },
   {
    "duration": 2,
    "start_time": "2022-06-17T07:44:09.252Z"
   },
   {
    "duration": 48,
    "start_time": "2022-06-17T07:44:09.256Z"
   },
   {
    "duration": 9,
    "start_time": "2022-06-17T07:44:09.306Z"
   },
   {
    "duration": 156,
    "start_time": "2022-06-17T07:44:09.317Z"
   },
   {
    "duration": 19,
    "start_time": "2022-06-17T07:44:09.475Z"
   },
   {
    "duration": 84,
    "start_time": "2022-06-17T07:44:09.496Z"
   },
   {
    "duration": 25,
    "start_time": "2022-06-17T07:44:09.581Z"
   },
   {
    "duration": 118,
    "start_time": "2022-06-17T07:44:09.607Z"
   },
   {
    "duration": 17,
    "start_time": "2022-06-17T07:44:09.726Z"
   },
   {
    "duration": 19,
    "start_time": "2022-06-17T07:44:09.744Z"
   },
   {
    "duration": 13,
    "start_time": "2022-06-17T07:44:09.765Z"
   },
   {
    "duration": 59,
    "start_time": "2022-06-17T07:44:09.779Z"
   },
   {
    "duration": 40,
    "start_time": "2022-06-17T07:44:09.839Z"
   },
   {
    "duration": 22,
    "start_time": "2022-06-17T07:44:09.881Z"
   },
   {
    "duration": 9,
    "start_time": "2022-06-17T07:44:09.905Z"
   },
   {
    "duration": 72,
    "start_time": "2022-06-17T07:44:09.916Z"
   },
   {
    "duration": 35,
    "start_time": "2022-06-17T07:44:09.989Z"
   },
   {
    "duration": 34,
    "start_time": "2022-06-17T07:44:10.026Z"
   },
   {
    "duration": 20,
    "start_time": "2022-06-17T07:44:10.077Z"
   },
   {
    "duration": 8,
    "start_time": "2022-06-17T07:44:10.098Z"
   },
   {
    "duration": 0,
    "start_time": "2022-06-17T07:44:10.107Z"
   },
   {
    "duration": 0,
    "start_time": "2022-06-17T07:44:10.108Z"
   },
   {
    "duration": 0,
    "start_time": "2022-06-17T07:44:10.109Z"
   },
   {
    "duration": 0,
    "start_time": "2022-06-17T07:44:10.110Z"
   },
   {
    "duration": 0,
    "start_time": "2022-06-17T07:44:10.112Z"
   },
   {
    "duration": 0,
    "start_time": "2022-06-17T07:44:10.113Z"
   },
   {
    "duration": 0,
    "start_time": "2022-06-17T07:44:10.114Z"
   },
   {
    "duration": 0,
    "start_time": "2022-06-17T07:44:10.115Z"
   },
   {
    "duration": 9,
    "start_time": "2022-06-17T07:45:00.281Z"
   },
   {
    "duration": 19,
    "start_time": "2022-06-17T07:45:12.033Z"
   },
   {
    "duration": 8,
    "start_time": "2022-06-17T07:45:13.392Z"
   },
   {
    "duration": 513,
    "start_time": "2022-06-17T07:45:23.098Z"
   },
   {
    "duration": 3,
    "start_time": "2022-06-17T07:45:47.449Z"
   },
   {
    "duration": 54,
    "start_time": "2022-06-17T07:45:47.454Z"
   },
   {
    "duration": 9,
    "start_time": "2022-06-17T07:45:47.510Z"
   },
   {
    "duration": 159,
    "start_time": "2022-06-17T07:45:47.521Z"
   },
   {
    "duration": 28,
    "start_time": "2022-06-17T07:45:47.682Z"
   },
   {
    "duration": 121,
    "start_time": "2022-06-17T07:45:47.713Z"
   },
   {
    "duration": 25,
    "start_time": "2022-06-17T07:45:47.836Z"
   },
   {
    "duration": 167,
    "start_time": "2022-06-17T07:45:47.863Z"
   },
   {
    "duration": 19,
    "start_time": "2022-06-17T07:45:48.032Z"
   },
   {
    "duration": 23,
    "start_time": "2022-06-17T07:45:48.052Z"
   },
   {
    "duration": 9,
    "start_time": "2022-06-17T07:45:48.078Z"
   },
   {
    "duration": 67,
    "start_time": "2022-06-17T07:45:48.089Z"
   },
   {
    "duration": 42,
    "start_time": "2022-06-17T07:45:48.159Z"
   },
   {
    "duration": 31,
    "start_time": "2022-06-17T07:45:48.203Z"
   },
   {
    "duration": 13,
    "start_time": "2022-06-17T07:45:48.236Z"
   },
   {
    "duration": 84,
    "start_time": "2022-06-17T07:45:48.251Z"
   },
   {
    "duration": 42,
    "start_time": "2022-06-17T07:45:48.337Z"
   },
   {
    "duration": 33,
    "start_time": "2022-06-17T07:45:48.380Z"
   },
   {
    "duration": 19,
    "start_time": "2022-06-17T07:45:48.415Z"
   },
   {
    "duration": 585,
    "start_time": "2022-06-17T07:45:48.436Z"
   },
   {
    "duration": 0,
    "start_time": "2022-06-17T07:45:49.023Z"
   },
   {
    "duration": 0,
    "start_time": "2022-06-17T07:45:49.025Z"
   },
   {
    "duration": 0,
    "start_time": "2022-06-17T07:45:49.026Z"
   },
   {
    "duration": 0,
    "start_time": "2022-06-17T07:45:49.027Z"
   },
   {
    "duration": 0,
    "start_time": "2022-06-17T07:45:49.028Z"
   },
   {
    "duration": 0,
    "start_time": "2022-06-17T07:45:49.030Z"
   },
   {
    "duration": 0,
    "start_time": "2022-06-17T07:45:49.031Z"
   },
   {
    "duration": 0,
    "start_time": "2022-06-17T07:45:49.032Z"
   },
   {
    "duration": 13,
    "start_time": "2022-06-17T07:45:59.478Z"
   },
   {
    "duration": 16,
    "start_time": "2022-06-17T07:46:14.137Z"
   },
   {
    "duration": 14,
    "start_time": "2022-06-17T07:46:30.130Z"
   },
   {
    "duration": 6,
    "start_time": "2022-06-17T07:46:50.178Z"
   },
   {
    "duration": 3,
    "start_time": "2022-06-17T07:46:58.969Z"
   },
   {
    "duration": 5,
    "start_time": "2022-06-17T07:47:04.900Z"
   },
   {
    "duration": 5,
    "start_time": "2022-06-17T07:47:15.145Z"
   },
   {
    "duration": 9,
    "start_time": "2022-06-17T07:47:16.487Z"
   },
   {
    "duration": 20,
    "start_time": "2022-06-17T07:47:22.379Z"
   },
   {
    "duration": 7,
    "start_time": "2022-06-17T07:49:32.217Z"
   },
   {
    "duration": 11,
    "start_time": "2022-06-17T08:13:14.388Z"
   },
   {
    "duration": 10,
    "start_time": "2022-06-17T08:13:44.914Z"
   },
   {
    "duration": 12,
    "start_time": "2022-06-17T08:14:06.724Z"
   },
   {
    "duration": 15,
    "start_time": "2022-06-17T08:14:22.946Z"
   },
   {
    "duration": 8,
    "start_time": "2022-06-17T08:14:29.890Z"
   },
   {
    "duration": 14,
    "start_time": "2022-06-17T08:14:33.026Z"
   },
   {
    "duration": 12,
    "start_time": "2022-06-17T08:15:09.787Z"
   },
   {
    "duration": 22,
    "start_time": "2022-06-17T08:15:15.510Z"
   },
   {
    "duration": 13,
    "start_time": "2022-06-17T08:25:12.972Z"
   },
   {
    "duration": 11,
    "start_time": "2022-06-17T08:26:24.259Z"
   },
   {
    "duration": 15,
    "start_time": "2022-06-17T08:26:37.363Z"
   },
   {
    "duration": 7,
    "start_time": "2022-06-17T08:26:54.369Z"
   },
   {
    "duration": 22,
    "start_time": "2022-06-17T08:26:59.469Z"
   },
   {
    "duration": 9,
    "start_time": "2022-06-17T08:34:04.726Z"
   },
   {
    "duration": 11,
    "start_time": "2022-06-17T08:34:45.054Z"
   },
   {
    "duration": 6,
    "start_time": "2022-06-17T08:34:59.253Z"
   },
   {
    "duration": 19,
    "start_time": "2022-06-17T08:44:05.435Z"
   },
   {
    "duration": 9,
    "start_time": "2022-06-17T08:45:11.053Z"
   },
   {
    "duration": 8,
    "start_time": "2022-06-17T08:45:18.358Z"
   },
   {
    "duration": 8,
    "start_time": "2022-06-17T08:47:49.646Z"
   },
   {
    "duration": 13,
    "start_time": "2022-06-17T08:47:56.099Z"
   },
   {
    "duration": 454,
    "start_time": "2022-06-17T08:48:15.590Z"
   },
   {
    "duration": 21,
    "start_time": "2022-06-17T08:49:08.477Z"
   },
   {
    "duration": 27,
    "start_time": "2022-06-17T08:49:18.214Z"
   },
   {
    "duration": 25,
    "start_time": "2022-06-17T08:49:23.446Z"
   },
   {
    "duration": 12,
    "start_time": "2022-06-17T08:50:17.280Z"
   },
   {
    "duration": 151,
    "start_time": "2022-06-17T08:50:38.291Z"
   },
   {
    "duration": 14,
    "start_time": "2022-06-17T08:52:02.715Z"
   },
   {
    "duration": 24,
    "start_time": "2022-06-17T08:52:41.765Z"
   },
   {
    "duration": 25,
    "start_time": "2022-06-17T08:54:03.961Z"
   },
   {
    "duration": 19,
    "start_time": "2022-06-17T08:54:48.891Z"
   },
   {
    "duration": 12,
    "start_time": "2022-06-17T08:58:35.350Z"
   },
   {
    "duration": 13,
    "start_time": "2022-06-17T08:58:40.311Z"
   },
   {
    "duration": 25,
    "start_time": "2022-06-17T08:58:44.554Z"
   },
   {
    "duration": 9,
    "start_time": "2022-06-17T08:59:00.643Z"
   },
   {
    "duration": 9,
    "start_time": "2022-06-17T08:59:36.389Z"
   },
   {
    "duration": 23,
    "start_time": "2022-06-17T09:01:25.363Z"
   },
   {
    "duration": 24,
    "start_time": "2022-06-17T09:02:18.709Z"
   },
   {
    "duration": 8,
    "start_time": "2022-06-17T09:02:31.016Z"
   },
   {
    "duration": 27,
    "start_time": "2022-06-17T09:02:35.893Z"
   },
   {
    "duration": 8,
    "start_time": "2022-06-17T09:05:08.176Z"
   },
   {
    "duration": 8,
    "start_time": "2022-06-17T09:05:44.608Z"
   },
   {
    "duration": 33,
    "start_time": "2022-06-17T09:05:51.552Z"
   },
   {
    "duration": 8,
    "start_time": "2022-06-17T09:05:55.514Z"
   },
   {
    "duration": 8,
    "start_time": "2022-06-17T09:06:45.736Z"
   },
   {
    "duration": 8,
    "start_time": "2022-06-17T09:06:53.607Z"
   },
   {
    "duration": 9,
    "start_time": "2022-06-17T09:07:13.042Z"
   },
   {
    "duration": 36,
    "start_time": "2022-06-17T09:13:20.855Z"
   },
   {
    "duration": 10,
    "start_time": "2022-06-17T09:13:29.592Z"
   },
   {
    "duration": 15,
    "start_time": "2022-06-17T09:24:13.051Z"
   },
   {
    "duration": 4,
    "start_time": "2022-06-17T09:26:10.773Z"
   },
   {
    "duration": 406,
    "start_time": "2022-06-17T09:29:01.907Z"
   },
   {
    "duration": 20,
    "start_time": "2022-06-17T09:30:36.187Z"
   },
   {
    "duration": 4,
    "start_time": "2022-06-17T09:31:45.206Z"
   },
   {
    "duration": 25,
    "start_time": "2022-06-17T09:32:09.607Z"
   },
   {
    "duration": 36,
    "start_time": "2022-06-17T09:33:54.322Z"
   },
   {
    "duration": 13,
    "start_time": "2022-06-17T09:34:05.819Z"
   },
   {
    "duration": 9,
    "start_time": "2022-06-17T09:34:10.566Z"
   },
   {
    "duration": 27,
    "start_time": "2022-06-17T09:35:58.798Z"
   },
   {
    "duration": 520,
    "start_time": "2022-06-17T09:37:01.005Z"
   },
   {
    "duration": 27,
    "start_time": "2022-06-17T09:37:23.350Z"
   },
   {
    "duration": 25,
    "start_time": "2022-06-17T09:38:05.871Z"
   },
   {
    "duration": 8,
    "start_time": "2022-06-17T09:38:22.607Z"
   },
   {
    "duration": 26,
    "start_time": "2022-06-17T09:38:30.842Z"
   },
   {
    "duration": 4,
    "start_time": "2022-06-17T09:38:39.296Z"
   },
   {
    "duration": 4,
    "start_time": "2022-06-17T09:38:51.263Z"
   },
   {
    "duration": 5,
    "start_time": "2022-06-17T09:39:40.178Z"
   },
   {
    "duration": 22,
    "start_time": "2022-06-17T09:40:38.910Z"
   },
   {
    "duration": 17,
    "start_time": "2022-06-17T09:41:32.751Z"
   },
   {
    "duration": 105,
    "start_time": "2022-06-17T09:42:47.190Z"
   },
   {
    "duration": 20,
    "start_time": "2022-06-17T09:43:09.311Z"
   },
   {
    "duration": 17,
    "start_time": "2022-06-17T09:43:25.445Z"
   },
   {
    "duration": 17,
    "start_time": "2022-06-17T09:44:54.901Z"
   },
   {
    "duration": 29,
    "start_time": "2022-06-17T09:45:30.400Z"
   },
   {
    "duration": 29,
    "start_time": "2022-06-17T09:45:33.145Z"
   },
   {
    "duration": 18,
    "start_time": "2022-06-17T09:45:39.607Z"
   },
   {
    "duration": 21,
    "start_time": "2022-06-17T09:45:59.379Z"
   },
   {
    "duration": 25,
    "start_time": "2022-06-17T09:46:37.574Z"
   },
   {
    "duration": 21,
    "start_time": "2022-06-17T09:47:16.648Z"
   },
   {
    "duration": 19,
    "start_time": "2022-06-17T09:47:20.330Z"
   },
   {
    "duration": 14,
    "start_time": "2022-06-17T09:47:43.535Z"
   },
   {
    "duration": 30,
    "start_time": "2022-06-17T09:48:50.622Z"
   },
   {
    "duration": 23,
    "start_time": "2022-06-17T10:46:41.091Z"
   },
   {
    "duration": 20,
    "start_time": "2022-06-17T10:47:06.317Z"
   },
   {
    "duration": 33,
    "start_time": "2022-06-17T10:48:13.816Z"
   },
   {
    "duration": 28,
    "start_time": "2022-06-17T10:48:54.466Z"
   },
   {
    "duration": 37,
    "start_time": "2022-06-17T10:49:32.686Z"
   },
   {
    "duration": 34,
    "start_time": "2022-06-17T10:49:43.257Z"
   },
   {
    "duration": 36,
    "start_time": "2022-06-17T10:50:14.303Z"
   },
   {
    "duration": 3,
    "start_time": "2022-06-17T10:59:52.016Z"
   },
   {
    "duration": 4,
    "start_time": "2022-06-17T11:02:21.710Z"
   },
   {
    "duration": 27,
    "start_time": "2022-06-17T11:04:44.587Z"
   },
   {
    "duration": 4,
    "start_time": "2022-06-17T11:09:37.104Z"
   },
   {
    "duration": 28,
    "start_time": "2022-06-17T11:11:01.732Z"
   },
   {
    "duration": 71,
    "start_time": "2022-06-17T11:11:19.450Z"
   },
   {
    "duration": 97,
    "start_time": "2022-06-17T11:11:35.665Z"
   },
   {
    "duration": 107,
    "start_time": "2022-06-17T11:16:48.272Z"
   },
   {
    "duration": 114,
    "start_time": "2022-06-17T11:17:29.504Z"
   },
   {
    "duration": 53,
    "start_time": "2022-06-17T11:18:08.306Z"
   },
   {
    "duration": 94,
    "start_time": "2022-06-17T11:18:16.855Z"
   },
   {
    "duration": 152,
    "start_time": "2022-06-17T11:18:37.490Z"
   },
   {
    "duration": 59,
    "start_time": "2022-06-17T11:18:43.566Z"
   },
   {
    "duration": 615,
    "start_time": "2022-06-17T11:19:30.016Z"
   },
   {
    "duration": 533,
    "start_time": "2022-06-17T11:19:37.651Z"
   },
   {
    "duration": 52,
    "start_time": "2022-06-17T11:20:21.676Z"
   },
   {
    "duration": 661,
    "start_time": "2022-06-17T11:20:49.092Z"
   },
   {
    "duration": 58,
    "start_time": "2022-06-17T11:22:07.331Z"
   },
   {
    "duration": 57,
    "start_time": "2022-06-17T11:23:21.083Z"
   },
   {
    "duration": 63,
    "start_time": "2022-06-17T11:23:54.753Z"
   },
   {
    "duration": 3,
    "start_time": "2022-06-17T11:24:13.693Z"
   },
   {
    "duration": 52,
    "start_time": "2022-06-17T11:24:13.699Z"
   },
   {
    "duration": 11,
    "start_time": "2022-06-17T11:24:13.753Z"
   },
   {
    "duration": 142,
    "start_time": "2022-06-17T11:24:13.765Z"
   },
   {
    "duration": 21,
    "start_time": "2022-06-17T11:24:13.909Z"
   },
   {
    "duration": 81,
    "start_time": "2022-06-17T11:24:13.931Z"
   },
   {
    "duration": 22,
    "start_time": "2022-06-17T11:24:14.014Z"
   },
   {
    "duration": 135,
    "start_time": "2022-06-17T11:24:14.038Z"
   },
   {
    "duration": 17,
    "start_time": "2022-06-17T11:24:14.178Z"
   },
   {
    "duration": 19,
    "start_time": "2022-06-17T11:24:14.196Z"
   },
   {
    "duration": 9,
    "start_time": "2022-06-17T11:24:14.218Z"
   },
   {
    "duration": 68,
    "start_time": "2022-06-17T11:24:14.228Z"
   },
   {
    "duration": 30,
    "start_time": "2022-06-17T11:24:14.298Z"
   },
   {
    "duration": 24,
    "start_time": "2022-06-17T11:24:14.329Z"
   },
   {
    "duration": 29,
    "start_time": "2022-06-17T11:24:14.355Z"
   },
   {
    "duration": 75,
    "start_time": "2022-06-17T11:24:14.385Z"
   },
   {
    "duration": 53,
    "start_time": "2022-06-17T11:24:14.461Z"
   },
   {
    "duration": 65,
    "start_time": "2022-06-17T11:24:14.516Z"
   },
   {
    "duration": 29,
    "start_time": "2022-06-17T11:24:14.583Z"
   },
   {
    "duration": 564,
    "start_time": "2022-06-17T11:24:14.614Z"
   },
   {
    "duration": 0,
    "start_time": "2022-06-17T11:24:15.180Z"
   },
   {
    "duration": 0,
    "start_time": "2022-06-17T11:24:15.181Z"
   },
   {
    "duration": 0,
    "start_time": "2022-06-17T11:24:15.182Z"
   },
   {
    "duration": 0,
    "start_time": "2022-06-17T11:24:15.183Z"
   },
   {
    "duration": 0,
    "start_time": "2022-06-17T11:24:15.184Z"
   },
   {
    "duration": 0,
    "start_time": "2022-06-17T11:24:15.185Z"
   },
   {
    "duration": 0,
    "start_time": "2022-06-17T11:24:15.188Z"
   },
   {
    "duration": 0,
    "start_time": "2022-06-17T11:24:15.188Z"
   },
   {
    "duration": 0,
    "start_time": "2022-06-17T11:24:15.189Z"
   },
   {
    "duration": 0,
    "start_time": "2022-06-17T11:24:15.190Z"
   },
   {
    "duration": 13,
    "start_time": "2022-06-17T11:24:35.359Z"
   },
   {
    "duration": 11,
    "start_time": "2022-06-17T11:24:47.055Z"
   },
   {
    "duration": 12,
    "start_time": "2022-06-17T11:24:49.635Z"
   },
   {
    "duration": 3,
    "start_time": "2022-06-17T11:25:04.398Z"
   },
   {
    "duration": 51,
    "start_time": "2022-06-17T11:25:04.402Z"
   },
   {
    "duration": 8,
    "start_time": "2022-06-17T11:25:04.455Z"
   },
   {
    "duration": 162,
    "start_time": "2022-06-17T11:25:04.464Z"
   },
   {
    "duration": 19,
    "start_time": "2022-06-17T11:25:04.628Z"
   },
   {
    "duration": 95,
    "start_time": "2022-06-17T11:25:04.649Z"
   },
   {
    "duration": 14,
    "start_time": "2022-06-17T11:25:04.745Z"
   },
   {
    "duration": 135,
    "start_time": "2022-06-17T11:25:04.761Z"
   },
   {
    "duration": 28,
    "start_time": "2022-06-17T11:25:04.897Z"
   },
   {
    "duration": 26,
    "start_time": "2022-06-17T11:25:04.928Z"
   },
   {
    "duration": 23,
    "start_time": "2022-06-17T11:25:04.956Z"
   },
   {
    "duration": 75,
    "start_time": "2022-06-17T11:25:04.981Z"
   },
   {
    "duration": 37,
    "start_time": "2022-06-17T11:25:05.058Z"
   },
   {
    "duration": 28,
    "start_time": "2022-06-17T11:25:05.096Z"
   },
   {
    "duration": 9,
    "start_time": "2022-06-17T11:25:05.125Z"
   },
   {
    "duration": 87,
    "start_time": "2022-06-17T11:25:05.135Z"
   },
   {
    "duration": 36,
    "start_time": "2022-06-17T11:25:05.223Z"
   },
   {
    "duration": 67,
    "start_time": "2022-06-17T11:25:05.261Z"
   },
   {
    "duration": 16,
    "start_time": "2022-06-17T11:25:13.331Z"
   },
   {
    "duration": 6,
    "start_time": "2022-06-17T11:25:41.978Z"
   },
   {
    "duration": 81,
    "start_time": "2022-06-17T11:25:41.988Z"
   },
   {
    "duration": 10,
    "start_time": "2022-06-17T11:25:42.070Z"
   },
   {
    "duration": 154,
    "start_time": "2022-06-17T11:25:42.081Z"
   },
   {
    "duration": 19,
    "start_time": "2022-06-17T11:25:42.237Z"
   },
   {
    "duration": 86,
    "start_time": "2022-06-17T11:25:42.258Z"
   },
   {
    "duration": 17,
    "start_time": "2022-06-17T11:25:42.345Z"
   },
   {
    "duration": 122,
    "start_time": "2022-06-17T11:25:42.377Z"
   },
   {
    "duration": 18,
    "start_time": "2022-06-17T11:25:42.500Z"
   },
   {
    "duration": 20,
    "start_time": "2022-06-17T11:25:42.519Z"
   },
   {
    "duration": 9,
    "start_time": "2022-06-17T11:25:42.541Z"
   },
   {
    "duration": 67,
    "start_time": "2022-06-17T11:25:42.552Z"
   },
   {
    "duration": 23,
    "start_time": "2022-06-17T11:25:42.620Z"
   },
   {
    "duration": 36,
    "start_time": "2022-06-17T11:25:42.644Z"
   },
   {
    "duration": 9,
    "start_time": "2022-06-17T11:25:42.682Z"
   },
   {
    "duration": 70,
    "start_time": "2022-06-17T11:25:42.692Z"
   },
   {
    "duration": 49,
    "start_time": "2022-06-17T11:25:42.764Z"
   },
   {
    "duration": 66,
    "start_time": "2022-06-17T11:25:42.814Z"
   },
   {
    "duration": 27,
    "start_time": "2022-06-17T11:25:42.881Z"
   },
   {
    "duration": 3,
    "start_time": "2022-06-17T11:25:42.909Z"
   },
   {
    "duration": 7,
    "start_time": "2022-06-17T11:25:42.913Z"
   },
   {
    "duration": 4,
    "start_time": "2022-06-17T11:25:42.921Z"
   },
   {
    "duration": 7,
    "start_time": "2022-06-17T11:25:42.926Z"
   },
   {
    "duration": 6,
    "start_time": "2022-06-17T11:25:42.934Z"
   },
   {
    "duration": 17,
    "start_time": "2022-06-17T11:25:42.942Z"
   },
   {
    "duration": 30,
    "start_time": "2022-06-17T11:25:42.977Z"
   },
   {
    "duration": 48,
    "start_time": "2022-06-17T11:25:43.009Z"
   },
   {
    "duration": 79,
    "start_time": "2022-06-17T11:25:43.059Z"
   },
   {
    "duration": 68,
    "start_time": "2022-06-17T11:25:43.142Z"
   },
   {
    "duration": 6,
    "start_time": "2022-06-17T11:25:43.212Z"
   },
   {
    "duration": 30,
    "start_time": "2022-06-17T11:26:16.578Z"
   },
   {
    "duration": 16,
    "start_time": "2022-06-17T11:30:56.700Z"
   },
   {
    "duration": 25,
    "start_time": "2022-06-17T11:31:17.600Z"
   },
   {
    "duration": 12,
    "start_time": "2022-06-17T11:33:40.758Z"
   },
   {
    "duration": 13,
    "start_time": "2022-06-17T11:33:50.574Z"
   },
   {
    "duration": 7,
    "start_time": "2022-06-17T11:33:52.652Z"
   },
   {
    "duration": 12,
    "start_time": "2022-06-17T11:33:54.777Z"
   },
   {
    "duration": 15,
    "start_time": "2022-06-17T11:33:58.774Z"
   },
   {
    "duration": 3,
    "start_time": "2022-06-17T11:34:05.080Z"
   },
   {
    "duration": 46,
    "start_time": "2022-06-17T11:34:05.085Z"
   },
   {
    "duration": 9,
    "start_time": "2022-06-17T11:34:05.132Z"
   },
   {
    "duration": 135,
    "start_time": "2022-06-17T11:34:05.143Z"
   },
   {
    "duration": 30,
    "start_time": "2022-06-17T11:34:05.280Z"
   },
   {
    "duration": 111,
    "start_time": "2022-06-17T11:34:05.312Z"
   },
   {
    "duration": 20,
    "start_time": "2022-06-17T11:34:05.425Z"
   },
   {
    "duration": 121,
    "start_time": "2022-06-17T11:34:05.447Z"
   },
   {
    "duration": 20,
    "start_time": "2022-06-17T11:34:05.569Z"
   },
   {
    "duration": 19,
    "start_time": "2022-06-17T11:34:05.591Z"
   },
   {
    "duration": 9,
    "start_time": "2022-06-17T11:34:05.612Z"
   },
   {
    "duration": 65,
    "start_time": "2022-06-17T11:34:05.622Z"
   },
   {
    "duration": 24,
    "start_time": "2022-06-17T11:34:05.688Z"
   },
   {
    "duration": 23,
    "start_time": "2022-06-17T11:34:05.714Z"
   },
   {
    "duration": 9,
    "start_time": "2022-06-17T11:34:05.738Z"
   },
   {
    "duration": 86,
    "start_time": "2022-06-17T11:34:05.748Z"
   },
   {
    "duration": 50,
    "start_time": "2022-06-17T11:34:05.835Z"
   },
   {
    "duration": 37,
    "start_time": "2022-06-17T11:34:05.887Z"
   },
   {
    "duration": 19,
    "start_time": "2022-06-17T11:34:05.926Z"
   },
   {
    "duration": 4,
    "start_time": "2022-06-17T11:34:22.709Z"
   },
   {
    "duration": 11,
    "start_time": "2022-06-17T11:34:39.948Z"
   },
   {
    "duration": 10,
    "start_time": "2022-06-17T11:34:49.735Z"
   },
   {
    "duration": 10,
    "start_time": "2022-06-17T11:34:57.459Z"
   },
   {
    "duration": 7,
    "start_time": "2022-06-17T11:34:57.471Z"
   },
   {
    "duration": 4,
    "start_time": "2022-06-17T11:34:57.480Z"
   },
   {
    "duration": 5,
    "start_time": "2022-06-17T11:34:57.486Z"
   },
   {
    "duration": 6,
    "start_time": "2022-06-17T11:34:57.492Z"
   },
   {
    "duration": 24,
    "start_time": "2022-06-17T11:34:57.500Z"
   },
   {
    "duration": 25,
    "start_time": "2022-06-17T11:34:57.525Z"
   },
   {
    "duration": 72,
    "start_time": "2022-06-17T11:34:57.552Z"
   },
   {
    "duration": 72,
    "start_time": "2022-06-17T11:34:57.625Z"
   },
   {
    "duration": 127,
    "start_time": "2022-06-17T11:34:57.700Z"
   },
   {
    "duration": 9,
    "start_time": "2022-06-17T11:34:57.828Z"
   },
   {
    "duration": 3,
    "start_time": "2022-06-17T11:35:26.709Z"
   },
   {
    "duration": 49,
    "start_time": "2022-06-17T11:35:26.714Z"
   },
   {
    "duration": 10,
    "start_time": "2022-06-17T11:35:26.765Z"
   },
   {
    "duration": 141,
    "start_time": "2022-06-17T11:35:26.777Z"
   },
   {
    "duration": 21,
    "start_time": "2022-06-17T11:35:26.920Z"
   },
   {
    "duration": 87,
    "start_time": "2022-06-17T11:35:26.943Z"
   },
   {
    "duration": 16,
    "start_time": "2022-06-17T11:35:27.032Z"
   },
   {
    "duration": 121,
    "start_time": "2022-06-17T11:35:27.050Z"
   },
   {
    "duration": 18,
    "start_time": "2022-06-17T11:35:27.179Z"
   },
   {
    "duration": 21,
    "start_time": "2022-06-17T11:35:27.198Z"
   },
   {
    "duration": 9,
    "start_time": "2022-06-17T11:35:27.220Z"
   },
   {
    "duration": 73,
    "start_time": "2022-06-17T11:35:27.231Z"
   },
   {
    "duration": 26,
    "start_time": "2022-06-17T11:35:27.305Z"
   },
   {
    "duration": 26,
    "start_time": "2022-06-17T11:35:27.333Z"
   },
   {
    "duration": 26,
    "start_time": "2022-06-17T11:35:27.360Z"
   },
   {
    "duration": 69,
    "start_time": "2022-06-17T11:35:27.387Z"
   },
   {
    "duration": 51,
    "start_time": "2022-06-17T11:35:27.457Z"
   },
   {
    "duration": 39,
    "start_time": "2022-06-17T11:35:27.509Z"
   },
   {
    "duration": 40,
    "start_time": "2022-06-17T11:35:27.550Z"
   },
   {
    "duration": 4,
    "start_time": "2022-06-17T11:35:27.592Z"
   },
   {
    "duration": 12,
    "start_time": "2022-06-17T11:35:27.598Z"
   },
   {
    "duration": 7,
    "start_time": "2022-06-17T11:35:27.612Z"
   },
   {
    "duration": 5,
    "start_time": "2022-06-17T11:35:27.621Z"
   },
   {
    "duration": 6,
    "start_time": "2022-06-17T11:35:27.629Z"
   },
   {
    "duration": 6,
    "start_time": "2022-06-17T11:35:27.637Z"
   },
   {
    "duration": 44,
    "start_time": "2022-06-17T11:35:27.646Z"
   },
   {
    "duration": 32,
    "start_time": "2022-06-17T11:35:27.692Z"
   },
   {
    "duration": 89,
    "start_time": "2022-06-17T11:35:27.726Z"
   },
   {
    "duration": 78,
    "start_time": "2022-06-17T11:35:27.817Z"
   },
   {
    "duration": 69,
    "start_time": "2022-06-17T11:35:27.897Z"
   },
   {
    "duration": 17,
    "start_time": "2022-06-17T11:35:27.968Z"
   },
   {
    "duration": 10,
    "start_time": "2022-06-17T11:36:07.072Z"
   },
   {
    "duration": 30,
    "start_time": "2022-06-17T11:37:43.345Z"
   },
   {
    "duration": 31,
    "start_time": "2022-06-17T11:40:25.551Z"
   },
   {
    "duration": 60,
    "start_time": "2022-06-17T11:41:33.294Z"
   },
   {
    "duration": 27,
    "start_time": "2022-06-17T11:41:40.647Z"
   },
   {
    "duration": 52,
    "start_time": "2022-06-17T11:42:11.824Z"
   },
   {
    "duration": 56,
    "start_time": "2022-06-17T11:42:25.309Z"
   },
   {
    "duration": 28,
    "start_time": "2022-06-17T11:42:30.224Z"
   },
   {
    "duration": 40,
    "start_time": "2022-06-17T11:44:05.995Z"
   },
   {
    "duration": 56,
    "start_time": "2022-06-17T11:44:37.800Z"
   },
   {
    "duration": 57,
    "start_time": "2022-06-17T11:45:17.704Z"
   },
   {
    "duration": 38,
    "start_time": "2022-06-17T11:45:36.723Z"
   },
   {
    "duration": 73,
    "start_time": "2022-06-17T11:45:58.440Z"
   },
   {
    "duration": 112,
    "start_time": "2022-06-17T11:46:22.170Z"
   },
   {
    "duration": 118,
    "start_time": "2022-06-17T11:46:37.949Z"
   },
   {
    "duration": 117,
    "start_time": "2022-06-17T11:48:09.459Z"
   },
   {
    "duration": 109,
    "start_time": "2022-06-17T11:49:19.070Z"
   },
   {
    "duration": 167,
    "start_time": "2022-06-17T11:50:41.225Z"
   },
   {
    "duration": 117,
    "start_time": "2022-06-17T11:50:45.971Z"
   },
   {
    "duration": 108,
    "start_time": "2022-06-17T11:51:49.887Z"
   },
   {
    "duration": 117,
    "start_time": "2022-06-17T11:51:54.801Z"
   },
   {
    "duration": 109,
    "start_time": "2022-06-17T11:53:19.889Z"
   },
   {
    "duration": 62,
    "start_time": "2022-06-17T11:54:00.377Z"
   },
   {
    "duration": 62,
    "start_time": "2022-06-17T11:54:08.478Z"
   },
   {
    "duration": 53,
    "start_time": "2022-06-17T11:54:15.154Z"
   },
   {
    "duration": 27,
    "start_time": "2022-06-17T11:54:19.691Z"
   },
   {
    "duration": 26,
    "start_time": "2022-06-17T11:54:28.830Z"
   },
   {
    "duration": 112,
    "start_time": "2022-06-17T11:54:54.219Z"
   },
   {
    "duration": 60,
    "start_time": "2022-06-17T11:57:46.456Z"
   },
   {
    "duration": 141,
    "start_time": "2022-06-17T12:00:13.678Z"
   },
   {
    "duration": 117,
    "start_time": "2022-06-17T12:01:16.098Z"
   },
   {
    "duration": 136,
    "start_time": "2022-06-17T12:01:27.936Z"
   },
   {
    "duration": 2,
    "start_time": "2022-06-17T12:01:39.520Z"
   },
   {
    "duration": 59,
    "start_time": "2022-06-17T12:01:39.524Z"
   },
   {
    "duration": 10,
    "start_time": "2022-06-17T12:01:39.584Z"
   },
   {
    "duration": 134,
    "start_time": "2022-06-17T12:01:39.595Z"
   },
   {
    "duration": 31,
    "start_time": "2022-06-17T12:01:39.731Z"
   },
   {
    "duration": 92,
    "start_time": "2022-06-17T12:01:39.764Z"
   },
   {
    "duration": 21,
    "start_time": "2022-06-17T12:01:39.857Z"
   },
   {
    "duration": 108,
    "start_time": "2022-06-17T12:01:39.879Z"
   },
   {
    "duration": 18,
    "start_time": "2022-06-17T12:01:39.988Z"
   },
   {
    "duration": 20,
    "start_time": "2022-06-17T12:01:40.007Z"
   },
   {
    "duration": 10,
    "start_time": "2022-06-17T12:01:40.030Z"
   },
   {
    "duration": 76,
    "start_time": "2022-06-17T12:01:40.041Z"
   },
   {
    "duration": 24,
    "start_time": "2022-06-17T12:01:40.118Z"
   },
   {
    "duration": 39,
    "start_time": "2022-06-17T12:01:40.144Z"
   },
   {
    "duration": 10,
    "start_time": "2022-06-17T12:01:40.184Z"
   },
   {
    "duration": 63,
    "start_time": "2022-06-17T12:01:40.196Z"
   },
   {
    "duration": 53,
    "start_time": "2022-06-17T12:01:40.261Z"
   },
   {
    "duration": 37,
    "start_time": "2022-06-17T12:01:40.316Z"
   },
   {
    "duration": 80,
    "start_time": "2022-06-17T12:01:40.354Z"
   },
   {
    "duration": 3,
    "start_time": "2022-06-17T12:01:40.436Z"
   },
   {
    "duration": 11,
    "start_time": "2022-06-17T12:01:40.440Z"
   },
   {
    "duration": 8,
    "start_time": "2022-06-17T12:01:40.452Z"
   },
   {
    "duration": 16,
    "start_time": "2022-06-17T12:01:40.462Z"
   },
   {
    "duration": 5,
    "start_time": "2022-06-17T12:01:40.480Z"
   },
   {
    "duration": 9,
    "start_time": "2022-06-17T12:01:40.486Z"
   },
   {
    "duration": 9,
    "start_time": "2022-06-17T12:01:40.496Z"
   },
   {
    "duration": 23,
    "start_time": "2022-06-17T12:01:40.506Z"
   },
   {
    "duration": 132,
    "start_time": "2022-06-17T12:01:43.801Z"
   },
   {
    "duration": 27,
    "start_time": "2022-06-17T12:01:59.954Z"
   },
   {
    "duration": 129,
    "start_time": "2022-06-17T12:02:34.646Z"
   },
   {
    "duration": 116,
    "start_time": "2022-06-17T12:03:12.230Z"
   },
   {
    "duration": 31,
    "start_time": "2022-06-17T12:03:58.122Z"
   },
   {
    "duration": 19,
    "start_time": "2022-06-17T12:04:05.659Z"
   },
   {
    "duration": 587,
    "start_time": "2022-06-17T12:04:57.839Z"
   },
   {
    "duration": 11,
    "start_time": "2022-06-17T12:05:46.178Z"
   },
   {
    "duration": 13,
    "start_time": "2022-06-17T12:05:52.685Z"
   },
   {
    "duration": 28,
    "start_time": "2022-06-17T12:06:05.012Z"
   },
   {
    "duration": 12,
    "start_time": "2022-06-17T12:09:24.862Z"
   },
   {
    "duration": 14,
    "start_time": "2022-06-17T12:09:35.597Z"
   },
   {
    "duration": 7,
    "start_time": "2022-06-17T12:10:13.591Z"
   },
   {
    "duration": 15,
    "start_time": "2022-06-17T12:11:31.770Z"
   },
   {
    "duration": 15,
    "start_time": "2022-06-17T12:14:01.761Z"
   },
   {
    "duration": 11,
    "start_time": "2022-06-17T12:15:19.827Z"
   },
   {
    "duration": 6,
    "start_time": "2022-06-17T12:15:48.134Z"
   },
   {
    "duration": 16,
    "start_time": "2022-06-17T12:16:24.073Z"
   },
   {
    "duration": 17,
    "start_time": "2022-06-17T12:16:33.432Z"
   },
   {
    "duration": 16,
    "start_time": "2022-06-17T12:16:45.808Z"
   },
   {
    "duration": 2,
    "start_time": "2022-06-17T12:33:43.950Z"
   },
   {
    "duration": 47,
    "start_time": "2022-06-17T12:33:43.954Z"
   },
   {
    "duration": 9,
    "start_time": "2022-06-17T12:33:44.002Z"
   },
   {
    "duration": 137,
    "start_time": "2022-06-17T12:33:44.013Z"
   },
   {
    "duration": 19,
    "start_time": "2022-06-17T12:33:44.152Z"
   },
   {
    "duration": 90,
    "start_time": "2022-06-17T12:33:44.172Z"
   },
   {
    "duration": 18,
    "start_time": "2022-06-17T12:33:44.264Z"
   },
   {
    "duration": 112,
    "start_time": "2022-06-17T12:33:44.284Z"
   },
   {
    "duration": 17,
    "start_time": "2022-06-17T12:33:44.397Z"
   },
   {
    "duration": 25,
    "start_time": "2022-06-17T12:33:44.415Z"
   },
   {
    "duration": 9,
    "start_time": "2022-06-17T12:33:44.442Z"
   },
   {
    "duration": 66,
    "start_time": "2022-06-17T12:33:44.452Z"
   },
   {
    "duration": 22,
    "start_time": "2022-06-17T12:33:44.520Z"
   },
   {
    "duration": 22,
    "start_time": "2022-06-17T12:33:44.543Z"
   },
   {
    "duration": 16,
    "start_time": "2022-06-17T12:33:44.566Z"
   },
   {
    "duration": 72,
    "start_time": "2022-06-17T12:33:44.584Z"
   },
   {
    "duration": 47,
    "start_time": "2022-06-17T12:33:44.658Z"
   },
   {
    "duration": 36,
    "start_time": "2022-06-17T12:33:44.706Z"
   },
   {
    "duration": 2,
    "start_time": "2022-06-17T12:33:44.744Z"
   },
   {
    "duration": 23,
    "start_time": "2022-06-17T12:33:44.748Z"
   },
   {
    "duration": 13,
    "start_time": "2022-06-17T12:33:44.773Z"
   },
   {
    "duration": 3,
    "start_time": "2022-06-17T12:33:44.787Z"
   },
   {
    "duration": 20,
    "start_time": "2022-06-17T12:33:44.791Z"
   },
   {
    "duration": 13,
    "start_time": "2022-06-17T12:33:44.812Z"
   },
   {
    "duration": 11,
    "start_time": "2022-06-17T12:33:44.826Z"
   },
   {
    "duration": 28,
    "start_time": "2022-06-17T12:33:44.838Z"
   },
   {
    "duration": 113,
    "start_time": "2022-06-17T12:33:44.867Z"
   },
   {
    "duration": 17,
    "start_time": "2022-06-17T12:33:44.982Z"
   },
   {
    "duration": 17,
    "start_time": "2022-06-17T12:33:45.001Z"
   },
   {
    "duration": 9,
    "start_time": "2022-06-17T12:35:22.146Z"
   },
   {
    "duration": 12,
    "start_time": "2022-06-17T12:35:44.472Z"
   },
   {
    "duration": 2,
    "start_time": "2022-06-17T12:36:14.399Z"
   },
   {
    "duration": 48,
    "start_time": "2022-06-17T12:36:14.403Z"
   },
   {
    "duration": 9,
    "start_time": "2022-06-17T12:36:14.453Z"
   },
   {
    "duration": 149,
    "start_time": "2022-06-17T12:36:14.464Z"
   },
   {
    "duration": 19,
    "start_time": "2022-06-17T12:36:14.615Z"
   },
   {
    "duration": 84,
    "start_time": "2022-06-17T12:36:14.636Z"
   },
   {
    "duration": 15,
    "start_time": "2022-06-17T12:36:14.722Z"
   },
   {
    "duration": 122,
    "start_time": "2022-06-17T12:36:14.738Z"
   },
   {
    "duration": 19,
    "start_time": "2022-06-17T12:36:14.862Z"
   },
   {
    "duration": 19,
    "start_time": "2022-06-17T12:36:14.883Z"
   },
   {
    "duration": 8,
    "start_time": "2022-06-17T12:36:14.904Z"
   },
   {
    "duration": 67,
    "start_time": "2022-06-17T12:36:14.913Z"
   },
   {
    "duration": 23,
    "start_time": "2022-06-17T12:36:14.982Z"
   },
   {
    "duration": 22,
    "start_time": "2022-06-17T12:36:15.007Z"
   },
   {
    "duration": 9,
    "start_time": "2022-06-17T12:36:15.030Z"
   },
   {
    "duration": 99,
    "start_time": "2022-06-17T12:36:15.040Z"
   },
   {
    "duration": 43,
    "start_time": "2022-06-17T12:36:15.141Z"
   },
   {
    "duration": 13,
    "start_time": "2022-06-17T12:36:23.780Z"
   },
   {
    "duration": 3,
    "start_time": "2022-06-17T12:38:22.489Z"
   },
   {
    "duration": 45,
    "start_time": "2022-06-17T12:38:23.475Z"
   },
   {
    "duration": 10,
    "start_time": "2022-06-17T12:38:24.019Z"
   },
   {
    "duration": 140,
    "start_time": "2022-06-17T12:38:26.594Z"
   },
   {
    "duration": 20,
    "start_time": "2022-06-17T12:38:28.104Z"
   },
   {
    "duration": 92,
    "start_time": "2022-06-17T12:38:30.557Z"
   },
   {
    "duration": 14,
    "start_time": "2022-06-17T12:38:31.624Z"
   },
   {
    "duration": 125,
    "start_time": "2022-06-17T12:38:33.117Z"
   },
   {
    "duration": 18,
    "start_time": "2022-06-17T12:38:33.765Z"
   },
   {
    "duration": 30,
    "start_time": "2022-06-17T12:38:35.412Z"
   },
   {
    "duration": 10,
    "start_time": "2022-06-17T12:38:36.168Z"
   },
   {
    "duration": 58,
    "start_time": "2022-06-17T12:38:40.074Z"
   },
   {
    "duration": 24,
    "start_time": "2022-06-17T12:38:41.848Z"
   },
   {
    "duration": 22,
    "start_time": "2022-06-17T12:38:43.069Z"
   },
   {
    "duration": 9,
    "start_time": "2022-06-17T12:38:43.617Z"
   },
   {
    "duration": 68,
    "start_time": "2022-06-17T12:38:48.609Z"
   },
   {
    "duration": 36,
    "start_time": "2022-06-17T12:38:51.245Z"
   },
   {
    "duration": 37,
    "start_time": "2022-06-17T12:38:54.047Z"
   },
   {
    "duration": 14,
    "start_time": "2022-06-17T12:38:58.019Z"
   },
   {
    "duration": 19,
    "start_time": "2022-06-17T12:39:46.534Z"
   },
   {
    "duration": 28,
    "start_time": "2022-06-17T12:39:51.646Z"
   },
   {
    "duration": 25,
    "start_time": "2022-06-17T12:40:02.106Z"
   },
   {
    "duration": 4,
    "start_time": "2022-06-17T12:40:04.623Z"
   },
   {
    "duration": 10,
    "start_time": "2022-06-17T12:40:07.350Z"
   },
   {
    "duration": 6,
    "start_time": "2022-06-17T12:40:23.579Z"
   },
   {
    "duration": 2,
    "start_time": "2022-06-17T12:40:32.388Z"
   },
   {
    "duration": 46,
    "start_time": "2022-06-17T12:40:32.394Z"
   },
   {
    "duration": 9,
    "start_time": "2022-06-17T12:40:32.442Z"
   },
   {
    "duration": 133,
    "start_time": "2022-06-17T12:40:32.452Z"
   },
   {
    "duration": 20,
    "start_time": "2022-06-17T12:40:32.586Z"
   },
   {
    "duration": 84,
    "start_time": "2022-06-17T12:40:32.607Z"
   },
   {
    "duration": 15,
    "start_time": "2022-06-17T12:40:32.692Z"
   },
   {
    "duration": 111,
    "start_time": "2022-06-17T12:40:32.708Z"
   },
   {
    "duration": 18,
    "start_time": "2022-06-17T12:40:32.820Z"
   },
   {
    "duration": 19,
    "start_time": "2022-06-17T12:40:32.839Z"
   },
   {
    "duration": 8,
    "start_time": "2022-06-17T12:40:32.860Z"
   },
   {
    "duration": 66,
    "start_time": "2022-06-17T12:40:32.870Z"
   },
   {
    "duration": 22,
    "start_time": "2022-06-17T12:40:32.937Z"
   },
   {
    "duration": 31,
    "start_time": "2022-06-17T12:40:32.961Z"
   },
   {
    "duration": 8,
    "start_time": "2022-06-17T12:40:32.994Z"
   },
   {
    "duration": 76,
    "start_time": "2022-06-17T12:40:33.003Z"
   },
   {
    "duration": 35,
    "start_time": "2022-06-17T12:40:33.080Z"
   },
   {
    "duration": 37,
    "start_time": "2022-06-17T12:40:33.117Z"
   },
   {
    "duration": 43,
    "start_time": "2022-06-17T12:40:33.155Z"
   },
   {
    "duration": 4,
    "start_time": "2022-06-17T12:40:33.200Z"
   },
   {
    "duration": 11,
    "start_time": "2022-06-17T12:40:33.205Z"
   },
   {
    "duration": 7,
    "start_time": "2022-06-17T12:40:33.217Z"
   },
   {
    "duration": 3,
    "start_time": "2022-06-17T12:40:33.225Z"
   },
   {
    "duration": 6,
    "start_time": "2022-06-17T12:40:33.229Z"
   },
   {
    "duration": 6,
    "start_time": "2022-06-17T12:40:33.236Z"
   },
   {
    "duration": 9,
    "start_time": "2022-06-17T12:40:33.243Z"
   },
   {
    "duration": 28,
    "start_time": "2022-06-17T12:40:33.278Z"
   },
   {
    "duration": 190,
    "start_time": "2022-06-17T12:40:33.307Z"
   },
   {
    "duration": 17,
    "start_time": "2022-06-17T12:40:33.500Z"
   },
   {
    "duration": 16,
    "start_time": "2022-06-17T12:40:33.518Z"
   },
   {
    "duration": 476,
    "start_time": "2022-06-17T12:46:37.978Z"
   },
   {
    "duration": 522,
    "start_time": "2022-06-17T12:47:03.109Z"
   },
   {
    "duration": 3,
    "start_time": "2022-06-17T12:47:47.592Z"
   },
   {
    "duration": 4,
    "start_time": "2022-06-17T12:49:13.649Z"
   },
   {
    "duration": 3,
    "start_time": "2022-06-17T12:49:18.100Z"
   },
   {
    "duration": 19,
    "start_time": "2022-06-17T12:49:24.712Z"
   },
   {
    "duration": 13,
    "start_time": "2022-06-17T12:50:07.247Z"
   },
   {
    "duration": 8,
    "start_time": "2022-06-17T12:52:42.715Z"
   },
   {
    "duration": 8,
    "start_time": "2022-06-17T12:53:45.162Z"
   },
   {
    "duration": 7,
    "start_time": "2022-06-17T12:53:50.774Z"
   },
   {
    "duration": 17,
    "start_time": "2022-06-17T12:55:00.839Z"
   },
   {
    "duration": 23,
    "start_time": "2022-06-17T12:55:38.360Z"
   },
   {
    "duration": 20,
    "start_time": "2022-06-17T12:55:44.495Z"
   },
   {
    "duration": 22,
    "start_time": "2022-06-17T12:55:50.829Z"
   },
   {
    "duration": 21,
    "start_time": "2022-06-17T12:56:03.372Z"
   },
   {
    "duration": 21,
    "start_time": "2022-06-17T12:58:58.656Z"
   },
   {
    "duration": 48,
    "start_time": "2022-06-17T13:05:10.530Z"
   },
   {
    "duration": 28,
    "start_time": "2022-06-17T13:06:48.450Z"
   },
   {
    "duration": 48,
    "start_time": "2022-06-17T13:07:08.592Z"
   },
   {
    "duration": 48,
    "start_time": "2022-06-17T13:08:46.614Z"
   },
   {
    "duration": 53,
    "start_time": "2022-06-17T13:09:18.383Z"
   },
   {
    "duration": 52,
    "start_time": "2022-06-17T13:09:38.128Z"
   },
   {
    "duration": 48,
    "start_time": "2022-06-17T13:10:09.540Z"
   },
   {
    "duration": 50,
    "start_time": "2022-06-17T13:20:04.039Z"
   },
   {
    "duration": 3,
    "start_time": "2022-06-17T13:27:38.636Z"
   },
   {
    "duration": 5,
    "start_time": "2022-06-17T13:28:18.478Z"
   },
   {
    "duration": 10,
    "start_time": "2022-06-17T13:30:56.136Z"
   },
   {
    "duration": 23,
    "start_time": "2022-06-17T13:30:58.241Z"
   },
   {
    "duration": 3,
    "start_time": "2022-06-17T13:32:55.105Z"
   },
   {
    "duration": 49,
    "start_time": "2022-06-17T13:32:55.112Z"
   },
   {
    "duration": 12,
    "start_time": "2022-06-17T13:32:55.162Z"
   },
   {
    "duration": 165,
    "start_time": "2022-06-17T13:32:55.176Z"
   },
   {
    "duration": 26,
    "start_time": "2022-06-17T13:32:55.343Z"
   },
   {
    "duration": 97,
    "start_time": "2022-06-17T13:32:55.371Z"
   },
   {
    "duration": 20,
    "start_time": "2022-06-17T13:32:55.469Z"
   },
   {
    "duration": 154,
    "start_time": "2022-06-17T13:32:55.491Z"
   },
   {
    "duration": 21,
    "start_time": "2022-06-17T13:32:55.647Z"
   },
   {
    "duration": 22,
    "start_time": "2022-06-17T13:32:55.678Z"
   },
   {
    "duration": 15,
    "start_time": "2022-06-17T13:32:55.702Z"
   },
   {
    "duration": 84,
    "start_time": "2022-06-17T13:32:55.720Z"
   },
   {
    "duration": 25,
    "start_time": "2022-06-17T13:32:55.806Z"
   },
   {
    "duration": 24,
    "start_time": "2022-06-17T13:32:55.833Z"
   },
   {
    "duration": 12,
    "start_time": "2022-06-17T13:32:55.877Z"
   },
   {
    "duration": 91,
    "start_time": "2022-06-17T13:32:55.891Z"
   },
   {
    "duration": 41,
    "start_time": "2022-06-17T13:32:55.985Z"
   },
   {
    "duration": 64,
    "start_time": "2022-06-17T13:32:56.029Z"
   },
   {
    "duration": 30,
    "start_time": "2022-06-17T13:32:56.095Z"
   },
   {
    "duration": 5,
    "start_time": "2022-06-17T13:32:56.127Z"
   },
   {
    "duration": 12,
    "start_time": "2022-06-17T13:32:56.133Z"
   },
   {
    "duration": 33,
    "start_time": "2022-06-17T13:32:56.147Z"
   },
   {
    "duration": 4,
    "start_time": "2022-06-17T13:32:56.182Z"
   },
   {
    "duration": 12,
    "start_time": "2022-06-17T13:32:56.188Z"
   },
   {
    "duration": 10,
    "start_time": "2022-06-17T13:32:56.201Z"
   },
   {
    "duration": 16,
    "start_time": "2022-06-17T13:32:56.213Z"
   },
   {
    "duration": 31,
    "start_time": "2022-06-17T13:32:56.231Z"
   },
   {
    "duration": 148,
    "start_time": "2022-06-17T13:32:56.264Z"
   },
   {
    "duration": 21,
    "start_time": "2022-06-17T13:32:56.414Z"
   },
   {
    "duration": 19,
    "start_time": "2022-06-17T13:32:56.436Z"
   },
   {
    "duration": 5,
    "start_time": "2022-06-17T13:32:56.477Z"
   },
   {
    "duration": 16,
    "start_time": "2022-06-17T13:32:56.484Z"
   },
   {
    "duration": 24,
    "start_time": "2022-06-17T13:34:16.320Z"
   },
   {
    "duration": 9,
    "start_time": "2022-06-17T13:35:01.638Z"
   },
   {
    "duration": 6,
    "start_time": "2022-06-17T13:35:32.211Z"
   },
   {
    "duration": 13,
    "start_time": "2022-06-17T13:38:22.756Z"
   },
   {
    "duration": 18,
    "start_time": "2022-06-17T13:39:07.880Z"
   },
   {
    "duration": 17,
    "start_time": "2022-06-17T13:39:36.295Z"
   },
   {
    "duration": 10,
    "start_time": "2022-06-17T13:39:44.520Z"
   },
   {
    "duration": 10,
    "start_time": "2022-06-17T13:39:51.591Z"
   },
   {
    "duration": 21,
    "start_time": "2022-06-17T13:40:57.397Z"
   },
   {
    "duration": 2,
    "start_time": "2022-06-17T13:41:43.382Z"
   },
   {
    "duration": 60,
    "start_time": "2022-06-17T13:41:43.385Z"
   },
   {
    "duration": 8,
    "start_time": "2022-06-17T13:41:43.446Z"
   },
   {
    "duration": 153,
    "start_time": "2022-06-17T13:41:43.456Z"
   },
   {
    "duration": 20,
    "start_time": "2022-06-17T13:41:43.610Z"
   },
   {
    "duration": 88,
    "start_time": "2022-06-17T13:41:43.631Z"
   },
   {
    "duration": 16,
    "start_time": "2022-06-17T13:41:43.720Z"
   },
   {
    "duration": 125,
    "start_time": "2022-06-17T13:41:43.737Z"
   },
   {
    "duration": 23,
    "start_time": "2022-06-17T13:41:43.864Z"
   },
   {
    "duration": 20,
    "start_time": "2022-06-17T13:41:43.888Z"
   },
   {
    "duration": 9,
    "start_time": "2022-06-17T13:41:43.910Z"
   },
   {
    "duration": 70,
    "start_time": "2022-06-17T13:41:43.920Z"
   },
   {
    "duration": 25,
    "start_time": "2022-06-17T13:41:43.992Z"
   },
   {
    "duration": 23,
    "start_time": "2022-06-17T13:41:44.018Z"
   },
   {
    "duration": 8,
    "start_time": "2022-06-17T13:41:44.043Z"
   },
   {
    "duration": 86,
    "start_time": "2022-06-17T13:41:44.053Z"
   },
   {
    "duration": 42,
    "start_time": "2022-06-17T13:41:44.141Z"
   },
   {
    "duration": 38,
    "start_time": "2022-06-17T13:41:44.184Z"
   },
   {
    "duration": 27,
    "start_time": "2022-06-17T13:41:44.224Z"
   },
   {
    "duration": 4,
    "start_time": "2022-06-17T13:41:44.253Z"
   },
   {
    "duration": 37,
    "start_time": "2022-06-17T13:41:44.258Z"
   },
   {
    "duration": 23,
    "start_time": "2022-06-17T13:41:44.296Z"
   },
   {
    "duration": 11,
    "start_time": "2022-06-17T13:41:44.321Z"
   },
   {
    "duration": 13,
    "start_time": "2022-06-17T13:41:44.335Z"
   },
   {
    "duration": 8,
    "start_time": "2022-06-17T13:41:44.349Z"
   },
   {
    "duration": 23,
    "start_time": "2022-06-17T13:41:44.358Z"
   },
   {
    "duration": 26,
    "start_time": "2022-06-17T13:41:44.382Z"
   },
   {
    "duration": 133,
    "start_time": "2022-06-17T13:41:44.410Z"
   },
   {
    "duration": 18,
    "start_time": "2022-06-17T13:41:44.544Z"
   },
   {
    "duration": 27,
    "start_time": "2022-06-17T13:41:44.563Z"
   },
   {
    "duration": 32,
    "start_time": "2022-06-17T13:41:47.719Z"
   },
   {
    "duration": 4,
    "start_time": "2022-06-17T13:42:00.255Z"
   },
   {
    "duration": 19,
    "start_time": "2022-06-17T13:42:02.115Z"
   },
   {
    "duration": 5,
    "start_time": "2022-06-17T13:42:59.010Z"
   },
   {
    "duration": 7,
    "start_time": "2022-06-17T13:43:20.480Z"
   },
   {
    "duration": 5,
    "start_time": "2022-06-17T13:43:25.778Z"
   },
   {
    "duration": 4,
    "start_time": "2022-06-17T13:44:38.734Z"
   },
   {
    "duration": 3,
    "start_time": "2022-06-17T13:45:35.482Z"
   },
   {
    "duration": 56,
    "start_time": "2022-06-17T13:45:35.486Z"
   },
   {
    "duration": 10,
    "start_time": "2022-06-17T13:45:35.544Z"
   },
   {
    "duration": 155,
    "start_time": "2022-06-17T13:45:35.555Z"
   },
   {
    "duration": 22,
    "start_time": "2022-06-17T13:45:35.713Z"
   },
   {
    "duration": 92,
    "start_time": "2022-06-17T13:45:35.737Z"
   },
   {
    "duration": 15,
    "start_time": "2022-06-17T13:45:35.830Z"
   },
   {
    "duration": 119,
    "start_time": "2022-06-17T13:45:35.846Z"
   },
   {
    "duration": 23,
    "start_time": "2022-06-17T13:45:35.967Z"
   },
   {
    "duration": 24,
    "start_time": "2022-06-17T13:45:35.991Z"
   },
   {
    "duration": 10,
    "start_time": "2022-06-17T13:45:36.016Z"
   },
   {
    "duration": 71,
    "start_time": "2022-06-17T13:45:36.027Z"
   },
   {
    "duration": 23,
    "start_time": "2022-06-17T13:45:36.099Z"
   },
   {
    "duration": 22,
    "start_time": "2022-06-17T13:45:36.125Z"
   },
   {
    "duration": 9,
    "start_time": "2022-06-17T13:45:36.148Z"
   },
   {
    "duration": 82,
    "start_time": "2022-06-17T13:45:36.158Z"
   },
   {
    "duration": 49,
    "start_time": "2022-06-17T13:45:36.242Z"
   },
   {
    "duration": 37,
    "start_time": "2022-06-17T13:45:36.292Z"
   },
   {
    "duration": 24,
    "start_time": "2022-06-17T13:45:36.331Z"
   },
   {
    "duration": 3,
    "start_time": "2022-06-17T13:45:36.357Z"
   },
   {
    "duration": 24,
    "start_time": "2022-06-17T13:45:36.361Z"
   },
   {
    "duration": 6,
    "start_time": "2022-06-17T13:45:36.386Z"
   },
   {
    "duration": 3,
    "start_time": "2022-06-17T13:45:36.394Z"
   },
   {
    "duration": 7,
    "start_time": "2022-06-17T13:45:36.399Z"
   },
   {
    "duration": 16,
    "start_time": "2022-06-17T13:45:36.407Z"
   },
   {
    "duration": 13,
    "start_time": "2022-06-17T13:45:36.425Z"
   },
   {
    "duration": 21,
    "start_time": "2022-06-17T13:45:45.495Z"
   },
   {
    "duration": 19,
    "start_time": "2022-06-17T13:46:05.601Z"
   },
   {
    "duration": 24,
    "start_time": "2022-06-17T13:46:16.328Z"
   },
   {
    "duration": 16,
    "start_time": "2022-06-17T13:46:19.881Z"
   },
   {
    "duration": 27,
    "start_time": "2022-06-17T13:46:25.789Z"
   },
   {
    "duration": 39,
    "start_time": "2022-06-17T13:49:45.480Z"
   },
   {
    "duration": 44,
    "start_time": "2022-06-17T13:49:58.920Z"
   },
   {
    "duration": 47,
    "start_time": "2022-06-17T13:50:15.387Z"
   },
   {
    "duration": 560,
    "start_time": "2022-06-17T13:50:26.686Z"
   },
   {
    "duration": 53,
    "start_time": "2022-06-17T13:50:31.569Z"
   },
   {
    "duration": 62,
    "start_time": "2022-06-17T13:51:07.656Z"
   },
   {
    "duration": 3,
    "start_time": "2022-06-17T13:51:22.045Z"
   },
   {
    "duration": 49,
    "start_time": "2022-06-17T13:51:22.050Z"
   },
   {
    "duration": 9,
    "start_time": "2022-06-17T13:51:22.101Z"
   },
   {
    "duration": 147,
    "start_time": "2022-06-17T13:51:22.112Z"
   },
   {
    "duration": 23,
    "start_time": "2022-06-17T13:51:22.262Z"
   },
   {
    "duration": 79,
    "start_time": "2022-06-17T13:51:22.287Z"
   },
   {
    "duration": 27,
    "start_time": "2022-06-17T13:51:22.367Z"
   },
   {
    "duration": 116,
    "start_time": "2022-06-17T13:51:22.396Z"
   },
   {
    "duration": 19,
    "start_time": "2022-06-17T13:51:22.514Z"
   },
   {
    "duration": 19,
    "start_time": "2022-06-17T13:51:22.535Z"
   },
   {
    "duration": 12,
    "start_time": "2022-06-17T13:51:22.557Z"
   },
   {
    "duration": 60,
    "start_time": "2022-06-17T13:51:22.578Z"
   },
   {
    "duration": 23,
    "start_time": "2022-06-17T13:51:22.640Z"
   },
   {
    "duration": 34,
    "start_time": "2022-06-17T13:51:22.664Z"
   },
   {
    "duration": 8,
    "start_time": "2022-06-17T13:51:22.699Z"
   },
   {
    "duration": 81,
    "start_time": "2022-06-17T13:51:22.708Z"
   },
   {
    "duration": 34,
    "start_time": "2022-06-17T13:51:22.790Z"
   },
   {
    "duration": 36,
    "start_time": "2022-06-17T13:51:22.825Z"
   },
   {
    "duration": 80,
    "start_time": "2022-06-17T13:51:22.877Z"
   },
   {
    "duration": 4,
    "start_time": "2022-06-17T13:51:22.959Z"
   },
   {
    "duration": 17,
    "start_time": "2022-06-17T13:51:22.964Z"
   },
   {
    "duration": 8,
    "start_time": "2022-06-17T13:51:22.983Z"
   },
   {
    "duration": 5,
    "start_time": "2022-06-17T13:51:22.992Z"
   },
   {
    "duration": 11,
    "start_time": "2022-06-17T13:51:22.999Z"
   },
   {
    "duration": 7,
    "start_time": "2022-06-17T13:51:23.012Z"
   },
   {
    "duration": 11,
    "start_time": "2022-06-17T13:51:23.020Z"
   },
   {
    "duration": 55,
    "start_time": "2022-06-17T13:51:23.033Z"
   },
   {
    "duration": 120,
    "start_time": "2022-06-17T13:51:33.088Z"
   },
   {
    "duration": 4,
    "start_time": "2022-06-17T13:51:35.680Z"
   },
   {
    "duration": 162,
    "start_time": "2022-06-17T13:51:42.409Z"
   },
   {
    "duration": 25,
    "start_time": "2022-06-17T13:51:42.574Z"
   },
   {
    "duration": 21,
    "start_time": "2022-06-17T13:51:42.601Z"
   },
   {
    "duration": 5,
    "start_time": "2022-06-17T13:51:42.624Z"
   },
   {
    "duration": 16,
    "start_time": "2022-06-17T13:51:42.631Z"
   },
   {
    "duration": 67,
    "start_time": "2022-06-17T13:51:42.649Z"
   },
   {
    "duration": 15,
    "start_time": "2022-06-17T13:51:42.718Z"
   },
   {
    "duration": 43,
    "start_time": "2022-06-17T13:51:42.735Z"
   },
   {
    "duration": 23,
    "start_time": "2022-06-17T13:54:40.888Z"
   },
   {
    "duration": 3,
    "start_time": "2022-06-17T13:55:04.276Z"
   },
   {
    "duration": 53,
    "start_time": "2022-06-17T13:55:04.281Z"
   },
   {
    "duration": 9,
    "start_time": "2022-06-17T13:55:04.336Z"
   },
   {
    "duration": 154,
    "start_time": "2022-06-17T13:55:04.347Z"
   },
   {
    "duration": 21,
    "start_time": "2022-06-17T13:55:04.503Z"
   },
   {
    "duration": 93,
    "start_time": "2022-06-17T13:55:04.525Z"
   },
   {
    "duration": 15,
    "start_time": "2022-06-17T13:55:04.620Z"
   },
   {
    "duration": 122,
    "start_time": "2022-06-17T13:55:04.637Z"
   },
   {
    "duration": 26,
    "start_time": "2022-06-17T13:55:04.762Z"
   },
   {
    "duration": 29,
    "start_time": "2022-06-17T13:55:04.789Z"
   },
   {
    "duration": 14,
    "start_time": "2022-06-17T13:55:04.820Z"
   },
   {
    "duration": 71,
    "start_time": "2022-06-17T13:55:04.836Z"
   },
   {
    "duration": 27,
    "start_time": "2022-06-17T13:55:04.909Z"
   },
   {
    "duration": 41,
    "start_time": "2022-06-17T13:55:04.938Z"
   },
   {
    "duration": 10,
    "start_time": "2022-06-17T13:55:04.982Z"
   },
   {
    "duration": 84,
    "start_time": "2022-06-17T13:55:04.994Z"
   },
   {
    "duration": 38,
    "start_time": "2022-06-17T13:55:05.080Z"
   },
   {
    "duration": 58,
    "start_time": "2022-06-17T13:55:05.120Z"
   },
   {
    "duration": 28,
    "start_time": "2022-06-17T13:55:05.180Z"
   },
   {
    "duration": 5,
    "start_time": "2022-06-17T13:55:05.210Z"
   },
   {
    "duration": 14,
    "start_time": "2022-06-17T13:55:05.216Z"
   },
   {
    "duration": 8,
    "start_time": "2022-06-17T13:55:05.232Z"
   },
   {
    "duration": 12,
    "start_time": "2022-06-17T13:55:05.242Z"
   },
   {
    "duration": 22,
    "start_time": "2022-06-17T13:55:05.257Z"
   },
   {
    "duration": 19,
    "start_time": "2022-06-17T13:55:05.281Z"
   },
   {
    "duration": 32,
    "start_time": "2022-06-17T13:55:05.303Z"
   },
   {
    "duration": 34,
    "start_time": "2022-06-17T13:55:05.337Z"
   },
   {
    "duration": 128,
    "start_time": "2022-06-17T13:55:05.373Z"
   },
   {
    "duration": 21,
    "start_time": "2022-06-17T13:55:05.503Z"
   },
   {
    "duration": 21,
    "start_time": "2022-06-17T13:55:05.525Z"
   },
   {
    "duration": 8,
    "start_time": "2022-06-17T13:55:05.548Z"
   },
   {
    "duration": 24,
    "start_time": "2022-06-17T13:55:08.451Z"
   },
   {
    "duration": 11,
    "start_time": "2022-06-17T13:56:47.594Z"
   },
   {
    "duration": 3,
    "start_time": "2022-06-17T13:57:10.817Z"
   },
   {
    "duration": 9,
    "start_time": "2022-06-17T13:57:13.344Z"
   },
   {
    "duration": 56,
    "start_time": "2022-06-17T13:58:40.963Z"
   },
   {
    "duration": 8,
    "start_time": "2022-06-17T13:59:56.929Z"
   },
   {
    "duration": 15,
    "start_time": "2022-06-17T14:01:06.815Z"
   },
   {
    "duration": 6,
    "start_time": "2022-06-17T14:01:36.864Z"
   },
   {
    "duration": 16,
    "start_time": "2022-06-17T14:03:04.326Z"
   },
   {
    "duration": 27,
    "start_time": "2022-06-17T14:03:20.855Z"
   },
   {
    "duration": 3,
    "start_time": "2022-06-17T14:03:43.562Z"
   },
   {
    "duration": 44,
    "start_time": "2022-06-17T14:03:43.591Z"
   },
   {
    "duration": 10,
    "start_time": "2022-06-17T14:03:43.637Z"
   },
   {
    "duration": 163,
    "start_time": "2022-06-17T14:03:43.649Z"
   },
   {
    "duration": 22,
    "start_time": "2022-06-17T14:03:43.814Z"
   },
   {
    "duration": 92,
    "start_time": "2022-06-17T14:03:43.838Z"
   },
   {
    "duration": 16,
    "start_time": "2022-06-17T14:03:43.931Z"
   },
   {
    "duration": 135,
    "start_time": "2022-06-17T14:03:43.949Z"
   },
   {
    "duration": 35,
    "start_time": "2022-06-17T14:03:44.086Z"
   },
   {
    "duration": 25,
    "start_time": "2022-06-17T14:03:44.123Z"
   },
   {
    "duration": 14,
    "start_time": "2022-06-17T14:03:44.150Z"
   },
   {
    "duration": 101,
    "start_time": "2022-06-17T14:03:44.166Z"
   },
   {
    "duration": 38,
    "start_time": "2022-06-17T14:03:44.268Z"
   },
   {
    "duration": 23,
    "start_time": "2022-06-17T14:03:44.308Z"
   },
   {
    "duration": 9,
    "start_time": "2022-06-17T14:03:44.333Z"
   },
   {
    "duration": 96,
    "start_time": "2022-06-17T14:03:44.345Z"
   },
   {
    "duration": 44,
    "start_time": "2022-06-17T14:03:44.442Z"
   },
   {
    "duration": 39,
    "start_time": "2022-06-17T14:03:44.487Z"
   },
   {
    "duration": 26,
    "start_time": "2022-06-17T14:03:44.528Z"
   },
   {
    "duration": 23,
    "start_time": "2022-06-17T14:03:44.555Z"
   },
   {
    "duration": 8,
    "start_time": "2022-06-17T14:03:44.580Z"
   },
   {
    "duration": 11,
    "start_time": "2022-06-17T14:03:44.590Z"
   },
   {
    "duration": 5,
    "start_time": "2022-06-17T14:03:44.603Z"
   },
   {
    "duration": 8,
    "start_time": "2022-06-17T14:03:44.609Z"
   },
   {
    "duration": 8,
    "start_time": "2022-06-17T14:03:44.618Z"
   },
   {
    "duration": 11,
    "start_time": "2022-06-17T14:03:44.628Z"
   },
   {
    "duration": 57,
    "start_time": "2022-06-17T14:03:44.641Z"
   },
   {
    "duration": 134,
    "start_time": "2022-06-17T14:03:44.701Z"
   },
   {
    "duration": 19,
    "start_time": "2022-06-17T14:03:44.837Z"
   },
   {
    "duration": 32,
    "start_time": "2022-06-17T14:03:44.857Z"
   },
   {
    "duration": 6,
    "start_time": "2022-06-17T14:03:44.891Z"
   },
   {
    "duration": 41,
    "start_time": "2022-06-17T14:03:46.855Z"
   },
   {
    "duration": 31,
    "start_time": "2022-06-17T14:03:55.349Z"
   },
   {
    "duration": 18,
    "start_time": "2022-06-17T14:04:04.305Z"
   },
   {
    "duration": 25,
    "start_time": "2022-06-17T14:04:21.718Z"
   },
   {
    "duration": 8,
    "start_time": "2022-06-17T14:05:03.163Z"
   },
   {
    "duration": 6,
    "start_time": "2022-06-17T14:05:12.728Z"
   },
   {
    "duration": 5,
    "start_time": "2022-06-17T14:05:26.992Z"
   },
   {
    "duration": 6,
    "start_time": "2022-06-17T14:06:07.341Z"
   },
   {
    "duration": 7,
    "start_time": "2022-06-17T14:06:10.728Z"
   },
   {
    "duration": 6,
    "start_time": "2022-06-17T14:06:53.100Z"
   },
   {
    "duration": 7,
    "start_time": "2022-06-17T14:07:56.174Z"
   },
   {
    "duration": 6,
    "start_time": "2022-06-17T14:08:11.512Z"
   },
   {
    "duration": 12,
    "start_time": "2022-06-17T14:08:22.693Z"
   },
   {
    "duration": 16,
    "start_time": "2022-06-17T14:09:21.022Z"
   },
   {
    "duration": 18,
    "start_time": "2022-06-17T14:09:39.406Z"
   },
   {
    "duration": 8,
    "start_time": "2022-06-17T14:10:09.272Z"
   },
   {
    "duration": 23,
    "start_time": "2022-06-17T14:10:13.247Z"
   },
   {
    "duration": 18,
    "start_time": "2022-06-17T14:12:20.105Z"
   },
   {
    "duration": 9,
    "start_time": "2022-06-17T14:14:57.995Z"
   },
   {
    "duration": 8,
    "start_time": "2022-06-17T14:15:25.006Z"
   },
   {
    "duration": 6,
    "start_time": "2022-06-17T14:15:44.819Z"
   },
   {
    "duration": 3,
    "start_time": "2022-06-17T14:17:45.836Z"
   },
   {
    "duration": 8,
    "start_time": "2022-06-17T14:17:50.035Z"
   },
   {
    "duration": 15,
    "start_time": "2022-06-17T14:18:28.051Z"
   },
   {
    "duration": 1247,
    "start_time": "2022-06-20T07:01:35.932Z"
   },
   {
    "duration": 101,
    "start_time": "2022-06-20T07:01:37.182Z"
   },
   {
    "duration": 13,
    "start_time": "2022-06-20T07:01:37.285Z"
   },
   {
    "duration": 247,
    "start_time": "2022-06-20T07:01:37.300Z"
   },
   {
    "duration": 23,
    "start_time": "2022-06-20T07:01:37.549Z"
   },
   {
    "duration": 270,
    "start_time": "2022-06-20T07:01:37.573Z"
   },
   {
    "duration": 17,
    "start_time": "2022-06-20T07:01:37.845Z"
   },
   {
    "duration": 306,
    "start_time": "2022-06-20T07:01:37.864Z"
   },
   {
    "duration": 19,
    "start_time": "2022-06-20T07:01:38.172Z"
   },
   {
    "duration": 62,
    "start_time": "2022-06-20T07:01:38.192Z"
   },
   {
    "duration": 10,
    "start_time": "2022-06-20T07:01:38.255Z"
   },
   {
    "duration": 73,
    "start_time": "2022-06-20T07:01:38.266Z"
   },
   {
    "duration": 35,
    "start_time": "2022-06-20T07:01:38.340Z"
   },
   {
    "duration": 23,
    "start_time": "2022-06-20T07:01:38.377Z"
   },
   {
    "duration": 11,
    "start_time": "2022-06-20T07:01:38.401Z"
   },
   {
    "duration": 99,
    "start_time": "2022-06-20T07:01:38.413Z"
   },
   {
    "duration": 45,
    "start_time": "2022-06-20T07:01:38.514Z"
   },
   {
    "duration": 41,
    "start_time": "2022-06-20T07:01:38.561Z"
   },
   {
    "duration": 27,
    "start_time": "2022-06-20T07:01:38.603Z"
   },
   {
    "duration": 3,
    "start_time": "2022-06-20T07:01:38.632Z"
   },
   {
    "duration": 29,
    "start_time": "2022-06-20T07:01:38.637Z"
   },
   {
    "duration": 11,
    "start_time": "2022-06-20T07:01:38.668Z"
   },
   {
    "duration": 5,
    "start_time": "2022-06-20T07:01:38.680Z"
   },
   {
    "duration": 12,
    "start_time": "2022-06-20T07:01:38.686Z"
   },
   {
    "duration": 6,
    "start_time": "2022-06-20T07:01:38.700Z"
   },
   {
    "duration": 11,
    "start_time": "2022-06-20T07:01:38.708Z"
   },
   {
    "duration": 56,
    "start_time": "2022-06-20T07:01:38.721Z"
   },
   {
    "duration": 127,
    "start_time": "2022-06-20T07:01:38.779Z"
   },
   {
    "duration": 18,
    "start_time": "2022-06-20T07:01:38.908Z"
   },
   {
    "duration": 34,
    "start_time": "2022-06-20T07:01:38.928Z"
   },
   {
    "duration": 3,
    "start_time": "2022-06-20T07:01:38.964Z"
   },
   {
    "duration": 49,
    "start_time": "2022-06-20T07:01:38.969Z"
   },
   {
    "duration": 0,
    "start_time": "2022-06-20T07:01:39.020Z"
   },
   {
    "duration": 0,
    "start_time": "2022-06-20T07:01:39.021Z"
   },
   {
    "duration": 0,
    "start_time": "2022-06-20T07:01:39.022Z"
   },
   {
    "duration": 8,
    "start_time": "2022-06-20T07:03:22.376Z"
   },
   {
    "duration": 14,
    "start_time": "2022-06-20T07:03:35.101Z"
   },
   {
    "duration": 17,
    "start_time": "2022-06-20T07:04:17.399Z"
   },
   {
    "duration": 70,
    "start_time": "2022-06-20T07:06:56.440Z"
   },
   {
    "duration": 73,
    "start_time": "2022-06-20T07:07:03.841Z"
   },
   {
    "duration": 48,
    "start_time": "2022-06-20T07:07:03.916Z"
   },
   {
    "duration": 39,
    "start_time": "2022-06-20T07:07:03.966Z"
   },
   {
    "duration": 26,
    "start_time": "2022-06-20T07:07:04.007Z"
   },
   {
    "duration": 3,
    "start_time": "2022-06-20T07:07:04.035Z"
   },
   {
    "duration": 9,
    "start_time": "2022-06-20T07:07:04.059Z"
   },
   {
    "duration": 8,
    "start_time": "2022-06-20T07:07:04.070Z"
   },
   {
    "duration": 4,
    "start_time": "2022-06-20T07:07:04.080Z"
   },
   {
    "duration": 6,
    "start_time": "2022-06-20T07:07:04.086Z"
   },
   {
    "duration": 8,
    "start_time": "2022-06-20T07:07:04.093Z"
   },
   {
    "duration": 13,
    "start_time": "2022-06-20T07:07:04.102Z"
   },
   {
    "duration": 51,
    "start_time": "2022-06-20T07:07:04.117Z"
   },
   {
    "duration": 125,
    "start_time": "2022-06-20T07:07:04.170Z"
   },
   {
    "duration": 19,
    "start_time": "2022-06-20T07:07:04.298Z"
   },
   {
    "duration": 16,
    "start_time": "2022-06-20T07:07:04.318Z"
   },
   {
    "duration": 34,
    "start_time": "2022-06-20T07:07:04.336Z"
   },
   {
    "duration": 17,
    "start_time": "2022-06-20T07:07:04.371Z"
   },
   {
    "duration": 10,
    "start_time": "2022-06-20T07:07:04.389Z"
   },
   {
    "duration": 27,
    "start_time": "2022-06-20T07:07:04.401Z"
   },
   {
    "duration": 39,
    "start_time": "2022-06-20T07:08:23.407Z"
   },
   {
    "duration": 40,
    "start_time": "2022-06-20T07:08:32.139Z"
   },
   {
    "duration": 25,
    "start_time": "2022-06-20T07:08:32.181Z"
   },
   {
    "duration": 4,
    "start_time": "2022-06-20T07:08:32.207Z"
   },
   {
    "duration": 13,
    "start_time": "2022-06-20T07:08:32.212Z"
   },
   {
    "duration": 7,
    "start_time": "2022-06-20T07:08:32.228Z"
   },
   {
    "duration": 4,
    "start_time": "2022-06-20T07:08:32.258Z"
   },
   {
    "duration": 10,
    "start_time": "2022-06-20T07:08:32.263Z"
   },
   {
    "duration": 11,
    "start_time": "2022-06-20T07:08:32.275Z"
   },
   {
    "duration": 10,
    "start_time": "2022-06-20T07:08:32.288Z"
   },
   {
    "duration": 28,
    "start_time": "2022-06-20T07:08:32.299Z"
   },
   {
    "duration": 182,
    "start_time": "2022-06-20T07:08:32.328Z"
   },
   {
    "duration": 18,
    "start_time": "2022-06-20T07:08:32.512Z"
   },
   {
    "duration": 33,
    "start_time": "2022-06-20T07:08:32.532Z"
   },
   {
    "duration": 15,
    "start_time": "2022-06-20T07:08:32.567Z"
   },
   {
    "duration": 17,
    "start_time": "2022-06-20T07:08:32.583Z"
   },
   {
    "duration": 10,
    "start_time": "2022-06-20T07:08:32.601Z"
   },
   {
    "duration": 20,
    "start_time": "2022-06-20T07:08:32.613Z"
   },
   {
    "duration": 26,
    "start_time": "2022-06-20T07:08:49.182Z"
   },
   {
    "duration": 28,
    "start_time": "2022-06-20T07:09:12.938Z"
   },
   {
    "duration": 35,
    "start_time": "2022-06-20T07:09:27.265Z"
   },
   {
    "duration": 29,
    "start_time": "2022-06-20T07:10:14.842Z"
   },
   {
    "duration": 25,
    "start_time": "2022-06-20T07:10:34.550Z"
   },
   {
    "duration": 102,
    "start_time": "2022-06-20T07:10:48.259Z"
   },
   {
    "duration": 31,
    "start_time": "2022-06-20T07:11:02.366Z"
   },
   {
    "duration": 12,
    "start_time": "2022-06-20T07:11:02.399Z"
   },
   {
    "duration": 21,
    "start_time": "2022-06-20T07:11:02.412Z"
   },
   {
    "duration": 37,
    "start_time": "2022-06-20T07:11:02.435Z"
   },
   {
    "duration": 32,
    "start_time": "2022-06-20T07:11:02.473Z"
   },
   {
    "duration": 18,
    "start_time": "2022-06-20T07:11:02.506Z"
   },
   {
    "duration": 32,
    "start_time": "2022-06-20T07:11:02.525Z"
   },
   {
    "duration": 26,
    "start_time": "2022-06-20T07:11:02.559Z"
   },
   {
    "duration": 51,
    "start_time": "2022-06-20T07:11:02.587Z"
   },
   {
    "duration": 143,
    "start_time": "2022-06-20T07:11:02.640Z"
   },
   {
    "duration": 20,
    "start_time": "2022-06-20T07:11:02.785Z"
   },
   {
    "duration": 52,
    "start_time": "2022-06-20T07:11:02.807Z"
   },
   {
    "duration": 83,
    "start_time": "2022-06-20T07:11:02.861Z"
   },
   {
    "duration": 39,
    "start_time": "2022-06-20T07:11:02.946Z"
   },
   {
    "duration": 42,
    "start_time": "2022-06-20T07:11:02.986Z"
   },
   {
    "duration": 41,
    "start_time": "2022-06-20T07:11:03.030Z"
   },
   {
    "duration": 3,
    "start_time": "2022-06-20T07:15:54.654Z"
   },
   {
    "duration": 45,
    "start_time": "2022-06-20T07:15:54.659Z"
   },
   {
    "duration": 9,
    "start_time": "2022-06-20T07:15:54.706Z"
   },
   {
    "duration": 150,
    "start_time": "2022-06-20T07:15:54.717Z"
   },
   {
    "duration": 23,
    "start_time": "2022-06-20T07:15:54.868Z"
   },
   {
    "duration": 91,
    "start_time": "2022-06-20T07:15:54.892Z"
   },
   {
    "duration": 16,
    "start_time": "2022-06-20T07:15:54.985Z"
   },
   {
    "duration": 130,
    "start_time": "2022-06-20T07:15:55.003Z"
   },
   {
    "duration": 29,
    "start_time": "2022-06-20T07:15:55.136Z"
   },
   {
    "duration": 20,
    "start_time": "2022-06-20T07:15:55.166Z"
   },
   {
    "duration": 9,
    "start_time": "2022-06-20T07:15:55.187Z"
   },
   {
    "duration": 74,
    "start_time": "2022-06-20T07:15:55.198Z"
   },
   {
    "duration": 25,
    "start_time": "2022-06-20T07:15:55.274Z"
   },
   {
    "duration": 27,
    "start_time": "2022-06-20T07:15:55.301Z"
   },
   {
    "duration": 30,
    "start_time": "2022-06-20T07:15:55.330Z"
   },
   {
    "duration": 72,
    "start_time": "2022-06-20T07:15:55.361Z"
   },
   {
    "duration": 52,
    "start_time": "2022-06-20T07:15:55.434Z"
   },
   {
    "duration": 39,
    "start_time": "2022-06-20T07:15:55.488Z"
   },
   {
    "duration": 102,
    "start_time": "2022-06-20T07:15:55.529Z"
   },
   {
    "duration": 5,
    "start_time": "2022-06-20T07:15:55.632Z"
   },
   {
    "duration": 22,
    "start_time": "2022-06-20T07:15:55.638Z"
   },
   {
    "duration": 9,
    "start_time": "2022-06-20T07:15:55.662Z"
   },
   {
    "duration": 11,
    "start_time": "2022-06-20T07:15:55.672Z"
   },
   {
    "duration": 15,
    "start_time": "2022-06-20T07:15:55.685Z"
   },
   {
    "duration": 15,
    "start_time": "2022-06-20T07:15:55.701Z"
   },
   {
    "duration": 13,
    "start_time": "2022-06-20T07:15:55.717Z"
   },
   {
    "duration": 24,
    "start_time": "2022-06-20T07:16:03.088Z"
   },
   {
    "duration": 23,
    "start_time": "2022-06-20T07:16:43.570Z"
   },
   {
    "duration": 127,
    "start_time": "2022-06-20T07:16:43.594Z"
   },
   {
    "duration": 17,
    "start_time": "2022-06-20T07:16:43.722Z"
   },
   {
    "duration": 28,
    "start_time": "2022-06-20T07:16:43.742Z"
   },
   {
    "duration": 13,
    "start_time": "2022-06-20T07:16:43.772Z"
   },
   {
    "duration": 16,
    "start_time": "2022-06-20T07:16:43.786Z"
   },
   {
    "duration": 9,
    "start_time": "2022-06-20T07:16:43.804Z"
   },
   {
    "duration": 44,
    "start_time": "2022-06-20T07:16:43.815Z"
   },
   {
    "duration": 1990,
    "start_time": "2022-06-20T07:21:34.571Z"
   },
   {
    "duration": 8,
    "start_time": "2022-06-20T07:21:54.903Z"
   },
   {
    "duration": 10,
    "start_time": "2022-06-20T07:22:24.794Z"
   },
   {
    "duration": 768,
    "start_time": "2022-06-20T07:22:48.345Z"
   },
   {
    "duration": 10,
    "start_time": "2022-06-20T07:23:36.873Z"
   },
   {
    "duration": 7,
    "start_time": "2022-06-20T07:23:45.555Z"
   },
   {
    "duration": 6,
    "start_time": "2022-06-20T07:24:42.416Z"
   },
   {
    "duration": 8,
    "start_time": "2022-06-20T07:26:06.219Z"
   },
   {
    "duration": 8,
    "start_time": "2022-06-20T07:26:20.642Z"
   },
   {
    "duration": 740,
    "start_time": "2022-06-20T07:30:05.133Z"
   },
   {
    "duration": 34,
    "start_time": "2022-06-20T07:30:20.719Z"
   },
   {
    "duration": 832,
    "start_time": "2022-06-20T07:30:32.456Z"
   },
   {
    "duration": 27,
    "start_time": "2022-06-20T07:30:48.487Z"
   },
   {
    "duration": 8,
    "start_time": "2022-06-20T07:43:05.521Z"
   },
   {
    "duration": 19,
    "start_time": "2022-06-20T07:44:19.639Z"
   },
   {
    "duration": 23,
    "start_time": "2022-06-20T07:45:01.389Z"
   },
   {
    "duration": 34,
    "start_time": "2022-06-20T07:45:11.260Z"
   },
   {
    "duration": 153,
    "start_time": "2022-06-20T07:46:39.956Z"
   },
   {
    "duration": 281,
    "start_time": "2022-06-20T07:51:58.557Z"
   },
   {
    "duration": 155,
    "start_time": "2022-06-20T07:52:13.941Z"
   },
   {
    "duration": 129,
    "start_time": "2022-06-20T07:52:40.204Z"
   },
   {
    "duration": 46,
    "start_time": "2022-06-20T07:59:56.589Z"
   },
   {
    "duration": 991,
    "start_time": "2022-06-20T08:00:05.810Z"
   },
   {
    "duration": 86,
    "start_time": "2022-06-20T08:00:06.803Z"
   },
   {
    "duration": 10,
    "start_time": "2022-06-20T08:00:06.890Z"
   },
   {
    "duration": 221,
    "start_time": "2022-06-20T08:00:06.902Z"
   },
   {
    "duration": 23,
    "start_time": "2022-06-20T08:00:07.125Z"
   },
   {
    "duration": 304,
    "start_time": "2022-06-20T08:00:07.149Z"
   },
   {
    "duration": 17,
    "start_time": "2022-06-20T08:00:07.455Z"
   },
   {
    "duration": 305,
    "start_time": "2022-06-20T08:00:07.474Z"
   },
   {
    "duration": 21,
    "start_time": "2022-06-20T08:00:07.781Z"
   },
   {
    "duration": 64,
    "start_time": "2022-06-20T08:00:07.804Z"
   },
   {
    "duration": 11,
    "start_time": "2022-06-20T08:00:07.870Z"
   },
   {
    "duration": 84,
    "start_time": "2022-06-20T08:00:07.883Z"
   },
   {
    "duration": 29,
    "start_time": "2022-06-20T08:00:07.969Z"
   },
   {
    "duration": 24,
    "start_time": "2022-06-20T08:00:07.999Z"
   },
   {
    "duration": 11,
    "start_time": "2022-06-20T08:00:08.025Z"
   },
   {
    "duration": 79,
    "start_time": "2022-06-20T08:00:08.059Z"
   },
   {
    "duration": 60,
    "start_time": "2022-06-20T08:00:08.140Z"
   },
   {
    "duration": 42,
    "start_time": "2022-06-20T08:00:08.201Z"
   },
   {
    "duration": 39,
    "start_time": "2022-06-20T08:00:08.245Z"
   },
   {
    "duration": 4,
    "start_time": "2022-06-20T08:00:08.285Z"
   },
   {
    "duration": 17,
    "start_time": "2022-06-20T08:00:08.291Z"
   },
   {
    "duration": 10,
    "start_time": "2022-06-20T08:00:08.309Z"
   },
   {
    "duration": 6,
    "start_time": "2022-06-20T08:00:08.321Z"
   },
   {
    "duration": 7,
    "start_time": "2022-06-20T08:00:08.328Z"
   },
   {
    "duration": 7,
    "start_time": "2022-06-20T08:00:08.336Z"
   },
   {
    "duration": 23,
    "start_time": "2022-06-20T08:00:08.344Z"
   },
   {
    "duration": 24,
    "start_time": "2022-06-20T08:00:08.369Z"
   },
   {
    "duration": 134,
    "start_time": "2022-06-20T08:00:08.396Z"
   },
   {
    "duration": 16,
    "start_time": "2022-06-20T08:00:08.532Z"
   },
   {
    "duration": 15,
    "start_time": "2022-06-20T08:00:08.559Z"
   },
   {
    "duration": 13,
    "start_time": "2022-06-20T08:00:08.575Z"
   },
   {
    "duration": 16,
    "start_time": "2022-06-20T08:00:08.589Z"
   },
   {
    "duration": 13,
    "start_time": "2022-06-20T08:00:08.606Z"
   },
   {
    "duration": 38,
    "start_time": "2022-06-20T08:00:08.621Z"
   },
   {
    "duration": 150,
    "start_time": "2022-06-20T08:00:08.661Z"
   },
   {
    "duration": 397,
    "start_time": "2022-06-20T08:01:37.209Z"
   },
   {
    "duration": 803,
    "start_time": "2022-06-20T08:01:50.356Z"
   },
   {
    "duration": 5,
    "start_time": "2022-06-20T08:02:21.065Z"
   },
   {
    "duration": 10,
    "start_time": "2022-06-20T08:02:24.049Z"
   },
   {
    "duration": 9,
    "start_time": "2022-06-20T08:02:37.559Z"
   },
   {
    "duration": 2,
    "start_time": "2022-06-20T08:02:46.011Z"
   },
   {
    "duration": 52,
    "start_time": "2022-06-20T08:02:46.015Z"
   },
   {
    "duration": 12,
    "start_time": "2022-06-20T08:02:46.069Z"
   },
   {
    "duration": 164,
    "start_time": "2022-06-20T08:02:46.083Z"
   },
   {
    "duration": 30,
    "start_time": "2022-06-20T08:02:46.250Z"
   },
   {
    "duration": 94,
    "start_time": "2022-06-20T08:02:46.282Z"
   },
   {
    "duration": 19,
    "start_time": "2022-06-20T08:02:46.378Z"
   },
   {
    "duration": 137,
    "start_time": "2022-06-20T08:02:46.398Z"
   },
   {
    "duration": 27,
    "start_time": "2022-06-20T08:02:46.537Z"
   },
   {
    "duration": 20,
    "start_time": "2022-06-20T08:02:46.566Z"
   },
   {
    "duration": 10,
    "start_time": "2022-06-20T08:02:46.588Z"
   },
   {
    "duration": 71,
    "start_time": "2022-06-20T08:02:46.599Z"
   },
   {
    "duration": 25,
    "start_time": "2022-06-20T08:02:46.672Z"
   },
   {
    "duration": 24,
    "start_time": "2022-06-20T08:02:46.699Z"
   },
   {
    "duration": 10,
    "start_time": "2022-06-20T08:02:46.725Z"
   },
   {
    "duration": 73,
    "start_time": "2022-06-20T08:02:46.759Z"
   },
   {
    "duration": 50,
    "start_time": "2022-06-20T08:02:46.833Z"
   },
   {
    "duration": 37,
    "start_time": "2022-06-20T08:02:46.884Z"
   },
   {
    "duration": 99,
    "start_time": "2022-06-20T08:02:46.923Z"
   },
   {
    "duration": 3,
    "start_time": "2022-06-20T08:02:47.024Z"
   },
   {
    "duration": 14,
    "start_time": "2022-06-20T08:02:47.029Z"
   },
   {
    "duration": 15,
    "start_time": "2022-06-20T08:02:47.044Z"
   },
   {
    "duration": 10,
    "start_time": "2022-06-20T08:02:47.061Z"
   },
   {
    "duration": 6,
    "start_time": "2022-06-20T08:02:47.072Z"
   },
   {
    "duration": 6,
    "start_time": "2022-06-20T08:02:47.080Z"
   },
   {
    "duration": 11,
    "start_time": "2022-06-20T08:02:47.087Z"
   },
   {
    "duration": 29,
    "start_time": "2022-06-20T08:02:47.099Z"
   },
   {
    "duration": 178,
    "start_time": "2022-06-20T08:02:47.130Z"
   },
   {
    "duration": 21,
    "start_time": "2022-06-20T08:02:47.312Z"
   },
   {
    "duration": 35,
    "start_time": "2022-06-20T08:02:47.335Z"
   },
   {
    "duration": 18,
    "start_time": "2022-06-20T08:02:47.372Z"
   },
   {
    "duration": 12,
    "start_time": "2022-06-20T08:02:47.392Z"
   },
   {
    "duration": 4,
    "start_time": "2022-06-20T08:02:49.840Z"
   },
   {
    "duration": 9,
    "start_time": "2022-06-20T08:02:52.540Z"
   },
   {
    "duration": 23,
    "start_time": "2022-06-20T08:03:07.285Z"
   },
   {
    "duration": 115,
    "start_time": "2022-06-20T08:03:11.314Z"
   },
   {
    "duration": 144,
    "start_time": "2022-06-20T08:03:21.556Z"
   },
   {
    "duration": 177,
    "start_time": "2022-06-20T08:03:44.089Z"
   },
   {
    "duration": 132,
    "start_time": "2022-06-20T08:04:08.817Z"
   },
   {
    "duration": 143,
    "start_time": "2022-06-20T08:04:36.864Z"
   },
   {
    "duration": 143,
    "start_time": "2022-06-20T08:06:38.249Z"
   },
   {
    "duration": 265,
    "start_time": "2022-06-20T08:11:18.271Z"
   },
   {
    "duration": 366,
    "start_time": "2022-06-20T08:11:58.912Z"
   },
   {
    "duration": 167,
    "start_time": "2022-06-20T08:13:08.672Z"
   },
   {
    "duration": 265,
    "start_time": "2022-06-20T08:15:03.225Z"
   },
   {
    "duration": 161,
    "start_time": "2022-06-20T08:21:18.854Z"
   },
   {
    "duration": 140,
    "start_time": "2022-06-20T08:21:27.018Z"
   },
   {
    "duration": 149,
    "start_time": "2022-06-20T08:21:43.209Z"
   },
   {
    "duration": 151,
    "start_time": "2022-06-20T08:22:10.864Z"
   },
   {
    "duration": 147,
    "start_time": "2022-06-20T08:22:47.444Z"
   },
   {
    "duration": 749,
    "start_time": "2022-06-20T08:28:56.388Z"
   },
   {
    "duration": 257,
    "start_time": "2022-06-20T08:29:29.568Z"
   },
   {
    "duration": 261,
    "start_time": "2022-06-20T08:29:48.361Z"
   },
   {
    "duration": 974,
    "start_time": "2022-06-20T08:31:23.262Z"
   },
   {
    "duration": 23,
    "start_time": "2022-06-20T08:31:34.078Z"
   },
   {
    "duration": 168,
    "start_time": "2022-06-20T08:37:21.727Z"
   },
   {
    "duration": 24963,
    "start_time": "2022-06-20T08:37:52.078Z"
   },
   {
    "duration": 4,
    "start_time": "2022-06-20T08:39:40.121Z"
   },
   {
    "duration": 245,
    "start_time": "2022-06-20T08:39:41.946Z"
   },
   {
    "duration": 935,
    "start_time": "2022-06-20T08:40:05.913Z"
   },
   {
    "duration": 667,
    "start_time": "2022-06-20T08:40:19.680Z"
   },
   {
    "duration": 223,
    "start_time": "2022-06-20T08:40:25.267Z"
   },
   {
    "duration": 222,
    "start_time": "2022-06-20T08:40:44.488Z"
   },
   {
    "duration": 694,
    "start_time": "2022-06-20T08:40:48.988Z"
   },
   {
    "duration": 126,
    "start_time": "2022-06-20T08:40:55.963Z"
   },
   {
    "duration": 127,
    "start_time": "2022-06-20T08:41:04.797Z"
   },
   {
    "duration": 157,
    "start_time": "2022-06-20T08:41:10.339Z"
   },
   {
    "duration": 153,
    "start_time": "2022-06-20T08:41:23.416Z"
   },
   {
    "duration": 136,
    "start_time": "2022-06-20T08:41:30.469Z"
   },
   {
    "duration": 147,
    "start_time": "2022-06-20T08:41:55.000Z"
   },
   {
    "duration": 156,
    "start_time": "2022-06-20T08:42:07.495Z"
   },
   {
    "duration": 11,
    "start_time": "2022-06-20T08:47:01.947Z"
   },
   {
    "duration": 3,
    "start_time": "2022-06-20T08:47:26.144Z"
   },
   {
    "duration": 51,
    "start_time": "2022-06-20T08:47:26.148Z"
   },
   {
    "duration": 10,
    "start_time": "2022-06-20T08:47:26.200Z"
   },
   {
    "duration": 152,
    "start_time": "2022-06-20T08:47:26.212Z"
   },
   {
    "duration": 22,
    "start_time": "2022-06-20T08:47:26.366Z"
   },
   {
    "duration": 92,
    "start_time": "2022-06-20T08:47:26.389Z"
   },
   {
    "duration": 17,
    "start_time": "2022-06-20T08:47:26.483Z"
   },
   {
    "duration": 149,
    "start_time": "2022-06-20T08:47:26.502Z"
   },
   {
    "duration": 24,
    "start_time": "2022-06-20T08:47:26.653Z"
   },
   {
    "duration": 30,
    "start_time": "2022-06-20T08:47:26.679Z"
   },
   {
    "duration": 20,
    "start_time": "2022-06-20T08:47:26.711Z"
   },
   {
    "duration": 86,
    "start_time": "2022-06-20T08:47:26.733Z"
   },
   {
    "duration": 24,
    "start_time": "2022-06-20T08:47:26.820Z"
   },
   {
    "duration": 30,
    "start_time": "2022-06-20T08:47:26.845Z"
   },
   {
    "duration": 9,
    "start_time": "2022-06-20T08:47:26.876Z"
   },
   {
    "duration": 95,
    "start_time": "2022-06-20T08:47:26.886Z"
   },
   {
    "duration": 37,
    "start_time": "2022-06-20T08:47:26.983Z"
   },
   {
    "duration": 49,
    "start_time": "2022-06-20T08:47:27.021Z"
   },
   {
    "duration": 26,
    "start_time": "2022-06-20T08:47:27.072Z"
   },
   {
    "duration": 4,
    "start_time": "2022-06-20T08:47:27.099Z"
   },
   {
    "duration": 29,
    "start_time": "2022-06-20T08:47:27.104Z"
   },
   {
    "duration": 26,
    "start_time": "2022-06-20T08:47:27.135Z"
   },
   {
    "duration": 37,
    "start_time": "2022-06-20T08:47:27.163Z"
   },
   {
    "duration": 22,
    "start_time": "2022-06-20T08:47:27.203Z"
   },
   {
    "duration": 22,
    "start_time": "2022-06-20T08:47:27.227Z"
   },
   {
    "duration": 33,
    "start_time": "2022-06-20T08:47:27.251Z"
   },
   {
    "duration": 37,
    "start_time": "2022-06-20T08:47:27.286Z"
   },
   {
    "duration": 144,
    "start_time": "2022-06-20T08:47:27.324Z"
   },
   {
    "duration": 23,
    "start_time": "2022-06-20T08:47:27.470Z"
   },
   {
    "duration": 33,
    "start_time": "2022-06-20T08:47:27.495Z"
   },
   {
    "duration": 38,
    "start_time": "2022-06-20T08:47:27.530Z"
   },
   {
    "duration": 27,
    "start_time": "2022-06-20T08:47:27.570Z"
   },
   {
    "duration": 28,
    "start_time": "2022-06-20T08:47:27.601Z"
   },
   {
    "duration": 21,
    "start_time": "2022-06-20T08:47:27.631Z"
   },
   {
    "duration": 48,
    "start_time": "2022-06-20T08:47:27.654Z"
   },
   {
    "duration": 10,
    "start_time": "2022-06-20T08:47:29.888Z"
   },
   {
    "duration": 2,
    "start_time": "2022-06-20T08:52:16.058Z"
   },
   {
    "duration": 50,
    "start_time": "2022-06-20T08:52:16.063Z"
   },
   {
    "duration": 9,
    "start_time": "2022-06-20T08:52:16.114Z"
   },
   {
    "duration": 153,
    "start_time": "2022-06-20T08:52:16.125Z"
   },
   {
    "duration": 23,
    "start_time": "2022-06-20T08:52:16.280Z"
   },
   {
    "duration": 91,
    "start_time": "2022-06-20T08:52:16.305Z"
   },
   {
    "duration": 18,
    "start_time": "2022-06-20T08:52:16.398Z"
   },
   {
    "duration": 130,
    "start_time": "2022-06-20T08:52:16.417Z"
   },
   {
    "duration": 30,
    "start_time": "2022-06-20T08:52:16.549Z"
   },
   {
    "duration": 21,
    "start_time": "2022-06-20T08:52:16.580Z"
   },
   {
    "duration": 9,
    "start_time": "2022-06-20T08:52:16.603Z"
   },
   {
    "duration": 74,
    "start_time": "2022-06-20T08:52:16.613Z"
   },
   {
    "duration": 24,
    "start_time": "2022-06-20T08:52:16.689Z"
   },
   {
    "duration": 22,
    "start_time": "2022-06-20T08:52:16.715Z"
   },
   {
    "duration": 26,
    "start_time": "2022-06-20T08:52:16.738Z"
   },
   {
    "duration": 73,
    "start_time": "2022-06-20T08:52:16.765Z"
   },
   {
    "duration": 49,
    "start_time": "2022-06-20T08:52:16.840Z"
   },
   {
    "duration": 38,
    "start_time": "2022-06-20T08:52:16.891Z"
   },
   {
    "duration": 48,
    "start_time": "2022-06-20T08:52:16.931Z"
   },
   {
    "duration": 4,
    "start_time": "2022-06-20T08:52:16.980Z"
   },
   {
    "duration": 19,
    "start_time": "2022-06-20T08:52:16.986Z"
   },
   {
    "duration": 9,
    "start_time": "2022-06-20T08:52:17.006Z"
   },
   {
    "duration": 4,
    "start_time": "2022-06-20T08:52:17.017Z"
   },
   {
    "duration": 9,
    "start_time": "2022-06-20T08:52:17.023Z"
   },
   {
    "duration": 8,
    "start_time": "2022-06-20T08:52:17.033Z"
   },
   {
    "duration": 12,
    "start_time": "2022-06-20T08:52:17.043Z"
   },
   {
    "duration": 23,
    "start_time": "2022-06-20T08:52:17.056Z"
   },
   {
    "duration": 123,
    "start_time": "2022-06-20T08:52:17.080Z"
   },
   {
    "duration": 17,
    "start_time": "2022-06-20T08:52:17.206Z"
   },
   {
    "duration": 15,
    "start_time": "2022-06-20T08:52:17.224Z"
   },
   {
    "duration": 20,
    "start_time": "2022-06-20T08:52:17.241Z"
   },
   {
    "duration": 8,
    "start_time": "2022-06-20T08:52:17.263Z"
   },
   {
    "duration": 6,
    "start_time": "2022-06-20T08:52:17.272Z"
   },
   {
    "duration": 21,
    "start_time": "2022-06-20T08:52:17.280Z"
   },
   {
    "duration": 80,
    "start_time": "2022-06-20T08:52:17.303Z"
   },
   {
    "duration": 135,
    "start_time": "2022-06-20T08:52:20.554Z"
   },
   {
    "duration": 145,
    "start_time": "2022-06-20T08:53:02.555Z"
   },
   {
    "duration": 9,
    "start_time": "2022-06-20T08:54:20.864Z"
   },
   {
    "duration": 138,
    "start_time": "2022-06-20T08:54:33.500Z"
   },
   {
    "duration": 20,
    "start_time": "2022-06-20T08:57:08.379Z"
   },
   {
    "duration": 13,
    "start_time": "2022-06-20T08:58:34.329Z"
   },
   {
    "duration": 10,
    "start_time": "2022-06-20T08:58:48.284Z"
   },
   {
    "duration": 11,
    "start_time": "2022-06-20T08:59:34.239Z"
   },
   {
    "duration": 11,
    "start_time": "2022-06-20T08:59:40.640Z"
   },
   {
    "duration": 3,
    "start_time": "2022-06-20T09:00:28.387Z"
   },
   {
    "duration": 55,
    "start_time": "2022-06-20T09:00:28.394Z"
   },
   {
    "duration": 10,
    "start_time": "2022-06-20T09:00:28.450Z"
   },
   {
    "duration": 181,
    "start_time": "2022-06-20T09:00:28.462Z"
   },
   {
    "duration": 28,
    "start_time": "2022-06-20T09:00:28.645Z"
   },
   {
    "duration": 91,
    "start_time": "2022-06-20T09:00:28.674Z"
   },
   {
    "duration": 23,
    "start_time": "2022-06-20T09:00:28.767Z"
   },
   {
    "duration": 126,
    "start_time": "2022-06-20T09:00:28.791Z"
   },
   {
    "duration": 20,
    "start_time": "2022-06-20T09:00:28.919Z"
   },
   {
    "duration": 24,
    "start_time": "2022-06-20T09:00:28.941Z"
   },
   {
    "duration": 9,
    "start_time": "2022-06-20T09:00:28.967Z"
   },
   {
    "duration": 81,
    "start_time": "2022-06-20T09:00:28.978Z"
   },
   {
    "duration": 25,
    "start_time": "2022-06-20T09:00:29.060Z"
   },
   {
    "duration": 22,
    "start_time": "2022-06-20T09:00:29.086Z"
   },
   {
    "duration": 8,
    "start_time": "2022-06-20T09:00:29.110Z"
   },
   {
    "duration": 91,
    "start_time": "2022-06-20T09:00:29.120Z"
   },
   {
    "duration": 36,
    "start_time": "2022-06-20T09:00:29.213Z"
   },
   {
    "duration": 39,
    "start_time": "2022-06-20T09:00:29.259Z"
   },
   {
    "duration": 26,
    "start_time": "2022-06-20T09:00:29.300Z"
   },
   {
    "duration": 4,
    "start_time": "2022-06-20T09:00:29.328Z"
   },
   {
    "duration": 28,
    "start_time": "2022-06-20T09:00:29.333Z"
   },
   {
    "duration": 25,
    "start_time": "2022-06-20T09:00:29.363Z"
   },
   {
    "duration": 14,
    "start_time": "2022-06-20T09:00:29.390Z"
   },
   {
    "duration": 15,
    "start_time": "2022-06-20T09:00:29.405Z"
   },
   {
    "duration": 10,
    "start_time": "2022-06-20T09:00:29.421Z"
   },
   {
    "duration": 10,
    "start_time": "2022-06-20T09:00:29.432Z"
   },
   {
    "duration": 24,
    "start_time": "2022-06-20T09:00:29.443Z"
   },
   {
    "duration": 132,
    "start_time": "2022-06-20T09:00:29.468Z"
   },
   {
    "duration": 17,
    "start_time": "2022-06-20T09:00:29.603Z"
   },
   {
    "duration": 16,
    "start_time": "2022-06-20T09:00:29.621Z"
   },
   {
    "duration": 29,
    "start_time": "2022-06-20T09:00:29.639Z"
   },
   {
    "duration": 3,
    "start_time": "2022-06-20T09:00:29.669Z"
   },
   {
    "duration": 11,
    "start_time": "2022-06-20T09:00:29.674Z"
   },
   {
    "duration": 10,
    "start_time": "2022-06-20T09:00:29.687Z"
   },
   {
    "duration": 14,
    "start_time": "2022-06-20T09:00:35.018Z"
   },
   {
    "duration": 12,
    "start_time": "2022-06-20T09:00:38.443Z"
   },
   {
    "duration": 2,
    "start_time": "2022-06-20T09:01:00.976Z"
   },
   {
    "duration": 56,
    "start_time": "2022-06-20T09:01:00.981Z"
   },
   {
    "duration": 10,
    "start_time": "2022-06-20T09:01:01.039Z"
   },
   {
    "duration": 155,
    "start_time": "2022-06-20T09:01:01.051Z"
   },
   {
    "duration": 23,
    "start_time": "2022-06-20T09:01:01.208Z"
   },
   {
    "duration": 96,
    "start_time": "2022-06-20T09:01:01.233Z"
   },
   {
    "duration": 17,
    "start_time": "2022-06-20T09:01:01.330Z"
   },
   {
    "duration": 167,
    "start_time": "2022-06-20T09:01:01.348Z"
   },
   {
    "duration": 21,
    "start_time": "2022-06-20T09:01:01.517Z"
   },
   {
    "duration": 89,
    "start_time": "2022-06-20T09:01:01.539Z"
   },
   {
    "duration": 17,
    "start_time": "2022-06-20T09:01:01.631Z"
   },
   {
    "duration": 105,
    "start_time": "2022-06-20T09:01:01.650Z"
   },
   {
    "duration": 26,
    "start_time": "2022-06-20T09:01:01.756Z"
   },
   {
    "duration": 30,
    "start_time": "2022-06-20T09:01:01.784Z"
   },
   {
    "duration": 18,
    "start_time": "2022-06-20T09:01:01.816Z"
   },
   {
    "duration": 219,
    "start_time": "2022-06-20T09:01:01.836Z"
   },
   {
    "duration": 147,
    "start_time": "2022-06-20T09:01:02.057Z"
   },
   {
    "duration": 74,
    "start_time": "2022-06-20T09:01:02.205Z"
   },
   {
    "duration": 28,
    "start_time": "2022-06-20T09:01:02.280Z"
   },
   {
    "duration": 18,
    "start_time": "2022-06-20T09:01:02.310Z"
   },
   {
    "duration": 53,
    "start_time": "2022-06-20T09:01:02.330Z"
   },
   {
    "duration": 18,
    "start_time": "2022-06-20T09:01:02.385Z"
   },
   {
    "duration": 9,
    "start_time": "2022-06-20T09:01:02.405Z"
   },
   {
    "duration": 7,
    "start_time": "2022-06-20T09:01:02.415Z"
   },
   {
    "duration": 7,
    "start_time": "2022-06-20T09:01:02.424Z"
   },
   {
    "duration": 17,
    "start_time": "2022-06-20T09:01:02.433Z"
   },
   {
    "duration": 23,
    "start_time": "2022-06-20T09:01:02.451Z"
   },
   {
    "duration": 129,
    "start_time": "2022-06-20T09:01:02.475Z"
   },
   {
    "duration": 17,
    "start_time": "2022-06-20T09:01:02.607Z"
   },
   {
    "duration": 21,
    "start_time": "2022-06-20T09:01:02.626Z"
   },
   {
    "duration": 21,
    "start_time": "2022-06-20T09:01:02.649Z"
   },
   {
    "duration": 15,
    "start_time": "2022-06-20T09:01:02.671Z"
   },
   {
    "duration": 10,
    "start_time": "2022-06-20T09:01:02.687Z"
   },
   {
    "duration": 5,
    "start_time": "2022-06-20T09:01:02.699Z"
   },
   {
    "duration": 18,
    "start_time": "2022-06-20T09:01:02.705Z"
   },
   {
    "duration": 19,
    "start_time": "2022-06-20T09:01:04.425Z"
   },
   {
    "duration": 13,
    "start_time": "2022-06-20T09:01:25.600Z"
   },
   {
    "duration": 4,
    "start_time": "2022-06-20T09:01:28.662Z"
   },
   {
    "duration": 10,
    "start_time": "2022-06-20T09:01:36.215Z"
   },
   {
    "duration": 545,
    "start_time": "2022-06-20T09:02:38.412Z"
   },
   {
    "duration": 6,
    "start_time": "2022-06-20T09:03:14.804Z"
   },
   {
    "duration": 7,
    "start_time": "2022-06-20T09:04:22.294Z"
   },
   {
    "duration": 7,
    "start_time": "2022-06-20T09:04:40.586Z"
   },
   {
    "duration": 4,
    "start_time": "2022-06-20T09:05:50.057Z"
   },
   {
    "duration": 118,
    "start_time": "2022-06-20T09:05:58.412Z"
   },
   {
    "duration": 514,
    "start_time": "2022-06-20T09:06:13.854Z"
   },
   {
    "duration": 210,
    "start_time": "2022-06-20T09:06:33.843Z"
   },
   {
    "duration": 4,
    "start_time": "2022-06-20T09:07:48.059Z"
   },
   {
    "duration": 6,
    "start_time": "2022-06-20T09:07:55.043Z"
   },
   {
    "duration": 10,
    "start_time": "2022-06-20T09:11:45.460Z"
   },
   {
    "duration": 256,
    "start_time": "2022-06-20T09:12:14.999Z"
   },
   {
    "duration": 798,
    "start_time": "2022-06-20T09:13:26.472Z"
   },
   {
    "duration": 4,
    "start_time": "2022-06-20T09:17:30.562Z"
   },
   {
    "duration": 9,
    "start_time": "2022-06-20T09:17:38.234Z"
   },
   {
    "duration": 6,
    "start_time": "2022-06-20T09:17:53.855Z"
   },
   {
    "duration": 6,
    "start_time": "2022-06-20T09:17:57.198Z"
   },
   {
    "duration": 5,
    "start_time": "2022-06-20T09:17:59.429Z"
   },
   {
    "duration": 913,
    "start_time": "2022-06-20T09:18:03.566Z"
   },
   {
    "duration": 10,
    "start_time": "2022-06-20T09:18:52.763Z"
   },
   {
    "duration": 52,
    "start_time": "2022-06-20T09:19:04.949Z"
   },
   {
    "duration": 149,
    "start_time": "2022-06-20T09:19:12.757Z"
   },
   {
    "duration": 3,
    "start_time": "2022-06-20T09:27:36.256Z"
   },
   {
    "duration": 3,
    "start_time": "2022-06-20T09:27:43.281Z"
   },
   {
    "duration": 54,
    "start_time": "2022-06-20T09:27:43.286Z"
   },
   {
    "duration": 11,
    "start_time": "2022-06-20T09:27:43.342Z"
   },
   {
    "duration": 170,
    "start_time": "2022-06-20T09:27:43.355Z"
   },
   {
    "duration": 36,
    "start_time": "2022-06-20T09:27:43.528Z"
   },
   {
    "duration": 91,
    "start_time": "2022-06-20T09:27:43.565Z"
   },
   {
    "duration": 18,
    "start_time": "2022-06-20T09:27:43.658Z"
   },
   {
    "duration": 139,
    "start_time": "2022-06-20T09:27:43.677Z"
   },
   {
    "duration": 22,
    "start_time": "2022-06-20T09:27:43.818Z"
   },
   {
    "duration": 37,
    "start_time": "2022-06-20T09:27:43.841Z"
   },
   {
    "duration": 10,
    "start_time": "2022-06-20T09:27:43.881Z"
   },
   {
    "duration": 78,
    "start_time": "2022-06-20T09:27:43.892Z"
   },
   {
    "duration": 24,
    "start_time": "2022-06-20T09:27:43.972Z"
   },
   {
    "duration": 23,
    "start_time": "2022-06-20T09:27:43.998Z"
   },
   {
    "duration": 17,
    "start_time": "2022-06-20T09:27:44.022Z"
   },
   {
    "duration": 86,
    "start_time": "2022-06-20T09:27:44.041Z"
   },
   {
    "duration": 45,
    "start_time": "2022-06-20T09:27:44.128Z"
   },
   {
    "duration": 39,
    "start_time": "2022-06-20T09:27:44.175Z"
   },
   {
    "duration": 43,
    "start_time": "2022-06-20T09:27:44.215Z"
   },
   {
    "duration": 4,
    "start_time": "2022-06-20T09:27:44.260Z"
   },
   {
    "duration": 37,
    "start_time": "2022-06-20T09:27:44.265Z"
   },
   {
    "duration": 15,
    "start_time": "2022-06-20T09:27:44.303Z"
   },
   {
    "duration": 27,
    "start_time": "2022-06-20T09:27:44.319Z"
   },
   {
    "duration": 17,
    "start_time": "2022-06-20T09:27:44.347Z"
   },
   {
    "duration": 25,
    "start_time": "2022-06-20T09:27:44.366Z"
   },
   {
    "duration": 36,
    "start_time": "2022-06-20T09:27:44.393Z"
   },
   {
    "duration": 29,
    "start_time": "2022-06-20T09:27:44.430Z"
   },
   {
    "duration": 125,
    "start_time": "2022-06-20T09:27:44.461Z"
   },
   {
    "duration": 18,
    "start_time": "2022-06-20T09:27:44.589Z"
   },
   {
    "duration": 19,
    "start_time": "2022-06-20T09:27:44.609Z"
   },
   {
    "duration": 31,
    "start_time": "2022-06-20T09:27:44.629Z"
   },
   {
    "duration": 30,
    "start_time": "2022-06-20T09:27:44.662Z"
   },
   {
    "duration": 11,
    "start_time": "2022-06-20T09:27:44.694Z"
   },
   {
    "duration": 27,
    "start_time": "2022-06-20T09:27:44.706Z"
   },
   {
    "duration": 37,
    "start_time": "2022-06-20T09:27:44.734Z"
   },
   {
    "duration": 24,
    "start_time": "2022-06-20T09:27:44.773Z"
   },
   {
    "duration": 37,
    "start_time": "2022-06-20T09:27:44.798Z"
   },
   {
    "duration": 27,
    "start_time": "2022-06-20T09:27:44.837Z"
   },
   {
    "duration": 8,
    "start_time": "2022-06-20T09:27:49.361Z"
   },
   {
    "duration": 7,
    "start_time": "2022-06-20T09:27:51.655Z"
   },
   {
    "duration": 8,
    "start_time": "2022-06-20T09:27:53.827Z"
   },
   {
    "duration": 9,
    "start_time": "2022-06-20T09:27:57.047Z"
   },
   {
    "duration": 521,
    "start_time": "2022-06-20T09:28:05.969Z"
   },
   {
    "duration": 206,
    "start_time": "2022-06-20T09:28:18.185Z"
   },
   {
    "duration": 616,
    "start_time": "2022-06-20T09:29:12.819Z"
   },
   {
    "duration": 217,
    "start_time": "2022-06-20T09:37:03.307Z"
   },
   {
    "duration": 573,
    "start_time": "2022-06-20T09:37:15.267Z"
   },
   {
    "duration": 622,
    "start_time": "2022-06-20T09:37:35.884Z"
   },
   {
    "duration": 625,
    "start_time": "2022-06-20T09:38:16.412Z"
   },
   {
    "duration": 23,
    "start_time": "2022-06-20T10:56:16.442Z"
   },
   {
    "duration": 16,
    "start_time": "2022-06-20T10:58:38.534Z"
   },
   {
    "duration": 28,
    "start_time": "2022-06-20T10:58:44.342Z"
   },
   {
    "duration": 4,
    "start_time": "2022-06-20T10:59:05.961Z"
   },
   {
    "duration": 14,
    "start_time": "2022-06-20T10:59:27.970Z"
   },
   {
    "duration": 18,
    "start_time": "2022-06-20T11:01:36.115Z"
   },
   {
    "duration": 6,
    "start_time": "2022-06-20T11:12:56.297Z"
   },
   {
    "duration": 9,
    "start_time": "2022-06-20T11:15:04.801Z"
   },
   {
    "duration": 7,
    "start_time": "2022-06-20T11:15:10.260Z"
   },
   {
    "duration": 668,
    "start_time": "2022-06-20T11:16:01.678Z"
   },
   {
    "duration": 55,
    "start_time": "2022-06-20T11:16:58.000Z"
   },
   {
    "duration": 199,
    "start_time": "2022-06-20T11:17:04.905Z"
   },
   {
    "duration": 11,
    "start_time": "2022-06-20T11:19:36.312Z"
   },
   {
    "duration": 1109,
    "start_time": "2022-06-20T11:19:47.941Z"
   },
   {
    "duration": 198,
    "start_time": "2022-06-20T11:20:08.464Z"
   },
   {
    "duration": 1877,
    "start_time": "2022-06-20T11:20:15.809Z"
   },
   {
    "duration": 302,
    "start_time": "2022-06-20T11:20:22.775Z"
   },
   {
    "duration": 258,
    "start_time": "2022-06-20T11:20:27.730Z"
   },
   {
    "duration": 230,
    "start_time": "2022-06-20T11:20:35.941Z"
   },
   {
    "duration": 234,
    "start_time": "2022-06-20T11:20:38.801Z"
   },
   {
    "duration": 208,
    "start_time": "2022-06-20T11:20:46.503Z"
   },
   {
    "duration": 193,
    "start_time": "2022-06-20T11:20:51.938Z"
   },
   {
    "duration": 212,
    "start_time": "2022-06-20T11:23:25.515Z"
   },
   {
    "duration": 3,
    "start_time": "2022-06-20T11:23:55.652Z"
   },
   {
    "duration": 14,
    "start_time": "2022-06-20T11:24:02.038Z"
   },
   {
    "duration": 4,
    "start_time": "2022-06-20T11:24:35.566Z"
   },
   {
    "duration": 1247,
    "start_time": "2022-06-20T11:24:41.898Z"
   },
   {
    "duration": 12,
    "start_time": "2022-06-20T11:24:50.473Z"
   },
   {
    "duration": 150,
    "start_time": "2022-06-20T11:25:24.563Z"
   },
   {
    "duration": 284,
    "start_time": "2022-06-20T11:26:06.398Z"
   },
   {
    "duration": 1235,
    "start_time": "2022-06-20T11:26:26.349Z"
   },
   {
    "duration": 447,
    "start_time": "2022-06-20T11:26:32.741Z"
   },
   {
    "duration": 9,
    "start_time": "2022-06-20T11:27:19.999Z"
   },
   {
    "duration": 34,
    "start_time": "2022-06-20T11:27:23.231Z"
   },
   {
    "duration": 26,
    "start_time": "2022-06-20T11:27:27.696Z"
   },
   {
    "duration": 2,
    "start_time": "2022-06-20T11:29:46.810Z"
   },
   {
    "duration": 49,
    "start_time": "2022-06-20T11:29:46.814Z"
   },
   {
    "duration": 10,
    "start_time": "2022-06-20T11:29:46.865Z"
   },
   {
    "duration": 173,
    "start_time": "2022-06-20T11:29:46.876Z"
   },
   {
    "duration": 24,
    "start_time": "2022-06-20T11:29:47.051Z"
   },
   {
    "duration": 92,
    "start_time": "2022-06-20T11:29:47.077Z"
   },
   {
    "duration": 23,
    "start_time": "2022-06-20T11:29:47.170Z"
   },
   {
    "duration": 174,
    "start_time": "2022-06-20T11:29:47.195Z"
   },
   {
    "duration": 26,
    "start_time": "2022-06-20T11:29:47.371Z"
   },
   {
    "duration": 24,
    "start_time": "2022-06-20T11:29:47.401Z"
   },
   {
    "duration": 12,
    "start_time": "2022-06-20T11:29:47.429Z"
   },
   {
    "duration": 86,
    "start_time": "2022-06-20T11:29:47.444Z"
   },
   {
    "duration": 41,
    "start_time": "2022-06-20T11:29:47.531Z"
   },
   {
    "duration": 25,
    "start_time": "2022-06-20T11:29:47.574Z"
   },
   {
    "duration": 10,
    "start_time": "2022-06-20T11:29:47.600Z"
   },
   {
    "duration": 91,
    "start_time": "2022-06-20T11:29:47.612Z"
   },
   {
    "duration": 40,
    "start_time": "2022-06-20T11:29:47.705Z"
   },
   {
    "duration": 40,
    "start_time": "2022-06-20T11:29:47.758Z"
   },
   {
    "duration": 26,
    "start_time": "2022-06-20T11:29:47.800Z"
   },
   {
    "duration": 5,
    "start_time": "2022-06-20T11:29:47.828Z"
   },
   {
    "duration": 29,
    "start_time": "2022-06-20T11:29:47.834Z"
   },
   {
    "duration": 10,
    "start_time": "2022-06-20T11:29:47.864Z"
   },
   {
    "duration": 21,
    "start_time": "2022-06-20T11:29:47.875Z"
   },
   {
    "duration": 16,
    "start_time": "2022-06-20T11:29:47.898Z"
   },
   {
    "duration": 14,
    "start_time": "2022-06-20T11:29:47.915Z"
   },
   {
    "duration": 10,
    "start_time": "2022-06-20T11:29:47.930Z"
   },
   {
    "duration": 23,
    "start_time": "2022-06-20T11:29:47.942Z"
   },
   {
    "duration": 119,
    "start_time": "2022-06-20T11:29:47.967Z"
   },
   {
    "duration": 18,
    "start_time": "2022-06-20T11:29:48.088Z"
   },
   {
    "duration": 16,
    "start_time": "2022-06-20T11:29:48.108Z"
   },
   {
    "duration": 39,
    "start_time": "2022-06-20T11:29:48.125Z"
   },
   {
    "duration": 7,
    "start_time": "2022-06-20T11:29:48.165Z"
   },
   {
    "duration": 23,
    "start_time": "2022-06-20T11:29:48.174Z"
   },
   {
    "duration": 3,
    "start_time": "2022-06-20T11:29:48.199Z"
   },
   {
    "duration": 15,
    "start_time": "2022-06-20T11:29:48.204Z"
   },
   {
    "duration": 34,
    "start_time": "2022-06-20T11:29:50.849Z"
   },
   {
    "duration": 53,
    "start_time": "2022-06-20T11:32:34.117Z"
   },
   {
    "duration": 39,
    "start_time": "2022-06-20T11:32:57.452Z"
   },
   {
    "duration": 30,
    "start_time": "2022-06-20T11:33:47.002Z"
   },
   {
    "duration": 35,
    "start_time": "2022-06-20T11:34:09.780Z"
   },
   {
    "duration": 8,
    "start_time": "2022-06-20T11:34:42.445Z"
   },
   {
    "duration": 11,
    "start_time": "2022-06-20T11:34:45.308Z"
   },
   {
    "duration": 3,
    "start_time": "2022-06-20T11:34:57.635Z"
   },
   {
    "duration": 65,
    "start_time": "2022-06-20T11:34:57.641Z"
   },
   {
    "duration": 15,
    "start_time": "2022-06-20T11:34:57.708Z"
   },
   {
    "duration": 143,
    "start_time": "2022-06-20T11:34:57.726Z"
   },
   {
    "duration": 25,
    "start_time": "2022-06-20T11:34:57.870Z"
   },
   {
    "duration": 93,
    "start_time": "2022-06-20T11:34:57.896Z"
   },
   {
    "duration": 18,
    "start_time": "2022-06-20T11:34:57.991Z"
   },
   {
    "duration": 124,
    "start_time": "2022-06-20T11:34:58.011Z"
   },
   {
    "duration": 27,
    "start_time": "2022-06-20T11:34:58.138Z"
   },
   {
    "duration": 21,
    "start_time": "2022-06-20T11:34:58.166Z"
   },
   {
    "duration": 9,
    "start_time": "2022-06-20T11:34:58.189Z"
   },
   {
    "duration": 70,
    "start_time": "2022-06-20T11:34:58.200Z"
   },
   {
    "duration": 24,
    "start_time": "2022-06-20T11:34:58.272Z"
   },
   {
    "duration": 23,
    "start_time": "2022-06-20T11:34:58.297Z"
   },
   {
    "duration": 14,
    "start_time": "2022-06-20T11:34:58.322Z"
   },
   {
    "duration": 67,
    "start_time": "2022-06-20T11:34:58.358Z"
   },
   {
    "duration": 50,
    "start_time": "2022-06-20T11:34:58.427Z"
   },
   {
    "duration": 40,
    "start_time": "2022-06-20T11:34:58.478Z"
   },
   {
    "duration": 46,
    "start_time": "2022-06-20T11:34:58.519Z"
   },
   {
    "duration": 4,
    "start_time": "2022-06-20T11:34:58.566Z"
   },
   {
    "duration": 12,
    "start_time": "2022-06-20T11:34:58.572Z"
   },
   {
    "duration": 7,
    "start_time": "2022-06-20T11:34:58.586Z"
   },
   {
    "duration": 5,
    "start_time": "2022-06-20T11:34:58.595Z"
   },
   {
    "duration": 22,
    "start_time": "2022-06-20T11:34:58.603Z"
   },
   {
    "duration": 20,
    "start_time": "2022-06-20T11:34:58.626Z"
   },
   {
    "duration": 17,
    "start_time": "2022-06-20T11:34:58.648Z"
   },
   {
    "duration": 45,
    "start_time": "2022-06-20T11:34:58.668Z"
   },
   {
    "duration": 130,
    "start_time": "2022-06-20T11:34:58.716Z"
   },
   {
    "duration": 23,
    "start_time": "2022-06-20T11:34:58.847Z"
   },
   {
    "duration": 24,
    "start_time": "2022-06-20T11:34:58.871Z"
   },
   {
    "duration": 19,
    "start_time": "2022-06-20T11:34:58.896Z"
   },
   {
    "duration": 18,
    "start_time": "2022-06-20T11:34:58.917Z"
   },
   {
    "duration": 24,
    "start_time": "2022-06-20T11:34:58.937Z"
   },
   {
    "duration": 6,
    "start_time": "2022-06-20T11:34:58.963Z"
   },
   {
    "duration": 19,
    "start_time": "2022-06-20T11:34:58.970Z"
   },
   {
    "duration": 21,
    "start_time": "2022-06-20T11:34:58.991Z"
   },
   {
    "duration": 16,
    "start_time": "2022-06-20T11:34:59.014Z"
   },
   {
    "duration": 231,
    "start_time": "2022-06-20T11:34:59.031Z"
   },
   {
    "duration": 0,
    "start_time": "2022-06-20T11:34:59.263Z"
   },
   {
    "duration": 4,
    "start_time": "2022-06-20T11:36:07.077Z"
   },
   {
    "duration": 21,
    "start_time": "2022-06-20T11:36:14.618Z"
   },
   {
    "duration": 394,
    "start_time": "2022-06-20T11:36:39.081Z"
   },
   {
    "duration": 441,
    "start_time": "2022-06-20T11:38:59.705Z"
   },
   {
    "duration": 416,
    "start_time": "2022-06-20T11:39:24.460Z"
   },
   {
    "duration": 414,
    "start_time": "2022-06-20T11:39:35.585Z"
   },
   {
    "duration": 67,
    "start_time": "2022-06-20T11:46:59.942Z"
   },
   {
    "duration": 60,
    "start_time": "2022-06-20T11:47:02.827Z"
   },
   {
    "duration": 3,
    "start_time": "2022-06-20T11:49:39.955Z"
   },
   {
    "duration": 3,
    "start_time": "2022-06-20T12:15:38.244Z"
   },
   {
    "duration": 67,
    "start_time": "2022-06-20T12:15:38.249Z"
   },
   {
    "duration": 10,
    "start_time": "2022-06-20T12:15:38.318Z"
   },
   {
    "duration": 175,
    "start_time": "2022-06-20T12:15:38.330Z"
   },
   {
    "duration": 23,
    "start_time": "2022-06-20T12:15:38.507Z"
   },
   {
    "duration": 102,
    "start_time": "2022-06-20T12:15:38.532Z"
   },
   {
    "duration": 43,
    "start_time": "2022-06-20T12:15:38.636Z"
   },
   {
    "duration": 144,
    "start_time": "2022-06-20T12:15:38.684Z"
   },
   {
    "duration": 20,
    "start_time": "2022-06-20T12:15:38.829Z"
   },
   {
    "duration": 41,
    "start_time": "2022-06-20T12:15:38.850Z"
   },
   {
    "duration": 12,
    "start_time": "2022-06-20T12:15:38.894Z"
   },
   {
    "duration": 95,
    "start_time": "2022-06-20T12:15:38.907Z"
   },
   {
    "duration": 26,
    "start_time": "2022-06-20T12:15:39.004Z"
   },
   {
    "duration": 38,
    "start_time": "2022-06-20T12:15:39.031Z"
   },
   {
    "duration": 14,
    "start_time": "2022-06-20T12:15:39.071Z"
   },
   {
    "duration": 88,
    "start_time": "2022-06-20T12:15:39.087Z"
   },
   {
    "duration": 42,
    "start_time": "2022-06-20T12:15:39.177Z"
   },
   {
    "duration": 65,
    "start_time": "2022-06-20T12:15:39.220Z"
   },
   {
    "duration": 27,
    "start_time": "2022-06-20T12:15:39.288Z"
   },
   {
    "duration": 4,
    "start_time": "2022-06-20T12:15:39.317Z"
   },
   {
    "duration": 14,
    "start_time": "2022-06-20T12:15:39.322Z"
   },
   {
    "duration": 17,
    "start_time": "2022-06-20T12:15:39.338Z"
   },
   {
    "duration": 44,
    "start_time": "2022-06-20T12:15:39.356Z"
   },
   {
    "duration": 15,
    "start_time": "2022-06-20T12:15:39.401Z"
   },
   {
    "duration": 22,
    "start_time": "2022-06-20T12:15:39.417Z"
   },
   {
    "duration": 32,
    "start_time": "2022-06-20T12:15:39.440Z"
   },
   {
    "duration": 53,
    "start_time": "2022-06-20T12:15:39.474Z"
   },
   {
    "duration": 135,
    "start_time": "2022-06-20T12:15:39.529Z"
   },
   {
    "duration": 28,
    "start_time": "2022-06-20T12:15:39.668Z"
   },
   {
    "duration": 16,
    "start_time": "2022-06-20T12:15:39.698Z"
   },
   {
    "duration": 13,
    "start_time": "2022-06-20T12:15:39.716Z"
   },
   {
    "duration": 7,
    "start_time": "2022-06-20T12:15:39.731Z"
   },
   {
    "duration": 27,
    "start_time": "2022-06-20T12:15:39.761Z"
   },
   {
    "duration": 11,
    "start_time": "2022-06-20T12:15:39.790Z"
   },
   {
    "duration": 26,
    "start_time": "2022-06-20T12:15:39.802Z"
   },
   {
    "duration": 18,
    "start_time": "2022-06-20T12:15:39.829Z"
   },
   {
    "duration": 16,
    "start_time": "2022-06-20T12:15:39.849Z"
   },
   {
    "duration": 299,
    "start_time": "2022-06-20T12:15:39.868Z"
   },
   {
    "duration": 0,
    "start_time": "2022-06-20T12:15:40.168Z"
   },
   {
    "duration": 4,
    "start_time": "2022-06-20T12:15:47.959Z"
   },
   {
    "duration": 77,
    "start_time": "2022-06-20T12:15:47.964Z"
   },
   {
    "duration": 12,
    "start_time": "2022-06-20T12:15:48.043Z"
   },
   {
    "duration": 198,
    "start_time": "2022-06-20T12:15:48.057Z"
   },
   {
    "duration": 38,
    "start_time": "2022-06-20T12:15:48.259Z"
   },
   {
    "duration": 97,
    "start_time": "2022-06-20T12:15:48.299Z"
   },
   {
    "duration": 17,
    "start_time": "2022-06-20T12:15:48.398Z"
   },
   {
    "duration": 138,
    "start_time": "2022-06-20T12:15:48.417Z"
   },
   {
    "duration": 33,
    "start_time": "2022-06-20T12:15:48.562Z"
   },
   {
    "duration": 20,
    "start_time": "2022-06-20T12:15:48.596Z"
   },
   {
    "duration": 9,
    "start_time": "2022-06-20T12:15:48.619Z"
   },
   {
    "duration": 94,
    "start_time": "2022-06-20T12:15:48.630Z"
   },
   {
    "duration": 27,
    "start_time": "2022-06-20T12:15:48.725Z"
   },
   {
    "duration": 37,
    "start_time": "2022-06-20T12:15:48.759Z"
   },
   {
    "duration": 26,
    "start_time": "2022-06-20T12:15:48.798Z"
   },
   {
    "duration": 83,
    "start_time": "2022-06-20T12:15:48.825Z"
   },
   {
    "duration": 37,
    "start_time": "2022-06-20T12:15:48.909Z"
   },
   {
    "duration": 57,
    "start_time": "2022-06-20T12:15:48.948Z"
   },
   {
    "duration": 29,
    "start_time": "2022-06-20T12:15:49.007Z"
   },
   {
    "duration": 23,
    "start_time": "2022-06-20T12:15:49.037Z"
   },
   {
    "duration": 38,
    "start_time": "2022-06-20T12:15:49.061Z"
   },
   {
    "duration": 10,
    "start_time": "2022-06-20T12:15:49.100Z"
   },
   {
    "duration": 5,
    "start_time": "2022-06-20T12:15:49.112Z"
   },
   {
    "duration": 10,
    "start_time": "2022-06-20T12:15:49.118Z"
   },
   {
    "duration": 8,
    "start_time": "2022-06-20T12:15:49.129Z"
   },
   {
    "duration": 11,
    "start_time": "2022-06-20T12:15:49.139Z"
   },
   {
    "duration": 35,
    "start_time": "2022-06-20T12:15:49.152Z"
   },
   {
    "duration": 134,
    "start_time": "2022-06-20T12:15:49.189Z"
   },
   {
    "duration": 18,
    "start_time": "2022-06-20T12:15:49.326Z"
   },
   {
    "duration": 35,
    "start_time": "2022-06-20T12:15:49.346Z"
   },
   {
    "duration": 25,
    "start_time": "2022-06-20T12:15:49.384Z"
   },
   {
    "duration": 20,
    "start_time": "2022-06-20T12:15:49.411Z"
   },
   {
    "duration": 38,
    "start_time": "2022-06-20T12:15:49.433Z"
   },
   {
    "duration": 6,
    "start_time": "2022-06-20T12:15:49.478Z"
   },
   {
    "duration": 20,
    "start_time": "2022-06-20T12:15:49.486Z"
   },
   {
    "duration": 10,
    "start_time": "2022-06-20T12:15:49.508Z"
   },
   {
    "duration": 12,
    "start_time": "2022-06-20T12:15:49.520Z"
   },
   {
    "duration": 262,
    "start_time": "2022-06-20T12:15:49.533Z"
   },
   {
    "duration": 0,
    "start_time": "2022-06-20T12:15:49.797Z"
   },
   {
    "duration": 18,
    "start_time": "2022-06-20T12:16:17.680Z"
   },
   {
    "duration": 17,
    "start_time": "2022-06-20T12:16:23.680Z"
   },
   {
    "duration": 18,
    "start_time": "2022-06-20T12:17:11.611Z"
   },
   {
    "duration": 17,
    "start_time": "2022-06-20T12:17:13.987Z"
   },
   {
    "duration": 20,
    "start_time": "2022-06-20T12:17:24.151Z"
   },
   {
    "duration": 20,
    "start_time": "2022-06-20T12:17:33.235Z"
   },
   {
    "duration": 16,
    "start_time": "2022-06-20T12:17:35.512Z"
   },
   {
    "duration": 16,
    "start_time": "2022-06-20T12:17:38.210Z"
   },
   {
    "duration": 39,
    "start_time": "2022-06-20T12:17:43.182Z"
   },
   {
    "duration": 33,
    "start_time": "2022-06-20T12:17:53.509Z"
   },
   {
    "duration": 40,
    "start_time": "2022-06-20T12:18:09.843Z"
   },
   {
    "duration": 29,
    "start_time": "2022-06-20T12:18:25.374Z"
   },
   {
    "duration": 48,
    "start_time": "2022-06-20T12:18:33.713Z"
   },
   {
    "duration": 3,
    "start_time": "2022-06-20T12:19:09.113Z"
   },
   {
    "duration": 66,
    "start_time": "2022-06-20T12:19:09.121Z"
   },
   {
    "duration": 10,
    "start_time": "2022-06-20T12:19:09.189Z"
   },
   {
    "duration": 160,
    "start_time": "2022-06-20T12:19:09.200Z"
   },
   {
    "duration": 33,
    "start_time": "2022-06-20T12:19:09.361Z"
   },
   {
    "duration": 101,
    "start_time": "2022-06-20T12:19:09.396Z"
   },
   {
    "duration": 18,
    "start_time": "2022-06-20T12:19:09.499Z"
   },
   {
    "duration": 135,
    "start_time": "2022-06-20T12:19:09.519Z"
   },
   {
    "duration": 30,
    "start_time": "2022-06-20T12:19:09.658Z"
   },
   {
    "duration": 45,
    "start_time": "2022-06-20T12:19:09.689Z"
   },
   {
    "duration": 30,
    "start_time": "2022-06-20T12:19:09.736Z"
   },
   {
    "duration": 76,
    "start_time": "2022-06-20T12:19:09.769Z"
   },
   {
    "duration": 33,
    "start_time": "2022-06-20T12:19:09.847Z"
   },
   {
    "duration": 24,
    "start_time": "2022-06-20T12:19:09.882Z"
   },
   {
    "duration": 10,
    "start_time": "2022-06-20T12:19:09.909Z"
   },
   {
    "duration": 103,
    "start_time": "2022-06-20T12:19:09.921Z"
   },
   {
    "duration": 50,
    "start_time": "2022-06-20T12:19:10.025Z"
   },
   {
    "duration": 42,
    "start_time": "2022-06-20T12:19:10.077Z"
   },
   {
    "duration": 51,
    "start_time": "2022-06-20T12:19:10.121Z"
   },
   {
    "duration": 6,
    "start_time": "2022-06-20T12:19:10.174Z"
   },
   {
    "duration": 37,
    "start_time": "2022-06-20T12:19:10.182Z"
   },
   {
    "duration": 29,
    "start_time": "2022-06-20T12:19:10.221Z"
   },
   {
    "duration": 9,
    "start_time": "2022-06-20T12:19:10.251Z"
   },
   {
    "duration": 47,
    "start_time": "2022-06-20T12:19:10.262Z"
   },
   {
    "duration": 15,
    "start_time": "2022-06-20T12:19:10.311Z"
   },
   {
    "duration": 17,
    "start_time": "2022-06-20T12:19:10.327Z"
   },
   {
    "duration": 55,
    "start_time": "2022-06-20T12:19:10.346Z"
   },
   {
    "duration": 130,
    "start_time": "2022-06-20T12:19:10.403Z"
   },
   {
    "duration": 16,
    "start_time": "2022-06-20T12:19:10.534Z"
   },
   {
    "duration": 27,
    "start_time": "2022-06-20T12:19:10.559Z"
   },
   {
    "duration": 21,
    "start_time": "2022-06-20T12:19:10.588Z"
   },
   {
    "duration": 24,
    "start_time": "2022-06-20T12:19:10.611Z"
   },
   {
    "duration": 61,
    "start_time": "2022-06-20T12:19:10.637Z"
   },
   {
    "duration": 4,
    "start_time": "2022-06-20T12:19:10.699Z"
   },
   {
    "duration": 51,
    "start_time": "2022-06-20T12:19:10.705Z"
   },
   {
    "duration": 49,
    "start_time": "2022-06-20T12:19:10.758Z"
   },
   {
    "duration": 37,
    "start_time": "2022-06-20T12:19:10.808Z"
   },
   {
    "duration": 40,
    "start_time": "2022-06-20T12:19:10.846Z"
   },
   {
    "duration": 483,
    "start_time": "2022-06-20T12:19:10.888Z"
   },
   {
    "duration": 25,
    "start_time": "2022-06-20T12:19:27.302Z"
   },
   {
    "duration": 249,
    "start_time": "2022-06-20T12:21:35.861Z"
   },
   {
    "duration": 780,
    "start_time": "2022-06-20T12:21:42.116Z"
   },
   {
    "duration": 2,
    "start_time": "2022-06-20T12:22:20.601Z"
   },
   {
    "duration": 88,
    "start_time": "2022-06-20T12:22:20.606Z"
   },
   {
    "duration": 11,
    "start_time": "2022-06-20T12:22:20.696Z"
   },
   {
    "duration": 197,
    "start_time": "2022-06-20T12:22:20.708Z"
   },
   {
    "duration": 28,
    "start_time": "2022-06-20T12:22:20.908Z"
   },
   {
    "duration": 138,
    "start_time": "2022-06-20T12:22:20.938Z"
   },
   {
    "duration": 18,
    "start_time": "2022-06-20T12:22:21.078Z"
   },
   {
    "duration": 139,
    "start_time": "2022-06-20T12:22:21.097Z"
   },
   {
    "duration": 33,
    "start_time": "2022-06-20T12:22:21.237Z"
   },
   {
    "duration": 27,
    "start_time": "2022-06-20T12:22:21.272Z"
   },
   {
    "duration": 10,
    "start_time": "2022-06-20T12:22:21.301Z"
   },
   {
    "duration": 81,
    "start_time": "2022-06-20T12:22:21.312Z"
   },
   {
    "duration": 25,
    "start_time": "2022-06-20T12:22:21.395Z"
   },
   {
    "duration": 49,
    "start_time": "2022-06-20T12:22:21.423Z"
   },
   {
    "duration": 10,
    "start_time": "2022-06-20T12:22:21.474Z"
   },
   {
    "duration": 97,
    "start_time": "2022-06-20T12:22:21.486Z"
   },
   {
    "duration": 42,
    "start_time": "2022-06-20T12:22:21.584Z"
   },
   {
    "duration": 64,
    "start_time": "2022-06-20T12:22:21.627Z"
   },
   {
    "duration": 29,
    "start_time": "2022-06-20T12:22:21.693Z"
   },
   {
    "duration": 4,
    "start_time": "2022-06-20T12:22:21.724Z"
   },
   {
    "duration": 31,
    "start_time": "2022-06-20T12:22:21.730Z"
   },
   {
    "duration": 34,
    "start_time": "2022-06-20T12:22:21.763Z"
   },
   {
    "duration": 10,
    "start_time": "2022-06-20T12:22:21.798Z"
   },
   {
    "duration": 9,
    "start_time": "2022-06-20T12:22:21.810Z"
   },
   {
    "duration": 16,
    "start_time": "2022-06-20T12:22:21.821Z"
   },
   {
    "duration": 12,
    "start_time": "2022-06-20T12:22:21.839Z"
   },
   {
    "duration": 49,
    "start_time": "2022-06-20T12:22:21.854Z"
   },
   {
    "duration": 141,
    "start_time": "2022-06-20T12:22:21.904Z"
   },
   {
    "duration": 28,
    "start_time": "2022-06-20T12:22:22.048Z"
   },
   {
    "duration": 20,
    "start_time": "2022-06-20T12:22:22.077Z"
   },
   {
    "duration": 14,
    "start_time": "2022-06-20T12:22:22.098Z"
   },
   {
    "duration": 10,
    "start_time": "2022-06-20T12:22:22.114Z"
   },
   {
    "duration": 47,
    "start_time": "2022-06-20T12:22:22.126Z"
   },
   {
    "duration": 5,
    "start_time": "2022-06-20T12:22:22.175Z"
   },
   {
    "duration": 22,
    "start_time": "2022-06-20T12:22:22.182Z"
   },
   {
    "duration": 14,
    "start_time": "2022-06-20T12:22:22.206Z"
   },
   {
    "duration": 13,
    "start_time": "2022-06-20T12:22:22.221Z"
   },
   {
    "duration": 11,
    "start_time": "2022-06-20T12:22:22.235Z"
   },
   {
    "duration": 480,
    "start_time": "2022-06-20T12:22:22.247Z"
   },
   {
    "duration": 52,
    "start_time": "2022-06-20T12:26:00.173Z"
   },
   {
    "duration": 5,
    "start_time": "2022-06-20T12:28:52.220Z"
   },
   {
    "duration": 5,
    "start_time": "2022-06-20T12:29:31.601Z"
   },
   {
    "duration": 4,
    "start_time": "2022-06-20T12:30:51.833Z"
   },
   {
    "duration": 5,
    "start_time": "2022-06-20T12:35:39.702Z"
   },
   {
    "duration": 3,
    "start_time": "2022-06-20T12:42:20.201Z"
   },
   {
    "duration": 47,
    "start_time": "2022-06-20T12:42:20.206Z"
   },
   {
    "duration": 23,
    "start_time": "2022-06-20T12:42:20.255Z"
   },
   {
    "duration": 163,
    "start_time": "2022-06-20T12:42:20.283Z"
   },
   {
    "duration": 43,
    "start_time": "2022-06-20T12:42:20.448Z"
   },
   {
    "duration": 100,
    "start_time": "2022-06-20T12:42:20.493Z"
   },
   {
    "duration": 18,
    "start_time": "2022-06-20T12:42:20.595Z"
   },
   {
    "duration": 128,
    "start_time": "2022-06-20T12:42:20.615Z"
   },
   {
    "duration": 37,
    "start_time": "2022-06-20T12:42:20.745Z"
   },
   {
    "duration": 42,
    "start_time": "2022-06-20T12:42:20.784Z"
   },
   {
    "duration": 10,
    "start_time": "2022-06-20T12:42:20.829Z"
   },
   {
    "duration": 80,
    "start_time": "2022-06-20T12:42:20.840Z"
   },
   {
    "duration": 28,
    "start_time": "2022-06-20T12:42:20.922Z"
   },
   {
    "duration": 39,
    "start_time": "2022-06-20T12:42:20.951Z"
   },
   {
    "duration": 9,
    "start_time": "2022-06-20T12:42:20.992Z"
   },
   {
    "duration": 96,
    "start_time": "2022-06-20T12:42:21.002Z"
   },
   {
    "duration": 37,
    "start_time": "2022-06-20T12:42:21.100Z"
   },
   {
    "duration": 51,
    "start_time": "2022-06-20T12:42:21.139Z"
   },
   {
    "duration": 27,
    "start_time": "2022-06-20T12:42:21.192Z"
   },
   {
    "duration": 5,
    "start_time": "2022-06-20T12:42:21.220Z"
   },
   {
    "duration": 18,
    "start_time": "2022-06-20T12:42:21.226Z"
   },
   {
    "duration": 9,
    "start_time": "2022-06-20T12:42:21.262Z"
   },
   {
    "duration": 21,
    "start_time": "2022-06-20T12:42:21.273Z"
   },
   {
    "duration": 8,
    "start_time": "2022-06-20T12:42:21.295Z"
   },
   {
    "duration": 7,
    "start_time": "2022-06-20T12:42:21.304Z"
   },
   {
    "duration": 16,
    "start_time": "2022-06-20T12:42:21.312Z"
   },
   {
    "duration": 24,
    "start_time": "2022-06-20T12:42:21.329Z"
   },
   {
    "duration": 146,
    "start_time": "2022-06-20T12:42:21.354Z"
   },
   {
    "duration": 19,
    "start_time": "2022-06-20T12:42:21.503Z"
   },
   {
    "duration": 39,
    "start_time": "2022-06-20T12:42:21.524Z"
   },
   {
    "duration": 25,
    "start_time": "2022-06-20T12:42:21.564Z"
   },
   {
    "duration": 6,
    "start_time": "2022-06-20T12:42:21.591Z"
   },
   {
    "duration": 23,
    "start_time": "2022-06-20T12:42:21.598Z"
   },
   {
    "duration": 29,
    "start_time": "2022-06-20T12:42:21.623Z"
   },
   {
    "duration": 45,
    "start_time": "2022-06-20T12:42:21.654Z"
   },
   {
    "duration": 10,
    "start_time": "2022-06-20T12:42:21.700Z"
   },
   {
    "duration": 13,
    "start_time": "2022-06-20T12:42:21.711Z"
   },
   {
    "duration": 6,
    "start_time": "2022-06-20T12:42:21.726Z"
   },
   {
    "duration": 485,
    "start_time": "2022-06-20T12:42:21.734Z"
   },
   {
    "duration": 937,
    "start_time": "2022-06-20T12:42:22.221Z"
   },
   {
    "duration": 17,
    "start_time": "2022-06-20T12:45:30.682Z"
   },
   {
    "duration": 9,
    "start_time": "2022-06-20T12:45:46.403Z"
   },
   {
    "duration": 7,
    "start_time": "2022-06-20T12:46:31.610Z"
   },
   {
    "duration": 12,
    "start_time": "2022-06-20T12:46:58.177Z"
   },
   {
    "duration": 11,
    "start_time": "2022-06-20T12:47:41.380Z"
   },
   {
    "duration": 13,
    "start_time": "2022-06-20T12:49:36.913Z"
   },
   {
    "duration": 8,
    "start_time": "2022-06-20T12:49:48.128Z"
   },
   {
    "duration": 7,
    "start_time": "2022-06-20T12:50:38.931Z"
   },
   {
    "duration": 22,
    "start_time": "2022-06-20T12:54:50.214Z"
   },
   {
    "duration": 19,
    "start_time": "2022-06-20T12:56:13.684Z"
   },
   {
    "duration": 5,
    "start_time": "2022-06-20T12:56:44.207Z"
   },
   {
    "duration": 5,
    "start_time": "2022-06-20T12:57:15.825Z"
   },
   {
    "duration": 4,
    "start_time": "2022-06-20T12:58:51.841Z"
   },
   {
    "duration": 16,
    "start_time": "2022-06-20T13:02:01.084Z"
   },
   {
    "duration": 22,
    "start_time": "2022-06-20T13:02:20.850Z"
   },
   {
    "duration": 5,
    "start_time": "2022-06-20T13:02:24.448Z"
   },
   {
    "duration": 18,
    "start_time": "2022-06-20T13:02:29.679Z"
   },
   {
    "duration": 20,
    "start_time": "2022-06-20T13:02:35.263Z"
   },
   {
    "duration": 17,
    "start_time": "2022-06-20T13:02:46.476Z"
   },
   {
    "duration": 21,
    "start_time": "2022-06-20T13:02:52.023Z"
   },
   {
    "duration": 18,
    "start_time": "2022-06-20T13:03:43.912Z"
   },
   {
    "duration": 12,
    "start_time": "2022-06-20T13:04:33.883Z"
   },
   {
    "duration": 9,
    "start_time": "2022-06-20T13:04:45.211Z"
   },
   {
    "duration": 981,
    "start_time": "2022-06-20T13:04:56.111Z"
   },
   {
    "duration": 9,
    "start_time": "2022-06-20T13:05:15.924Z"
   },
   {
    "duration": 15,
    "start_time": "2022-06-20T13:05:28.947Z"
   },
   {
    "duration": 13,
    "start_time": "2022-06-20T13:05:31.983Z"
   },
   {
    "duration": 13,
    "start_time": "2022-06-20T13:05:40.779Z"
   },
   {
    "duration": 9,
    "start_time": "2022-06-20T13:05:43.876Z"
   },
   {
    "duration": 11,
    "start_time": "2022-06-20T13:05:54.378Z"
   },
   {
    "duration": 9,
    "start_time": "2022-06-20T13:05:58.200Z"
   },
   {
    "duration": 19,
    "start_time": "2022-06-20T13:09:26.051Z"
   },
   {
    "duration": 9,
    "start_time": "2022-06-20T13:09:48.229Z"
   },
   {
    "duration": 3,
    "start_time": "2022-06-20T13:10:08.756Z"
   },
   {
    "duration": 11,
    "start_time": "2022-06-20T13:10:11.438Z"
   },
   {
    "duration": 13,
    "start_time": "2022-06-20T13:10:17.594Z"
   },
   {
    "duration": 9,
    "start_time": "2022-06-20T13:10:32.667Z"
   },
   {
    "duration": 9,
    "start_time": "2022-06-20T13:11:02.239Z"
   },
   {
    "duration": 9,
    "start_time": "2022-06-20T13:11:22.978Z"
   },
   {
    "duration": 9,
    "start_time": "2022-06-20T13:11:55.573Z"
   },
   {
    "duration": 7,
    "start_time": "2022-06-20T13:12:22.037Z"
   },
   {
    "duration": 10,
    "start_time": "2022-06-20T13:12:27.393Z"
   },
   {
    "duration": 8,
    "start_time": "2022-06-20T13:40:50.830Z"
   },
   {
    "duration": 12,
    "start_time": "2022-06-20T13:41:14.437Z"
   },
   {
    "duration": 14,
    "start_time": "2022-06-20T13:41:18.599Z"
   },
   {
    "duration": 16,
    "start_time": "2022-06-20T13:41:40.626Z"
   },
   {
    "duration": 14,
    "start_time": "2022-06-20T13:44:51.456Z"
   },
   {
    "duration": 54,
    "start_time": "2022-06-20T13:44:51.473Z"
   },
   {
    "duration": 12,
    "start_time": "2022-06-20T13:44:51.529Z"
   },
   {
    "duration": 190,
    "start_time": "2022-06-20T13:44:51.543Z"
   },
   {
    "duration": 34,
    "start_time": "2022-06-20T13:44:51.735Z"
   },
   {
    "duration": 108,
    "start_time": "2022-06-20T13:44:51.775Z"
   },
   {
    "duration": 20,
    "start_time": "2022-06-20T13:44:51.885Z"
   },
   {
    "duration": 147,
    "start_time": "2022-06-20T13:44:51.907Z"
   },
   {
    "duration": 34,
    "start_time": "2022-06-20T13:44:52.055Z"
   },
   {
    "duration": 22,
    "start_time": "2022-06-20T13:44:52.091Z"
   },
   {
    "duration": 10,
    "start_time": "2022-06-20T13:44:52.116Z"
   },
   {
    "duration": 92,
    "start_time": "2022-06-20T13:44:52.128Z"
   },
   {
    "duration": 25,
    "start_time": "2022-06-20T13:44:52.222Z"
   },
   {
    "duration": 36,
    "start_time": "2022-06-20T13:44:52.248Z"
   },
   {
    "duration": 10,
    "start_time": "2022-06-20T13:44:52.285Z"
   },
   {
    "duration": 96,
    "start_time": "2022-06-20T13:44:52.297Z"
   },
   {
    "duration": 38,
    "start_time": "2022-06-20T13:44:52.394Z"
   },
   {
    "duration": 64,
    "start_time": "2022-06-20T13:44:52.434Z"
   },
   {
    "duration": 34,
    "start_time": "2022-06-20T13:44:52.499Z"
   },
   {
    "duration": 34,
    "start_time": "2022-06-20T13:44:52.534Z"
   },
   {
    "duration": 18,
    "start_time": "2022-06-20T13:44:52.575Z"
   },
   {
    "duration": 9,
    "start_time": "2022-06-20T13:44:52.595Z"
   },
   {
    "duration": 11,
    "start_time": "2022-06-20T13:44:52.605Z"
   },
   {
    "duration": 22,
    "start_time": "2022-06-20T13:44:52.618Z"
   },
   {
    "duration": 36,
    "start_time": "2022-06-20T13:44:52.643Z"
   },
   {
    "duration": 16,
    "start_time": "2022-06-20T13:44:52.681Z"
   },
   {
    "duration": 29,
    "start_time": "2022-06-20T13:44:52.699Z"
   },
   {
    "duration": 146,
    "start_time": "2022-06-20T13:44:52.730Z"
   },
   {
    "duration": 18,
    "start_time": "2022-06-20T13:44:52.879Z"
   },
   {
    "duration": 16,
    "start_time": "2022-06-20T13:44:52.899Z"
   },
   {
    "duration": 30,
    "start_time": "2022-06-20T13:44:52.917Z"
   },
   {
    "duration": 21,
    "start_time": "2022-06-20T13:44:52.949Z"
   },
   {
    "duration": 31,
    "start_time": "2022-06-20T13:44:52.972Z"
   },
   {
    "duration": 5,
    "start_time": "2022-06-20T13:44:53.006Z"
   },
   {
    "duration": 25,
    "start_time": "2022-06-20T13:44:53.016Z"
   },
   {
    "duration": 25,
    "start_time": "2022-06-20T13:44:53.043Z"
   },
   {
    "duration": 21,
    "start_time": "2022-06-20T13:44:53.070Z"
   },
   {
    "duration": 12,
    "start_time": "2022-06-20T13:44:53.093Z"
   },
   {
    "duration": 460,
    "start_time": "2022-06-20T13:44:53.106Z"
   },
   {
    "duration": 23,
    "start_time": "2022-06-20T13:44:53.568Z"
   },
   {
    "duration": 28,
    "start_time": "2022-06-20T13:44:53.593Z"
   },
   {
    "duration": 10,
    "start_time": "2022-06-20T13:44:53.622Z"
   },
   {
    "duration": 18,
    "start_time": "2022-06-20T13:44:53.634Z"
   },
   {
    "duration": 32,
    "start_time": "2022-06-20T13:44:53.654Z"
   },
   {
    "duration": 34,
    "start_time": "2022-06-20T13:44:53.688Z"
   },
   {
    "duration": 39,
    "start_time": "2022-06-20T13:44:53.725Z"
   },
   {
    "duration": 9,
    "start_time": "2022-06-20T13:46:50.619Z"
   },
   {
    "duration": 48,
    "start_time": "2022-06-20T20:39:53.315Z"
   },
   {
    "duration": 1199,
    "start_time": "2022-06-20T20:39:57.945Z"
   },
   {
    "duration": 58,
    "start_time": "2022-06-20T20:39:59.148Z"
   },
   {
    "duration": 12,
    "start_time": "2022-06-20T20:39:59.208Z"
   },
   {
    "duration": 160,
    "start_time": "2022-06-20T20:39:59.221Z"
   },
   {
    "duration": 24,
    "start_time": "2022-06-20T20:39:59.384Z"
   },
   {
    "duration": 126,
    "start_time": "2022-06-20T20:39:59.409Z"
   },
   {
    "duration": 31,
    "start_time": "2022-06-20T20:39:59.537Z"
   },
   {
    "duration": 145,
    "start_time": "2022-06-20T20:39:59.570Z"
   },
   {
    "duration": 29,
    "start_time": "2022-06-20T20:39:59.717Z"
   },
   {
    "duration": 27,
    "start_time": "2022-06-20T20:39:59.748Z"
   },
   {
    "duration": 14,
    "start_time": "2022-06-20T20:39:59.778Z"
   },
   {
    "duration": 90,
    "start_time": "2022-06-20T20:39:59.794Z"
   },
   {
    "duration": 29,
    "start_time": "2022-06-20T20:39:59.885Z"
   },
   {
    "duration": 32,
    "start_time": "2022-06-20T20:39:59.917Z"
   },
   {
    "duration": 16,
    "start_time": "2022-06-20T20:39:59.967Z"
   },
   {
    "duration": 105,
    "start_time": "2022-06-20T20:39:59.986Z"
   },
   {
    "duration": 56,
    "start_time": "2022-06-20T20:40:00.094Z"
   },
   {
    "duration": 53,
    "start_time": "2022-06-20T20:40:00.152Z"
   },
   {
    "duration": 60,
    "start_time": "2022-06-20T20:40:00.208Z"
   },
   {
    "duration": 5,
    "start_time": "2022-06-20T20:40:00.270Z"
   },
   {
    "duration": 14,
    "start_time": "2022-06-20T20:40:00.277Z"
   },
   {
    "duration": 18,
    "start_time": "2022-06-20T20:40:00.294Z"
   },
   {
    "duration": 17,
    "start_time": "2022-06-20T20:40:00.314Z"
   },
   {
    "duration": 10,
    "start_time": "2022-06-20T20:40:00.333Z"
   },
   {
    "duration": 6,
    "start_time": "2022-06-20T20:40:00.367Z"
   },
   {
    "duration": 14,
    "start_time": "2022-06-20T20:40:00.375Z"
   },
   {
    "duration": 32,
    "start_time": "2022-06-20T20:40:00.391Z"
   },
   {
    "duration": 51,
    "start_time": "2022-06-20T20:40:00.425Z"
   },
   {
    "duration": 137,
    "start_time": "2022-06-20T20:40:00.478Z"
   },
   {
    "duration": 18,
    "start_time": "2022-06-20T20:40:00.617Z"
   },
   {
    "duration": 41,
    "start_time": "2022-06-20T20:40:00.637Z"
   },
   {
    "duration": 44,
    "start_time": "2022-06-20T20:40:00.680Z"
   },
   {
    "duration": 15,
    "start_time": "2022-06-20T20:40:00.726Z"
   },
   {
    "duration": 43,
    "start_time": "2022-06-20T20:40:00.742Z"
   },
   {
    "duration": 5,
    "start_time": "2022-06-20T20:40:00.786Z"
   },
   {
    "duration": 24,
    "start_time": "2022-06-20T20:40:00.792Z"
   },
   {
    "duration": 31,
    "start_time": "2022-06-20T20:40:00.818Z"
   },
   {
    "duration": 20,
    "start_time": "2022-06-20T20:40:00.851Z"
   },
   {
    "duration": 33,
    "start_time": "2022-06-20T20:40:00.872Z"
   },
   {
    "duration": 982,
    "start_time": "2022-06-20T20:40:00.907Z"
   },
   {
    "duration": 80,
    "start_time": "2022-06-20T20:40:01.894Z"
   },
   {
    "duration": 25,
    "start_time": "2022-06-20T20:40:01.976Z"
   },
   {
    "duration": 26,
    "start_time": "2022-06-20T20:40:02.003Z"
   },
   {
    "duration": 52,
    "start_time": "2022-06-20T20:40:02.032Z"
   },
   {
    "duration": 13,
    "start_time": "2022-06-20T20:40:02.087Z"
   },
   {
    "duration": 67,
    "start_time": "2022-06-20T20:40:02.101Z"
   },
   {
    "duration": 14,
    "start_time": "2022-06-20T20:40:02.170Z"
   },
   {
    "duration": 6,
    "start_time": "2022-06-20T20:42:32.455Z"
   },
   {
    "duration": 11,
    "start_time": "2022-06-20T20:42:48.856Z"
   },
   {
    "duration": 1080,
    "start_time": "2022-06-20T20:43:34.609Z"
   },
   {
    "duration": 52,
    "start_time": "2022-06-20T20:43:35.691Z"
   },
   {
    "duration": 13,
    "start_time": "2022-06-20T20:43:35.744Z"
   },
   {
    "duration": 149,
    "start_time": "2022-06-20T20:43:35.759Z"
   },
   {
    "duration": 20,
    "start_time": "2022-06-20T20:43:35.910Z"
   },
   {
    "duration": 87,
    "start_time": "2022-06-20T20:43:35.932Z"
   },
   {
    "duration": 16,
    "start_time": "2022-06-20T20:43:36.020Z"
   },
   {
    "duration": 146,
    "start_time": "2022-06-20T20:43:36.038Z"
   },
   {
    "duration": 24,
    "start_time": "2022-06-20T20:43:36.185Z"
   },
   {
    "duration": 22,
    "start_time": "2022-06-20T20:43:36.212Z"
   },
   {
    "duration": 10,
    "start_time": "2022-06-20T20:43:36.236Z"
   },
   {
    "duration": 88,
    "start_time": "2022-06-20T20:43:36.247Z"
   },
   {
    "duration": 40,
    "start_time": "2022-06-20T20:43:36.337Z"
   },
   {
    "duration": 25,
    "start_time": "2022-06-20T20:43:36.379Z"
   },
   {
    "duration": 10,
    "start_time": "2022-06-20T20:43:36.406Z"
   },
   {
    "duration": 95,
    "start_time": "2022-06-20T20:43:36.418Z"
   },
   {
    "duration": 55,
    "start_time": "2022-06-20T20:43:36.515Z"
   },
   {
    "duration": 46,
    "start_time": "2022-06-20T20:43:36.572Z"
   },
   {
    "duration": 49,
    "start_time": "2022-06-20T20:43:36.620Z"
   },
   {
    "duration": 11,
    "start_time": "2022-06-20T20:43:36.671Z"
   },
   {
    "duration": 6,
    "start_time": "2022-06-20T20:43:36.684Z"
   },
   {
    "duration": 18,
    "start_time": "2022-06-20T20:43:36.692Z"
   },
   {
    "duration": 19,
    "start_time": "2022-06-20T20:43:36.712Z"
   },
   {
    "duration": 13,
    "start_time": "2022-06-20T20:43:36.732Z"
   },
   {
    "duration": 25,
    "start_time": "2022-06-20T20:43:36.747Z"
   },
   {
    "duration": 14,
    "start_time": "2022-06-20T20:43:36.773Z"
   },
   {
    "duration": 7,
    "start_time": "2022-06-20T20:43:36.789Z"
   },
   {
    "duration": 14,
    "start_time": "2022-06-20T20:43:36.801Z"
   },
   {
    "duration": 24,
    "start_time": "2022-06-20T20:43:36.817Z"
   },
   {
    "duration": 153,
    "start_time": "2022-06-20T20:43:36.843Z"
   },
   {
    "duration": 19,
    "start_time": "2022-06-20T20:43:36.998Z"
   },
   {
    "duration": 17,
    "start_time": "2022-06-20T20:43:37.019Z"
   },
   {
    "duration": 40,
    "start_time": "2022-06-20T20:43:37.037Z"
   },
   {
    "duration": 7,
    "start_time": "2022-06-20T20:43:37.079Z"
   },
   {
    "duration": 23,
    "start_time": "2022-06-20T20:43:37.088Z"
   },
   {
    "duration": 57,
    "start_time": "2022-06-20T20:43:37.113Z"
   },
   {
    "duration": 24,
    "start_time": "2022-06-20T20:43:37.171Z"
   },
   {
    "duration": 14,
    "start_time": "2022-06-20T20:43:37.197Z"
   },
   {
    "duration": 60,
    "start_time": "2022-06-20T20:43:37.213Z"
   },
   {
    "duration": 8,
    "start_time": "2022-06-20T20:43:37.275Z"
   },
   {
    "duration": 995,
    "start_time": "2022-06-20T20:43:37.285Z"
   },
   {
    "duration": 19,
    "start_time": "2022-06-20T20:43:38.282Z"
   },
   {
    "duration": 4,
    "start_time": "2022-06-20T20:43:38.303Z"
   },
   {
    "duration": 59,
    "start_time": "2022-06-20T20:43:38.309Z"
   },
   {
    "duration": 10,
    "start_time": "2022-06-20T20:43:38.370Z"
   },
   {
    "duration": 11,
    "start_time": "2022-06-20T20:43:38.382Z"
   },
   {
    "duration": 16,
    "start_time": "2022-06-20T20:43:38.395Z"
   },
   {
    "duration": 64,
    "start_time": "2022-06-20T20:43:38.414Z"
   },
   {
    "duration": 19,
    "start_time": "2022-06-20T20:45:02.087Z"
   },
   {
    "duration": 5,
    "start_time": "2022-06-20T20:46:35.353Z"
   },
   {
    "duration": 20,
    "start_time": "2022-06-20T20:49:20.592Z"
   },
   {
    "duration": 1100,
    "start_time": "2022-06-20T21:08:14.573Z"
   },
   {
    "duration": 51,
    "start_time": "2022-06-20T21:08:15.675Z"
   },
   {
    "duration": 11,
    "start_time": "2022-06-20T21:08:15.729Z"
   },
   {
    "duration": 146,
    "start_time": "2022-06-20T21:08:15.742Z"
   },
   {
    "duration": 21,
    "start_time": "2022-06-20T21:08:15.890Z"
   },
   {
    "duration": 95,
    "start_time": "2022-06-20T21:08:15.912Z"
   },
   {
    "duration": 16,
    "start_time": "2022-06-20T21:08:16.009Z"
   },
   {
    "duration": 134,
    "start_time": "2022-06-20T21:08:16.027Z"
   },
   {
    "duration": 21,
    "start_time": "2022-06-20T21:08:16.163Z"
   },
   {
    "duration": 24,
    "start_time": "2022-06-20T21:08:16.187Z"
   },
   {
    "duration": 10,
    "start_time": "2022-06-20T21:08:16.213Z"
   },
   {
    "duration": 83,
    "start_time": "2022-06-20T21:08:16.224Z"
   },
   {
    "duration": 29,
    "start_time": "2022-06-20T21:08:16.310Z"
   },
   {
    "duration": 42,
    "start_time": "2022-06-20T21:08:16.341Z"
   },
   {
    "duration": 11,
    "start_time": "2022-06-20T21:08:16.384Z"
   },
   {
    "duration": 105,
    "start_time": "2022-06-20T21:08:16.397Z"
   },
   {
    "duration": 42,
    "start_time": "2022-06-20T21:08:16.504Z"
   },
   {
    "duration": 56,
    "start_time": "2022-06-20T21:08:16.548Z"
   },
   {
    "duration": 27,
    "start_time": "2022-06-20T21:08:16.606Z"
   },
   {
    "duration": 9,
    "start_time": "2022-06-20T21:08:16.634Z"
   },
   {
    "duration": 4,
    "start_time": "2022-06-20T21:08:16.667Z"
   },
   {
    "duration": 25,
    "start_time": "2022-06-20T21:08:16.673Z"
   },
   {
    "duration": 9,
    "start_time": "2022-06-20T21:08:16.700Z"
   },
   {
    "duration": 4,
    "start_time": "2022-06-20T21:08:16.711Z"
   },
   {
    "duration": 18,
    "start_time": "2022-06-20T21:08:16.716Z"
   },
   {
    "duration": 5,
    "start_time": "2022-06-20T21:08:16.736Z"
   },
   {
    "duration": 26,
    "start_time": "2022-06-20T21:08:16.743Z"
   },
   {
    "duration": 10,
    "start_time": "2022-06-20T21:08:16.771Z"
   },
   {
    "duration": 25,
    "start_time": "2022-06-20T21:08:16.783Z"
   },
   {
    "duration": 12,
    "start_time": "2022-06-20T21:08:16.809Z"
   },
   {
    "duration": 155,
    "start_time": "2022-06-20T21:08:16.823Z"
   },
   {
    "duration": 26,
    "start_time": "2022-06-20T21:08:16.979Z"
   },
   {
    "duration": 26,
    "start_time": "2022-06-20T21:08:17.007Z"
   },
   {
    "duration": 45,
    "start_time": "2022-06-20T21:08:17.036Z"
   },
   {
    "duration": 10,
    "start_time": "2022-06-20T21:08:17.083Z"
   },
   {
    "duration": 9,
    "start_time": "2022-06-20T21:08:17.095Z"
   },
   {
    "duration": 17,
    "start_time": "2022-06-20T21:08:17.106Z"
   },
   {
    "duration": 4,
    "start_time": "2022-06-20T21:08:17.125Z"
   },
   {
    "duration": 42,
    "start_time": "2022-06-20T21:08:17.131Z"
   },
   {
    "duration": 7,
    "start_time": "2022-06-20T21:08:17.177Z"
   },
   {
    "duration": 8,
    "start_time": "2022-06-20T21:08:17.186Z"
   },
   {
    "duration": 8,
    "start_time": "2022-06-20T21:08:17.196Z"
   },
   {
    "duration": 477,
    "start_time": "2022-06-20T21:08:17.206Z"
   },
   {
    "duration": 21,
    "start_time": "2022-06-20T21:08:17.685Z"
   },
   {
    "duration": 10,
    "start_time": "2022-06-20T21:08:17.707Z"
   },
   {
    "duration": 8,
    "start_time": "2022-06-20T21:08:17.719Z"
   },
   {
    "duration": 11,
    "start_time": "2022-06-20T21:08:17.728Z"
   },
   {
    "duration": 28,
    "start_time": "2022-06-20T21:08:17.741Z"
   },
   {
    "duration": 11,
    "start_time": "2022-06-20T21:08:17.771Z"
   },
   {
    "duration": 16,
    "start_time": "2022-06-20T21:08:17.784Z"
   },
   {
    "duration": 1238,
    "start_time": "2022-06-21T07:02:33.427Z"
   },
   {
    "duration": 84,
    "start_time": "2022-06-21T07:02:34.667Z"
   },
   {
    "duration": 16,
    "start_time": "2022-06-21T07:02:34.752Z"
   },
   {
    "duration": 219,
    "start_time": "2022-06-21T07:02:34.770Z"
   },
   {
    "duration": 24,
    "start_time": "2022-06-21T07:02:34.990Z"
   },
   {
    "duration": 270,
    "start_time": "2022-06-21T07:02:35.016Z"
   },
   {
    "duration": 21,
    "start_time": "2022-06-21T07:02:35.288Z"
   },
   {
    "duration": 301,
    "start_time": "2022-06-21T07:02:35.310Z"
   },
   {
    "duration": 21,
    "start_time": "2022-06-21T07:02:35.612Z"
   },
   {
    "duration": 61,
    "start_time": "2022-06-21T07:02:35.635Z"
   },
   {
    "duration": 13,
    "start_time": "2022-06-21T07:02:35.698Z"
   },
   {
    "duration": 97,
    "start_time": "2022-06-21T07:02:35.713Z"
   },
   {
    "duration": 29,
    "start_time": "2022-06-21T07:02:35.811Z"
   },
   {
    "duration": 24,
    "start_time": "2022-06-21T07:02:35.842Z"
   },
   {
    "duration": 12,
    "start_time": "2022-06-21T07:02:35.868Z"
   },
   {
    "duration": 82,
    "start_time": "2022-06-21T07:02:40.378Z"
   },
   {
    "duration": 26,
    "start_time": "2022-06-21T07:05:11.583Z"
   },
   {
    "duration": 24,
    "start_time": "2022-06-21T07:05:32.895Z"
   },
   {
    "duration": 34,
    "start_time": "2022-06-21T07:05:48.017Z"
   },
   {
    "duration": 34,
    "start_time": "2022-06-21T07:06:14.740Z"
   },
   {
    "duration": 91,
    "start_time": "2022-06-21T07:08:05.455Z"
   },
   {
    "duration": 8,
    "start_time": "2022-06-21T07:08:11.243Z"
   },
   {
    "duration": 9,
    "start_time": "2022-06-21T07:08:28.337Z"
   },
   {
    "duration": 31,
    "start_time": "2022-06-21T07:11:13.890Z"
   },
   {
    "duration": 31,
    "start_time": "2022-06-21T07:11:26.999Z"
   },
   {
    "duration": 32,
    "start_time": "2022-06-21T07:15:42.099Z"
   },
   {
    "duration": 42,
    "start_time": "2022-06-21T07:15:49.154Z"
   },
   {
    "duration": 33,
    "start_time": "2022-06-21T07:15:56.617Z"
   },
   {
    "duration": 31,
    "start_time": "2022-06-21T07:16:01.753Z"
   },
   {
    "duration": 32,
    "start_time": "2022-06-21T07:16:13.056Z"
   },
   {
    "duration": 31,
    "start_time": "2022-06-21T07:16:19.203Z"
   },
   {
    "duration": 27,
    "start_time": "2022-06-21T07:16:40.944Z"
   },
   {
    "duration": 48,
    "start_time": "2022-06-21T07:16:48.601Z"
   },
   {
    "duration": 4,
    "start_time": "2022-06-21T07:17:03.631Z"
   },
   {
    "duration": 92,
    "start_time": "2022-06-21T07:17:03.639Z"
   },
   {
    "duration": 11,
    "start_time": "2022-06-21T07:17:03.733Z"
   },
   {
    "duration": 169,
    "start_time": "2022-06-21T07:17:03.746Z"
   },
   {
    "duration": 29,
    "start_time": "2022-06-21T07:17:03.917Z"
   },
   {
    "duration": 104,
    "start_time": "2022-06-21T07:17:03.948Z"
   },
   {
    "duration": 19,
    "start_time": "2022-06-21T07:17:04.054Z"
   },
   {
    "duration": 146,
    "start_time": "2022-06-21T07:17:04.075Z"
   },
   {
    "duration": 37,
    "start_time": "2022-06-21T07:17:04.222Z"
   },
   {
    "duration": 27,
    "start_time": "2022-06-21T07:17:04.260Z"
   },
   {
    "duration": 21,
    "start_time": "2022-06-21T07:17:04.289Z"
   },
   {
    "duration": 89,
    "start_time": "2022-06-21T07:17:04.312Z"
   },
   {
    "duration": 27,
    "start_time": "2022-06-21T07:17:04.403Z"
   },
   {
    "duration": 28,
    "start_time": "2022-06-21T07:17:04.432Z"
   },
   {
    "duration": 30,
    "start_time": "2022-06-21T07:17:04.461Z"
   },
   {
    "duration": 12,
    "start_time": "2022-06-21T07:17:07.960Z"
   },
   {
    "duration": 13,
    "start_time": "2022-06-21T07:17:39.810Z"
   },
   {
    "duration": 13,
    "start_time": "2022-06-21T07:18:03.526Z"
   },
   {
    "duration": 8,
    "start_time": "2022-06-21T07:26:56.198Z"
   },
   {
    "duration": 6,
    "start_time": "2022-06-21T07:27:03.778Z"
   },
   {
    "duration": 6,
    "start_time": "2022-06-21T07:27:06.901Z"
   },
   {
    "duration": 12,
    "start_time": "2022-06-21T07:27:13.193Z"
   },
   {
    "duration": 7,
    "start_time": "2022-06-21T07:27:33.224Z"
   },
   {
    "duration": 12,
    "start_time": "2022-06-21T07:27:36.021Z"
   },
   {
    "duration": 13,
    "start_time": "2022-06-21T07:27:55.184Z"
   },
   {
    "duration": 99,
    "start_time": "2022-06-21T07:29:52.948Z"
   },
   {
    "duration": 171,
    "start_time": "2022-06-21T07:32:26.918Z"
   },
   {
    "duration": 158,
    "start_time": "2022-06-21T07:32:48.902Z"
   },
   {
    "duration": 155,
    "start_time": "2022-06-21T07:32:52.563Z"
   },
   {
    "duration": 157,
    "start_time": "2022-06-21T07:32:55.854Z"
   },
   {
    "duration": 173,
    "start_time": "2022-06-21T07:33:06.115Z"
   },
   {
    "duration": 135,
    "start_time": "2022-06-21T07:33:10.665Z"
   },
   {
    "duration": 156,
    "start_time": "2022-06-21T07:33:20.126Z"
   },
   {
    "duration": 144,
    "start_time": "2022-06-21T07:33:28.077Z"
   },
   {
    "duration": 152,
    "start_time": "2022-06-21T07:33:35.838Z"
   },
   {
    "duration": 247,
    "start_time": "2022-06-21T07:33:42.158Z"
   },
   {
    "duration": 163,
    "start_time": "2022-06-21T07:33:48.350Z"
   },
   {
    "duration": 162,
    "start_time": "2022-06-21T07:34:05.853Z"
   },
   {
    "duration": 46,
    "start_time": "2022-06-21T07:38:41.867Z"
   },
   {
    "duration": 6,
    "start_time": "2022-06-21T07:45:19.833Z"
   },
   {
    "duration": 5,
    "start_time": "2022-06-21T07:45:26.075Z"
   },
   {
    "duration": 5,
    "start_time": "2022-06-21T07:45:42.494Z"
   },
   {
    "duration": 9,
    "start_time": "2022-06-21T07:45:57.923Z"
   },
   {
    "duration": 6,
    "start_time": "2022-06-21T07:47:32.462Z"
   },
   {
    "duration": 22,
    "start_time": "2022-06-21T07:47:47.186Z"
   },
   {
    "duration": 21,
    "start_time": "2022-06-21T07:48:10.942Z"
   },
   {
    "duration": 7,
    "start_time": "2022-06-21T07:48:19.309Z"
   },
   {
    "duration": 6,
    "start_time": "2022-06-21T07:48:52.353Z"
   },
   {
    "duration": 6,
    "start_time": "2022-06-21T07:49:06.136Z"
   },
   {
    "duration": 55,
    "start_time": "2022-06-21T07:50:35.615Z"
   },
   {
    "duration": 57,
    "start_time": "2022-06-21T07:50:48.358Z"
   },
   {
    "duration": 3,
    "start_time": "2022-06-21T07:54:47.130Z"
   },
   {
    "duration": 4,
    "start_time": "2022-06-21T07:55:34.783Z"
   },
   {
    "duration": 17,
    "start_time": "2022-06-21T07:55:38.023Z"
   },
   {
    "duration": 11,
    "start_time": "2022-06-21T07:56:15.338Z"
   },
   {
    "duration": 8,
    "start_time": "2022-06-21T07:57:15.440Z"
   },
   {
    "duration": 8,
    "start_time": "2022-06-21T07:57:19.487Z"
   },
   {
    "duration": 6,
    "start_time": "2022-06-21T07:57:33.374Z"
   },
   {
    "duration": 6,
    "start_time": "2022-06-21T08:02:08.659Z"
   },
   {
    "duration": 15,
    "start_time": "2022-06-21T08:02:46.746Z"
   },
   {
    "duration": 25,
    "start_time": "2022-06-21T08:03:37.415Z"
   },
   {
    "duration": 15,
    "start_time": "2022-06-21T08:03:42.293Z"
   },
   {
    "duration": 15,
    "start_time": "2022-06-21T08:03:50.777Z"
   },
   {
    "duration": 5,
    "start_time": "2022-06-21T08:04:21.940Z"
   },
   {
    "duration": 18,
    "start_time": "2022-06-21T08:04:39.648Z"
   },
   {
    "duration": 9,
    "start_time": "2022-06-21T08:06:10.176Z"
   },
   {
    "duration": 9,
    "start_time": "2022-06-21T08:06:23.442Z"
   },
   {
    "duration": 7,
    "start_time": "2022-06-21T08:06:33.040Z"
   },
   {
    "duration": 6,
    "start_time": "2022-06-21T08:06:46.913Z"
   },
   {
    "duration": 15,
    "start_time": "2022-06-21T08:07:23.339Z"
   },
   {
    "duration": 9,
    "start_time": "2022-06-21T08:07:36.847Z"
   },
   {
    "duration": 16,
    "start_time": "2022-06-21T08:08:58.597Z"
   },
   {
    "duration": 11,
    "start_time": "2022-06-21T08:09:31.962Z"
   },
   {
    "duration": 21,
    "start_time": "2022-06-21T08:09:44.521Z"
   },
   {
    "duration": 14,
    "start_time": "2022-06-21T08:09:50.469Z"
   },
   {
    "duration": 17,
    "start_time": "2022-06-21T08:14:01.221Z"
   },
   {
    "duration": 12,
    "start_time": "2022-06-21T08:15:28.073Z"
   },
   {
    "duration": 444,
    "start_time": "2022-06-21T08:30:17.900Z"
   },
   {
    "duration": 13,
    "start_time": "2022-06-21T08:30:25.974Z"
   },
   {
    "duration": 34,
    "start_time": "2022-06-21T08:30:39.473Z"
   },
   {
    "duration": 13,
    "start_time": "2022-06-21T08:30:40.886Z"
   },
   {
    "duration": 23,
    "start_time": "2022-06-21T08:30:59.702Z"
   },
   {
    "duration": 10,
    "start_time": "2022-06-21T08:31:50.791Z"
   },
   {
    "duration": 8,
    "start_time": "2022-06-21T08:32:02.252Z"
   },
   {
    "duration": 14,
    "start_time": "2022-06-21T08:32:14.225Z"
   },
   {
    "duration": 2,
    "start_time": "2022-06-21T08:32:41.357Z"
   },
   {
    "duration": 46,
    "start_time": "2022-06-21T08:32:41.361Z"
   },
   {
    "duration": 10,
    "start_time": "2022-06-21T08:32:41.409Z"
   },
   {
    "duration": 226,
    "start_time": "2022-06-21T08:32:41.421Z"
   },
   {
    "duration": 33,
    "start_time": "2022-06-21T08:32:41.651Z"
   },
   {
    "duration": 112,
    "start_time": "2022-06-21T08:32:41.685Z"
   },
   {
    "duration": 19,
    "start_time": "2022-06-21T08:32:41.799Z"
   },
   {
    "duration": 145,
    "start_time": "2022-06-21T08:32:41.830Z"
   },
   {
    "duration": 20,
    "start_time": "2022-06-21T08:32:41.977Z"
   },
   {
    "duration": 46,
    "start_time": "2022-06-21T08:32:41.998Z"
   },
   {
    "duration": 17,
    "start_time": "2022-06-21T08:32:42.047Z"
   },
   {
    "duration": 10,
    "start_time": "2022-06-21T08:32:50.003Z"
   },
   {
    "duration": 13,
    "start_time": "2022-06-21T08:32:56.272Z"
   },
   {
    "duration": 40,
    "start_time": "2022-06-21T08:32:58.695Z"
   },
   {
    "duration": 6,
    "start_time": "2022-06-21T08:33:14.496Z"
   },
   {
    "duration": 690,
    "start_time": "2022-06-21T08:33:39.192Z"
   },
   {
    "duration": 20,
    "start_time": "2022-06-21T08:34:14.448Z"
   },
   {
    "duration": 23,
    "start_time": "2022-06-21T08:34:32.826Z"
   },
   {
    "duration": 629,
    "start_time": "2022-06-21T08:34:37.091Z"
   },
   {
    "duration": 3,
    "start_time": "2022-06-21T08:34:52.840Z"
   },
   {
    "duration": 51,
    "start_time": "2022-06-21T08:34:52.845Z"
   },
   {
    "duration": 9,
    "start_time": "2022-06-21T08:34:52.898Z"
   },
   {
    "duration": 161,
    "start_time": "2022-06-21T08:34:52.909Z"
   },
   {
    "duration": 24,
    "start_time": "2022-06-21T08:34:53.072Z"
   },
   {
    "duration": 104,
    "start_time": "2022-06-21T08:34:53.098Z"
   },
   {
    "duration": 20,
    "start_time": "2022-06-21T08:34:53.204Z"
   },
   {
    "duration": 154,
    "start_time": "2022-06-21T08:34:53.226Z"
   },
   {
    "duration": 20,
    "start_time": "2022-06-21T08:34:53.382Z"
   },
   {
    "duration": 38,
    "start_time": "2022-06-21T08:34:53.403Z"
   },
   {
    "duration": 11,
    "start_time": "2022-06-21T08:34:53.442Z"
   },
   {
    "duration": 10,
    "start_time": "2022-06-21T08:34:58.465Z"
   },
   {
    "duration": 13,
    "start_time": "2022-06-21T08:35:00.450Z"
   },
   {
    "duration": 765,
    "start_time": "2022-06-21T08:35:04.274Z"
   },
   {
    "duration": 3,
    "start_time": "2022-06-21T08:35:15.913Z"
   },
   {
    "duration": 734,
    "start_time": "2022-06-21T08:35:20.750Z"
   },
   {
    "duration": 31,
    "start_time": "2022-06-21T08:35:39.717Z"
   },
   {
    "duration": 5,
    "start_time": "2022-06-21T08:37:06.579Z"
   },
   {
    "duration": 2,
    "start_time": "2022-06-21T08:37:42.155Z"
   },
   {
    "duration": 55,
    "start_time": "2022-06-21T08:37:42.161Z"
   },
   {
    "duration": 15,
    "start_time": "2022-06-21T08:37:42.218Z"
   },
   {
    "duration": 177,
    "start_time": "2022-06-21T08:37:42.236Z"
   },
   {
    "duration": 34,
    "start_time": "2022-06-21T08:37:42.415Z"
   },
   {
    "duration": 102,
    "start_time": "2022-06-21T08:37:42.450Z"
   },
   {
    "duration": 17,
    "start_time": "2022-06-21T08:37:42.554Z"
   },
   {
    "duration": 153,
    "start_time": "2022-06-21T08:37:42.572Z"
   },
   {
    "duration": 32,
    "start_time": "2022-06-21T08:37:42.727Z"
   },
   {
    "duration": 30,
    "start_time": "2022-06-21T08:37:42.761Z"
   },
   {
    "duration": 15,
    "start_time": "2022-06-21T08:37:42.793Z"
   },
   {
    "duration": 14,
    "start_time": "2022-06-21T08:37:45.998Z"
   },
   {
    "duration": 5,
    "start_time": "2022-06-21T08:37:47.809Z"
   },
   {
    "duration": 18,
    "start_time": "2022-06-21T08:37:51.927Z"
   },
   {
    "duration": 33,
    "start_time": "2022-06-21T08:37:55.608Z"
   },
   {
    "duration": 17,
    "start_time": "2022-06-21T08:38:01.560Z"
   },
   {
    "duration": 158,
    "start_time": "2022-06-21T08:41:18.436Z"
   },
   {
    "duration": 27,
    "start_time": "2022-06-21T08:41:24.225Z"
   },
   {
    "duration": 49,
    "start_time": "2022-06-21T08:41:52.966Z"
   },
   {
    "duration": 79,
    "start_time": "2022-06-21T08:42:00.170Z"
   },
   {
    "duration": 538,
    "start_time": "2022-06-21T08:42:05.017Z"
   },
   {
    "duration": 21,
    "start_time": "2022-06-21T08:42:06.615Z"
   },
   {
    "duration": 24,
    "start_time": "2022-06-21T08:42:47.925Z"
   },
   {
    "duration": 30,
    "start_time": "2022-06-21T08:42:52.799Z"
   },
   {
    "duration": 13,
    "start_time": "2022-06-21T08:42:55.050Z"
   },
   {
    "duration": 695,
    "start_time": "2022-06-21T08:42:59.489Z"
   },
   {
    "duration": 4,
    "start_time": "2022-06-21T08:55:43.617Z"
   },
   {
    "duration": 48,
    "start_time": "2022-06-21T08:55:43.624Z"
   },
   {
    "duration": 10,
    "start_time": "2022-06-21T08:55:43.674Z"
   },
   {
    "duration": 177,
    "start_time": "2022-06-21T08:55:43.687Z"
   },
   {
    "duration": 26,
    "start_time": "2022-06-21T08:55:43.866Z"
   },
   {
    "duration": 110,
    "start_time": "2022-06-21T08:55:43.894Z"
   },
   {
    "duration": 35,
    "start_time": "2022-06-21T08:55:44.006Z"
   },
   {
    "duration": 144,
    "start_time": "2022-06-21T08:55:44.043Z"
   },
   {
    "duration": 21,
    "start_time": "2022-06-21T08:55:44.189Z"
   },
   {
    "duration": 23,
    "start_time": "2022-06-21T08:55:44.212Z"
   },
   {
    "duration": 13,
    "start_time": "2022-06-21T08:55:44.240Z"
   },
   {
    "duration": 11,
    "start_time": "2022-06-21T08:55:48.791Z"
   },
   {
    "duration": 17,
    "start_time": "2022-06-21T08:55:51.185Z"
   },
   {
    "duration": 648,
    "start_time": "2022-06-21T08:55:56.465Z"
   },
   {
    "duration": 10,
    "start_time": "2022-06-21T08:57:13.664Z"
   },
   {
    "duration": 9,
    "start_time": "2022-06-21T08:57:24.239Z"
   },
   {
    "duration": 10,
    "start_time": "2022-06-21T08:58:02.440Z"
   },
   {
    "duration": 3,
    "start_time": "2022-06-21T08:58:54.418Z"
   },
   {
    "duration": 76,
    "start_time": "2022-06-21T08:58:54.425Z"
   },
   {
    "duration": 11,
    "start_time": "2022-06-21T08:58:54.503Z"
   },
   {
    "duration": 201,
    "start_time": "2022-06-21T08:58:54.515Z"
   },
   {
    "duration": 40,
    "start_time": "2022-06-21T08:58:54.718Z"
   },
   {
    "duration": 105,
    "start_time": "2022-06-21T08:58:54.761Z"
   },
   {
    "duration": 18,
    "start_time": "2022-06-21T08:58:54.868Z"
   },
   {
    "duration": 169,
    "start_time": "2022-06-21T08:58:54.887Z"
   },
   {
    "duration": 22,
    "start_time": "2022-06-21T08:58:55.058Z"
   },
   {
    "duration": 21,
    "start_time": "2022-06-21T08:58:55.082Z"
   },
   {
    "duration": 9,
    "start_time": "2022-06-21T08:58:55.105Z"
   },
   {
    "duration": 8,
    "start_time": "2022-06-21T08:59:10.864Z"
   },
   {
    "duration": 14,
    "start_time": "2022-06-21T08:59:12.903Z"
   },
   {
    "duration": 14,
    "start_time": "2022-06-21T08:59:15.188Z"
   },
   {
    "duration": 39,
    "start_time": "2022-06-21T08:59:19.623Z"
   },
   {
    "duration": 19,
    "start_time": "2022-06-21T08:59:23.847Z"
   },
   {
    "duration": 23,
    "start_time": "2022-06-21T08:59:27.226Z"
   },
   {
    "duration": 7,
    "start_time": "2022-06-21T08:59:57.460Z"
   },
   {
    "duration": 11,
    "start_time": "2022-06-21T09:04:16.102Z"
   },
   {
    "duration": 15,
    "start_time": "2022-06-21T09:04:53.201Z"
   },
   {
    "duration": 53,
    "start_time": "2022-06-21T09:07:20.238Z"
   },
   {
    "duration": 66,
    "start_time": "2022-06-21T09:07:40.952Z"
   },
   {
    "duration": 61,
    "start_time": "2022-06-21T09:07:53.117Z"
   },
   {
    "duration": 665,
    "start_time": "2022-06-21T09:07:57.996Z"
   },
   {
    "duration": 687,
    "start_time": "2022-06-21T09:08:33.152Z"
   },
   {
    "duration": 658,
    "start_time": "2022-06-21T09:08:46.353Z"
   },
   {
    "duration": 9,
    "start_time": "2022-06-21T09:09:55.999Z"
   },
   {
    "duration": 913,
    "start_time": "2022-06-21T09:10:08.826Z"
   },
   {
    "duration": 961,
    "start_time": "2022-06-21T09:10:27.288Z"
   },
   {
    "duration": 95285,
    "start_time": "2022-06-21T09:12:23.253Z"
   },
   {
    "duration": 0,
    "start_time": "2022-06-21T09:13:58.539Z"
   },
   {
    "duration": 0,
    "start_time": "2022-06-21T09:13:58.541Z"
   },
   {
    "duration": 0,
    "start_time": "2022-06-21T09:13:58.542Z"
   },
   {
    "duration": 0,
    "start_time": "2022-06-21T09:13:58.543Z"
   },
   {
    "duration": 0,
    "start_time": "2022-06-21T09:13:58.544Z"
   },
   {
    "duration": 0,
    "start_time": "2022-06-21T09:13:58.545Z"
   },
   {
    "duration": 0,
    "start_time": "2022-06-21T09:13:58.546Z"
   },
   {
    "duration": 0,
    "start_time": "2022-06-21T09:13:58.548Z"
   },
   {
    "duration": 0,
    "start_time": "2022-06-21T09:13:58.549Z"
   },
   {
    "duration": 0,
    "start_time": "2022-06-21T09:13:58.550Z"
   },
   {
    "duration": 0,
    "start_time": "2022-06-21T09:13:58.551Z"
   },
   {
    "duration": 0,
    "start_time": "2022-06-21T09:13:58.552Z"
   },
   {
    "duration": 0,
    "start_time": "2022-06-21T09:13:58.553Z"
   },
   {
    "duration": 0,
    "start_time": "2022-06-21T09:13:58.554Z"
   },
   {
    "duration": 9,
    "start_time": "2022-06-21T09:14:05.885Z"
   },
   {
    "duration": 2,
    "start_time": "2022-06-21T09:14:14.308Z"
   },
   {
    "duration": 53,
    "start_time": "2022-06-21T09:14:14.314Z"
   },
   {
    "duration": 10,
    "start_time": "2022-06-21T09:14:14.369Z"
   },
   {
    "duration": 163,
    "start_time": "2022-06-21T09:14:14.380Z"
   },
   {
    "duration": 24,
    "start_time": "2022-06-21T09:14:14.546Z"
   },
   {
    "duration": 102,
    "start_time": "2022-06-21T09:14:14.572Z"
   },
   {
    "duration": 19,
    "start_time": "2022-06-21T09:14:14.676Z"
   },
   {
    "duration": 159,
    "start_time": "2022-06-21T09:14:14.697Z"
   },
   {
    "duration": 21,
    "start_time": "2022-06-21T09:14:14.858Z"
   },
   {
    "duration": 22,
    "start_time": "2022-06-21T09:14:14.881Z"
   },
   {
    "duration": 22,
    "start_time": "2022-06-21T09:14:14.906Z"
   },
   {
    "duration": 30,
    "start_time": "2022-06-21T09:14:14.931Z"
   },
   {
    "duration": 12,
    "start_time": "2022-06-21T09:14:14.963Z"
   },
   {
    "duration": 10,
    "start_time": "2022-06-21T09:14:25.984Z"
   },
   {
    "duration": 9,
    "start_time": "2022-06-21T09:14:52.958Z"
   },
   {
    "duration": 98061,
    "start_time": "2022-06-21T09:15:19.208Z"
   },
   {
    "duration": 0,
    "start_time": "2022-06-21T09:16:57.272Z"
   },
   {
    "duration": 1169,
    "start_time": "2022-06-21T09:18:47.246Z"
   },
   {
    "duration": 54,
    "start_time": "2022-06-21T09:22:46.543Z"
   },
   {
    "duration": 9,
    "start_time": "2022-06-21T10:25:22.095Z"
   },
   {
    "duration": 13,
    "start_time": "2022-06-21T10:28:41.376Z"
   },
   {
    "duration": 2836,
    "start_time": "2022-06-21T10:29:17.019Z"
   },
   {
    "duration": 238,
    "start_time": "2022-06-21T10:29:29.404Z"
   },
   {
    "duration": 9,
    "start_time": "2022-06-21T10:29:57.190Z"
   },
   {
    "duration": 3,
    "start_time": "2022-06-21T10:30:06.956Z"
   },
   {
    "duration": 71,
    "start_time": "2022-06-21T10:30:06.977Z"
   },
   {
    "duration": 10,
    "start_time": "2022-06-21T10:30:07.050Z"
   },
   {
    "duration": 204,
    "start_time": "2022-06-21T10:30:07.062Z"
   },
   {
    "duration": 27,
    "start_time": "2022-06-21T10:30:07.268Z"
   },
   {
    "duration": 123,
    "start_time": "2022-06-21T10:30:07.297Z"
   },
   {
    "duration": 30,
    "start_time": "2022-06-21T10:30:07.429Z"
   },
   {
    "duration": 182,
    "start_time": "2022-06-21T10:30:07.461Z"
   },
   {
    "duration": 23,
    "start_time": "2022-06-21T10:30:07.644Z"
   },
   {
    "duration": 35,
    "start_time": "2022-06-21T10:30:07.669Z"
   },
   {
    "duration": 10,
    "start_time": "2022-06-21T10:30:07.706Z"
   },
   {
    "duration": 44,
    "start_time": "2022-06-21T10:30:07.718Z"
   },
   {
    "duration": 65,
    "start_time": "2022-06-21T10:30:14.271Z"
   },
   {
    "duration": 9,
    "start_time": "2022-06-21T10:30:15.490Z"
   },
   {
    "duration": 12,
    "start_time": "2022-06-21T10:30:23.801Z"
   },
   {
    "duration": 3,
    "start_time": "2022-06-21T10:32:11.842Z"
   },
   {
    "duration": 6,
    "start_time": "2022-06-21T10:32:17.574Z"
   },
   {
    "duration": 215,
    "start_time": "2022-06-21T10:32:35.321Z"
   },
   {
    "duration": 16,
    "start_time": "2022-06-21T10:32:49.581Z"
   },
   {
    "duration": 5,
    "start_time": "2022-06-21T10:33:07.338Z"
   },
   {
    "duration": 848,
    "start_time": "2022-06-21T10:33:25.798Z"
   },
   {
    "duration": 823,
    "start_time": "2022-06-21T10:34:06.192Z"
   },
   {
    "duration": 1006,
    "start_time": "2022-06-21T10:34:15.074Z"
   },
   {
    "duration": 4,
    "start_time": "2022-06-21T10:35:24.538Z"
   },
   {
    "duration": 18,
    "start_time": "2022-06-21T10:35:39.823Z"
   },
   {
    "duration": 8,
    "start_time": "2022-06-21T10:35:43.743Z"
   },
   {
    "duration": 9,
    "start_time": "2022-06-21T10:35:55.841Z"
   },
   {
    "duration": 4,
    "start_time": "2022-06-21T10:36:04.092Z"
   },
   {
    "duration": 5,
    "start_time": "2022-06-21T10:36:22.800Z"
   },
   {
    "duration": 224,
    "start_time": "2022-06-21T10:39:15.645Z"
   },
   {
    "duration": 18,
    "start_time": "2022-06-21T10:39:27.821Z"
   },
   {
    "duration": 60,
    "start_time": "2022-06-21T10:40:19.514Z"
   },
   {
    "duration": 1192,
    "start_time": "2022-06-21T10:40:28.205Z"
   },
   {
    "duration": 1610,
    "start_time": "2022-06-21T10:41:36.659Z"
   },
   {
    "duration": 14,
    "start_time": "2022-06-21T10:41:41.864Z"
   },
   {
    "duration": 9,
    "start_time": "2022-06-21T10:42:07.614Z"
   },
   {
    "duration": 1641,
    "start_time": "2022-06-21T10:42:26.753Z"
   },
   {
    "duration": 13,
    "start_time": "2022-06-21T10:42:30.083Z"
   },
   {
    "duration": 3,
    "start_time": "2022-06-21T10:42:37.207Z"
   },
   {
    "duration": 73,
    "start_time": "2022-06-21T10:42:37.212Z"
   },
   {
    "duration": 15,
    "start_time": "2022-06-21T10:42:37.287Z"
   },
   {
    "duration": 208,
    "start_time": "2022-06-21T10:42:37.304Z"
   },
   {
    "duration": 39,
    "start_time": "2022-06-21T10:42:37.514Z"
   },
   {
    "duration": 101,
    "start_time": "2022-06-21T10:42:37.555Z"
   },
   {
    "duration": 17,
    "start_time": "2022-06-21T10:42:37.658Z"
   },
   {
    "duration": 161,
    "start_time": "2022-06-21T10:42:37.677Z"
   },
   {
    "duration": 23,
    "start_time": "2022-06-21T10:42:37.840Z"
   },
   {
    "duration": 25,
    "start_time": "2022-06-21T10:42:37.865Z"
   },
   {
    "duration": 11,
    "start_time": "2022-06-21T10:42:37.892Z"
   },
   {
    "duration": 16,
    "start_time": "2022-06-21T10:42:45.686Z"
   },
   {
    "duration": 436,
    "start_time": "2022-06-21T10:42:49.182Z"
   },
   {
    "duration": 15,
    "start_time": "2022-06-21T10:42:51.530Z"
   },
   {
    "duration": 9,
    "start_time": "2022-06-21T10:43:05.510Z"
   },
   {
    "duration": 7,
    "start_time": "2022-06-21T10:43:40.748Z"
   },
   {
    "duration": 3,
    "start_time": "2022-06-21T10:44:30.785Z"
   },
   {
    "duration": 67,
    "start_time": "2022-06-21T10:44:30.790Z"
   },
   {
    "duration": 10,
    "start_time": "2022-06-21T10:44:30.859Z"
   },
   {
    "duration": 167,
    "start_time": "2022-06-21T10:44:30.871Z"
   },
   {
    "duration": 28,
    "start_time": "2022-06-21T10:44:31.040Z"
   },
   {
    "duration": 121,
    "start_time": "2022-06-21T10:44:31.070Z"
   },
   {
    "duration": 20,
    "start_time": "2022-06-21T10:44:31.193Z"
   },
   {
    "duration": 178,
    "start_time": "2022-06-21T10:44:31.214Z"
   },
   {
    "duration": 21,
    "start_time": "2022-06-21T10:44:31.394Z"
   },
   {
    "duration": 29,
    "start_time": "2022-06-21T10:44:31.427Z"
   },
   {
    "duration": 12,
    "start_time": "2022-06-21T10:44:31.458Z"
   },
   {
    "duration": 69,
    "start_time": "2022-06-21T10:44:31.472Z"
   },
   {
    "duration": 411,
    "start_time": "2022-06-21T10:44:41.751Z"
   },
   {
    "duration": 7,
    "start_time": "2022-06-21T10:44:44.740Z"
   },
   {
    "duration": 12,
    "start_time": "2022-06-21T10:45:06.645Z"
   },
   {
    "duration": 10,
    "start_time": "2022-06-21T10:45:20.610Z"
   },
   {
    "duration": 9,
    "start_time": "2022-06-21T10:45:36.913Z"
   },
   {
    "duration": 5,
    "start_time": "2022-06-21T10:45:48.540Z"
   },
   {
    "duration": 59,
    "start_time": "2022-06-21T10:45:48.547Z"
   },
   {
    "duration": 13,
    "start_time": "2022-06-21T10:45:48.608Z"
   },
   {
    "duration": 169,
    "start_time": "2022-06-21T10:45:48.624Z"
   },
   {
    "duration": 40,
    "start_time": "2022-06-21T10:45:48.796Z"
   },
   {
    "duration": 92,
    "start_time": "2022-06-21T10:45:48.838Z"
   },
   {
    "duration": 24,
    "start_time": "2022-06-21T10:45:48.932Z"
   },
   {
    "duration": 147,
    "start_time": "2022-06-21T10:45:48.958Z"
   },
   {
    "duration": 28,
    "start_time": "2022-06-21T10:45:49.107Z"
   },
   {
    "duration": 24,
    "start_time": "2022-06-21T10:45:49.138Z"
   },
   {
    "duration": 9,
    "start_time": "2022-06-21T10:45:49.164Z"
   },
   {
    "duration": 11,
    "start_time": "2022-06-21T10:45:49.175Z"
   },
   {
    "duration": 476,
    "start_time": "2022-06-21T10:45:49.188Z"
   },
   {
    "duration": 8,
    "start_time": "2022-06-21T10:45:49.667Z"
   },
   {
    "duration": 30,
    "start_time": "2022-06-21T10:45:49.676Z"
   },
   {
    "duration": 3758,
    "start_time": "2022-06-21T10:46:05.438Z"
   },
   {
    "duration": 6,
    "start_time": "2022-06-21T10:46:19.292Z"
   },
   {
    "duration": 4,
    "start_time": "2022-06-21T10:46:42.637Z"
   },
   {
    "duration": 66,
    "start_time": "2022-06-21T10:46:42.643Z"
   },
   {
    "duration": 10,
    "start_time": "2022-06-21T10:46:42.710Z"
   },
   {
    "duration": 176,
    "start_time": "2022-06-21T10:46:42.722Z"
   },
   {
    "duration": 28,
    "start_time": "2022-06-21T10:46:42.899Z"
   },
   {
    "duration": 97,
    "start_time": "2022-06-21T10:46:42.942Z"
   },
   {
    "duration": 21,
    "start_time": "2022-06-21T10:46:43.040Z"
   },
   {
    "duration": 181,
    "start_time": "2022-06-21T10:46:43.062Z"
   },
   {
    "duration": 20,
    "start_time": "2022-06-21T10:46:43.246Z"
   },
   {
    "duration": 20,
    "start_time": "2022-06-21T10:46:43.267Z"
   },
   {
    "duration": 10,
    "start_time": "2022-06-21T10:46:43.289Z"
   },
   {
    "duration": 40,
    "start_time": "2022-06-21T10:46:43.300Z"
   },
   {
    "duration": 416,
    "start_time": "2022-06-21T10:46:43.342Z"
   },
   {
    "duration": 6,
    "start_time": "2022-06-21T10:46:43.760Z"
   },
   {
    "duration": 11,
    "start_time": "2022-06-21T10:46:43.768Z"
   },
   {
    "duration": 12,
    "start_time": "2022-06-21T10:46:56.538Z"
   },
   {
    "duration": 2501,
    "start_time": "2022-06-21T10:47:20.685Z"
   },
   {
    "duration": 7,
    "start_time": "2022-06-21T10:47:26.074Z"
   },
   {
    "duration": 10,
    "start_time": "2022-06-21T10:47:36.578Z"
   },
   {
    "duration": 14,
    "start_time": "2022-06-21T10:47:52.177Z"
   },
   {
    "duration": 281,
    "start_time": "2022-06-21T10:48:32.101Z"
   },
   {
    "duration": 15,
    "start_time": "2022-06-21T10:48:34.018Z"
   },
   {
    "duration": 7,
    "start_time": "2022-06-21T10:48:39.541Z"
   },
   {
    "duration": 80,
    "start_time": "2022-06-21T10:50:06.512Z"
   },
   {
    "duration": 114,
    "start_time": "2022-06-21T10:55:37.029Z"
   },
   {
    "duration": 11,
    "start_time": "2022-06-21T10:57:27.013Z"
   },
   {
    "duration": 18,
    "start_time": "2022-06-21T10:57:36.290Z"
   },
   {
    "duration": 14,
    "start_time": "2022-06-21T10:58:06.446Z"
   },
   {
    "duration": 16,
    "start_time": "2022-06-21T10:58:14.005Z"
   },
   {
    "duration": 3,
    "start_time": "2022-06-21T10:58:31.706Z"
   },
   {
    "duration": 86,
    "start_time": "2022-06-21T10:58:31.713Z"
   },
   {
    "duration": 11,
    "start_time": "2022-06-21T10:58:31.801Z"
   },
   {
    "duration": 188,
    "start_time": "2022-06-21T10:58:31.813Z"
   },
   {
    "duration": 43,
    "start_time": "2022-06-21T10:58:32.003Z"
   },
   {
    "duration": 117,
    "start_time": "2022-06-21T10:58:32.047Z"
   },
   {
    "duration": 19,
    "start_time": "2022-06-21T10:58:32.165Z"
   },
   {
    "duration": 177,
    "start_time": "2022-06-21T10:58:32.186Z"
   },
   {
    "duration": 19,
    "start_time": "2022-06-21T10:58:32.365Z"
   },
   {
    "duration": 55,
    "start_time": "2022-06-21T10:58:32.386Z"
   },
   {
    "duration": 23,
    "start_time": "2022-06-21T10:58:32.444Z"
   },
   {
    "duration": 34,
    "start_time": "2022-06-21T10:58:32.468Z"
   },
   {
    "duration": 449,
    "start_time": "2022-06-21T10:58:32.504Z"
   },
   {
    "duration": 6,
    "start_time": "2022-06-21T10:58:32.954Z"
   },
   {
    "duration": 35,
    "start_time": "2022-06-21T10:58:32.962Z"
   },
   {
    "duration": 2187,
    "start_time": "2022-06-21T10:58:32.999Z"
   },
   {
    "duration": 5,
    "start_time": "2022-06-21T10:58:35.188Z"
   },
   {
    "duration": 30,
    "start_time": "2022-06-21T10:58:35.195Z"
   },
   {
    "duration": 323,
    "start_time": "2022-06-21T10:58:35.226Z"
   },
   {
    "duration": 9,
    "start_time": "2022-06-21T10:58:35.550Z"
   },
   {
    "duration": 104,
    "start_time": "2022-06-21T10:58:35.560Z"
   },
   {
    "duration": 29,
    "start_time": "2022-06-21T10:58:35.666Z"
   },
   {
    "duration": 44,
    "start_time": "2022-06-21T10:58:35.697Z"
   },
   {
    "duration": 173,
    "start_time": "2022-06-21T10:58:35.743Z"
   },
   {
    "duration": 21,
    "start_time": "2022-06-21T10:58:35.918Z"
   },
   {
    "duration": 28,
    "start_time": "2022-06-21T10:58:35.941Z"
   },
   {
    "duration": 126,
    "start_time": "2022-06-21T10:58:35.970Z"
   },
   {
    "duration": 54,
    "start_time": "2022-06-21T10:58:36.098Z"
   },
   {
    "duration": 42,
    "start_time": "2022-06-21T10:58:36.155Z"
   },
   {
    "duration": 54,
    "start_time": "2022-06-21T10:58:36.198Z"
   },
   {
    "duration": 10,
    "start_time": "2022-06-21T10:58:36.253Z"
   },
   {
    "duration": 16,
    "start_time": "2022-06-21T10:58:36.265Z"
   },
   {
    "duration": 15,
    "start_time": "2022-06-21T10:58:36.283Z"
   },
   {
    "duration": 10,
    "start_time": "2022-06-21T10:58:36.300Z"
   },
   {
    "duration": 4,
    "start_time": "2022-06-21T10:58:36.312Z"
   },
   {
    "duration": 30,
    "start_time": "2022-06-21T10:58:36.317Z"
   },
   {
    "duration": 4,
    "start_time": "2022-06-21T10:58:36.349Z"
   },
   {
    "duration": 9,
    "start_time": "2022-06-21T10:58:36.354Z"
   },
   {
    "duration": 19,
    "start_time": "2022-06-21T10:58:36.364Z"
   },
   {
    "duration": 28,
    "start_time": "2022-06-21T10:58:36.385Z"
   },
   {
    "duration": 26,
    "start_time": "2022-06-21T10:58:36.414Z"
   },
   {
    "duration": 130,
    "start_time": "2022-06-21T10:58:36.442Z"
   },
   {
    "duration": 17,
    "start_time": "2022-06-21T10:58:36.574Z"
   },
   {
    "duration": 40,
    "start_time": "2022-06-21T10:58:36.593Z"
   },
   {
    "duration": 23,
    "start_time": "2022-06-21T10:58:36.637Z"
   },
   {
    "duration": 13,
    "start_time": "2022-06-21T10:58:36.662Z"
   },
   {
    "duration": 22,
    "start_time": "2022-06-21T10:58:36.677Z"
   },
   {
    "duration": 40,
    "start_time": "2022-06-21T10:58:36.700Z"
   },
   {
    "duration": 5,
    "start_time": "2022-06-21T10:58:36.742Z"
   },
   {
    "duration": 24,
    "start_time": "2022-06-21T10:58:36.749Z"
   },
   {
    "duration": 29,
    "start_time": "2022-06-21T10:58:36.775Z"
   },
   {
    "duration": 10,
    "start_time": "2022-06-21T10:58:36.805Z"
   },
   {
    "duration": 8,
    "start_time": "2022-06-21T10:58:36.817Z"
   },
   {
    "duration": 454,
    "start_time": "2022-06-21T10:58:36.830Z"
   },
   {
    "duration": 21,
    "start_time": "2022-06-21T10:58:37.286Z"
   },
   {
    "duration": 8,
    "start_time": "2022-06-21T10:58:37.331Z"
   },
   {
    "duration": 12,
    "start_time": "2022-06-21T10:58:37.345Z"
   },
   {
    "duration": 15,
    "start_time": "2022-06-21T10:58:37.358Z"
   },
   {
    "duration": 9,
    "start_time": "2022-06-21T10:58:37.375Z"
   },
   {
    "duration": 17,
    "start_time": "2022-06-21T10:58:37.385Z"
   },
   {
    "duration": 21,
    "start_time": "2022-06-21T10:58:37.404Z"
   },
   {
    "duration": 6,
    "start_time": "2022-06-21T11:02:42.396Z"
   },
   {
    "duration": 18,
    "start_time": "2022-06-21T11:03:17.024Z"
   },
   {
    "duration": 31,
    "start_time": "2022-06-21T11:05:49.547Z"
   },
   {
    "duration": 40,
    "start_time": "2022-06-21T11:05:59.947Z"
   },
   {
    "duration": 32,
    "start_time": "2022-06-21T11:06:52.612Z"
   },
   {
    "duration": 6,
    "start_time": "2022-06-21T11:07:05.720Z"
   },
   {
    "duration": 6,
    "start_time": "2022-06-21T11:07:29.338Z"
   },
   {
    "duration": 9,
    "start_time": "2022-06-21T11:20:10.571Z"
   },
   {
    "duration": 9,
    "start_time": "2022-06-21T11:21:29.375Z"
   },
   {
    "duration": 10,
    "start_time": "2022-06-21T11:22:32.880Z"
   },
   {
    "duration": 9,
    "start_time": "2022-06-21T11:22:42.300Z"
   },
   {
    "duration": 10,
    "start_time": "2022-06-21T11:23:46.791Z"
   },
   {
    "duration": 33,
    "start_time": "2022-06-21T11:24:58.118Z"
   },
   {
    "duration": 11,
    "start_time": "2022-06-21T11:25:08.348Z"
   },
   {
    "duration": 30,
    "start_time": "2022-06-21T11:29:52.326Z"
   },
   {
    "duration": 11,
    "start_time": "2022-06-21T11:29:52.358Z"
   },
   {
    "duration": 8,
    "start_time": "2022-06-21T11:29:52.370Z"
   },
   {
    "duration": 13,
    "start_time": "2022-06-21T11:29:52.380Z"
   },
   {
    "duration": 9,
    "start_time": "2022-06-21T11:29:52.394Z"
   },
   {
    "duration": 12,
    "start_time": "2022-06-21T11:29:52.426Z"
   },
   {
    "duration": 17,
    "start_time": "2022-06-21T11:29:52.440Z"
   },
   {
    "duration": 4,
    "start_time": "2022-06-21T11:29:52.459Z"
   },
   {
    "duration": 7,
    "start_time": "2022-06-21T11:29:52.464Z"
   },
   {
    "duration": 17,
    "start_time": "2022-06-21T11:29:52.474Z"
   },
   {
    "duration": 49,
    "start_time": "2022-06-21T11:29:52.492Z"
   },
   {
    "duration": 12,
    "start_time": "2022-06-21T11:29:52.543Z"
   },
   {
    "duration": 141,
    "start_time": "2022-06-21T11:29:52.557Z"
   },
   {
    "duration": 19,
    "start_time": "2022-06-21T11:29:52.699Z"
   },
   {
    "duration": 26,
    "start_time": "2022-06-21T11:29:52.727Z"
   },
   {
    "duration": 14,
    "start_time": "2022-06-21T11:29:52.755Z"
   },
   {
    "duration": 42,
    "start_time": "2022-06-21T11:29:52.770Z"
   },
   {
    "duration": 35,
    "start_time": "2022-06-21T11:29:52.813Z"
   },
   {
    "duration": 25,
    "start_time": "2022-06-21T11:29:52.850Z"
   },
   {
    "duration": 4,
    "start_time": "2022-06-21T11:29:52.877Z"
   },
   {
    "duration": 28,
    "start_time": "2022-06-21T11:29:52.883Z"
   },
   {
    "duration": 11,
    "start_time": "2022-06-21T11:29:52.913Z"
   },
   {
    "duration": 37,
    "start_time": "2022-06-21T11:29:52.926Z"
   },
   {
    "duration": 21,
    "start_time": "2022-06-21T11:29:52.965Z"
   },
   {
    "duration": 598,
    "start_time": "2022-06-21T11:29:52.988Z"
   },
   {
    "duration": 21,
    "start_time": "2022-06-21T11:29:53.587Z"
   },
   {
    "duration": 28,
    "start_time": "2022-06-21T11:29:53.609Z"
   },
   {
    "duration": 8,
    "start_time": "2022-06-21T11:29:53.642Z"
   },
   {
    "duration": 12,
    "start_time": "2022-06-21T11:29:53.652Z"
   },
   {
    "duration": 9,
    "start_time": "2022-06-21T11:29:53.666Z"
   },
   {
    "duration": 13,
    "start_time": "2022-06-21T11:29:53.676Z"
   },
   {
    "duration": 21,
    "start_time": "2022-06-21T11:29:53.691Z"
   },
   {
    "duration": 9,
    "start_time": "2022-06-21T11:31:39.909Z"
   },
   {
    "duration": 7,
    "start_time": "2022-06-21T11:32:23.902Z"
   },
   {
    "duration": 12,
    "start_time": "2022-06-21T11:32:47.178Z"
   },
   {
    "duration": 7,
    "start_time": "2022-06-21T11:33:59.490Z"
   },
   {
    "duration": 6,
    "start_time": "2022-06-21T11:34:09.894Z"
   },
   {
    "duration": 6,
    "start_time": "2022-06-21T11:34:31.190Z"
   },
   {
    "duration": 7,
    "start_time": "2022-06-21T11:34:36.438Z"
   },
   {
    "duration": 3,
    "start_time": "2022-06-21T11:34:51.524Z"
   },
   {
    "duration": 71,
    "start_time": "2022-06-21T11:34:51.532Z"
   },
   {
    "duration": 13,
    "start_time": "2022-06-21T11:34:51.606Z"
   },
   {
    "duration": 188,
    "start_time": "2022-06-21T11:34:51.621Z"
   },
   {
    "duration": 40,
    "start_time": "2022-06-21T11:34:51.811Z"
   },
   {
    "duration": 101,
    "start_time": "2022-06-21T11:34:51.853Z"
   },
   {
    "duration": 19,
    "start_time": "2022-06-21T11:34:51.956Z"
   },
   {
    "duration": 165,
    "start_time": "2022-06-21T11:34:51.977Z"
   },
   {
    "duration": 19,
    "start_time": "2022-06-21T11:34:52.144Z"
   },
   {
    "duration": 20,
    "start_time": "2022-06-21T11:34:52.165Z"
   },
   {
    "duration": 9,
    "start_time": "2022-06-21T11:34:52.187Z"
   },
   {
    "duration": 14,
    "start_time": "2022-06-21T11:34:52.198Z"
   },
   {
    "duration": 440,
    "start_time": "2022-06-21T11:34:52.214Z"
   },
   {
    "duration": 6,
    "start_time": "2022-06-21T11:34:52.657Z"
   },
   {
    "duration": 12,
    "start_time": "2022-06-21T11:34:52.665Z"
   },
   {
    "duration": 2236,
    "start_time": "2022-06-21T11:34:52.679Z"
   },
   {
    "duration": 21,
    "start_time": "2022-06-21T11:34:54.917Z"
   },
   {
    "duration": 12,
    "start_time": "2022-06-21T11:34:54.940Z"
   },
   {
    "duration": 301,
    "start_time": "2022-06-21T11:34:54.954Z"
   },
   {
    "duration": 7,
    "start_time": "2022-06-21T11:34:55.257Z"
   },
   {
    "duration": 96,
    "start_time": "2022-06-21T11:34:55.266Z"
   },
   {
    "duration": 26,
    "start_time": "2022-06-21T11:34:55.364Z"
   },
   {
    "duration": 40,
    "start_time": "2022-06-21T11:34:55.392Z"
   },
   {
    "duration": 163,
    "start_time": "2022-06-21T11:34:55.434Z"
   },
   {
    "duration": 10,
    "start_time": "2022-06-21T11:34:55.598Z"
   },
   {
    "duration": 88,
    "start_time": "2022-06-21T11:34:55.610Z"
   },
   {
    "duration": 57,
    "start_time": "2022-06-21T11:34:55.699Z"
   },
   {
    "duration": 39,
    "start_time": "2022-06-21T11:34:55.758Z"
   },
   {
    "duration": 58,
    "start_time": "2022-06-21T11:34:55.801Z"
   },
   {
    "duration": 13,
    "start_time": "2022-06-21T11:34:55.861Z"
   },
   {
    "duration": 7,
    "start_time": "2022-06-21T11:34:55.875Z"
   },
   {
    "duration": 18,
    "start_time": "2022-06-21T11:34:55.883Z"
   },
   {
    "duration": 8,
    "start_time": "2022-06-21T11:34:55.902Z"
   },
   {
    "duration": 31,
    "start_time": "2022-06-21T11:34:55.911Z"
   },
   {
    "duration": 10,
    "start_time": "2022-06-21T11:34:55.944Z"
   },
   {
    "duration": 19,
    "start_time": "2022-06-21T11:34:55.955Z"
   },
   {
    "duration": 10,
    "start_time": "2022-06-21T11:34:55.976Z"
   },
   {
    "duration": 7,
    "start_time": "2022-06-21T11:34:55.988Z"
   },
   {
    "duration": 18,
    "start_time": "2022-06-21T11:34:55.996Z"
   },
   {
    "duration": 31,
    "start_time": "2022-06-21T11:34:56.016Z"
   },
   {
    "duration": 13,
    "start_time": "2022-06-21T11:34:56.049Z"
   },
   {
    "duration": 145,
    "start_time": "2022-06-21T11:34:56.063Z"
   },
   {
    "duration": 23,
    "start_time": "2022-06-21T11:34:56.209Z"
   },
   {
    "duration": 36,
    "start_time": "2022-06-21T11:34:56.235Z"
   },
   {
    "duration": 24,
    "start_time": "2022-06-21T11:34:56.273Z"
   },
   {
    "duration": 11,
    "start_time": "2022-06-21T11:34:56.298Z"
   },
   {
    "duration": 20,
    "start_time": "2022-06-21T11:34:56.311Z"
   },
   {
    "duration": 19,
    "start_time": "2022-06-21T11:34:56.342Z"
   },
   {
    "duration": 4,
    "start_time": "2022-06-21T11:34:56.363Z"
   },
   {
    "duration": 18,
    "start_time": "2022-06-21T11:34:56.368Z"
   },
   {
    "duration": 11,
    "start_time": "2022-06-21T11:34:56.388Z"
   },
   {
    "duration": 9,
    "start_time": "2022-06-21T11:34:56.401Z"
   },
   {
    "duration": 6,
    "start_time": "2022-06-21T11:34:56.412Z"
   },
   {
    "duration": 479,
    "start_time": "2022-06-21T11:34:56.419Z"
   },
   {
    "duration": 40,
    "start_time": "2022-06-21T11:34:56.900Z"
   },
   {
    "duration": 5,
    "start_time": "2022-06-21T11:34:56.942Z"
   },
   {
    "duration": 15,
    "start_time": "2022-06-21T11:34:56.949Z"
   },
   {
    "duration": 15,
    "start_time": "2022-06-21T11:34:56.966Z"
   },
   {
    "duration": 17,
    "start_time": "2022-06-21T11:34:56.983Z"
   },
   {
    "duration": 15,
    "start_time": "2022-06-21T11:34:57.002Z"
   },
   {
    "duration": 27,
    "start_time": "2022-06-21T11:34:57.018Z"
   },
   {
    "duration": 5,
    "start_time": "2022-06-21T11:35:19.017Z"
   },
   {
    "duration": 3,
    "start_time": "2022-06-21T11:35:40.901Z"
   },
   {
    "duration": 59,
    "start_time": "2022-06-21T11:35:40.908Z"
   },
   {
    "duration": 13,
    "start_time": "2022-06-21T11:35:40.969Z"
   },
   {
    "duration": 172,
    "start_time": "2022-06-21T11:35:40.984Z"
   },
   {
    "duration": 25,
    "start_time": "2022-06-21T11:35:41.159Z"
   },
   {
    "duration": 102,
    "start_time": "2022-06-21T11:35:41.186Z"
   },
   {
    "duration": 18,
    "start_time": "2022-06-21T11:35:41.289Z"
   },
   {
    "duration": 178,
    "start_time": "2022-06-21T11:35:41.309Z"
   },
   {
    "duration": 28,
    "start_time": "2022-06-21T11:35:41.489Z"
   },
   {
    "duration": 28,
    "start_time": "2022-06-21T11:35:41.519Z"
   },
   {
    "duration": 13,
    "start_time": "2022-06-21T11:35:41.551Z"
   },
   {
    "duration": 17,
    "start_time": "2022-06-21T11:35:41.566Z"
   },
   {
    "duration": 494,
    "start_time": "2022-06-21T11:35:41.585Z"
   },
   {
    "duration": 7,
    "start_time": "2022-06-21T11:35:42.081Z"
   },
   {
    "duration": 9,
    "start_time": "2022-06-21T11:35:42.089Z"
   },
   {
    "duration": 2387,
    "start_time": "2022-06-21T11:35:42.099Z"
   },
   {
    "duration": 6,
    "start_time": "2022-06-21T11:35:44.487Z"
   },
   {
    "duration": 17,
    "start_time": "2022-06-21T11:35:44.495Z"
   },
   {
    "duration": 354,
    "start_time": "2022-06-21T11:35:44.513Z"
   },
   {
    "duration": 6,
    "start_time": "2022-06-21T11:35:44.869Z"
   },
   {
    "duration": 81,
    "start_time": "2022-06-21T11:35:44.877Z"
   },
   {
    "duration": 25,
    "start_time": "2022-06-21T11:35:44.960Z"
   },
   {
    "duration": 24,
    "start_time": "2022-06-21T11:35:44.986Z"
   },
   {
    "duration": 197,
    "start_time": "2022-06-21T11:35:45.012Z"
   },
   {
    "duration": 26,
    "start_time": "2022-06-21T11:35:45.210Z"
   },
   {
    "duration": 82,
    "start_time": "2022-06-21T11:35:45.237Z"
   },
   {
    "duration": 52,
    "start_time": "2022-06-21T11:35:45.320Z"
   },
   {
    "duration": 43,
    "start_time": "2022-06-21T11:35:45.373Z"
   },
   {
    "duration": 36,
    "start_time": "2022-06-21T11:35:45.428Z"
   },
   {
    "duration": 13,
    "start_time": "2022-06-21T11:35:45.465Z"
   },
   {
    "duration": 18,
    "start_time": "2022-06-21T11:35:45.480Z"
   },
   {
    "duration": 39,
    "start_time": "2022-06-21T11:35:45.499Z"
   },
   {
    "duration": 31,
    "start_time": "2022-06-21T11:35:45.539Z"
   },
   {
    "duration": 6,
    "start_time": "2022-06-21T11:35:49.406Z"
   },
   {
    "duration": 19,
    "start_time": "2022-06-21T11:36:10.295Z"
   },
   {
    "duration": 5,
    "start_time": "2022-06-21T11:37:21.782Z"
   },
   {
    "duration": 7,
    "start_time": "2022-06-21T11:38:27.301Z"
   },
   {
    "duration": 6,
    "start_time": "2022-06-21T11:38:40.910Z"
   },
   {
    "duration": 2,
    "start_time": "2022-06-21T11:40:09.281Z"
   },
   {
    "duration": 70,
    "start_time": "2022-06-21T11:44:45.081Z"
   },
   {
    "duration": 14,
    "start_time": "2022-06-21T11:49:01.510Z"
   },
   {
    "duration": 12,
    "start_time": "2022-06-21T11:50:53.165Z"
   },
   {
    "duration": 30,
    "start_time": "2022-06-21T11:51:08.125Z"
   },
   {
    "duration": 17,
    "start_time": "2022-06-21T11:51:11.494Z"
   },
   {
    "duration": 29,
    "start_time": "2022-06-21T11:51:35.762Z"
   },
   {
    "duration": 17,
    "start_time": "2022-06-21T11:51:39.490Z"
   },
   {
    "duration": 4,
    "start_time": "2022-06-21T11:51:52.982Z"
   },
   {
    "duration": 59,
    "start_time": "2022-06-21T11:52:37.091Z"
   },
   {
    "duration": 19,
    "start_time": "2022-06-21T11:52:48.714Z"
   },
   {
    "duration": 8,
    "start_time": "2022-06-21T11:53:25.343Z"
   },
   {
    "duration": 54,
    "start_time": "2022-06-21T11:54:05.443Z"
   },
   {
    "duration": 28,
    "start_time": "2022-06-21T11:54:10.594Z"
   },
   {
    "duration": 3,
    "start_time": "2022-06-21T11:54:14.510Z"
   },
   {
    "duration": 37,
    "start_time": "2022-06-21T11:54:32.515Z"
   },
   {
    "duration": 3,
    "start_time": "2022-06-21T11:56:10.402Z"
   },
   {
    "duration": 49,
    "start_time": "2022-06-21T11:56:10.407Z"
   },
   {
    "duration": 10,
    "start_time": "2022-06-21T11:56:10.458Z"
   },
   {
    "duration": 178,
    "start_time": "2022-06-21T11:56:10.470Z"
   },
   {
    "duration": 27,
    "start_time": "2022-06-21T11:56:10.651Z"
   },
   {
    "duration": 102,
    "start_time": "2022-06-21T11:56:10.679Z"
   },
   {
    "duration": 18,
    "start_time": "2022-06-21T11:56:10.783Z"
   },
   {
    "duration": 151,
    "start_time": "2022-06-21T11:56:10.802Z"
   },
   {
    "duration": 20,
    "start_time": "2022-06-21T11:56:10.955Z"
   },
   {
    "duration": 19,
    "start_time": "2022-06-21T11:56:10.978Z"
   },
   {
    "duration": 11,
    "start_time": "2022-06-21T11:56:10.999Z"
   },
   {
    "duration": 26,
    "start_time": "2022-06-21T11:56:11.011Z"
   },
   {
    "duration": 450,
    "start_time": "2022-06-21T11:56:11.039Z"
   },
   {
    "duration": 8,
    "start_time": "2022-06-21T11:56:11.493Z"
   },
   {
    "duration": 11,
    "start_time": "2022-06-21T11:56:11.503Z"
   },
   {
    "duration": 2505,
    "start_time": "2022-06-21T11:56:11.516Z"
   },
   {
    "duration": 15,
    "start_time": "2022-06-21T11:56:14.023Z"
   },
   {
    "duration": 13,
    "start_time": "2022-06-21T11:56:14.040Z"
   },
   {
    "duration": 318,
    "start_time": "2022-06-21T11:56:14.054Z"
   },
   {
    "duration": 6,
    "start_time": "2022-06-21T11:56:14.374Z"
   },
   {
    "duration": 90,
    "start_time": "2022-06-21T11:56:14.381Z"
   },
   {
    "duration": 28,
    "start_time": "2022-06-21T11:56:14.473Z"
   },
   {
    "duration": 44,
    "start_time": "2022-06-21T11:56:14.503Z"
   },
   {
    "duration": 190,
    "start_time": "2022-06-21T11:56:14.549Z"
   },
   {
    "duration": 9,
    "start_time": "2022-06-21T11:56:14.741Z"
   },
   {
    "duration": 86,
    "start_time": "2022-06-21T11:56:14.752Z"
   },
   {
    "duration": 41,
    "start_time": "2022-06-21T11:56:14.840Z"
   },
   {
    "duration": 58,
    "start_time": "2022-06-21T11:56:14.883Z"
   },
   {
    "duration": 28,
    "start_time": "2022-06-21T11:56:14.943Z"
   },
   {
    "duration": 10,
    "start_time": "2022-06-21T11:56:14.972Z"
   },
   {
    "duration": 11,
    "start_time": "2022-06-21T11:56:14.984Z"
   },
   {
    "duration": 28,
    "start_time": "2022-06-21T11:56:20.238Z"
   },
   {
    "duration": 10,
    "start_time": "2022-06-21T11:56:46.302Z"
   },
   {
    "duration": 7,
    "start_time": "2022-06-21T11:57:24.396Z"
   },
   {
    "duration": 7,
    "start_time": "2022-06-21T11:57:35.496Z"
   },
   {
    "duration": 6,
    "start_time": "2022-06-21T11:57:39.895Z"
   },
   {
    "duration": 7,
    "start_time": "2022-06-21T11:57:41.790Z"
   },
   {
    "duration": 7,
    "start_time": "2022-06-21T11:57:49.513Z"
   },
   {
    "duration": 3,
    "start_time": "2022-06-21T11:58:12.987Z"
   },
   {
    "duration": 65,
    "start_time": "2022-06-21T11:58:12.992Z"
   },
   {
    "duration": 10,
    "start_time": "2022-06-21T11:58:13.058Z"
   },
   {
    "duration": 173,
    "start_time": "2022-06-21T11:58:13.069Z"
   },
   {
    "duration": 24,
    "start_time": "2022-06-21T11:58:13.244Z"
   },
   {
    "duration": 93,
    "start_time": "2022-06-21T11:58:13.269Z"
   },
   {
    "duration": 17,
    "start_time": "2022-06-21T11:58:13.364Z"
   },
   {
    "duration": 148,
    "start_time": "2022-06-21T11:58:13.382Z"
   },
   {
    "duration": 26,
    "start_time": "2022-06-21T11:58:13.532Z"
   },
   {
    "duration": 25,
    "start_time": "2022-06-21T11:58:13.559Z"
   },
   {
    "duration": 14,
    "start_time": "2022-06-21T11:58:13.585Z"
   },
   {
    "duration": 22,
    "start_time": "2022-06-21T11:58:13.601Z"
   },
   {
    "duration": 405,
    "start_time": "2022-06-21T11:58:13.625Z"
   },
   {
    "duration": 10,
    "start_time": "2022-06-21T11:58:14.034Z"
   },
   {
    "duration": 48,
    "start_time": "2022-06-21T11:58:14.046Z"
   },
   {
    "duration": 2085,
    "start_time": "2022-06-21T11:58:14.096Z"
   },
   {
    "duration": 5,
    "start_time": "2022-06-21T11:58:16.183Z"
   },
   {
    "duration": 17,
    "start_time": "2022-06-21T11:58:16.190Z"
   },
   {
    "duration": 281,
    "start_time": "2022-06-21T11:58:16.209Z"
   },
   {
    "duration": 6,
    "start_time": "2022-06-21T11:58:16.491Z"
   },
   {
    "duration": 85,
    "start_time": "2022-06-21T11:58:16.498Z"
   },
   {
    "duration": 27,
    "start_time": "2022-06-21T11:58:16.584Z"
   },
   {
    "duration": 37,
    "start_time": "2022-06-21T11:58:16.613Z"
   },
   {
    "duration": 184,
    "start_time": "2022-06-21T11:58:16.652Z"
   },
   {
    "duration": 10,
    "start_time": "2022-06-21T11:58:16.837Z"
   },
   {
    "duration": 95,
    "start_time": "2022-06-21T11:58:16.851Z"
   },
   {
    "duration": 40,
    "start_time": "2022-06-21T11:58:16.948Z"
   },
   {
    "duration": 56,
    "start_time": "2022-06-21T11:58:16.989Z"
   },
   {
    "duration": 26,
    "start_time": "2022-06-21T11:58:17.047Z"
   },
   {
    "duration": 11,
    "start_time": "2022-06-21T11:58:17.074Z"
   },
   {
    "duration": 9,
    "start_time": "2022-06-21T11:58:17.086Z"
   },
   {
    "duration": 19,
    "start_time": "2022-06-21T11:58:17.096Z"
   },
   {
    "duration": 50,
    "start_time": "2022-06-21T11:58:17.117Z"
   },
   {
    "duration": 6,
    "start_time": "2022-06-21T11:58:17.169Z"
   },
   {
    "duration": 22,
    "start_time": "2022-06-21T11:59:28.525Z"
   },
   {
    "duration": 8,
    "start_time": "2022-06-21T12:01:04.018Z"
   },
   {
    "duration": 5,
    "start_time": "2022-06-21T12:01:29.980Z"
   },
   {
    "duration": 8,
    "start_time": "2022-06-21T12:01:30.794Z"
   },
   {
    "duration": 12,
    "start_time": "2022-06-21T12:01:52.898Z"
   },
   {
    "duration": 31,
    "start_time": "2022-06-21T12:02:04.986Z"
   },
   {
    "duration": 5,
    "start_time": "2022-06-21T12:02:07.902Z"
   },
   {
    "duration": 16,
    "start_time": "2022-06-21T12:02:40.513Z"
   },
   {
    "duration": 12,
    "start_time": "2022-06-21T12:09:38.296Z"
   },
   {
    "duration": 1210,
    "start_time": "2022-06-21T12:10:07.179Z"
   },
   {
    "duration": 12,
    "start_time": "2022-06-21T12:10:20.005Z"
   },
   {
    "duration": 3,
    "start_time": "2022-06-21T12:10:27.679Z"
   },
   {
    "duration": 5,
    "start_time": "2022-06-21T12:10:43.490Z"
   },
   {
    "duration": 10,
    "start_time": "2022-06-21T12:10:53.907Z"
   },
   {
    "duration": 9,
    "start_time": "2022-06-21T12:13:04.266Z"
   },
   {
    "duration": 3,
    "start_time": "2022-06-21T12:15:06.176Z"
   },
   {
    "duration": 53,
    "start_time": "2022-06-21T12:15:06.183Z"
   },
   {
    "duration": 14,
    "start_time": "2022-06-21T12:15:06.239Z"
   },
   {
    "duration": 174,
    "start_time": "2022-06-21T12:15:06.255Z"
   },
   {
    "duration": 37,
    "start_time": "2022-06-21T12:15:06.433Z"
   },
   {
    "duration": 102,
    "start_time": "2022-06-21T12:15:06.472Z"
   },
   {
    "duration": 18,
    "start_time": "2022-06-21T12:15:06.576Z"
   },
   {
    "duration": 176,
    "start_time": "2022-06-21T12:15:06.596Z"
   },
   {
    "duration": 21,
    "start_time": "2022-06-21T12:15:06.773Z"
   },
   {
    "duration": 23,
    "start_time": "2022-06-21T12:15:06.796Z"
   },
   {
    "duration": 24,
    "start_time": "2022-06-21T12:15:06.822Z"
   },
   {
    "duration": 21,
    "start_time": "2022-06-21T12:15:06.853Z"
   },
   {
    "duration": 456,
    "start_time": "2022-06-21T12:15:06.875Z"
   },
   {
    "duration": 11,
    "start_time": "2022-06-21T12:15:07.333Z"
   },
   {
    "duration": 26,
    "start_time": "2022-06-21T12:15:07.346Z"
   },
   {
    "duration": 2499,
    "start_time": "2022-06-21T12:15:07.374Z"
   },
   {
    "duration": 6,
    "start_time": "2022-06-21T12:15:09.875Z"
   },
   {
    "duration": 10,
    "start_time": "2022-06-21T12:15:09.883Z"
   },
   {
    "duration": 331,
    "start_time": "2022-06-21T12:15:09.894Z"
   },
   {
    "duration": 9,
    "start_time": "2022-06-21T12:15:10.227Z"
   },
   {
    "duration": 91,
    "start_time": "2022-06-21T12:15:10.238Z"
   },
   {
    "duration": 33,
    "start_time": "2022-06-21T12:15:10.334Z"
   },
   {
    "duration": 24,
    "start_time": "2022-06-21T12:15:10.369Z"
   },
   {
    "duration": 200,
    "start_time": "2022-06-21T12:15:10.395Z"
   },
   {
    "duration": 10,
    "start_time": "2022-06-21T12:15:10.597Z"
   },
   {
    "duration": 101,
    "start_time": "2022-06-21T12:15:10.609Z"
   },
   {
    "duration": 56,
    "start_time": "2022-06-21T12:15:10.712Z"
   },
   {
    "duration": 44,
    "start_time": "2022-06-21T12:15:10.769Z"
   },
   {
    "duration": 44,
    "start_time": "2022-06-21T12:15:10.826Z"
   },
   {
    "duration": 11,
    "start_time": "2022-06-21T12:15:10.871Z"
   },
   {
    "duration": 4,
    "start_time": "2022-06-21T12:15:10.884Z"
   },
   {
    "duration": 12,
    "start_time": "2022-06-21T12:15:10.890Z"
   },
   {
    "duration": 49,
    "start_time": "2022-06-21T12:15:37.320Z"
   },
   {
    "duration": 8,
    "start_time": "2022-06-21T12:16:09.511Z"
   },
   {
    "duration": 7,
    "start_time": "2022-06-21T12:16:34.024Z"
   },
   {
    "duration": 13,
    "start_time": "2022-06-21T12:16:39.076Z"
   },
   {
    "duration": 18,
    "start_time": "2022-06-21T12:17:04.946Z"
   },
   {
    "duration": 6,
    "start_time": "2022-06-21T12:18:17.889Z"
   },
   {
    "duration": 24,
    "start_time": "2022-06-21T12:18:27.745Z"
   },
   {
    "duration": 5,
    "start_time": "2022-06-21T12:18:43.753Z"
   },
   {
    "duration": 25,
    "start_time": "2022-06-21T12:18:46.312Z"
   },
   {
    "duration": 2,
    "start_time": "2022-06-21T12:19:01.082Z"
   },
   {
    "duration": 4,
    "start_time": "2022-06-21T12:19:10.288Z"
   },
   {
    "duration": 12,
    "start_time": "2022-06-21T12:19:27.325Z"
   },
   {
    "duration": 134,
    "start_time": "2022-06-21T12:21:09.838Z"
   },
   {
    "duration": 24,
    "start_time": "2022-06-21T12:21:12.618Z"
   },
   {
    "duration": 24,
    "start_time": "2022-06-21T12:21:17.598Z"
   },
   {
    "duration": 15,
    "start_time": "2022-06-21T12:21:23.407Z"
   },
   {
    "duration": 6,
    "start_time": "2022-06-21T12:21:29.214Z"
   },
   {
    "duration": 5,
    "start_time": "2022-06-21T12:22:55.253Z"
   },
   {
    "duration": 4,
    "start_time": "2022-06-21T12:23:27.794Z"
   },
   {
    "duration": 21,
    "start_time": "2022-06-21T12:23:27.800Z"
   },
   {
    "duration": 15,
    "start_time": "2022-06-21T12:23:27.823Z"
   },
   {
    "duration": 20,
    "start_time": "2022-06-21T12:23:27.840Z"
   },
   {
    "duration": 10,
    "start_time": "2022-06-21T12:23:27.862Z"
   },
   {
    "duration": 8,
    "start_time": "2022-06-21T12:23:27.873Z"
   },
   {
    "duration": 6,
    "start_time": "2022-06-21T12:23:27.883Z"
   },
   {
    "duration": 476,
    "start_time": "2022-06-21T12:23:27.891Z"
   },
   {
    "duration": 19,
    "start_time": "2022-06-21T12:23:28.369Z"
   },
   {
    "duration": 5,
    "start_time": "2022-06-21T12:23:28.389Z"
   },
   {
    "duration": 11,
    "start_time": "2022-06-21T12:23:28.395Z"
   },
   {
    "duration": 28,
    "start_time": "2022-06-21T12:23:28.407Z"
   },
   {
    "duration": 3,
    "start_time": "2022-06-21T12:23:28.439Z"
   },
   {
    "duration": 18,
    "start_time": "2022-06-21T12:23:28.444Z"
   },
   {
    "duration": 24,
    "start_time": "2022-06-21T12:23:28.464Z"
   },
   {
    "duration": 21,
    "start_time": "2022-06-21T12:24:36.738Z"
   },
   {
    "duration": 4,
    "start_time": "2022-06-21T12:24:38.286Z"
   },
   {
    "duration": 16,
    "start_time": "2022-06-21T12:24:39.003Z"
   },
   {
    "duration": 11,
    "start_time": "2022-06-21T12:24:41.539Z"
   },
   {
    "duration": 8,
    "start_time": "2022-06-21T12:24:42.237Z"
   },
   {
    "duration": 8,
    "start_time": "2022-06-21T12:25:10.894Z"
   },
   {
    "duration": 8,
    "start_time": "2022-06-21T12:25:21.046Z"
   },
   {
    "duration": 3,
    "start_time": "2022-06-21T12:25:33.595Z"
   },
   {
    "duration": 482,
    "start_time": "2022-06-21T12:25:35.784Z"
   },
   {
    "duration": 390,
    "start_time": "2022-06-21T12:29:51.396Z"
   },
   {
    "duration": 158,
    "start_time": "2022-06-21T12:31:39.483Z"
   },
   {
    "duration": 487,
    "start_time": "2022-06-21T12:32:03.249Z"
   },
   {
    "duration": 524,
    "start_time": "2022-06-21T12:33:29.114Z"
   },
   {
    "duration": 463,
    "start_time": "2022-06-21T12:34:15.187Z"
   },
   {
    "duration": 509,
    "start_time": "2022-06-21T12:35:01.905Z"
   },
   {
    "duration": 533,
    "start_time": "2022-06-21T12:35:47.141Z"
   },
   {
    "duration": 597,
    "start_time": "2022-06-21T12:38:01.121Z"
   },
   {
    "duration": 537,
    "start_time": "2022-06-21T12:38:25.915Z"
   },
   {
    "duration": 489,
    "start_time": "2022-06-21T12:38:43.358Z"
   },
   {
    "duration": 150,
    "start_time": "2022-06-21T12:39:18.100Z"
   },
   {
    "duration": 710,
    "start_time": "2022-06-21T12:39:28.603Z"
   },
   {
    "duration": 209,
    "start_time": "2022-06-21T12:39:34.277Z"
   },
   {
    "duration": 208,
    "start_time": "2022-06-21T12:39:44.112Z"
   },
   {
    "duration": 198,
    "start_time": "2022-06-21T12:39:49.300Z"
   },
   {
    "duration": 177,
    "start_time": "2022-06-21T12:40:19.081Z"
   },
   {
    "duration": 215,
    "start_time": "2022-06-21T12:40:57.754Z"
   },
   {
    "duration": 170,
    "start_time": "2022-06-21T12:41:14.077Z"
   },
   {
    "duration": 507,
    "start_time": "2022-06-21T12:41:26.746Z"
   },
   {
    "duration": 518,
    "start_time": "2022-06-21T12:45:12.240Z"
   },
   {
    "duration": 580,
    "start_time": "2022-06-21T12:45:37.060Z"
   },
   {
    "duration": 201,
    "start_time": "2022-06-21T12:45:59.189Z"
   },
   {
    "duration": 183,
    "start_time": "2022-06-21T12:48:08.480Z"
   },
   {
    "duration": 164,
    "start_time": "2022-06-21T12:48:15.909Z"
   },
   {
    "duration": 175,
    "start_time": "2022-06-21T12:48:41.705Z"
   },
   {
    "duration": 187,
    "start_time": "2022-06-21T12:49:04.117Z"
   },
   {
    "duration": 160,
    "start_time": "2022-06-21T12:49:13.363Z"
   },
   {
    "duration": 235,
    "start_time": "2022-06-21T12:50:51.362Z"
   },
   {
    "duration": 41,
    "start_time": "2022-06-21T12:51:00.614Z"
   },
   {
    "duration": 55,
    "start_time": "2022-06-21T12:56:18.809Z"
   },
   {
    "duration": 23,
    "start_time": "2022-06-21T13:06:21.520Z"
   },
   {
    "duration": 3,
    "start_time": "2022-06-21T13:07:08.546Z"
   },
   {
    "duration": 57,
    "start_time": "2022-06-21T13:07:08.553Z"
   },
   {
    "duration": 11,
    "start_time": "2022-06-21T13:07:08.612Z"
   },
   {
    "duration": 158,
    "start_time": "2022-06-21T13:07:08.625Z"
   },
   {
    "duration": 29,
    "start_time": "2022-06-21T13:07:08.786Z"
   },
   {
    "duration": 115,
    "start_time": "2022-06-21T13:07:08.827Z"
   },
   {
    "duration": 19,
    "start_time": "2022-06-21T13:07:08.944Z"
   },
   {
    "duration": 153,
    "start_time": "2022-06-21T13:07:08.965Z"
   },
   {
    "duration": 26,
    "start_time": "2022-06-21T13:07:09.120Z"
   },
   {
    "duration": 40,
    "start_time": "2022-06-21T13:07:09.148Z"
   },
   {
    "duration": 10,
    "start_time": "2022-06-21T13:07:09.191Z"
   },
   {
    "duration": 37,
    "start_time": "2022-06-21T13:07:09.203Z"
   },
   {
    "duration": 433,
    "start_time": "2022-06-21T13:07:09.242Z"
   },
   {
    "duration": 7,
    "start_time": "2022-06-21T13:07:09.678Z"
   },
   {
    "duration": 12,
    "start_time": "2022-06-21T13:07:09.686Z"
   },
   {
    "duration": 2244,
    "start_time": "2022-06-21T13:07:09.699Z"
   },
   {
    "duration": 7,
    "start_time": "2022-06-21T13:07:11.945Z"
   },
   {
    "duration": 8,
    "start_time": "2022-06-21T13:07:11.953Z"
   },
   {
    "duration": 287,
    "start_time": "2022-06-21T13:07:11.963Z"
   },
   {
    "duration": 7,
    "start_time": "2022-06-21T13:07:12.252Z"
   },
   {
    "duration": 90,
    "start_time": "2022-06-21T13:07:12.261Z"
   },
   {
    "duration": 26,
    "start_time": "2022-06-21T13:07:12.353Z"
   },
   {
    "duration": 24,
    "start_time": "2022-06-21T13:07:12.381Z"
   },
   {
    "duration": 175,
    "start_time": "2022-06-21T13:07:12.406Z"
   },
   {
    "duration": 10,
    "start_time": "2022-06-21T13:07:12.583Z"
   },
   {
    "duration": 82,
    "start_time": "2022-06-21T13:07:12.594Z"
   },
   {
    "duration": 38,
    "start_time": "2022-06-21T13:07:12.677Z"
   },
   {
    "duration": 37,
    "start_time": "2022-06-21T13:07:12.726Z"
   },
   {
    "duration": 29,
    "start_time": "2022-06-21T13:07:12.766Z"
   },
   {
    "duration": 31,
    "start_time": "2022-06-21T13:07:12.796Z"
   },
   {
    "duration": 16,
    "start_time": "2022-06-21T13:07:12.828Z"
   },
   {
    "duration": 13,
    "start_time": "2022-06-21T13:07:12.846Z"
   },
   {
    "duration": 33,
    "start_time": "2022-06-21T13:07:12.861Z"
   },
   {
    "duration": 6,
    "start_time": "2022-06-21T13:07:12.896Z"
   },
   {
    "duration": 11,
    "start_time": "2022-06-21T13:07:12.904Z"
   },
   {
    "duration": 12,
    "start_time": "2022-06-21T13:07:12.917Z"
   },
   {
    "duration": 19,
    "start_time": "2022-06-21T13:07:12.930Z"
   },
   {
    "duration": 30,
    "start_time": "2022-06-21T13:07:12.951Z"
   },
   {
    "duration": 9,
    "start_time": "2022-06-21T13:07:12.982Z"
   },
   {
    "duration": 16,
    "start_time": "2022-06-21T13:07:12.992Z"
   },
   {
    "duration": 8,
    "start_time": "2022-06-21T13:07:13.009Z"
   },
   {
    "duration": 318,
    "start_time": "2022-06-21T13:07:13.019Z"
   },
   {
    "duration": 17,
    "start_time": "2022-06-21T13:07:13.339Z"
   },
   {
    "duration": 16,
    "start_time": "2022-06-21T13:07:13.357Z"
   },
   {
    "duration": 17,
    "start_time": "2022-06-21T13:07:59.001Z"
   },
   {
    "duration": 7,
    "start_time": "2022-06-21T13:08:13.527Z"
   },
   {
    "duration": 5,
    "start_time": "2022-06-21T13:08:19.194Z"
   },
   {
    "duration": 18,
    "start_time": "2022-06-21T13:08:38.350Z"
   },
   {
    "duration": 5,
    "start_time": "2022-06-21T13:08:41.005Z"
   },
   {
    "duration": 13,
    "start_time": "2022-06-21T13:08:41.922Z"
   },
   {
    "duration": 4,
    "start_time": "2022-06-21T13:09:45.697Z"
   },
   {
    "duration": 18,
    "start_time": "2022-06-21T13:10:16.142Z"
   },
   {
    "duration": 5,
    "start_time": "2022-06-21T13:10:19.785Z"
   },
   {
    "duration": 15,
    "start_time": "2022-06-21T13:10:20.451Z"
   },
   {
    "duration": 3,
    "start_time": "2022-06-21T13:10:37.303Z"
   },
   {
    "duration": 75,
    "start_time": "2022-06-21T13:10:37.312Z"
   },
   {
    "duration": 13,
    "start_time": "2022-06-21T13:10:37.389Z"
   },
   {
    "duration": 189,
    "start_time": "2022-06-21T13:10:37.404Z"
   },
   {
    "duration": 38,
    "start_time": "2022-06-21T13:10:37.595Z"
   },
   {
    "duration": 101,
    "start_time": "2022-06-21T13:10:37.635Z"
   },
   {
    "duration": 19,
    "start_time": "2022-06-21T13:10:37.738Z"
   },
   {
    "duration": 178,
    "start_time": "2022-06-21T13:10:37.758Z"
   },
   {
    "duration": 22,
    "start_time": "2022-06-21T13:10:37.938Z"
   },
   {
    "duration": 27,
    "start_time": "2022-06-21T13:10:37.961Z"
   },
   {
    "duration": 11,
    "start_time": "2022-06-21T13:10:37.989Z"
   },
   {
    "duration": 12,
    "start_time": "2022-06-21T13:10:38.001Z"
   },
   {
    "duration": 455,
    "start_time": "2022-06-21T13:10:38.014Z"
   },
   {
    "duration": 9,
    "start_time": "2022-06-21T13:10:38.470Z"
   },
   {
    "duration": 8,
    "start_time": "2022-06-21T13:10:38.483Z"
   },
   {
    "duration": 2283,
    "start_time": "2022-06-21T13:10:38.493Z"
   },
   {
    "duration": 6,
    "start_time": "2022-06-21T13:10:40.778Z"
   },
   {
    "duration": 14,
    "start_time": "2022-06-21T13:10:40.786Z"
   },
   {
    "duration": 328,
    "start_time": "2022-06-21T13:10:40.802Z"
   },
   {
    "duration": 6,
    "start_time": "2022-06-21T13:10:41.133Z"
   },
   {
    "duration": 79,
    "start_time": "2022-06-21T13:10:41.140Z"
   },
   {
    "duration": 26,
    "start_time": "2022-06-21T13:10:41.221Z"
   },
   {
    "duration": 29,
    "start_time": "2022-06-21T13:10:41.249Z"
   },
   {
    "duration": 189,
    "start_time": "2022-06-21T13:10:41.280Z"
   },
   {
    "duration": 13,
    "start_time": "2022-06-21T13:10:41.470Z"
   },
   {
    "duration": 115,
    "start_time": "2022-06-21T13:10:41.485Z"
   },
   {
    "duration": 53,
    "start_time": "2022-06-21T13:10:41.602Z"
   },
   {
    "duration": 44,
    "start_time": "2022-06-21T13:10:41.657Z"
   },
   {
    "duration": 44,
    "start_time": "2022-06-21T13:10:41.703Z"
   },
   {
    "duration": 11,
    "start_time": "2022-06-21T13:10:41.749Z"
   },
   {
    "duration": 12,
    "start_time": "2022-06-21T13:10:41.761Z"
   },
   {
    "duration": 18,
    "start_time": "2022-06-21T13:10:41.774Z"
   },
   {
    "duration": 38,
    "start_time": "2022-06-21T13:10:41.794Z"
   },
   {
    "duration": 7,
    "start_time": "2022-06-21T13:10:41.834Z"
   },
   {
    "duration": 20,
    "start_time": "2022-06-21T13:10:41.842Z"
   },
   {
    "duration": 12,
    "start_time": "2022-06-21T13:10:41.864Z"
   },
   {
    "duration": 20,
    "start_time": "2022-06-21T13:10:41.878Z"
   },
   {
    "duration": 9,
    "start_time": "2022-06-21T13:10:41.900Z"
   },
   {
    "duration": 15,
    "start_time": "2022-06-21T13:10:41.910Z"
   },
   {
    "duration": 27,
    "start_time": "2022-06-21T13:10:41.927Z"
   },
   {
    "duration": 13,
    "start_time": "2022-06-21T13:10:41.955Z"
   },
   {
    "duration": 136,
    "start_time": "2022-06-21T13:10:41.971Z"
   },
   {
    "duration": 25,
    "start_time": "2022-06-21T13:10:42.108Z"
   },
   {
    "duration": 17,
    "start_time": "2022-06-21T13:10:42.134Z"
   },
   {
    "duration": 25,
    "start_time": "2022-06-21T13:10:42.152Z"
   },
   {
    "duration": 11,
    "start_time": "2022-06-21T13:10:42.178Z"
   },
   {
    "duration": 22,
    "start_time": "2022-06-21T13:10:42.191Z"
   },
   {
    "duration": 18,
    "start_time": "2022-06-21T13:10:45.416Z"
   },
   {
    "duration": 4,
    "start_time": "2022-06-21T13:10:46.347Z"
   },
   {
    "duration": 15,
    "start_time": "2022-06-21T13:10:47.444Z"
   },
   {
    "duration": 3,
    "start_time": "2022-06-21T13:11:02.693Z"
   },
   {
    "duration": 54,
    "start_time": "2022-06-21T13:11:02.698Z"
   },
   {
    "duration": 11,
    "start_time": "2022-06-21T13:11:02.753Z"
   },
   {
    "duration": 170,
    "start_time": "2022-06-21T13:11:02.765Z"
   },
   {
    "duration": 25,
    "start_time": "2022-06-21T13:11:02.937Z"
   },
   {
    "duration": 104,
    "start_time": "2022-06-21T13:11:02.963Z"
   },
   {
    "duration": 20,
    "start_time": "2022-06-21T13:11:03.068Z"
   },
   {
    "duration": 156,
    "start_time": "2022-06-21T13:11:03.090Z"
   },
   {
    "duration": 22,
    "start_time": "2022-06-21T13:11:03.248Z"
   },
   {
    "duration": 22,
    "start_time": "2022-06-21T13:11:03.272Z"
   },
   {
    "duration": 11,
    "start_time": "2022-06-21T13:11:03.296Z"
   },
   {
    "duration": 23,
    "start_time": "2022-06-21T13:11:03.309Z"
   },
   {
    "duration": 456,
    "start_time": "2022-06-21T13:11:03.334Z"
   },
   {
    "duration": 6,
    "start_time": "2022-06-21T13:11:03.793Z"
   },
   {
    "duration": 10,
    "start_time": "2022-06-21T13:11:03.801Z"
   },
   {
    "duration": 2371,
    "start_time": "2022-06-21T13:11:03.812Z"
   },
   {
    "duration": 7,
    "start_time": "2022-06-21T13:11:06.185Z"
   },
   {
    "duration": 9,
    "start_time": "2022-06-21T13:11:06.193Z"
   },
   {
    "duration": 341,
    "start_time": "2022-06-21T13:11:06.204Z"
   },
   {
    "duration": 6,
    "start_time": "2022-06-21T13:11:06.547Z"
   },
   {
    "duration": 87,
    "start_time": "2022-06-21T13:11:06.555Z"
   },
   {
    "duration": 27,
    "start_time": "2022-06-21T13:11:06.644Z"
   },
   {
    "duration": 24,
    "start_time": "2022-06-21T13:11:06.672Z"
   },
   {
    "duration": 182,
    "start_time": "2022-06-21T13:11:06.698Z"
   },
   {
    "duration": 11,
    "start_time": "2022-06-21T13:11:06.882Z"
   },
   {
    "duration": 84,
    "start_time": "2022-06-21T13:11:06.894Z"
   },
   {
    "duration": 51,
    "start_time": "2022-06-21T13:11:06.980Z"
   },
   {
    "duration": 41,
    "start_time": "2022-06-21T13:11:07.034Z"
   },
   {
    "duration": 50,
    "start_time": "2022-06-21T13:11:07.077Z"
   },
   {
    "duration": 13,
    "start_time": "2022-06-21T13:11:07.128Z"
   },
   {
    "duration": 21,
    "start_time": "2022-06-21T13:11:07.143Z"
   },
   {
    "duration": 13,
    "start_time": "2022-06-21T13:11:07.166Z"
   },
   {
    "duration": 34,
    "start_time": "2022-06-21T13:11:07.181Z"
   },
   {
    "duration": 8,
    "start_time": "2022-06-21T13:11:07.226Z"
   },
   {
    "duration": 12,
    "start_time": "2022-06-21T13:11:07.235Z"
   },
   {
    "duration": 7,
    "start_time": "2022-06-21T13:11:07.248Z"
   },
   {
    "duration": 5,
    "start_time": "2022-06-21T13:11:07.257Z"
   },
   {
    "duration": 11,
    "start_time": "2022-06-21T13:11:07.264Z"
   },
   {
    "duration": 5,
    "start_time": "2022-06-21T13:11:07.276Z"
   },
   {
    "duration": 7,
    "start_time": "2022-06-21T13:11:07.283Z"
   },
   {
    "duration": 8,
    "start_time": "2022-06-21T13:11:07.294Z"
   },
   {
    "duration": 147,
    "start_time": "2022-06-21T13:11:07.304Z"
   },
   {
    "duration": 23,
    "start_time": "2022-06-21T13:11:07.453Z"
   },
   {
    "duration": 19,
    "start_time": "2022-06-21T13:11:07.478Z"
   },
   {
    "duration": 45,
    "start_time": "2022-06-21T13:11:07.499Z"
   },
   {
    "duration": 8,
    "start_time": "2022-06-21T13:11:07.547Z"
   },
   {
    "duration": 13,
    "start_time": "2022-06-21T13:11:07.556Z"
   },
   {
    "duration": 27,
    "start_time": "2022-06-21T13:11:07.571Z"
   },
   {
    "duration": 23,
    "start_time": "2022-06-21T13:11:12.851Z"
   },
   {
    "duration": 4,
    "start_time": "2022-06-21T13:11:36.633Z"
   },
   {
    "duration": 17,
    "start_time": "2022-06-21T13:11:39.304Z"
   },
   {
    "duration": 3,
    "start_time": "2022-06-21T13:12:25.885Z"
   },
   {
    "duration": 69,
    "start_time": "2022-06-21T13:12:25.890Z"
   },
   {
    "duration": 12,
    "start_time": "2022-06-21T13:12:25.961Z"
   },
   {
    "duration": 200,
    "start_time": "2022-06-21T13:12:25.975Z"
   },
   {
    "duration": 26,
    "start_time": "2022-06-21T13:12:26.177Z"
   },
   {
    "duration": 96,
    "start_time": "2022-06-21T13:12:26.205Z"
   },
   {
    "duration": 31,
    "start_time": "2022-06-21T13:12:26.303Z"
   },
   {
    "duration": 153,
    "start_time": "2022-06-21T13:12:26.335Z"
   },
   {
    "duration": 22,
    "start_time": "2022-06-21T13:12:26.490Z"
   },
   {
    "duration": 32,
    "start_time": "2022-06-21T13:12:26.514Z"
   },
   {
    "duration": 11,
    "start_time": "2022-06-21T13:12:26.547Z"
   },
   {
    "duration": 16,
    "start_time": "2022-06-21T13:12:26.560Z"
   },
   {
    "duration": 445,
    "start_time": "2022-06-21T13:12:26.577Z"
   },
   {
    "duration": 6,
    "start_time": "2022-06-21T13:12:27.026Z"
   },
   {
    "duration": 9,
    "start_time": "2022-06-21T13:12:27.034Z"
   },
   {
    "duration": 2161,
    "start_time": "2022-06-21T13:12:27.045Z"
   },
   {
    "duration": 6,
    "start_time": "2022-06-21T13:12:29.208Z"
   },
   {
    "duration": 15,
    "start_time": "2022-06-21T13:12:29.215Z"
   },
   {
    "duration": 296,
    "start_time": "2022-06-21T13:12:29.232Z"
   },
   {
    "duration": 8,
    "start_time": "2022-06-21T13:12:29.531Z"
   },
   {
    "duration": 86,
    "start_time": "2022-06-21T13:12:29.541Z"
   },
   {
    "duration": 25,
    "start_time": "2022-06-21T13:12:29.629Z"
   },
   {
    "duration": 24,
    "start_time": "2022-06-21T13:12:29.656Z"
   },
   {
    "duration": 189,
    "start_time": "2022-06-21T13:12:29.681Z"
   },
   {
    "duration": 10,
    "start_time": "2022-06-21T13:12:29.871Z"
   },
   {
    "duration": 87,
    "start_time": "2022-06-21T13:12:29.883Z"
   },
   {
    "duration": 39,
    "start_time": "2022-06-21T13:12:29.972Z"
   },
   {
    "duration": 54,
    "start_time": "2022-06-21T13:12:30.013Z"
   },
   {
    "duration": 29,
    "start_time": "2022-06-21T13:12:30.069Z"
   },
   {
    "duration": 28,
    "start_time": "2022-06-21T13:12:30.099Z"
   },
   {
    "duration": 32,
    "start_time": "2022-06-21T13:12:30.129Z"
   },
   {
    "duration": 29,
    "start_time": "2022-06-21T13:12:30.163Z"
   },
   {
    "duration": 42,
    "start_time": "2022-06-21T13:12:30.195Z"
   },
   {
    "duration": 33,
    "start_time": "2022-06-21T13:12:30.239Z"
   },
   {
    "duration": 12,
    "start_time": "2022-06-21T13:12:30.274Z"
   },
   {
    "duration": 19,
    "start_time": "2022-06-21T13:12:30.288Z"
   },
   {
    "duration": 11,
    "start_time": "2022-06-21T13:12:30.309Z"
   },
   {
    "duration": 39,
    "start_time": "2022-06-21T13:12:30.322Z"
   },
   {
    "duration": 23,
    "start_time": "2022-06-21T13:12:30.363Z"
   },
   {
    "duration": 17,
    "start_time": "2022-06-21T13:12:30.388Z"
   },
   {
    "duration": 43,
    "start_time": "2022-06-21T13:12:30.409Z"
   },
   {
    "duration": 160,
    "start_time": "2022-06-21T13:12:30.454Z"
   },
   {
    "duration": 21,
    "start_time": "2022-06-21T13:12:30.617Z"
   },
   {
    "duration": 35,
    "start_time": "2022-06-21T13:12:30.639Z"
   },
   {
    "duration": 21,
    "start_time": "2022-06-21T13:12:30.675Z"
   },
   {
    "duration": 5,
    "start_time": "2022-06-21T13:12:30.698Z"
   },
   {
    "duration": 10,
    "start_time": "2022-06-21T13:12:30.705Z"
   },
   {
    "duration": 30,
    "start_time": "2022-06-21T13:12:30.717Z"
   },
   {
    "duration": 15,
    "start_time": "2022-06-21T13:12:35.352Z"
   },
   {
    "duration": 4,
    "start_time": "2022-06-21T13:12:37.993Z"
   },
   {
    "duration": 17,
    "start_time": "2022-06-21T13:12:39.100Z"
   },
   {
    "duration": 8,
    "start_time": "2022-06-21T13:13:02.392Z"
   },
   {
    "duration": 13,
    "start_time": "2022-06-21T13:13:03.726Z"
   },
   {
    "duration": 9,
    "start_time": "2022-06-21T13:13:40.548Z"
   },
   {
    "duration": 877,
    "start_time": "2022-06-21T13:14:54.527Z"
   },
   {
    "duration": 1141,
    "start_time": "2022-06-21T13:15:22.295Z"
   },
   {
    "duration": 902,
    "start_time": "2022-06-21T13:16:07.431Z"
   },
   {
    "duration": 1410,
    "start_time": "2022-06-21T13:16:18.644Z"
   },
   {
    "duration": 11,
    "start_time": "2022-06-21T13:17:31.048Z"
   },
   {
    "duration": 9,
    "start_time": "2022-06-21T13:17:48.138Z"
   },
   {
    "duration": 8,
    "start_time": "2022-06-21T13:18:22.649Z"
   },
   {
    "duration": 7,
    "start_time": "2022-06-21T13:18:23.720Z"
   },
   {
    "duration": 8,
    "start_time": "2022-06-21T13:18:36.111Z"
   },
   {
    "duration": 54,
    "start_time": "2022-06-21T13:19:57.003Z"
   },
   {
    "duration": 8,
    "start_time": "2022-06-21T13:24:35.418Z"
   },
   {
    "duration": 20,
    "start_time": "2022-06-21T13:24:45.710Z"
   },
   {
    "duration": 175,
    "start_time": "2022-06-21T13:34:57.320Z"
   },
   {
    "duration": 196,
    "start_time": "2022-06-21T13:35:04.494Z"
   },
   {
    "duration": 185,
    "start_time": "2022-06-21T13:35:30.141Z"
   },
   {
    "duration": 178,
    "start_time": "2022-06-21T13:36:16.450Z"
   },
   {
    "duration": 170,
    "start_time": "2022-06-21T13:37:04.144Z"
   },
   {
    "duration": 169,
    "start_time": "2022-06-21T13:37:25.302Z"
   },
   {
    "duration": 228,
    "start_time": "2022-06-21T13:39:05.207Z"
   },
   {
    "duration": 241,
    "start_time": "2022-06-21T13:47:20.306Z"
   },
   {
    "duration": 256,
    "start_time": "2022-06-21T13:47:31.806Z"
   },
   {
    "duration": 256,
    "start_time": "2022-06-21T13:47:54.026Z"
   },
   {
    "duration": 236,
    "start_time": "2022-06-21T13:48:15.794Z"
   },
   {
    "duration": 452,
    "start_time": "2022-06-21T13:48:55.545Z"
   },
   {
    "duration": 243,
    "start_time": "2022-06-21T13:49:05.151Z"
   },
   {
    "duration": 267,
    "start_time": "2022-06-21T13:49:21.234Z"
   },
   {
    "duration": 4,
    "start_time": "2022-06-21T13:49:34.389Z"
   },
   {
    "duration": 272,
    "start_time": "2022-06-21T13:49:37.924Z"
   },
   {
    "duration": 231,
    "start_time": "2022-06-21T13:49:49.703Z"
   },
   {
    "duration": 195,
    "start_time": "2022-06-21T13:50:00.311Z"
   },
   {
    "duration": 234,
    "start_time": "2022-06-21T13:54:24.010Z"
   },
   {
    "duration": 260,
    "start_time": "2022-06-21T14:00:58.155Z"
   },
   {
    "duration": 311,
    "start_time": "2022-06-21T14:01:14.619Z"
   },
   {
    "duration": 329,
    "start_time": "2022-06-21T14:02:24.445Z"
   },
   {
    "duration": 303,
    "start_time": "2022-06-21T14:03:01.301Z"
   },
   {
    "duration": 289,
    "start_time": "2022-06-21T14:03:52.115Z"
   },
   {
    "duration": 225,
    "start_time": "2022-06-21T14:05:05.658Z"
   },
   {
    "duration": 176,
    "start_time": "2022-06-21T14:05:14.910Z"
   },
   {
    "duration": 271,
    "start_time": "2022-06-21T14:05:34.779Z"
   },
   {
    "duration": 21,
    "start_time": "2022-06-21T14:15:48.187Z"
   },
   {
    "duration": 50,
    "start_time": "2022-06-21T14:16:21.042Z"
   },
   {
    "duration": 4,
    "start_time": "2022-06-21T14:21:53.740Z"
   },
   {
    "duration": 19,
    "start_time": "2022-06-21T14:22:25.844Z"
   },
   {
    "duration": 20,
    "start_time": "2022-06-21T14:22:34.217Z"
   },
   {
    "duration": 440,
    "start_time": "2022-06-21T14:23:57.254Z"
   },
   {
    "duration": 591,
    "start_time": "2022-06-21T14:24:24.207Z"
   },
   {
    "duration": 6,
    "start_time": "2022-06-21T14:24:46.380Z"
   },
   {
    "duration": 5,
    "start_time": "2022-06-21T14:24:50.640Z"
   },
   {
    "duration": 21,
    "start_time": "2022-06-21T14:29:46.507Z"
   },
   {
    "duration": 6,
    "start_time": "2022-06-21T14:32:17.432Z"
   },
   {
    "duration": 14,
    "start_time": "2022-06-21T14:32:34.619Z"
   },
   {
    "duration": 6,
    "start_time": "2022-06-21T14:39:02.393Z"
   },
   {
    "duration": 4,
    "start_time": "2022-06-21T14:39:05.517Z"
   },
   {
    "duration": 10,
    "start_time": "2022-06-21T14:40:01.636Z"
   },
   {
    "duration": 6,
    "start_time": "2022-06-21T14:44:36.482Z"
   },
   {
    "duration": 5,
    "start_time": "2022-06-21T14:44:57.159Z"
   },
   {
    "duration": 87,
    "start_time": "2022-06-21T14:46:40.657Z"
   },
   {
    "duration": 11,
    "start_time": "2022-06-21T14:50:14.742Z"
   },
   {
    "duration": 14,
    "start_time": "2022-06-21T14:51:12.898Z"
   },
   {
    "duration": 11,
    "start_time": "2022-06-21T14:51:37.409Z"
   },
   {
    "duration": 4,
    "start_time": "2022-06-21T14:51:42.674Z"
   },
   {
    "duration": 11,
    "start_time": "2022-06-21T14:51:43.550Z"
   },
   {
    "duration": 10,
    "start_time": "2022-06-21T14:52:47.880Z"
   },
   {
    "duration": 8,
    "start_time": "2022-06-21T14:53:34.178Z"
   },
   {
    "duration": 43,
    "start_time": "2022-06-21T14:59:03.444Z"
   },
   {
    "duration": 22,
    "start_time": "2022-06-21T14:59:32.154Z"
   },
   {
    "duration": 41,
    "start_time": "2022-06-21T15:00:10.548Z"
   },
   {
    "duration": 328,
    "start_time": "2022-06-21T15:01:44.726Z"
   },
   {
    "duration": 5,
    "start_time": "2022-06-21T15:01:52.393Z"
   },
   {
    "duration": 39,
    "start_time": "2022-06-21T15:03:41.923Z"
   },
   {
    "duration": 33,
    "start_time": "2022-06-21T15:05:18.576Z"
   },
   {
    "duration": 4,
    "start_time": "2022-06-21T15:06:55.873Z"
   },
   {
    "duration": 264,
    "start_time": "2022-06-21T15:07:01.352Z"
   },
   {
    "duration": 222,
    "start_time": "2022-06-21T15:07:11.708Z"
   },
   {
    "duration": 5,
    "start_time": "2022-06-21T15:07:15.745Z"
   },
   {
    "duration": 9,
    "start_time": "2022-06-21T15:13:00.075Z"
   },
   {
    "duration": 6,
    "start_time": "2022-06-21T15:13:13.855Z"
   },
   {
    "duration": 10,
    "start_time": "2022-06-21T15:13:31.205Z"
   },
   {
    "duration": 12,
    "start_time": "2022-06-21T15:13:37.456Z"
   },
   {
    "duration": 5,
    "start_time": "2022-06-21T15:13:44.243Z"
   },
   {
    "duration": 6,
    "start_time": "2022-06-21T15:13:51.145Z"
   },
   {
    "duration": 21,
    "start_time": "2022-06-21T15:14:07.617Z"
   },
   {
    "duration": 5,
    "start_time": "2022-06-21T15:15:00.681Z"
   },
   {
    "duration": 7,
    "start_time": "2022-06-21T15:15:58.138Z"
   },
   {
    "duration": 62,
    "start_time": "2022-06-22T07:22:36.776Z"
   },
   {
    "duration": 1512,
    "start_time": "2022-06-22T07:22:46.181Z"
   },
   {
    "duration": 145,
    "start_time": "2022-06-22T07:22:47.695Z"
   },
   {
    "duration": 36,
    "start_time": "2022-06-22T07:22:47.842Z"
   },
   {
    "duration": 311,
    "start_time": "2022-06-22T07:22:47.882Z"
   },
   {
    "duration": 26,
    "start_time": "2022-06-22T07:22:48.195Z"
   },
   {
    "duration": 780,
    "start_time": "2022-06-22T07:22:48.223Z"
   },
   {
    "duration": 21,
    "start_time": "2022-06-22T07:22:49.006Z"
   },
   {
    "duration": 441,
    "start_time": "2022-06-22T07:22:49.029Z"
   },
   {
    "duration": 29,
    "start_time": "2022-06-22T07:22:49.472Z"
   },
   {
    "duration": 85,
    "start_time": "2022-06-22T07:22:49.504Z"
   },
   {
    "duration": 16,
    "start_time": "2022-06-22T07:22:49.591Z"
   },
   {
    "duration": 20,
    "start_time": "2022-06-22T07:22:49.610Z"
   },
   {
    "duration": 696,
    "start_time": "2022-06-22T07:22:49.632Z"
   },
   {
    "duration": 27,
    "start_time": "2022-06-22T07:22:50.331Z"
   },
   {
    "duration": 16,
    "start_time": "2022-06-22T07:22:50.362Z"
   },
   {
    "duration": 3402,
    "start_time": "2022-06-22T07:22:50.381Z"
   },
   {
    "duration": 8,
    "start_time": "2022-06-22T07:22:53.786Z"
   },
   {
    "duration": 30,
    "start_time": "2022-06-22T07:22:53.796Z"
   },
   {
    "duration": 552,
    "start_time": "2022-06-22T07:22:53.828Z"
   },
   {
    "duration": 17,
    "start_time": "2022-06-22T07:22:54.384Z"
   },
   {
    "duration": 133,
    "start_time": "2022-06-22T07:22:54.403Z"
   },
   {
    "duration": 49,
    "start_time": "2022-06-22T07:22:54.538Z"
   },
   {
    "duration": 84,
    "start_time": "2022-06-22T07:22:54.592Z"
   },
   {
    "duration": 273,
    "start_time": "2022-06-22T07:22:54.683Z"
   },
   {
    "duration": 21,
    "start_time": "2022-06-22T07:22:54.965Z"
   },
   {
    "duration": 148,
    "start_time": "2022-06-22T07:22:54.988Z"
   },
   {
    "duration": 62,
    "start_time": "2022-06-22T07:22:55.138Z"
   },
   {
    "duration": 70,
    "start_time": "2022-06-22T07:22:55.206Z"
   },
   {
    "duration": 36,
    "start_time": "2022-06-22T07:22:55.282Z"
   },
   {
    "duration": 35,
    "start_time": "2022-06-22T07:22:55.320Z"
   },
   {
    "duration": 27,
    "start_time": "2022-06-22T07:22:55.357Z"
   },
   {
    "duration": 44,
    "start_time": "2022-06-22T07:22:55.387Z"
   },
   {
    "duration": 98,
    "start_time": "2022-06-22T07:22:55.433Z"
   },
   {
    "duration": 16,
    "start_time": "2022-06-22T07:22:55.533Z"
   },
   {
    "duration": 49,
    "start_time": "2022-06-22T07:22:55.551Z"
   },
   {
    "duration": 30,
    "start_time": "2022-06-22T07:22:55.602Z"
   },
   {
    "duration": 56,
    "start_time": "2022-06-22T07:22:55.634Z"
   },
   {
    "duration": 50,
    "start_time": "2022-06-22T07:22:55.692Z"
   },
   {
    "duration": 55,
    "start_time": "2022-06-22T07:22:55.744Z"
   },
   {
    "duration": 29,
    "start_time": "2022-06-22T07:22:55.801Z"
   },
   {
    "duration": 49,
    "start_time": "2022-06-22T07:22:55.833Z"
   },
   {
    "duration": 202,
    "start_time": "2022-06-22T07:22:55.884Z"
   },
   {
    "duration": 23,
    "start_time": "2022-06-22T07:22:56.088Z"
   },
   {
    "duration": 59,
    "start_time": "2022-06-22T07:22:56.113Z"
   },
   {
    "duration": 39,
    "start_time": "2022-06-22T07:22:56.177Z"
   },
   {
    "duration": 20,
    "start_time": "2022-06-22T07:22:56.219Z"
   },
   {
    "duration": 54,
    "start_time": "2022-06-22T07:22:56.241Z"
   },
   {
    "duration": 45,
    "start_time": "2022-06-22T07:22:56.298Z"
   },
   {
    "duration": 70,
    "start_time": "2022-06-22T07:22:56.345Z"
   },
   {
    "duration": 44,
    "start_time": "2022-06-22T07:22:56.417Z"
   },
   {
    "duration": 53,
    "start_time": "2022-06-22T07:22:56.463Z"
   },
   {
    "duration": 41,
    "start_time": "2022-06-22T07:22:56.518Z"
   },
   {
    "duration": 118,
    "start_time": "2022-06-22T07:22:56.562Z"
   },
   {
    "duration": 0,
    "start_time": "2022-06-22T07:22:56.685Z"
   },
   {
    "duration": 0,
    "start_time": "2022-06-22T07:22:56.688Z"
   },
   {
    "duration": 0,
    "start_time": "2022-06-22T07:22:56.689Z"
   },
   {
    "duration": 0,
    "start_time": "2022-06-22T07:22:56.690Z"
   },
   {
    "duration": 0,
    "start_time": "2022-06-22T07:22:56.692Z"
   },
   {
    "duration": 0,
    "start_time": "2022-06-22T07:22:56.693Z"
   },
   {
    "duration": 0,
    "start_time": "2022-06-22T07:22:56.695Z"
   },
   {
    "duration": 0,
    "start_time": "2022-06-22T07:22:56.696Z"
   },
   {
    "duration": 0,
    "start_time": "2022-06-22T07:22:56.697Z"
   },
   {
    "duration": 0,
    "start_time": "2022-06-22T07:22:56.698Z"
   },
   {
    "duration": 0,
    "start_time": "2022-06-22T07:22:56.699Z"
   },
   {
    "duration": 0,
    "start_time": "2022-06-22T07:22:56.701Z"
   },
   {
    "duration": 0,
    "start_time": "2022-06-22T07:22:56.702Z"
   },
   {
    "duration": 0,
    "start_time": "2022-06-22T07:22:56.703Z"
   },
   {
    "duration": 0,
    "start_time": "2022-06-22T07:22:56.705Z"
   },
   {
    "duration": 25,
    "start_time": "2022-06-22T07:23:08.679Z"
   },
   {
    "duration": 4,
    "start_time": "2022-06-22T07:23:24.198Z"
   },
   {
    "duration": 6,
    "start_time": "2022-06-22T07:23:27.789Z"
   },
   {
    "duration": 29,
    "start_time": "2022-06-22T07:24:55.233Z"
   },
   {
    "duration": 28,
    "start_time": "2022-06-22T07:26:12.279Z"
   },
   {
    "duration": 33,
    "start_time": "2022-06-22T07:26:48.577Z"
   },
   {
    "duration": 19,
    "start_time": "2022-06-22T07:31:45.079Z"
   },
   {
    "duration": 20,
    "start_time": "2022-06-22T07:33:25.692Z"
   },
   {
    "duration": 34,
    "start_time": "2022-06-22T07:33:31.949Z"
   },
   {
    "duration": 22,
    "start_time": "2022-06-22T07:33:42.251Z"
   },
   {
    "duration": 12,
    "start_time": "2022-06-22T07:34:32.393Z"
   },
   {
    "duration": 13,
    "start_time": "2022-06-22T07:34:42.333Z"
   },
   {
    "duration": 36,
    "start_time": "2022-06-22T07:35:50.289Z"
   },
   {
    "duration": 29,
    "start_time": "2022-06-22T07:36:04.621Z"
   },
   {
    "duration": 13,
    "start_time": "2022-06-22T07:47:29.084Z"
   },
   {
    "duration": 5,
    "start_time": "2022-06-22T07:47:50.425Z"
   },
   {
    "duration": 259,
    "start_time": "2022-06-22T07:47:58.168Z"
   },
   {
    "duration": 5,
    "start_time": "2022-06-22T07:48:20.176Z"
   },
   {
    "duration": 262,
    "start_time": "2022-06-22T07:48:27.184Z"
   },
   {
    "duration": 9,
    "start_time": "2022-06-22T07:48:34.367Z"
   },
   {
    "duration": 14,
    "start_time": "2022-06-22T07:48:57.719Z"
   },
   {
    "duration": 16,
    "start_time": "2022-06-22T07:50:01.982Z"
   },
   {
    "duration": 14,
    "start_time": "2022-06-22T07:54:05.734Z"
   },
   {
    "duration": 17,
    "start_time": "2022-06-22T07:54:07.621Z"
   },
   {
    "duration": 125,
    "start_time": "2022-06-22T08:05:38.451Z"
   },
   {
    "duration": 49,
    "start_time": "2022-06-22T08:07:11.072Z"
   },
   {
    "duration": 60,
    "start_time": "2022-06-22T08:07:31.267Z"
   },
   {
    "duration": 82,
    "start_time": "2022-06-22T08:07:36.107Z"
   },
   {
    "duration": 53,
    "start_time": "2022-06-22T08:07:48.695Z"
   },
   {
    "duration": 47,
    "start_time": "2022-06-22T08:08:28.790Z"
   },
   {
    "duration": 32,
    "start_time": "2022-06-22T08:08:59.517Z"
   },
   {
    "duration": 25,
    "start_time": "2022-06-22T08:13:03.615Z"
   },
   {
    "duration": 73,
    "start_time": "2022-06-22T08:14:03.129Z"
   },
   {
    "duration": 26,
    "start_time": "2022-06-22T08:14:07.152Z"
   },
   {
    "duration": 28,
    "start_time": "2022-06-22T08:14:23.989Z"
   },
   {
    "duration": 27,
    "start_time": "2022-06-22T08:14:29.283Z"
   },
   {
    "duration": 40,
    "start_time": "2022-06-22T08:14:29.426Z"
   },
   {
    "duration": 35,
    "start_time": "2022-06-22T08:14:33.327Z"
   },
   {
    "duration": 24,
    "start_time": "2022-06-22T08:14:36.280Z"
   },
   {
    "duration": 32,
    "start_time": "2022-06-22T08:14:39.937Z"
   },
   {
    "duration": 27,
    "start_time": "2022-06-22T08:14:46.151Z"
   },
   {
    "duration": 1502,
    "start_time": "2022-06-22T08:15:43.088Z"
   },
   {
    "duration": 47,
    "start_time": "2022-06-22T08:16:29.092Z"
   },
   {
    "duration": 1266,
    "start_time": "2022-06-22T08:16:41.015Z"
   },
   {
    "duration": 47,
    "start_time": "2022-06-22T08:16:51.037Z"
   },
   {
    "duration": 45,
    "start_time": "2022-06-22T08:17:03.871Z"
   },
   {
    "duration": 1018,
    "start_time": "2022-06-22T08:17:17.880Z"
   },
   {
    "duration": 1005,
    "start_time": "2022-06-22T08:17:33.115Z"
   },
   {
    "duration": 52,
    "start_time": "2022-06-22T08:17:39.727Z"
   },
   {
    "duration": 49,
    "start_time": "2022-06-22T08:17:44.033Z"
   },
   {
    "duration": 54,
    "start_time": "2022-06-22T08:17:57.592Z"
   },
   {
    "duration": 56,
    "start_time": "2022-06-22T08:18:06.079Z"
   },
   {
    "duration": 60,
    "start_time": "2022-06-22T08:18:21.721Z"
   },
   {
    "duration": 21,
    "start_time": "2022-06-22T08:19:46.500Z"
   },
   {
    "duration": 13,
    "start_time": "2022-06-22T08:19:51.678Z"
   },
   {
    "duration": 14,
    "start_time": "2022-06-22T08:19:57.500Z"
   },
   {
    "duration": 14,
    "start_time": "2022-06-22T08:20:08.616Z"
   },
   {
    "duration": 15,
    "start_time": "2022-06-22T08:20:56.616Z"
   },
   {
    "duration": 17,
    "start_time": "2022-06-22T08:21:04.999Z"
   },
   {
    "duration": 6,
    "start_time": "2022-06-22T08:22:47.103Z"
   },
   {
    "duration": 13,
    "start_time": "2022-06-22T08:23:00.129Z"
   },
   {
    "duration": 10,
    "start_time": "2022-06-22T08:23:14.806Z"
   },
   {
    "duration": 12,
    "start_time": "2022-06-22T08:23:25.080Z"
   },
   {
    "duration": 13,
    "start_time": "2022-06-22T08:24:04.544Z"
   },
   {
    "duration": 37,
    "start_time": "2022-06-22T08:24:18.933Z"
   },
   {
    "duration": 9,
    "start_time": "2022-06-22T08:24:48.516Z"
   },
   {
    "duration": 32,
    "start_time": "2022-06-22T08:25:20.526Z"
   },
   {
    "duration": 14,
    "start_time": "2022-06-22T08:25:26.677Z"
   },
   {
    "duration": 24,
    "start_time": "2022-06-22T08:26:16.778Z"
   },
   {
    "duration": 22,
    "start_time": "2022-06-22T08:31:33.113Z"
   },
   {
    "duration": 31,
    "start_time": "2022-06-22T08:32:00.507Z"
   },
   {
    "duration": 56,
    "start_time": "2022-06-22T08:32:19.348Z"
   },
   {
    "duration": 41,
    "start_time": "2022-06-22T08:32:27.489Z"
   },
   {
    "duration": 7,
    "start_time": "2022-06-22T08:33:15.403Z"
   },
   {
    "duration": 36,
    "start_time": "2022-06-22T08:33:18.124Z"
   },
   {
    "duration": 6,
    "start_time": "2022-06-22T08:34:24.380Z"
   },
   {
    "duration": 41,
    "start_time": "2022-06-22T08:34:31.979Z"
   },
   {
    "duration": 8,
    "start_time": "2022-06-22T08:35:54.249Z"
   },
   {
    "duration": 6,
    "start_time": "2022-06-22T08:36:14.921Z"
   },
   {
    "duration": 35,
    "start_time": "2022-06-22T08:36:18.591Z"
   },
   {
    "duration": 35,
    "start_time": "2022-06-22T08:36:56.579Z"
   },
   {
    "duration": 10,
    "start_time": "2022-06-22T08:37:42.481Z"
   },
   {
    "duration": 11,
    "start_time": "2022-06-22T08:38:01.559Z"
   },
   {
    "duration": 19,
    "start_time": "2022-06-22T08:38:06.092Z"
   },
   {
    "duration": 5,
    "start_time": "2022-06-22T08:38:28.497Z"
   },
   {
    "duration": 14,
    "start_time": "2022-06-22T08:38:30.509Z"
   },
   {
    "duration": 38,
    "start_time": "2022-06-22T08:38:38.423Z"
   },
   {
    "duration": 5,
    "start_time": "2022-06-22T08:38:39.607Z"
   },
   {
    "duration": 11,
    "start_time": "2022-06-22T08:38:40.398Z"
   },
   {
    "duration": 12,
    "start_time": "2022-06-22T08:38:41.164Z"
   },
   {
    "duration": 5,
    "start_time": "2022-06-22T08:38:41.829Z"
   },
   {
    "duration": 40,
    "start_time": "2022-06-22T08:38:45.644Z"
   },
   {
    "duration": 1185,
    "start_time": "2022-06-22T08:39:11.452Z"
   },
   {
    "duration": 11,
    "start_time": "2022-06-22T08:39:20.382Z"
   },
   {
    "duration": 22,
    "start_time": "2022-06-22T08:39:32.307Z"
   },
   {
    "duration": 17,
    "start_time": "2022-06-22T08:39:49.903Z"
   },
   {
    "duration": 34,
    "start_time": "2022-06-22T08:40:10.205Z"
   },
   {
    "duration": 9,
    "start_time": "2022-06-22T08:40:11.148Z"
   },
   {
    "duration": 5,
    "start_time": "2022-06-22T08:40:11.940Z"
   },
   {
    "duration": 8,
    "start_time": "2022-06-22T08:40:12.677Z"
   },
   {
    "duration": 6,
    "start_time": "2022-06-22T08:40:13.235Z"
   },
   {
    "duration": 26,
    "start_time": "2022-06-22T08:40:19.977Z"
   },
   {
    "duration": 11,
    "start_time": "2022-06-22T08:40:23.385Z"
   },
   {
    "duration": 21,
    "start_time": "2022-06-22T08:40:29.081Z"
   },
   {
    "duration": 9,
    "start_time": "2022-06-22T08:40:32.684Z"
   },
   {
    "duration": 15,
    "start_time": "2022-06-22T08:40:41.009Z"
   },
   {
    "duration": 20,
    "start_time": "2022-06-22T08:40:49.495Z"
   },
   {
    "duration": 5,
    "start_time": "2022-06-22T08:44:00.603Z"
   },
   {
    "duration": 14,
    "start_time": "2022-06-22T08:44:02.627Z"
   },
   {
    "duration": 18,
    "start_time": "2022-06-22T08:45:26.887Z"
   },
   {
    "duration": 9,
    "start_time": "2022-06-22T08:45:43.046Z"
   },
   {
    "duration": 17,
    "start_time": "2022-06-22T08:46:06.973Z"
   },
   {
    "duration": 11,
    "start_time": "2022-06-22T08:46:20.368Z"
   },
   {
    "duration": 7,
    "start_time": "2022-06-22T08:46:30.817Z"
   },
   {
    "duration": 11,
    "start_time": "2022-06-22T08:46:40.877Z"
   },
   {
    "duration": 10,
    "start_time": "2022-06-22T08:47:20.378Z"
   },
   {
    "duration": 25,
    "start_time": "2022-06-22T08:48:09.949Z"
   },
   {
    "duration": 16,
    "start_time": "2022-06-22T08:48:50.609Z"
   },
   {
    "duration": 4,
    "start_time": "2022-06-22T08:52:01.824Z"
   },
   {
    "duration": 80,
    "start_time": "2022-06-22T08:52:01.832Z"
   },
   {
    "duration": 14,
    "start_time": "2022-06-22T08:52:01.914Z"
   },
   {
    "duration": 255,
    "start_time": "2022-06-22T08:52:01.930Z"
   },
   {
    "duration": 28,
    "start_time": "2022-06-22T08:52:02.187Z"
   },
   {
    "duration": 176,
    "start_time": "2022-06-22T08:52:02.217Z"
   },
   {
    "duration": 23,
    "start_time": "2022-06-22T08:52:02.395Z"
   },
   {
    "duration": 198,
    "start_time": "2022-06-22T08:52:02.420Z"
   },
   {
    "duration": 35,
    "start_time": "2022-06-22T08:52:02.621Z"
   },
   {
    "duration": 37,
    "start_time": "2022-06-22T08:52:02.660Z"
   },
   {
    "duration": 13,
    "start_time": "2022-06-22T08:52:02.701Z"
   },
   {
    "duration": 20,
    "start_time": "2022-06-22T08:52:02.716Z"
   },
   {
    "duration": 587,
    "start_time": "2022-06-22T08:52:02.739Z"
   },
   {
    "duration": 9,
    "start_time": "2022-06-22T08:52:03.328Z"
   },
   {
    "duration": 31,
    "start_time": "2022-06-22T08:52:03.339Z"
   },
   {
    "duration": 3736,
    "start_time": "2022-06-22T08:52:03.373Z"
   },
   {
    "duration": 9,
    "start_time": "2022-06-22T08:52:07.112Z"
   },
   {
    "duration": 29,
    "start_time": "2022-06-22T08:52:07.123Z"
   },
   {
    "duration": 487,
    "start_time": "2022-06-22T08:52:07.163Z"
   },
   {
    "duration": 18,
    "start_time": "2022-06-22T08:52:07.654Z"
   },
   {
    "duration": 153,
    "start_time": "2022-06-22T08:52:07.674Z"
   },
   {
    "duration": 43,
    "start_time": "2022-06-22T08:52:07.830Z"
   },
   {
    "duration": 59,
    "start_time": "2022-06-22T08:52:07.879Z"
   },
   {
    "duration": 250,
    "start_time": "2022-06-22T08:52:07.940Z"
   },
   {
    "duration": 14,
    "start_time": "2022-06-22T08:52:08.195Z"
   },
   {
    "duration": 117,
    "start_time": "2022-06-22T08:52:08.212Z"
   },
   {
    "duration": 66,
    "start_time": "2022-06-22T08:52:08.331Z"
   },
   {
    "duration": 76,
    "start_time": "2022-06-22T08:52:08.399Z"
   },
   {
    "duration": 121,
    "start_time": "2022-06-22T08:52:08.484Z"
   },
   {
    "duration": 14,
    "start_time": "2022-06-22T08:52:08.607Z"
   },
   {
    "duration": 10,
    "start_time": "2022-06-22T08:52:08.624Z"
   },
   {
    "duration": 49,
    "start_time": "2022-06-22T08:52:08.636Z"
   },
   {
    "duration": 34,
    "start_time": "2022-06-22T08:52:08.688Z"
   },
   {
    "duration": 11,
    "start_time": "2022-06-22T08:52:08.724Z"
   },
   {
    "duration": 26,
    "start_time": "2022-06-22T08:52:08.738Z"
   },
   {
    "duration": 32,
    "start_time": "2022-06-22T08:52:08.769Z"
   },
   {
    "duration": 9,
    "start_time": "2022-06-22T08:52:08.804Z"
   },
   {
    "duration": 6,
    "start_time": "2022-06-22T08:52:08.815Z"
   },
   {
    "duration": 6,
    "start_time": "2022-06-22T08:52:08.824Z"
   },
   {
    "duration": 9,
    "start_time": "2022-06-22T08:52:08.832Z"
   },
   {
    "duration": 16,
    "start_time": "2022-06-22T08:52:08.843Z"
   },
   {
    "duration": 237,
    "start_time": "2022-06-22T08:52:08.861Z"
   },
   {
    "duration": 30,
    "start_time": "2022-06-22T08:52:09.101Z"
   },
   {
    "duration": 63,
    "start_time": "2022-06-22T08:52:09.133Z"
   },
   {
    "duration": 21,
    "start_time": "2022-06-22T08:52:09.199Z"
   },
   {
    "duration": 8,
    "start_time": "2022-06-22T08:52:09.223Z"
   },
   {
    "duration": 22,
    "start_time": "2022-06-22T08:52:09.234Z"
   },
   {
    "duration": 26,
    "start_time": "2022-06-22T08:52:09.258Z"
   },
   {
    "duration": 17,
    "start_time": "2022-06-22T08:52:09.286Z"
   },
   {
    "duration": 27,
    "start_time": "2022-06-22T08:52:09.305Z"
   },
   {
    "duration": 29,
    "start_time": "2022-06-22T08:52:09.334Z"
   },
   {
    "duration": 30,
    "start_time": "2022-06-22T08:52:09.366Z"
   },
   {
    "duration": 11,
    "start_time": "2022-06-22T08:52:09.399Z"
   },
   {
    "duration": 0,
    "start_time": "2022-06-22T08:52:09.413Z"
   },
   {
    "duration": 0,
    "start_time": "2022-06-22T08:52:09.414Z"
   },
   {
    "duration": 0,
    "start_time": "2022-06-22T08:52:09.417Z"
   },
   {
    "duration": 0,
    "start_time": "2022-06-22T08:52:09.419Z"
   },
   {
    "duration": 0,
    "start_time": "2022-06-22T08:52:09.421Z"
   },
   {
    "duration": 0,
    "start_time": "2022-06-22T08:52:09.423Z"
   },
   {
    "duration": 0,
    "start_time": "2022-06-22T08:52:09.425Z"
   },
   {
    "duration": 1,
    "start_time": "2022-06-22T08:52:09.427Z"
   },
   {
    "duration": 0,
    "start_time": "2022-06-22T08:52:09.429Z"
   },
   {
    "duration": 0,
    "start_time": "2022-06-22T08:52:09.430Z"
   },
   {
    "duration": 0,
    "start_time": "2022-06-22T08:52:09.453Z"
   },
   {
    "duration": 0,
    "start_time": "2022-06-22T08:52:09.454Z"
   },
   {
    "duration": 0,
    "start_time": "2022-06-22T08:52:09.455Z"
   },
   {
    "duration": 0,
    "start_time": "2022-06-22T08:52:09.457Z"
   },
   {
    "duration": 13,
    "start_time": "2022-06-22T08:58:39.873Z"
   },
   {
    "duration": 21,
    "start_time": "2022-06-22T08:58:39.888Z"
   },
   {
    "duration": 411,
    "start_time": "2022-06-22T08:58:39.911Z"
   },
   {
    "duration": 351,
    "start_time": "2022-06-22T08:58:40.325Z"
   },
   {
    "duration": 360,
    "start_time": "2022-06-22T08:58:40.679Z"
   },
   {
    "duration": 25,
    "start_time": "2022-06-22T08:58:41.041Z"
   },
   {
    "duration": 0,
    "start_time": "2022-06-22T08:58:41.069Z"
   },
   {
    "duration": 0,
    "start_time": "2022-06-22T08:58:41.070Z"
   },
   {
    "duration": 0,
    "start_time": "2022-06-22T08:58:41.071Z"
   },
   {
    "duration": 0,
    "start_time": "2022-06-22T08:58:41.072Z"
   },
   {
    "duration": 0,
    "start_time": "2022-06-22T08:58:41.073Z"
   },
   {
    "duration": 0,
    "start_time": "2022-06-22T08:58:41.080Z"
   },
   {
    "duration": 0,
    "start_time": "2022-06-22T08:58:41.081Z"
   },
   {
    "duration": 0,
    "start_time": "2022-06-22T08:58:41.083Z"
   },
   {
    "duration": 0,
    "start_time": "2022-06-22T08:58:41.084Z"
   },
   {
    "duration": 35,
    "start_time": "2022-06-22T08:59:48.191Z"
   },
   {
    "duration": 47,
    "start_time": "2022-06-22T09:00:21.389Z"
   },
   {
    "duration": 31,
    "start_time": "2022-06-22T09:01:06.287Z"
   },
   {
    "duration": 6,
    "start_time": "2022-06-22T09:01:06.321Z"
   },
   {
    "duration": 12,
    "start_time": "2022-06-22T09:01:06.330Z"
   },
   {
    "duration": 17,
    "start_time": "2022-06-22T09:01:06.344Z"
   },
   {
    "duration": 25,
    "start_time": "2022-06-22T09:01:06.371Z"
   },
   {
    "duration": 15,
    "start_time": "2022-06-22T09:01:06.397Z"
   },
   {
    "duration": 12,
    "start_time": "2022-06-22T09:01:06.414Z"
   },
   {
    "duration": 15,
    "start_time": "2022-06-22T09:01:06.428Z"
   },
   {
    "duration": 31,
    "start_time": "2022-06-22T09:01:06.446Z"
   },
   {
    "duration": 1194,
    "start_time": "2022-06-23T08:14:28.009Z"
   },
   {
    "duration": 87,
    "start_time": "2022-06-23T08:14:29.205Z"
   },
   {
    "duration": 11,
    "start_time": "2022-06-23T08:14:29.293Z"
   },
   {
    "duration": 235,
    "start_time": "2022-06-23T08:14:29.306Z"
   },
   {
    "duration": 24,
    "start_time": "2022-06-23T08:14:29.543Z"
   },
   {
    "duration": 285,
    "start_time": "2022-06-23T08:14:29.569Z"
   },
   {
    "duration": 18,
    "start_time": "2022-06-23T08:14:29.856Z"
   },
   {
    "duration": 334,
    "start_time": "2022-06-23T08:14:29.876Z"
   },
   {
    "duration": 21,
    "start_time": "2022-06-23T08:14:30.212Z"
   },
   {
    "duration": 85,
    "start_time": "2022-06-23T08:14:30.234Z"
   },
   {
    "duration": 11,
    "start_time": "2022-06-23T08:14:30.320Z"
   },
   {
    "duration": 28,
    "start_time": "2022-06-23T08:14:30.332Z"
   },
   {
    "duration": 26,
    "start_time": "2022-06-23T08:14:30.362Z"
   },
   {
    "duration": 574,
    "start_time": "2022-06-23T08:14:30.392Z"
   },
   {
    "duration": 7,
    "start_time": "2022-06-23T08:14:30.967Z"
   },
   {
    "duration": 43,
    "start_time": "2022-06-23T08:14:30.975Z"
   },
   {
    "duration": 2306,
    "start_time": "2022-06-23T08:14:31.020Z"
   },
   {
    "duration": 5,
    "start_time": "2022-06-23T08:14:33.328Z"
   },
   {
    "duration": 14,
    "start_time": "2022-06-23T08:14:33.335Z"
   },
   {
    "duration": 820,
    "start_time": "2022-06-23T08:14:33.350Z"
   },
   {
    "duration": 7,
    "start_time": "2022-06-23T08:14:34.171Z"
   },
   {
    "duration": 187,
    "start_time": "2022-06-23T08:14:34.180Z"
   },
   {
    "duration": 36,
    "start_time": "2022-06-23T08:14:34.369Z"
   },
   {
    "duration": 32,
    "start_time": "2022-06-23T08:14:34.459Z"
   },
   {
    "duration": 377,
    "start_time": "2022-06-23T08:14:34.493Z"
   },
   {
    "duration": 11,
    "start_time": "2022-06-23T08:14:34.871Z"
   },
   {
    "duration": 179,
    "start_time": "2022-06-23T08:14:34.883Z"
   },
   {
    "duration": 95,
    "start_time": "2022-06-23T08:14:35.064Z"
   },
   {
    "duration": 41,
    "start_time": "2022-06-23T08:14:35.161Z"
   },
   {
    "duration": 27,
    "start_time": "2022-06-23T08:14:35.204Z"
   },
   {
    "duration": 35,
    "start_time": "2022-06-23T08:14:35.232Z"
   },
   {
    "duration": 6,
    "start_time": "2022-06-23T08:14:35.269Z"
   },
   {
    "duration": 17,
    "start_time": "2022-06-23T08:14:35.276Z"
   },
   {
    "duration": 27,
    "start_time": "2022-06-23T08:14:35.295Z"
   },
   {
    "duration": 35,
    "start_time": "2022-06-23T08:14:35.324Z"
   },
   {
    "duration": 8,
    "start_time": "2022-06-23T08:14:35.361Z"
   },
   {
    "duration": 9,
    "start_time": "2022-06-23T08:14:35.370Z"
   },
   {
    "duration": 9,
    "start_time": "2022-06-23T08:14:35.381Z"
   },
   {
    "duration": 12,
    "start_time": "2022-06-23T08:14:35.392Z"
   },
   {
    "duration": 9,
    "start_time": "2022-06-23T08:14:35.406Z"
   },
   {
    "duration": 7,
    "start_time": "2022-06-23T08:14:35.419Z"
   },
   {
    "duration": 8,
    "start_time": "2022-06-23T08:14:35.427Z"
   },
   {
    "duration": 141,
    "start_time": "2022-06-23T08:14:35.437Z"
   },
   {
    "duration": 18,
    "start_time": "2022-06-23T08:14:35.580Z"
   },
   {
    "duration": 17,
    "start_time": "2022-06-23T08:14:35.600Z"
   },
   {
    "duration": 14,
    "start_time": "2022-06-23T08:14:35.618Z"
   },
   {
    "duration": 33,
    "start_time": "2022-06-23T08:14:35.634Z"
   },
   {
    "duration": 8,
    "start_time": "2022-06-23T08:14:35.668Z"
   },
   {
    "duration": 22,
    "start_time": "2022-06-23T08:14:35.677Z"
   },
   {
    "duration": 4,
    "start_time": "2022-06-23T08:14:35.700Z"
   },
   {
    "duration": 18,
    "start_time": "2022-06-23T08:14:35.706Z"
   },
   {
    "duration": 14,
    "start_time": "2022-06-23T08:14:35.727Z"
   },
   {
    "duration": 19,
    "start_time": "2022-06-23T08:14:35.742Z"
   },
   {
    "duration": 16,
    "start_time": "2022-06-23T08:14:35.762Z"
   },
   {
    "duration": 302,
    "start_time": "2022-06-23T08:14:35.780Z"
   },
   {
    "duration": 278,
    "start_time": "2022-06-23T08:14:36.084Z"
   },
   {
    "duration": 282,
    "start_time": "2022-06-23T08:14:36.364Z"
   },
   {
    "duration": 43,
    "start_time": "2022-06-23T08:14:36.647Z"
   },
   {
    "duration": 19,
    "start_time": "2022-06-23T08:14:36.692Z"
   },
   {
    "duration": 11,
    "start_time": "2022-06-23T08:14:36.712Z"
   },
   {
    "duration": 10,
    "start_time": "2022-06-23T08:14:36.724Z"
   },
   {
    "duration": 25,
    "start_time": "2022-06-23T08:14:36.735Z"
   },
   {
    "duration": 5,
    "start_time": "2022-06-23T08:14:36.761Z"
   },
   {
    "duration": 22,
    "start_time": "2022-06-23T08:14:36.768Z"
   },
   {
    "duration": 8,
    "start_time": "2022-06-23T08:14:36.792Z"
   },
   {
    "duration": 90,
    "start_time": "2022-06-23T08:14:36.802Z"
   },
   {
    "duration": 11,
    "start_time": "2022-06-23T08:14:36.893Z"
   },
   {
    "duration": 7,
    "start_time": "2022-06-23T08:25:04.250Z"
   },
   {
    "duration": 81,
    "start_time": "2022-06-23T08:28:56.716Z"
   },
   {
    "duration": 4,
    "start_time": "2022-06-23T08:29:09.924Z"
   },
   {
    "duration": 98,
    "start_time": "2022-06-23T08:29:12.132Z"
   },
   {
    "duration": 4,
    "start_time": "2022-06-23T08:29:21.805Z"
   },
   {
    "duration": 22,
    "start_time": "2022-06-23T08:29:29.568Z"
   },
   {
    "duration": 5,
    "start_time": "2022-06-23T08:29:32.389Z"
   },
   {
    "duration": 164,
    "start_time": "2022-06-23T08:29:44.438Z"
   },
   {
    "duration": 186,
    "start_time": "2022-06-23T08:30:02.986Z"
   },
   {
    "duration": 157,
    "start_time": "2022-06-23T08:30:07.143Z"
   },
   {
    "duration": 50,
    "start_time": "2022-06-23T08:30:10.320Z"
   },
   {
    "duration": 14,
    "start_time": "2022-06-23T08:30:35.114Z"
   },
   {
    "duration": 1504,
    "start_time": "2022-06-23T08:30:40.216Z"
   },
   {
    "duration": 1205,
    "start_time": "2022-06-23T08:35:13.185Z"
   },
   {
    "duration": 78,
    "start_time": "2022-06-23T08:35:14.392Z"
   },
   {
    "duration": 11,
    "start_time": "2022-06-23T08:35:14.472Z"
   },
   {
    "duration": 279,
    "start_time": "2022-06-23T08:35:14.485Z"
   },
   {
    "duration": 24,
    "start_time": "2022-06-23T08:35:14.766Z"
   },
   {
    "duration": 95,
    "start_time": "2022-06-23T08:35:14.792Z"
   },
   {
    "duration": 19,
    "start_time": "2022-06-23T08:35:14.889Z"
   },
   {
    "duration": 150,
    "start_time": "2022-06-23T08:35:14.910Z"
   },
   {
    "duration": 20,
    "start_time": "2022-06-23T08:35:15.062Z"
   },
   {
    "duration": 21,
    "start_time": "2022-06-23T08:35:15.085Z"
   },
   {
    "duration": 10,
    "start_time": "2022-06-23T08:35:15.107Z"
   },
   {
    "duration": 24,
    "start_time": "2022-06-23T08:35:15.119Z"
   },
   {
    "duration": 13,
    "start_time": "2022-06-23T08:35:15.159Z"
   },
   {
    "duration": 546,
    "start_time": "2022-06-23T08:35:15.174Z"
   },
   {
    "duration": 8,
    "start_time": "2022-06-23T08:35:15.721Z"
   },
   {
    "duration": 12,
    "start_time": "2022-06-23T08:35:15.731Z"
   },
   {
    "duration": 2372,
    "start_time": "2022-06-23T08:35:15.744Z"
   },
   {
    "duration": 7,
    "start_time": "2022-06-23T08:35:18.118Z"
   },
   {
    "duration": 9,
    "start_time": "2022-06-23T08:35:18.127Z"
   },
   {
    "duration": 416,
    "start_time": "2022-06-23T08:35:18.138Z"
   },
   {
    "duration": 6,
    "start_time": "2022-06-23T08:35:18.558Z"
   },
   {
    "duration": 66,
    "start_time": "2022-06-23T08:35:18.566Z"
   },
   {
    "duration": 47,
    "start_time": "2022-06-23T08:35:18.634Z"
   },
   {
    "duration": 23,
    "start_time": "2022-06-23T08:35:18.683Z"
   },
   {
    "duration": 190,
    "start_time": "2022-06-23T08:35:18.707Z"
   },
   {
    "duration": 10,
    "start_time": "2022-06-23T08:35:18.899Z"
   },
   {
    "duration": 89,
    "start_time": "2022-06-23T08:35:18.911Z"
   },
   {
    "duration": 42,
    "start_time": "2022-06-23T08:35:19.004Z"
   },
   {
    "duration": 49,
    "start_time": "2022-06-23T08:35:19.047Z"
   },
   {
    "duration": 28,
    "start_time": "2022-06-23T08:35:19.097Z"
   },
   {
    "duration": 34,
    "start_time": "2022-06-23T08:35:19.126Z"
   },
   {
    "duration": 4,
    "start_time": "2022-06-23T08:35:19.162Z"
   },
   {
    "duration": 19,
    "start_time": "2022-06-23T08:35:19.167Z"
   },
   {
    "duration": 48,
    "start_time": "2022-06-23T08:35:19.187Z"
   },
   {
    "duration": 6,
    "start_time": "2022-06-23T08:35:19.237Z"
   },
   {
    "duration": 21,
    "start_time": "2022-06-23T08:35:19.245Z"
   },
   {
    "duration": 32,
    "start_time": "2022-06-23T08:35:19.268Z"
   },
   {
    "duration": 34,
    "start_time": "2022-06-23T08:35:19.302Z"
   },
   {
    "duration": 32,
    "start_time": "2022-06-23T08:35:19.338Z"
   },
   {
    "duration": 38,
    "start_time": "2022-06-23T08:35:19.372Z"
   },
   {
    "duration": 13,
    "start_time": "2022-06-23T08:35:19.412Z"
   },
   {
    "duration": 36,
    "start_time": "2022-06-23T08:35:19.427Z"
   },
   {
    "duration": 145,
    "start_time": "2022-06-23T08:35:19.465Z"
   },
   {
    "duration": 19,
    "start_time": "2022-06-23T08:35:19.611Z"
   },
   {
    "duration": 36,
    "start_time": "2022-06-23T08:35:19.632Z"
   },
   {
    "duration": 27,
    "start_time": "2022-06-23T08:35:19.669Z"
   },
   {
    "duration": 6,
    "start_time": "2022-06-23T08:35:19.698Z"
   },
   {
    "duration": 19,
    "start_time": "2022-06-23T08:35:19.705Z"
   },
   {
    "duration": 46,
    "start_time": "2022-06-23T08:35:19.726Z"
   },
   {
    "duration": 8,
    "start_time": "2022-06-23T08:35:19.774Z"
   },
   {
    "duration": 38,
    "start_time": "2022-06-23T08:35:19.784Z"
   },
   {
    "duration": 27,
    "start_time": "2022-06-23T08:35:19.823Z"
   },
   {
    "duration": 30,
    "start_time": "2022-06-23T08:35:19.852Z"
   },
   {
    "duration": 38,
    "start_time": "2022-06-23T08:35:19.883Z"
   },
   {
    "duration": 300,
    "start_time": "2022-06-23T08:35:19.922Z"
   },
   {
    "duration": 260,
    "start_time": "2022-06-23T08:35:20.223Z"
   },
   {
    "duration": 261,
    "start_time": "2022-06-23T08:35:20.485Z"
   },
   {
    "duration": 42,
    "start_time": "2022-06-23T08:35:20.748Z"
   },
   {
    "duration": 7,
    "start_time": "2022-06-23T08:35:20.792Z"
   },
   {
    "duration": 28,
    "start_time": "2022-06-23T08:35:20.801Z"
   },
   {
    "duration": 5,
    "start_time": "2022-06-23T08:35:20.831Z"
   },
   {
    "duration": 29,
    "start_time": "2022-06-23T08:35:20.837Z"
   },
   {
    "duration": 9,
    "start_time": "2022-06-23T08:35:20.867Z"
   },
   {
    "duration": 10,
    "start_time": "2022-06-23T08:35:20.878Z"
   },
   {
    "duration": 80,
    "start_time": "2022-06-23T08:35:20.890Z"
   },
   {
    "duration": 14,
    "start_time": "2022-06-23T08:35:20.972Z"
   },
   {
    "duration": 13,
    "start_time": "2022-06-23T08:35:20.988Z"
   },
   {
    "duration": 19,
    "start_time": "2022-06-23T08:35:21.003Z"
   },
   {
    "duration": 73,
    "start_time": "2022-06-23T08:35:21.024Z"
   },
   {
    "duration": 3,
    "start_time": "2022-06-23T08:35:21.098Z"
   },
   {
    "duration": 1420,
    "start_time": "2022-06-23T08:35:21.103Z"
   },
   {
    "duration": 174,
    "start_time": "2022-06-23T08:35:22.525Z"
   },
   {
    "duration": 178,
    "start_time": "2022-06-23T08:35:22.702Z"
   },
   {
    "duration": 188,
    "start_time": "2022-06-23T08:35:22.882Z"
   },
   {
    "duration": 53,
    "start_time": "2022-06-23T08:35:23.072Z"
   },
   {
    "duration": 1231,
    "start_time": "2022-06-23T10:34:47.823Z"
   },
   {
    "duration": 86,
    "start_time": "2022-06-23T10:34:49.056Z"
   },
   {
    "duration": 11,
    "start_time": "2022-06-23T10:34:49.144Z"
   },
   {
    "duration": 455,
    "start_time": "2022-06-23T10:34:49.157Z"
   },
   {
    "duration": 20,
    "start_time": "2022-06-23T10:34:49.614Z"
   },
   {
    "duration": 140,
    "start_time": "2022-06-23T10:34:49.635Z"
   },
   {
    "duration": 16,
    "start_time": "2022-06-23T10:34:49.777Z"
   },
   {
    "duration": 401,
    "start_time": "2022-06-23T10:34:49.794Z"
   },
   {
    "duration": 21,
    "start_time": "2022-06-23T10:34:50.197Z"
   },
   {
    "duration": 64,
    "start_time": "2022-06-23T10:34:50.220Z"
   },
   {
    "duration": 10,
    "start_time": "2022-06-23T10:34:50.286Z"
   },
   {
    "duration": 23,
    "start_time": "2022-06-23T10:34:50.298Z"
   },
   {
    "duration": 18,
    "start_time": "2022-06-23T10:34:50.322Z"
   },
   {
    "duration": 544,
    "start_time": "2022-06-23T10:34:50.343Z"
   },
   {
    "duration": 7,
    "start_time": "2022-06-23T10:34:50.889Z"
   },
   {
    "duration": 8,
    "start_time": "2022-06-23T10:34:50.897Z"
   },
   {
    "duration": 2191,
    "start_time": "2022-06-23T10:34:50.906Z"
   },
   {
    "duration": 5,
    "start_time": "2022-06-23T10:34:53.098Z"
   },
   {
    "duration": 7,
    "start_time": "2022-06-23T10:34:53.105Z"
   },
   {
    "duration": 372,
    "start_time": "2022-06-23T10:34:53.113Z"
   },
   {
    "duration": 5,
    "start_time": "2022-06-23T10:34:53.487Z"
   },
   {
    "duration": 77,
    "start_time": "2022-06-23T10:34:53.494Z"
   },
   {
    "duration": 30,
    "start_time": "2022-06-23T10:34:53.572Z"
   },
   {
    "duration": 41,
    "start_time": "2022-06-23T10:34:53.604Z"
   },
   {
    "duration": 168,
    "start_time": "2022-06-23T10:34:53.646Z"
   },
   {
    "duration": 21,
    "start_time": "2022-06-23T10:34:53.815Z"
   },
   {
    "duration": 72,
    "start_time": "2022-06-23T10:34:53.837Z"
   },
   {
    "duration": 50,
    "start_time": "2022-06-23T10:34:53.911Z"
   },
   {
    "duration": 40,
    "start_time": "2022-06-23T10:34:53.962Z"
   },
   {
    "duration": 42,
    "start_time": "2022-06-23T10:34:54.003Z"
   },
   {
    "duration": 9,
    "start_time": "2022-06-23T10:34:54.047Z"
   },
   {
    "duration": 6,
    "start_time": "2022-06-23T10:34:54.058Z"
   },
   {
    "duration": 13,
    "start_time": "2022-06-23T10:34:54.065Z"
   },
   {
    "duration": 28,
    "start_time": "2022-06-23T10:34:54.080Z"
   },
   {
    "duration": 21,
    "start_time": "2022-06-23T10:34:54.109Z"
   },
   {
    "duration": 6,
    "start_time": "2022-06-23T10:34:54.131Z"
   },
   {
    "duration": 7,
    "start_time": "2022-06-23T10:34:54.138Z"
   },
   {
    "duration": 6,
    "start_time": "2022-06-23T10:34:54.147Z"
   },
   {
    "duration": 13,
    "start_time": "2022-06-23T10:34:54.154Z"
   },
   {
    "duration": 6,
    "start_time": "2022-06-23T10:34:54.168Z"
   },
   {
    "duration": 2,
    "start_time": "2022-06-23T10:34:54.179Z"
   },
   {
    "duration": 5,
    "start_time": "2022-06-23T10:34:54.183Z"
   },
   {
    "duration": 146,
    "start_time": "2022-06-23T10:34:54.190Z"
   },
   {
    "duration": 18,
    "start_time": "2022-06-23T10:34:54.338Z"
   },
   {
    "duration": 17,
    "start_time": "2022-06-23T10:34:54.358Z"
   },
   {
    "duration": 14,
    "start_time": "2022-06-23T10:34:54.376Z"
   },
   {
    "duration": 4,
    "start_time": "2022-06-23T10:34:54.392Z"
   },
   {
    "duration": 33,
    "start_time": "2022-06-23T10:34:54.398Z"
   },
   {
    "duration": 22,
    "start_time": "2022-06-23T10:34:54.433Z"
   },
   {
    "duration": 3,
    "start_time": "2022-06-23T10:34:54.456Z"
   },
   {
    "duration": 15,
    "start_time": "2022-06-23T10:34:54.461Z"
   },
   {
    "duration": 10,
    "start_time": "2022-06-23T10:34:54.477Z"
   },
   {
    "duration": 6,
    "start_time": "2022-06-23T10:34:54.488Z"
   },
   {
    "duration": 12,
    "start_time": "2022-06-23T10:34:54.495Z"
   },
   {
    "duration": 275,
    "start_time": "2022-06-23T10:34:54.529Z"
   },
   {
    "duration": 242,
    "start_time": "2022-06-23T10:34:54.805Z"
   },
   {
    "duration": 263,
    "start_time": "2022-06-23T10:34:55.048Z"
   },
   {
    "duration": 40,
    "start_time": "2022-06-23T10:34:55.313Z"
   },
   {
    "duration": 6,
    "start_time": "2022-06-23T10:34:55.355Z"
   },
   {
    "duration": 7,
    "start_time": "2022-06-23T10:34:55.362Z"
   },
   {
    "duration": 96,
    "start_time": "2022-06-23T10:34:55.371Z"
   },
   {
    "duration": 0,
    "start_time": "2022-06-23T10:34:55.469Z"
   },
   {
    "duration": 0,
    "start_time": "2022-06-23T10:34:55.470Z"
   },
   {
    "duration": 0,
    "start_time": "2022-06-23T10:34:55.471Z"
   },
   {
    "duration": 0,
    "start_time": "2022-06-23T10:34:55.472Z"
   },
   {
    "duration": 0,
    "start_time": "2022-06-23T10:34:55.473Z"
   },
   {
    "duration": 0,
    "start_time": "2022-06-23T10:34:55.474Z"
   },
   {
    "duration": 0,
    "start_time": "2022-06-23T10:34:55.475Z"
   },
   {
    "duration": 0,
    "start_time": "2022-06-23T10:34:55.476Z"
   },
   {
    "duration": 0,
    "start_time": "2022-06-23T10:34:55.477Z"
   },
   {
    "duration": 0,
    "start_time": "2022-06-23T10:34:55.478Z"
   },
   {
    "duration": 0,
    "start_time": "2022-06-23T10:34:55.569Z"
   },
   {
    "duration": 0,
    "start_time": "2022-06-23T10:34:55.570Z"
   },
   {
    "duration": 0,
    "start_time": "2022-06-23T10:34:55.570Z"
   },
   {
    "duration": 0,
    "start_time": "2022-06-23T10:34:55.571Z"
   },
   {
    "duration": 9,
    "start_time": "2022-06-23T10:35:39.949Z"
   },
   {
    "duration": 10,
    "start_time": "2022-06-23T10:37:10.079Z"
   },
   {
    "duration": 8,
    "start_time": "2022-06-23T10:39:44.476Z"
   },
   {
    "duration": 6,
    "start_time": "2022-06-23T10:39:54.450Z"
   },
   {
    "duration": 7,
    "start_time": "2022-06-23T10:40:01.957Z"
   },
   {
    "duration": 10,
    "start_time": "2022-06-23T10:42:42.122Z"
   },
   {
    "duration": 11,
    "start_time": "2022-06-23T10:43:56.919Z"
   },
   {
    "duration": 3,
    "start_time": "2022-06-23T11:04:55.505Z"
   },
   {
    "duration": 4,
    "start_time": "2022-06-23T11:04:56.225Z"
   },
   {
    "duration": 10,
    "start_time": "2022-06-23T11:04:59.164Z"
   },
   {
    "duration": 10,
    "start_time": "2022-06-23T11:05:07.956Z"
   },
   {
    "duration": 12,
    "start_time": "2022-06-23T11:05:09.321Z"
   },
   {
    "duration": 12,
    "start_time": "2022-06-23T11:05:09.996Z"
   },
   {
    "duration": 76,
    "start_time": "2022-06-23T11:08:03.938Z"
   },
   {
    "duration": 10,
    "start_time": "2022-06-23T11:11:18.191Z"
   },
   {
    "duration": 9,
    "start_time": "2022-06-23T11:11:51.695Z"
   },
   {
    "duration": 21,
    "start_time": "2022-06-23T11:11:56.467Z"
   },
   {
    "duration": 62,
    "start_time": "2022-06-23T11:17:53.857Z"
   },
   {
    "duration": 3,
    "start_time": "2022-06-23T11:17:54.578Z"
   },
   {
    "duration": 1412,
    "start_time": "2022-06-23T11:17:55.202Z"
   },
   {
    "duration": 174,
    "start_time": "2022-06-23T11:19:14.977Z"
   },
   {
    "duration": 170,
    "start_time": "2022-06-23T11:20:00.139Z"
   },
   {
    "duration": 156,
    "start_time": "2022-06-23T11:20:13.376Z"
   },
   {
    "duration": 50,
    "start_time": "2022-06-23T11:22:27.146Z"
   },
   {
    "duration": 20,
    "start_time": "2022-06-23T11:40:26.160Z"
   },
   {
    "duration": 17,
    "start_time": "2022-06-23T11:40:38.070Z"
   },
   {
    "duration": 28,
    "start_time": "2022-06-23T11:40:41.462Z"
   },
   {
    "duration": 17,
    "start_time": "2022-06-23T11:40:59.406Z"
   },
   {
    "duration": 27,
    "start_time": "2022-06-23T11:44:37.354Z"
   },
   {
    "duration": 24,
    "start_time": "2022-06-23T11:45:00.603Z"
   },
   {
    "duration": 22,
    "start_time": "2022-06-23T11:46:37.864Z"
   },
   {
    "duration": 11,
    "start_time": "2022-06-23T11:47:34.118Z"
   },
   {
    "duration": 23,
    "start_time": "2022-06-23T11:47:44.283Z"
   },
   {
    "duration": 11,
    "start_time": "2022-06-23T11:47:57.352Z"
   },
   {
    "duration": 25,
    "start_time": "2022-06-23T11:48:05.151Z"
   },
   {
    "duration": 23,
    "start_time": "2022-06-23T11:48:38.482Z"
   },
   {
    "duration": 24,
    "start_time": "2022-06-23T11:49:02.555Z"
   },
   {
    "duration": 24,
    "start_time": "2022-06-23T11:49:22.491Z"
   },
   {
    "duration": 12,
    "start_time": "2022-06-23T11:49:47.551Z"
   },
   {
    "duration": 28,
    "start_time": "2022-06-23T11:49:56.108Z"
   },
   {
    "duration": 11,
    "start_time": "2022-06-23T11:50:13.565Z"
   },
   {
    "duration": 11,
    "start_time": "2022-06-23T11:50:25.172Z"
   },
   {
    "duration": 35,
    "start_time": "2022-06-23T11:56:40.681Z"
   },
   {
    "duration": 16,
    "start_time": "2022-06-23T11:56:47.283Z"
   },
   {
    "duration": 9,
    "start_time": "2022-06-23T11:57:03.712Z"
   },
   {
    "duration": 8,
    "start_time": "2022-06-23T11:57:26.552Z"
   },
   {
    "duration": 8,
    "start_time": "2022-06-23T11:59:30.550Z"
   },
   {
    "duration": 12,
    "start_time": "2022-06-23T12:00:16.841Z"
   },
   {
    "duration": 60,
    "start_time": "2022-06-23T12:00:56.051Z"
   },
   {
    "duration": 17,
    "start_time": "2022-06-23T12:01:04.960Z"
   },
   {
    "duration": 17,
    "start_time": "2022-06-23T12:02:19.342Z"
   },
   {
    "duration": 2,
    "start_time": "2022-06-23T12:08:24.387Z"
   },
   {
    "duration": 45,
    "start_time": "2022-06-23T12:08:24.393Z"
   },
   {
    "duration": 9,
    "start_time": "2022-06-23T12:08:24.439Z"
   },
   {
    "duration": 147,
    "start_time": "2022-06-23T12:08:24.449Z"
   },
   {
    "duration": 40,
    "start_time": "2022-06-23T12:08:24.599Z"
   },
   {
    "duration": 101,
    "start_time": "2022-06-23T12:08:24.641Z"
   },
   {
    "duration": 17,
    "start_time": "2022-06-23T12:08:24.744Z"
   },
   {
    "duration": 137,
    "start_time": "2022-06-23T12:08:24.762Z"
   },
   {
    "duration": 29,
    "start_time": "2022-06-23T12:08:24.901Z"
   },
   {
    "duration": 21,
    "start_time": "2022-06-23T12:08:24.931Z"
   },
   {
    "duration": 12,
    "start_time": "2022-06-23T12:08:24.955Z"
   },
   {
    "duration": 26,
    "start_time": "2022-06-23T12:08:24.968Z"
   },
   {
    "duration": 14,
    "start_time": "2022-06-23T12:08:24.995Z"
   },
   {
    "duration": 455,
    "start_time": "2022-06-23T12:08:25.011Z"
   },
   {
    "duration": 6,
    "start_time": "2022-06-23T12:08:25.467Z"
   },
   {
    "duration": 8,
    "start_time": "2022-06-23T12:08:25.475Z"
   },
   {
    "duration": 2080,
    "start_time": "2022-06-23T12:08:25.484Z"
   },
   {
    "duration": 5,
    "start_time": "2022-06-23T12:08:27.566Z"
   },
   {
    "duration": 9,
    "start_time": "2022-06-23T12:08:27.572Z"
   },
   {
    "duration": 313,
    "start_time": "2022-06-23T12:08:27.582Z"
   },
   {
    "duration": 6,
    "start_time": "2022-06-23T12:08:27.897Z"
   },
   {
    "duration": 73,
    "start_time": "2022-06-23T12:08:27.904Z"
   },
   {
    "duration": 26,
    "start_time": "2022-06-23T12:08:27.978Z"
   },
   {
    "duration": 33,
    "start_time": "2022-06-23T12:08:28.005Z"
   },
   {
    "duration": 160,
    "start_time": "2022-06-23T12:08:28.039Z"
   },
   {
    "duration": 9,
    "start_time": "2022-06-23T12:08:28.201Z"
   },
   {
    "duration": 84,
    "start_time": "2022-06-23T12:08:28.212Z"
   },
   {
    "duration": 46,
    "start_time": "2022-06-23T12:08:28.298Z"
   },
   {
    "duration": 122,
    "start_time": "2022-06-23T12:08:28.349Z"
   },
   {
    "duration": 29,
    "start_time": "2022-06-23T12:08:28.472Z"
   },
   {
    "duration": 26,
    "start_time": "2022-06-23T12:08:28.503Z"
   },
   {
    "duration": 6,
    "start_time": "2022-06-23T12:08:28.531Z"
   },
   {
    "duration": 10,
    "start_time": "2022-06-23T12:08:28.538Z"
   },
   {
    "duration": 27,
    "start_time": "2022-06-23T12:08:28.549Z"
   },
   {
    "duration": 7,
    "start_time": "2022-06-23T12:08:28.577Z"
   },
   {
    "duration": 6,
    "start_time": "2022-06-23T12:08:28.586Z"
   },
   {
    "duration": 39,
    "start_time": "2022-06-23T12:08:28.593Z"
   },
   {
    "duration": 6,
    "start_time": "2022-06-23T12:08:28.634Z"
   },
   {
    "duration": 8,
    "start_time": "2022-06-23T12:08:28.641Z"
   },
   {
    "duration": 9,
    "start_time": "2022-06-23T12:08:28.650Z"
   },
   {
    "duration": 6,
    "start_time": "2022-06-23T12:08:28.661Z"
   },
   {
    "duration": 6,
    "start_time": "2022-06-23T12:08:28.668Z"
   },
   {
    "duration": 140,
    "start_time": "2022-06-23T12:08:28.675Z"
   },
   {
    "duration": 23,
    "start_time": "2022-06-23T12:08:28.816Z"
   },
   {
    "duration": 17,
    "start_time": "2022-06-23T12:08:28.841Z"
   },
   {
    "duration": 15,
    "start_time": "2022-06-23T12:08:28.860Z"
   },
   {
    "duration": 9,
    "start_time": "2022-06-23T12:08:28.877Z"
   },
   {
    "duration": 6,
    "start_time": "2022-06-23T12:08:28.887Z"
   },
   {
    "duration": 53,
    "start_time": "2022-06-23T12:08:28.894Z"
   },
   {
    "duration": 4,
    "start_time": "2022-06-23T12:08:28.949Z"
   },
   {
    "duration": 17,
    "start_time": "2022-06-23T12:08:28.954Z"
   },
   {
    "duration": 12,
    "start_time": "2022-06-23T12:08:28.973Z"
   },
   {
    "duration": 9,
    "start_time": "2022-06-23T12:08:28.988Z"
   },
   {
    "duration": 13,
    "start_time": "2022-06-23T12:08:28.999Z"
   },
   {
    "duration": 281,
    "start_time": "2022-06-23T12:08:29.030Z"
   },
   {
    "duration": 246,
    "start_time": "2022-06-23T12:08:29.313Z"
   },
   {
    "duration": 251,
    "start_time": "2022-06-23T12:08:29.560Z"
   },
   {
    "duration": 40,
    "start_time": "2022-06-23T12:08:29.812Z"
   },
   {
    "duration": 6,
    "start_time": "2022-06-23T12:08:29.854Z"
   },
   {
    "duration": 5,
    "start_time": "2022-06-23T12:08:29.862Z"
   },
   {
    "duration": 20,
    "start_time": "2022-06-23T12:08:29.868Z"
   },
   {
    "duration": 10,
    "start_time": "2022-06-23T12:08:29.890Z"
   },
   {
    "duration": 28,
    "start_time": "2022-06-23T12:08:29.902Z"
   },
   {
    "duration": 3,
    "start_time": "2022-06-23T12:08:29.931Z"
   },
   {
    "duration": 8,
    "start_time": "2022-06-23T12:08:29.935Z"
   },
   {
    "duration": 14,
    "start_time": "2022-06-23T12:08:29.945Z"
   },
   {
    "duration": 8,
    "start_time": "2022-06-23T12:08:29.961Z"
   },
   {
    "duration": 11,
    "start_time": "2022-06-23T12:08:29.970Z"
   },
   {
    "duration": 10,
    "start_time": "2022-06-23T12:08:29.982Z"
   },
   {
    "duration": 2,
    "start_time": "2022-06-23T12:08:29.993Z"
   },
   {
    "duration": 33,
    "start_time": "2022-06-23T12:08:29.997Z"
   },
   {
    "duration": 1514,
    "start_time": "2022-06-23T12:08:30.032Z"
   },
   {
    "duration": 189,
    "start_time": "2022-06-23T12:08:31.548Z"
   },
   {
    "duration": 187,
    "start_time": "2022-06-23T12:08:31.739Z"
   },
   {
    "duration": 174,
    "start_time": "2022-06-23T12:08:31.929Z"
   },
   {
    "duration": 54,
    "start_time": "2022-06-23T12:08:32.105Z"
   },
   {
    "duration": 30,
    "start_time": "2022-06-23T12:08:32.161Z"
   },
   {
    "duration": 17,
    "start_time": "2022-06-23T12:08:32.193Z"
   },
   {
    "duration": 10,
    "start_time": "2022-06-23T12:11:01.862Z"
   },
   {
    "duration": 79,
    "start_time": "2022-06-23T12:12:11.578Z"
   },
   {
    "duration": 86,
    "start_time": "2022-06-23T12:12:15.220Z"
   },
   {
    "duration": 9,
    "start_time": "2022-06-23T12:12:20.867Z"
   },
   {
    "duration": 10,
    "start_time": "2022-06-23T12:12:49.909Z"
   },
   {
    "duration": 10,
    "start_time": "2022-06-23T12:12:53.308Z"
   },
   {
    "duration": 10,
    "start_time": "2022-06-23T12:13:44.394Z"
   },
   {
    "duration": 10,
    "start_time": "2022-06-23T12:14:08.449Z"
   },
   {
    "duration": 9,
    "start_time": "2022-06-23T12:14:14.679Z"
   },
   {
    "duration": 10,
    "start_time": "2022-06-23T12:15:12.983Z"
   },
   {
    "duration": 10,
    "start_time": "2022-06-23T12:15:38.830Z"
   },
   {
    "duration": 146,
    "start_time": "2022-06-23T12:24:30.252Z"
   },
   {
    "duration": 136,
    "start_time": "2022-06-23T12:25:01.608Z"
   },
   {
    "duration": 198,
    "start_time": "2022-06-23T12:25:19.603Z"
   },
   {
    "duration": 108,
    "start_time": "2022-06-23T12:27:23.167Z"
   },
   {
    "duration": 128,
    "start_time": "2022-06-23T12:28:22.877Z"
   },
   {
    "duration": 306,
    "start_time": "2022-06-23T12:28:46.187Z"
   },
   {
    "duration": 9,
    "start_time": "2022-06-23T12:30:20.659Z"
   },
   {
    "duration": 10,
    "start_time": "2022-06-23T12:30:40.595Z"
   },
   {
    "duration": 11,
    "start_time": "2022-06-23T12:31:17.252Z"
   },
   {
    "duration": 11,
    "start_time": "2022-06-23T12:31:26.522Z"
   },
   {
    "duration": 11,
    "start_time": "2022-06-23T12:31:34.353Z"
   },
   {
    "duration": 9,
    "start_time": "2022-06-23T12:32:48.753Z"
   },
   {
    "duration": 10,
    "start_time": "2022-06-23T12:33:22.149Z"
   },
   {
    "duration": 9,
    "start_time": "2022-06-23T12:33:33.133Z"
   },
   {
    "duration": 6,
    "start_time": "2022-06-23T12:33:54.322Z"
   },
   {
    "duration": 8,
    "start_time": "2022-06-23T12:34:08.696Z"
   },
   {
    "duration": 10,
    "start_time": "2022-06-23T12:34:33.660Z"
   },
   {
    "duration": 9,
    "start_time": "2022-06-23T12:35:22.430Z"
   },
   {
    "duration": 12,
    "start_time": "2022-06-23T12:36:16.193Z"
   },
   {
    "duration": 10,
    "start_time": "2022-06-23T12:36:22.331Z"
   },
   {
    "duration": 8,
    "start_time": "2022-06-23T12:36:48.591Z"
   },
   {
    "duration": 12,
    "start_time": "2022-06-23T12:37:02.438Z"
   },
   {
    "duration": 11,
    "start_time": "2022-06-23T12:37:10.997Z"
   },
   {
    "duration": 10,
    "start_time": "2022-06-23T12:37:24.789Z"
   },
   {
    "duration": 10,
    "start_time": "2022-06-23T12:37:44.723Z"
   },
   {
    "duration": 10,
    "start_time": "2022-06-23T12:37:49.111Z"
   },
   {
    "duration": 11,
    "start_time": "2022-06-23T12:37:59.846Z"
   },
   {
    "duration": 10,
    "start_time": "2022-06-23T12:38:20.807Z"
   },
   {
    "duration": 13,
    "start_time": "2022-06-23T12:38:31.132Z"
   },
   {
    "duration": 11,
    "start_time": "2022-06-23T12:38:55.935Z"
   },
   {
    "duration": 13,
    "start_time": "2022-06-23T12:39:06.236Z"
   },
   {
    "duration": 9,
    "start_time": "2022-06-23T12:39:14.564Z"
   },
   {
    "duration": 9,
    "start_time": "2022-06-23T12:39:34.795Z"
   },
   {
    "duration": 10,
    "start_time": "2022-06-23T12:40:24.468Z"
   },
   {
    "duration": 10,
    "start_time": "2022-06-23T12:40:27.188Z"
   },
   {
    "duration": 20,
    "start_time": "2022-06-23T12:56:05.638Z"
   },
   {
    "duration": 144,
    "start_time": "2022-06-23T12:56:26.870Z"
   },
   {
    "duration": 110,
    "start_time": "2022-06-23T12:56:35.279Z"
   },
   {
    "duration": 18,
    "start_time": "2022-06-23T12:57:10.077Z"
   },
   {
    "duration": 9,
    "start_time": "2022-06-23T12:57:42.371Z"
   },
   {
    "duration": 4,
    "start_time": "2022-06-23T12:57:54.848Z"
   },
   {
    "duration": 8,
    "start_time": "2022-06-23T12:58:00.617Z"
   },
   {
    "duration": 18,
    "start_time": "2022-06-23T12:58:15.315Z"
   },
   {
    "duration": 475,
    "start_time": "2022-06-23T12:58:57.650Z"
   },
   {
    "duration": 3,
    "start_time": "2022-06-23T12:59:12.084Z"
   },
   {
    "duration": 9,
    "start_time": "2022-06-23T12:59:12.909Z"
   },
   {
    "duration": 1463,
    "start_time": "2022-06-23T13:00:06.311Z"
   },
   {
    "duration": 5,
    "start_time": "2022-06-23T13:00:40.747Z"
   },
   {
    "duration": 11,
    "start_time": "2022-06-23T13:01:23.046Z"
   },
   {
    "duration": 1367,
    "start_time": "2022-06-23T13:02:48.890Z"
   },
   {
    "duration": 3,
    "start_time": "2022-06-23T13:03:00.054Z"
   },
   {
    "duration": 1435,
    "start_time": "2022-06-23T13:03:01.918Z"
   },
   {
    "duration": 14,
    "start_time": "2022-06-23T13:03:07.291Z"
   },
   {
    "duration": 20,
    "start_time": "2022-06-23T13:03:11.446Z"
   },
   {
    "duration": 4,
    "start_time": "2022-06-23T13:03:12.246Z"
   },
   {
    "duration": 8,
    "start_time": "2022-06-23T13:03:13.492Z"
   },
   {
    "duration": 20,
    "start_time": "2022-06-23T13:03:47.512Z"
   },
   {
    "duration": 3,
    "start_time": "2022-06-23T13:03:48.385Z"
   },
   {
    "duration": 9,
    "start_time": "2022-06-23T13:03:49.705Z"
   },
   {
    "duration": 18,
    "start_time": "2022-06-23T13:04:01.705Z"
   },
   {
    "duration": 408,
    "start_time": "2022-06-23T13:06:57.071Z"
   },
   {
    "duration": 9,
    "start_time": "2022-06-23T13:07:11.713Z"
   },
   {
    "duration": 10,
    "start_time": "2022-06-23T13:07:56.603Z"
   },
   {
    "duration": 23,
    "start_time": "2022-06-23T13:08:13.989Z"
   },
   {
    "duration": 11,
    "start_time": "2022-06-23T13:08:14.700Z"
   },
   {
    "duration": 5,
    "start_time": "2022-06-23T13:08:25.303Z"
   },
   {
    "duration": 15,
    "start_time": "2022-06-23T13:21:10.146Z"
   },
   {
    "duration": 16,
    "start_time": "2022-06-23T13:21:22.648Z"
   },
   {
    "duration": 19,
    "start_time": "2022-06-23T13:21:27.299Z"
   },
   {
    "duration": 23,
    "start_time": "2022-06-23T13:24:32.265Z"
   },
   {
    "duration": 4,
    "start_time": "2022-06-23T13:24:34.231Z"
   },
   {
    "duration": 5,
    "start_time": "2022-06-23T13:24:50.386Z"
   },
   {
    "duration": 7,
    "start_time": "2022-06-23T13:25:08.932Z"
   },
   {
    "duration": 13,
    "start_time": "2022-06-23T13:29:07.808Z"
   },
   {
    "duration": 15,
    "start_time": "2022-06-23T13:38:19.260Z"
   },
   {
    "duration": 10,
    "start_time": "2022-06-23T13:38:23.480Z"
   },
   {
    "duration": 31,
    "start_time": "2022-06-23T13:43:33.169Z"
   },
   {
    "duration": 27,
    "start_time": "2022-06-23T13:48:59.765Z"
   },
   {
    "duration": 11,
    "start_time": "2022-06-23T13:54:32.696Z"
   },
   {
    "duration": 7,
    "start_time": "2022-06-23T13:55:56.145Z"
   },
   {
    "duration": 9,
    "start_time": "2022-06-23T13:56:15.066Z"
   },
   {
    "duration": 8,
    "start_time": "2022-06-23T13:56:35.243Z"
   },
   {
    "duration": 8,
    "start_time": "2022-06-23T13:57:40.060Z"
   },
   {
    "duration": 5,
    "start_time": "2022-06-23T13:58:05.628Z"
   },
   {
    "duration": 4,
    "start_time": "2022-06-23T14:00:15.761Z"
   },
   {
    "duration": 5,
    "start_time": "2022-06-23T14:02:10.517Z"
   },
   {
    "duration": 3,
    "start_time": "2022-06-23T14:16:47.280Z"
   },
   {
    "duration": 45,
    "start_time": "2022-06-23T14:16:47.286Z"
   },
   {
    "duration": 9,
    "start_time": "2022-06-23T14:16:47.333Z"
   },
   {
    "duration": 156,
    "start_time": "2022-06-23T14:16:47.343Z"
   },
   {
    "duration": 51,
    "start_time": "2022-06-23T14:16:47.502Z"
   },
   {
    "duration": 97,
    "start_time": "2022-06-23T14:16:47.555Z"
   },
   {
    "duration": 18,
    "start_time": "2022-06-23T14:16:47.653Z"
   },
   {
    "duration": 133,
    "start_time": "2022-06-23T14:16:47.673Z"
   },
   {
    "duration": 24,
    "start_time": "2022-06-23T14:16:47.808Z"
   },
   {
    "duration": 19,
    "start_time": "2022-06-23T14:16:47.833Z"
   },
   {
    "duration": 9,
    "start_time": "2022-06-23T14:16:47.854Z"
   },
   {
    "duration": 18,
    "start_time": "2022-06-23T14:16:47.865Z"
   },
   {
    "duration": 10,
    "start_time": "2022-06-23T14:16:47.885Z"
   },
   {
    "duration": 386,
    "start_time": "2022-06-23T14:16:47.896Z"
   },
   {
    "duration": 6,
    "start_time": "2022-06-23T14:16:48.284Z"
   },
   {
    "duration": 7,
    "start_time": "2022-06-23T14:16:48.292Z"
   },
   {
    "duration": 1928,
    "start_time": "2022-06-23T14:16:48.300Z"
   },
   {
    "duration": 6,
    "start_time": "2022-06-23T14:16:50.230Z"
   },
   {
    "duration": 22,
    "start_time": "2022-06-23T14:16:50.238Z"
   },
   {
    "duration": 291,
    "start_time": "2022-06-23T14:16:50.262Z"
   },
   {
    "duration": 8,
    "start_time": "2022-06-23T14:16:50.555Z"
   },
   {
    "duration": 77,
    "start_time": "2022-06-23T14:16:50.565Z"
   },
   {
    "duration": 26,
    "start_time": "2022-06-23T14:16:50.644Z"
   },
   {
    "duration": 24,
    "start_time": "2022-06-23T14:16:50.671Z"
   },
   {
    "duration": 189,
    "start_time": "2022-06-23T14:16:50.697Z"
   },
   {
    "duration": 9,
    "start_time": "2022-06-23T14:16:50.888Z"
   },
   {
    "duration": 84,
    "start_time": "2022-06-23T14:16:50.899Z"
   },
   {
    "duration": 45,
    "start_time": "2022-06-23T14:16:50.985Z"
   },
   {
    "duration": 171,
    "start_time": "2022-06-23T14:16:51.033Z"
   },
   {
    "duration": 42,
    "start_time": "2022-06-23T14:16:51.205Z"
   },
   {
    "duration": 12,
    "start_time": "2022-06-23T14:16:51.249Z"
   },
   {
    "duration": 5,
    "start_time": "2022-06-23T14:16:51.263Z"
   },
   {
    "duration": 14,
    "start_time": "2022-06-23T14:16:51.270Z"
   },
   {
    "duration": 61,
    "start_time": "2022-06-23T14:16:51.286Z"
   },
   {
    "duration": 8,
    "start_time": "2022-06-23T14:16:51.349Z"
   },
   {
    "duration": 9,
    "start_time": "2022-06-23T14:16:51.360Z"
   },
   {
    "duration": 24,
    "start_time": "2022-06-23T14:16:51.371Z"
   },
   {
    "duration": 11,
    "start_time": "2022-06-23T14:16:51.396Z"
   },
   {
    "duration": 4,
    "start_time": "2022-06-23T14:16:51.409Z"
   },
   {
    "duration": 14,
    "start_time": "2022-06-23T14:16:51.415Z"
   },
   {
    "duration": 2,
    "start_time": "2022-06-23T14:16:51.431Z"
   },
   {
    "duration": 18,
    "start_time": "2022-06-23T14:16:51.434Z"
   },
   {
    "duration": 146,
    "start_time": "2022-06-23T14:16:51.453Z"
   },
   {
    "duration": 20,
    "start_time": "2022-06-23T14:16:51.601Z"
   },
   {
    "duration": 19,
    "start_time": "2022-06-23T14:16:51.629Z"
   },
   {
    "duration": 17,
    "start_time": "2022-06-23T14:16:51.650Z"
   },
   {
    "duration": 8,
    "start_time": "2022-06-23T14:16:51.668Z"
   },
   {
    "duration": 6,
    "start_time": "2022-06-23T14:16:51.678Z"
   },
   {
    "duration": 46,
    "start_time": "2022-06-23T14:16:51.686Z"
   },
   {
    "duration": 4,
    "start_time": "2022-06-23T14:16:51.734Z"
   },
   {
    "duration": 17,
    "start_time": "2022-06-23T14:16:51.740Z"
   },
   {
    "duration": 9,
    "start_time": "2022-06-23T14:16:51.758Z"
   },
   {
    "duration": 6,
    "start_time": "2022-06-23T14:16:51.769Z"
   },
   {
    "duration": 18,
    "start_time": "2022-06-23T14:16:51.777Z"
   },
   {
    "duration": 328,
    "start_time": "2022-06-23T14:16:51.829Z"
   },
   {
    "duration": 274,
    "start_time": "2022-06-23T14:16:52.159Z"
   },
   {
    "duration": 275,
    "start_time": "2022-06-23T14:16:52.435Z"
   },
   {
    "duration": 44,
    "start_time": "2022-06-23T14:16:52.712Z"
   },
   {
    "duration": 6,
    "start_time": "2022-06-23T14:16:52.758Z"
   },
   {
    "duration": 546,
    "start_time": "2022-06-23T14:16:52.766Z"
   },
   {
    "duration": 0,
    "start_time": "2022-06-23T14:16:53.314Z"
   },
   {
    "duration": 0,
    "start_time": "2022-06-23T14:16:53.315Z"
   },
   {
    "duration": 0,
    "start_time": "2022-06-23T14:16:53.316Z"
   },
   {
    "duration": 0,
    "start_time": "2022-06-23T14:16:53.317Z"
   },
   {
    "duration": 0,
    "start_time": "2022-06-23T14:16:53.318Z"
   },
   {
    "duration": 0,
    "start_time": "2022-06-23T14:16:53.319Z"
   },
   {
    "duration": 0,
    "start_time": "2022-06-23T14:16:53.320Z"
   },
   {
    "duration": 0,
    "start_time": "2022-06-23T14:16:53.321Z"
   },
   {
    "duration": 0,
    "start_time": "2022-06-23T14:16:53.322Z"
   },
   {
    "duration": 0,
    "start_time": "2022-06-23T14:16:53.323Z"
   },
   {
    "duration": 0,
    "start_time": "2022-06-23T14:16:53.324Z"
   },
   {
    "duration": 0,
    "start_time": "2022-06-23T14:16:53.325Z"
   },
   {
    "duration": 0,
    "start_time": "2022-06-23T14:16:53.326Z"
   },
   {
    "duration": 0,
    "start_time": "2022-06-23T14:16:53.327Z"
   },
   {
    "duration": 0,
    "start_time": "2022-06-23T14:16:53.328Z"
   },
   {
    "duration": 0,
    "start_time": "2022-06-23T14:16:53.329Z"
   },
   {
    "duration": 0,
    "start_time": "2022-06-23T14:16:53.330Z"
   },
   {
    "duration": 0,
    "start_time": "2022-06-23T14:16:53.331Z"
   },
   {
    "duration": 0,
    "start_time": "2022-06-23T14:16:53.332Z"
   },
   {
    "duration": 0,
    "start_time": "2022-06-23T14:16:53.334Z"
   },
   {
    "duration": 9,
    "start_time": "2022-06-23T14:19:14.984Z"
   },
   {
    "duration": 7,
    "start_time": "2022-06-23T14:19:57.360Z"
   },
   {
    "duration": 23,
    "start_time": "2022-06-23T14:19:57.372Z"
   },
   {
    "duration": 29,
    "start_time": "2022-06-23T14:19:57.397Z"
   },
   {
    "duration": 38,
    "start_time": "2022-06-23T14:19:57.427Z"
   },
   {
    "duration": 14,
    "start_time": "2022-06-23T14:19:57.467Z"
   },
   {
    "duration": 32,
    "start_time": "2022-06-23T14:19:57.482Z"
   },
   {
    "duration": 31,
    "start_time": "2022-06-23T14:19:57.516Z"
   },
   {
    "duration": 34,
    "start_time": "2022-06-23T14:19:57.548Z"
   },
   {
    "duration": 31,
    "start_time": "2022-06-23T14:19:57.584Z"
   },
   {
    "duration": 33,
    "start_time": "2022-06-23T14:19:57.617Z"
   },
   {
    "duration": 35,
    "start_time": "2022-06-23T14:19:57.652Z"
   },
   {
    "duration": 42,
    "start_time": "2022-06-23T14:19:57.689Z"
   },
   {
    "duration": 25,
    "start_time": "2022-06-23T14:19:57.732Z"
   },
   {
    "duration": 31,
    "start_time": "2022-06-23T14:19:57.759Z"
   },
   {
    "duration": 1487,
    "start_time": "2022-06-23T14:19:57.791Z"
   },
   {
    "duration": 170,
    "start_time": "2022-06-23T14:19:59.280Z"
   },
   {
    "duration": 181,
    "start_time": "2022-06-23T14:19:59.452Z"
   },
   {
    "duration": 166,
    "start_time": "2022-06-23T14:19:59.635Z"
   },
   {
    "duration": 50,
    "start_time": "2022-06-23T14:19:59.803Z"
   },
   {
    "duration": 17,
    "start_time": "2022-06-23T14:19:59.855Z"
   },
   {
    "duration": 51,
    "start_time": "2022-06-23T14:19:59.874Z"
   },
   {
    "duration": 58,
    "start_time": "2022-06-23T20:38:49.622Z"
   },
   {
    "duration": 1357,
    "start_time": "2022-06-23T20:38:55.503Z"
   },
   {
    "duration": 107,
    "start_time": "2022-06-23T20:38:56.865Z"
   },
   {
    "duration": 17,
    "start_time": "2022-06-23T20:38:56.974Z"
   },
   {
    "duration": 568,
    "start_time": "2022-06-23T20:38:56.994Z"
   },
   {
    "duration": 27,
    "start_time": "2022-06-23T20:38:57.564Z"
   },
   {
    "duration": 186,
    "start_time": "2022-06-23T20:38:57.592Z"
   },
   {
    "duration": 28,
    "start_time": "2022-06-23T20:38:57.780Z"
   },
   {
    "duration": 462,
    "start_time": "2022-06-23T20:38:57.810Z"
   },
   {
    "duration": 21,
    "start_time": "2022-06-23T20:38:58.274Z"
   },
   {
    "duration": 77,
    "start_time": "2022-06-23T20:38:58.298Z"
   },
   {
    "duration": 12,
    "start_time": "2022-06-23T20:38:58.377Z"
   },
   {
    "duration": 23,
    "start_time": "2022-06-23T20:38:58.391Z"
   },
   {
    "duration": 16,
    "start_time": "2022-06-23T20:38:58.416Z"
   },
   {
    "duration": 655,
    "start_time": "2022-06-23T20:38:58.434Z"
   },
   {
    "duration": 9,
    "start_time": "2022-06-23T20:38:59.091Z"
   },
   {
    "duration": 10,
    "start_time": "2022-06-23T20:38:59.102Z"
   },
   {
    "duration": 2998,
    "start_time": "2022-06-23T20:38:59.114Z"
   },
   {
    "duration": 7,
    "start_time": "2022-06-23T20:39:02.113Z"
   },
   {
    "duration": 15,
    "start_time": "2022-06-23T20:39:02.121Z"
   },
   {
    "duration": 436,
    "start_time": "2022-06-23T20:39:02.138Z"
   },
   {
    "duration": 8,
    "start_time": "2022-06-23T20:39:02.576Z"
   },
   {
    "duration": 90,
    "start_time": "2022-06-23T20:39:02.587Z"
   },
   {
    "duration": 29,
    "start_time": "2022-06-23T20:39:02.679Z"
   },
   {
    "duration": 51,
    "start_time": "2022-06-23T20:39:02.710Z"
   },
   {
    "duration": 194,
    "start_time": "2022-06-23T20:39:02.763Z"
   },
   {
    "duration": 11,
    "start_time": "2022-06-23T20:39:02.960Z"
   },
   {
    "duration": 103,
    "start_time": "2022-06-23T20:39:02.973Z"
   },
   {
    "duration": 45,
    "start_time": "2022-06-23T20:39:03.079Z"
   },
   {
    "duration": 60,
    "start_time": "2022-06-23T20:39:03.126Z"
   },
   {
    "duration": 32,
    "start_time": "2022-06-23T20:39:03.188Z"
   },
   {
    "duration": 31,
    "start_time": "2022-06-23T20:39:03.222Z"
   },
   {
    "duration": 12,
    "start_time": "2022-06-23T20:39:03.259Z"
   },
   {
    "duration": 17,
    "start_time": "2022-06-23T20:39:03.273Z"
   },
   {
    "duration": 31,
    "start_time": "2022-06-23T20:39:03.292Z"
   },
   {
    "duration": 18,
    "start_time": "2022-06-23T20:39:03.325Z"
   },
   {
    "duration": 12,
    "start_time": "2022-06-23T20:39:03.344Z"
   },
   {
    "duration": 10,
    "start_time": "2022-06-23T20:39:03.358Z"
   },
   {
    "duration": 7,
    "start_time": "2022-06-23T20:39:03.370Z"
   },
   {
    "duration": 12,
    "start_time": "2022-06-23T20:39:03.379Z"
   },
   {
    "duration": 11,
    "start_time": "2022-06-23T20:39:03.393Z"
   },
   {
    "duration": 7,
    "start_time": "2022-06-23T20:39:03.407Z"
   },
   {
    "duration": 9,
    "start_time": "2022-06-23T20:39:03.416Z"
   },
   {
    "duration": 187,
    "start_time": "2022-06-23T20:39:03.426Z"
   },
   {
    "duration": 33,
    "start_time": "2022-06-23T20:39:03.615Z"
   },
   {
    "duration": 19,
    "start_time": "2022-06-23T20:39:03.659Z"
   },
   {
    "duration": 17,
    "start_time": "2022-06-23T20:39:03.680Z"
   },
   {
    "duration": 7,
    "start_time": "2022-06-23T20:39:03.699Z"
   },
   {
    "duration": 7,
    "start_time": "2022-06-23T20:39:03.708Z"
   },
   {
    "duration": 44,
    "start_time": "2022-06-23T20:39:03.717Z"
   },
   {
    "duration": 13,
    "start_time": "2022-06-23T20:39:03.763Z"
   },
   {
    "duration": 19,
    "start_time": "2022-06-23T20:39:03.778Z"
   },
   {
    "duration": 12,
    "start_time": "2022-06-23T20:39:03.799Z"
   },
   {
    "duration": 10,
    "start_time": "2022-06-23T20:39:03.813Z"
   },
   {
    "duration": 44,
    "start_time": "2022-06-23T20:39:03.824Z"
   },
   {
    "duration": 350,
    "start_time": "2022-06-23T20:39:03.870Z"
   },
   {
    "duration": 311,
    "start_time": "2022-06-23T20:39:04.222Z"
   },
   {
    "duration": 314,
    "start_time": "2022-06-23T20:39:04.535Z"
   },
   {
    "duration": 41,
    "start_time": "2022-06-23T20:39:04.850Z"
   },
   {
    "duration": 7,
    "start_time": "2022-06-23T20:39:04.892Z"
   },
   {
    "duration": 13,
    "start_time": "2022-06-23T20:39:04.900Z"
   },
   {
    "duration": 11,
    "start_time": "2022-06-23T20:39:07.077Z"
   },
   {
    "duration": 1170,
    "start_time": "2022-06-24T07:49:16.199Z"
   },
   {
    "duration": 46,
    "start_time": "2022-06-24T07:49:17.371Z"
   },
   {
    "duration": 19,
    "start_time": "2022-06-24T07:49:17.418Z"
   },
   {
    "duration": 186,
    "start_time": "2022-06-24T07:49:17.438Z"
   },
   {
    "duration": 36,
    "start_time": "2022-06-24T07:49:17.626Z"
   },
   {
    "duration": 96,
    "start_time": "2022-06-24T07:49:17.664Z"
   },
   {
    "duration": 18,
    "start_time": "2022-06-24T07:49:17.762Z"
   },
   {
    "duration": 155,
    "start_time": "2022-06-24T07:49:17.781Z"
   },
   {
    "duration": 22,
    "start_time": "2022-06-24T07:49:17.940Z"
   },
   {
    "duration": 21,
    "start_time": "2022-06-24T07:49:17.964Z"
   },
   {
    "duration": 11,
    "start_time": "2022-06-24T07:49:17.986Z"
   },
   {
    "duration": 42,
    "start_time": "2022-06-24T07:49:17.999Z"
   },
   {
    "duration": 21,
    "start_time": "2022-06-24T07:49:18.045Z"
   },
   {
    "duration": 542,
    "start_time": "2022-06-24T07:49:18.070Z"
   },
   {
    "duration": 6,
    "start_time": "2022-06-24T07:49:18.614Z"
   },
   {
    "duration": 12,
    "start_time": "2022-06-24T07:49:18.627Z"
   },
   {
    "duration": 2247,
    "start_time": "2022-06-24T07:49:18.645Z"
   },
   {
    "duration": 6,
    "start_time": "2022-06-24T07:49:20.894Z"
   },
   {
    "duration": 27,
    "start_time": "2022-06-24T07:49:20.901Z"
   },
   {
    "duration": 428,
    "start_time": "2022-06-24T07:49:20.933Z"
   },
   {
    "duration": 9,
    "start_time": "2022-06-24T07:49:21.362Z"
   },
   {
    "duration": 104,
    "start_time": "2022-06-24T07:49:21.373Z"
   },
   {
    "duration": 34,
    "start_time": "2022-06-24T07:49:21.479Z"
   },
   {
    "duration": 40,
    "start_time": "2022-06-24T07:49:21.515Z"
   },
   {
    "duration": 195,
    "start_time": "2022-06-24T07:49:21.556Z"
   },
   {
    "duration": 11,
    "start_time": "2022-06-24T07:49:21.752Z"
   },
   {
    "duration": 96,
    "start_time": "2022-06-24T07:49:21.764Z"
   },
   {
    "duration": 39,
    "start_time": "2022-06-24T07:49:21.862Z"
   },
   {
    "duration": 54,
    "start_time": "2022-06-24T07:49:21.903Z"
   },
   {
    "duration": 28,
    "start_time": "2022-06-24T07:49:21.959Z"
   },
   {
    "duration": 13,
    "start_time": "2022-06-24T07:49:21.989Z"
   },
   {
    "duration": 33,
    "start_time": "2022-06-24T07:49:22.005Z"
   },
   {
    "duration": 23,
    "start_time": "2022-06-24T07:49:22.039Z"
   },
   {
    "duration": 27,
    "start_time": "2022-06-24T07:49:22.064Z"
   },
   {
    "duration": 6,
    "start_time": "2022-06-24T07:49:22.093Z"
   },
   {
    "duration": 10,
    "start_time": "2022-06-24T07:49:22.101Z"
   },
   {
    "duration": 20,
    "start_time": "2022-06-24T07:49:22.112Z"
   },
   {
    "duration": 24,
    "start_time": "2022-06-24T07:49:22.133Z"
   },
   {
    "duration": 4,
    "start_time": "2022-06-24T07:49:22.158Z"
   },
   {
    "duration": 7,
    "start_time": "2022-06-24T07:49:22.164Z"
   },
   {
    "duration": 4,
    "start_time": "2022-06-24T07:49:22.175Z"
   },
   {
    "duration": 6,
    "start_time": "2022-06-24T07:49:22.181Z"
   },
   {
    "duration": 134,
    "start_time": "2022-06-24T07:49:22.188Z"
   },
   {
    "duration": 29,
    "start_time": "2022-06-24T07:49:22.323Z"
   },
   {
    "duration": 20,
    "start_time": "2022-06-24T07:49:22.354Z"
   },
   {
    "duration": 15,
    "start_time": "2022-06-24T07:49:22.375Z"
   },
   {
    "duration": 5,
    "start_time": "2022-06-24T07:49:22.391Z"
   },
   {
    "duration": 34,
    "start_time": "2022-06-24T07:49:22.397Z"
   },
   {
    "duration": 35,
    "start_time": "2022-06-24T07:49:22.433Z"
   },
   {
    "duration": 5,
    "start_time": "2022-06-24T07:49:22.470Z"
   },
   {
    "duration": 16,
    "start_time": "2022-06-24T07:49:22.477Z"
   },
   {
    "duration": 9,
    "start_time": "2022-06-24T07:49:22.495Z"
   },
   {
    "duration": 30,
    "start_time": "2022-06-24T07:49:22.506Z"
   },
   {
    "duration": 326,
    "start_time": "2022-06-24T07:49:22.542Z"
   },
   {
    "duration": 261,
    "start_time": "2022-06-24T07:49:22.870Z"
   },
   {
    "duration": 333,
    "start_time": "2022-06-24T07:49:23.133Z"
   },
   {
    "duration": 39,
    "start_time": "2022-06-24T07:49:23.467Z"
   },
   {
    "duration": 29,
    "start_time": "2022-06-24T07:49:23.507Z"
   },
   {
    "duration": 24,
    "start_time": "2022-06-24T07:49:23.538Z"
   },
   {
    "duration": 14,
    "start_time": "2022-06-24T07:49:23.564Z"
   },
   {
    "duration": 10,
    "start_time": "2022-06-24T07:49:23.580Z"
   },
   {
    "duration": 13,
    "start_time": "2022-06-24T07:49:23.591Z"
   },
   {
    "duration": 83,
    "start_time": "2022-06-24T07:49:23.605Z"
   },
   {
    "duration": 10,
    "start_time": "2022-06-24T07:49:23.689Z"
   },
   {
    "duration": 15,
    "start_time": "2022-06-24T07:49:23.701Z"
   },
   {
    "duration": 29,
    "start_time": "2022-06-24T07:49:23.717Z"
   },
   {
    "duration": 57,
    "start_time": "2022-06-24T07:49:23.748Z"
   },
   {
    "duration": 4,
    "start_time": "2022-06-24T07:49:23.807Z"
   },
   {
    "duration": 1403,
    "start_time": "2022-06-24T07:49:23.812Z"
   },
   {
    "duration": 180,
    "start_time": "2022-06-24T07:49:25.217Z"
   },
   {
    "duration": 182,
    "start_time": "2022-06-24T07:49:25.399Z"
   },
   {
    "duration": 178,
    "start_time": "2022-06-24T07:49:25.582Z"
   },
   {
    "duration": 51,
    "start_time": "2022-06-24T07:49:25.762Z"
   },
   {
    "duration": 33,
    "start_time": "2022-06-24T07:49:25.815Z"
   },
   {
    "duration": 17,
    "start_time": "2022-06-24T07:49:25.850Z"
   },
   {
    "duration": 50,
    "start_time": "2022-06-27T14:13:37.963Z"
   },
   {
    "duration": 996,
    "start_time": "2022-06-27T14:13:45.581Z"
   },
   {
    "duration": 103,
    "start_time": "2022-06-27T14:13:46.579Z"
   },
   {
    "duration": 11,
    "start_time": "2022-06-27T14:13:46.683Z"
   },
   {
    "duration": 494,
    "start_time": "2022-06-27T14:13:46.696Z"
   },
   {
    "duration": 25,
    "start_time": "2022-06-27T14:13:47.192Z"
   },
   {
    "duration": 290,
    "start_time": "2022-06-27T14:13:47.219Z"
   },
   {
    "duration": 15,
    "start_time": "2022-06-27T14:13:47.510Z"
   },
   {
    "duration": 409,
    "start_time": "2022-06-27T14:13:47.526Z"
   },
   {
    "duration": 17,
    "start_time": "2022-06-27T14:13:47.936Z"
   },
   {
    "duration": 88,
    "start_time": "2022-06-27T14:13:47.955Z"
   },
   {
    "duration": 9,
    "start_time": "2022-06-27T14:13:48.045Z"
   },
   {
    "duration": 21,
    "start_time": "2022-06-27T14:13:48.055Z"
   },
   {
    "duration": 12,
    "start_time": "2022-06-27T14:13:48.077Z"
   },
   {
    "duration": 461,
    "start_time": "2022-06-27T14:13:48.090Z"
   },
   {
    "duration": 6,
    "start_time": "2022-06-27T14:13:48.552Z"
   },
   {
    "duration": 7,
    "start_time": "2022-06-27T14:13:48.560Z"
   },
   {
    "duration": 1955,
    "start_time": "2022-06-27T14:13:48.569Z"
   },
   {
    "duration": 5,
    "start_time": "2022-06-27T14:13:50.526Z"
   },
   {
    "duration": 10,
    "start_time": "2022-06-27T14:13:50.532Z"
   },
   {
    "duration": 311,
    "start_time": "2022-06-27T14:13:50.543Z"
   },
   {
    "duration": 7,
    "start_time": "2022-06-27T14:13:50.856Z"
   },
   {
    "duration": 79,
    "start_time": "2022-06-27T14:13:50.864Z"
   },
   {
    "duration": 26,
    "start_time": "2022-06-27T14:13:50.944Z"
   },
   {
    "duration": 24,
    "start_time": "2022-06-27T14:13:50.971Z"
   },
   {
    "duration": 191,
    "start_time": "2022-06-27T14:13:50.996Z"
   },
   {
    "duration": 10,
    "start_time": "2022-06-27T14:13:51.189Z"
   },
   {
    "duration": 81,
    "start_time": "2022-06-27T14:13:51.201Z"
   },
   {
    "duration": 44,
    "start_time": "2022-06-27T14:13:51.285Z"
   },
   {
    "duration": 41,
    "start_time": "2022-06-27T14:13:51.331Z"
   },
   {
    "duration": 27,
    "start_time": "2022-06-27T14:13:51.373Z"
   },
   {
    "duration": 10,
    "start_time": "2022-06-27T14:13:51.401Z"
   },
   {
    "duration": 4,
    "start_time": "2022-06-27T14:13:51.429Z"
   },
   {
    "duration": 16,
    "start_time": "2022-06-27T14:13:51.434Z"
   },
   {
    "duration": 35,
    "start_time": "2022-06-27T14:13:51.452Z"
   },
   {
    "duration": 7,
    "start_time": "2022-06-27T14:13:51.489Z"
   },
   {
    "duration": 13,
    "start_time": "2022-06-27T14:13:51.498Z"
   },
   {
    "duration": 24,
    "start_time": "2022-06-27T14:13:51.512Z"
   },
   {
    "duration": 11,
    "start_time": "2022-06-27T14:13:51.538Z"
   },
   {
    "duration": 16,
    "start_time": "2022-06-27T14:13:51.550Z"
   },
   {
    "duration": 13,
    "start_time": "2022-06-27T14:13:51.568Z"
   },
   {
    "duration": 19,
    "start_time": "2022-06-27T14:13:51.583Z"
   },
   {
    "duration": 18,
    "start_time": "2022-06-27T14:13:51.603Z"
   },
   {
    "duration": 120,
    "start_time": "2022-06-27T14:13:51.623Z"
   },
   {
    "duration": 17,
    "start_time": "2022-06-27T14:13:51.745Z"
   },
   {
    "duration": 19,
    "start_time": "2022-06-27T14:13:51.764Z"
   },
   {
    "duration": 15,
    "start_time": "2022-06-27T14:13:51.784Z"
   },
   {
    "duration": 5,
    "start_time": "2022-06-27T14:13:51.801Z"
   },
   {
    "duration": 5,
    "start_time": "2022-06-27T14:13:51.829Z"
   },
   {
    "duration": 17,
    "start_time": "2022-06-27T14:13:51.836Z"
   },
   {
    "duration": 13,
    "start_time": "2022-06-27T14:13:51.854Z"
   },
   {
    "duration": 29,
    "start_time": "2022-06-27T14:13:51.869Z"
   },
   {
    "duration": 14,
    "start_time": "2022-06-27T14:13:51.899Z"
   },
   {
    "duration": 7,
    "start_time": "2022-06-27T14:13:51.915Z"
   },
   {
    "duration": 263,
    "start_time": "2022-06-27T14:13:51.924Z"
   },
   {
    "duration": 239,
    "start_time": "2022-06-27T14:13:52.189Z"
   },
   {
    "duration": 256,
    "start_time": "2022-06-27T14:13:52.430Z"
   },
   {
    "duration": 42,
    "start_time": "2022-06-27T14:13:52.688Z"
   },
   {
    "duration": 7,
    "start_time": "2022-06-27T14:13:52.731Z"
   },
   {
    "duration": 26,
    "start_time": "2022-06-27T14:13:52.740Z"
   },
   {
    "duration": 18,
    "start_time": "2022-06-27T14:13:52.768Z"
   },
   {
    "duration": 24,
    "start_time": "2022-06-27T14:13:52.787Z"
   },
   {
    "duration": 34,
    "start_time": "2022-06-27T14:13:52.813Z"
   },
   {
    "duration": 76,
    "start_time": "2022-06-27T14:13:52.848Z"
   },
   {
    "duration": 35,
    "start_time": "2022-06-27T14:13:52.926Z"
   },
   {
    "duration": 25,
    "start_time": "2022-06-27T14:13:52.962Z"
   },
   {
    "duration": 38,
    "start_time": "2022-06-27T14:13:52.989Z"
   },
   {
    "duration": 74,
    "start_time": "2022-06-27T14:13:53.028Z"
   },
   {
    "duration": 3,
    "start_time": "2022-06-27T14:13:53.103Z"
   },
   {
    "duration": 1381,
    "start_time": "2022-06-27T14:13:53.108Z"
   },
   {
    "duration": 163,
    "start_time": "2022-06-27T14:13:54.491Z"
   },
   {
    "duration": 161,
    "start_time": "2022-06-27T14:13:54.656Z"
   },
   {
    "duration": 175,
    "start_time": "2022-06-27T14:13:57.415Z"
   },
   {
    "duration": 32,
    "start_time": "2022-06-27T14:14:03.337Z"
   },
   {
    "duration": 18,
    "start_time": "2022-06-27T14:15:58.861Z"
   },
   {
    "duration": 150,
    "start_time": "2022-06-27T15:08:13.817Z"
   },
   {
    "duration": 22,
    "start_time": "2022-06-27T15:08:48.547Z"
   },
   {
    "duration": 65,
    "start_time": "2022-06-28T09:47:15.187Z"
   },
   {
    "duration": 1234,
    "start_time": "2022-06-28T09:47:25.772Z"
   },
   {
    "duration": 80,
    "start_time": "2022-06-28T09:47:27.008Z"
   },
   {
    "duration": 0,
    "start_time": "2022-06-28T09:47:27.089Z"
   },
   {
    "duration": 0,
    "start_time": "2022-06-28T09:47:27.091Z"
   },
   {
    "duration": 0,
    "start_time": "2022-06-28T09:47:27.092Z"
   },
   {
    "duration": 0,
    "start_time": "2022-06-28T09:47:27.093Z"
   },
   {
    "duration": 0,
    "start_time": "2022-06-28T09:47:27.094Z"
   },
   {
    "duration": 0,
    "start_time": "2022-06-28T09:47:27.095Z"
   },
   {
    "duration": 0,
    "start_time": "2022-06-28T09:47:27.096Z"
   },
   {
    "duration": 3,
    "start_time": "2022-06-28T09:47:48.663Z"
   },
   {
    "duration": 105,
    "start_time": "2022-06-28T09:47:48.668Z"
   },
   {
    "duration": 11,
    "start_time": "2022-06-28T09:47:48.775Z"
   },
   {
    "duration": 280,
    "start_time": "2022-06-28T09:47:48.787Z"
   },
   {
    "duration": 26,
    "start_time": "2022-06-28T09:47:49.069Z"
   },
   {
    "duration": 165,
    "start_time": "2022-06-28T09:47:49.097Z"
   },
   {
    "duration": 19,
    "start_time": "2022-06-28T09:47:49.264Z"
   },
   {
    "duration": 372,
    "start_time": "2022-06-28T09:47:49.284Z"
   },
   {
    "duration": 21,
    "start_time": "2022-06-28T09:47:49.658Z"
   },
   {
    "duration": 36,
    "start_time": "2022-06-28T09:47:49.681Z"
   },
   {
    "duration": 14,
    "start_time": "2022-06-28T09:47:49.719Z"
   },
   {
    "duration": 41,
    "start_time": "2022-06-28T09:47:49.734Z"
   },
   {
    "duration": 17,
    "start_time": "2022-06-28T09:47:49.777Z"
   },
   {
    "duration": 687,
    "start_time": "2022-06-28T09:47:49.797Z"
   },
   {
    "duration": 6,
    "start_time": "2022-06-28T09:47:50.486Z"
   },
   {
    "duration": 14,
    "start_time": "2022-06-28T09:47:50.494Z"
   },
   {
    "duration": 2731,
    "start_time": "2022-06-28T09:47:50.510Z"
   },
   {
    "duration": 9,
    "start_time": "2022-06-28T09:47:53.246Z"
   },
   {
    "duration": 20,
    "start_time": "2022-06-28T09:47:53.259Z"
   },
   {
    "duration": 393,
    "start_time": "2022-06-28T09:47:53.281Z"
   },
   {
    "duration": 7,
    "start_time": "2022-06-28T09:47:53.676Z"
   },
   {
    "duration": 96,
    "start_time": "2022-06-28T09:47:53.685Z"
   },
   {
    "duration": 28,
    "start_time": "2022-06-28T09:47:53.783Z"
   },
   {
    "duration": 80,
    "start_time": "2022-06-28T09:47:53.812Z"
   },
   {
    "duration": 259,
    "start_time": "2022-06-28T09:47:53.893Z"
   },
   {
    "duration": 11,
    "start_time": "2022-06-28T09:47:54.154Z"
   },
   {
    "duration": 106,
    "start_time": "2022-06-28T09:47:54.167Z"
   },
   {
    "duration": 51,
    "start_time": "2022-06-28T09:47:54.275Z"
   },
   {
    "duration": 60,
    "start_time": "2022-06-28T09:47:54.328Z"
   },
   {
    "duration": 61,
    "start_time": "2022-06-28T09:47:54.390Z"
   },
   {
    "duration": 17,
    "start_time": "2022-06-28T09:47:54.453Z"
   },
   {
    "duration": 12,
    "start_time": "2022-06-28T09:47:54.472Z"
   },
   {
    "duration": 17,
    "start_time": "2022-06-28T09:47:54.486Z"
   },
   {
    "duration": 93,
    "start_time": "2022-06-28T09:47:54.505Z"
   },
   {
    "duration": 9,
    "start_time": "2022-06-28T09:47:54.601Z"
   },
   {
    "duration": 36,
    "start_time": "2022-06-28T09:47:54.612Z"
   },
   {
    "duration": 20,
    "start_time": "2022-06-28T09:47:54.656Z"
   },
   {
    "duration": 15,
    "start_time": "2022-06-28T09:47:54.678Z"
   },
   {
    "duration": 29,
    "start_time": "2022-06-28T09:47:54.695Z"
   },
   {
    "duration": 57,
    "start_time": "2022-06-28T09:47:54.726Z"
   },
   {
    "duration": 15,
    "start_time": "2022-06-28T09:47:54.789Z"
   },
   {
    "duration": 66,
    "start_time": "2022-06-28T09:47:54.806Z"
   },
   {
    "duration": 159,
    "start_time": "2022-06-28T09:47:54.874Z"
   },
   {
    "duration": 31,
    "start_time": "2022-06-28T09:47:55.034Z"
   },
   {
    "duration": 25,
    "start_time": "2022-06-28T09:47:55.067Z"
   },
   {
    "duration": 20,
    "start_time": "2022-06-28T09:47:55.094Z"
   },
   {
    "duration": 20,
    "start_time": "2022-06-28T09:47:55.136Z"
   },
   {
    "duration": 23,
    "start_time": "2022-06-28T09:47:55.158Z"
   },
   {
    "duration": 28,
    "start_time": "2022-06-28T09:47:55.182Z"
   },
   {
    "duration": 5,
    "start_time": "2022-06-28T09:47:55.212Z"
   },
   {
    "duration": 53,
    "start_time": "2022-06-28T09:47:55.219Z"
   },
   {
    "duration": 40,
    "start_time": "2022-06-28T09:47:55.274Z"
   },
   {
    "duration": 21,
    "start_time": "2022-06-28T09:47:55.316Z"
   },
   {
    "duration": 358,
    "start_time": "2022-06-28T09:47:55.338Z"
   },
   {
    "duration": 325,
    "start_time": "2022-06-28T09:47:55.697Z"
   },
   {
    "duration": 431,
    "start_time": "2022-06-28T09:47:56.024Z"
   },
   {
    "duration": 36,
    "start_time": "2022-06-28T09:47:56.457Z"
   },
   {
    "duration": 9,
    "start_time": "2022-06-28T09:47:56.494Z"
   },
   {
    "duration": 39,
    "start_time": "2022-06-28T09:47:56.505Z"
   },
   {
    "duration": 11,
    "start_time": "2022-06-28T09:47:56.553Z"
   },
   {
    "duration": 29,
    "start_time": "2022-06-28T09:47:56.565Z"
   },
   {
    "duration": 14,
    "start_time": "2022-06-28T09:47:56.595Z"
   },
   {
    "duration": 29,
    "start_time": "2022-06-28T09:47:56.611Z"
   },
   {
    "duration": 13,
    "start_time": "2022-06-28T09:47:56.642Z"
   },
   {
    "duration": 14,
    "start_time": "2022-06-28T09:47:56.657Z"
   },
   {
    "duration": 17,
    "start_time": "2022-06-28T09:47:56.672Z"
   },
   {
    "duration": 10,
    "start_time": "2022-06-28T09:47:56.690Z"
   },
   {
    "duration": 7,
    "start_time": "2022-06-28T09:47:56.701Z"
   },
   {
    "duration": 1603,
    "start_time": "2022-06-28T09:47:56.709Z"
   },
   {
    "duration": 221,
    "start_time": "2022-06-28T09:47:58.314Z"
   },
   {
    "duration": 188,
    "start_time": "2022-06-28T09:47:58.536Z"
   },
   {
    "duration": 216,
    "start_time": "2022-06-28T09:47:58.725Z"
   },
   {
    "duration": 43,
    "start_time": "2022-06-28T09:47:58.943Z"
   },
   {
    "duration": 17,
    "start_time": "2022-06-28T09:47:58.988Z"
   },
   {
    "duration": 21,
    "start_time": "2022-06-28T09:47:59.007Z"
   },
   {
    "duration": 1000,
    "start_time": "2022-09-19T09:38:03.155Z"
   },
   {
    "duration": 86,
    "start_time": "2022-09-19T09:38:04.157Z"
   },
   {
    "duration": 10,
    "start_time": "2022-09-19T09:38:04.244Z"
   },
   {
    "duration": 227,
    "start_time": "2022-09-19T09:38:04.256Z"
   },
   {
    "duration": 22,
    "start_time": "2022-09-19T09:38:04.484Z"
   },
   {
    "duration": 277,
    "start_time": "2022-09-19T09:38:04.508Z"
   },
   {
    "duration": 16,
    "start_time": "2022-09-19T09:38:04.787Z"
   },
   {
    "duration": 309,
    "start_time": "2022-09-19T09:38:04.805Z"
   },
   {
    "duration": 19,
    "start_time": "2022-09-19T09:38:05.116Z"
   },
   {
    "duration": 62,
    "start_time": "2022-09-19T09:38:05.138Z"
   },
   {
    "duration": 10,
    "start_time": "2022-09-19T09:38:05.201Z"
   },
   {
    "duration": 33,
    "start_time": "2022-09-19T09:38:05.212Z"
   },
   {
    "duration": 38,
    "start_time": "2022-09-19T09:38:05.247Z"
   },
   {
    "duration": 413,
    "start_time": "2022-09-19T09:38:05.286Z"
   },
   {
    "duration": 11,
    "start_time": "2022-09-19T09:38:05.701Z"
   },
   {
    "duration": 25,
    "start_time": "2022-09-19T09:38:05.713Z"
   },
   {
    "duration": 2795,
    "start_time": "2022-09-19T09:38:05.740Z"
   },
   {
    "duration": 5,
    "start_time": "2022-09-19T09:38:08.537Z"
   },
   {
    "duration": 42,
    "start_time": "2022-09-19T09:38:08.543Z"
   },
   {
    "duration": 327,
    "start_time": "2022-09-19T09:38:08.586Z"
   },
   {
    "duration": 6,
    "start_time": "2022-09-19T09:38:08.914Z"
   },
   {
    "duration": 97,
    "start_time": "2022-09-19T09:38:08.921Z"
   },
   {
    "duration": 31,
    "start_time": "2022-09-19T09:38:09.019Z"
   },
   {
    "duration": 26,
    "start_time": "2022-09-19T09:38:09.052Z"
   },
   {
    "duration": 170,
    "start_time": "2022-09-19T09:38:09.079Z"
   },
   {
    "duration": 9,
    "start_time": "2022-09-19T09:38:09.250Z"
   },
   {
    "duration": 93,
    "start_time": "2022-09-19T09:38:09.260Z"
   },
   {
    "duration": 33,
    "start_time": "2022-09-19T09:38:09.357Z"
   },
   {
    "duration": 46,
    "start_time": "2022-09-19T09:38:09.392Z"
   },
   {
    "duration": 24,
    "start_time": "2022-09-19T09:38:09.439Z"
   },
   {
    "duration": 8,
    "start_time": "2022-09-19T09:38:09.465Z"
   },
   {
    "duration": 14,
    "start_time": "2022-09-19T09:38:09.475Z"
   },
   {
    "duration": 38,
    "start_time": "2022-09-19T09:38:09.491Z"
   },
   {
    "duration": 36,
    "start_time": "2022-09-19T09:38:09.530Z"
   },
   {
    "duration": 7,
    "start_time": "2022-09-19T09:38:09.567Z"
   },
   {
    "duration": 24,
    "start_time": "2022-09-19T09:38:09.576Z"
   },
   {
    "duration": 40,
    "start_time": "2022-09-19T09:38:09.601Z"
   },
   {
    "duration": 26,
    "start_time": "2022-09-19T09:38:09.642Z"
   },
   {
    "duration": 49,
    "start_time": "2022-09-19T09:38:09.670Z"
   },
   {
    "duration": 19,
    "start_time": "2022-09-19T09:38:09.720Z"
   },
   {
    "duration": 39,
    "start_time": "2022-09-19T09:38:09.741Z"
   },
   {
    "duration": 45,
    "start_time": "2022-09-19T09:38:09.782Z"
   },
   {
    "duration": 145,
    "start_time": "2022-09-19T09:38:09.829Z"
   },
   {
    "duration": 16,
    "start_time": "2022-09-19T09:38:09.976Z"
   },
   {
    "duration": 38,
    "start_time": "2022-09-19T09:38:09.993Z"
   },
   {
    "duration": 19,
    "start_time": "2022-09-19T09:38:10.033Z"
   },
   {
    "duration": 26,
    "start_time": "2022-09-19T09:38:10.054Z"
   },
   {
    "duration": 15,
    "start_time": "2022-09-19T09:38:10.082Z"
   },
   {
    "duration": 27,
    "start_time": "2022-09-19T09:38:10.099Z"
   },
   {
    "duration": 19,
    "start_time": "2022-09-19T09:38:10.127Z"
   },
   {
    "duration": 23,
    "start_time": "2022-09-19T09:38:10.147Z"
   },
   {
    "duration": 23,
    "start_time": "2022-09-19T09:38:10.171Z"
   },
   {
    "duration": 35,
    "start_time": "2022-09-19T09:38:10.196Z"
   },
   {
    "duration": 282,
    "start_time": "2022-09-19T09:38:10.232Z"
   },
   {
    "duration": 249,
    "start_time": "2022-09-19T09:38:10.516Z"
   },
   {
    "duration": 258,
    "start_time": "2022-09-19T09:38:10.767Z"
   },
   {
    "duration": 31,
    "start_time": "2022-09-19T09:38:11.027Z"
   },
   {
    "duration": 6,
    "start_time": "2022-09-19T09:38:11.060Z"
   },
   {
    "duration": 34,
    "start_time": "2022-09-19T09:38:11.068Z"
   },
   {
    "duration": 23,
    "start_time": "2022-09-19T09:38:11.104Z"
   },
   {
    "duration": 34,
    "start_time": "2022-09-19T09:38:11.128Z"
   },
   {
    "duration": 25,
    "start_time": "2022-09-19T09:38:11.163Z"
   },
   {
    "duration": 81,
    "start_time": "2022-09-19T09:38:11.189Z"
   },
   {
    "duration": 10,
    "start_time": "2022-09-19T09:38:11.272Z"
   },
   {
    "duration": 32,
    "start_time": "2022-09-19T09:38:11.284Z"
   },
   {
    "duration": 26,
    "start_time": "2022-09-19T09:38:11.317Z"
   },
   {
    "duration": 65,
    "start_time": "2022-09-19T09:38:11.344Z"
   },
   {
    "duration": 3,
    "start_time": "2022-09-19T09:38:11.411Z"
   },
   {
    "duration": 1373,
    "start_time": "2022-09-19T09:38:11.415Z"
   },
   {
    "duration": 172,
    "start_time": "2022-09-19T09:38:12.789Z"
   },
   {
    "duration": 171,
    "start_time": "2022-09-19T09:38:12.962Z"
   },
   {
    "duration": 163,
    "start_time": "2022-09-19T09:38:13.134Z"
   },
   {
    "duration": 51,
    "start_time": "2022-09-19T09:38:13.298Z"
   },
   {
    "duration": 17,
    "start_time": "2022-09-19T09:38:13.350Z"
   },
   {
    "duration": 29,
    "start_time": "2022-09-19T09:38:13.369Z"
   },
   {
    "duration": 174,
    "start_time": "2022-09-19T09:41:52.560Z"
   },
   {
    "duration": 4,
    "start_time": "2022-09-19T09:44:45.531Z"
   },
   {
    "duration": 18,
    "start_time": "2022-09-19T09:45:44.129Z"
   },
   {
    "duration": 21,
    "start_time": "2022-09-19T09:47:02.507Z"
   },
   {
    "duration": 20,
    "start_time": "2022-09-19T09:48:23.862Z"
   },
   {
    "duration": 1140,
    "start_time": "2022-09-19T09:53:06.839Z"
   },
   {
    "duration": 49,
    "start_time": "2022-09-19T09:53:07.981Z"
   },
   {
    "duration": 10,
    "start_time": "2022-09-19T09:53:08.032Z"
   },
   {
    "duration": 165,
    "start_time": "2022-09-19T09:53:08.044Z"
   },
   {
    "duration": 23,
    "start_time": "2022-09-19T09:53:08.211Z"
   },
   {
    "duration": 90,
    "start_time": "2022-09-19T09:53:08.236Z"
   },
   {
    "duration": 17,
    "start_time": "2022-09-19T09:53:08.327Z"
   },
   {
    "duration": 138,
    "start_time": "2022-09-19T09:53:08.345Z"
   },
   {
    "duration": 29,
    "start_time": "2022-09-19T09:53:08.485Z"
   },
   {
    "duration": 19,
    "start_time": "2022-09-19T09:53:08.517Z"
   },
   {
    "duration": 8,
    "start_time": "2022-09-19T09:53:08.538Z"
   },
   {
    "duration": 11,
    "start_time": "2022-09-19T09:53:08.548Z"
   },
   {
    "duration": 458,
    "start_time": "2022-09-19T09:53:08.561Z"
   },
   {
    "duration": 7,
    "start_time": "2022-09-19T09:53:09.021Z"
   },
   {
    "duration": 10,
    "start_time": "2022-09-19T09:53:09.029Z"
   },
   {
    "duration": 2031,
    "start_time": "2022-09-19T09:53:09.040Z"
   },
   {
    "duration": 7,
    "start_time": "2022-09-19T09:53:11.072Z"
   },
   {
    "duration": 8,
    "start_time": "2022-09-19T09:53:11.081Z"
   },
   {
    "duration": 288,
    "start_time": "2022-09-19T09:53:11.090Z"
   },
   {
    "duration": 6,
    "start_time": "2022-09-19T09:53:11.379Z"
   },
   {
    "duration": 76,
    "start_time": "2022-09-19T09:53:11.386Z"
   },
   {
    "duration": 28,
    "start_time": "2022-09-19T09:53:11.463Z"
   },
   {
    "duration": 39,
    "start_time": "2022-09-19T09:53:11.493Z"
   },
   {
    "duration": 178,
    "start_time": "2022-09-19T09:53:11.533Z"
   },
   {
    "duration": 12,
    "start_time": "2022-09-19T09:53:11.712Z"
   },
   {
    "duration": 87,
    "start_time": "2022-09-19T09:53:11.725Z"
   },
   {
    "duration": 36,
    "start_time": "2022-09-19T09:53:11.814Z"
   },
   {
    "duration": 34,
    "start_time": "2022-09-19T09:53:11.854Z"
   },
   {
    "duration": 31,
    "start_time": "2022-09-19T09:53:11.908Z"
   },
   {
    "duration": 9,
    "start_time": "2022-09-19T09:53:11.941Z"
   },
   {
    "duration": 4,
    "start_time": "2022-09-19T09:53:11.952Z"
   },
   {
    "duration": 14,
    "start_time": "2022-09-19T09:53:11.957Z"
   },
   {
    "duration": 45,
    "start_time": "2022-09-19T09:53:11.972Z"
   },
   {
    "duration": 6,
    "start_time": "2022-09-19T09:53:12.018Z"
   },
   {
    "duration": 10,
    "start_time": "2022-09-19T09:53:12.026Z"
   },
   {
    "duration": 13,
    "start_time": "2022-09-19T09:53:12.038Z"
   },
   {
    "duration": 6,
    "start_time": "2022-09-19T09:53:12.052Z"
   },
   {
    "duration": 155,
    "start_time": "2022-09-19T09:53:12.059Z"
   },
   {
    "duration": 19,
    "start_time": "2022-09-19T09:53:12.215Z"
   },
   {
    "duration": 17,
    "start_time": "2022-09-19T09:53:12.235Z"
   },
   {
    "duration": 15,
    "start_time": "2022-09-19T09:53:12.254Z"
   },
   {
    "duration": 5,
    "start_time": "2022-09-19T09:53:12.271Z"
   },
   {
    "duration": 17,
    "start_time": "2022-09-19T09:53:12.309Z"
   },
   {
    "duration": 3,
    "start_time": "2022-09-19T09:53:12.328Z"
   },
   {
    "duration": 17,
    "start_time": "2022-09-19T09:53:12.332Z"
   },
   {
    "duration": 7,
    "start_time": "2022-09-19T09:53:12.350Z"
   },
   {
    "duration": 8,
    "start_time": "2022-09-19T09:53:12.359Z"
   },
   {
    "duration": 351,
    "start_time": "2022-09-19T09:53:12.369Z"
   },
   {
    "duration": 282,
    "start_time": "2022-09-19T09:53:12.722Z"
   },
   {
    "duration": 260,
    "start_time": "2022-09-19T09:53:13.008Z"
   },
   {
    "duration": 42,
    "start_time": "2022-09-19T09:53:13.270Z"
   },
   {
    "duration": 9,
    "start_time": "2022-09-19T09:53:13.313Z"
   },
   {
    "duration": 8,
    "start_time": "2022-09-19T09:53:13.324Z"
   },
   {
    "duration": 3,
    "start_time": "2022-09-19T09:53:13.334Z"
   },
   {
    "duration": 4,
    "start_time": "2022-09-19T09:53:13.339Z"
   },
   {
    "duration": 17,
    "start_time": "2022-09-19T09:53:13.345Z"
   },
   {
    "duration": 9,
    "start_time": "2022-09-19T09:53:13.363Z"
   },
   {
    "duration": 40,
    "start_time": "2022-09-19T09:53:13.374Z"
   },
   {
    "duration": 12,
    "start_time": "2022-09-19T09:53:13.416Z"
   }
  ],
  "kernelspec": {
   "display_name": "Python 3 (ipykernel)",
   "language": "python",
   "name": "python3"
  },
  "language_info": {
   "codemirror_mode": {
    "name": "ipython",
    "version": 3
   },
   "file_extension": ".py",
   "mimetype": "text/x-python",
   "name": "python",
   "nbconvert_exporter": "python",
   "pygments_lexer": "ipython3",
   "version": "3.9.5"
  },
  "toc": {
   "base_numbering": 1,
   "nav_menu": {
    "height": "134px",
    "width": "160px"
   },
   "number_sections": true,
   "sideBar": true,
   "skip_h1_title": true,
   "title_cell": "Table of Contents",
   "title_sidebar": "Contents",
   "toc_cell": false,
   "toc_position": {
    "height": "478px",
    "left": "557px",
    "top": "111.125px",
    "width": "243px"
   },
   "toc_section_display": true,
   "toc_window_display": true
  }
 },
 "nbformat": 4,
 "nbformat_minor": 2
}
