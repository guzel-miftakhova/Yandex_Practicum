{
 "cells": [
  {
   "cell_type": "markdown",
   "metadata": {},
   "source": [
    "## Обзор данных"
   ]
  },
  {
   "cell_type": "code",
   "execution_count": 1,
   "metadata": {},
   "outputs": [],
   "source": [
    "import pandas as pd\n",
    "import matplotlib.pyplot as plt\n",
    "import numpy as np\n",
    "from scipy import stats as st\n",
    "import math as mth\n",
    "import datetime as dt\n",
    "from datetime import datetime, timedelta\n",
    "pd.set_option('display.max_rows', None)\n",
    "pd.set_option('display.max_columns', None)\n",
    "pd.set_option('display.max_colwidth', None)"
   ]
  },
  {
   "cell_type": "code",
   "execution_count": 2,
   "metadata": {},
   "outputs": [
    {
     "data": {
      "text/html": [
       "<div>\n",
       "<style scoped>\n",
       "    .dataframe tbody tr th:only-of-type {\n",
       "        vertical-align: middle;\n",
       "    }\n",
       "\n",
       "    .dataframe tbody tr th {\n",
       "        vertical-align: top;\n",
       "    }\n",
       "\n",
       "    .dataframe thead th {\n",
       "        text-align: right;\n",
       "    }\n",
       "</style>\n",
       "<table border=\"1\" class=\"dataframe\">\n",
       "  <thead>\n",
       "    <tr style=\"text-align: right;\">\n",
       "      <th></th>\n",
       "      <th>Hypothesis</th>\n",
       "      <th>Reach</th>\n",
       "      <th>Impact</th>\n",
       "      <th>Confidence</th>\n",
       "      <th>Efforts</th>\n",
       "    </tr>\n",
       "  </thead>\n",
       "  <tbody>\n",
       "    <tr>\n",
       "      <th>0</th>\n",
       "      <td>Добавить два новых канала привлечения трафика, что позволит привлекать на 30% больше пользователей</td>\n",
       "      <td>3</td>\n",
       "      <td>10</td>\n",
       "      <td>8</td>\n",
       "      <td>6</td>\n",
       "    </tr>\n",
       "    <tr>\n",
       "      <th>1</th>\n",
       "      <td>Запустить собственную службу доставки, что сократит срок доставки заказов</td>\n",
       "      <td>2</td>\n",
       "      <td>5</td>\n",
       "      <td>4</td>\n",
       "      <td>10</td>\n",
       "    </tr>\n",
       "    <tr>\n",
       "      <th>2</th>\n",
       "      <td>Добавить блоки рекомендаций товаров на сайт интернет магазина, чтобы повысить конверсию и средний чек заказа</td>\n",
       "      <td>8</td>\n",
       "      <td>3</td>\n",
       "      <td>7</td>\n",
       "      <td>3</td>\n",
       "    </tr>\n",
       "    <tr>\n",
       "      <th>3</th>\n",
       "      <td>Изменить структура категорий, что увеличит конверсию, т.к. пользователи быстрее найдут нужный товар</td>\n",
       "      <td>8</td>\n",
       "      <td>3</td>\n",
       "      <td>3</td>\n",
       "      <td>8</td>\n",
       "    </tr>\n",
       "    <tr>\n",
       "      <th>4</th>\n",
       "      <td>Изменить цвет фона главной страницы, чтобы увеличить вовлеченность пользователей</td>\n",
       "      <td>3</td>\n",
       "      <td>1</td>\n",
       "      <td>1</td>\n",
       "      <td>1</td>\n",
       "    </tr>\n",
       "    <tr>\n",
       "      <th>5</th>\n",
       "      <td>Добавить страницу отзывов клиентов о магазине, что позволит увеличить количество заказов</td>\n",
       "      <td>3</td>\n",
       "      <td>2</td>\n",
       "      <td>2</td>\n",
       "      <td>3</td>\n",
       "    </tr>\n",
       "    <tr>\n",
       "      <th>6</th>\n",
       "      <td>Показать на главной странице баннеры с актуальными акциями и распродажами, чтобы увеличить конверсию</td>\n",
       "      <td>5</td>\n",
       "      <td>3</td>\n",
       "      <td>8</td>\n",
       "      <td>3</td>\n",
       "    </tr>\n",
       "    <tr>\n",
       "      <th>7</th>\n",
       "      <td>Добавить форму подписки на все основные страницы, чтобы собрать базу клиентов для email-рассылок</td>\n",
       "      <td>10</td>\n",
       "      <td>7</td>\n",
       "      <td>8</td>\n",
       "      <td>5</td>\n",
       "    </tr>\n",
       "    <tr>\n",
       "      <th>8</th>\n",
       "      <td>Запустить акцию, дающую скидку на товар в день рождения</td>\n",
       "      <td>1</td>\n",
       "      <td>9</td>\n",
       "      <td>9</td>\n",
       "      <td>5</td>\n",
       "    </tr>\n",
       "  </tbody>\n",
       "</table>\n",
       "</div>"
      ],
      "text/plain": [
       "                                                                                                     Hypothesis  \\\n",
       "0            Добавить два новых канала привлечения трафика, что позволит привлекать на 30% больше пользователей   \n",
       "1                                     Запустить собственную службу доставки, что сократит срок доставки заказов   \n",
       "2  Добавить блоки рекомендаций товаров на сайт интернет магазина, чтобы повысить конверсию и средний чек заказа   \n",
       "3           Изменить структура категорий, что увеличит конверсию, т.к. пользователи быстрее найдут нужный товар   \n",
       "4                              Изменить цвет фона главной страницы, чтобы увеличить вовлеченность пользователей   \n",
       "5                      Добавить страницу отзывов клиентов о магазине, что позволит увеличить количество заказов   \n",
       "6          Показать на главной странице баннеры с актуальными акциями и распродажами, чтобы увеличить конверсию   \n",
       "7              Добавить форму подписки на все основные страницы, чтобы собрать базу клиентов для email-рассылок   \n",
       "8                                                       Запустить акцию, дающую скидку на товар в день рождения   \n",
       "\n",
       "   Reach  Impact  Confidence  Efforts  \n",
       "0      3      10           8        6  \n",
       "1      2       5           4       10  \n",
       "2      8       3           7        3  \n",
       "3      8       3           3        8  \n",
       "4      3       1           1        1  \n",
       "5      3       2           2        3  \n",
       "6      5       3           8        3  \n",
       "7     10       7           8        5  \n",
       "8      1       9           9        5  "
      ]
     },
     "execution_count": 2,
     "metadata": {},
     "output_type": "execute_result"
    }
   ],
   "source": [
    "#открываем файл с данными\n",
    "hypothesis = pd.read_csv('..../hypothesis.csv')\n",
    "\n",
    "#вывод таблицы\n",
    "hypothesis"
   ]
  },
  {
   "cell_type": "code",
   "execution_count": 3,
   "metadata": {},
   "outputs": [
    {
     "name": "stdout",
     "output_type": "stream",
     "text": [
      "<class 'pandas.core.frame.DataFrame'>\n",
      "RangeIndex: 9 entries, 0 to 8\n",
      "Data columns (total 5 columns):\n",
      " #   Column      Non-Null Count  Dtype \n",
      "---  ------      --------------  ----- \n",
      " 0   Hypothesis  9 non-null      object\n",
      " 1   Reach       9 non-null      int64 \n",
      " 2   Impact      9 non-null      int64 \n",
      " 3   Confidence  9 non-null      int64 \n",
      " 4   Efforts     9 non-null      int64 \n",
      "dtypes: int64(4), object(1)\n",
      "memory usage: 488.0+ bytes\n"
     ]
    }
   ],
   "source": [
    "hypothesis.info()"
   ]
  },
  {
   "cell_type": "markdown",
   "metadata": {},
   "source": [
    "В таблице 5 столбцов и 9 строк, типы данных (по столбцам): `int64`(4), `object`(1).\n",
    "\n",
    "Описание столбцов:\n",
    "* `Hypothesis` — краткое описание гипотезы;\n",
    "* `Reach` — охват пользователей по 10-балльной шкале;\n",
    "* `Impact` — влияние на пользователей по 10-балльной шкале;\n",
    "* `Confidence` — уверенность в гипотезе по 10-балльной шкале;\n",
    "* `Efforts` — затраты ресурсов на проверку гипотезы по 10-балльной шкале (чем больше значение `Efforts`, тем дороже проверка гипотезы).\n",
    "\n",
    "Все названия столбцов нужно привести к одному регистру."
   ]
  },
  {
   "cell_type": "code",
   "execution_count": 4,
   "metadata": {},
   "outputs": [
    {
     "data": {
      "text/html": [
       "<div>\n",
       "<style scoped>\n",
       "    .dataframe tbody tr th:only-of-type {\n",
       "        vertical-align: middle;\n",
       "    }\n",
       "\n",
       "    .dataframe tbody tr th {\n",
       "        vertical-align: top;\n",
       "    }\n",
       "\n",
       "    .dataframe thead th {\n",
       "        text-align: right;\n",
       "    }\n",
       "</style>\n",
       "<table border=\"1\" class=\"dataframe\">\n",
       "  <thead>\n",
       "    <tr style=\"text-align: right;\">\n",
       "      <th></th>\n",
       "      <th>transactionId</th>\n",
       "      <th>visitorId</th>\n",
       "      <th>date</th>\n",
       "      <th>revenue</th>\n",
       "      <th>group</th>\n",
       "    </tr>\n",
       "  </thead>\n",
       "  <tbody>\n",
       "    <tr>\n",
       "      <th>0</th>\n",
       "      <td>3667963787</td>\n",
       "      <td>3312258926</td>\n",
       "      <td>2019-08-15</td>\n",
       "      <td>1650</td>\n",
       "      <td>B</td>\n",
       "    </tr>\n",
       "    <tr>\n",
       "      <th>1</th>\n",
       "      <td>2804400009</td>\n",
       "      <td>3642806036</td>\n",
       "      <td>2019-08-15</td>\n",
       "      <td>730</td>\n",
       "      <td>B</td>\n",
       "    </tr>\n",
       "    <tr>\n",
       "      <th>2</th>\n",
       "      <td>2961555356</td>\n",
       "      <td>4069496402</td>\n",
       "      <td>2019-08-15</td>\n",
       "      <td>400</td>\n",
       "      <td>A</td>\n",
       "    </tr>\n",
       "    <tr>\n",
       "      <th>3</th>\n",
       "      <td>3797467345</td>\n",
       "      <td>1196621759</td>\n",
       "      <td>2019-08-15</td>\n",
       "      <td>9759</td>\n",
       "      <td>B</td>\n",
       "    </tr>\n",
       "    <tr>\n",
       "      <th>4</th>\n",
       "      <td>2282983706</td>\n",
       "      <td>2322279887</td>\n",
       "      <td>2019-08-15</td>\n",
       "      <td>2308</td>\n",
       "      <td>B</td>\n",
       "    </tr>\n",
       "  </tbody>\n",
       "</table>\n",
       "</div>"
      ],
      "text/plain": [
       "   transactionId   visitorId        date  revenue group\n",
       "0     3667963787  3312258926  2019-08-15     1650     B\n",
       "1     2804400009  3642806036  2019-08-15      730     B\n",
       "2     2961555356  4069496402  2019-08-15      400     A\n",
       "3     3797467345  1196621759  2019-08-15     9759     B\n",
       "4     2282983706  2322279887  2019-08-15     2308     B"
      ]
     },
     "metadata": {},
     "output_type": "display_data"
    },
    {
     "data": {
      "text/html": [
       "<div>\n",
       "<style scoped>\n",
       "    .dataframe tbody tr th:only-of-type {\n",
       "        vertical-align: middle;\n",
       "    }\n",
       "\n",
       "    .dataframe tbody tr th {\n",
       "        vertical-align: top;\n",
       "    }\n",
       "\n",
       "    .dataframe thead th {\n",
       "        text-align: right;\n",
       "    }\n",
       "</style>\n",
       "<table border=\"1\" class=\"dataframe\">\n",
       "  <thead>\n",
       "    <tr style=\"text-align: right;\">\n",
       "      <th></th>\n",
       "      <th>date</th>\n",
       "      <th>group</th>\n",
       "      <th>visitors</th>\n",
       "    </tr>\n",
       "  </thead>\n",
       "  <tbody>\n",
       "    <tr>\n",
       "      <th>0</th>\n",
       "      <td>2019-08-01</td>\n",
       "      <td>A</td>\n",
       "      <td>719</td>\n",
       "    </tr>\n",
       "    <tr>\n",
       "      <th>1</th>\n",
       "      <td>2019-08-02</td>\n",
       "      <td>A</td>\n",
       "      <td>619</td>\n",
       "    </tr>\n",
       "    <tr>\n",
       "      <th>2</th>\n",
       "      <td>2019-08-03</td>\n",
       "      <td>A</td>\n",
       "      <td>507</td>\n",
       "    </tr>\n",
       "    <tr>\n",
       "      <th>3</th>\n",
       "      <td>2019-08-04</td>\n",
       "      <td>A</td>\n",
       "      <td>717</td>\n",
       "    </tr>\n",
       "    <tr>\n",
       "      <th>4</th>\n",
       "      <td>2019-08-05</td>\n",
       "      <td>A</td>\n",
       "      <td>756</td>\n",
       "    </tr>\n",
       "  </tbody>\n",
       "</table>\n",
       "</div>"
      ],
      "text/plain": [
       "         date group  visitors\n",
       "0  2019-08-01     A       719\n",
       "1  2019-08-02     A       619\n",
       "2  2019-08-03     A       507\n",
       "3  2019-08-04     A       717\n",
       "4  2019-08-05     A       756"
      ]
     },
     "execution_count": 4,
     "metadata": {},
     "output_type": "execute_result"
    }
   ],
   "source": [
    "#открываем файл с данными\n",
    "orders = pd.read_csv('..../orders.csv')\n",
    "visitors = pd.read_csv('..../visitors.csv')\n",
    "\n",
    "#вывод таблиц\n",
    "display(orders.head())\n",
    "visitors.head()"
   ]
  },
  {
   "cell_type": "code",
   "execution_count": 5,
   "metadata": {},
   "outputs": [
    {
     "name": "stdout",
     "output_type": "stream",
     "text": [
      "<class 'pandas.core.frame.DataFrame'>\n",
      "RangeIndex: 1197 entries, 0 to 1196\n",
      "Data columns (total 5 columns):\n",
      " #   Column         Non-Null Count  Dtype \n",
      "---  ------         --------------  ----- \n",
      " 0   transactionId  1197 non-null   int64 \n",
      " 1   visitorId      1197 non-null   int64 \n",
      " 2   date           1197 non-null   object\n",
      " 3   revenue        1197 non-null   int64 \n",
      " 4   group          1197 non-null   object\n",
      "dtypes: int64(3), object(2)\n",
      "memory usage: 46.9+ KB\n"
     ]
    }
   ],
   "source": [
    "orders.info()"
   ]
  },
  {
   "cell_type": "markdown",
   "metadata": {},
   "source": [
    "В таблице 5 столбцов и 1197 строк, типы данных (по столбцам): `int64`(3), `object`(2).\n",
    "\n",
    "Описание столбцов:\n",
    "\n",
    "* `transactionId` — идентификатор заказа;\n",
    "* `visitorId` — идентификатор пользователя, совершившего заказ;\n",
    "* `date` — дата, когда был совершён заказ;\n",
    "* `revenue` — выручка заказа;\n",
    "* `group` — группа A/B-теста, в которую попал заказ.\n",
    "\n",
    "Все названия столбцов нужно привести к \"змеиному\" стилю, т.е. добавить \" _ \" там, где это уместно.\n",
    "\n",
    "Также в таблице есть столбец `date`, для которого логичнее использовать тип данных для работы с датами."
   ]
  },
  {
   "cell_type": "code",
   "execution_count": 6,
   "metadata": {},
   "outputs": [
    {
     "name": "stdout",
     "output_type": "stream",
     "text": [
      "<class 'pandas.core.frame.DataFrame'>\n",
      "RangeIndex: 62 entries, 0 to 61\n",
      "Data columns (total 3 columns):\n",
      " #   Column    Non-Null Count  Dtype \n",
      "---  ------    --------------  ----- \n",
      " 0   date      62 non-null     object\n",
      " 1   group     62 non-null     object\n",
      " 2   visitors  62 non-null     int64 \n",
      "dtypes: int64(1), object(2)\n",
      "memory usage: 1.6+ KB\n"
     ]
    }
   ],
   "source": [
    "visitors.info()"
   ]
  },
  {
   "cell_type": "markdown",
   "metadata": {},
   "source": [
    "В таблице 3 столбца и 62 строки, типы данных (по столбцам): `int64`(1), `object`(2).\n",
    "\n",
    "Описание столбцов:\n",
    "\n",
    "* `date` — дата;\n",
    "* `group` — группа A/B-теста;\n",
    "* `visitors` — количество пользователей в указанную дату в указанной группе A/B-теста.\n",
    "\n",
    "B таблице есть столбец `date`, для которого логичнее использовать тип данных для работы с датами."
   ]
  },
  {
   "cell_type": "markdown",
   "metadata": {},
   "source": [
    "<div style=\"border:solid green 1px; padding: 10px\">\n",
    "\n",
    "У нас в распоряжении таблицы:\n",
    "    \n",
    "- `hypothesis` — данные о 9 гипотезах по увеличению выручки интернет-магазина с указанными параметрами охвата пользователей, влияния на пользователей, уверенности, затрат ресурсов на проверку гипотезы;\n",
    "- `visitors` и `orders` - результаты, описывающие проведение A/B-теста (данные о пользовательских посещениях и их заказах за август 2019г.).\n",
    "\n",
    "Предварительно можно утверждать, что данных достаточно для проведения исследования.\n",
    "\n",
    "Чтобы двигаться дальше, нужно устранить небольшие проблемы в данных, выявленные выше."
   ]
  },
  {
   "cell_type": "code",
   "execution_count": 7,
   "metadata": {},
   "outputs": [],
   "source": [
    "# переименование столбцов\n",
    "hypothesis.columns = hypothesis.columns.str.lower()\n",
    "orders = orders.rename(\n",
    "    columns={\n",
    "        'transactionId': 'transaction_id',\n",
    "        'visitorId': 'visitor_id'\n",
    "    }\n",
    ")\n",
    "# преобразование данных о времени\n",
    "orders['date'] = orders['date'].map(\n",
    "    lambda x: dt.datetime.strptime(x, '%Y-%m-%d')\n",
    ")\n",
    "visitors['date'] = visitors['date'].map(\n",
    "    lambda x: dt.datetime.strptime(x, '%Y-%m-%d')\n",
    ")"
   ]
  },
  {
   "cell_type": "code",
   "execution_count": 8,
   "metadata": {},
   "outputs": [
    {
     "name": "stdout",
     "output_type": "stream",
     "text": [
      "0\n"
     ]
    },
    {
     "data": {
      "text/plain": [
       "0"
      ]
     },
     "execution_count": 8,
     "metadata": {},
     "output_type": "execute_result"
    }
   ],
   "source": [
    "#проверка на дубликаты\n",
    "print(visitors.duplicated().sum())\n",
    "orders.duplicated().sum()"
   ]
  },
  {
   "cell_type": "markdown",
   "metadata": {},
   "source": [
    "## 1 часть. Приоритизация гипотез\n",
    "\n",
    "Чтобы максимизировать ожидаемое улучшение ключевых метрик бизнеса приоритизируем сформулированные гипотезы."
   ]
  },
  {
   "cell_type": "markdown",
   "metadata": {},
   "source": [
    "### Применим фреймворк ICE\n",
    "\n",
    "Фреймворк `ICE` (влияние `impact`, уверенность `confidence`, усилия `efforts`) — один из самых популярных способов приоритизации задач.\n",
    "\n",
    "Параметры:\n",
    "- `impact` - насколько сильно изменение повлияет на пользователей, их опыт и удовлетворение от продукта;\n",
    "- `confidence` - насколько мы уверены, что это изменение повлияет на пользователей именно так;\n",
    "- `efforts` - сколько стоит протестировать эту гипотезу."
   ]
  },
  {
   "cell_type": "code",
   "execution_count": 9,
   "metadata": {},
   "outputs": [
    {
     "data": {
      "text/html": [
       "<div>\n",
       "<style scoped>\n",
       "    .dataframe tbody tr th:only-of-type {\n",
       "        vertical-align: middle;\n",
       "    }\n",
       "\n",
       "    .dataframe tbody tr th {\n",
       "        vertical-align: top;\n",
       "    }\n",
       "\n",
       "    .dataframe thead th {\n",
       "        text-align: right;\n",
       "    }\n",
       "</style>\n",
       "<table border=\"1\" class=\"dataframe\">\n",
       "  <thead>\n",
       "    <tr style=\"text-align: right;\">\n",
       "      <th></th>\n",
       "      <th>hypothesis</th>\n",
       "      <th>ICE</th>\n",
       "    </tr>\n",
       "  </thead>\n",
       "  <tbody>\n",
       "    <tr>\n",
       "      <th>8</th>\n",
       "      <td>Запустить акцию, дающую скидку на товар в день рождения</td>\n",
       "      <td>16.20</td>\n",
       "    </tr>\n",
       "    <tr>\n",
       "      <th>0</th>\n",
       "      <td>Добавить два новых канала привлечения трафика, что позволит привлекать на 30% больше пользователей</td>\n",
       "      <td>13.33</td>\n",
       "    </tr>\n",
       "    <tr>\n",
       "      <th>7</th>\n",
       "      <td>Добавить форму подписки на все основные страницы, чтобы собрать базу клиентов для email-рассылок</td>\n",
       "      <td>11.20</td>\n",
       "    </tr>\n",
       "    <tr>\n",
       "      <th>6</th>\n",
       "      <td>Показать на главной странице баннеры с актуальными акциями и распродажами, чтобы увеличить конверсию</td>\n",
       "      <td>8.00</td>\n",
       "    </tr>\n",
       "    <tr>\n",
       "      <th>2</th>\n",
       "      <td>Добавить блоки рекомендаций товаров на сайт интернет магазина, чтобы повысить конверсию и средний чек заказа</td>\n",
       "      <td>7.00</td>\n",
       "    </tr>\n",
       "    <tr>\n",
       "      <th>1</th>\n",
       "      <td>Запустить собственную службу доставки, что сократит срок доставки заказов</td>\n",
       "      <td>2.00</td>\n",
       "    </tr>\n",
       "    <tr>\n",
       "      <th>5</th>\n",
       "      <td>Добавить страницу отзывов клиентов о магазине, что позволит увеличить количество заказов</td>\n",
       "      <td>1.33</td>\n",
       "    </tr>\n",
       "    <tr>\n",
       "      <th>3</th>\n",
       "      <td>Изменить структура категорий, что увеличит конверсию, т.к. пользователи быстрее найдут нужный товар</td>\n",
       "      <td>1.12</td>\n",
       "    </tr>\n",
       "    <tr>\n",
       "      <th>4</th>\n",
       "      <td>Изменить цвет фона главной страницы, чтобы увеличить вовлеченность пользователей</td>\n",
       "      <td>1.00</td>\n",
       "    </tr>\n",
       "  </tbody>\n",
       "</table>\n",
       "</div>"
      ],
      "text/plain": [
       "                                                                                                     hypothesis  \\\n",
       "8                                                       Запустить акцию, дающую скидку на товар в день рождения   \n",
       "0            Добавить два новых канала привлечения трафика, что позволит привлекать на 30% больше пользователей   \n",
       "7              Добавить форму подписки на все основные страницы, чтобы собрать базу клиентов для email-рассылок   \n",
       "6          Показать на главной странице баннеры с актуальными акциями и распродажами, чтобы увеличить конверсию   \n",
       "2  Добавить блоки рекомендаций товаров на сайт интернет магазина, чтобы повысить конверсию и средний чек заказа   \n",
       "1                                     Запустить собственную службу доставки, что сократит срок доставки заказов   \n",
       "5                      Добавить страницу отзывов клиентов о магазине, что позволит увеличить количество заказов   \n",
       "3           Изменить структура категорий, что увеличит конверсию, т.к. пользователи быстрее найдут нужный товар   \n",
       "4                              Изменить цвет фона главной страницы, чтобы увеличить вовлеченность пользователей   \n",
       "\n",
       "     ICE  \n",
       "8  16.20  \n",
       "0  13.33  \n",
       "7  11.20  \n",
       "6   8.00  \n",
       "2   7.00  \n",
       "1   2.00  \n",
       "5   1.33  \n",
       "3   1.12  \n",
       "4   1.00  "
      ]
     },
     "execution_count": 9,
     "metadata": {},
     "output_type": "execute_result"
    }
   ],
   "source": [
    "# добавим в тадлицу гипотез колонку расчитанного фреймворка\n",
    "hypothesis['ICE'] = round((hypothesis['impact'] * hypothesis['confidence']) / hypothesis['efforts'], 2)\n",
    "\n",
    "# выведем результаты, отсортированные по убыванию приоритета\n",
    "hypothesis[['hypothesis', 'ICE']].sort_values(by='ICE', ascending=False)"
   ]
  },
  {
   "cell_type": "markdown",
   "metadata": {},
   "source": [
    "\n",
    "Наиболее перпективные гипотезы по `ICE`: 9, 1 и 8."
   ]
  },
  {
   "cell_type": "markdown",
   "metadata": {},
   "source": [
    "### Применим фреймворк RICE\n",
    "\n",
    "Фреймворк `RICE` - это модификация `ICE`, в которой помимо трех параметров, исрпользуемых в `ICE`, есть еще один — охват `reach` — скольких пользователей затронет изменение, которое мы хотим внести."
   ]
  },
  {
   "cell_type": "code",
   "execution_count": 10,
   "metadata": {},
   "outputs": [
    {
     "data": {
      "text/html": [
       "<div>\n",
       "<style scoped>\n",
       "    .dataframe tbody tr th:only-of-type {\n",
       "        vertical-align: middle;\n",
       "    }\n",
       "\n",
       "    .dataframe tbody tr th {\n",
       "        vertical-align: top;\n",
       "    }\n",
       "\n",
       "    .dataframe thead th {\n",
       "        text-align: right;\n",
       "    }\n",
       "</style>\n",
       "<table border=\"1\" class=\"dataframe\">\n",
       "  <thead>\n",
       "    <tr style=\"text-align: right;\">\n",
       "      <th></th>\n",
       "      <th>hypothesis</th>\n",
       "      <th>RICE</th>\n",
       "    </tr>\n",
       "  </thead>\n",
       "  <tbody>\n",
       "    <tr>\n",
       "      <th>7</th>\n",
       "      <td>Добавить форму подписки на все основные страницы, чтобы собрать базу клиентов для email-рассылок</td>\n",
       "      <td>112.0</td>\n",
       "    </tr>\n",
       "    <tr>\n",
       "      <th>2</th>\n",
       "      <td>Добавить блоки рекомендаций товаров на сайт интернет магазина, чтобы повысить конверсию и средний чек заказа</td>\n",
       "      <td>56.0</td>\n",
       "    </tr>\n",
       "    <tr>\n",
       "      <th>0</th>\n",
       "      <td>Добавить два новых канала привлечения трафика, что позволит привлекать на 30% больше пользователей</td>\n",
       "      <td>40.0</td>\n",
       "    </tr>\n",
       "    <tr>\n",
       "      <th>6</th>\n",
       "      <td>Показать на главной странице баннеры с актуальными акциями и распродажами, чтобы увеличить конверсию</td>\n",
       "      <td>40.0</td>\n",
       "    </tr>\n",
       "    <tr>\n",
       "      <th>8</th>\n",
       "      <td>Запустить акцию, дающую скидку на товар в день рождения</td>\n",
       "      <td>16.2</td>\n",
       "    </tr>\n",
       "    <tr>\n",
       "      <th>3</th>\n",
       "      <td>Изменить структура категорий, что увеличит конверсию, т.к. пользователи быстрее найдут нужный товар</td>\n",
       "      <td>9.0</td>\n",
       "    </tr>\n",
       "    <tr>\n",
       "      <th>1</th>\n",
       "      <td>Запустить собственную службу доставки, что сократит срок доставки заказов</td>\n",
       "      <td>4.0</td>\n",
       "    </tr>\n",
       "    <tr>\n",
       "      <th>5</th>\n",
       "      <td>Добавить страницу отзывов клиентов о магазине, что позволит увеличить количество заказов</td>\n",
       "      <td>4.0</td>\n",
       "    </tr>\n",
       "    <tr>\n",
       "      <th>4</th>\n",
       "      <td>Изменить цвет фона главной страницы, чтобы увеличить вовлеченность пользователей</td>\n",
       "      <td>3.0</td>\n",
       "    </tr>\n",
       "  </tbody>\n",
       "</table>\n",
       "</div>"
      ],
      "text/plain": [
       "                                                                                                     hypothesis  \\\n",
       "7              Добавить форму подписки на все основные страницы, чтобы собрать базу клиентов для email-рассылок   \n",
       "2  Добавить блоки рекомендаций товаров на сайт интернет магазина, чтобы повысить конверсию и средний чек заказа   \n",
       "0            Добавить два новых канала привлечения трафика, что позволит привлекать на 30% больше пользователей   \n",
       "6          Показать на главной странице баннеры с актуальными акциями и распродажами, чтобы увеличить конверсию   \n",
       "8                                                       Запустить акцию, дающую скидку на товар в день рождения   \n",
       "3           Изменить структура категорий, что увеличит конверсию, т.к. пользователи быстрее найдут нужный товар   \n",
       "1                                     Запустить собственную службу доставки, что сократит срок доставки заказов   \n",
       "5                      Добавить страницу отзывов клиентов о магазине, что позволит увеличить количество заказов   \n",
       "4                              Изменить цвет фона главной страницы, чтобы увеличить вовлеченность пользователей   \n",
       "\n",
       "    RICE  \n",
       "7  112.0  \n",
       "2   56.0  \n",
       "0   40.0  \n",
       "6   40.0  \n",
       "8   16.2  \n",
       "3    9.0  \n",
       "1    4.0  \n",
       "5    4.0  \n",
       "4    3.0  "
      ]
     },
     "execution_count": 10,
     "metadata": {},
     "output_type": "execute_result"
    }
   ],
   "source": [
    "# добавим в тадлицу гипотез колонку расчитанного фреймворка\n",
    "hypothesis['RICE'] = round(\n",
    "    (hypothesis['reach'] * hypothesis['impact'] * hypothesis['confidence']) / hypothesis['efforts'], 2)\n",
    "\n",
    "# выведем результаты, отсортированные по убыванию приоритета\n",
    "hypothesis[['hypothesis', 'RICE']].sort_values(by='RICE', ascending=False)"
   ]
  },
  {
   "cell_type": "markdown",
   "metadata": {},
   "source": [
    "\n",
    "Наиболее перпективные гипотезы по `RICE`: 8, 3, гипотезы 1 и 7 делят третье место."
   ]
  },
  {
   "cell_type": "markdown",
   "metadata": {},
   "source": [
    "<div style=\"border:solid green 1px; padding: 10px\">\n",
    "\n",
    "### Посмотрим как изменилась приоритизация гипотез при применении RICE вместо ICE\n",
    "\n",
    "При применении `RICE` вместо `ICE` изменилась приоритизация гипотез: 9я гипотеза \"вылетела\" из лидеров и заняла 4е место, 1я гипотеза \"сползла\" на 3е место, да еще и разделила его с 7й, а вот 8я переместилась в лидеры. Также на 2м месте разместилась 2я гипотеза, которая при применении первого фреймворка была аж на 5м месте.\n",
    "\n",
    "Это произошло из-за влияния параметра охвата `reach` на конечный результат: у 8й гипотезы он равен 10 баллам, у 3й - 8 баллам, у 1й и 7й - 3 и 5 баллам соответственно, а у 9й - одному, что и определило ей 4е, а уже не 1е, место. \n",
    "\n",
    "Таким образом можно утверждать, что охват пользователей напрямую влияет на то, получится ли повлиять на улучшение ключевых метрик бизнеса с помощью внедрения инструментов, указанные в гипотезах."
   ]
  },
  {
   "cell_type": "markdown",
   "metadata": {},
   "source": [
    "## 2 часть. Анализ A/B-теста\n",
    "\n",
    "Весь трафик был поделен на две группы (А и В). Каждой демонстрировали определённую версию страницы, собирали данные о визитах и покупках. Затем полученную информацию собрали в таблицы, которые сейчас в нашем распоряжении. Мы проанализируем данные, построим графики, подсчитыем метрики, различия между ними, степень уверенности в различиях. И сделаем вывод об эффективности изменений относительно контрольной группы, взаимодействующей с исходной версией страницы.\n",
    "\n",
    "Чтобы построить графики, нужно собрать кумулятивные данные.\n",
    "\n",
    "Объявим датафрейм `cumulative_df` со столбцами:\n",
    "* `date` — дата;\n",
    "* `group` — группа A/B-теста (A или B);\n",
    "* `orders` — кумулятивное количество заказов на указанную дату в указанной группе;\n",
    "* `buyers` — кумулятивное количество пользователей, совершивших хотя бы один заказ, на указанную дату в указанной группе;\n",
    "* `revenue` — кумулятивная выручка на указанную дату в указанной группе (средний чек);\n",
    "* `visitors` — кумулятивное количество посетителей интернет-магазина на указанную дату в определённой группе."
   ]
  },
  {
   "cell_type": "markdown",
   "metadata": {},
   "source": [
    "А также посмотрим:\n",
    "    \n",
    "- сколько у нас групп в А/В-тесте;"
   ]
  },
  {
   "cell_type": "code",
   "execution_count": 11,
   "metadata": {},
   "outputs": [
    {
     "name": "stdout",
     "output_type": "stream",
     "text": [
      "['A' 'B']\n"
     ]
    }
   ],
   "source": [
    "print(orders['group'].sort_values().unique())"
   ]
  },
  {
   "cell_type": "markdown",
   "metadata": {},
   "source": [
    "- даты начала и окончания теста;"
   ]
  },
  {
   "cell_type": "code",
   "execution_count": 12,
   "metadata": {},
   "outputs": [
    {
     "name": "stdout",
     "output_type": "stream",
     "text": [
      "Начало теста:  2019-08-01\n",
      "Окончание теста:  2019-08-31\n"
     ]
    }
   ],
   "source": [
    "print('Начало теста: ', orders['date'].dt.date.min())\n",
    "print('Окончание теста: ', orders['date'].dt.date.max())"
   ]
  },
  {
   "cell_type": "markdown",
   "metadata": {},
   "source": [
    "- сколько пользователей в каждой группе - по таблице с заказами;"
   ]
  },
  {
   "cell_type": "code",
   "execution_count": 13,
   "metadata": {
    "scrolled": true
   },
   "outputs": [
    {
     "name": "stdout",
     "output_type": "stream",
     "text": [
      "Количество пользователей в грyппе А:  503\n",
      "Количество пользователей в грyппе B:  586\n"
     ]
    }
   ],
   "source": [
    "print('Количество пользователей в грyппе А: ', orders.query('group == \"A\"')['visitor_id'].nunique())\n",
    "print('Количество пользователей в грyппе B: ', orders.query('group == \"B\"')['visitor_id'].nunique())"
   ]
  },
  {
   "cell_type": "code",
   "execution_count": 14,
   "metadata": {},
   "outputs": [
    {
     "data": {
      "text/html": [
       "<div>\n",
       "<style scoped>\n",
       "    .dataframe tbody tr th:only-of-type {\n",
       "        vertical-align: middle;\n",
       "    }\n",
       "\n",
       "    .dataframe tbody tr th {\n",
       "        vertical-align: top;\n",
       "    }\n",
       "\n",
       "    .dataframe thead th {\n",
       "        text-align: right;\n",
       "    }\n",
       "</style>\n",
       "<table border=\"1\" class=\"dataframe\">\n",
       "  <thead>\n",
       "    <tr style=\"text-align: right;\">\n",
       "      <th></th>\n",
       "      <th>date</th>\n",
       "      <th>group</th>\n",
       "      <th>orders</th>\n",
       "      <th>buyers</th>\n",
       "      <th>revenue</th>\n",
       "      <th>visitors</th>\n",
       "    </tr>\n",
       "  </thead>\n",
       "  <tbody>\n",
       "    <tr>\n",
       "      <th>0</th>\n",
       "      <td>2019-08-01</td>\n",
       "      <td>A</td>\n",
       "      <td>24</td>\n",
       "      <td>20</td>\n",
       "      <td>148579</td>\n",
       "      <td>719</td>\n",
       "    </tr>\n",
       "    <tr>\n",
       "      <th>1</th>\n",
       "      <td>2019-08-01</td>\n",
       "      <td>B</td>\n",
       "      <td>21</td>\n",
       "      <td>20</td>\n",
       "      <td>101217</td>\n",
       "      <td>713</td>\n",
       "    </tr>\n",
       "    <tr>\n",
       "      <th>2</th>\n",
       "      <td>2019-08-02</td>\n",
       "      <td>A</td>\n",
       "      <td>44</td>\n",
       "      <td>38</td>\n",
       "      <td>242401</td>\n",
       "      <td>1338</td>\n",
       "    </tr>\n",
       "    <tr>\n",
       "      <th>3</th>\n",
       "      <td>2019-08-02</td>\n",
       "      <td>B</td>\n",
       "      <td>45</td>\n",
       "      <td>43</td>\n",
       "      <td>266748</td>\n",
       "      <td>1294</td>\n",
       "    </tr>\n",
       "    <tr>\n",
       "      <th>4</th>\n",
       "      <td>2019-08-03</td>\n",
       "      <td>A</td>\n",
       "      <td>68</td>\n",
       "      <td>62</td>\n",
       "      <td>354874</td>\n",
       "      <td>1845</td>\n",
       "    </tr>\n",
       "  </tbody>\n",
       "</table>\n",
       "</div>"
      ],
      "text/plain": [
       "        date group  orders  buyers  revenue  visitors\n",
       "0 2019-08-01     A      24      20   148579       719\n",
       "1 2019-08-01     B      21      20   101217       713\n",
       "2 2019-08-02     A      44      38   242401      1338\n",
       "3 2019-08-02     B      45      43   266748      1294\n",
       "4 2019-08-03     A      68      62   354874      1845"
      ]
     },
     "execution_count": 14,
     "metadata": {},
     "output_type": "execute_result"
    }
   ],
   "source": [
    "# создаем массив уникальных пар значений дат и групп теста\n",
    "dates_groups = orders[['date','group']].drop_duplicates()\n",
    "\n",
    "# получаем агрегированные кумулятивные данные по дням (о заказах)\n",
    "orders_aggregated = (\n",
    "    dates_groups.apply(lambda x: orders[np.logical_and(orders['date'] <= x['date'], orders['group'] == x['group'])]\n",
    "                       .agg({'date': 'max', 'group': 'max', 'transaction_id': 'nunique', 'visitor_id': 'nunique',\n",
    "                             'revenue': 'sum'}), axis=1).sort_values(by=['date','group'])\n",
    ")\n",
    "# получаем агрегированные кумулятивные данные по дням (о посетителях интернет-магазина)\n",
    "visitors_aggregated = (\n",
    "    dates_groups.apply(lambda x: visitors[np.logical_and(visitors['date'] <= x['date'], visitors['group'] == x['group'])]\n",
    "                       .agg({'date': 'max', 'group': 'max', 'visitors': 'sum'}), axis=1).sort_values(by=['date','group'])\n",
    ")\n",
    "# объединяем кумулятивные данные в одной таблице и присваиваем ее столбцам понятные названия\n",
    "cumulative_df = orders_aggregated.merge(visitors_aggregated, left_on=['date', 'group'], right_on=['date', 'group'])\n",
    "cumulative_df.columns = ['date', 'group', 'orders', 'buyers', 'revenue', 'visitors']\n",
    "\n",
    "#выводим первые 5 строк полученной таблицы\n",
    "cumulative_df.head()"
   ]
  },
  {
   "cell_type": "markdown",
   "metadata": {},
   "source": [
    "###  Анализ по всем представленным данным."
   ]
  },
  {
   "cell_type": "markdown",
   "metadata": {},
   "source": [
    "####  Построим график кумулятивной выручки по дням и группам. "
   ]
  },
  {
   "cell_type": "code",
   "execution_count": 15,
   "metadata": {},
   "outputs": [
    {
     "data": {
      "image/png": "[encoded data removed]",
      "text/plain": [
       "<Figure size 720x432 with 1 Axes>"
      ]
     },
     "metadata": {
      "needs_background": "light"
     },
     "output_type": "display_data"
    }
   ],
   "source": [
    "# таблица с кумулятивным количеством заказов и кумулятивной выручкой по дням в группе А\n",
    "cumulative_revenue_a = cumulative_df.query('group == \"A\"')[['date','revenue', 'orders']]\n",
    "\n",
    "# таблица с кумулятивным количеством заказов и кумулятивной выручкой по дням в группе B\n",
    "cumulative_revenue_b = cumulative_df.query('group == \"B\"')[['date','revenue', 'orders']]\n",
    "\n",
    "# добавляем нужные атрибуты в график\n",
    "plt.figure(figsize=(10, 6))\n",
    "plt.grid()\n",
    "plt.xticks(rotation =-8)\n",
    "plt.xlabel('Дата')\n",
    "plt.ylabel('Выручка')\n",
    "plt.title('Кумулятивная выручка по дням и группам')\n",
    "# Строим график выручки группы А\n",
    "plt.plot(cumulative_revenue_a['date'], cumulative_revenue_a['revenue'], label='A')\n",
    "\n",
    "# Строим график выручки группы B\n",
    "plt.plot(cumulative_revenue_b['date'], cumulative_revenue_b['revenue'], label='B')\n",
    "\n",
    "plt.legend();"
   ]
  },
  {
   "cell_type": "markdown",
   "metadata": {},
   "source": [
    "<div style=\"border:solid green 1px; padding: 10px\">\n",
    "\n",
    "Выручка группы В в первые 5 дней теста практически одинакова с группой А, с 5 августа довольно равномерно увеличивается, а после 17 августа наблюдвется резкий скачек и далее плавное продолжение роста, тогда как выручка группы А имеет относительно плавную линию роста в течении всего месяца.\n",
    "\n",
    "Это может сигнализировать о всплесках числа заказов в группе В, либо о появлении очень дорогих заказов в выборке по этой группе."
   ]
  },
  {
   "cell_type": "markdown",
   "metadata": {},
   "source": [
    "#### Построим график кумулятивного среднего чека по дням и группам.\n",
    "\n",
    "Для этого разделим кумулятивную выручку на кумулятивное число заказов."
   ]
  },
  {
   "cell_type": "code",
   "execution_count": 16,
   "metadata": {
    "scrolled": false
   },
   "outputs": [
    {
     "data": {
      "image/png": "[encoded data removed]",
      "text/plain": [
       "<Figure size 720x432 with 1 Axes>"
      ]
     },
     "metadata": {
      "needs_background": "light"
     },
     "output_type": "display_data"
    }
   ],
   "source": [
    "# добавляем нужные атрибуты в график\n",
    "plt.figure(figsize=(10, 6))\n",
    "plt.grid()\n",
    "plt.title('Кумулятивный средний чек по дням и группам')\n",
    "plt.xticks(rotation =-8)\n",
    "plt.xlabel('Дата')\n",
    "plt.ylabel('Средний чек')\n",
    "# Строим график группы А\n",
    "plt.plot(cumulative_revenue_a['date'], cumulative_revenue_a['revenue']/cumulative_revenue_a['orders'], label='A')\n",
    "\n",
    "# Строим график группы B\n",
    "plt.plot(cumulative_revenue_b['date'], cumulative_revenue_b['revenue']/cumulative_revenue_b['orders'], label='B')\n",
    "plt.legend();"
   ]
  },
  {
   "cell_type": "markdown",
   "metadata": {},
   "source": [
    "<div style=\"border:solid green 1px; padding: 10px\">\n",
    "\n",
    "Средний чек становится равномерным ближе к концу теста и установился для обеих групп. Однако в первой половине теста по двум группа наблюдаются скачки (в районе 6го дня для группы А и в районе 18го дня для группы В).\n",
    "    \n",
    "Возможно, в группы в первой половине теста попали крупные заказы (резкий всплеск на графике). Тогда им нужно больше данных, чтобы прийти к реальному среднему чеку и установиться на его уровне."
   ]
  },
  {
   "cell_type": "markdown",
   "metadata": {},
   "source": [
    " Возможно дело в \"аномальных\" суммах заказов. Посмотрим на график без таких сумм:"
   ]
  },
  {
   "cell_type": "code",
   "execution_count": 17,
   "metadata": {},
   "outputs": [],
   "source": [
    "# убираем из выборки крупные заказы\n",
    "dates_groups_v1 = orders.query('revenue <= 50000')[['date','group']].drop_duplicates()\n",
    "orders_aggregated_v1 = (\n",
    "    dates_groups_v1.apply(lambda x: orders[np.logical_and(np.logical_and(orders['date'] <= x['date'], orders['group']\n",
    "                                                                         == x['group']), orders['revenue'] <= 100000)]\n",
    "                       .agg({'date': 'max', 'group': 'max', 'transaction_id': 'nunique', 'visitor_id': 'nunique',\n",
    "                             'revenue': 'sum'}), axis=1).sort_values(by=['date','group'])\n",
    ")\n",
    "cumulative_df_v1 = orders_aggregated_v1.merge(visitors_aggregated, left_on=['date', 'group'], right_on=['date', 'group'])\n",
    "cumulative_df_v1.columns = ['date', 'group', 'orders', 'buyers', 'revenue', 'visitors']\n",
    "\n",
    "# таблица с кумулятивным количеством заказов и кумулятивной выручкой по дням в группе А\n",
    "cumulative_revenue_a_v1 = cumulative_df_v1.query('group == \"A\"')[['date','revenue', 'orders']]\n",
    "\n",
    "# таблица с кумулятивным количеством заказов и кумулятивной выручкой по дням в группе B\n",
    "cumulative_revenue_b_v1 = cumulative_df_v1.query('group == \"B\"')[['date','revenue', 'orders']]"
   ]
  },
  {
   "cell_type": "code",
   "execution_count": 18,
   "metadata": {},
   "outputs": [
    {
     "data": {
      "image/png": "[encoded data removed]",
      "text/plain": [
       "<Figure size 720x432 with 1 Axes>"
      ]
     },
     "metadata": {
      "needs_background": "light"
     },
     "output_type": "display_data"
    }
   ],
   "source": [
    "# добавляем нужные атрибуты в график\n",
    "plt.figure(figsize=(10, 6))\n",
    "plt.grid()\n",
    "plt.title('Кумулятивный средний чек по дням и группам, без аномалий')\n",
    "plt.xticks(rotation =-8)\n",
    "plt.xlabel('Дата')\n",
    "plt.ylabel('Средний чек')\n",
    "# Строим график группы А\n",
    "plt.plot(\n",
    "    cumulative_revenue_a_v1['date'], cumulative_revenue_a_v1['revenue']/cumulative_revenue_a_v1['orders'],\n",
    "    label='A')\n",
    "\n",
    "# Строим график группы B\n",
    "plt.plot(\n",
    "    cumulative_revenue_b_v1['date'], cumulative_revenue_b_v1['revenue']/cumulative_revenue_b_v1['orders'],\n",
    "    label='B')\n",
    "plt.legend();"
   ]
  },
  {
   "cell_type": "markdown",
   "metadata": {},
   "source": [
    "<div style=\"border:solid green 1px; padding: 10px\">\n",
    "\n",
    "Немного \"укрупнился\" график и более наглядно видно изгибы кривых в начале и конце теста, также пропал резкий скачек в графике в районе 18 августа."
   ]
  },
  {
   "cell_type": "markdown",
   "metadata": {},
   "source": [
    "####  Построим график относительного изменения кумулятивного среднего чека группы B к группе A.\n"
   ]
  },
  {
   "cell_type": "code",
   "execution_count": 19,
   "metadata": {},
   "outputs": [
    {
     "data": {
      "image/png": "[encoded data removed]",
      "text/plain": [
       "<Figure size 720x432 with 1 Axes>"
      ]
     },
     "metadata": {
      "needs_background": "light"
     },
     "output_type": "display_data"
    }
   ],
   "source": [
    "# собираем данные в одном датафрейме\n",
    "merged_cumulative_revenue = (\n",
    "    cumulative_revenue_a.merge(cumulative_revenue_b, left_on='date', right_on='date', how='left', suffixes=['_a', '_b'])\n",
    ")\n",
    "# добавляем нужные атрибуты в график\n",
    "plt.figure(figsize=(10, 6))\n",
    "plt.grid()\n",
    "plt.xticks(rotation =-8)\n",
    "plt.xlabel('Дата')\n",
    "plt.ylabel('Кумулятивный средный чек')\n",
    "plt.title('График отношения средних чеков') \n",
    "\n",
    "# cтроим график отношения средних чеков\n",
    "(\n",
    "    plt.plot(merged_cumulative_revenue['date'], (merged_cumulative_revenue['revenue_b'] / \n",
    "                                                 merged_cumulative_revenue['orders_b']) / \n",
    "             (merged_cumulative_revenue['revenue_a'] / merged_cumulative_revenue['orders_a']) - 1)\n",
    ")\n",
    "plt.axhline(y=0, color='black', linestyle='--');"
   ]
  },
  {
   "cell_type": "markdown",
   "metadata": {},
   "source": [
    "<div style=\"border:solid green 1px; padding: 10px\">\n",
    "\n",
    "В нескольких точках график различия между сегментами «скачет» и довольно сильно. Практически с самого начала теста группа В превосходит группу А по средним чекам, только в одном месте есть \"провал\" - в промежутке между 11 августа и 15 августа.\n",
    " \n",
    "Скорее всего есть выбросы или большие заказы."
   ]
  },
  {
   "cell_type": "markdown",
   "metadata": {},
   "source": [
    "#### Построим график кумулятивной конверсии по дням и группам.\n"
   ]
  },
  {
   "cell_type": "code",
   "execution_count": 20,
   "metadata": {},
   "outputs": [
    {
     "data": {
      "image/png": "[encoded data removed]",
      "text/plain": [
       "<Figure size 720x432 with 1 Axes>"
      ]
     },
     "metadata": {
      "needs_background": "light"
     },
     "output_type": "display_data"
    }
   ],
   "source": [
    "# считаем кумулятивную конверсию\n",
    "cumulative_df['conversion'] = round(cumulative_df['orders']/cumulative_df['visitors'], 4)\n",
    "\n",
    "# отделяем данные по группе A\n",
    "cumulative_df_a = cumulative_df.query('group == \"A\"')\n",
    "\n",
    "# отделяем данные по группе B\n",
    "cumulative_df_b = cumulative_df.query('group == \"B\"')\n",
    "\n",
    "# добавляем нужные атрибуты в график\n",
    "plt.figure(figsize=(10, 6))\n",
    "plt.grid()\n",
    "plt.xticks(rotation =-8)\n",
    "plt.xlabel('Дата')\n",
    "plt.ylabel('Кумулятивная конверсия')\n",
    "plt.title('Кумулятивная конверсия по дням и группам') \n",
    "\n",
    "# строим графики\n",
    "plt.plot(cumulative_df_a['date'], cumulative_df_a['conversion'], label='A')\n",
    "plt.plot(cumulative_df_b['date'], cumulative_df_b['conversion'], label='B')\n",
    "plt.legend();"
   ]
  },
  {
   "cell_type": "markdown",
   "metadata": {},
   "source": [
    "<div style=\"border:solid green 1px; padding: 10px\">\n",
    "\n",
    "График практически зеркален. Группы \"скачат\" и пересекаются в начале, но затем (с 6 августа) конверсия группы В рехко увеличилась и стабильно выше, а конверсия группы А уменьшилась и стабильно ниже."
   ]
  },
  {
   "cell_type": "markdown",
   "metadata": {},
   "source": [
    "#### Построим график относительного изменения кумулятивной конверсии группы B к группе A."
   ]
  },
  {
   "cell_type": "code",
   "execution_count": 21,
   "metadata": {
    "scrolled": false
   },
   "outputs": [
    {
     "data": {
      "image/png": "[encoded data removed]",
      "text/plain": [
       "<Figure size 720x432 with 1 Axes>"
      ]
     },
     "metadata": {
      "needs_background": "light"
     },
     "output_type": "display_data"
    }
   ],
   "source": [
    "# собираем данные в одном датафрейме\n",
    "merged_cumulative_conversions = (\n",
    "    cumulative_df_a[['date','conversion']].merge(cumulative_df_b[['date','conversion']],\n",
    "                                                 left_on='date', right_on='date', how='left', suffixes=['_a', '_b'])\n",
    ")\n",
    "# добавляем нужные атрибуты в график\n",
    "plt.figure(figsize=(10, 6))\n",
    "plt.grid()\n",
    "plt.xticks(rotation =-8)\n",
    "plt.xlabel('Дата')\n",
    "plt.ylabel('Кумулятивная конверсия')\n",
    "plt.title('График относительного изменения кумулятивной конверсии') \n",
    "\n",
    "# строим график\n",
    "plt.plot(merged_cumulative_conversions['date'], merged_cumulative_conversions['conversion_b'] / \n",
    "             merged_cumulative_conversions['conversion_a']-1)\n",
    "\n",
    "plt.axhline(y=0, color='black', linestyle='--')\n",
    "plt.axhline(y=0.1, color='gray', linestyle='--');"
   ]
  },
  {
   "cell_type": "markdown",
   "metadata": {},
   "source": [
    "<div style=\"border:solid green 1px; padding: 10px\">\n",
    "    \n",
    "В начале теста значение по группе B то проигрывало группе A, то выигрывало (есть скачки в плюс на 2 августа, в минус на 3 августа и в сторону увеличения по 6 августа), затем вырвалось вперёд с 6 августа и далее только растет. На протяжении почти всего теста (начиная с 8 августа) конверсия группы B была выше группы А более чем на 10%.\n",
    "\n",
    "В целом отношение конверсии ещё не установилось, и пока делать какие-либо выводы по тесту рано. Сначала проверим данные на аномалии, возможно, это изменит результаты. "
   ]
  },
  {
   "cell_type": "markdown",
   "metadata": {},
   "source": [
    "###  Анализ данных на аномалии и выбросы.\n",
    "\n",
    "Аномалии и выбросы могут искажать результаты A/B-теста, их попадание в выборку способно внести погрешность.\n",
    "\n",
    "Если аномально дорогой заказ попадёт в одну из групп теста, он сразу же исказит результаты и сделает победителем ту группу, где оказался. При этом такие покупки — редкость, исключение, которое проявилось не из-за тестирования гипотезы, а случайно. Такие заказы следует удалять из теста, что мы и сделаем как только выберем границу для определения аномалий.\n",
    "\n",
    "Если делить упорядоченную выборку на 100 частей — получим перцентиль — значение, больше которого определённая доля элементов выборки. Так, 95й перцентиль - это значение больше которого будет 5% выборки, а 99й - это значение больше которого будет всего 1% выборки."
   ]
  },
  {
   "cell_type": "markdown",
   "metadata": {},
   "source": [
    "#### Точечный график количества заказов по пользователям и перцентили количества заказов.\n",
    "\n",
    "Построим  точечный график количества заказов по пользователям и посчитаем 95-й и 99-й перцентили количества заказов на пользователя. Выберем границу для определения аномальных пользователей."
   ]
  },
  {
   "cell_type": "code",
   "execution_count": 22,
   "metadata": {
    "scrolled": false
   },
   "outputs": [
    {
     "data": {
      "text/html": [
       "<div>\n",
       "<style scoped>\n",
       "    .dataframe tbody tr th:only-of-type {\n",
       "        vertical-align: middle;\n",
       "    }\n",
       "\n",
       "    .dataframe tbody tr th {\n",
       "        vertical-align: top;\n",
       "    }\n",
       "\n",
       "    .dataframe thead th {\n",
       "        text-align: right;\n",
       "    }\n",
       "</style>\n",
       "<table border=\"1\" class=\"dataframe\">\n",
       "  <thead>\n",
       "    <tr style=\"text-align: right;\">\n",
       "      <th></th>\n",
       "      <th>visitor_id</th>\n",
       "      <th>orders</th>\n",
       "    </tr>\n",
       "  </thead>\n",
       "  <tbody>\n",
       "    <tr>\n",
       "      <th>1023</th>\n",
       "      <td>4256040402</td>\n",
       "      <td>11</td>\n",
       "    </tr>\n",
       "    <tr>\n",
       "      <th>591</th>\n",
       "      <td>2458001652</td>\n",
       "      <td>11</td>\n",
       "    </tr>\n",
       "    <tr>\n",
       "      <th>569</th>\n",
       "      <td>2378935119</td>\n",
       "      <td>9</td>\n",
       "    </tr>\n",
       "    <tr>\n",
       "      <th>487</th>\n",
       "      <td>2038680547</td>\n",
       "      <td>8</td>\n",
       "    </tr>\n",
       "    <tr>\n",
       "      <th>44</th>\n",
       "      <td>199603092</td>\n",
       "      <td>5</td>\n",
       "    </tr>\n",
       "    <tr>\n",
       "      <th>744</th>\n",
       "      <td>3062433592</td>\n",
       "      <td>5</td>\n",
       "    </tr>\n",
       "    <tr>\n",
       "      <th>55</th>\n",
       "      <td>237748145</td>\n",
       "      <td>5</td>\n",
       "    </tr>\n",
       "    <tr>\n",
       "      <th>917</th>\n",
       "      <td>3803269165</td>\n",
       "      <td>5</td>\n",
       "    </tr>\n",
       "    <tr>\n",
       "      <th>299</th>\n",
       "      <td>1230306981</td>\n",
       "      <td>5</td>\n",
       "    </tr>\n",
       "    <tr>\n",
       "      <th>897</th>\n",
       "      <td>3717692402</td>\n",
       "      <td>5</td>\n",
       "    </tr>\n",
       "  </tbody>\n",
       "</table>\n",
       "</div>"
      ],
      "text/plain": [
       "      visitor_id  orders\n",
       "1023  4256040402      11\n",
       "591   2458001652      11\n",
       "569   2378935119       9\n",
       "487   2038680547       8\n",
       "44     199603092       5\n",
       "744   3062433592       5\n",
       "55     237748145       5\n",
       "917   3803269165       5\n",
       "299   1230306981       5\n",
       "897   3717692402       5"
      ]
     },
     "execution_count": 22,
     "metadata": {},
     "output_type": "execute_result"
    }
   ],
   "source": [
    "# группируем заказы по пользователям\n",
    "orders_by_users = (\n",
    "    orders.groupby('visitor_id', as_index=False)\n",
    "    .agg({'transaction_id': 'nunique'})\n",
    ")\n",
    "\n",
    "orders_by_users.columns = ['visitor_id', 'orders']\n",
    "\n",
    "orders_by_users.sort_values(by='orders', ascending=False).head(10)"
   ]
  },
  {
   "cell_type": "code",
   "execution_count": 23,
   "metadata": {},
   "outputs": [
    {
     "data": {
      "image/png": "[encoded data removed]",
      "text/plain": [
       "<Figure size 432x288 with 1 Axes>"
      ]
     },
     "metadata": {
      "needs_background": "light"
     },
     "output_type": "display_data"
    }
   ],
   "source": [
    "# построим гистограмму\n",
    "plt.grid()\n",
    "plt.xlabel('Заказы')\n",
    "plt.ylabel('Пользователи')\n",
    "plt.title('Гистограмма количества заказов по пользователям') \n",
    "plt.hist(orders_by_users['orders']);"
   ]
  },
  {
   "cell_type": "markdown",
   "metadata": {},
   "source": [
    "<div style=\"border:solid green 1px; padding: 10px\">\n",
    "\n",
    "Большинство пользователей сделали 1 заказ, есть и такие, кто делал от 2х до 5ти заказов.\n",
    "\n",
    "Есть пользователи, которые совершали 8, 9, 11 заказов. Значительно больше, чем обычный пользователь за неделю («обычный» пользователь совершает около двух заказов за короткий срок)."
   ]
  },
  {
   "cell_type": "code",
   "execution_count": 24,
   "metadata": {},
   "outputs": [
    {
     "data": {
      "image/png": "[encoded data removed]",
      "text/plain": [
       "<Figure size 720x504 with 1 Axes>"
      ]
     },
     "metadata": {
      "needs_background": "light"
     },
     "output_type": "display_data"
    }
   ],
   "source": [
    "# построим точечный график\n",
    "x_values = pd.Series(range(0,len(orders_by_users['orders'])))\n",
    "# добавляем нужные атрибуты в график\n",
    "plt.figure(figsize=(10, 7))\n",
    "plt.grid()\n",
    "plt.xlabel('Пользователи')\n",
    "plt.ylabel('Заказы')\n",
    "plt.title('График количества заказов по пользователям') \n",
    "plt.scatter(x_values, orders_by_users['orders']);"
   ]
  },
  {
   "cell_type": "markdown",
   "metadata": {},
   "source": [
    "<div style=\"border:solid green 1px; padding: 10px\">\n",
    "Много пользователей в диапозоне от 1 до 5 заказов. Принято отсеивать от 1% до 5% наблюдений с крайними значениями. Определим сколько занимают наши заказы."
   ]
  },
  {
   "cell_type": "code",
   "execution_count": 25,
   "metadata": {},
   "outputs": [
    {
     "data": {
      "text/plain": [
       "array([2., 4.])"
      ]
     },
     "execution_count": 25,
     "metadata": {},
     "output_type": "execute_result"
    }
   ],
   "source": [
    "np.percentile(orders_by_users['orders'], [95, 99])"
   ]
  },
  {
   "cell_type": "markdown",
   "metadata": {},
   "source": [
    "<div style=\"border:solid green 1px; padding: 10px\">\n",
    "    \n",
    "Не более 5% пользователей оформляли больше чем 2 заказа. И 1% пользователей заказывали не более 4х раз.\n",
    "Логично выбрать 2 заказа на одного пользователя за верхнюю границу числа заказов, и отсеять аномальных пользователей по ней."
   ]
  },
  {
   "cell_type": "markdown",
   "metadata": {},
   "source": [
    "####  Точечный график стоимостей заказов по пользователям и перцентили стоимости заказов.\n",
    "\n",
    "Построим точечный график стоимостей заказов по пользователям и посчитаем 95-й и 99-й перцентили стоимости заказов на пользователя. Выберем границу для определения аномальных пользователей."
   ]
  },
  {
   "cell_type": "code",
   "execution_count": 26,
   "metadata": {
    "scrolled": false
   },
   "outputs": [
    {
     "data": {
      "image/png": "[encoded data removed]",
      "text/plain": [
       "<Figure size 720x504 with 1 Axes>"
      ]
     },
     "metadata": {
      "needs_background": "light"
     },
     "output_type": "display_data"
    }
   ],
   "source": [
    "# построим точечный график\n",
    "x_values = pd.Series(range(0,len(orders['revenue'])))\n",
    "# добавляем нужные атрибуты в график\n",
    "plt.figure(figsize=(10, 7))\n",
    "plt.grid()\n",
    "plt.xlabel('Пользователи')\n",
    "plt.ylabel('Стоимость')\n",
    "plt.title('График стоимости заказов по пользователям') \n",
    "plt.scatter(x_values, orders['revenue']);"
   ]
  },
  {
   "cell_type": "markdown",
   "metadata": {},
   "source": [
    "Есть пара дорогих заказов (202 740.00 и 1 294 500.00). По графику можно выбрать границу аномальных заказов на 100 000.00. Построим график без них: "
   ]
  },
  {
   "cell_type": "code",
   "execution_count": 27,
   "metadata": {},
   "outputs": [
    {
     "data": {
      "image/png": "[encoded data removed]",
      "text/plain": [
       "<Figure size 720x504 with 1 Axes>"
      ]
     },
     "metadata": {
      "needs_background": "light"
     },
     "output_type": "display_data"
    }
   ],
   "source": [
    "# построим точечный график, без \n",
    "x_values = pd.Series(range(0,len(orders.query('revenue < 100000')['revenue'])))\n",
    "# добавляем нужные атрибуты в график\n",
    "plt.figure(figsize=(10, 7))\n",
    "plt.grid()\n",
    "plt.xlabel('Пользователи')\n",
    "plt.ylabel('Стоимость')\n",
    "plt.title('График стоимости заказов по пользователям') \n",
    "plt.scatter(x_values, orders.query('revenue < 100000')['revenue']);"
   ]
  },
  {
   "cell_type": "markdown",
   "metadata": {},
   "source": [
    "<div style=\"border:solid green 1px; padding: 10px\">\n",
    "График стал нагляднее, теперь можно предположить, что граница для аномалий находится где-то между 40 000.00 и 60 000.00. Принято отсеивать от 1% до 5% наблюдений с крайними значениями. Определим сколько занимают наши заказы."
   ]
  },
  {
   "cell_type": "code",
   "execution_count": 28,
   "metadata": {},
   "outputs": [
    {
     "data": {
      "text/plain": [
       "array([28000. , 58233.2])"
      ]
     },
     "execution_count": 28,
     "metadata": {},
     "output_type": "execute_result"
    }
   ],
   "source": [
    "np.percentile(orders['revenue'], [95, 99])"
   ]
  },
  {
   "cell_type": "markdown",
   "metadata": {},
   "source": [
    "<div style=\"border:solid green 1px; padding: 10px\">\n",
    "    \n",
    "Не более 5% заказов дороже 28 000.00 и не более 1% дороже 58 233.20. Выберем сумму в 58 233.20 на одного пользователя за верхнюю границу стоимости заказов, и отсеим аномальных пользователей по ней."
   ]
  },
  {
   "cell_type": "markdown",
   "metadata": {},
   "source": [
    "### Статистическая значимость различий в среднем числе заказов на пользователя и среднем чеке между группами по «сырым» данным.\n",
    "\n",
    "#### Cтатистическая значимость различий в среднем числе заказов\n",
    "\n",
    "Посчитаем статистическую значимость различий в среднем числе заказов на пользователя между группами по «сырым» данным — без удаления аномальных пользователей.\n",
    "\n",
    "Сформулируем гипотезы:\n",
    "* Нулевая гипотеза: различий в среднем количестве заказов между группами нет.\n",
    "* Альтернативная гипотеза: различия в среднем количестве заказов между группами есть.\n",
    "\n",
    "Установим уровень статистической значимости `alpha` на 5%."
   ]
  },
  {
   "cell_type": "code",
   "execution_count": 29,
   "metadata": {},
   "outputs": [],
   "source": [
    "#для пользователей, которые заказывали хотя бы 1 раз, соберем число совершённых заказов\n",
    "orders_by_users_a = (\n",
    "    orders.query('group == \"A\"')\n",
    "    .groupby('visitor_id', as_index=False)\n",
    "    .agg({'transaction_id': pd.Series.nunique})\n",
    ")\n",
    "orders_by_users_a.columns = ['visitor_id', 'orders']\n",
    "\n",
    "orders_by_users_b = (\n",
    "    orders.query('group == \"B\"')\n",
    "    .groupby('visitor_id', as_index=False)\n",
    "    .agg({'transaction_id': pd.Series.nunique})\n",
    ")\n",
    "orders_by_users_b.columns = ['visitor_id', 'orders']"
   ]
  },
  {
   "cell_type": "code",
   "execution_count": 30,
   "metadata": {},
   "outputs": [],
   "source": [
    "#oбъявим переменные, в которых пользователям из разных групп будет соответствовать количество заказов\n",
    "sample_a = (pd.concat([orders_by_users_a['orders'],\n",
    "                      pd.Series(0, index=np.arange(visitors.query('group == \"A\"')['visitors'].sum()\n",
    "                                                   - len(orders_by_users_a['orders'])), name='orders')],axis=0)\n",
    "          )\n",
    "sample_b = (pd.concat([orders_by_users_b['orders'],\n",
    "                      pd.Series(0, index=np.arange(visitors.query('group == \"B\"')['visitors'].sum()\n",
    "                                                   - len(orders_by_users_b['orders'])), name='orders')],axis=0)\n",
    "          )"
   ]
  },
  {
   "cell_type": "code",
   "execution_count": 31,
   "metadata": {},
   "outputs": [
    {
     "name": "stdout",
     "output_type": "stream",
     "text": [
      "p-value:  0.017\n",
      "Oтносительный прирост среднего числа заказов:  0.138\n"
     ]
    }
   ],
   "source": [
    "#посчитаем статистическую значимость\n",
    "print('p-value: ', \"{0:.3f}\".format(st.mannwhitneyu(sample_a, sample_b)[1]))\n",
    "print('Oтносительный прирост среднего числа заказов: ', \"{0:.3f}\".format(sample_b.mean() / sample_a.mean() - 1))"
   ]
  },
  {
   "cell_type": "markdown",
   "metadata": {},
   "source": [
    "<div style=\"border:solid green 1px; padding: 10px\">\n",
    "    \n",
    "p-value = 0.017, что меньше порога статистической значимости в 0.05. Значит, нулевую гипотезу о том, что статистически значимых различий в среднем числе заказов между группами нет, отвергаем.\n",
    "    \n",
    "Oтносительный прирост заказов группы B к группе А равен 13,8%."
   ]
  },
  {
   "cell_type": "markdown",
   "metadata": {},
   "source": [
    "#### Cтатистическая значимость различий в среднем чеке\n",
    "\n",
    "Посчитаем статистическую значимость различий в среднем чеке между группами по «сырым» данным — без удаления аномальных пользователей.\n",
    "\n",
    "Сформулируем гипотезы:\n",
    "\n",
    "* Нулевая гипотеза: различий в среднем чеке между группами нет;\n",
    "* Альтернативная гипотеза: различия в среднем чеке между группами есть."
   ]
  },
  {
   "cell_type": "code",
   "execution_count": 32,
   "metadata": {},
   "outputs": [
    {
     "name": "stdout",
     "output_type": "stream",
     "text": [
      "p-value:  0.729\n",
      "Oтносительные различия в среднем чеке: 0.259\n"
     ]
    }
   ],
   "source": [
    "#посчитаем статистическую значимость\n",
    "print('p-value: ', \n",
    "    '{0:.3f}'.format(st.mannwhitneyu(orders.query('group == \"A\"')['revenue'],\n",
    "                                        orders.query('group == \"B\"')['revenue'])[1])\n",
    ")\n",
    "print('Oтносительные различия в среднем чеке:',\n",
    "    '{0:.3f}'.format(orders.query('group == \"B\"')['revenue'].mean()/orders.query('group == \"A\"')['revenue'].mean()-1)\n",
    ")"
   ]
  },
  {
   "cell_type": "markdown",
   "metadata": {},
   "source": [
    "<div style=\"border:solid green 1px; padding: 10px\">\n",
    "    \n",
    "р-value = 0.729, что значительно больше порога статистической значимости в 0.05. Значит, нулевую гипотезу о том, что статистически значимых различий в среднем чеке между группами нет, не отвергаем. \n",
    "\n",
    "Средний чек группы B значительно выше (почти на 26%) среднего чека группы A, что указывает на возможное наличие выбросов и аномалий в данных."
   ]
  },
  {
   "cell_type": "markdown",
   "metadata": {},
   "source": [
    "###  Статистическая значимость различий в среднем числе заказов на пользователя и среднем чеке между группами по очищенным данным.\n",
    "\n",
    "Посчитаем статистическую значимость различий в среднем числе заказов на пользователя и среднем чеке по очищенным данным. Для этого нужно сделать \"срезы пользователей\", у которых количество заказов больше двух и стоимость превышает 50 000.00. Таких пользователей будем считать аномальными и вынесем в отдельный список."
   ]
  },
  {
   "cell_type": "code",
   "execution_count": 33,
   "metadata": {},
   "outputs": [
    {
     "data": {
      "text/plain": [
       "31"
      ]
     },
     "execution_count": 33,
     "metadata": {},
     "output_type": "execute_result"
    }
   ],
   "source": [
    "#ограничиваем по количеству заказов\n",
    "percentile_95 = np.percentile(orders_by_users['orders'], [95])[0]\n",
    "many_orders = pd.concat([orders_by_users_a.query('orders > @percentile_95')['visitor_id'],\n",
    "        orders_by_users_b.query('orders > 2')['visitor_id']], axis=0)\n",
    "\n",
    "#ограничиваем по стоимости заказов\n",
    "percentile_99 = np.percentile(orders['revenue'], [99])[0]\n",
    "expsv_orders = orders.query('revenue > @percentile_99')['visitor_id']\n",
    "\n",
    "#собираем все id пользователей в список\n",
    "user_ids = (pd.concat([many_orders, expsv_orders], axis=0).drop_duplicates().sort_values())\n",
    "\n",
    "#узнаем сколько пользователей с аномальными данными в списке\n",
    "user_ids.shape[0]"
   ]
  },
  {
   "cell_type": "markdown",
   "metadata": {},
   "source": [
    "#### Cтатистическая значимость различий в среднем числе заказов"
   ]
  },
  {
   "cell_type": "code",
   "execution_count": 34,
   "metadata": {},
   "outputs": [],
   "source": [
    "# подготовка данных\n",
    "#группа А\n",
    "sample_a_clean = pd.concat([orders_by_users_a[np.logical_not(orders_by_users_a['visitor_id'].isin(user_ids))]\n",
    "                            ['orders'], pd.Series(0, index=np.arange(\n",
    "                                visitors.query('group == \"A\"')['visitors'].sum() - len(orders_by_users_a['orders'])),\n",
    "                                                  name='orders')], axis=0)\n",
    "#группа B\n",
    "sample_b_clean = pd.concat([orders_by_users_b[np.logical_not(orders_by_users_b['visitor_id'].isin(user_ids))]\n",
    "                            ['orders'], pd.Series(0, index=np.arange(\n",
    "                                visitors.query('group == \"A\"')['visitors'].sum() - len(orders_by_users_b['orders'])),\n",
    "                                                  name='orders')], axis=0)\n"
   ]
  },
  {
   "cell_type": "code",
   "execution_count": 35,
   "metadata": {},
   "outputs": [
    {
     "name": "stdout",
     "output_type": "stream",
     "text": [
      "p-value:  0.00633\n",
      "Oтносительный прирост среднего числа заказов:  0.186\n"
     ]
    }
   ],
   "source": [
    "#посчитаем статистическую значимость\n",
    "print('p-value: ', \"{0:.5f}\".format(st.mannwhitneyu(sample_a_clean, sample_b_clean)[1]))\n",
    "print('Oтносительный прирост среднего числа заказов: ',\n",
    "      \"{0:.3f}\".format(sample_b_clean.mean() / sample_a_clean.mean() - 1))"
   ]
  },
  {
   "cell_type": "markdown",
   "metadata": {},
   "source": [
    "<div style=\"border:solid green 1px; padding: 10px\">\n",
    "    \n",
    "p-value еще снизился (по сравнению с неочищенными от аномалий данными примерно на 0.011), а относительный прирост заказов группы B к группе А увеличился, по сравнению с \"сырыми\" данными на 4.8%. Т.е. нулевую гипотезу по прежнему отвергаем."
   ]
  },
  {
   "cell_type": "markdown",
   "metadata": {},
   "source": [
    "#### Cтатистическая значимость различий в среднем чеке между группами"
   ]
  },
  {
   "cell_type": "code",
   "execution_count": 36,
   "metadata": {},
   "outputs": [
    {
     "name": "stdout",
     "output_type": "stream",
     "text": [
      "p-value:  0.798\n",
      "Oтносительные различия в среднем чеке: -0.020\n"
     ]
    }
   ],
   "source": [
    "# посчитаем статистическую значимость\n",
    "print('p-value: ', \n",
    "    '{0:.3f}'.format(st.mannwhitneyu(orders[np.logical_and(orders['group'] == 'A',\n",
    "                                                           np.logical_not(orders['visitor_id'].isin(user_ids)))]\n",
    "                                     ['revenue'], orders[np.logical_and(orders['group'] == 'B',\n",
    "                                                np.logical_not(orders['visitor_id'].isin(user_ids)))]['revenue'])[1]))\n",
    "\n",
    "print('Oтносительные различия в среднем чеке:',\n",
    "    \"{0:.3f}\".format(orders[np.logical_and(orders['group'] == 'B', np.logical_not(orders['visitor_id'].isin(user_ids)))]\n",
    "                     ['revenue'].mean() / orders[np.logical_and(orders['group'] == 'A',\n",
    "                                                                np.logical_not(orders['visitor_id'].isin(user_ids)))]\n",
    "                     ['revenue'].mean() - 1)) "
   ]
  },
  {
   "cell_type": "markdown",
   "metadata": {},
   "source": [
    "<div style=\"border:solid green 1px; padding: 10px\">\n",
    "    \n",
    "р-value стал больше относительно \"сырых\" данных на 0,069, а вот средний чек группы B относительно среднего чека группы A снизился и теперь на 2% меньше среднего чека группы А. Но нулевую гипотезу по прежнему не отвергаем."
   ]
  },
  {
   "cell_type": "markdown",
   "metadata": {},
   "source": [
    "###  Решение по результатам теста."
   ]
  },
  {
   "cell_type": "markdown",
   "metadata": {},
   "source": [
    "<div style=\"border:solid green 2px; padding: 20px\">\n",
    "\n",
    "Выводы по А/В-тесту:\n",
    "\n",
    "* есть статистически значимые различия по среднему количеству заказов между группами и по «сырым», и по данным после фильтрации аномалий;\n",
    "* нет статистически значимого различия по среднему чеку между группами ни по «сырым», ни по данным после фильтрации аномалий. Надо отметить, что после фильтрации различие в чеках снизилось с 26% до 1.9%;\n",
    "* график различия конверсии между группами сообщает, что результаты группы B лучше группы A и есть тенденция к дальнейшему увеличению;\n",
    "* график различия среднего чека по группам сильно колеблется на всем протяжении, но в целом говорит о том, что результаты группы B лучше группы А более чем на 25%.\n",
    "\n",
    "Исходя из обнаруженных фактов, тест можно остановить и признать его успешным, потому что при имеющихся данных группа B стабиьно лучше группы A."
   ]
  }
 ],
 "metadata": {
  "ExecuteTimeLog": [
   {
    "duration": 1072,
    "start_time": "2022-08-09T07:48:05.406Z"
   },
   {
    "duration": 92,
    "start_time": "2022-08-09T07:48:47.299Z"
   },
   {
    "duration": 77,
    "start_time": "2022-08-09T07:48:53.586Z"
   },
   {
    "duration": 30,
    "start_time": "2022-08-09T07:49:16.402Z"
   },
   {
    "duration": 3,
    "start_time": "2022-08-09T07:54:06.587Z"
   },
   {
    "duration": 37,
    "start_time": "2022-08-09T07:54:08.424Z"
   },
   {
    "duration": 12,
    "start_time": "2022-08-09T07:55:59.877Z"
   },
   {
    "duration": 286,
    "start_time": "2022-08-09T07:59:23.932Z"
   },
   {
    "duration": 94,
    "start_time": "2022-08-09T07:59:43.667Z"
   },
   {
    "duration": 15,
    "start_time": "2022-08-09T08:00:25.779Z"
   },
   {
    "duration": 10,
    "start_time": "2022-08-09T08:00:39.444Z"
   },
   {
    "duration": 9,
    "start_time": "2022-08-09T08:04:51.517Z"
   },
   {
    "duration": 4,
    "start_time": "2022-08-09T08:18:17.421Z"
   },
   {
    "duration": 82,
    "start_time": "2022-08-09T08:23:59.884Z"
   },
   {
    "duration": 8,
    "start_time": "2022-08-09T08:27:02.573Z"
   },
   {
    "duration": 8,
    "start_time": "2022-08-09T08:27:18.516Z"
   },
   {
    "duration": 71,
    "start_time": "2022-08-09T08:27:25.891Z"
   },
   {
    "duration": 9,
    "start_time": "2022-08-09T08:27:53.570Z"
   },
   {
    "duration": 11,
    "start_time": "2022-08-09T08:27:56.401Z"
   },
   {
    "duration": 10,
    "start_time": "2022-08-09T08:28:12.645Z"
   },
   {
    "duration": 11,
    "start_time": "2022-08-09T08:28:19.798Z"
   },
   {
    "duration": 7,
    "start_time": "2022-08-09T08:29:36.881Z"
   },
   {
    "duration": 7,
    "start_time": "2022-08-09T08:30:11.634Z"
   },
   {
    "duration": 1227,
    "start_time": "2022-08-09T08:30:54.015Z"
   },
   {
    "duration": 4,
    "start_time": "2022-08-09T08:31:01.285Z"
   },
   {
    "duration": 4,
    "start_time": "2022-08-09T08:31:08.638Z"
   },
   {
    "duration": 4,
    "start_time": "2022-08-09T08:31:18.240Z"
   },
   {
    "duration": 5,
    "start_time": "2022-08-09T08:31:42.946Z"
   },
   {
    "duration": 10,
    "start_time": "2022-08-09T08:32:12.486Z"
   },
   {
    "duration": 5,
    "start_time": "2022-08-09T08:32:19.651Z"
   },
   {
    "duration": 5,
    "start_time": "2022-08-09T08:32:40.712Z"
   },
   {
    "duration": 4,
    "start_time": "2022-08-09T08:32:53.482Z"
   },
   {
    "duration": 4,
    "start_time": "2022-08-09T08:33:00.220Z"
   },
   {
    "duration": 5,
    "start_time": "2022-08-09T08:33:12.048Z"
   },
   {
    "duration": 5,
    "start_time": "2022-08-09T08:33:23.975Z"
   },
   {
    "duration": 13,
    "start_time": "2022-08-09T08:51:00.690Z"
   },
   {
    "duration": 10,
    "start_time": "2022-08-09T08:52:11.809Z"
   },
   {
    "duration": 15,
    "start_time": "2022-08-09T08:59:31.771Z"
   },
   {
    "duration": 9,
    "start_time": "2022-08-09T08:59:42.192Z"
   },
   {
    "duration": 10,
    "start_time": "2022-08-09T09:14:33.491Z"
   },
   {
    "duration": 357,
    "start_time": "2022-08-09T09:44:22.431Z"
   },
   {
    "duration": 3,
    "start_time": "2022-08-09T09:44:44.529Z"
   },
   {
    "duration": 360,
    "start_time": "2022-08-09T09:44:49.377Z"
   },
   {
    "duration": 3,
    "start_time": "2022-08-09T09:45:02.764Z"
   },
   {
    "duration": 34,
    "start_time": "2022-08-09T09:45:02.772Z"
   },
   {
    "duration": 9,
    "start_time": "2022-08-09T09:45:02.808Z"
   },
   {
    "duration": 78,
    "start_time": "2022-08-09T09:45:02.818Z"
   },
   {
    "duration": 9,
    "start_time": "2022-08-09T09:45:02.898Z"
   },
   {
    "duration": 20,
    "start_time": "2022-08-09T09:45:02.909Z"
   },
   {
    "duration": 338,
    "start_time": "2022-08-09T09:45:06.646Z"
   },
   {
    "duration": 382,
    "start_time": "2022-08-09T09:45:26.331Z"
   },
   {
    "duration": 11,
    "start_time": "2022-08-09T09:45:39.849Z"
   },
   {
    "duration": 9,
    "start_time": "2022-08-09T09:45:45.086Z"
   },
   {
    "duration": 2,
    "start_time": "2022-08-09T09:45:53.483Z"
   },
   {
    "duration": 35,
    "start_time": "2022-08-09T09:45:53.489Z"
   },
   {
    "duration": 9,
    "start_time": "2022-08-09T09:45:53.525Z"
   },
   {
    "duration": 69,
    "start_time": "2022-08-09T09:45:53.536Z"
   },
   {
    "duration": 9,
    "start_time": "2022-08-09T09:45:53.607Z"
   },
   {
    "duration": 10,
    "start_time": "2022-08-09T09:45:53.617Z"
   },
   {
    "duration": 12,
    "start_time": "2022-08-09T09:45:55.282Z"
   },
   {
    "duration": 10,
    "start_time": "2022-08-09T09:46:01.120Z"
   },
   {
    "duration": 11,
    "start_time": "2022-08-09T09:46:07.152Z"
   },
   {
    "duration": 367,
    "start_time": "2022-08-09T09:46:18.967Z"
   },
   {
    "duration": 0,
    "start_time": "2022-08-09T09:46:19.336Z"
   },
   {
    "duration": 0,
    "start_time": "2022-08-09T09:46:19.337Z"
   },
   {
    "duration": 0,
    "start_time": "2022-08-09T09:46:19.338Z"
   },
   {
    "duration": 11,
    "start_time": "2022-08-09T09:46:27.329Z"
   },
   {
    "duration": 16,
    "start_time": "2022-08-09T09:46:29.538Z"
   },
   {
    "duration": 1044,
    "start_time": "2022-08-09T09:47:01.081Z"
   },
   {
    "duration": 36,
    "start_time": "2022-08-09T09:47:02.127Z"
   },
   {
    "duration": 18,
    "start_time": "2022-08-09T09:47:02.166Z"
   },
   {
    "duration": 99,
    "start_time": "2022-08-09T09:47:02.185Z"
   },
   {
    "duration": 11,
    "start_time": "2022-08-09T09:47:02.286Z"
   },
   {
    "duration": 12,
    "start_time": "2022-08-09T09:47:02.299Z"
   },
   {
    "duration": 17,
    "start_time": "2022-08-09T09:47:02.312Z"
   },
   {
    "duration": 15,
    "start_time": "2022-08-09T09:47:02.330Z"
   },
   {
    "duration": 13,
    "start_time": "2022-08-09T09:47:02.347Z"
   },
   {
    "duration": 27,
    "start_time": "2022-08-09T09:47:02.362Z"
   },
   {
    "duration": 272,
    "start_time": "2022-08-09T09:57:14.420Z"
   },
   {
    "duration": 80,
    "start_time": "2022-08-09T10:02:55.262Z"
   },
   {
    "duration": 242,
    "start_time": "2022-08-09T10:03:03.049Z"
   },
   {
    "duration": 238,
    "start_time": "2022-08-09T10:03:44.807Z"
   },
   {
    "duration": 169,
    "start_time": "2022-08-09T10:03:56.702Z"
   },
   {
    "duration": 137,
    "start_time": "2022-08-09T10:04:11.383Z"
   },
   {
    "duration": 163,
    "start_time": "2022-08-09T10:04:22.172Z"
   },
   {
    "duration": 169,
    "start_time": "2022-08-09T10:05:53.305Z"
   },
   {
    "duration": 197,
    "start_time": "2022-08-09T10:06:06.269Z"
   },
   {
    "duration": 197,
    "start_time": "2022-08-09T10:06:16.671Z"
   },
   {
    "duration": 196,
    "start_time": "2022-08-09T10:06:26.740Z"
   },
   {
    "duration": 21,
    "start_time": "2022-08-09T10:06:44.914Z"
   },
   {
    "duration": 253,
    "start_time": "2022-08-09T10:07:22.554Z"
   },
   {
    "duration": 178,
    "start_time": "2022-08-09T10:07:47.640Z"
   },
   {
    "duration": 202,
    "start_time": "2022-08-09T10:08:00.713Z"
   },
   {
    "duration": 174,
    "start_time": "2022-08-09T10:48:33.371Z"
   },
   {
    "duration": 242,
    "start_time": "2022-08-09T10:59:11.985Z"
   },
   {
    "duration": 304,
    "start_time": "2022-08-09T11:00:16.563Z"
   },
   {
    "duration": 160,
    "start_time": "2022-08-09T11:00:34.004Z"
   },
   {
    "duration": 330,
    "start_time": "2022-08-09T11:00:59.086Z"
   },
   {
    "duration": 291,
    "start_time": "2022-08-09T11:03:43.770Z"
   },
   {
    "duration": 5,
    "start_time": "2022-08-09T11:13:56.385Z"
   },
   {
    "duration": 4,
    "start_time": "2022-08-09T11:14:03.446Z"
   },
   {
    "duration": 8,
    "start_time": "2022-08-09T11:14:11.294Z"
   },
   {
    "duration": 3,
    "start_time": "2022-08-09T11:15:04.584Z"
   },
   {
    "duration": 11,
    "start_time": "2022-08-09T11:15:10.265Z"
   },
   {
    "duration": 122,
    "start_time": "2022-08-09T11:15:22.220Z"
   },
   {
    "duration": 6,
    "start_time": "2022-08-09T11:16:07.489Z"
   },
   {
    "duration": 6,
    "start_time": "2022-08-09T11:16:12.973Z"
   },
   {
    "duration": 222,
    "start_time": "2022-08-09T11:19:55.275Z"
   },
   {
    "duration": 225,
    "start_time": "2022-08-09T11:20:11.354Z"
   },
   {
    "duration": 303,
    "start_time": "2022-08-09T11:20:38.007Z"
   },
   {
    "duration": 217,
    "start_time": "2022-08-09T11:21:44.562Z"
   },
   {
    "duration": 304,
    "start_time": "2022-08-09T11:30:37.157Z"
   },
   {
    "duration": 301,
    "start_time": "2022-08-09T11:31:36.562Z"
   },
   {
    "duration": 14,
    "start_time": "2022-08-09T11:35:12.532Z"
   },
   {
    "duration": 22,
    "start_time": "2022-08-09T11:35:38.451Z"
   },
   {
    "duration": 192,
    "start_time": "2022-08-09T11:36:00.622Z"
   },
   {
    "duration": 179,
    "start_time": "2022-08-09T11:36:15.789Z"
   },
   {
    "duration": 17,
    "start_time": "2022-08-09T11:36:21.568Z"
   },
   {
    "duration": 198,
    "start_time": "2022-08-09T11:36:33.872Z"
   },
   {
    "duration": 17,
    "start_time": "2022-08-09T11:36:39.189Z"
   },
   {
    "duration": 202,
    "start_time": "2022-08-09T11:37:03.924Z"
   },
   {
    "duration": 20,
    "start_time": "2022-08-09T11:37:14.974Z"
   },
   {
    "duration": 193,
    "start_time": "2022-08-09T11:37:43.672Z"
   },
   {
    "duration": 195,
    "start_time": "2022-08-09T11:38:02.980Z"
   },
   {
    "duration": 201,
    "start_time": "2022-08-09T11:38:19.596Z"
   },
   {
    "duration": 190,
    "start_time": "2022-08-09T11:39:17.501Z"
   },
   {
    "duration": 10,
    "start_time": "2022-08-09T11:40:02.899Z"
   },
   {
    "duration": 473,
    "start_time": "2022-08-09T11:40:36.235Z"
   },
   {
    "duration": 5,
    "start_time": "2022-08-09T11:40:42.101Z"
   },
   {
    "duration": 7,
    "start_time": "2022-08-09T11:41:02.351Z"
   },
   {
    "duration": 292,
    "start_time": "2022-08-09T11:41:55.719Z"
   },
   {
    "duration": 394,
    "start_time": "2022-08-09T11:42:25.517Z"
   },
   {
    "duration": 286,
    "start_time": "2022-08-09T11:45:48.030Z"
   },
   {
    "duration": 261,
    "start_time": "2022-08-09T11:46:00.715Z"
   },
   {
    "duration": 266,
    "start_time": "2022-08-09T11:46:22.716Z"
   },
   {
    "duration": 263,
    "start_time": "2022-08-09T11:47:05.574Z"
   },
   {
    "duration": 271,
    "start_time": "2022-08-09T11:47:13.166Z"
   },
   {
    "duration": 283,
    "start_time": "2022-08-09T11:47:29.366Z"
   },
   {
    "duration": 257,
    "start_time": "2022-08-09T11:47:38.279Z"
   },
   {
    "duration": 260,
    "start_time": "2022-08-09T11:47:52.879Z"
   },
   {
    "duration": 1021,
    "start_time": "2022-08-09T12:09:53.847Z"
   },
   {
    "duration": 34,
    "start_time": "2022-08-09T12:09:54.870Z"
   },
   {
    "duration": 10,
    "start_time": "2022-08-09T12:09:54.905Z"
   },
   {
    "duration": 67,
    "start_time": "2022-08-09T12:09:54.916Z"
   },
   {
    "duration": 10,
    "start_time": "2022-08-09T12:09:54.984Z"
   },
   {
    "duration": 19,
    "start_time": "2022-08-09T12:09:54.996Z"
   },
   {
    "duration": 16,
    "start_time": "2022-08-09T12:09:55.017Z"
   },
   {
    "duration": 10,
    "start_time": "2022-08-09T12:09:55.035Z"
   },
   {
    "duration": 16,
    "start_time": "2022-08-09T12:09:55.047Z"
   },
   {
    "duration": 9,
    "start_time": "2022-08-09T12:09:55.066Z"
   },
   {
    "duration": 279,
    "start_time": "2022-08-09T12:09:55.077Z"
   },
   {
    "duration": 251,
    "start_time": "2022-08-09T12:09:55.357Z"
   },
   {
    "duration": 178,
    "start_time": "2022-08-09T12:09:55.609Z"
   },
   {
    "duration": 255,
    "start_time": "2022-08-09T12:09:55.788Z"
   },
   {
    "duration": 192,
    "start_time": "2022-08-09T12:09:56.044Z"
   },
   {
    "duration": 311,
    "start_time": "2022-08-09T12:09:56.237Z"
   },
   {
    "duration": 8,
    "start_time": "2022-08-09T12:11:56.855Z"
   },
   {
    "duration": 335,
    "start_time": "2022-08-09T12:12:22.480Z"
   },
   {
    "duration": 113,
    "start_time": "2022-08-09T12:12:36.384Z"
   },
   {
    "duration": 108,
    "start_time": "2022-08-09T12:13:17.607Z"
   },
   {
    "duration": 210,
    "start_time": "2022-08-09T12:14:37.731Z"
   },
   {
    "duration": 91,
    "start_time": "2022-08-09T12:15:24.681Z"
   },
   {
    "duration": 9,
    "start_time": "2022-08-09T12:15:27.797Z"
   },
   {
    "duration": 5,
    "start_time": "2022-08-09T12:19:07.005Z"
   },
   {
    "duration": 9,
    "start_time": "2022-08-09T12:19:59.146Z"
   },
   {
    "duration": 139,
    "start_time": "2022-08-09T12:21:55.021Z"
   },
   {
    "duration": 152,
    "start_time": "2022-08-09T12:22:17.683Z"
   },
   {
    "duration": 169,
    "start_time": "2022-08-09T12:23:27.749Z"
   },
   {
    "duration": 160,
    "start_time": "2022-08-09T12:26:31.857Z"
   },
   {
    "duration": 151,
    "start_time": "2022-08-09T12:26:43.363Z"
   },
   {
    "duration": 188,
    "start_time": "2022-08-09T12:26:56.670Z"
   },
   {
    "duration": 165,
    "start_time": "2022-08-09T12:28:18.392Z"
   },
   {
    "duration": 12666,
    "start_time": "2022-08-09T12:29:22.225Z"
   },
   {
    "duration": 167,
    "start_time": "2022-08-09T12:30:22.106Z"
   },
   {
    "duration": 4,
    "start_time": "2022-08-09T12:30:38.164Z"
   },
   {
    "duration": 1051,
    "start_time": "2022-08-09T12:33:17.916Z"
   },
   {
    "duration": 36,
    "start_time": "2022-08-09T12:33:18.969Z"
   },
   {
    "duration": 11,
    "start_time": "2022-08-09T12:33:19.007Z"
   },
   {
    "duration": 66,
    "start_time": "2022-08-09T12:33:19.019Z"
   },
   {
    "duration": 8,
    "start_time": "2022-08-09T12:33:19.087Z"
   },
   {
    "duration": 13,
    "start_time": "2022-08-09T12:33:19.097Z"
   },
   {
    "duration": 22,
    "start_time": "2022-08-09T12:33:19.111Z"
   },
   {
    "duration": 9,
    "start_time": "2022-08-09T12:33:19.134Z"
   },
   {
    "duration": 12,
    "start_time": "2022-08-09T12:33:19.144Z"
   },
   {
    "duration": 9,
    "start_time": "2022-08-09T12:33:19.157Z"
   },
   {
    "duration": 264,
    "start_time": "2022-08-09T12:33:19.168Z"
   },
   {
    "duration": 252,
    "start_time": "2022-08-09T12:33:19.434Z"
   },
   {
    "duration": 183,
    "start_time": "2022-08-09T12:33:19.688Z"
   },
   {
    "duration": 269,
    "start_time": "2022-08-09T12:33:19.873Z"
   },
   {
    "duration": 213,
    "start_time": "2022-08-09T12:33:20.144Z"
   },
   {
    "duration": 287,
    "start_time": "2022-08-09T12:33:20.359Z"
   },
   {
    "duration": 165,
    "start_time": "2022-08-09T12:33:28.811Z"
   },
   {
    "duration": 182,
    "start_time": "2022-08-09T12:35:39.458Z"
   },
   {
    "duration": 234,
    "start_time": "2022-08-09T12:36:00.363Z"
   },
   {
    "duration": 165,
    "start_time": "2022-08-09T12:36:16.578Z"
   },
   {
    "duration": 44,
    "start_time": "2022-08-09T12:40:23.282Z"
   },
   {
    "duration": 8,
    "start_time": "2022-08-09T12:40:40.370Z"
   },
   {
    "duration": 981,
    "start_time": "2022-08-09T12:40:53.195Z"
   },
   {
    "duration": 82,
    "start_time": "2022-08-09T12:40:54.177Z"
   },
   {
    "duration": 9,
    "start_time": "2022-08-09T12:40:54.260Z"
   },
   {
    "duration": 140,
    "start_time": "2022-08-09T12:40:54.270Z"
   },
   {
    "duration": 9,
    "start_time": "2022-08-09T12:40:54.412Z"
   },
   {
    "duration": 13,
    "start_time": "2022-08-09T12:40:54.422Z"
   },
   {
    "duration": 14,
    "start_time": "2022-08-09T12:40:54.436Z"
   },
   {
    "duration": 8,
    "start_time": "2022-08-09T12:40:54.451Z"
   },
   {
    "duration": 10,
    "start_time": "2022-08-09T12:40:54.460Z"
   },
   {
    "duration": 10,
    "start_time": "2022-08-09T12:40:54.471Z"
   },
   {
    "duration": 274,
    "start_time": "2022-08-09T12:40:54.482Z"
   },
   {
    "duration": 253,
    "start_time": "2022-08-09T12:40:54.757Z"
   },
   {
    "duration": 183,
    "start_time": "2022-08-09T12:40:55.011Z"
   },
   {
    "duration": 259,
    "start_time": "2022-08-09T12:40:55.196Z"
   },
   {
    "duration": 189,
    "start_time": "2022-08-09T12:40:55.456Z"
   },
   {
    "duration": 293,
    "start_time": "2022-08-09T12:40:55.647Z"
   },
   {
    "duration": 88,
    "start_time": "2022-08-09T12:40:55.942Z"
   },
   {
    "duration": 0,
    "start_time": "2022-08-09T12:40:56.032Z"
   },
   {
    "duration": 175,
    "start_time": "2022-08-09T12:41:07.209Z"
   },
   {
    "duration": 136,
    "start_time": "2022-08-09T12:41:18.358Z"
   },
   {
    "duration": 126,
    "start_time": "2022-08-09T12:41:27.802Z"
   },
   {
    "duration": 146,
    "start_time": "2022-08-09T12:41:35.855Z"
   },
   {
    "duration": 202,
    "start_time": "2022-08-09T12:41:47.130Z"
   },
   {
    "duration": 124,
    "start_time": "2022-08-09T12:41:57.095Z"
   },
   {
    "duration": 5,
    "start_time": "2022-08-09T12:42:08.678Z"
   },
   {
    "duration": 8,
    "start_time": "2022-08-09T12:45:37.772Z"
   },
   {
    "duration": 10,
    "start_time": "2022-08-09T12:45:53.736Z"
   },
   {
    "duration": 10,
    "start_time": "2022-08-09T12:46:08.892Z"
   },
   {
    "duration": 9,
    "start_time": "2022-08-09T12:46:13.566Z"
   },
   {
    "duration": 12,
    "start_time": "2022-08-09T12:49:35.687Z"
   },
   {
    "duration": 11,
    "start_time": "2022-08-09T12:49:41.078Z"
   },
   {
    "duration": 10,
    "start_time": "2022-08-09T12:50:23.110Z"
   },
   {
    "duration": 109,
    "start_time": "2022-08-09T12:51:53.590Z"
   },
   {
    "duration": 91,
    "start_time": "2022-08-09T12:52:30.155Z"
   },
   {
    "duration": 11,
    "start_time": "2022-08-09T12:53:23.737Z"
   },
   {
    "duration": 92,
    "start_time": "2022-08-09T12:53:28.024Z"
   },
   {
    "duration": 11,
    "start_time": "2022-08-09T12:54:32.617Z"
   },
   {
    "duration": 63,
    "start_time": "2022-08-09T12:54:46.246Z"
   },
   {
    "duration": 12,
    "start_time": "2022-08-09T12:54:59.942Z"
   },
   {
    "duration": 117,
    "start_time": "2022-08-09T12:56:12.439Z"
   },
   {
    "duration": 5,
    "start_time": "2022-08-09T12:58:49.494Z"
   },
   {
    "duration": 17,
    "start_time": "2022-08-09T13:01:15.681Z"
   },
   {
    "duration": 126,
    "start_time": "2022-08-09T13:03:43.931Z"
   },
   {
    "duration": 90,
    "start_time": "2022-08-09T13:24:12.973Z"
   },
   {
    "duration": 7,
    "start_time": "2022-08-09T13:25:09.898Z"
   },
   {
    "duration": 7,
    "start_time": "2022-08-09T13:25:36.530Z"
   },
   {
    "duration": 85,
    "start_time": "2022-08-09T13:28:15.128Z"
   },
   {
    "duration": 100,
    "start_time": "2022-08-09T13:33:26.510Z"
   },
   {
    "duration": 35,
    "start_time": "2022-08-09T13:36:07.426Z"
   },
   {
    "duration": 27,
    "start_time": "2022-08-09T13:36:23.538Z"
   },
   {
    "duration": 124,
    "start_time": "2022-08-09T13:42:14.473Z"
   },
   {
    "duration": 121,
    "start_time": "2022-08-09T13:42:26.225Z"
   },
   {
    "duration": 11,
    "start_time": "2022-08-09T13:47:37.149Z"
   },
   {
    "duration": 115,
    "start_time": "2022-08-09T13:47:55.386Z"
   },
   {
    "duration": 6,
    "start_time": "2022-08-09T13:47:57.551Z"
   },
   {
    "duration": 8,
    "start_time": "2022-08-09T13:49:52.167Z"
   },
   {
    "duration": 3,
    "start_time": "2022-08-09T13:50:16.347Z"
   },
   {
    "duration": 20,
    "start_time": "2022-08-09T13:50:24.541Z"
   },
   {
    "duration": 18,
    "start_time": "2022-08-09T13:50:58.220Z"
   },
   {
    "duration": 19,
    "start_time": "2022-08-09T13:52:13.011Z"
   },
   {
    "duration": 21,
    "start_time": "2022-08-09T13:52:19.366Z"
   },
   {
    "duration": 19,
    "start_time": "2022-08-09T13:52:29.603Z"
   },
   {
    "duration": 24,
    "start_time": "2022-08-09T13:52:37.426Z"
   },
   {
    "duration": 19,
    "start_time": "2022-08-09T13:52:42.454Z"
   },
   {
    "duration": 19,
    "start_time": "2022-08-09T13:55:35.432Z"
   },
   {
    "duration": 1396,
    "start_time": "2022-08-10T06:49:23.783Z"
   },
   {
    "duration": 83,
    "start_time": "2022-08-10T06:49:25.183Z"
   },
   {
    "duration": 13,
    "start_time": "2022-08-10T06:49:25.267Z"
   },
   {
    "duration": 174,
    "start_time": "2022-08-10T06:49:25.283Z"
   },
   {
    "duration": 11,
    "start_time": "2022-08-10T06:49:25.459Z"
   },
   {
    "duration": 13,
    "start_time": "2022-08-10T06:49:25.472Z"
   },
   {
    "duration": 16,
    "start_time": "2022-08-10T06:49:25.487Z"
   },
   {
    "duration": 11,
    "start_time": "2022-08-10T06:49:25.505Z"
   },
   {
    "duration": 13,
    "start_time": "2022-08-10T06:49:25.518Z"
   },
   {
    "duration": 13,
    "start_time": "2022-08-10T06:49:25.534Z"
   },
   {
    "duration": 317,
    "start_time": "2022-08-10T06:49:25.549Z"
   },
   {
    "duration": 349,
    "start_time": "2022-08-10T06:49:25.868Z"
   },
   {
    "duration": 226,
    "start_time": "2022-08-10T06:49:26.219Z"
   },
   {
    "duration": 413,
    "start_time": "2022-08-10T06:49:26.447Z"
   },
   {
    "duration": 251,
    "start_time": "2022-08-10T06:49:26.862Z"
   },
   {
    "duration": 313,
    "start_time": "2022-08-10T06:49:27.114Z"
   },
   {
    "duration": 12,
    "start_time": "2022-08-10T06:49:27.429Z"
   },
   {
    "duration": 131,
    "start_time": "2022-08-10T06:49:27.443Z"
   },
   {
    "duration": 157,
    "start_time": "2022-08-10T06:49:27.575Z"
   },
   {
    "duration": 6,
    "start_time": "2022-08-10T06:49:27.733Z"
   },
   {
    "duration": 182,
    "start_time": "2022-08-10T06:49:27.741Z"
   },
   {
    "duration": 5,
    "start_time": "2022-08-10T06:49:27.925Z"
   },
   {
    "duration": 192,
    "start_time": "2022-08-10T06:49:27.932Z"
   },
   {
    "duration": 126,
    "start_time": "2022-08-10T06:49:28.126Z"
   },
   {
    "duration": 40,
    "start_time": "2022-08-10T06:49:28.254Z"
   },
   {
    "duration": 304,
    "start_time": "2022-08-10T06:49:28.296Z"
   },
   {
    "duration": 7,
    "start_time": "2022-08-10T06:49:28.603Z"
   },
   {
    "duration": 83,
    "start_time": "2022-08-10T06:49:28.613Z"
   },
   {
    "duration": 107,
    "start_time": "2022-08-10T06:53:22.951Z"
   },
   {
    "duration": 18,
    "start_time": "2022-08-10T06:54:30.120Z"
   },
   {
    "duration": 24,
    "start_time": "2022-08-10T07:17:43.988Z"
   },
   {
    "duration": 14,
    "start_time": "2022-08-10T07:18:03.106Z"
   },
   {
    "duration": 22,
    "start_time": "2022-08-10T07:52:15.989Z"
   },
   {
    "duration": 13,
    "start_time": "2022-08-10T07:52:41.010Z"
   },
   {
    "duration": 13,
    "start_time": "2022-08-10T07:54:08.862Z"
   },
   {
    "duration": 10,
    "start_time": "2022-08-10T08:00:24.669Z"
   },
   {
    "duration": 43,
    "start_time": "2022-08-10T08:01:57.709Z"
   },
   {
    "duration": 42,
    "start_time": "2022-08-10T08:02:07.894Z"
   },
   {
    "duration": 19,
    "start_time": "2022-08-10T08:10:44.478Z"
   },
   {
    "duration": 14,
    "start_time": "2022-08-10T08:14:16.928Z"
   },
   {
    "duration": 1287,
    "start_time": "2022-08-10T08:43:16.854Z"
   },
   {
    "duration": 40,
    "start_time": "2022-08-10T08:43:18.143Z"
   },
   {
    "duration": 23,
    "start_time": "2022-08-10T08:43:18.185Z"
   },
   {
    "duration": 103,
    "start_time": "2022-08-10T08:43:18.211Z"
   },
   {
    "duration": 12,
    "start_time": "2022-08-10T08:43:18.316Z"
   },
   {
    "duration": 20,
    "start_time": "2022-08-10T08:43:18.331Z"
   },
   {
    "duration": 28,
    "start_time": "2022-08-10T08:43:18.353Z"
   },
   {
    "duration": 31,
    "start_time": "2022-08-10T08:43:18.383Z"
   },
   {
    "duration": 28,
    "start_time": "2022-08-10T08:43:18.426Z"
   },
   {
    "duration": 13,
    "start_time": "2022-08-10T08:43:18.456Z"
   },
   {
    "duration": 554,
    "start_time": "2022-08-10T08:43:18.471Z"
   },
   {
    "duration": 379,
    "start_time": "2022-08-10T08:43:19.028Z"
   },
   {
    "duration": 273,
    "start_time": "2022-08-10T08:43:19.409Z"
   },
   {
    "duration": 357,
    "start_time": "2022-08-10T08:43:19.693Z"
   },
   {
    "duration": 300,
    "start_time": "2022-08-10T08:43:20.053Z"
   },
   {
    "duration": 405,
    "start_time": "2022-08-10T08:43:20.355Z"
   },
   {
    "duration": 13,
    "start_time": "2022-08-10T08:43:20.762Z"
   },
   {
    "duration": 151,
    "start_time": "2022-08-10T08:43:20.777Z"
   },
   {
    "duration": 185,
    "start_time": "2022-08-10T08:43:20.932Z"
   },
   {
    "duration": 5,
    "start_time": "2022-08-10T08:43:21.119Z"
   },
   {
    "duration": 199,
    "start_time": "2022-08-10T08:43:21.126Z"
   },
   {
    "duration": 7,
    "start_time": "2022-08-10T08:43:21.331Z"
   },
   {
    "duration": 119,
    "start_time": "2022-08-10T08:43:21.340Z"
   },
   {
    "duration": 155,
    "start_time": "2022-08-10T08:43:21.461Z"
   },
   {
    "duration": 32,
    "start_time": "2022-08-10T08:43:21.618Z"
   },
   {
    "duration": 206,
    "start_time": "2022-08-10T08:43:21.652Z"
   },
   {
    "duration": 9,
    "start_time": "2022-08-10T08:43:21.861Z"
   },
   {
    "duration": 61,
    "start_time": "2022-08-10T08:43:21.875Z"
   },
   {
    "duration": 40,
    "start_time": "2022-08-10T08:43:21.942Z"
   },
   {
    "duration": 52,
    "start_time": "2022-08-10T08:43:21.984Z"
   },
   {
    "duration": 44,
    "start_time": "2022-08-10T08:43:22.038Z"
   },
   {
    "duration": 81,
    "start_time": "2022-08-10T08:43:22.084Z"
   },
   {
    "duration": 20,
    "start_time": "2022-08-10T08:43:22.167Z"
   },
   {
    "duration": 1115,
    "start_time": "2022-08-10T10:34:16.879Z"
   },
   {
    "duration": 70,
    "start_time": "2022-08-10T10:34:17.996Z"
   },
   {
    "duration": 11,
    "start_time": "2022-08-10T10:34:18.068Z"
   },
   {
    "duration": 152,
    "start_time": "2022-08-10T10:34:18.081Z"
   },
   {
    "duration": 10,
    "start_time": "2022-08-10T10:34:18.235Z"
   },
   {
    "duration": 12,
    "start_time": "2022-08-10T10:34:18.246Z"
   },
   {
    "duration": 33,
    "start_time": "2022-08-10T10:34:18.260Z"
   },
   {
    "duration": 37,
    "start_time": "2022-08-10T10:34:18.294Z"
   },
   {
    "duration": 17,
    "start_time": "2022-08-10T10:34:18.333Z"
   },
   {
    "duration": 13,
    "start_time": "2022-08-10T10:34:18.353Z"
   },
   {
    "duration": 295,
    "start_time": "2022-08-10T10:34:18.367Z"
   },
   {
    "duration": 293,
    "start_time": "2022-08-10T10:34:18.664Z"
   },
   {
    "duration": 211,
    "start_time": "2022-08-10T10:34:18.959Z"
   },
   {
    "duration": 309,
    "start_time": "2022-08-10T10:34:19.172Z"
   },
   {
    "duration": 236,
    "start_time": "2022-08-10T10:34:19.482Z"
   },
   {
    "duration": 340,
    "start_time": "2022-08-10T10:34:19.720Z"
   },
   {
    "duration": 12,
    "start_time": "2022-08-10T10:34:20.061Z"
   },
   {
    "duration": 124,
    "start_time": "2022-08-10T10:34:20.075Z"
   },
   {
    "duration": 144,
    "start_time": "2022-08-10T10:34:20.201Z"
   },
   {
    "duration": 11,
    "start_time": "2022-08-10T10:34:20.347Z"
   },
   {
    "duration": 154,
    "start_time": "2022-08-10T10:34:20.360Z"
   },
   {
    "duration": 6,
    "start_time": "2022-08-10T10:34:20.516Z"
   },
   {
    "duration": 102,
    "start_time": "2022-08-10T10:34:20.523Z"
   },
   {
    "duration": 121,
    "start_time": "2022-08-10T10:34:20.627Z"
   },
   {
    "duration": 30,
    "start_time": "2022-08-10T10:34:20.750Z"
   },
   {
    "duration": 154,
    "start_time": "2022-08-10T10:34:20.782Z"
   },
   {
    "duration": 19,
    "start_time": "2022-08-10T10:34:20.938Z"
   },
   {
    "duration": 20,
    "start_time": "2022-08-10T10:34:20.960Z"
   },
   {
    "duration": 13,
    "start_time": "2022-08-10T10:34:20.982Z"
   },
   {
    "duration": 16,
    "start_time": "2022-08-10T10:34:20.997Z"
   },
   {
    "duration": 7,
    "start_time": "2022-08-10T10:34:21.015Z"
   },
   {
    "duration": 39,
    "start_time": "2022-08-10T10:34:21.023Z"
   },
   {
    "duration": 15,
    "start_time": "2022-08-10T10:34:21.063Z"
   },
   {
    "duration": 81,
    "start_time": "2022-08-10T11:41:07.838Z"
   },
   {
    "duration": 44,
    "start_time": "2022-08-10T11:43:05.706Z"
   },
   {
    "duration": 1341,
    "start_time": "2022-08-10T11:43:16.491Z"
   },
   {
    "duration": 72,
    "start_time": "2022-08-10T11:43:17.834Z"
   },
   {
    "duration": 10,
    "start_time": "2022-08-10T11:43:17.907Z"
   },
   {
    "duration": 146,
    "start_time": "2022-08-10T11:43:17.920Z"
   },
   {
    "duration": 10,
    "start_time": "2022-08-10T11:43:18.068Z"
   },
   {
    "duration": 15,
    "start_time": "2022-08-10T11:43:18.079Z"
   },
   {
    "duration": 17,
    "start_time": "2022-08-10T11:43:18.095Z"
   },
   {
    "duration": 10,
    "start_time": "2022-08-10T11:43:18.113Z"
   },
   {
    "duration": 13,
    "start_time": "2022-08-10T11:43:18.125Z"
   },
   {
    "duration": 10,
    "start_time": "2022-08-10T11:43:18.140Z"
   },
   {
    "duration": 8,
    "start_time": "2022-08-10T11:43:18.151Z"
   },
   {
    "duration": 287,
    "start_time": "2022-08-10T11:43:18.161Z"
   },
   {
    "duration": 280,
    "start_time": "2022-08-10T11:43:18.449Z"
   },
   {
    "duration": 193,
    "start_time": "2022-08-10T11:43:18.731Z"
   },
   {
    "duration": 357,
    "start_time": "2022-08-10T11:43:18.926Z"
   },
   {
    "duration": 206,
    "start_time": "2022-08-10T11:43:19.284Z"
   },
   {
    "duration": 332,
    "start_time": "2022-08-10T11:43:19.492Z"
   },
   {
    "duration": 11,
    "start_time": "2022-08-10T11:43:19.826Z"
   },
   {
    "duration": 121,
    "start_time": "2022-08-10T11:43:19.839Z"
   },
   {
    "duration": 140,
    "start_time": "2022-08-10T11:43:19.962Z"
   },
   {
    "duration": 5,
    "start_time": "2022-08-10T11:43:20.110Z"
   },
   {
    "duration": 169,
    "start_time": "2022-08-10T11:43:20.117Z"
   },
   {
    "duration": 5,
    "start_time": "2022-08-10T11:43:20.288Z"
   },
   {
    "duration": 102,
    "start_time": "2022-08-10T11:43:20.309Z"
   },
   {
    "duration": 123,
    "start_time": "2022-08-10T11:43:20.413Z"
   },
   {
    "duration": 42,
    "start_time": "2022-08-10T11:43:20.538Z"
   },
   {
    "duration": 160,
    "start_time": "2022-08-10T11:43:20.582Z"
   },
   {
    "duration": 6,
    "start_time": "2022-08-10T11:43:20.745Z"
   },
   {
    "duration": 41,
    "start_time": "2022-08-10T11:43:20.752Z"
   },
   {
    "duration": 23,
    "start_time": "2022-08-10T11:43:20.795Z"
   },
   {
    "duration": 29,
    "start_time": "2022-08-10T11:43:20.819Z"
   },
   {
    "duration": 33,
    "start_time": "2022-08-10T11:43:20.849Z"
   },
   {
    "duration": 33,
    "start_time": "2022-08-10T11:43:20.884Z"
   },
   {
    "duration": 13,
    "start_time": "2022-08-10T11:43:20.918Z"
   },
   {
    "duration": 5,
    "start_time": "2022-08-10T11:43:49.709Z"
   },
   {
    "duration": 3,
    "start_time": "2022-08-10T11:43:57.068Z"
   },
   {
    "duration": 4,
    "start_time": "2022-08-10T11:44:35.214Z"
   },
   {
    "duration": 6,
    "start_time": "2022-08-10T11:44:49.736Z"
   },
   {
    "duration": 46,
    "start_time": "2022-08-10T11:44:53.474Z"
   },
   {
    "duration": 6,
    "start_time": "2022-08-10T11:44:56.325Z"
   },
   {
    "duration": 5,
    "start_time": "2022-08-10T11:45:04.721Z"
   },
   {
    "duration": 6,
    "start_time": "2022-08-10T11:46:01.399Z"
   },
   {
    "duration": 3,
    "start_time": "2022-08-10T11:46:19.477Z"
   },
   {
    "duration": 3,
    "start_time": "2022-08-10T11:46:32.938Z"
   },
   {
    "duration": 5,
    "start_time": "2022-08-10T11:46:56.880Z"
   },
   {
    "duration": 5,
    "start_time": "2022-08-10T11:47:15.044Z"
   },
   {
    "duration": 6,
    "start_time": "2022-08-10T11:47:20.077Z"
   },
   {
    "duration": 3,
    "start_time": "2022-08-10T11:47:25.337Z"
   },
   {
    "duration": 7,
    "start_time": "2022-08-10T11:47:27.348Z"
   },
   {
    "duration": 5,
    "start_time": "2022-08-10T11:47:39.905Z"
   },
   {
    "duration": 6,
    "start_time": "2022-08-10T11:49:00.008Z"
   },
   {
    "duration": 10,
    "start_time": "2022-08-10T11:49:16.917Z"
   },
   {
    "duration": 64,
    "start_time": "2022-08-10T11:52:39.483Z"
   },
   {
    "duration": 19,
    "start_time": "2022-08-10T11:53:17.369Z"
   },
   {
    "duration": 8,
    "start_time": "2022-08-10T11:53:46.028Z"
   },
   {
    "duration": 870,
    "start_time": "2022-08-10T11:54:22.709Z"
   },
   {
    "duration": 875,
    "start_time": "2022-08-10T11:56:35.172Z"
   },
   {
    "duration": 1314,
    "start_time": "2022-08-10T11:56:56.388Z"
   },
   {
    "duration": 94,
    "start_time": "2022-08-10T11:57:11.668Z"
   },
   {
    "duration": 8,
    "start_time": "2022-08-10T11:57:31.760Z"
   },
   {
    "duration": 1179,
    "start_time": "2022-08-10T11:57:49.664Z"
   },
   {
    "duration": 8,
    "start_time": "2022-08-10T11:58:15.583Z"
   },
   {
    "duration": 66,
    "start_time": "2022-08-10T11:58:57.868Z"
   },
   {
    "duration": 8,
    "start_time": "2022-08-10T11:59:14.751Z"
   },
   {
    "duration": 9,
    "start_time": "2022-08-10T11:59:18.195Z"
   },
   {
    "duration": 250,
    "start_time": "2022-08-10T12:00:34.779Z"
   },
   {
    "duration": 50,
    "start_time": "2022-08-10T12:02:05.071Z"
   },
   {
    "duration": 3,
    "start_time": "2022-08-10T12:03:49.233Z"
   },
   {
    "duration": 60,
    "start_time": "2022-08-10T12:03:49.238Z"
   },
   {
    "duration": 9,
    "start_time": "2022-08-10T12:03:49.299Z"
   },
   {
    "duration": 72,
    "start_time": "2022-08-10T12:03:49.309Z"
   },
   {
    "duration": 9,
    "start_time": "2022-08-10T12:03:49.383Z"
   },
   {
    "duration": 26,
    "start_time": "2022-08-10T12:03:49.393Z"
   },
   {
    "duration": 37,
    "start_time": "2022-08-10T12:03:49.421Z"
   },
   {
    "duration": 42,
    "start_time": "2022-08-10T12:03:49.460Z"
   },
   {
    "duration": 49,
    "start_time": "2022-08-10T12:03:49.503Z"
   },
   {
    "duration": 33,
    "start_time": "2022-08-10T12:03:49.554Z"
   },
   {
    "duration": 47,
    "start_time": "2022-08-10T12:03:49.590Z"
   },
   {
    "duration": 28,
    "start_time": "2022-08-10T12:03:49.638Z"
   },
   {
    "duration": 29,
    "start_time": "2022-08-10T12:03:49.667Z"
   },
   {
    "duration": 39,
    "start_time": "2022-08-10T12:03:49.698Z"
   },
   {
    "duration": 308,
    "start_time": "2022-08-10T12:03:49.740Z"
   },
   {
    "duration": 204,
    "start_time": "2022-08-10T12:03:50.049Z"
   },
   {
    "duration": 63,
    "start_time": "2022-08-10T12:03:50.254Z"
   },
   {
    "duration": 0,
    "start_time": "2022-08-10T12:03:50.319Z"
   },
   {
    "duration": 0,
    "start_time": "2022-08-10T12:03:50.320Z"
   },
   {
    "duration": 0,
    "start_time": "2022-08-10T12:03:50.321Z"
   },
   {
    "duration": 0,
    "start_time": "2022-08-10T12:03:50.322Z"
   },
   {
    "duration": 0,
    "start_time": "2022-08-10T12:03:50.323Z"
   },
   {
    "duration": 0,
    "start_time": "2022-08-10T12:03:50.324Z"
   },
   {
    "duration": 0,
    "start_time": "2022-08-10T12:03:50.325Z"
   },
   {
    "duration": 0,
    "start_time": "2022-08-10T12:03:50.326Z"
   },
   {
    "duration": 0,
    "start_time": "2022-08-10T12:03:50.327Z"
   },
   {
    "duration": 0,
    "start_time": "2022-08-10T12:03:50.328Z"
   },
   {
    "duration": 0,
    "start_time": "2022-08-10T12:03:50.329Z"
   },
   {
    "duration": 0,
    "start_time": "2022-08-10T12:03:50.330Z"
   },
   {
    "duration": 0,
    "start_time": "2022-08-10T12:03:50.331Z"
   },
   {
    "duration": 0,
    "start_time": "2022-08-10T12:03:50.332Z"
   },
   {
    "duration": 0,
    "start_time": "2022-08-10T12:03:50.333Z"
   },
   {
    "duration": 0,
    "start_time": "2022-08-10T12:03:50.333Z"
   },
   {
    "duration": 0,
    "start_time": "2022-08-10T12:03:50.334Z"
   },
   {
    "duration": 0,
    "start_time": "2022-08-10T12:03:50.335Z"
   },
   {
    "duration": 0,
    "start_time": "2022-08-10T12:03:50.337Z"
   },
   {
    "duration": 0,
    "start_time": "2022-08-10T12:03:50.337Z"
   },
   {
    "duration": 0,
    "start_time": "2022-08-10T12:03:50.339Z"
   },
   {
    "duration": 180,
    "start_time": "2022-08-10T12:06:18.751Z"
   },
   {
    "duration": 169,
    "start_time": "2022-08-10T12:06:24.932Z"
   },
   {
    "duration": 198,
    "start_time": "2022-08-10T12:06:32.016Z"
   },
   {
    "duration": 195,
    "start_time": "2022-08-10T12:06:42.267Z"
   },
   {
    "duration": 188,
    "start_time": "2022-08-10T12:06:46.160Z"
   },
   {
    "duration": 206,
    "start_time": "2022-08-10T12:09:18.852Z"
   },
   {
    "duration": 200,
    "start_time": "2022-08-10T12:09:42.429Z"
   },
   {
    "duration": 188,
    "start_time": "2022-08-10T12:12:29.735Z"
   },
   {
    "duration": 212,
    "start_time": "2022-08-10T12:12:36.199Z"
   },
   {
    "duration": 201,
    "start_time": "2022-08-10T12:12:40.790Z"
   },
   {
    "duration": 297,
    "start_time": "2022-08-10T12:12:50.374Z"
   },
   {
    "duration": 177,
    "start_time": "2022-08-10T12:13:38.550Z"
   },
   {
    "duration": 196,
    "start_time": "2022-08-10T12:13:46.101Z"
   },
   {
    "duration": 192,
    "start_time": "2022-08-10T12:14:15.244Z"
   },
   {
    "duration": 4,
    "start_time": "2022-08-10T12:14:22.094Z"
   },
   {
    "duration": 34,
    "start_time": "2022-08-10T12:14:22.105Z"
   },
   {
    "duration": 9,
    "start_time": "2022-08-10T12:14:22.141Z"
   },
   {
    "duration": 66,
    "start_time": "2022-08-10T12:14:22.152Z"
   },
   {
    "duration": 10,
    "start_time": "2022-08-10T12:14:22.220Z"
   },
   {
    "duration": 19,
    "start_time": "2022-08-10T12:14:22.231Z"
   },
   {
    "duration": 31,
    "start_time": "2022-08-10T12:14:22.252Z"
   },
   {
    "duration": 14,
    "start_time": "2022-08-10T12:14:22.284Z"
   },
   {
    "duration": 16,
    "start_time": "2022-08-10T12:14:22.299Z"
   },
   {
    "duration": 13,
    "start_time": "2022-08-10T12:14:22.317Z"
   },
   {
    "duration": 6,
    "start_time": "2022-08-10T12:14:22.333Z"
   },
   {
    "duration": 11,
    "start_time": "2022-08-10T12:14:22.341Z"
   },
   {
    "duration": 14,
    "start_time": "2022-08-10T12:14:22.353Z"
   },
   {
    "duration": 10,
    "start_time": "2022-08-10T12:14:22.369Z"
   },
   {
    "duration": 288,
    "start_time": "2022-08-10T12:14:22.381Z"
   },
   {
    "duration": 207,
    "start_time": "2022-08-10T12:14:22.670Z"
   },
   {
    "duration": 224,
    "start_time": "2022-08-10T12:14:25.972Z"
   },
   {
    "duration": 302,
    "start_time": "2022-08-10T12:14:26.198Z"
   },
   {
    "duration": 221,
    "start_time": "2022-08-10T12:14:26.502Z"
   },
   {
    "duration": 290,
    "start_time": "2022-08-10T12:14:26.725Z"
   },
   {
    "duration": 12,
    "start_time": "2022-08-10T12:14:27.016Z"
   },
   {
    "duration": 114,
    "start_time": "2022-08-10T12:14:27.029Z"
   },
   {
    "duration": 150,
    "start_time": "2022-08-10T12:14:27.145Z"
   },
   {
    "duration": 16,
    "start_time": "2022-08-10T12:14:27.297Z"
   },
   {
    "duration": 179,
    "start_time": "2022-08-10T12:14:27.315Z"
   },
   {
    "duration": 5,
    "start_time": "2022-08-10T12:14:27.496Z"
   },
   {
    "duration": 172,
    "start_time": "2022-08-10T12:14:27.509Z"
   },
   {
    "duration": 118,
    "start_time": "2022-08-10T12:14:27.683Z"
   },
   {
    "duration": 30,
    "start_time": "2022-08-10T12:14:27.802Z"
   },
   {
    "duration": 139,
    "start_time": "2022-08-10T12:14:27.834Z"
   },
   {
    "duration": 6,
    "start_time": "2022-08-10T12:14:27.974Z"
   },
   {
    "duration": 37,
    "start_time": "2022-08-10T12:14:27.981Z"
   },
   {
    "duration": 14,
    "start_time": "2022-08-10T12:14:28.019Z"
   },
   {
    "duration": 11,
    "start_time": "2022-08-10T12:14:28.035Z"
   },
   {
    "duration": 7,
    "start_time": "2022-08-10T12:14:28.048Z"
   },
   {
    "duration": 27,
    "start_time": "2022-08-10T12:14:28.056Z"
   },
   {
    "duration": 33,
    "start_time": "2022-08-10T12:14:28.085Z"
   },
   {
    "duration": 56,
    "start_time": "2022-08-10T12:14:39.299Z"
   },
   {
    "duration": 191,
    "start_time": "2022-08-10T12:14:42.066Z"
   },
   {
    "duration": 104,
    "start_time": "2022-08-10T12:17:01.518Z"
   },
   {
    "duration": 10,
    "start_time": "2022-08-10T12:17:30.727Z"
   },
   {
    "duration": 92,
    "start_time": "2022-08-10T12:17:48.784Z"
   },
   {
    "duration": 5,
    "start_time": "2022-08-10T12:18:09.819Z"
   },
   {
    "duration": 134,
    "start_time": "2022-08-10T12:20:37.012Z"
   },
   {
    "duration": 13,
    "start_time": "2022-08-10T12:20:55.417Z"
   },
   {
    "duration": 161,
    "start_time": "2022-08-10T12:21:02.534Z"
   },
   {
    "duration": 16,
    "start_time": "2022-08-10T12:21:21.633Z"
   },
   {
    "duration": 10,
    "start_time": "2022-08-10T12:22:51.647Z"
   },
   {
    "duration": 13,
    "start_time": "2022-08-10T12:23:15.653Z"
   },
   {
    "duration": 682,
    "start_time": "2022-08-10T12:24:50.622Z"
   },
   {
    "duration": 646,
    "start_time": "2022-08-10T12:25:27.631Z"
   },
   {
    "duration": 257,
    "start_time": "2022-08-10T12:28:24.985Z"
   },
   {
    "duration": 166,
    "start_time": "2022-08-10T12:29:04.092Z"
   },
   {
    "duration": 160,
    "start_time": "2022-08-10T12:29:28.220Z"
   },
   {
    "duration": 161,
    "start_time": "2022-08-10T12:29:38.201Z"
   },
   {
    "duration": 157,
    "start_time": "2022-08-10T12:29:45.683Z"
   },
   {
    "duration": 59,
    "start_time": "2022-08-10T12:34:07.495Z"
   },
   {
    "duration": 1049,
    "start_time": "2022-08-10T12:34:18.684Z"
   },
   {
    "duration": 36,
    "start_time": "2022-08-10T12:34:19.734Z"
   },
   {
    "duration": 10,
    "start_time": "2022-08-10T12:34:19.771Z"
   },
   {
    "duration": 63,
    "start_time": "2022-08-10T12:34:19.783Z"
   },
   {
    "duration": 10,
    "start_time": "2022-08-10T12:34:19.847Z"
   },
   {
    "duration": 11,
    "start_time": "2022-08-10T12:34:19.858Z"
   },
   {
    "duration": 14,
    "start_time": "2022-08-10T12:34:19.871Z"
   },
   {
    "duration": 12,
    "start_time": "2022-08-10T12:34:19.886Z"
   },
   {
    "duration": 11,
    "start_time": "2022-08-10T12:34:19.899Z"
   },
   {
    "duration": 10,
    "start_time": "2022-08-10T12:34:19.912Z"
   },
   {
    "duration": 6,
    "start_time": "2022-08-10T12:34:19.923Z"
   },
   {
    "duration": 16,
    "start_time": "2022-08-10T12:34:19.930Z"
   },
   {
    "duration": 16,
    "start_time": "2022-08-10T12:34:19.948Z"
   },
   {
    "duration": 11,
    "start_time": "2022-08-10T12:34:19.966Z"
   },
   {
    "duration": 46,
    "start_time": "2022-08-10T12:34:44.805Z"
   },
   {
    "duration": 8,
    "start_time": "2022-08-10T12:34:57.707Z"
   },
   {
    "duration": 994,
    "start_time": "2022-08-10T12:35:07.841Z"
   },
   {
    "duration": 35,
    "start_time": "2022-08-10T12:35:11.313Z"
   },
   {
    "duration": 11,
    "start_time": "2022-08-10T12:35:15.071Z"
   },
   {
    "duration": 75,
    "start_time": "2022-08-10T12:35:17.363Z"
   },
   {
    "duration": 10,
    "start_time": "2022-08-10T12:35:20.313Z"
   },
   {
    "duration": 12,
    "start_time": "2022-08-10T12:35:23.262Z"
   },
   {
    "duration": 14,
    "start_time": "2022-08-10T12:35:25.060Z"
   },
   {
    "duration": 9,
    "start_time": "2022-08-10T12:35:28.123Z"
   },
   {
    "duration": 13,
    "start_time": "2022-08-10T12:35:31.151Z"
   },
   {
    "duration": 11,
    "start_time": "2022-08-10T12:35:34.634Z"
   },
   {
    "duration": 4,
    "start_time": "2022-08-10T12:35:39.948Z"
   },
   {
    "duration": 5,
    "start_time": "2022-08-10T12:35:41.263Z"
   },
   {
    "duration": 9,
    "start_time": "2022-08-10T12:35:42.583Z"
   },
   {
    "duration": 10,
    "start_time": "2022-08-10T12:35:43.900Z"
   },
   {
    "duration": 45,
    "start_time": "2022-08-10T12:36:09.068Z"
   },
   {
    "duration": 1009,
    "start_time": "2022-08-10T12:36:17.639Z"
   },
   {
    "duration": 39,
    "start_time": "2022-08-10T12:36:18.650Z"
   },
   {
    "duration": 11,
    "start_time": "2022-08-10T12:36:18.691Z"
   },
   {
    "duration": 70,
    "start_time": "2022-08-10T12:36:18.704Z"
   },
   {
    "duration": 10,
    "start_time": "2022-08-10T12:36:18.776Z"
   },
   {
    "duration": 13,
    "start_time": "2022-08-10T12:36:18.787Z"
   },
   {
    "duration": 17,
    "start_time": "2022-08-10T12:36:18.802Z"
   },
   {
    "duration": 17,
    "start_time": "2022-08-10T12:36:18.820Z"
   },
   {
    "duration": 13,
    "start_time": "2022-08-10T12:36:18.839Z"
   },
   {
    "duration": 10,
    "start_time": "2022-08-10T12:36:18.854Z"
   },
   {
    "duration": 6,
    "start_time": "2022-08-10T12:36:18.866Z"
   },
   {
    "duration": 6,
    "start_time": "2022-08-10T12:36:18.874Z"
   },
   {
    "duration": 29,
    "start_time": "2022-08-10T12:36:18.882Z"
   },
   {
    "duration": 9,
    "start_time": "2022-08-10T12:36:18.913Z"
   },
   {
    "duration": 262,
    "start_time": "2022-08-10T12:36:20.686Z"
   },
   {
    "duration": 8,
    "start_time": "2022-08-10T12:37:38.122Z"
   },
   {
    "duration": 71,
    "start_time": "2022-08-10T12:37:48.885Z"
   },
   {
    "duration": 1031,
    "start_time": "2022-08-10T12:38:43.712Z"
   },
   {
    "duration": 35,
    "start_time": "2022-08-10T12:38:44.745Z"
   },
   {
    "duration": 10,
    "start_time": "2022-08-10T12:38:44.781Z"
   },
   {
    "duration": 66,
    "start_time": "2022-08-10T12:38:44.793Z"
   },
   {
    "duration": 11,
    "start_time": "2022-08-10T12:38:44.861Z"
   },
   {
    "duration": 12,
    "start_time": "2022-08-10T12:38:44.874Z"
   },
   {
    "duration": 20,
    "start_time": "2022-08-10T12:38:44.888Z"
   },
   {
    "duration": 10,
    "start_time": "2022-08-10T12:38:44.910Z"
   },
   {
    "duration": 15,
    "start_time": "2022-08-10T12:38:44.922Z"
   },
   {
    "duration": 8,
    "start_time": "2022-08-10T12:38:44.939Z"
   },
   {
    "duration": 6,
    "start_time": "2022-08-10T12:38:44.949Z"
   },
   {
    "duration": 7,
    "start_time": "2022-08-10T12:38:44.957Z"
   },
   {
    "duration": 17,
    "start_time": "2022-08-10T12:38:44.966Z"
   },
   {
    "duration": 25,
    "start_time": "2022-08-10T12:38:44.984Z"
   },
   {
    "duration": 8,
    "start_time": "2022-08-10T12:38:48.138Z"
   },
   {
    "duration": 1475,
    "start_time": "2022-08-10T12:38:50.581Z"
   },
   {
    "duration": 8,
    "start_time": "2022-08-10T12:38:59.097Z"
   },
   {
    "duration": 54,
    "start_time": "2022-08-10T12:52:44.977Z"
   },
   {
    "duration": 6,
    "start_time": "2022-08-10T12:52:51.591Z"
   },
   {
    "duration": 1065,
    "start_time": "2022-08-10T12:52:57.076Z"
   },
   {
    "duration": 35,
    "start_time": "2022-08-10T12:52:58.143Z"
   },
   {
    "duration": 10,
    "start_time": "2022-08-10T12:52:58.179Z"
   },
   {
    "duration": 85,
    "start_time": "2022-08-10T12:52:58.191Z"
   },
   {
    "duration": 10,
    "start_time": "2022-08-10T12:52:58.278Z"
   },
   {
    "duration": 23,
    "start_time": "2022-08-10T12:52:58.289Z"
   },
   {
    "duration": 32,
    "start_time": "2022-08-10T12:52:58.313Z"
   },
   {
    "duration": 12,
    "start_time": "2022-08-10T12:52:58.346Z"
   },
   {
    "duration": 17,
    "start_time": "2022-08-10T12:52:58.359Z"
   },
   {
    "duration": 11,
    "start_time": "2022-08-10T12:52:58.378Z"
   },
   {
    "duration": 29,
    "start_time": "2022-08-10T12:52:58.390Z"
   },
   {
    "duration": 38,
    "start_time": "2022-08-10T12:52:58.420Z"
   },
   {
    "duration": 12,
    "start_time": "2022-08-10T12:52:58.459Z"
   },
   {
    "duration": 22,
    "start_time": "2022-08-10T12:52:58.472Z"
   },
   {
    "duration": 29,
    "start_time": "2022-08-10T12:52:58.496Z"
   },
   {
    "duration": 8,
    "start_time": "2022-08-10T12:53:01.752Z"
   },
   {
    "duration": 67,
    "start_time": "2022-08-10T12:53:03.858Z"
   },
   {
    "duration": 344,
    "start_time": "2022-08-10T12:53:17.423Z"
   },
   {
    "duration": 2886,
    "start_time": "2022-08-10T12:53:31.008Z"
   },
   {
    "duration": 97,
    "start_time": "2022-08-10T12:54:01.682Z"
   },
   {
    "duration": 62,
    "start_time": "2022-08-10T12:54:25.351Z"
   },
   {
    "duration": 5,
    "start_time": "2022-08-10T12:54:30.466Z"
   },
   {
    "duration": 4,
    "start_time": "2022-08-10T12:54:40.547Z"
   },
   {
    "duration": 11,
    "start_time": "2022-08-10T12:54:47.860Z"
   },
   {
    "duration": 3096,
    "start_time": "2022-08-10T12:56:59.666Z"
   },
   {
    "duration": 273,
    "start_time": "2022-08-10T12:57:20.488Z"
   },
   {
    "duration": 101,
    "start_time": "2022-08-10T12:57:38.351Z"
   },
   {
    "duration": 13,
    "start_time": "2022-08-10T12:57:52.742Z"
   },
   {
    "duration": 1626,
    "start_time": "2022-08-10T12:58:15.992Z"
   },
   {
    "duration": 3203,
    "start_time": "2022-08-10T12:58:24.316Z"
   },
   {
    "duration": 14,
    "start_time": "2022-08-10T12:58:27.872Z"
   },
   {
    "duration": 103,
    "start_time": "2022-08-10T12:58:32.525Z"
   },
   {
    "duration": 2925,
    "start_time": "2022-08-10T12:59:10.886Z"
   },
   {
    "duration": 99,
    "start_time": "2022-08-10T12:59:17.087Z"
   },
   {
    "duration": 182,
    "start_time": "2022-08-10T12:59:39.986Z"
   },
   {
    "duration": 12,
    "start_time": "2022-08-10T12:59:43.662Z"
   },
   {
    "duration": 6,
    "start_time": "2022-08-10T12:59:52.150Z"
   },
   {
    "duration": 4,
    "start_time": "2022-08-10T13:00:06.582Z"
   },
   {
    "duration": 4,
    "start_time": "2022-08-10T13:00:12.730Z"
   },
   {
    "duration": 212,
    "start_time": "2022-08-10T13:00:18.107Z"
   },
   {
    "duration": 1043,
    "start_time": "2022-08-10T13:01:41.498Z"
   },
   {
    "duration": 36,
    "start_time": "2022-08-10T13:01:42.542Z"
   },
   {
    "duration": 11,
    "start_time": "2022-08-10T13:01:42.579Z"
   },
   {
    "duration": 74,
    "start_time": "2022-08-10T13:01:42.592Z"
   },
   {
    "duration": 10,
    "start_time": "2022-08-10T13:01:42.668Z"
   },
   {
    "duration": 25,
    "start_time": "2022-08-10T13:01:42.680Z"
   },
   {
    "duration": 19,
    "start_time": "2022-08-10T13:01:42.706Z"
   },
   {
    "duration": 12,
    "start_time": "2022-08-10T13:01:42.726Z"
   },
   {
    "duration": 12,
    "start_time": "2022-08-10T13:01:42.739Z"
   },
   {
    "duration": 10,
    "start_time": "2022-08-10T13:01:42.753Z"
   },
   {
    "duration": 10,
    "start_time": "2022-08-10T13:01:42.764Z"
   },
   {
    "duration": 10,
    "start_time": "2022-08-10T13:01:42.776Z"
   },
   {
    "duration": 27,
    "start_time": "2022-08-10T13:01:42.787Z"
   },
   {
    "duration": 10,
    "start_time": "2022-08-10T13:01:42.815Z"
   },
   {
    "duration": 7,
    "start_time": "2022-08-10T13:01:42.826Z"
   },
   {
    "duration": 287,
    "start_time": "2022-08-10T13:01:42.834Z"
   },
   {
    "duration": 275,
    "start_time": "2022-08-10T13:01:43.122Z"
   },
   {
    "duration": 212,
    "start_time": "2022-08-10T13:01:43.399Z"
   },
   {
    "duration": 196,
    "start_time": "2022-08-10T13:01:43.613Z"
   },
   {
    "duration": 198,
    "start_time": "2022-08-10T13:01:43.811Z"
   },
   {
    "duration": 285,
    "start_time": "2022-08-10T13:01:44.010Z"
   },
   {
    "duration": 219,
    "start_time": "2022-08-10T13:01:44.296Z"
   },
   {
    "duration": 292,
    "start_time": "2022-08-10T13:01:44.517Z"
   },
   {
    "duration": 13,
    "start_time": "2022-08-10T13:01:44.810Z"
   },
   {
    "duration": 117,
    "start_time": "2022-08-10T13:01:44.825Z"
   },
   {
    "duration": 136,
    "start_time": "2022-08-10T13:01:44.944Z"
   },
   {
    "duration": 4,
    "start_time": "2022-08-10T13:01:45.082Z"
   },
   {
    "duration": 224,
    "start_time": "2022-08-10T13:01:45.089Z"
   },
   {
    "duration": 4,
    "start_time": "2022-08-10T13:01:45.315Z"
   },
   {
    "duration": 91,
    "start_time": "2022-08-10T13:01:45.320Z"
   },
   {
    "duration": 108,
    "start_time": "2022-08-10T13:01:45.412Z"
   },
   {
    "duration": 25,
    "start_time": "2022-08-10T13:01:45.522Z"
   },
   {
    "duration": 141,
    "start_time": "2022-08-10T13:01:45.548Z"
   },
   {
    "duration": 6,
    "start_time": "2022-08-10T13:01:45.691Z"
   },
   {
    "duration": 32,
    "start_time": "2022-08-10T13:01:45.698Z"
   },
   {
    "duration": 13,
    "start_time": "2022-08-10T13:01:45.731Z"
   },
   {
    "duration": 10,
    "start_time": "2022-08-10T13:01:45.746Z"
   },
   {
    "duration": 7,
    "start_time": "2022-08-10T13:01:45.758Z"
   },
   {
    "duration": 27,
    "start_time": "2022-08-10T13:01:45.767Z"
   },
   {
    "duration": 16,
    "start_time": "2022-08-10T13:01:45.796Z"
   },
   {
    "duration": 6,
    "start_time": "2022-08-10T13:02:54.262Z"
   },
   {
    "duration": 5,
    "start_time": "2022-08-10T13:03:10.614Z"
   },
   {
    "duration": 190,
    "start_time": "2022-08-10T13:03:58.339Z"
   },
   {
    "duration": 66,
    "start_time": "2022-08-10T13:15:17.973Z"
   },
   {
    "duration": 104,
    "start_time": "2022-08-10T13:15:46.790Z"
   },
   {
    "duration": 17,
    "start_time": "2022-08-10T13:16:39.439Z"
   },
   {
    "duration": 27,
    "start_time": "2022-08-10T13:16:52.476Z"
   },
   {
    "duration": 28,
    "start_time": "2022-08-10T13:17:51.137Z"
   },
   {
    "duration": 4,
    "start_time": "2022-08-10T13:18:34.718Z"
   },
   {
    "duration": 3,
    "start_time": "2022-08-10T13:18:41.407Z"
   },
   {
    "duration": 4,
    "start_time": "2022-08-10T13:19:02.818Z"
   },
   {
    "duration": 79,
    "start_time": "2022-08-10T13:20:51.399Z"
   },
   {
    "duration": 4,
    "start_time": "2022-08-10T13:20:54.405Z"
   },
   {
    "duration": 9,
    "start_time": "2022-08-10T13:21:11.948Z"
   },
   {
    "duration": 3,
    "start_time": "2022-08-10T13:21:28.272Z"
   },
   {
    "duration": 31,
    "start_time": "2022-08-10T13:21:28.283Z"
   },
   {
    "duration": 9,
    "start_time": "2022-08-10T13:21:28.316Z"
   },
   {
    "duration": 65,
    "start_time": "2022-08-10T13:21:28.327Z"
   },
   {
    "duration": 9,
    "start_time": "2022-08-10T13:21:28.393Z"
   },
   {
    "duration": 11,
    "start_time": "2022-08-10T13:21:28.404Z"
   },
   {
    "duration": 22,
    "start_time": "2022-08-10T13:21:28.417Z"
   },
   {
    "duration": 11,
    "start_time": "2022-08-10T13:21:28.441Z"
   },
   {
    "duration": 14,
    "start_time": "2022-08-10T13:21:28.453Z"
   },
   {
    "duration": 12,
    "start_time": "2022-08-10T13:21:28.470Z"
   },
   {
    "duration": 10,
    "start_time": "2022-08-10T13:21:28.483Z"
   },
   {
    "duration": 14,
    "start_time": "2022-08-10T13:21:28.495Z"
   },
   {
    "duration": 9,
    "start_time": "2022-08-10T13:21:28.510Z"
   },
   {
    "duration": 53,
    "start_time": "2022-08-10T13:21:28.520Z"
   },
   {
    "duration": 0,
    "start_time": "2022-08-10T13:21:28.575Z"
   },
   {
    "duration": 0,
    "start_time": "2022-08-10T13:21:28.576Z"
   },
   {
    "duration": 0,
    "start_time": "2022-08-10T13:21:28.577Z"
   },
   {
    "duration": 0,
    "start_time": "2022-08-10T13:21:28.578Z"
   },
   {
    "duration": 0,
    "start_time": "2022-08-10T13:21:28.579Z"
   },
   {
    "duration": 0,
    "start_time": "2022-08-10T13:21:28.580Z"
   },
   {
    "duration": 0,
    "start_time": "2022-08-10T13:21:28.581Z"
   },
   {
    "duration": 0,
    "start_time": "2022-08-10T13:21:28.582Z"
   },
   {
    "duration": 0,
    "start_time": "2022-08-10T13:21:28.583Z"
   },
   {
    "duration": 280,
    "start_time": "2022-08-10T13:21:28.869Z"
   },
   {
    "duration": 218,
    "start_time": "2022-08-10T13:21:29.151Z"
   },
   {
    "duration": 314,
    "start_time": "2022-08-10T13:21:29.371Z"
   },
   {
    "duration": 21,
    "start_time": "2022-08-10T13:21:29.688Z"
   },
   {
    "duration": 113,
    "start_time": "2022-08-10T13:21:29.711Z"
   },
   {
    "duration": 134,
    "start_time": "2022-08-10T13:21:29.825Z"
   },
   {
    "duration": 6,
    "start_time": "2022-08-10T13:21:29.960Z"
   },
   {
    "duration": 175,
    "start_time": "2022-08-10T13:21:29.968Z"
   },
   {
    "duration": 5,
    "start_time": "2022-08-10T13:21:30.145Z"
   },
   {
    "duration": 98,
    "start_time": "2022-08-10T13:21:30.152Z"
   },
   {
    "duration": 117,
    "start_time": "2022-08-10T13:21:30.252Z"
   },
   {
    "duration": 26,
    "start_time": "2022-08-10T13:21:30.370Z"
   },
   {
    "duration": 139,
    "start_time": "2022-08-10T13:21:30.409Z"
   },
   {
    "duration": 6,
    "start_time": "2022-08-10T13:21:30.550Z"
   },
   {
    "duration": 45,
    "start_time": "2022-08-10T13:21:30.558Z"
   },
   {
    "duration": 13,
    "start_time": "2022-08-10T13:21:30.604Z"
   },
   {
    "duration": 67,
    "start_time": "2022-08-10T13:21:30.619Z"
   },
   {
    "duration": 23,
    "start_time": "2022-08-10T13:21:30.688Z"
   },
   {
    "duration": 60,
    "start_time": "2022-08-10T13:21:30.713Z"
   },
   {
    "duration": 38,
    "start_time": "2022-08-10T13:21:30.775Z"
   },
   {
    "duration": 23,
    "start_time": "2022-08-10T13:22:01.006Z"
   },
   {
    "duration": 10,
    "start_time": "2022-08-10T13:22:04.073Z"
   },
   {
    "duration": 8,
    "start_time": "2022-08-10T13:23:46.559Z"
   },
   {
    "duration": 4,
    "start_time": "2022-08-10T13:24:00.194Z"
   },
   {
    "duration": 4,
    "start_time": "2022-08-10T13:24:21.521Z"
   },
   {
    "duration": 4,
    "start_time": "2022-08-10T13:24:35.976Z"
   },
   {
    "duration": 4,
    "start_time": "2022-08-10T13:25:20.047Z"
   },
   {
    "duration": 4,
    "start_time": "2022-08-10T13:25:30.762Z"
   },
   {
    "duration": 3,
    "start_time": "2022-08-10T13:25:43.568Z"
   },
   {
    "duration": 4,
    "start_time": "2022-08-10T13:25:49.169Z"
   },
   {
    "duration": 4,
    "start_time": "2022-08-10T13:26:13.305Z"
   },
   {
    "duration": 6,
    "start_time": "2022-08-10T13:27:34.480Z"
   },
   {
    "duration": 6,
    "start_time": "2022-08-10T13:28:22.120Z"
   },
   {
    "duration": 6,
    "start_time": "2022-08-10T13:28:43.327Z"
   },
   {
    "duration": 8,
    "start_time": "2022-08-10T13:28:49.695Z"
   },
   {
    "duration": 8,
    "start_time": "2022-08-10T13:29:53.893Z"
   },
   {
    "duration": 1101,
    "start_time": "2022-08-10T13:30:57.250Z"
   },
   {
    "duration": 35,
    "start_time": "2022-08-10T13:30:58.352Z"
   },
   {
    "duration": 10,
    "start_time": "2022-08-10T13:30:58.389Z"
   },
   {
    "duration": 81,
    "start_time": "2022-08-10T13:30:58.401Z"
   },
   {
    "duration": 9,
    "start_time": "2022-08-10T13:30:58.483Z"
   },
   {
    "duration": 18,
    "start_time": "2022-08-10T13:30:58.494Z"
   },
   {
    "duration": 17,
    "start_time": "2022-08-10T13:30:58.513Z"
   },
   {
    "duration": 12,
    "start_time": "2022-08-10T13:30:58.532Z"
   },
   {
    "duration": 14,
    "start_time": "2022-08-10T13:30:58.545Z"
   },
   {
    "duration": 10,
    "start_time": "2022-08-10T13:30:58.562Z"
   },
   {
    "duration": 13,
    "start_time": "2022-08-10T13:30:58.574Z"
   },
   {
    "duration": 9,
    "start_time": "2022-08-10T13:30:58.589Z"
   },
   {
    "duration": 8,
    "start_time": "2022-08-10T13:30:58.609Z"
   },
   {
    "duration": 9,
    "start_time": "2022-08-10T13:30:58.618Z"
   },
   {
    "duration": 276,
    "start_time": "2022-08-10T13:30:58.628Z"
   },
   {
    "duration": 271,
    "start_time": "2022-08-10T13:30:58.909Z"
   },
   {
    "duration": 199,
    "start_time": "2022-08-10T13:30:59.181Z"
   },
   {
    "duration": 196,
    "start_time": "2022-08-10T13:30:59.382Z"
   },
   {
    "duration": 208,
    "start_time": "2022-08-10T13:30:59.579Z"
   },
   {
    "duration": 340,
    "start_time": "2022-08-10T13:30:59.788Z"
   },
   {
    "duration": 215,
    "start_time": "2022-08-10T13:31:00.130Z"
   },
   {
    "duration": 284,
    "start_time": "2022-08-10T13:31:00.346Z"
   },
   {
    "duration": 11,
    "start_time": "2022-08-10T13:31:00.632Z"
   },
   {
    "duration": 130,
    "start_time": "2022-08-10T13:31:00.645Z"
   },
   {
    "duration": 125,
    "start_time": "2022-08-10T13:31:00.776Z"
   },
   {
    "duration": 5,
    "start_time": "2022-08-10T13:31:00.908Z"
   },
   {
    "duration": 253,
    "start_time": "2022-08-10T13:31:00.914Z"
   },
   {
    "duration": 5,
    "start_time": "2022-08-10T13:31:01.172Z"
   },
   {
    "duration": 123,
    "start_time": "2022-08-10T13:31:01.179Z"
   },
   {
    "duration": 120,
    "start_time": "2022-08-10T13:31:01.304Z"
   },
   {
    "duration": 41,
    "start_time": "2022-08-10T13:31:01.426Z"
   },
   {
    "duration": 128,
    "start_time": "2022-08-10T13:31:01.469Z"
   },
   {
    "duration": 6,
    "start_time": "2022-08-10T13:31:01.599Z"
   },
   {
    "duration": 47,
    "start_time": "2022-08-10T13:31:01.609Z"
   },
   {
    "duration": 14,
    "start_time": "2022-08-10T13:31:01.658Z"
   },
   {
    "duration": 38,
    "start_time": "2022-08-10T13:31:01.674Z"
   },
   {
    "duration": 13,
    "start_time": "2022-08-10T13:31:01.714Z"
   },
   {
    "duration": 26,
    "start_time": "2022-08-10T13:31:01.728Z"
   },
   {
    "duration": 13,
    "start_time": "2022-08-10T13:31:01.756Z"
   },
   {
    "duration": 269,
    "start_time": "2022-08-10T13:33:21.359Z"
   },
   {
    "duration": 233,
    "start_time": "2022-08-10T13:34:10.349Z"
   },
   {
    "duration": 313,
    "start_time": "2022-08-10T13:35:39.582Z"
   },
   {
    "duration": 307,
    "start_time": "2022-08-10T13:36:12.308Z"
   },
   {
    "duration": 95,
    "start_time": "2022-08-10T13:38:59.182Z"
   },
   {
    "duration": 99,
    "start_time": "2022-08-10T13:40:07.883Z"
   },
   {
    "duration": 104,
    "start_time": "2022-08-10T13:41:02.030Z"
   },
   {
    "duration": 126,
    "start_time": "2022-08-10T13:42:07.653Z"
   },
   {
    "duration": 132,
    "start_time": "2022-08-10T13:42:52.889Z"
   },
   {
    "duration": 132,
    "start_time": "2022-08-10T13:42:56.897Z"
   },
   {
    "duration": 152,
    "start_time": "2022-08-10T13:43:27.672Z"
   },
   {
    "duration": 240,
    "start_time": "2022-08-10T13:43:45.659Z"
   },
   {
    "duration": 153,
    "start_time": "2022-08-10T13:43:57.699Z"
   },
   {
    "duration": 148,
    "start_time": "2022-08-10T13:46:45.496Z"
   },
   {
    "duration": 200,
    "start_time": "2022-08-10T13:52:39.597Z"
   },
   {
    "duration": 188,
    "start_time": "2022-08-10T13:52:42.024Z"
   },
   {
    "duration": 7,
    "start_time": "2022-08-10T13:57:12.341Z"
   },
   {
    "duration": 4,
    "start_time": "2022-08-10T13:57:21.569Z"
   },
   {
    "duration": 8,
    "start_time": "2022-08-10T13:58:03.754Z"
   },
   {
    "duration": 5,
    "start_time": "2022-08-10T13:58:19.118Z"
   },
   {
    "duration": 132,
    "start_time": "2022-08-10T13:58:37.171Z"
   },
   {
    "duration": 8,
    "start_time": "2022-08-10T13:59:39.915Z"
   },
   {
    "duration": 4,
    "start_time": "2022-08-10T14:01:56.686Z"
   },
   {
    "duration": 6,
    "start_time": "2022-08-10T14:01:58.510Z"
   },
   {
    "duration": 3,
    "start_time": "2022-08-10T14:02:52.592Z"
   },
   {
    "duration": 106,
    "start_time": "2022-08-10T14:02:55.732Z"
   },
   {
    "duration": 16,
    "start_time": "2022-08-10T14:03:10.592Z"
   },
   {
    "duration": 4,
    "start_time": "2022-08-10T14:04:19.641Z"
   },
   {
    "duration": 4,
    "start_time": "2022-08-10T14:04:33.447Z"
   },
   {
    "duration": 4,
    "start_time": "2022-08-10T14:05:34.256Z"
   },
   {
    "duration": 5,
    "start_time": "2022-08-10T14:05:36.864Z"
   },
   {
    "duration": 2,
    "start_time": "2022-08-10T14:09:08.565Z"
   },
   {
    "duration": 2,
    "start_time": "2022-08-10T14:09:21.529Z"
   },
   {
    "duration": 153,
    "start_time": "2022-08-10T14:09:40.119Z"
   },
   {
    "duration": 13,
    "start_time": "2022-08-10T14:09:44.584Z"
   },
   {
    "duration": 10,
    "start_time": "2022-08-10T14:09:56.953Z"
   },
   {
    "duration": 22,
    "start_time": "2022-08-10T14:09:59.744Z"
   },
   {
    "duration": 1001,
    "start_time": "2022-08-10T14:10:09.057Z"
   },
   {
    "duration": 36,
    "start_time": "2022-08-10T14:10:10.060Z"
   },
   {
    "duration": 10,
    "start_time": "2022-08-10T14:10:10.098Z"
   },
   {
    "duration": 71,
    "start_time": "2022-08-10T14:10:10.110Z"
   },
   {
    "duration": 11,
    "start_time": "2022-08-10T14:10:10.183Z"
   },
   {
    "duration": 12,
    "start_time": "2022-08-10T14:10:10.195Z"
   },
   {
    "duration": 18,
    "start_time": "2022-08-10T14:10:10.209Z"
   },
   {
    "duration": 14,
    "start_time": "2022-08-10T14:10:10.229Z"
   },
   {
    "duration": 13,
    "start_time": "2022-08-10T14:10:10.244Z"
   },
   {
    "duration": 11,
    "start_time": "2022-08-10T14:10:10.258Z"
   },
   {
    "duration": 6,
    "start_time": "2022-08-10T14:10:10.271Z"
   },
   {
    "duration": 8,
    "start_time": "2022-08-10T14:10:10.279Z"
   },
   {
    "duration": 12,
    "start_time": "2022-08-10T14:10:10.309Z"
   },
   {
    "duration": 9,
    "start_time": "2022-08-10T14:10:10.323Z"
   },
   {
    "duration": 283,
    "start_time": "2022-08-10T14:10:10.333Z"
   },
   {
    "duration": 282,
    "start_time": "2022-08-10T14:10:10.618Z"
   },
   {
    "duration": 193,
    "start_time": "2022-08-10T14:10:10.902Z"
   },
   {
    "duration": 212,
    "start_time": "2022-08-10T14:10:11.097Z"
   },
   {
    "duration": 199,
    "start_time": "2022-08-10T14:10:11.310Z"
   },
   {
    "duration": 323,
    "start_time": "2022-08-10T14:10:11.510Z"
   },
   {
    "duration": 218,
    "start_time": "2022-08-10T14:10:11.835Z"
   },
   {
    "duration": 281,
    "start_time": "2022-08-10T14:10:12.055Z"
   },
   {
    "duration": 11,
    "start_time": "2022-08-10T14:10:12.338Z"
   },
   {
    "duration": 130,
    "start_time": "2022-08-10T14:10:12.350Z"
   },
   {
    "duration": 139,
    "start_time": "2022-08-10T14:10:12.482Z"
   },
   {
    "duration": 5,
    "start_time": "2022-08-10T14:10:12.622Z"
   },
   {
    "duration": 231,
    "start_time": "2022-08-10T14:10:12.628Z"
   },
   {
    "duration": 160,
    "start_time": "2022-08-10T14:10:12.861Z"
   },
   {
    "duration": 5,
    "start_time": "2022-08-10T14:10:13.023Z"
   },
   {
    "duration": 7,
    "start_time": "2022-08-10T14:10:13.029Z"
   },
   {
    "duration": 9,
    "start_time": "2022-08-10T14:10:13.037Z"
   },
   {
    "duration": 8,
    "start_time": "2022-08-10T14:10:13.047Z"
   },
   {
    "duration": 135,
    "start_time": "2022-08-10T14:10:13.056Z"
   },
   {
    "duration": 17,
    "start_time": "2022-08-10T14:10:13.193Z"
   },
   {
    "duration": 24,
    "start_time": "2022-08-10T14:10:13.212Z"
   },
   {
    "duration": 14,
    "start_time": "2022-08-10T14:10:13.238Z"
   },
   {
    "duration": 12,
    "start_time": "2022-08-10T14:10:13.253Z"
   },
   {
    "duration": 115,
    "start_time": "2022-08-10T14:10:13.267Z"
   },
   {
    "duration": 0,
    "start_time": "2022-08-10T14:10:13.385Z"
   },
   {
    "duration": 0,
    "start_time": "2022-08-10T14:10:13.386Z"
   },
   {
    "duration": 10,
    "start_time": "2022-08-10T14:12:17.829Z"
   },
   {
    "duration": 5,
    "start_time": "2022-08-10T14:13:49.242Z"
   },
   {
    "duration": 4,
    "start_time": "2022-08-10T14:14:03.370Z"
   },
   {
    "duration": 5,
    "start_time": "2022-08-10T14:14:06.839Z"
   },
   {
    "duration": 22,
    "start_time": "2022-08-10T14:14:53.174Z"
   },
   {
    "duration": 5,
    "start_time": "2022-08-10T14:15:25.081Z"
   },
   {
    "duration": 5,
    "start_time": "2022-08-10T14:15:50.389Z"
   },
   {
    "duration": 5,
    "start_time": "2022-08-10T14:15:59.867Z"
   },
   {
    "duration": 11,
    "start_time": "2022-08-10T14:16:08.824Z"
   },
   {
    "duration": 5,
    "start_time": "2022-08-10T14:17:03.743Z"
   },
   {
    "duration": 12,
    "start_time": "2022-08-10T14:17:30.640Z"
   },
   {
    "duration": 17,
    "start_time": "2022-08-10T14:17:47.282Z"
   },
   {
    "duration": 12,
    "start_time": "2022-08-10T14:17:50.697Z"
   },
   {
    "duration": 10,
    "start_time": "2022-08-10T14:19:16.802Z"
   },
   {
    "duration": 20,
    "start_time": "2022-08-10T14:19:19.474Z"
   },
   {
    "duration": 14,
    "start_time": "2022-08-10T14:24:01.052Z"
   },
   {
    "duration": 13,
    "start_time": "2022-08-10T14:28:52.904Z"
   },
   {
    "duration": 12,
    "start_time": "2022-08-10T14:28:57.634Z"
   },
   {
    "duration": 14,
    "start_time": "2022-08-10T14:29:14.485Z"
   },
   {
    "duration": 14,
    "start_time": "2022-08-10T14:29:25.439Z"
   },
   {
    "duration": 1063,
    "start_time": "2022-08-10T14:31:58.494Z"
   },
   {
    "duration": 37,
    "start_time": "2022-08-10T14:31:59.559Z"
   },
   {
    "duration": 11,
    "start_time": "2022-08-10T14:31:59.598Z"
   },
   {
    "duration": 65,
    "start_time": "2022-08-10T14:31:59.611Z"
   },
   {
    "duration": 10,
    "start_time": "2022-08-10T14:31:59.678Z"
   },
   {
    "duration": 14,
    "start_time": "2022-08-10T14:31:59.689Z"
   },
   {
    "duration": 19,
    "start_time": "2022-08-10T14:31:59.704Z"
   },
   {
    "duration": 13,
    "start_time": "2022-08-10T14:31:59.724Z"
   },
   {
    "duration": 14,
    "start_time": "2022-08-10T14:31:59.739Z"
   },
   {
    "duration": 10,
    "start_time": "2022-08-10T14:31:59.755Z"
   },
   {
    "duration": 6,
    "start_time": "2022-08-10T14:31:59.766Z"
   },
   {
    "duration": 14,
    "start_time": "2022-08-10T14:31:59.773Z"
   },
   {
    "duration": 20,
    "start_time": "2022-08-10T14:31:59.789Z"
   },
   {
    "duration": 10,
    "start_time": "2022-08-10T14:31:59.810Z"
   },
   {
    "duration": 287,
    "start_time": "2022-08-10T14:31:59.822Z"
   },
   {
    "duration": 282,
    "start_time": "2022-08-10T14:32:00.111Z"
   },
   {
    "duration": 198,
    "start_time": "2022-08-10T14:32:00.394Z"
   },
   {
    "duration": 191,
    "start_time": "2022-08-10T14:32:00.594Z"
   },
   {
    "duration": 198,
    "start_time": "2022-08-10T14:32:00.787Z"
   },
   {
    "duration": 347,
    "start_time": "2022-08-10T14:32:00.987Z"
   },
   {
    "duration": 215,
    "start_time": "2022-08-10T14:32:01.335Z"
   },
   {
    "duration": 284,
    "start_time": "2022-08-10T14:32:01.551Z"
   },
   {
    "duration": 12,
    "start_time": "2022-08-10T14:32:01.837Z"
   },
   {
    "duration": 145,
    "start_time": "2022-08-10T14:32:01.850Z"
   },
   {
    "duration": 144,
    "start_time": "2022-08-10T14:32:01.997Z"
   },
   {
    "duration": 4,
    "start_time": "2022-08-10T14:32:02.143Z"
   },
   {
    "duration": 257,
    "start_time": "2022-08-10T14:32:02.149Z"
   },
   {
    "duration": 226,
    "start_time": "2022-08-10T14:32:02.410Z"
   },
   {
    "duration": 6,
    "start_time": "2022-08-10T14:32:02.637Z"
   },
   {
    "duration": 10,
    "start_time": "2022-08-10T14:32:02.644Z"
   },
   {
    "duration": 53,
    "start_time": "2022-08-10T14:32:02.656Z"
   },
   {
    "duration": 13,
    "start_time": "2022-08-10T14:32:02.711Z"
   },
   {
    "duration": 283,
    "start_time": "2022-08-10T14:32:02.726Z"
   },
   {
    "duration": 9,
    "start_time": "2022-08-10T14:32:03.011Z"
   },
   {
    "duration": 36,
    "start_time": "2022-08-10T14:32:03.022Z"
   },
   {
    "duration": 59,
    "start_time": "2022-08-10T14:32:03.060Z"
   },
   {
    "duration": 20,
    "start_time": "2022-08-10T14:32:03.120Z"
   },
   {
    "duration": 16,
    "start_time": "2022-08-10T14:32:03.141Z"
   },
   {
    "duration": 22,
    "start_time": "2022-08-10T14:32:03.208Z"
   },
   {
    "duration": 13,
    "start_time": "2022-08-10T14:32:03.232Z"
   },
   {
    "duration": 1389,
    "start_time": "2022-08-11T13:31:37.711Z"
   },
   {
    "duration": 74,
    "start_time": "2022-08-11T13:31:39.103Z"
   },
   {
    "duration": 12,
    "start_time": "2022-08-11T13:31:39.179Z"
   },
   {
    "duration": 178,
    "start_time": "2022-08-11T13:31:39.193Z"
   },
   {
    "duration": 12,
    "start_time": "2022-08-11T13:31:39.373Z"
   },
   {
    "duration": 29,
    "start_time": "2022-08-11T13:31:39.387Z"
   },
   {
    "duration": 44,
    "start_time": "2022-08-11T13:31:39.417Z"
   },
   {
    "duration": 21,
    "start_time": "2022-08-11T13:31:39.463Z"
   },
   {
    "duration": 33,
    "start_time": "2022-08-11T13:31:39.485Z"
   },
   {
    "duration": 19,
    "start_time": "2022-08-11T13:31:39.521Z"
   },
   {
    "duration": 23,
    "start_time": "2022-08-11T13:31:39.542Z"
   },
   {
    "duration": 26,
    "start_time": "2022-08-11T13:31:39.567Z"
   },
   {
    "duration": 30,
    "start_time": "2022-08-11T13:31:39.595Z"
   },
   {
    "duration": 9,
    "start_time": "2022-08-11T13:31:44.666Z"
   },
   {
    "duration": 7,
    "start_time": "2022-08-11T13:31:50.032Z"
   },
   {
    "duration": 51,
    "start_time": "2022-08-11T13:31:59.487Z"
   },
   {
    "duration": 7,
    "start_time": "2022-08-11T13:32:44.014Z"
   },
   {
    "duration": 4,
    "start_time": "2022-08-11T13:33:03.304Z"
   },
   {
    "duration": 3,
    "start_time": "2022-08-11T13:33:09.475Z"
   },
   {
    "duration": 4,
    "start_time": "2022-08-11T13:33:13.246Z"
   },
   {
    "duration": 5,
    "start_time": "2022-08-11T13:33:16.670Z"
   },
   {
    "duration": 5,
    "start_time": "2022-08-11T13:33:19.935Z"
   },
   {
    "duration": 4,
    "start_time": "2022-08-11T13:33:56.055Z"
   },
   {
    "duration": 102,
    "start_time": "2022-08-11T13:38:07.512Z"
   },
   {
    "duration": 1205,
    "start_time": "2022-09-19T12:26:20.236Z"
   },
   {
    "duration": 69,
    "start_time": "2022-09-19T12:26:21.442Z"
   },
   {
    "duration": 10,
    "start_time": "2022-09-19T12:26:21.513Z"
   },
   {
    "duration": 152,
    "start_time": "2022-09-19T12:26:21.525Z"
   },
   {
    "duration": 10,
    "start_time": "2022-09-19T12:26:21.678Z"
   },
   {
    "duration": 39,
    "start_time": "2022-09-19T12:26:21.689Z"
   },
   {
    "duration": 48,
    "start_time": "2022-09-19T12:26:21.730Z"
   },
   {
    "duration": 34,
    "start_time": "2022-09-19T12:26:21.780Z"
   },
   {
    "duration": 21,
    "start_time": "2022-09-19T12:26:21.816Z"
   },
   {
    "duration": 12,
    "start_time": "2022-09-19T12:26:21.841Z"
   },
   {
    "duration": 6,
    "start_time": "2022-09-19T12:26:21.855Z"
   },
   {
    "duration": 11,
    "start_time": "2022-09-19T12:26:21.863Z"
   },
   {
    "duration": 12,
    "start_time": "2022-09-19T12:26:21.876Z"
   },
   {
    "duration": 11,
    "start_time": "2022-09-19T12:26:21.909Z"
   },
   {
    "duration": 335,
    "start_time": "2022-09-19T12:26:21.921Z"
   },
   {
    "duration": 303,
    "start_time": "2022-09-19T12:26:22.257Z"
   },
   {
    "duration": 275,
    "start_time": "2022-09-19T12:26:22.562Z"
   },
   {
    "duration": 203,
    "start_time": "2022-09-19T12:26:22.838Z"
   },
   {
    "duration": 205,
    "start_time": "2022-09-19T12:26:23.043Z"
   },
   {
    "duration": 291,
    "start_time": "2022-09-19T12:26:23.249Z"
   },
   {
    "duration": 383,
    "start_time": "2022-09-19T12:26:23.542Z"
   },
   {
    "duration": 516,
    "start_time": "2022-09-19T12:26:23.926Z"
   },
   {
    "duration": 67,
    "start_time": "2022-09-19T12:26:24.444Z"
   },
   {
    "duration": 222,
    "start_time": "2022-09-19T12:26:24.512Z"
   },
   {
    "duration": 304,
    "start_time": "2022-09-19T12:26:24.736Z"
   },
   {
    "duration": 5,
    "start_time": "2022-09-19T12:26:25.041Z"
   },
   {
    "duration": 466,
    "start_time": "2022-09-19T12:26:25.047Z"
   },
   {
    "duration": 170,
    "start_time": "2022-09-19T12:26:25.516Z"
   },
   {
    "duration": 4,
    "start_time": "2022-09-19T12:26:25.687Z"
   },
   {
    "duration": 6,
    "start_time": "2022-09-19T12:26:25.693Z"
   },
   {
    "duration": 3,
    "start_time": "2022-09-19T12:26:25.708Z"
   },
   {
    "duration": 9,
    "start_time": "2022-09-19T12:26:25.712Z"
   },
   {
    "duration": 151,
    "start_time": "2022-09-19T12:26:25.722Z"
   },
   {
    "duration": 9,
    "start_time": "2022-09-19T12:26:25.875Z"
   },
   {
    "duration": 31,
    "start_time": "2022-09-19T12:26:25.885Z"
   },
   {
    "duration": 15,
    "start_time": "2022-09-19T12:26:25.918Z"
   },
   {
    "duration": 16,
    "start_time": "2022-09-19T12:26:25.934Z"
   },
   {
    "duration": 10,
    "start_time": "2022-09-19T12:26:25.951Z"
   },
   {
    "duration": 48,
    "start_time": "2022-09-19T12:26:25.962Z"
   },
   {
    "duration": 12,
    "start_time": "2022-09-19T12:26:26.012Z"
   },
   {
    "duration": 181,
    "start_time": "2022-09-19T12:29:59.307Z"
   },
   {
    "duration": 1212,
    "start_time": "2022-09-19T12:34:38.736Z"
   },
   {
    "duration": 37,
    "start_time": "2022-09-19T12:34:39.950Z"
   },
   {
    "duration": 9,
    "start_time": "2022-09-19T12:34:39.990Z"
   },
   {
    "duration": 67,
    "start_time": "2022-09-19T12:34:40.001Z"
   },
   {
    "duration": 10,
    "start_time": "2022-09-19T12:34:40.070Z"
   },
   {
    "duration": 12,
    "start_time": "2022-09-19T12:34:40.081Z"
   },
   {
    "duration": 15,
    "start_time": "2022-09-19T12:34:40.094Z"
   },
   {
    "duration": 9,
    "start_time": "2022-09-19T12:34:40.111Z"
   },
   {
    "duration": 12,
    "start_time": "2022-09-19T12:34:40.122Z"
   },
   {
    "duration": 11,
    "start_time": "2022-09-19T12:34:40.135Z"
   },
   {
    "duration": 4,
    "start_time": "2022-09-19T12:34:40.147Z"
   },
   {
    "duration": 8,
    "start_time": "2022-09-19T12:34:40.152Z"
   },
   {
    "duration": 9,
    "start_time": "2022-09-19T12:34:40.162Z"
   },
   {
    "duration": 307,
    "start_time": "2022-09-19T12:34:40.173Z"
   },
   {
    "duration": 280,
    "start_time": "2022-09-19T12:34:40.481Z"
   },
   {
    "duration": 210,
    "start_time": "2022-09-19T12:34:40.762Z"
   },
   {
    "duration": 198,
    "start_time": "2022-09-19T12:34:40.973Z"
   },
   {
    "duration": 196,
    "start_time": "2022-09-19T12:34:41.173Z"
   },
   {
    "duration": 343,
    "start_time": "2022-09-19T12:34:41.371Z"
   },
   {
    "duration": 222,
    "start_time": "2022-09-19T12:34:41.717Z"
   },
   {
    "duration": 281,
    "start_time": "2022-09-19T12:34:41.940Z"
   },
   {
    "duration": 10,
    "start_time": "2022-09-19T12:34:42.223Z"
   },
   {
    "duration": 122,
    "start_time": "2022-09-19T12:34:42.234Z"
   },
   {
    "duration": 140,
    "start_time": "2022-09-19T12:34:42.358Z"
   },
   {
    "duration": 10,
    "start_time": "2022-09-19T12:34:42.499Z"
   },
   {
    "duration": 248,
    "start_time": "2022-09-19T12:34:42.510Z"
   },
   {
    "duration": 163,
    "start_time": "2022-09-19T12:34:42.761Z"
   },
   {
    "duration": 5,
    "start_time": "2022-09-19T12:34:42.926Z"
   },
   {
    "duration": 146,
    "start_time": "2022-09-19T12:34:42.932Z"
   },
   {
    "duration": 10,
    "start_time": "2022-09-19T12:34:43.080Z"
   },
   {
    "duration": 34,
    "start_time": "2022-09-19T12:34:43.091Z"
   },
   {
    "duration": 13,
    "start_time": "2022-09-19T12:34:43.127Z"
   },
   {
    "duration": 12,
    "start_time": "2022-09-19T12:34:43.141Z"
   },
   {
    "duration": 10,
    "start_time": "2022-09-19T12:34:43.155Z"
   },
   {
    "duration": 46,
    "start_time": "2022-09-19T12:34:43.166Z"
   },
   {
    "duration": 12,
    "start_time": "2022-09-19T12:34:43.214Z"
   }
  ],
  "kernelspec": {
   "display_name": "Python 3 (ipykernel)",
   "language": "python",
   "name": "python3"
  },
  "language_info": {
   "codemirror_mode": {
    "name": "ipython",
    "version": 3
   },
   "file_extension": ".py",
   "mimetype": "text/x-python",
   "name": "python",
   "nbconvert_exporter": "python",
   "pygments_lexer": "ipython3",
   "version": "3.9.5"
  },
  "toc": {
   "base_numbering": 1,
   "nav_menu": {},
   "number_sections": false,
   "sideBar": true,
   "skip_h1_title": false,
   "title_cell": "Table of Contents",
   "title_sidebar": "Contents",
   "toc_cell": false,
   "toc_position": {
    "height": "calc(100% - 180px)",
    "left": "10px",
    "top": "150px",
    "width": "384px"
   },
   "toc_section_display": true,
   "toc_window_display": true
  }
 },
 "nbformat": 4,
 "nbformat_minor": 2
}
