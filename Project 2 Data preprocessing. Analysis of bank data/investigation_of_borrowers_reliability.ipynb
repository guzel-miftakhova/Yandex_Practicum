{
 "cells": [
  {
   "cell_type": "markdown",
   "id": "36365249",
   "metadata": {},
   "source": [
    "## Обзор данных"
   ]
  },
  {
   "cell_type": "code",
   "execution_count": 1,
   "id": "6f14ee15",
   "metadata": {
    "scrolled": true
   },
   "outputs": [
    {
     "data": {
      "text/html": [
       "<div>\n",
       "<style scoped>\n",
       "    .dataframe tbody tr th:only-of-type {\n",
       "        vertical-align: middle;\n",
       "    }\n",
       "\n",
       "    .dataframe tbody tr th {\n",
       "        vertical-align: top;\n",
       "    }\n",
       "\n",
       "    .dataframe thead th {\n",
       "        text-align: right;\n",
       "    }\n",
       "</style>\n",
       "<table border=\"1\" class=\"dataframe\">\n",
       "  <thead>\n",
       "    <tr style=\"text-align: right;\">\n",
       "      <th></th>\n",
       "      <th>children</th>\n",
       "      <th>days_employed</th>\n",
       "      <th>dob_years</th>\n",
       "      <th>education</th>\n",
       "      <th>education_id</th>\n",
       "      <th>family_status</th>\n",
       "      <th>family_status_id</th>\n",
       "      <th>gender</th>\n",
       "      <th>income_type</th>\n",
       "      <th>debt</th>\n",
       "      <th>total_income</th>\n",
       "      <th>purpose</th>\n",
       "    </tr>\n",
       "  </thead>\n",
       "  <tbody>\n",
       "    <tr>\n",
       "      <th>0</th>\n",
       "      <td>1</td>\n",
       "      <td>-8437.673028</td>\n",
       "      <td>42</td>\n",
       "      <td>высшее</td>\n",
       "      <td>0</td>\n",
       "      <td>женат / замужем</td>\n",
       "      <td>0</td>\n",
       "      <td>F</td>\n",
       "      <td>сотрудник</td>\n",
       "      <td>0</td>\n",
       "      <td>253875.639453</td>\n",
       "      <td>покупка жилья</td>\n",
       "    </tr>\n",
       "    <tr>\n",
       "      <th>1</th>\n",
       "      <td>1</td>\n",
       "      <td>-4024.803754</td>\n",
       "      <td>36</td>\n",
       "      <td>среднее</td>\n",
       "      <td>1</td>\n",
       "      <td>женат / замужем</td>\n",
       "      <td>0</td>\n",
       "      <td>F</td>\n",
       "      <td>сотрудник</td>\n",
       "      <td>0</td>\n",
       "      <td>112080.014102</td>\n",
       "      <td>приобретение автомобиля</td>\n",
       "    </tr>\n",
       "    <tr>\n",
       "      <th>2</th>\n",
       "      <td>0</td>\n",
       "      <td>-5623.422610</td>\n",
       "      <td>33</td>\n",
       "      <td>Среднее</td>\n",
       "      <td>1</td>\n",
       "      <td>женат / замужем</td>\n",
       "      <td>0</td>\n",
       "      <td>M</td>\n",
       "      <td>сотрудник</td>\n",
       "      <td>0</td>\n",
       "      <td>145885.952297</td>\n",
       "      <td>покупка жилья</td>\n",
       "    </tr>\n",
       "    <tr>\n",
       "      <th>3</th>\n",
       "      <td>3</td>\n",
       "      <td>-4124.747207</td>\n",
       "      <td>32</td>\n",
       "      <td>среднее</td>\n",
       "      <td>1</td>\n",
       "      <td>женат / замужем</td>\n",
       "      <td>0</td>\n",
       "      <td>M</td>\n",
       "      <td>сотрудник</td>\n",
       "      <td>0</td>\n",
       "      <td>267628.550329</td>\n",
       "      <td>дополнительное образование</td>\n",
       "    </tr>\n",
       "    <tr>\n",
       "      <th>4</th>\n",
       "      <td>0</td>\n",
       "      <td>340266.072047</td>\n",
       "      <td>53</td>\n",
       "      <td>среднее</td>\n",
       "      <td>1</td>\n",
       "      <td>гражданский брак</td>\n",
       "      <td>1</td>\n",
       "      <td>F</td>\n",
       "      <td>пенсионер</td>\n",
       "      <td>0</td>\n",
       "      <td>158616.077870</td>\n",
       "      <td>сыграть свадьбу</td>\n",
       "    </tr>\n",
       "  </tbody>\n",
       "</table>\n",
       "</div>"
      ],
      "text/plain": [
       "   children  days_employed  dob_years education  education_id  \\\n",
       "0         1   -8437.673028         42    высшее             0   \n",
       "1         1   -4024.803754         36   среднее             1   \n",
       "2         0   -5623.422610         33   Среднее             1   \n",
       "3         3   -4124.747207         32   среднее             1   \n",
       "4         0  340266.072047         53   среднее             1   \n",
       "\n",
       "      family_status  family_status_id gender income_type  debt   total_income  \\\n",
       "0   женат / замужем                 0      F   сотрудник     0  253875.639453   \n",
       "1   женат / замужем                 0      F   сотрудник     0  112080.014102   \n",
       "2   женат / замужем                 0      M   сотрудник     0  145885.952297   \n",
       "3   женат / замужем                 0      M   сотрудник     0  267628.550329   \n",
       "4  гражданский брак                 1      F   пенсионер     0  158616.077870   \n",
       "\n",
       "                      purpose  \n",
       "0               покупка жилья  \n",
       "1     приобретение автомобиля  \n",
       "2               покупка жилья  \n",
       "3  дополнительное образование  \n",
       "4             сыграть свадьбу  "
      ]
     },
     "execution_count": 1,
     "metadata": {},
     "output_type": "execute_result"
    }
   ],
   "source": [
    "import pandas as pd\n",
    "df = pd.read_csv('..../data.csv')\n",
    "df.head()"
   ]
  },
  {
   "cell_type": "code",
   "execution_count": 2,
   "id": "26aec18e",
   "metadata": {},
   "outputs": [
    {
     "name": "stdout",
     "output_type": "stream",
     "text": [
      "<class 'pandas.core.frame.DataFrame'>\n",
      "RangeIndex: 21525 entries, 0 to 21524\n",
      "Data columns (total 12 columns):\n",
      " #   Column            Non-Null Count  Dtype  \n",
      "---  ------            --------------  -----  \n",
      " 0   children          21525 non-null  int64  \n",
      " 1   days_employed     19351 non-null  float64\n",
      " 2   dob_years         21525 non-null  int64  \n",
      " 3   education         21525 non-null  object \n",
      " 4   education_id      21525 non-null  int64  \n",
      " 5   family_status     21525 non-null  object \n",
      " 6   family_status_id  21525 non-null  int64  \n",
      " 7   gender            21525 non-null  object \n",
      " 8   income_type       21525 non-null  object \n",
      " 9   debt              21525 non-null  int64  \n",
      " 10  total_income      19351 non-null  float64\n",
      " 11  purpose           21525 non-null  object \n",
      "dtypes: float64(2), int64(5), object(5)\n",
      "memory usage: 2.0+ MB\n"
     ]
    }
   ],
   "source": [
    "df.info()"
   ]
  },
  {
   "cell_type": "markdown",
   "id": "a2564fb4",
   "metadata": {},
   "source": [
    "В таблице 12 столбцов и 21525 строк типы данных (по столбцам): `float64(2)`, `int64(5)`, `object(5)`.\n",
    "\n",
    "Описание столбцов:\n",
    "\n",
    "* `children` — количество детей в семье;\n",
    "* `days_employed` — общий трудовой стаж в днях;\n",
    "* `dob_years` — возраст клиента в годах;\n",
    "* `education` — уровень образования клиента;\n",
    "* `education_id` — идентификатор уровня образования;\n",
    "* `family_status` — семейное положение;\n",
    "* `family_status_id` — идентификатор семейного положения;\n",
    "* `gender` — пол клиента;\n",
    "* `income_type` — тип занятости;\n",
    "* `debt` — имел ли задолженность по возврату кредитов;\n",
    "* `total_income` — ежемесячный доход;\n",
    "* `purpose` — цель получения кредита.\n",
    "\n",
    "Количество значений в столбцах `days_employed` и `total_income` различается. Значит, в данных есть пропущенные значения."
   ]
  },
  {
   "cell_type": "markdown",
   "id": "bc4a6e9c",
   "metadata": {},
   "source": [
    "<div style=\"border:solid green 1px; padding: 10px\">\n",
    "\n",
    "В каждой строке таблицы — данные о конкретном Клиенте Банка, взявшем кредит. Часть колонок содержит информацию о\n",
    "самом Клиенте (количество детей, стаж работы, возраст и т.д.). Остальные данные рассказывают о взятом кредите (задолженность\n",
    "по кредиту, цель получения, ежемесячный доход).\n",
    "Предварительно можно утверждать, что, данных достаточно для проверки гипотез.\n",
    "\n",
    "Но встречаются пропуски в данных.\n",
    "Чтобы двигаться дальше, нужно устранить проблемы в данных."
   ]
  },
  {
   "cell_type": "markdown",
   "id": "2b316fc6",
   "metadata": {},
   "source": [
    "## Предобработка данных"
   ]
  },
  {
   "cell_type": "markdown",
   "id": "f8e1569f",
   "metadata": {},
   "source": [
    "### Заполнение пропусков"
   ]
  },
  {
   "cell_type": "code",
   "execution_count": 3,
   "id": "96f60ce1",
   "metadata": {},
   "outputs": [
    {
     "data": {
      "text/plain": [
       "children               0\n",
       "days_employed       2174\n",
       "dob_years              0\n",
       "education              0\n",
       "education_id           0\n",
       "family_status          0\n",
       "family_status_id       0\n",
       "gender                 0\n",
       "income_type            0\n",
       "debt                   0\n",
       "total_income        2174\n",
       "purpose                0\n",
       "dtype: int64"
      ]
     },
     "execution_count": 3,
     "metadata": {},
     "output_type": "execute_result"
    }
   ],
   "source": [
    "# поиск и подсчет пропусков в столбцах\n",
    "df.isna().sum()"
   ]
  },
  {
   "cell_type": "code",
   "execution_count": 4,
   "id": "f23f1b60",
   "metadata": {},
   "outputs": [
    {
     "name": "stdout",
     "output_type": "stream",
     "text": [
      "10.099883855981417\n"
     ]
    },
    {
     "data": {
      "text/plain": [
       "10.099883855981417"
      ]
     },
     "execution_count": 4,
     "metadata": {},
     "output_type": "execute_result"
    }
   ],
   "source": [
    "# доля пропущенных значений в каждом из столбцов с пропусками\n",
    "share_isna_total_income = df['total_income'].isna().sum() / df.shape[0] * 100\n",
    "share_isna_days_employed = df['days_employed'].isna().sum() / df.shape[0] * 100\n",
    "\n",
    "print(share_isna_total_income)\n",
    "share_isna_days_employed"
   ]
  },
  {
   "cell_type": "markdown",
   "id": "ec4f4f45",
   "metadata": {},
   "source": [
    "В двух столбцах есть пропущенные значения.\n",
    "\n",
    "Пропуски (`NaN`) составляют 10% от общего числа значений, что достаточно много.\n",
    "\n",
    "Причины возникновения пропусков могут быть технологическими. Такие ошибки возникают при копировании, считывании, смене формата. Сбой может произойти даже во время записи данных.\n",
    "\n",
    "Заполнить пропуски лучше медианным значением, потому что для анализа количественных переменных важно учитывать, что в данных могут содержаться \"выбросы\" - сильно заниженные или завышенные, по сравнению с оставльными, данные, а значит среднее будет смещено относительно реального положения вещей. Также не подойдет замена пропусков на ноль или их удаление.\n"
   ]
  },
  {
   "cell_type": "code",
   "execution_count": 5,
   "id": "c76726f9",
   "metadata": {},
   "outputs": [
    {
     "data": {
      "text/plain": [
       "0"
      ]
     },
     "execution_count": 5,
     "metadata": {},
     "output_type": "execute_result"
    }
   ],
   "source": [
    "# замена пропусков в 'total_income' на медиану\n",
    "total_income_median = df['total_income'].median()\n",
    "df['total_income'] = df['total_income'].fillna(value=total_income_median)\n",
    "\n",
    "df['total_income'].isna().sum()"
   ]
  },
  {
   "cell_type": "markdown",
   "id": "1bb36ba0",
   "metadata": {},
   "source": [
    "###  Проверка данных на аномалии и исправления"
   ]
  },
  {
   "cell_type": "markdown",
   "id": "b0bc218f",
   "metadata": {},
   "source": [
    "В столбце `days_employed` есть отрицательное количество дней трудового стажа, что является аномалией (значением, которое не отражает действительность и появилось по какой-то ошибке.), стаж может быть только положительным. \n",
    "\n",
    "Возможными причинами появления таких данных могли стать ошибки при расчете формулы для столбца в исходной таблице (к примеру, перепутали местами уменьшаемое и вычитаемое), а также ошибки при ручном копировании данных. \n",
    "\n",
    "Обработем аномалии и заполним пропуски в days_employed медианными значениями по этому столбцу."
   ]
  },
  {
   "cell_type": "code",
   "execution_count": 6,
   "id": "778ed022",
   "metadata": {},
   "outputs": [
    {
     "name": "stdout",
     "output_type": "stream",
     "text": [
      "0      8437.673028\n",
      "1      4024.803754\n",
      "2      5623.422610\n",
      "3      4124.747207\n",
      "4    340266.072047\n",
      "Name: days_employed, dtype: float64\n"
     ]
    },
    {
     "data": {
      "text/plain": [
       "children            0\n",
       "days_employed       0\n",
       "dob_years           0\n",
       "education           0\n",
       "education_id        0\n",
       "family_status       0\n",
       "family_status_id    0\n",
       "gender              0\n",
       "income_type         0\n",
       "debt                0\n",
       "total_income        0\n",
       "purpose             0\n",
       "dtype: int64"
      ]
     },
     "execution_count": 6,
     "metadata": {},
     "output_type": "execute_result"
    }
   ],
   "source": [
    "# приводим стаж к положительному значению\n",
    "df['days_employed'] = df['days_employed'].abs()\n",
    "print(df['days_employed'].head())\n",
    "\n",
    "# замена пропусков в days_employed\n",
    "days_employed_median = df['days_employed'].median()\n",
    "df['days_employed'] = df['days_employed'].fillna(value=days_employed_median)\n",
    "\n",
    "#проверка на пропуски\n",
    "df.isna().sum()"
   ]
  },
  {
   "cell_type": "markdown",
   "id": "1ada2d5e",
   "metadata": {},
   "source": [
    "В столбце `children` также есть отрицательные значения и значение в 20 детей, что, скорее всего является опечаткой, заменим их."
   ]
  },
  {
   "cell_type": "code",
   "execution_count": 7,
   "id": "fd84825d",
   "metadata": {},
   "outputs": [
    {
     "data": {
      "text/plain": [
       "array([ 1,  0,  3,  2, -1,  4, 20,  5])"
      ]
     },
     "execution_count": 7,
     "metadata": {},
     "output_type": "execute_result"
    }
   ],
   "source": [
    "df['children'].unique()"
   ]
  },
  {
   "cell_type": "code",
   "execution_count": 8,
   "id": "6e588ac8",
   "metadata": {},
   "outputs": [
    {
     "data": {
      "text/plain": [
       "array([1, 0, 3, 2, 4, 5])"
      ]
     },
     "execution_count": 8,
     "metadata": {},
     "output_type": "execute_result"
    }
   ],
   "source": [
    "# приводим значения к положительному\n",
    "df['children'] = df['children'].abs()\n",
    "\n",
    "# исправляем опечатку\n",
    "df.loc[df['children'] == 20, 'children'] = 2\n",
    "\n",
    "# проверка после исправлений\n",
    "df['children'].unique()"
   ]
  },
  {
   "cell_type": "markdown",
   "id": "f99506a7",
   "metadata": {},
   "source": [
    "### Изменение типов данных"
   ]
  },
  {
   "cell_type": "markdown",
   "id": "79838311",
   "metadata": {},
   "source": [
    "Изменим тип данных столбцу `total_income` для дальнейшей работы по категоризации Клиентов в зависимости от дохода."
   ]
  },
  {
   "cell_type": "code",
   "execution_count": 9,
   "id": "40cda43d",
   "metadata": {},
   "outputs": [
    {
     "name": "stdout",
     "output_type": "stream",
     "text": [
      "<class 'pandas.core.frame.DataFrame'>\n",
      "RangeIndex: 21525 entries, 0 to 21524\n",
      "Data columns (total 12 columns):\n",
      " #   Column            Non-Null Count  Dtype  \n",
      "---  ------            --------------  -----  \n",
      " 0   children          21525 non-null  int64  \n",
      " 1   days_employed     21525 non-null  float64\n",
      " 2   dob_years         21525 non-null  int64  \n",
      " 3   education         21525 non-null  object \n",
      " 4   education_id      21525 non-null  int64  \n",
      " 5   family_status     21525 non-null  object \n",
      " 6   family_status_id  21525 non-null  int64  \n",
      " 7   gender            21525 non-null  object \n",
      " 8   income_type       21525 non-null  object \n",
      " 9   debt              21525 non-null  int64  \n",
      " 10  total_income      21525 non-null  int64  \n",
      " 11  purpose           21525 non-null  object \n",
      "dtypes: float64(1), int64(6), object(5)\n",
      "memory usage: 2.0+ MB\n"
     ]
    }
   ],
   "source": [
    "df['total_income'] = df['total_income'].astype(int)\n",
    "df.info()"
   ]
  },
  {
   "cell_type": "markdown",
   "id": "2b6de2c6",
   "metadata": {},
   "source": [
    "###  Удаление дубликатов"
   ]
  },
  {
   "cell_type": "markdown",
   "id": "e0f514f4",
   "metadata": {},
   "source": [
    "Перед поиском дубликатов приведем значения в таблице к одному регистру."
   ]
  },
  {
   "cell_type": "code",
   "execution_count": 10,
   "id": "635516c1",
   "metadata": {},
   "outputs": [],
   "source": [
    "# приведение значений в столбцах к одному регистру\n",
    "check_list = ['education', 'family_status', 'income_type', 'purpose', 'gender']\n",
    "for col in df:\n",
    "    if col in check_list:\n",
    "        df[col] = df[col].str.lower()"
   ]
  },
  {
   "cell_type": "code",
   "execution_count": 11,
   "id": "3bae2abc",
   "metadata": {},
   "outputs": [
    {
     "data": {
      "text/plain": [
       "71"
      ]
     },
     "execution_count": 11,
     "metadata": {},
     "output_type": "execute_result"
    }
   ],
   "source": [
    "# поиск и подсчет дубликатов\n",
    "df.duplicated().sum()"
   ]
  },
  {
   "cell_type": "markdown",
   "id": "772cc05a",
   "metadata": {},
   "source": [
    "Методом `.duplicated()` найдены явные дубликаты, данные, значения которых полностью совпадают. Удалим их и проведем проверку, чтобы убедиться, что все отработало верно."
   ]
  },
  {
   "cell_type": "code",
   "execution_count": 12,
   "id": "fc7a1752",
   "metadata": {},
   "outputs": [
    {
     "data": {
      "text/plain": [
       "0"
      ]
     },
     "execution_count": 12,
     "metadata": {},
     "output_type": "execute_result"
    }
   ],
   "source": [
    "# удаление дубликатов (с удалением с переформированием индексов)\n",
    "df = df.drop_duplicates().reset_index(drop=True)\n",
    "\n",
    "# проверка после удаления\n",
    "df.duplicated().sum()"
   ]
  },
  {
   "cell_type": "code",
   "execution_count": 13,
   "id": "4a6b3a70",
   "metadata": {},
   "outputs": [
    {
     "data": {
      "text/plain": [
       "array(['автомобили', 'автомобиль', 'высшее образование',\n",
       "       'дополнительное образование', 'жилье',\n",
       "       'заняться высшим образованием', 'заняться образованием',\n",
       "       'на покупку автомобиля', 'на покупку подержанного автомобиля',\n",
       "       'на покупку своего автомобиля', 'на проведение свадьбы',\n",
       "       'недвижимость', 'образование', 'операции с жильем',\n",
       "       'операции с коммерческой недвижимостью',\n",
       "       'операции с недвижимостью', 'операции со своей недвижимостью',\n",
       "       'покупка жилой недвижимости', 'покупка жилья',\n",
       "       'покупка жилья для сдачи', 'покупка жилья для семьи',\n",
       "       'покупка коммерческой недвижимости', 'покупка недвижимости',\n",
       "       'покупка своего жилья', 'получение высшего образования',\n",
       "       'получение дополнительного образования', 'получение образования',\n",
       "       'приобретение автомобиля', 'профильное образование',\n",
       "       'ремонт жилью', 'свадьба', 'свой автомобиль',\n",
       "       'сделка с автомобилем', 'сделка с подержанным автомобилем',\n",
       "       'строительство жилой недвижимости', 'строительство недвижимости',\n",
       "       'строительство собственной недвижимости', 'сыграть свадьбу'],\n",
       "      dtype=object)"
      ]
     },
     "execution_count": 13,
     "metadata": {},
     "output_type": "execute_result"
    }
   ],
   "source": [
    "# проверка уникальности значений\n",
    "df['purpose'].sort_values().unique()"
   ]
  },
  {
   "cell_type": "markdown",
   "id": "8fb9efef",
   "metadata": {},
   "source": [
    "В списке выше есть неявные дубликаты целей, т.е. названия с ошибками или выраженные разными словами.\n",
    "\n",
    "По факту целей всего четыре:\n",
    "\n",
    "* *образование*\n",
    "* *операции с недвижимостью*\n",
    "* *приобретение автомобиля*\n",
    "* *проведение мероприятия (свадьба)*\n",
    "\n",
    "Чтобы очистить от них таблицу, напишем функцию `replace_wrong_purpose()` с двумя параметрами:\n",
    "\n",
    "`wrong_purpose` — список дубликатов,\n",
    "\n",
    "`correct_purpose` — строка с правильным значением.\n",
    "\n",
    "Функция должна исправить колонку `purpose`e в таблице `df`: заменить каждое значение из списка `wrong_purpose` на значение из `correct_purpose`."
   ]
  },
  {
   "cell_type": "code",
   "execution_count": 14,
   "id": "b80c6113",
   "metadata": {},
   "outputs": [],
   "source": [
    "# Функция для замены неявных дубликатов\n",
    "def replace_wrong_purpose(wrong_purpose, correct_purpose):\n",
    "    for purpose in wrong_purpose:\n",
    "        df['purpose'] = df['purpose'].replace(wrong_purpose, correct_purpose)\n",
    "        \n",
    "# создание переменной верного значения списков значений для замены      \n",
    "duplicates_auto = ['автомобили', 'автомобиль', 'на покупку автомобиля', 'на покупку подержанного автомобиля',\n",
    "              'на покупку своего автомобиля', 'свой автомобиль', 'сделка с автомобилем', 'сделка с подержанным автомобилем']\n",
    "correct_name_auto = 'приобретение автомобиля'\n",
    "duplicates_edu = ['высшее образование', 'дополнительное образование', 'заняться высшим образованием', 'заняться образованием',\n",
    "                  'получение высшего образования', 'получение дополнительного образования', 'получение образования', 'профильное образование']\n",
    "correct_name_edu = 'образование'\n",
    "duplicates_prop = ['жилье', 'недвижимость', 'операции с жильем', 'операции с коммерческой недвижимостью', 'операции со своей недвижимостью',\n",
    "                   'покупка жилой недвижимости', 'покупка жилья','покупка жилья для сдачи', 'покупка жилья для семьи',\n",
    "                   'покупка коммерческой недвижимости', 'покупка недвижимости', 'покупка своего жилья','ремонт жилью',\n",
    "                  'строительство жилой недвижимости', 'строительство недвижимости', 'строительство собственной недвижимости']\n",
    "correct_name_prop = 'операции с недвижимостью'\n",
    "duplicates_wed = ['на проведение свадьбы', 'свадьба', 'сыграть свадьбу']\n",
    "correct_name_wed = 'проведение мероприятия (свадьба)'\n",
    "\n",
    "# Вызов функции для устранения неявных дубликатов\n",
    "replace_wrong_purpose(duplicates_auto, correct_name_auto)\n",
    "replace_wrong_purpose(duplicates_edu, correct_name_edu)\n",
    "replace_wrong_purpose(duplicates_prop, correct_name_prop)\n",
    "replace_wrong_purpose(duplicates_wed, correct_name_wed)"
   ]
  },
  {
   "cell_type": "code",
   "execution_count": 15,
   "id": "730a1ade",
   "metadata": {},
   "outputs": [
    {
     "data": {
      "text/plain": [
       "array(['образование', 'операции с недвижимостью',\n",
       "       'приобретение автомобиля', 'проведение мероприятия (свадьба)'],\n",
       "      dtype=object)"
      ]
     },
     "execution_count": 15,
     "metadata": {},
     "output_type": "execute_result"
    }
   ],
   "source": [
    "# Проверка на неявные дубликаты\n",
    "df['purpose'].sort_values().unique()"
   ]
  },
  {
   "cell_type": "code",
   "execution_count": 16,
   "id": "b77b1da0",
   "metadata": {},
   "outputs": [
    {
     "data": {
      "text/plain": [
       "334"
      ]
     },
     "execution_count": 16,
     "metadata": {},
     "output_type": "execute_result"
    }
   ],
   "source": [
    "# Проверка на явные дубликаты после удаления неявных\n",
    "df.duplicated().sum()"
   ]
  },
  {
   "cell_type": "code",
   "execution_count": 17,
   "id": "26929580",
   "metadata": {},
   "outputs": [
    {
     "data": {
      "text/plain": [
       "0"
      ]
     },
     "execution_count": 17,
     "metadata": {},
     "output_type": "execute_result"
    }
   ],
   "source": [
    "# удаление дубликатов (с удалением с переформированием индексов)\n",
    "df = df.drop_duplicates().reset_index(drop=True)\n",
    "\n",
    "# проверка после удаления\n",
    "df.duplicated().sum()"
   ]
  },
  {
   "cell_type": "markdown",
   "id": "b46c1dcb",
   "metadata": {},
   "source": [
    "### Формирование дополнительных датафреймов словарей, декомпозиция исходного датафрейма"
   ]
  },
  {
   "cell_type": "markdown",
   "id": "59b86464",
   "metadata": {},
   "source": [
    "Создадим две дополнительные таблицы для образования и для семейного положения Клиента.\n",
    "\n",
    "Новые датафреймы — это \"словари\", к которым мы сможем обращаться по идентификатору в дальнейшем."
   ]
  },
  {
   "cell_type": "code",
   "execution_count": 18,
   "id": "36ae8040",
   "metadata": {},
   "outputs": [
    {
     "data": {
      "text/plain": [
       "education            education_id\n",
       "среднее              1               14876\n",
       "высшее               0                5212\n",
       "неоконченное высшее  2                 744\n",
       "начальное            3                 282\n",
       "ученая степень       4                   6\n",
       "dtype: int64"
      ]
     },
     "execution_count": 18,
     "metadata": {},
     "output_type": "execute_result"
    }
   ],
   "source": [
    "# датафрейм для образования\n",
    "education_dict = df[['education','education_id']]\n",
    "education_dict.value_counts()"
   ]
  },
  {
   "cell_type": "code",
   "execution_count": 19,
   "id": "22182899",
   "metadata": {},
   "outputs": [
    {
     "data": {
      "text/plain": [
       "family_status          family_status_id\n",
       "женат / замужем        0                   12076\n",
       "гражданский брак       1                    4124\n",
       "не женат / не замужем  4                    2784\n",
       "в разводе              3                    1193\n",
       "вдовец / вдова         2                     943\n",
       "dtype: int64"
      ]
     },
     "execution_count": 19,
     "metadata": {},
     "output_type": "execute_result"
    }
   ],
   "source": [
    "#датафрейм для семецного положения\n",
    "family_status_dict = df[['family_status','family_status_id']]\n",
    "family_status_dict.value_counts()"
   ]
  },
  {
   "cell_type": "markdown",
   "id": "3fa81fe6",
   "metadata": {},
   "source": [
    "Удалим из исходного датафрейма столбцы `education` и `family_status`, оставив только их идентификаторы: `education_id` и `family_status_id`."
   ]
  },
  {
   "cell_type": "code",
   "execution_count": 20,
   "id": "a775e841",
   "metadata": {},
   "outputs": [
    {
     "data": {
      "text/html": [
       "<div>\n",
       "<style scoped>\n",
       "    .dataframe tbody tr th:only-of-type {\n",
       "        vertical-align: middle;\n",
       "    }\n",
       "\n",
       "    .dataframe tbody tr th {\n",
       "        vertical-align: top;\n",
       "    }\n",
       "\n",
       "    .dataframe thead th {\n",
       "        text-align: right;\n",
       "    }\n",
       "</style>\n",
       "<table border=\"1\" class=\"dataframe\">\n",
       "  <thead>\n",
       "    <tr style=\"text-align: right;\">\n",
       "      <th></th>\n",
       "      <th>children</th>\n",
       "      <th>days_employed</th>\n",
       "      <th>dob_years</th>\n",
       "      <th>education_id</th>\n",
       "      <th>family_status_id</th>\n",
       "      <th>gender</th>\n",
       "      <th>income_type</th>\n",
       "      <th>debt</th>\n",
       "      <th>total_income</th>\n",
       "      <th>purpose</th>\n",
       "    </tr>\n",
       "  </thead>\n",
       "  <tbody>\n",
       "    <tr>\n",
       "      <th>0</th>\n",
       "      <td>1</td>\n",
       "      <td>8437.673028</td>\n",
       "      <td>42</td>\n",
       "      <td>0</td>\n",
       "      <td>0</td>\n",
       "      <td>f</td>\n",
       "      <td>сотрудник</td>\n",
       "      <td>0</td>\n",
       "      <td>253875</td>\n",
       "      <td>операции с недвижимостью</td>\n",
       "    </tr>\n",
       "    <tr>\n",
       "      <th>1</th>\n",
       "      <td>1</td>\n",
       "      <td>4024.803754</td>\n",
       "      <td>36</td>\n",
       "      <td>1</td>\n",
       "      <td>0</td>\n",
       "      <td>f</td>\n",
       "      <td>сотрудник</td>\n",
       "      <td>0</td>\n",
       "      <td>112080</td>\n",
       "      <td>приобретение автомобиля</td>\n",
       "    </tr>\n",
       "    <tr>\n",
       "      <th>2</th>\n",
       "      <td>0</td>\n",
       "      <td>5623.422610</td>\n",
       "      <td>33</td>\n",
       "      <td>1</td>\n",
       "      <td>0</td>\n",
       "      <td>m</td>\n",
       "      <td>сотрудник</td>\n",
       "      <td>0</td>\n",
       "      <td>145885</td>\n",
       "      <td>операции с недвижимостью</td>\n",
       "    </tr>\n",
       "    <tr>\n",
       "      <th>3</th>\n",
       "      <td>3</td>\n",
       "      <td>4124.747207</td>\n",
       "      <td>32</td>\n",
       "      <td>1</td>\n",
       "      <td>0</td>\n",
       "      <td>m</td>\n",
       "      <td>сотрудник</td>\n",
       "      <td>0</td>\n",
       "      <td>267628</td>\n",
       "      <td>образование</td>\n",
       "    </tr>\n",
       "    <tr>\n",
       "      <th>4</th>\n",
       "      <td>0</td>\n",
       "      <td>340266.072047</td>\n",
       "      <td>53</td>\n",
       "      <td>1</td>\n",
       "      <td>1</td>\n",
       "      <td>f</td>\n",
       "      <td>пенсионер</td>\n",
       "      <td>0</td>\n",
       "      <td>158616</td>\n",
       "      <td>проведение мероприятия (свадьба)</td>\n",
       "    </tr>\n",
       "  </tbody>\n",
       "</table>\n",
       "</div>"
      ],
      "text/plain": [
       "   children  days_employed  dob_years  education_id  family_status_id gender  \\\n",
       "0         1    8437.673028         42             0                 0      f   \n",
       "1         1    4024.803754         36             1                 0      f   \n",
       "2         0    5623.422610         33             1                 0      m   \n",
       "3         3    4124.747207         32             1                 0      m   \n",
       "4         0  340266.072047         53             1                 1      f   \n",
       "\n",
       "  income_type  debt  total_income                           purpose  \n",
       "0   сотрудник     0        253875          операции с недвижимостью  \n",
       "1   сотрудник     0        112080           приобретение автомобиля  \n",
       "2   сотрудник     0        145885          операции с недвижимостью  \n",
       "3   сотрудник     0        267628                       образование  \n",
       "4   пенсионер     0        158616  проведение мероприятия (свадьба)  "
      ]
     },
     "execution_count": 20,
     "metadata": {},
     "output_type": "execute_result"
    }
   ],
   "source": [
    "# создание нового датафрейма без двух столбцов\n",
    "df = df[['children','days_employed', 'dob_years', 'education_id', 'family_status_id', 'gender', 'income_type',\n",
    "          'debt', 'total_income', 'purpose']]\n",
    "df.head()"
   ]
  },
  {
   "cell_type": "markdown",
   "id": "389185d8",
   "metadata": {},
   "source": [
    "###  Категоризация дохода"
   ]
  },
  {
   "cell_type": "markdown",
   "id": "ac484e69",
   "metadata": {},
   "source": [
    "Для удобства анализа разобъем Клиентов на категории в зависимости от дохода:\n",
    "\n",
    "* 0–30000 — 'E';\n",
    "* 30001–50000 — 'D';\n",
    "* 50001–200000 — 'C';\n",
    "* 200001–1000000 — 'B';\n",
    "* 1000001 и выше — 'A'.\n",
    "\n",
    "Для этого напишем фунцию с заданными условиями."
   ]
  },
  {
   "cell_type": "code",
   "execution_count": 21,
   "id": "b2dfcba9",
   "metadata": {},
   "outputs": [],
   "source": [
    "def income__category(income):\n",
    "    if income <= 30000:\n",
    "        return 'E'\n",
    "    if income <= 50000:\n",
    "        return 'D'\n",
    "    if income <= 200000:\n",
    "        return 'C'\n",
    "    if income <= 1000000:\n",
    "        return 'B'\n",
    "    return 'A'"
   ]
  },
  {
   "cell_type": "markdown",
   "id": "7e42114e",
   "metadata": {},
   "source": [
    "Протестируем работу функции для каждого правила. Проверим, в какую категорию попадёт Клиент при значениях дохода:\n",
    "\n",
    "* 25000\n",
    "* 48000\n",
    "* 62000\n",
    "* 204000\n",
    "* 1100000"
   ]
  },
  {
   "cell_type": "code",
   "execution_count": 22,
   "id": "0b9a2386",
   "metadata": {},
   "outputs": [
    {
     "name": "stdout",
     "output_type": "stream",
     "text": [
      "E\n",
      "D\n",
      "C\n",
      "B\n",
      "A\n"
     ]
    }
   ],
   "source": [
    "print(income__category(25000))\n",
    "print(income__category(48000))\n",
    "print(income__category(62000))\n",
    "print(income__category(204000))\n",
    "print(income__category(1100000))"
   ]
  },
  {
   "cell_type": "markdown",
   "id": "9653d75d",
   "metadata": {},
   "source": [
    "Функция работает корректно. Теперь создадим отдельный столбец с категориями в зависимости от дохода, и в его ячейках запишем значения, возвращаемые функцией."
   ]
  },
  {
   "cell_type": "code",
   "execution_count": 23,
   "id": "b69ad433",
   "metadata": {},
   "outputs": [
    {
     "data": {
      "text/html": [
       "<div>\n",
       "<style scoped>\n",
       "    .dataframe tbody tr th:only-of-type {\n",
       "        vertical-align: middle;\n",
       "    }\n",
       "\n",
       "    .dataframe tbody tr th {\n",
       "        vertical-align: top;\n",
       "    }\n",
       "\n",
       "    .dataframe thead th {\n",
       "        text-align: right;\n",
       "    }\n",
       "</style>\n",
       "<table border=\"1\" class=\"dataframe\">\n",
       "  <thead>\n",
       "    <tr style=\"text-align: right;\">\n",
       "      <th></th>\n",
       "      <th>children</th>\n",
       "      <th>days_employed</th>\n",
       "      <th>dob_years</th>\n",
       "      <th>education_id</th>\n",
       "      <th>family_status_id</th>\n",
       "      <th>gender</th>\n",
       "      <th>income_type</th>\n",
       "      <th>debt</th>\n",
       "      <th>total_income</th>\n",
       "      <th>purpose</th>\n",
       "      <th>total_income_category</th>\n",
       "    </tr>\n",
       "  </thead>\n",
       "  <tbody>\n",
       "    <tr>\n",
       "      <th>0</th>\n",
       "      <td>1</td>\n",
       "      <td>8437.673028</td>\n",
       "      <td>42</td>\n",
       "      <td>0</td>\n",
       "      <td>0</td>\n",
       "      <td>f</td>\n",
       "      <td>сотрудник</td>\n",
       "      <td>0</td>\n",
       "      <td>253875</td>\n",
       "      <td>операции с недвижимостью</td>\n",
       "      <td>B</td>\n",
       "    </tr>\n",
       "    <tr>\n",
       "      <th>1</th>\n",
       "      <td>1</td>\n",
       "      <td>4024.803754</td>\n",
       "      <td>36</td>\n",
       "      <td>1</td>\n",
       "      <td>0</td>\n",
       "      <td>f</td>\n",
       "      <td>сотрудник</td>\n",
       "      <td>0</td>\n",
       "      <td>112080</td>\n",
       "      <td>приобретение автомобиля</td>\n",
       "      <td>C</td>\n",
       "    </tr>\n",
       "    <tr>\n",
       "      <th>2</th>\n",
       "      <td>0</td>\n",
       "      <td>5623.422610</td>\n",
       "      <td>33</td>\n",
       "      <td>1</td>\n",
       "      <td>0</td>\n",
       "      <td>m</td>\n",
       "      <td>сотрудник</td>\n",
       "      <td>0</td>\n",
       "      <td>145885</td>\n",
       "      <td>операции с недвижимостью</td>\n",
       "      <td>C</td>\n",
       "    </tr>\n",
       "    <tr>\n",
       "      <th>3</th>\n",
       "      <td>3</td>\n",
       "      <td>4124.747207</td>\n",
       "      <td>32</td>\n",
       "      <td>1</td>\n",
       "      <td>0</td>\n",
       "      <td>m</td>\n",
       "      <td>сотрудник</td>\n",
       "      <td>0</td>\n",
       "      <td>267628</td>\n",
       "      <td>образование</td>\n",
       "      <td>B</td>\n",
       "    </tr>\n",
       "    <tr>\n",
       "      <th>4</th>\n",
       "      <td>0</td>\n",
       "      <td>340266.072047</td>\n",
       "      <td>53</td>\n",
       "      <td>1</td>\n",
       "      <td>1</td>\n",
       "      <td>f</td>\n",
       "      <td>пенсионер</td>\n",
       "      <td>0</td>\n",
       "      <td>158616</td>\n",
       "      <td>проведение мероприятия (свадьба)</td>\n",
       "      <td>C</td>\n",
       "    </tr>\n",
       "    <tr>\n",
       "      <th>5</th>\n",
       "      <td>0</td>\n",
       "      <td>926.185831</td>\n",
       "      <td>27</td>\n",
       "      <td>0</td>\n",
       "      <td>1</td>\n",
       "      <td>m</td>\n",
       "      <td>компаньон</td>\n",
       "      <td>0</td>\n",
       "      <td>255763</td>\n",
       "      <td>операции с недвижимостью</td>\n",
       "      <td>B</td>\n",
       "    </tr>\n",
       "    <tr>\n",
       "      <th>6</th>\n",
       "      <td>0</td>\n",
       "      <td>2879.202052</td>\n",
       "      <td>43</td>\n",
       "      <td>0</td>\n",
       "      <td>0</td>\n",
       "      <td>f</td>\n",
       "      <td>компаньон</td>\n",
       "      <td>0</td>\n",
       "      <td>240525</td>\n",
       "      <td>операции с недвижимостью</td>\n",
       "      <td>B</td>\n",
       "    </tr>\n",
       "    <tr>\n",
       "      <th>7</th>\n",
       "      <td>0</td>\n",
       "      <td>152.779569</td>\n",
       "      <td>50</td>\n",
       "      <td>1</td>\n",
       "      <td>0</td>\n",
       "      <td>m</td>\n",
       "      <td>сотрудник</td>\n",
       "      <td>0</td>\n",
       "      <td>135823</td>\n",
       "      <td>образование</td>\n",
       "      <td>C</td>\n",
       "    </tr>\n",
       "    <tr>\n",
       "      <th>8</th>\n",
       "      <td>2</td>\n",
       "      <td>6929.865299</td>\n",
       "      <td>35</td>\n",
       "      <td>0</td>\n",
       "      <td>1</td>\n",
       "      <td>f</td>\n",
       "      <td>сотрудник</td>\n",
       "      <td>0</td>\n",
       "      <td>95856</td>\n",
       "      <td>проведение мероприятия (свадьба)</td>\n",
       "      <td>C</td>\n",
       "    </tr>\n",
       "    <tr>\n",
       "      <th>9</th>\n",
       "      <td>0</td>\n",
       "      <td>2188.756445</td>\n",
       "      <td>41</td>\n",
       "      <td>1</td>\n",
       "      <td>0</td>\n",
       "      <td>m</td>\n",
       "      <td>сотрудник</td>\n",
       "      <td>0</td>\n",
       "      <td>144425</td>\n",
       "      <td>операции с недвижимостью</td>\n",
       "      <td>C</td>\n",
       "    </tr>\n",
       "  </tbody>\n",
       "</table>\n",
       "</div>"
      ],
      "text/plain": [
       "   children  days_employed  dob_years  education_id  family_status_id gender  \\\n",
       "0         1    8437.673028         42             0                 0      f   \n",
       "1         1    4024.803754         36             1                 0      f   \n",
       "2         0    5623.422610         33             1                 0      m   \n",
       "3         3    4124.747207         32             1                 0      m   \n",
       "4         0  340266.072047         53             1                 1      f   \n",
       "5         0     926.185831         27             0                 1      m   \n",
       "6         0    2879.202052         43             0                 0      f   \n",
       "7         0     152.779569         50             1                 0      m   \n",
       "8         2    6929.865299         35             0                 1      f   \n",
       "9         0    2188.756445         41             1                 0      m   \n",
       "\n",
       "  income_type  debt  total_income                           purpose  \\\n",
       "0   сотрудник     0        253875          операции с недвижимостью   \n",
       "1   сотрудник     0        112080           приобретение автомобиля   \n",
       "2   сотрудник     0        145885          операции с недвижимостью   \n",
       "3   сотрудник     0        267628                       образование   \n",
       "4   пенсионер     0        158616  проведение мероприятия (свадьба)   \n",
       "5   компаньон     0        255763          операции с недвижимостью   \n",
       "6   компаньон     0        240525          операции с недвижимостью   \n",
       "7   сотрудник     0        135823                       образование   \n",
       "8   сотрудник     0         95856  проведение мероприятия (свадьба)   \n",
       "9   сотрудник     0        144425          операции с недвижимостью   \n",
       "\n",
       "  total_income_category  \n",
       "0                     B  \n",
       "1                     C  \n",
       "2                     C  \n",
       "3                     B  \n",
       "4                     C  \n",
       "5                     B  \n",
       "6                     B  \n",
       "7                     C  \n",
       "8                     C  \n",
       "9                     C  "
      ]
     },
     "execution_count": 23,
     "metadata": {},
     "output_type": "execute_result"
    }
   ],
   "source": [
    "df['total_income_category'] = df['total_income'].apply(income__category)\n",
    "df.head(10)"
   ]
  },
  {
   "cell_type": "markdown",
   "id": "5e306deb",
   "metadata": {},
   "source": [
    "## Проверка гипотез"
   ]
  },
  {
   "cell_type": "markdown",
   "id": "8dc78d44",
   "metadata": {},
   "source": [
    "### Влияние семейного положения Клиента на факт погашения кредита в срок\n"
   ]
  },
  {
   "cell_type": "markdown",
   "id": "53bd9283",
   "metadata": {},
   "source": [
    "Соберем данные по возвращаемости кредита в зависимости от семейного положения"
   ]
  },
  {
   "cell_type": "code",
   "execution_count": 24,
   "id": "c0076b27",
   "metadata": {},
   "outputs": [
    {
     "data": {
      "text/plain": [
       "family_status_id\n",
       "0    929\n",
       "1    388\n",
       "2     63\n",
       "3     85\n",
       "4    274\n",
       "Name: debt, dtype: int64"
      ]
     },
     "execution_count": 24,
     "metadata": {},
     "output_type": "execute_result"
    }
   ],
   "source": [
    "# выводим данные по Клиентам, у которых была задолженность по кредиту и группируем по id семейного положения\n",
    "is_debt = df[df['debt'] == 1]\n",
    "is_debt.groupby('family_status_id')['debt'].sum()"
   ]
  },
  {
   "cell_type": "code",
   "execution_count": 25,
   "id": "a40492b3",
   "metadata": {},
   "outputs": [
    {
     "data": {
      "text/plain": [
       "family_status          family_status_id\n",
       "женат / замужем        0                   12076\n",
       "гражданский брак       1                    4124\n",
       "не женат / не замужем  4                    2784\n",
       "в разводе              3                    1193\n",
       "вдовец / вдова         2                     943\n",
       "dtype: int64"
      ]
     },
     "execution_count": 25,
     "metadata": {},
     "output_type": "execute_result"
    }
   ],
   "source": [
    "family_status_dict.value_counts()"
   ]
  },
  {
   "cell_type": "markdown",
   "id": "5aff4c18",
   "metadata": {},
   "source": [
    "#### Вывод:"
   ]
  },
  {
   "cell_type": "markdown",
   "id": "71da1e99",
   "metadata": {},
   "source": [
    "<div style=\"border:solid green 1px; padding: 10px\">\n",
    "\n",
    "Чаще всего задолженность по погашению кредита встречается в категории `женат / замужем` семейнонго положения (929 случаев) и реже всего в категории `вдовец / вдова` (всего 63 случая), что может говорить о том, что семейное положение влияет на факт возврата кредита в срок."
   ]
  },
  {
   "cell_type": "markdown",
   "id": "df1e6534",
   "metadata": {},
   "source": [
    "### Влияние количества детей Клиента на факт погашения кредита в срок"
   ]
  },
  {
   "cell_type": "markdown",
   "id": "7416b8a5",
   "metadata": {},
   "source": [
    "Соберем данные по возвращаемости кредита в зависимости от количества детей"
   ]
  },
  {
   "cell_type": "code",
   "execution_count": 26,
   "id": "f8525d97",
   "metadata": {},
   "outputs": [
    {
     "data": {
      "text/html": [
       "<div>\n",
       "<style scoped>\n",
       "    .dataframe tbody tr th:only-of-type {\n",
       "        vertical-align: middle;\n",
       "    }\n",
       "\n",
       "    .dataframe tbody tr th {\n",
       "        vertical-align: top;\n",
       "    }\n",
       "\n",
       "    .dataframe thead th {\n",
       "        text-align: right;\n",
       "    }\n",
       "</style>\n",
       "<table border=\"1\" class=\"dataframe\">\n",
       "  <thead>\n",
       "    <tr style=\"text-align: right;\">\n",
       "      <th></th>\n",
       "      <th>debt</th>\n",
       "    </tr>\n",
       "    <tr>\n",
       "      <th>children</th>\n",
       "      <th></th>\n",
       "    </tr>\n",
       "  </thead>\n",
       "  <tbody>\n",
       "    <tr>\n",
       "      <th>0</th>\n",
       "      <td>1061</td>\n",
       "    </tr>\n",
       "    <tr>\n",
       "      <th>1</th>\n",
       "      <td>445</td>\n",
       "    </tr>\n",
       "    <tr>\n",
       "      <th>2</th>\n",
       "      <td>202</td>\n",
       "    </tr>\n",
       "    <tr>\n",
       "      <th>3</th>\n",
       "      <td>27</td>\n",
       "    </tr>\n",
       "    <tr>\n",
       "      <th>4</th>\n",
       "      <td>4</td>\n",
       "    </tr>\n",
       "  </tbody>\n",
       "</table>\n",
       "</div>"
      ],
      "text/plain": [
       "          debt\n",
       "children      \n",
       "0         1061\n",
       "1          445\n",
       "2          202\n",
       "3           27\n",
       "4            4"
      ]
     },
     "execution_count": 26,
     "metadata": {},
     "output_type": "execute_result"
    }
   ],
   "source": [
    "is_debt.pivot_table(index=\"children\", values=\"debt\", aggfunc='sum')"
   ]
  },
  {
   "cell_type": "markdown",
   "id": "1a4c50f4",
   "metadata": {},
   "source": [
    "#### Вывод:"
   ]
  },
  {
   "cell_type": "markdown",
   "id": "729c9a84",
   "metadata": {},
   "source": [
    "<div style=\"border:solid green 1px; padding: 10px\">\n",
    "\n",
    "Чем меньше детей у Клиента, тем чаще он не возвращает кредит в срок: при полном отсутствии детей 1061 случай невозврата, а при 5 детях нет ни одного случая образования задолженности."
   ]
  },
  {
   "cell_type": "markdown",
   "id": "68c761a8",
   "metadata": {},
   "source": [
    "### Влияние уровня дохода Клиента на факт погашения кредита в срок"
   ]
  },
  {
   "cell_type": "markdown",
   "id": "c28748f2",
   "metadata": {},
   "source": [
    "Соберем данные по возвращаемости кредита в зависимости от уровня дохода"
   ]
  },
  {
   "cell_type": "code",
   "execution_count": 27,
   "id": "a45f4923",
   "metadata": {},
   "outputs": [
    {
     "data": {
      "text/html": [
       "<div>\n",
       "<style scoped>\n",
       "    .dataframe tbody tr th:only-of-type {\n",
       "        vertical-align: middle;\n",
       "    }\n",
       "\n",
       "    .dataframe tbody tr th {\n",
       "        vertical-align: top;\n",
       "    }\n",
       "\n",
       "    .dataframe thead th {\n",
       "        text-align: right;\n",
       "    }\n",
       "</style>\n",
       "<table border=\"1\" class=\"dataframe\">\n",
       "  <thead>\n",
       "    <tr style=\"text-align: right;\">\n",
       "      <th></th>\n",
       "      <th>debt</th>\n",
       "    </tr>\n",
       "    <tr>\n",
       "      <th>total_income_category</th>\n",
       "      <th></th>\n",
       "    </tr>\n",
       "  </thead>\n",
       "  <tbody>\n",
       "    <tr>\n",
       "      <th>A</th>\n",
       "      <td>2</td>\n",
       "    </tr>\n",
       "    <tr>\n",
       "      <th>B</th>\n",
       "      <td>356</td>\n",
       "    </tr>\n",
       "    <tr>\n",
       "      <th>C</th>\n",
       "      <td>1358</td>\n",
       "    </tr>\n",
       "    <tr>\n",
       "      <th>D</th>\n",
       "      <td>21</td>\n",
       "    </tr>\n",
       "    <tr>\n",
       "      <th>E</th>\n",
       "      <td>2</td>\n",
       "    </tr>\n",
       "  </tbody>\n",
       "</table>\n",
       "</div>"
      ],
      "text/plain": [
       "                       debt\n",
       "total_income_category      \n",
       "A                         2\n",
       "B                       356\n",
       "C                      1358\n",
       "D                        21\n",
       "E                         2"
      ]
     },
     "execution_count": 27,
     "metadata": {},
     "output_type": "execute_result"
    }
   ],
   "source": [
    "is_debt.pivot_table(index=\"total_income_category\", values=\"debt\", aggfunc='count')"
   ]
  },
  {
   "cell_type": "markdown",
   "id": "7ebcbccc",
   "metadata": {},
   "source": [
    "#### Вывод:"
   ]
  },
  {
   "cell_type": "markdown",
   "id": "037e3530",
   "metadata": {},
   "source": [
    "<div style=\"border:solid green 1px; padding: 10px\">\n",
    "Самая невозвратная категория здесь - это люди с доходом от 200 000 до 1 000 000, вторая по невозвратности - это люди, доход которых составляет от 50 000 до 200 000."
   ]
  },
  {
   "cell_type": "markdown",
   "id": "0add4b9e",
   "metadata": {},
   "source": [
    "### Влияние цели кредита на факт погашения в срок"
   ]
  },
  {
   "cell_type": "markdown",
   "id": "5149db50",
   "metadata": {},
   "source": [
    "Соберем данные по возвращаемости кредита в зависимости от его цели"
   ]
  },
  {
   "cell_type": "code",
   "execution_count": 28,
   "id": "b1487a50",
   "metadata": {},
   "outputs": [
    {
     "data": {
      "text/html": [
       "<div>\n",
       "<style scoped>\n",
       "    .dataframe tbody tr th:only-of-type {\n",
       "        vertical-align: middle;\n",
       "    }\n",
       "\n",
       "    .dataframe tbody tr th {\n",
       "        vertical-align: top;\n",
       "    }\n",
       "\n",
       "    .dataframe thead th {\n",
       "        text-align: right;\n",
       "    }\n",
       "</style>\n",
       "<table border=\"1\" class=\"dataframe\">\n",
       "  <thead>\n",
       "    <tr style=\"text-align: right;\">\n",
       "      <th></th>\n",
       "      <th>debt</th>\n",
       "    </tr>\n",
       "    <tr>\n",
       "      <th>purpose</th>\n",
       "      <th></th>\n",
       "    </tr>\n",
       "  </thead>\n",
       "  <tbody>\n",
       "    <tr>\n",
       "      <th>образование</th>\n",
       "      <td>370</td>\n",
       "    </tr>\n",
       "    <tr>\n",
       "      <th>операции с недвижимостью</th>\n",
       "      <td>781</td>\n",
       "    </tr>\n",
       "    <tr>\n",
       "      <th>приобретение автомобиля</th>\n",
       "      <td>402</td>\n",
       "    </tr>\n",
       "    <tr>\n",
       "      <th>проведение мероприятия (свадьба)</th>\n",
       "      <td>186</td>\n",
       "    </tr>\n",
       "  </tbody>\n",
       "</table>\n",
       "</div>"
      ],
      "text/plain": [
       "                                  debt\n",
       "purpose                               \n",
       "образование                        370\n",
       "операции с недвижимостью           781\n",
       "приобретение автомобиля            402\n",
       "проведение мероприятия (свадьба)   186"
      ]
     },
     "execution_count": 28,
     "metadata": {},
     "output_type": "execute_result"
    }
   ],
   "source": [
    "is_debt.pivot_table(index=\"purpose\", values=\"debt\", aggfunc='count')"
   ]
  },
  {
   "cell_type": "markdown",
   "id": "5e33c965",
   "metadata": {},
   "source": [
    "#### Вывод:"
   ]
  },
  {
   "cell_type": "markdown",
   "id": "81ef2ea4",
   "metadata": {},
   "source": [
    "<div style=\"border:solid green 1px; padding: 10px\">\n",
    "\n",
    "Кредиты под сделки с недвижимостью имеют большее количество просрочек, чем остальные. Реже всего не гасят в срок поженившиеся Клиенты."
   ]
  },
  {
   "cell_type": "markdown",
   "id": "35653b22",
   "metadata": {},
   "source": [
    "## Общий вывод:"
   ]
  },
  {
   "cell_type": "markdown",
   "id": "9eb4a3a3",
   "metadata": {},
   "source": [
    "<div style=\"border:solid green 2px; padding: 20px\">\n",
    "\n",
    "В нашем распоряжении были данные Банка о заемщиках. В каждой строке таблицы — данные о конкретном Клиенте Банка, взявшем кредит. Часть колонок содержит информацию о самом Клиенте (количество детей, стаж работы, возраст и т.д.). Остальные данные рассказывают о взятом кредите (задолженность по кредиту, цель получения, ежемесячный доход). \n",
    "    \n",
    "По заказу кредитного отдела Банка мы проверили влияет ли на факт погашения кредита в срок:\n",
    "\n",
    "1. Семейное положение Клиента:\n",
    "Чаще всего задолженность по погашению кредита встречается в категории `женат` / `замужем` семейнонго положения (929 случаев) и реже всего в категории `вдовец` / `вдова` (всего 63 случая), что может говорить о том, что семейное положение влияет на факт возврата кредита в срок.\n",
    " \n",
    "2. Количество детей Клиента:\n",
    "Чем меньше детей у Клиента, тем чаще он не возвращает кредит в срок: при полном отсутствии детей 1061 случай невозврата, а при 5 детях нет ни одного случая образования задолженности.   \n",
    "    \n",
    "3. Уpовень дохода Клиента:\n",
    "Самая невозвратная категория - это люди с доходом от 200 000 до 1 000 000, вторая по невозвратности - это люди, доход которых составляет от 50 000 до 200 000.   \n",
    "\n",
    "4. Разные цели кредита:\n",
    "Кредиты под `сделки с недвижимостью` имеют большее количество просрочек, чем остальные. Реже всего не гасят в срок `поженившиеся` Клиенты.    \n",
    "     \n",
    "**Таким образом** при формировании модели кредитного скоринга стоит учесть, что:\n",
    "* состоящим в официальном браке людям тяжелей гасить кредит во время; \n",
    "* дети положительно влияют на родителей и те производят выплаты кредитов в положенное время;\n",
    "* самые \"богатые\" и самые \"бедные\" являются и самыми добросовестными кредитоплательщиками;\n",
    "* от цели кредита зависит его вовзрат в срок, так взятые кредиты на недвижимость вовращаются хуже.    "
   ]
  }
 ],
 "metadata": {
  "ExecuteTimeLog": [
   {
    "duration": 1205,
    "start_time": "2022-05-18T12:01:36.294Z"
   },
   {
    "duration": 96,
    "start_time": "2022-05-18T12:01:42.185Z"
   },
   {
    "duration": 83,
    "start_time": "2022-05-18T12:01:59.187Z"
   },
   {
    "duration": 14,
    "start_time": "2022-05-18T12:03:25.849Z"
   },
   {
    "duration": 338,
    "start_time": "2022-05-18T12:22:10.851Z"
   },
   {
    "duration": 55,
    "start_time": "2022-05-18T12:22:13.974Z"
   },
   {
    "duration": 7,
    "start_time": "2022-05-18T12:25:43.940Z"
   },
   {
    "duration": 6,
    "start_time": "2022-05-18T12:25:51.679Z"
   },
   {
    "duration": 24,
    "start_time": "2022-05-18T12:27:56.410Z"
   },
   {
    "duration": 36,
    "start_time": "2022-05-18T12:28:41.612Z"
   },
   {
    "duration": 8,
    "start_time": "2022-05-18T12:28:54.956Z"
   },
   {
    "duration": 11,
    "start_time": "2022-05-18T12:32:47.470Z"
   },
   {
    "duration": 85,
    "start_time": "2022-05-18T12:33:03.175Z"
   },
   {
    "duration": 17,
    "start_time": "2022-05-18T12:33:06.099Z"
   },
   {
    "duration": 14,
    "start_time": "2022-05-18T12:33:08.811Z"
   },
   {
    "duration": 8,
    "start_time": "2022-05-18T12:39:47.834Z"
   },
   {
    "duration": 7,
    "start_time": "2022-05-18T12:40:25.330Z"
   },
   {
    "duration": 94,
    "start_time": "2022-05-18T12:42:46.682Z"
   },
   {
    "duration": 381,
    "start_time": "2022-05-18T12:43:09.774Z"
   },
   {
    "duration": 10,
    "start_time": "2022-05-18T12:43:38.589Z"
   },
   {
    "duration": 8,
    "start_time": "2022-05-18T12:43:49.639Z"
   },
   {
    "duration": 12,
    "start_time": "2022-05-18T12:44:05.239Z"
   },
   {
    "duration": 9,
    "start_time": "2022-05-18T12:46:11.034Z"
   },
   {
    "duration": 7,
    "start_time": "2022-05-18T12:46:21.587Z"
   },
   {
    "duration": 65,
    "start_time": "2022-05-18T12:46:42.500Z"
   },
   {
    "duration": 5,
    "start_time": "2022-05-18T12:46:48.071Z"
   },
   {
    "duration": 5,
    "start_time": "2022-05-18T12:46:52.047Z"
   },
   {
    "duration": 11,
    "start_time": "2022-05-18T12:47:56.174Z"
   },
   {
    "duration": 8,
    "start_time": "2022-05-18T12:49:24.153Z"
   },
   {
    "duration": 11,
    "start_time": "2022-05-18T12:49:36.302Z"
   },
   {
    "duration": 12,
    "start_time": "2022-05-18T12:49:54.235Z"
   },
   {
    "duration": 9,
    "start_time": "2022-05-18T12:50:41.473Z"
   },
   {
    "duration": 8,
    "start_time": "2022-05-18T12:50:50.040Z"
   },
   {
    "duration": 12,
    "start_time": "2022-05-18T12:52:24.841Z"
   },
   {
    "duration": 9,
    "start_time": "2022-05-18T12:52:29.447Z"
   },
   {
    "duration": 8,
    "start_time": "2022-05-18T12:52:40.675Z"
   },
   {
    "duration": 7,
    "start_time": "2022-05-18T12:53:58.661Z"
   },
   {
    "duration": 5,
    "start_time": "2022-05-18T12:54:04.191Z"
   },
   {
    "duration": 7,
    "start_time": "2022-05-18T12:54:47.049Z"
   },
   {
    "duration": 16,
    "start_time": "2022-05-18T12:55:11.434Z"
   },
   {
    "duration": 9,
    "start_time": "2022-05-18T12:55:27.263Z"
   },
   {
    "duration": 10,
    "start_time": "2022-05-18T12:55:31.794Z"
   },
   {
    "duration": 839,
    "start_time": "2022-05-18T12:55:48.543Z"
   },
   {
    "duration": 1108,
    "start_time": "2022-05-18T12:55:58.962Z"
   },
   {
    "duration": 4,
    "start_time": "2022-05-18T12:56:05.846Z"
   },
   {
    "duration": 8,
    "start_time": "2022-05-18T12:56:14.857Z"
   },
   {
    "duration": 978,
    "start_time": "2022-05-18T12:56:23.511Z"
   },
   {
    "duration": 4,
    "start_time": "2022-05-18T12:56:29.181Z"
   },
   {
    "duration": 4,
    "start_time": "2022-05-18T12:56:46.154Z"
   },
   {
    "duration": 4,
    "start_time": "2022-05-18T12:58:07.946Z"
   },
   {
    "duration": 7,
    "start_time": "2022-05-18T12:58:13.273Z"
   },
   {
    "duration": 6,
    "start_time": "2022-05-18T12:59:07.361Z"
   },
   {
    "duration": 5,
    "start_time": "2022-05-18T12:59:24.790Z"
   },
   {
    "duration": 8,
    "start_time": "2022-05-18T13:03:48.256Z"
   },
   {
    "duration": 11,
    "start_time": "2022-05-18T13:05:04.443Z"
   },
   {
    "duration": 7,
    "start_time": "2022-05-18T13:14:14.592Z"
   },
   {
    "duration": 9,
    "start_time": "2022-05-18T13:17:49.649Z"
   },
   {
    "duration": 51,
    "start_time": "2022-05-18T13:34:58.488Z"
   },
   {
    "duration": 0,
    "start_time": "2022-05-18T13:35:15.318Z"
   },
   {
    "duration": 30,
    "start_time": "2022-05-18T13:35:23.938Z"
   },
   {
    "duration": 22,
    "start_time": "2022-05-18T13:35:38.540Z"
   },
   {
    "duration": 8,
    "start_time": "2022-05-18T13:35:55.682Z"
   },
   {
    "duration": 8,
    "start_time": "2022-05-18T13:37:05.659Z"
   },
   {
    "duration": 10,
    "start_time": "2022-05-18T13:37:16.851Z"
   },
   {
    "duration": 9,
    "start_time": "2022-05-18T13:37:28.745Z"
   },
   {
    "duration": 9,
    "start_time": "2022-05-18T13:39:35.377Z"
   },
   {
    "duration": 9,
    "start_time": "2022-05-18T13:39:42.658Z"
   },
   {
    "duration": 24,
    "start_time": "2022-05-18T13:40:55.437Z"
   },
   {
    "duration": 13,
    "start_time": "2022-05-18T13:41:20.538Z"
   },
   {
    "duration": 23,
    "start_time": "2022-05-18T13:41:26.334Z"
   },
   {
    "duration": 13,
    "start_time": "2022-05-18T13:41:45.194Z"
   },
   {
    "duration": 21,
    "start_time": "2022-05-18T13:41:50.605Z"
   },
   {
    "duration": 30,
    "start_time": "2022-05-18T13:42:07.197Z"
   },
   {
    "duration": 24,
    "start_time": "2022-05-18T13:42:26.158Z"
   },
   {
    "duration": 20,
    "start_time": "2022-05-18T13:42:58.939Z"
   },
   {
    "duration": 12,
    "start_time": "2022-05-18T13:43:08.089Z"
   },
   {
    "duration": 4,
    "start_time": "2022-05-18T13:43:28.728Z"
   },
   {
    "duration": 4,
    "start_time": "2022-05-18T13:43:39.030Z"
   },
   {
    "duration": 3,
    "start_time": "2022-05-18T13:43:50.478Z"
   },
   {
    "duration": 154,
    "start_time": "2022-05-18T13:47:26.218Z"
   },
   {
    "duration": 156,
    "start_time": "2022-05-18T13:47:43.421Z"
   },
   {
    "duration": 9,
    "start_time": "2022-05-18T13:48:10.634Z"
   },
   {
    "duration": 15,
    "start_time": "2022-05-18T13:48:44.141Z"
   },
   {
    "duration": 11,
    "start_time": "2022-05-18T13:49:05.733Z"
   },
   {
    "duration": 33,
    "start_time": "2022-05-18T13:49:30.930Z"
   },
   {
    "duration": 8,
    "start_time": "2022-05-18T14:08:53.690Z"
   },
   {
    "duration": 12,
    "start_time": "2022-05-18T14:09:19.444Z"
   },
   {
    "duration": 7,
    "start_time": "2022-05-18T14:09:29.532Z"
   },
   {
    "duration": 10,
    "start_time": "2022-05-18T14:09:32.926Z"
   },
   {
    "duration": 85,
    "start_time": "2022-05-18T14:09:47.348Z"
   },
   {
    "duration": 15,
    "start_time": "2022-05-18T14:09:49.784Z"
   },
   {
    "duration": 14,
    "start_time": "2022-05-18T14:09:58.771Z"
   },
   {
    "duration": 8,
    "start_time": "2022-05-18T14:10:01.374Z"
   },
   {
    "duration": 8,
    "start_time": "2022-05-18T14:10:04.899Z"
   },
   {
    "duration": 14,
    "start_time": "2022-05-18T14:10:08.558Z"
   },
   {
    "duration": 45,
    "start_time": "2022-05-18T14:10:20.187Z"
   },
   {
    "duration": 14,
    "start_time": "2022-05-18T14:10:26.238Z"
   },
   {
    "duration": 7,
    "start_time": "2022-05-18T14:11:25.280Z"
   },
   {
    "duration": 10,
    "start_time": "2022-05-18T14:12:39.940Z"
   },
   {
    "duration": 22,
    "start_time": "2022-05-18T14:12:53.424Z"
   },
   {
    "duration": 9,
    "start_time": "2022-05-18T14:13:11.177Z"
   },
   {
    "duration": 7,
    "start_time": "2022-05-18T14:13:30.767Z"
   },
   {
    "duration": 24,
    "start_time": "2022-05-18T14:13:35.675Z"
   },
   {
    "duration": 15,
    "start_time": "2022-05-18T14:14:06.386Z"
   },
   {
    "duration": 14,
    "start_time": "2022-05-18T14:15:15.303Z"
   },
   {
    "duration": 23,
    "start_time": "2022-05-18T14:17:29.452Z"
   },
   {
    "duration": 14,
    "start_time": "2022-05-18T14:17:48.078Z"
   },
   {
    "duration": 105,
    "start_time": "2022-05-18T14:20:21.253Z"
   },
   {
    "duration": 15,
    "start_time": "2022-05-18T14:20:21.362Z"
   },
   {
    "duration": 27,
    "start_time": "2022-05-18T14:20:21.379Z"
   },
   {
    "duration": 25,
    "start_time": "2022-05-18T14:20:21.409Z"
   },
   {
    "duration": 56,
    "start_time": "2022-05-18T14:20:21.436Z"
   },
   {
    "duration": 68,
    "start_time": "2022-05-18T14:20:21.494Z"
   },
   {
    "duration": 35,
    "start_time": "2022-05-18T14:24:31.810Z"
   },
   {
    "duration": 16,
    "start_time": "2022-05-18T14:27:46.455Z"
   },
   {
    "duration": 15,
    "start_time": "2022-05-18T14:27:54.046Z"
   },
   {
    "duration": 23,
    "start_time": "2022-05-18T14:28:00.139Z"
   },
   {
    "duration": 28,
    "start_time": "2022-05-18T14:28:21.004Z"
   },
   {
    "duration": 63,
    "start_time": "2022-05-18T14:31:28.188Z"
   },
   {
    "duration": 24,
    "start_time": "2022-05-18T14:31:43.806Z"
   },
   {
    "duration": 74,
    "start_time": "2022-05-19T06:49:06.135Z"
   },
   {
    "duration": 59,
    "start_time": "2022-05-19T06:49:28.515Z"
   },
   {
    "duration": 47,
    "start_time": "2022-05-19T06:49:36.801Z"
   },
   {
    "duration": 40,
    "start_time": "2022-05-19T06:49:39.166Z"
   },
   {
    "duration": 41,
    "start_time": "2022-05-19T06:49:46.901Z"
   },
   {
    "duration": 52,
    "start_time": "2022-05-19T06:54:23.820Z"
   },
   {
    "duration": 966,
    "start_time": "2022-05-19T06:54:39.612Z"
   },
   {
    "duration": 26,
    "start_time": "2022-05-19T06:54:40.581Z"
   },
   {
    "duration": 14,
    "start_time": "2022-05-19T06:54:40.609Z"
   },
   {
    "duration": 10,
    "start_time": "2022-05-19T06:54:40.627Z"
   },
   {
    "duration": 10,
    "start_time": "2022-05-19T06:54:40.640Z"
   },
   {
    "duration": 43,
    "start_time": "2022-05-19T06:54:40.652Z"
   },
   {
    "duration": 22,
    "start_time": "2022-05-19T06:54:40.697Z"
   },
   {
    "duration": 33,
    "start_time": "2022-05-19T06:54:40.721Z"
   },
   {
    "duration": 8,
    "start_time": "2022-05-19T06:54:46.048Z"
   },
   {
    "duration": 13,
    "start_time": "2022-05-19T07:00:00.697Z"
   },
   {
    "duration": 18,
    "start_time": "2022-05-19T07:02:44.972Z"
   },
   {
    "duration": 8,
    "start_time": "2022-05-19T07:03:18.637Z"
   },
   {
    "duration": 43,
    "start_time": "2022-05-19T07:03:27.851Z"
   },
   {
    "duration": 39,
    "start_time": "2022-05-19T07:04:06.818Z"
   },
   {
    "duration": 28,
    "start_time": "2022-05-19T07:04:34.099Z"
   },
   {
    "duration": 51,
    "start_time": "2022-05-19T07:04:37.647Z"
   },
   {
    "duration": 85,
    "start_time": "2022-05-19T07:05:13.467Z"
   },
   {
    "duration": 77,
    "start_time": "2022-05-19T07:05:43.985Z"
   },
   {
    "duration": 46,
    "start_time": "2022-05-19T07:06:18.838Z"
   },
   {
    "duration": 33,
    "start_time": "2022-05-19T07:07:05.490Z"
   },
   {
    "duration": 85,
    "start_time": "2022-05-19T07:07:28.521Z"
   },
   {
    "duration": 32,
    "start_time": "2022-05-19T07:07:42.236Z"
   },
   {
    "duration": 55,
    "start_time": "2022-05-19T07:10:43.055Z"
   },
   {
    "duration": 31,
    "start_time": "2022-05-19T07:10:56.836Z"
   },
   {
    "duration": 41,
    "start_time": "2022-05-19T07:11:16.629Z"
   },
   {
    "duration": 19,
    "start_time": "2022-05-19T07:12:20.522Z"
   },
   {
    "duration": 10,
    "start_time": "2022-05-19T07:12:55.633Z"
   },
   {
    "duration": 5,
    "start_time": "2022-05-19T07:13:01.202Z"
   },
   {
    "duration": 4,
    "start_time": "2022-05-19T07:14:59.102Z"
   },
   {
    "duration": 5,
    "start_time": "2022-05-19T07:19:15.017Z"
   },
   {
    "duration": 328,
    "start_time": "2022-05-19T07:21:58.935Z"
   },
   {
    "duration": 16,
    "start_time": "2022-05-19T07:22:48.614Z"
   },
   {
    "duration": 18,
    "start_time": "2022-05-19T07:23:07.803Z"
   },
   {
    "duration": 18,
    "start_time": "2022-05-19T07:23:25.156Z"
   },
   {
    "duration": 26,
    "start_time": "2022-05-19T07:27:02.201Z"
   },
   {
    "duration": 20,
    "start_time": "2022-05-19T07:27:26.045Z"
   },
   {
    "duration": 18,
    "start_time": "2022-05-19T07:27:47.167Z"
   },
   {
    "duration": 22,
    "start_time": "2022-05-19T07:28:00.038Z"
   },
   {
    "duration": 7,
    "start_time": "2022-05-19T07:28:09.570Z"
   },
   {
    "duration": 16,
    "start_time": "2022-05-19T07:28:17.914Z"
   },
   {
    "duration": 11,
    "start_time": "2022-05-19T07:28:20.994Z"
   },
   {
    "duration": 23,
    "start_time": "2022-05-19T07:28:49.905Z"
   },
   {
    "duration": 19,
    "start_time": "2022-05-19T07:29:21.556Z"
   },
   {
    "duration": 19,
    "start_time": "2022-05-19T07:30:19.158Z"
   },
   {
    "duration": 20,
    "start_time": "2022-05-19T07:30:27.744Z"
   },
   {
    "duration": 31,
    "start_time": "2022-05-19T07:32:20.886Z"
   },
   {
    "duration": 22,
    "start_time": "2022-05-19T07:33:10.994Z"
   },
   {
    "duration": 20,
    "start_time": "2022-05-19T07:33:24.602Z"
   },
   {
    "duration": 18,
    "start_time": "2022-05-19T07:33:40.147Z"
   },
   {
    "duration": 28,
    "start_time": "2022-05-19T07:33:46.573Z"
   },
   {
    "duration": 23,
    "start_time": "2022-05-19T07:34:11.528Z"
   },
   {
    "duration": 38,
    "start_time": "2022-05-19T07:37:12.698Z"
   },
   {
    "duration": 23,
    "start_time": "2022-05-19T07:37:23.521Z"
   },
   {
    "duration": 38,
    "start_time": "2022-05-19T07:41:08.197Z"
   },
   {
    "duration": 34,
    "start_time": "2022-05-19T07:41:16.979Z"
   },
   {
    "duration": 22,
    "start_time": "2022-05-19T07:41:23.201Z"
   },
   {
    "duration": 34,
    "start_time": "2022-05-19T07:41:29.297Z"
   },
   {
    "duration": 19,
    "start_time": "2022-05-19T07:41:40.446Z"
   },
   {
    "duration": 30,
    "start_time": "2022-05-19T07:45:36.069Z"
   },
   {
    "duration": 90,
    "start_time": "2022-05-19T08:53:39.650Z"
   },
   {
    "duration": 505,
    "start_time": "2022-05-19T08:53:50.909Z"
   },
   {
    "duration": 22,
    "start_time": "2022-05-19T08:53:51.416Z"
   },
   {
    "duration": 16,
    "start_time": "2022-05-19T08:53:51.440Z"
   },
   {
    "duration": 11,
    "start_time": "2022-05-19T08:53:51.458Z"
   },
   {
    "duration": 24,
    "start_time": "2022-05-19T08:53:51.471Z"
   },
   {
    "duration": 23,
    "start_time": "2022-05-19T08:53:51.496Z"
   },
   {
    "duration": 4,
    "start_time": "2022-05-19T08:53:51.520Z"
   },
   {
    "duration": 11,
    "start_time": "2022-05-19T08:53:51.526Z"
   },
   {
    "duration": 17,
    "start_time": "2022-05-19T08:53:51.539Z"
   },
   {
    "duration": 104,
    "start_time": "2022-05-19T08:53:51.559Z"
   },
   {
    "duration": 40,
    "start_time": "2022-05-19T08:53:51.665Z"
   },
   {
    "duration": 48,
    "start_time": "2022-05-19T08:53:51.707Z"
   },
   {
    "duration": 80,
    "start_time": "2022-05-19T08:53:51.757Z"
   },
   {
    "duration": 29,
    "start_time": "2022-05-19T08:54:07.384Z"
   },
   {
    "duration": 18,
    "start_time": "2022-05-19T08:54:26.033Z"
   },
   {
    "duration": 20,
    "start_time": "2022-05-19T08:54:43.634Z"
   },
   {
    "duration": 491,
    "start_time": "2022-05-19T08:54:53.759Z"
   },
   {
    "duration": 17,
    "start_time": "2022-05-19T08:54:58.291Z"
   },
   {
    "duration": 7,
    "start_time": "2022-05-19T08:57:45.502Z"
   },
   {
    "duration": 27,
    "start_time": "2022-05-19T09:03:43.053Z"
   },
   {
    "duration": 23,
    "start_time": "2022-05-19T09:04:15.313Z"
   },
   {
    "duration": 12,
    "start_time": "2022-05-19T09:05:39.235Z"
   },
   {
    "duration": 8,
    "start_time": "2022-05-19T09:05:52.302Z"
   },
   {
    "duration": 7,
    "start_time": "2022-05-19T09:07:39.404Z"
   },
   {
    "duration": 8,
    "start_time": "2022-05-19T09:10:48.375Z"
   },
   {
    "duration": 9,
    "start_time": "2022-05-19T09:11:03.466Z"
   },
   {
    "duration": 65,
    "start_time": "2022-05-19T09:12:24.608Z"
   },
   {
    "duration": 18,
    "start_time": "2022-05-19T09:12:24.676Z"
   },
   {
    "duration": 11,
    "start_time": "2022-05-19T09:12:24.696Z"
   },
   {
    "duration": 6,
    "start_time": "2022-05-19T09:12:24.709Z"
   },
   {
    "duration": 20,
    "start_time": "2022-05-19T09:12:24.716Z"
   },
   {
    "duration": 13,
    "start_time": "2022-05-19T09:12:24.738Z"
   },
   {
    "duration": 4,
    "start_time": "2022-05-19T09:12:24.753Z"
   },
   {
    "duration": 37,
    "start_time": "2022-05-19T09:12:24.758Z"
   },
   {
    "duration": 28,
    "start_time": "2022-05-19T09:12:24.797Z"
   },
   {
    "duration": 70,
    "start_time": "2022-05-19T09:12:24.827Z"
   },
   {
    "duration": 36,
    "start_time": "2022-05-19T09:12:24.899Z"
   },
   {
    "duration": 58,
    "start_time": "2022-05-19T09:12:24.937Z"
   },
   {
    "duration": 24,
    "start_time": "2022-05-19T09:12:24.997Z"
   },
   {
    "duration": 9,
    "start_time": "2022-05-19T09:12:25.024Z"
   },
   {
    "duration": 6,
    "start_time": "2022-05-19T09:13:09.943Z"
   },
   {
    "duration": 10,
    "start_time": "2022-05-19T09:13:19.475Z"
   },
   {
    "duration": 8,
    "start_time": "2022-05-19T09:13:51.581Z"
   },
   {
    "duration": 11,
    "start_time": "2022-05-19T09:16:08.675Z"
   },
   {
    "duration": 15,
    "start_time": "2022-05-19T09:17:18.901Z"
   },
   {
    "duration": 23,
    "start_time": "2022-05-19T09:17:45.792Z"
   },
   {
    "duration": 10,
    "start_time": "2022-05-19T09:18:02.556Z"
   },
   {
    "duration": 29,
    "start_time": "2022-05-19T09:18:09.106Z"
   },
   {
    "duration": 33,
    "start_time": "2022-05-19T09:18:53.502Z"
   },
   {
    "duration": 22,
    "start_time": "2022-05-19T09:20:30.602Z"
   },
   {
    "duration": 10,
    "start_time": "2022-05-19T09:20:41.809Z"
   },
   {
    "duration": 72,
    "start_time": "2022-05-19T09:21:26.881Z"
   },
   {
    "duration": 13,
    "start_time": "2022-05-19T09:21:26.955Z"
   },
   {
    "duration": 10,
    "start_time": "2022-05-19T09:21:26.969Z"
   },
   {
    "duration": 5,
    "start_time": "2022-05-19T09:21:26.994Z"
   },
   {
    "duration": 7,
    "start_time": "2022-05-19T09:21:27.001Z"
   },
   {
    "duration": 12,
    "start_time": "2022-05-19T09:21:27.009Z"
   },
   {
    "duration": 5,
    "start_time": "2022-05-19T09:21:27.023Z"
   },
   {
    "duration": 10,
    "start_time": "2022-05-19T09:21:27.029Z"
   },
   {
    "duration": 14,
    "start_time": "2022-05-19T09:21:27.040Z"
   },
   {
    "duration": 53,
    "start_time": "2022-05-19T09:21:27.095Z"
   },
   {
    "duration": 21,
    "start_time": "2022-05-19T09:21:27.149Z"
   },
   {
    "duration": 55,
    "start_time": "2022-05-19T09:21:27.171Z"
   },
   {
    "duration": 18,
    "start_time": "2022-05-19T09:21:27.228Z"
   },
   {
    "duration": 10,
    "start_time": "2022-05-19T09:21:27.248Z"
   },
   {
    "duration": 22,
    "start_time": "2022-05-19T09:22:48.945Z"
   },
   {
    "duration": 12,
    "start_time": "2022-05-19T09:23:03.854Z"
   },
   {
    "duration": 15,
    "start_time": "2022-05-19T09:24:22.571Z"
   },
   {
    "duration": 50,
    "start_time": "2022-05-19T09:28:48.916Z"
   },
   {
    "duration": 13,
    "start_time": "2022-05-19T09:31:32.862Z"
   },
   {
    "duration": 8,
    "start_time": "2022-05-19T09:31:38.468Z"
   },
   {
    "duration": 7,
    "start_time": "2022-05-19T09:32:13.370Z"
   },
   {
    "duration": 9,
    "start_time": "2022-05-19T09:32:30.775Z"
   },
   {
    "duration": 29,
    "start_time": "2022-05-19T09:35:28.047Z"
   },
   {
    "duration": 7,
    "start_time": "2022-05-19T09:35:35.214Z"
   },
   {
    "duration": 7,
    "start_time": "2022-05-19T09:36:08.604Z"
   },
   {
    "duration": 9,
    "start_time": "2022-05-19T09:36:32.594Z"
   },
   {
    "duration": 14,
    "start_time": "2022-05-19T09:36:52.291Z"
   },
   {
    "duration": 8,
    "start_time": "2022-05-19T09:41:04.881Z"
   },
   {
    "duration": 81,
    "start_time": "2022-05-19T09:41:15.672Z"
   },
   {
    "duration": 14,
    "start_time": "2022-05-19T09:41:15.755Z"
   },
   {
    "duration": 8,
    "start_time": "2022-05-19T09:41:15.770Z"
   },
   {
    "duration": 14,
    "start_time": "2022-05-19T09:41:15.798Z"
   },
   {
    "duration": 7,
    "start_time": "2022-05-19T09:41:15.813Z"
   },
   {
    "duration": 20,
    "start_time": "2022-05-19T09:41:15.822Z"
   },
   {
    "duration": 3,
    "start_time": "2022-05-19T09:41:15.844Z"
   },
   {
    "duration": 8,
    "start_time": "2022-05-19T09:41:15.848Z"
   },
   {
    "duration": 46,
    "start_time": "2022-05-19T09:41:15.858Z"
   },
   {
    "duration": 58,
    "start_time": "2022-05-19T09:41:15.912Z"
   },
   {
    "duration": 34,
    "start_time": "2022-05-19T09:41:15.972Z"
   },
   {
    "duration": 48,
    "start_time": "2022-05-19T09:41:16.007Z"
   },
   {
    "duration": 26,
    "start_time": "2022-05-19T09:41:16.057Z"
   },
   {
    "duration": 17,
    "start_time": "2022-05-19T09:41:16.095Z"
   },
   {
    "duration": 7,
    "start_time": "2022-05-19T09:41:44.079Z"
   },
   {
    "duration": 14,
    "start_time": "2022-05-19T09:42:00.857Z"
   },
   {
    "duration": 74,
    "start_time": "2022-05-19T09:42:37.723Z"
   },
   {
    "duration": 15,
    "start_time": "2022-05-19T09:42:37.799Z"
   },
   {
    "duration": 9,
    "start_time": "2022-05-19T09:42:37.816Z"
   },
   {
    "duration": 14,
    "start_time": "2022-05-19T09:42:37.827Z"
   },
   {
    "duration": 6,
    "start_time": "2022-05-19T09:42:37.842Z"
   },
   {
    "duration": 44,
    "start_time": "2022-05-19T09:42:37.850Z"
   },
   {
    "duration": 3,
    "start_time": "2022-05-19T09:42:37.896Z"
   },
   {
    "duration": 9,
    "start_time": "2022-05-19T09:42:37.901Z"
   },
   {
    "duration": 14,
    "start_time": "2022-05-19T09:42:37.911Z"
   },
   {
    "duration": 45,
    "start_time": "2022-05-19T09:42:37.927Z"
   },
   {
    "duration": 23,
    "start_time": "2022-05-19T09:42:37.995Z"
   },
   {
    "duration": 42,
    "start_time": "2022-05-19T09:42:38.019Z"
   },
   {
    "duration": 37,
    "start_time": "2022-05-19T09:42:38.063Z"
   },
   {
    "duration": 10,
    "start_time": "2022-05-19T09:42:38.102Z"
   },
   {
    "duration": 11,
    "start_time": "2022-05-19T09:44:06.914Z"
   },
   {
    "duration": 15,
    "start_time": "2022-05-19T09:44:35.702Z"
   },
   {
    "duration": 16,
    "start_time": "2022-05-19T09:44:43.276Z"
   },
   {
    "duration": 15,
    "start_time": "2022-05-19T09:45:03.123Z"
   },
   {
    "duration": 15,
    "start_time": "2022-05-19T09:45:13.983Z"
   },
   {
    "duration": 25,
    "start_time": "2022-05-19T09:45:33.088Z"
   },
   {
    "duration": 17,
    "start_time": "2022-05-19T09:45:50.231Z"
   },
   {
    "duration": 16,
    "start_time": "2022-05-19T09:46:02.304Z"
   },
   {
    "duration": 19,
    "start_time": "2022-05-19T09:46:10.714Z"
   },
   {
    "duration": 17,
    "start_time": "2022-05-19T09:47:00.881Z"
   },
   {
    "duration": 25,
    "start_time": "2022-05-19T09:47:14.370Z"
   },
   {
    "duration": 63,
    "start_time": "2022-05-19T09:47:51.688Z"
   },
   {
    "duration": 14,
    "start_time": "2022-05-19T09:48:24.030Z"
   },
   {
    "duration": 6,
    "start_time": "2022-05-19T09:48:36.665Z"
   },
   {
    "duration": 31,
    "start_time": "2022-05-19T09:48:44.045Z"
   },
   {
    "duration": 14,
    "start_time": "2022-05-19T09:49:06.541Z"
   },
   {
    "duration": 20,
    "start_time": "2022-05-19T09:49:19.280Z"
   },
   {
    "duration": 9,
    "start_time": "2022-05-19T09:49:24.821Z"
   },
   {
    "duration": 25,
    "start_time": "2022-05-19T09:49:31.877Z"
   },
   {
    "duration": 14,
    "start_time": "2022-05-19T09:49:36.065Z"
   },
   {
    "duration": 44,
    "start_time": "2022-05-19T09:49:49.595Z"
   },
   {
    "duration": 8,
    "start_time": "2022-05-19T09:49:58.219Z"
   },
   {
    "duration": 23,
    "start_time": "2022-05-19T09:50:11.863Z"
   },
   {
    "duration": 12,
    "start_time": "2022-05-19T09:50:54.271Z"
   },
   {
    "duration": 23,
    "start_time": "2022-05-19T09:51:03.694Z"
   },
   {
    "duration": 64,
    "start_time": "2022-05-19T09:57:50.645Z"
   },
   {
    "duration": 66,
    "start_time": "2022-05-19T09:57:57.528Z"
   },
   {
    "duration": 82,
    "start_time": "2022-05-19T09:58:49.668Z"
   },
   {
    "duration": 126,
    "start_time": "2022-05-19T10:02:48.048Z"
   },
   {
    "duration": 287,
    "start_time": "2022-05-19T10:05:58.921Z"
   },
   {
    "duration": 249,
    "start_time": "2022-05-19T10:07:42.388Z"
   },
   {
    "duration": 217,
    "start_time": "2022-05-19T10:07:54.217Z"
   },
   {
    "duration": 212,
    "start_time": "2022-05-19T10:31:27.699Z"
   },
   {
    "duration": 215,
    "start_time": "2022-05-19T10:31:38.011Z"
   },
   {
    "duration": 195,
    "start_time": "2022-05-19T10:38:26.616Z"
   },
   {
    "duration": 18,
    "start_time": "2022-05-19T10:39:01.207Z"
   },
   {
    "duration": 27,
    "start_time": "2022-05-19T10:39:40.239Z"
   },
   {
    "duration": 17,
    "start_time": "2022-05-19T10:39:46.234Z"
   },
   {
    "duration": 35,
    "start_time": "2022-05-19T10:40:11.309Z"
   },
   {
    "duration": 44,
    "start_time": "2022-05-19T10:40:19.838Z"
   },
   {
    "duration": 29,
    "start_time": "2022-05-19T10:41:00.712Z"
   },
   {
    "duration": 65,
    "start_time": "2022-05-19T10:41:29.729Z"
   },
   {
    "duration": 13,
    "start_time": "2022-05-19T10:41:29.796Z"
   },
   {
    "duration": 9,
    "start_time": "2022-05-19T10:41:29.810Z"
   },
   {
    "duration": 6,
    "start_time": "2022-05-19T10:41:29.820Z"
   },
   {
    "duration": 9,
    "start_time": "2022-05-19T10:41:29.827Z"
   },
   {
    "duration": 12,
    "start_time": "2022-05-19T10:41:29.837Z"
   },
   {
    "duration": 4,
    "start_time": "2022-05-19T10:41:29.851Z"
   },
   {
    "duration": 39,
    "start_time": "2022-05-19T10:41:29.856Z"
   },
   {
    "duration": 17,
    "start_time": "2022-05-19T10:41:29.897Z"
   },
   {
    "duration": 48,
    "start_time": "2022-05-19T10:41:29.916Z"
   },
   {
    "duration": 42,
    "start_time": "2022-05-19T10:41:29.966Z"
   },
   {
    "duration": 40,
    "start_time": "2022-05-19T10:41:30.010Z"
   },
   {
    "duration": 32,
    "start_time": "2022-05-19T10:41:30.051Z"
   },
   {
    "duration": 238,
    "start_time": "2022-05-19T10:41:30.094Z"
   },
   {
    "duration": 15,
    "start_time": "2022-05-19T10:41:30.333Z"
   },
   {
    "duration": 35,
    "start_time": "2022-05-19T10:41:30.349Z"
   },
   {
    "duration": 50,
    "start_time": "2022-05-19T10:41:30.385Z"
   },
   {
    "duration": 48,
    "start_time": "2022-05-19T10:42:01.656Z"
   },
   {
    "duration": 33,
    "start_time": "2022-05-19T10:42:24.605Z"
   },
   {
    "duration": 17,
    "start_time": "2022-05-19T10:42:30.496Z"
   },
   {
    "duration": 64,
    "start_time": "2022-05-19T10:42:37.474Z"
   },
   {
    "duration": 14,
    "start_time": "2022-05-19T10:42:40.396Z"
   },
   {
    "duration": 10,
    "start_time": "2022-05-19T10:42:44.428Z"
   },
   {
    "duration": 6,
    "start_time": "2022-05-19T10:42:46.665Z"
   },
   {
    "duration": 9,
    "start_time": "2022-05-19T10:42:49.009Z"
   },
   {
    "duration": 12,
    "start_time": "2022-05-19T10:42:53.254Z"
   },
   {
    "duration": 4,
    "start_time": "2022-05-19T10:42:58.604Z"
   },
   {
    "duration": 6,
    "start_time": "2022-05-19T10:43:00.362Z"
   },
   {
    "duration": 15,
    "start_time": "2022-05-19T10:43:03.061Z"
   },
   {
    "duration": 43,
    "start_time": "2022-05-19T10:43:10.176Z"
   },
   {
    "duration": 23,
    "start_time": "2022-05-19T10:43:11.777Z"
   },
   {
    "duration": 46,
    "start_time": "2022-05-19T10:43:28.417Z"
   },
   {
    "duration": 24,
    "start_time": "2022-05-19T10:43:31.520Z"
   },
   {
    "duration": 45,
    "start_time": "2022-05-19T10:43:34.681Z"
   },
   {
    "duration": 35,
    "start_time": "2022-05-19T10:43:46.880Z"
   },
   {
    "duration": 25,
    "start_time": "2022-05-19T10:43:50.527Z"
   },
   {
    "duration": 215,
    "start_time": "2022-05-19T10:43:53.621Z"
   },
   {
    "duration": 16,
    "start_time": "2022-05-19T10:43:56.633Z"
   },
   {
    "duration": 16,
    "start_time": "2022-05-19T10:43:59.282Z"
   },
   {
    "duration": 32,
    "start_time": "2022-05-19T10:44:13.320Z"
   },
   {
    "duration": 41,
    "start_time": "2022-05-19T10:44:17.770Z"
   },
   {
    "duration": 36,
    "start_time": "2022-05-19T10:44:21.766Z"
   },
   {
    "duration": 42,
    "start_time": "2022-05-19T10:48:46.061Z"
   },
   {
    "duration": 13,
    "start_time": "2022-05-19T10:51:59.249Z"
   },
   {
    "duration": 21,
    "start_time": "2022-05-19T10:52:25.983Z"
   },
   {
    "duration": 17,
    "start_time": "2022-05-19T10:52:34.700Z"
   },
   {
    "duration": 16,
    "start_time": "2022-05-19T10:52:46.150Z"
   },
   {
    "duration": 13,
    "start_time": "2022-05-19T10:58:50.435Z"
   },
   {
    "duration": 12,
    "start_time": "2022-05-19T10:59:06.578Z"
   },
   {
    "duration": 10,
    "start_time": "2022-05-19T11:02:09.740Z"
   },
   {
    "duration": 14,
    "start_time": "2022-05-19T11:03:45.989Z"
   },
   {
    "duration": 10,
    "start_time": "2022-05-19T11:04:16.467Z"
   },
   {
    "duration": 20,
    "start_time": "2022-05-19T11:09:28.919Z"
   },
   {
    "duration": 5,
    "start_time": "2022-05-19T11:17:46.567Z"
   },
   {
    "duration": 21,
    "start_time": "2022-05-19T11:17:50.685Z"
   },
   {
    "duration": 16,
    "start_time": "2022-05-19T11:19:17.957Z"
   },
   {
    "duration": 3,
    "start_time": "2022-05-19T11:30:16.313Z"
   },
   {
    "duration": 3,
    "start_time": "2022-05-19T11:33:23.896Z"
   },
   {
    "duration": 8,
    "start_time": "2022-05-19T11:42:29.439Z"
   },
   {
    "duration": 16,
    "start_time": "2022-05-19T11:42:37.473Z"
   },
   {
    "duration": 15,
    "start_time": "2022-05-19T11:42:58.680Z"
   },
   {
    "duration": 19,
    "start_time": "2022-05-19T11:43:05.014Z"
   },
   {
    "duration": 10,
    "start_time": "2022-05-19T11:56:48.440Z"
   },
   {
    "duration": 9,
    "start_time": "2022-05-19T11:56:56.826Z"
   },
   {
    "duration": 6,
    "start_time": "2022-05-19T11:57:01.173Z"
   },
   {
    "duration": 12,
    "start_time": "2022-05-19T11:57:39.638Z"
   },
   {
    "duration": 17,
    "start_time": "2022-05-19T11:57:44.310Z"
   },
   {
    "duration": 8,
    "start_time": "2022-05-19T11:58:21.605Z"
   },
   {
    "duration": 11,
    "start_time": "2022-05-19T11:59:02.978Z"
   },
   {
    "duration": 12,
    "start_time": "2022-05-19T11:59:17.720Z"
   },
   {
    "duration": 6,
    "start_time": "2022-05-19T12:03:14.804Z"
   },
   {
    "duration": 5,
    "start_time": "2022-05-19T12:03:42.001Z"
   },
   {
    "duration": 18,
    "start_time": "2022-05-19T12:03:44.729Z"
   },
   {
    "duration": 11,
    "start_time": "2022-05-19T12:03:47.023Z"
   },
   {
    "duration": 10,
    "start_time": "2022-05-19T12:06:02.053Z"
   },
   {
    "duration": 6,
    "start_time": "2022-05-19T12:06:06.150Z"
   },
   {
    "duration": 17,
    "start_time": "2022-05-19T12:06:54.235Z"
   },
   {
    "duration": 6,
    "start_time": "2022-05-19T12:06:58.369Z"
   },
   {
    "duration": 4,
    "start_time": "2022-05-19T12:08:11.643Z"
   },
   {
    "duration": 4,
    "start_time": "2022-05-19T12:08:24.797Z"
   },
   {
    "duration": 3,
    "start_time": "2022-05-19T12:08:45.742Z"
   },
   {
    "duration": 4,
    "start_time": "2022-05-19T12:08:47.575Z"
   },
   {
    "duration": 10,
    "start_time": "2022-05-19T12:09:05.083Z"
   },
   {
    "duration": 10,
    "start_time": "2022-05-19T12:09:06.505Z"
   },
   {
    "duration": 10,
    "start_time": "2022-05-19T12:09:35.412Z"
   },
   {
    "duration": 17,
    "start_time": "2022-05-19T12:10:00.563Z"
   },
   {
    "duration": 8,
    "start_time": "2022-05-19T12:10:01.663Z"
   },
   {
    "duration": 25,
    "start_time": "2022-05-19T12:10:10.431Z"
   },
   {
    "duration": 10,
    "start_time": "2022-05-19T12:10:12.844Z"
   },
   {
    "duration": 21,
    "start_time": "2022-05-19T12:10:14.860Z"
   },
   {
    "duration": 8,
    "start_time": "2022-05-19T12:10:17.089Z"
   },
   {
    "duration": 11,
    "start_time": "2022-05-19T12:10:48.397Z"
   },
   {
    "duration": 22,
    "start_time": "2022-05-19T12:10:54.655Z"
   },
   {
    "duration": 26,
    "start_time": "2022-05-19T12:12:29.024Z"
   },
   {
    "duration": 17,
    "start_time": "2022-05-19T12:13:05.085Z"
   },
   {
    "duration": 19,
    "start_time": "2022-05-19T12:13:29.426Z"
   },
   {
    "duration": 7,
    "start_time": "2022-05-19T12:14:05.874Z"
   },
   {
    "duration": 11,
    "start_time": "2022-05-19T12:14:19.333Z"
   },
   {
    "duration": 9,
    "start_time": "2022-05-19T12:14:31.239Z"
   },
   {
    "duration": 6,
    "start_time": "2022-05-19T12:18:25.497Z"
   },
   {
    "duration": 7,
    "start_time": "2022-05-19T12:18:31.456Z"
   },
   {
    "duration": 12,
    "start_time": "2022-05-19T12:22:00.761Z"
   },
   {
    "duration": 17,
    "start_time": "2022-05-19T12:22:44.093Z"
   },
   {
    "duration": 7,
    "start_time": "2022-05-19T12:23:07.864Z"
   },
   {
    "duration": 18,
    "start_time": "2022-05-19T12:23:39.457Z"
   },
   {
    "duration": 8,
    "start_time": "2022-05-19T12:23:58.958Z"
   },
   {
    "duration": 14,
    "start_time": "2022-05-19T12:24:08.329Z"
   },
   {
    "duration": 16,
    "start_time": "2022-05-19T12:24:50.939Z"
   },
   {
    "duration": 20,
    "start_time": "2022-05-19T12:25:03.721Z"
   },
   {
    "duration": 13,
    "start_time": "2022-05-19T12:25:26.068Z"
   },
   {
    "duration": 9,
    "start_time": "2022-05-19T12:26:06.989Z"
   },
   {
    "duration": 3,
    "start_time": "2022-05-19T12:33:53.524Z"
   },
   {
    "duration": 6,
    "start_time": "2022-05-19T12:37:16.892Z"
   },
   {
    "duration": 6,
    "start_time": "2022-05-19T12:38:06.402Z"
   },
   {
    "duration": 15,
    "start_time": "2022-05-19T12:39:43.921Z"
   },
   {
    "duration": 14,
    "start_time": "2022-05-19T12:40:39.406Z"
   },
   {
    "duration": 12,
    "start_time": "2022-05-19T12:41:06.987Z"
   },
   {
    "duration": 9,
    "start_time": "2022-05-19T12:41:31.659Z"
   },
   {
    "duration": 11,
    "start_time": "2022-05-19T12:41:52.540Z"
   },
   {
    "duration": 6,
    "start_time": "2022-05-19T12:42:14.036Z"
   },
   {
    "duration": 6,
    "start_time": "2022-05-19T12:42:28.252Z"
   },
   {
    "duration": 11,
    "start_time": "2022-05-19T12:42:50.658Z"
   },
   {
    "duration": 7,
    "start_time": "2022-05-19T12:43:13.795Z"
   },
   {
    "duration": 6,
    "start_time": "2022-05-19T12:44:28.768Z"
   },
   {
    "duration": 14,
    "start_time": "2022-05-19T12:45:02.750Z"
   },
   {
    "duration": 12,
    "start_time": "2022-05-19T12:55:04.119Z"
   },
   {
    "duration": 12,
    "start_time": "2022-05-19T12:55:42.342Z"
   },
   {
    "duration": 14,
    "start_time": "2022-05-19T12:55:56.155Z"
   },
   {
    "duration": 7,
    "start_time": "2022-05-19T12:56:16.501Z"
   },
   {
    "duration": 19,
    "start_time": "2022-05-19T13:02:02.957Z"
   },
   {
    "duration": 9,
    "start_time": "2022-05-19T13:02:09.421Z"
   },
   {
    "duration": 6,
    "start_time": "2022-05-19T13:02:35.196Z"
   },
   {
    "duration": 7,
    "start_time": "2022-05-19T13:02:46.629Z"
   },
   {
    "duration": 17,
    "start_time": "2022-05-19T13:19:03.553Z"
   },
   {
    "duration": 18,
    "start_time": "2022-05-19T13:20:01.766Z"
   },
   {
    "duration": 18,
    "start_time": "2022-05-19T13:21:54.201Z"
   },
   {
    "duration": 20,
    "start_time": "2022-05-19T13:22:10.901Z"
   },
   {
    "duration": 18,
    "start_time": "2022-05-19T13:24:09.407Z"
   },
   {
    "duration": 4,
    "start_time": "2022-05-19T14:01:12.117Z"
   },
   {
    "duration": 38,
    "start_time": "2022-05-19T14:13:37.347Z"
   },
   {
    "duration": 28,
    "start_time": "2022-05-19T14:13:46.356Z"
   },
   {
    "duration": 40,
    "start_time": "2022-05-19T14:14:56.614Z"
   },
   {
    "duration": 81,
    "start_time": "2022-05-19T15:03:56.817Z"
   },
   {
    "duration": 16,
    "start_time": "2022-05-19T15:03:56.901Z"
   },
   {
    "duration": 11,
    "start_time": "2022-05-19T15:03:56.919Z"
   },
   {
    "duration": 8,
    "start_time": "2022-05-19T15:03:56.932Z"
   },
   {
    "duration": 8,
    "start_time": "2022-05-19T15:03:56.942Z"
   },
   {
    "duration": 55,
    "start_time": "2022-05-19T15:03:56.952Z"
   },
   {
    "duration": 5,
    "start_time": "2022-05-19T15:03:57.010Z"
   },
   {
    "duration": 9,
    "start_time": "2022-05-19T15:03:57.017Z"
   },
   {
    "duration": 17,
    "start_time": "2022-05-19T15:03:57.028Z"
   },
   {
    "duration": 92,
    "start_time": "2022-05-19T15:03:57.049Z"
   },
   {
    "duration": 27,
    "start_time": "2022-05-19T15:03:57.143Z"
   },
   {
    "duration": 61,
    "start_time": "2022-05-19T15:03:57.173Z"
   },
   {
    "duration": 29,
    "start_time": "2022-05-19T15:03:57.236Z"
   },
   {
    "duration": 302,
    "start_time": "2022-05-19T15:03:57.268Z"
   },
   {
    "duration": 28,
    "start_time": "2022-05-19T15:03:57.572Z"
   },
   {
    "duration": 25,
    "start_time": "2022-05-19T15:03:57.601Z"
   },
   {
    "duration": 44,
    "start_time": "2022-05-19T15:03:57.628Z"
   },
   {
    "duration": 12,
    "start_time": "2022-05-19T15:03:57.695Z"
   },
   {
    "duration": 16,
    "start_time": "2022-05-19T15:03:57.709Z"
   },
   {
    "duration": 28,
    "start_time": "2022-05-19T15:03:57.727Z"
   },
   {
    "duration": 4,
    "start_time": "2022-05-19T15:03:57.757Z"
   },
   {
    "duration": 6,
    "start_time": "2022-05-19T15:03:57.794Z"
   },
   {
    "duration": 31,
    "start_time": "2022-05-19T15:03:57.802Z"
   },
   {
    "duration": 12,
    "start_time": "2022-05-19T15:03:57.834Z"
   },
   {
    "duration": 11,
    "start_time": "2022-05-19T15:03:57.847Z"
   },
   {
    "duration": 39,
    "start_time": "2022-05-19T15:03:57.860Z"
   },
   {
    "duration": 10,
    "start_time": "2022-05-19T15:03:57.901Z"
   },
   {
    "duration": 7,
    "start_time": "2022-05-19T15:03:57.914Z"
   },
   {
    "duration": 41,
    "start_time": "2022-05-20T05:26:39.400Z"
   },
   {
    "duration": 685,
    "start_time": "2022-09-19T07:47:14.826Z"
   },
   {
    "duration": 15,
    "start_time": "2022-09-19T07:47:15.513Z"
   },
   {
    "duration": 8,
    "start_time": "2022-09-19T07:47:15.530Z"
   },
   {
    "duration": 5,
    "start_time": "2022-09-19T07:47:15.540Z"
   },
   {
    "duration": 6,
    "start_time": "2022-09-19T07:47:15.546Z"
   },
   {
    "duration": 12,
    "start_time": "2022-09-19T07:47:15.553Z"
   },
   {
    "duration": 4,
    "start_time": "2022-09-19T07:47:15.566Z"
   },
   {
    "duration": 7,
    "start_time": "2022-09-19T07:47:15.609Z"
   },
   {
    "duration": 15,
    "start_time": "2022-09-19T07:47:15.617Z"
   },
   {
    "duration": 45,
    "start_time": "2022-09-19T07:47:15.634Z"
   },
   {
    "duration": 45,
    "start_time": "2022-09-19T07:47:15.680Z"
   },
   {
    "duration": 37,
    "start_time": "2022-09-19T07:47:15.727Z"
   },
   {
    "duration": 22,
    "start_time": "2022-09-19T07:47:15.766Z"
   },
   {
    "duration": 214,
    "start_time": "2022-09-19T07:47:15.808Z"
   },
   {
    "duration": 16,
    "start_time": "2022-09-19T07:47:16.023Z"
   },
   {
    "duration": 18,
    "start_time": "2022-09-19T07:47:16.040Z"
   },
   {
    "duration": 56,
    "start_time": "2022-09-19T07:47:16.060Z"
   },
   {
    "duration": 9,
    "start_time": "2022-09-19T07:47:16.117Z"
   },
   {
    "duration": 9,
    "start_time": "2022-09-19T07:47:16.128Z"
   },
   {
    "duration": 17,
    "start_time": "2022-09-19T07:47:16.138Z"
   },
   {
    "duration": 2,
    "start_time": "2022-09-19T07:47:16.157Z"
   },
   {
    "duration": 5,
    "start_time": "2022-09-19T07:47:16.161Z"
   },
   {
    "duration": 47,
    "start_time": "2022-09-19T07:47:16.168Z"
   },
   {
    "duration": 9,
    "start_time": "2022-09-19T07:47:16.217Z"
   },
   {
    "duration": 8,
    "start_time": "2022-09-19T07:47:16.227Z"
   },
   {
    "duration": 11,
    "start_time": "2022-09-19T07:47:16.236Z"
   },
   {
    "duration": 15,
    "start_time": "2022-09-19T07:47:16.249Z"
   },
   {
    "duration": 6,
    "start_time": "2022-09-19T07:47:16.267Z"
   },
   {
    "duration": 80,
    "start_time": "2022-09-19T07:47:41.289Z"
   },
   {
    "duration": 77,
    "start_time": "2022-09-19T07:57:05.419Z"
   },
   {
    "duration": 15,
    "start_time": "2022-09-19T07:57:05.498Z"
   },
   {
    "duration": 10,
    "start_time": "2022-09-19T07:57:05.514Z"
   },
   {
    "duration": 9,
    "start_time": "2022-09-19T07:57:05.526Z"
   },
   {
    "duration": 6,
    "start_time": "2022-09-19T07:57:05.538Z"
   },
   {
    "duration": 14,
    "start_time": "2022-09-19T07:57:05.546Z"
   },
   {
    "duration": 11,
    "start_time": "2022-09-19T07:57:05.562Z"
   },
   {
    "duration": 7,
    "start_time": "2022-09-19T07:57:05.575Z"
   },
   {
    "duration": 36,
    "start_time": "2022-09-19T07:57:05.584Z"
   },
   {
    "duration": 46,
    "start_time": "2022-09-19T07:57:05.621Z"
   },
   {
    "duration": 76,
    "start_time": "2022-09-19T07:57:13.402Z"
   },
   {
    "duration": 13,
    "start_time": "2022-09-19T07:57:13.479Z"
   },
   {
    "duration": 15,
    "start_time": "2022-09-19T07:57:13.493Z"
   },
   {
    "duration": 8,
    "start_time": "2022-09-19T07:57:13.510Z"
   },
   {
    "duration": 6,
    "start_time": "2022-09-19T07:57:13.520Z"
   },
   {
    "duration": 12,
    "start_time": "2022-09-19T07:57:13.527Z"
   },
   {
    "duration": 3,
    "start_time": "2022-09-19T07:57:13.541Z"
   },
   {
    "duration": 9,
    "start_time": "2022-09-19T07:57:13.546Z"
   },
   {
    "duration": 13,
    "start_time": "2022-09-19T07:57:13.556Z"
   },
   {
    "duration": 44,
    "start_time": "2022-09-19T07:57:15.709Z"
   },
   {
    "duration": 21,
    "start_time": "2022-09-19T07:57:22.407Z"
   },
   {
    "duration": 75,
    "start_time": "2022-09-19T07:57:39.268Z"
   },
   {
    "duration": 496,
    "start_time": "2022-09-19T07:58:02.355Z"
   },
   {
    "duration": 14,
    "start_time": "2022-09-19T07:58:02.853Z"
   },
   {
    "duration": 10,
    "start_time": "2022-09-19T07:58:02.869Z"
   },
   {
    "duration": 6,
    "start_time": "2022-09-19T07:58:02.881Z"
   },
   {
    "duration": 8,
    "start_time": "2022-09-19T07:58:02.910Z"
   },
   {
    "duration": 14,
    "start_time": "2022-09-19T07:58:02.920Z"
   },
   {
    "duration": 6,
    "start_time": "2022-09-19T07:58:02.935Z"
   },
   {
    "duration": 9,
    "start_time": "2022-09-19T07:58:02.943Z"
   },
   {
    "duration": 15,
    "start_time": "2022-09-19T07:58:02.953Z"
   },
   {
    "duration": 81,
    "start_time": "2022-09-19T07:58:02.969Z"
   },
   {
    "duration": 24,
    "start_time": "2022-09-19T07:58:03.052Z"
   },
   {
    "duration": 54,
    "start_time": "2022-09-19T07:58:03.078Z"
   },
   {
    "duration": 23,
    "start_time": "2022-09-19T07:58:03.133Z"
   },
   {
    "duration": 223,
    "start_time": "2022-09-19T07:58:03.159Z"
   },
   {
    "duration": 16,
    "start_time": "2022-09-19T07:58:03.384Z"
   },
   {
    "duration": 20,
    "start_time": "2022-09-19T07:58:03.409Z"
   },
   {
    "duration": 38,
    "start_time": "2022-09-19T07:58:03.431Z"
   },
   {
    "duration": 10,
    "start_time": "2022-09-19T07:58:03.471Z"
   },
   {
    "duration": 33,
    "start_time": "2022-09-19T07:58:03.483Z"
   },
   {
    "duration": 18,
    "start_time": "2022-09-19T07:58:03.517Z"
   },
   {
    "duration": 3,
    "start_time": "2022-09-19T07:58:03.537Z"
   },
   {
    "duration": 5,
    "start_time": "2022-09-19T07:58:03.542Z"
   },
   {
    "duration": 41,
    "start_time": "2022-09-19T07:58:03.548Z"
   },
   {
    "duration": 25,
    "start_time": "2022-09-19T07:58:03.590Z"
   },
   {
    "duration": 19,
    "start_time": "2022-09-19T07:58:03.616Z"
   },
   {
    "duration": 26,
    "start_time": "2022-09-19T07:58:03.636Z"
   },
   {
    "duration": 28,
    "start_time": "2022-09-19T07:58:03.663Z"
   },
   {
    "duration": 19,
    "start_time": "2022-09-19T07:58:03.692Z"
   },
   {
    "duration": 106,
    "start_time": "2022-09-19T08:01:46.091Z"
   },
   {
    "duration": 5,
    "start_time": "2022-09-19T08:01:50.975Z"
   },
   {
    "duration": 105,
    "start_time": "2022-09-19T08:02:00.699Z"
   },
   {
    "duration": 3,
    "start_time": "2022-09-19T08:02:04.544Z"
   },
   {
    "duration": 4,
    "start_time": "2022-09-19T08:02:07.562Z"
   },
   {
    "duration": 92,
    "start_time": "2022-09-19T08:02:20.803Z"
   },
   {
    "duration": 77,
    "start_time": "2022-09-19T08:03:10.828Z"
   },
   {
    "duration": 2,
    "start_time": "2022-09-19T08:03:20.512Z"
   },
   {
    "duration": 3,
    "start_time": "2022-09-19T08:03:25.255Z"
   },
   {
    "duration": 3,
    "start_time": "2022-09-19T08:03:26.711Z"
   },
   {
    "duration": 7,
    "start_time": "2022-09-19T08:04:05.600Z"
   },
   {
    "duration": 8,
    "start_time": "2022-09-19T08:04:20.708Z"
   },
   {
    "duration": 8,
    "start_time": "2022-09-19T08:05:39.690Z"
   },
   {
    "duration": 10,
    "start_time": "2022-09-19T08:05:54.722Z"
   },
   {
    "duration": 107,
    "start_time": "2022-09-19T08:06:13.395Z"
   },
   {
    "duration": 13,
    "start_time": "2022-09-19T08:06:15.884Z"
   },
   {
    "duration": 112,
    "start_time": "2022-09-19T08:07:20.687Z"
   },
   {
    "duration": 4,
    "start_time": "2022-09-19T08:07:23.412Z"
   },
   {
    "duration": 659,
    "start_time": "2022-09-19T08:08:07.057Z"
   },
   {
    "duration": 21,
    "start_time": "2022-09-19T08:08:07.718Z"
   },
   {
    "duration": 15,
    "start_time": "2022-09-19T08:08:07.741Z"
   },
   {
    "duration": 7,
    "start_time": "2022-09-19T08:08:07.809Z"
   },
   {
    "duration": 29,
    "start_time": "2022-09-19T08:08:07.818Z"
   },
   {
    "duration": 67,
    "start_time": "2022-09-19T08:08:07.849Z"
   },
   {
    "duration": 5,
    "start_time": "2022-09-19T08:08:07.917Z"
   },
   {
    "duration": 26,
    "start_time": "2022-09-19T08:08:07.924Z"
   },
   {
    "duration": 77,
    "start_time": "2022-09-19T08:08:07.952Z"
   },
   {
    "duration": 99,
    "start_time": "2022-09-19T08:08:08.031Z"
   },
   {
    "duration": 87,
    "start_time": "2022-09-19T08:08:08.131Z"
   },
   {
    "duration": 90,
    "start_time": "2022-09-19T08:08:08.220Z"
   },
   {
    "duration": 23,
    "start_time": "2022-09-19T08:08:08.312Z"
   },
   {
    "duration": 485,
    "start_time": "2022-09-19T08:08:08.337Z"
   },
   {
    "duration": 27,
    "start_time": "2022-09-19T08:08:08.823Z"
   },
   {
    "duration": 83,
    "start_time": "2022-09-19T08:08:08.852Z"
   },
   {
    "duration": 99,
    "start_time": "2022-09-19T08:08:08.937Z"
   },
   {
    "duration": 13,
    "start_time": "2022-09-19T08:08:09.038Z"
   },
   {
    "duration": 69,
    "start_time": "2022-09-19T08:08:09.052Z"
   },
   {
    "duration": 27,
    "start_time": "2022-09-19T08:08:09.123Z"
   },
   {
    "duration": 58,
    "start_time": "2022-09-19T08:08:09.151Z"
   },
   {
    "duration": 8,
    "start_time": "2022-09-19T08:08:09.211Z"
   },
   {
    "duration": 23,
    "start_time": "2022-09-19T08:08:09.220Z"
   },
   {
    "duration": 14,
    "start_time": "2022-09-19T08:08:09.244Z"
   },
   {
    "duration": 9,
    "start_time": "2022-09-19T08:08:09.310Z"
   },
   {
    "duration": 10,
    "start_time": "2022-09-19T08:08:09.321Z"
   },
   {
    "duration": 9,
    "start_time": "2022-09-19T08:08:09.334Z"
   },
   {
    "duration": 62,
    "start_time": "2022-09-19T08:08:09.349Z"
   },
   {
    "duration": 12,
    "start_time": "2022-09-19T08:08:52.887Z"
   },
   {
    "duration": 23,
    "start_time": "2022-09-19T08:11:47.246Z"
   },
   {
    "duration": 19,
    "start_time": "2022-09-19T08:12:20.802Z"
   },
   {
    "duration": 16,
    "start_time": "2022-09-19T08:13:13.348Z"
   },
   {
    "duration": 13,
    "start_time": "2022-09-19T08:14:08.691Z"
   },
   {
    "duration": 19,
    "start_time": "2022-09-19T08:14:48.900Z"
   },
   {
    "duration": 528,
    "start_time": "2022-09-19T08:28:03.890Z"
   },
   {
    "duration": 16,
    "start_time": "2022-09-19T08:28:04.423Z"
   },
   {
    "duration": 10,
    "start_time": "2022-09-19T08:28:04.440Z"
   },
   {
    "duration": 8,
    "start_time": "2022-09-19T08:28:04.452Z"
   },
   {
    "duration": 6,
    "start_time": "2022-09-19T08:28:04.462Z"
   },
   {
    "duration": 14,
    "start_time": "2022-09-19T08:28:04.470Z"
   },
   {
    "duration": 16,
    "start_time": "2022-09-19T08:28:04.508Z"
   },
   {
    "duration": 12,
    "start_time": "2022-09-19T08:28:04.525Z"
   },
   {
    "duration": 14,
    "start_time": "2022-09-19T08:28:04.538Z"
   },
   {
    "duration": 43,
    "start_time": "2022-09-19T08:28:04.554Z"
   },
   {
    "duration": 41,
    "start_time": "2022-09-19T08:28:04.598Z"
   },
   {
    "duration": 35,
    "start_time": "2022-09-19T08:28:04.641Z"
   },
   {
    "duration": 51,
    "start_time": "2022-09-19T08:28:04.679Z"
   },
   {
    "duration": 239,
    "start_time": "2022-09-19T08:28:04.734Z"
   },
   {
    "duration": 17,
    "start_time": "2022-09-19T08:28:04.974Z"
   },
   {
    "duration": 32,
    "start_time": "2022-09-19T08:28:04.993Z"
   },
   {
    "duration": 34,
    "start_time": "2022-09-19T08:28:05.027Z"
   },
   {
    "duration": 10,
    "start_time": "2022-09-19T08:28:05.063Z"
   },
   {
    "duration": 36,
    "start_time": "2022-09-19T08:28:05.075Z"
   },
   {
    "duration": 24,
    "start_time": "2022-09-19T08:28:05.114Z"
   },
   {
    "duration": 7,
    "start_time": "2022-09-19T08:28:05.140Z"
   },
   {
    "duration": 6,
    "start_time": "2022-09-19T08:28:05.148Z"
   },
   {
    "duration": 19,
    "start_time": "2022-09-19T08:28:05.155Z"
   },
   {
    "duration": 14,
    "start_time": "2022-09-19T08:28:05.175Z"
   },
   {
    "duration": 28,
    "start_time": "2022-09-19T08:28:05.190Z"
   },
   {
    "duration": 21,
    "start_time": "2022-09-19T08:28:05.220Z"
   },
   {
    "duration": 10,
    "start_time": "2022-09-19T08:28:05.243Z"
   },
   {
    "duration": 17,
    "start_time": "2022-09-19T08:28:05.254Z"
   }
  ],
  "kernelspec": {
   "display_name": "Python 3 (ipykernel)",
   "language": "python",
   "name": "python3"
  },
  "language_info": {
   "codemirror_mode": {
    "name": "ipython",
    "version": 3
   },
   "file_extension": ".py",
   "mimetype": "text/x-python",
   "name": "python",
   "nbconvert_exporter": "python",
   "pygments_lexer": "ipython3",
   "version": "3.9.5"
  },
  "toc": {
   "base_numbering": 1,
   "nav_menu": {},
   "number_sections": true,
   "sideBar": true,
   "skip_h1_title": true,
   "title_cell": "Table of Contents",
   "title_sidebar": "Contents",
   "toc_cell": false,
   "toc_position": {},
   "toc_section_display": true,
   "toc_window_display": true
  }
 },
 "nbformat": 4,
 "nbformat_minor": 5
}
