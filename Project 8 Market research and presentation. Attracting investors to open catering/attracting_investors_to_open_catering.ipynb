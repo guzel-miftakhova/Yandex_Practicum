{
 "cells": [
  {
   "cell_type": "markdown",
   "metadata": {},
   "source": [
    "## Обзор данных  и предобработка данных."
   ]
  },
  {
   "cell_type": "markdown",
   "metadata": {},
   "source": [
    "У нас есть открытые данные о заведениях общественного питания в Москве. Загрузим их в таблицу."
   ]
  },
  {
   "cell_type": "code",
   "execution_count": 1,
   "metadata": {},
   "outputs": [],
   "source": [
    "# импорт библиотек для работы\n",
    "import pandas as pd\n",
    "import matplotlib.pyplot as plt\n",
    "import seaborn as sns\n",
    "import numpy as np\n",
    "from datetime import datetime\n",
    "import sys\n",
    "np.set_printoptions(threshold=sys.maxsize)\n",
    "pd.set_option('display.max_rows', None)\n",
    "pd.set_option('display.max_columns', None)\n",
    "pd.set_option('display.max_colwidth', None)\n",
    "from io import BytesIO\n",
    "import requests"
   ]
  },
  {
   "cell_type": "code",
   "execution_count": 2,
   "metadata": {},
   "outputs": [
    {
     "data": {
      "text/html": [
       "<div>\n",
       "<style scoped>\n",
       "    .dataframe tbody tr th:only-of-type {\n",
       "        vertical-align: middle;\n",
       "    }\n",
       "\n",
       "    .dataframe tbody tr th {\n",
       "        vertical-align: top;\n",
       "    }\n",
       "\n",
       "    .dataframe thead th {\n",
       "        text-align: right;\n",
       "    }\n",
       "</style>\n",
       "<table border=\"1\" class=\"dataframe\">\n",
       "  <thead>\n",
       "    <tr style=\"text-align: right;\">\n",
       "      <th></th>\n",
       "      <th>id</th>\n",
       "      <th>object_name</th>\n",
       "      <th>chain</th>\n",
       "      <th>object_type</th>\n",
       "      <th>address</th>\n",
       "      <th>number</th>\n",
       "    </tr>\n",
       "  </thead>\n",
       "  <tbody>\n",
       "    <tr>\n",
       "      <th>0</th>\n",
       "      <td>151635</td>\n",
       "      <td>СМЕТАНА</td>\n",
       "      <td>нет</td>\n",
       "      <td>кафе</td>\n",
       "      <td>город Москва, улица Егора Абакумова, дом 9</td>\n",
       "      <td>48</td>\n",
       "    </tr>\n",
       "    <tr>\n",
       "      <th>1</th>\n",
       "      <td>77874</td>\n",
       "      <td>Родник</td>\n",
       "      <td>нет</td>\n",
       "      <td>кафе</td>\n",
       "      <td>город Москва, улица Талалихина, дом 2/1, корпус 1</td>\n",
       "      <td>35</td>\n",
       "    </tr>\n",
       "    <tr>\n",
       "      <th>2</th>\n",
       "      <td>24309</td>\n",
       "      <td>Кафе «Академия»</td>\n",
       "      <td>нет</td>\n",
       "      <td>кафе</td>\n",
       "      <td>город Москва, Абельмановская улица, дом 6</td>\n",
       "      <td>95</td>\n",
       "    </tr>\n",
       "    <tr>\n",
       "      <th>3</th>\n",
       "      <td>21894</td>\n",
       "      <td>ПИЦЦЕТОРИЯ</td>\n",
       "      <td>да</td>\n",
       "      <td>кафе</td>\n",
       "      <td>город Москва, Абрамцевская улица, дом 1</td>\n",
       "      <td>40</td>\n",
       "    </tr>\n",
       "    <tr>\n",
       "      <th>4</th>\n",
       "      <td>119365</td>\n",
       "      <td>Кафе «Вишневая метель»</td>\n",
       "      <td>нет</td>\n",
       "      <td>кафе</td>\n",
       "      <td>город Москва, Абрамцевская улица, дом 9, корпус 1</td>\n",
       "      <td>50</td>\n",
       "    </tr>\n",
       "  </tbody>\n",
       "</table>\n",
       "</div>"
      ],
      "text/plain": [
       "       id             object_name chain object_type  \\\n",
       "0  151635                 СМЕТАНА   нет        кафе   \n",
       "1   77874                  Родник   нет        кафе   \n",
       "2   24309         Кафе «Академия»   нет        кафе   \n",
       "3   21894              ПИЦЦЕТОРИЯ    да        кафе   \n",
       "4  119365  Кафе «Вишневая метель»   нет        кафе   \n",
       "\n",
       "                                             address  number  \n",
       "0         город Москва, улица Егора Абакумова, дом 9      48  \n",
       "1  город Москва, улица Талалихина, дом 2/1, корпус 1      35  \n",
       "2          город Москва, Абельмановская улица, дом 6      95  \n",
       "3            город Москва, Абрамцевская улица, дом 1      40  \n",
       "4  город Москва, Абрамцевская улица, дом 9, корпус 1      50  "
      ]
     },
     "execution_count": 2,
     "metadata": {},
     "output_type": "execute_result"
    }
   ],
   "source": [
    "# открываем файл с данными\n",
    "df = pd.read_csv('..../rest_data.csv')\n",
    "\n",
    "# выводим 5 строк для ознакомления\n",
    "df.head()"
   ]
  },
  {
   "cell_type": "code",
   "execution_count": 3,
   "metadata": {},
   "outputs": [
    {
     "name": "stdout",
     "output_type": "stream",
     "text": [
      "<class 'pandas.core.frame.DataFrame'>\n",
      "RangeIndex: 15366 entries, 0 to 15365\n",
      "Data columns (total 6 columns):\n",
      " #   Column       Non-Null Count  Dtype \n",
      "---  ------       --------------  ----- \n",
      " 0   id           15366 non-null  int64 \n",
      " 1   object_name  15366 non-null  object\n",
      " 2   chain        15366 non-null  object\n",
      " 3   object_type  15366 non-null  object\n",
      " 4   address      15366 non-null  object\n",
      " 5   number       15366 non-null  int64 \n",
      "dtypes: int64(2), object(4)\n",
      "memory usage: 720.4+ KB\n"
     ]
    }
   ],
   "source": [
    "# описание данных\n",
    "df.info()"
   ]
  },
  {
   "cell_type": "markdown",
   "metadata": {},
   "source": [
    "Таблица хранит данные о заведениях общественного питания в Москве (6 столбцов и 15366 строк, типы данных по столбцам: int64(2), object(4)):\n",
    "\n",
    "* `id` — идентификатор объекта;\n",
    "* `object_name` — название объекта общественного питания;\n",
    "* `chain` — сетевое ли заведение (да/нет);\n",
    "* `object_type` — тип объекта общественного питания;\n",
    "* `address` — адрес заведения;\n",
    "* `number` — количество посадочных мест.\n"
   ]
  },
  {
   "cell_type": "markdown",
   "metadata": {},
   "source": [
    "<div style=\"border:solid green 1px; padding: 10px\">\n",
    "\n",
    "Пропусков в данных нет. Названия столбцов в одном стиле и регистре. Типы данных соответствуют содержанию.\n",
    "В столбце `address` где-то указано \"город москва\", где-то нет, т.к. данные у нас только по Москве, то можно это словосочетание убрать везде.\n",
    "\n",
    "Также приведем значения столбцов `object_name` и `address` к одному регистру и проверим на дубликаты."
   ]
  },
  {
   "cell_type": "code",
   "execution_count": 4,
   "metadata": {},
   "outputs": [],
   "source": [
    "# приведение значений в котегориальных столбцах к общему регистру для проверки на дубликаты\n",
    "check_list = ['object_name', 'address']\n",
    "for col in df:\n",
    "    if col in check_list:\n",
    "        df[col] = df[col].str.lower()"
   ]
  },
  {
   "cell_type": "code",
   "execution_count": 5,
   "metadata": {},
   "outputs": [],
   "source": [
    "#удалям \"город москва\"\n",
    "df['address'] = df['address'].replace('город москва, ', '', regex=True)"
   ]
  },
  {
   "cell_type": "code",
   "execution_count": 6,
   "metadata": {},
   "outputs": [
    {
     "data": {
      "text/html": [
       "<div>\n",
       "<style scoped>\n",
       "    .dataframe tbody tr th:only-of-type {\n",
       "        vertical-align: middle;\n",
       "    }\n",
       "\n",
       "    .dataframe tbody tr th {\n",
       "        vertical-align: top;\n",
       "    }\n",
       "\n",
       "    .dataframe thead th {\n",
       "        text-align: right;\n",
       "    }\n",
       "</style>\n",
       "<table border=\"1\" class=\"dataframe\">\n",
       "  <thead>\n",
       "    <tr style=\"text-align: right;\">\n",
       "      <th></th>\n",
       "      <th>id</th>\n",
       "      <th>object_name</th>\n",
       "      <th>chain</th>\n",
       "      <th>object_type</th>\n",
       "      <th>address</th>\n",
       "      <th>number</th>\n",
       "    </tr>\n",
       "  </thead>\n",
       "  <tbody>\n",
       "    <tr>\n",
       "      <th>0</th>\n",
       "      <td>151635</td>\n",
       "      <td>сметана</td>\n",
       "      <td>нет</td>\n",
       "      <td>кафе</td>\n",
       "      <td>улица егора абакумова, дом 9</td>\n",
       "      <td>48</td>\n",
       "    </tr>\n",
       "    <tr>\n",
       "      <th>1</th>\n",
       "      <td>77874</td>\n",
       "      <td>родник</td>\n",
       "      <td>нет</td>\n",
       "      <td>кафе</td>\n",
       "      <td>улица талалихина, дом 2/1, корпус 1</td>\n",
       "      <td>35</td>\n",
       "    </tr>\n",
       "    <tr>\n",
       "      <th>2</th>\n",
       "      <td>24309</td>\n",
       "      <td>кафе «академия»</td>\n",
       "      <td>нет</td>\n",
       "      <td>кафе</td>\n",
       "      <td>абельмановская улица, дом 6</td>\n",
       "      <td>95</td>\n",
       "    </tr>\n",
       "    <tr>\n",
       "      <th>3</th>\n",
       "      <td>21894</td>\n",
       "      <td>пиццетория</td>\n",
       "      <td>да</td>\n",
       "      <td>кафе</td>\n",
       "      <td>абрамцевская улица, дом 1</td>\n",
       "      <td>40</td>\n",
       "    </tr>\n",
       "    <tr>\n",
       "      <th>4</th>\n",
       "      <td>119365</td>\n",
       "      <td>кафе «вишневая метель»</td>\n",
       "      <td>нет</td>\n",
       "      <td>кафе</td>\n",
       "      <td>абрамцевская улица, дом 9, корпус 1</td>\n",
       "      <td>50</td>\n",
       "    </tr>\n",
       "  </tbody>\n",
       "</table>\n",
       "</div>"
      ],
      "text/plain": [
       "       id             object_name chain object_type  \\\n",
       "0  151635                 сметана   нет        кафе   \n",
       "1   77874                  родник   нет        кафе   \n",
       "2   24309         кафе «академия»   нет        кафе   \n",
       "3   21894              пиццетория    да        кафе   \n",
       "4  119365  кафе «вишневая метель»   нет        кафе   \n",
       "\n",
       "                               address  number  \n",
       "0         улица егора абакумова, дом 9      48  \n",
       "1  улица талалихина, дом 2/1, корпус 1      35  \n",
       "2          абельмановская улица, дом 6      95  \n",
       "3            абрамцевская улица, дом 1      40  \n",
       "4  абрамцевская улица, дом 9, корпус 1      50  "
      ]
     },
     "execution_count": 6,
     "metadata": {},
     "output_type": "execute_result"
    }
   ],
   "source": [
    "df.head()"
   ]
  },
  {
   "cell_type": "code",
   "execution_count": 7,
   "metadata": {
    "scrolled": true
   },
   "outputs": [
    {
     "data": {
      "text/plain": [
       "0"
      ]
     },
     "execution_count": 7,
     "metadata": {},
     "output_type": "execute_result"
    }
   ],
   "source": [
    "# проверка на дубликаты\n",
    "df.duplicated().sum()"
   ]
  },
  {
   "cell_type": "code",
   "execution_count": 8,
   "metadata": {
    "scrolled": false
   },
   "outputs": [
    {
     "data": {
      "text/html": [
       "<div>\n",
       "<style scoped>\n",
       "    .dataframe tbody tr th:only-of-type {\n",
       "        vertical-align: middle;\n",
       "    }\n",
       "\n",
       "    .dataframe tbody tr th {\n",
       "        vertical-align: top;\n",
       "    }\n",
       "\n",
       "    .dataframe thead th {\n",
       "        text-align: right;\n",
       "    }\n",
       "</style>\n",
       "<table border=\"1\" class=\"dataframe\">\n",
       "  <thead>\n",
       "    <tr style=\"text-align: right;\">\n",
       "      <th></th>\n",
       "      <th></th>\n",
       "      <th></th>\n",
       "      <th>object_name</th>\n",
       "      <th>object_type</th>\n",
       "      <th>address</th>\n",
       "    </tr>\n",
       "    <tr>\n",
       "      <th>object_name</th>\n",
       "      <th>object_type</th>\n",
       "      <th>address</th>\n",
       "      <th></th>\n",
       "      <th></th>\n",
       "      <th></th>\n",
       "    </tr>\n",
       "  </thead>\n",
       "  <tbody>\n",
       "  </tbody>\n",
       "</table>\n",
       "</div>"
      ],
      "text/plain": [
       "Empty DataFrame\n",
       "Columns: [object_name, object_type, address]\n",
       "Index: []"
      ]
     },
     "execution_count": 8,
     "metadata": {},
     "output_type": "execute_result"
    }
   ],
   "source": [
    "# проверка на не явные дубли (все одинаковое, кроме id)\n",
    "(df.groupby(['object_name', 'object_type', 'address'])\n",
    " .agg({'object_name' : 'nunique', 'object_type' : 'nunique', 'address' : 'nunique'})\n",
    " .query('object_name > 1 and object_type > 1 and address > 1'))"
   ]
  },
  {
   "cell_type": "markdown",
   "metadata": {},
   "source": [
    "Скорее не характерно, чем наоборот, отсутствие посадочных мест либо всего одно такое место для большинства видов заведений общественного питани.\n",
    "\n",
    "Если судить по Московским городским строительным нормам, оптимальное количество посадочных мест для заведений общественного питания составляет:\n",
    "\n",
    "* Ресторан - 50-200 человек;\n",
    "* Бар - 25-100 человек;\n",
    "* Кафе - 25-200 человек;\n",
    "* Столовая - 25-200 человек;\n",
    "* Закусочная - 25-50 человек;\n",
    "* Кафетерий - 8-50  человек.\n",
    "\n",
    "Однако и без посадочных мест заведения возможны, легко представить себе отдел кулинарии магазина или буфет, предусматривающий только времяпрепровождение стоя.\n",
    "\n",
    "Посмотрим сколько в нашем датафрейме таких заведений (с числом мест не более 5ти или с числом мест от 300 и выше)."
   ]
  },
  {
   "cell_type": "code",
   "execution_count": 9,
   "metadata": {
    "scrolled": false
   },
   "outputs": [
    {
     "data": {
      "text/plain": [
       "предприятие быстрого обслуживания    972\n",
       "кафе                                 600\n",
       "закусочная                           242\n",
       "кафетерий                            194\n",
       "магазин (отдел кулинарии)            192\n",
       "столовая                             149\n",
       "ресторан                             129\n",
       "буфет                                 90\n",
       "бар                                   68\n",
       "Name: object_type, dtype: int64"
      ]
     },
     "execution_count": 9,
     "metadata": {},
     "output_type": "execute_result"
    }
   ],
   "source": [
    "# заведения с числом мест не более пяти или с числом мест от 300 и выше\n",
    "df.query('number <= 5 or number >=300')['object_type'].value_counts()"
   ]
  },
  {
   "cell_type": "code",
   "execution_count": 10,
   "metadata": {},
   "outputs": [
    {
     "name": "stdout",
     "output_type": "stream",
     "text": [
      "Доля предприятие быстрого обслуживания:  6.33\n",
      "Доля закусочная:  1.57\n",
      "Доля магазин (отдел кулинарии):  1.25\n",
      "Доля кафетерий:  1.26\n",
      "Доля кафе:  3.9\n",
      "Доля ресторан:  0.84\n",
      "Доля буфет:  0.59\n",
      "Доля столовая:  0.97\n",
      "Доля бар:  0.44\n"
     ]
    }
   ],
   "source": [
    "# доля не типичных заведений\n",
    "type_rest = ['предприятие быстрого обслуживания', 'закусочная', 'магазин (отдел кулинарии)',\n",
    "             'кафетерий', 'кафе','ресторан', 'буфет', 'столовая', 'бар']\n",
    "nottypical_rest = df.query('number <= 5 or number >=300')\n",
    "\n",
    "for rest in type_rest:\n",
    "    (print('Доля {}: '.format(rest), round((nottypical_rest.query('object_type == @rest')['id'].count()\n",
    "                                            / df.shape[0] * 100), 2)))        "
   ]
  },
  {
   "cell_type": "markdown",
   "metadata": {},
   "source": [
    "Доля, занимаемая такими заведениями от общих данных в датафрейме очень мала и их можно удалить.\n",
    "\n",
    "Оставим только отделы кулинарии, буфеты, закусочные без \"сидячих\" мест, т.к. в таких заведениях довольно логично отсутсвие посадочных мест."
   ]
  },
  {
   "cell_type": "code",
   "execution_count": 11,
   "metadata": {},
   "outputs": [],
   "source": [
    "# удалим кафе, рестораны и закусочные без посадочных мест или с одним местом\n",
    "type_rest_min = ['предприятие быстрого обслуживания', 'кафетерий', 'кафе','ресторан','столовая', 'бар']\n",
    "df = df.drop(df.query('number <= 5 and object_type in @type_rest_min or number >=300 and object_type in @type_rest').index)"
   ]
  },
  {
   "cell_type": "markdown",
   "metadata": {},
   "source": [
    "Посмотрим на сетевые объекты, есть ли такие в которые входит всего одно заведение:"
   ]
  },
  {
   "cell_type": "code",
   "execution_count": 12,
   "metadata": {
    "scrolled": true
   },
   "outputs": [
    {
     "name": "stdout",
     "output_type": "stream",
     "text": [
      "Количество:  316\n",
      "Доля:  2.384725681080673\n"
     ]
    }
   ],
   "source": [
    "print('Количество: ', df.query('chain == \"да\"').groupby('object_name').agg({'id': 'count'}).query('id == 1').shape[0])\n",
    "(print('Доля: ', df.query('chain == \"да\"').groupby('object_name').agg({'id': 'count'}).query('id == 1').shape[0]\n",
    "       / df.shape[0] * 100))"
   ]
  },
  {
   "cell_type": "markdown",
   "metadata": {},
   "source": [
    "316 значений в наших данных. Возможно предположить, что признак \"сетевитости\" указан не верно.\n",
    "\n",
    "Можно изменить значения столбца `chain` для этих 316 заведения с \"да\" на \"нет\", однако не для всех заведений это может быть верно, т.к. кто-то относиться по факту к сети, но из-за не верного заполнения столбца `object_name` не попадает в общую сеть, к примеру такие названия как \"kfc волгоградский\" или \"пбо «kfc»\", \"prime star прайм стар\" или \"prime прайм стар прайм-кафе\", \"starbucks coffee\" или \"starbucks старбакс\" дают возможность отнести их к одной сети.\n",
    "\n",
    "Доля таких заведений всего 2% от общего датафрейма, удалим их вовсе."
   ]
  },
  {
   "cell_type": "code",
   "execution_count": 13,
   "metadata": {},
   "outputs": [],
   "source": [
    "#собираем и удаляем значения\n",
    "chain_df = df.query('chain == \"да\"').groupby('object_name').agg({'id': 'count'}).query('id == 1').reset_index()\n",
    "chain_df = chain_df['object_name']\n",
    "chain_df\n",
    "df = df.drop(df.query('object_name in @chain_df').index)"
   ]
  },
  {
   "cell_type": "markdown",
   "metadata": {},
   "source": [
    "## Предварительный анализ.\n",
    "\n",
    "### Соотношение видов объектов общественного питания по количеству."
   ]
  },
  {
   "cell_type": "code",
   "execution_count": 14,
   "metadata": {},
   "outputs": [],
   "source": [
    "# сводим данные\n",
    "cnt_types = (\n",
    "    df.pivot_table(index='object_type', values='id', aggfunc='count').reset_index().sort_values(by='id', ascending=False))"
   ]
  },
  {
   "cell_type": "code",
   "execution_count": 15,
   "metadata": {},
   "outputs": [
    {
     "data": {
      "image/png": "[encoded data removed]",
      "text/plain": [
       "<Figure size 864x432 with 1 Axes>"
      ]
     },
     "metadata": {
      "needs_background": "light"
     },
     "output_type": "display_data"
    }
   ],
   "source": [
    "# строим график\n",
    "plt.figure(figsize=(12, 6))\n",
    "ax = sns.barplot(x='id', y='object_type', data=cnt_types, color='orchid')\n",
    "ax.set_title('Соотношение видов объектов общественного питания по количеству')\n",
    "ax.set_xlabel('Количество') \n",
    "ax.set_ylabel('Тип заведения');"
   ]
  },
  {
   "cell_type": "markdown",
   "metadata": {},
   "source": [
    "<div style=\"border:solid green 1px; padding: 10px\">\n",
    "\n",
    "Распределение заведений по типам:\n",
    "\n",
    "1. Кафе\t- 5333\n",
    "2. Столовая - 2438\n",
    "3. Ресторан - 2068\n",
    "4. Предприятие быстрого обслуживания - 914\n",
    "5. Бар - 769\n",
    "6. Буфет - 582\n",
    "7. Кафетерий - 348\n",
    "8. Закусочная - 264\n",
    "9. Магазин (отдел кулинарии) - 198"
   ]
  },
  {
   "cell_type": "markdown",
   "metadata": {},
   "source": [
    "### Соотношение сетевых и несетевых заведений по количеству."
   ]
  },
  {
   "cell_type": "code",
   "execution_count": 16,
   "metadata": {},
   "outputs": [
    {
     "data": {
      "image/png": "[encoded data removed]",
      "text/plain": [
       "<Figure size 504x360 with 1 Axes>"
      ]
     },
     "metadata": {
      "needs_background": "light"
     },
     "output_type": "display_data"
    }
   ],
   "source": [
    "# строим график\n",
    "plt.figure(figsize=(7, 5))\n",
    "df['chain'].value_counts().plot(kind='bar', grid=True, color='orchid')\n",
    "plt.xticks(rotation =0)\n",
    "plt.xlabel('Сетевое ли заведение')\n",
    "plt.ylabel('Количество')\n",
    "plt.title('Соотношение сетевых и несетевых заведений по количеству');"
   ]
  },
  {
   "cell_type": "code",
   "execution_count": 17,
   "metadata": {},
   "outputs": [
    {
     "data": {
      "text/plain": [
       "0.18"
      ]
     },
     "execution_count": 17,
     "metadata": {},
     "output_type": "execute_result"
    }
   ],
   "source": [
    "round(df.query('chain == \"да\"')['id'].count() / df['id'].count(), 2)"
   ]
  },
  {
   "cell_type": "markdown",
   "metadata": {},
   "source": [
    "<div style=\"border:solid green 1px; padding: 10px\">\n",
    "\n",
    "Не сетевиков значительно больше (12914), чем сетевых заведений (2311). Доля сетевых заведений всего 18%."
   ]
  },
  {
   "cell_type": "markdown",
   "metadata": {},
   "source": [
    "**Посмотрим для какого вида объекта общественного питания характерно сетевое распространение:**"
   ]
  },
  {
   "cell_type": "code",
   "execution_count": 18,
   "metadata": {},
   "outputs": [
    {
     "data": {
      "text/html": [
       "<div>\n",
       "<style scoped>\n",
       "    .dataframe tbody tr th:only-of-type {\n",
       "        vertical-align: middle;\n",
       "    }\n",
       "\n",
       "    .dataframe tbody tr th {\n",
       "        vertical-align: top;\n",
       "    }\n",
       "\n",
       "    .dataframe thead th {\n",
       "        text-align: right;\n",
       "    }\n",
       "</style>\n",
       "<table border=\"1\" class=\"dataframe\">\n",
       "  <thead>\n",
       "    <tr style=\"text-align: right;\">\n",
       "      <th></th>\n",
       "      <th>object_type</th>\n",
       "      <th>chain</th>\n",
       "      <th>share</th>\n",
       "    </tr>\n",
       "  </thead>\n",
       "  <tbody>\n",
       "    <tr>\n",
       "      <th>6</th>\n",
       "      <td>предприятие быстрого обслуживания</td>\n",
       "      <td>578</td>\n",
       "      <td>63.24</td>\n",
       "    </tr>\n",
       "    <tr>\n",
       "      <th>5</th>\n",
       "      <td>магазин (отдел кулинарии)</td>\n",
       "      <td>69</td>\n",
       "      <td>26.14</td>\n",
       "    </tr>\n",
       "    <tr>\n",
       "      <th>3</th>\n",
       "      <td>кафе</td>\n",
       "      <td>1144</td>\n",
       "      <td>21.45</td>\n",
       "    </tr>\n",
       "    <tr>\n",
       "      <th>7</th>\n",
       "      <td>ресторан</td>\n",
       "      <td>423</td>\n",
       "      <td>20.45</td>\n",
       "    </tr>\n",
       "    <tr>\n",
       "      <th>2</th>\n",
       "      <td>закусочная</td>\n",
       "      <td>44</td>\n",
       "      <td>12.64</td>\n",
       "    </tr>\n",
       "    <tr>\n",
       "      <th>4</th>\n",
       "      <td>кафетерий</td>\n",
       "      <td>23</td>\n",
       "      <td>11.62</td>\n",
       "    </tr>\n",
       "    <tr>\n",
       "      <th>0</th>\n",
       "      <td>бар</td>\n",
       "      <td>16</td>\n",
       "      <td>2.08</td>\n",
       "    </tr>\n",
       "    <tr>\n",
       "      <th>1</th>\n",
       "      <td>буфет</td>\n",
       "      <td>11</td>\n",
       "      <td>1.89</td>\n",
       "    </tr>\n",
       "    <tr>\n",
       "      <th>8</th>\n",
       "      <td>столовая</td>\n",
       "      <td>3</td>\n",
       "      <td>0.12</td>\n",
       "    </tr>\n",
       "  </tbody>\n",
       "</table>\n",
       "</div>"
      ],
      "text/plain": [
       "                         object_type  chain  share\n",
       "6  предприятие быстрого обслуживания    578  63.24\n",
       "5          магазин (отдел кулинарии)     69  26.14\n",
       "3                               кафе   1144  21.45\n",
       "7                           ресторан    423  20.45\n",
       "2                         закусочная     44  12.64\n",
       "4                          кафетерий     23  11.62\n",
       "0                                бар     16   2.08\n",
       "1                              буфет     11   1.89\n",
       "8                           столовая      3   0.12"
      ]
     },
     "execution_count": 18,
     "metadata": {},
     "output_type": "execute_result"
    }
   ],
   "source": [
    "# сводим данные\n",
    "chain_type= (\n",
    "    df.query('chain == \"да\"').pivot_table(index='object_type', values='chain', aggfunc='count')\n",
    "    .reset_index())\n",
    "# добавим солбец с долей сетевых заведений в этом сегменте\n",
    "share = []\n",
    "for i in range(len(chain_type)):\n",
    "    rest = chain_type['object_type'][i]\n",
    "    share.append(round(df.query('object_type == @rest and chain == \"да\"')['id'].count()/\n",
    "                 df.query('object_type == @rest')['id'].count()*100, 2))\n",
    "\n",
    "chain_type['share'] = share\n",
    "chain_type = chain_type.sort_values(by='share', ascending=False)\n",
    "chain_type"
   ]
  },
  {
   "cell_type": "code",
   "execution_count": 19,
   "metadata": {
    "scrolled": false
   },
   "outputs": [
    {
     "data": {
      "image/png": "[encoded data removed]",
      "text/plain": [
       "<Figure size 864x432 with 1 Axes>"
      ]
     },
     "metadata": {
      "needs_background": "light"
     },
     "output_type": "display_data"
    }
   ],
   "source": [
    "# строим график\n",
    "plt.figure(figsize=(12, 6))\n",
    "ax = sns.barplot(x='share', y='object_type', data=chain_type, color='orchid')\n",
    "ax.set_title('Распределение долей видов объектов общественного питания по сетевому признаку')\n",
    "ax.set_xlabel('Доля от общего') \n",
    "ax.set_ylabel('Тип заведения');"
   ]
  },
  {
   "cell_type": "markdown",
   "metadata": {},
   "source": [
    "<div style=\"border:solid green 1px; padding: 10px\">\n",
    "\n",
    "Распределение заведений по количеству в каждом сегменте:\n",
    "\n",
    "1. Кафе\t- 1144\n",
    "2. Предприятие быстрого обслуживания - 578\n",
    "3. Ресторан - 423\n",
    "4. Магазин (отдел кулинарии) - 69\n",
    "5. Закусочная - 44\n",
    "6. Кафетерий - 23\n",
    "7. Бар - 16\n",
    "8. Буфет - 11\n",
    "9. Столовая - 3\n",
    "        \n",
    "Однако относительно долей от общего количества заведений каждого вида распределение сильно меняется и становится видно, что в каких-то типах заведений сетевики составляют значительную долю (например, `Предприятие быстрого обслуживания` или `Магазин (отдел кулинарии)`), а в каки- то нет (`Буфет` или `Столовая`)."
   ]
  },
  {
   "cell_type": "markdown",
   "metadata": {},
   "source": [
    "**Посмотрим что характерно для сетевых заведений относительно посадочных мест:**\n",
    "\n",
    "Узнаем минимальное, среднее, максимальное количество посадочных мест и распределим заведения на три категории:\n",
    "- `малое`\n",
    "- `среднее`\n",
    "- `крупное`"
   ]
  },
  {
   "cell_type": "code",
   "execution_count": 20,
   "metadata": {
    "scrolled": false
   },
   "outputs": [
    {
     "data": {
      "text/plain": [
       "count    2311.000000\n",
       "mean       55.539161\n",
       "std        47.633050\n",
       "min         0.000000\n",
       "25%        20.000000\n",
       "50%        43.000000\n",
       "75%        80.000000\n",
       "max       284.000000\n",
       "Name: number, dtype: float64"
      ]
     },
     "execution_count": 20,
     "metadata": {},
     "output_type": "execute_result"
    }
   ],
   "source": [
    "df.query('chain == \"да\"')['number'].describe()"
   ]
  },
  {
   "cell_type": "markdown",
   "metadata": {},
   "source": [
    "Отнесем к малым всех, у кого мест не больше 40, к средним тех, у кого до 100 мест и к крупным тех, у кого больше 100 мест в заведении."
   ]
  },
  {
   "cell_type": "code",
   "execution_count": 21,
   "metadata": {},
   "outputs": [],
   "source": [
    "def rest_category(number):\n",
    "    if number <= 40:\n",
    "        return 'малое'\n",
    "    if number <= 100:\n",
    "        return 'среднее'\n",
    "    return 'крупное'\n",
    "\n",
    "df['rest_category'] = df['number'].apply(rest_category)    "
   ]
  },
  {
   "cell_type": "code",
   "execution_count": 22,
   "metadata": {},
   "outputs": [
    {
     "data": {
      "text/plain": [
       "малое      6290\n",
       "среднее    4531\n",
       "крупное    2093\n",
       "Name: rest_category, dtype: int64"
      ]
     },
     "execution_count": 22,
     "metadata": {},
     "output_type": "execute_result"
    }
   ],
   "source": [
    "df['rest_category'].value_counts()"
   ]
  },
  {
   "cell_type": "code",
   "execution_count": 23,
   "metadata": {
    "scrolled": false
   },
   "outputs": [
    {
     "data": {
      "text/html": [
       "<div>\n",
       "<style scoped>\n",
       "    .dataframe tbody tr th:only-of-type {\n",
       "        vertical-align: middle;\n",
       "    }\n",
       "\n",
       "    .dataframe tbody tr th {\n",
       "        vertical-align: top;\n",
       "    }\n",
       "\n",
       "    .dataframe thead th {\n",
       "        text-align: right;\n",
       "    }\n",
       "</style>\n",
       "<table border=\"1\" class=\"dataframe\">\n",
       "  <thead>\n",
       "    <tr style=\"text-align: right;\">\n",
       "      <th></th>\n",
       "      <th>object_type</th>\n",
       "      <th>rest_category</th>\n",
       "      <th>id</th>\n",
       "    </tr>\n",
       "  </thead>\n",
       "  <tbody>\n",
       "    <tr>\n",
       "      <th>20</th>\n",
       "      <td>столовая</td>\n",
       "      <td>крупное</td>\n",
       "      <td>2</td>\n",
       "    </tr>\n",
       "    <tr>\n",
       "      <th>21</th>\n",
       "      <td>столовая</td>\n",
       "      <td>среднее</td>\n",
       "      <td>1</td>\n",
       "    </tr>\n",
       "    <tr>\n",
       "      <th>19</th>\n",
       "      <td>ресторан</td>\n",
       "      <td>среднее</td>\n",
       "      <td>218</td>\n",
       "    </tr>\n",
       "    <tr>\n",
       "      <th>17</th>\n",
       "      <td>ресторан</td>\n",
       "      <td>крупное</td>\n",
       "      <td>133</td>\n",
       "    </tr>\n",
       "    <tr>\n",
       "      <th>18</th>\n",
       "      <td>ресторан</td>\n",
       "      <td>малое</td>\n",
       "      <td>72</td>\n",
       "    </tr>\n",
       "    <tr>\n",
       "      <th>15</th>\n",
       "      <td>предприятие быстрого обслуживания</td>\n",
       "      <td>малое</td>\n",
       "      <td>321</td>\n",
       "    </tr>\n",
       "    <tr>\n",
       "      <th>16</th>\n",
       "      <td>предприятие быстрого обслуживания</td>\n",
       "      <td>среднее</td>\n",
       "      <td>205</td>\n",
       "    </tr>\n",
       "    <tr>\n",
       "      <th>14</th>\n",
       "      <td>предприятие быстрого обслуживания</td>\n",
       "      <td>крупное</td>\n",
       "      <td>52</td>\n",
       "    </tr>\n",
       "    <tr>\n",
       "      <th>12</th>\n",
       "      <td>магазин (отдел кулинарии)</td>\n",
       "      <td>малое</td>\n",
       "      <td>66</td>\n",
       "    </tr>\n",
       "    <tr>\n",
       "      <th>13</th>\n",
       "      <td>магазин (отдел кулинарии)</td>\n",
       "      <td>среднее</td>\n",
       "      <td>3</td>\n",
       "    </tr>\n",
       "    <tr>\n",
       "      <th>10</th>\n",
       "      <td>кафетерий</td>\n",
       "      <td>малое</td>\n",
       "      <td>21</td>\n",
       "    </tr>\n",
       "    <tr>\n",
       "      <th>11</th>\n",
       "      <td>кафетерий</td>\n",
       "      <td>среднее</td>\n",
       "      <td>2</td>\n",
       "    </tr>\n",
       "    <tr>\n",
       "      <th>8</th>\n",
       "      <td>кафе</td>\n",
       "      <td>малое</td>\n",
       "      <td>594</td>\n",
       "    </tr>\n",
       "    <tr>\n",
       "      <th>9</th>\n",
       "      <td>кафе</td>\n",
       "      <td>среднее</td>\n",
       "      <td>460</td>\n",
       "    </tr>\n",
       "    <tr>\n",
       "      <th>7</th>\n",
       "      <td>кафе</td>\n",
       "      <td>крупное</td>\n",
       "      <td>90</td>\n",
       "    </tr>\n",
       "    <tr>\n",
       "      <th>5</th>\n",
       "      <td>закусочная</td>\n",
       "      <td>малое</td>\n",
       "      <td>41</td>\n",
       "    </tr>\n",
       "    <tr>\n",
       "      <th>6</th>\n",
       "      <td>закусочная</td>\n",
       "      <td>среднее</td>\n",
       "      <td>3</td>\n",
       "    </tr>\n",
       "    <tr>\n",
       "      <th>3</th>\n",
       "      <td>буфет</td>\n",
       "      <td>малое</td>\n",
       "      <td>9</td>\n",
       "    </tr>\n",
       "    <tr>\n",
       "      <th>4</th>\n",
       "      <td>буфет</td>\n",
       "      <td>среднее</td>\n",
       "      <td>2</td>\n",
       "    </tr>\n",
       "    <tr>\n",
       "      <th>2</th>\n",
       "      <td>бар</td>\n",
       "      <td>среднее</td>\n",
       "      <td>8</td>\n",
       "    </tr>\n",
       "    <tr>\n",
       "      <th>1</th>\n",
       "      <td>бар</td>\n",
       "      <td>малое</td>\n",
       "      <td>5</td>\n",
       "    </tr>\n",
       "    <tr>\n",
       "      <th>0</th>\n",
       "      <td>бар</td>\n",
       "      <td>крупное</td>\n",
       "      <td>3</td>\n",
       "    </tr>\n",
       "  </tbody>\n",
       "</table>\n",
       "</div>"
      ],
      "text/plain": [
       "                          object_type rest_category   id\n",
       "20                           столовая       крупное    2\n",
       "21                           столовая       среднее    1\n",
       "19                           ресторан       среднее  218\n",
       "17                           ресторан       крупное  133\n",
       "18                           ресторан         малое   72\n",
       "15  предприятие быстрого обслуживания         малое  321\n",
       "16  предприятие быстрого обслуживания       среднее  205\n",
       "14  предприятие быстрого обслуживания       крупное   52\n",
       "12          магазин (отдел кулинарии)         малое   66\n",
       "13          магазин (отдел кулинарии)       среднее    3\n",
       "10                          кафетерий         малое   21\n",
       "11                          кафетерий       среднее    2\n",
       "8                                кафе         малое  594\n",
       "9                                кафе       среднее  460\n",
       "7                                кафе       крупное   90\n",
       "5                          закусочная         малое   41\n",
       "6                          закусочная       среднее    3\n",
       "3                               буфет         малое    9\n",
       "4                               буфет       среднее    2\n",
       "2                                 бар       среднее    8\n",
       "1                                 бар         малое    5\n",
       "0                                 бар       крупное    3"
      ]
     },
     "execution_count": 23,
     "metadata": {},
     "output_type": "execute_result"
    }
   ],
   "source": [
    "# сводим данные\n",
    "chain_rest = (\n",
    "    df.query('chain == \"да\"').groupby(['object_type', 'rest_category']).agg({'id' : 'count'})\n",
    "    .reset_index().sort_values(by=['object_type','id'], ascending=False)\n",
    ")\n",
    "chain_rest"
   ]
  },
  {
   "cell_type": "code",
   "execution_count": 24,
   "metadata": {
    "scrolled": false
   },
   "outputs": [
    {
     "data": {
      "image/png": "[encoded data removed]",
      "text/plain": [
       "<Figure size 864x432 with 1 Axes>"
      ]
     },
     "metadata": {
      "needs_background": "light"
     },
     "output_type": "display_data"
    }
   ],
   "source": [
    "# строим график\n",
    "plt.figure(figsize=(12, 6))\n",
    "plt.grid()\n",
    "ax = sns.barplot(x='id', y='object_type', hue='rest_category', data=chain_rest)\n",
    "ax.set_title('Распределение сетевых видов заведений по количеству посадочных мест')\n",
    "ax.set_xlabel('Количество заведений') \n",
    "ax.set_ylabel('Тип заведения');"
   ]
  },
  {
   "cell_type": "markdown",
   "metadata": {},
   "source": [
    "Посмотрим на данные через другой тип графика - диаграмму рассеивания:"
   ]
  },
  {
   "cell_type": "code",
   "execution_count": 25,
   "metadata": {},
   "outputs": [
    {
     "data": {
      "text/html": [
       "<div>\n",
       "<style scoped>\n",
       "    .dataframe tbody tr th:only-of-type {\n",
       "        vertical-align: middle;\n",
       "    }\n",
       "\n",
       "    .dataframe tbody tr th {\n",
       "        vertical-align: top;\n",
       "    }\n",
       "\n",
       "    .dataframe thead th {\n",
       "        text-align: right;\n",
       "    }\n",
       "</style>\n",
       "<table border=\"1\" class=\"dataframe\">\n",
       "  <thead>\n",
       "    <tr style=\"text-align: right;\">\n",
       "      <th></th>\n",
       "      <th>object_type</th>\n",
       "      <th>number</th>\n",
       "    </tr>\n",
       "  </thead>\n",
       "  <tbody>\n",
       "    <tr>\n",
       "      <th>8</th>\n",
       "      <td>столовая</td>\n",
       "      <td>112.33</td>\n",
       "    </tr>\n",
       "    <tr>\n",
       "      <th>7</th>\n",
       "      <td>ресторан</td>\n",
       "      <td>93.44</td>\n",
       "    </tr>\n",
       "    <tr>\n",
       "      <th>0</th>\n",
       "      <td>бар</td>\n",
       "      <td>71.06</td>\n",
       "    </tr>\n",
       "    <tr>\n",
       "      <th>3</th>\n",
       "      <td>кафе</td>\n",
       "      <td>49.97</td>\n",
       "    </tr>\n",
       "    <tr>\n",
       "      <th>6</th>\n",
       "      <td>предприятие быстрого обслуживания</td>\n",
       "      <td>48.99</td>\n",
       "    </tr>\n",
       "    <tr>\n",
       "      <th>4</th>\n",
       "      <td>кафетерий</td>\n",
       "      <td>20.83</td>\n",
       "    </tr>\n",
       "    <tr>\n",
       "      <th>2</th>\n",
       "      <td>закусочная</td>\n",
       "      <td>15.14</td>\n",
       "    </tr>\n",
       "    <tr>\n",
       "      <th>1</th>\n",
       "      <td>буфет</td>\n",
       "      <td>12.73</td>\n",
       "    </tr>\n",
       "    <tr>\n",
       "      <th>5</th>\n",
       "      <td>магазин (отдел кулинарии)</td>\n",
       "      <td>8.49</td>\n",
       "    </tr>\n",
       "  </tbody>\n",
       "</table>\n",
       "</div>"
      ],
      "text/plain": [
       "                         object_type  number\n",
       "8                           столовая  112.33\n",
       "7                           ресторан   93.44\n",
       "0                                бар   71.06\n",
       "3                               кафе   49.97\n",
       "6  предприятие быстрого обслуживания   48.99\n",
       "4                          кафетерий   20.83\n",
       "2                         закусочная   15.14\n",
       "1                              буфет   12.73\n",
       "5          магазин (отдел кулинарии)    8.49"
      ]
     },
     "execution_count": 25,
     "metadata": {},
     "output_type": "execute_result"
    }
   ],
   "source": [
    "# сводим данные\n",
    "chain_rest_v2 = (\n",
    "    df.query('chain == \"да\"').groupby('object_type').agg({'number' : 'mean'}).round(2)\n",
    "    .reset_index()\n",
    ")\n",
    "chain_rest_v2.sort_values(by='number', ascending=False)"
   ]
  },
  {
   "cell_type": "code",
   "execution_count": 26,
   "metadata": {
    "scrolled": false
   },
   "outputs": [
    {
     "data": {
      "image/png": "[encoded data removed]",
      "text/plain": [
       "<Figure size 648x432 with 1 Axes>"
      ]
     },
     "metadata": {
      "needs_background": "light"
     },
     "output_type": "display_data"
    }
   ],
   "source": [
    "chain_rest_v2.plot(kind='scatter', x='number', y='object_type', grid = True, figsize=(9, 6))\n",
    "plt.title('Распределение сетевых видов заведений по количеству посадочных мест.v2')\n",
    "plt.ylabel('Тип заведения')\n",
    "plt.xlabel('Количество мест');"
   ]
  },
  {
   "cell_type": "markdown",
   "metadata": {},
   "source": [
    "<div style=\"border:solid green 1px; padding: 10px\">\n",
    "\n",
    "Много заведений с небольшим числом посадочных мест в каждом среди 6 видов заведений из 9 (кафе, предприятия быстрого питания, кафетерии, закусочные, буфеты, отделы кулинарии магазинов).\n",
    "\n",
    "Рестораны в большей части средней вместительности, но и крупных сетевиков среди них тоже достаточно.\n",
    "\n",
    "Бары средние по количеству мест в заведениях, а малых чуть меньше, крупных почти нет.\n",
    "\n",
    "Столовые вообще редкость среди сетевых заведений, их всего 3 штуки (2 крупных и одно среднее)."
   ]
  },
  {
   "cell_type": "markdown",
   "metadata": {},
   "source": [
    "### Соотношение видов объектов общественного питания по количеству посадочных мест.\n",
    "\n",
    "Для каждого вида объекта общественного питания посмотрим какое среднее количество посадочных мест:"
   ]
  },
  {
   "cell_type": "code",
   "execution_count": 27,
   "metadata": {},
   "outputs": [
    {
     "data": {
      "text/html": [
       "<div>\n",
       "<style scoped>\n",
       "    .dataframe tbody tr th:only-of-type {\n",
       "        vertical-align: middle;\n",
       "    }\n",
       "\n",
       "    .dataframe tbody tr th {\n",
       "        vertical-align: top;\n",
       "    }\n",
       "\n",
       "    .dataframe thead th {\n",
       "        text-align: right;\n",
       "    }\n",
       "</style>\n",
       "<table border=\"1\" class=\"dataframe\">\n",
       "  <thead>\n",
       "    <tr style=\"text-align: right;\">\n",
       "      <th></th>\n",
       "      <th>object_type</th>\n",
       "      <th>number</th>\n",
       "    </tr>\n",
       "  </thead>\n",
       "  <tbody>\n",
       "    <tr>\n",
       "      <th>0</th>\n",
       "      <td>столовая</td>\n",
       "      <td>100</td>\n",
       "    </tr>\n",
       "    <tr>\n",
       "      <th>1</th>\n",
       "      <td>ресторан</td>\n",
       "      <td>80</td>\n",
       "    </tr>\n",
       "    <tr>\n",
       "      <th>2</th>\n",
       "      <td>бар</td>\n",
       "      <td>36</td>\n",
       "    </tr>\n",
       "    <tr>\n",
       "      <th>3</th>\n",
       "      <td>кафе</td>\n",
       "      <td>36</td>\n",
       "    </tr>\n",
       "    <tr>\n",
       "      <th>4</th>\n",
       "      <td>буфет</td>\n",
       "      <td>32</td>\n",
       "    </tr>\n",
       "    <tr>\n",
       "      <th>5</th>\n",
       "      <td>предприятие быстрого обслуживания</td>\n",
       "      <td>25</td>\n",
       "    </tr>\n",
       "    <tr>\n",
       "      <th>6</th>\n",
       "      <td>кафетерий</td>\n",
       "      <td>10</td>\n",
       "    </tr>\n",
       "    <tr>\n",
       "      <th>7</th>\n",
       "      <td>закусочная</td>\n",
       "      <td>0</td>\n",
       "    </tr>\n",
       "    <tr>\n",
       "      <th>8</th>\n",
       "      <td>магазин (отдел кулинарии)</td>\n",
       "      <td>0</td>\n",
       "    </tr>\n",
       "  </tbody>\n",
       "</table>\n",
       "</div>"
      ],
      "text/plain": [
       "                         object_type  number\n",
       "0                           столовая     100\n",
       "1                           ресторан      80\n",
       "2                                бар      36\n",
       "3                               кафе      36\n",
       "4                              буфет      32\n",
       "5  предприятие быстрого обслуживания      25\n",
       "6                          кафетерий      10\n",
       "7                         закусочная       0\n",
       "8          магазин (отдел кулинарии)       0"
      ]
     },
     "execution_count": 27,
     "metadata": {},
     "output_type": "execute_result"
    }
   ],
   "source": [
    "# сводим данные\n",
    "seat_rest = (\n",
    "    df.groupby('object_type').agg({'number': 'median'}).sort_values(by='number', ascending=False).reset_index())   \n",
    "seat_rest"
   ]
  },
  {
   "cell_type": "code",
   "execution_count": 28,
   "metadata": {},
   "outputs": [
    {
     "data": {
      "image/png": "[encoded data removed]",
      "text/plain": [
       "<Figure size 864x432 with 1 Axes>"
      ]
     },
     "metadata": {
      "needs_background": "light"
     },
     "output_type": "display_data"
    }
   ],
   "source": [
    "# строим график\n",
    "plt.figure(figsize=(12, 6))\n",
    "plt.grid()\n",
    "ax = sns.barplot(x='number', y='object_type', data=seat_rest, color='orchid')\n",
    "ax.set_title('Распределение видов заведений по срднему количеству посадочных мест')\n",
    "ax.set_xlabel('Среднее число мест') \n",
    "ax.set_ylabel('Тип заведения');"
   ]
  },
  {
   "cell_type": "markdown",
   "metadata": {},
   "source": [
    "<div style=\"border:solid green 1px; padding: 10px\">\n",
    "\n",
    "Среди всех заведений лидируют столовые по среднему числу мест в них, затем ресторaны и на третьем месте бары. В отделах кулинарии магазинов и закусочных с местами хуже всего - в среднем их там нет."
   ]
  },
  {
   "cell_type": "markdown",
   "metadata": {},
   "source": [
    "### Распределение видов объектов общественного питания по территориальному признаку.\n",
    "\n",
    "Выделим в отдельный столбец `street` информацию об улице из столбца `address` нашей тадлицы."
   ]
  },
  {
   "cell_type": "code",
   "execution_count": 29,
   "metadata": {},
   "outputs": [],
   "source": [
    "df.insert(5, 'street', df['address'].str.extract('(.*?),'))"
   ]
  },
  {
   "cell_type": "code",
   "execution_count": 30,
   "metadata": {},
   "outputs": [
    {
     "data": {
      "text/html": [
       "<div>\n",
       "<style scoped>\n",
       "    .dataframe tbody tr th:only-of-type {\n",
       "        vertical-align: middle;\n",
       "    }\n",
       "\n",
       "    .dataframe tbody tr th {\n",
       "        vertical-align: top;\n",
       "    }\n",
       "\n",
       "    .dataframe thead th {\n",
       "        text-align: right;\n",
       "    }\n",
       "</style>\n",
       "<table border=\"1\" class=\"dataframe\">\n",
       "  <thead>\n",
       "    <tr style=\"text-align: right;\">\n",
       "      <th></th>\n",
       "      <th>id</th>\n",
       "      <th>object_name</th>\n",
       "      <th>chain</th>\n",
       "      <th>object_type</th>\n",
       "      <th>address</th>\n",
       "      <th>street</th>\n",
       "      <th>number</th>\n",
       "      <th>rest_category</th>\n",
       "    </tr>\n",
       "  </thead>\n",
       "  <tbody>\n",
       "    <tr>\n",
       "      <th>0</th>\n",
       "      <td>151635</td>\n",
       "      <td>сметана</td>\n",
       "      <td>нет</td>\n",
       "      <td>кафе</td>\n",
       "      <td>улица егора абакумова, дом 9</td>\n",
       "      <td>улица егора абакумова</td>\n",
       "      <td>48</td>\n",
       "      <td>среднее</td>\n",
       "    </tr>\n",
       "    <tr>\n",
       "      <th>1</th>\n",
       "      <td>77874</td>\n",
       "      <td>родник</td>\n",
       "      <td>нет</td>\n",
       "      <td>кафе</td>\n",
       "      <td>улица талалихина, дом 2/1, корпус 1</td>\n",
       "      <td>улица талалихина</td>\n",
       "      <td>35</td>\n",
       "      <td>малое</td>\n",
       "    </tr>\n",
       "    <tr>\n",
       "      <th>2</th>\n",
       "      <td>24309</td>\n",
       "      <td>кафе «академия»</td>\n",
       "      <td>нет</td>\n",
       "      <td>кафе</td>\n",
       "      <td>абельмановская улица, дом 6</td>\n",
       "      <td>абельмановская улица</td>\n",
       "      <td>95</td>\n",
       "      <td>среднее</td>\n",
       "    </tr>\n",
       "    <tr>\n",
       "      <th>3</th>\n",
       "      <td>21894</td>\n",
       "      <td>пиццетория</td>\n",
       "      <td>да</td>\n",
       "      <td>кафе</td>\n",
       "      <td>абрамцевская улица, дом 1</td>\n",
       "      <td>абрамцевская улица</td>\n",
       "      <td>40</td>\n",
       "      <td>малое</td>\n",
       "    </tr>\n",
       "    <tr>\n",
       "      <th>4</th>\n",
       "      <td>119365</td>\n",
       "      <td>кафе «вишневая метель»</td>\n",
       "      <td>нет</td>\n",
       "      <td>кафе</td>\n",
       "      <td>абрамцевская улица, дом 9, корпус 1</td>\n",
       "      <td>абрамцевская улица</td>\n",
       "      <td>50</td>\n",
       "      <td>среднее</td>\n",
       "    </tr>\n",
       "  </tbody>\n",
       "</table>\n",
       "</div>"
      ],
      "text/plain": [
       "       id             object_name chain object_type  \\\n",
       "0  151635                 сметана   нет        кафе   \n",
       "1   77874                  родник   нет        кафе   \n",
       "2   24309         кафе «академия»   нет        кафе   \n",
       "3   21894              пиццетория    да        кафе   \n",
       "4  119365  кафе «вишневая метель»   нет        кафе   \n",
       "\n",
       "                               address                 street  number  \\\n",
       "0         улица егора абакумова, дом 9  улица егора абакумова      48   \n",
       "1  улица талалихина, дом 2/1, корпус 1       улица талалихина      35   \n",
       "2          абельмановская улица, дом 6   абельмановская улица      95   \n",
       "3            абрамцевская улица, дом 1     абрамцевская улица      40   \n",
       "4  абрамцевская улица, дом 9, корпус 1     абрамцевская улица      50   \n",
       "\n",
       "  rest_category  \n",
       "0       среднее  \n",
       "1         малое  \n",
       "2       среднее  \n",
       "3         малое  \n",
       "4       среднее  "
      ]
     },
     "execution_count": 30,
     "metadata": {},
     "output_type": "execute_result"
    }
   ],
   "source": [
    "df.head()"
   ]
  },
  {
   "cell_type": "markdown",
   "metadata": {},
   "source": [
    "**Построим график топ-10 улиц по количеству объектов общественного питания на них:**"
   ]
  },
  {
   "cell_type": "code",
   "execution_count": 31,
   "metadata": {},
   "outputs": [
    {
     "data": {
      "text/html": [
       "<div>\n",
       "<style scoped>\n",
       "    .dataframe tbody tr th:only-of-type {\n",
       "        vertical-align: middle;\n",
       "    }\n",
       "\n",
       "    .dataframe tbody tr th {\n",
       "        vertical-align: top;\n",
       "    }\n",
       "\n",
       "    .dataframe thead th {\n",
       "        text-align: right;\n",
       "    }\n",
       "</style>\n",
       "<table border=\"1\" class=\"dataframe\">\n",
       "  <thead>\n",
       "    <tr style=\"text-align: right;\">\n",
       "      <th></th>\n",
       "      <th>street</th>\n",
       "      <th>id</th>\n",
       "    </tr>\n",
       "  </thead>\n",
       "  <tbody>\n",
       "    <tr>\n",
       "      <th>472</th>\n",
       "      <td>город зеленоград</td>\n",
       "      <td>211</td>\n",
       "    </tr>\n",
       "    <tr>\n",
       "      <th>1053</th>\n",
       "      <td>проспект мира</td>\n",
       "      <td>194</td>\n",
       "    </tr>\n",
       "    <tr>\n",
       "      <th>685</th>\n",
       "      <td>ленинградский проспект</td>\n",
       "      <td>149</td>\n",
       "    </tr>\n",
       "    <tr>\n",
       "      <th>1057</th>\n",
       "      <td>профсоюзная улица</td>\n",
       "      <td>134</td>\n",
       "    </tr>\n",
       "    <tr>\n",
       "      <th>1016</th>\n",
       "      <td>пресненская набережная</td>\n",
       "      <td>131</td>\n",
       "    </tr>\n",
       "    <tr>\n",
       "      <th>688</th>\n",
       "      <td>ленинский проспект</td>\n",
       "      <td>124</td>\n",
       "    </tr>\n",
       "    <tr>\n",
       "      <th>408</th>\n",
       "      <td>варшавское шоссе</td>\n",
       "      <td>119</td>\n",
       "    </tr>\n",
       "    <tr>\n",
       "      <th>1005</th>\n",
       "      <td>поселение сосенское</td>\n",
       "      <td>113</td>\n",
       "    </tr>\n",
       "    <tr>\n",
       "      <th>1050</th>\n",
       "      <td>проспект вернадского</td>\n",
       "      <td>102</td>\n",
       "    </tr>\n",
       "    <tr>\n",
       "      <th>676</th>\n",
       "      <td>кутузовский проспект</td>\n",
       "      <td>97</td>\n",
       "    </tr>\n",
       "  </tbody>\n",
       "</table>\n",
       "</div>"
      ],
      "text/plain": [
       "                      street   id\n",
       "472         город зеленоград  211\n",
       "1053           проспект мира  194\n",
       "685   ленинградский проспект  149\n",
       "1057       профсоюзная улица  134\n",
       "1016  пресненская набережная  131\n",
       "688       ленинский проспект  124\n",
       "408         варшавское шоссе  119\n",
       "1005     поселение сосенское  113\n",
       "1050    проспект вернадского  102\n",
       "676     кутузовский проспект   97"
      ]
     },
     "execution_count": 31,
     "metadata": {},
     "output_type": "execute_result"
    }
   ],
   "source": [
    "# сводим данные\n",
    "top_streets = df.groupby('street').agg({'id': 'count'}).reset_index().sort_values(by='id', ascending=False).head(10)\n",
    "top_streets"
   ]
  },
  {
   "cell_type": "code",
   "execution_count": 32,
   "metadata": {},
   "outputs": [
    {
     "data": {
      "image/png": "[encoded data removed]",
      "text/plain": [
       "<Figure size 864x432 with 1 Axes>"
      ]
     },
     "metadata": {
      "needs_background": "light"
     },
     "output_type": "display_data"
    }
   ],
   "source": [
    "# строим график\n",
    "plt.figure(figsize=(12, 6))\n",
    "plt.grid()\n",
    "ax = sns.barplot(x='id', y='street', data=top_streets, color='orchid')\n",
    "ax.set_title('Распределение заведений по улицам Москвы')\n",
    "ax.set_xlabel('Количество') \n",
    "ax.set_ylabel('Тип заведения');"
   ]
  },
  {
   "cell_type": "markdown",
   "metadata": {},
   "source": [
    "Загрузим таблицу с данными об улицах с разбивкой по районам и округам, скачанную из интернета, для того чтобы узнать в каких районах Москвы находятся наши ТОП-10 улиц."
   ]
  },
  {
   "cell_type": "code",
   "execution_count": 33,
   "metadata": {},
   "outputs": [],
   "source": [
    "# загрузим таблицу с данными об улицах\n",
    "spreadsheet_id = '1gDq19E6zG4vHwcWHbZm69UAjIijt2wmP129sj75nRp4'\n",
    "file_name = 'https://docs.google.com/spreadsheets/d/{}/export?format=csv'.format(spreadsheet_id)\n",
    "r = requests.get(file_name)\n",
    "streets_df = pd.read_csv(BytesIO(r.content))"
   ]
  },
  {
   "cell_type": "code",
   "execution_count": 34,
   "metadata": {},
   "outputs": [
    {
     "data": {
      "text/html": [
       "<div>\n",
       "<style scoped>\n",
       "    .dataframe tbody tr th:only-of-type {\n",
       "        vertical-align: middle;\n",
       "    }\n",
       "\n",
       "    .dataframe tbody tr th {\n",
       "        vertical-align: top;\n",
       "    }\n",
       "\n",
       "    .dataframe thead th {\n",
       "        text-align: right;\n",
       "    }\n",
       "</style>\n",
       "<table border=\"1\" class=\"dataframe\">\n",
       "  <thead>\n",
       "    <tr style=\"text-align: right;\">\n",
       "      <th></th>\n",
       "      <th>streetname</th>\n",
       "      <th>areaid</th>\n",
       "      <th>okrug</th>\n",
       "      <th>area</th>\n",
       "    </tr>\n",
       "  </thead>\n",
       "  <tbody>\n",
       "    <tr>\n",
       "      <th>0</th>\n",
       "      <td>выставочный переулок</td>\n",
       "      <td>17</td>\n",
       "      <td>ЦАО</td>\n",
       "      <td>Пресненский район</td>\n",
       "    </tr>\n",
       "  </tbody>\n",
       "</table>\n",
       "</div>"
      ],
      "text/plain": [
       "             streetname  areaid okrug               area\n",
       "0  выставочный переулок      17   ЦАО  Пресненский район"
      ]
     },
     "execution_count": 34,
     "metadata": {},
     "output_type": "execute_result"
    }
   ],
   "source": [
    "# приведем названия улиц к нижнему регистру\n",
    "streets_df['streetname'] = streets_df['streetname'].str.lower()\n",
    "streets_df.head(1)"
   ]
  },
  {
   "cell_type": "code",
   "execution_count": 35,
   "metadata": {
    "scrolled": true
   },
   "outputs": [
    {
     "data": {
      "text/html": [
       "<div>\n",
       "<style scoped>\n",
       "    .dataframe tbody tr th:only-of-type {\n",
       "        vertical-align: middle;\n",
       "    }\n",
       "\n",
       "    .dataframe tbody tr th {\n",
       "        vertical-align: top;\n",
       "    }\n",
       "\n",
       "    .dataframe thead th {\n",
       "        text-align: right;\n",
       "    }\n",
       "</style>\n",
       "<table border=\"1\" class=\"dataframe\">\n",
       "  <thead>\n",
       "    <tr style=\"text-align: right;\">\n",
       "      <th></th>\n",
       "      <th>streetname</th>\n",
       "      <th>area</th>\n",
       "      <th>okrug</th>\n",
       "    </tr>\n",
       "  </thead>\n",
       "  <tbody>\n",
       "    <tr>\n",
       "      <th>32</th>\n",
       "      <td>профсоюзная улица</td>\n",
       "      <td>Район Ясенево</td>\n",
       "      <td>ЮЗАО</td>\n",
       "    </tr>\n",
       "    <tr>\n",
       "      <th>29</th>\n",
       "      <td>профсоюзная улица</td>\n",
       "      <td>Район Черемушки</td>\n",
       "      <td>ЮЗАО</td>\n",
       "    </tr>\n",
       "    <tr>\n",
       "      <th>40</th>\n",
       "      <td>профсоюзная улица</td>\n",
       "      <td>Район Теплый Стан</td>\n",
       "      <td>ЮЗАО</td>\n",
       "    </tr>\n",
       "    <tr>\n",
       "      <th>37</th>\n",
       "      <td>профсоюзная улица</td>\n",
       "      <td>Обручевский район</td>\n",
       "      <td>ЮЗАО</td>\n",
       "    </tr>\n",
       "    <tr>\n",
       "      <th>33</th>\n",
       "      <td>профсоюзная улица</td>\n",
       "      <td>Район Коньково</td>\n",
       "      <td>ЮЗАО</td>\n",
       "    </tr>\n",
       "    <tr>\n",
       "      <th>28</th>\n",
       "      <td>профсоюзная улица</td>\n",
       "      <td>Академический район</td>\n",
       "      <td>ЮЗАО</td>\n",
       "    </tr>\n",
       "    <tr>\n",
       "      <th>16</th>\n",
       "      <td>проспект мира</td>\n",
       "      <td>Ярославский Район</td>\n",
       "      <td>СВАО</td>\n",
       "    </tr>\n",
       "    <tr>\n",
       "      <th>15</th>\n",
       "      <td>проспект мира</td>\n",
       "      <td>Алексеевский район</td>\n",
       "      <td>СВАО</td>\n",
       "    </tr>\n",
       "    <tr>\n",
       "      <th>19</th>\n",
       "      <td>проспект мира</td>\n",
       "      <td>Район Ростокино</td>\n",
       "      <td>СВАО</td>\n",
       "    </tr>\n",
       "    <tr>\n",
       "      <th>20</th>\n",
       "      <td>проспект мира</td>\n",
       "      <td>Район Свиблово</td>\n",
       "      <td>СВАО</td>\n",
       "    </tr>\n",
       "    <tr>\n",
       "      <th>43</th>\n",
       "      <td>проспект мира</td>\n",
       "      <td>Мещанский район</td>\n",
       "      <td>ЦАО</td>\n",
       "    </tr>\n",
       "    <tr>\n",
       "      <th>18</th>\n",
       "      <td>проспект мира</td>\n",
       "      <td>Останкинский район</td>\n",
       "      <td>СВАО</td>\n",
       "    </tr>\n",
       "    <tr>\n",
       "      <th>17</th>\n",
       "      <td>проспект мира</td>\n",
       "      <td>Район Марьина роща</td>\n",
       "      <td>СВАО</td>\n",
       "    </tr>\n",
       "    <tr>\n",
       "      <th>30</th>\n",
       "      <td>проспект вернадского</td>\n",
       "      <td>Район Гагаринский</td>\n",
       "      <td>ЮЗАО</td>\n",
       "    </tr>\n",
       "    <tr>\n",
       "      <th>34</th>\n",
       "      <td>проспект вернадского</td>\n",
       "      <td>Ломоносовский район</td>\n",
       "      <td>ЮЗАО</td>\n",
       "    </tr>\n",
       "    <tr>\n",
       "      <th>6</th>\n",
       "      <td>проспект вернадского</td>\n",
       "      <td>Район Тропарево-Никулино</td>\n",
       "      <td>ЗАО</td>\n",
       "    </tr>\n",
       "    <tr>\n",
       "      <th>5</th>\n",
       "      <td>проспект вернадского</td>\n",
       "      <td>Район Раменки</td>\n",
       "      <td>ЗАО</td>\n",
       "    </tr>\n",
       "    <tr>\n",
       "      <th>3</th>\n",
       "      <td>проспект вернадского</td>\n",
       "      <td>Район Проспект Вернадского</td>\n",
       "      <td>ЗАО</td>\n",
       "    </tr>\n",
       "    <tr>\n",
       "      <th>0</th>\n",
       "      <td>пресненская набережная</td>\n",
       "      <td>Пресненский район</td>\n",
       "      <td>ЦАО</td>\n",
       "    </tr>\n",
       "    <tr>\n",
       "      <th>31</th>\n",
       "      <td>ленинский проспект</td>\n",
       "      <td>Район Гагаринский</td>\n",
       "      <td>ЮЗАО</td>\n",
       "    </tr>\n",
       "    <tr>\n",
       "      <th>42</th>\n",
       "      <td>ленинский проспект</td>\n",
       "      <td>Район Якиманка</td>\n",
       "      <td>ЦАО</td>\n",
       "    </tr>\n",
       "    <tr>\n",
       "      <th>39</th>\n",
       "      <td>ленинский проспект</td>\n",
       "      <td>Район Теплый Стан</td>\n",
       "      <td>ЮЗАО</td>\n",
       "    </tr>\n",
       "    <tr>\n",
       "      <th>4</th>\n",
       "      <td>ленинский проспект</td>\n",
       "      <td>Район Проспект Вернадского</td>\n",
       "      <td>ЗАО</td>\n",
       "    </tr>\n",
       "    <tr>\n",
       "      <th>36</th>\n",
       "      <td>ленинский проспект</td>\n",
       "      <td>Обручевский район</td>\n",
       "      <td>ЮЗАО</td>\n",
       "    </tr>\n",
       "    <tr>\n",
       "      <th>25</th>\n",
       "      <td>ленинский проспект</td>\n",
       "      <td>Донской район</td>\n",
       "      <td>ЮАО</td>\n",
       "    </tr>\n",
       "    <tr>\n",
       "      <th>35</th>\n",
       "      <td>ленинский проспект</td>\n",
       "      <td>Ломоносовский район</td>\n",
       "      <td>ЮЗАО</td>\n",
       "    </tr>\n",
       "    <tr>\n",
       "      <th>7</th>\n",
       "      <td>ленинский проспект</td>\n",
       "      <td>Район Тропарево-Никулино</td>\n",
       "      <td>ЗАО</td>\n",
       "    </tr>\n",
       "    <tr>\n",
       "      <th>11</th>\n",
       "      <td>ленинградский проспект</td>\n",
       "      <td>Район Аэропорт</td>\n",
       "      <td>САО</td>\n",
       "    </tr>\n",
       "    <tr>\n",
       "      <th>13</th>\n",
       "      <td>ленинградский проспект</td>\n",
       "      <td>Хорошевский район</td>\n",
       "      <td>САО</td>\n",
       "    </tr>\n",
       "    <tr>\n",
       "      <th>14</th>\n",
       "      <td>ленинградский проспект</td>\n",
       "      <td>Район Сокол</td>\n",
       "      <td>САО</td>\n",
       "    </tr>\n",
       "    <tr>\n",
       "      <th>12</th>\n",
       "      <td>ленинградский проспект</td>\n",
       "      <td>Район Беговой</td>\n",
       "      <td>САО</td>\n",
       "    </tr>\n",
       "    <tr>\n",
       "      <th>1</th>\n",
       "      <td>кутузовский проспект</td>\n",
       "      <td>Район Дорогомилово</td>\n",
       "      <td>ЗАО</td>\n",
       "    </tr>\n",
       "    <tr>\n",
       "      <th>2</th>\n",
       "      <td>кутузовский проспект</td>\n",
       "      <td>Район Фили-Давыдково</td>\n",
       "      <td>ЗАО</td>\n",
       "    </tr>\n",
       "    <tr>\n",
       "      <th>10</th>\n",
       "      <td>город зеленоград</td>\n",
       "      <td>Панфиловский район</td>\n",
       "      <td>Зеленоград</td>\n",
       "    </tr>\n",
       "    <tr>\n",
       "      <th>9</th>\n",
       "      <td>город зеленоград</td>\n",
       "      <td>Район Матушкино-Савелки</td>\n",
       "      <td>Зеленоград</td>\n",
       "    </tr>\n",
       "    <tr>\n",
       "      <th>8</th>\n",
       "      <td>город зеленоград</td>\n",
       "      <td>Район Крюково</td>\n",
       "      <td>Зеленоград</td>\n",
       "    </tr>\n",
       "    <tr>\n",
       "      <th>27</th>\n",
       "      <td>варшавское шоссе</td>\n",
       "      <td>Нагорный район</td>\n",
       "      <td>ЮАО</td>\n",
       "    </tr>\n",
       "    <tr>\n",
       "      <th>26</th>\n",
       "      <td>варшавское шоссе</td>\n",
       "      <td>Район Нагатино-Садовники</td>\n",
       "      <td>ЮАО</td>\n",
       "    </tr>\n",
       "    <tr>\n",
       "      <th>24</th>\n",
       "      <td>варшавское шоссе</td>\n",
       "      <td>Донской район</td>\n",
       "      <td>ЮАО</td>\n",
       "    </tr>\n",
       "    <tr>\n",
       "      <th>23</th>\n",
       "      <td>варшавское шоссе</td>\n",
       "      <td>Район Чертаново Южное</td>\n",
       "      <td>ЮАО</td>\n",
       "    </tr>\n",
       "    <tr>\n",
       "      <th>38</th>\n",
       "      <td>варшавское шоссе</td>\n",
       "      <td>Район Северное Бутово</td>\n",
       "      <td>ЮЗАО</td>\n",
       "    </tr>\n",
       "    <tr>\n",
       "      <th>41</th>\n",
       "      <td>варшавское шоссе</td>\n",
       "      <td>Район Южное Бутово</td>\n",
       "      <td>ЮЗАО</td>\n",
       "    </tr>\n",
       "    <tr>\n",
       "      <th>21</th>\n",
       "      <td>варшавское шоссе</td>\n",
       "      <td>Район Чертаново Центральное</td>\n",
       "      <td>ЮАО</td>\n",
       "    </tr>\n",
       "    <tr>\n",
       "      <th>22</th>\n",
       "      <td>варшавское шоссе</td>\n",
       "      <td>Район Чертаново Северное</td>\n",
       "      <td>ЮАО</td>\n",
       "    </tr>\n",
       "  </tbody>\n",
       "</table>\n",
       "</div>"
      ],
      "text/plain": [
       "                streetname                         area       okrug\n",
       "32       профсоюзная улица                Район Ясенево        ЮЗАО\n",
       "29       профсоюзная улица              Район Черемушки        ЮЗАО\n",
       "40       профсоюзная улица            Район Теплый Стан        ЮЗАО\n",
       "37       профсоюзная улица            Обручевский район        ЮЗАО\n",
       "33       профсоюзная улица               Район Коньково        ЮЗАО\n",
       "28       профсоюзная улица          Академический район        ЮЗАО\n",
       "16           проспект мира            Ярославский Район        СВАО\n",
       "15           проспект мира           Алексеевский район        СВАО\n",
       "19           проспект мира              Район Ростокино        СВАО\n",
       "20           проспект мира               Район Свиблово        СВАО\n",
       "43           проспект мира              Мещанский район         ЦАО\n",
       "18           проспект мира           Останкинский район        СВАО\n",
       "17           проспект мира           Район Марьина роща        СВАО\n",
       "30    проспект вернадского            Район Гагаринский        ЮЗАО\n",
       "34    проспект вернадского          Ломоносовский район        ЮЗАО\n",
       "6     проспект вернадского     Район Тропарево-Никулино         ЗАО\n",
       "5     проспект вернадского                Район Раменки         ЗАО\n",
       "3     проспект вернадского   Район Проспект Вернадского         ЗАО\n",
       "0   пресненская набережная            Пресненский район         ЦАО\n",
       "31      ленинский проспект            Район Гагаринский        ЮЗАО\n",
       "42      ленинский проспект               Район Якиманка         ЦАО\n",
       "39      ленинский проспект            Район Теплый Стан        ЮЗАО\n",
       "4       ленинский проспект   Район Проспект Вернадского         ЗАО\n",
       "36      ленинский проспект            Обручевский район        ЮЗАО\n",
       "25      ленинский проспект                Донской район         ЮАО\n",
       "35      ленинский проспект          Ломоносовский район        ЮЗАО\n",
       "7       ленинский проспект     Район Тропарево-Никулино         ЗАО\n",
       "11  ленинградский проспект               Район Аэропорт         САО\n",
       "13  ленинградский проспект            Хорошевский район         САО\n",
       "14  ленинградский проспект                  Район Сокол         САО\n",
       "12  ленинградский проспект                Район Беговой         САО\n",
       "1     кутузовский проспект           Район Дорогомилово         ЗАО\n",
       "2     кутузовский проспект         Район Фили-Давыдково         ЗАО\n",
       "10        город зеленоград           Панфиловский район  Зеленоград\n",
       "9         город зеленоград      Район Матушкино-Савелки  Зеленоград\n",
       "8         город зеленоград                Район Крюково  Зеленоград\n",
       "27        варшавское шоссе               Нагорный район         ЮАО\n",
       "26        варшавское шоссе     Район Нагатино-Садовники         ЮАО\n",
       "24        варшавское шоссе                Донской район         ЮАО\n",
       "23        варшавское шоссе        Район Чертаново Южное         ЮАО\n",
       "38        варшавское шоссе        Район Северное Бутово        ЮЗАО\n",
       "41        варшавское шоссе           Район Южное Бутово        ЮЗАО\n",
       "21        варшавское шоссе  Район Чертаново Центральное         ЮАО\n",
       "22        варшавское шоссе     Район Чертаново Северное         ЮАО"
      ]
     },
     "execution_count": 35,
     "metadata": {},
     "output_type": "execute_result"
    }
   ],
   "source": [
    "# смотрим районы и округа для наших улиц\n",
    "street_list = list(top_streets['street'])\n",
    "streetname = []\n",
    "area = []\n",
    "okrug = []\n",
    "\n",
    "for i in range(len(streets_df)):\n",
    "    if streets_df['streetname'][i] in street_list:\n",
    "        streetname.append(streets_df['streetname'][i])\n",
    "        area.append(streets_df['area'][i])\n",
    "        okrug.append(streets_df['okrug'][i])\n",
    "        \n",
    "columns = ['streetname', 'area', 'okrug'] \n",
    "streets_top = pd.DataFrame(columns=columns) \n",
    "streets_top['streetname'] = streetname\n",
    "streets_top['area'] = area\n",
    "streets_top['okrug'] = okrug\n",
    "streets_top.sort_values(by='streetname', ascending=False)"
   ]
  },
  {
   "cell_type": "markdown",
   "metadata": {},
   "source": [
    "<div style=\"border:solid green 1px; padding: 10px\">\n",
    "\n",
    "Больше всего заведений:\n",
    "    \n",
    "* в г. Зеленограде Зеленоградского административного округа (211 шт.), районы округа:\n",
    "    - Панфиловский,\n",
    "    - Матушкино-Савелки,\n",
    "    - Крюково\n",
    "\n",
    "* далее Проспект мира Центрального административного округа/Северо-Восточного административного округа (194 шт.), районы:\n",
    "    - Ярославский,\n",
    "    - Алексеевский,\n",
    "    - Ростокино,\n",
    "    - Свиблово,\n",
    "    - Мещанский,\n",
    "    - Останкинский,\n",
    "    - Марьина роща\n",
    "    \n",
    "* и третье место у Ленинградского проспекта Северного административного округа (149 шт.), районы:\n",
    "    - Аэропорт,\n",
    "    - Хорошевский,\n",
    "    - Сокол,\n",
    "    - Беговой\n",
    "    \n",
    "Далее следуют остальные районы с небольшими различиями."
   ]
  },
  {
   "cell_type": "markdown",
   "metadata": {},
   "source": [
    "**Посмотрим на \"обратные\" улицы, т.е. с одним объектом общественного питания:**"
   ]
  },
  {
   "cell_type": "code",
   "execution_count": 36,
   "metadata": {},
   "outputs": [
    {
     "name": "stdout",
     "output_type": "stream",
     "text": [
      "Число улиц с одним объектом общественного питания: 562\n"
     ]
    }
   ],
   "source": [
    "# сводим данные\n",
    "bottom_streets = df.groupby('street').agg({'id': 'count'}).reset_index().sort_values(by='id').query('id == 1')\n",
    "print('Число улиц с одним объектом общественного питания:', bottom_streets['street'].count())"
   ]
  },
  {
   "cell_type": "code",
   "execution_count": 37,
   "metadata": {},
   "outputs": [
    {
     "data": {
      "text/plain": [
       "ЦАО           190\n",
       "ВАО            78\n",
       "СВАО           69\n",
       "САО            60\n",
       "ЮВАО           55\n",
       "ЗАО            43\n",
       "СЗАО           30\n",
       "ЮЗАО           29\n",
       "ЮАО            29\n",
       "Зеленоград      2\n",
       "Name: okrug, dtype: int64"
      ]
     },
     "execution_count": 37,
     "metadata": {},
     "output_type": "execute_result"
    }
   ],
   "source": [
    "# смотрим районы и округа для наших улиц\n",
    "street_list = list(bottom_streets['street'])\n",
    "streetname = []\n",
    "area = []\n",
    "okrug = []\n",
    "\n",
    "for i in range(len(streets_df)):\n",
    "    if streets_df['streetname'][i] in street_list:\n",
    "        streetname.append(streets_df['streetname'][i])\n",
    "        area.append(streets_df['area'][i])\n",
    "        okrug.append(streets_df['okrug'][i])\n",
    "        \n",
    "columns = ['streetname', 'area', 'okrug'] \n",
    "streets_bottom = pd.DataFrame(columns=columns) \n",
    "streets_bottom['streetname'] = streetname\n",
    "streets_bottom['area'] = area\n",
    "streets_bottom['okrug'] = okrug\n",
    "\n",
    "streets_bottom['okrug'].value_counts()"
   ]
  },
  {
   "cell_type": "markdown",
   "metadata": {},
   "source": [
    "<div style=\"border:solid green 1px; padding: 10px\">\n",
    "\n",
    "Всего нашлось 562 улицы с одним объектом общественного питания на них.\n",
    "\n",
    "Большое скопление улиц с одним заведением на них в Центральном административном округе (190 улиц), что может быть связано с большим количеством маленьких по своей протяженности улиц, переулков, тупиков и пр. в этом районе. Также много улиц с одиночными заведениями на них в Восточном (78 улиц) и Северо-Восточном административных округах (69 улиц), да и в целом севернее Центрального округа таких улиц больше, чем южнее Центрального округа."
   ]
  },
  {
   "cell_type": "markdown",
   "metadata": {},
   "source": [
    "## Выводы"
   ]
  },
  {
   "cell_type": "markdown",
   "metadata": {},
   "source": [
    "<div style=\"border:solid green 2px; padding: 20px\">\n",
    "\n",
    "Нам были доступны открытые данные о заведениях общественного питания в Москве, содержащие информацию о наименованиях, видах, адресах заведений и количестве посадочных мест в них.\n",
    "    \n",
    "Мы изучили данные и выявили, что:\n",
    "    \n",
    "1.\tПо виду заведения распределены так:\n",
    "* преобладают `Кафе` - 5333\n",
    "* далее `Столовая` - 2438\n",
    "* затем `Ресторан` - 2068\n",
    "* и следом:\n",
    "    - `Предприятие быстрого обслуживания` - 914\n",
    "    - `Бар` - 769\n",
    "    - `Буфет` - 582\n",
    "    - `Кафетерий` - 348\n",
    "    - `Закусочная` - 264\n",
    "    - `Магазин (отдел кулинарии)` – 198\n",
    "    \n",
    "2.\tНе сетевиков значительно больше (12914), чем сетевых заведений (2311).\n",
    "    \n",
    "Доля сетевых заведений всего 18% и их виды распределились так:\n",
    "* `Кафе` - 1144\n",
    "* `Предприятие быстрого обслуживания` - 578\n",
    "* `Ресторан` - 423\n",
    "* `Магазин (отдел кулинарии)` - 69\n",
    "* `Закусочная` - 44\n",
    "* `Кафетерий` - 23\n",
    "* `Бар` - 16\n",
    "* `Буфет` - 11\n",
    "* `Столовая` – 3\n",
    "    \n",
    "Однако относительно долей от общего количества заведений каждого вида распределение сильно меняется и становится видно, что в каких-то типах заведений сетевики составляют значительную долю (например, `Предприятие быстрого обслуживания` (63.24%) или `Магазин (отдел кулинарии)`(26.14%)), а в каки- то нет (например, `Буфет` (1.89%) или `Столовая`(0.12%)).\n",
    "    \n",
    "Среди сетевиков:\n",
    "* много заведений с небольшим числом посадочных мест в каждом (до 40 мест), целых 6 видов заведений из 9 (`кафе`, `предприятия быстрого питания`, `кафетерии`, `закусочные`, `буфеты`, `отделы кулинарии магазинов`).\n",
    "* `рестораны` в большей части средней вместительности, но и крупных сетевиков среди них тоже достаточно.\n",
    "* `бары` средние по количеству мест в заведениях, чуть меньше, крупных почти нет.\n",
    "* `Столовые` вообще редкость среди сетевых заведений, их всего 3 штуки (2 крупных и одно среднее).\n",
    "    \n",
    "3.\tСреди всех заведений (без привязки в признаку сетевика) лидируют `столовые` по среднему числу мест в них, затем `ресторaны` и на третьем месте `бары`. В `отделах кулинарии магазинов` и `закусочных` с местами хуже всего.\n",
    "    \n",
    "4.\tБольше всего заведений:\n",
    "* в г. Зеленограде Зеленоградского административного округа (211 шт.), районы округа:\n",
    "    - Панфиловский,\n",
    "    - Матушкино-Савелки,\n",
    "    - Крюково\n",
    "* далее Проспект мира Центрального административного округа/Северо-Восточного административного округа (194 шт.), районы:\n",
    "    - Ярославский,\n",
    "    - Алексеевский,\n",
    "    - Ростокино,\n",
    "    - Свиблово,\n",
    "    - Мещанский,\n",
    "    - Останкинский,\n",
    "    - Марьина роща\n",
    "* и третье место у Ленинградского проспекта Северного административного округа (149 шт.), районы:\n",
    "    - Аэропорт,\n",
    "    - Хорошевский,\n",
    "    - Сокол,\n",
    "    - Беговой\n",
    "    \n",
    "Далее следуют остальные районы с небольшими различиями.\n",
    "\n",
    "5.\tВсего нашлось 562 улицы с одним объектом общественного питания на них.\n",
    "    \n",
    "Большое скопление улиц с одним заведением на них в Центральном административном округе (190 улиц), что может быть связано с большим количеством маленьких по своей протяженности улиц, переулков, тупиков и пр. в этом районе. Также много улиц с одиночными заведениями на них в Восточном (78 улиц) и Северо-Восточном административных округах (69 улиц), да и в целом севернее Центрального округа таких улиц больше, чем южнее Центрального округа.\n",
    "    \n",
    "    \n",
    "Итак, стоит обратить внимание, что `кафетериев` и `закусочных` не так и много в Москве, маленькое заведение вмещает, в среднем, около 17 мест, самые малонаселенные заведениями улицы: Кутузовский проспект и Проспект Вернадского в Западном административном округе, а также Сосенское — поселение в Новомосковском округе столицы.\n",
    "    \n",
    "Также есть возможность развития в сеть, т.к. сетевых заведений значительно меньше в Москве."
   ]
  },
  {
   "cell_type": "markdown",
   "metadata": {},
   "source": [
    "## Презентация.\n",
    "Мы подготовили [презентацию](https://disk.yandex.ru/d/7sCX4c32iU6_HQ) для инвесторов с исследованием рынка заведений общественного питания в Москве."
   ]
  }
 ],
 "metadata": {
  "ExecuteTimeLog": [
   {
    "duration": 47,
    "start_time": "2022-08-23T11:37:35.563Z"
   },
   {
    "duration": 1312,
    "start_time": "2022-08-23T11:37:42.967Z"
   },
   {
    "duration": 133,
    "start_time": "2022-08-23T11:37:45.556Z"
   },
   {
    "duration": 79,
    "start_time": "2022-08-23T11:39:32.330Z"
   },
   {
    "duration": 63,
    "start_time": "2022-08-23T11:45:47.758Z"
   },
   {
    "duration": 35,
    "start_time": "2022-08-23T11:46:07.817Z"
   },
   {
    "duration": 46,
    "start_time": "2022-08-23T11:50:49.635Z"
   },
   {
    "duration": 39,
    "start_time": "2022-08-23T11:51:55.738Z"
   },
   {
    "duration": 53,
    "start_time": "2022-08-23T11:52:00.181Z"
   },
   {
    "duration": 48,
    "start_time": "2022-08-23T11:52:06.631Z"
   },
   {
    "duration": 77,
    "start_time": "2022-08-23T11:52:17.335Z"
   },
   {
    "duration": 41,
    "start_time": "2022-08-23T11:52:20.235Z"
   },
   {
    "duration": 43,
    "start_time": "2022-08-23T11:52:48.504Z"
   },
   {
    "duration": 42,
    "start_time": "2022-08-23T11:53:55.613Z"
   },
   {
    "duration": 46,
    "start_time": "2022-08-23T11:54:05.532Z"
   },
   {
    "duration": 47,
    "start_time": "2022-08-23T11:54:10.483Z"
   },
   {
    "duration": 35,
    "start_time": "2022-08-23T11:55:27.153Z"
   },
   {
    "duration": 39,
    "start_time": "2022-08-23T11:56:17.750Z"
   },
   {
    "duration": 202,
    "start_time": "2022-08-23T11:57:03.989Z"
   },
   {
    "duration": 347,
    "start_time": "2022-08-23T11:57:08.781Z"
   },
   {
    "duration": 14,
    "start_time": "2022-08-23T11:59:17.674Z"
   },
   {
    "duration": 5,
    "start_time": "2022-08-23T12:06:46.562Z"
   },
   {
    "duration": 15,
    "start_time": "2022-08-23T12:06:50.674Z"
   },
   {
    "duration": 10,
    "start_time": "2022-08-23T12:07:03.296Z"
   },
   {
    "duration": 3,
    "start_time": "2022-08-23T12:07:25.950Z"
   },
   {
    "duration": 184,
    "start_time": "2022-08-23T12:07:26.504Z"
   },
   {
    "duration": 15,
    "start_time": "2022-08-23T12:07:28.681Z"
   },
   {
    "duration": 25,
    "start_time": "2022-08-23T12:08:22.282Z"
   },
   {
    "duration": 17,
    "start_time": "2022-08-23T12:08:27.956Z"
   },
   {
    "duration": 17,
    "start_time": "2022-08-23T12:08:48.511Z"
   },
   {
    "duration": 6,
    "start_time": "2022-08-23T12:09:29.202Z"
   },
   {
    "duration": 5,
    "start_time": "2022-08-23T12:10:02.474Z"
   },
   {
    "duration": 221,
    "start_time": "2022-08-23T12:10:05.258Z"
   },
   {
    "duration": 8,
    "start_time": "2022-08-23T12:10:08.832Z"
   },
   {
    "duration": 5,
    "start_time": "2022-08-23T12:10:31.075Z"
   },
   {
    "duration": 173,
    "start_time": "2022-08-23T12:10:31.083Z"
   },
   {
    "duration": 18,
    "start_time": "2022-08-23T12:10:31.258Z"
   },
   {
    "duration": 39,
    "start_time": "2022-08-23T12:10:31.279Z"
   },
   {
    "duration": 9,
    "start_time": "2022-08-23T12:10:31.321Z"
   },
   {
    "duration": 10,
    "start_time": "2022-08-23T12:11:04.470Z"
   },
   {
    "duration": 154,
    "start_time": "2022-08-23T12:11:08.383Z"
   },
   {
    "duration": 18,
    "start_time": "2022-08-23T12:18:16.276Z"
   },
   {
    "duration": 18,
    "start_time": "2022-08-23T12:22:03.651Z"
   },
   {
    "duration": 86,
    "start_time": "2022-08-23T12:28:23.783Z"
   },
   {
    "duration": 3,
    "start_time": "2022-08-23T12:28:41.056Z"
   },
   {
    "duration": 197,
    "start_time": "2022-08-23T12:28:42.233Z"
   },
   {
    "duration": 14,
    "start_time": "2022-08-23T12:28:44.629Z"
   },
   {
    "duration": 20,
    "start_time": "2022-08-23T12:28:46.998Z"
   },
   {
    "duration": 87,
    "start_time": "2022-08-23T12:28:49.398Z"
   },
   {
    "duration": 15,
    "start_time": "2022-08-23T12:32:44.099Z"
   },
   {
    "duration": 11,
    "start_time": "2022-08-23T12:32:52.455Z"
   },
   {
    "duration": 357,
    "start_time": "2022-08-23T12:35:46.336Z"
   },
   {
    "duration": 6,
    "start_time": "2022-08-23T12:36:09.526Z"
   },
   {
    "duration": 12,
    "start_time": "2022-08-23T12:40:40.876Z"
   },
   {
    "duration": 25,
    "start_time": "2022-08-23T12:41:08.107Z"
   },
   {
    "duration": 247,
    "start_time": "2022-08-23T12:41:16.773Z"
   },
   {
    "duration": 23,
    "start_time": "2022-08-23T12:41:21.091Z"
   },
   {
    "duration": 10,
    "start_time": "2022-08-23T12:41:30.092Z"
   },
   {
    "duration": 21,
    "start_time": "2022-08-23T12:41:40.570Z"
   },
   {
    "duration": 15,
    "start_time": "2022-08-23T12:41:49.155Z"
   },
   {
    "duration": 16,
    "start_time": "2022-08-23T12:41:59.624Z"
   },
   {
    "duration": 12,
    "start_time": "2022-08-23T13:01:19.033Z"
   },
   {
    "duration": 22,
    "start_time": "2022-08-23T13:03:25.062Z"
   },
   {
    "duration": 8,
    "start_time": "2022-08-23T13:04:05.774Z"
   },
   {
    "duration": 294,
    "start_time": "2022-08-23T13:04:49.759Z"
   },
   {
    "duration": 12,
    "start_time": "2022-08-23T13:05:02.907Z"
   },
   {
    "duration": 170,
    "start_time": "2022-08-23T13:05:17.078Z"
   },
   {
    "duration": 202,
    "start_time": "2022-08-23T13:05:38.823Z"
   },
   {
    "duration": 13,
    "start_time": "2022-08-23T13:05:47.145Z"
   },
   {
    "duration": 6,
    "start_time": "2022-08-23T13:05:51.507Z"
   },
   {
    "duration": 6,
    "start_time": "2022-08-23T13:06:58.228Z"
   },
   {
    "duration": 27,
    "start_time": "2022-08-23T13:08:38.087Z"
   },
   {
    "duration": 18,
    "start_time": "2022-08-23T13:09:00.743Z"
   },
   {
    "duration": 15,
    "start_time": "2022-08-23T13:10:07.886Z"
   },
   {
    "duration": 17,
    "start_time": "2022-08-23T13:10:49.282Z"
   },
   {
    "duration": 15,
    "start_time": "2022-08-23T13:11:17.505Z"
   },
   {
    "duration": 10,
    "start_time": "2022-08-23T13:11:51.680Z"
   },
   {
    "duration": 14,
    "start_time": "2022-08-23T13:11:57.271Z"
   },
   {
    "duration": 181,
    "start_time": "2022-08-23T13:11:59.171Z"
   },
   {
    "duration": 184,
    "start_time": "2022-08-23T13:13:55.224Z"
   },
   {
    "duration": 181,
    "start_time": "2022-08-23T13:14:03.894Z"
   },
   {
    "duration": 133,
    "start_time": "2022-08-23T13:16:13.135Z"
   },
   {
    "duration": 145,
    "start_time": "2022-08-23T13:16:16.451Z"
   },
   {
    "duration": 14,
    "start_time": "2022-08-23T13:16:45.055Z"
   },
   {
    "duration": 10,
    "start_time": "2022-08-23T13:16:57.154Z"
   },
   {
    "duration": 10,
    "start_time": "2022-08-23T13:17:07.675Z"
   },
   {
    "duration": 15,
    "start_time": "2022-08-23T13:17:15.087Z"
   },
   {
    "duration": 207,
    "start_time": "2022-08-23T13:17:26.564Z"
   },
   {
    "duration": 206,
    "start_time": "2022-08-23T13:17:36.475Z"
   },
   {
    "duration": 189,
    "start_time": "2022-08-23T13:17:44.873Z"
   },
   {
    "duration": 146,
    "start_time": "2022-08-23T13:17:58.757Z"
   },
   {
    "duration": 218,
    "start_time": "2022-08-23T13:21:17.929Z"
   },
   {
    "duration": 211,
    "start_time": "2022-08-23T13:21:33.697Z"
   },
   {
    "duration": 202,
    "start_time": "2022-08-23T13:22:19.933Z"
   },
   {
    "duration": 190,
    "start_time": "2022-08-23T13:22:35.542Z"
   },
   {
    "duration": 196,
    "start_time": "2022-08-23T13:26:03.518Z"
   },
   {
    "duration": 195,
    "start_time": "2022-08-23T13:26:19.391Z"
   },
   {
    "duration": 224,
    "start_time": "2022-08-23T13:27:45.651Z"
   },
   {
    "duration": 315,
    "start_time": "2022-08-23T13:27:54.363Z"
   },
   {
    "duration": 25,
    "start_time": "2022-08-23T13:28:27.594Z"
   },
   {
    "duration": 207,
    "start_time": "2022-08-23T13:29:03.951Z"
   },
   {
    "duration": 197,
    "start_time": "2022-08-23T13:29:09.728Z"
   },
   {
    "duration": 214,
    "start_time": "2022-08-23T13:30:43.323Z"
   },
   {
    "duration": 225,
    "start_time": "2022-08-23T13:30:50.355Z"
   },
   {
    "duration": 214,
    "start_time": "2022-08-23T13:30:57.541Z"
   },
   {
    "duration": 220,
    "start_time": "2022-08-23T13:31:04.171Z"
   },
   {
    "duration": 208,
    "start_time": "2022-08-23T13:31:35.897Z"
   },
   {
    "duration": 191,
    "start_time": "2022-08-23T13:31:46.876Z"
   },
   {
    "duration": 201,
    "start_time": "2022-08-23T13:32:21.956Z"
   },
   {
    "duration": 25,
    "start_time": "2022-08-23T13:34:07.570Z"
   },
   {
    "duration": 16,
    "start_time": "2022-08-23T13:34:21.409Z"
   },
   {
    "duration": 15,
    "start_time": "2022-08-23T13:34:37.156Z"
   },
   {
    "duration": 209,
    "start_time": "2022-08-23T13:34:45.793Z"
   },
   {
    "duration": 5,
    "start_time": "2022-08-23T13:39:54.542Z"
   },
   {
    "duration": 7,
    "start_time": "2022-08-23T13:40:04.078Z"
   },
   {
    "duration": 232,
    "start_time": "2022-08-23T13:40:09.129Z"
   },
   {
    "duration": 126,
    "start_time": "2022-08-23T13:40:26.082Z"
   },
   {
    "duration": 106,
    "start_time": "2022-08-23T13:40:33.005Z"
   },
   {
    "duration": 130,
    "start_time": "2022-08-23T13:41:07.776Z"
   },
   {
    "duration": 111,
    "start_time": "2022-08-23T13:41:22.923Z"
   },
   {
    "duration": 8,
    "start_time": "2022-08-23T13:41:40.483Z"
   },
   {
    "duration": 130,
    "start_time": "2022-08-23T13:41:57.770Z"
   },
   {
    "duration": 251,
    "start_time": "2022-08-23T13:43:37.973Z"
   },
   {
    "duration": 139,
    "start_time": "2022-08-23T13:44:03.573Z"
   },
   {
    "duration": 137,
    "start_time": "2022-08-23T13:44:09.164Z"
   },
   {
    "duration": 151,
    "start_time": "2022-08-23T13:44:18.440Z"
   },
   {
    "duration": 152,
    "start_time": "2022-08-23T13:44:23.740Z"
   },
   {
    "duration": 210,
    "start_time": "2022-08-23T13:44:28.916Z"
   },
   {
    "duration": 142,
    "start_time": "2022-08-23T13:44:54.697Z"
   },
   {
    "duration": 155,
    "start_time": "2022-08-23T13:45:07.407Z"
   },
   {
    "duration": 19,
    "start_time": "2022-08-23T13:52:49.721Z"
   },
   {
    "duration": 12,
    "start_time": "2022-08-23T13:52:55.125Z"
   },
   {
    "duration": 12,
    "start_time": "2022-08-23T13:53:03.807Z"
   },
   {
    "duration": 23,
    "start_time": "2022-08-23T13:53:08.683Z"
   },
   {
    "duration": 19,
    "start_time": "2022-08-23T13:53:44.697Z"
   },
   {
    "duration": 11,
    "start_time": "2022-08-23T13:54:50.004Z"
   },
   {
    "duration": 99,
    "start_time": "2022-08-23T13:54:56.715Z"
   },
   {
    "duration": 245,
    "start_time": "2022-08-23T13:54:59.400Z"
   },
   {
    "duration": 304,
    "start_time": "2022-08-23T13:56:25.983Z"
   },
   {
    "duration": 21,
    "start_time": "2022-08-23T13:56:51.914Z"
   },
   {
    "duration": 1258,
    "start_time": "2022-08-23T13:59:17.706Z"
   },
   {
    "duration": 223,
    "start_time": "2022-08-23T13:59:18.967Z"
   },
   {
    "duration": 18,
    "start_time": "2022-08-23T13:59:19.192Z"
   },
   {
    "duration": 28,
    "start_time": "2022-08-23T13:59:19.214Z"
   },
   {
    "duration": 25,
    "start_time": "2022-08-23T13:59:19.244Z"
   },
   {
    "duration": 13,
    "start_time": "2022-08-23T13:59:19.270Z"
   },
   {
    "duration": 248,
    "start_time": "2022-08-23T13:59:19.284Z"
   },
   {
    "duration": 154,
    "start_time": "2022-08-23T13:59:19.534Z"
   },
   {
    "duration": 28,
    "start_time": "2022-08-23T13:59:19.690Z"
   },
   {
    "duration": 322,
    "start_time": "2022-08-23T13:59:19.722Z"
   },
   {
    "duration": 243,
    "start_time": "2022-08-23T13:59:48.403Z"
   },
   {
    "duration": 227,
    "start_time": "2022-08-23T14:00:44.713Z"
   },
   {
    "duration": 211,
    "start_time": "2022-08-23T14:00:56.707Z"
   },
   {
    "duration": 18,
    "start_time": "2022-08-23T14:06:17.753Z"
   },
   {
    "duration": 203,
    "start_time": "2022-08-23T14:09:15.226Z"
   },
   {
    "duration": 277,
    "start_time": "2022-08-23T14:09:19.297Z"
   },
   {
    "duration": 197,
    "start_time": "2022-08-23T14:09:27.677Z"
   },
   {
    "duration": 10,
    "start_time": "2022-08-23T14:11:29.470Z"
   },
   {
    "duration": 8,
    "start_time": "2022-08-23T14:12:00.530Z"
   },
   {
    "duration": 9,
    "start_time": "2022-08-23T14:12:15.450Z"
   },
   {
    "duration": 9,
    "start_time": "2022-08-23T14:12:23.842Z"
   },
   {
    "duration": 10,
    "start_time": "2022-08-23T14:12:31.367Z"
   },
   {
    "duration": 9,
    "start_time": "2022-08-23T14:12:39.481Z"
   },
   {
    "duration": 8,
    "start_time": "2022-08-23T14:12:57.585Z"
   },
   {
    "duration": 8,
    "start_time": "2022-08-23T14:13:01.728Z"
   },
   {
    "duration": 8,
    "start_time": "2022-08-23T14:13:25.583Z"
   },
   {
    "duration": 10,
    "start_time": "2022-08-23T14:13:41.275Z"
   },
   {
    "duration": 384,
    "start_time": "2022-08-23T14:20:28.406Z"
   },
   {
    "duration": 939,
    "start_time": "2022-08-23T14:21:22.397Z"
   },
   {
    "duration": 183,
    "start_time": "2022-08-23T14:21:34.798Z"
   },
   {
    "duration": 186,
    "start_time": "2022-08-23T14:22:27.506Z"
   },
   {
    "duration": 18,
    "start_time": "2022-08-23T14:29:47.898Z"
   },
   {
    "duration": 10,
    "start_time": "2022-08-23T14:32:02.812Z"
   },
   {
    "duration": 8,
    "start_time": "2022-08-23T14:32:21.296Z"
   },
   {
    "duration": 13,
    "start_time": "2022-08-23T14:32:35.131Z"
   },
   {
    "duration": 12,
    "start_time": "2022-08-23T14:32:38.155Z"
   },
   {
    "duration": 10,
    "start_time": "2022-08-23T14:45:04.914Z"
   },
   {
    "duration": 2155,
    "start_time": "2022-08-23T14:45:21.848Z"
   },
   {
    "duration": 6,
    "start_time": "2022-08-23T14:46:19.311Z"
   },
   {
    "duration": 6,
    "start_time": "2022-08-23T14:46:55.445Z"
   },
   {
    "duration": 6,
    "start_time": "2022-08-23T14:46:56.932Z"
   },
   {
    "duration": 14,
    "start_time": "2022-08-23T14:49:31.623Z"
   },
   {
    "duration": 14,
    "start_time": "2022-08-23T14:50:47.937Z"
   },
   {
    "duration": 16,
    "start_time": "2022-08-23T14:51:05.949Z"
   },
   {
    "duration": 17,
    "start_time": "2022-08-23T14:51:35.462Z"
   },
   {
    "duration": 19,
    "start_time": "2022-08-23T14:51:56.282Z"
   },
   {
    "duration": 21,
    "start_time": "2022-08-23T14:52:13.428Z"
   },
   {
    "duration": 19,
    "start_time": "2022-08-23T14:52:30.867Z"
   },
   {
    "duration": 229,
    "start_time": "2022-08-23T15:00:58.329Z"
   },
   {
    "duration": 14,
    "start_time": "2022-08-23T15:02:18.357Z"
   },
   {
    "duration": 12,
    "start_time": "2022-08-23T15:02:24.655Z"
   },
   {
    "duration": 343,
    "start_time": "2022-08-23T15:02:26.719Z"
   },
   {
    "duration": 421,
    "start_time": "2022-08-23T15:02:55.285Z"
   },
   {
    "duration": 425,
    "start_time": "2022-08-23T15:03:33.077Z"
   },
   {
    "duration": 510,
    "start_time": "2022-08-23T15:03:47.666Z"
   },
   {
    "duration": 417,
    "start_time": "2022-08-23T15:04:51.672Z"
   },
   {
    "duration": 20,
    "start_time": "2022-08-23T15:05:07.322Z"
   },
   {
    "duration": 1472,
    "start_time": "2022-08-24T06:58:42.144Z"
   },
   {
    "duration": 274,
    "start_time": "2022-08-24T06:58:43.619Z"
   },
   {
    "duration": 14,
    "start_time": "2022-08-24T06:58:43.895Z"
   },
   {
    "duration": 27,
    "start_time": "2022-08-24T06:58:43.912Z"
   },
   {
    "duration": 37,
    "start_time": "2022-08-24T06:58:43.941Z"
   },
   {
    "duration": 12,
    "start_time": "2022-08-24T06:58:43.980Z"
   },
   {
    "duration": 230,
    "start_time": "2022-08-24T06:58:43.993Z"
   },
   {
    "duration": 140,
    "start_time": "2022-08-24T06:58:44.225Z"
   },
   {
    "duration": 8,
    "start_time": "2022-08-24T06:58:44.368Z"
   },
   {
    "duration": 12,
    "start_time": "2022-08-24T06:58:44.378Z"
   },
   {
    "duration": 226,
    "start_time": "2022-08-24T06:58:44.392Z"
   },
   {
    "duration": 12,
    "start_time": "2022-08-24T06:58:44.620Z"
   },
   {
    "duration": 7,
    "start_time": "2022-08-24T06:58:44.634Z"
   },
   {
    "duration": 26,
    "start_time": "2022-08-24T06:58:44.643Z"
   },
   {
    "duration": 20,
    "start_time": "2022-08-24T06:58:44.671Z"
   },
   {
    "duration": 430,
    "start_time": "2022-08-24T06:58:44.693Z"
   },
   {
    "duration": 11,
    "start_time": "2022-08-24T07:06:03.437Z"
   },
   {
    "duration": 108,
    "start_time": "2022-08-24T07:06:22.153Z"
   },
   {
    "duration": 17,
    "start_time": "2022-08-24T07:06:46.464Z"
   },
   {
    "duration": 14,
    "start_time": "2022-08-24T07:06:53.028Z"
   },
   {
    "duration": 14,
    "start_time": "2022-08-24T07:07:17.117Z"
   },
   {
    "duration": 141,
    "start_time": "2022-08-24T07:09:56.918Z"
   },
   {
    "duration": 10,
    "start_time": "2022-08-24T07:10:07.931Z"
   },
   {
    "duration": 202,
    "start_time": "2022-08-24T07:10:09.936Z"
   },
   {
    "duration": 14,
    "start_time": "2022-08-24T07:10:20.295Z"
   },
   {
    "duration": 211,
    "start_time": "2022-08-24T07:10:54.031Z"
   },
   {
    "duration": 262,
    "start_time": "2022-08-24T07:11:10.742Z"
   },
   {
    "duration": 11,
    "start_time": "2022-08-24T07:16:06.975Z"
   },
   {
    "duration": 664,
    "start_time": "2022-08-24T07:30:29.006Z"
   },
   {
    "duration": 6,
    "start_time": "2022-08-24T07:32:40.429Z"
   },
   {
    "duration": 11,
    "start_time": "2022-08-24T07:32:41.656Z"
   },
   {
    "duration": 10,
    "start_time": "2022-08-24T07:33:30.156Z"
   },
   {
    "duration": 14,
    "start_time": "2022-08-24T07:33:52.920Z"
   },
   {
    "duration": 4,
    "start_time": "2022-08-24T07:34:06.400Z"
   },
   {
    "duration": 304,
    "start_time": "2022-08-24T07:34:06.407Z"
   },
   {
    "duration": 19,
    "start_time": "2022-08-24T07:34:06.713Z"
   },
   {
    "duration": 57,
    "start_time": "2022-08-24T07:34:06.734Z"
   },
   {
    "duration": 29,
    "start_time": "2022-08-24T07:34:06.794Z"
   },
   {
    "duration": 14,
    "start_time": "2022-08-24T07:34:06.825Z"
   },
   {
    "duration": 245,
    "start_time": "2022-08-24T07:34:06.841Z"
   },
   {
    "duration": 156,
    "start_time": "2022-08-24T07:34:07.088Z"
   },
   {
    "duration": 10,
    "start_time": "2022-08-24T07:34:07.246Z"
   },
   {
    "duration": 42,
    "start_time": "2022-08-24T07:34:07.258Z"
   },
   {
    "duration": 247,
    "start_time": "2022-08-24T07:34:07.303Z"
   },
   {
    "duration": 23,
    "start_time": "2022-08-24T07:34:07.552Z"
   },
   {
    "duration": 11,
    "start_time": "2022-08-24T07:34:07.578Z"
   },
   {
    "duration": 33,
    "start_time": "2022-08-24T07:34:07.591Z"
   },
   {
    "duration": 28,
    "start_time": "2022-08-24T07:34:07.626Z"
   },
   {
    "duration": 456,
    "start_time": "2022-08-24T07:34:07.656Z"
   },
   {
    "duration": 23,
    "start_time": "2022-08-24T07:34:08.114Z"
   },
   {
    "duration": 251,
    "start_time": "2022-08-24T07:34:08.139Z"
   },
   {
    "duration": 15,
    "start_time": "2022-08-24T07:34:10.909Z"
   },
   {
    "duration": 5,
    "start_time": "2022-08-24T07:34:12.766Z"
   },
   {
    "duration": 11,
    "start_time": "2022-08-24T07:34:16.285Z"
   },
   {
    "duration": 5,
    "start_time": "2022-08-24T07:34:27.028Z"
   },
   {
    "duration": 222,
    "start_time": "2022-08-24T07:34:27.035Z"
   },
   {
    "duration": 15,
    "start_time": "2022-08-24T07:34:27.259Z"
   },
   {
    "duration": 33,
    "start_time": "2022-08-24T07:34:27.277Z"
   },
   {
    "duration": 31,
    "start_time": "2022-08-24T07:34:27.311Z"
   },
   {
    "duration": 15,
    "start_time": "2022-08-24T07:34:27.344Z"
   },
   {
    "duration": 215,
    "start_time": "2022-08-24T07:34:27.361Z"
   },
   {
    "duration": 152,
    "start_time": "2022-08-24T07:34:27.577Z"
   },
   {
    "duration": 8,
    "start_time": "2022-08-24T07:34:27.731Z"
   },
   {
    "duration": 30,
    "start_time": "2022-08-24T07:34:27.741Z"
   },
   {
    "duration": 230,
    "start_time": "2022-08-24T07:34:27.773Z"
   },
   {
    "duration": 12,
    "start_time": "2022-08-24T07:34:28.005Z"
   },
   {
    "duration": 9,
    "start_time": "2022-08-24T07:34:28.019Z"
   },
   {
    "duration": 16,
    "start_time": "2022-08-24T07:34:28.030Z"
   },
   {
    "duration": 43,
    "start_time": "2022-08-24T07:34:28.048Z"
   },
   {
    "duration": 529,
    "start_time": "2022-08-24T07:34:28.093Z"
   },
   {
    "duration": 15,
    "start_time": "2022-08-24T07:34:28.624Z"
   },
   {
    "duration": 248,
    "start_time": "2022-08-24T07:34:28.642Z"
   },
   {
    "duration": 13,
    "start_time": "2022-08-24T07:34:29.498Z"
   },
   {
    "duration": 6,
    "start_time": "2022-08-24T07:34:32.494Z"
   },
   {
    "duration": 12,
    "start_time": "2022-08-24T07:34:35.542Z"
   },
   {
    "duration": 4,
    "start_time": "2022-08-24T07:34:41.126Z"
   },
   {
    "duration": 275,
    "start_time": "2022-08-24T07:34:41.163Z"
   },
   {
    "duration": 13,
    "start_time": "2022-08-24T07:34:41.440Z"
   },
   {
    "duration": 31,
    "start_time": "2022-08-24T07:34:41.454Z"
   },
   {
    "duration": 24,
    "start_time": "2022-08-24T07:34:41.487Z"
   },
   {
    "duration": 17,
    "start_time": "2022-08-24T07:34:41.514Z"
   },
   {
    "duration": 235,
    "start_time": "2022-08-24T07:34:41.534Z"
   },
   {
    "duration": 150,
    "start_time": "2022-08-24T07:34:41.772Z"
   },
   {
    "duration": 10,
    "start_time": "2022-08-24T07:34:41.924Z"
   },
   {
    "duration": 32,
    "start_time": "2022-08-24T07:34:41.936Z"
   },
   {
    "duration": 217,
    "start_time": "2022-08-24T07:34:41.970Z"
   },
   {
    "duration": 11,
    "start_time": "2022-08-24T07:34:42.189Z"
   },
   {
    "duration": 7,
    "start_time": "2022-08-24T07:34:42.202Z"
   },
   {
    "duration": 14,
    "start_time": "2022-08-24T07:34:42.212Z"
   },
   {
    "duration": 48,
    "start_time": "2022-08-24T07:34:42.229Z"
   },
   {
    "duration": 436,
    "start_time": "2022-08-24T07:34:42.279Z"
   },
   {
    "duration": 16,
    "start_time": "2022-08-24T07:34:42.717Z"
   },
   {
    "duration": 246,
    "start_time": "2022-08-24T07:34:42.735Z"
   },
   {
    "duration": 10,
    "start_time": "2022-08-24T07:34:44.066Z"
   },
   {
    "duration": 16,
    "start_time": "2022-08-24T07:36:11.480Z"
   },
   {
    "duration": 10,
    "start_time": "2022-08-24T07:36:36.114Z"
   },
   {
    "duration": 14,
    "start_time": "2022-08-24T07:37:50.611Z"
   },
   {
    "duration": 121,
    "start_time": "2022-08-24T07:38:07.751Z"
   },
   {
    "duration": 24,
    "start_time": "2022-08-24T07:38:32.780Z"
   },
   {
    "duration": 25,
    "start_time": "2022-08-24T07:38:40.582Z"
   },
   {
    "duration": 26,
    "start_time": "2022-08-24T07:38:47.731Z"
   },
   {
    "duration": 25,
    "start_time": "2022-08-24T07:39:11.701Z"
   },
   {
    "duration": 17,
    "start_time": "2022-08-24T07:40:28.079Z"
   },
   {
    "duration": 6,
    "start_time": "2022-08-24T07:40:37.878Z"
   },
   {
    "duration": 327,
    "start_time": "2022-08-24T07:40:37.887Z"
   },
   {
    "duration": 16,
    "start_time": "2022-08-24T07:40:38.217Z"
   },
   {
    "duration": 53,
    "start_time": "2022-08-24T07:40:38.236Z"
   },
   {
    "duration": 35,
    "start_time": "2022-08-24T07:40:38.291Z"
   },
   {
    "duration": 14,
    "start_time": "2022-08-24T07:40:38.329Z"
   },
   {
    "duration": 226,
    "start_time": "2022-08-24T07:40:38.345Z"
   },
   {
    "duration": 157,
    "start_time": "2022-08-24T07:40:38.573Z"
   },
   {
    "duration": 9,
    "start_time": "2022-08-24T07:40:38.733Z"
   },
   {
    "duration": 39,
    "start_time": "2022-08-24T07:40:38.744Z"
   },
   {
    "duration": 250,
    "start_time": "2022-08-24T07:40:38.785Z"
   },
   {
    "duration": 13,
    "start_time": "2022-08-24T07:40:39.037Z"
   },
   {
    "duration": 27,
    "start_time": "2022-08-24T07:40:39.052Z"
   },
   {
    "duration": 28,
    "start_time": "2022-08-24T07:40:39.081Z"
   },
   {
    "duration": 38,
    "start_time": "2022-08-24T07:40:39.111Z"
   },
   {
    "duration": 534,
    "start_time": "2022-08-24T07:40:39.152Z"
   },
   {
    "duration": 16,
    "start_time": "2022-08-24T07:40:39.688Z"
   },
   {
    "duration": 233,
    "start_time": "2022-08-24T07:40:39.706Z"
   },
   {
    "duration": 11,
    "start_time": "2022-08-24T07:40:41.086Z"
   },
   {
    "duration": 100,
    "start_time": "2022-08-24T07:42:03.168Z"
   },
   {
    "duration": 2167,
    "start_time": "2022-08-24T07:42:08.136Z"
   },
   {
    "duration": 11,
    "start_time": "2022-08-24T07:42:13.042Z"
   },
   {
    "duration": 2193,
    "start_time": "2022-08-24T07:47:34.208Z"
   },
   {
    "duration": 16,
    "start_time": "2022-08-24T07:47:36.591Z"
   },
   {
    "duration": 139,
    "start_time": "2022-08-24T07:48:17.708Z"
   },
   {
    "duration": 139,
    "start_time": "2022-08-24T07:48:48.661Z"
   },
   {
    "duration": 257,
    "start_time": "2022-08-24T07:49:42.546Z"
   },
   {
    "duration": 12,
    "start_time": "2022-08-24T07:50:08.771Z"
   },
   {
    "duration": 20,
    "start_time": "2022-08-24T07:50:57.020Z"
   },
   {
    "duration": 14,
    "start_time": "2022-08-24T07:51:19.010Z"
   },
   {
    "duration": 13,
    "start_time": "2022-08-24T07:51:49.029Z"
   },
   {
    "duration": 2238,
    "start_time": "2022-08-24T07:52:17.746Z"
   },
   {
    "duration": 13,
    "start_time": "2022-08-24T07:52:20.420Z"
   },
   {
    "duration": 12,
    "start_time": "2022-08-24T07:54:24.178Z"
   },
   {
    "duration": 10,
    "start_time": "2022-08-24T07:55:08.200Z"
   },
   {
    "duration": 27,
    "start_time": "2022-08-24T07:56:00.801Z"
   },
   {
    "duration": 36,
    "start_time": "2022-08-24T07:56:05.557Z"
   },
   {
    "duration": 12,
    "start_time": "2022-08-24T07:57:56.435Z"
   },
   {
    "duration": 12,
    "start_time": "2022-08-24T07:58:09.053Z"
   },
   {
    "duration": 94,
    "start_time": "2022-08-24T07:58:55.911Z"
   },
   {
    "duration": 15,
    "start_time": "2022-08-24T07:59:07.317Z"
   },
   {
    "duration": 15,
    "start_time": "2022-08-24T07:59:31.205Z"
   },
   {
    "duration": 16,
    "start_time": "2022-08-24T08:00:07.164Z"
   },
   {
    "duration": 27,
    "start_time": "2022-08-24T08:00:12.469Z"
   },
   {
    "duration": 24,
    "start_time": "2022-08-24T08:07:35.084Z"
   },
   {
    "duration": 17,
    "start_time": "2022-08-24T08:07:39.047Z"
   },
   {
    "duration": 16,
    "start_time": "2022-08-24T08:08:26.430Z"
   },
   {
    "duration": 11,
    "start_time": "2022-08-24T08:08:31.749Z"
   },
   {
    "duration": 17,
    "start_time": "2022-08-24T08:08:43.154Z"
   },
   {
    "duration": 17,
    "start_time": "2022-08-24T08:08:45.376Z"
   },
   {
    "duration": 24,
    "start_time": "2022-08-24T08:08:54.953Z"
   },
   {
    "duration": 11,
    "start_time": "2022-08-24T08:08:57.314Z"
   },
   {
    "duration": 32,
    "start_time": "2022-08-24T08:09:00.878Z"
   },
   {
    "duration": 13,
    "start_time": "2022-08-24T08:09:02.623Z"
   },
   {
    "duration": 25,
    "start_time": "2022-08-24T08:09:39.846Z"
   },
   {
    "duration": 12,
    "start_time": "2022-08-24T08:09:44.407Z"
   },
   {
    "duration": 54,
    "start_time": "2022-08-24T08:09:51.986Z"
   },
   {
    "duration": 23,
    "start_time": "2022-08-24T08:10:41.300Z"
   },
   {
    "duration": 12,
    "start_time": "2022-08-24T08:10:44.886Z"
   },
   {
    "duration": 29,
    "start_time": "2022-08-24T08:10:57.102Z"
   },
   {
    "duration": 11,
    "start_time": "2022-08-24T08:10:58.222Z"
   },
   {
    "duration": 24,
    "start_time": "2022-08-24T08:11:13.817Z"
   },
   {
    "duration": 15,
    "start_time": "2022-08-24T08:11:16.818Z"
   },
   {
    "duration": 16,
    "start_time": "2022-08-24T08:11:25.864Z"
   },
   {
    "duration": 11,
    "start_time": "2022-08-24T08:11:27.148Z"
   },
   {
    "duration": 27,
    "start_time": "2022-08-24T08:14:34.827Z"
   },
   {
    "duration": 12,
    "start_time": "2022-08-24T08:14:37.602Z"
   },
   {
    "duration": 25,
    "start_time": "2022-08-24T08:14:45.683Z"
   },
   {
    "duration": 14,
    "start_time": "2022-08-24T08:14:46.868Z"
   },
   {
    "duration": 38,
    "start_time": "2022-08-24T08:14:58.432Z"
   },
   {
    "duration": 18,
    "start_time": "2022-08-24T08:14:59.668Z"
   },
   {
    "duration": 77,
    "start_time": "2022-08-24T08:19:10.644Z"
   },
   {
    "duration": 22,
    "start_time": "2022-08-24T08:19:15.050Z"
   },
   {
    "duration": 24,
    "start_time": "2022-08-24T08:19:26.860Z"
   },
   {
    "duration": 103,
    "start_time": "2022-08-24T08:19:46.905Z"
   },
   {
    "duration": 12,
    "start_time": "2022-08-24T08:19:49.198Z"
   },
   {
    "duration": 26,
    "start_time": "2022-08-24T08:20:02.019Z"
   },
   {
    "duration": 37,
    "start_time": "2022-08-24T08:20:16.903Z"
   },
   {
    "duration": 12,
    "start_time": "2022-08-24T08:20:19.025Z"
   },
   {
    "duration": 54,
    "start_time": "2022-08-24T08:20:30.237Z"
   },
   {
    "duration": 18,
    "start_time": "2022-08-24T08:20:32.139Z"
   },
   {
    "duration": 52,
    "start_time": "2022-08-24T08:20:41.885Z"
   },
   {
    "duration": 12,
    "start_time": "2022-08-24T08:20:43.772Z"
   },
   {
    "duration": 27,
    "start_time": "2022-08-24T08:20:52.060Z"
   },
   {
    "duration": 20,
    "start_time": "2022-08-24T08:20:53.345Z"
   },
   {
    "duration": 14,
    "start_time": "2022-08-24T08:21:01.153Z"
   },
   {
    "duration": 15,
    "start_time": "2022-08-24T08:21:03.665Z"
   },
   {
    "duration": 40,
    "start_time": "2022-08-24T08:21:08.361Z"
   },
   {
    "duration": 12,
    "start_time": "2022-08-24T08:21:09.533Z"
   },
   {
    "duration": 145,
    "start_time": "2022-08-24T08:21:36.626Z"
   },
   {
    "duration": 26,
    "start_time": "2022-08-24T08:21:51.091Z"
   },
   {
    "duration": 13,
    "start_time": "2022-08-24T08:21:53.314Z"
   },
   {
    "duration": 25,
    "start_time": "2022-08-24T08:22:37.380Z"
   },
   {
    "duration": 15,
    "start_time": "2022-08-24T08:22:40.462Z"
   },
   {
    "duration": 31,
    "start_time": "2022-08-24T08:23:08.365Z"
   },
   {
    "duration": 13,
    "start_time": "2022-08-24T08:23:10.029Z"
   },
   {
    "duration": 5,
    "start_time": "2022-08-24T08:24:30.603Z"
   },
   {
    "duration": 279,
    "start_time": "2022-08-24T08:24:30.629Z"
   },
   {
    "duration": 21,
    "start_time": "2022-08-24T08:24:30.911Z"
   },
   {
    "duration": 58,
    "start_time": "2022-08-24T08:24:30.934Z"
   },
   {
    "duration": 24,
    "start_time": "2022-08-24T08:24:30.995Z"
   },
   {
    "duration": 13,
    "start_time": "2022-08-24T08:24:31.021Z"
   },
   {
    "duration": 264,
    "start_time": "2022-08-24T08:24:31.037Z"
   },
   {
    "duration": 164,
    "start_time": "2022-08-24T08:24:31.304Z"
   },
   {
    "duration": 11,
    "start_time": "2022-08-24T08:24:31.470Z"
   },
   {
    "duration": 18,
    "start_time": "2022-08-24T08:24:31.482Z"
   },
   {
    "duration": 297,
    "start_time": "2022-08-24T08:24:31.503Z"
   },
   {
    "duration": 15,
    "start_time": "2022-08-24T08:24:31.802Z"
   },
   {
    "duration": 8,
    "start_time": "2022-08-24T08:24:31.819Z"
   },
   {
    "duration": 38,
    "start_time": "2022-08-24T08:24:31.830Z"
   },
   {
    "duration": 28,
    "start_time": "2022-08-24T08:24:31.870Z"
   },
   {
    "duration": 478,
    "start_time": "2022-08-24T08:24:31.900Z"
   },
   {
    "duration": 23,
    "start_time": "2022-08-24T08:24:32.382Z"
   },
   {
    "duration": 251,
    "start_time": "2022-08-24T08:24:32.408Z"
   },
   {
    "duration": 12,
    "start_time": "2022-08-24T08:24:32.667Z"
   },
   {
    "duration": 39,
    "start_time": "2022-08-24T08:24:48.590Z"
   },
   {
    "duration": 12,
    "start_time": "2022-08-24T08:24:50.865Z"
   },
   {
    "duration": 13,
    "start_time": "2022-08-24T08:25:09.037Z"
   },
   {
    "duration": 16,
    "start_time": "2022-08-24T08:25:11.807Z"
   },
   {
    "duration": 21,
    "start_time": "2022-08-24T08:26:16.884Z"
   },
   {
    "duration": 165,
    "start_time": "2022-08-24T08:27:34.402Z"
   },
   {
    "duration": 20,
    "start_time": "2022-08-24T08:27:42.254Z"
   },
   {
    "duration": 24,
    "start_time": "2022-08-24T08:27:51.005Z"
   },
   {
    "duration": 6,
    "start_time": "2022-08-24T08:28:08.047Z"
   },
   {
    "duration": 286,
    "start_time": "2022-08-24T08:28:08.055Z"
   },
   {
    "duration": 17,
    "start_time": "2022-08-24T08:28:08.343Z"
   },
   {
    "duration": 32,
    "start_time": "2022-08-24T08:28:08.362Z"
   },
   {
    "duration": 23,
    "start_time": "2022-08-24T08:28:08.396Z"
   },
   {
    "duration": 12,
    "start_time": "2022-08-24T08:28:08.421Z"
   },
   {
    "duration": 242,
    "start_time": "2022-08-24T08:28:08.435Z"
   },
   {
    "duration": 166,
    "start_time": "2022-08-24T08:28:08.682Z"
   },
   {
    "duration": 21,
    "start_time": "2022-08-24T08:28:08.850Z"
   },
   {
    "duration": 17,
    "start_time": "2022-08-24T08:28:08.875Z"
   },
   {
    "duration": 252,
    "start_time": "2022-08-24T08:28:08.894Z"
   },
   {
    "duration": 24,
    "start_time": "2022-08-24T08:28:09.148Z"
   },
   {
    "duration": 26,
    "start_time": "2022-08-24T08:28:09.175Z"
   },
   {
    "duration": 22,
    "start_time": "2022-08-24T08:28:09.203Z"
   },
   {
    "duration": 32,
    "start_time": "2022-08-24T08:28:09.227Z"
   },
   {
    "duration": 444,
    "start_time": "2022-08-24T08:28:09.261Z"
   },
   {
    "duration": 22,
    "start_time": "2022-08-24T08:28:09.707Z"
   },
   {
    "duration": 262,
    "start_time": "2022-08-24T08:28:09.730Z"
   },
   {
    "duration": 12,
    "start_time": "2022-08-24T08:28:11.210Z"
   },
   {
    "duration": 82,
    "start_time": "2022-08-24T08:28:32.517Z"
   },
   {
    "duration": 20,
    "start_time": "2022-08-24T08:28:37.253Z"
   },
   {
    "duration": 12,
    "start_time": "2022-08-24T08:28:41.919Z"
   },
   {
    "duration": 37,
    "start_time": "2022-08-24T08:31:44.883Z"
   },
   {
    "duration": 16,
    "start_time": "2022-08-24T08:31:47.761Z"
   },
   {
    "duration": 113,
    "start_time": "2022-08-24T08:32:06.968Z"
   },
   {
    "duration": 13,
    "start_time": "2022-08-24T08:32:11.511Z"
   },
   {
    "duration": 26,
    "start_time": "2022-08-24T08:38:24.413Z"
   },
   {
    "duration": 12,
    "start_time": "2022-08-24T08:38:26.981Z"
   },
   {
    "duration": 31,
    "start_time": "2022-08-24T08:38:36.140Z"
   },
   {
    "duration": 13,
    "start_time": "2022-08-24T08:38:38.063Z"
   },
   {
    "duration": 29,
    "start_time": "2022-08-24T08:38:47.625Z"
   },
   {
    "duration": 11,
    "start_time": "2022-08-24T08:38:48.791Z"
   },
   {
    "duration": 30,
    "start_time": "2022-08-24T08:39:26.886Z"
   },
   {
    "duration": 12,
    "start_time": "2022-08-24T08:39:28.444Z"
   },
   {
    "duration": 25,
    "start_time": "2022-08-24T08:39:44.210Z"
   },
   {
    "duration": 12,
    "start_time": "2022-08-24T08:39:45.911Z"
   },
   {
    "duration": 28,
    "start_time": "2022-08-24T08:39:51.713Z"
   },
   {
    "duration": 12,
    "start_time": "2022-08-24T08:39:53.242Z"
   },
   {
    "duration": 106,
    "start_time": "2022-08-24T08:40:23.835Z"
   },
   {
    "duration": 11,
    "start_time": "2022-08-24T08:40:25.586Z"
   },
   {
    "duration": 27,
    "start_time": "2022-08-24T08:40:32.483Z"
   },
   {
    "duration": 12,
    "start_time": "2022-08-24T08:40:37.723Z"
   },
   {
    "duration": 4,
    "start_time": "2022-08-24T08:52:39.671Z"
   },
   {
    "duration": 296,
    "start_time": "2022-08-24T08:52:39.677Z"
   },
   {
    "duration": 14,
    "start_time": "2022-08-24T08:52:39.975Z"
   },
   {
    "duration": 26,
    "start_time": "2022-08-24T08:52:39.990Z"
   },
   {
    "duration": 25,
    "start_time": "2022-08-24T08:52:40.018Z"
   },
   {
    "duration": 14,
    "start_time": "2022-08-24T08:52:40.068Z"
   },
   {
    "duration": 234,
    "start_time": "2022-08-24T08:52:40.083Z"
   },
   {
    "duration": 164,
    "start_time": "2022-08-24T08:52:40.319Z"
   },
   {
    "duration": 9,
    "start_time": "2022-08-24T08:52:40.485Z"
   },
   {
    "duration": 13,
    "start_time": "2022-08-24T08:52:40.496Z"
   },
   {
    "duration": 237,
    "start_time": "2022-08-24T08:52:40.511Z"
   },
   {
    "duration": 19,
    "start_time": "2022-08-24T08:52:40.750Z"
   },
   {
    "duration": 7,
    "start_time": "2022-08-24T08:52:40.771Z"
   },
   {
    "duration": 12,
    "start_time": "2022-08-24T08:52:40.779Z"
   },
   {
    "duration": 24,
    "start_time": "2022-08-24T08:52:40.793Z"
   },
   {
    "duration": 408,
    "start_time": "2022-08-24T08:52:40.819Z"
   },
   {
    "duration": 16,
    "start_time": "2022-08-24T08:52:41.229Z"
   },
   {
    "duration": 244,
    "start_time": "2022-08-24T08:52:41.247Z"
   },
   {
    "duration": 11,
    "start_time": "2022-08-24T08:52:43.706Z"
   },
   {
    "duration": 27,
    "start_time": "2022-08-24T08:52:55.788Z"
   },
   {
    "duration": 12,
    "start_time": "2022-08-24T08:52:58.867Z"
   },
   {
    "duration": 6,
    "start_time": "2022-08-24T09:22:27.598Z"
   },
   {
    "duration": 331,
    "start_time": "2022-08-24T09:22:27.607Z"
   },
   {
    "duration": 17,
    "start_time": "2022-08-24T09:22:27.940Z"
   },
   {
    "duration": 31,
    "start_time": "2022-08-24T09:22:27.958Z"
   },
   {
    "duration": 22,
    "start_time": "2022-08-24T09:22:27.991Z"
   },
   {
    "duration": 13,
    "start_time": "2022-08-24T09:22:28.015Z"
   },
   {
    "duration": 332,
    "start_time": "2022-08-24T09:22:28.030Z"
   },
   {
    "duration": 157,
    "start_time": "2022-08-24T09:22:28.367Z"
   },
   {
    "duration": 8,
    "start_time": "2022-08-24T09:22:28.526Z"
   },
   {
    "duration": 32,
    "start_time": "2022-08-24T09:22:28.536Z"
   },
   {
    "duration": 234,
    "start_time": "2022-08-24T09:22:28.571Z"
   },
   {
    "duration": 13,
    "start_time": "2022-08-24T09:22:28.807Z"
   },
   {
    "duration": 14,
    "start_time": "2022-08-24T09:22:28.822Z"
   },
   {
    "duration": 10,
    "start_time": "2022-08-24T09:22:28.839Z"
   },
   {
    "duration": 22,
    "start_time": "2022-08-24T09:22:28.868Z"
   },
   {
    "duration": 410,
    "start_time": "2022-08-24T09:22:28.893Z"
   },
   {
    "duration": 15,
    "start_time": "2022-08-24T09:22:29.305Z"
   },
   {
    "duration": 237,
    "start_time": "2022-08-24T09:22:29.322Z"
   },
   {
    "duration": 11,
    "start_time": "2022-08-24T09:22:31.423Z"
   },
   {
    "duration": 14,
    "start_time": "2022-08-24T09:26:09.148Z"
   },
   {
    "duration": 216,
    "start_time": "2022-08-24T09:27:33.715Z"
   },
   {
    "duration": 19,
    "start_time": "2022-08-24T09:27:41.240Z"
   },
   {
    "duration": 222,
    "start_time": "2022-08-24T09:29:19.405Z"
   },
   {
    "duration": 137,
    "start_time": "2022-08-24T09:37:54.893Z"
   },
   {
    "duration": 302,
    "start_time": "2022-08-24T09:38:15.316Z"
   },
   {
    "duration": 140,
    "start_time": "2022-08-24T09:38:20.600Z"
   },
   {
    "duration": 247,
    "start_time": "2022-08-24T09:38:36.292Z"
   },
   {
    "duration": 207,
    "start_time": "2022-08-24T09:38:43.362Z"
   },
   {
    "duration": 172,
    "start_time": "2022-08-24T09:38:52.586Z"
   },
   {
    "duration": 210,
    "start_time": "2022-08-24T09:38:58.469Z"
   },
   {
    "duration": 169,
    "start_time": "2022-08-24T09:39:22.899Z"
   },
   {
    "duration": 15,
    "start_time": "2022-08-24T09:40:20.116Z"
   },
   {
    "duration": 23,
    "start_time": "2022-08-24T09:40:44.840Z"
   },
   {
    "duration": 164,
    "start_time": "2022-08-24T09:41:00.445Z"
   },
   {
    "duration": 17,
    "start_time": "2022-08-24T09:41:06.317Z"
   },
   {
    "duration": 22,
    "start_time": "2022-08-24T09:41:10.611Z"
   },
   {
    "duration": 230,
    "start_time": "2022-08-24T09:41:14.379Z"
   },
   {
    "duration": 117,
    "start_time": "2022-08-24T09:45:44.470Z"
   },
   {
    "duration": 17,
    "start_time": "2022-08-24T09:45:47.878Z"
   },
   {
    "duration": 38,
    "start_time": "2022-08-24T09:45:57.116Z"
   },
   {
    "duration": 17,
    "start_time": "2022-08-24T09:46:00.439Z"
   },
   {
    "duration": 43,
    "start_time": "2022-08-24T09:46:04.083Z"
   },
   {
    "duration": 12,
    "start_time": "2022-08-24T09:46:06.301Z"
   },
   {
    "duration": 36,
    "start_time": "2022-08-24T09:46:16.171Z"
   },
   {
    "duration": 16,
    "start_time": "2022-08-24T09:46:18.074Z"
   },
   {
    "duration": 27,
    "start_time": "2022-08-24T09:46:28.030Z"
   },
   {
    "duration": 15,
    "start_time": "2022-08-24T09:46:30.958Z"
   },
   {
    "duration": 27,
    "start_time": "2022-08-24T09:46:47.007Z"
   },
   {
    "duration": 12,
    "start_time": "2022-08-24T09:46:49.646Z"
   },
   {
    "duration": 28,
    "start_time": "2022-08-24T09:46:55.728Z"
   },
   {
    "duration": 11,
    "start_time": "2022-08-24T09:46:57.625Z"
   },
   {
    "duration": 29,
    "start_time": "2022-08-24T09:47:05.684Z"
   },
   {
    "duration": 14,
    "start_time": "2022-08-24T09:47:06.885Z"
   },
   {
    "duration": 101,
    "start_time": "2022-08-24T09:47:12.018Z"
   },
   {
    "duration": 18,
    "start_time": "2022-08-24T09:47:13.265Z"
   },
   {
    "duration": 29,
    "start_time": "2022-08-24T09:50:47.946Z"
   },
   {
    "duration": 14,
    "start_time": "2022-08-24T09:50:50.188Z"
   },
   {
    "duration": 26,
    "start_time": "2022-08-24T09:51:10.709Z"
   },
   {
    "duration": 17,
    "start_time": "2022-08-24T09:51:21.420Z"
   },
   {
    "duration": 16,
    "start_time": "2022-08-24T09:51:24.025Z"
   },
   {
    "duration": 41,
    "start_time": "2022-08-24T09:51:33.872Z"
   },
   {
    "duration": 15,
    "start_time": "2022-08-24T09:51:36.247Z"
   },
   {
    "duration": 46,
    "start_time": "2022-08-24T09:51:45.152Z"
   },
   {
    "duration": 17,
    "start_time": "2022-08-24T09:51:48.471Z"
   },
   {
    "duration": 37,
    "start_time": "2022-08-24T09:56:32.346Z"
   },
   {
    "duration": 13,
    "start_time": "2022-08-24T09:56:35.097Z"
   },
   {
    "duration": 30,
    "start_time": "2022-08-24T09:56:42.223Z"
   },
   {
    "duration": 16,
    "start_time": "2022-08-24T09:56:44.413Z"
   },
   {
    "duration": 129,
    "start_time": "2022-08-24T09:58:10.621Z"
   },
   {
    "duration": 12,
    "start_time": "2022-08-24T09:58:14.785Z"
   },
   {
    "duration": 13,
    "start_time": "2022-08-24T09:58:36.690Z"
   },
   {
    "duration": 1336,
    "start_time": "2022-08-24T10:31:00.697Z"
   },
   {
    "duration": 400,
    "start_time": "2022-08-24T10:31:02.035Z"
   },
   {
    "duration": 16,
    "start_time": "2022-08-24T10:31:02.437Z"
   },
   {
    "duration": 42,
    "start_time": "2022-08-24T10:31:02.455Z"
   },
   {
    "duration": 34,
    "start_time": "2022-08-24T10:31:02.500Z"
   },
   {
    "duration": 14,
    "start_time": "2022-08-24T10:31:02.537Z"
   },
   {
    "duration": 256,
    "start_time": "2022-08-24T10:31:02.553Z"
   },
   {
    "duration": 163,
    "start_time": "2022-08-24T10:31:02.811Z"
   },
   {
    "duration": 11,
    "start_time": "2022-08-24T10:31:02.976Z"
   },
   {
    "duration": 30,
    "start_time": "2022-08-24T10:31:02.989Z"
   },
   {
    "duration": 234,
    "start_time": "2022-08-24T10:31:03.021Z"
   },
   {
    "duration": 30,
    "start_time": "2022-08-24T10:31:03.257Z"
   },
   {
    "duration": 12,
    "start_time": "2022-08-24T10:31:03.297Z"
   },
   {
    "duration": 11,
    "start_time": "2022-08-24T10:31:03.312Z"
   },
   {
    "duration": 24,
    "start_time": "2022-08-24T10:31:03.325Z"
   },
   {
    "duration": 453,
    "start_time": "2022-08-24T10:31:03.350Z"
   },
   {
    "duration": 15,
    "start_time": "2022-08-24T10:31:03.805Z"
   },
   {
    "duration": 261,
    "start_time": "2022-08-24T10:31:03.822Z"
   },
   {
    "duration": 17,
    "start_time": "2022-08-24T10:31:04.087Z"
   },
   {
    "duration": 51,
    "start_time": "2022-08-24T10:31:04.106Z"
   },
   {
    "duration": 12,
    "start_time": "2022-08-24T10:31:08.098Z"
   },
   {
    "duration": 15,
    "start_time": "2022-08-24T10:31:18.879Z"
   },
   {
    "duration": 15,
    "start_time": "2022-08-24T10:32:22.725Z"
   },
   {
    "duration": 137,
    "start_time": "2022-08-24T10:33:06.908Z"
   },
   {
    "duration": 91,
    "start_time": "2022-08-24T10:33:37.637Z"
   },
   {
    "duration": 18,
    "start_time": "2022-08-24T10:33:45.215Z"
   },
   {
    "duration": 66,
    "start_time": "2022-08-24T10:35:08.333Z"
   },
   {
    "duration": 25,
    "start_time": "2022-08-24T10:36:50.556Z"
   },
   {
    "duration": 360,
    "start_time": "2022-08-24T10:39:25.869Z"
   },
   {
    "duration": 18,
    "start_time": "2022-08-24T10:39:30.993Z"
   },
   {
    "duration": 252,
    "start_time": "2022-08-24T10:39:32.791Z"
   },
   {
    "duration": 16,
    "start_time": "2022-08-24T11:14:12.583Z"
   },
   {
    "duration": 16,
    "start_time": "2022-08-24T11:14:12.747Z"
   },
   {
    "duration": 17,
    "start_time": "2022-08-24T11:16:08.434Z"
   },
   {
    "duration": 214,
    "start_time": "2022-08-24T11:16:14.398Z"
   },
   {
    "duration": 16,
    "start_time": "2022-08-24T11:17:58.133Z"
   },
   {
    "duration": 59,
    "start_time": "2022-08-24T11:18:25.740Z"
   },
   {
    "duration": 43,
    "start_time": "2022-08-24T11:19:59.609Z"
   },
   {
    "duration": 13,
    "start_time": "2022-08-24T11:20:05.663Z"
   },
   {
    "duration": 16,
    "start_time": "2022-08-24T11:21:55.501Z"
   },
   {
    "duration": 24,
    "start_time": "2022-08-24T11:23:14.130Z"
   },
   {
    "duration": 11,
    "start_time": "2022-08-24T11:23:25.153Z"
   },
   {
    "duration": 4,
    "start_time": "2022-08-24T11:25:39.516Z"
   },
   {
    "duration": 399,
    "start_time": "2022-08-24T11:25:39.525Z"
   },
   {
    "duration": 16,
    "start_time": "2022-08-24T11:25:39.927Z"
   },
   {
    "duration": 42,
    "start_time": "2022-08-24T11:25:39.946Z"
   },
   {
    "duration": 27,
    "start_time": "2022-08-24T11:25:39.991Z"
   },
   {
    "duration": 35,
    "start_time": "2022-08-24T11:25:40.021Z"
   },
   {
    "duration": 67,
    "start_time": "2022-08-24T11:25:40.059Z"
   },
   {
    "duration": 13,
    "start_time": "2022-08-24T11:25:40.128Z"
   },
   {
    "duration": 247,
    "start_time": "2022-08-24T11:25:40.143Z"
   },
   {
    "duration": 167,
    "start_time": "2022-08-24T11:25:40.393Z"
   },
   {
    "duration": 11,
    "start_time": "2022-08-24T11:25:40.567Z"
   },
   {
    "duration": 23,
    "start_time": "2022-08-24T11:25:40.580Z"
   },
   {
    "duration": 242,
    "start_time": "2022-08-24T11:25:40.605Z"
   },
   {
    "duration": 26,
    "start_time": "2022-08-24T11:25:40.850Z"
   },
   {
    "duration": 10,
    "start_time": "2022-08-24T11:25:40.878Z"
   },
   {
    "duration": 22,
    "start_time": "2022-08-24T11:25:40.890Z"
   },
   {
    "duration": 41,
    "start_time": "2022-08-24T11:25:40.914Z"
   },
   {
    "duration": 430,
    "start_time": "2022-08-24T11:25:40.958Z"
   },
   {
    "duration": 18,
    "start_time": "2022-08-24T11:25:41.390Z"
   },
   {
    "duration": 263,
    "start_time": "2022-08-24T11:25:41.410Z"
   },
   {
    "duration": 40,
    "start_time": "2022-08-24T11:26:24.635Z"
   },
   {
    "duration": 139,
    "start_time": "2022-08-24T11:26:32.742Z"
   },
   {
    "duration": 4,
    "start_time": "2022-08-24T11:26:47.929Z"
   },
   {
    "duration": 269,
    "start_time": "2022-08-24T11:26:47.936Z"
   },
   {
    "duration": 16,
    "start_time": "2022-08-24T11:26:48.207Z"
   },
   {
    "duration": 26,
    "start_time": "2022-08-24T11:26:48.225Z"
   },
   {
    "duration": 24,
    "start_time": "2022-08-24T11:26:48.267Z"
   },
   {
    "duration": 13,
    "start_time": "2022-08-24T11:26:48.293Z"
   },
   {
    "duration": 22,
    "start_time": "2022-08-24T11:26:48.308Z"
   },
   {
    "duration": 10,
    "start_time": "2022-08-24T11:26:48.332Z"
   },
   {
    "duration": 213,
    "start_time": "2022-08-24T11:26:48.368Z"
   },
   {
    "duration": 138,
    "start_time": "2022-08-24T11:26:48.583Z"
   },
   {
    "duration": 9,
    "start_time": "2022-08-24T11:26:48.723Z"
   },
   {
    "duration": 13,
    "start_time": "2022-08-24T11:26:48.733Z"
   },
   {
    "duration": 220,
    "start_time": "2022-08-24T11:26:48.748Z"
   },
   {
    "duration": 11,
    "start_time": "2022-08-24T11:26:48.970Z"
   },
   {
    "duration": 7,
    "start_time": "2022-08-24T11:26:48.982Z"
   },
   {
    "duration": 8,
    "start_time": "2022-08-24T11:26:48.991Z"
   },
   {
    "duration": 22,
    "start_time": "2022-08-24T11:26:49.001Z"
   },
   {
    "duration": 405,
    "start_time": "2022-08-24T11:26:49.025Z"
   },
   {
    "duration": 15,
    "start_time": "2022-08-24T11:26:49.432Z"
   },
   {
    "duration": 246,
    "start_time": "2022-08-24T11:26:49.449Z"
   },
   {
    "duration": 28,
    "start_time": "2022-08-24T11:26:52.254Z"
   },
   {
    "duration": 17,
    "start_time": "2022-08-24T11:26:54.293Z"
   },
   {
    "duration": 69,
    "start_time": "2022-08-24T11:27:06.649Z"
   },
   {
    "duration": 13,
    "start_time": "2022-08-24T11:28:24.228Z"
   },
   {
    "duration": 47,
    "start_time": "2022-08-24T11:29:23.362Z"
   },
   {
    "duration": 57,
    "start_time": "2022-08-24T12:21:08.358Z"
   },
   {
    "duration": 59,
    "start_time": "2022-08-24T12:27:13.917Z"
   },
   {
    "duration": 217,
    "start_time": "2022-08-24T12:41:07.572Z"
   },
   {
    "duration": 10,
    "start_time": "2022-08-24T13:08:40.135Z"
   },
   {
    "duration": 10,
    "start_time": "2022-08-24T13:48:03.051Z"
   },
   {
    "duration": 210,
    "start_time": "2022-08-24T13:48:04.868Z"
   },
   {
    "duration": 274,
    "start_time": "2022-08-24T13:49:48.769Z"
   },
   {
    "duration": 20,
    "start_time": "2022-08-24T13:52:50.606Z"
   },
   {
    "duration": 194,
    "start_time": "2022-08-24T13:52:52.345Z"
   },
   {
    "duration": 17,
    "start_time": "2022-08-24T13:57:19.082Z"
   },
   {
    "duration": 1257,
    "start_time": "2022-08-24T14:21:57.142Z"
   },
   {
    "duration": 311,
    "start_time": "2022-08-24T14:21:58.401Z"
   },
   {
    "duration": 15,
    "start_time": "2022-08-24T14:21:58.713Z"
   },
   {
    "duration": 27,
    "start_time": "2022-08-24T14:21:58.730Z"
   },
   {
    "duration": 23,
    "start_time": "2022-08-24T14:21:58.759Z"
   },
   {
    "duration": 11,
    "start_time": "2022-08-24T14:21:58.784Z"
   },
   {
    "duration": 23,
    "start_time": "2022-08-24T14:21:58.796Z"
   },
   {
    "duration": 12,
    "start_time": "2022-08-24T14:21:58.821Z"
   },
   {
    "duration": 241,
    "start_time": "2022-08-24T14:21:58.834Z"
   },
   {
    "duration": 204,
    "start_time": "2022-08-24T14:21:59.078Z"
   },
   {
    "duration": 10,
    "start_time": "2022-08-24T14:21:59.285Z"
   },
   {
    "duration": 22,
    "start_time": "2022-08-24T14:21:59.297Z"
   },
   {
    "duration": 251,
    "start_time": "2022-08-24T14:21:59.321Z"
   },
   {
    "duration": 12,
    "start_time": "2022-08-24T14:21:59.574Z"
   },
   {
    "duration": 7,
    "start_time": "2022-08-24T14:21:59.588Z"
   },
   {
    "duration": 9,
    "start_time": "2022-08-24T14:21:59.597Z"
   },
   {
    "duration": 22,
    "start_time": "2022-08-24T14:21:59.608Z"
   },
   {
    "duration": 451,
    "start_time": "2022-08-24T14:21:59.632Z"
   },
   {
    "duration": 16,
    "start_time": "2022-08-24T14:22:00.085Z"
   },
   {
    "duration": 279,
    "start_time": "2022-08-24T14:22:00.103Z"
   },
   {
    "duration": 39,
    "start_time": "2022-08-24T14:22:00.384Z"
   },
   {
    "duration": 19,
    "start_time": "2022-08-24T14:22:00.426Z"
   },
   {
    "duration": 288,
    "start_time": "2022-08-24T14:22:00.468Z"
   },
   {
    "duration": 54,
    "start_time": "2022-08-24T14:22:00.758Z"
   },
   {
    "duration": 1508,
    "start_time": "2022-08-24T18:52:07.373Z"
   },
   {
    "duration": 312,
    "start_time": "2022-08-24T18:52:08.883Z"
   },
   {
    "duration": 16,
    "start_time": "2022-08-24T18:52:09.197Z"
   },
   {
    "duration": 32,
    "start_time": "2022-08-24T18:52:10.359Z"
   },
   {
    "duration": 25,
    "start_time": "2022-08-24T18:52:10.699Z"
   },
   {
    "duration": 11,
    "start_time": "2022-08-24T18:52:10.912Z"
   },
   {
    "duration": 23,
    "start_time": "2022-08-24T18:52:11.040Z"
   },
   {
    "duration": 18,
    "start_time": "2022-08-24T18:52:11.854Z"
   },
   {
    "duration": 250,
    "start_time": "2022-08-24T18:52:12.057Z"
   },
   {
    "duration": 152,
    "start_time": "2022-08-24T18:52:13.042Z"
   },
   {
    "duration": 10,
    "start_time": "2022-08-24T18:52:13.197Z"
   },
   {
    "duration": 19,
    "start_time": "2022-08-24T18:52:13.868Z"
   },
   {
    "duration": 218,
    "start_time": "2022-08-24T18:52:14.044Z"
   },
   {
    "duration": 12,
    "start_time": "2022-08-24T18:52:14.818Z"
   },
   {
    "duration": 7,
    "start_time": "2022-08-24T18:52:15.221Z"
   },
   {
    "duration": 11,
    "start_time": "2022-08-24T18:52:15.628Z"
   },
   {
    "duration": 29,
    "start_time": "2022-08-24T18:52:15.901Z"
   },
   {
    "duration": 411,
    "start_time": "2022-08-24T18:52:16.222Z"
   },
   {
    "duration": 20,
    "start_time": "2022-08-24T18:52:17.221Z"
   },
   {
    "duration": 229,
    "start_time": "2022-08-24T18:52:17.404Z"
   },
   {
    "duration": 39,
    "start_time": "2022-08-24T18:52:19.026Z"
   },
   {
    "duration": 149,
    "start_time": "2022-08-24T18:52:38.003Z"
   },
   {
    "duration": 1746,
    "start_time": "2022-08-25T07:05:46.213Z"
   },
   {
    "duration": 228,
    "start_time": "2022-08-25T07:05:47.961Z"
   },
   {
    "duration": 21,
    "start_time": "2022-08-25T07:05:48.191Z"
   },
   {
    "duration": 54,
    "start_time": "2022-08-25T07:05:48.214Z"
   },
   {
    "duration": 44,
    "start_time": "2022-08-25T07:05:48.272Z"
   },
   {
    "duration": 23,
    "start_time": "2022-08-25T07:05:48.318Z"
   },
   {
    "duration": 38,
    "start_time": "2022-08-25T07:05:48.345Z"
   },
   {
    "duration": 40,
    "start_time": "2022-08-25T07:05:48.385Z"
   },
   {
    "duration": 42,
    "start_time": "2022-08-25T07:05:48.427Z"
   },
   {
    "duration": 241,
    "start_time": "2022-08-25T07:05:48.472Z"
   },
   {
    "duration": 150,
    "start_time": "2022-08-25T07:05:48.715Z"
   },
   {
    "duration": 9,
    "start_time": "2022-08-25T07:05:48.867Z"
   },
   {
    "duration": 35,
    "start_time": "2022-08-25T07:05:48.878Z"
   },
   {
    "duration": 226,
    "start_time": "2022-08-25T07:05:48.915Z"
   },
   {
    "duration": 12,
    "start_time": "2022-08-25T07:05:49.142Z"
   },
   {
    "duration": 11,
    "start_time": "2022-08-25T07:05:49.155Z"
   },
   {
    "duration": 35,
    "start_time": "2022-08-25T07:05:49.168Z"
   },
   {
    "duration": 42,
    "start_time": "2022-08-25T07:05:49.205Z"
   },
   {
    "duration": 445,
    "start_time": "2022-08-25T07:05:49.249Z"
   },
   {
    "duration": 28,
    "start_time": "2022-08-25T07:05:49.696Z"
   },
   {
    "duration": 232,
    "start_time": "2022-08-25T07:05:49.727Z"
   },
   {
    "duration": 114,
    "start_time": "2022-08-25T07:05:49.962Z"
   },
   {
    "duration": 27,
    "start_time": "2022-08-25T07:05:50.094Z"
   },
   {
    "duration": 299,
    "start_time": "2022-08-25T07:05:50.123Z"
   },
   {
    "duration": 87,
    "start_time": "2022-08-25T07:05:50.425Z"
   },
   {
    "duration": 116,
    "start_time": "2022-08-25T07:07:54.556Z"
   },
   {
    "duration": 63,
    "start_time": "2022-08-25T07:08:03.815Z"
   },
   {
    "duration": 2153,
    "start_time": "2022-08-25T07:08:16.614Z"
   },
   {
    "duration": 55,
    "start_time": "2022-08-25T07:10:15.272Z"
   },
   {
    "duration": 25,
    "start_time": "2022-08-25T07:10:34.619Z"
   },
   {
    "duration": 63,
    "start_time": "2022-08-25T07:10:53.516Z"
   },
   {
    "duration": 299,
    "start_time": "2022-08-25T07:13:41.838Z"
   },
   {
    "duration": 9,
    "start_time": "2022-08-25T07:15:00.959Z"
   },
   {
    "duration": 5,
    "start_time": "2022-08-25T07:16:15.755Z"
   },
   {
    "duration": 4,
    "start_time": "2022-08-25T07:16:20.061Z"
   },
   {
    "duration": 173,
    "start_time": "2022-08-25T07:17:24.316Z"
   },
   {
    "duration": 34,
    "start_time": "2022-08-25T07:17:39.239Z"
   },
   {
    "duration": 11,
    "start_time": "2022-08-25T07:17:46.741Z"
   },
   {
    "duration": 12,
    "start_time": "2022-08-25T07:18:00.406Z"
   },
   {
    "duration": 9,
    "start_time": "2022-08-25T07:18:04.236Z"
   },
   {
    "duration": 30,
    "start_time": "2022-08-25T07:42:02.472Z"
   },
   {
    "duration": 35,
    "start_time": "2022-08-25T07:42:05.653Z"
   },
   {
    "duration": 34,
    "start_time": "2022-08-25T07:42:06.308Z"
   },
   {
    "duration": 30,
    "start_time": "2022-08-25T07:43:09.309Z"
   },
   {
    "duration": 15,
    "start_time": "2022-08-25T07:43:52.464Z"
   },
   {
    "duration": 10,
    "start_time": "2022-08-25T07:46:11.609Z"
   },
   {
    "duration": 10,
    "start_time": "2022-08-25T07:46:14.789Z"
   },
   {
    "duration": 15,
    "start_time": "2022-08-25T07:46:32.859Z"
   },
   {
    "duration": 11,
    "start_time": "2022-08-25T07:53:17.075Z"
   },
   {
    "duration": 11,
    "start_time": "2022-08-25T07:53:21.687Z"
   },
   {
    "duration": 14,
    "start_time": "2022-08-25T07:53:24.219Z"
   },
   {
    "duration": 30,
    "start_time": "2022-08-25T07:53:45.728Z"
   },
   {
    "duration": 13,
    "start_time": "2022-08-25T07:53:52.540Z"
   },
   {
    "duration": 5,
    "start_time": "2022-08-25T07:54:12.943Z"
   },
   {
    "duration": 462,
    "start_time": "2022-08-25T07:54:12.951Z"
   },
   {
    "duration": 23,
    "start_time": "2022-08-25T07:54:13.422Z"
   },
   {
    "duration": 23,
    "start_time": "2022-08-25T07:54:13.448Z"
   },
   {
    "duration": 52,
    "start_time": "2022-08-25T07:54:13.474Z"
   },
   {
    "duration": 9,
    "start_time": "2022-08-25T07:54:13.528Z"
   },
   {
    "duration": 24,
    "start_time": "2022-08-25T07:54:13.539Z"
   },
   {
    "duration": 95,
    "start_time": "2022-08-25T07:54:13.565Z"
   },
   {
    "duration": 10,
    "start_time": "2022-08-25T07:54:13.663Z"
   },
   {
    "duration": 58,
    "start_time": "2022-08-25T07:54:13.675Z"
   },
   {
    "duration": 14,
    "start_time": "2022-08-25T07:55:06.242Z"
   },
   {
    "duration": 24,
    "start_time": "2022-08-25T07:55:10.030Z"
   },
   {
    "duration": 9,
    "start_time": "2022-08-25T07:55:16.846Z"
   },
   {
    "duration": 9,
    "start_time": "2022-08-25T07:55:19.113Z"
   },
   {
    "duration": 20,
    "start_time": "2022-08-25T07:56:18.516Z"
   },
   {
    "duration": 23,
    "start_time": "2022-08-25T07:56:23.782Z"
   },
   {
    "duration": 8,
    "start_time": "2022-08-25T07:56:28.871Z"
   },
   {
    "duration": 93,
    "start_time": "2022-08-25T07:58:02.621Z"
   },
   {
    "duration": 8,
    "start_time": "2022-08-25T07:58:10.516Z"
   },
   {
    "duration": 6,
    "start_time": "2022-08-25T07:58:39.728Z"
   },
   {
    "duration": 798,
    "start_time": "2022-08-25T07:59:26.891Z"
   },
   {
    "duration": 13,
    "start_time": "2022-08-25T07:59:50.969Z"
   },
   {
    "duration": 11,
    "start_time": "2022-08-25T08:10:03.072Z"
   },
   {
    "duration": 14,
    "start_time": "2022-08-25T08:46:24.045Z"
   },
   {
    "duration": 16,
    "start_time": "2022-08-25T08:46:51.866Z"
   },
   {
    "duration": 13,
    "start_time": "2022-08-25T08:46:58.625Z"
   },
   {
    "duration": 89,
    "start_time": "2022-08-25T08:47:17.052Z"
   },
   {
    "duration": 76,
    "start_time": "2022-08-25T08:47:24.144Z"
   },
   {
    "duration": 19,
    "start_time": "2022-08-25T08:47:45.375Z"
   },
   {
    "duration": 11,
    "start_time": "2022-08-25T08:48:32.938Z"
   },
   {
    "duration": 16,
    "start_time": "2022-08-25T08:48:43.606Z"
   },
   {
    "duration": 5,
    "start_time": "2022-08-25T08:48:55.924Z"
   },
   {
    "duration": 296,
    "start_time": "2022-08-25T08:48:55.931Z"
   },
   {
    "duration": 14,
    "start_time": "2022-08-25T08:48:56.229Z"
   },
   {
    "duration": 29,
    "start_time": "2022-08-25T08:48:56.246Z"
   },
   {
    "duration": 46,
    "start_time": "2022-08-25T08:48:56.277Z"
   },
   {
    "duration": 11,
    "start_time": "2022-08-25T08:48:56.325Z"
   },
   {
    "duration": 33,
    "start_time": "2022-08-25T08:48:56.338Z"
   },
   {
    "duration": 99,
    "start_time": "2022-08-25T08:48:56.374Z"
   },
   {
    "duration": 90,
    "start_time": "2022-08-25T08:48:58.122Z"
   },
   {
    "duration": 12,
    "start_time": "2022-08-25T08:49:00.322Z"
   },
   {
    "duration": 16,
    "start_time": "2022-08-25T08:49:02.468Z"
   },
   {
    "duration": 9,
    "start_time": "2022-08-25T09:00:15.049Z"
   },
   {
    "duration": 8,
    "start_time": "2022-08-25T09:00:36.889Z"
   },
   {
    "duration": 9,
    "start_time": "2022-08-25T09:00:54.062Z"
   },
   {
    "duration": 368,
    "start_time": "2022-08-25T09:05:52.584Z"
   },
   {
    "duration": 34,
    "start_time": "2022-08-25T09:07:45.149Z"
   },
   {
    "duration": 40,
    "start_time": "2022-08-25T09:07:53.144Z"
   },
   {
    "duration": 24,
    "start_time": "2022-08-25T09:08:09.864Z"
   },
   {
    "duration": 29,
    "start_time": "2022-08-25T09:08:54.443Z"
   },
   {
    "duration": 31,
    "start_time": "2022-08-25T09:09:02.958Z"
   },
   {
    "duration": 39,
    "start_time": "2022-08-25T09:09:19.767Z"
   },
   {
    "duration": 14,
    "start_time": "2022-08-25T09:10:36.308Z"
   },
   {
    "duration": 13,
    "start_time": "2022-08-25T09:10:41.723Z"
   },
   {
    "duration": 39,
    "start_time": "2022-08-25T09:11:08.320Z"
   },
   {
    "duration": 9,
    "start_time": "2022-08-25T09:12:00.036Z"
   },
   {
    "duration": 32,
    "start_time": "2022-08-25T09:13:11.886Z"
   },
   {
    "duration": 32,
    "start_time": "2022-08-25T09:16:30.134Z"
   },
   {
    "duration": 25,
    "start_time": "2022-08-25T09:16:39.441Z"
   },
   {
    "duration": 10,
    "start_time": "2022-08-25T09:28:01.864Z"
   },
   {
    "duration": 9,
    "start_time": "2022-08-25T09:28:09.070Z"
   },
   {
    "duration": 11,
    "start_time": "2022-08-25T09:28:47.011Z"
   },
   {
    "duration": 9,
    "start_time": "2022-08-25T09:28:51.843Z"
   },
   {
    "duration": 1243,
    "start_time": "2022-08-25T09:29:07.312Z"
   },
   {
    "duration": 478,
    "start_time": "2022-08-25T09:29:08.557Z"
   },
   {
    "duration": 14,
    "start_time": "2022-08-25T09:29:09.037Z"
   },
   {
    "duration": 27,
    "start_time": "2022-08-25T09:29:09.053Z"
   },
   {
    "duration": 41,
    "start_time": "2022-08-25T09:29:09.081Z"
   },
   {
    "duration": 8,
    "start_time": "2022-08-25T09:29:09.124Z"
   },
   {
    "duration": 26,
    "start_time": "2022-08-25T09:29:09.134Z"
   },
   {
    "duration": 84,
    "start_time": "2022-08-25T09:29:09.161Z"
   },
   {
    "duration": 9,
    "start_time": "2022-08-25T09:29:09.246Z"
   },
   {
    "duration": 51,
    "start_time": "2022-08-25T09:29:09.257Z"
   },
   {
    "duration": 10,
    "start_time": "2022-08-25T09:29:09.310Z"
   },
   {
    "duration": 13,
    "start_time": "2022-08-25T09:29:09.322Z"
   },
   {
    "duration": 227,
    "start_time": "2022-08-25T09:29:09.337Z"
   },
   {
    "duration": 150,
    "start_time": "2022-08-25T09:29:09.565Z"
   },
   {
    "duration": 9,
    "start_time": "2022-08-25T09:29:09.717Z"
   },
   {
    "duration": 22,
    "start_time": "2022-08-25T09:29:09.727Z"
   },
   {
    "duration": 237,
    "start_time": "2022-08-25T09:29:09.751Z"
   },
   {
    "duration": 13,
    "start_time": "2022-08-25T09:29:09.999Z"
   },
   {
    "duration": 11,
    "start_time": "2022-08-25T09:29:10.013Z"
   },
   {
    "duration": 11,
    "start_time": "2022-08-25T09:29:10.025Z"
   },
   {
    "duration": 23,
    "start_time": "2022-08-25T09:29:10.038Z"
   },
   {
    "duration": 418,
    "start_time": "2022-08-25T09:29:10.062Z"
   },
   {
    "duration": 30,
    "start_time": "2022-08-25T09:29:10.482Z"
   },
   {
    "duration": 225,
    "start_time": "2022-08-25T09:29:10.514Z"
   },
   {
    "duration": 26,
    "start_time": "2022-08-25T09:29:10.740Z"
   },
   {
    "duration": 34,
    "start_time": "2022-08-25T09:29:10.768Z"
   },
   {
    "duration": 304,
    "start_time": "2022-08-25T09:29:10.804Z"
   },
   {
    "duration": 54,
    "start_time": "2022-08-25T09:29:11.112Z"
   },
   {
    "duration": 90,
    "start_time": "2022-08-25T09:31:54.326Z"
   },
   {
    "duration": 17,
    "start_time": "2022-08-25T09:32:05.368Z"
   },
   {
    "duration": 52,
    "start_time": "2022-08-25T09:32:42.559Z"
   },
   {
    "duration": 43,
    "start_time": "2022-08-25T09:33:03.132Z"
   },
   {
    "duration": 25,
    "start_time": "2022-08-25T09:33:52.649Z"
   },
   {
    "duration": 16,
    "start_time": "2022-08-25T09:34:13.423Z"
   },
   {
    "duration": 16,
    "start_time": "2022-08-25T09:34:22.969Z"
   },
   {
    "duration": 42,
    "start_time": "2022-08-25T09:39:04.374Z"
   },
   {
    "duration": 1450,
    "start_time": "2022-08-25T09:39:20.338Z"
   },
   {
    "duration": 22,
    "start_time": "2022-08-25T09:39:28.884Z"
   },
   {
    "duration": 1379,
    "start_time": "2022-08-25T09:39:51.264Z"
   },
   {
    "duration": 80,
    "start_time": "2022-08-25T09:39:55.765Z"
   },
   {
    "duration": 49,
    "start_time": "2022-08-25T09:40:04.963Z"
   },
   {
    "duration": 12,
    "start_time": "2022-08-25T09:41:02.620Z"
   },
   {
    "duration": 19,
    "start_time": "2022-08-25T09:41:15.588Z"
   },
   {
    "duration": 21,
    "start_time": "2022-08-25T09:41:54.739Z"
   },
   {
    "duration": 36,
    "start_time": "2022-08-25T09:50:32.733Z"
   },
   {
    "duration": 22,
    "start_time": "2022-08-25T09:50:47.378Z"
   },
   {
    "duration": 25,
    "start_time": "2022-08-25T09:51:16.736Z"
   },
   {
    "duration": 20,
    "start_time": "2022-08-25T09:51:31.144Z"
   },
   {
    "duration": 20,
    "start_time": "2022-08-25T09:52:06.954Z"
   },
   {
    "duration": 120,
    "start_time": "2022-08-25T09:53:23.964Z"
   },
   {
    "duration": 14,
    "start_time": "2022-08-25T09:53:40.420Z"
   },
   {
    "duration": 187,
    "start_time": "2022-08-25T09:53:51.092Z"
   },
   {
    "duration": 180,
    "start_time": "2022-08-25T09:54:15.425Z"
   },
   {
    "duration": 19,
    "start_time": "2022-08-25T09:56:48.150Z"
   },
   {
    "duration": 152,
    "start_time": "2022-08-25T09:56:55.953Z"
   },
   {
    "duration": 25,
    "start_time": "2022-08-25T09:57:04.239Z"
   },
   {
    "duration": 148,
    "start_time": "2022-08-25T09:57:42.065Z"
   },
   {
    "duration": 11,
    "start_time": "2022-08-25T09:59:30.869Z"
   },
   {
    "duration": 17,
    "start_time": "2022-08-25T09:59:34.914Z"
   },
   {
    "duration": 229,
    "start_time": "2022-08-25T09:59:58.129Z"
   },
   {
    "duration": 219,
    "start_time": "2022-08-25T10:00:26.810Z"
   },
   {
    "duration": 236,
    "start_time": "2022-08-25T10:00:45.992Z"
   },
   {
    "duration": 28,
    "start_time": "2022-08-25T10:00:52.739Z"
   },
   {
    "duration": 216,
    "start_time": "2022-08-25T10:02:26.745Z"
   },
   {
    "duration": 210,
    "start_time": "2022-08-25T10:02:32.088Z"
   },
   {
    "duration": 25,
    "start_time": "2022-08-25T10:03:01.583Z"
   },
   {
    "duration": 283,
    "start_time": "2022-08-25T10:03:11.173Z"
   },
   {
    "duration": 215,
    "start_time": "2022-08-25T10:03:42.905Z"
   },
   {
    "duration": 189,
    "start_time": "2022-08-25T10:04:54.018Z"
   },
   {
    "duration": 213,
    "start_time": "2022-08-25T10:05:02.590Z"
   },
   {
    "duration": 85,
    "start_time": "2022-08-25T10:06:44.903Z"
   },
   {
    "duration": 99,
    "start_time": "2022-08-25T10:06:49.876Z"
   },
   {
    "duration": 204,
    "start_time": "2022-08-25T10:06:54.558Z"
   },
   {
    "duration": 12,
    "start_time": "2022-08-25T10:09:10.418Z"
   },
   {
    "duration": 7,
    "start_time": "2022-08-25T10:09:31.968Z"
   },
   {
    "duration": 3,
    "start_time": "2022-08-25T10:10:13.500Z"
   },
   {
    "duration": 4,
    "start_time": "2022-08-25T10:10:17.528Z"
   },
   {
    "duration": 10,
    "start_time": "2022-08-25T10:10:23.487Z"
   },
   {
    "duration": 13,
    "start_time": "2022-08-25T10:10:32.432Z"
   },
   {
    "duration": 18,
    "start_time": "2022-08-25T10:10:44.120Z"
   },
   {
    "duration": 20,
    "start_time": "2022-08-25T10:12:03.217Z"
   },
   {
    "duration": 16,
    "start_time": "2022-08-25T10:12:18.805Z"
   },
   {
    "duration": 17,
    "start_time": "2022-08-25T10:12:23.128Z"
   },
   {
    "duration": 19,
    "start_time": "2022-08-25T10:12:37.680Z"
   },
   {
    "duration": 13,
    "start_time": "2022-08-25T10:12:45.549Z"
   },
   {
    "duration": 9,
    "start_time": "2022-08-25T10:12:56.779Z"
   },
   {
    "duration": 102,
    "start_time": "2022-08-25T10:13:05.402Z"
   },
   {
    "duration": 11,
    "start_time": "2022-08-25T10:13:10.550Z"
   },
   {
    "duration": 24,
    "start_time": "2022-08-25T10:15:44.765Z"
   },
   {
    "duration": 17,
    "start_time": "2022-08-25T10:15:47.944Z"
   },
   {
    "duration": 23,
    "start_time": "2022-08-25T10:16:00.568Z"
   },
   {
    "duration": 4,
    "start_time": "2022-08-25T10:17:50.280Z"
   },
   {
    "duration": 295,
    "start_time": "2022-08-25T10:17:50.287Z"
   },
   {
    "duration": 14,
    "start_time": "2022-08-25T10:17:50.583Z"
   },
   {
    "duration": 24,
    "start_time": "2022-08-25T10:17:50.599Z"
   },
   {
    "duration": 32,
    "start_time": "2022-08-25T10:17:50.626Z"
   },
   {
    "duration": 9,
    "start_time": "2022-08-25T10:17:50.660Z"
   },
   {
    "duration": 38,
    "start_time": "2022-08-25T10:17:50.671Z"
   },
   {
    "duration": 67,
    "start_time": "2022-08-25T10:17:50.710Z"
   },
   {
    "duration": 11,
    "start_time": "2022-08-25T10:17:50.792Z"
   },
   {
    "duration": 30,
    "start_time": "2022-08-25T10:17:50.805Z"
   },
   {
    "duration": 13,
    "start_time": "2022-08-25T10:17:50.837Z"
   },
   {
    "duration": 50,
    "start_time": "2022-08-25T10:17:50.853Z"
   },
   {
    "duration": 16,
    "start_time": "2022-08-25T10:17:50.905Z"
   },
   {
    "duration": 11,
    "start_time": "2022-08-25T10:17:50.923Z"
   },
   {
    "duration": 227,
    "start_time": "2022-08-25T10:17:50.936Z"
   },
   {
    "duration": 150,
    "start_time": "2022-08-25T10:17:51.165Z"
   },
   {
    "duration": 11,
    "start_time": "2022-08-25T10:17:51.317Z"
   },
   {
    "duration": 27,
    "start_time": "2022-08-25T10:17:51.330Z"
   },
   {
    "duration": 241,
    "start_time": "2022-08-25T10:17:51.359Z"
   },
   {
    "duration": 45,
    "start_time": "2022-08-25T10:18:56.431Z"
   },
   {
    "duration": 9,
    "start_time": "2022-08-25T10:19:02.781Z"
   },
   {
    "duration": 20,
    "start_time": "2022-08-25T10:19:44.791Z"
   },
   {
    "duration": 51,
    "start_time": "2022-08-25T10:20:51.386Z"
   },
   {
    "duration": 56,
    "start_time": "2022-08-25T10:21:27.496Z"
   },
   {
    "duration": 19,
    "start_time": "2022-08-25T10:22:53.065Z"
   },
   {
    "duration": 27,
    "start_time": "2022-08-25T10:23:43.082Z"
   },
   {
    "duration": 98,
    "start_time": "2022-08-25T10:24:02.086Z"
   },
   {
    "duration": 20,
    "start_time": "2022-08-25T10:24:31.329Z"
   },
   {
    "duration": 129,
    "start_time": "2022-08-25T10:25:06.491Z"
   },
   {
    "duration": 119,
    "start_time": "2022-08-25T10:25:08.609Z"
   },
   {
    "duration": 12,
    "start_time": "2022-08-25T10:25:22.970Z"
   },
   {
    "duration": 28,
    "start_time": "2022-08-25T10:25:53.153Z"
   },
   {
    "duration": 29,
    "start_time": "2022-08-25T10:26:24.366Z"
   },
   {
    "duration": 4,
    "start_time": "2022-08-25T10:26:36.074Z"
   },
   {
    "duration": 309,
    "start_time": "2022-08-25T10:26:36.080Z"
   },
   {
    "duration": 18,
    "start_time": "2022-08-25T10:26:36.391Z"
   },
   {
    "duration": 37,
    "start_time": "2022-08-25T10:26:36.411Z"
   },
   {
    "duration": 23,
    "start_time": "2022-08-25T10:26:36.450Z"
   },
   {
    "duration": 22,
    "start_time": "2022-08-25T10:26:36.475Z"
   },
   {
    "duration": 40,
    "start_time": "2022-08-25T10:26:36.500Z"
   },
   {
    "duration": 65,
    "start_time": "2022-08-25T10:26:36.542Z"
   },
   {
    "duration": 8,
    "start_time": "2022-08-25T10:26:36.610Z"
   },
   {
    "duration": 35,
    "start_time": "2022-08-25T10:26:36.620Z"
   },
   {
    "duration": 11,
    "start_time": "2022-08-25T10:26:36.657Z"
   },
   {
    "duration": 41,
    "start_time": "2022-08-25T10:26:36.669Z"
   },
   {
    "duration": 21,
    "start_time": "2022-08-25T10:26:36.712Z"
   },
   {
    "duration": 11,
    "start_time": "2022-08-25T10:26:36.734Z"
   },
   {
    "duration": 215,
    "start_time": "2022-08-25T10:26:36.747Z"
   },
   {
    "duration": 137,
    "start_time": "2022-08-25T10:26:36.964Z"
   },
   {
    "duration": 10,
    "start_time": "2022-08-25T10:26:37.103Z"
   },
   {
    "duration": 17,
    "start_time": "2022-08-25T10:26:37.115Z"
   },
   {
    "duration": 229,
    "start_time": "2022-08-25T10:26:37.133Z"
   },
   {
    "duration": 1401,
    "start_time": "2022-08-25T10:26:39.177Z"
   },
   {
    "duration": 1271,
    "start_time": "2022-08-25T10:27:31.394Z"
   },
   {
    "duration": 81,
    "start_time": "2022-08-25T10:48:42.244Z"
   },
   {
    "duration": 10,
    "start_time": "2022-08-25T10:49:17.519Z"
   },
   {
    "duration": 10,
    "start_time": "2022-08-25T10:49:24.356Z"
   },
   {
    "duration": 46,
    "start_time": "2022-08-25T10:49:51.079Z"
   },
   {
    "duration": 8,
    "start_time": "2022-08-25T10:49:57.958Z"
   },
   {
    "duration": 18,
    "start_time": "2022-08-25T10:51:19.196Z"
   },
   {
    "duration": 49,
    "start_time": "2022-08-25T10:51:51.609Z"
   },
   {
    "duration": 147,
    "start_time": "2022-08-25T10:52:05.404Z"
   },
   {
    "duration": 46,
    "start_time": "2022-08-25T10:53:12.731Z"
   },
   {
    "duration": 49,
    "start_time": "2022-08-25T10:54:06.407Z"
   },
   {
    "duration": 5,
    "start_time": "2022-08-25T10:54:13.514Z"
   },
   {
    "duration": 3,
    "start_time": "2022-08-25T10:54:30.583Z"
   },
   {
    "duration": 9,
    "start_time": "2022-08-25T10:54:35.532Z"
   },
   {
    "duration": 52,
    "start_time": "2022-08-25T10:54:55.413Z"
   },
   {
    "duration": 1307,
    "start_time": "2022-08-25T10:55:38.447Z"
   },
   {
    "duration": 351,
    "start_time": "2022-08-25T10:55:39.756Z"
   },
   {
    "duration": 17,
    "start_time": "2022-08-25T10:55:40.112Z"
   },
   {
    "duration": 29,
    "start_time": "2022-08-25T10:55:40.131Z"
   },
   {
    "duration": 49,
    "start_time": "2022-08-25T10:55:40.163Z"
   },
   {
    "duration": 13,
    "start_time": "2022-08-25T10:55:40.215Z"
   },
   {
    "duration": 24,
    "start_time": "2022-08-25T10:55:40.230Z"
   },
   {
    "duration": 91,
    "start_time": "2022-08-25T10:55:40.256Z"
   },
   {
    "duration": 12,
    "start_time": "2022-08-25T10:55:40.348Z"
   },
   {
    "duration": 52,
    "start_time": "2022-08-25T10:55:40.364Z"
   },
   {
    "duration": 21,
    "start_time": "2022-08-25T10:55:40.418Z"
   },
   {
    "duration": 29,
    "start_time": "2022-08-25T10:55:40.442Z"
   },
   {
    "duration": 25,
    "start_time": "2022-08-25T10:55:40.472Z"
   },
   {
    "duration": 24,
    "start_time": "2022-08-25T10:55:40.502Z"
   },
   {
    "duration": 229,
    "start_time": "2022-08-25T10:55:40.528Z"
   },
   {
    "duration": 161,
    "start_time": "2022-08-25T10:55:40.760Z"
   },
   {
    "duration": 10,
    "start_time": "2022-08-25T10:55:40.923Z"
   },
   {
    "duration": 89,
    "start_time": "2022-08-25T10:55:40.935Z"
   },
   {
    "duration": 223,
    "start_time": "2022-08-25T10:55:41.026Z"
   },
   {
    "duration": 14,
    "start_time": "2022-08-25T10:55:41.252Z"
   },
   {
    "duration": 9,
    "start_time": "2022-08-25T10:55:41.268Z"
   },
   {
    "duration": 16,
    "start_time": "2022-08-25T10:55:41.295Z"
   },
   {
    "duration": 25,
    "start_time": "2022-08-25T10:55:41.312Z"
   },
   {
    "duration": 411,
    "start_time": "2022-08-25T10:55:41.339Z"
   },
   {
    "duration": 14,
    "start_time": "2022-08-25T10:55:41.752Z"
   },
   {
    "duration": 271,
    "start_time": "2022-08-25T10:55:41.768Z"
   },
   {
    "duration": 26,
    "start_time": "2022-08-25T10:55:42.041Z"
   },
   {
    "duration": 36,
    "start_time": "2022-08-25T10:55:42.071Z"
   },
   {
    "duration": 350,
    "start_time": "2022-08-25T10:55:42.109Z"
   },
   {
    "duration": 76,
    "start_time": "2022-08-25T10:55:42.462Z"
   },
   {
    "duration": 177,
    "start_time": "2022-08-25T10:57:00.976Z"
   },
   {
    "duration": 72,
    "start_time": "2022-08-25T10:57:13.943Z"
   },
   {
    "duration": 64,
    "start_time": "2022-08-25T10:57:51.579Z"
   },
   {
    "duration": 78,
    "start_time": "2022-08-25T10:57:58.145Z"
   },
   {
    "duration": 103,
    "start_time": "2022-08-25T10:58:16.056Z"
   },
   {
    "duration": 86,
    "start_time": "2022-08-25T10:58:40.977Z"
   },
   {
    "duration": 79,
    "start_time": "2022-08-25T10:58:43.670Z"
   },
   {
    "duration": 72,
    "start_time": "2022-08-25T10:59:38.410Z"
   },
   {
    "duration": 226,
    "start_time": "2022-08-25T11:00:39.012Z"
   },
   {
    "duration": 226,
    "start_time": "2022-08-25T11:00:47.389Z"
   },
   {
    "duration": 114,
    "start_time": "2022-08-25T11:01:13.148Z"
   },
   {
    "duration": 216,
    "start_time": "2022-08-25T11:01:16.109Z"
   },
   {
    "duration": 1317,
    "start_time": "2022-08-25T11:08:29.021Z"
   },
   {
    "duration": 763,
    "start_time": "2022-08-25T11:08:30.341Z"
   },
   {
    "duration": 18,
    "start_time": "2022-08-25T11:08:31.106Z"
   },
   {
    "duration": 25,
    "start_time": "2022-08-25T11:08:31.128Z"
   },
   {
    "duration": 44,
    "start_time": "2022-08-25T11:08:31.155Z"
   },
   {
    "duration": 17,
    "start_time": "2022-08-25T11:08:31.201Z"
   },
   {
    "duration": 28,
    "start_time": "2022-08-25T11:08:31.220Z"
   },
   {
    "duration": 87,
    "start_time": "2022-08-25T11:08:31.251Z"
   },
   {
    "duration": 13,
    "start_time": "2022-08-25T11:08:31.340Z"
   },
   {
    "duration": 62,
    "start_time": "2022-08-25T11:08:31.357Z"
   },
   {
    "duration": 13,
    "start_time": "2022-08-25T11:08:31.421Z"
   },
   {
    "duration": 23,
    "start_time": "2022-08-25T11:08:31.436Z"
   },
   {
    "duration": 42,
    "start_time": "2022-08-25T11:08:31.462Z"
   },
   {
    "duration": 13,
    "start_time": "2022-08-25T11:08:31.506Z"
   },
   {
    "duration": 228,
    "start_time": "2022-08-25T11:08:31.520Z"
   },
   {
    "duration": 161,
    "start_time": "2022-08-25T11:08:31.751Z"
   },
   {
    "duration": 9,
    "start_time": "2022-08-25T11:08:31.914Z"
   },
   {
    "duration": 112,
    "start_time": "2022-08-25T11:08:31.925Z"
   },
   {
    "duration": 250,
    "start_time": "2022-08-25T11:08:32.039Z"
   },
   {
    "duration": 12,
    "start_time": "2022-08-25T11:08:32.294Z"
   },
   {
    "duration": 10,
    "start_time": "2022-08-25T11:08:32.309Z"
   },
   {
    "duration": 12,
    "start_time": "2022-08-25T11:08:32.321Z"
   },
   {
    "duration": 24,
    "start_time": "2022-08-25T11:08:32.334Z"
   },
   {
    "duration": 438,
    "start_time": "2022-08-25T11:08:32.359Z"
   },
   {
    "duration": 16,
    "start_time": "2022-08-25T11:08:32.799Z"
   },
   {
    "duration": 237,
    "start_time": "2022-08-25T11:08:32.817Z"
   },
   {
    "duration": 53,
    "start_time": "2022-08-25T11:08:33.057Z"
   },
   {
    "duration": 20,
    "start_time": "2022-08-25T11:08:33.114Z"
   },
   {
    "duration": 360,
    "start_time": "2022-08-25T11:08:33.136Z"
   },
   {
    "duration": 49,
    "start_time": "2022-08-25T11:08:33.498Z"
   },
   {
    "duration": 11,
    "start_time": "2022-08-25T11:09:27.494Z"
   },
   {
    "duration": 126,
    "start_time": "2022-08-25T11:10:04.057Z"
   },
   {
    "duration": 10,
    "start_time": "2022-08-25T11:10:39.574Z"
   },
   {
    "duration": 5,
    "start_time": "2022-08-25T11:10:55.167Z"
   },
   {
    "duration": 14,
    "start_time": "2022-08-25T11:12:27.896Z"
   },
   {
    "duration": 7,
    "start_time": "2022-08-25T11:12:42.851Z"
   },
   {
    "duration": 21,
    "start_time": "2022-08-25T11:13:04.268Z"
   },
   {
    "duration": 369,
    "start_time": "2022-08-25T11:13:14.502Z"
   },
   {
    "duration": 19,
    "start_time": "2022-08-25T11:18:07.481Z"
   },
   {
    "duration": 17,
    "start_time": "2022-08-25T11:18:29.520Z"
   },
   {
    "duration": 22,
    "start_time": "2022-08-25T11:18:53.784Z"
   },
   {
    "duration": 153,
    "start_time": "2022-08-25T11:19:48.695Z"
   },
   {
    "duration": 152,
    "start_time": "2022-08-25T11:20:15.961Z"
   },
   {
    "duration": 208,
    "start_time": "2022-08-25T11:20:28.119Z"
   },
   {
    "duration": 16,
    "start_time": "2022-08-25T11:20:41.192Z"
   },
   {
    "duration": 157,
    "start_time": "2022-08-25T11:20:43.609Z"
   },
   {
    "duration": 27,
    "start_time": "2022-08-25T11:20:51.346Z"
   },
   {
    "duration": 157,
    "start_time": "2022-08-25T11:21:02.888Z"
   },
   {
    "duration": 313,
    "start_time": "2022-08-25T11:22:59.973Z"
   },
   {
    "duration": 204,
    "start_time": "2022-08-25T11:23:07.095Z"
   },
   {
    "duration": 208,
    "start_time": "2022-08-25T11:23:19.482Z"
   },
   {
    "duration": 204,
    "start_time": "2022-08-25T11:23:26.273Z"
   },
   {
    "duration": 179,
    "start_time": "2022-08-25T11:23:34.210Z"
   },
   {
    "duration": 89,
    "start_time": "2022-08-25T11:23:41.216Z"
   },
   {
    "duration": 258,
    "start_time": "2022-08-25T11:23:44.716Z"
   },
   {
    "duration": 250,
    "start_time": "2022-08-25T11:25:41.508Z"
   },
   {
    "duration": 209,
    "start_time": "2022-08-25T11:25:50.589Z"
   },
   {
    "duration": 234,
    "start_time": "2022-08-25T11:25:54.054Z"
   },
   {
    "duration": 201,
    "start_time": "2022-08-25T11:25:57.157Z"
   },
   {
    "duration": 190,
    "start_time": "2022-08-25T11:26:12.258Z"
   },
   {
    "duration": 219,
    "start_time": "2022-08-25T11:29:17.671Z"
   },
   {
    "duration": 222,
    "start_time": "2022-08-25T11:29:23.496Z"
   },
   {
    "duration": 206,
    "start_time": "2022-08-25T11:29:27.262Z"
   },
   {
    "duration": 17,
    "start_time": "2022-08-25T11:30:10.900Z"
   },
   {
    "duration": 14,
    "start_time": "2022-08-25T11:30:17.106Z"
   },
   {
    "duration": 201,
    "start_time": "2022-08-25T11:30:20.446Z"
   },
   {
    "duration": 15,
    "start_time": "2022-08-25T11:32:13.247Z"
   },
   {
    "duration": 223,
    "start_time": "2022-08-25T11:32:28.974Z"
   },
   {
    "duration": 388,
    "start_time": "2022-08-25T12:12:21.835Z"
   },
   {
    "duration": 2345,
    "start_time": "2022-08-25T12:30:03.758Z"
   },
   {
    "duration": 2321,
    "start_time": "2022-08-25T12:31:02.858Z"
   },
   {
    "duration": 2629,
    "start_time": "2022-08-25T12:31:23.431Z"
   },
   {
    "duration": 939,
    "start_time": "2022-08-25T12:32:32.136Z"
   },
   {
    "duration": 14,
    "start_time": "2022-08-25T12:40:12.015Z"
   },
   {
    "duration": 1221,
    "start_time": "2022-08-25T12:40:16.083Z"
   },
   {
    "duration": 13,
    "start_time": "2022-08-25T12:40:21.513Z"
   },
   {
    "duration": 1583,
    "start_time": "2022-08-25T12:42:35.454Z"
   },
   {
    "duration": 5,
    "start_time": "2022-08-25T12:43:58.520Z"
   },
   {
    "duration": 29,
    "start_time": "2022-08-25T12:44:56.550Z"
   },
   {
    "duration": 5,
    "start_time": "2022-08-25T12:45:47.965Z"
   },
   {
    "duration": 12,
    "start_time": "2022-08-25T12:46:27.545Z"
   },
   {
    "duration": 9,
    "start_time": "2022-08-25T12:47:05.668Z"
   },
   {
    "duration": 6,
    "start_time": "2022-08-25T12:47:40.271Z"
   },
   {
    "duration": 1370,
    "start_time": "2022-08-25T12:47:49.744Z"
   },
   {
    "duration": 28,
    "start_time": "2022-08-25T12:48:03.503Z"
   },
   {
    "duration": 1605,
    "start_time": "2022-08-25T12:48:10.609Z"
   },
   {
    "duration": 1474,
    "start_time": "2022-08-25T12:48:17.924Z"
   },
   {
    "duration": 6,
    "start_time": "2022-08-25T12:48:25.094Z"
   },
   {
    "duration": 5,
    "start_time": "2022-08-25T12:49:22.585Z"
   },
   {
    "duration": 25,
    "start_time": "2022-08-25T12:49:31.642Z"
   },
   {
    "duration": 4,
    "start_time": "2022-08-25T12:51:06.673Z"
   },
   {
    "duration": 200,
    "start_time": "2022-08-25T12:51:06.678Z"
   },
   {
    "duration": 15,
    "start_time": "2022-08-25T12:51:06.880Z"
   },
   {
    "duration": 27,
    "start_time": "2022-08-25T12:51:06.897Z"
   },
   {
    "duration": 23,
    "start_time": "2022-08-25T12:51:06.926Z"
   },
   {
    "duration": 12,
    "start_time": "2022-08-25T12:51:06.951Z"
   },
   {
    "duration": 44,
    "start_time": "2022-08-25T12:51:06.964Z"
   },
   {
    "duration": 64,
    "start_time": "2022-08-25T12:51:07.010Z"
   },
   {
    "duration": 24,
    "start_time": "2022-08-25T12:51:07.076Z"
   },
   {
    "duration": 29,
    "start_time": "2022-08-25T12:51:07.102Z"
   },
   {
    "duration": 10,
    "start_time": "2022-08-25T12:51:07.134Z"
   },
   {
    "duration": 50,
    "start_time": "2022-08-25T12:51:07.145Z"
   },
   {
    "duration": 18,
    "start_time": "2022-08-25T12:51:07.196Z"
   },
   {
    "duration": 10,
    "start_time": "2022-08-25T12:51:07.217Z"
   },
   {
    "duration": 236,
    "start_time": "2022-08-25T12:51:07.229Z"
   },
   {
    "duration": 8,
    "start_time": "2022-08-25T12:51:07.466Z"
   },
   {
    "duration": 151,
    "start_time": "2022-08-25T12:51:07.476Z"
   },
   {
    "duration": 9,
    "start_time": "2022-08-25T12:51:07.630Z"
   },
   {
    "duration": 79,
    "start_time": "2022-08-25T12:51:07.641Z"
   },
   {
    "duration": 227,
    "start_time": "2022-08-25T12:51:07.721Z"
   },
   {
    "duration": 12,
    "start_time": "2022-08-25T12:51:07.949Z"
   },
   {
    "duration": 11,
    "start_time": "2022-08-25T12:51:07.963Z"
   },
   {
    "duration": 10,
    "start_time": "2022-08-25T12:51:07.993Z"
   },
   {
    "duration": 24,
    "start_time": "2022-08-25T12:51:08.005Z"
   },
   {
    "duration": 478,
    "start_time": "2022-08-25T12:51:08.031Z"
   },
   {
    "duration": 20,
    "start_time": "2022-08-25T12:51:08.511Z"
   },
   {
    "duration": 210,
    "start_time": "2022-08-25T12:51:08.533Z"
   },
   {
    "duration": 14,
    "start_time": "2022-08-25T12:51:08.746Z"
   },
   {
    "duration": 231,
    "start_time": "2022-08-25T12:51:08.764Z"
   },
   {
    "duration": 27,
    "start_time": "2022-08-25T12:51:08.997Z"
   },
   {
    "duration": 28,
    "start_time": "2022-08-25T12:51:09.025Z"
   },
   {
    "duration": 255,
    "start_time": "2022-08-25T12:51:09.055Z"
   },
   {
    "duration": 1343,
    "start_time": "2022-08-25T12:51:09.312Z"
   },
   {
    "duration": 14,
    "start_time": "2022-08-25T12:51:10.657Z"
   },
   {
    "duration": 7,
    "start_time": "2022-08-25T12:51:13.233Z"
   },
   {
    "duration": 25,
    "start_time": "2022-08-25T12:51:26.993Z"
   },
   {
    "duration": 4,
    "start_time": "2022-08-25T12:51:39.234Z"
   },
   {
    "duration": 4,
    "start_time": "2022-08-25T12:51:54.362Z"
   },
   {
    "duration": 159,
    "start_time": "2022-08-25T12:51:54.369Z"
   },
   {
    "duration": 16,
    "start_time": "2022-08-25T12:51:54.530Z"
   },
   {
    "duration": 45,
    "start_time": "2022-08-25T12:51:54.548Z"
   },
   {
    "duration": 24,
    "start_time": "2022-08-25T12:51:54.595Z"
   },
   {
    "duration": 15,
    "start_time": "2022-08-25T12:51:54.621Z"
   },
   {
    "duration": 34,
    "start_time": "2022-08-25T12:51:54.638Z"
   },
   {
    "duration": 84,
    "start_time": "2022-08-25T12:51:54.674Z"
   },
   {
    "duration": 9,
    "start_time": "2022-08-25T12:51:54.759Z"
   },
   {
    "duration": 139,
    "start_time": "2022-08-25T12:51:54.770Z"
   },
   {
    "duration": 11,
    "start_time": "2022-08-25T12:51:54.912Z"
   },
   {
    "duration": 31,
    "start_time": "2022-08-25T12:51:54.925Z"
   },
   {
    "duration": 18,
    "start_time": "2022-08-25T12:51:54.957Z"
   },
   {
    "duration": 24,
    "start_time": "2022-08-25T12:51:54.977Z"
   },
   {
    "duration": 208,
    "start_time": "2022-08-25T12:51:55.003Z"
   },
   {
    "duration": 8,
    "start_time": "2022-08-25T12:51:55.213Z"
   },
   {
    "duration": 148,
    "start_time": "2022-08-25T12:51:55.222Z"
   },
   {
    "duration": 21,
    "start_time": "2022-08-25T12:51:55.373Z"
   },
   {
    "duration": 63,
    "start_time": "2022-08-25T12:51:55.395Z"
   },
   {
    "duration": 233,
    "start_time": "2022-08-25T12:51:55.460Z"
   },
   {
    "duration": 12,
    "start_time": "2022-08-25T12:51:55.695Z"
   },
   {
    "duration": 8,
    "start_time": "2022-08-25T12:51:55.709Z"
   },
   {
    "duration": 9,
    "start_time": "2022-08-25T12:51:55.719Z"
   },
   {
    "duration": 21,
    "start_time": "2022-08-25T12:51:55.729Z"
   },
   {
    "duration": 409,
    "start_time": "2022-08-25T12:51:55.752Z"
   },
   {
    "duration": 31,
    "start_time": "2022-08-25T12:51:56.163Z"
   },
   {
    "duration": 190,
    "start_time": "2022-08-25T12:51:56.197Z"
   },
   {
    "duration": 14,
    "start_time": "2022-08-25T12:51:56.393Z"
   },
   {
    "duration": 213,
    "start_time": "2022-08-25T12:51:56.411Z"
   },
   {
    "duration": 25,
    "start_time": "2022-08-25T12:51:56.626Z"
   },
   {
    "duration": 20,
    "start_time": "2022-08-25T12:51:56.653Z"
   },
   {
    "duration": 247,
    "start_time": "2022-08-25T12:51:56.675Z"
   },
   {
    "duration": 804,
    "start_time": "2022-08-25T12:51:56.924Z"
   },
   {
    "duration": 11,
    "start_time": "2022-08-25T12:52:16.715Z"
   },
   {
    "duration": 20,
    "start_time": "2022-08-25T12:53:10.653Z"
   },
   {
    "duration": 18,
    "start_time": "2022-08-25T12:53:12.850Z"
   },
   {
    "duration": 6,
    "start_time": "2022-08-25T12:53:43.090Z"
   },
   {
    "duration": 183,
    "start_time": "2022-08-25T12:53:43.099Z"
   },
   {
    "duration": 14,
    "start_time": "2022-08-25T12:53:43.285Z"
   },
   {
    "duration": 34,
    "start_time": "2022-08-25T12:53:43.301Z"
   },
   {
    "duration": 42,
    "start_time": "2022-08-25T12:53:43.340Z"
   },
   {
    "duration": 10,
    "start_time": "2022-08-25T12:53:43.392Z"
   },
   {
    "duration": 21,
    "start_time": "2022-08-25T12:53:43.404Z"
   },
   {
    "duration": 83,
    "start_time": "2022-08-25T12:53:43.427Z"
   },
   {
    "duration": 11,
    "start_time": "2022-08-25T12:53:43.512Z"
   },
   {
    "duration": 29,
    "start_time": "2022-08-25T12:53:43.525Z"
   },
   {
    "duration": 38,
    "start_time": "2022-08-25T12:53:43.558Z"
   },
   {
    "duration": 29,
    "start_time": "2022-08-25T12:53:43.598Z"
   },
   {
    "duration": 19,
    "start_time": "2022-08-25T12:53:43.630Z"
   },
   {
    "duration": 44,
    "start_time": "2022-08-25T12:53:43.652Z"
   },
   {
    "duration": 216,
    "start_time": "2022-08-25T12:53:43.698Z"
   },
   {
    "duration": 7,
    "start_time": "2022-08-25T12:53:43.916Z"
   },
   {
    "duration": 246,
    "start_time": "2022-08-25T12:53:43.925Z"
   },
   {
    "duration": 8,
    "start_time": "2022-08-25T12:53:44.173Z"
   },
   {
    "duration": 74,
    "start_time": "2022-08-25T12:53:44.192Z"
   },
   {
    "duration": 228,
    "start_time": "2022-08-25T12:53:44.268Z"
   },
   {
    "duration": 11,
    "start_time": "2022-08-25T12:53:44.498Z"
   },
   {
    "duration": 7,
    "start_time": "2022-08-25T12:53:44.511Z"
   },
   {
    "duration": 15,
    "start_time": "2022-08-25T12:53:44.520Z"
   },
   {
    "duration": 32,
    "start_time": "2022-08-25T12:53:44.537Z"
   },
   {
    "duration": 399,
    "start_time": "2022-08-25T12:53:44.571Z"
   },
   {
    "duration": 26,
    "start_time": "2022-08-25T12:53:44.972Z"
   },
   {
    "duration": 194,
    "start_time": "2022-08-25T12:53:45.000Z"
   },
   {
    "duration": 13,
    "start_time": "2022-08-25T12:53:45.195Z"
   },
   {
    "duration": 259,
    "start_time": "2022-08-25T12:53:45.212Z"
   },
   {
    "duration": 36,
    "start_time": "2022-08-25T12:53:45.474Z"
   },
   {
    "duration": 18,
    "start_time": "2022-08-25T12:53:45.512Z"
   },
   {
    "duration": 24,
    "start_time": "2022-08-25T12:53:45.532Z"
   },
   {
    "duration": 258,
    "start_time": "2022-08-25T12:53:45.559Z"
   },
   {
    "duration": 733,
    "start_time": "2022-08-25T12:53:45.819Z"
   },
   {
    "duration": 12,
    "start_time": "2022-08-25T12:53:46.554Z"
   },
   {
    "duration": 1385,
    "start_time": "2022-08-25T12:53:50.722Z"
   },
   {
    "duration": 5383,
    "start_time": "2022-08-25T12:54:33.612Z"
   },
   {
    "duration": 5,
    "start_time": "2022-08-25T12:54:59.417Z"
   },
   {
    "duration": 2070,
    "start_time": "2022-08-25T12:55:22.458Z"
   },
   {
    "duration": 44,
    "start_time": "2022-08-25T12:55:42.619Z"
   },
   {
    "duration": 44,
    "start_time": "2022-08-25T12:55:52.843Z"
   },
   {
    "duration": 31,
    "start_time": "2022-08-25T12:56:58.803Z"
   },
   {
    "duration": 28,
    "start_time": "2022-08-25T12:58:08.956Z"
   },
   {
    "duration": 18,
    "start_time": "2022-08-25T13:00:11.678Z"
   },
   {
    "duration": 18,
    "start_time": "2022-08-25T13:00:56.006Z"
   },
   {
    "duration": 17,
    "start_time": "2022-08-25T13:01:34.663Z"
   },
   {
    "duration": 17,
    "start_time": "2022-08-25T13:02:06.210Z"
   },
   {
    "duration": 16,
    "start_time": "2022-08-25T13:02:09.778Z"
   },
   {
    "duration": 25,
    "start_time": "2022-08-25T13:05:31.459Z"
   },
   {
    "duration": 5,
    "start_time": "2022-08-25T13:05:37.465Z"
   },
   {
    "duration": 36,
    "start_time": "2022-08-25T13:05:48.376Z"
   },
   {
    "duration": 5,
    "start_time": "2022-08-25T13:05:53.028Z"
   },
   {
    "duration": 5,
    "start_time": "2022-08-25T13:05:59.407Z"
   },
   {
    "duration": 14,
    "start_time": "2022-08-25T13:07:42.143Z"
   },
   {
    "duration": 56,
    "start_time": "2022-08-25T13:08:48.355Z"
   },
   {
    "duration": 10,
    "start_time": "2022-08-25T13:11:33.104Z"
   },
   {
    "duration": 10,
    "start_time": "2022-08-25T13:11:44.350Z"
   },
   {
    "duration": 12,
    "start_time": "2022-08-25T13:13:10.962Z"
   },
   {
    "duration": 10,
    "start_time": "2022-08-25T13:13:20.561Z"
   },
   {
    "duration": 11,
    "start_time": "2022-08-25T13:13:28.956Z"
   },
   {
    "duration": 9,
    "start_time": "2022-08-25T13:14:12.406Z"
   },
   {
    "duration": 10,
    "start_time": "2022-08-25T13:15:34.999Z"
   },
   {
    "duration": 12,
    "start_time": "2022-08-25T13:15:39.781Z"
   },
   {
    "duration": 13,
    "start_time": "2022-08-25T13:15:51.468Z"
   },
   {
    "duration": 8,
    "start_time": "2022-08-25T13:15:54.259Z"
   },
   {
    "duration": 17,
    "start_time": "2022-08-25T13:18:38.823Z"
   },
   {
    "duration": 47,
    "start_time": "2022-08-25T13:25:31.191Z"
   },
   {
    "duration": 14,
    "start_time": "2022-08-25T13:26:29.660Z"
   },
   {
    "duration": 13,
    "start_time": "2022-08-25T13:26:51.168Z"
   },
   {
    "duration": 113,
    "start_time": "2022-08-25T13:27:21.574Z"
   },
   {
    "duration": 72,
    "start_time": "2022-08-25T13:28:00.119Z"
   },
   {
    "duration": 72,
    "start_time": "2022-08-25T13:28:10.055Z"
   },
   {
    "duration": 84,
    "start_time": "2022-08-25T13:28:26.544Z"
   },
   {
    "duration": 120,
    "start_time": "2022-08-25T13:28:39.641Z"
   },
   {
    "duration": 80,
    "start_time": "2022-08-25T13:29:11.194Z"
   },
   {
    "duration": 138,
    "start_time": "2022-08-25T13:29:20.088Z"
   },
   {
    "duration": 140,
    "start_time": "2022-08-25T13:29:40.560Z"
   },
   {
    "duration": 67,
    "start_time": "2022-08-25T13:30:14.026Z"
   },
   {
    "duration": 80,
    "start_time": "2022-08-25T13:30:30.071Z"
   },
   {
    "duration": 81,
    "start_time": "2022-08-25T13:30:42.393Z"
   },
   {
    "duration": 133,
    "start_time": "2022-08-25T14:13:10.038Z"
   },
   {
    "duration": 1361,
    "start_time": "2022-08-25T14:22:13.488Z"
   },
   {
    "duration": 242,
    "start_time": "2022-08-25T14:22:14.851Z"
   },
   {
    "duration": 20,
    "start_time": "2022-08-25T14:22:15.095Z"
   },
   {
    "duration": 27,
    "start_time": "2022-08-25T14:22:15.118Z"
   },
   {
    "duration": 48,
    "start_time": "2022-08-25T14:22:15.147Z"
   },
   {
    "duration": 16,
    "start_time": "2022-08-25T14:22:15.197Z"
   },
   {
    "duration": 26,
    "start_time": "2022-08-25T14:22:15.215Z"
   },
   {
    "duration": 80,
    "start_time": "2022-08-25T14:22:15.243Z"
   },
   {
    "duration": 9,
    "start_time": "2022-08-25T14:22:15.325Z"
   },
   {
    "duration": 36,
    "start_time": "2022-08-25T14:22:15.337Z"
   },
   {
    "duration": 14,
    "start_time": "2022-08-25T14:22:15.393Z"
   },
   {
    "duration": 23,
    "start_time": "2022-08-25T14:22:15.409Z"
   },
   {
    "duration": 24,
    "start_time": "2022-08-25T14:22:15.434Z"
   },
   {
    "duration": 10,
    "start_time": "2022-08-25T14:22:15.460Z"
   },
   {
    "duration": 227,
    "start_time": "2022-08-25T14:22:15.492Z"
   },
   {
    "duration": 8,
    "start_time": "2022-08-25T14:22:15.720Z"
   },
   {
    "duration": 146,
    "start_time": "2022-08-25T14:22:15.730Z"
   },
   {
    "duration": 16,
    "start_time": "2022-08-25T14:22:15.878Z"
   },
   {
    "duration": 65,
    "start_time": "2022-08-25T14:22:15.896Z"
   },
   {
    "duration": 235,
    "start_time": "2022-08-25T14:22:15.963Z"
   },
   {
    "duration": 16,
    "start_time": "2022-08-25T14:22:16.200Z"
   },
   {
    "duration": 9,
    "start_time": "2022-08-25T14:22:16.218Z"
   },
   {
    "duration": 17,
    "start_time": "2022-08-25T14:22:16.229Z"
   },
   {
    "duration": 26,
    "start_time": "2022-08-25T14:22:16.248Z"
   },
   {
    "duration": 444,
    "start_time": "2022-08-25T14:22:16.275Z"
   },
   {
    "duration": 17,
    "start_time": "2022-08-25T14:22:16.720Z"
   },
   {
    "duration": 199,
    "start_time": "2022-08-25T14:22:16.739Z"
   },
   {
    "duration": 13,
    "start_time": "2022-08-25T14:22:16.941Z"
   },
   {
    "duration": 226,
    "start_time": "2022-08-25T14:22:16.956Z"
   },
   {
    "duration": 110,
    "start_time": "2022-08-25T14:22:17.184Z"
   },
   {
    "duration": 17,
    "start_time": "2022-08-25T14:22:17.295Z"
   },
   {
    "duration": 22,
    "start_time": "2022-08-25T14:22:17.314Z"
   },
   {
    "duration": 249,
    "start_time": "2022-08-25T14:22:17.337Z"
   },
   {
    "duration": 1184,
    "start_time": "2022-08-25T14:22:17.593Z"
   },
   {
    "duration": 13,
    "start_time": "2022-08-25T14:22:18.779Z"
   },
   {
    "duration": 41,
    "start_time": "2022-08-25T14:22:18.793Z"
   },
   {
    "duration": 17,
    "start_time": "2022-08-25T14:22:18.836Z"
   },
   {
    "duration": 96,
    "start_time": "2022-08-25T14:22:18.855Z"
   },
   {
    "duration": 128,
    "start_time": "2022-08-25T14:24:41.160Z"
   },
   {
    "duration": 122,
    "start_time": "2022-08-25T14:24:48.581Z"
   },
   {
    "duration": 234,
    "start_time": "2022-08-25T14:24:55.765Z"
   },
   {
    "duration": 145,
    "start_time": "2022-08-25T14:24:59.284Z"
   },
   {
    "duration": 1407,
    "start_time": "2022-08-26T06:46:11.523Z"
   },
   {
    "duration": 302,
    "start_time": "2022-08-26T06:46:12.932Z"
   },
   {
    "duration": 15,
    "start_time": "2022-08-26T06:46:13.235Z"
   },
   {
    "duration": 22,
    "start_time": "2022-08-26T06:46:13.252Z"
   },
   {
    "duration": 20,
    "start_time": "2022-08-26T06:46:13.276Z"
   },
   {
    "duration": 13,
    "start_time": "2022-08-26T06:46:13.297Z"
   },
   {
    "duration": 30,
    "start_time": "2022-08-26T06:46:13.312Z"
   },
   {
    "duration": 74,
    "start_time": "2022-08-26T06:46:13.344Z"
   },
   {
    "duration": 9,
    "start_time": "2022-08-26T06:46:13.420Z"
   },
   {
    "duration": 44,
    "start_time": "2022-08-26T06:46:13.432Z"
   },
   {
    "duration": 14,
    "start_time": "2022-08-26T06:46:13.478Z"
   },
   {
    "duration": 20,
    "start_time": "2022-08-26T06:46:13.495Z"
   },
   {
    "duration": 16,
    "start_time": "2022-08-26T06:46:13.517Z"
   },
   {
    "duration": 38,
    "start_time": "2022-08-26T06:46:13.534Z"
   },
   {
    "duration": 221,
    "start_time": "2022-08-26T06:46:13.574Z"
   },
   {
    "duration": 124,
    "start_time": "2022-08-26T06:46:13.796Z"
   },
   {
    "duration": 7,
    "start_time": "2022-08-26T06:46:13.921Z"
   },
   {
    "duration": 62,
    "start_time": "2022-08-26T06:46:13.930Z"
   },
   {
    "duration": 281,
    "start_time": "2022-08-26T06:46:13.994Z"
   },
   {
    "duration": 10,
    "start_time": "2022-08-26T06:46:14.277Z"
   },
   {
    "duration": 7,
    "start_time": "2022-08-26T06:46:14.288Z"
   },
   {
    "duration": 12,
    "start_time": "2022-08-26T06:46:14.297Z"
   },
   {
    "duration": 22,
    "start_time": "2022-08-26T06:46:14.311Z"
   },
   {
    "duration": 354,
    "start_time": "2022-08-26T06:46:14.335Z"
   },
   {
    "duration": 17,
    "start_time": "2022-08-26T06:46:14.691Z"
   },
   {
    "duration": 1596,
    "start_time": "2022-08-26T06:46:14.709Z"
   },
   {
    "duration": 0,
    "start_time": "2022-08-26T06:46:16.308Z"
   },
   {
    "duration": 0,
    "start_time": "2022-08-26T06:46:16.310Z"
   },
   {
    "duration": 0,
    "start_time": "2022-08-26T06:46:16.311Z"
   },
   {
    "duration": 0,
    "start_time": "2022-08-26T06:46:16.312Z"
   },
   {
    "duration": 0,
    "start_time": "2022-08-26T06:46:16.313Z"
   },
   {
    "duration": 0,
    "start_time": "2022-08-26T06:46:16.315Z"
   },
   {
    "duration": 0,
    "start_time": "2022-08-26T06:46:16.316Z"
   },
   {
    "duration": 0,
    "start_time": "2022-08-26T06:46:16.318Z"
   },
   {
    "duration": 0,
    "start_time": "2022-08-26T06:46:16.319Z"
   },
   {
    "duration": 0,
    "start_time": "2022-08-26T06:46:16.321Z"
   },
   {
    "duration": 0,
    "start_time": "2022-08-26T06:46:16.322Z"
   },
   {
    "duration": 34,
    "start_time": "2022-08-26T06:46:31.838Z"
   },
   {
    "duration": 3502,
    "start_time": "2022-08-26T06:46:34.175Z"
   },
   {
    "duration": 19,
    "start_time": "2022-08-26T06:47:10.226Z"
   },
   {
    "duration": 167,
    "start_time": "2022-08-26T06:47:12.282Z"
   },
   {
    "duration": 1242,
    "start_time": "2022-08-26T06:50:33.985Z"
   },
   {
    "duration": 482,
    "start_time": "2022-08-26T06:50:35.229Z"
   },
   {
    "duration": 14,
    "start_time": "2022-08-26T06:50:35.713Z"
   },
   {
    "duration": 39,
    "start_time": "2022-08-26T06:50:35.729Z"
   },
   {
    "duration": 25,
    "start_time": "2022-08-26T06:50:35.770Z"
   },
   {
    "duration": 12,
    "start_time": "2022-08-26T06:50:35.797Z"
   },
   {
    "duration": 21,
    "start_time": "2022-08-26T06:50:35.811Z"
   },
   {
    "duration": 91,
    "start_time": "2022-08-26T06:50:35.834Z"
   },
   {
    "duration": 9,
    "start_time": "2022-08-26T06:50:35.926Z"
   },
   {
    "duration": 44,
    "start_time": "2022-08-26T06:50:35.938Z"
   },
   {
    "duration": 12,
    "start_time": "2022-08-26T06:50:35.984Z"
   },
   {
    "duration": 20,
    "start_time": "2022-08-26T06:50:35.997Z"
   },
   {
    "duration": 17,
    "start_time": "2022-08-26T06:50:36.018Z"
   },
   {
    "duration": 38,
    "start_time": "2022-08-26T06:50:36.037Z"
   },
   {
    "duration": 217,
    "start_time": "2022-08-26T06:50:36.077Z"
   },
   {
    "duration": 145,
    "start_time": "2022-08-26T06:50:36.296Z"
   },
   {
    "duration": 9,
    "start_time": "2022-08-26T06:50:36.442Z"
   },
   {
    "duration": 96,
    "start_time": "2022-08-26T06:50:36.453Z"
   },
   {
    "duration": 235,
    "start_time": "2022-08-26T06:50:36.551Z"
   },
   {
    "duration": 11,
    "start_time": "2022-08-26T06:50:36.788Z"
   },
   {
    "duration": 7,
    "start_time": "2022-08-26T06:50:36.801Z"
   },
   {
    "duration": 13,
    "start_time": "2022-08-26T06:50:36.809Z"
   },
   {
    "duration": 22,
    "start_time": "2022-08-26T06:50:36.824Z"
   },
   {
    "duration": 377,
    "start_time": "2022-08-26T06:50:36.867Z"
   },
   {
    "duration": 25,
    "start_time": "2022-08-26T06:50:37.246Z"
   },
   {
    "duration": 186,
    "start_time": "2022-08-26T06:50:37.273Z"
   },
   {
    "duration": 17,
    "start_time": "2022-08-26T06:50:37.461Z"
   },
   {
    "duration": 230,
    "start_time": "2022-08-26T06:50:37.481Z"
   },
   {
    "duration": 109,
    "start_time": "2022-08-26T06:50:37.713Z"
   },
   {
    "duration": 19,
    "start_time": "2022-08-26T06:50:37.824Z"
   },
   {
    "duration": 26,
    "start_time": "2022-08-26T06:50:37.845Z"
   },
   {
    "duration": 243,
    "start_time": "2022-08-26T06:50:37.872Z"
   },
   {
    "duration": 1204,
    "start_time": "2022-08-26T06:50:38.116Z"
   },
   {
    "duration": 14,
    "start_time": "2022-08-26T06:50:39.322Z"
   },
   {
    "duration": 72,
    "start_time": "2022-08-26T06:50:39.339Z"
   },
   {
    "duration": 19,
    "start_time": "2022-08-26T06:50:39.413Z"
   },
   {
    "duration": 92,
    "start_time": "2022-08-26T06:50:39.434Z"
   },
   {
    "duration": 78,
    "start_time": "2022-08-26T06:50:59.554Z"
   },
   {
    "duration": 1198,
    "start_time": "2022-09-19T12:49:23.047Z"
   },
   {
    "duration": 373,
    "start_time": "2022-09-19T12:49:24.247Z"
   },
   {
    "duration": 18,
    "start_time": "2022-09-19T12:49:24.622Z"
   },
   {
    "duration": 78,
    "start_time": "2022-09-19T12:49:24.642Z"
   },
   {
    "duration": 23,
    "start_time": "2022-09-19T12:49:24.721Z"
   },
   {
    "duration": 66,
    "start_time": "2022-09-19T12:49:24.746Z"
   },
   {
    "duration": 23,
    "start_time": "2022-09-19T12:49:24.813Z"
   },
   {
    "duration": 196,
    "start_time": "2022-09-19T12:49:24.838Z"
   },
   {
    "duration": 10,
    "start_time": "2022-09-19T12:49:25.035Z"
   },
   {
    "duration": 91,
    "start_time": "2022-09-19T12:49:25.049Z"
   },
   {
    "duration": 10,
    "start_time": "2022-09-19T12:49:25.141Z"
   },
   {
    "duration": 72,
    "start_time": "2022-09-19T12:49:25.152Z"
   },
   {
    "duration": 20,
    "start_time": "2022-09-19T12:49:25.226Z"
   },
   {
    "duration": 66,
    "start_time": "2022-09-19T12:49:25.248Z"
   },
   {
    "duration": 417,
    "start_time": "2022-09-19T12:49:25.316Z"
   },
   {
    "duration": 280,
    "start_time": "2022-09-19T12:49:25.735Z"
   },
   {
    "duration": 7,
    "start_time": "2022-09-19T12:49:26.017Z"
   },
   {
    "duration": 109,
    "start_time": "2022-09-19T12:49:26.026Z"
   },
   {
    "duration": 248,
    "start_time": "2022-09-19T12:49:26.137Z"
   },
   {
    "duration": 10,
    "start_time": "2022-09-19T12:49:26.386Z"
   },
   {
    "duration": 12,
    "start_time": "2022-09-19T12:49:26.397Z"
   },
   {
    "duration": 8,
    "start_time": "2022-09-19T12:49:26.411Z"
   },
   {
    "duration": 18,
    "start_time": "2022-09-19T12:49:26.421Z"
   },
   {
    "duration": 337,
    "start_time": "2022-09-19T12:49:26.440Z"
   },
   {
    "duration": 16,
    "start_time": "2022-09-19T12:49:26.779Z"
   },
   {
    "duration": 170,
    "start_time": "2022-09-19T12:49:26.809Z"
   },
   {
    "duration": 11,
    "start_time": "2022-09-19T12:49:26.981Z"
   },
   {
    "duration": 184,
    "start_time": "2022-09-19T12:49:27.009Z"
   },
   {
    "duration": 76,
    "start_time": "2022-09-19T12:49:27.194Z"
   },
   {
    "duration": 12,
    "start_time": "2022-09-19T12:49:27.273Z"
   },
   {
    "duration": 28,
    "start_time": "2022-09-19T12:49:27.287Z"
   },
   {
    "duration": 233,
    "start_time": "2022-09-19T12:49:27.316Z"
   },
   {
    "duration": 1193,
    "start_time": "2022-09-19T12:49:27.551Z"
   },
   {
    "duration": 10,
    "start_time": "2022-09-19T12:49:28.746Z"
   },
   {
    "duration": 37,
    "start_time": "2022-09-19T12:49:28.757Z"
   },
   {
    "duration": 22,
    "start_time": "2022-09-19T12:49:28.796Z"
   },
   {
    "duration": 99,
    "start_time": "2022-09-19T12:49:28.819Z"
   },
   {
    "duration": 31,
    "start_time": "2022-09-19T12:49:58.916Z"
   },
   {
    "duration": 1258,
    "start_time": "2022-09-19T12:50:10.285Z"
   },
   {
    "duration": 372,
    "start_time": "2022-09-19T12:50:11.544Z"
   },
   {
    "duration": 21,
    "start_time": "2022-09-19T12:50:11.918Z"
   },
   {
    "duration": 36,
    "start_time": "2022-09-19T12:50:11.942Z"
   },
   {
    "duration": 56,
    "start_time": "2022-09-19T12:50:11.980Z"
   },
   {
    "duration": 9,
    "start_time": "2022-09-19T12:50:12.038Z"
   },
   {
    "duration": 21,
    "start_time": "2022-09-19T12:50:12.049Z"
   },
   {
    "duration": 80,
    "start_time": "2022-09-19T12:50:12.071Z"
   },
   {
    "duration": 11,
    "start_time": "2022-09-19T12:50:12.153Z"
   },
   {
    "duration": 49,
    "start_time": "2022-09-19T12:50:12.166Z"
   },
   {
    "duration": 11,
    "start_time": "2022-09-19T12:50:12.217Z"
   },
   {
    "duration": 24,
    "start_time": "2022-09-19T12:50:12.230Z"
   },
   {
    "duration": 19,
    "start_time": "2022-09-19T12:50:12.257Z"
   },
   {
    "duration": 40,
    "start_time": "2022-09-19T12:50:12.283Z"
   },
   {
    "duration": 229,
    "start_time": "2022-09-19T12:50:12.331Z"
   },
   {
    "duration": 247,
    "start_time": "2022-09-19T12:50:12.563Z"
   },
   {
    "duration": 10,
    "start_time": "2022-09-19T12:50:12.812Z"
   },
   {
    "duration": 190,
    "start_time": "2022-09-19T12:50:12.824Z"
   },
   {
    "duration": 403,
    "start_time": "2022-09-19T12:50:13.017Z"
   },
   {
    "duration": 12,
    "start_time": "2022-09-19T12:50:13.423Z"
   },
   {
    "duration": 6,
    "start_time": "2022-09-19T12:50:13.437Z"
   },
   {
    "duration": 66,
    "start_time": "2022-09-19T12:50:13.444Z"
   },
   {
    "duration": 28,
    "start_time": "2022-09-19T12:50:13.512Z"
   },
   {
    "duration": 1004,
    "start_time": "2022-09-19T12:50:13.542Z"
   },
   {
    "duration": 68,
    "start_time": "2022-09-19T12:50:14.548Z"
   },
   {
    "duration": 508,
    "start_time": "2022-09-19T12:50:14.618Z"
   },
   {
    "duration": 16,
    "start_time": "2022-09-19T12:50:15.129Z"
   },
   {
    "duration": 418,
    "start_time": "2022-09-19T12:50:15.150Z"
   },
   {
    "duration": 81,
    "start_time": "2022-09-19T12:50:15.569Z"
   },
   {
    "duration": 14,
    "start_time": "2022-09-19T12:50:15.651Z"
   },
   {
    "duration": 24,
    "start_time": "2022-09-19T12:50:15.667Z"
   },
   {
    "duration": 331,
    "start_time": "2022-09-19T12:50:15.693Z"
   },
   {
    "duration": 818,
    "start_time": "2022-09-19T12:50:16.026Z"
   },
   {
    "duration": 15,
    "start_time": "2022-09-19T12:50:16.846Z"
   },
   {
    "duration": 65,
    "start_time": "2022-09-19T12:50:16.862Z"
   },
   {
    "duration": 12,
    "start_time": "2022-09-19T12:50:16.929Z"
   },
   {
    "duration": 91,
    "start_time": "2022-09-19T12:50:16.943Z"
   },
   {
    "duration": 1129,
    "start_time": "2022-09-19T12:53:09.638Z"
   },
   {
    "duration": 125,
    "start_time": "2022-09-19T12:53:10.769Z"
   },
   {
    "duration": 13,
    "start_time": "2022-09-19T12:53:10.895Z"
   },
   {
    "duration": 21,
    "start_time": "2022-09-19T12:53:10.909Z"
   },
   {
    "duration": 25,
    "start_time": "2022-09-19T12:53:10.933Z"
   },
   {
    "duration": 9,
    "start_time": "2022-09-19T12:53:10.959Z"
   },
   {
    "duration": 20,
    "start_time": "2022-09-19T12:53:10.970Z"
   },
   {
    "duration": 59,
    "start_time": "2022-09-19T12:53:11.009Z"
   },
   {
    "duration": 8,
    "start_time": "2022-09-19T12:53:11.070Z"
   },
   {
    "duration": 51,
    "start_time": "2022-09-19T12:53:11.079Z"
   },
   {
    "duration": 9,
    "start_time": "2022-09-19T12:53:11.132Z"
   },
   {
    "duration": 20,
    "start_time": "2022-09-19T12:53:11.142Z"
   },
   {
    "duration": 16,
    "start_time": "2022-09-19T12:53:11.164Z"
   },
   {
    "duration": 12,
    "start_time": "2022-09-19T12:53:11.208Z"
   },
   {
    "duration": 245,
    "start_time": "2022-09-19T12:53:11.222Z"
   },
   {
    "duration": 127,
    "start_time": "2022-09-19T12:53:11.469Z"
   },
   {
    "duration": 14,
    "start_time": "2022-09-19T12:53:11.597Z"
   },
   {
    "duration": 60,
    "start_time": "2022-09-19T12:53:11.613Z"
   },
   {
    "duration": 208,
    "start_time": "2022-09-19T12:53:11.674Z"
   },
   {
    "duration": 9,
    "start_time": "2022-09-19T12:53:11.884Z"
   },
   {
    "duration": 16,
    "start_time": "2022-09-19T12:53:11.894Z"
   },
   {
    "duration": 10,
    "start_time": "2022-09-19T12:53:11.912Z"
   },
   {
    "duration": 19,
    "start_time": "2022-09-19T12:53:11.924Z"
   },
   {
    "duration": 340,
    "start_time": "2022-09-19T12:53:11.944Z"
   },
   {
    "duration": 26,
    "start_time": "2022-09-19T12:53:12.286Z"
   },
   {
    "duration": 195,
    "start_time": "2022-09-19T12:53:12.314Z"
   },
   {
    "duration": 14,
    "start_time": "2022-09-19T12:53:12.511Z"
   },
   {
    "duration": 238,
    "start_time": "2022-09-19T12:53:12.527Z"
   },
   {
    "duration": 84,
    "start_time": "2022-09-19T12:53:12.766Z"
   },
   {
    "duration": 10,
    "start_time": "2022-09-19T12:53:12.852Z"
   },
   {
    "duration": 20,
    "start_time": "2022-09-19T12:53:12.864Z"
   },
   {
    "duration": 237,
    "start_time": "2022-09-19T12:53:12.885Z"
   },
   {
    "duration": 725,
    "start_time": "2022-09-19T12:53:13.124Z"
   },
   {
    "duration": 10,
    "start_time": "2022-09-19T12:53:13.851Z"
   },
   {
    "duration": 48,
    "start_time": "2022-09-19T12:53:13.862Z"
   },
   {
    "duration": 11,
    "start_time": "2022-09-19T12:53:13.912Z"
   },
   {
    "duration": 58,
    "start_time": "2022-09-19T12:53:13.924Z"
   }
  ],
  "kernelspec": {
   "display_name": "Python 3 (ipykernel)",
   "language": "python",
   "name": "python3"
  },
  "language_info": {
   "codemirror_mode": {
    "name": "ipython",
    "version": 3
   },
   "file_extension": ".py",
   "mimetype": "text/x-python",
   "name": "python",
   "nbconvert_exporter": "python",
   "pygments_lexer": "ipython3",
   "version": "3.9.5"
  },
  "toc": {
   "base_numbering": 1,
   "nav_menu": {},
   "number_sections": true,
   "sideBar": true,
   "skip_h1_title": true,
   "title_cell": "Table of Contents",
   "title_sidebar": "Contents",
   "toc_cell": false,
   "toc_position": {
    "height": "calc(100% - 180px)",
    "left": "10px",
    "top": "150px",
    "width": "301.188px"
   },
   "toc_section_display": true,
   "toc_window_display": true
  }
 },
 "nbformat": 4,
 "nbformat_minor": 2
}
